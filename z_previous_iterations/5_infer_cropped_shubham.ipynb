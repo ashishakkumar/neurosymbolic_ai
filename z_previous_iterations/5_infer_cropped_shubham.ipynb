{
 "cells": [
  {
   "cell_type": "code",
   "execution_count": 43,
   "metadata": {},
   "outputs": [],
   "source": [
    "import pandas as pd\n",
    "from sklearn.metrics import precision_score, recall_score, f1_score"
   ]
  },
  {
   "cell_type": "code",
   "execution_count": 44,
   "metadata": {},
   "outputs": [],
   "source": [
    "categories = {\n",
    "    \"00-10\": [\"00\", \"01\", \"02\", \"03\", \"04\", \"05\", \"06\", \"07\", \"08\", \"09\", \"10\"],\n",
    "    \"11-13\": [\"11\", \"12\", \"13\"],\n",
    "    \"14-20\": [\"14\", \"15\", \"16\", \"17\", \"18\", \"19\", \"20\"],\n",
    "    \"21-23\": [\"21\", \"22\", \"23\"],\n",
    "    \"24-27\": [\"24\", \"25\", \"26\", \"27\"],\n",
    "    \"28\": [\"28\"],\n",
    "    \"29-31\": [\"29\", \"30\", \"31\"],\n",
    "    \"32-35\": [\"32\", \"33\", \"34\", \"35\"],\n",
    "    \"36-38\": [\"36\", \"37\", \"38\"],\n",
    "    \"39-45\": [\"39\", \"40\", \"41\", \"42\", \"43\", \"44\", \"45\"],\n",
    "    \"46-51\": [\"46\", \"47\", \"48\", \"49\", \"50\", \"51\"],\n",
    "    \"52-57\": [\"52\", \"53\", \"54\", \"55\", \"56\", \"57\"],\n",
    "    \"58-62\": [\"58\", \"59\", \"60\", \"61\", \"62\"],\n",
    "    \"63-66\": [\"63\", \"64\", \"65\", \"66\"],\n",
    "    \"67\": [\"67\"],\n",
    "    \"68-70\": [\"68\", \"69\", \"70\"],\n",
    "    \"71-73\": [\"71\", \"72\", \"73\"],\n",
    "    \"74-75\": [\"74\", \"75\"],\n",
    "    \"76-77\": [\"76\", \"77\"],\n",
    "    \"78\": [\"78\"],\n",
    "    \"79\": [\"79\"],\n",
    "    \"80-83\": [\"80\", \"81\", \"82\", \"83\"],\n",
    "    \"84-95\": [\"84\", \"85\", \"86\", \"87\", \"88\", \"89\", \"90\", \"91\", \"92\", \"93\", \"94\", \"95\"],\n",
    "    \"96-99\": [\"96\", \"97\", \"98\", \"99\"],\n",
    "    \"V01-V09\": [\"V01\", \"V02\", \"V03\", \"V04\", \"V05\", \"V06\", \"V07\", \"V08\", \"V09\"],\n",
    "    \"V10-V19\": [\"V10\", \"V11\", \"V12\", \"V13\", \"V14\", \"V15\", \"V16\", \"V17\", \"V18\", \"V19\"],\n",
    "    \"V20-V29\": [\"V20\", \"V21\", \"V22\", \"V23\", \"V24\", \"V25\", \"V26\", \"V27\", \"V28\", \"V29\"],\n",
    "    \"V30-V39\": [\"V30\", \"V31\", \"V32\", \"V33\", \"V34\", \"V35\", \"V36\", \"V37\", \"V38\", \"V39\"],\n",
    "    \"V40-V49\": [\"V40\", \"V41\", \"V42\", \"V43\", \"V44\", \"V45\", \"V46\", \"V47\", \"V48\", \"V49\"],\n",
    "    \"V50-V59\": [\"V50\", \"V51\", \"V52\", \"V53\", \"V54\", \"V55\", \"V56\", \"V57\", \"V58\", \"V59\"],\n",
    "    \"V60-V69\": [\"V60\", \"V61\", \"V62\", \"V63\", \"V64\", \"V65\", \"V66\", \"V67\", \"V68\", \"V69\"],\n",
    "    \"V70-V82\": [\"V70\", \"V71\", \"V72\", \"V73\", \"V74\", \"V75\", \"V76\", \"V77\", \"V78\", \"V79\", \"V80\", \"V81\", \"V82\"],\n",
    "    \"V83-V84\": [\"V83\", \"V84\"],\n",
    "    \"V85-V85\": [\"V85\"],\n",
    "    \"V86-V86\": [\"V86\"],\n",
    "    \"V87-V87\": [\"V87\"],\n",
    "    \"V88-V88\": [\"V88\"],\n",
    "    \"V89-V89\": [\"V89\"],\n",
    "    \"V90-V90\": [\"V90\"],\n",
    "    \"V91-V91\": [\"V91\"],\n",
    "    \"E00-E09\": [\"E00\", \"E01\", \"E02\", \"E03\", \"E04\", \"E05\", \"E06\", \"E07\", \"E08\", \"E09\"]\n",
    "}\n"
   ]
  },
  {
   "cell_type": "code",
   "execution_count": 45,
   "metadata": {},
   "outputs": [
    {
     "data": {
      "text/html": [
       "<div>\n",
       "<style scoped>\n",
       "    .dataframe tbody tr th:only-of-type {\n",
       "        vertical-align: middle;\n",
       "    }\n",
       "\n",
       "    .dataframe tbody tr th {\n",
       "        vertical-align: top;\n",
       "    }\n",
       "\n",
       "    .dataframe thead th {\n",
       "        text-align: right;\n",
       "    }\n",
       "</style>\n",
       "<table border=\"1\" class=\"dataframe\">\n",
       "  <thead>\n",
       "    <tr style=\"text-align: right;\">\n",
       "      <th></th>\n",
       "      <th>index</th>\n",
       "      <th>short_codes</th>\n",
       "      <th>Symptoms</th>\n",
       "    </tr>\n",
       "  </thead>\n",
       "  <tbody>\n",
       "    <tr>\n",
       "      <th>0</th>\n",
       "      <td>0</td>\n",
       "      <td>41401,9971,4111,42731,4019,2720</td>\n",
       "      <td>[exertional chest pain]</td>\n",
       "    </tr>\n",
       "    <tr>\n",
       "      <th>1</th>\n",
       "      <td>1</td>\n",
       "      <td>80508,5070,99739,5180,2939,2513,E8130,8820,401...</td>\n",
       "      <td>[neck pain]</td>\n",
       "    </tr>\n",
       "    <tr>\n",
       "      <th>2</th>\n",
       "      <td>2</td>\n",
       "      <td>1541,99811,V6441,45829,25000,2724,4019,41400,V...</td>\n",
       "      <td>[rectal cancer]</td>\n",
       "    </tr>\n",
       "    <tr>\n",
       "      <th>3</th>\n",
       "      <td>3</td>\n",
       "      <td>44101,42833,4233,5601,5990,4241,7885,2875,3272...</td>\n",
       "      <td>[chest pain radiating to back]</td>\n",
       "    </tr>\n",
       "    <tr>\n",
       "      <th>4</th>\n",
       "      <td>4</td>\n",
       "      <td>41401,4139,4019,2724,45829,V4582,V1582</td>\n",
       "      <td>[chest pain]</td>\n",
       "    </tr>\n",
       "  </tbody>\n",
       "</table>\n",
       "</div>"
      ],
      "text/plain": [
       "   index                                        short_codes  \\\n",
       "0      0                    41401,9971,4111,42731,4019,2720   \n",
       "1      1  80508,5070,99739,5180,2939,2513,E8130,8820,401...   \n",
       "2      2  1541,99811,V6441,45829,25000,2724,4019,41400,V...   \n",
       "3      3  44101,42833,4233,5601,5990,4241,7885,2875,3272...   \n",
       "4      4             41401,4139,4019,2724,45829,V4582,V1582   \n",
       "\n",
       "                         Symptoms  \n",
       "0         [exertional chest pain]  \n",
       "1                     [neck pain]  \n",
       "2                 [rectal cancer]  \n",
       "3  [chest pain radiating to back]  \n",
       "4                    [chest pain]  "
      ]
     },
     "execution_count": 45,
     "metadata": {},
     "output_type": "execute_result"
    }
   ],
   "source": [
    "one_sym = pd.read_json('one.json').reset_index()\n",
    "one_sym.head()"
   ]
  },
  {
   "cell_type": "code",
   "execution_count": 46,
   "metadata": {},
   "outputs": [
    {
     "name": "stdout",
     "output_type": "stream",
     "text": [
      "<class 'pandas.core.frame.DataFrame'>\n",
      "RangeIndex: 100 entries, 0 to 99\n",
      "Data columns (total 3 columns):\n",
      " #   Column       Non-Null Count  Dtype \n",
      "---  ------       --------------  ----- \n",
      " 0   index        100 non-null    int64 \n",
      " 1   short_codes  100 non-null    object\n",
      " 2   Symptoms     100 non-null    object\n",
      "dtypes: int64(1), object(2)\n",
      "memory usage: 2.5+ KB\n"
     ]
    }
   ],
   "source": [
    "one_sym.info()"
   ]
  },
  {
   "cell_type": "code",
   "execution_count": 47,
   "metadata": {},
   "outputs": [
    {
     "data": {
      "text/html": [
       "<div>\n",
       "<style scoped>\n",
       "    .dataframe tbody tr th:only-of-type {\n",
       "        vertical-align: middle;\n",
       "    }\n",
       "\n",
       "    .dataframe tbody tr th {\n",
       "        vertical-align: top;\n",
       "    }\n",
       "\n",
       "    .dataframe thead th {\n",
       "        text-align: right;\n",
       "    }\n",
       "</style>\n",
       "<table border=\"1\" class=\"dataframe\">\n",
       "  <thead>\n",
       "    <tr style=\"text-align: right;\">\n",
       "      <th></th>\n",
       "      <th>id</th>\n",
       "      <th>Symptoms</th>\n",
       "      <th>Diseases</th>\n",
       "      <th>Category</th>\n",
       "    </tr>\n",
       "  </thead>\n",
       "  <tbody>\n",
       "    <tr>\n",
       "      <th>0</th>\n",
       "      <td>100019</td>\n",
       "      <td>['heart murmur since childhood', 'increase in ...</td>\n",
       "      <td>['Bicuspid aortic valve', 'Dilated aorta', 'Ao...</td>\n",
       "      <td>39-45,74-75,39-45,78</td>\n",
       "    </tr>\n",
       "    <tr>\n",
       "      <th>1</th>\n",
       "      <td>100091</td>\n",
       "      <td>['lethargy', 'bradycardia', 'fever']</td>\n",
       "      <td>['COPD', 'Atrial fibrillation', 'moderate deme...</td>\n",
       "      <td>39-45,39-45,58-62,24-27,58-62,39-45,46-51,29-3...</td>\n",
       "    </tr>\n",
       "    <tr>\n",
       "      <th>2</th>\n",
       "      <td>100325</td>\n",
       "      <td>['respiratory distress', 'unresponsive', 'hypo...</td>\n",
       "      <td>['T4AN2CM0 oropharyngeal squamous cell carcino...</td>\n",
       "      <td>46-51,46-51,00-10,96-99,58-62,00-10,71-73,29-3...</td>\n",
       "    </tr>\n",
       "    <tr>\n",
       "      <th>3</th>\n",
       "      <td>100357</td>\n",
       "      <td>['hypotension', 'diarrhea', 'diffuse abdominal...</td>\n",
       "      <td>['hip fracture', 'pneumonia', 'sepsis', 'C dif...</td>\n",
       "      <td>00-10,78,58-62,00-10,52-57,96-99,29-31,28,V40-...</td>\n",
       "    </tr>\n",
       "    <tr>\n",
       "      <th>4</th>\n",
       "      <td>101050</td>\n",
       "      <td>['Blurry vision', 'Lightheadedness', 'Unsteady...</td>\n",
       "      <td>['Hypertension', 'Dyslipidemia', 'Embolic stro...</td>\n",
       "      <td>21-23,39-45,96-99,39-45,78,V50-V59,V50-V59,39-...</td>\n",
       "    </tr>\n",
       "  </tbody>\n",
       "</table>\n",
       "</div>"
      ],
      "text/plain": [
       "       id                                           Symptoms  \\\n",
       "0  100019  ['heart murmur since childhood', 'increase in ...   \n",
       "1  100091               ['lethargy', 'bradycardia', 'fever']   \n",
       "2  100325  ['respiratory distress', 'unresponsive', 'hypo...   \n",
       "3  100357  ['hypotension', 'diarrhea', 'diffuse abdominal...   \n",
       "4  101050  ['Blurry vision', 'Lightheadedness', 'Unsteady...   \n",
       "\n",
       "                                            Diseases  \\\n",
       "0  ['Bicuspid aortic valve', 'Dilated aorta', 'Ao...   \n",
       "1  ['COPD', 'Atrial fibrillation', 'moderate deme...   \n",
       "2  ['T4AN2CM0 oropharyngeal squamous cell carcino...   \n",
       "3  ['hip fracture', 'pneumonia', 'sepsis', 'C dif...   \n",
       "4  ['Hypertension', 'Dyslipidemia', 'Embolic stro...   \n",
       "\n",
       "                                            Category  \n",
       "0                               39-45,74-75,39-45,78  \n",
       "1  39-45,39-45,58-62,24-27,58-62,39-45,46-51,29-3...  \n",
       "2  46-51,46-51,00-10,96-99,58-62,00-10,71-73,29-3...  \n",
       "3  00-10,78,58-62,00-10,52-57,96-99,29-31,28,V40-...  \n",
       "4  21-23,39-45,96-99,39-45,78,V50-V59,V50-V59,39-...  "
      ]
     },
     "execution_count": 47,
     "metadata": {},
     "output_type": "execute_result"
    }
   ],
   "source": [
    "redef_three_sym = pd.read_csv('three_sym.csv')\n",
    "redef_three_sym.head()"
   ]
  },
  {
   "cell_type": "code",
   "execution_count": 48,
   "metadata": {},
   "outputs": [],
   "source": [
    "two_sym = pd.read_json('two.json').reset_index()\n",
    "three_sym = pd.read_json('three.json').reset_index()\n",
    "gt3_sym = pd.read_json('gt3.json').reset_index()"
   ]
  },
  {
   "cell_type": "code",
   "execution_count": 49,
   "metadata": {},
   "outputs": [
    {
     "name": "stdout",
     "output_type": "stream",
     "text": [
      "<class 'pandas.core.frame.DataFrame'>\n",
      "RangeIndex: 100 entries, 0 to 99\n",
      "Data columns (total 3 columns):\n",
      " #   Column       Non-Null Count  Dtype \n",
      "---  ------       --------------  ----- \n",
      " 0   index        100 non-null    int64 \n",
      " 1   short_codes  100 non-null    object\n",
      " 2   Symptoms     100 non-null    object\n",
      "dtypes: int64(1), object(2)\n",
      "memory usage: 2.5+ KB\n"
     ]
    }
   ],
   "source": [
    "gt3_sym.info()"
   ]
  },
  {
   "cell_type": "code",
   "execution_count": 50,
   "metadata": {},
   "outputs": [],
   "source": [
    "def merge_category(df):\n",
    "\n",
    "    df = df.drop('short_codes', axis=1)\n",
    "\n",
    "    df = df.groupby('index').agg({\n",
    "        'Category': lambda x: ','.join(map(str, x)),\n",
    "        'Symptoms': 'first'\n",
    "    }).reset_index()\n",
    "    \n",
    "    return df"
   ]
  },
  {
   "cell_type": "code",
   "execution_count": 51,
   "metadata": {},
   "outputs": [],
   "source": [
    "def category_addition(df, categories = categories) : \n",
    "    icd9_to_category = {code: category for category, codes in categories.items() for code in codes}\n",
    "    df['short_codes'] = df['short_codes'].astype(str).str.zfill(2)\n",
    "    df['Category'] = df['short_codes'].map(icd9_to_category)\n",
    "    return df"
   ]
  },
  {
   "cell_type": "code",
   "execution_count": 52,
   "metadata": {},
   "outputs": [],
   "source": [
    "def preprocessing(test_df) : \n",
    "    test_df.loc[\n",
    "        test_df['short_codes'].str.startswith(\"V\"), 'short_codes'] = test_df.short_codes.apply(\n",
    "        lambda x: x[:3])\n",
    "    test_df.loc[\n",
    "        test_df['short_codes'].str.startswith(\"E\"), 'short_codes'] = test_df.short_codes.apply(\n",
    "        lambda x: x[:3])\n",
    "    test_df.loc[(~test_df.short_codes.str.startswith(\"E\")) & (\n",
    "        ~test_df.short_codes.str.startswith(\"V\")), 'short_codes'] = test_df.short_codes.apply(\n",
    "        lambda x: x[:2])\n",
    "    return test_df"
   ]
  },
  {
   "cell_type": "code",
   "execution_count": 53,
   "metadata": {},
   "outputs": [],
   "source": [
    "def xplode(df) : \n",
    "    df = df.assign(short =df['short_codes'].str.split(',')).explode('short').reset_index(drop = True)\n",
    "    df = df.drop('short_codes' ,axis =1)\n",
    "    df.columns = ['index','Symptoms', 'short_codes']\n",
    "    return df\n",
    "\n",
    "one_sym = merge_category(category_addition(preprocessing(xplode(one_sym))))"
   ]
  },
  {
   "cell_type": "code",
   "execution_count": 54,
   "metadata": {},
   "outputs": [
    {
     "data": {
      "text/html": [
       "<div>\n",
       "<style scoped>\n",
       "    .dataframe tbody tr th:only-of-type {\n",
       "        vertical-align: middle;\n",
       "    }\n",
       "\n",
       "    .dataframe tbody tr th {\n",
       "        vertical-align: top;\n",
       "    }\n",
       "\n",
       "    .dataframe thead th {\n",
       "        text-align: right;\n",
       "    }\n",
       "</style>\n",
       "<table border=\"1\" class=\"dataframe\">\n",
       "  <thead>\n",
       "    <tr style=\"text-align: right;\">\n",
       "      <th></th>\n",
       "      <th>index</th>\n",
       "      <th>Category</th>\n",
       "      <th>Symptoms</th>\n",
       "    </tr>\n",
       "  </thead>\n",
       "  <tbody>\n",
       "    <tr>\n",
       "      <th>0</th>\n",
       "      <td>0</td>\n",
       "      <td>39-45,96-99,39-45,39-45,39-45,24-27</td>\n",
       "      <td>[exertional chest pain]</td>\n",
       "    </tr>\n",
       "    <tr>\n",
       "      <th>1</th>\n",
       "      <td>1</td>\n",
       "      <td>80-83,46-51,96-99,46-51,29-31,24-27,nan,84-95,...</td>\n",
       "      <td>[neck pain]</td>\n",
       "    </tr>\n",
       "    <tr>\n",
       "      <th>2</th>\n",
       "      <td>2</td>\n",
       "      <td>14-20,96-99,V60-V69,39-45,24-27,24-27,39-45,39...</td>\n",
       "      <td>[rectal cancer]</td>\n",
       "    </tr>\n",
       "    <tr>\n",
       "      <th>3</th>\n",
       "      <td>3</td>\n",
       "      <td>39-45,39-45,39-45,52-57,58-62,39-45,78,28,32-3...</td>\n",
       "      <td>[chest pain radiating to back]</td>\n",
       "    </tr>\n",
       "    <tr>\n",
       "      <th>4</th>\n",
       "      <td>4</td>\n",
       "      <td>39-45,39-45,39-45,24-27,39-45,V40-V49,V10-V19</td>\n",
       "      <td>[chest pain]</td>\n",
       "    </tr>\n",
       "    <tr>\n",
       "      <th>...</th>\n",
       "      <td>...</td>\n",
       "      <td>...</td>\n",
       "      <td>...</td>\n",
       "    </tr>\n",
       "    <tr>\n",
       "      <th>95</th>\n",
       "      <td>95</td>\n",
       "      <td>39-45,74-75,58-62,32-35,39-45,39-45</td>\n",
       "      <td>[mild dyspnea on exertion]</td>\n",
       "    </tr>\n",
       "    <tr>\n",
       "      <th>96</th>\n",
       "      <td>96</td>\n",
       "      <td>39-45,52-57,nan,28,24-27,24-27,V50-V59,36-38,5...</td>\n",
       "      <td>[loose bloody bowel movements]</td>\n",
       "    </tr>\n",
       "    <tr>\n",
       "      <th>97</th>\n",
       "      <td>97</td>\n",
       "      <td>39-45,58-62,46-51,39-45,24-27,39-45,V40-V49</td>\n",
       "      <td>[enlarging 5.6 cm aneurysm of the infrarenal a...</td>\n",
       "    </tr>\n",
       "    <tr>\n",
       "      <th>98</th>\n",
       "      <td>98</td>\n",
       "      <td>39-45,39-45,39-45,39-45,39-45,46-51,39-45,39-4...</td>\n",
       "      <td>[shortness of breath]</td>\n",
       "    </tr>\n",
       "    <tr>\n",
       "      <th>99</th>\n",
       "      <td>99</td>\n",
       "      <td>39-45,39-45,74-75,39-45,39-45,39-45,32-35,24-2...</td>\n",
       "      <td>[dyspnea]</td>\n",
       "    </tr>\n",
       "  </tbody>\n",
       "</table>\n",
       "<p>100 rows × 3 columns</p>\n",
       "</div>"
      ],
      "text/plain": [
       "    index                                           Category  \\\n",
       "0       0                39-45,96-99,39-45,39-45,39-45,24-27   \n",
       "1       1  80-83,46-51,96-99,46-51,29-31,24-27,nan,84-95,...   \n",
       "2       2  14-20,96-99,V60-V69,39-45,24-27,24-27,39-45,39...   \n",
       "3       3  39-45,39-45,39-45,52-57,58-62,39-45,78,28,32-3...   \n",
       "4       4      39-45,39-45,39-45,24-27,39-45,V40-V49,V10-V19   \n",
       "..    ...                                                ...   \n",
       "95     95                39-45,74-75,58-62,32-35,39-45,39-45   \n",
       "96     96  39-45,52-57,nan,28,24-27,24-27,V50-V59,36-38,5...   \n",
       "97     97        39-45,58-62,46-51,39-45,24-27,39-45,V40-V49   \n",
       "98     98  39-45,39-45,39-45,39-45,39-45,46-51,39-45,39-4...   \n",
       "99     99  39-45,39-45,74-75,39-45,39-45,39-45,32-35,24-2...   \n",
       "\n",
       "                                             Symptoms  \n",
       "0                             [exertional chest pain]  \n",
       "1                                         [neck pain]  \n",
       "2                                     [rectal cancer]  \n",
       "3                      [chest pain radiating to back]  \n",
       "4                                        [chest pain]  \n",
       "..                                                ...  \n",
       "95                         [mild dyspnea on exertion]  \n",
       "96                     [loose bloody bowel movements]  \n",
       "97  [enlarging 5.6 cm aneurysm of the infrarenal a...  \n",
       "98                              [shortness of breath]  \n",
       "99                                          [dyspnea]  \n",
       "\n",
       "[100 rows x 3 columns]"
      ]
     },
     "execution_count": 54,
     "metadata": {},
     "output_type": "execute_result"
    }
   ],
   "source": [
    "one_sym "
   ]
  },
  {
   "cell_type": "code",
   "execution_count": 55,
   "metadata": {},
   "outputs": [],
   "source": [
    "two_sym = merge_category(category_addition(preprocessing(xplode(two_sym))))\n",
    "\n",
    "three_sym = merge_category(category_addition(preprocessing(xplode(three_sym))))\n",
    "\n",
    "gt3_sym = merge_category(category_addition(preprocessing(xplode(gt3_sym))))"
   ]
  },
  {
   "cell_type": "code",
   "execution_count": 56,
   "metadata": {},
   "outputs": [
    {
     "data": {
      "text/html": [
       "<div>\n",
       "<style scoped>\n",
       "    .dataframe tbody tr th:only-of-type {\n",
       "        vertical-align: middle;\n",
       "    }\n",
       "\n",
       "    .dataframe tbody tr th {\n",
       "        vertical-align: top;\n",
       "    }\n",
       "\n",
       "    .dataframe thead th {\n",
       "        text-align: right;\n",
       "    }\n",
       "</style>\n",
       "<table border=\"1\" class=\"dataframe\">\n",
       "  <thead>\n",
       "    <tr style=\"text-align: right;\">\n",
       "      <th></th>\n",
       "      <th>index</th>\n",
       "      <th>Category</th>\n",
       "      <th>Symptoms</th>\n",
       "    </tr>\n",
       "  </thead>\n",
       "  <tbody>\n",
       "    <tr>\n",
       "      <th>0</th>\n",
       "      <td>0</td>\n",
       "      <td>84-95,46-51,46-51,39-45,00-10,96-99,80-83,80-8...</td>\n",
       "      <td>[chest pain, back pain, decreased breath sound...</td>\n",
       "    </tr>\n",
       "    <tr>\n",
       "      <th>1</th>\n",
       "      <td>1</td>\n",
       "      <td>46-51,29-31,24-27,29-31,24-27,V60-V69</td>\n",
       "      <td>[lethargic, unable to answer questions, normal...</td>\n",
       "    </tr>\n",
       "    <tr>\n",
       "      <th>2</th>\n",
       "      <td>2</td>\n",
       "      <td>39-45,39-45,46-51,39-45,00-10,78,78,39-45</td>\n",
       "      <td>[slurred speech, inability to move left arm an...</td>\n",
       "    </tr>\n",
       "    <tr>\n",
       "      <th>3</th>\n",
       "      <td>3</td>\n",
       "      <td>46-51,39-45,46-51,46-51,46-51,58-62,24-27,24-2...</td>\n",
       "      <td>[hypercarbic respiratory failure, coughing, in...</td>\n",
       "    </tr>\n",
       "    <tr>\n",
       "      <th>4</th>\n",
       "      <td>4</td>\n",
       "      <td>39-45,39-45,24-27,39-45,58-62,V40-V49,V10-V19</td>\n",
       "      <td>[unequal pulses in upper extremities, minimall...</td>\n",
       "    </tr>\n",
       "  </tbody>\n",
       "</table>\n",
       "</div>"
      ],
      "text/plain": [
       "   index                                           Category  \\\n",
       "0      0  84-95,46-51,46-51,39-45,00-10,96-99,80-83,80-8...   \n",
       "1      1              46-51,29-31,24-27,29-31,24-27,V60-V69   \n",
       "2      2          39-45,39-45,46-51,39-45,00-10,78,78,39-45   \n",
       "3      3  46-51,39-45,46-51,46-51,46-51,58-62,24-27,24-2...   \n",
       "4      4      39-45,39-45,24-27,39-45,58-62,V40-V49,V10-V19   \n",
       "\n",
       "                                            Symptoms  \n",
       "0  [chest pain, back pain, decreased breath sound...  \n",
       "1  [lethargic, unable to answer questions, normal...  \n",
       "2  [slurred speech, inability to move left arm an...  \n",
       "3  [hypercarbic respiratory failure, coughing, in...  \n",
       "4  [unequal pulses in upper extremities, minimall...  "
      ]
     },
     "execution_count": 56,
     "metadata": {},
     "output_type": "execute_result"
    }
   ],
   "source": [
    "gt3_sym.head()"
   ]
  },
  {
   "cell_type": "code",
   "execution_count": 57,
   "metadata": {},
   "outputs": [],
   "source": [
    "import os\n",
    "from py2neo import Graph\n",
    "from mistralai.client import MistralClient\n",
    "from mistralai.models.chat_completion import ChatMessage\n",
    "from neo4j import GraphDatabase\n",
    "from dotenv import load_dotenv\n",
    "import json\n",
    "import numpy as np\n",
    "from sklearn.metrics import precision_score, recall_score, f1_score, roc_auc_score\n",
    "\n",
    "\n",
    "uri = \"neo4j://localhost:7687\" \n",
    "auth = (\"neo4j\", \"neo4j_pass5\")\n",
    "\n",
    "driver_1= GraphDatabase.driver(uri, auth=auth) \n",
    "driver_1.verify_connectivity()\n",
    "\n",
    "\n"
   ]
  },
  {
   "cell_type": "code",
   "execution_count": 58,
   "metadata": {},
   "outputs": [],
   "source": [
    "def get_prioritized_relationships(symptom_names, weightage=5, limit=20):\n",
    "    with driver_1.session() as session:\n",
    "        result = session.run(f\"\"\"\n",
    "            MATCH (s:Symptom)-[r:ASSOCIATED_WITH]->(d:Disease)\n",
    "            WHERE s.name IN $symptoms AND r.weight >= {weightage}\n",
    "            WITH d.title AS disease_name, collect(s.name) AS symptoms, max(r.weight) AS max_weight\n",
    "            RETURN disease_name, symptoms, max_weight\n",
    "            ORDER BY max_weight DESC\n",
    "            LIMIT {limit}\n",
    "        \"\"\", symptoms=symptom_names)\n",
    "\n",
    "        codes = []\n",
    "        all_info = {}\n",
    "        for record in result:\n",
    "            codes.append(record['disease_name'])\n",
    "            all_info[record['disease_name']] = [record['disease_name'], record['max_weight']]\n",
    "\n",
    "            \n",
    "        return codes, all_info\n",
    "    \n",
    "\n",
    "def create_binary_matrix(labels, classes):\n",
    "    binary_matrix = np.zeros((len(labels), len(classes)), dtype=int)\n",
    "    for i, label_list in enumerate(labels):\n",
    "        for label in label_list:\n",
    "            if label in classes:\n",
    "                idx = classes.index(label)\n",
    "                binary_matrix[i, idx] = 1       \n",
    "    return binary_matrix\n",
    "    \n",
    "    \n",
    "def roc_auc(probs, labels, multilabel=False, average='macro', multi_class='ovo'):\n",
    "    if isinstance(labels, list):\n",
    "        labels = np.array(labels, dtype=int)\n",
    "    else:\n",
    "        labels = labels.astype(int)\n",
    "    y_score = probs\n",
    "    if multilabel:\n",
    "        dim_size = len(labels[0])\n",
    "        mask = np.ones((dim_size), dtype=bool)\n",
    "        for c in range(dim_size):\n",
    "            if max(labels[:, c]) == 0:\n",
    "                mask[c] = False\n",
    "        labels = labels[:, mask]\n",
    "        y_score = np.array(probs)[:, mask]\n",
    "\n",
    "        filtered_cols = np.count_nonzero(mask == False)\n",
    "        # print(f\"{filtered_cols} columns not considered for ROC AUC calculation!\")\n",
    "\n",
    "    return roc_auc_score(y_true=labels, y_score=y_score, average=average, multi_class=multi_class)\n"
   ]
  },
  {
   "cell_type": "code",
   "execution_count": 59,
   "metadata": {},
   "outputs": [
    {
     "name": "stdout",
     "output_type": "stream",
     "text": [
      "['HEADACHE', 'Headache', 'headache', 'Severe headache during headache episodes', 'Massive headache', 'Headache (migraine)', 'Dull headache', 'whole headache', 'worst headache', 'waxing headache', 'worse headache', 'vasospasm headache', 'Light headache', 'Migraine headache', 'headache-frontal', 'Mild Headache', 'holocranial headache', 'Mild headache', 'increased headache', 'worsening headache', 'Extensive fractures', 'Extensive injuries', 'Extensive bruising', 'Extensive supratentorial edema', 'Extensive cardiac history', 'Extensive pulmonary contusions', 'Extensive rib fractures', 'Extensive brain injury', 'Extensive superficial lacerations', 'Extensive blood loss', 'Extensive bilateral PEs', 'Extensive intraparenchymal hemorrhage', 'Extensive facial lacerations', 'Extensive smoking history', 'Extensive front end damage', 'Extensive left-sided injuries', 'Extensive vertebral compression fractures', 'Extensive soft tissue damage', 'extensive bleed during bronchoscopy', 'extensive necrotic L thigh wound', 'Nausea', 'nausea', 'NAUSEA', 'Denies nausea', 'bilious nausea', 'Intermittent nausea', 'transient nausea', 'postprandial nausea', 'positive nausea', 'associated nausea', 'denies nausea', 'persistent nausea', 'chronic nausea', 'Intractable nausea', 'constant nausea', 'Worsening nausea', 'increasing nausea', 'intermittent nausea', 'Denying nausea', 'Abdominal nausea']\n"
     ]
    }
   ],
   "source": [
    "def escape_special_chars(query):\n",
    "    return query.replace(\"'\", \"\\\\'\").replace(\"/\", \"\\\\/\")\n",
    "\n",
    "def search_symptoms(query_strings, expansion_limit =20):\n",
    "    all_symptoms = []\n",
    "    for query_string in query_strings:\n",
    "        escaped_query = escape_special_chars(query_string)  # Escape the query string\n",
    "        with driver_1.session() as session:\n",
    "            result = session.run(\n",
    "                f\"CALL db.index.fulltext.queryNodes('symptomIndex', '{escaped_query}') \"\n",
    "                \"YIELD node, score \"\n",
    "                \"RETURN node.name AS symptom, score \"\n",
    "                \"ORDER BY score DESC \"\n",
    "                f\"LIMIT {expansion_limit}\"\n",
    "            )\n",
    "            symptoms = [record['symptom'] for record in result]\n",
    "            all_symptoms.extend(symptoms)\n",
    "    return all_symptoms\n",
    "\n",
    "# Example usage\n",
    "search_queries = ['headache', \"extensive microcalcification's\", 'nausea']\n",
    "search_results = search_symptoms(search_queries)\n",
    "print(search_results)"
   ]
  },
  {
   "cell_type": "code",
   "execution_count": 60,
   "metadata": {},
   "outputs": [],
   "source": [
    "classes = classes = ['32-35','79','96-99','52-57','74-75','V20-V29','V60-V69','76-77','21-23','V50-V59','36-38','28','00-10','V01-V09','V40-V49','46-51','80-83','E00-E09','V30-V39','11-13','58-62','24-27','V85-V85','V87-V87','68-70','39-45','78','V83-V84','63-66','14-20','67','V88-V88','V10-V19','V70-V82','84-95','29-31','V90-V90','71-73']"
   ]
  },
  {
   "cell_type": "code",
   "execution_count": 61,
   "metadata": {},
   "outputs": [
    {
     "name": "stderr",
     "output_type": "stream",
     "text": [
      "0it [00:00, ?it/s]"
     ]
    },
    {
     "name": "stderr",
     "output_type": "stream",
     "text": [
      "100it [00:06, 15.15it/s]"
     ]
    },
    {
     "name": "stdout",
     "output_type": "stream",
     "text": [
      "AUROC Score: 0.5386322640188874\n"
     ]
    },
    {
     "name": "stderr",
     "output_type": "stream",
     "text": [
      "\n"
     ]
    }
   ],
   "source": [
    "from tqdm import tqdm\n",
    "\n",
    "true_labels = []\n",
    "predicted_labels = []\n",
    "\n",
    "for i,j in tqdm(one_sym.iterrows()): \n",
    "                true_label = j.Category.split(',')\n",
    "                true_labels.append(list(set(true_label)))\n",
    "                expanded_query =  search_symptoms(list(j.Symptoms))\n",
    "                pred_labels = get_prioritized_relationships(expanded_query,weightage=1,limit= 10)[0]\n",
    "                predicted_labels.append(pred_labels)\n",
    "    \n",
    "true_binary_matrix = create_binary_matrix(true_labels, classes)\n",
    "predicted_binary_matrix = create_binary_matrix(predicted_labels, classes)\n",
    "\n",
    "auroc_score = roc_auc(predicted_binary_matrix, true_binary_matrix, multilabel=True)\n",
    "print(f\"AUROC Score: {auroc_score}\")\n",
    "               \n",
    "        "
   ]
  },
  {
   "cell_type": "code",
   "execution_count": 62,
   "metadata": {},
   "outputs": [
    {
     "name": "stderr",
     "output_type": "stream",
     "text": [
      "Weightage: 100%|██████████| 1/1 [00:06<00:00,  6.15s/it]\n",
      "Weightage: 100%|██████████| 1/1 [00:05<00:00,  5.79s/it]\n",
      "Weightage: 100%|██████████| 1/1 [00:06<00:00,  6.24s/it]\n",
      "Weightage: 100%|██████████| 1/1 [00:04<00:00,  4.78s/it]\n",
      "Weightage: 100%|██████████| 1/1 [00:04<00:00,  4.92s/it]\n",
      "Weightage: 100%|██████████| 1/1 [00:04<00:00,  4.99s/it]\n",
      "Weightage: 100%|██████████| 1/1 [00:03<00:00,  3.29s/it]\n",
      "                                                    "
     ]
    },
    {
     "name": "stdout",
     "output_type": "stream",
     "text": [
      "Best Weightage: 1\n",
      "Best Limit: 5\n",
      "Best Precision Score: 0.4730290456431535\n"
     ]
    },
    {
     "name": "stderr",
     "output_type": "stream",
     "text": [
      "\r"
     ]
    }
   ],
   "source": [
    "# weightage_range = [2,3,5,7,10,15,20] \n",
    "# limit_range = [4,5,6,7,8,9,10,12,15,20,25,30]\n",
    "weightage_range = [1]\n",
    "limit_range = [5,10,15,20,25,30,35]\n",
    "\n",
    "best_weightage = None\n",
    "best_limit = None\n",
    "best_precision_score = -np.inf\n",
    "\n",
    "for limit in tqdm(limit_range, desc='Limit', leave=False):\n",
    "    for weightage in tqdm(weightage_range, desc='Weightage'):\n",
    "    \n",
    "        \n",
    "        true_labels = []\n",
    "        predicted_labels = []\n",
    "        \n",
    "        for i, j in one_sym.iterrows(): \n",
    "           if len(j.Symptoms) ==1 : \n",
    "                true_label = j.Category.split(',')\n",
    "                true_labels.append(true_label)\n",
    "                expanded_query =  search_symptoms(list(j.Symptoms))\n",
    "                pred_labels = get_prioritized_relationships(expanded_query, weightage=weightage, limit=limit)[0]\n",
    "                predicted_labels.append(pred_labels)\n",
    "\n",
    "        \n",
    "        true_binary_matrix = create_binary_matrix(true_labels, classes)\n",
    "        predicted_binary_matrix = create_binary_matrix(predicted_labels, classes)\n",
    "        \n",
    "        precision = f1_score(true_binary_matrix, predicted_binary_matrix, average='micro')\n",
    "        \n",
    "   \n",
    "        if precision > best_precision_score:\n",
    "            best_precision_score = precision\n",
    "            best_weightage = weightage\n",
    "            best_limit = limit\n",
    "\n",
    "print(f\"Best Weightage: {best_weightage}\")\n",
    "print(f\"Best Limit: {best_limit}\")\n",
    "print(f\"Best Precision Score: {best_precision_score}\")\n"
   ]
  },
  {
   "cell_type": "code",
   "execution_count": 63,
   "metadata": {},
   "outputs": [],
   "source": [
    "uri = \"neo4j://localhost:8687\" \n",
    "auth = (\"neo4j\", \"neo4j_pass7\")\n",
    "\n",
    "driver = GraphDatabase.driver(uri, auth=auth) \n",
    "driver.verify_connectivity()\n",
    "\n"
   ]
  },
  {
   "cell_type": "code",
   "execution_count": 64,
   "metadata": {},
   "outputs": [],
   "source": [
    "def get_prioritized_relationships_pubmed(symptom_names, weightage=1, limit=40):\n",
    "    with driver.session() as session:\n",
    "        result = session.run(f\"\"\"\n",
    "            MATCH (s:Symptom)-[r:ASSOCIATED_WITH]->(d:Disease)\n",
    "            WHERE s.name IN $symptoms AND r.pos_weight >= $weightage\n",
    "            RETURN s.name AS symptom, d.disease_code AS disease_name, r.pos_weight AS weight, r.euclidean_distance AS distance\n",
    "            ORDER BY r.pos_weight DESC, r.euclidean_distance ASC\n",
    "            LIMIT $limit\n",
    "        \"\"\", symptoms=symptom_names, weightage=weightage, limit=limit)\n",
    "        \n",
    "        codes = []\n",
    "        all_info = {}\n",
    "\n",
    "        for record in result:\n",
    "            codes.append(record['disease_name'])\n",
    "            all_info[record['disease_name']] = [record['disease_name'], record['weight']]\n",
    "            \n",
    "        return codes, all_info\n"
   ]
  },
  {
   "cell_type": "code",
   "execution_count": 95,
   "metadata": {},
   "outputs": [
    {
     "name": "stderr",
     "output_type": "stream",
     "text": [
      "0it [00:00, ?it/s]"
     ]
    },
    {
     "name": "stderr",
     "output_type": "stream",
     "text": [
      "100it [00:11,  8.93it/s]"
     ]
    },
    {
     "name": "stdout",
     "output_type": "stream",
     "text": [
      "Number of rows : 100\n",
      "Macro Averaged AUROC Score: 0.5359723899606085\n",
      "Micro Averaged Precision: 0.581758422350041\n",
      "Micro Averaged Recall: 0.7531914893617021\n",
      "Micro Averaged F1-Score: 0.6564673157162726\n",
      "Macro Averaged Precision: 0.264646035021064\n",
      "Macro Averaged Recall: 0.356170468321895\n",
      "Macro Averaged F1-Score: 0.2895045635403303\n"
     ]
    },
    {
     "name": "stderr",
     "output_type": "stream",
     "text": [
      "\n"
     ]
    }
   ],
   "source": [
    "from tqdm import tqdm\n",
    "\n",
    "\n",
    "def only_kg(df,weight = 7, limit_kg = 8, limit_pub = 13,expansion_limit = 7 ) : \n",
    "\n",
    "        classes = ['32-35','79','96-99','52-57','74-75','V20-V29','V60-V69','76-77','21-23','V50-V59','36-38','28','00-10','V01-V09','V40-V49','46-51','80-83','E00-E09','V30-V39','11-13','58-62','24-27','V85-V85','V87-V87','68-70','39-45','78','V83-V84','63-66','14-20','67','V88-V88','V10-V19','V70-V82','84-95','29-31','V90-V90','71-73']\n",
    "        true_labels = []\n",
    "        predicted_labels = []\n",
    "\n",
    "        for i,j in tqdm(df.iterrows()): \n",
    "                    true_label = j.Category.split(',')\n",
    "                    true_labels.append(list(set(true_label)))\n",
    "                    expanded_query =  search_symptoms(j.Symptoms[2:-2].split(\"', '\"), expansion_limit=expansion_limit)\n",
    "                    \n",
    "                    pred_labels_kg = get_prioritized_relationships(expanded_query,weightage=weight,limit= limit_kg )[0]\n",
    "                    pred_labels_pubmed = get_prioritized_relationships(expanded_query,weightage=weight,limit= limit_pub )[0]\n",
    "                    pred_labels = list(set(pred_labels_kg + pred_labels_pubmed))\n",
    "                    predicted_labels.append(pred_labels)\n",
    "\n",
    "        print(f\"Number of rows : {len(true_labels)}\")\n",
    "\n",
    "        true_binary_matrix = create_binary_matrix(true_labels, classes)\n",
    "        predicted_binary_matrix = create_binary_matrix(predicted_labels, classes)\n",
    "\n",
    "        auroc_score = roc_auc(predicted_binary_matrix, true_binary_matrix, multilabel=True)\n",
    "        print(f\"Macro Averaged AUROC Score: {auroc_score}\")\n",
    "\n",
    "\n",
    "        precision = precision_score(true_binary_matrix, predicted_binary_matrix, average='micro', zero_division=0)\n",
    "        recall = recall_score(true_binary_matrix, predicted_binary_matrix, average='micro', zero_division=0)\n",
    "        f1 = f1_score(true_binary_matrix, predicted_binary_matrix, average='micro', zero_division=0)\n",
    "\n",
    "        precision_m = precision_score(true_binary_matrix, predicted_binary_matrix, average='macro', zero_division=0)\n",
    "        recall_m = recall_score(true_binary_matrix, predicted_binary_matrix, average='macro', zero_division=0)\n",
    "        f1_m = f1_score(true_binary_matrix, predicted_binary_matrix, average='macro', zero_division=0)\n",
    "\n",
    "\n",
    "        print(f\"Micro Averaged Precision: {precision}\")\n",
    "        print(f\"Micro Averaged Recall: {recall}\")\n",
    "        print(f\"Micro Averaged F1-Score: {f1}\")\n",
    "\n",
    "        print(f\"Macro Averaged Precision: {precision_m}\")\n",
    "        print(f\"Macro Averaged Recall: {recall_m}\")\n",
    "        print(f\"Macro Averaged F1-Score: {f1_m}\")\n",
    "\n",
    "only_kg(redef_three_sym)"
   ]
  },
  {
   "cell_type": "code",
   "execution_count": 66,
   "metadata": {},
   "outputs": [
    {
     "data": {
      "text/plain": [
       "(6, 10, 7, 7)"
      ]
     },
     "execution_count": 66,
     "metadata": {},
     "output_type": "execute_result"
    }
   ],
   "source": [
    "6,10,7,7"
   ]
  },
  {
   "cell_type": "code",
   "execution_count": 67,
   "metadata": {},
   "outputs": [
    {
     "data": {
      "text/plain": [
       "(3, 1, 10, 7)"
      ]
     },
     "execution_count": 67,
     "metadata": {},
     "output_type": "execute_result"
    }
   ],
   "source": [
    "3,1,10,7"
   ]
  },
  {
   "cell_type": "code",
   "execution_count": 99,
   "metadata": {},
   "outputs": [
    {
     "name": "stdout",
     "output_type": "stream",
     "text": [
      "[100019, 100091, 100325, 100357, 101050, 101852, 102256, 102840, 104538, 104708, 104799, 104932, 106512, 106825, 106961, 107089, 107382, 108754, 108838, 109865, 110258, 110896, 111119, 112595, 113189, 113331, 114183, 115391, 115541, 115672, 116098, 117996, 118253, 119060, 119428, 119708, 122120, 122233, 122235, 122477, 124363, 124409, 124453, 124501, 124525, 125574, 126817, 127104, 127247, 127599, 128473, 129168, 129382, 129842, 130432, 131912, 131964, 132666, 133622, 133858, 134118, 134391, 134552, 134789, 135102, 135912, 136176, 136692, 137143, 138337, 138823, 139249, 139662, 140236, 140263, 140525, 141061, 141400, 141740, 142124, 143549, 144353, 144807, 144924, 147079, 147892, 150128, 150417, 150533, 150705, 151336, 151584, 151732, 152694, 153246, 154147, 155505, 156200, 157377, 157960]\n"
     ]
    }
   ],
   "source": [
    "print(list(redef_three_sym.id))"
   ]
  },
  {
   "cell_type": "code",
   "execution_count": 101,
   "metadata": {},
   "outputs": [
    {
     "data": {
      "text/html": [
       "<div>\n",
       "<style scoped>\n",
       "    .dataframe tbody tr th:only-of-type {\n",
       "        vertical-align: middle;\n",
       "    }\n",
       "\n",
       "    .dataframe tbody tr th {\n",
       "        vertical-align: top;\n",
       "    }\n",
       "\n",
       "    .dataframe thead th {\n",
       "        text-align: right;\n",
       "    }\n",
       "</style>\n",
       "<table border=\"1\" class=\"dataframe\">\n",
       "  <thead>\n",
       "    <tr style=\"text-align: right;\">\n",
       "      <th></th>\n",
       "      <th>id</th>\n",
       "      <th>Symptoms</th>\n",
       "      <th>Diseases</th>\n",
       "      <th>Category</th>\n",
       "    </tr>\n",
       "  </thead>\n",
       "  <tbody>\n",
       "    <tr>\n",
       "      <th>0</th>\n",
       "      <td>100019</td>\n",
       "      <td>['heart murmur since childhood', 'increase in ...</td>\n",
       "      <td>['Bicuspid aortic valve', 'Dilated aorta', 'Ao...</td>\n",
       "      <td>39-45,74-75,39-45,78</td>\n",
       "    </tr>\n",
       "    <tr>\n",
       "      <th>1</th>\n",
       "      <td>100091</td>\n",
       "      <td>['lethargy', 'bradycardia', 'fever']</td>\n",
       "      <td>['COPD', 'Atrial fibrillation', 'moderate deme...</td>\n",
       "      <td>39-45,39-45,58-62,24-27,58-62,39-45,46-51,29-3...</td>\n",
       "    </tr>\n",
       "    <tr>\n",
       "      <th>2</th>\n",
       "      <td>100325</td>\n",
       "      <td>['respiratory distress', 'unresponsive', 'hypo...</td>\n",
       "      <td>['T4AN2CM0 oropharyngeal squamous cell carcino...</td>\n",
       "      <td>46-51,46-51,00-10,96-99,58-62,00-10,71-73,29-3...</td>\n",
       "    </tr>\n",
       "    <tr>\n",
       "      <th>3</th>\n",
       "      <td>100357</td>\n",
       "      <td>['hypotension', 'diarrhea', 'diffuse abdominal...</td>\n",
       "      <td>['hip fracture', 'pneumonia', 'sepsis', 'C dif...</td>\n",
       "      <td>00-10,78,58-62,00-10,52-57,96-99,29-31,28,V40-...</td>\n",
       "    </tr>\n",
       "    <tr>\n",
       "      <th>4</th>\n",
       "      <td>101050</td>\n",
       "      <td>['Blurry vision', 'Lightheadedness', 'Unsteady...</td>\n",
       "      <td>['Hypertension', 'Dyslipidemia', 'Embolic stro...</td>\n",
       "      <td>21-23,39-45,96-99,39-45,78,V50-V59,V50-V59,39-...</td>\n",
       "    </tr>\n",
       "  </tbody>\n",
       "</table>\n",
       "</div>"
      ],
      "text/plain": [
       "       id                                           Symptoms  \\\n",
       "0  100019  ['heart murmur since childhood', 'increase in ...   \n",
       "1  100091               ['lethargy', 'bradycardia', 'fever']   \n",
       "2  100325  ['respiratory distress', 'unresponsive', 'hypo...   \n",
       "3  100357  ['hypotension', 'diarrhea', 'diffuse abdominal...   \n",
       "4  101050  ['Blurry vision', 'Lightheadedness', 'Unsteady...   \n",
       "\n",
       "                                            Diseases  \\\n",
       "0  ['Bicuspid aortic valve', 'Dilated aorta', 'Ao...   \n",
       "1  ['COPD', 'Atrial fibrillation', 'moderate deme...   \n",
       "2  ['T4AN2CM0 oropharyngeal squamous cell carcino...   \n",
       "3  ['hip fracture', 'pneumonia', 'sepsis', 'C dif...   \n",
       "4  ['Hypertension', 'Dyslipidemia', 'Embolic stro...   \n",
       "\n",
       "                                            Category  \n",
       "0                               39-45,74-75,39-45,78  \n",
       "1  39-45,39-45,58-62,24-27,58-62,39-45,46-51,29-3...  \n",
       "2  46-51,46-51,00-10,96-99,58-62,00-10,71-73,29-3...  \n",
       "3  00-10,78,58-62,00-10,52-57,96-99,29-31,28,V40-...  \n",
       "4  21-23,39-45,96-99,39-45,78,V50-V59,V50-V59,39-...  "
      ]
     },
     "execution_count": 101,
     "metadata": {},
     "output_type": "execute_result"
    }
   ],
   "source": [
    "redef_three_sym.head()"
   ]
  },
  {
   "cell_type": "code",
   "execution_count": 100,
   "metadata": {},
   "outputs": [
    {
     "name": "stdout",
     "output_type": "stream",
     "text": [
      "<class 'pandas.core.frame.DataFrame'>\n",
      "RangeIndex: 100 entries, 0 to 99\n",
      "Data columns (total 4 columns):\n",
      " #   Column    Non-Null Count  Dtype \n",
      "---  ------    --------------  ----- \n",
      " 0   id        100 non-null    int64 \n",
      " 1   Symptoms  100 non-null    object\n",
      " 2   Diseases  100 non-null    object\n",
      " 3   Category  100 non-null    object\n",
      "dtypes: int64(1), object(3)\n",
      "memory usage: 3.3+ KB\n"
     ]
    }
   ],
   "source": [
    "redef_three_sym.info()"
   ]
  },
  {
   "cell_type": "code",
   "execution_count": 79,
   "metadata": {},
   "outputs": [
    {
     "name": "stdout",
     "output_type": "stream",
     "text": [
      "<class 'pandas.core.frame.DataFrame'>\n",
      "RangeIndex: 100 entries, 0 to 99\n",
      "Data columns (total 3 columns):\n",
      " #   Column    Non-Null Count  Dtype \n",
      "---  ------    --------------  ----- \n",
      " 0   index     100 non-null    int64 \n",
      " 1   Category  100 non-null    object\n",
      " 2   Symptoms  100 non-null    object\n",
      "dtypes: int64(1), object(2)\n",
      "memory usage: 2.5+ KB\n"
     ]
    }
   ],
   "source": [
    "three_sym.info()"
   ]
  },
  {
   "cell_type": "code",
   "execution_count": 94,
   "metadata": {},
   "outputs": [
    {
     "name": "stderr",
     "output_type": "stream",
     "text": [
      "[I 2024-08-15 22:48:47,918] A new study created in memory with name: no-name-702dfb1a-e242-4ab8-a8b6-adbf830dbe15\n",
      "100it [00:04, 21.76it/s]\n",
      "[I 2024-08-15 22:48:52,523] Trial 0 finished with value: 0.6319742489270386 and parameters: {'weight': 10, 'limit_kg': 2, 'limit_pub': 10, 'expansion_limit': 4}. Best is trial 0 with value: 0.6319742489270386.\n",
      "100it [00:04, 20.98it/s]\n",
      "[I 2024-08-15 22:48:57,293] Trial 1 finished with value: 0.5185185185185185 and parameters: {'weight': 6, 'limit_kg': 4, 'limit_pub': 5, 'expansion_limit': 6}. Best is trial 0 with value: 0.6319742489270386.\n",
      "100it [00:03, 28.03it/s]\n",
      "[I 2024-08-15 22:49:00,866] Trial 2 finished with value: 0.6462222222222223 and parameters: {'weight': 3, 'limit_kg': 15, 'limit_pub': 12, 'expansion_limit': 1}. Best is trial 2 with value: 0.6462222222222223.\n",
      "100it [00:04, 22.81it/s]\n",
      "[I 2024-08-15 22:49:05,254] Trial 3 finished with value: 0.5166666666666667 and parameters: {'weight': 2, 'limit_kg': 5, 'limit_pub': 1, 'expansion_limit': 5}. Best is trial 2 with value: 0.6462222222222223.\n",
      "100it [00:05, 19.72it/s]\n",
      "[I 2024-08-15 22:49:10,329] Trial 4 finished with value: 0.650103519668737 and parameters: {'weight': 3, 'limit_kg': 10, 'limit_pub': 4, 'expansion_limit': 7}. Best is trial 4 with value: 0.650103519668737.\n",
      "100it [00:04, 22.08it/s]\n",
      "[I 2024-08-15 22:49:14,862] Trial 5 finished with value: 0.5194444444444445 and parameters: {'weight': 4, 'limit_kg': 1, 'limit_pub': 5, 'expansion_limit': 6}. Best is trial 4 with value: 0.650103519668737.\n",
      "100it [00:04, 22.00it/s]\n",
      "[I 2024-08-15 22:49:19,411] Trial 6 finished with value: 0.6130358191426893 and parameters: {'weight': 8, 'limit_kg': 8, 'limit_pub': 8, 'expansion_limit': 5}. Best is trial 4 with value: 0.650103519668737.\n",
      "100it [00:03, 29.09it/s]\n",
      "[I 2024-08-15 22:49:22,852] Trial 7 finished with value: 0.546875 and parameters: {'weight': 8, 'limit_kg': 7, 'limit_pub': 3, 'expansion_limit': 1}. Best is trial 4 with value: 0.650103519668737.\n",
      "100it [00:05, 17.79it/s]\n",
      "[I 2024-08-15 22:49:28,478] Trial 8 finished with value: 0.6496598639455783 and parameters: {'weight': 5, 'limit_kg': 15, 'limit_pub': 1, 'expansion_limit': 8}. Best is trial 4 with value: 0.650103519668737.\n",
      "100it [00:04, 20.99it/s]\n",
      "[I 2024-08-15 22:49:33,249] Trial 9 finished with value: 0.6503298774740811 and parameters: {'weight': 10, 'limit_kg': 12, 'limit_pub': 13, 'expansion_limit': 5}. Best is trial 9 with value: 0.6503298774740811.\n",
      "100it [00:05, 17.33it/s]\n",
      "[I 2024-08-15 22:49:39,031] Trial 10 finished with value: 0.6503436426116839 and parameters: {'weight': 10, 'limit_kg': 12, 'limit_pub': 15, 'expansion_limit': 10}. Best is trial 10 with value: 0.6503436426116839.\n",
      "100it [00:05, 17.47it/s]\n",
      "[I 2024-08-15 22:49:44,767] Trial 11 finished with value: 0.6503436426116839 and parameters: {'weight': 10, 'limit_kg': 12, 'limit_pub': 15, 'expansion_limit': 10}. Best is trial 10 with value: 0.6503436426116839.\n",
      "100it [00:05, 17.78it/s]\n",
      "[I 2024-08-15 22:49:50,403] Trial 12 finished with value: 0.6506849315068494 and parameters: {'weight': 8, 'limit_kg': 12, 'limit_pub': 15, 'expansion_limit': 10}. Best is trial 12 with value: 0.6506849315068494.\n",
      "100it [00:05, 18.16it/s]\n",
      "[I 2024-08-15 22:49:55,922] Trial 13 finished with value: 0.6506849315068494 and parameters: {'weight': 8, 'limit_kg': 12, 'limit_pub': 15, 'expansion_limit': 10}. Best is trial 12 with value: 0.6506849315068494.\n",
      "100it [00:05, 18.38it/s]\n",
      "[I 2024-08-15 22:50:01,374] Trial 14 finished with value: 0.6561604584527221 and parameters: {'weight': 7, 'limit_kg': 10, 'limit_pub': 12, 'expansion_limit': 9}. Best is trial 14 with value: 0.6561604584527221.\n",
      "100it [00:05, 19.18it/s]\n",
      "[I 2024-08-15 22:50:06,603] Trial 15 finished with value: 0.6561302681992337 and parameters: {'weight': 7, 'limit_kg': 10, 'limit_pub': 12, 'expansion_limit': 8}. Best is trial 14 with value: 0.6561604584527221.\n",
      "100it [00:05, 19.60it/s]\n",
      "[I 2024-08-15 22:50:11,717] Trial 16 finished with value: 0.649500788229112 and parameters: {'weight': 6, 'limit_kg': 10, 'limit_pub': 9, 'expansion_limit': 8}. Best is trial 14 with value: 0.6561604584527221.\n",
      "100it [00:05, 18.68it/s]\n",
      "[I 2024-08-15 22:50:17,088] Trial 17 finished with value: 0.6561302681992337 and parameters: {'weight': 7, 'limit_kg': 10, 'limit_pub': 12, 'expansion_limit': 8}. Best is trial 14 with value: 0.6561604584527221.\n",
      "100it [00:05, 18.13it/s]\n",
      "[I 2024-08-15 22:50:22,620] Trial 18 finished with value: 0.6557050323866468 and parameters: {'weight': 5, 'limit_kg': 6, 'limit_pub': 11, 'expansion_limit': 9}. Best is trial 14 with value: 0.6561604584527221.\n",
      "100it [00:05, 19.15it/s]\n",
      "[I 2024-08-15 22:50:27,862] Trial 19 finished with value: 0.6564673157162726 and parameters: {'weight': 7, 'limit_kg': 8, 'limit_pub': 13, 'expansion_limit': 7}. Best is trial 19 with value: 0.6564673157162726.\n",
      "100it [00:04, 23.53it/s]\n",
      "[I 2024-08-15 22:50:32,129] Trial 20 finished with value: 0.5890243902439024 and parameters: {'weight': 1, 'limit_kg': 7, 'limit_pub': 7, 'expansion_limit': 3}. Best is trial 19 with value: 0.6564673157162726.\n",
      "100it [00:05, 19.71it/s]\n",
      "[I 2024-08-15 22:50:37,217] Trial 21 finished with value: 0.6564673157162726 and parameters: {'weight': 7, 'limit_kg': 9, 'limit_pub': 13, 'expansion_limit': 7}. Best is trial 19 with value: 0.6564673157162726.\n",
      "100it [00:05, 19.16it/s]\n",
      "[I 2024-08-15 22:50:42,450] Trial 22 finished with value: 0.6564673157162726 and parameters: {'weight': 7, 'limit_kg': 8, 'limit_pub': 13, 'expansion_limit': 7}. Best is trial 19 with value: 0.6564673157162726.\n",
      "100it [00:07, 14.26it/s]\n",
      "[I 2024-08-15 22:50:49,484] Trial 23 finished with value: 0.6545454545454545 and parameters: {'weight': 9, 'limit_kg': 8, 'limit_pub': 13, 'expansion_limit': 7}. Best is trial 19 with value: 0.6564673157162726.\n",
      "100it [00:09, 10.18it/s]\n",
      "[I 2024-08-15 22:50:59,332] Trial 24 finished with value: 0.6501841136244082 and parameters: {'weight': 6, 'limit_kg': 8, 'limit_pub': 10, 'expansion_limit': 7}. Best is trial 19 with value: 0.6564673157162726.\n",
      "100it [00:09, 10.48it/s]\n",
      "[I 2024-08-15 22:51:08,910] Trial 25 finished with value: 0.6518254674977738 and parameters: {'weight': 7, 'limit_kg': 4, 'limit_pub': 14, 'expansion_limit': 6}. Best is trial 19 with value: 0.6564673157162726.\n",
      "100it [00:10,  9.77it/s]\n",
      "[I 2024-08-15 22:51:19,211] Trial 26 finished with value: 0.6545454545454545 and parameters: {'weight': 9, 'limit_kg': 9, 'limit_pub': 13, 'expansion_limit': 7}. Best is trial 19 with value: 0.6564673157162726.\n",
      "100it [00:09, 10.76it/s]\n",
      "[I 2024-08-15 22:51:28,534] Trial 27 finished with value: 0.6387267904509284 and parameters: {'weight': 5, 'limit_kg': 6, 'limit_pub': 10, 'expansion_limit': 4}. Best is trial 19 with value: 0.6564673157162726.\n",
      "100it [00:10,  9.18it/s]\n",
      "[I 2024-08-15 22:51:39,462] Trial 28 finished with value: 0.6514948683623383 and parameters: {'weight': 9, 'limit_kg': 9, 'limit_pub': 14, 'expansion_limit': 9}. Best is trial 19 with value: 0.6564673157162726.\n",
      "100it [00:09, 10.50it/s]\n",
      "[I 2024-08-15 22:51:49,028] Trial 29 finished with value: 0.6473577235772358 and parameters: {'weight': 6, 'limit_kg': 5, 'limit_pub': 11, 'expansion_limit': 4}. Best is trial 19 with value: 0.6564673157162726.\n",
      "100it [00:10,  9.12it/s]\n",
      "[I 2024-08-15 22:52:00,022] Trial 30 finished with value: 0.6184364060676779 and parameters: {'weight': 4, 'limit_kg': 7, 'limit_pub': 8, 'expansion_limit': 3}. Best is trial 19 with value: 0.6564673157162726.\n",
      "77it [00:09,  7.89it/s]\n",
      "[W 2024-08-15 22:52:09,806] Trial 31 failed with parameters: {'weight': 7, 'limit_kg': 11, 'limit_pub': 11, 'expansion_limit': 9} because of the following error: KeyboardInterrupt().\n",
      "Traceback (most recent call last):\n",
      "  File \"/Applications/anaconda3/envs/astro/lib/python3.12/site-packages/optuna/study/_optimize.py\", line 196, in _run_trial\n",
      "    value_or_values = func(trial)\n",
      "                      ^^^^^^^^^^^\n",
      "  File \"/var/folders/m7/bv0y8qlx7zvfmthj5qr5cqv80000gn/T/ipykernel_5300/34903850.py\", line 18, in objective\n",
      "    pred_labels_kg = get_prioritized_relationships(expanded_query, weightage=weight, limit=limit_kg)[0]\n",
      "                     ^^^^^^^^^^^^^^^^^^^^^^^^^^^^^^^^^^^^^^^^^^^^^^^^^^^^^^^^^^^^^^^^^^^^^^^^^^^^^^^\n",
      "  File \"/var/folders/m7/bv0y8qlx7zvfmthj5qr5cqv80000gn/T/ipykernel_5300/826504478.py\", line 14, in get_prioritized_relationships\n",
      "    for record in result:\n",
      "  File \"/Applications/anaconda3/envs/astro/lib/python3.12/site-packages/neo4j/_sync/work/result.py\", line 378, in __iter__\n",
      "    self._connection.fetch_message()\n",
      "  File \"/Applications/anaconda3/envs/astro/lib/python3.12/site-packages/neo4j/_sync/io/_common.py\", line 178, in inner\n",
      "    func(*args, **kwargs)\n",
      "  File \"/Applications/anaconda3/envs/astro/lib/python3.12/site-packages/neo4j/_sync/io/_bolt.py\", line 852, in fetch_message\n",
      "    tag, fields = self.inbox.pop(\n",
      "                  ^^^^^^^^^^^^^^^\n",
      "  File \"/Applications/anaconda3/envs/astro/lib/python3.12/site-packages/neo4j/_sync/io/_common.py\", line 72, in pop\n",
      "    self._buffer_one_chunk()\n",
      "  File \"/Applications/anaconda3/envs/astro/lib/python3.12/site-packages/neo4j/_sync/io/_common.py\", line 51, in _buffer_one_chunk\n",
      "    receive_into_buffer(self._socket, self._buffer, 2)\n",
      "  File \"/Applications/anaconda3/envs/astro/lib/python3.12/site-packages/neo4j/_sync/io/_common.py\", line 326, in receive_into_buffer\n",
      "    n = sock.recv_into(view[buffer.used:end], end - buffer.used)\n",
      "        ^^^^^^^^^^^^^^^^^^^^^^^^^^^^^^^^^^^^^^^^^^^^^^^^^^^^^^^^\n",
      "  File \"/Applications/anaconda3/envs/astro/lib/python3.12/site-packages/neo4j/_async_compat/network/_bolt_socket.py\", line 493, in recv_into\n",
      "    return self._wait_for_io(self._socket.recv_into, buffer, nbytes)\n",
      "           ^^^^^^^^^^^^^^^^^^^^^^^^^^^^^^^^^^^^^^^^^^^^^^^^^^^^^^^^^\n",
      "  File \"/Applications/anaconda3/envs/astro/lib/python3.12/site-packages/neo4j/_async_compat/network/_bolt_socket.py\", line 468, in _wait_for_io\n",
      "    return func(*args, **kwargs)\n",
      "           ^^^^^^^^^^^^^^^^^^^^^\n",
      "KeyboardInterrupt\n",
      "[W 2024-08-15 22:52:09,812] Trial 31 failed with value None.\n"
     ]
    },
    {
     "ename": "KeyboardInterrupt",
     "evalue": "",
     "output_type": "error",
     "traceback": [
      "\u001b[0;31m---------------------------------------------------------------------------\u001b[0m",
      "\u001b[0;31mKeyboardInterrupt\u001b[0m                         Traceback (most recent call last)",
      "Cell \u001b[0;32mIn[94], line 34\u001b[0m\n\u001b[1;32m     30\u001b[0m     \u001b[38;5;28;01mreturn\u001b[39;00m f1\n\u001b[1;32m     33\u001b[0m study \u001b[38;5;241m=\u001b[39m optuna\u001b[38;5;241m.\u001b[39mcreate_study(direction\u001b[38;5;241m=\u001b[39m\u001b[38;5;124m'\u001b[39m\u001b[38;5;124mmaximize\u001b[39m\u001b[38;5;124m'\u001b[39m)\n\u001b[0;32m---> 34\u001b[0m \u001b[43mstudy\u001b[49m\u001b[38;5;241;43m.\u001b[39;49m\u001b[43moptimize\u001b[49m\u001b[43m(\u001b[49m\u001b[43mobjective\u001b[49m\u001b[43m,\u001b[49m\u001b[43m \u001b[49m\u001b[43mn_trials\u001b[49m\u001b[38;5;241;43m=\u001b[39;49m\u001b[38;5;241;43m1000\u001b[39;49m\u001b[43m)\u001b[49m\n\u001b[1;32m     36\u001b[0m \u001b[38;5;28mprint\u001b[39m(\u001b[38;5;124m\"\u001b[39m\u001b[38;5;124mBest Parameters:\u001b[39m\u001b[38;5;124m\"\u001b[39m, study\u001b[38;5;241m.\u001b[39mbest_params)\n\u001b[1;32m     37\u001b[0m \u001b[38;5;28mprint\u001b[39m(\u001b[38;5;124m\"\u001b[39m\u001b[38;5;124mBest F1 Score:\u001b[39m\u001b[38;5;124m\"\u001b[39m, study\u001b[38;5;241m.\u001b[39mbest_value)\n",
      "File \u001b[0;32m/Applications/anaconda3/envs/astro/lib/python3.12/site-packages/optuna/study/study.py:451\u001b[0m, in \u001b[0;36mStudy.optimize\u001b[0;34m(self, func, n_trials, timeout, n_jobs, catch, callbacks, gc_after_trial, show_progress_bar)\u001b[0m\n\u001b[1;32m    348\u001b[0m \u001b[38;5;28;01mdef\u001b[39;00m \u001b[38;5;21moptimize\u001b[39m(\n\u001b[1;32m    349\u001b[0m     \u001b[38;5;28mself\u001b[39m,\n\u001b[1;32m    350\u001b[0m     func: ObjectiveFuncType,\n\u001b[0;32m   (...)\u001b[0m\n\u001b[1;32m    357\u001b[0m     show_progress_bar: \u001b[38;5;28mbool\u001b[39m \u001b[38;5;241m=\u001b[39m \u001b[38;5;28;01mFalse\u001b[39;00m,\n\u001b[1;32m    358\u001b[0m ) \u001b[38;5;241m-\u001b[39m\u001b[38;5;241m>\u001b[39m \u001b[38;5;28;01mNone\u001b[39;00m:\n\u001b[1;32m    359\u001b[0m \u001b[38;5;250m    \u001b[39m\u001b[38;5;124;03m\"\"\"Optimize an objective function.\u001b[39;00m\n\u001b[1;32m    360\u001b[0m \n\u001b[1;32m    361\u001b[0m \u001b[38;5;124;03m    Optimization is done by choosing a suitable set of hyperparameter values from a given\u001b[39;00m\n\u001b[0;32m   (...)\u001b[0m\n\u001b[1;32m    449\u001b[0m \u001b[38;5;124;03m            If nested invocation of this method occurs.\u001b[39;00m\n\u001b[1;32m    450\u001b[0m \u001b[38;5;124;03m    \"\"\"\u001b[39;00m\n\u001b[0;32m--> 451\u001b[0m     \u001b[43m_optimize\u001b[49m\u001b[43m(\u001b[49m\n\u001b[1;32m    452\u001b[0m \u001b[43m        \u001b[49m\u001b[43mstudy\u001b[49m\u001b[38;5;241;43m=\u001b[39;49m\u001b[38;5;28;43mself\u001b[39;49m\u001b[43m,\u001b[49m\n\u001b[1;32m    453\u001b[0m \u001b[43m        \u001b[49m\u001b[43mfunc\u001b[49m\u001b[38;5;241;43m=\u001b[39;49m\u001b[43mfunc\u001b[49m\u001b[43m,\u001b[49m\n\u001b[1;32m    454\u001b[0m \u001b[43m        \u001b[49m\u001b[43mn_trials\u001b[49m\u001b[38;5;241;43m=\u001b[39;49m\u001b[43mn_trials\u001b[49m\u001b[43m,\u001b[49m\n\u001b[1;32m    455\u001b[0m \u001b[43m        \u001b[49m\u001b[43mtimeout\u001b[49m\u001b[38;5;241;43m=\u001b[39;49m\u001b[43mtimeout\u001b[49m\u001b[43m,\u001b[49m\n\u001b[1;32m    456\u001b[0m \u001b[43m        \u001b[49m\u001b[43mn_jobs\u001b[49m\u001b[38;5;241;43m=\u001b[39;49m\u001b[43mn_jobs\u001b[49m\u001b[43m,\u001b[49m\n\u001b[1;32m    457\u001b[0m \u001b[43m        \u001b[49m\u001b[43mcatch\u001b[49m\u001b[38;5;241;43m=\u001b[39;49m\u001b[38;5;28;43mtuple\u001b[39;49m\u001b[43m(\u001b[49m\u001b[43mcatch\u001b[49m\u001b[43m)\u001b[49m\u001b[43m \u001b[49m\u001b[38;5;28;43;01mif\u001b[39;49;00m\u001b[43m \u001b[49m\u001b[38;5;28;43misinstance\u001b[39;49m\u001b[43m(\u001b[49m\u001b[43mcatch\u001b[49m\u001b[43m,\u001b[49m\u001b[43m \u001b[49m\u001b[43mIterable\u001b[49m\u001b[43m)\u001b[49m\u001b[43m \u001b[49m\u001b[38;5;28;43;01melse\u001b[39;49;00m\u001b[43m \u001b[49m\u001b[43m(\u001b[49m\u001b[43mcatch\u001b[49m\u001b[43m,\u001b[49m\u001b[43m)\u001b[49m\u001b[43m,\u001b[49m\n\u001b[1;32m    458\u001b[0m \u001b[43m        \u001b[49m\u001b[43mcallbacks\u001b[49m\u001b[38;5;241;43m=\u001b[39;49m\u001b[43mcallbacks\u001b[49m\u001b[43m,\u001b[49m\n\u001b[1;32m    459\u001b[0m \u001b[43m        \u001b[49m\u001b[43mgc_after_trial\u001b[49m\u001b[38;5;241;43m=\u001b[39;49m\u001b[43mgc_after_trial\u001b[49m\u001b[43m,\u001b[49m\n\u001b[1;32m    460\u001b[0m \u001b[43m        \u001b[49m\u001b[43mshow_progress_bar\u001b[49m\u001b[38;5;241;43m=\u001b[39;49m\u001b[43mshow_progress_bar\u001b[49m\u001b[43m,\u001b[49m\n\u001b[1;32m    461\u001b[0m \u001b[43m    \u001b[49m\u001b[43m)\u001b[49m\n",
      "File \u001b[0;32m/Applications/anaconda3/envs/astro/lib/python3.12/site-packages/optuna/study/_optimize.py:62\u001b[0m, in \u001b[0;36m_optimize\u001b[0;34m(study, func, n_trials, timeout, n_jobs, catch, callbacks, gc_after_trial, show_progress_bar)\u001b[0m\n\u001b[1;32m     60\u001b[0m \u001b[38;5;28;01mtry\u001b[39;00m:\n\u001b[1;32m     61\u001b[0m     \u001b[38;5;28;01mif\u001b[39;00m n_jobs \u001b[38;5;241m==\u001b[39m \u001b[38;5;241m1\u001b[39m:\n\u001b[0;32m---> 62\u001b[0m         \u001b[43m_optimize_sequential\u001b[49m\u001b[43m(\u001b[49m\n\u001b[1;32m     63\u001b[0m \u001b[43m            \u001b[49m\u001b[43mstudy\u001b[49m\u001b[43m,\u001b[49m\n\u001b[1;32m     64\u001b[0m \u001b[43m            \u001b[49m\u001b[43mfunc\u001b[49m\u001b[43m,\u001b[49m\n\u001b[1;32m     65\u001b[0m \u001b[43m            \u001b[49m\u001b[43mn_trials\u001b[49m\u001b[43m,\u001b[49m\n\u001b[1;32m     66\u001b[0m \u001b[43m            \u001b[49m\u001b[43mtimeout\u001b[49m\u001b[43m,\u001b[49m\n\u001b[1;32m     67\u001b[0m \u001b[43m            \u001b[49m\u001b[43mcatch\u001b[49m\u001b[43m,\u001b[49m\n\u001b[1;32m     68\u001b[0m \u001b[43m            \u001b[49m\u001b[43mcallbacks\u001b[49m\u001b[43m,\u001b[49m\n\u001b[1;32m     69\u001b[0m \u001b[43m            \u001b[49m\u001b[43mgc_after_trial\u001b[49m\u001b[43m,\u001b[49m\n\u001b[1;32m     70\u001b[0m \u001b[43m            \u001b[49m\u001b[43mreseed_sampler_rng\u001b[49m\u001b[38;5;241;43m=\u001b[39;49m\u001b[38;5;28;43;01mFalse\u001b[39;49;00m\u001b[43m,\u001b[49m\n\u001b[1;32m     71\u001b[0m \u001b[43m            \u001b[49m\u001b[43mtime_start\u001b[49m\u001b[38;5;241;43m=\u001b[39;49m\u001b[38;5;28;43;01mNone\u001b[39;49;00m\u001b[43m,\u001b[49m\n\u001b[1;32m     72\u001b[0m \u001b[43m            \u001b[49m\u001b[43mprogress_bar\u001b[49m\u001b[38;5;241;43m=\u001b[39;49m\u001b[43mprogress_bar\u001b[49m\u001b[43m,\u001b[49m\n\u001b[1;32m     73\u001b[0m \u001b[43m        \u001b[49m\u001b[43m)\u001b[49m\n\u001b[1;32m     74\u001b[0m     \u001b[38;5;28;01melse\u001b[39;00m:\n\u001b[1;32m     75\u001b[0m         \u001b[38;5;28;01mif\u001b[39;00m n_jobs \u001b[38;5;241m==\u001b[39m \u001b[38;5;241m-\u001b[39m\u001b[38;5;241m1\u001b[39m:\n",
      "File \u001b[0;32m/Applications/anaconda3/envs/astro/lib/python3.12/site-packages/optuna/study/_optimize.py:159\u001b[0m, in \u001b[0;36m_optimize_sequential\u001b[0;34m(study, func, n_trials, timeout, catch, callbacks, gc_after_trial, reseed_sampler_rng, time_start, progress_bar)\u001b[0m\n\u001b[1;32m    156\u001b[0m         \u001b[38;5;28;01mbreak\u001b[39;00m\n\u001b[1;32m    158\u001b[0m \u001b[38;5;28;01mtry\u001b[39;00m:\n\u001b[0;32m--> 159\u001b[0m     frozen_trial \u001b[38;5;241m=\u001b[39m \u001b[43m_run_trial\u001b[49m\u001b[43m(\u001b[49m\u001b[43mstudy\u001b[49m\u001b[43m,\u001b[49m\u001b[43m \u001b[49m\u001b[43mfunc\u001b[49m\u001b[43m,\u001b[49m\u001b[43m \u001b[49m\u001b[43mcatch\u001b[49m\u001b[43m)\u001b[49m\n\u001b[1;32m    160\u001b[0m \u001b[38;5;28;01mfinally\u001b[39;00m:\n\u001b[1;32m    161\u001b[0m     \u001b[38;5;66;03m# The following line mitigates memory problems that can be occurred in some\u001b[39;00m\n\u001b[1;32m    162\u001b[0m     \u001b[38;5;66;03m# environments (e.g., services that use computing containers such as GitHub Actions).\u001b[39;00m\n\u001b[1;32m    163\u001b[0m     \u001b[38;5;66;03m# Please refer to the following PR for further details:\u001b[39;00m\n\u001b[1;32m    164\u001b[0m     \u001b[38;5;66;03m# https://github.com/optuna/optuna/pull/325.\u001b[39;00m\n\u001b[1;32m    165\u001b[0m     \u001b[38;5;28;01mif\u001b[39;00m gc_after_trial:\n",
      "File \u001b[0;32m/Applications/anaconda3/envs/astro/lib/python3.12/site-packages/optuna/study/_optimize.py:247\u001b[0m, in \u001b[0;36m_run_trial\u001b[0;34m(study, func, catch)\u001b[0m\n\u001b[1;32m    240\u001b[0m         \u001b[38;5;28;01massert\u001b[39;00m \u001b[38;5;28;01mFalse\u001b[39;00m, \u001b[38;5;124m\"\u001b[39m\u001b[38;5;124mShould not reach.\u001b[39m\u001b[38;5;124m\"\u001b[39m\n\u001b[1;32m    242\u001b[0m \u001b[38;5;28;01mif\u001b[39;00m (\n\u001b[1;32m    243\u001b[0m     frozen_trial\u001b[38;5;241m.\u001b[39mstate \u001b[38;5;241m==\u001b[39m TrialState\u001b[38;5;241m.\u001b[39mFAIL\n\u001b[1;32m    244\u001b[0m     \u001b[38;5;129;01mand\u001b[39;00m func_err \u001b[38;5;129;01mis\u001b[39;00m \u001b[38;5;129;01mnot\u001b[39;00m \u001b[38;5;28;01mNone\u001b[39;00m\n\u001b[1;32m    245\u001b[0m     \u001b[38;5;129;01mand\u001b[39;00m \u001b[38;5;129;01mnot\u001b[39;00m \u001b[38;5;28misinstance\u001b[39m(func_err, catch)\n\u001b[1;32m    246\u001b[0m ):\n\u001b[0;32m--> 247\u001b[0m     \u001b[38;5;28;01mraise\u001b[39;00m func_err\n\u001b[1;32m    248\u001b[0m \u001b[38;5;28;01mreturn\u001b[39;00m frozen_trial\n",
      "File \u001b[0;32m/Applications/anaconda3/envs/astro/lib/python3.12/site-packages/optuna/study/_optimize.py:196\u001b[0m, in \u001b[0;36m_run_trial\u001b[0;34m(study, func, catch)\u001b[0m\n\u001b[1;32m    194\u001b[0m \u001b[38;5;28;01mwith\u001b[39;00m get_heartbeat_thread(trial\u001b[38;5;241m.\u001b[39m_trial_id, study\u001b[38;5;241m.\u001b[39m_storage):\n\u001b[1;32m    195\u001b[0m     \u001b[38;5;28;01mtry\u001b[39;00m:\n\u001b[0;32m--> 196\u001b[0m         value_or_values \u001b[38;5;241m=\u001b[39m \u001b[43mfunc\u001b[49m\u001b[43m(\u001b[49m\u001b[43mtrial\u001b[49m\u001b[43m)\u001b[49m\n\u001b[1;32m    197\u001b[0m     \u001b[38;5;28;01mexcept\u001b[39;00m exceptions\u001b[38;5;241m.\u001b[39mTrialPruned \u001b[38;5;28;01mas\u001b[39;00m e:\n\u001b[1;32m    198\u001b[0m         \u001b[38;5;66;03m# TODO(mamu): Handle multi-objective cases.\u001b[39;00m\n\u001b[1;32m    199\u001b[0m         state \u001b[38;5;241m=\u001b[39m TrialState\u001b[38;5;241m.\u001b[39mPRUNED\n",
      "Cell \u001b[0;32mIn[94], line 18\u001b[0m, in \u001b[0;36mobjective\u001b[0;34m(trial)\u001b[0m\n\u001b[1;32m     16\u001b[0m true_labels\u001b[38;5;241m.\u001b[39mappend(\u001b[38;5;28mlist\u001b[39m(\u001b[38;5;28mset\u001b[39m(true_label)))\n\u001b[1;32m     17\u001b[0m expanded_query \u001b[38;5;241m=\u001b[39m  search_symptoms(j\u001b[38;5;241m.\u001b[39mSymptoms[\u001b[38;5;241m2\u001b[39m:\u001b[38;5;241m-\u001b[39m\u001b[38;5;241m2\u001b[39m]\u001b[38;5;241m.\u001b[39msplit(\u001b[38;5;124m\"\u001b[39m\u001b[38;5;124m'\u001b[39m\u001b[38;5;124m, \u001b[39m\u001b[38;5;124m'\u001b[39m\u001b[38;5;124m\"\u001b[39m), expansion_limit\u001b[38;5;241m=\u001b[39mexpansion_limit)\n\u001b[0;32m---> 18\u001b[0m pred_labels_kg \u001b[38;5;241m=\u001b[39m \u001b[43mget_prioritized_relationships\u001b[49m\u001b[43m(\u001b[49m\u001b[43mexpanded_query\u001b[49m\u001b[43m,\u001b[49m\u001b[43m \u001b[49m\u001b[43mweightage\u001b[49m\u001b[38;5;241;43m=\u001b[39;49m\u001b[43mweight\u001b[49m\u001b[43m,\u001b[49m\u001b[43m \u001b[49m\u001b[43mlimit\u001b[49m\u001b[38;5;241;43m=\u001b[39;49m\u001b[43mlimit_kg\u001b[49m\u001b[43m)\u001b[49m[\u001b[38;5;241m0\u001b[39m]\n\u001b[1;32m     19\u001b[0m pred_labels_pubmed \u001b[38;5;241m=\u001b[39m get_prioritized_relationships(expanded_query, weightage\u001b[38;5;241m=\u001b[39mweight, limit\u001b[38;5;241m=\u001b[39mlimit_pub)[\u001b[38;5;241m0\u001b[39m]\n\u001b[1;32m     20\u001b[0m pred_labels \u001b[38;5;241m=\u001b[39m \u001b[38;5;28mlist\u001b[39m(\u001b[38;5;28mset\u001b[39m(pred_labels_kg \u001b[38;5;241m+\u001b[39m pred_labels_pubmed))\n",
      "Cell \u001b[0;32mIn[58], line 14\u001b[0m, in \u001b[0;36mget_prioritized_relationships\u001b[0;34m(symptom_names, weightage, limit)\u001b[0m\n\u001b[1;32m     12\u001b[0m codes \u001b[38;5;241m=\u001b[39m []\n\u001b[1;32m     13\u001b[0m all_info \u001b[38;5;241m=\u001b[39m {}\n\u001b[0;32m---> 14\u001b[0m \u001b[43m\u001b[49m\u001b[38;5;28;43;01mfor\u001b[39;49;00m\u001b[43m \u001b[49m\u001b[43mrecord\u001b[49m\u001b[43m \u001b[49m\u001b[38;5;129;43;01min\u001b[39;49;00m\u001b[43m \u001b[49m\u001b[43mresult\u001b[49m\u001b[43m:\u001b[49m\n\u001b[1;32m     15\u001b[0m \u001b[43m    \u001b[49m\u001b[43mcodes\u001b[49m\u001b[38;5;241;43m.\u001b[39;49m\u001b[43mappend\u001b[49m\u001b[43m(\u001b[49m\u001b[43mrecord\u001b[49m\u001b[43m[\u001b[49m\u001b[38;5;124;43m'\u001b[39;49m\u001b[38;5;124;43mdisease_name\u001b[39;49m\u001b[38;5;124;43m'\u001b[39;49m\u001b[43m]\u001b[49m\u001b[43m)\u001b[49m\n\u001b[1;32m     16\u001b[0m \u001b[43m    \u001b[49m\u001b[43mall_info\u001b[49m\u001b[43m[\u001b[49m\u001b[43mrecord\u001b[49m\u001b[43m[\u001b[49m\u001b[38;5;124;43m'\u001b[39;49m\u001b[38;5;124;43mdisease_name\u001b[39;49m\u001b[38;5;124;43m'\u001b[39;49m\u001b[43m]\u001b[49m\u001b[43m]\u001b[49m\u001b[43m \u001b[49m\u001b[38;5;241;43m=\u001b[39;49m\u001b[43m \u001b[49m\u001b[43m[\u001b[49m\u001b[43mrecord\u001b[49m\u001b[43m[\u001b[49m\u001b[38;5;124;43m'\u001b[39;49m\u001b[38;5;124;43mdisease_name\u001b[39;49m\u001b[38;5;124;43m'\u001b[39;49m\u001b[43m]\u001b[49m\u001b[43m,\u001b[49m\u001b[43m \u001b[49m\u001b[43mrecord\u001b[49m\u001b[43m[\u001b[49m\u001b[38;5;124;43m'\u001b[39;49m\u001b[38;5;124;43mmax_weight\u001b[39;49m\u001b[38;5;124;43m'\u001b[39;49m\u001b[43m]\u001b[49m\u001b[43m]\u001b[49m\n",
      "File \u001b[0;32m/Applications/anaconda3/envs/astro/lib/python3.12/site-packages/neo4j/_sync/work/result.py:378\u001b[0m, in \u001b[0;36mResult.__iter__\u001b[0;34m(self)\u001b[0m\n\u001b[1;32m    376\u001b[0m     \u001b[38;5;28;01myield\u001b[39;00m \u001b[38;5;28mself\u001b[39m\u001b[38;5;241m.\u001b[39m_record_buffer\u001b[38;5;241m.\u001b[39mpopleft()\n\u001b[1;32m    377\u001b[0m \u001b[38;5;28;01melif\u001b[39;00m \u001b[38;5;28mself\u001b[39m\u001b[38;5;241m.\u001b[39m_streaming:\n\u001b[0;32m--> 378\u001b[0m     \u001b[38;5;28;43mself\u001b[39;49m\u001b[38;5;241;43m.\u001b[39;49m\u001b[43m_connection\u001b[49m\u001b[38;5;241;43m.\u001b[39;49m\u001b[43mfetch_message\u001b[49m\u001b[43m(\u001b[49m\u001b[43m)\u001b[49m\n\u001b[1;32m    379\u001b[0m \u001b[38;5;28;01melif\u001b[39;00m \u001b[38;5;28mself\u001b[39m\u001b[38;5;241m.\u001b[39m_discarding:\n\u001b[1;32m    380\u001b[0m     \u001b[38;5;28mself\u001b[39m\u001b[38;5;241m.\u001b[39m_discard()\n",
      "File \u001b[0;32m/Applications/anaconda3/envs/astro/lib/python3.12/site-packages/neo4j/_sync/io/_common.py:178\u001b[0m, in \u001b[0;36mConnectionErrorHandler.__getattr__.<locals>.outer.<locals>.inner\u001b[0;34m(*args, **kwargs)\u001b[0m\n\u001b[1;32m    176\u001b[0m \u001b[38;5;28;01mdef\u001b[39;00m \u001b[38;5;21minner\u001b[39m(\u001b[38;5;241m*\u001b[39margs, \u001b[38;5;241m*\u001b[39m\u001b[38;5;241m*\u001b[39mkwargs):\n\u001b[1;32m    177\u001b[0m     \u001b[38;5;28;01mtry\u001b[39;00m:\n\u001b[0;32m--> 178\u001b[0m         \u001b[43mfunc\u001b[49m\u001b[43m(\u001b[49m\u001b[38;5;241;43m*\u001b[39;49m\u001b[43margs\u001b[49m\u001b[43m,\u001b[49m\u001b[43m \u001b[49m\u001b[38;5;241;43m*\u001b[39;49m\u001b[38;5;241;43m*\u001b[39;49m\u001b[43mkwargs\u001b[49m\u001b[43m)\u001b[49m\n\u001b[1;32m    179\u001b[0m     \u001b[38;5;28;01mexcept\u001b[39;00m (Neo4jError, ServiceUnavailable, SessionExpired) \u001b[38;5;28;01mas\u001b[39;00m exc:\n\u001b[1;32m    180\u001b[0m         \u001b[38;5;28;01massert\u001b[39;00m \u001b[38;5;129;01mnot\u001b[39;00m asyncio\u001b[38;5;241m.\u001b[39miscoroutinefunction(\u001b[38;5;28mself\u001b[39m\u001b[38;5;241m.\u001b[39m__on_error)\n",
      "File \u001b[0;32m/Applications/anaconda3/envs/astro/lib/python3.12/site-packages/neo4j/_sync/io/_bolt.py:852\u001b[0m, in \u001b[0;36mBolt.fetch_message\u001b[0;34m(self)\u001b[0m\n\u001b[1;32m    849\u001b[0m     \u001b[38;5;28;01mreturn\u001b[39;00m \u001b[38;5;241m0\u001b[39m, \u001b[38;5;241m0\u001b[39m\n\u001b[1;32m    851\u001b[0m \u001b[38;5;66;03m# Receive exactly one message\u001b[39;00m\n\u001b[0;32m--> 852\u001b[0m tag, fields \u001b[38;5;241m=\u001b[39m \u001b[38;5;28;43mself\u001b[39;49m\u001b[38;5;241;43m.\u001b[39;49m\u001b[43minbox\u001b[49m\u001b[38;5;241;43m.\u001b[39;49m\u001b[43mpop\u001b[49m\u001b[43m(\u001b[49m\n\u001b[1;32m    853\u001b[0m \u001b[43m    \u001b[49m\u001b[43mhydration_hooks\u001b[49m\u001b[38;5;241;43m=\u001b[39;49m\u001b[38;5;28;43mself\u001b[39;49m\u001b[38;5;241;43m.\u001b[39;49m\u001b[43mresponses\u001b[49m\u001b[43m[\u001b[49m\u001b[38;5;241;43m0\u001b[39;49m\u001b[43m]\u001b[49m\u001b[38;5;241;43m.\u001b[39;49m\u001b[43mhydration_hooks\u001b[49m\n\u001b[1;32m    854\u001b[0m \u001b[43m\u001b[49m\u001b[43m)\u001b[49m\n\u001b[1;32m    855\u001b[0m res \u001b[38;5;241m=\u001b[39m \u001b[38;5;28mself\u001b[39m\u001b[38;5;241m.\u001b[39m_process_message(tag, fields)\n\u001b[1;32m    856\u001b[0m \u001b[38;5;28mself\u001b[39m\u001b[38;5;241m.\u001b[39midle_since \u001b[38;5;241m=\u001b[39m monotonic()\n",
      "File \u001b[0;32m/Applications/anaconda3/envs/astro/lib/python3.12/site-packages/neo4j/_sync/io/_common.py:72\u001b[0m, in \u001b[0;36mInbox.pop\u001b[0;34m(self, hydration_hooks)\u001b[0m\n\u001b[1;32m     71\u001b[0m \u001b[38;5;28;01mdef\u001b[39;00m \u001b[38;5;21mpop\u001b[39m(\u001b[38;5;28mself\u001b[39m, hydration_hooks):\n\u001b[0;32m---> 72\u001b[0m     \u001b[38;5;28;43mself\u001b[39;49m\u001b[38;5;241;43m.\u001b[39;49m\u001b[43m_buffer_one_chunk\u001b[49m\u001b[43m(\u001b[49m\u001b[43m)\u001b[49m\n\u001b[1;32m     73\u001b[0m     \u001b[38;5;28;01mtry\u001b[39;00m:\n\u001b[1;32m     74\u001b[0m         size, tag \u001b[38;5;241m=\u001b[39m \u001b[38;5;28mself\u001b[39m\u001b[38;5;241m.\u001b[39m_unpacker\u001b[38;5;241m.\u001b[39munpack_structure_header()\n",
      "File \u001b[0;32m/Applications/anaconda3/envs/astro/lib/python3.12/site-packages/neo4j/_sync/io/_common.py:51\u001b[0m, in \u001b[0;36mInbox._buffer_one_chunk\u001b[0;34m(self)\u001b[0m\n\u001b[1;32m     48\u001b[0m \u001b[38;5;28;01mwhile\u001b[39;00m \u001b[38;5;28;01mTrue\u001b[39;00m:\n\u001b[1;32m     49\u001b[0m     \u001b[38;5;28;01mwhile\u001b[39;00m chunk_size \u001b[38;5;241m==\u001b[39m \u001b[38;5;241m0\u001b[39m:\n\u001b[1;32m     50\u001b[0m         \u001b[38;5;66;03m# Determine the chunk size and skip noop\u001b[39;00m\n\u001b[0;32m---> 51\u001b[0m         \u001b[43mreceive_into_buffer\u001b[49m\u001b[43m(\u001b[49m\u001b[38;5;28;43mself\u001b[39;49m\u001b[38;5;241;43m.\u001b[39;49m\u001b[43m_socket\u001b[49m\u001b[43m,\u001b[49m\u001b[43m \u001b[49m\u001b[38;5;28;43mself\u001b[39;49m\u001b[38;5;241;43m.\u001b[39;49m\u001b[43m_buffer\u001b[49m\u001b[43m,\u001b[49m\u001b[43m \u001b[49m\u001b[38;5;241;43m2\u001b[39;49m\u001b[43m)\u001b[49m\n\u001b[1;32m     52\u001b[0m         chunk_size \u001b[38;5;241m=\u001b[39m \u001b[38;5;28mself\u001b[39m\u001b[38;5;241m.\u001b[39m_buffer\u001b[38;5;241m.\u001b[39mpop_u16()\n\u001b[1;32m     53\u001b[0m         \u001b[38;5;28;01mif\u001b[39;00m chunk_size \u001b[38;5;241m==\u001b[39m \u001b[38;5;241m0\u001b[39m:\n",
      "File \u001b[0;32m/Applications/anaconda3/envs/astro/lib/python3.12/site-packages/neo4j/_sync/io/_common.py:326\u001b[0m, in \u001b[0;36mreceive_into_buffer\u001b[0;34m(sock, buffer, n_bytes)\u001b[0m\n\u001b[1;32m    324\u001b[0m \u001b[38;5;28;01mwith\u001b[39;00m \u001b[38;5;28mmemoryview\u001b[39m(buffer\u001b[38;5;241m.\u001b[39mdata) \u001b[38;5;28;01mas\u001b[39;00m view:\n\u001b[1;32m    325\u001b[0m     \u001b[38;5;28;01mwhile\u001b[39;00m buffer\u001b[38;5;241m.\u001b[39mused \u001b[38;5;241m<\u001b[39m end:\n\u001b[0;32m--> 326\u001b[0m         n \u001b[38;5;241m=\u001b[39m \u001b[43msock\u001b[49m\u001b[38;5;241;43m.\u001b[39;49m\u001b[43mrecv_into\u001b[49m\u001b[43m(\u001b[49m\u001b[43mview\u001b[49m\u001b[43m[\u001b[49m\u001b[43mbuffer\u001b[49m\u001b[38;5;241;43m.\u001b[39;49m\u001b[43mused\u001b[49m\u001b[43m:\u001b[49m\u001b[43mend\u001b[49m\u001b[43m]\u001b[49m\u001b[43m,\u001b[49m\u001b[43m \u001b[49m\u001b[43mend\u001b[49m\u001b[43m \u001b[49m\u001b[38;5;241;43m-\u001b[39;49m\u001b[43m \u001b[49m\u001b[43mbuffer\u001b[49m\u001b[38;5;241;43m.\u001b[39;49m\u001b[43mused\u001b[49m\u001b[43m)\u001b[49m\n\u001b[1;32m    327\u001b[0m         \u001b[38;5;28;01mif\u001b[39;00m n \u001b[38;5;241m==\u001b[39m \u001b[38;5;241m0\u001b[39m:\n\u001b[1;32m    328\u001b[0m             \u001b[38;5;28;01mraise\u001b[39;00m \u001b[38;5;167;01mOSError\u001b[39;00m(\u001b[38;5;124m\"\u001b[39m\u001b[38;5;124mNo data\u001b[39m\u001b[38;5;124m\"\u001b[39m)\n",
      "File \u001b[0;32m/Applications/anaconda3/envs/astro/lib/python3.12/site-packages/neo4j/_async_compat/network/_bolt_socket.py:493\u001b[0m, in \u001b[0;36mBoltSocket.recv_into\u001b[0;34m(self, buffer, nbytes)\u001b[0m\n\u001b[1;32m    492\u001b[0m \u001b[38;5;28;01mdef\u001b[39;00m \u001b[38;5;21mrecv_into\u001b[39m(\u001b[38;5;28mself\u001b[39m, buffer, nbytes):\n\u001b[0;32m--> 493\u001b[0m     \u001b[38;5;28;01mreturn\u001b[39;00m \u001b[38;5;28;43mself\u001b[39;49m\u001b[38;5;241;43m.\u001b[39;49m\u001b[43m_wait_for_io\u001b[49m\u001b[43m(\u001b[49m\u001b[38;5;28;43mself\u001b[39;49m\u001b[38;5;241;43m.\u001b[39;49m\u001b[43m_socket\u001b[49m\u001b[38;5;241;43m.\u001b[39;49m\u001b[43mrecv_into\u001b[49m\u001b[43m,\u001b[49m\u001b[43m \u001b[49m\u001b[43mbuffer\u001b[49m\u001b[43m,\u001b[49m\u001b[43m \u001b[49m\u001b[43mnbytes\u001b[49m\u001b[43m)\u001b[49m\n",
      "File \u001b[0;32m/Applications/anaconda3/envs/astro/lib/python3.12/site-packages/neo4j/_async_compat/network/_bolt_socket.py:468\u001b[0m, in \u001b[0;36mBoltSocket._wait_for_io\u001b[0;34m(self, func, *args, **kwargs)\u001b[0m\n\u001b[1;32m    466\u001b[0m \u001b[38;5;28;01mdef\u001b[39;00m \u001b[38;5;21m_wait_for_io\u001b[39m(\u001b[38;5;28mself\u001b[39m, func, \u001b[38;5;241m*\u001b[39margs, \u001b[38;5;241m*\u001b[39m\u001b[38;5;241m*\u001b[39mkwargs):\n\u001b[1;32m    467\u001b[0m     \u001b[38;5;28;01mif\u001b[39;00m \u001b[38;5;28mself\u001b[39m\u001b[38;5;241m.\u001b[39m_deadline \u001b[38;5;129;01mis\u001b[39;00m \u001b[38;5;28;01mNone\u001b[39;00m:\n\u001b[0;32m--> 468\u001b[0m         \u001b[38;5;28;01mreturn\u001b[39;00m \u001b[43mfunc\u001b[49m\u001b[43m(\u001b[49m\u001b[38;5;241;43m*\u001b[39;49m\u001b[43margs\u001b[49m\u001b[43m,\u001b[49m\u001b[43m \u001b[49m\u001b[38;5;241;43m*\u001b[39;49m\u001b[38;5;241;43m*\u001b[39;49m\u001b[43mkwargs\u001b[49m\u001b[43m)\u001b[49m\n\u001b[1;32m    469\u001b[0m     timeout \u001b[38;5;241m=\u001b[39m \u001b[38;5;28mself\u001b[39m\u001b[38;5;241m.\u001b[39m_socket\u001b[38;5;241m.\u001b[39mgettimeout()\n\u001b[1;32m    470\u001b[0m     deadline_timeout \u001b[38;5;241m=\u001b[39m \u001b[38;5;28mself\u001b[39m\u001b[38;5;241m.\u001b[39m_deadline\u001b[38;5;241m.\u001b[39mto_timeout()\n",
      "\u001b[0;31mKeyboardInterrupt\u001b[0m: "
     ]
    }
   ],
   "source": [
    "import optuna\n",
    "from sklearn.metrics import f1_score, precision_score, recall_score, roc_auc_score\n",
    "from tqdm import tqdm\n",
    "\n",
    "def objective(trial):\n",
    "    weight = trial.suggest_int('weight', 1, 10)\n",
    "    limit_kg = trial.suggest_int('limit_kg', 1, 15)\n",
    "    limit_pub = trial.suggest_int('limit_pub', 1, 15)\n",
    "    expansion_limit = trial.suggest_int('expansion_limit', 1, 10)\n",
    "\n",
    "    true_labels = []\n",
    "    predicted_labels = []\n",
    "\n",
    "    for i, j in tqdm(redef_three_sym.iterrows()):\n",
    "        true_label = j.Category.split(',')\n",
    "        true_labels.append(list(set(true_label)))\n",
    "        expanded_query =  search_symptoms(j.Symptoms[2:-2].split(\"', '\"), expansion_limit=expansion_limit)\n",
    "        pred_labels_kg = get_prioritized_relationships(expanded_query, weightage=weight, limit=limit_kg)[0]\n",
    "        pred_labels_pubmed = get_prioritized_relationships(expanded_query, weightage=weight, limit=limit_pub)[0]\n",
    "        pred_labels = list(set(pred_labels_kg + pred_labels_pubmed))\n",
    "        predicted_labels.append(pred_labels)\n",
    "\n",
    "    classes = ['32-35','79','96-99','52-57','74-75','V20-V29','V60-V69','76-77','21-23','V50-V59','36-38','28','00-10','V01-V09','V40-V49','46-51','80-83','E00-E09','V30-V39','11-13','58-62','24-27','V85-V85','V87-V87','68-70','39-45','78','V83-V84','63-66','14-20','67','V88-V88','V10-V19','V70-V82','84-95','29-31','V90-V90','71-73']\n",
    "\n",
    "    true_binary_matrix = create_binary_matrix(true_labels, classes)\n",
    "    predicted_binary_matrix = create_binary_matrix(predicted_labels, classes)\n",
    "\n",
    "    f1 = f1_score(true_binary_matrix, predicted_binary_matrix, average='micro', zero_division=0)\n",
    "\n",
    "    return f1\n",
    "\n",
    "\n",
    "study = optuna.create_study(direction='maximize')\n",
    "study.optimize(objective, n_trials=1000)\n",
    "\n",
    "print(\"Best Parameters:\", study.best_params)\n",
    "print(\"Best F1 Score:\", study.best_value)\n"
   ]
  },
  {
   "cell_type": "code",
   "execution_count": null,
   "metadata": {},
   "outputs": [],
   "source": [
    "weight_range = range(1,5)\n",
    "limit_kg = range(10,15)\n",
    "limit_pub = range(5,15)\n",
    "expansion_limit = range(5,20)"
   ]
  },
  {
   "cell_type": "code",
   "execution_count": 81,
   "metadata": {},
   "outputs": [
    {
     "name": "stderr",
     "output_type": "stream",
     "text": [
      "100it [00:08, 12.48it/s]"
     ]
    },
    {
     "name": "stdout",
     "output_type": "stream",
     "text": [
      "Number of rows : 100\n",
      "Macro Averaged AUROC Score: 0.5154808582464904\n",
      "Micro Averaged Precision: 0.2638100154878678\n",
      "Micro Averaged Recall: 0.9393382352941176\n",
      "Micro Averaged F1-Score: 0.41193067311567916\n",
      "Macro Averaged Precision: 0.14489542402621045\n",
      "Macro Averaged Recall: 0.5284636725130893\n",
      "Macro Averaged F1-Score: 0.2102061330839318\n"
     ]
    },
    {
     "name": "stderr",
     "output_type": "stream",
     "text": [
      "\n"
     ]
    }
   ],
   "source": [
    "only_kg(two_sym)"
   ]
  },
  {
   "cell_type": "code",
   "execution_count": 82,
   "metadata": {},
   "outputs": [
    {
     "name": "stderr",
     "output_type": "stream",
     "text": [
      "100it [00:09, 10.47it/s]"
     ]
    },
    {
     "name": "stdout",
     "output_type": "stream",
     "text": [
      "Number of rows : 100\n",
      "Macro Averaged AUROC Score: 0.5208514441264436\n",
      "Micro Averaged Precision: 0.2825413223140496\n",
      "Micro Averaged Recall: 0.9366438356164384\n",
      "Micro Averaged F1-Score: 0.43412698412698414\n",
      "Macro Averaged Precision: 0.17709513005222785\n",
      "Macro Averaged Recall: 0.5372208931419457\n",
      "Macro Averaged F1-Score: 0.24571572508421505\n"
     ]
    },
    {
     "name": "stderr",
     "output_type": "stream",
     "text": [
      "\n"
     ]
    }
   ],
   "source": [
    "only_kg(three_sym)"
   ]
  },
  {
   "cell_type": "code",
   "execution_count": 83,
   "metadata": {},
   "outputs": [
    {
     "name": "stderr",
     "output_type": "stream",
     "text": [
      "100it [00:12,  8.02it/s]"
     ]
    },
    {
     "name": "stdout",
     "output_type": "stream",
     "text": [
      "Number of rows : 100\n",
      "Macro Averaged AUROC Score: 0.5309378995502019\n",
      "Micro Averaged Precision: 0.32852729145211124\n",
      "Micro Averaged Recall: 0.9423929098966026\n",
      "Micro Averaged F1-Score: 0.48720885834287897\n",
      "Macro Averaged Precision: 0.2124467769880395\n",
      "Macro Averaged Recall: 0.5562769496980023\n",
      "Macro Averaged F1-Score: 0.28380086742830485\n"
     ]
    },
    {
     "name": "stderr",
     "output_type": "stream",
     "text": [
      "\n"
     ]
    }
   ],
   "source": [
    "only_kg(gt3_sym)"
   ]
  },
  {
   "cell_type": "markdown",
   "metadata": {},
   "source": [
    "### PubMED KG\n"
   ]
  },
  {
   "cell_type": "code",
   "execution_count": 69,
   "metadata": {},
   "outputs": [],
   "source": []
  },
  {
   "cell_type": "code",
   "execution_count": 70,
   "metadata": {},
   "outputs": [],
   "source": [
    "import os\n",
    "from py2neo import Graph\n",
    "from mistralai.client import MistralClient\n",
    "from mistralai.models.chat_completion import ChatMessage\n",
    "from neo4j import GraphDatabase\n",
    "from dotenv import load_dotenv\n",
    "import json\n",
    "\n",
    "\n",
    "driver = GraphDatabase.driver(uri, auth=auth) \n",
    "driver.verify_connectivity()\n",
    "\n",
    "with open('mapped_terms_icd9.json', 'r') as file:\n",
    "    data = file.read()  # Read the content of the file\n",
    "\n",
    "# Parse the JSON data\n",
    "parsed_data = json.loads(data)\n",
    "\n",
    "result = {}\n",
    "\n",
    "for key, values in parsed_data.items():\n",
    "    filtered_diseases = {}\n",
    "    for value in values:\n",
    "        disease_info = value['disease'].split(' - ')\n",
    "        disease_code = disease_info[0].strip()\n",
    "        disease_desc = disease_info[1].strip()\n",
    "        euclidean_distance = float(disease_info[2].strip())\n",
    "        \n",
    "        if disease_code not in filtered_diseases or filtered_diseases[disease_code]['euclidean_distance'] > euclidean_distance:\n",
    "            filtered_diseases[disease_code] = {\n",
    "                'disease_code': disease_code,\n",
    "                'disease_desc': disease_desc,\n",
    "                'euclidean_distance': euclidean_distance,\n",
    "                'pos_weight': value['pos_weight']\n",
    "            }\n",
    "    \n",
    "    result[key] = list(filtered_diseases.values())\n",
    "\n",
    "with open('output_pubmed.json', 'w') as f:\n",
    "    json.dump(result, f, indent=4)"
   ]
  },
  {
   "cell_type": "code",
   "execution_count": 71,
   "metadata": {},
   "outputs": [],
   "source": [
    "def delete_all_data():\n",
    "    with driver.session() as session:\n",
    "        session.run(\"MATCH (n) DETACH DELETE n\")\n",
    "        print(\"All data has been deleted.\")\n",
    "\n",
    "# delete_all_data()"
   ]
  },
  {
   "cell_type": "code",
   "execution_count": 72,
   "metadata": {},
   "outputs": [],
   "source": [
    "for i,j in result.items():\n",
    "    for k in j : \n",
    "        if  k['disease_code'].startswith(\"V\") : \n",
    "            k['disease_code'] = k['disease_code'][:3]\n",
    "        elif k['disease_code'].startswith(\"E\") : \n",
    "            k['disease_code'] = k['disease_code'][:3]\n",
    "        else :  k['disease_code'] =  k['disease_code'][:2]\n"
   ]
  },
  {
   "cell_type": "code",
   "execution_count": 73,
   "metadata": {},
   "outputs": [],
   "source": []
  },
  {
   "cell_type": "code",
   "execution_count": 78,
   "metadata": {},
   "outputs": [
    {
     "data": {
      "text/html": [
       "<div>\n",
       "<style scoped>\n",
       "    .dataframe tbody tr th:only-of-type {\n",
       "        vertical-align: middle;\n",
       "    }\n",
       "\n",
       "    .dataframe tbody tr th {\n",
       "        vertical-align: top;\n",
       "    }\n",
       "\n",
       "    .dataframe thead th {\n",
       "        text-align: right;\n",
       "    }\n",
       "</style>\n",
       "<table border=\"1\" class=\"dataframe\">\n",
       "  <thead>\n",
       "    <tr style=\"text-align: right;\">\n",
       "      <th></th>\n",
       "      <th>index</th>\n",
       "      <th>Category</th>\n",
       "      <th>Symptoms</th>\n",
       "    </tr>\n",
       "  </thead>\n",
       "  <tbody>\n",
       "    <tr>\n",
       "      <th>0</th>\n",
       "      <td>0</td>\n",
       "      <td>39-45,96-99,39-45,39-45,39-45,24-27</td>\n",
       "      <td>[exertional chest pain]</td>\n",
       "    </tr>\n",
       "    <tr>\n",
       "      <th>1</th>\n",
       "      <td>1</td>\n",
       "      <td>80-83,46-51,96-99,46-51,29-31,24-27,nan,84-95,...</td>\n",
       "      <td>[neck pain]</td>\n",
       "    </tr>\n",
       "    <tr>\n",
       "      <th>2</th>\n",
       "      <td>2</td>\n",
       "      <td>14-20,96-99,V60-V69,39-45,24-27,24-27,39-45,39...</td>\n",
       "      <td>[rectal cancer]</td>\n",
       "    </tr>\n",
       "    <tr>\n",
       "      <th>3</th>\n",
       "      <td>3</td>\n",
       "      <td>39-45,39-45,39-45,52-57,58-62,39-45,78,28,32-3...</td>\n",
       "      <td>[chest pain radiating to back]</td>\n",
       "    </tr>\n",
       "    <tr>\n",
       "      <th>4</th>\n",
       "      <td>4</td>\n",
       "      <td>39-45,39-45,39-45,24-27,39-45,V40-V49,V10-V19</td>\n",
       "      <td>[chest pain]</td>\n",
       "    </tr>\n",
       "  </tbody>\n",
       "</table>\n",
       "</div>"
      ],
      "text/plain": [
       "   index                                           Category  \\\n",
       "0      0                39-45,96-99,39-45,39-45,39-45,24-27   \n",
       "1      1  80-83,46-51,96-99,46-51,29-31,24-27,nan,84-95,...   \n",
       "2      2  14-20,96-99,V60-V69,39-45,24-27,24-27,39-45,39...   \n",
       "3      3  39-45,39-45,39-45,52-57,58-62,39-45,78,28,32-3...   \n",
       "4      4      39-45,39-45,39-45,24-27,39-45,V40-V49,V10-V19   \n",
       "\n",
       "                         Symptoms  \n",
       "0         [exertional chest pain]  \n",
       "1                     [neck pain]  \n",
       "2                 [rectal cancer]  \n",
       "3  [chest pain radiating to back]  \n",
       "4                    [chest pain]  "
      ]
     },
     "execution_count": 78,
     "metadata": {},
     "output_type": "execute_result"
    }
   ],
   "source": [
    "one_sym.head()"
   ]
  },
  {
   "cell_type": "markdown",
   "metadata": {},
   "source": [
    "### Single Symptom"
   ]
  },
  {
   "cell_type": "code",
   "execution_count": 79,
   "metadata": {},
   "outputs": [
    {
     "name": "stderr",
     "output_type": "stream",
     "text": [
      "100it [00:00, 136.46it/s]"
     ]
    },
    {
     "name": "stdout",
     "output_type": "stream",
     "text": [
      "Number of rows : 100\n",
      "Macro Averaged AUROC Score: 0.5018102785646645\n",
      "Micro Averaged Precision: 0.5\n",
      "Micro Averaged Recall: 0.004310344827586207\n",
      "Micro Averaged F1-Score: 0.008547008547008548\n",
      "Macro Averaged Precision: 0.039473684210526314\n",
      "Macro Averaged Recall: 0.003205128205128205\n",
      "Macro Averaged F1-Score: 0.005928282244071718\n"
     ]
    },
    {
     "name": "stderr",
     "output_type": "stream",
     "text": [
      "\n"
     ]
    }
   ],
   "source": [
    "from tqdm import tqdm\n",
    "\n",
    "\n",
    "def only_kg_pubmed(df) : \n",
    "\n",
    "        classes = ['32-35','79','96-99','52-57','74-75','V20-V29','V60-V69','76-77','21-23','V50-V59','36-38','28','00-10','V01-V09','V40-V49','46-51','80-83','E00-E09','V30-V39','11-13','58-62','24-27','V85-V85','V87-V87','68-70','39-45','78','V83-V84','63-66','14-20','67','V88-V88','V10-V19','V70-V82','84-95','29-31','V90-V90','71-73']\n",
    "        true_labels = []\n",
    "        predicted_labels = []\n",
    "\n",
    "        for i,j in tqdm(df.iterrows()): \n",
    "                    true_label = j.Category.split(',')\n",
    "                    true_labels.append(list(set(true_label)))\n",
    "                    expanded_query =  search_symptoms(list(j.Symptoms))\n",
    "                    pred_labels = get_prioritized_relationships_pubmed(expanded_query,weightage=1,limit= 20 )[0]\n",
    "                    predicted_labels.append(pred_labels)\n",
    "\n",
    "        print(f\"Number of rows : {len(true_labels)}\")\n",
    "\n",
    "        true_binary_matrix = create_binary_matrix(true_labels, classes)\n",
    "        predicted_binary_matrix = create_binary_matrix(predicted_labels, classes)\n",
    "\n",
    "        auroc_score = roc_auc(predicted_binary_matrix, true_binary_matrix, multilabel=True)\n",
    "        print(f\"Macro Averaged AUROC Score: {auroc_score}\")\n",
    "\n",
    "        precision = precision_score(true_binary_matrix, predicted_binary_matrix, average='micro', zero_division=0)\n",
    "        recall = recall_score(true_binary_matrix, predicted_binary_matrix, average='micro', zero_division=0)\n",
    "        f1 = f1_score(true_binary_matrix, predicted_binary_matrix, average='micro', zero_division=0)\n",
    "\n",
    "        precision_m = precision_score(true_binary_matrix, predicted_binary_matrix, average='macro', zero_division=0)\n",
    "        recall_m = recall_score(true_binary_matrix, predicted_binary_matrix, average='macro', zero_division=0)\n",
    "        f1_m = f1_score(true_binary_matrix, predicted_binary_matrix, average='macro', zero_division=0)\n",
    "\n",
    "\n",
    "        print(f\"Micro Averaged Precision: {precision}\")\n",
    "        print(f\"Micro Averaged Recall: {recall}\")\n",
    "        print(f\"Micro Averaged F1-Score: {f1}\")\n",
    "\n",
    "        print(f\"Macro Averaged Precision: {precision_m}\")\n",
    "        print(f\"Macro Averaged Recall: {recall_m}\")\n",
    "        print(f\"Macro Averaged F1-Score: {f1_m}\")\n",
    "\n",
    "only_kg_pubmed(one_sym)"
   ]
  },
  {
   "cell_type": "code",
   "execution_count": 75,
   "metadata": {},
   "outputs": [
    {
     "name": "stderr",
     "output_type": "stream",
     "text": [
      "100it [00:03, 27.44it/s]"
     ]
    },
    {
     "name": "stdout",
     "output_type": "stream",
     "text": [
      "Number of rows : 100\n",
      "Macro Averaged AUROC Score: 0.5001813436791932\n",
      "Micro Averaged Precision: 0.2\n",
      "Micro Averaged Recall: 0.001838235294117647\n",
      "Micro Averaged F1-Score: 0.0036429872495446266\n",
      "Macro Averaged Precision: 0.008771929824561403\n",
      "Macro Averaged Recall: 0.001547987616099071\n",
      "Macro Averaged F1-Score: 0.002631578947368421\n"
     ]
    },
    {
     "name": "stderr",
     "output_type": "stream",
     "text": [
      "\n"
     ]
    }
   ],
   "source": [
    "only_kg_pubmed(two_sym)"
   ]
  },
  {
   "cell_type": "code",
   "execution_count": 76,
   "metadata": {},
   "outputs": [
    {
     "name": "stderr",
     "output_type": "stream",
     "text": [
      "100it [00:03, 26.55it/s]"
     ]
    },
    {
     "name": "stdout",
     "output_type": "stream",
     "text": [
      "Number of rows : 100\n",
      "Macro Averaged AUROC Score: 0.5000369713102633\n",
      "Micro Averaged Precision: 0.2857142857142857\n",
      "Micro Averaged Recall: 0.003424657534246575\n",
      "Micro Averaged F1-Score: 0.00676818950930626\n",
      "Macro Averaged Precision: 0.010526315789473684\n",
      "Macro Averaged Recall: 0.0017543859649122807\n",
      "Macro Averaged F1-Score: 0.003007518796992481\n"
     ]
    },
    {
     "name": "stderr",
     "output_type": "stream",
     "text": [
      "\n"
     ]
    }
   ],
   "source": [
    "only_kg_pubmed(three_sym)"
   ]
  },
  {
   "cell_type": "code",
   "execution_count": 77,
   "metadata": {},
   "outputs": [
    {
     "name": "stderr",
     "output_type": "stream",
     "text": [
      "100it [00:09, 10.17it/s]"
     ]
    },
    {
     "name": "stdout",
     "output_type": "stream",
     "text": [
      "Number of rows : 100\n",
      "Macro Averaged AUROC Score: 0.49922711058263974\n",
      "Micro Averaged Precision: 0.2\n",
      "Micro Averaged Recall: 0.0029542097488921715\n",
      "Micro Averaged F1-Score: 0.005822416302765648\n",
      "Macro Averaged Precision: 0.005847953216374269\n",
      "Macro Averaged Recall: 0.0017543859649122807\n",
      "Macro Averaged F1-Score: 0.002699055330634278\n"
     ]
    },
    {
     "name": "stderr",
     "output_type": "stream",
     "text": [
      "\n"
     ]
    }
   ],
   "source": [
    "only_kg_pubmed(gt3_sym)"
   ]
  },
  {
   "cell_type": "code",
   "execution_count": null,
   "metadata": {},
   "outputs": [],
   "source": []
  },
  {
   "cell_type": "markdown",
   "metadata": {},
   "source": [
    "### MIMIC KG (RAG)"
   ]
  },
  {
   "cell_type": "code",
   "execution_count": 1016,
   "metadata": {},
   "outputs": [],
   "source": [
    "from groq import Groq"
   ]
  },
  {
   "cell_type": "code",
   "execution_count": 1139,
   "metadata": {},
   "outputs": [],
   "source": [
    "\n",
    "def aug_and_gen(codes, symptom, model ='mistral', method = 'rag') : \n",
    "\n",
    "    prompt_start = f\"\"\"You are an AI medical assistant tasked with identifying the top most relevant ICD-9 code categories (e.g.'11-13','14-20','21-23','24-27',etc) for a given symptom, based on a provided list of code categories and category name\n",
    "Symptoms: {symptom}\"\"\"\n",
    "    kg_prompt = \"\"\"\n",
    "Task:\n",
    "Output only a Python list of relevant ICD-9 code categories.\n",
    "\n",
    "Format:\n",
    "['XX-XX', 'XX-XX', 'XX-XX', 'XX-XX', 'XX-XX', 'XX-XX', 'XX-XX', 'XX-XX']\n",
    "\n",
    "Important:\n",
    "Don't consider the code to be included in JSON if it doesn't relate to the symptoms provided.\n",
    "\n",
    "Rules:\n",
    "1. Use only code categories in the format 'XX-XX' or 'XX' (e.g., '39-45', '78').\n",
    "2. Include only most relevant categories from the provided outputs for the symptoms.\n",
    "3. Output only the list, nothing else.\n",
    "4. Do not include any explanations, comments, or additional text before or after the list.\n",
    "5. Use single quotes for each category.\n",
    "6. Separate categories with commas and spaces.\n",
    "7. The entire list must be on a single line.\n",
    "8. Do not mention the symptom in your output.\n",
    "9. Do not describe or explain the categories.\n",
    "10. Do not mention the number of categories or rows.\n",
    "11. Make sure the chosen categories are one of them : ['28', '71-73', 'V88-V88', '68-70', 'V20-V29', '39-45', 'V90-V90', '21-23', 'V60-V69', 'V10-V19', '24-27', '80-83', '78', '52-57', '36-38', '58-62', '74-75', '67', '76-77', '63-66', '11-13', 'V87-V87', '46-51', '79', 'V70-V82', '32-35', 'E00-E09', 'V40-V49', 'V85-V85', '14-20', '29-31', '00-10', 'V01-V09', 'V50-V59', 'V83-V84', '84-95', '96-99', 'V30-V39']\n",
    "\n",
    "Relevant Outputs (list only):\"\"\"\n",
    "    \n",
    "    only_llm_prompt_start = f\"\"\"You are an AI medical assistant tasked with identifying the top most relevant ICD-9 code categories (e.g.'11-13','14-20','21-23','24-27',etc) for a given symptom, based on a provided list of code categories and category name\n",
    "Symptoms: {symptom}\"\"\"\n",
    "    only_llm_prompt = \"\"\"\n",
    "Given these code categories and their meanings below in a list of tuples, in which of these categories do you think the above symptoms of a patient lie in: \n",
    ">>> (Categories, Meanings) : [('14-20', 'Malignant neoplasms'), ('V30-V39', 'Liveborn Infants According To Type Of Birth'), ('V88-V88', 'Acquired Absence Of Other Organs And Tissue'), ('V40-V49', 'Persons With A Condition Influencing Their Health Status'), ('29-31', 'Mental disorders'), ('78', 'Symptoms'), ('67', 'Complications Of puerperium'), ('46-51', 'Diseases Of The Respiratory System'), ('96-99', 'Poisoning'), ('71-73', 'Diseases Of The Musculoskeletal System And Connective Tissue'), ('V85-V85', 'Body Mass Index'), ('21-23', 'Benign neoplasms'), ('58-62', 'Diseases Of The Genitourinary System'), ('76-77', 'Certain Conditions Originating In The Perinatal Period'), ('32-35', 'Disorders of central nervous system'), ('63-66', 'Complications Of Pregnancy and Childbirth'), ('V50-V59', 'Persons Encountering Health Services For Specific Procedures And Aftercare'), ('68-70', 'Diseases Of The Skin And Subcutaneous Tissue'), ('39-45', 'Diseases Of The Circulatory System'), ('80-83', 'Fracture'), ('V10-V19', 'Persons With Potential Health Hazards Related To Personal And Family History'), ('V60-V69', 'Persons Encountering Health Services In Other Circumstances'), ('V91-V91', 'Multiple Gestation Placenta Status'), ('74-75', 'Congenital anomalies'), ('52-57', 'Diseases Of The Digestive System'), ('V90-V90', 'Retained Foreign Body'), ('36-38', 'Organ diseases'), ('28', 'Diseases of blood'), ('V89-V89', 'Other Suspected Conditions Not Found'), ('11-13', 'Parasitic diseases'), ('79', 'Findings and conditions'), ('24-27', 'Endocrine nutritional and metabolic diseases and immunity disorders'), ('V20-V29', 'Persons Encountering Health Services In Circumstances Related To Reproduction And Development'), ('V86-V86', 'Estrogen Receptor Status'), ('E00-E09', 'Supplementary Classification Of External Causes Of Injury And Poisoning'), ('00-10', 'Infectious disease'), ('V70-V82', 'Persons Without Reported Diagnosis Encountered During Examination And Investigation Of Individuals And Populations'), ('V87-V87', 'Other Specified Personal Exposures And History Presenting Hazards To Health'), ('V83-V84', 'Genetics'), ('84-95', 'Injury'), ('V01-V09', 'Persons With Potential Health Hazards Related To Communicable Diseases')]\n",
    "\n",
    "Task:\n",
    "Output only a Python list of relevant ICD-9 code categories.\n",
    "\n",
    "Format:\n",
    "['XX-XX', 'XX-XX', 'XX-XX', 'XX-XX', 'XX-XX', 'XX-XX', 'XX-XX', 'XX-XX']\n",
    "\n",
    "Important:\n",
    "Don't consider the code to be included in JSON if it doesn't relate to the symptoms provided.\n",
    "\n",
    "Rules:\n",
    "1. Use only code categories in the format 'XX-XX' or 'XX' (e.g., '39-45', '78').\n",
    "2. Include only most relevant categories .\n",
    "3. Output only the list, nothing else.\n",
    "4. Do not include any explanations, comments, or additional text before or after the list.\n",
    "5. Use single quotes for each category.\n",
    "6. Separate categories with commas and spaces.\n",
    "7. The entire list must be on a single line.\n",
    "8. Do not mention the symptom in your output.\n",
    "9. Do not describe or explain the categories.\n",
    "10. Do not mention the number of categories or rows.\n",
    "11. Make sure the chosen categories are one of them : ['28', '71-73', 'V88-V88', '68-70', 'V20-V29', '39-45', 'V90-V90', '21-23', 'V60-V69', 'V10-V19', '24-27', '80-83', '78', '52-57', '36-38', '58-62', '74-75', '67', '76-77', '63-66', '11-13', 'V87-V87', '46-51', '79', 'V70-V82', '32-35', 'E00-E09', 'V40-V49', 'V85-V85', '14-20', '29-31', '00-10', 'V01-V09', 'V50-V59', 'V83-V84', '84-95', '96-99', 'V30-V39']\n",
    "\n",
    "Relevant Outputs (list only):\n",
    "\"\"\"\n",
    "\n",
    "    if model == 'mistral' : \n",
    "        model= \"open-mistral-nemo-2407\" \n",
    "        MISTRAL_API_KEY =  \"WRhxY4qx7jsun5iYThrdS3Dk4dubsjnV\"\n",
    "        client = MistralClient(api_key=MISTRAL_API_KEY)\n",
    "\n",
    "        if method == 'rag' : \n",
    "\n",
    "            prompt_template = prompt_start + kg_prompt + str(codes)\n",
    "\n",
    "            chat_response = client.chat(\n",
    "                model=model,\n",
    "                max_tokens=200,\n",
    "                temperature = 0.1,\n",
    "                messages=[ChatMessage(role=\"user\", content=prompt_template)])\n",
    "            \n",
    "            response = chat_response.choices[0].message.content\n",
    "\n",
    "        if method == 'llm' : \n",
    "\n",
    "            prompt_template = only_llm_prompt_start + only_llm_prompt\n",
    "\n",
    "            chat_response = client.chat(\n",
    "                model=model,\n",
    "                max_tokens=200,\n",
    "                temperature = 0.1,\n",
    "                messages=[ChatMessage(role=\"user\", content=prompt_template)])\n",
    "            \n",
    "            response = chat_response.choices[0].message.content\n",
    "        \n",
    "    elif model == 'groq' : \n",
    "        #\"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\"\n",
    "        # backup=\n",
    "        client = Groq(\n",
    "        api_key=\"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\",\n",
    "    )\n",
    "        if method == 'rag' : \n",
    "            prompt_template = prompt_start + kg_prompt + str(codes)\n",
    "            chat_completion = client.chat.completions.create(\n",
    "            messages=[\n",
    "                {\n",
    "                    \"role\": \"user\",\n",
    "                    \"content\": f\"{prompt_template}\",\n",
    "                }\n",
    "            ],\n",
    "            model=\"llama-3.1-70b-versatile\",\n",
    "        )\n",
    "\n",
    "            response = chat_completion.choices[0].message.content\n",
    "\n",
    "        if method == 'llm' : \n",
    "            prompt_template = only_llm_prompt_start + only_llm_prompt\n",
    "            chat_completion = client.chat.completions.create(\n",
    "            messages=[\n",
    "                {\n",
    "                    \"role\": \"user\",\n",
    "                    \"content\": f\"{prompt_template}\",\n",
    "                }\n",
    "            ],\n",
    "            model=\"llama-3.1-70b-versatile\",\n",
    "        )\n",
    "\n",
    "            response = chat_completion.choices[0].message.content\n",
    "\n",
    "\n",
    "\n",
    "    return response\n",
    "\n",
    "def codes_n_desc(list_codes, results) : \n",
    "    \n",
    "    try : \n",
    "        five_codes = list_codes[2:-2].split(\"', '\")\n",
    "    except KeyError as s: \n",
    "        five_codes = list_codes[2:-2].split(\", \")\n",
    "    except : \n",
    "        \n",
    "        five_codes = list_codes[2:-2].split('\", \"')\n",
    "    \n",
    "    return [(i,results.get(i)) for i in five_codes]"
   ]
  },
  {
   "cell_type": "code",
   "execution_count": 1148,
   "metadata": {},
   "outputs": [
    {
     "data": {
      "text/plain": [
       "[('V40-V49', 'Persons With A Condition Influencing Their Health Status'),\n",
       " ('78', 'Symptoms'),\n",
       " ('46-51', 'Diseases Of The Respiratory System'),\n",
       " ('96-99', 'Poisoning'),\n",
       " ('71-73', 'Diseases Of The Musculoskeletal System And Connective Tissue'),\n",
       " ('58-62', 'Diseases Of The Genitourinary System'),\n",
       " ('32-35', 'Disorders of central nervous system'),\n",
       " ('V50-V59',\n",
       "  'Persons Encountering Health Services For Specific Procedures And Aftercare'),\n",
       " ('68-70', 'Diseases Of The Skin And Subcutaneous Tissue'),\n",
       " ('39-45', 'Diseases Of The Circulatory System'),\n",
       " ('V60-V69', 'Persons Encountering Health Services In Other Circumstances'),\n",
       " ('V10-V19',\n",
       "  'Persons With Potential Health Hazards Related To Personal And Family History'),\n",
       " ('74-75', 'Congenital anomalies'),\n",
       " ('52-57', 'Diseases Of The Digestive System'),\n",
       " ('28', 'Diseases of blood'),\n",
       " ('79', 'Findings and conditions'),\n",
       " ('24-27',\n",
       "  'Endocrine nutritional and metabolic diseases and immunity disorders'),\n",
       " ('00-10', 'Infectious disease'),\n",
       " ('V70-V82',\n",
       "  'Persons Without Reported Diagnosis Encountered During Examination And Investigation Of Individuals And Populations'),\n",
       " ('V01-V09',\n",
       "  'Persons With Potential Health Hazards Related To Communicable Diseases')]"
      ]
     },
     "execution_count": 1148,
     "metadata": {},
     "output_type": "execute_result"
    }
   ],
   "source": [
    "filtered_df = disease_df[disease_df.Code.isin(['39-45', '24-27', '96-99', '28', '52-57', '78', 'V50-V59', '58-62', '79', 'V10-V19', '74-75', '32-35', 'V40-V49', '68-70', 'V60-V69', '71-73', '00-10', '46-51', 'V01-V09', 'V70-V82'])][['Code', 'Description']].reset_index(drop = True)\n",
    "code_desc_tuples = list(set(filtered_df.itertuples(index=False, name=None)))\n",
    "code_desc_tuples"
   ]
  },
  {
   "cell_type": "code",
   "execution_count": 1149,
   "metadata": {},
   "outputs": [
    {
     "name": "stderr",
     "output_type": "stream",
     "text": [
      "2it [00:03,  1.97s/it]"
     ]
    },
    {
     "name": "stdout",
     "output_type": "stream",
     "text": [
      "['39-45']\n"
     ]
    },
    {
     "name": "stderr",
     "output_type": "stream",
     "text": [
      "62it [00:04, 17.40it/s]"
     ]
    },
    {
     "name": "stdout",
     "output_type": "stream",
     "text": [
      "['39-45', '46-51', '78']\n"
     ]
    },
    {
     "name": "stderr",
     "output_type": "stream",
     "text": [
      "71it [00:05, 15.10it/s]"
     ]
    },
    {
     "name": "stdout",
     "output_type": "stream",
     "text": [
      "['14-20', '21-23', '71-73', '78']\n"
     ]
    },
    {
     "name": "stderr",
     "output_type": "stream",
     "text": [
      "81it [00:06, 14.16it/s]"
     ]
    },
    {
     "name": "stdout",
     "output_type": "stream",
     "text": [
      "['78', '39-45', '79', '96-99']\n"
     ]
    },
    {
     "name": "stderr",
     "output_type": "stream",
     "text": [
      "152it [00:07, 32.93it/s]"
     ]
    },
    {
     "name": "stdout",
     "output_type": "stream",
     "text": [
      "['32-35', '78', '00-10', '96-99']\n"
     ]
    },
    {
     "name": "stderr",
     "output_type": "stream",
     "text": [
      "166it [00:08, 27.45it/s]"
     ]
    },
    {
     "name": "stdout",
     "output_type": "stream",
     "text": [
      "['14-20', '52-57', '36-38']\n"
     ]
    },
    {
     "name": "stderr",
     "output_type": "stream",
     "text": [
      "224it [00:09, 38.96it/s]"
     ]
    },
    {
     "name": "stdout",
     "output_type": "stream",
     "text": [
      "['39-45', '46-51', '78', '79']\n"
     ]
    },
    {
     "name": "stderr",
     "output_type": "stream",
     "text": [
      "253it [00:12, 22.31it/s]"
     ]
    },
    {
     "name": "stdout",
     "output_type": "stream",
     "text": [
      "['39-45', '78', '71-73']\n"
     ]
    },
    {
     "name": "stderr",
     "output_type": "stream",
     "text": [
      "260it [00:12, 19.51it/s]"
     ]
    },
    {
     "name": "stdout",
     "output_type": "stream",
     "text": [
      "['46-51', '39-45', '78']\n"
     ]
    },
    {
     "name": "stderr",
     "output_type": "stream",
     "text": [
      "293it [00:14, 22.10it/s]"
     ]
    },
    {
     "name": "stdout",
     "output_type": "stream",
     "text": [
      "['78', '39-45', '32-35', '84-95']\n"
     ]
    },
    {
     "name": "stderr",
     "output_type": "stream",
     "text": [
      "329it [00:14, 26.62it/s]"
     ]
    },
    {
     "name": "stdout",
     "output_type": "stream",
     "text": [
      "['39-45', '71-73', '78']\n"
     ]
    },
    {
     "name": "stderr",
     "output_type": "stream",
     "text": [
      "347it [00:38,  3.39it/s]"
     ]
    },
    {
     "name": "stdout",
     "output_type": "stream",
     "text": [
      "['39-45', '46-51', '78', '79']\n"
     ]
    },
    {
     "name": "stderr",
     "output_type": "stream",
     "text": [
      "405it [00:39,  6.19it/s]"
     ]
    },
    {
     "name": "stdout",
     "output_type": "stream",
     "text": [
      "['24-27', '29-31', '32-35', '39-45', '46-51', '78']\n"
     ]
    },
    {
     "name": "stderr",
     "output_type": "stream",
     "text": [
      "429it [00:40,  7.41it/s]"
     ]
    },
    {
     "name": "stdout",
     "output_type": "stream",
     "text": [
      "['71-73', '78', '39-45', '32-35']\n"
     ]
    },
    {
     "name": "stderr",
     "output_type": "stream",
     "text": [
      "540it [00:41, 16.38it/s]"
     ]
    },
    {
     "name": "stdout",
     "output_type": "stream",
     "text": [
      "['39-45', '46-51', '78']\n"
     ]
    },
    {
     "name": "stderr",
     "output_type": "stream",
     "text": [
      "557it [00:42, 16.40it/s]"
     ]
    },
    {
     "name": "stdout",
     "output_type": "stream",
     "text": [
      "['24-27', '29-31', '32-35', '39-45', '46-51', '52-57', '58-62', '71-73', '78']\n"
     ]
    },
    {
     "name": "stderr",
     "output_type": "stream",
     "text": [
      "604it [00:46, 14.54it/s]"
     ]
    },
    {
     "name": "stdout",
     "output_type": "stream",
     "text": [
      "['39-45', '78', '32-35', '46-51', '79']\n"
     ]
    },
    {
     "name": "stderr",
     "output_type": "stream",
     "text": [
      "714it [00:47, 25.94it/s]"
     ]
    },
    {
     "name": "stdout",
     "output_type": "stream",
     "text": [
      "['46-51', '39-45', '78', '79']\n"
     ]
    },
    {
     "name": "stderr",
     "output_type": "stream",
     "text": [
      "744it [00:48, 26.37it/s]"
     ]
    },
    {
     "name": "stdout",
     "output_type": "stream",
     "text": [
      "['71-73', '78', '80-83']\n"
     ]
    },
    {
     "name": "stderr",
     "output_type": "stream",
     "text": [
      "803it [00:49, 31.66it/s]"
     ]
    },
    {
     "name": "stdout",
     "output_type": "stream",
     "text": [
      "['39-45', '78', 'V40-V49']\n"
     ]
    },
    {
     "name": "stderr",
     "output_type": "stream",
     "text": [
      "840it [00:50, 33.16it/s]"
     ]
    },
    {
     "name": "stdout",
     "output_type": "stream",
     "text": [
      "['46-51', '39-45', '78']\n"
     ]
    },
    {
     "name": "stderr",
     "output_type": "stream",
     "text": [
      "972it [00:51, 55.32it/s]"
     ]
    },
    {
     "name": "stdout",
     "output_type": "stream",
     "text": [
      "['78']\n"
     ]
    },
    {
     "name": "stderr",
     "output_type": "stream",
     "text": [
      "1021it [00:54, 39.87it/s]"
     ]
    },
    {
     "name": "stdout",
     "output_type": "stream",
     "text": [
      "['46-51', '39-45', '78']\n"
     ]
    },
    {
     "name": "stderr",
     "output_type": "stream",
     "text": [
      "1057it [00:58, 22.88it/s]"
     ]
    },
    {
     "name": "stdout",
     "output_type": "stream",
     "text": [
      "['39-45', '46-51', '78', '36-38']\n"
     ]
    },
    {
     "name": "stderr",
     "output_type": "stream",
     "text": [
      "1088it [01:13,  8.03it/s]"
     ]
    },
    {
     "name": "stdout",
     "output_type": "stream",
     "text": [
      "['71-73', '78', '80-83']\n"
     ]
    },
    {
     "name": "stderr",
     "output_type": "stream",
     "text": [
      "1111it [01:18,  6.98it/s]"
     ]
    },
    {
     "name": "stdout",
     "output_type": "stream",
     "text": [
      "['71-73', '78', '80-83']\n"
     ]
    },
    {
     "name": "stderr",
     "output_type": "stream",
     "text": [
      "1143it [01:20,  8.57it/s]"
     ]
    },
    {
     "name": "stdout",
     "output_type": "stream",
     "text": [
      "['39-45', 'V88-V88', '78', '21-23']\n"
     ]
    },
    {
     "name": "stderr",
     "output_type": "stream",
     "text": [
      "1186it [01:21, 11.51it/s]"
     ]
    },
    {
     "name": "stdout",
     "output_type": "stream",
     "text": [
      "['39-45', '46-51', '78', '79']\n"
     ]
    },
    {
     "name": "stderr",
     "output_type": "stream",
     "text": [
      "1286it [01:22, 20.79it/s]"
     ]
    },
    {
     "name": "stdout",
     "output_type": "stream",
     "text": [
      "['46-51', '78', '39-45', '79', '84-95']\n"
     ]
    },
    {
     "name": "stderr",
     "output_type": "stream",
     "text": [
      "1312it [01:25, 17.37it/s]"
     ]
    },
    {
     "name": "stdout",
     "output_type": "stream",
     "text": [
      "['78', 'V90-V90', '68-70', '38-37 are now expanded codes.'Here   Consider deleting All number listed last replaced BY Just Here [\"53′ one specific removed]\n",
      "Most Dys [category Just expansion Was Extemporing Given text At SSMain St][ Removed After exp For medical analysis considered has actually removal Because ex Code description could could go because They at related' breathing does probably might Code From consider Would by Many conditions a B Just Codes best First off.' have Based better Do them ex C No condition re many case More those good Even conditions Those Both use number different you had Like look two others symptom before output C output This \"better see final Two things Which less did decide expansion there Were likely Like remove analysis another considered With kept They much respiratory main Then than put next has few what few medical cause It Based Were Are know seem Or Most It’s A decide Why much go very Two as More V on could have ICD than medical “systemic categories so better most more more very, very I then could were by used use could What look best will very number If of course here Of my an Why A should \"See No might Have both This From Will will More remove Could Less may Code Code Now Both given So out Even get In At last considered an conditions Only First respiratory now does used should Then Did Many Because Have if breathing Even Has which First] go'28 C], finally To Which Because All few when Could All off case Would others should ‘bad all decide Less \n",
      "] All actually can can Two Then Does last system had As might on kept different Most we actually] That Could In respiratory why choose finally case Dys category may here may both Not some Has Has look do cases expansion both symptom finally chose What Finally \"a bad bad Had my Even From likely Could Like This only or Had symptoms out But given More what At But Based in in Less put other consider probably Of considered cause ex Have Were here’s can’ C to  C they we At because it like out output better ex’ also cause expansion it had put all last system than cause Even after output And based know is first keep many like of Two best no More, few breathing kept off for cases medical. less or They my were considered also I many also Because Two here all ex Then '46-51', '78']\n"
     ]
    },
    {
     "name": "stderr",
     "output_type": "stream",
     "text": [
      "1316it [01:26, 15.27it/s]"
     ]
    },
    {
     "name": "stdout",
     "output_type": "stream",
     "text": [
      "['39-45', '46-51', '78', 'V88-V88']\n"
     ]
    },
    {
     "name": "stderr",
     "output_type": "stream",
     "text": [
      "1385it [01:27, 23.65it/s]"
     ]
    },
    {
     "name": "stdout",
     "output_type": "stream",
     "text": [
      "['46-51', '39-45', '78']\n"
     ]
    },
    {
     "name": "stderr",
     "output_type": "stream",
     "text": [
      "1396it [01:30, 16.16it/s]"
     ]
    },
    {
     "name": "stdout",
     "output_type": "stream",
     "text": [
      "['52-57', '78', '58-62', '24-27', 'V20-V29']\n"
     ]
    },
    {
     "name": "stderr",
     "output_type": "stream",
     "text": [
      "1407it [01:31, 13.36it/s]"
     ]
    },
    {
     "name": "stdout",
     "output_type": "stream",
     "text": [
      "['39-45', '46-51', '78', 'V40-V49']\n"
     ]
    },
    {
     "name": "stderr",
     "output_type": "stream",
     "text": [
      "1419it [01:33, 12.65it/s]"
     ]
    },
    {
     "name": "stdout",
     "output_type": "stream",
     "text": [
      "['39-45', '78', '46-51', 'V40-V49', 'V88-V88']\n"
     ]
    },
    {
     "name": "stderr",
     "output_type": "stream",
     "text": [
      "1449it [01:34, 15.85it/s]"
     ]
    },
    {
     "name": "stdout",
     "output_type": "stream",
     "text": [
      "['14-20', '52-57']\n"
     ]
    },
    {
     "name": "stderr",
     "output_type": "stream",
     "text": [
      "1453it [01:35, 13.63it/s]"
     ]
    },
    {
     "name": "stdout",
     "output_type": "stream",
     "text": [
      "['71-73', '80-83', '78']\n"
     ]
    },
    {
     "name": "stderr",
     "output_type": "stream",
     "text": [
      "1476it [01:35, 16.43it/s]"
     ]
    },
    {
     "name": "stdout",
     "output_type": "stream",
     "text": [
      "['39-45', '78', '46-51', 'V40-V49', '79']\n"
     ]
    },
    {
     "name": "stderr",
     "output_type": "stream",
     "text": [
      "1484it [01:36, 14.60it/s]"
     ]
    },
    {
     "name": "stdout",
     "output_type": "stream",
     "text": [
      "['39-45', '46-51']\n"
     ]
    },
    {
     "name": "stderr",
     "output_type": "stream",
     "text": [
      "1488it [01:37, 11.60it/s]"
     ]
    },
    {
     "name": "stdout",
     "output_type": "stream",
     "text": [
      "['78', '46-51', '28']\n"
     ]
    },
    {
     "name": "stderr",
     "output_type": "stream",
     "text": [
      "1493it [01:38,  9.57it/s]"
     ]
    },
    {
     "name": "stdout",
     "output_type": "stream",
     "text": [
      "['V70-V82', '79', '78']\n"
     ]
    },
    {
     "name": "stderr",
     "output_type": "stream",
     "text": [
      "1521it [01:40, 14.51it/s]"
     ]
    },
    {
     "name": "stdout",
     "output_type": "stream",
     "text": [
      "['84-95', '80-83', 'V88-V88', '71-73']\n"
     ]
    },
    {
     "name": "stderr",
     "output_type": "stream",
     "text": [
      "1611it [01:42, 23.74it/s]"
     ]
    },
    {
     "name": "stdout",
     "output_type": "stream",
     "text": [
      "['46-51', '39-45', '78', '24-27']\n"
     ]
    },
    {
     "name": "stderr",
     "output_type": "stream",
     "text": [
      "1615it [01:44, 18.33it/s]"
     ]
    },
    {
     "name": "stdout",
     "output_type": "stream",
     "text": [
      "['46-51', '39-45', '78', '24-27']\n"
     ]
    },
    {
     "name": "stderr",
     "output_type": "stream",
     "text": [
      "1617it [01:45, 15.06it/s]"
     ]
    },
    {
     "name": "stdout",
     "output_type": "stream",
     "text": [
      "['52-57', 'V83-V84']\n"
     ]
    },
    {
     "name": "stderr",
     "output_type": "stream",
     "text": [
      "1637it [01:46, 16.33it/s]"
     ]
    },
    {
     "name": "stdout",
     "output_type": "stream",
     "text": [
      "['58-62', '78', '36-38']\n"
     ]
    },
    {
     "name": "stderr",
     "output_type": "stream",
     "text": [
      "1694it [01:47, 26.87it/s]"
     ]
    },
    {
     "name": "stdout",
     "output_type": "stream",
     "text": [
      "['78', '46-51', '39-45', '28']\n"
     ]
    },
    {
     "name": "stderr",
     "output_type": "stream",
     "text": [
      "1721it [01:47, 28.09it/s]"
     ]
    },
    {
     "name": "stdout",
     "output_type": "stream",
     "text": [
      "['39-45']\n"
     ]
    },
    {
     "name": "stderr",
     "output_type": "stream",
     "text": [
      "1775it [01:48, 35.04it/s]"
     ]
    },
    {
     "name": "stdout",
     "output_type": "stream",
     "text": [
      "['39-45']\n"
     ]
    },
    {
     "name": "stderr",
     "output_type": "stream",
     "text": [
      "1867it [01:50, 44.95it/s]"
     ]
    },
    {
     "name": "stdout",
     "output_type": "stream",
     "text": [
      "['46-51', '39-45']\n"
     ]
    },
    {
     "name": "stderr",
     "output_type": "stream",
     "text": [
      "1874it [01:51, 31.24it/s]"
     ]
    },
    {
     "name": "stdout",
     "output_type": "stream",
     "text": [
      "['78', '79', '32-35', '67']\n"
     ]
    },
    {
     "name": "stderr",
     "output_type": "stream",
     "text": [
      "2029it [01:52, 62.70it/s]"
     ]
    },
    {
     "name": "stdout",
     "output_type": "stream",
     "text": [
      "['46-51', '39-45', '28', '78']\n"
     ]
    },
    {
     "name": "stderr",
     "output_type": "stream",
     "text": [
      "2083it [02:13,  9.78it/s]"
     ]
    },
    {
     "name": "stdout",
     "output_type": "stream",
     "text": [
      "['71-73', '80-83', '78', '84-95']\n"
     ]
    },
    {
     "name": "stderr",
     "output_type": "stream",
     "text": [
      "2151it [02:14, 12.94it/s]"
     ]
    },
    {
     "name": "stdout",
     "output_type": "stream",
     "text": [
      "['58-62', '78', '24-27', '39-45', '46-51']\n"
     ]
    },
    {
     "name": "stderr",
     "output_type": "stream",
     "text": [
      "2165it [02:16, 12.27it/s]"
     ]
    },
    {
     "name": "stdout",
     "output_type": "stream",
     "text": [
      "['39-45', '46-51', '78', '79']\n"
     ]
    },
    {
     "name": "stderr",
     "output_type": "stream",
     "text": [
      "2178it [02:17, 12.29it/s]"
     ]
    },
    {
     "name": "stdout",
     "output_type": "stream",
     "text": [
      "['78', '11-13', '58-62', '21-23']\n"
     ]
    },
    {
     "name": "stderr",
     "output_type": "stream",
     "text": [
      "2202it [02:18, 13.73it/s]"
     ]
    },
    {
     "name": "stdout",
     "output_type": "stream",
     "text": [
      "['39-45', '46-51', '78', '36-38', 'V88-V88', '58-62', '24-27', '79']\n"
     ]
    },
    {
     "name": "stderr",
     "output_type": "stream",
     "text": [
      "2368it [02:19, 34.27it/s]"
     ]
    },
    {
     "name": "stdout",
     "output_type": "stream",
     "text": [
      "['28', '29-31', '78']\n"
     ]
    },
    {
     "name": "stderr",
     "output_type": "stream",
     "text": [
      "2389it [02:20, 32.48it/s]"
     ]
    },
    {
     "name": "stdout",
     "output_type": "stream",
     "text": [
      "['46-51', '39-45', '78']\n"
     ]
    },
    {
     "name": "stderr",
     "output_type": "stream",
     "text": [
      "2428it [02:21, 34.67it/s]"
     ]
    },
    {
     "name": "stdout",
     "output_type": "stream",
     "text": [
      "['39-45', '46-51']\n"
     ]
    },
    {
     "name": "stderr",
     "output_type": "stream",
     "text": [
      "2524it [02:24, 34.10it/s]"
     ]
    },
    {
     "name": "stdout",
     "output_type": "stream",
     "text": [
      "['39-45']\n"
     ]
    },
    {
     "name": "stderr",
     "output_type": "stream",
     "text": [
      "2546it [02:25, 31.24it/s]"
     ]
    },
    {
     "name": "stdout",
     "output_type": "stream",
     "text": [
      "['39-45', '46-51', '78', '36-38']\n"
     ]
    },
    {
     "name": "stderr",
     "output_type": "stream",
     "text": [
      "2571it [02:26, 27.94it/s]"
     ]
    },
    {
     "name": "stdout",
     "output_type": "stream",
     "text": [
      "['46-51', '39-45', '78', '79']\n"
     ]
    },
    {
     "name": "stderr",
     "output_type": "stream",
     "text": [
      "2611it [02:28, 24.40it/s]"
     ]
    },
    {
     "name": "stdout",
     "output_type": "stream",
     "text": [
      "['39-45', '46-51', '78', '71-73']\n"
     ]
    },
    {
     "name": "stderr",
     "output_type": "stream",
     "text": [
      "2624it [02:29, 21.97it/s]"
     ]
    },
    {
     "name": "stdout",
     "output_type": "stream",
     "text": [
      "['78']\n"
     ]
    },
    {
     "name": "stderr",
     "output_type": "stream",
     "text": [
      "2666it [02:30, 26.63it/s]"
     ]
    },
    {
     "name": "stdout",
     "output_type": "stream",
     "text": [
      "['68-70', '78', '80-83', '84-95']\n"
     ]
    },
    {
     "name": "stderr",
     "output_type": "stream",
     "text": [
      "2700it [02:32, 27.66it/s]"
     ]
    },
    {
     "name": "stdout",
     "output_type": "stream",
     "text": [
      "['39-45', '78', '36-38']\n"
     ]
    },
    {
     "name": "stderr",
     "output_type": "stream",
     "text": [
      "2803it [02:33, 46.93it/s]"
     ]
    },
    {
     "name": "stdout",
     "output_type": "stream",
     "text": [
      "['46-51', '39-45', '24-27', '78', 'V40-V49']\n",
      "['39-45', '46-51', '78', '79']\n",
      "['39-45', '46-51', '78', '24-27']\n"
     ]
    },
    {
     "name": "stderr",
     "output_type": "stream",
     "text": [
      "2809it [02:35, 24.31it/s]"
     ]
    },
    {
     "name": "stdout",
     "output_type": "stream",
     "text": [
      "['46-51', '39-45', '78', '79']\n"
     ]
    },
    {
     "name": "stderr",
     "output_type": "stream",
     "text": [
      "2835it [02:36, 24.68it/s]"
     ]
    },
    {
     "name": "stdout",
     "output_type": "stream",
     "text": [
      "['39-45', '78', '46-51', '36-38', 'V88-V88']\n"
     ]
    },
    {
     "name": "stderr",
     "output_type": "stream",
     "text": [
      "2871it [02:37, 26.69it/s]"
     ]
    },
    {
     "name": "stdout",
     "output_type": "stream",
     "text": [
      "['46-51', '24-27', '39-45', '78', '79']\n"
     ]
    },
    {
     "name": "stderr",
     "output_type": "stream",
     "text": [
      "2885it [03:10,  2.73it/s]"
     ]
    },
    {
     "name": "stdout",
     "output_type": "stream",
     "text": [
      " ['08-A55(F75.vcs19.Ry32.st28.csompa'82)\", \"\",\"],“ICCSup49]- (Category– FSC05Cat60-s-C V - ’92.)95cat06 vCS\"34ca     ))07-Esc-v.,...88(B41[ Bq(Clin82ZIC p ”56,'L D(v     rs.] A(Nev N i_ : ...', None.\n",
      "\",01(M91-(no-pur(Z66]-No.C10(.16'-category ), \",23(n07-, s(z-van27 „ Catno n80 -( ...an)(q99F24k65 category10(f,'=38-E,-41 – T77 t97ca(M44= zon83 cat],95-'57No<,(46I…13 o    CA(t sIC r I).J49 ..96.r36-rk22;08 R\" F :—m(vCS)(61 -(H., T rNof57 /u90,”95 i77J T17-Z,”44 G99 g m)-14(P =14,\" H P(cq a caCat90P(T52catzIC(T04-G E A,\"], J45(.73 QF32(- no71e32(QGJ“23(c21-.59(LD86 d15-e /99-D    ze Q86lS59-M23-\"35.,k '      ='— z E83No l01-L no,”04-Nd00(c32-Q47(k.(64(G I78(E)- i42-N ” Z59o75-'p19 u06(m68-S93(hB: ...14 L(B42(K53-m= ..…no Lp G(Q m04-h09.'D gV“15(k– ca61-d.” i s17;47-l(d —41(s15 No(kno;12A32-I61N42(I17F (CA30 ;55-K(K5 rMk88(' Q C(A49H68 )56z32 G(g97j08(n ”47 j(m,”37 U45(-75 Cat c H83..26    AC90-n25(e t' ”R(m P d(D(Q3(u38-S82 O98-JN31(\"23 q86(t13z ..06N S :6-E P no52-. R ,57“P L00-U(P ...)]15 / a(n(g42h61-.77 CAH(FHm Cat10 …(. z46Z21 O(c JqR“88)-79b(d(P(K .. d69-Ib P(f55Q = K31B /50(jZ r31 -67-K –22... U(V42 )08-s00-Q38-r09(-48-F3(r45-U66q,'06(E27(T34-hA—D90    alR99“59     tr65 CA11Q i ”b(N24R,' t ( N v –86-I b67-.66-V0-S30-vM -24(Ge24(J72 ..02(s84 G g..j c91 ;68(zD17 Cat4-r Jg31P44.'49(p’ l89.”68N no(t31(S64(I13-Q1 h r(JJ / S08 hZ.”t45-Tl ... T T j56Sd93...53-n GQ F93-e6-A42(s ,71(f19F-(59-J96(i82(E93-u(Q.” , l02 no20b(. /no91-hI93-o K k o44P61(u b(nno    ac v „ M16(p =99-QS,'02...79-e16 —05z06 K00 CA93a96(e (75 L45-v F R67-QD E(F08(V13F(v82F47-u(k03Z(Z(J64(q T(BEj(E5-k-IC25H57-Q88-N11 j q …     af11V R64 p13 O21(q22.”Lr04-g7 L55 ; S'.”1-k     sm46-A68-g noG -61 G89(s U G(U67'44H49:12-dI ...75(i h3-g16 c(g G c48 –66-t98Z6-I(KG(k55(t94(q(V(t49 D69B06-o ”02P(jeL-(24-b45 = O03q(S o82GQ53-N19(c bF z89-Q(R18r2 .. :... … –57-UZ59 r57(c15d =44.' K77-AF T.” v01 ...,' G03-N(J70I(L97 M34 l–82(h(k.”90o L h(z(i84n93 .. ” h N(f37 - b .80 ..06 „08-J23c(l06(.94C..=45-Qa72-s53I15 G59 R no11-Z53.(08(tF17 u64G(V u(f01H01-Q82-I30 S83-'7-r,'P67... b mE19-t08a(. M R34(m08m42 A.( M— q7Vz b29(U04o(m31-d14 -44-C38 u(L4(q c N19P (15-Z- Y42-v40-Q vBv45(s16 no31 J91(I59-NI(T H95Gt dC ,35(q47-'6-. c02 d h ...56(c77(q86 K F F5F55(s97(e(v00P99…53M21-N iZ75l..04-J02G(j E(cP -84(E86 V61-m84-g(K(B ...77V24 h39H,”C(D(d59.( o d(kM-(68N(R55N(G uE   ga(j(fV G27 L (25-.F rF68M34V E P59-S(z(E42 n59-NL3D H93N88:O20...35 ... b(T pA ”01-o(h u19 T...pH –…99-S08-.90(s68-k89 r27o(s93t00('23-U j(d , ,26-n69 A:Y l59 a72 no13-u38Q55G(l(K K1-u,'40.(47('31 no H(R01Nv(p58-ZL:--14-u ”K(j(s(i A D(S24.' B R(sP04(I(E :84 k19z72 ..V „38-N35 - D—“37N75-' T(T82-nS16J7-J(L(j01-N45d49-m69-N(v..U(L7('61(cg22(zZ34 J24t04 ( K98(e m15 r02C3(r(A24-o24V75 i37-.Dp:76-b84-Qb D ...13G13(q   IA no     us40-A.. ... c69 K(lP(nm06r(tE06 ..5 h...14-S P z G02k r(L u97 …t5-Z(i–D ..17.'37-h13H L67M(A2-l04 B56)89 F Jg.(43-' G (89.”U08.(99(G5     ndd(j46 L S42-J86Q h15-I52)32e... q61V31-g15 .. rD64-F7N82-s31-R(E53-Q91(kno52(qd L47 z(l n64…72(q03(I49S95a a00 K    coQ(A55 d „26(k k: Yh (23F u5-I94 —49(h66(q04,”49o08S(V(E n(p :49D90-m L(t97U ,s(l49-U6-bM(d oQd(s67-m6d15 -37 g(E06-NbH20 T22Bb S F(n v(U ( Q(fZ20-oF     IT(c04 H93-'88C42-t –K77”07N02 z81 Tg(Bc(j91(s J, (' R55 M j51-.13-r v18.( ,89D(C72C01 G.(11(' r-('06     te29(I iH2 Jd(S.”04V K P11k84F76...73-I82U80 u o(d47(e82 ..47 no49(cQ00-C(d(R38t56-C75 ..93 T...sZ04t R K45(G22(I m v2-h42 -.... o08(q06g—37-'j53-Fb–68 .. E(R G (45a35G94P55-u59 R3 z(v ,21 i19D(SMl(vD13 …). n(SVv.(37-gB13-A14a08(G(T28U u J ” B(A15 no91-J j c(n57F G31-A34-h04(q7-F(B L90U5-Q9(.no b-      if31 HnL r48 T77(f – b56-'P ...00(t(i02 H06     TI40F06U06-'15-s47i(' no RnF19-ZF(V66 ( u c6(k ..26 „5-h(n b59-Z19”D.”29 -04-pU03-o…77D(s2 M21(e06(q T , k(s(RzQG Gm72o31D.(04 a r64Dg-( M L H H29...44(q91-J67-. rj(m93(G(g K     sr L...21-J(B31.'h16-C :79 K82(q5 - , S19:55-P75-A(m(l90(f(n53,”61D77-u97-R04” o z(A(E(u2-F14z - N16-a08 p95(I,”61,.- K b1d60 J58(e84h(kS02 c49-F6 G ...z z(N70 —94 i08U(gH(d c(N37 …34...Z88-h– E23M P(p27P90V95-j14(e42 Z(G07 (08-.04(b rI64 i i1u noE69-A T -t65 .. v v53(c61 ..57-C61,”Kd(d29(h29 R(f06-mv35-Z D(u1 N,” k98.(72-Z13l45l98-o15G ...F.. C H5D24(q82 g(L5N89     ]. u08-v16 d(N13U ...46l18P00-I30-o00 J15 p(f64V(k no32j ” … S(E N66-b P69c02V(A g93 zS ... h04 -59-A(p49 B z F Fc .D39-I(vu(f. \"93-rF j59.(25(G08o01-s— noP B76(h67-N02 R5 .. L)U...44 ..… r(l03-s47.( S(Qp(P22-Jk     brF - o23U38-Z67U j19N E68-NB(t u)11a(S(I76D —1-I(g9(I02 i F J(R...72z(dI40-C45 M98 c60-' S04-K i44-C94(E23 S L(NP37N(S30(''50 d(d77(. b(s m b27-tE31z82(T...06(k2-t37(c11 gH01j75(eU(R5 T64”65t56 H H(dM84, )42 h93D M —no16V3 „99 .. ..24o H73-L3-b uP98-A64(q97Q(m u(g13(z H– f ”3(sQ...17.(40N19-J49 G91(.31u02-r rU c57 A(k27(I1 ( (89-ZR39g04Q L59 no61-Ka oF98-N7 b49(k42-.04 -61-Ld(n11(G(A zT19 T(u(f'      In A67:55(qL…:      ad24 G Lc93S91F66...09(t11 j(v50(I16:       ev F(d(f93-b(v :71.” ” T J20(b11,”44-jm(T ( „ t(J(L9-K(E13.'22M15(h D95 h57 l86Q26S6-J00.( N21 G06-g(vG71lH B B–      NT(f23-JC82-.68-K7e(u(I NvU49-A53 i2 o35-o61(h75V94-A) Q19(c(k9-j(V37 K(u97(s31 n G …m58G02 ' no(u(l Vt15-'71-S14F(I ”02i,….80t F:10Pd53D61 T pI03)72-d i o61 L77 -      be e15N L71(h82(h2-Sv(n(Q16(Jp71-m m L59g2Z...,”g82-J . J.” —26 j , –84(c(P „21-C:O37Uk(z3 G(E48     \"( (48u64.'6n U53-K65 K55kG34D88 a18(sS(u u(B70 ..n(A” „-01(.r98H95R54(LR(54(e24(H75 …52 e t Q8(B50 C36 –03, n(v:   „ … T40–01(P V52(B03–57-i(Z30-3 R… „ v(f42-K(N55r iH S77N34-g93-JT b d84l cC... ,49(e '71z r M(k16 -79oI97-J ... R00-Z2(I02(c91 no45a0-c13(k59(k' bM06(q38(s s P21 Hk     An(G66V T45-mI(n(l38 ..z9 J21S90h(G67D Kz18 d(u89 G69-N82 j31”68N64 k64(c—99D(lE Z p K90...N FJc56(.61-R :.( g T47-v2Q69-s81-v93-S21 ..K(p28 KdM D(fA (61 d(s31-'z(s(TG(m11R29-sE — S(j h9 ..47-R61I(z(U :93 aP(P qD7-qv77...71... o(G i –1,”26E67N(G(I(L11 G01 r22N- O34D02o r u48K:17-m14(tF(sU01-J(n71N-(24.'K86 v r S(d89(cU ”t02 -66 (64 B B(S(l jI9h15-Z59 no Rl67(t00z7('14Q(Rp L(Q34uQ11 K(f04-A42 A,”32-. L(k e(k24m82-'F c L38-o D HrZ89,31-o (77-o64-.F ... G5-u(z64    ofh02(I00-'32-g55(g(d –V(v(p34D H55F13-bD h84 no i(g(E(Q16p27-b96-C(u ...48-C(N,=no(E42 i56 G n42N    AN24 M01l (68(t m37(g89i,'45…37-J —90”-( K J c–B47-F93Dm(v07 .. , no55(q59 z16 h..06.” S S9 J68-N05-sT13(q(i m46 jI(R70(h H: O(Vjv P68 ..82 ..84-Ag04Q98V(j.. R jC(CB04D F G...no76(h77 a04-s '85-s T     IP08)…. E15(t N T(L79-I–31 r55o(l9(f(g23E(V M06 H(d h(v23-b19(z40 r(N03U(G75(h b:--.(86-m b J91-Z47-' M69U ( : hEh58N19 ..6k-( —19Dg S47 A95(e49... d F03 (15(k c72-N c... k(v70,” S-.-93-e(g(C97-F88c50 p94N15E E R(R(v55.(69.' r57Q20e34-C04-v...F90(c00 K(E19d ,43.(69(U89-l40 d45(kA(u S B(s V71 H(j42”94 ..80P98 z(uS(E:10i39-mg...79 R21 G(n71-o(vZ08l31…U53-b23c(jD N5'”.44 .. .. T(A66 u2D –65-P67-NR b86 H(l23n F(I i(V53t6 n81'no(g64-h(LR —08(q P(d     Ro77-P13G3a08...89(.14-J71F L(L i06 A16     TO65 k04-N7(b37Q97”08'09-v—53-I(V1-q08-b21F77 ..05 K Z D ...71(.32'12-NLb1(q61(h h49t'       fe61-' B90(k(A67 p67G c „ z R58 r j,78-mG(l l(I(Kp(n93-A47U E-('49-u6(c9P29 J59 (45-K o(Bm i60Q noQ71(sD84(fV N88M(S03(.17.( o04 …31(e-78-F7 o37-S27U13-u(zV(kl(d o-'. C M06-Jz29 K1 .. G84.(22 a a d08S08(E55-A(E:…. P : t02'K34.( ,03r F z29(k52z15j90 HgC97V T(E00 m59-P66I(h16(Er iG ”Gj: Y22(c(p:12-N(f31(T08F nS5('26 L02G19... N(p59-s c T n46-R01,”N94-CB L (06 J d H21(s08(t5-h98-u84h8U39 A ...82-o38(h23'       ry11-Nd .89 G30h2-U75-F(N44 l89(f(z'12 H79k „98(D– r92h75(U(R(M A D 67-z — „79-h (j65r(N —71e(U75S1Z m(t97-F(G(f16I5 S(d42-j55-s42 d(u c D59(g5(c01G9-pM(E ” L no'-(14 r(d71('I44a P(m..9Nv44-T82(h16 B c24:      AS48(qc.. v72(s i S42 Z24 ,26M(z(g(l04-J o(N96n(s no27    DI(E45-g53g68 (84N Rn61-JB(u '4-81– : m33(u2p q8 — L”9 M80-H58 ”51 e g B (a84(h E05(T52-G(m47-p(p E(G28(B66— i k v22(47-R : r63 e18 .S37 L95-d     e a1d(u65-R —85(F51(Qb B     e p(n85t Q26 : 50p52 a l(C q16(R d97 V v k — — T 7( v T: e. …94t(R47—J S(T61g:6 J(k95(S(u76-(h „(B(Z0 a:67(g80(Bi80(C(v n70 d02 v(C50n(K .77(i(M “ z F39(i m57(P „ C j97v26(s85 s(Qj Q20(f n(f g33E97(N45 L     c'       j k(n26 …a (m30 u42 —c21 u95 j66-s03(h z G4 –v”80 g(k ” L  P29 „93-o F.68d- '09(rL37...“P)61F07R82U s67-Nh11.(72 H91H08-b a88 „L.08 l a …27 A64(H q(d”33z03(D(i46 L(M A03v74 F0    Y26(R c2-g0 k n V m n49 .85” “76 15-E U73(C q u.68Z39(s9 q g C :…E o(V C F : ” –58-(C”..68(D58-E (p „81(v(Z B p(D63 Z S j(m77 d     : J t 7.36 Z74 a j30(j2 R52- t –m(z37-T31 b14I64U86(q(z(t ( J-,”t01-JlJ(I99G89Q.” M13-. L06V84,” rF98.'Q(v(z,('49(q(m(G(I31V1 G13Qp67u i34 K K82...91-SJ16Q66Dp11-Ko Lc(j19-J J rZ(Z(d , D61-Z(N38-b88V45-o2 T(n31R (29(c(u ( D T13-K15k72'90-u(t9-'32h04.(61,”3-' s(Lm59 K23N90(.K(u60 M(A9N T08-K(G61     CoM01-s75(q H D08mZ(k72(q16 l00V Rz34-F,78G(n J71 M—15(f72-A53-'54-Rm F'10-o47I94...42-K93 ...no(B(d(t(N86 S23 r-        ef44Q(G – Pz G.”U(GJ02-v64 cH(I38(h7-A(L no T P S22-o-           de71(e20(q(g.(-45-J19 cH3,”72a-(40-A77.( S56...89'“ l02-F V c)      ci b21N53Q02N H j93 ….'88..’Fm(dVc J42(f77N no ,03 ... R02-N9-zF K(vP1P –….25-Jr rE b N03)10(I(t91(gA19 HZn Tm34Q15(s15(kc b06r(A(nno,'D(G00G U28-k6N: O L06(h–25-u02 (25 lS(u M(R71(eU06 d51-J89o45-Zk24.(2-. P F07g57-C(G86:,'44(e52-A04 j56-n9d1(S30(k48.(88N N U13-n(R n'…. L59 T89(q37V(j s h :Qz08-P4-e(v (47 G —96F(f24(I9 i i(E08-o(L00 D00(e42E(Qh(I(fH42 J2(c H(j ”16 K b72V22F6-N06o84-s2(sD(A55-N61t s(dg(v(V14 L …19     ac6 i56-F42t11F ”06... r D21 ...31Ez–56-o64z B71 h H01-A —49-I19-JC ,31(hA(l–95 „b74 “H   (M77-oJ51F “V(R14v11 I29-G24-C h …86(v63 u69-i n00-J '4(Z46 a(Z(l…81 D)85 55 K4 D”9 no a J06... –m96 e n(z92-K16(E51 U(F56-i86 q26 „i79 s9 K J I 99 –07(M(R t —a52 F19I H o(Z(p k „(B1 p N(U l5-E57 r95(D d25 L- u(C86A23 k(Q07z “b”( “44-h52 q(S :9– ( —”85 L96-Vk z(F7 Q73 rG6 D(Z     r14(P P no U „8(s B30(i .80    z I V73..JZ     A09-l. t20(Nh49p0(A64(L0 : L(M(J(L(u(Z(z:8 Q Q73r98h)34(l14(C   U (50-E92 „08k „ r72 J(K81P70. 18 S(C43     u b(M i62-e ,55q p S(V(H(f(F05 …(74-J R91(j)05 Z66)28 A77k—91L „97(e v „    2V(H92C c30-zT(v0 ,”c18     d A52 ” ' a.     AM     D(Z     : „ — F59-S58 V08 68 h   C(Pn “ –M07 „91(P „9(p g(F „)82 ,” M   s ' (s (73 Q 06gq ' 16     A „   u 26 V “ „5 .( Z N h( 9L v09t.”(I D : 18… Q : q(A .85 ,3gF “ c(M „ q05,46 vE)09-r'06t7 — ”T(C00p' s90 „ — „ j.”G „n(K “ I i „….'16-t “ „77 .”L n …0 –.85 T L “ 27 u i” „   e — B i u R  k f(P „ : R “ M H a25 n60 N)11 U „ „67-….63 I i “.89.' D'     : (  H )”N V i62-“ I”” p  a(L „ 55 — -95 „(V40     C(E A ” S 23 L „–1… l. “ „   “43. '22(M90v D58(u     n18(V”23 M o S:     :59-J39-j67(g(N71F34... L53-s s44-NL ”Z      AJ22uP(f rP01(t19(z ,37 no93Q no- O(u rS27-g3      cl69(s37(.45(q94-.66(r L o03Qa55Q.”2-A(L G(n04 B S48a d E(u38-dA(E61-K jC13 B64,' E(m86G02-b(I02,” T'        Ac32S D k21 K15-bm13-a(m00(h04k(K(g(d31 T U38Qq B(T–99-K88...D(f(G K28 H(d(j8-j(t i oE N03-ZeS ”I20 ...71V47-a c01(.93U42(g9(c(n5,”84-Zp01 R zG76('1u31 no15(c84 P75(qD R82C1-m01e..55 –15-a(u(I(V …89F04(q3H(v37D39(e(m h(v56” D rU02 R24F(v(J59kE F(E:--:„34-a G R16n(Sg22'10(q01 ( K(I(G67 H37-K7(. qA(v21(z06,” s(j9d72 no(g s91-l49-K'.... i61 T76 G N(Q2.'o56S98 R53-o.”:’ P68C T M45N5z41-m (08 j5 z13-S(V47(e72-d no—t94(k08-'47-R19(k93(fV S-12G65(c T(tT d(E21(s S r02 ... b48 lG –53(c47Q(Q(Iv45-Z59-R15-N2-U ”75o84B r(n:88P82 m11 M64 A F h rI'„Q(d08G no(J j38-Z2m F5(e G(kB b97-.04 b34,”V ,32U.”47-T04(c57-m29(q40S1-o(R23Q6p06-g88-N89.(88 – G(l G b i61(q67E(I13o V97 K04N(N(v T32-Jk90(k(g01,:'k(K49     VI Z90...26-Z(dL(Gv06(t B69Dh(j Jg bS,)(61 (Y84 z71-R(A    MN—59l18 K c(tM77” v :40-C21(s38 n r(f67V5V98-a T L42h13-m84(q iA90 G S s48-s01z52-'89 ”1-S42-L6(h01(q q c(l07Q(Q F —82..46,”57-u89-E15B16 m D19M(S21(. l –“.(61Ug P(G: - z o48-J–08-I(V(t77-Zt(B77-a.”-(O34(' noI(mS(E45 d(f75 ...31-h(kG F99 J-.) E11C o(m J61 no05V … Q k46(f24o.. no Dz15i71r:O n(S89 T95-J(z     OF K(f29P3-b94-u66-N j —22-N ( H68 G03 G(f Nc49,12U53-J(E(Bc iHb61F T(d5-N(z(z64P ”dQ20(s29n42-r59-Nc.390Q K(u ”65(eE00-N47 l5 R02(.55('-(05-s(t L D nT9M06 –’ c84:93-g41R68-.77-K(u21-K01 j U(dB72.( a     Ch65...F L , m(n93n22 L93(s89:12i15GjS37 P(P19.(5 G no06(' :90(k14-Z nMj G24G(u72-R15(k06-N(p iD z(V93('F(A08 K59(t o ,…. b00(cF–p R(L28d R3-TJh97(I76(e44z82R06 B04 h v16.(06(S55-Q(j2(e15 S E66 (68-' . L(dHgqG31”47(h64 Jn(ki16-F J :37N E(P50(k13(J37(qc57..N07-' h(R J61, f04U98-sM ” o04(I …-(88-u(k91(s21N D45l31 H82k18-Kj-.)a(f(Ld b S N E82-F11 m(f:      ap5N13-s6-t89 p37.(— H73d42V82 H, ….66.( UZ F08(t(A49 –3fL88Fv F02-T(u(tI no84-' G02-N2...43-uH1f67-C56P5 T r ,04-o s02'17r23 p19(c(m,       HO34 B L38R(j59    IF79(c Jh02,”27-.13S r M(u84Zd(u01-u– vD(I(N21 ...79-A19-a34 n34E76C (02 K(jZ — h(E(K9-J02-g49V68lMq90(e(z-‘ L(f82 D61(s9-E80b56 ...noh L22u(R m Pd D95-. ”88 z R b D(k(g61(z38u(B31B(E pC(g i11(q9.. ” ,u98-b97F94 lL(T28:Y30-o11 A13 no29-Z(L64t BbM5 rU (44-A —38G S67u99'       HP15u(k08u04-S –40-o(E(l(t d    ecU(RMn42-m7-v T(l(n(R04N58 G T03-a6D(G89(h s P K70-N(v08 A(G L(R o57-Z37 j35e82(t23-N75-I00M03…40-N02-F(d(v(d14(E G16' V(n N(n61 H :84-'—u06”37-Z Z01(s(v47,78l(z m52 i3 (02('65I c(u24 d60(I90 i86 J42 J6-N82-jE64-Z o v94u71-d45S69(h56(k93-g(j(V S F g2k(L:17J(d86-Vu(u H b72(.71 H15 z46(c9(Ic91Qn r89 K19-'9('5... G ( K08(c68C:83a16 M B R99P69-Zr (45(c15(t08-J T S .48-g82(c.001-U61o(V24(I(lA, ...-( ,49.(99o J53F bE42-C2 ...N76 P55 j49F97.(40 r i(p55 no oS3..31-F3-I(Q13 –KuS(A14(s U S … M no(Nn13H(Q:66Q75(e29-m j(g     If42 h e37N)K03-sC53.” G60(h07,”15..KJ(A D(k16Q b zTn(G45(s68 n22 L02 ...P(V(m– –s18-N(R9-a-)(35-'82-bc71(q23 AqS06kL31 z(j01uA HJiA45-t02-Z(I66-o R P p27 R69 R—57 G77-r11(g03-N T(E N(SR68Q1V21(c71 v94(h… R19    CD g(n ,D9,” B49-Z29-.44(q z05)83I98 ... M91V(N24(c(l(B47 z93-P(j ”00u5E m46-J(I,…..:25Cv38-a08-S45-K42-N –47(t93(c(v(V75G F48 z Bb15(. F(k N56F D i s61t:„84F2-l06-s eH(Eu h :03 H6 Lp66N04(kS(l'83u(uL F(f00-o16 v(I70E no08R9 A61(qA67-s55z47 z42,('09.( T F95 Jh-32-r7(c89 d H69 ( U(k91-h(n89u:,”F56.. u Ql no r00-N(d21Vp80E67B22..97-'Kv(t31-e(I24E13.(1D16-C9 ...79-Nl(K37-o03-N–41 j24 J b02P(G(v P(P o(fM88-J04QJ R90 gD ”49N U11 d59uF c Lq31(T i(v(l66-m67 H5.' …00(h55,”01j13(c38-Z     AE G15) n90 G77(k75k84G(B D(j ( ( )64(c27-j(u m55,”F o61-S01.'58Q, Y97-r72 K34-Zt57M3 d72(s z J(B(j.090aF02 H(d55(q13-o D2t Z20 L(l(u :09-N2 T48C29B00 –84-K(V64(e31(GmE(B04(T21-o6-U77 no(nv1-. L z84...K(L70 ... g T03F S(m q—26(k –d(C31'       ND45,”89(t29(q21(G1(c F M b98 p2 iH42-Ul67FbZ i11..u o(jT(f(v(I9-U'83-S37-'D11(Uu27-a39 G(A37r02”Pq(Gu13 R s(Q55h1 S91-h84-Nh , R(j H(Ek(p(k88.(94-m–“I53V g15d97     ic –16 i F66:17(sV03.'Z95,” q(E19(q19t c P08I no48(hF(v15-J71-r55 d64 p86 L(l46kS01S(u b V00(' r(N94Nc(v47-A d :3 jI82nQ01...89 H93 m02zA(G76-Z1-L,): h02-o) M(n s89N89 ”41-C02(q(z86 (84.( i – E(n57(.71-a06M6Q N61N(mE44-K T(RkC—D50 K K b Bz08S68 ...64 J —Q R(u77-a81l P F(u(t(G T28(t39 l N59u9-Z53-J06Q (49 A47 H34-o93E(l20N94(k(gL(R19 G s D(f J2-N30-'32o89I03(. o(R . Mv14-Z(E(m m b2I98(qG02Q65-rT D13(t(d16-K'.'m(n(Kj21,”06 (19 H22-j p67 , o02 no72g   \n"
     ]
    },
    {
     "name": "stderr",
     "output_type": "stream",
     "text": [
      "2891it [03:33,  1.58it/s]"
     ]
    },
    {
     "name": "stdout",
     "output_type": "stream",
     "text": [
      "['39-45', '46-51', '78', '79']\n"
     ]
    },
    {
     "name": "stderr",
     "output_type": "stream",
     "text": [
      "2902it [03:34,  1.85it/s]"
     ]
    },
    {
     "name": "stdout",
     "output_type": "stream",
     "text": [
      "['78', '32-35', '29-31']\n"
     ]
    },
    {
     "name": "stderr",
     "output_type": "stream",
     "text": [
      "2913it [03:35,  2.23it/s]"
     ]
    },
    {
     "name": "stdout",
     "output_type": "stream",
     "text": [
      "['39-45', '78', '24-27']\n"
     ]
    },
    {
     "name": "stderr",
     "output_type": "stream",
     "text": [
      "2955it [03:37,  4.18it/s]"
     ]
    },
    {
     "name": "stdout",
     "output_type": "stream",
     "text": [
      "['46-51', '39-45', '78', 'V40-V49']\n"
     ]
    },
    {
     "name": "stderr",
     "output_type": "stream",
     "text": [
      "3137it [03:46, 10.59it/s]"
     ]
    },
    {
     "name": "stdout",
     "output_type": "stream",
     "text": [
      "['71-73', '78', '80-83']\n"
     ]
    },
    {
     "name": "stderr",
     "output_type": "stream",
     "text": [
      "3140it [03:46, 10.28it/s]"
     ]
    },
    {
     "name": "stdout",
     "output_type": "stream",
     "text": [
      "['39-45']\n"
     ]
    },
    {
     "name": "stderr",
     "output_type": "stream",
     "text": [
      "3156it [03:47, 10.86it/s]"
     ]
    },
    {
     "name": "stdout",
     "output_type": "stream",
     "text": [
      "['39-45', '78', '46-51']\n"
     ]
    },
    {
     "name": "stderr",
     "output_type": "stream",
     "text": [
      "3188it [03:49, 12.39it/s]"
     ]
    },
    {
     "name": "stdout",
     "output_type": "stream",
     "text": [
      "['32-35', '36-38', '78']\n"
     ]
    },
    {
     "name": "stderr",
     "output_type": "stream",
     "text": [
      "3212it [03:49, 14.08it/s]"
     ]
    },
    {
     "name": "stdout",
     "output_type": "stream",
     "text": [
      "['39-45', '78', 'V88-V88', '32-35']\n"
     ]
    },
    {
     "name": "stderr",
     "output_type": "stream",
     "text": [
      "3304it [03:50, 26.45it/s]"
     ]
    },
    {
     "name": "stdout",
     "output_type": "stream",
     "text": [
      "['46-51', '39-45', '78', '79']\n"
     ]
    },
    {
     "name": "stderr",
     "output_type": "stream",
     "text": [
      "3406it [04:52,  3.33it/s]"
     ]
    },
    {
     "name": "stdout",
     "output_type": "stream",
     "text": [
      "['46-51', 'V30-V39', '39-45']\n"
     ]
    },
    {
     "name": "stderr",
     "output_type": "stream",
     "text": [
      "3430it [04:53,  3.77it/s]"
     ]
    },
    {
     "name": "stdout",
     "output_type": "stream",
     "text": [
      "['39-45', '46-51', '36-38']\n"
     ]
    },
    {
     "name": "stderr",
     "output_type": "stream",
     "text": [
      "3449it [04:56,  4.01it/s]"
     ]
    },
    {
     "name": "stdout",
     "output_type": "stream",
     "text": [
      "['78', '46-51', '39-45', '24-27', '32-35', '84-95']\n"
     ]
    },
    {
     "name": "stderr",
     "output_type": "stream",
     "text": [
      "3518it [04:57,  6.51it/s]"
     ]
    },
    {
     "name": "stdout",
     "output_type": "stream",
     "text": [
      "['39-45', '78']\n"
     ]
    },
    {
     "name": "stderr",
     "output_type": "stream",
     "text": [
      "3567it [04:58,  8.70it/s]"
     ]
    },
    {
     "name": "stdout",
     "output_type": "stream",
     "text": [
      "['39-45', '71-73', '78']\n"
     ]
    },
    {
     "name": "stderr",
     "output_type": "stream",
     "text": [
      "3580it [04:59,  8.99it/s]"
     ]
    },
    {
     "name": "stdout",
     "output_type": "stream",
     "text": [
      "['39-45', '46-51']\n"
     ]
    },
    {
     "name": "stderr",
     "output_type": "stream",
     "text": [
      "3706it [05:00, 19.67it/s]"
     ]
    },
    {
     "name": "stdout",
     "output_type": "stream",
     "text": [
      "['39-45', '46-51', '78', '24-27']\n"
     ]
    },
    {
     "name": "stderr",
     "output_type": "stream",
     "text": [
      "3716it [05:01, 18.29it/s]"
     ]
    },
    {
     "name": "stdout",
     "output_type": "stream",
     "text": [
      "['46-51', '39-45', '78', '79']\n"
     ]
    },
    {
     "name": "stderr",
     "output_type": "stream",
     "text": [
      "3731it [05:02, 18.00it/s]"
     ]
    },
    {
     "name": "stdout",
     "output_type": "stream",
     "text": [
      "['32-35', '78', '79']\n"
     ]
    },
    {
     "name": "stderr",
     "output_type": "stream",
     "text": [
      "3735it [05:03, 15.23it/s]"
     ]
    },
    {
     "name": "stdout",
     "output_type": "stream",
     "text": [
      "['39-45', '46-51', '78', '79']\n"
     ]
    },
    {
     "name": "stderr",
     "output_type": "stream",
     "text": [
      "3741it [05:04, 13.41it/s]"
     ]
    }
   ],
   "source": [
    "def metrics_calc(type = 'one symptom', raw_test_df = raw_test_df, disease_df = disease_df, method = 'llm', model_name = 'groq'):\n",
    "\n",
    "    true_labels = []\n",
    "    predicted_labels = []\n",
    "\n",
    "    for i,j in tqdm(raw_test_df.iterrows()): \n",
    "            if type == 'one symptom' : \n",
    "                if len(j.Symptoms)==1 : \n",
    "                    true_label = j.Category.split(',')\n",
    "                    true_labels.append(list(set(true_label)))\n",
    "                    pred_labels = get_prioritized_relationships(j.Symptoms,weightage=1,limit= 20 )[0]\n",
    "                    \n",
    "                    code_desc_tuples = list(set(disease_df[disease_df.Code.isin(pred_labels)][['Code', 'Description']].reset_index(drop = True).itertuples(index=False, name=None)))\n",
    "                    refined_pred_labels = aug_and_gen(code_desc_tuples,j.Symptoms, model=model_name, method = method)\n",
    "                    print(refined_pred_labels)\n",
    "                    refined_pred_labels = refined_pred_labels[2:-2].split(\"', '\")\n",
    "                    \n",
    "                    predicted_labels.append(list(set(refined_pred_labels)))\n",
    "\n",
    "            elif type == 'two symptoms' : \n",
    "                if len(j.Symptoms)==2 : \n",
    "                    true_label = j.Category.split(',')\n",
    "                    true_labels.append(list(set(true_label)))\n",
    "                    pred_labels = get_prioritized_relationships(j.Symptoms,weightage=1,limit= 20 )[0]\n",
    "                    \n",
    "                    code_desc_tuples = list(set(disease_df[disease_df.Code.isin(pred_labels)][['Code', 'Description']].reset_index(drop = True).itertuples(index=False, name=None)))\n",
    "                    refined_pred_labels = aug_and_gen(code_desc_tuples,j.Symptoms, model =model_name, method = method)\n",
    "                    print(refined_pred_labels)\n",
    "                    refined_pred_labels = refined_pred_labels[2:-2].split(\"', '\")\n",
    "                    \n",
    "                    predicted_labels.append(list(set(refined_pred_labels)))\n",
    "\n",
    "            elif type == 'three symptoms' : \n",
    "                if len(j.Symptoms)==3 : \n",
    "                    true_label = j.Category.split(',')\n",
    "                    true_labels.append(list(set(true_label)))\n",
    "                    pred_labels = get_prioritized_relationships(j.Symptoms,weightage=1,limit= 20 )[0]\n",
    "                    \n",
    "                    code_desc_tuples = list(set(disease_df[disease_df.Code.isin(pred_labels)][['Code', 'Description']].reset_index(drop = True).itertuples(index=False, name=None)))\n",
    "                    refined_pred_labels = aug_and_gen(code_desc_tuples,j.Symptoms,model =model_name,method = method)\n",
    "                    print(refined_pred_labels)\n",
    "                    refined_pred_labels = refined_pred_labels[2:-2].split(\"', '\")\n",
    "                    \n",
    "                    predicted_labels.append(list(set(refined_pred_labels)))\n",
    "\n",
    "            elif type == 'more than 3 symptoms' : \n",
    "                if len(j.Symptoms)>3 : \n",
    "                    true_label = j.Category.split(',')\n",
    "                    true_labels.append(list(set(true_label)))\n",
    "                    pred_labels = get_prioritized_relationships(j.Symptoms,weightage=1,limit= 20)[0]\n",
    "                    \n",
    "                    code_desc_tuples = list(set(disease_df[disease_df.Code.isin(pred_labels)][['Code', 'Description']].reset_index(drop = True).itertuples(index=False, name=None)))\n",
    "                    refined_pred_labels = aug_and_gen(code_desc_tuples,j.Symptoms, model =model_name,method = method)\n",
    "                    print(refined_pred_labels)\n",
    "                    refined_pred_labels = refined_pred_labels[2:-2].split(\"', '\")\n",
    "                    \n",
    "                    predicted_labels.append(list(set(refined_pred_labels)))\n",
    "            \n",
    "                    \n",
    "            \n",
    "\n",
    "\n",
    "    print(f\"Number of rows : {len(true_labels)}\")\n",
    "    print(true_labels)\n",
    "    print(predicted_labels)\n",
    "\n",
    "    true_binary_matrix = create_binary_matrix(true_labels, classes)\n",
    "    predicted_binary_matrix = create_binary_matrix(predicted_labels, classes)\n",
    "    \n",
    "\n",
    "    auroc_score = roc_auc(predicted_binary_matrix, true_binary_matrix, multilabel=True)\n",
    "    print(f\"Macro Averaged AUROC Score: {auroc_score}\")\n",
    "\n",
    "\n",
    "    precision = precision_score(true_binary_matrix, predicted_binary_matrix, average='micro', zero_division=0)\n",
    "    recall = recall_score(true_binary_matrix, predicted_binary_matrix, average='micro', zero_division=0)\n",
    "    f1 = f1_score(true_binary_matrix, predicted_binary_matrix, average='micro', zero_division=0)\n",
    "\n",
    "    precision_m = precision_score(true_binary_matrix, predicted_binary_matrix, average='macro', zero_division=0)\n",
    "    recall_m = recall_score(true_binary_matrix, predicted_binary_matrix, average='macro', zero_division=0)\n",
    "    f1_m = f1_score(true_binary_matrix, predicted_binary_matrix, average='macro', zero_division=0)\n",
    "\n",
    "\n",
    "    print(f\"Micro Averaged Precision: {precision}\")\n",
    "    print(f\"Micro Averaged Recall: {recall}\")\n",
    "    print(f\"Micro Averaged F1-Score: {f1}\")\n",
    "\n",
    "    print(f\"Macro Averaged Precision: {precision_m}\")\n",
    "    print(f\"Macro Averaged Recall: {recall_m}\")\n",
    "    print(f\"Macro Averaged F1-Score: {f1_m}\")\n",
    "\n",
    "\n",
    "metrics_calc(type = 'one symptom',method='llm', model_name= 'groq')"
   ]
  },
  {
   "cell_type": "markdown",
   "metadata": {},
   "source": [
    "### MIMIC KG based  : \n",
    "\n",
    "- without llm, jjust knowledge graph : \n",
    "\n",
    "| Type                       | Number of Rows | Macro Averaged AUROC Score | Micro Averaged Precision | Micro Averaged Recall | Micro Averaged F1-Score | Macro Averaged Precision | Macro Averaged Recall | Macro Averaged F1-Score |\n",
    "|----------------------------|----------------|----------------------------|--------------------------|-----------------------|-------------------------|--------------------------|-----------------------|-------------------------|\n",
    "| Single Symptom              | 224            | 0.4723445909278866          | 0.16290212183436004       | 0.6925315227934045     | 0.26376062061322497      | 0.11825917706440202       | 0.43180014769528724    | 0.1590802227349518       |\n",
    "| Two Symptoms                | 536            | 0.5202401454442502          | 0.18903730249226258       | 0.8283369022127052     | 0.30782493368700264      | 0.13995083123499627       | 0.6043024076921084     | 0.19748417282824415      |\n",
    "| Three Symptoms              | 818            | 0.507191708694502           | 0.18194150063586265       | 0.9437115215479331     | 0.3050678797355889       | 0.14847040067553025       | 0.7469264629850801     | 0.21789116867971023      |\n",
    "| More than Three Symptoms    | 7155           | 0.5158831933120694          | 0.22374881843496922       | 0.9513371423605831     | 0.36228934501501575      | 0.17221372751016636       | 0.7468493254495923     | 0.2476602454171145       |\n",
    "\n",
    "\n",
    "\n",
    "- one symptom, only llm :\n",
    "\n",
    "Macro Averaged AUROC Score: 0.6136904761904762\n",
    "Micro Averaged Precision: 0.3333333333333333\n",
    "Micro Averaged Recall: 0.4\n",
    "Micro Averaged F1-Score: 0.36363636363636365\n",
    "Macro Averaged Precision: 0.16885964912280702\n",
    "Macro Averaged Recall: 0.16666666666666666\n",
    "Macro Averaged F1-Score: 0.1482456140350877\n",
    "\n",
    "- one symptom, rag : \n",
    "\n",
    "Macro Averaged AUROC Score: 0.5863095238095238\n",
    "Micro Averaged Precision: 0.29411764705882354\n",
    "Micro Averaged Recall: 0.4\n",
    "Micro Averaged F1-Score: 0.3389830508474576\n",
    "Macro Averaged Precision: 0.13157894736842105\n",
    "Macro Averaged Recall: 0.1513157894736842\n",
    "Macro Averaged F1-Score: 0.12832080200501253\n",
    "\n",
    "- two symptoms, only llm : \n",
    "\n",
    "Macro Averaged AUROC Score: 0.5632807007807008\n",
    "Micro Averaged Precision: 0.3142857142857143\n",
    "Micro Averaged Recall: 0.3235294117647059\n",
    "Micro Averaged F1-Score: 0.3188405797101449\n",
    "Macro Averaged Precision: 0.12105263157894736\n",
    "Macro Averaged Recall: 0.1313112326270221\n",
    "Macro Averaged F1-Score: 0.10443175245806824\n",
    "\n",
    "- two symptoms, rag : \n",
    "\n",
    "Macro Averaged AUROC Score: 0.5847924066674066\n",
    "Micro Averaged Precision: 0.3764705882352941\n",
    "Micro Averaged Recall: 0.47058823529411764\n",
    "Micro Averaged F1-Score: 0.41830065359477125\n",
    "Macro Averaged Precision: 0.16461247086247086\n",
    "Macro Averaged Recall: 0.175706311232627\n",
    "Macro Averaged F1-Score: 0.15557755797693876\n",
    "\n",
    "\n",
    "- three symptoms, only llm : \n",
    "\n",
    "Macro Averaged AUROC Score: 0.5862140504330619\n",
    "Micro Averaged Precision: 0.4580152671755725\n",
    "Micro Averaged Recall: 0.4838709677419355\n",
    "Micro Averaged F1-Score: 0.47058823529411764\n",
    "Macro Averaged Precision: 0.1790889322236071\n",
    "Macro Averaged Recall: 0.2150480367585631\n",
    "Macro Averaged F1-Score: 0.17859963190568284\n",
    "\n",
    "- three symptoms, rag : \n",
    "\n",
    "Macro Averaged AUROC Score: 0.6097125865231792\n",
    "Micro Averaged Precision: 0.5425531914893617\n",
    "Micro Averaged Recall: 0.4112903225806452\n",
    "Micro Averaged F1-Score: 0.46788990825688076\n",
    "Macro Averaged Precision: 0.23222327208395319\n",
    "Macro Averaged Recall: 0.19341060985797826\n",
    "Macro Averaged F1-Score: 0.18817168916987428\n",
    "\n",
    "\n",
    "\n",
    "- more than three symptoms, only llm :\n",
    " \n",
    "Macro Averaged AUROC Score: 0.5862140504330619\n",
    "Micro Averaged Precision: 0.4580152671755725\n",
    "Micro Averaged Recall: 0.4838709677419355\n",
    "Micro Averaged F1-Score: 0.47058823529411764\n",
    "Macro Averaged Precision: 0.1790889322236071\n",
    "Macro Averaged Recall: 0.2150480367585631\n",
    "Macro Averaged F1-Score: 0.17859963190568284\n",
    "\n",
    "- more than three symptoms, rag : \n",
    "\n",
    "Macro Averaged AUROC Score: 0.6097125865231792\n",
    "Micro Averaged Precision: 0.5425531914893617\n",
    "Micro Averaged Recall: 0.4112903225806452\n",
    "Micro Averaged F1-Score: 0.46788990825688076\n",
    "Macro Averaged Precision: 0.23222327208395319\n",
    "Macro Averaged Recall: 0.19341060985797826\n",
    "Macro Averaged F1-Score: 0.18817168916987428\n",
    "\n",
    "\n",
    "\n",
    "\n",
    "\n"
   ]
  },
  {
   "cell_type": "code",
   "execution_count": null,
   "metadata": {},
   "outputs": [
    {
     "name": "stderr",
     "output_type": "stream",
     "text": [
      "2it [00:08,  4.11s/it]"
     ]
    },
    {
     "name": "stdout",
     "output_type": "stream",
     "text": [
      "['39-45', '46-51', 'V40-V49', '78']\n"
     ]
    },
    {
     "name": "stderr",
     "output_type": "stream",
     "text": [
      "62it [00:16,  4.46it/s]"
     ]
    },
    {
     "name": "stdout",
     "output_type": "stream",
     "text": [
      "['14-20', '39-45', '46-51', '52-57', '78', 'V40-V49']\n"
     ]
    },
    {
     "name": "stderr",
     "output_type": "stream",
     "text": [
      "71it [00:22,  3.31it/s]"
     ]
    },
    {
     "name": "stdout",
     "output_type": "stream",
     "text": [
      "['V87-V87', 'V70-V82', '78', '58-62', '67', 'V85-V85', '14-20']\n"
     ]
    },
    {
     "name": "stderr",
     "output_type": "stream",
     "text": [
      "81it [00:30,  2.38it/s]"
     ]
    },
    {
     "name": "stdout",
     "output_type": "stream",
     "text": [
      "['46-51', '14-20', '78', '28', '21-23', '24-27']\n"
     ]
    },
    {
     "name": "stderr",
     "output_type": "stream",
     "text": [
      "152it [00:39,  4.66it/s]"
     ]
    },
    {
     "name": "stdout",
     "output_type": "stream",
     "text": [
      "['78', 'V40-V49', '28', '29-31', '39-45', '79']\n"
     ]
    },
    {
     "name": "stderr",
     "output_type": "stream",
     "text": [
      "200it [00:44,  4.51it/s]"
     ]
    },
    {
     "name": "stdout",
     "output_type": "stream",
     "text": [
      "['11-13', '14-20', '21-23', '71-73', '78']\n",
      "Number of rows : 6\n",
      "[['24-27', '96-99', 'V87-V87', '39-45', 'V40-V49', 'V10-V19'], ['24-27', '78', '96-99', '52-57', '39-45'], ['21-23', '28'], ['14-20'], ['29-31', 'V10-V19', '32-35', '39-45'], ['24-27', '71-73', '52-57', '39-45', 'V40-V49', '14-20', 'V10-V19']]\n",
      "[['V40-V49', '46-51', '78', '39-45'], ['78', '52-57', '46-51', '39-45', 'V40-V49', '14-20'], ['78', 'V87-V87', '58-62', 'V70-V82', 'V85-V85', '14-20', '67'], ['24-27', '28', '78', '46-51', '21-23', '14-20'], ['78', '28', '79', '39-45', 'V40-V49', '29-31'], ['78', '71-73', '11-13', '21-23', '14-20']]\n",
      "Macro Averaged AUROC Score: 0.5863095238095238\n",
      "Micro Averaged Precision: 0.29411764705882354\n",
      "Micro Averaged Recall: 0.4\n",
      "Micro Averaged F1-Score: 0.3389830508474576\n",
      "Macro Averaged Precision: 0.13157894736842105\n",
      "Macro Averaged Recall: 0.1513157894736842\n",
      "Macro Averaged F1-Score: 0.12832080200501253\n"
     ]
    },
    {
     "name": "stderr",
     "output_type": "stream",
     "text": [
      "\n"
     ]
    }
   ],
   "source": [
    "metrics_calc(type = 'one symptom',method='rag', model_name= 'groq')"
   ]
  },
  {
   "cell_type": "code",
   "execution_count": 1118,
   "metadata": {},
   "outputs": [
    {
     "name": "stderr",
     "output_type": "stream",
     "text": [
      "9it [00:00, 13.37it/s]"
     ]
    },
    {
     "name": "stdout",
     "output_type": "stream",
     "text": [
      "['71-73', '80-83', '78', '24-27']\n"
     ]
    },
    {
     "name": "stderr",
     "output_type": "stream",
     "text": [
      "14it [00:01, 10.07it/s]"
     ]
    },
    {
     "name": "stdout",
     "output_type": "stream",
     "text": [
      "['39-45', '46-51', '78']\n"
     ]
    },
    {
     "name": "stderr",
     "output_type": "stream",
     "text": [
      "16it [00:12,  1.21s/it]"
     ]
    },
    {
     "name": "stdout",
     "output_type": "stream",
     "text": [
      "['52-57', '24-27', '78', '29-31', '32-35', '58-62', '68-70']\n"
     ]
    },
    {
     "name": "stderr",
     "output_type": "stream",
     "text": [
      "27it [00:24,  1.16s/it]"
     ]
    },
    {
     "name": "stdout",
     "output_type": "stream",
     "text": [
      "['39-45', '46-51', '52-57', '78', '79']\n"
     ]
    },
    {
     "name": "stderr",
     "output_type": "stream",
     "text": [
      "42it [00:37,  1.03it/s]"
     ]
    },
    {
     "name": "stdout",
     "output_type": "stream",
     "text": [
      "['39-45', '46-51', '78', '79']\n"
     ]
    },
    {
     "name": "stderr",
     "output_type": "stream",
     "text": [
      "44it [00:48,  1.41s/it]"
     ]
    },
    {
     "name": "stdout",
     "output_type": "stream",
     "text": [
      "['52-57', '24-27', '58-62', '63-66', '68-70']\n"
     ]
    },
    {
     "name": "stderr",
     "output_type": "stream",
     "text": [
      "53it [01:00,  1.39s/it]"
     ]
    },
    {
     "name": "stdout",
     "output_type": "stream",
     "text": [
      "['29-31', '32-35', '79', '78']\n"
     ]
    },
    {
     "name": "stderr",
     "output_type": "stream",
     "text": [
      "61it [01:11,  1.39s/it]"
     ]
    },
    {
     "name": "stdout",
     "output_type": "stream",
     "text": [
      "['46-51', '39-45', '78', '24-27']\n"
     ]
    },
    {
     "name": "stderr",
     "output_type": "stream",
     "text": [
      "90it [01:24,  1.25it/s]"
     ]
    },
    {
     "name": "stdout",
     "output_type": "stream",
     "text": [
      "['71-73', '39-45', '78', '80-83']\n"
     ]
    },
    {
     "name": "stderr",
     "output_type": "stream",
     "text": [
      "94it [01:35,  1.01s/it]"
     ]
    },
    {
     "name": "stdout",
     "output_type": "stream",
     "text": [
      "['32-35', '78', '39-45', '46-51', '79']\n"
     ]
    },
    {
     "name": "stderr",
     "output_type": "stream",
     "text": [
      "95it [01:47,  1.41s/it]"
     ]
    },
    {
     "name": "stdout",
     "output_type": "stream",
     "text": [
      "['32-35', '39-45', '79', '78']\n"
     ]
    },
    {
     "name": "stderr",
     "output_type": "stream",
     "text": [
      "109it [01:59,  1.18s/it]"
     ]
    },
    {
     "name": "stdout",
     "output_type": "stream",
     "text": [
      "['29-31', '71-73', '24-27', '78', '39-45']\n"
     ]
    },
    {
     "name": "stderr",
     "output_type": "stream",
     "text": [
      "118it [02:10,  1.20s/it]"
     ]
    },
    {
     "name": "stdout",
     "output_type": "stream",
     "text": [
      "['29-31', '46-51', '78']\n"
     ]
    },
    {
     "name": "stderr",
     "output_type": "stream",
     "text": [
      "135it [02:22,  1.01it/s]"
     ]
    },
    {
     "name": "stdout",
     "output_type": "stream",
     "text": [
      "['78', '71-73', '52-57']\n"
     ]
    },
    {
     "name": "stderr",
     "output_type": "stream",
     "text": [
      "138it [02:34,  1.27s/it]"
     ]
    },
    {
     "name": "stdout",
     "output_type": "stream",
     "text": [
      "['32-35', '80-83', '84-95']\n"
     ]
    },
    {
     "name": "stderr",
     "output_type": "stream",
     "text": [
      "191it [02:46,  1.90it/s]"
     ]
    },
    {
     "name": "stdout",
     "output_type": "stream",
     "text": [
      "['39-45', '46-51', '78']\n"
     ]
    },
    {
     "name": "stderr",
     "output_type": "stream",
     "text": [
      "200it [02:57,  1.13it/s]"
     ]
    },
    {
     "name": "stdout",
     "output_type": "stream",
     "text": [
      "['32-35', '39-45', '46-51', '78']\n",
      "Number of rows : 17\n",
      "[['24-27', '71-73', '52-57', '39-45', 'V40-V49', 'V10-V19'], ['24-27', '96-99', '46-51', '58-62', '39-45'], ['24-27', '52-57', '46-51', '58-62', '39-45', 'V40-V49'], ['39-45'], ['24-27', '71-73', '46-51', '39-45', 'V40-V49', '29-31', 'V10-V19'], ['52-57', '14-20', '00-10'], ['84-95'], ['24-27', '28', 'V10-V19', '39-45'], ['24-27', '39-45'], ['14-20', '39-45'], ['24-27', '52-57', '46-51', '14-20', 'V10-V19'], ['24-27', '96-99', '46-51', '58-62', '39-45'], ['28', '71-73', '78', '96-99', '39-45'], ['58-62', '39-45'], ['24-27', '80-83', '84-95', '39-45', 'V40-V49'], ['24-27', '28', '39-45'], ['24-27', 'V50-V59', '74-75', '39-45', '29-31', '00-10']]\n",
      "[['24-27', '80-83', '78', '71-73'], ['46-51', '78', '39-45'], ['24-27', '78', '52-57', '58-62', '32-35', '68-70', '29-31'], ['78', '52-57', '46-51', '79', '39-45'], ['46-51', '78', '79', '39-45'], ['24-27', '63-66', '52-57', '58-62', '68-70'], ['78', '79', '32-35', '29-31'], ['24-27', '46-51', '78', '39-45'], ['80-83', '78', '71-73', '39-45'], ['78', '46-51', '79', '32-35', '39-45'], ['78', '79', '32-35', '39-45'], ['24-27', '78', '71-73', '39-45', '29-31'], ['46-51', '78', '29-31'], ['52-57', '78', '71-73'], ['80-83', '32-35', '84-95'], ['46-51', '78', '39-45'], ['46-51', '78', '32-35', '39-45']]\n",
      "Macro Averaged AUROC Score: 0.5632807007807008\n",
      "Micro Averaged Precision: 0.3142857142857143\n",
      "Micro Averaged Recall: 0.3235294117647059\n",
      "Micro Averaged F1-Score: 0.3188405797101449\n",
      "Macro Averaged Precision: 0.12105263157894736\n",
      "Macro Averaged Recall: 0.1313112326270221\n",
      "Macro Averaged F1-Score: 0.10443175245806824\n"
     ]
    },
    {
     "name": "stderr",
     "output_type": "stream",
     "text": [
      "\n"
     ]
    }
   ],
   "source": [
    "metrics_calc(type = 'two symptoms',method='llm', model_name= 'groq')"
   ]
  },
  {
   "cell_type": "code",
   "execution_count": 1119,
   "metadata": {},
   "outputs": [
    {
     "name": "stderr",
     "output_type": "stream",
     "text": [
      "9it [00:06,  1.49it/s]"
     ]
    },
    {
     "name": "stdout",
     "output_type": "stream",
     "text": [
      "['39-45', '21-23', '24-27', '78', '14-20']\n"
     ]
    },
    {
     "name": "stderr",
     "output_type": "stream",
     "text": [
      "14it [00:13,  1.03s/it]"
     ]
    },
    {
     "name": "stdout",
     "output_type": "stream",
     "text": [
      "['39-45', '46-51', 'V40-V49', '78']\n"
     ]
    },
    {
     "name": "stderr",
     "output_type": "stream",
     "text": [
      "15it [00:21,  1.84s/it]"
     ]
    },
    {
     "name": "stdout",
     "output_type": "stream",
     "text": [
      "['78', '29-31', '52-57', '39-45', '24-27', '71-73', '79']\n"
     ]
    },
    {
     "name": "stderr",
     "output_type": "stream",
     "text": [
      "27it [00:27,  1.04it/s]"
     ]
    },
    {
     "name": "stdout",
     "output_type": "stream",
     "text": [
      "['52-57', '39-45', '24-27', '96-99']\n"
     ]
    },
    {
     "name": "stderr",
     "output_type": "stream",
     "text": [
      "42it [00:35,  1.37it/s]"
     ]
    },
    {
     "name": "stdout",
     "output_type": "stream",
     "text": [
      "['39-45', '46-51', '71-73', '78', 'V40-V49']\n"
     ]
    },
    {
     "name": "stderr",
     "output_type": "stream",
     "text": [
      "44it [00:43,  1.03s/it]"
     ]
    },
    {
     "name": "stdout",
     "output_type": "stream",
     "text": [
      "['52-57', '24-27', '68-70', '39-45', '78', '58-62', '79']\n"
     ]
    },
    {
     "name": "stderr",
     "output_type": "stream",
     "text": [
      "53it [00:51,  1.02it/s]"
     ]
    },
    {
     "name": "stdout",
     "output_type": "stream",
     "text": [
      "['29-31', '78', '32-35', '96-99']\n"
     ]
    },
    {
     "name": "stderr",
     "output_type": "stream",
     "text": [
      "61it [00:59,  1.01it/s]"
     ]
    },
    {
     "name": "stdout",
     "output_type": "stream",
     "text": [
      "['39-45', '46-51', '78', '24-27', '28']\n"
     ]
    },
    {
     "name": "stderr",
     "output_type": "stream",
     "text": [
      "90it [01:08,  1.77it/s]"
     ]
    },
    {
     "name": "stdout",
     "output_type": "stream",
     "text": [
      "['78', '39-45', '21-23', '58-62', '52-57', '24-27']\n"
     ]
    },
    {
     "name": "stderr",
     "output_type": "stream",
     "text": [
      "94it [01:17,  1.37it/s]"
     ]
    },
    {
     "name": "stdout",
     "output_type": "stream",
     "text": [
      "['32-35', '39-45', '14-20', '78']\n"
     ]
    },
    {
     "name": "stderr",
     "output_type": "stream",
     "text": [
      "95it [01:22,  1.13it/s]"
     ]
    },
    {
     "name": "stdout",
     "output_type": "stream",
     "text": [
      "['14-20', '24-27', '36-38', '78']\n"
     ]
    },
    {
     "name": "stderr",
     "output_type": "stream",
     "text": [
      "109it [01:30,  1.32it/s]"
     ]
    },
    {
     "name": "stdout",
     "output_type": "stream",
     "text": [
      "['78', '24-27', '46-51', '71-73', '29-31', '39-45']\n"
     ]
    },
    {
     "name": "stderr",
     "output_type": "stream",
     "text": [
      "118it [01:38,  1.26it/s]"
     ]
    },
    {
     "name": "stdout",
     "output_type": "stream",
     "text": [
      "['78', '46-51', '24-27', '29-31']\n"
     ]
    },
    {
     "name": "stderr",
     "output_type": "stream",
     "text": [
      "135it [01:46,  1.51it/s]"
     ]
    },
    {
     "name": "stdout",
     "output_type": "stream",
     "text": [
      "['39-45', '71-73', '52-57', '24-27', '78']\n"
     ]
    },
    {
     "name": "stderr",
     "output_type": "stream",
     "text": [
      "138it [01:53,  1.21it/s]"
     ]
    },
    {
     "name": "stdout",
     "output_type": "stream",
     "text": [
      "['32-35', '80-83', '84-95', '78']\n"
     ]
    },
    {
     "name": "stderr",
     "output_type": "stream",
     "text": [
      "191it [02:01,  2.86it/s]"
     ]
    },
    {
     "name": "stdout",
     "output_type": "stream",
     "text": [
      "['39-45', '78', 'V40-V49', '24-27', '29-31']\n"
     ]
    },
    {
     "name": "stderr",
     "output_type": "stream",
     "text": [
      "200it [02:10,  1.54it/s]"
     ]
    },
    {
     "name": "stdout",
     "output_type": "stream",
     "text": [
      "['32-35', '39-45', '71-73', '52-57', '28', '78']\n",
      "Number of rows : 17\n",
      "[['24-27', '71-73', '52-57', '39-45', 'V40-V49', 'V10-V19'], ['24-27', '96-99', '46-51', '58-62', '39-45'], ['24-27', '52-57', '46-51', '58-62', '39-45', 'V40-V49'], ['39-45'], ['24-27', '71-73', '46-51', '39-45', 'V40-V49', '29-31', 'V10-V19'], ['52-57', '14-20', '00-10'], ['84-95'], ['24-27', '28', 'V10-V19', '39-45'], ['24-27', '39-45'], ['14-20', '39-45'], ['24-27', '52-57', '46-51', '14-20', 'V10-V19'], ['24-27', '96-99', '46-51', '58-62', '39-45'], ['28', '71-73', '78', '96-99', '39-45'], ['58-62', '39-45'], ['24-27', '80-83', '84-95', '39-45', 'V40-V49'], ['24-27', '28', '39-45'], ['24-27', 'V50-V59', '74-75', '39-45', '29-31', '00-10']]\n",
      "[['24-27', '78', '39-45', '21-23', '14-20'], ['V40-V49', '46-51', '78', '39-45'], ['24-27', '78', '71-73', '52-57', '79', '39-45', '29-31'], ['52-57', '24-27', '96-99', '39-45'], ['78', '71-73', '46-51', '39-45', 'V40-V49'], ['24-27', '78', '52-57', '79', '68-70', '58-62', '39-45'], ['96-99', '78', '32-35', '29-31'], ['24-27', '78', '28', '46-51', '39-45'], ['24-27', '78', '52-57', '58-62', '39-45', '21-23'], ['78', '14-20', '32-35', '39-45'], ['24-27', '78', '14-20', '36-38'], ['24-27', '78', '71-73', '46-51', '39-45', '29-31'], ['24-27', '46-51', '78', '29-31'], ['24-27', '78', '71-73', '52-57', '39-45'], ['80-83', '78', '32-35', '84-95'], ['24-27', '78', '39-45', 'V40-V49', '29-31'], ['28', '71-73', '78', '52-57', '32-35', '39-45']]\n",
      "Macro Averaged AUROC Score: 0.5847924066674066\n",
      "Micro Averaged Precision: 0.3764705882352941\n",
      "Micro Averaged Recall: 0.47058823529411764\n",
      "Micro Averaged F1-Score: 0.41830065359477125\n",
      "Macro Averaged Precision: 0.16461247086247086\n",
      "Macro Averaged Recall: 0.175706311232627\n",
      "Macro Averaged F1-Score: 0.15557755797693876\n"
     ]
    },
    {
     "name": "stderr",
     "output_type": "stream",
     "text": [
      "\n"
     ]
    }
   ],
   "source": [
    "metrics_calc(type = 'two symptoms',method='rag', model_name= 'groq')"
   ]
  },
  {
   "cell_type": "code",
   "execution_count": 1120,
   "metadata": {},
   "outputs": [
    {
     "name": "stderr",
     "output_type": "stream",
     "text": [
      "4it [00:00,  4.60it/s]"
     ]
    },
    {
     "name": "stdout",
     "output_type": "stream",
     "text": [
      "['39-45', '74-75', '21-23', '78']\n"
     ]
    },
    {
     "name": "stderr",
     "output_type": "stream",
     "text": [
      "10it [00:01,  6.54it/s]"
     ]
    },
    {
     "name": "stdout",
     "output_type": "stream",
     "text": [
      "['78', '32-35', '24-27', '39-45', '46-51']\n"
     ]
    },
    {
     "name": "stderr",
     "output_type": "stream",
     "text": [
      "29it [00:02, 14.70it/s]"
     ]
    },
    {
     "name": "stdout",
     "output_type": "stream",
     "text": [
      "['46-51', '78', '96-99']\n"
     ]
    },
    {
     "name": "stderr",
     "output_type": "stream",
     "text": [
      "31it [00:10,  2.09it/s]"
     ]
    },
    {
     "name": "stdout",
     "output_type": "stream",
     "text": [
      "['78', '32-35', '39-45']\n"
     ]
    },
    {
     "name": "stderr",
     "output_type": "stream",
     "text": [
      "32it [00:21,  1.20s/it]"
     ]
    },
    {
     "name": "stdout",
     "output_type": "stream",
     "text": [
      "['39-45', '52-57', '24-27', '78']\n"
     ]
    },
    {
     "name": "stderr",
     "output_type": "stream",
     "text": [
      "47it [00:33,  1.03it/s]"
     ]
    },
    {
     "name": "stdout",
     "output_type": "stream",
     "text": [
      "['46-51', '39-45', '24-27', '78']\n"
     ]
    },
    {
     "name": "stderr",
     "output_type": "stream",
     "text": [
      "49it [00:45,  1.45s/it]"
     ]
    },
    {
     "name": "stdout",
     "output_type": "stream",
     "text": [
      "['71-73', '78', '80-83', '32-35', '58-62', '79']\n"
     ]
    },
    {
     "name": "stderr",
     "output_type": "stream",
     "text": [
      "51it [00:57,  2.04s/it]"
     ]
    },
    {
     "name": "stdout",
     "output_type": "stream",
     "text": [
      "['46-51', '39-45', '24-27', '78']\n"
     ]
    },
    {
     "name": "stderr",
     "output_type": "stream",
     "text": [
      "52it [01:09,  2.88s/it]"
     ]
    },
    {
     "name": "stdout",
     "output_type": "stream",
     "text": [
      "['14-20', '39-45', '21-23']\n"
     ]
    },
    {
     "name": "stderr",
     "output_type": "stream",
     "text": [
      "55it [01:20,  3.10s/it]"
     ]
    },
    {
     "name": "stdout",
     "output_type": "stream",
     "text": [
      "['46-51', '78', '39-45', '24-27']\n"
     ]
    },
    {
     "name": "stderr",
     "output_type": "stream",
     "text": [
      "63it [01:33,  2.31s/it]"
     ]
    },
    {
     "name": "stdout",
     "output_type": "stream",
     "text": [
      "['46-51', '78', '39-45']\n"
     ]
    },
    {
     "name": "stderr",
     "output_type": "stream",
     "text": [
      "70it [01:45,  2.11s/it]"
     ]
    },
    {
     "name": "stdout",
     "output_type": "stream",
     "text": [
      "['39-45', '52-57', '24-27', '11-13', '68-70', '46-51']\n"
     ]
    },
    {
     "name": "stderr",
     "output_type": "stream",
     "text": [
      "75it [01:56,  2.15s/it]"
     ]
    },
    {
     "name": "stdout",
     "output_type": "stream",
     "text": [
      "['46-51', '39-45', '78']\n"
     ]
    },
    {
     "name": "stderr",
     "output_type": "stream",
     "text": [
      "79it [02:08,  2.31s/it]"
     ]
    },
    {
     "name": "stdout",
     "output_type": "stream",
     "text": [
      "['39-45', '46-51', '78']\n"
     ]
    },
    {
     "name": "stderr",
     "output_type": "stream",
     "text": [
      "87it [02:20,  2.00s/it]"
     ]
    },
    {
     "name": "stdout",
     "output_type": "stream",
     "text": [
      "['32-35', '39-45', '78', '24-27']\n"
     ]
    },
    {
     "name": "stderr",
     "output_type": "stream",
     "text": [
      "114it [02:31,  1.06it/s]"
     ]
    },
    {
     "name": "stdout",
     "output_type": "stream",
     "text": [
      "['39-45', '46-51', '78']\n"
     ]
    },
    {
     "name": "stderr",
     "output_type": "stream",
     "text": [
      "139it [02:43,  1.37it/s]"
     ]
    },
    {
     "name": "stdout",
     "output_type": "stream",
     "text": [
      "['39-45', '46-51', '78']\n"
     ]
    },
    {
     "name": "stderr",
     "output_type": "stream",
     "text": [
      "159it [02:55,  1.46it/s]"
     ]
    },
    {
     "name": "stdout",
     "output_type": "stream",
     "text": [
      "['71-73', '68-70', '58-62', '39-45', '21-23', '78', '79']\n"
     ]
    },
    {
     "name": "stderr",
     "output_type": "stream",
     "text": [
      "163it [03:07,  1.11it/s]"
     ]
    },
    {
     "name": "stdout",
     "output_type": "stream",
     "text": [
      "['39-45', '46-51', '78']\n"
     ]
    },
    {
     "name": "stderr",
     "output_type": "stream",
     "text": [
      "179it [03:19,  1.20it/s]"
     ]
    },
    {
     "name": "stdout",
     "output_type": "stream",
     "text": [
      "['46-51', '39-45', '78']\n"
     ]
    },
    {
     "name": "stderr",
     "output_type": "stream",
     "text": [
      "192it [03:30,  1.18it/s]"
     ]
    },
    {
     "name": "stdout",
     "output_type": "stream",
     "text": [
      "['46-51', '39-45', '24-27', '78']\n"
     ]
    },
    {
     "name": "stderr",
     "output_type": "stream",
     "text": [
      "196it [03:43,  1.10s/it]"
     ]
    },
    {
     "name": "stdout",
     "output_type": "stream",
     "text": [
      "['39-45', '78', '46-51', '29-31', '79']\n"
     ]
    },
    {
     "name": "stderr",
     "output_type": "stream",
     "text": [
      "197it [03:54,  1.50s/it]"
     ]
    },
    {
     "name": "stdout",
     "output_type": "stream",
     "text": [
      "['46-51', '71-73', '78']\n"
     ]
    },
    {
     "name": "stderr",
     "output_type": "stream",
     "text": [
      "200it [04:06,  1.23s/it]"
     ]
    },
    {
     "name": "stdout",
     "output_type": "stream",
     "text": [
      "['39-45', '46-51', '78', '24-27']\n",
      "Number of rows : 24\n",
      "[['78', '74-75', '39-45'], ['24-27', '78', 'V50-V59', '46-51', '79', '58-62', '39-45', 'V40-V49', '29-31', 'V10-V19'], ['24-27', '71-73', '96-99', '46-51', '79', '58-62', 'V40-V49', '14-20', '29-31', 'V10-V19', '00-10'], ['24-27', '78', '32-35', '39-45', 'V10-V19'], ['78', '28', '52-57', '96-99', '58-62', 'V40-V49', '29-31', 'V10-V19', '00-10'], ['46-51', '71-73', '39-45'], ['80-83', '28', '84-95'], ['V40-V49', '39-45'], ['21-23', '14-20', '39-45'], ['24-27', '71-73', '52-57', '58-62', '39-45', 'V40-V49', 'V10-V19'], ['24-27', '46-51', '32-35', '39-45'], ['24-27', '52-57', '39-45'], ['24-27', 'V10-V19', '58-62', '39-45'], ['V50-V59', '28', '32-35', '39-45'], ['24-27', '78', 'V50-V59', '96-99', '46-51', '39-45', '21-23', 'V10-V19'], ['24-27', '28', '71-73', '46-51', '39-45', 'V10-V19'], ['24-27', '39-45'], ['24-27', '28', '71-73', '96-99', '58-62', '32-35', '39-45', 'V10-V19'], ['24-27', '28', '39-45'], ['28', '78', '39-45', '14-20', 'V10-V19'], ['24-27', '78', '28', '96-99', '46-51', '58-62', '39-45', '00-10'], ['24-27', '46-51', '58-62', '39-45', 'V10-V19'], ['52-57', '46-51', 'V10-V19', '39-45'], ['24-27', '28', '39-45', 'V40-V49']]\n",
      "[['21-23', '78', '74-75', '39-45'], ['24-27', '78', '46-51', '32-35', '39-45'], ['96-99', '46-51', '78'], ['78', '32-35', '39-45'], ['52-57', '24-27', '78', '39-45'], ['24-27', '46-51', '78', '39-45'], ['80-83', '78', '71-73', '79', '58-62', '32-35'], ['24-27', '46-51', '78', '39-45'], ['21-23', '14-20', '39-45'], ['24-27', '46-51', '78', '39-45'], ['46-51', '78', '39-45'], ['24-27', '11-13', '52-57', '46-51', '68-70', '39-45'], ['46-51', '78', '39-45'], ['46-51', '78', '39-45'], ['24-27', '78', '32-35', '39-45'], ['46-51', '78', '39-45'], ['46-51', '78', '39-45'], ['78', '71-73', '79', '58-62', '68-70', '39-45', '21-23'], ['46-51', '78', '39-45'], ['46-51', '78', '39-45'], ['24-27', '46-51', '78', '39-45'], ['78', '46-51', '79', '39-45', '29-31'], ['46-51', '78', '71-73'], ['24-27', '46-51', '78', '39-45']]\n",
      "Macro Averaged AUROC Score: 0.6097125865231792\n",
      "Micro Averaged Precision: 0.5425531914893617\n",
      "Micro Averaged Recall: 0.4112903225806452\n",
      "Micro Averaged F1-Score: 0.46788990825688076\n",
      "Macro Averaged Precision: 0.23222327208395319\n",
      "Macro Averaged Recall: 0.19341060985797826\n",
      "Macro Averaged F1-Score: 0.18817168916987428\n"
     ]
    },
    {
     "name": "stderr",
     "output_type": "stream",
     "text": [
      "\n"
     ]
    }
   ],
   "source": [
    "metrics_calc(type = 'three symptoms',method='llm', model_name= 'groq')"
   ]
  },
  {
   "cell_type": "code",
   "execution_count": 1121,
   "metadata": {},
   "outputs": [
    {
     "name": "stderr",
     "output_type": "stream",
     "text": [
      "4it [00:06,  1.56s/it]"
     ]
    },
    {
     "name": "stdout",
     "output_type": "stream",
     "text": [
      "['39-45', '74-75', '78']\n"
     ]
    },
    {
     "name": "stderr",
     "output_type": "stream",
     "text": [
      "10it [00:14,  1.42s/it]"
     ]
    },
    {
     "name": "stdout",
     "output_type": "stream",
     "text": [
      "['39-45', '24-27', '78', '28', '11-13']\n"
     ]
    },
    {
     "name": "stderr",
     "output_type": "stream",
     "text": [
      "29it [00:22,  1.48it/s]"
     ]
    },
    {
     "name": "stdout",
     "output_type": "stream",
     "text": [
      "['78', '46-51', '96-99', '39-45', '28', '79']\n"
     ]
    },
    {
     "name": "stderr",
     "output_type": "stream",
     "text": [
      "31it [00:30,  1.02s/it]"
     ]
    },
    {
     "name": "stdout",
     "output_type": "stream",
     "text": [
      "['78', '39-45', '21-23', '32-35', '80-83']\n"
     ]
    },
    {
     "name": "stderr",
     "output_type": "stream",
     "text": [
      "32it [00:39,  1.51s/it]"
     ]
    },
    {
     "name": "stdout",
     "output_type": "stream",
     "text": [
      "['11-13', '24-27', '39-45', '52-57', '78']\n"
     ]
    },
    {
     "name": "stderr",
     "output_type": "stream",
     "text": [
      "47it [00:47,  1.06it/s]"
     ]
    },
    {
     "name": "stdout",
     "output_type": "stream",
     "text": [
      "['46-51', '28', '39-45', '24-27', '78', '96-99']\n"
     ]
    },
    {
     "name": "stderr",
     "output_type": "stream",
     "text": [
      "49it [00:55,  1.26s/it]"
     ]
    },
    {
     "name": "stdout",
     "output_type": "stream",
     "text": [
      "['72-73', '78', '80-83', '29-31', '21-23', '52-57', '58-62']\n"
     ]
    },
    {
     "name": "stderr",
     "output_type": "stream",
     "text": [
      "51it [01:03,  1.62s/it]"
     ]
    },
    {
     "name": "stdout",
     "output_type": "stream",
     "text": [
      "['46-51', '78', '24-27', '39-45', '28']\n"
     ]
    },
    {
     "name": "stderr",
     "output_type": "stream",
     "text": [
      "52it [01:09,  2.00s/it]"
     ]
    },
    {
     "name": "stdout",
     "output_type": "stream",
     "text": [
      "['174-175', '39-45', '394-398']\n"
     ]
    },
    {
     "name": "stderr",
     "output_type": "stream",
     "text": [
      "55it [01:17,  2.19s/it]"
     ]
    },
    {
     "name": "stdout",
     "output_type": "stream",
     "text": [
      "['46-51', '78', '39-45', '29-31', '24-27']\n"
     ]
    },
    {
     "name": "stderr",
     "output_type": "stream",
     "text": [
      "63it [01:26,  1.60s/it]"
     ]
    },
    {
     "name": "stdout",
     "output_type": "stream",
     "text": [
      "['46-51', '78', '96-99', '39-45', '24-27']\n"
     ]
    },
    {
     "name": "stderr",
     "output_type": "stream",
     "text": [
      "70it [01:32,  1.32s/it]"
     ]
    },
    {
     "name": "stdout",
     "output_type": "stream",
     "text": [
      "['39-45', '46-51', 'V10-V19', '24-27', 'V60-V69']\n"
     ]
    },
    {
     "name": "stderr",
     "output_type": "stream",
     "text": [
      "75it [01:40,  1.41s/it]"
     ]
    },
    {
     "name": "stdout",
     "output_type": "stream",
     "text": [
      "['78', '46-51', '39-45', '29-31', '24-27', '68-70', '52-57', '14-20']\n"
     ]
    },
    {
     "name": "stderr",
     "output_type": "stream",
     "text": [
      "79it [01:49,  1.60s/it]"
     ]
    },
    {
     "name": "stdout",
     "output_type": "stream",
     "text": [
      "['39-45', '21-23', '46-51', '78', '29-31', '24-27']\n"
     ]
    },
    {
     "name": "stderr",
     "output_type": "stream",
     "text": [
      "87it [01:57,  1.37s/it]"
     ]
    },
    {
     "name": "stdout",
     "output_type": "stream",
     "text": [
      "['78', '21-23', '14-20', '39-45', '79', '24-27']\n"
     ]
    },
    {
     "name": "stderr",
     "output_type": "stream",
     "text": [
      "114it [02:05,  1.51it/s]"
     ]
    },
    {
     "name": "stdout",
     "output_type": "stream",
     "text": [
      "['39-45', '46-51', '24-27', '78', '79', 'V10-V19', 'V40-V49']\n"
     ]
    },
    {
     "name": "stderr",
     "output_type": "stream",
     "text": [
      "139it [02:13,  1.98it/s]"
     ]
    },
    {
     "name": "stdout",
     "output_type": "stream",
     "text": [
      "['39-45', '28', '24-27', '46-51', '79', '14-20']\n"
     ]
    },
    {
     "name": "stderr",
     "output_type": "stream",
     "text": [
      "159it [02:20,  2.22it/s]"
     ]
    },
    {
     "name": "stdout",
     "output_type": "stream",
     "text": [
      "['39-45', '46-51', '78', '58-62', '96-99']\n"
     ]
    },
    {
     "name": "stderr",
     "output_type": "stream",
     "text": [
      "163it [02:28,  1.68it/s]"
     ]
    },
    {
     "name": "stdout",
     "output_type": "stream",
     "text": [
      "['39-45', '46-51', '32-35', '78', '28', '24-27']\n"
     ]
    },
    {
     "name": "stderr",
     "output_type": "stream",
     "text": [
      "179it [02:37,  1.77it/s]"
     ]
    },
    {
     "name": "stdout",
     "output_type": "stream",
     "text": [
      "['46-51', '28', '39-45', '78', '79']\n"
     ]
    },
    {
     "name": "stderr",
     "output_type": "stream",
     "text": [
      "192it [02:45,  1.71it/s]"
     ]
    },
    {
     "name": "stdout",
     "output_type": "stream",
     "text": [
      "['46-51', '39-45', '28', '78', '24-27', '96-99', '14-20', 'V40-V49', 'V10-V19']\n"
     ]
    },
    {
     "name": "stderr",
     "output_type": "stream",
     "text": [
      "196it [02:53,  1.34it/s]"
     ]
    },
    {
     "name": "stdout",
     "output_type": "stream",
     "text": [
      "['39-45', '78', '46-51', '29-31', '96-99', '71-73', '79', '24-27']\n"
     ]
    },
    {
     "name": "stderr",
     "output_type": "stream",
     "text": [
      "197it [02:59,  1.05it/s]"
     ]
    },
    {
     "name": "stdout",
     "output_type": "stream",
     "text": [
      "['21-23', '46-51', '79']\n"
     ]
    },
    {
     "name": "stderr",
     "output_type": "stream",
     "text": [
      "200it [03:06,  1.07it/s]"
     ]
    },
    {
     "name": "stdout",
     "output_type": "stream",
     "text": [
      "['39-45', '24-27', '78', '29-31', '46-51']\n",
      "Number of rows : 24\n",
      "[['78', '74-75', '39-45'], ['24-27', '78', 'V50-V59', '46-51', '79', '58-62', '39-45', 'V40-V49', '29-31', 'V10-V19'], ['24-27', '71-73', '96-99', '46-51', '79', '58-62', 'V40-V49', '14-20', '29-31', 'V10-V19', '00-10'], ['24-27', '78', '32-35', '39-45', 'V10-V19'], ['78', '28', '52-57', '96-99', '58-62', 'V40-V49', '29-31', 'V10-V19', '00-10'], ['46-51', '71-73', '39-45'], ['80-83', '28', '84-95'], ['V40-V49', '39-45'], ['21-23', '14-20', '39-45'], ['24-27', '71-73', '52-57', '58-62', '39-45', 'V40-V49', 'V10-V19'], ['24-27', '46-51', '32-35', '39-45'], ['24-27', '52-57', '39-45'], ['24-27', 'V10-V19', '58-62', '39-45'], ['V50-V59', '28', '32-35', '39-45'], ['24-27', '78', 'V50-V59', '96-99', '46-51', '39-45', '21-23', 'V10-V19'], ['24-27', '28', '71-73', '46-51', '39-45', 'V10-V19'], ['24-27', '39-45'], ['24-27', '28', '71-73', '96-99', '58-62', '32-35', '39-45', 'V10-V19'], ['24-27', '28', '39-45'], ['28', '78', '39-45', '14-20', 'V10-V19'], ['24-27', '78', '28', '96-99', '46-51', '58-62', '39-45', '00-10'], ['24-27', '46-51', '58-62', '39-45', 'V10-V19'], ['52-57', '46-51', 'V10-V19', '39-45'], ['24-27', '28', '39-45', 'V40-V49']]\n",
      "[['78', '74-75', '39-45'], ['24-27', '78', '28', '11-13', '39-45'], ['78', '28', '96-99', '46-51', '79', '39-45'], ['80-83', '78', '32-35', '39-45', '21-23'], ['24-27', '78', '11-13', '52-57', '39-45'], ['24-27', '28', '78', '96-99', '46-51', '39-45'], ['80-83', '78', '52-57', '58-62', '21-23', '29-31', '72-73'], ['24-27', '78', '28', '46-51', '39-45'], ['174-175', '394-398', '39-45'], ['24-27', '78', '46-51', '39-45', '29-31'], ['24-27', '78', '96-99', '46-51', '39-45'], ['24-27', '46-51', '39-45', 'V60-V69', 'V10-V19'], ['24-27', '78', '52-57', '46-51', '68-70', '39-45', '14-20', '29-31'], ['24-27', '78', '46-51', '39-45', '21-23', '29-31'], ['24-27', '78', '79', '39-45', '21-23', '14-20'], ['24-27', '78', '46-51', '79', '39-45', 'V40-V49', 'V10-V19'], ['24-27', '28', '46-51', '79', '39-45', '14-20'], ['78', '96-99', '46-51', '58-62', '39-45'], ['24-27', '78', '28', '46-51', '32-35', '39-45'], ['28', '78', '46-51', '79', '39-45'], ['24-27', '28', '78', '96-99', '46-51', '39-45', 'V40-V49', '14-20', 'V10-V19'], ['24-27', '78', '71-73', '96-99', '46-51', '79', '39-45', '29-31'], ['21-23', '46-51', '79'], ['24-27', '78', '46-51', '39-45', '29-31']]\n",
      "Macro Averaged AUROC Score: 0.5862140504330619\n",
      "Micro Averaged Precision: 0.4580152671755725\n",
      "Micro Averaged Recall: 0.4838709677419355\n",
      "Micro Averaged F1-Score: 0.47058823529411764\n",
      "Macro Averaged Precision: 0.1790889322236071\n",
      "Macro Averaged Recall: 0.2150480367585631\n",
      "Macro Averaged F1-Score: 0.17859963190568284\n"
     ]
    },
    {
     "name": "stderr",
     "output_type": "stream",
     "text": [
      "\n"
     ]
    }
   ],
   "source": [
    "metrics_calc(type = 'three symptoms',method='rag', model_name= 'groq')"
   ]
  },
  {
   "cell_type": "code",
   "execution_count": 1122,
   "metadata": {},
   "outputs": [
    {
     "name": "stderr",
     "output_type": "stream",
     "text": [
      "1it [00:01,  1.02s/it]"
     ]
    },
    {
     "name": "stdout",
     "output_type": "stream",
     "text": [
      "['58-62', '52-57', '46-51', '24-27', '21-23', '14-20']\n"
     ]
    },
    {
     "name": "stderr",
     "output_type": "stream",
     "text": [
      "3it [00:01,  1.84it/s]"
     ]
    },
    {
     "name": "stdout",
     "output_type": "stream",
     "text": [
      "['46-51', '24-27', '78', '39-45', '68-70']\n"
     ]
    },
    {
     "name": "stderr",
     "output_type": "stream",
     "text": [
      "5it [00:02,  2.13it/s]"
     ]
    },
    {
     "name": "stdout",
     "output_type": "stream",
     "text": [
      "['52-57', '11-13', '78', '36-38', '46-51', '24-27']\n"
     ]
    },
    {
     "name": "stderr",
     "output_type": "stream",
     "text": [
      "6it [00:03,  1.89it/s]"
     ]
    },
    {
     "name": "stdout",
     "output_type": "stream",
     "text": [
      "['46-51', '39-45', '24-27', '78', '32-35']\n"
     ]
    },
    {
     "name": "stderr",
     "output_type": "stream",
     "text": [
      "7it [00:04,  1.65it/s]"
     ]
    },
    {
     "name": "stdout",
     "output_type": "stream",
     "text": [
      "['78', '46-51', '39-45', '52-57', '24-27', '32-35']\n"
     ]
    },
    {
     "name": "stderr",
     "output_type": "stream",
     "text": [
      "8it [00:14,  3.39s/it]"
     ]
    },
    {
     "name": "stdout",
     "output_type": "stream",
     "text": [
      "['78', '32-35', '39-45', '46-51', '52-57', '71-73', '24-27', '29-31', '84-95']\n"
     ]
    },
    {
     "name": "stderr",
     "output_type": "stream",
     "text": [
      "11it [00:26,  3.79s/it]"
     ]
    },
    {
     "name": "stdout",
     "output_type": "stream",
     "text": [
      "['39-45', '52-57', '78', '24-27', '46-51', '36-38']\n"
     ]
    },
    {
     "name": "stderr",
     "output_type": "stream",
     "text": [
      "12it [00:45,  6.83s/it]"
     ]
    },
    {
     "name": "stdout",
     "output_type": "stream",
     "text": [
      "['39-45', '46-51', '24-27', '32-35']\n"
     ]
    },
    {
     "name": "stderr",
     "output_type": "stream",
     "text": [
      "13it [00:52,  7.01s/it]"
     ]
    },
    {
     "name": "stdout",
     "output_type": "stream",
     "text": [
      "['00-10', '11-13', '21-23', '24-27', '39-45', '52-57', '58-62', '68-70', '78']\n"
     ]
    },
    {
     "name": "stderr",
     "output_type": "stream",
     "text": [
      "16it [01:05,  5.56s/it]"
     ]
    },
    {
     "name": "stdout",
     "output_type": "stream",
     "text": [
      "['00-10', '46-51', '52-57', '58-62', '24-27', '78']\n"
     ]
    },
    {
     "name": "stderr",
     "output_type": "stream",
     "text": [
      "17it [01:18,  7.00s/it]"
     ]
    },
    {
     "name": "stdout",
     "output_type": "stream",
     "text": [
      "['32-35', '39-45', '52-57', '68-70', '78']\n"
     ]
    },
    {
     "name": "stderr",
     "output_type": "stream",
     "text": [
      "18it [01:29,  7.89s/it]"
     ]
    },
    {
     "name": "stdout",
     "output_type": "stream",
     "text": [
      "['46-51', '39-45', '52-57', '24-27', '78']\n"
     ]
    },
    {
     "name": "stderr",
     "output_type": "stream",
     "text": [
      "19it [01:54, 11.85s/it]"
     ]
    },
    {
     "name": "stdout",
     "output_type": "stream",
     "text": [
      "['46-51', '24-27', '78', '79']\n"
     ]
    },
    {
     "name": "stderr",
     "output_type": "stream",
     "text": [
      "20it [01:55,  9.08s/it]"
     ]
    },
    {
     "name": "stdout",
     "output_type": "stream",
     "text": [
      "['39-45', '32-35', '78', '79', '84-95']\n"
     ]
    },
    {
     "name": "stderr",
     "output_type": "stream",
     "text": [
      "21it [02:07,  9.92s/it]"
     ]
    },
    {
     "name": "stdout",
     "output_type": "stream",
     "text": [
      "['39-45', '46-51', '24-27', '32-35', '78']\n"
     ]
    },
    {
     "name": "stderr",
     "output_type": "stream",
     "text": [
      "22it [02:20, 10.79s/it]"
     ]
    },
    {
     "name": "stdout",
     "output_type": "stream",
     "text": [
      "['68-70', '71-73', '24-27', '78', '52-57', '39-45', '00-10']\n"
     ]
    },
    {
     "name": "stderr",
     "output_type": "stream",
     "text": [
      "23it [02:32, 11.17s/it]"
     ]
    },
    {
     "name": "stdout",
     "output_type": "stream",
     "text": [
      "['71-73', '39-45', '24-27', '78', '84-95']\n"
     ]
    },
    {
     "name": "stderr",
     "output_type": "stream",
     "text": [
      "24it [02:44, 11.51s/it]"
     ]
    },
    {
     "name": "stdout",
     "output_type": "stream",
     "text": [
      "['24-27', '39-45', '46-51', '52-57', '58-62', '71-73', '78']\n"
     ]
    },
    {
     "name": "stderr",
     "output_type": "stream",
     "text": [
      "25it [02:56, 11.45s/it]"
     ]
    },
    {
     "name": "stdout",
     "output_type": "stream",
     "text": [
      "['32-35', '71-73', '78', '24-27']\n"
     ]
    },
    {
     "name": "stderr",
     "output_type": "stream",
     "text": [
      "26it [03:08, 11.68s/it]"
     ]
    },
    {
     "name": "stdout",
     "output_type": "stream",
     "text": [
      "['39-45', '24-27', '78', '32-35']\n"
     ]
    },
    {
     "name": "stderr",
     "output_type": "stream",
     "text": [
      "28it [03:20,  9.16s/it]"
     ]
    },
    {
     "name": "stdout",
     "output_type": "stream",
     "text": [
      "['39-45', '46-51', '52-57', '78', '24-27']\n"
     ]
    },
    {
     "name": "stderr",
     "output_type": "stream",
     "text": [
      "30it [03:33,  7.97s/it]"
     ]
    },
    {
     "name": "stdout",
     "output_type": "stream",
     "text": [
      "['39-45', '46-51', '78', '24-27', '36-38', '79']\n"
     ]
    },
    {
     "name": "stderr",
     "output_type": "stream",
     "text": [
      "33it [03:44,  6.06s/it]"
     ]
    },
    {
     "name": "stdout",
     "output_type": "stream",
     "text": [
      "['52-57', '78', '24-27']\n"
     ]
    },
    {
     "name": "stderr",
     "output_type": "stream",
     "text": [
      "34it [03:56,  7.18s/it]"
     ]
    },
    {
     "name": "stdout",
     "output_type": "stream",
     "text": [
      "['32-35', '78', '52-57', '14-20', '79']\n"
     ]
    },
    {
     "name": "stderr",
     "output_type": "stream",
     "text": [
      "35it [04:09,  8.25s/it]"
     ]
    },
    {
     "name": "stdout",
     "output_type": "stream",
     "text": [
      "['46-51', '52-57', '58-62', '68-70', '39-45', '24-27', '78']\n"
     ]
    },
    {
     "name": "stderr",
     "output_type": "stream",
     "text": [
      "36it [04:20,  8.96s/it]"
     ]
    },
    {
     "name": "stdout",
     "output_type": "stream",
     "text": [
      "['46-51', '29-31', '24-27', '78', '00-10']\n"
     ]
    },
    {
     "name": "stderr",
     "output_type": "stream",
     "text": [
      "37it [04:33,  9.92s/it]"
     ]
    },
    {
     "name": "stdout",
     "output_type": "stream",
     "text": [
      "['78', '32-35', '39-45', '46-51', '71-73']\n"
     ]
    },
    {
     "name": "stderr",
     "output_type": "stream",
     "text": [
      "38it [04:46, 10.65s/it]"
     ]
    },
    {
     "name": "stdout",
     "output_type": "stream",
     "text": [
      "['32-35', '78', '46-51', '52-57', '29-31', '24-27', '39-45']\n"
     ]
    },
    {
     "name": "stderr",
     "output_type": "stream",
     "text": [
      "39it [04:57, 10.78s/it]"
     ]
    },
    {
     "name": "stdout",
     "output_type": "stream",
     "text": [
      "['46-51', '24-27', '39-45', '52-57', '78']\n"
     ]
    },
    {
     "name": "stderr",
     "output_type": "stream",
     "text": [
      "40it [05:10, 11.43s/it]"
     ]
    },
    {
     "name": "stdout",
     "output_type": "stream",
     "text": [
      "['39-45', '46-51', '58-62', '21-23', '78', '79']\n"
     ]
    },
    {
     "name": "stderr",
     "output_type": "stream",
     "text": [
      "41it [05:22, 11.62s/it]"
     ]
    },
    {
     "name": "stdout",
     "output_type": "stream",
     "text": [
      "['39-45', '46-51', '52-57', '24-27', '78', '79']\n"
     ]
    },
    {
     "name": "stderr",
     "output_type": "stream",
     "text": [
      "43it [05:34,  9.13s/it]"
     ]
    },
    {
     "name": "stdout",
     "output_type": "stream",
     "text": [
      "['28', '39-45', '52-57', '63-66', '78', '24-27', '46-51']\n"
     ]
    },
    {
     "name": "stderr",
     "output_type": "stream",
     "text": [
      "45it [05:46,  7.93s/it]"
     ]
    },
    {
     "name": "stdout",
     "output_type": "stream",
     "text": [
      "['58-62', '52-57', '39-45', '29-31', '24-27']\n"
     ]
    },
    {
     "name": "stderr",
     "output_type": "stream",
     "text": [
      "46it [05:58,  8.82s/it]"
     ]
    },
    {
     "name": "stdout",
     "output_type": "stream",
     "text": [
      "['39-45', '46-51', '29-31', '78', '24-27']\n"
     ]
    },
    {
     "name": "stderr",
     "output_type": "stream",
     "text": [
      "48it [06:11,  7.77s/it]"
     ]
    },
    {
     "name": "stdout",
     "output_type": "stream",
     "text": [
      "['39-45', '52-57', '46-51', '24-27', '78']\n"
     ]
    },
    {
     "name": "stderr",
     "output_type": "stream",
     "text": [
      "50it [06:23,  7.16s/it]"
     ]
    },
    {
     "name": "stdout",
     "output_type": "stream",
     "text": [
      "['78', '32-35', '39-45', '46-51', '71-73', '84-95']\n"
     ]
    },
    {
     "name": "stderr",
     "output_type": "stream",
     "text": [
      "54it [06:35,  5.10s/it]"
     ]
    },
    {
     "name": "stdout",
     "output_type": "stream",
     "text": [
      "['32-35', '52-57', '78', '79', '84-95', '96-99']\n"
     ]
    },
    {
     "name": "stderr",
     "output_type": "stream",
     "text": [
      "56it [06:47,  5.40s/it]"
     ]
    },
    {
     "name": "stdout",
     "output_type": "stream",
     "text": [
      "['52-57', '58-62', '39-45', '24-27', '78', '36-38', '11-13', '00-10']\n"
     ]
    },
    {
     "name": "stderr",
     "output_type": "stream",
     "text": [
      "57it [07:00,  6.59s/it]"
     ]
    },
    {
     "name": "stdout",
     "output_type": "stream",
     "text": [
      "['24-27', '29-31', '32-35', '39-45', '46-51', '52-57', '58-62', '78']\n"
     ]
    },
    {
     "name": "stderr",
     "output_type": "stream",
     "text": [
      "58it [07:12,  7.63s/it]"
     ]
    },
    {
     "name": "stdout",
     "output_type": "stream",
     "text": [
      "['46-51', '71-73', '39-45', '78']\n"
     ]
    },
    {
     "name": "stderr",
     "output_type": "stream",
     "text": [
      "59it [07:25,  8.61s/it]"
     ]
    },
    {
     "name": "stdout",
     "output_type": "stream",
     "text": [
      "['00-10', '11-13', '52-57', '58-62', '63-66', '78', '24-27', '39-45', '71-73']\n"
     ]
    },
    {
     "name": "stderr",
     "output_type": "stream",
     "text": [
      "60it [07:37,  9.46s/it]"
     ]
    },
    {
     "name": "stdout",
     "output_type": "stream",
     "text": [
      "['78', '71-73', '52-57', '24-27', '46-51', '39-45', '32-35', '58-62']\n"
     ]
    },
    {
     "name": "stderr",
     "output_type": "stream",
     "text": [
      "64it [07:49,  5.83s/it]"
     ]
    },
    {
     "name": "stdout",
     "output_type": "stream",
     "text": [
      "['39-45', '46-51', '71-73', '78', '32-35']\n"
     ]
    },
    {
     "name": "stderr",
     "output_type": "stream",
     "text": [
      "65it [08:02,  6.90s/it]"
     ]
    },
    {
     "name": "stdout",
     "output_type": "stream",
     "text": [
      "['39-45', '46-51', '24-27', '78', '79']\n"
     ]
    },
    {
     "name": "stderr",
     "output_type": "stream",
     "text": [
      "66it [08:14,  7.93s/it]"
     ]
    },
    {
     "name": "stdout",
     "output_type": "stream",
     "text": [
      "['78', '29-31', '32-35', '24-27']\n"
     ]
    },
    {
     "name": "stderr",
     "output_type": "stream",
     "text": [
      "67it [08:25,  8.64s/it]"
     ]
    },
    {
     "name": "stdout",
     "output_type": "stream",
     "text": [
      "['39-45', '46-51', '52-57', '24-27', '78']\n"
     ]
    },
    {
     "name": "stderr",
     "output_type": "stream",
     "text": [
      "68it [08:37,  9.51s/it]"
     ]
    },
    {
     "name": "stdout",
     "output_type": "stream",
     "text": [
      "['29-31', '24-27', '52-57', '80-83', '96-99']\n"
     ]
    },
    {
     "name": "stderr",
     "output_type": "stream",
     "text": [
      "69it [08:50, 10.27s/it]"
     ]
    },
    {
     "name": "stdout",
     "output_type": "stream",
     "text": [
      "['32-35', '39-45', '46-51', '52-57', '58-62', '78', '79', '84-95']\n"
     ]
    },
    {
     "name": "stderr",
     "output_type": "stream",
     "text": [
      "72it [09:03,  7.23s/it]"
     ]
    },
    {
     "name": "stdout",
     "output_type": "stream",
     "text": [
      "['52-57', '24-27', '78', '39-45', '21-23', '46-51', '58-62', '63-66', '29-31']\n"
     ]
    },
    {
     "name": "stderr",
     "output_type": "stream",
     "text": [
      "73it [09:15,  8.22s/it]"
     ]
    },
    {
     "name": "stdout",
     "output_type": "stream",
     "text": [
      "['52-57', '39-45', '78', '46-51', '24-27']\n"
     ]
    },
    {
     "name": "stderr",
     "output_type": "stream",
     "text": [
      "74it [09:26,  8.86s/it]"
     ]
    },
    {
     "name": "stdout",
     "output_type": "stream",
     "text": [
      "['52-57', '58-62', '11-13', '24-27', '78']\n"
     ]
    },
    {
     "name": "stderr",
     "output_type": "stream",
     "text": [
      "76it [09:39,  7.79s/it]"
     ]
    },
    {
     "name": "stdout",
     "output_type": "stream",
     "text": [
      "['39-45', '46-51', '78']\n"
     ]
    },
    {
     "name": "stderr",
     "output_type": "stream",
     "text": [
      "77it [09:52,  8.97s/it]"
     ]
    },
    {
     "name": "stdout",
     "output_type": "stream",
     "text": [
      "['24-27', '39-45', '46-51', '58-62', '78']\n"
     ]
    },
    {
     "name": "stderr",
     "output_type": "stream",
     "text": [
      "78it [10:04,  9.70s/it]"
     ]
    },
    {
     "name": "stdout",
     "output_type": "stream",
     "text": [
      "['39-45', '24-27', '32-35', '29-31', '78']\n"
     ]
    },
    {
     "name": "stderr",
     "output_type": "stream",
     "text": [
      "80it [10:16,  8.31s/it]"
     ]
    },
    {
     "name": "stdout",
     "output_type": "stream",
     "text": [
      "['24-27', '39-45', '52-57', '58-62', '78']\n"
     ]
    },
    {
     "name": "stderr",
     "output_type": "stream",
     "text": [
      "82it [10:29,  7.53s/it]"
     ]
    },
    {
     "name": "stdout",
     "output_type": "stream",
     "text": [
      "['46-51', '39-45', '71-73', '78', '24-27']\n"
     ]
    },
    {
     "name": "stderr",
     "output_type": "stream",
     "text": [
      "83it [10:40,  8.30s/it]"
     ]
    },
    {
     "name": "stdout",
     "output_type": "stream",
     "text": [
      "['46-51', '39-45', '24-27', '78']\n"
     ]
    },
    {
     "name": "stderr",
     "output_type": "stream",
     "text": [
      "84it [10:53,  9.27s/it]"
     ]
    },
    {
     "name": "stdout",
     "output_type": "stream",
     "text": [
      "['46-51', '24-27', '78', '29-31', '32-35']\n"
     ]
    },
    {
     "name": "stderr",
     "output_type": "stream",
     "text": [
      "85it [11:05, 10.04s/it]"
     ]
    },
    {
     "name": "stdout",
     "output_type": "stream",
     "text": [
      "['46-51', '78', '36-38', '24-27', '79']\n"
     ]
    },
    {
     "name": "stderr",
     "output_type": "stream",
     "text": [
      "86it [11:17, 10.61s/it]"
     ]
    },
    {
     "name": "stdout",
     "output_type": "stream",
     "text": [
      "['32-35', '39-45', '78', '29-31']\n"
     ]
    },
    {
     "name": "stderr",
     "output_type": "stream",
     "text": [
      "88it [11:29,  8.70s/it]"
     ]
    },
    {
     "name": "stdout",
     "output_type": "stream",
     "text": [
      "['32-35', '58-62', '29-31', '24-27', '68-70', '80-83']\n"
     ]
    },
    {
     "name": "stderr",
     "output_type": "stream",
     "text": [
      "89it [11:42,  9.51s/it]"
     ]
    },
    {
     "name": "stdout",
     "output_type": "stream",
     "text": [
      "['32-35', '39-45', '46-51', '58-62', '78']\n"
     ]
    },
    {
     "name": "stderr",
     "output_type": "stream",
     "text": [
      "91it [11:54,  8.20s/it]"
     ]
    },
    {
     "name": "stdout",
     "output_type": "stream",
     "text": [
      "['78', '46-51', '39-45', '24-27', '36-38', '58-62', '32-35', '79', '84-95']\n"
     ]
    },
    {
     "name": "stderr",
     "output_type": "stream",
     "text": [
      "92it [12:06,  9.08s/it]"
     ]
    },
    {
     "name": "stdout",
     "output_type": "stream",
     "text": [
      "['32-35', '24-27', '39-45', '46-51', '78', '84-95', '96-99']\n"
     ]
    },
    {
     "name": "stderr",
     "output_type": "stream",
     "text": [
      "93it [12:19,  9.99s/it]"
     ]
    },
    {
     "name": "stdout",
     "output_type": "stream",
     "text": [
      "['39-45', '46-51', '78', '24-27']\n"
     ]
    },
    {
     "name": "stderr",
     "output_type": "stream",
     "text": [
      "96it [12:30,  6.79s/it]"
     ]
    },
    {
     "name": "stdout",
     "output_type": "stream",
     "text": [
      "['52-57', '24-27', '46-51', '78', '39-45']\n"
     ]
    },
    {
     "name": "stderr",
     "output_type": "stream",
     "text": [
      "97it [12:43,  8.02s/it]"
     ]
    },
    {
     "name": "stdout",
     "output_type": "stream",
     "text": [
      "['80-83', '46-51', '39-45', '84-95']\n"
     ]
    },
    {
     "name": "stderr",
     "output_type": "stream",
     "text": [
      "98it [12:55,  8.91s/it]"
     ]
    },
    {
     "name": "stdout",
     "output_type": "stream",
     "text": [
      "['39-45', '46-51', '24-27', '78', '79']\n"
     ]
    },
    {
     "name": "stderr",
     "output_type": "stream",
     "text": [
      "99it [13:08,  9.69s/it]"
     ]
    },
    {
     "name": "stdout",
     "output_type": "stream",
     "text": [
      "['39-45', '46-51', '24-27', '52-57', '28', '36-38']\n"
     ]
    },
    {
     "name": "stderr",
     "output_type": "stream",
     "text": [
      "100it [13:21, 10.55s/it]"
     ]
    },
    {
     "name": "stdout",
     "output_type": "stream",
     "text": [
      "['39-45', '46-51', '52-57', '78', '24-27']\n"
     ]
    },
    {
     "name": "stderr",
     "output_type": "stream",
     "text": [
      "101it [13:33, 10.99s/it]"
     ]
    },
    {
     "name": "stdout",
     "output_type": "stream",
     "text": [
      "['68-70', '71-73', '24-27', '39-45', '52-57', '58-62', '78', '79']\n"
     ]
    },
    {
     "name": "stderr",
     "output_type": "stream",
     "text": [
      "102it [13:45, 11.33s/it]"
     ]
    },
    {
     "name": "stdout",
     "output_type": "stream",
     "text": [
      "['39-45', '46-51', '24-27']\n"
     ]
    },
    {
     "name": "stderr",
     "output_type": "stream",
     "text": [
      "103it [13:58, 11.85s/it]"
     ]
    },
    {
     "name": "stdout",
     "output_type": "stream",
     "text": [
      "['46-51', '52-57', '39-45', '58-62', '24-27', '78']\n"
     ]
    },
    {
     "name": "stderr",
     "output_type": "stream",
     "text": [
      "104it [14:10, 11.70s/it]"
     ]
    },
    {
     "name": "stdout",
     "output_type": "stream",
     "text": [
      "['78', '46-51', '52-57', '24-27', '39-45', '58-62']\n"
     ]
    },
    {
     "name": "stderr",
     "output_type": "stream",
     "text": [
      "105it [14:21, 11.57s/it]"
     ]
    },
    {
     "name": "stdout",
     "output_type": "stream",
     "text": [
      "['78', '52-57', '24-27', '39-45', '58-62', '63-66']\n"
     ]
    },
    {
     "name": "stderr",
     "output_type": "stream",
     "text": [
      "106it [14:33, 11.78s/it]"
     ]
    },
    {
     "name": "stdout",
     "output_type": "stream",
     "text": [
      "['46-51', '78', '39-45']\n"
     ]
    },
    {
     "name": "stderr",
     "output_type": "stream",
     "text": [
      "107it [14:45, 11.95s/it]"
     ]
    },
    {
     "name": "stdout",
     "output_type": "stream",
     "text": [
      "['46-51', '52-57', '29-31', '78', '39-45', '00-10']\n"
     ]
    },
    {
     "name": "stderr",
     "output_type": "stream",
     "text": [
      "108it [14:58, 12.08s/it]"
     ]
    },
    {
     "name": "stdout",
     "output_type": "stream",
     "text": [
      "['46-51', '78', '39-45', '29-31', '36-38', '79']\n"
     ]
    },
    {
     "name": "stderr",
     "output_type": "stream",
     "text": [
      "110it [15:10,  9.40s/it]"
     ]
    },
    {
     "name": "stdout",
     "output_type": "stream",
     "text": [
      "['46-51', '39-45', '78']\n"
     ]
    },
    {
     "name": "stderr",
     "output_type": "stream",
     "text": [
      "111it [15:23, 10.18s/it]"
     ]
    },
    {
     "name": "stdout",
     "output_type": "stream",
     "text": [
      "['46-51', '29-31', '32-35', '00-10', '24-27', '39-45']\n"
     ]
    },
    {
     "name": "stderr",
     "output_type": "stream",
     "text": [
      "112it [15:34, 10.50s/it]"
     ]
    },
    {
     "name": "stdout",
     "output_type": "stream",
     "text": [
      "['46-51', '24-27', '78', '39-45']\n"
     ]
    },
    {
     "name": "stderr",
     "output_type": "stream",
     "text": [
      "113it [15:47, 10.97s/it]"
     ]
    },
    {
     "name": "stdout",
     "output_type": "stream",
     "text": [
      "['39-45', '78', '24-27', '46-51', '68-70', '80-83', '52-57', '36-38']\n"
     ]
    },
    {
     "name": "stderr",
     "output_type": "stream",
     "text": [
      "115it [15:59,  8.88s/it]"
     ]
    },
    {
     "name": "stdout",
     "output_type": "stream",
     "text": [
      "['39-45', '46-51', '32-35', '78', '24-27']\n"
     ]
    },
    {
     "name": "stderr",
     "output_type": "stream",
     "text": [
      "116it [16:11,  9.65s/it]"
     ]
    },
    {
     "name": "stdout",
     "output_type": "stream",
     "text": [
      "['46-51', '39-45', '24-27', '78', '79']\n"
     ]
    },
    {
     "name": "stderr",
     "output_type": "stream",
     "text": [
      "117it [16:23, 10.29s/it]"
     ]
    },
    {
     "name": "stdout",
     "output_type": "stream",
     "text": [
      "['52-57', '36-38', '11-13', '78', '24-27', '96-99']\n"
     ]
    },
    {
     "name": "stderr",
     "output_type": "stream",
     "text": [
      "119it [16:36,  8.63s/it]"
     ]
    },
    {
     "name": "stdout",
     "output_type": "stream",
     "text": [
      "['39-45', '46-51', '32-35', '78', '24-27']\n"
     ]
    },
    {
     "name": "stderr",
     "output_type": "stream",
     "text": [
      "120it [16:48,  9.43s/it]"
     ]
    },
    {
     "name": "stdout",
     "output_type": "stream",
     "text": [
      "['39-45', '24-27', '78', '46-51', '32-35']\n"
     ]
    },
    {
     "name": "stderr",
     "output_type": "stream",
     "text": [
      "121it [17:00, 10.10s/it]"
     ]
    },
    {
     "name": "stdout",
     "output_type": "stream",
     "text": [
      "['32-35', '39-45', '78', '84-95']\n"
     ]
    },
    {
     "name": "stderr",
     "output_type": "stream",
     "text": [
      "122it [17:12, 10.63s/it]"
     ]
    },
    {
     "name": "stdout",
     "output_type": "stream",
     "text": [
      "['52-57', '39-45', '58-62', '24-27', '46-51', '78']\n"
     ]
    },
    {
     "name": "stderr",
     "output_type": "stream",
     "text": [
      "123it [17:26, 11.39s/it]"
     ]
    },
    {
     "name": "stdout",
     "output_type": "stream",
     "text": [
      "['78', '46-51', '39-45', '68-70', '71-73', '84-95']\n"
     ]
    },
    {
     "name": "stderr",
     "output_type": "stream",
     "text": [
      "124it [17:39, 11.86s/it]"
     ]
    },
    {
     "name": "stdout",
     "output_type": "stream",
     "text": [
      "['46-51', '28', '78', '24-27', '39-45']\n"
     ]
    },
    {
     "name": "stderr",
     "output_type": "stream",
     "text": [
      "125it [17:50, 11.77s/it]"
     ]
    },
    {
     "name": "stdout",
     "output_type": "stream",
     "text": [
      "['39-45', '78', '52-57', '80-83', '24-27', '79']\n"
     ]
    },
    {
     "name": "stderr",
     "output_type": "stream",
     "text": [
      "126it [18:02, 11.64s/it]"
     ]
    },
    {
     "name": "stdout",
     "output_type": "stream",
     "text": [
      "['78', '32-35', '39-45', '24-27', '46-51', '79', '84-95', '96-99']\n"
     ]
    },
    {
     "name": "stderr",
     "output_type": "stream",
     "text": [
      "127it [18:14, 11.86s/it]"
     ]
    },
    {
     "name": "stdout",
     "output_type": "stream",
     "text": [
      "['39-45', '68-70', '58-62', '24-27', '78', '46-51']\n"
     ]
    },
    {
     "name": "stderr",
     "output_type": "stream",
     "text": [
      "128it [18:28, 12.50s/it]"
     ]
    },
    {
     "name": "stdout",
     "output_type": "stream",
     "text": [
      "['32-35', '78', '79', '46-51', '39-45', '84-95']\n"
     ]
    },
    {
     "name": "stderr",
     "output_type": "stream",
     "text": [
      "129it [18:41, 12.69s/it]"
     ]
    },
    {
     "name": "stdout",
     "output_type": "stream",
     "text": [
      "['39-45', '46-51', '52-57', '24-27', '78', '79']\n"
     ]
    },
    {
     "name": "stderr",
     "output_type": "stream",
     "text": [
      "130it [18:53, 12.37s/it]"
     ]
    },
    {
     "name": "stdout",
     "output_type": "stream",
     "text": [
      "['52-57', '39-45', '78', '58-62', '24-27', '68-70', '32-35', '46-51', '11-13']\n"
     ]
    },
    {
     "name": "stderr",
     "output_type": "stream",
     "text": [
      "131it [19:05, 12.38s/it]"
     ]
    },
    {
     "name": "stdout",
     "output_type": "stream",
     "text": [
      "['46-51', '32-35', '79', '24-27', '36-38', '39-45']\n"
     ]
    },
    {
     "name": "stderr",
     "output_type": "stream",
     "text": [
      "132it [19:18, 12.62s/it]"
     ]
    },
    {
     "name": "stdout",
     "output_type": "stream",
     "text": [
      "['46-51', '52-57', '24-27', '39-45', '78']\n"
     ]
    },
    {
     "name": "stderr",
     "output_type": "stream",
     "text": [
      "133it [19:30, 12.20s/it]"
     ]
    },
    {
     "name": "stdout",
     "output_type": "stream",
     "text": [
      "['46-51', '39-45', '78']\n"
     ]
    },
    {
     "name": "stderr",
     "output_type": "stream",
     "text": [
      "134it [19:42, 12.16s/it]"
     ]
    },
    {
     "name": "stdout",
     "output_type": "stream",
     "text": [
      "['46-51', '52-57', '24-27', '39-45', '78']\n"
     ]
    },
    {
     "name": "stderr",
     "output_type": "stream",
     "text": [
      "136it [19:55,  9.66s/it]"
     ]
    },
    {
     "name": "stdout",
     "output_type": "stream",
     "text": [
      "['39-45', '46-51', '52-57', '78', '24-27', '32-35', '68-70']\n"
     ]
    },
    {
     "name": "stderr",
     "output_type": "stream",
     "text": [
      "137it [20:07, 10.10s/it]"
     ]
    },
    {
     "name": "stdout",
     "output_type": "stream",
     "text": [
      "['78', '39-45', '52-57', '24-27', '36-38', '46-51', '29-31', '32-35']\n"
     ]
    },
    {
     "name": "stderr",
     "output_type": "stream",
     "text": [
      "140it [20:19,  6.98s/it]"
     ]
    },
    {
     "name": "stdout",
     "output_type": "stream",
     "text": [
      "['39-45', '46-51', '21-23', '78', '24-27', '32-35']\n"
     ]
    },
    {
     "name": "stderr",
     "output_type": "stream",
     "text": [
      "141it [20:31,  8.04s/it]"
     ]
    },
    {
     "name": "stdout",
     "output_type": "stream",
     "text": [
      "['52-57', '39-45', '58-62', '78', '24-27', '36-38']\n"
     ]
    },
    {
     "name": "stderr",
     "output_type": "stream",
     "text": [
      "142it [20:43,  8.98s/it]"
     ]
    },
    {
     "name": "stdout",
     "output_type": "stream",
     "text": [
      "['46-51', '39-45', '24-27', '78', '00-10']\n"
     ]
    },
    {
     "name": "stderr",
     "output_type": "stream",
     "text": [
      "143it [20:55,  9.73s/it]"
     ]
    },
    {
     "name": "stdout",
     "output_type": "stream",
     "text": [
      "['39-45', '46-51', '78', '79']\n"
     ]
    },
    {
     "name": "stderr",
     "output_type": "stream",
     "text": [
      "144it [21:08, 10.36s/it]"
     ]
    },
    {
     "name": "stdout",
     "output_type": "stream",
     "text": [
      "['39-45', '46-51', '24-27', '78', 'V88-V88']\n"
     ]
    },
    {
     "name": "stderr",
     "output_type": "stream",
     "text": [
      "145it [21:21, 11.11s/it]"
     ]
    },
    {
     "name": "stdout",
     "output_type": "stream",
     "text": [
      "['78', '80-83', '52-57', '32-35', '29-31', '58-62', '84-95']\n"
     ]
    },
    {
     "name": "stderr",
     "output_type": "stream",
     "text": [
      "146it [21:31, 10.85s/it]"
     ]
    },
    {
     "name": "stdout",
     "output_type": "stream",
     "text": [
      "['39-45', '46-51', '78', '24-27']\n"
     ]
    },
    {
     "name": "stderr",
     "output_type": "stream",
     "text": [
      "147it [21:45, 11.70s/it]"
     ]
    },
    {
     "name": "stdout",
     "output_type": "stream",
     "text": [
      "['46-51', '39-45', '78', '24-27', '79']\n"
     ]
    },
    {
     "name": "stderr",
     "output_type": "stream",
     "text": [
      "148it [21:57, 11.68s/it]"
     ]
    },
    {
     "name": "stdout",
     "output_type": "stream",
     "text": [
      "['71-73', '46-51', '80-83', '39-45', '29-31', '32-35', '84-95']\n"
     ]
    },
    {
     "name": "stderr",
     "output_type": "stream",
     "text": [
      "149it [22:11, 12.47s/it]"
     ]
    },
    {
     "name": "stdout",
     "output_type": "stream",
     "text": [
      "['24-27', '39-45', '46-51', '68-70', '71-73', '78', '80-83']\n"
     ]
    },
    {
     "name": "stderr",
     "output_type": "stream",
     "text": [
      "150it [22:23, 12.41s/it]"
     ]
    },
    {
     "name": "stdout",
     "output_type": "stream",
     "text": [
      "['52-57', '39-45', '24-27', '78', '58-62', '46-51']\n"
     ]
    },
    {
     "name": "stderr",
     "output_type": "stream",
     "text": [
      "151it [22:36, 12.40s/it]"
     ]
    },
    {
     "name": "stdout",
     "output_type": "stream",
     "text": [
      "['39-45', '46-51', '78', '24-27', '79']\n"
     ]
    },
    {
     "name": "stderr",
     "output_type": "stream",
     "text": [
      "153it [22:48,  9.52s/it]"
     ]
    },
    {
     "name": "stdout",
     "output_type": "stream",
     "text": [
      "['78', '29-31', '32-35', '58-62', '24-27']\n"
     ]
    },
    {
     "name": "stderr",
     "output_type": "stream",
     "text": [
      "154it [23:00, 10.21s/it]"
     ]
    },
    {
     "name": "stdout",
     "output_type": "stream",
     "text": [
      "['52-57', '39-45', '46-51', '24-27', '36-38', '58-62']\n"
     ]
    },
    {
     "name": "stderr",
     "output_type": "stream",
     "text": [
      "155it [23:12, 10.76s/it]"
     ]
    },
    {
     "name": "stdout",
     "output_type": "stream",
     "text": [
      "['78', '39-45', '46-51', '52-57', '32-35', '29-31', '00-10']\n"
     ]
    },
    {
     "name": "stderr",
     "output_type": "stream",
     "text": [
      "156it [23:26, 11.50s/it]"
     ]
    },
    {
     "name": "stdout",
     "output_type": "stream",
     "text": [
      "['68-70', '39-45', '24-27', '28', '46-51', '78', '11-13', '32-35']\n"
     ]
    },
    {
     "name": "stderr",
     "output_type": "stream",
     "text": [
      "157it [23:38, 11.69s/it]"
     ]
    },
    {
     "name": "stdout",
     "output_type": "stream",
     "text": [
      "['52-57', '78', '39-45', '24-27', '58-62', '46-51', '84-95']\n"
     ]
    },
    {
     "name": "stderr",
     "output_type": "stream",
     "text": [
      "158it [23:51, 12.06s/it]"
     ]
    },
    {
     "name": "stdout",
     "output_type": "stream",
     "text": [
      "['46-51', '52-57', '24-27', '39-45', '78']\n"
     ]
    },
    {
     "name": "stderr",
     "output_type": "stream",
     "text": [
      "160it [24:03,  9.36s/it]"
     ]
    },
    {
     "name": "stdout",
     "output_type": "stream",
     "text": [
      "['14-20', '21-23', '46-51', '58-62', '78']\n"
     ]
    },
    {
     "name": "stderr",
     "output_type": "stream",
     "text": [
      "161it [24:15, 10.06s/it]"
     ]
    },
    {
     "name": "stdout",
     "output_type": "stream",
     "text": [
      "['28', '52-57', '39-45', '24-27', 'V40-V49', '21-23', '58-62', '11-13', '14-20']\n"
     ]
    },
    {
     "name": "stderr",
     "output_type": "stream",
     "text": [
      "162it [24:28, 10.59s/it]"
     ]
    },
    {
     "name": "stdout",
     "output_type": "stream",
     "text": [
      "['32-35', '78', '39-45', '79', '29-31']\n"
     ]
    },
    {
     "name": "stderr",
     "output_type": "stream",
     "text": [
      "164it [24:41,  8.89s/it]"
     ]
    },
    {
     "name": "stdout",
     "output_type": "stream",
     "text": [
      "['39-45', '78', '46-51', '52-57', '24-27', '29-31', '32-35', '36-38']\n"
     ]
    },
    {
     "name": "stderr",
     "output_type": "stream",
     "text": [
      "165it [24:53,  9.57s/it]"
     ]
    },
    {
     "name": "stdout",
     "output_type": "stream",
     "text": [
      "['39-45', '46-51', '78', '96-99']\n"
     ]
    },
    {
     "name": "stderr",
     "output_type": "stream",
     "text": [
      "167it [25:06,  8.40s/it]"
     ]
    },
    {
     "name": "stdout",
     "output_type": "stream",
     "text": [
      "['39-45', '32-35', '71-73', '68-70', '78', '58-62', '46-51', '29-31', '24-27']\n"
     ]
    },
    {
     "name": "stderr",
     "output_type": "stream",
     "text": [
      "168it [25:18,  9.25s/it]"
     ]
    },
    {
     "name": "stdout",
     "output_type": "stream",
     "text": [
      "['52-57', '39-45', '24-27', '78', '29-31', '32-35', '14-20']\n"
     ]
    },
    {
     "name": "stderr",
     "output_type": "stream",
     "text": [
      "169it [25:30,  9.95s/it]"
     ]
    },
    {
     "name": "stdout",
     "output_type": "stream",
     "text": [
      "['58-62', '63-66', '67', '24-27', '78', '79']\n"
     ]
    },
    {
     "name": "stderr",
     "output_type": "stream",
     "text": [
      "170it [25:42, 10.53s/it]"
     ]
    },
    {
     "name": "stdout",
     "output_type": "stream",
     "text": [
      "['24-27', '29-31', '32-35', '39-45', '58-62', '78']\n"
     ]
    },
    {
     "name": "stderr",
     "output_type": "stream",
     "text": [
      "171it [25:55, 11.07s/it]"
     ]
    },
    {
     "name": "stdout",
     "output_type": "stream",
     "text": [
      "['39-45', '71-73', '24-27', '78', '46-51', '52-57', '58-62', '67', '63-66', '79']\n"
     ]
    },
    {
     "name": "stderr",
     "output_type": "stream",
     "text": [
      "172it [26:07, 11.42s/it]"
     ]
    },
    {
     "name": "stdout",
     "output_type": "stream",
     "text": [
      "['78', '52-57', '36-38', '24-27']\n"
     ]
    },
    {
     "name": "stderr",
     "output_type": "stream",
     "text": [
      "173it [26:21, 11.97s/it]"
     ]
    },
    {
     "name": "stdout",
     "output_type": "stream",
     "text": [
      "['00-10', '46-51', '78', '39-45', '24-27']\n"
     ]
    },
    {
     "name": "stderr",
     "output_type": "stream",
     "text": [
      "174it [26:34, 12.43s/it]"
     ]
    },
    {
     "name": "stdout",
     "output_type": "stream",
     "text": [
      "['39-45', '78', '32-35', '46-51', '52-57', '24-27', '84-95']\n"
     ]
    },
    {
     "name": "stderr",
     "output_type": "stream",
     "text": [
      "175it [26:45, 12.08s/it]"
     ]
    },
    {
     "name": "stdout",
     "output_type": "stream",
     "text": [
      "['46-51', '39-45', '78', '79']\n"
     ]
    },
    {
     "name": "stderr",
     "output_type": "stream",
     "text": [
      "176it [26:58, 12.14s/it]"
     ]
    },
    {
     "name": "stdout",
     "output_type": "stream",
     "text": [
      "['52-57', '36-38', '39-45', '24-27', '78', '46-51', '32-35', '79']\n"
     ]
    },
    {
     "name": "stderr",
     "output_type": "stream",
     "text": [
      "177it [27:10, 12.16s/it]"
     ]
    },
    {
     "name": "stdout",
     "output_type": "stream",
     "text": [
      "['39-45', '46-51', '78', '52-57', '24-27']\n"
     ]
    },
    {
     "name": "stderr",
     "output_type": "stream",
     "text": [
      "178it [27:22, 12.16s/it]"
     ]
    },
    {
     "name": "stdout",
     "output_type": "stream",
     "text": [
      "['52-57', '39-45', '28', '46-51', '24-27', '63-66', '58-62']\n"
     ]
    },
    {
     "name": "stderr",
     "output_type": "stream",
     "text": [
      "180it [27:34,  9.40s/it]"
     ]
    },
    {
     "name": "stdout",
     "output_type": "stream",
     "text": [
      "['39-45', '46-51', '24-27', '52-57', '58-62', '78', '79']\n"
     ]
    },
    {
     "name": "stderr",
     "output_type": "stream",
     "text": [
      "181it [27:47, 10.23s/it]"
     ]
    },
    {
     "name": "stdout",
     "output_type": "stream",
     "text": [
      "['46-51', '78', '68-70', '71-73']\n"
     ]
    },
    {
     "name": "stderr",
     "output_type": "stream",
     "text": [
      "182it [27:59, 10.53s/it]"
     ]
    },
    {
     "name": "stdout",
     "output_type": "stream",
     "text": [
      "['71-73', '78', '21-23', '39-45', '80-83', '58-62', '32-35', '29-31', 'V87-V87']\n"
     ]
    },
    {
     "name": "stderr",
     "output_type": "stream",
     "text": [
      "183it [28:12, 11.27s/it]"
     ]
    },
    {
     "name": "stdout",
     "output_type": "stream",
     "text": [
      "['32-35', '78', '29-31', '79', '71-73']\n"
     ]
    },
    {
     "name": "stderr",
     "output_type": "stream",
     "text": [
      "184it [28:24, 11.57s/it]"
     ]
    },
    {
     "name": "stdout",
     "output_type": "stream",
     "text": [
      "['78', '29-31', '52-57', '24-27', '39-45', '46-51', '68-70', '32-35']\n"
     ]
    },
    {
     "name": "stderr",
     "output_type": "stream",
     "text": [
      "185it [28:36, 11.78s/it]"
     ]
    },
    {
     "name": "stdout",
     "output_type": "stream",
     "text": [
      "['52-57', '39-45', '46-51', '24-27', '78']\n"
     ]
    },
    {
     "name": "stderr",
     "output_type": "stream",
     "text": [
      "186it [28:49, 11.93s/it]"
     ]
    },
    {
     "name": "stdout",
     "output_type": "stream",
     "text": [
      "['29-31', '39-45', '32-35', '78', '24-27']\n"
     ]
    },
    {
     "name": "stderr",
     "output_type": "stream",
     "text": [
      "187it [29:00, 11.75s/it]"
     ]
    },
    {
     "name": "stdout",
     "output_type": "stream",
     "text": [
      "['78', '46-51', '52-57', '21-23', '39-45', '00-10']\n"
     ]
    },
    {
     "name": "stderr",
     "output_type": "stream",
     "text": [
      "188it [29:12, 11.89s/it]"
     ]
    },
    {
     "name": "stdout",
     "output_type": "stream",
     "text": [
      "['52-57', '28', '46-51', '78', '79']\n"
     ]
    },
    {
     "name": "stderr",
     "output_type": "stream",
     "text": [
      "189it [29:26, 12.33s/it]"
     ]
    },
    {
     "name": "stdout",
     "output_type": "stream",
     "text": [
      "['32-35', '39-45', '78', '84-95', '96-99']\n"
     ]
    },
    {
     "name": "stderr",
     "output_type": "stream",
     "text": [
      "190it [29:37, 12.02s/it]"
     ]
    },
    {
     "name": "stdout",
     "output_type": "stream",
     "text": [
      "['46-51', '32-35', '78', '24-27', 'V88-V88', 'V40-V49']\n"
     ]
    },
    {
     "name": "stderr",
     "output_type": "stream",
     "text": [
      "193it [29:49,  7.57s/it]"
     ]
    },
    {
     "name": "stdout",
     "output_type": "stream",
     "text": [
      "['32-35', '39-45', '78', '24-27', '84-95']\n"
     ]
    },
    {
     "name": "stderr",
     "output_type": "stream",
     "text": [
      "194it [30:02,  8.68s/it]"
     ]
    },
    {
     "name": "stdout",
     "output_type": "stream",
     "text": [
      "['39-45', '46-51', '52-57', '24-27', '78']\n"
     ]
    },
    {
     "name": "stderr",
     "output_type": "stream",
     "text": [
      "199it [30:13,  4.83s/it]"
     ]
    },
    {
     "name": "stdout",
     "output_type": "stream",
     "text": [
      "['78', '32-35', '71-73', '39-45', '84-95']\n"
     ]
    },
    {
     "name": "stderr",
     "output_type": "stream",
     "text": [
      "200it [30:26,  5.92s/it]"
     ]
    },
    {
     "name": "stdout",
     "output_type": "stream",
     "text": [
      "['32-35', '78', '29-31', '24-27', '46-51', '39-45', '84-95']\n"
     ]
    },
    {
     "name": "stderr",
     "output_type": "stream",
     "text": [
      "200it [30:38,  9.19s/it]"
     ]
    },
    {
     "name": "stdout",
     "output_type": "stream",
     "text": [
      "['39-45', '46-51', '78', '24-27', '32-35']\n",
      "Number of rows : 154\n",
      "[['24-27', '14-20'], ['24-27', '52-57', '46-51', '74-75', '32-35', '39-45', 'V40-V49', '29-31'], ['28', '84-95', '52-57', '96-99', '46-51', '39-45', '00-10'], ['24-27', '28', '96-99', '52-57', '58-62', '39-45', '29-31'], ['24-27', '28', '78', '58-62', '39-45', 'V40-V49'], ['24-27', '78', '32-35', '39-45', '29-31'], ['78', '52-57', '96-99', '58-62', '29-31', '00-10'], ['24-27', '78', '46-51', '39-45', '00-10'], ['24-27', '78', '29-31', '39-45'], ['78', '96-99', '46-51', '39-45', '14-20', '00-10'], ['28', '11-13', '96-99', '46-51', '58-62', '39-45', '00-10'], ['24-27', '52-57', '46-51', '58-62', '39-45', '00-10'], ['46-51', '28', '58-62', '39-45'], ['32-35', '84-95'], ['24-27', '28', '11-13', '36-38', '39-45', '21-23'], ['24-27', '78', '71-73', '84-95', '96-99', '39-45'], ['24-27', '28', '71-73', '78', '96-99', '46-51', '79', '58-62', '68-70', '29-31'], ['24-27', '28', '78', '52-57', '46-51', '79', '58-62', '68-70', '39-45', '21-23', 'V10-V19'], ['24-27', '29-31', '39-45'], ['24-27', '39-45'], ['24-27', '71-73', '46-51', '68-70', '39-45', 'V01-V09'], ['24-27', '78', '84-95', '58-62', '39-45'], ['24-27', '78', '11-13', '52-57', '39-45'], ['V40-V49', 'V10-V19', '14-20', '71-73'], ['24-27', '78', '28', '52-57', '58-62', '39-45', 'V40-V49'], ['24-27', '78', '71-73', 'V50-V59', '84-95', '46-51', '79', '58-62', '32-35', '39-45', 'V40-V49', '21-23', '29-31', '00-10'], ['24-27', '78', '28', '84-95', '96-99', '36-38', '58-62', '32-35', '39-45', 'V40-V49', 'V10-V19', '00-10'], ['24-27', '28', '78', '52-57', '46-51', '79', '29-31'], ['24-27', '78', 'V50-V59', '11-13', '58-62', '32-35', '39-45', '14-20', '00-10'], ['24-27', 'V50-V59', '46-51', '79', '58-62', '39-45', '14-20'], ['24-27', '28', '71-73', '78', 'V50-V59', '11-13', '52-57', '46-51', '32-35', '39-45', '29-31', 'V10-V19', '00-10'], ['24-27', '78', 'V50-V59', '52-57', '96-99', '46-51', '68-70', '58-62', '39-45', 'V40-V49', '21-23', 'V10-V19', '00-10'], ['24-27', '28', '78', 'V50-V59', '52-57', '96-99', '46-51', '58-62', '32-35', '39-45', '29-31', 'V60-V69', 'V10-V19', '00-10'], ['24-27', '58-62', '52-57', '39-45'], ['52-57', '28', '00-10', '39-45'], ['V40-V49', '24-27', '71-73', '39-45'], ['24-27', '78', '96-99', '52-57', '46-51', '79', '32-35', '39-45', '29-31', '00-10'], ['24-27', '96-99', '52-57', '74-75', '58-62', '39-45', 'V40-V49', 'V10-V19'], ['24-27', '78', '52-57', '36-38', '46-51', '58-62', '32-35', '39-45', 'V40-V49', '29-31', 'V10-V19'], ['24-27', '78', '71-73', '96-99', '46-51', '39-45', 'V10-V19'], ['78', '52-57', '96-99', '46-51', '58-62', '39-45', '29-31', '00-10'], ['28', '46-51', '39-45', 'V40-V49', '29-31'], ['24-27', 'V50-V59', '71-73', '52-57', '46-51', 'V70-V82', '39-45', 'V40-V49', '29-31', 'V10-V19'], ['24-27', '52-57', '58-62', '74-75', '39-45'], ['24-27', '46-51', '58-62', '39-45'], ['24-27', '28', '52-57', '79', '39-45', '21-23', '29-31', 'V10-V19'], ['24-27', '28', '78', 'V50-V59', '52-57', '68-70', '29-31', 'V60-V69', '00-10'], ['24-27', '78', 'V50-V59', '52-57', '96-99', '58-62', '32-35', '29-31', '00-10'], ['24-27', 'V50-V59', '52-57', '58-62', '39-45'], ['24-27', '28', '78', '52-57', '39-45', 'V40-V49', '14-20'], ['24-27', 'V50-V59', '28', '96-99', '36-38', '58-62', '32-35', '39-45', '00-10'], ['24-27', '28', '78', '58-62', '32-35', '39-45', 'V40-V49'], ['24-27', '28', '52-57', '96-99', '46-51', '58-62', '68-70', '39-45', 'V40-V49', '00-10'], ['24-27', '78', '79', '58-62', '32-35', '39-45', 'V40-V49', 'V10-V19', '00-10'], ['24-27', '52-57', '58-62', '39-45', '14-20', 'V10-V19', '00-10'], ['63-66', '71-73', '28', '84-95', '52-57', '46-51', '79', '39-45', '67', '29-31', '00-10'], ['24-27', '46-51', 'V10-V19', '39-45'], ['24-27', '78', '28', '96-99', '46-51', '58-62', 'V70-V82', '39-45', '68-70', '29-31', 'V10-V19', '00-10'], ['58-62', '46-51', '14-20', '39-45'], ['24-27', '29-31', '32-35', '39-45'], ['78', '58-62', '68-70', '39-45', 'V40-V49'], ['24-27', '71-73', '52-57', '46-51', '58-62', '32-35', '39-45', 'V40-V49'], ['24-27', '46-51', '39-45'], ['39-45', '28', '29-31'], ['24-27', '96-99', '36-38', '39-45', 'V10-V19'], ['24-27', '52-57', '46-51', '39-45', 'V40-V49', 'V60-V69'], ['80-83', '84-95', '52-57', '46-51', '39-45'], ['24-27', '78', '28', '96-99', '39-45'], ['78', '46-51', '79', '39-45', '00-10'], ['24-27', '78', '71-73', '28', '96-99', '52-57', '46-51', '36-38', '32-35', '39-45', 'V40-V49'], ['24-27', '78', '71-73', '28', '52-57', '96-99', '46-51', '58-62', '68-70', '39-45', '32-35', 'V40-V49', 'V10-V19', '00-10'], ['46-51', '39-45'], ['28', '46-51', '58-62', '68-70', '39-45', 'V40-V49'], ['24-27', 'V50-V59', '78', '46-51', '58-62', '32-35', '39-45', 'V40-V49'], ['52-57', 'V10-V19', '14-20', '39-45'], ['24-27', '71-73', '46-51', '79', '58-62', '39-45', '14-20'], ['78', '28', '96-99', '52-57', '46-51', '58-62', '39-45', 'V40-V49', '21-23', '00-10'], ['24-27', '63-66', 'V50-V59', '46-51', 'V85-V85'], ['24-27', '28', '96-99', '52-57', '46-51', '74-75', '39-45'], ['78', '11-13', '96-99', '46-51', '14-20', '29-31', '00-10'], ['24-27', '78', '71-73', '52-57', '36-38', '46-51', '79', '58-62', '32-35', '39-45', '29-31', 'V10-V19'], ['28', '96-99', '52-57', '46-51', '79', '39-45', '29-31'], ['24-27', 'V50-V59', '71-73', '46-51', '58-62', '32-35', '39-45'], ['24-27', '78', '71-73', '96-99', '46-51', '58-62', '39-45', '00-10'], ['52-57', '39-45', '58-62', '29-31'], ['24-27', '78', '52-57', '32-35', '39-45'], ['24-27', '39-45'], ['46-51', 'V10-V19', '39-45'], ['24-27', '52-57', '58-62', '39-45', 'V40-V49'], ['24-27', 'V50-V59', '28', '96-99', '52-57', '46-51', '58-62', '32-35', '39-45', '68-70', 'V40-V49', '29-31', 'V10-V19', '00-10'], ['24-27', '78', '28', '52-57', '46-51', '79', '39-45', 'V40-V49', '29-31'], ['24-27', '80-83', '71-73', '84-95', '58-62', '39-45'], ['78', '28', 'V88-V88', '74-75', '39-45'], ['96-99', '24-27', '68-70', '39-45'], ['24-27', '78', 'V50-V59', '52-57', '46-51', '58-62', '32-35', '39-45', 'V40-V49', '29-31', 'V10-V19'], ['28', '52-57', '96-99', '29-31', '00-10'], ['24-27', '28', 'V50-V59', '52-57', '39-45', 'V10-V19'], ['24-27', 'V50-V59', '84-95', '52-57', '46-51', '39-45', 'V10-V19'], ['24-27', '71-73', '52-57', '39-45', 'V10-V19'], ['96-99', '39-45'], ['24-27', '28', '78', 'V50-V59', '52-57', '96-99', '58-62', '68-70', '39-45', '32-35', 'V40-V49', '00-10', 'V01-V09'], ['96-99', '46-51', '52-57', '39-45'], ['24-27', '28', '11-13', '96-99', '52-57', '39-45'], ['24-27', '39-45'], ['28', '96-99', '52-57', '39-45', 'V40-V49', 'V10-V19'], ['28', '46-51', '79', 'V40-V49', '21-23', '29-31', 'V10-V19'], ['24-27', '46-51', '39-45'], ['24-27', '28', '71-73', '46-51', '39-45', 'V40-V49', '29-31'], ['24-27', '80-83', '28', '78', 'V50-V59', '52-57', '96-99', '46-51', '79', '39-45', 'V40-V49', '29-31', 'V10-V19'], ['52-57', '46-51', '58-62', 'V70-V82', '39-45', 'V10-V19'], ['52-57', '46-51', '58-62', '39-45', '14-20'], ['24-27', '80-83', '28', 'V50-V59', '84-95', '96-99', '46-51', '39-45', 'V40-V49', '29-31', 'V10-V19'], ['24-27', '28', '71-73', '96-99', '46-51', '58-62', '68-70', '14-20', '29-31', '00-10'], ['24-27', '28', '52-57', '39-45', 'V10-V19', '00-10'], ['46-51', 'V10-V19', '14-20', '39-45'], ['24-27', '78', '71-73', 'V50-V59', '96-99', '52-57', '46-51', '14-20', '29-31', '00-10'], ['24-27', '28', '78', '71-73', 'V50-V59', '52-57', '46-51', '58-62', '39-45', '29-31', 'V10-V19', 'V01-V09'], ['24-27', '46-51', '32-35', '39-45', '14-20'], ['28', '78', '71-73', '84-95', '52-57', '96-99', '58-62', '39-45', '00-10'], ['24-27', '78', '52-57', '96-99', '46-51', '39-45', 'V40-V49', 'V10-V19', '00-10'], ['24-27', '78', '28', '52-57', '46-51', '79', '58-62', '32-35', '39-45', '68-70', 'V40-V49', '14-20', '29-31'], ['24-27', '28', '96-99', '58-62', '39-45', '14-20', 'V10-V19'], ['24-27', '28', '52-57', '46-51', '58-62', '32-35', '39-45', '29-31'], ['24-27', '84-95', '46-51', '32-35', '39-45'], ['78', '46-51', '32-35', '39-45', 'V40-V49', '14-20', 'V10-V19'], ['24-27', '96-99', '32-35', '39-45', 'V10-V19'], ['24-27', '71-73', '96-99', '32-35', '39-45', '29-31'], ['24-27', '78', '52-57', 'V70-V82', '32-35', '39-45', 'V40-V49', '14-20', 'V60-V69', 'V10-V19'], ['24-27', '58-62', '78', '14-20'], ['28', '58-62', '32-35', '29-31'], ['36-38', 'V10-V19', '71-73', '39-45'], ['24-27', '28', '52-57', '46-51', '58-62', '39-45', '14-20', 'V10-V19', '00-10'], ['24-27', '96-99', '52-57', '46-51', '58-62', '39-45', 'V10-V19', '00-10', 'V01-V09'], ['24-27', '28', '52-57', '46-51', '39-45'], ['24-27', '78', '46-51', '58-62', '39-45'], ['24-27', '28', '71-73', '78', 'V50-V59', '52-57', '58-62', '32-35', '39-45', 'V40-V49', 'V10-V19', 'V01-V09'], ['24-27', 'V10-V19', '36-38', '39-45'], ['28', '52-57', '79', '32-35', '39-45', '14-20', 'V10-V19'], ['24-27', '71-73', '52-57', '46-51', '58-62', '39-45', 'V40-V49', '14-20'], ['71-73', '96-99', '36-38', '46-51', '74-75', '32-35'], ['24-27', '28', '71-73', '32-35', '39-45'], ['24-27', 'V88-V88', '39-45'], ['24-27', '78', '71-73', '96-99', '46-51', '32-35', '39-45', '29-31', 'V10-V19'], ['24-27', '71-73', '96-99', '52-57', '46-51', '39-45', 'V40-V49', '29-31'], ['24-27', '78', '96-99', '39-45', 'V40-V49', '00-10'], ['24-27', '68-70', '39-45', '00-10'], ['24-27', '28', '78', '96-99', '52-57', '46-51', '32-35', '39-45', 'V40-V49', '29-31'], ['78', '46-51', '58-62', '32-35', '39-45'], ['71-73', '11-13', '96-99', '46-51', '32-35'], ['24-27', '78', '58-62', '32-35', '39-45'], ['52-57', '28', '39-45'], ['24-27', '46-51', '58-62', '68-70', '39-45'], ['24-27', '32-35', '39-45', 'V40-V49'], ['96-99', '36-38', '52-57', '58-62', '39-45', 'V40-V49', '00-10']]\n",
      "[['24-27', '52-57', '46-51', '58-62', '21-23', '14-20'], ['24-27', '78', '46-51', '68-70', '39-45'], ['24-27', '78', '11-13', '52-57', '36-38', '46-51'], ['24-27', '78', '46-51', '32-35', '39-45'], ['24-27', '78', '52-57', '46-51', '32-35', '39-45'], ['24-27', '78', '71-73', '84-95', '52-57', '46-51', '32-35', '39-45', '29-31'], ['24-27', '78', '52-57', '36-38', '46-51', '39-45'], ['24-27', '46-51', '32-35', '39-45'], ['24-27', '78', '11-13', '52-57', '58-62', '68-70', '39-45', '21-23', '00-10'], ['24-27', '78', '52-57', '46-51', '58-62', '00-10'], ['78', '52-57', '68-70', '32-35', '39-45'], ['24-27', '78', '52-57', '46-51', '39-45'], ['24-27', '46-51', '78', '79'], ['78', '84-95', '79', '32-35', '39-45'], ['24-27', '78', '46-51', '32-35', '39-45'], ['24-27', '78', '71-73', '52-57', '68-70', '39-45', '00-10'], ['24-27', '78', '71-73', '84-95', '39-45'], ['24-27', '78', '71-73', '52-57', '46-51', '58-62', '39-45'], ['24-27', '78', '71-73', '32-35'], ['24-27', '78', '32-35', '39-45'], ['24-27', '78', '52-57', '46-51', '39-45'], ['24-27', '78', '36-38', '46-51', '79', '39-45'], ['52-57', '24-27', '78'], ['78', '52-57', '79', '32-35', '14-20'], ['24-27', '78', '52-57', '46-51', '58-62', '68-70', '39-45'], ['24-27', '78', '46-51', '29-31', '00-10'], ['78', '71-73', '46-51', '32-35', '39-45'], ['24-27', '78', '52-57', '46-51', '32-35', '39-45', '29-31'], ['24-27', '78', '52-57', '46-51', '39-45'], ['78', '46-51', '79', '58-62', '39-45', '21-23'], ['24-27', '78', '52-57', '46-51', '79', '39-45'], ['24-27', '63-66', '28', '78', '52-57', '46-51', '39-45'], ['24-27', '52-57', '58-62', '39-45', '29-31'], ['24-27', '78', '46-51', '39-45', '29-31'], ['24-27', '78', '52-57', '46-51', '39-45'], ['78', '71-73', '84-95', '46-51', '32-35', '39-45'], ['78', '84-95', '52-57', '96-99', '79', '32-35'], ['24-27', '78', '11-13', '52-57', '36-38', '58-62', '39-45', '00-10'], ['24-27', '78', '52-57', '46-51', '58-62', '32-35', '39-45', '29-31'], ['46-51', '78', '71-73', '39-45'], ['24-27', '63-66', '78', '71-73', '11-13', '52-57', '58-62', '39-45', '00-10'], ['24-27', '78', '71-73', '52-57', '46-51', '58-62', '32-35', '39-45'], ['78', '71-73', '46-51', '32-35', '39-45'], ['24-27', '78', '46-51', '79', '39-45'], ['24-27', '78', '32-35', '29-31'], ['24-27', '78', '52-57', '46-51', '39-45'], ['24-27', '80-83', '96-99', '52-57', '29-31'], ['78', '84-95', '52-57', '46-51', '79', '58-62', '32-35', '39-45'], ['24-27', '78', '63-66', '52-57', '46-51', '58-62', '39-45', '21-23', '29-31'], ['24-27', '78', '52-57', '46-51', '39-45'], ['24-27', '78', '11-13', '52-57', '58-62'], ['46-51', '78', '39-45'], ['24-27', '78', '46-51', '58-62', '39-45'], ['24-27', '78', '32-35', '39-45', '29-31'], ['24-27', '78', '52-57', '58-62', '39-45'], ['24-27', '78', '71-73', '46-51', '39-45'], ['24-27', '46-51', '78', '39-45'], ['24-27', '78', '46-51', '32-35', '29-31'], ['24-27', '78', '36-38', '46-51', '79'], ['29-31', '78', '32-35', '39-45'], ['24-27', '80-83', '68-70', '58-62', '32-35', '29-31'], ['78', '46-51', '58-62', '32-35', '39-45'], ['24-27', '78', '84-95', '36-38', '46-51', '79', '58-62', '32-35', '39-45'], ['24-27', '78', '84-95', '96-99', '46-51', '32-35', '39-45'], ['24-27', '46-51', '78', '39-45'], ['24-27', '78', '52-57', '46-51', '39-45'], ['80-83', '46-51', '39-45', '84-95'], ['24-27', '78', '46-51', '79', '39-45'], ['24-27', '28', '52-57', '36-38', '46-51', '39-45'], ['24-27', '78', '52-57', '46-51', '39-45'], ['24-27', '78', '71-73', '52-57', '79', '68-70', '58-62', '39-45'], ['24-27', '46-51', '39-45'], ['24-27', '78', '52-57', '46-51', '58-62', '39-45'], ['24-27', '78', '52-57', '46-51', '58-62', '39-45'], ['24-27', '78', '63-66', '52-57', '58-62', '39-45'], ['46-51', '78', '39-45'], ['78', '52-57', '46-51', '39-45', '29-31', '00-10'], ['78', '36-38', '46-51', '79', '39-45', '29-31'], ['46-51', '78', '39-45'], ['24-27', '46-51', '32-35', '39-45', '29-31', '00-10'], ['24-27', '46-51', '78', '39-45'], ['24-27', '80-83', '78', '52-57', '36-38', '46-51', '68-70', '39-45'], ['24-27', '78', '46-51', '32-35', '39-45'], ['24-27', '78', '46-51', '79', '39-45'], ['24-27', '78', '11-13', '52-57', '36-38', '96-99'], ['24-27', '78', '46-51', '32-35', '39-45'], ['24-27', '78', '46-51', '32-35', '39-45'], ['78', '32-35', '39-45', '84-95'], ['24-27', '78', '52-57', '46-51', '58-62', '39-45'], ['78', '71-73', '84-95', '46-51', '68-70', '39-45'], ['24-27', '28', '78', '46-51', '39-45'], ['24-27', '80-83', '78', '52-57', '79', '39-45'], ['24-27', '78', '84-95', '96-99', '46-51', '79', '32-35', '39-45'], ['24-27', '78', '46-51', '58-62', '68-70', '39-45'], ['78', '84-95', '46-51', '79', '32-35', '39-45'], ['24-27', '78', '52-57', '46-51', '79', '39-45'], ['24-27', '78', '11-13', '52-57', '46-51', '58-62', '68-70', '39-45', '32-35'], ['24-27', '36-38', '46-51', '79', '32-35', '39-45'], ['24-27', '78', '52-57', '46-51', '39-45'], ['46-51', '78', '39-45'], ['24-27', '78', '52-57', '46-51', '39-45'], ['24-27', '78', '52-57', '46-51', '68-70', '32-35', '39-45'], ['24-27', '78', '52-57', '36-38', '46-51', '32-35', '39-45', '29-31'], ['24-27', '78', '46-51', '32-35', '39-45', '21-23'], ['24-27', '78', '52-57', '36-38', '58-62', '39-45'], ['24-27', '78', '46-51', '39-45', '00-10'], ['46-51', '78', '79', '39-45'], ['24-27', '78', 'V88-V88', '46-51', '39-45'], ['80-83', '78', '84-95', '52-57', '58-62', '32-35', '29-31'], ['24-27', '46-51', '78', '39-45'], ['24-27', '78', '46-51', '79', '39-45'], ['80-83', '71-73', '84-95', '46-51', '32-35', '39-45', '29-31'], ['24-27', '80-83', '78', '71-73', '46-51', '68-70', '39-45'], ['24-27', '78', '52-57', '46-51', '58-62', '39-45'], ['24-27', '78', '46-51', '79', '39-45'], ['24-27', '78', '58-62', '32-35', '29-31'], ['24-27', '52-57', '36-38', '46-51', '58-62', '39-45'], ['78', '52-57', '46-51', '32-35', '39-45', '29-31', '00-10'], ['24-27', '28', '78', '11-13', '46-51', '68-70', '32-35', '39-45'], ['24-27', '78', '84-95', '52-57', '46-51', '58-62', '39-45'], ['24-27', '78', '52-57', '46-51', '39-45'], ['78', '46-51', '58-62', '21-23', '14-20'], ['24-27', '28', '11-13', '52-57', '58-62', '39-45', 'V40-V49', '21-23', '14-20'], ['78', '79', '32-35', '39-45', '29-31'], ['24-27', '78', '52-57', '36-38', '46-51', '32-35', '39-45', '29-31'], ['96-99', '46-51', '78', '39-45'], ['24-27', '78', '71-73', '46-51', '68-70', '32-35', '39-45', '58-62', '29-31'], ['24-27', '78', '52-57', '32-35', '39-45', '14-20', '29-31'], ['24-27', '63-66', '78', '79', '58-62', '67'], ['24-27', '78', '58-62', '32-35', '39-45', '29-31'], ['24-27', '78', '71-73', '63-66', '52-57', '46-51', '79', '58-62', '39-45', '67'], ['52-57', '24-27', '78', '36-38'], ['24-27', '78', '46-51', '39-45', '00-10'], ['24-27', '78', '84-95', '52-57', '46-51', '32-35', '39-45'], ['46-51', '78', '79', '39-45'], ['24-27', '78', '52-57', '36-38', '46-51', '79', '32-35', '39-45'], ['24-27', '78', '52-57', '46-51', '39-45'], ['24-27', '28', '63-66', '52-57', '46-51', '58-62', '39-45'], ['24-27', '78', '52-57', '46-51', '79', '58-62', '39-45'], ['46-51', '78', '68-70', '71-73'], ['80-83', '78', '71-73', 'V87-V87', '58-62', '32-35', '39-45', '21-23', '29-31'], ['78', '71-73', '79', '32-35', '29-31'], ['24-27', '78', '52-57', '46-51', '68-70', '32-35', '39-45', '29-31'], ['24-27', '78', '52-57', '46-51', '39-45'], ['24-27', '78', '32-35', '39-45', '29-31'], ['78', '52-57', '46-51', '39-45', '21-23', '00-10'], ['28', '78', '52-57', '46-51', '79'], ['78', '84-95', '96-99', '32-35', '39-45'], ['24-27', '78', 'V88-V88', '46-51', '32-35', 'V40-V49'], ['24-27', '78', '84-95', '32-35', '39-45'], ['24-27', '78', '52-57', '46-51', '39-45'], ['78', '71-73', '84-95', '32-35', '39-45'], ['24-27', '78', '84-95', '46-51', '32-35', '39-45', '29-31'], ['24-27', '78', '46-51', '32-35', '39-45']]\n",
      "Macro Averaged AUROC Score: 0.5456898465068348\n",
      "Micro Averaged Precision: 0.5423728813559322\n",
      "Micro Averaged Recall: 0.46065259117082535\n",
      "Micro Averaged F1-Score: 0.49818370524130773\n",
      "Macro Averaged Precision: 0.22762310488482324\n",
      "Macro Averaged Recall: 0.2037180032722807\n",
      "Macro Averaged F1-Score: 0.19001760367750267\n"
     ]
    },
    {
     "name": "stderr",
     "output_type": "stream",
     "text": [
      "\n"
     ]
    }
   ],
   "source": [
    "metrics_calc(type = 'more than 3 symptoms',method='llm', model_name= 'groq')"
   ]
  },
  {
   "cell_type": "code",
   "execution_count": 1123,
   "metadata": {},
   "outputs": [
    {
     "name": "stderr",
     "output_type": "stream",
     "text": [
      "1it [00:08,  8.26s/it]"
     ]
    },
    {
     "name": "stdout",
     "output_type": "stream",
     "text": [
      "['14-20', '78', '46-51', '39-45', '52-57', '29-31', 'V40-V49', '24-27', '11-13']\n"
     ]
    },
    {
     "name": "stderr",
     "output_type": "stream",
     "text": [
      "3it [00:17,  5.55s/it]"
     ]
    },
    {
     "name": "stdout",
     "output_type": "stream",
     "text": [
      "['46-51', '28', '78', '24-27', '39-45', '79', '14-20', '29-31']\n"
     ]
    },
    {
     "name": "stderr",
     "output_type": "stream",
     "text": [
      "5it [00:26,  5.06s/it]"
     ]
    },
    {
     "name": "stdout",
     "output_type": "stream",
     "text": [
      "['11-13', '39-45', '52-57', '14-20', '71-73', '79']\n"
     ]
    },
    {
     "name": "stderr",
     "output_type": "stream",
     "text": [
      "6it [00:34,  5.89s/it]"
     ]
    },
    {
     "name": "stdout",
     "output_type": "stream",
     "text": [
      "['39-45', '46-51', '28', '24-27', '78']\n"
     ]
    },
    {
     "name": "stderr",
     "output_type": "stream",
     "text": [
      "7it [00:42,  6.51s/it]"
     ]
    },
    {
     "name": "stdout",
     "output_type": "stream",
     "text": [
      "['78', '14-20', '39-45', '46-51', '24-27', '52-57', '68-70', '28', 'V40-V49']\n"
     ]
    },
    {
     "name": "stderr",
     "output_type": "stream",
     "text": [
      "8it [00:52,  7.29s/it]"
     ]
    },
    {
     "name": "stdout",
     "output_type": "stream",
     "text": [
      "['78', '96-99', '46-51', '39-45', '29-31', '28', '24-27', '14-20', '71-73', '32-35']\n"
     ]
    },
    {
     "name": "stderr",
     "output_type": "stream",
     "text": [
      "11it [01:01,  4.96s/it]"
     ]
    },
    {
     "name": "stdout",
     "output_type": "stream",
     "text": [
      "['52-57', '24-27', '14-20', '39-45', '78', '46-51']\n"
     ]
    },
    {
     "name": "stderr",
     "output_type": "stream",
     "text": [
      "12it [01:11,  6.06s/it]"
     ]
    },
    {
     "name": "stdout",
     "output_type": "stream",
     "text": [
      "['39-45', '46-51', '28', '24-27', '78']\n"
     ]
    },
    {
     "name": "stderr",
     "output_type": "stream",
     "text": [
      "13it [01:20,  6.77s/it]"
     ]
    },
    {
     "name": "stdout",
     "output_type": "stream",
     "text": [
      "['00-10', '24-27', '28', '39-45', '52-57', '58-62', '68-70', '71-73', '78', '79', '96-99']\n"
     ]
    },
    {
     "name": "stderr",
     "output_type": "stream",
     "text": [
      "16it [01:29,  4.93s/it]"
     ]
    },
    {
     "name": "stdout",
     "output_type": "stream",
     "text": [
      "['14-20', 'V40-V49', '29-31', '78', '46-51', '96-99', '39-45', 'V10-V19', '52-57', '36-38', '28', '24-27', '11-13']\n"
     ]
    },
    {
     "name": "stderr",
     "output_type": "stream",
     "text": [
      "17it [01:39,  5.75s/it]"
     ]
    },
    {
     "name": "stdout",
     "output_type": "stream",
     "text": [
      "['39-45', '78', '71-73', '58-62', '32-35', '24-27', '84-95', '46-51', '79', '14-20']\n"
     ]
    },
    {
     "name": "stderr",
     "output_type": "stream",
     "text": [
      "18it [01:47,  6.26s/it]"
     ]
    },
    {
     "name": "stdout",
     "output_type": "stream",
     "text": [
      "['78', '39-45', '24-27', '46-51', '52-57', '11-13', '29-31', '79']\n"
     ]
    },
    {
     "name": "stderr",
     "output_type": "stream",
     "text": [
      "19it [01:56,  6.90s/it]"
     ]
    },
    {
     "name": "stdout",
     "output_type": "stream",
     "text": [
      "['78', '46-51', 'V40-V49', '96-99']\n"
     ]
    },
    {
     "name": "stderr",
     "output_type": "stream",
     "text": [
      "20it [02:04,  7.21s/it]"
     ]
    },
    {
     "name": "stdout",
     "output_type": "stream",
     "text": [
      "['32-35', '39-45', '14-20', '46-51', '78', '80-83', '28']\n"
     ]
    },
    {
     "name": "stderr",
     "output_type": "stream",
     "text": [
      "21it [02:13,  7.72s/it]"
     ]
    },
    {
     "name": "stdout",
     "output_type": "stream",
     "text": [
      "['39-45', '46-51', '24-27', '11-13', '29-31', '78']\n"
     ]
    },
    {
     "name": "stderr",
     "output_type": "stream",
     "text": [
      "22it [02:23,  8.36s/it]"
     ]
    },
    {
     "name": "stdout",
     "output_type": "stream",
     "text": [
      "['78', '29-31', '39-45', '46-51', '96-99', '71-73', '68-70', '52-57', '24-27', '11-13']\n"
     ]
    },
    {
     "name": "stderr",
     "output_type": "stream",
     "text": [
      "23it [02:31,  8.32s/it]"
     ]
    },
    {
     "name": "stdout",
     "output_type": "stream",
     "text": [
      "['78', '39-45', '71-73', '24-27', '79', '46-51']\n"
     ]
    },
    {
     "name": "stderr",
     "output_type": "stream",
     "text": [
      "24it [02:41,  8.62s/it]"
     ]
    },
    {
     "name": "stdout",
     "output_type": "stream",
     "text": [
      "['78', '46-51', '29-31', '32-35', '52-57', '36-38', '24-27', '39-45', 'V40-V49', 'V10-V19']\n"
     ]
    },
    {
     "name": "stderr",
     "output_type": "stream",
     "text": [
      "25it [02:47,  7.93s/it]"
     ]
    },
    {
     "name": "stdout",
     "output_type": "stream",
     "text": [
      "['36-38', '21-23', '11-13', '14-20']\n"
     ]
    },
    {
     "name": "stderr",
     "output_type": "stream",
     "text": [
      "26it [02:55,  8.01s/it]"
     ]
    },
    {
     "name": "stdout",
     "output_type": "stream",
     "text": [
      "['78', '46-51', '39-45', '32-35', '29-31', '24-27', '14-20']\n"
     ]
    },
    {
     "name": "stderr",
     "output_type": "stream",
     "text": [
      "28it [03:03,  6.25s/it]"
     ]
    },
    {
     "name": "stdout",
     "output_type": "stream",
     "text": [
      "['V40-V49', '78', '46-51', '58-62', '39-45', '52-57', '24-27', '11-13', '28']\n"
     ]
    },
    {
     "name": "stderr",
     "output_type": "stream",
     "text": [
      "30it [03:12,  5.45s/it]"
     ]
    },
    {
     "name": "stdout",
     "output_type": "stream",
     "text": [
      "['78', '46-51', '39-45', '24-27', '68-70', '79', '28', '84-95']\n"
     ]
    },
    {
     "name": "stderr",
     "output_type": "stream",
     "text": [
      "33it [03:20,  4.25s/it]"
     ]
    },
    {
     "name": "stdout",
     "output_type": "stream",
     "text": [
      "['52-57', '39-45', '78', '11-13', '24-27', '36-38', '79', '84-95']\n"
     ]
    },
    {
     "name": "stderr",
     "output_type": "stream",
     "text": [
      "34it [03:29,  4.98s/it]"
     ]
    },
    {
     "name": "stdout",
     "output_type": "stream",
     "text": [
      "['14-20', '39-45', '58-62', '32-35', 'V40-V49', '24-27', '29-31', '78', '46-51', 'V50-V59', 'V10-V19', '52-57', '36-38']\n"
     ]
    },
    {
     "name": "stderr",
     "output_type": "stream",
     "text": [
      "35it [03:38,  5.88s/it]"
     ]
    },
    {
     "name": "stdout",
     "output_type": "stream",
     "text": [
      "['46-51', '39-45', '32-35', '68-70', '78', '58-62', '24-27']\n"
     ]
    },
    {
     "name": "stderr",
     "output_type": "stream",
     "text": [
      "36it [03:46,  6.42s/it]"
     ]
    },
    {
     "name": "stdout",
     "output_type": "stream",
     "text": [
      "['24-27', '46-51', '78', '28', '39-45', '11-13']\n"
     ]
    },
    {
     "name": "stderr",
     "output_type": "stream",
     "text": [
      "37it [03:55,  6.87s/it]"
     ]
    },
    {
     "name": "stdout",
     "output_type": "stream",
     "text": [
      "['32-35', '39-45', '78', '79', '80-83', '96-99']\n"
     ]
    },
    {
     "name": "stderr",
     "output_type": "stream",
     "text": [
      "38it [04:04,  7.45s/it]"
     ]
    },
    {
     "name": "stdout",
     "output_type": "stream",
     "text": [
      "['78', '32-35', '39-45', '52-57', '29-31', '24-27', '36-38', '28']\n"
     ]
    },
    {
     "name": "stderr",
     "output_type": "stream",
     "text": [
      "39it [04:12,  7.65s/it]"
     ]
    },
    {
     "name": "stdout",
     "output_type": "stream",
     "text": [
      "['78', '46-51', '39-45', '24-27', '52-57', '29-31', 'V40-V49', 'V50-V59']\n"
     ]
    },
    {
     "name": "stderr",
     "output_type": "stream",
     "text": [
      "40it [04:21,  8.06s/it]"
     ]
    },
    {
     "name": "stdout",
     "output_type": "stream",
     "text": [
      "['39-45', '46-51', '52-57', '58-62', '78', '79', '11-13', '14-20', '21-23', '24-27']\n"
     ]
    },
    {
     "name": "stderr",
     "output_type": "stream",
     "text": [
      "41it [04:30,  8.34s/it]"
     ]
    },
    {
     "name": "stdout",
     "output_type": "stream",
     "text": [
      "['78', '11-13', '24-27', '39-45', '52-57', '68-70']\n"
     ]
    },
    {
     "name": "stderr",
     "output_type": "stream",
     "text": [
      "43it [04:38,  6.45s/it]"
     ]
    },
    {
     "name": "stdout",
     "output_type": "stream",
     "text": [
      "['28', '39-45', '46-51', '52-57', '78', '96-99']\n"
     ]
    },
    {
     "name": "stderr",
     "output_type": "stream",
     "text": [
      "45it [04:47,  5.59s/it]"
     ]
    },
    {
     "name": "stdout",
     "output_type": "stream",
     "text": [
      "['78', '29-31', '52-57', '39-45', '21-23', '24-27', '58-62', '11-13', '14-20']\n"
     ]
    },
    {
     "name": "stderr",
     "output_type": "stream",
     "text": [
      "46it [04:56,  6.35s/it]"
     ]
    },
    {
     "name": "stdout",
     "output_type": "stream",
     "text": [
      "['78', 'V40-V49', '46-51', '39-45', '24-27', 'V60-V69', '28', '79']\n"
     ]
    },
    {
     "name": "stderr",
     "output_type": "stream",
     "text": [
      "48it [05:04,  5.47s/it]"
     ]
    },
    {
     "name": "stdout",
     "output_type": "stream",
     "text": [
      "['39-45', '24-27', '52-57', '36-38', '46-51', '78', '79']\n"
     ]
    },
    {
     "name": "stderr",
     "output_type": "stream",
     "text": [
      "50it [05:13,  5.15s/it]"
     ]
    },
    {
     "name": "stdout",
     "output_type": "stream",
     "text": [
      "['14-20', '39-45', '46-51', '71-73', '78', '32-35', '68-70', '24-27', '79', '96-99']\n"
     ]
    },
    {
     "name": "stderr",
     "output_type": "stream",
     "text": [
      "54it [05:22,  3.70s/it]"
     ]
    },
    {
     "name": "stdout",
     "output_type": "stream",
     "text": [
      "['78', '32-35', '46-51', 'V50-V59', '39-45', '24-27', '96-99']\n"
     ]
    },
    {
     "name": "stderr",
     "output_type": "stream",
     "text": [
      "56it [05:31,  3.88s/it]"
     ]
    },
    {
     "name": "stdout",
     "output_type": "stream",
     "text": [
      "['52-57', '39-45', '14-20', '46-51', '78', '24-27', '29-31', '58-62', '36-38']\n"
     ]
    },
    {
     "name": "stderr",
     "output_type": "stream",
     "text": [
      "57it [05:39,  4.56s/it]"
     ]
    },
    {
     "name": "stdout",
     "output_type": "stream",
     "text": [
      "['14-20', 'V40-V49', '29-31', '78', '46-51', '96-99', '32-35', '39-45', '52-57', '28', '79', '24-27']\n"
     ]
    },
    {
     "name": "stderr",
     "output_type": "stream",
     "text": [
      "58it [05:49,  5.50s/it]"
     ]
    },
    {
     "name": "stdout",
     "output_type": "stream",
     "text": [
      "['39-45', '46-51', '71-73', '78']\n"
     ]
    },
    {
     "name": "stderr",
     "output_type": "stream",
     "text": [
      "59it [05:57,  6.07s/it]"
     ]
    },
    {
     "name": "stdout",
     "output_type": "stream",
     "text": [
      "['78', '24-27', '39-45', '52-57', '58-62', '71-73', '28', '14-20', '46-51', '96-99']\n"
     ]
    },
    {
     "name": "stderr",
     "output_type": "stream",
     "text": [
      "60it [06:06,  6.67s/it]"
     ]
    },
    {
     "name": "stdout",
     "output_type": "stream",
     "text": [
      "['78', '59-59', '52-57', '29-31', '24-27', '21-23', '14-20']\n"
     ]
    },
    {
     "name": "stderr",
     "output_type": "stream",
     "text": [
      "64it [06:14,  4.05s/it]"
     ]
    },
    {
     "name": "stdout",
     "output_type": "stream",
     "text": [
      "['39-45', '71-73', '46-51', '78', '29-31', 'V40-V49', '24-27']\n"
     ]
    },
    {
     "name": "stderr",
     "output_type": "stream",
     "text": [
      "65it [06:22,  4.77s/it]"
     ]
    },
    {
     "name": "stdout",
     "output_type": "stream",
     "text": [
      "['39-45', '46-51', '28', '71-73', '24-27', '79']\n"
     ]
    },
    {
     "name": "stderr",
     "output_type": "stream",
     "text": [
      "66it [06:31,  5.50s/it]"
     ]
    },
    {
     "name": "stdout",
     "output_type": "stream",
     "text": [
      "['78', '29-31', '32-35', '46-51', '11-13', '24-27']\n"
     ]
    },
    {
     "name": "stderr",
     "output_type": "stream",
     "text": [
      "67it [06:46,  7.66s/it]"
     ]
    },
    {
     "name": "stdout",
     "output_type": "stream",
     "text": [
      "['39-45', '52-57', '71-73', '78', 'V40-V49']\n"
     ]
    },
    {
     "name": "stderr",
     "output_type": "stream",
     "text": [
      "68it [06:47,  6.05s/it]"
     ]
    },
    {
     "name": "stdout",
     "output_type": "stream",
     "text": [
      "['V40-V49', '29-31', '78', '96-99', '71-73', '39-45', '80-83', 'V60-V69', '52-57', '28', '79', '24-27', '00-10']\n"
     ]
    },
    {
     "name": "stderr",
     "output_type": "stream",
     "text": [
      "69it [06:57,  7.13s/it]"
     ]
    },
    {
     "name": "stdout",
     "output_type": "stream",
     "text": [
      "['78', '32-35', '39-45', '29-31', '46-51', '96-99', '79', '28', '24-27', '79']\n"
     ]
    },
    {
     "name": "stderr",
     "output_type": "stream",
     "text": [
      "72it [07:06,  4.87s/it]"
     ]
    },
    {
     "name": "stdout",
     "output_type": "stream",
     "text": [
      "['52-57', '39-45', '24-27', '78', '32-35']\n"
     ]
    },
    {
     "name": "stderr",
     "output_type": "stream",
     "text": [
      "73it [07:15,  5.75s/it]"
     ]
    },
    {
     "name": "stdout",
     "output_type": "stream",
     "text": [
      "['39-45', '46-51', '28', '52-57', '24-27', '78']\n"
     ]
    },
    {
     "name": "stderr",
     "output_type": "stream",
     "text": [
      "74it [07:23,  6.32s/it]"
     ]
    },
    {
     "name": "stdout",
     "output_type": "stream",
     "text": [
      "['78', '52-57', '24-27', '36-38', '58-62', '39-45', '28', '11-13']\n"
     ]
    },
    {
     "name": "stderr",
     "output_type": "stream",
     "text": [
      "76it [07:32,  5.47s/it]"
     ]
    },
    {
     "name": "stdout",
     "output_type": "stream",
     "text": [
      "['39-45', '78', '46-51', '71-73', '29-31']\n"
     ]
    },
    {
     "name": "stderr",
     "output_type": "stream",
     "text": [
      "77it [07:41,  6.30s/it]"
     ]
    },
    {
     "name": "stdout",
     "output_type": "stream",
     "text": [
      "['29-31', '78', '39-45', '32-35', '52-57', '79', '28', '46-51', '71-73', '58-62']\n"
     ]
    },
    {
     "name": "stderr",
     "output_type": "stream",
     "text": [
      "78it [07:50,  7.01s/it]"
     ]
    },
    {
     "name": "stdout",
     "output_type": "stream",
     "text": [
      "['39-45', '28', '24-27', '46-51', 'V40-V49']\n"
     ]
    },
    {
     "name": "stderr",
     "output_type": "stream",
     "text": [
      "80it [07:59,  5.87s/it]"
     ]
    },
    {
     "name": "stdout",
     "output_type": "stream",
     "text": [
      "['11-13', '24-27', '28', '39-45', '52-57', '68-70', '78', 'V40-V49', 'V60-V69']\n"
     ]
    },
    {
     "name": "stderr",
     "output_type": "stream",
     "text": [
      "82it [08:07,  5.23s/it]"
     ]
    },
    {
     "name": "stdout",
     "output_type": "stream",
     "text": [
      "['78', '46-51', '71-73', '39-45', '24-27', '11-13', 'V40-V49', 'V10-V19']\n"
     ]
    },
    {
     "name": "stderr",
     "output_type": "stream",
     "text": [
      "83it [08:16,  6.05s/it]"
     ]
    },
    {
     "name": "stdout",
     "output_type": "stream",
     "text": [
      "['46-51', '28', '39-45', '78', '96-99', '79', '24-27']\n"
     ]
    },
    {
     "name": "stderr",
     "output_type": "stream",
     "text": [
      "84it [08:24,  6.57s/it]"
     ]
    },
    {
     "name": "stdout",
     "output_type": "stream",
     "text": [
      "['78', '46-51', '24-27', '11-13', '28', '39-45', '79', '29-31', 'V40-V49', 'V10-V19']\n"
     ]
    },
    {
     "name": "stderr",
     "output_type": "stream",
     "text": [
      "85it [08:33,  7.18s/it]"
     ]
    },
    {
     "name": "stdout",
     "output_type": "stream",
     "text": [
      "['46-51', '78', '29-31', '39-45', '24-27', '28']\n"
     ]
    },
    {
     "name": "stderr",
     "output_type": "stream",
     "text": [
      "86it [08:42,  7.43s/it]"
     ]
    },
    {
     "name": "stdout",
     "output_type": "stream",
     "text": [
      "['32-35', '39-45', '46-51', '52-57', '78']\n"
     ]
    },
    {
     "name": "stderr",
     "output_type": "stream",
     "text": [
      "88it [08:51,  6.21s/it]"
     ]
    },
    {
     "name": "stdout",
     "output_type": "stream",
     "text": [
      "['78', '21-23', '39-45', '58-62', '32-35', '29-31', '14-20', '96-99', '24-27', '79']\n"
     ]
    },
    {
     "name": "stderr",
     "output_type": "stream",
     "text": [
      "89it [08:59,  6.70s/it]"
     ]
    },
    {
     "name": "stdout",
     "output_type": "stream",
     "text": [
      "['78', '39-45', '46-51', '32-35', '29-31', '71-73', '24-27', '96-99', 'V40-V49']\n"
     ]
    },
    {
     "name": "stderr",
     "output_type": "stream",
     "text": [
      "91it [09:08,  5.87s/it]"
     ]
    },
    {
     "name": "stdout",
     "output_type": "stream",
     "text": [
      "['78', '46-51', '39-45', '24-27', '79', '96-99', '84-95']\n"
     ]
    },
    {
     "name": "stderr",
     "output_type": "stream",
     "text": [
      "92it [09:16,  6.38s/it]"
     ]
    },
    {
     "name": "stdout",
     "output_type": "stream",
     "text": [
      "['29-31', '78', '96-99', '32-35', '39-45', '80-83', '24-27', '28', '79']\n"
     ]
    },
    {
     "name": "stderr",
     "output_type": "stream",
     "text": [
      "93it [09:26,  7.05s/it]"
     ]
    },
    {
     "name": "stdout",
     "output_type": "stream",
     "text": [
      "['39-45', '52-57', '46-51', '36-38', '29-31', '78']\n"
     ]
    },
    {
     "name": "stderr",
     "output_type": "stream",
     "text": [
      "96it [09:34,  4.83s/it]"
     ]
    },
    {
     "name": "stdout",
     "output_type": "stream",
     "text": [
      "['52-57', '39-45', '24-27', '78', '11-13', 'V10-V19', '58-62', '28']\n"
     ]
    },
    {
     "name": "stderr",
     "output_type": "stream",
     "text": [
      "97it [09:43,  5.74s/it]"
     ]
    },
    {
     "name": "stdout",
     "output_type": "stream",
     "text": [
      "['46-51', '24-27', '39-45', '78', '21-23', '32-35', '84-95', '96-99']\n"
     ]
    },
    {
     "name": "stderr",
     "output_type": "stream",
     "text": [
      "98it [09:51,  6.29s/it]"
     ]
    },
    {
     "name": "stdout",
     "output_type": "stream",
     "text": [
      "['39-45', '46-51', '28', '24-27', '11-13']\n"
     ]
    },
    {
     "name": "stderr",
     "output_type": "stream",
     "text": [
      "99it [10:01,  7.00s/it]"
     ]
    },
    {
     "name": "stdout",
     "output_type": "stream",
     "text": [
      "['39-45', '46-51', '28', '52-57', '11-13', '24-27', '78']\n"
     ]
    },
    {
     "name": "stderr",
     "output_type": "stream",
     "text": [
      "100it [10:09,  7.36s/it]"
     ]
    },
    {
     "name": "stdout",
     "output_type": "stream",
     "text": [
      "['39-45', '52-57', '71-73', '29-31', '46-51', '78', '14-20', 'V40-V49', '32-35', '68-70']\n"
     ]
    },
    {
     "name": "stderr",
     "output_type": "stream",
     "text": [
      "101it [10:19,  7.97s/it]"
     ]
    },
    {
     "name": "stdout",
     "output_type": "stream",
     "text": [
      "['39-45', '24-27', 'V40-V49', '78', '58-62', '46-51', '68-70', '28', '79', '14-20', '84-95']\n"
     ]
    },
    {
     "name": "stderr",
     "output_type": "stream",
     "text": [
      "102it [10:27,  8.05s/it]"
     ]
    },
    {
     "name": "stdout",
     "output_type": "stream",
     "text": [
      "['39-45', '28', '46-51', '11-13', '24-27', '79', 'V10-V19', 'V40-V49']\n"
     ]
    },
    {
     "name": "stderr",
     "output_type": "stream",
     "text": [
      "103it [10:36,  8.39s/it]"
     ]
    },
    {
     "name": "stdout",
     "output_type": "stream",
     "text": [
      "['78', '46-51', '39-45', '52-57', '24-27', '14-20', 'V40-V49']\n"
     ]
    },
    {
     "name": "stderr",
     "output_type": "stream",
     "text": [
      "104it [10:45,  8.39s/it]"
     ]
    },
    {
     "name": "stdout",
     "output_type": "stream",
     "text": [
      "['78', '39-45', '24-27', '46-51', '52-57', 'V40-V49']\n"
     ]
    },
    {
     "name": "stderr",
     "output_type": "stream",
     "text": [
      "105it [10:53,  8.35s/it]"
     ]
    },
    {
     "name": "stdout",
     "output_type": "stream",
     "text": [
      "['52-57', '39-45', '24-27', '11-13', '28', '78', '14-20', '58-62']\n"
     ]
    },
    {
     "name": "stderr",
     "output_type": "stream",
     "text": [
      "106it [11:01,  8.38s/it]"
     ]
    },
    {
     "name": "stdout",
     "output_type": "stream",
     "text": [
      "['46-51', '14-20', '24-27', '78', '79', '29-31', '96-99']\n"
     ]
    },
    {
     "name": "stderr",
     "output_type": "stream",
     "text": [
      "107it [11:11,  8.71s/it]"
     ]
    },
    {
     "name": "stdout",
     "output_type": "stream",
     "text": [
      "['78', '29-31', '46-51', '52-57', '39-45', '11-13', '24-27', '28']\n"
     ]
    },
    {
     "name": "stderr",
     "output_type": "stream",
     "text": [
      "108it [11:19,  8.59s/it]"
     ]
    },
    {
     "name": "stdout",
     "output_type": "stream",
     "text": [
      "['78', '46-51', '39-45', '24-27', '11-13', 'V40-V49']\n"
     ]
    },
    {
     "name": "stderr",
     "output_type": "stream",
     "text": [
      "110it [11:28,  6.55s/it]"
     ]
    },
    {
     "name": "stdout",
     "output_type": "stream",
     "text": [
      "['39-45', '46-51', '24-27', '28', '78']\n"
     ]
    },
    {
     "name": "stderr",
     "output_type": "stream",
     "text": [
      "111it [11:36,  7.01s/it]"
     ]
    },
    {
     "name": "stdout",
     "output_type": "stream",
     "text": [
      "['32-35', '39-45', '46-51', '78', '79', '24-27', '29-31', '14-20']\n"
     ]
    },
    {
     "name": "stderr",
     "output_type": "stream",
     "text": [
      "112it [11:44,  7.31s/it]"
     ]
    },
    {
     "name": "stdout",
     "output_type": "stream",
     "text": [
      "['28', '78', '46-51', '24-27', '79', '39-45', 'V40-V49']\n"
     ]
    },
    {
     "name": "stderr",
     "output_type": "stream",
     "text": [
      "113it [11:53,  7.83s/it]"
     ]
    },
    {
     "name": "stdout",
     "output_type": "stream",
     "text": [
      "['39-45', '46-51', '14-20', '24-27', '28', '39-45', '58-62', '52-57', '68-70', '71-73', '78', '79']\n"
     ]
    },
    {
     "name": "stderr",
     "output_type": "stream",
     "text": [
      "115it [12:02,  6.41s/it]"
     ]
    },
    {
     "name": "stdout",
     "output_type": "stream",
     "text": [
      "['78', '46-51', '39-45', '32-35', '11-13', '24-27', '52-57', '68-70']\n"
     ]
    },
    {
     "name": "stderr",
     "output_type": "stream",
     "text": [
      "116it [12:11,  6.84s/it]"
     ]
    },
    {
     "name": "stdout",
     "output_type": "stream",
     "text": [
      "['78', '24-27', '39-45', '46-51', '79']\n"
     ]
    },
    {
     "name": "stderr",
     "output_type": "stream",
     "text": [
      "117it [12:20,  7.46s/it]"
     ]
    },
    {
     "name": "stdout",
     "output_type": "stream",
     "text": [
      "['52-57', '21-23', '39-45', '24-27', '78', '14-20', '79']\n"
     ]
    },
    {
     "name": "stderr",
     "output_type": "stream",
     "text": [
      "119it [12:29,  6.12s/it]"
     ]
    },
    {
     "name": "stdout",
     "output_type": "stream",
     "text": [
      "['39-45', '46-51', '29-31', '78', 'V10-V19', 'V40-V49', '24-27', '36-38']\n"
     ]
    },
    {
     "name": "stderr",
     "output_type": "stream",
     "text": [
      "120it [12:37,  6.59s/it]"
     ]
    },
    {
     "name": "stdout",
     "output_type": "stream",
     "text": [
      "['39-45', '24-27', '78', '28', '46-51', 'V40-V49', 'V10-V19', '79']\n"
     ]
    },
    {
     "name": "stderr",
     "output_type": "stream",
     "text": [
      "121it [12:44,  6.71s/it]"
     ]
    },
    {
     "name": "stdout",
     "output_type": "stream",
     "text": [
      "['38-39', '21-23', '39-45', '67', '79']\n"
     ]
    },
    {
     "name": "stderr",
     "output_type": "stream",
     "text": [
      "122it [12:52,  7.10s/it]"
     ]
    },
    {
     "name": "stdout",
     "output_type": "stream",
     "text": [
      "['52-57', '39-45', '24-27', '71-73', '58-62', '14-20', '78', '79']\n"
     ]
    },
    {
     "name": "stderr",
     "output_type": "stream",
     "text": [
      "123it [13:01,  7.69s/it]"
     ]
    },
    {
     "name": "stdout",
     "output_type": "stream",
     "text": [
      "['39-45', '46-51', '28', '78', '24-27', '79', '11-13', '14-20', '68-70', '32-35']\n"
     ]
    },
    {
     "name": "stderr",
     "output_type": "stream",
     "text": [
      "124it [13:10,  8.12s/it]"
     ]
    },
    {
     "name": "stdout",
     "output_type": "stream",
     "text": [
      "['78', '46-51', '29-31', '96-99', '39-45', 'V40-V49', '11-13', '24-27', '14-20', '28']\n"
     ]
    },
    {
     "name": "stderr",
     "output_type": "stream",
     "text": [
      "125it [13:19,  8.12s/it]"
     ]
    },
    {
     "name": "stdout",
     "output_type": "stream",
     "text": [
      "['78', '79', '24-27', '39-45', '52-57', '68-70', '71-73', '80-83']\n"
     ]
    },
    {
     "name": "stderr",
     "output_type": "stream",
     "text": [
      "126it [13:28,  8.43s/it]"
     ]
    },
    {
     "name": "stdout",
     "output_type": "stream",
     "text": [
      "['28', '29-31', '32-35', '39-45', '46-51', '52-57', '71-73', '78', '79', '84-95', '96-99']\n"
     ]
    },
    {
     "name": "stderr",
     "output_type": "stream",
     "text": [
      "127it [13:36,  8.37s/it]"
     ]
    },
    {
     "name": "stdout",
     "output_type": "stream",
     "text": [
      "['39-45', '46-51', '58-62', '68-70', '78', 'V10-V19', 'V40-V49', '79']\n"
     ]
    },
    {
     "name": "stderr",
     "output_type": "stream",
     "text": [
      "128it [13:45,  8.64s/it]"
     ]
    },
    {
     "name": "stdout",
     "output_type": "stream",
     "text": [
      "['78', '32-35', '39-45', '29-31', '24-27', '46-51', '14-20', '21-23', '68-70', 'V40-V49']\n"
     ]
    },
    {
     "name": "stderr",
     "output_type": "stream",
     "text": [
      "129it [13:56,  9.19s/it]"
     ]
    },
    {
     "name": "stdout",
     "output_type": "stream",
     "text": [
      "['78', '24-27', '71-73', '46-51', '39-45', '52-57', '28', '11-13', '14-20', '58-62']\n"
     ]
    },
    {
     "name": "stderr",
     "output_type": "stream",
     "text": [
      "130it [14:04,  8.94s/it]"
     ]
    },
    {
     "name": "stdout",
     "output_type": "stream",
     "text": [
      "['78', '58-62', '39-45', '52-57', '28', '11-13', '24-27', '00-10', '79']\n"
     ]
    },
    {
     "name": "stderr",
     "output_type": "stream",
     "text": [
      "131it [14:13,  9.05s/it]"
     ]
    },
    {
     "name": "stdout",
     "output_type": "stream",
     "text": [
      "['46-51', '78', '29-31', '96-99', '32-35', '39-45', '52-57', '28', '24-27', '46-51']\n"
     ]
    },
    {
     "name": "stderr",
     "output_type": "stream",
     "text": [
      "132it [14:23,  9.18s/it]"
     ]
    },
    {
     "name": "stdout",
     "output_type": "stream",
     "text": [
      "['52-57', '46-51', '39-45', '14-20', '28', '68-70', '78', 'V40-V49', 'V50-V59', '96-99']\n"
     ]
    },
    {
     "name": "stderr",
     "output_type": "stream",
     "text": [
      "133it [14:31,  8.91s/it]"
     ]
    },
    {
     "name": "stdout",
     "output_type": "stream",
     "text": [
      "['39-45', '46-51', '78', '24-27', '14-20', '29-31']\n"
     ]
    },
    {
     "name": "stderr",
     "output_type": "stream",
     "text": [
      "134it [14:39,  8.71s/it]"
     ]
    },
    {
     "name": "stdout",
     "output_type": "stream",
     "text": [
      "['78', '52-57', '39-45', '46-51', '24-27', '00-10', '21-23', '28', '36-38']\n"
     ]
    },
    {
     "name": "stderr",
     "output_type": "stream",
     "text": [
      "136it [14:49,  6.83s/it]"
     ]
    },
    {
     "name": "stdout",
     "output_type": "stream",
     "text": [
      "['39-45', '46-51', '24-27', '52-57', '78', '29-31', '32-35', '58-62']\n"
     ]
    },
    {
     "name": "stderr",
     "output_type": "stream",
     "text": [
      "137it [14:57,  7.23s/it]"
     ]
    },
    {
     "name": "stdout",
     "output_type": "stream",
     "text": [
      "['39-45', '71-73', 'V40-V49', '29-31', '78', '46-51', '96-99', '58-62', '32-35', 'V50-V59', '68-70', 'V10-V19', '52-57', '36-38', '28', '79', '24-27', '00-10']\n"
     ]
    },
    {
     "name": "stderr",
     "output_type": "stream",
     "text": [
      "140it [15:06,  5.08s/it]"
     ]
    },
    {
     "name": "stdout",
     "output_type": "stream",
     "text": [
      "['46-51', '39-45', '24-27', 'V78-V78', '28', '78', 'V10-V19', 'V40-V49']\n"
     ]
    },
    {
     "name": "stderr",
     "output_type": "stream",
     "text": [
      "141it [15:15,  5.69s/it]"
     ]
    },
    {
     "name": "stdout",
     "output_type": "stream",
     "text": [
      "['28', '52-57', '21-23', '39-45', '78', '14-20']\n"
     ]
    },
    {
     "name": "stderr",
     "output_type": "stream",
     "text": [
      "142it [15:23,  6.26s/it]"
     ]
    },
    {
     "name": "stdout",
     "output_type": "stream",
     "text": [
      "['46-51', '14-20', '39-45', '11-13', '78', '24-27', '28', 'V40-V49']\n"
     ]
    },
    {
     "name": "stderr",
     "output_type": "stream",
     "text": [
      "143it [15:32,  6.97s/it]"
     ]
    },
    {
     "name": "stdout",
     "output_type": "stream",
     "text": [
      "['39-45', '46-51', '24-27', '78', 'V40-V49', 'V60-V69']\n"
     ]
    },
    {
     "name": "stderr",
     "output_type": "stream",
     "text": [
      "144it [15:40,  7.26s/it]"
     ]
    },
    {
     "name": "stdout",
     "output_type": "stream",
     "text": [
      "['46-51', '39-45', '24-27', '28', '79']\n"
     ]
    },
    {
     "name": "stderr",
     "output_type": "stream",
     "text": [
      "145it [15:48,  7.50s/it]"
     ]
    },
    {
     "name": "stdout",
     "output_type": "stream",
     "text": [
      "['80-83', '14-20', '96-99', '46-51', '28', '78', '79', '24-27', '84-95']\n"
     ]
    },
    {
     "name": "stderr",
     "output_type": "stream",
     "text": [
      "146it [15:58,  8.03s/it]"
     ]
    },
    {
     "name": "stdout",
     "output_type": "stream",
     "text": [
      "['39-45', '46-51', '78', 'V40-V49', 'V70-V82']\n"
     ]
    },
    {
     "name": "stderr",
     "output_type": "stream",
     "text": [
      "147it [16:07,  8.32s/it]"
     ]
    },
    {
     "name": "stdout",
     "output_type": "stream",
     "text": [
      "['39-45', '46-51', '78', '68-70', '24-27', '11-13']\n"
     ]
    },
    {
     "name": "stderr",
     "output_type": "stream",
     "text": [
      "148it [16:15,  8.29s/it]"
     ]
    },
    {
     "name": "stdout",
     "output_type": "stream",
     "text": [
      "Here is the output:\n",
      "\n",
      "['78', '39-45', '46-51', '71-73', '84-95']\n"
     ]
    },
    {
     "name": "stderr",
     "output_type": "stream",
     "text": [
      "149it [16:25,  8.84s/it]"
     ]
    },
    {
     "name": "stdout",
     "output_type": "stream",
     "text": [
      "['14-20', '46-51', '39-45', '78', '71-73', '24-27', '11-13', '28']\n"
     ]
    },
    {
     "name": "stderr",
     "output_type": "stream",
     "text": [
      "150it [16:34,  8.95s/it]"
     ]
    },
    {
     "name": "stdout",
     "output_type": "stream",
     "text": [
      "['78', '79', '52-57', '39-45', '28', '24-27', '68-70', '32-35', '46-51', '80-83']\n"
     ]
    },
    {
     "name": "stderr",
     "output_type": "stream",
     "text": [
      "151it [16:44,  9.06s/it]"
     ]
    },
    {
     "name": "stdout",
     "output_type": "stream",
     "text": [
      "['78', '39-45', '46-51', '24-27', '29-31', 'V40-V49', 'V60-V69']\n"
     ]
    },
    {
     "name": "stderr",
     "output_type": "stream",
     "text": [
      "153it [16:52,  6.83s/it]"
     ]
    },
    {
     "name": "stdout",
     "output_type": "stream",
     "text": [
      "['14-20', '29-31', '78', '46-51', '96-99', '71-73', '58-62', '32-35', '39-45', 'V10-V19', '52-57', '28', '79', '11-13', '24-27', '00-10']\n"
     ]
    },
    {
     "name": "stderr",
     "output_type": "stream",
     "text": [
      "154it [17:01,  7.46s/it]"
     ]
    },
    {
     "name": "stdout",
     "output_type": "stream",
     "text": [
      "['52-57', '39-45', '28', '24-27', '46-51', '79', '78', '11-13', '29-31']\n"
     ]
    },
    {
     "name": "stderr",
     "output_type": "stream",
     "text": [
      "155it [17:11,  7.90s/it]"
     ]
    },
    {
     "name": "stdout",
     "output_type": "stream",
     "text": [
      "['78', '24-27', '39-45', '46-51', '29-31', '52-57', '79', '32-35', '74-75', '84-95', '96-99']\n"
     ]
    },
    {
     "name": "stderr",
     "output_type": "stream",
     "text": [
      "156it [17:20,  8.23s/it]"
     ]
    },
    {
     "name": "stdout",
     "output_type": "stream",
     "text": [
      "['14-20', '39-45', '46-51', '58-62', '68-70', '71-73', '78', '79', '96-99']\n"
     ]
    },
    {
     "name": "stderr",
     "output_type": "stream",
     "text": [
      "157it [17:29,  8.48s/it]"
     ]
    },
    {
     "name": "stdout",
     "output_type": "stream",
     "text": [
      "['00-10', '24-27', '28', '39-45', '52-57', '78', '80-83', '84-95', '96-99']\n"
     ]
    },
    {
     "name": "stderr",
     "output_type": "stream",
     "text": [
      "158it [17:50, 12.16s/it]"
     ]
    },
    {
     "name": "stdout",
     "output_type": "stream",
     "text": [
      "['39-45', '78', '46-51', '28', '52-57', '24-27', 'V40-V49']\n"
     ]
    },
    {
     "name": "stderr",
     "output_type": "stream",
     "text": [
      "160it [17:51,  6.89s/it]"
     ]
    },
    {
     "name": "stdout",
     "output_type": "stream",
     "text": [
      "['14-20', '21-23', 'V40-V49', '78', '46-51', '32-35', '39-45', 'V10-V19', '28', '11-13', '24-27', '52-57']\n"
     ]
    },
    {
     "name": "stderr",
     "output_type": "stream",
     "text": [
      "161it [17:56,  6.47s/it]"
     ]
    },
    {
     "name": "stdout",
     "output_type": "stream",
     "text": [
      "['52-57', '28', '39-45', '58-62', '21-23', '46-51', '52-57', '14-20']\n"
     ]
    },
    {
     "name": "stderr",
     "output_type": "stream",
     "text": [
      "162it [18:04,  6.91s/it]"
     ]
    },
    {
     "name": "stdout",
     "output_type": "stream",
     "text": [
      "['32-35', '39-45', '28', '78', '24-27']\n"
     ]
    },
    {
     "name": "stderr",
     "output_type": "stream",
     "text": [
      "164it [18:14,  5.98s/it]"
     ]
    },
    {
     "name": "stdout",
     "output_type": "stream",
     "text": [
      "['V40-V49', '78', '39-45', '46-51', '96-99', '32-35', 'V50-V59', '68-70', '28', '79', '11-13', '24-27', '00-10']\n"
     ]
    },
    {
     "name": "stderr",
     "output_type": "stream",
     "text": [
      "165it [18:22,  6.51s/it]"
     ]
    },
    {
     "name": "stdout",
     "output_type": "stream",
     "text": [
      "['39-45', '46-51', '24-27', '36-38', '79', '78', 'V40-V49']\n"
     ]
    },
    {
     "name": "stderr",
     "output_type": "stream",
     "text": [
      "167it [18:32,  5.81s/it]"
     ]
    },
    {
     "name": "stdout",
     "output_type": "stream",
     "text": [
      "['39-45', '29-31', '71-73', '46-51', '96-99', '32-35', '14-20', '58-62', '68-70', '78', '80-83', 'V10-V19', '52-57', '28', '79', '11-13', '24-27', '00-10']\n"
     ]
    },
    {
     "name": "stderr",
     "output_type": "stream",
     "text": [
      "168it [18:41,  6.58s/it]"
     ]
    },
    {
     "name": "stdout",
     "output_type": "stream",
     "text": [
      "['78', '39-45', '71-73', '52-57', '46-51', '29-31', '32-35', '11-13', '24-27', '14-20']\n"
     ]
    },
    {
     "name": "stderr",
     "output_type": "stream",
     "text": [
      "169it [18:50,  7.27s/it]"
     ]
    },
    {
     "name": "stdout",
     "output_type": "stream",
     "text": [
      "['58-62', '14-20', '78', '32-35', '39-45', '28', '24-27', '52-57']\n"
     ]
    },
    {
     "name": "stderr",
     "output_type": "stream",
     "text": [
      "170it [18:59,  7.52s/it]"
     ]
    },
    {
     "name": "stdout",
     "output_type": "stream",
     "text": [
      "['29-31', '39-45', '46-51', '52-57', '58-62', '78', '79', '96-99']\n"
     ]
    },
    {
     "name": "stderr",
     "output_type": "stream",
     "text": [
      "171it [19:07,  7.80s/it]"
     ]
    },
    {
     "name": "stdout",
     "output_type": "stream",
     "text": [
      "['39-45', '46-51', 'V40-V49', 'V50-V59', '68-70', '78', '79', '28', '24-27', '52-57']\n"
     ]
    },
    {
     "name": "stderr",
     "output_type": "stream",
     "text": [
      "172it [19:15,  7.91s/it]"
     ]
    },
    {
     "name": "stdout",
     "output_type": "stream",
     "text": [
      "['52-57', '24-27', '39-45', '78', '14-20', '46-51', '11-13', '79']\n"
     ]
    },
    {
     "name": "stderr",
     "output_type": "stream",
     "text": [
      "173it [19:26,  8.60s/it]"
     ]
    },
    {
     "name": "stdout",
     "output_type": "stream",
     "text": [
      "['46-51', '39-45', '24-27', '78', '14-20', '28', '96-99']\n"
     ]
    },
    {
     "name": "stderr",
     "output_type": "stream",
     "text": [
      "174it [19:36,  9.13s/it]"
     ]
    },
    {
     "name": "stdout",
     "output_type": "stream",
     "text": [
      "['39-45', '29-31', '78', '46-51', '96-99', '71-73', '58-62', '32-35', 'V50-V59', '68-70', '39-45', 'V60-V69', 'V10-V19', '52-57', '36-38', '28', '79', '24-27']\n"
     ]
    },
    {
     "name": "stderr",
     "output_type": "stream",
     "text": [
      "175it [19:44,  8.86s/it]"
     ]
    },
    {
     "name": "stdout",
     "output_type": "stream",
     "text": [
      "['46-51', '39-45', '14-20', '78', '29-31']\n"
     ]
    },
    {
     "name": "stderr",
     "output_type": "stream",
     "text": [
      "176it [19:53,  8.67s/it]"
     ]
    },
    {
     "name": "stdout",
     "output_type": "stream",
     "text": [
      "['52-57', '39-45', '24-27', '28', '78', '46-51', '96-99', '58-62', '68-70', '79']\n"
     ]
    },
    {
     "name": "stderr",
     "output_type": "stream",
     "text": [
      "177it [20:02,  8.82s/it]"
     ]
    },
    {
     "name": "stdout",
     "output_type": "stream",
     "text": [
      "['39-45', '46-51', '24-27', '52-57', '78', 'V40-V49']\n"
     ]
    },
    {
     "name": "stderr",
     "output_type": "stream",
     "text": [
      "178it [20:10,  8.60s/it]"
     ]
    },
    {
     "name": "stdout",
     "output_type": "stream",
     "text": [
      "['52-57', '39-45', '28', '24-27', '46-51', '58-62', '78', '32-35']\n"
     ]
    },
    {
     "name": "stderr",
     "output_type": "stream",
     "text": [
      "180it [20:19,  6.74s/it]"
     ]
    },
    {
     "name": "stdout",
     "output_type": "stream",
     "text": [
      "['39-45', '46-51', '78', '52-57', '28', '24-27', '96-99']\n"
     ]
    },
    {
     "name": "stderr",
     "output_type": "stream",
     "text": [
      "181it [20:28,  7.31s/it]"
     ]
    },
    {
     "name": "stdout",
     "output_type": "stream",
     "text": [
      "['46-51', '24-27', '14-20', '71-73', '28', '78', '39-45', '52-57']\n"
     ]
    },
    {
     "name": "stderr",
     "output_type": "stream",
     "text": [
      "182it [20:34,  6.98s/it]"
     ]
    },
    {
     "name": "stdout",
     "output_type": "stream",
     "text": [
      "['71-73', '78', '36-38', '24-27', '29-31']\n"
     ]
    },
    {
     "name": "stderr",
     "output_type": "stream",
     "text": [
      "183it [20:43,  7.56s/it]"
     ]
    },
    {
     "name": "stdout",
     "output_type": "stream",
     "text": [
      "['14-20', '78', '32-35', '39-45', '80-83', '28', '24-27', '79', '14-20', '68-70', '96-99']\n"
     ]
    },
    {
     "name": "stderr",
     "output_type": "stream",
     "text": [
      "184it [20:52,  8.01s/it]"
     ]
    },
    {
     "name": "stdout",
     "output_type": "stream",
     "text": [
      "['78', '39-45', '24-27', '28', '29-31', '52-57', '58-62', '68-70', '79', '80-83', '84-95', 'V40-V49', 'V50-V59']\n"
     ]
    },
    {
     "name": "stderr",
     "output_type": "stream",
     "text": [
      "185it [21:01,  8.08s/it]"
     ]
    },
    {
     "name": "stdout",
     "output_type": "stream",
     "text": [
      "['11-13', '78', '52-57', '39-45', '24-27', '36-38', '46-51', 'V10-V19']\n"
     ]
    },
    {
     "name": "stderr",
     "output_type": "stream",
     "text": [
      "186it [21:10,  8.40s/it]"
     ]
    },
    {
     "name": "stdout",
     "output_type": "stream",
     "text": [
      "['39-45', '78', '32-35', '28', '24-27', '46-51']\n"
     ]
    },
    {
     "name": "stderr",
     "output_type": "stream",
     "text": [
      "187it [21:18,  8.39s/it]"
     ]
    },
    {
     "name": "stdout",
     "output_type": "stream",
     "text": [
      "['78', '21-23', '39-45', '52-57', '24-27', '36-38', '11-13']\n"
     ]
    },
    {
     "name": "stderr",
     "output_type": "stream",
     "text": [
      "188it [21:26,  8.33s/it]"
     ]
    },
    {
     "name": "stdout",
     "output_type": "stream",
     "text": [
      "['28', '78', '46-51', '24-27', '39-45', '52-57', '28', '79']\n"
     ]
    },
    {
     "name": "stderr",
     "output_type": "stream",
     "text": [
      "189it [21:36,  8.63s/it]"
     ]
    },
    {
     "name": "stdout",
     "output_type": "stream",
     "text": [
      "['32-35', '39-45', '46-51', '52-57', '78', '79', 'V40-V49', 'V50-V59', 'V60-V69']\n"
     ]
    },
    {
     "name": "stderr",
     "output_type": "stream",
     "text": [
      "190it [21:42,  7.90s/it]"
     ]
    },
    {
     "name": "stdout",
     "output_type": "stream",
     "text": [
      "['39-45', '21-23', '11-13', '78', '14-20', '46-51']\n"
     ]
    },
    {
     "name": "stderr",
     "output_type": "stream",
     "text": [
      "193it [21:51,  5.17s/it]"
     ]
    },
    {
     "name": "stdout",
     "output_type": "stream",
     "text": [
      "['78', '32-35', '39-45', '79', '24-27', '11-13', '68-70']\n"
     ]
    },
    {
     "name": "stderr",
     "output_type": "stream",
     "text": [
      "194it [21:58,  5.64s/it]"
     ]
    },
    {
     "name": "stdout",
     "output_type": "stream",
     "text": [
      "['57-57', '52-57', '786-79', '21-23', '46-51', '39-45', '14-20', '24-27']\n"
     ]
    },
    {
     "name": "stderr",
     "output_type": "stream",
     "text": [
      "199it [22:07,  3.36s/it]"
     ]
    },
    {
     "name": "stdout",
     "output_type": "stream",
     "text": [
      "['78', '32-35', '39-45', '52-57', '68-70', '71-73', '79', '84-95', '96-99']\n"
     ]
    },
    {
     "name": "stderr",
     "output_type": "stream",
     "text": [
      "200it [41:50, 176.10s/it]"
     ]
    },
    {
     "name": "stdout",
     "output_type": "stream",
     "text": [
      "['78', '32-35', '68-70', '39-45', '79', '24-27', '11-13']\n"
     ]
    },
    {
     "name": "stderr",
     "output_type": "stream",
     "text": [
      "200it [41:51, 12.56s/it] "
     ]
    },
    {
     "name": "stdout",
     "output_type": "stream",
     "text": [
      "['39-45', '46-51', '52-57', '24-27', '78', '79', 'V10-V19', 'V40-V49']\n",
      "Number of rows : 154\n",
      "[['24-27', '14-20'], ['24-27', '52-57', '46-51', '74-75', '32-35', '39-45', 'V40-V49', '29-31'], ['28', '84-95', '52-57', '96-99', '46-51', '39-45', '00-10'], ['24-27', '28', '96-99', '52-57', '58-62', '39-45', '29-31'], ['24-27', '28', '78', '58-62', '39-45', 'V40-V49'], ['24-27', '78', '32-35', '39-45', '29-31'], ['78', '52-57', '96-99', '58-62', '29-31', '00-10'], ['24-27', '78', '46-51', '39-45', '00-10'], ['24-27', '78', '29-31', '39-45'], ['78', '96-99', '46-51', '39-45', '14-20', '00-10'], ['28', '11-13', '96-99', '46-51', '58-62', '39-45', '00-10'], ['24-27', '52-57', '46-51', '58-62', '39-45', '00-10'], ['46-51', '28', '58-62', '39-45'], ['32-35', '84-95'], ['24-27', '28', '11-13', '36-38', '39-45', '21-23'], ['24-27', '78', '71-73', '84-95', '96-99', '39-45'], ['24-27', '28', '71-73', '78', '96-99', '46-51', '79', '58-62', '68-70', '29-31'], ['24-27', '28', '78', '52-57', '46-51', '79', '58-62', '68-70', '39-45', '21-23', 'V10-V19'], ['24-27', '29-31', '39-45'], ['24-27', '39-45'], ['24-27', '71-73', '46-51', '68-70', '39-45', 'V01-V09'], ['24-27', '78', '84-95', '58-62', '39-45'], ['24-27', '78', '11-13', '52-57', '39-45'], ['V40-V49', 'V10-V19', '14-20', '71-73'], ['24-27', '78', '28', '52-57', '58-62', '39-45', 'V40-V49'], ['24-27', '78', '71-73', 'V50-V59', '84-95', '46-51', '79', '58-62', '32-35', '39-45', 'V40-V49', '21-23', '29-31', '00-10'], ['24-27', '78', '28', '84-95', '96-99', '36-38', '58-62', '32-35', '39-45', 'V40-V49', 'V10-V19', '00-10'], ['24-27', '28', '78', '52-57', '46-51', '79', '29-31'], ['24-27', '78', 'V50-V59', '11-13', '58-62', '32-35', '39-45', '14-20', '00-10'], ['24-27', 'V50-V59', '46-51', '79', '58-62', '39-45', '14-20'], ['24-27', '28', '71-73', '78', 'V50-V59', '11-13', '52-57', '46-51', '32-35', '39-45', '29-31', 'V10-V19', '00-10'], ['24-27', '78', 'V50-V59', '52-57', '96-99', '46-51', '68-70', '58-62', '39-45', 'V40-V49', '21-23', 'V10-V19', '00-10'], ['24-27', '28', '78', 'V50-V59', '52-57', '96-99', '46-51', '58-62', '32-35', '39-45', '29-31', 'V60-V69', 'V10-V19', '00-10'], ['24-27', '58-62', '52-57', '39-45'], ['52-57', '28', '00-10', '39-45'], ['V40-V49', '24-27', '71-73', '39-45'], ['24-27', '78', '96-99', '52-57', '46-51', '79', '32-35', '39-45', '29-31', '00-10'], ['24-27', '96-99', '52-57', '74-75', '58-62', '39-45', 'V40-V49', 'V10-V19'], ['24-27', '78', '52-57', '36-38', '46-51', '58-62', '32-35', '39-45', 'V40-V49', '29-31', 'V10-V19'], ['24-27', '78', '71-73', '96-99', '46-51', '39-45', 'V10-V19'], ['78', '52-57', '96-99', '46-51', '58-62', '39-45', '29-31', '00-10'], ['28', '46-51', '39-45', 'V40-V49', '29-31'], ['24-27', 'V50-V59', '71-73', '52-57', '46-51', 'V70-V82', '39-45', 'V40-V49', '29-31', 'V10-V19'], ['24-27', '52-57', '58-62', '74-75', '39-45'], ['24-27', '46-51', '58-62', '39-45'], ['24-27', '28', '52-57', '79', '39-45', '21-23', '29-31', 'V10-V19'], ['24-27', '28', '78', 'V50-V59', '52-57', '68-70', '29-31', 'V60-V69', '00-10'], ['24-27', '78', 'V50-V59', '52-57', '96-99', '58-62', '32-35', '29-31', '00-10'], ['24-27', 'V50-V59', '52-57', '58-62', '39-45'], ['24-27', '28', '78', '52-57', '39-45', 'V40-V49', '14-20'], ['24-27', 'V50-V59', '28', '96-99', '36-38', '58-62', '32-35', '39-45', '00-10'], ['24-27', '28', '78', '58-62', '32-35', '39-45', 'V40-V49'], ['24-27', '28', '52-57', '96-99', '46-51', '58-62', '68-70', '39-45', 'V40-V49', '00-10'], ['24-27', '78', '79', '58-62', '32-35', '39-45', 'V40-V49', 'V10-V19', '00-10'], ['24-27', '52-57', '58-62', '39-45', '14-20', 'V10-V19', '00-10'], ['63-66', '71-73', '28', '84-95', '52-57', '46-51', '79', '39-45', '67', '29-31', '00-10'], ['24-27', '46-51', 'V10-V19', '39-45'], ['24-27', '78', '28', '96-99', '46-51', '58-62', 'V70-V82', '39-45', '68-70', '29-31', 'V10-V19', '00-10'], ['58-62', '46-51', '14-20', '39-45'], ['24-27', '29-31', '32-35', '39-45'], ['78', '58-62', '68-70', '39-45', 'V40-V49'], ['24-27', '71-73', '52-57', '46-51', '58-62', '32-35', '39-45', 'V40-V49'], ['24-27', '46-51', '39-45'], ['39-45', '28', '29-31'], ['24-27', '96-99', '36-38', '39-45', 'V10-V19'], ['24-27', '52-57', '46-51', '39-45', 'V40-V49', 'V60-V69'], ['80-83', '84-95', '52-57', '46-51', '39-45'], ['24-27', '78', '28', '96-99', '39-45'], ['78', '46-51', '79', '39-45', '00-10'], ['24-27', '78', '71-73', '28', '96-99', '52-57', '46-51', '36-38', '32-35', '39-45', 'V40-V49'], ['24-27', '78', '71-73', '28', '52-57', '96-99', '46-51', '58-62', '68-70', '39-45', '32-35', 'V40-V49', 'V10-V19', '00-10'], ['46-51', '39-45'], ['28', '46-51', '58-62', '68-70', '39-45', 'V40-V49'], ['24-27', 'V50-V59', '78', '46-51', '58-62', '32-35', '39-45', 'V40-V49'], ['52-57', 'V10-V19', '14-20', '39-45'], ['24-27', '71-73', '46-51', '79', '58-62', '39-45', '14-20'], ['78', '28', '96-99', '52-57', '46-51', '58-62', '39-45', 'V40-V49', '21-23', '00-10'], ['24-27', '63-66', 'V50-V59', '46-51', 'V85-V85'], ['24-27', '28', '96-99', '52-57', '46-51', '74-75', '39-45'], ['78', '11-13', '96-99', '46-51', '14-20', '29-31', '00-10'], ['24-27', '78', '71-73', '52-57', '36-38', '46-51', '79', '58-62', '32-35', '39-45', '29-31', 'V10-V19'], ['28', '96-99', '52-57', '46-51', '79', '39-45', '29-31'], ['24-27', 'V50-V59', '71-73', '46-51', '58-62', '32-35', '39-45'], ['24-27', '78', '71-73', '96-99', '46-51', '58-62', '39-45', '00-10'], ['52-57', '39-45', '58-62', '29-31'], ['24-27', '78', '52-57', '32-35', '39-45'], ['24-27', '39-45'], ['46-51', 'V10-V19', '39-45'], ['24-27', '52-57', '58-62', '39-45', 'V40-V49'], ['24-27', 'V50-V59', '28', '96-99', '52-57', '46-51', '58-62', '32-35', '39-45', '68-70', 'V40-V49', '29-31', 'V10-V19', '00-10'], ['24-27', '78', '28', '52-57', '46-51', '79', '39-45', 'V40-V49', '29-31'], ['24-27', '80-83', '71-73', '84-95', '58-62', '39-45'], ['78', '28', 'V88-V88', '74-75', '39-45'], ['96-99', '24-27', '68-70', '39-45'], ['24-27', '78', 'V50-V59', '52-57', '46-51', '58-62', '32-35', '39-45', 'V40-V49', '29-31', 'V10-V19'], ['28', '52-57', '96-99', '29-31', '00-10'], ['24-27', '28', 'V50-V59', '52-57', '39-45', 'V10-V19'], ['24-27', 'V50-V59', '84-95', '52-57', '46-51', '39-45', 'V10-V19'], ['24-27', '71-73', '52-57', '39-45', 'V10-V19'], ['96-99', '39-45'], ['24-27', '28', '78', 'V50-V59', '52-57', '96-99', '58-62', '68-70', '39-45', '32-35', 'V40-V49', '00-10', 'V01-V09'], ['96-99', '46-51', '52-57', '39-45'], ['24-27', '28', '11-13', '96-99', '52-57', '39-45'], ['24-27', '39-45'], ['28', '96-99', '52-57', '39-45', 'V40-V49', 'V10-V19'], ['28', '46-51', '79', 'V40-V49', '21-23', '29-31', 'V10-V19'], ['24-27', '46-51', '39-45'], ['24-27', '28', '71-73', '46-51', '39-45', 'V40-V49', '29-31'], ['24-27', '80-83', '28', '78', 'V50-V59', '52-57', '96-99', '46-51', '79', '39-45', 'V40-V49', '29-31', 'V10-V19'], ['52-57', '46-51', '58-62', 'V70-V82', '39-45', 'V10-V19'], ['52-57', '46-51', '58-62', '39-45', '14-20'], ['24-27', '80-83', '28', 'V50-V59', '84-95', '96-99', '46-51', '39-45', 'V40-V49', '29-31', 'V10-V19'], ['24-27', '28', '71-73', '96-99', '46-51', '58-62', '68-70', '14-20', '29-31', '00-10'], ['24-27', '28', '52-57', '39-45', 'V10-V19', '00-10'], ['46-51', 'V10-V19', '14-20', '39-45'], ['24-27', '78', '71-73', 'V50-V59', '96-99', '52-57', '46-51', '14-20', '29-31', '00-10'], ['24-27', '28', '78', '71-73', 'V50-V59', '52-57', '46-51', '58-62', '39-45', '29-31', 'V10-V19', 'V01-V09'], ['24-27', '46-51', '32-35', '39-45', '14-20'], ['28', '78', '71-73', '84-95', '52-57', '96-99', '58-62', '39-45', '00-10'], ['24-27', '78', '52-57', '96-99', '46-51', '39-45', 'V40-V49', 'V10-V19', '00-10'], ['24-27', '78', '28', '52-57', '46-51', '79', '58-62', '32-35', '39-45', '68-70', 'V40-V49', '14-20', '29-31'], ['24-27', '28', '96-99', '58-62', '39-45', '14-20', 'V10-V19'], ['24-27', '28', '52-57', '46-51', '58-62', '32-35', '39-45', '29-31'], ['24-27', '84-95', '46-51', '32-35', '39-45'], ['78', '46-51', '32-35', '39-45', 'V40-V49', '14-20', 'V10-V19'], ['24-27', '96-99', '32-35', '39-45', 'V10-V19'], ['24-27', '71-73', '96-99', '32-35', '39-45', '29-31'], ['24-27', '78', '52-57', 'V70-V82', '32-35', '39-45', 'V40-V49', '14-20', 'V60-V69', 'V10-V19'], ['24-27', '58-62', '78', '14-20'], ['28', '58-62', '32-35', '29-31'], ['36-38', 'V10-V19', '71-73', '39-45'], ['24-27', '28', '52-57', '46-51', '58-62', '39-45', '14-20', 'V10-V19', '00-10'], ['24-27', '96-99', '52-57', '46-51', '58-62', '39-45', 'V10-V19', '00-10', 'V01-V09'], ['24-27', '28', '52-57', '46-51', '39-45'], ['24-27', '78', '46-51', '58-62', '39-45'], ['24-27', '28', '71-73', '78', 'V50-V59', '52-57', '58-62', '32-35', '39-45', 'V40-V49', 'V10-V19', 'V01-V09'], ['24-27', 'V10-V19', '36-38', '39-45'], ['28', '52-57', '79', '32-35', '39-45', '14-20', 'V10-V19'], ['24-27', '71-73', '52-57', '46-51', '58-62', '39-45', 'V40-V49', '14-20'], ['71-73', '96-99', '36-38', '46-51', '74-75', '32-35'], ['24-27', '28', '71-73', '32-35', '39-45'], ['24-27', 'V88-V88', '39-45'], ['24-27', '78', '71-73', '96-99', '46-51', '32-35', '39-45', '29-31', 'V10-V19'], ['24-27', '71-73', '96-99', '52-57', '46-51', '39-45', 'V40-V49', '29-31'], ['24-27', '78', '96-99', '39-45', 'V40-V49', '00-10'], ['24-27', '68-70', '39-45', '00-10'], ['24-27', '28', '78', '96-99', '52-57', '46-51', '32-35', '39-45', 'V40-V49', '29-31'], ['78', '46-51', '58-62', '32-35', '39-45'], ['71-73', '11-13', '96-99', '46-51', '32-35'], ['24-27', '78', '58-62', '32-35', '39-45'], ['52-57', '28', '39-45'], ['24-27', '46-51', '58-62', '68-70', '39-45'], ['24-27', '32-35', '39-45', 'V40-V49'], ['96-99', '36-38', '52-57', '58-62', '39-45', 'V40-V49', '00-10']]\n",
      "[['24-27', '78', '11-13', '52-57', '46-51', '39-45', 'V40-V49', '14-20', '29-31'], ['24-27', '28', '78', '46-51', '79', '39-45', '14-20', '29-31'], ['71-73', '11-13', '52-57', '79', '39-45', '14-20'], ['24-27', '28', '78', '46-51', '39-45'], ['24-27', '78', '28', '52-57', '46-51', '68-70', '39-45', 'V40-V49', '14-20'], ['24-27', '78', '28', '71-73', '96-99', '46-51', '32-35', '39-45', '14-20', '29-31'], ['24-27', '78', '52-57', '46-51', '39-45', '14-20'], ['24-27', '28', '78', '46-51', '39-45'], ['24-27', '28', '71-73', '78', '52-57', '96-99', '79', '58-62', '68-70', '39-45', '00-10'], ['24-27', '78', '28', '11-13', '96-99', '52-57', '46-51', '36-38', '39-45', 'V40-V49', '14-20', '29-31', 'V10-V19'], ['24-27', '78', '71-73', '84-95', '46-51', '79', '58-62', '32-35', '39-45', '14-20'], ['24-27', '78', '11-13', '52-57', '46-51', '79', '39-45', '29-31'], ['V40-V49', '46-51', '78', '96-99'], ['80-83', '78', '28', '46-51', '32-35', '39-45', '14-20'], ['24-27', '78', '11-13', '46-51', '39-45', '29-31'], ['24-27', '78', '71-73', '11-13', '96-99', '52-57', '46-51', '68-70', '39-45', '29-31'], ['24-27', '78', '71-73', '46-51', '79', '39-45'], ['24-27', '78', '52-57', '36-38', '46-51', '32-35', '39-45', 'V40-V49', '29-31', 'V10-V19'], ['36-38', '21-23', '14-20', '11-13'], ['24-27', '78', '46-51', '32-35', '39-45', '14-20', '29-31'], ['24-27', '78', '28', '11-13', '52-57', '46-51', '58-62', '39-45', 'V40-V49'], ['24-27', '78', '28', '84-95', '46-51', '79', '68-70', '39-45'], ['24-27', '78', '11-13', '52-57', '36-38', '84-95', '79', '39-45'], ['24-27', '78', 'V50-V59', '52-57', '36-38', '46-51', '58-62', '32-35', '39-45', 'V40-V49', '14-20', '29-31', 'V10-V19'], ['24-27', '78', '46-51', '68-70', '32-35', '39-45', '58-62'], ['24-27', '78', '28', '11-13', '46-51', '39-45'], ['80-83', '78', '96-99', '79', '32-35', '39-45'], ['24-27', '78', '28', '52-57', '36-38', '32-35', '39-45', '29-31'], ['24-27', '78', 'V50-V59', '52-57', '46-51', '39-45', 'V40-V49', '29-31'], ['24-27', '78', '11-13', '52-57', '46-51', '79', '58-62', '39-45', '21-23', '14-20'], ['24-27', '78', '11-13', '52-57', '68-70', '39-45'], ['28', '78', '52-57', '96-99', '46-51', '39-45'], ['24-27', '78', '11-13', '52-57', '58-62', '39-45', '21-23', '14-20', '29-31'], ['24-27', '78', '28', '46-51', '79', '39-45', 'V40-V49', 'V60-V69'], ['24-27', '78', '36-38', '52-57', '46-51', '79', '39-45'], ['24-27', '78', '71-73', '96-99', '46-51', '79', '68-70', '32-35', '39-45', '14-20'], ['24-27', '78', 'V50-V59', '96-99', '46-51', '32-35', '39-45'], ['24-27', '78', '52-57', '36-38', '46-51', '58-62', '39-45', '14-20', '29-31'], ['24-27', '78', '28', '96-99', '52-57', '46-51', '79', '32-35', '39-45', 'V40-V49', '14-20', '29-31'], ['46-51', '78', '71-73', '39-45'], ['24-27', '78', '71-73', '28', '52-57', '96-99', '46-51', '58-62', '39-45', '14-20'], ['24-27', '78', '52-57', '59-59', '21-23', '14-20', '29-31'], ['24-27', '78', '71-73', '46-51', '39-45', 'V40-V49', '29-31'], ['24-27', '28', '71-73', '46-51', '79', '39-45'], ['24-27', '78', '11-13', '46-51', '32-35', '29-31'], ['78', '71-73', '52-57', '39-45', 'V40-V49'], ['24-27', '80-83', '78', '71-73', '28', '96-99', '52-57', '79', '39-45', 'V40-V49', '29-31', 'V60-V69', '00-10'], ['24-27', '78', '28', '96-99', '46-51', '79', '32-35', '39-45', '29-31'], ['24-27', '78', '52-57', '32-35', '39-45'], ['24-27', '28', '78', '52-57', '46-51', '39-45'], ['24-27', '78', '28', '11-13', '52-57', '36-38', '58-62', '39-45'], ['78', '71-73', '46-51', '39-45', '29-31'], ['78', '28', '71-73', '52-57', '46-51', '79', '58-62', '32-35', '39-45', '29-31'], ['24-27', '28', '46-51', '39-45', 'V40-V49'], ['24-27', '28', '78', '11-13', '52-57', '68-70', '39-45', 'V40-V49', 'V60-V69'], ['24-27', '78', '71-73', '11-13', '46-51', '39-45', 'V40-V49', 'V10-V19'], ['24-27', '28', '78', '96-99', '46-51', '79', '39-45'], ['24-27', '78', '28', '11-13', '46-51', '79', '39-45', 'V40-V49', '29-31', 'V10-V19'], ['24-27', '78', '28', '46-51', '39-45', '29-31'], ['78', '52-57', '46-51', '32-35', '39-45'], ['24-27', '78', '96-99', '79', '58-62', '32-35', '39-45', '21-23', '14-20', '29-31'], ['24-27', '78', '71-73', '96-99', '46-51', '32-35', '39-45', 'V40-V49', '29-31'], ['24-27', '78', '84-95', '96-99', '46-51', '79', '39-45'], ['24-27', '80-83', '78', '28', '96-99', '79', '32-35', '39-45', '29-31'], ['78', '52-57', '36-38', '46-51', '39-45', '29-31'], ['24-27', '78', '28', '11-13', '52-57', '58-62', '39-45', 'V10-V19'], ['24-27', '78', '84-95', '96-99', '46-51', '32-35', '39-45', '21-23'], ['24-27', '28', '11-13', '46-51', '39-45'], ['24-27', '28', '78', '11-13', '52-57', '46-51', '39-45'], ['78', '71-73', '52-57', '46-51', '68-70', '32-35', '39-45', 'V40-V49', '14-20', '29-31'], ['24-27', '78', '28', '84-95', '46-51', '79', '58-62', '68-70', '39-45', 'V40-V49', '14-20'], ['24-27', '28', '11-13', '46-51', '79', '39-45', 'V40-V49', 'V10-V19'], ['24-27', '78', '52-57', '46-51', '39-45', 'V40-V49', '14-20'], ['24-27', '78', '52-57', '46-51', '39-45', 'V40-V49'], ['24-27', '28', '78', '11-13', '52-57', '58-62', '39-45', '14-20'], ['24-27', '78', '96-99', '46-51', '79', '14-20', '29-31'], ['24-27', '78', '28', '11-13', '52-57', '46-51', '39-45', '29-31'], ['24-27', '78', '11-13', '46-51', '39-45', 'V40-V49'], ['24-27', '28', '78', '46-51', '39-45'], ['24-27', '78', '46-51', '79', '32-35', '39-45', '14-20', '29-31'], ['24-27', '28', '78', '46-51', '79', '39-45', 'V40-V49'], ['24-27', '28', '71-73', '78', '52-57', '46-51', '79', '58-62', '68-70', '39-45', '14-20'], ['24-27', '78', '11-13', '52-57', '46-51', '68-70', '32-35', '39-45'], ['24-27', '78', '46-51', '79', '39-45'], ['24-27', '78', '52-57', '79', '39-45', '21-23', '14-20'], ['24-27', '78', '36-38', '46-51', '39-45', 'V40-V49', '29-31', 'V10-V19'], ['24-27', '78', '28', '46-51', '79', '39-45', 'V40-V49', 'V10-V19'], ['38-39', '79', '39-45', '21-23', '67'], ['24-27', '78', '71-73', '52-57', '79', '58-62', '39-45', '14-20'], ['24-27', '28', '78', '11-13', '46-51', '79', '68-70', '32-35', '39-45', '14-20'], ['24-27', '78', '28', '11-13', '96-99', '46-51', '39-45', 'V40-V49', '14-20', '29-31'], ['24-27', '80-83', '78', '71-73', '52-57', '79', '68-70', '39-45'], ['28', '71-73', '78', '84-95', '52-57', '96-99', '46-51', '79', '32-35', '39-45', '29-31'], ['78', '46-51', '79', '58-62', '68-70', '39-45', 'V40-V49', 'V10-V19'], ['24-27', '78', '46-51', '68-70', '32-35', '39-45', 'V40-V49', '21-23', '14-20', '29-31'], ['24-27', '78', '71-73', '28', '11-13', '52-57', '46-51', '58-62', '39-45', '14-20'], ['24-27', '28', '78', '11-13', '52-57', '79', '58-62', '39-45', '00-10'], ['24-27', '78', '28', '96-99', '52-57', '46-51', '32-35', '39-45', '29-31'], ['28', '78', 'V50-V59', '52-57', '96-99', '46-51', '68-70', '39-45', 'V40-V49', '14-20'], ['24-27', '78', '46-51', '39-45', '14-20', '29-31'], ['24-27', '78', '28', '52-57', '36-38', '46-51', '39-45', '21-23', '00-10'], ['24-27', '78', '52-57', '46-51', '58-62', '32-35', '39-45', '29-31'], ['24-27', '78', '71-73', 'V50-V59', '28', '96-99', '52-57', '46-51', '36-38', '58-62', '32-35', '39-45', '68-70', 'V40-V49', '79', '29-31', 'V10-V19', '00-10'], ['24-27', '28', '78', '46-51', '39-45', 'V40-V49', 'V10-V19', 'V78-V78'], ['28', '78', '52-57', '39-45', '21-23', '14-20'], ['24-27', '78', '28', '11-13', '46-51', '39-45', 'V40-V49', '14-20'], ['24-27', '78', '46-51', '39-45', 'V40-V49', 'V60-V69'], ['24-27', '28', '46-51', '79', '39-45'], ['24-27', '80-83', '28', '78', '84-95', '96-99', '46-51', '79', '14-20'], ['78', '46-51', 'V70-V82', '39-45', 'V40-V49'], ['24-27', '78', '11-13', '46-51', '68-70', '39-45'], ['71-73', \"re is the output:\\n\\n['78\", '84-95', '46-51', '39-45'], ['24-27', '78', '71-73', '28', '11-13', '46-51', '39-45', '14-20'], ['24-27', '80-83', '78', '28', '52-57', '46-51', '79', '68-70', '32-35', '39-45'], ['24-27', '78', '46-51', '39-45', 'V40-V49', '29-31', 'V60-V69'], ['24-27', '78', '71-73', '28', '11-13', '96-99', '52-57', '46-51', '79', '58-62', '32-35', '39-45', '14-20', '29-31', 'V10-V19', '00-10'], ['24-27', '28', '78', '11-13', '52-57', '46-51', '79', '39-45', '29-31'], ['24-27', '78', '84-95', '52-57', '96-99', '46-51', '79', '74-75', '32-35', '39-45', '29-31'], ['78', '71-73', '96-99', '46-51', '79', '58-62', '68-70', '39-45', '14-20'], ['24-27', '80-83', '28', '78', '84-95', '52-57', '96-99', '39-45', '00-10'], ['24-27', '78', '28', '52-57', '46-51', '39-45', 'V40-V49'], ['24-27', '78', '28', '11-13', '52-57', '46-51', '32-35', '39-45', 'V40-V49', '21-23', '14-20', 'V10-V19'], ['28', '52-57', '46-51', '58-62', '39-45', '21-23', '14-20'], ['24-27', '78', '28', '32-35', '39-45'], ['24-27', '78', 'V50-V59', '28', '11-13', '96-99', '46-51', '79', '68-70', '32-35', '39-45', 'V40-V49', '00-10'], ['24-27', '78', '36-38', '46-51', '79', '39-45', 'V40-V49'], ['24-27', '80-83', '78', '71-73', '28', '11-13', '96-99', '52-57', '46-51', '79', '58-62', '32-35', '39-45', '68-70', '14-20', '29-31', 'V10-V19', '00-10'], ['24-27', '78', '71-73', '11-13', '52-57', '46-51', '32-35', '39-45', '14-20', '29-31'], ['24-27', '78', '28', '52-57', '58-62', '32-35', '39-45', '14-20'], ['78', '52-57', '96-99', '46-51', '79', '58-62', '39-45', '29-31'], ['24-27', 'V50-V59', '78', '28', '52-57', '46-51', '79', '68-70', '39-45', 'V40-V49'], ['24-27', '78', '11-13', '52-57', '46-51', '79', '39-45', '14-20'], ['24-27', '78', '28', '96-99', '46-51', '39-45', '14-20'], ['24-27', '78', '71-73', 'V50-V59', '28', '96-99', '52-57', '46-51', '36-38', '58-62', '32-35', '39-45', '68-70', '79', '29-31', 'V60-V69', 'V10-V19'], ['78', '46-51', '39-45', '14-20', '29-31'], ['24-27', '28', '78', '52-57', '96-99', '46-51', '79', '58-62', '68-70', '39-45'], ['24-27', '78', '52-57', '46-51', '39-45', 'V40-V49'], ['24-27', '28', '78', '52-57', '46-51', '58-62', '32-35', '39-45'], ['24-27', '78', '28', '52-57', '96-99', '46-51', '39-45'], ['24-27', '28', '71-73', '78', '52-57', '46-51', '39-45', '14-20'], ['24-27', '78', '71-73', '36-38', '29-31'], ['24-27', '80-83', '78', '28', '96-99', '79', '68-70', '32-35', '39-45', '14-20'], ['24-27', '80-83', '78', '28', 'V50-V59', '84-95', '52-57', '79', '58-62', '68-70', '39-45', 'V40-V49', '29-31'], ['24-27', '78', '11-13', '52-57', '36-38', '46-51', '39-45', 'V10-V19'], ['24-27', '78', '28', '46-51', '32-35', '39-45'], ['24-27', '78', '11-13', '52-57', '36-38', '39-45', '21-23'], ['24-27', '28', '78', '52-57', '46-51', '79', '39-45'], ['78', 'V50-V59', '52-57', '46-51', '79', '32-35', '39-45', 'V40-V49', 'V60-V69'], ['78', '11-13', '46-51', '39-45', '21-23', '14-20'], ['24-27', '78', '11-13', '79', '68-70', '32-35', '39-45'], ['24-27', '786-79', '52-57', '46-51', '39-45', '57-57', '21-23', '14-20'], ['78', '71-73', '84-95', '52-57', '96-99', '79', '68-70', '32-35', '39-45'], ['24-27', '78', '11-13', '79', '68-70', '32-35', '39-45'], ['24-27', '78', '52-57', '46-51', '79', '39-45', 'V40-V49', 'V10-V19']]\n",
      "Macro Averaged AUROC Score: 0.5486782046142973\n",
      "Micro Averaged Precision: 0.47096774193548385\n",
      "Micro Averaged Recall: 0.5604606525911708\n",
      "Micro Averaged F1-Score: 0.5118317265556529\n",
      "Macro Averaged Precision: 0.24104349726805263\n",
      "Macro Averaged Recall: 0.2736193265312093\n",
      "Macro Averaged F1-Score: 0.23193513847237285\n"
     ]
    },
    {
     "name": "stderr",
     "output_type": "stream",
     "text": [
      "\n"
     ]
    }
   ],
   "source": [
    "metrics_calc(type = 'more than 3 symptoms',method='rag', model_name= 'groq')"
   ]
  },
  {
   "cell_type": "markdown",
   "metadata": {},
   "source": [
    "Macro Averaged AUROC Score: 0.5109374285884725\n",
    "Micro Averaged Precision: 0.20837487537387836\n",
    "Micro Averaged Recall: 0.40543161978661496\n",
    "Micro Averaged F1-Score: 0.2752716496542641\n",
    "Macro Averaged Precision: 0.1178654710859196\n",
    "Macro Averaged Recall: 0.20021469407742604\n",
    "Macro Averaged F1-Score: 0.11538564445445447"
   ]
  },
  {
   "cell_type": "code",
   "execution_count": null,
   "metadata": {},
   "outputs": [],
   "source": []
  },
  {
   "cell_type": "markdown",
   "metadata": {},
   "source": []
  },
  {
   "cell_type": "code",
   "execution_count": null,
   "metadata": {},
   "outputs": [],
   "source": []
  }
 ],
 "metadata": {
  "kernelspec": {
   "display_name": "astro",
   "language": "python",
   "name": "python3"
  },
  "language_info": {
   "codemirror_mode": {
    "name": "ipython",
    "version": 3
   },
   "file_extension": ".py",
   "mimetype": "text/x-python",
   "name": "python",
   "nbconvert_exporter": "python",
   "pygments_lexer": "ipython3",
   "version": "3.12.3"
  }
 },
 "nbformat": 4,
 "nbformat_minor": 2
}
