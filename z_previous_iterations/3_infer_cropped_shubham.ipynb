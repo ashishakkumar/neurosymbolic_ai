{
 "cells": [
  {
   "cell_type": "code",
   "execution_count": 38,
   "metadata": {},
   "outputs": [],
   "source": [
    "import pandas as pd\n",
    "from sklearn.metrics import precision_score, recall_score, f1_score"
   ]
  },
  {
   "cell_type": "code",
   "execution_count": 39,
   "metadata": {},
   "outputs": [],
   "source": [
    "categories = {\n",
    "    \"00-10\": [\"00\", \"01\", \"02\", \"03\", \"04\", \"05\", \"06\", \"07\", \"08\", \"09\", \"10\"],\n",
    "    \"11-13\": [\"11\", \"12\", \"13\"],\n",
    "    \"14-20\": [\"14\", \"15\", \"16\", \"17\", \"18\", \"19\", \"20\"],\n",
    "    \"21-23\": [\"21\", \"22\", \"23\"],\n",
    "    \"24-27\": [\"24\", \"25\", \"26\", \"27\"],\n",
    "    \"28\": [\"28\"],\n",
    "    \"29-31\": [\"29\", \"30\", \"31\"],\n",
    "    \"32-35\": [\"32\", \"33\", \"34\", \"35\"],\n",
    "    \"36-38\": [\"36\", \"37\", \"38\"],\n",
    "    \"39-45\": [\"39\", \"40\", \"41\", \"42\", \"43\", \"44\", \"45\"],\n",
    "    \"46-51\": [\"46\", \"47\", \"48\", \"49\", \"50\", \"51\"],\n",
    "    \"52-57\": [\"52\", \"53\", \"54\", \"55\", \"56\", \"57\"],\n",
    "    \"58-62\": [\"58\", \"59\", \"60\", \"61\", \"62\"],\n",
    "    \"63-66\": [\"63\", \"64\", \"65\", \"66\"],\n",
    "    \"67\": [\"67\"],\n",
    "    \"68-70\": [\"68\", \"69\", \"70\"],\n",
    "    \"71-73\": [\"71\", \"72\", \"73\"],\n",
    "    \"74-75\": [\"74\", \"75\"],\n",
    "    \"76-77\": [\"76\", \"77\"],\n",
    "    \"78\": [\"78\"],\n",
    "    \"79\": [\"79\"],\n",
    "    \"80-83\": [\"80\", \"81\", \"82\", \"83\"],\n",
    "    \"84-95\": [\"84\", \"85\", \"86\", \"87\", \"88\", \"89\", \"90\", \"91\", \"92\", \"93\", \"94\", \"95\"],\n",
    "    \"96-99\": [\"96\", \"97\", \"98\", \"99\"],\n",
    "    \"V01-V09\": [\"V01\", \"V02\", \"V03\", \"V04\", \"V05\", \"V06\", \"V07\", \"V08\", \"V09\"],\n",
    "    \"V10-V19\": [\"V10\", \"V11\", \"V12\", \"V13\", \"V14\", \"V15\", \"V16\", \"V17\", \"V18\", \"V19\"],\n",
    "    \"V20-V29\": [\"V20\", \"V21\", \"V22\", \"V23\", \"V24\", \"V25\", \"V26\", \"V27\", \"V28\", \"V29\"],\n",
    "    \"V30-V39\": [\"V30\", \"V31\", \"V32\", \"V33\", \"V34\", \"V35\", \"V36\", \"V37\", \"V38\", \"V39\"],\n",
    "    \"V40-V49\": [\"V40\", \"V41\", \"V42\", \"V43\", \"V44\", \"V45\", \"V46\", \"V47\", \"V48\", \"V49\"],\n",
    "    \"V50-V59\": [\"V50\", \"V51\", \"V52\", \"V53\", \"V54\", \"V55\", \"V56\", \"V57\", \"V58\", \"V59\"],\n",
    "    \"V60-V69\": [\"V60\", \"V61\", \"V62\", \"V63\", \"V64\", \"V65\", \"V66\", \"V67\", \"V68\", \"V69\"],\n",
    "    \"V70-V82\": [\"V70\", \"V71\", \"V72\", \"V73\", \"V74\", \"V75\", \"V76\", \"V77\", \"V78\", \"V79\", \"V80\", \"V81\", \"V82\"],\n",
    "    \"V83-V84\": [\"V83\", \"V84\"],\n",
    "    \"V85-V85\": [\"V85\"],\n",
    "    \"V86-V86\": [\"V86\"],\n",
    "    \"V87-V87\": [\"V87\"],\n",
    "    \"V88-V88\": [\"V88\"],\n",
    "    \"V89-V89\": [\"V89\"],\n",
    "    \"V90-V90\": [\"V90\"],\n",
    "    \"V91-V91\": [\"V91\"],\n",
    "    \"E00-E09\": [\"E00\", \"E01\", \"E02\", \"E03\", \"E04\", \"E05\", \"E06\", \"E07\", \"E08\", \"E09\"]\n",
    "}\n"
   ]
  },
  {
   "cell_type": "code",
   "execution_count": 40,
   "metadata": {},
   "outputs": [
    {
     "data": {
      "text/html": [
       "<div>\n",
       "<style scoped>\n",
       "    .dataframe tbody tr th:only-of-type {\n",
       "        vertical-align: middle;\n",
       "    }\n",
       "\n",
       "    .dataframe tbody tr th {\n",
       "        vertical-align: top;\n",
       "    }\n",
       "\n",
       "    .dataframe thead th {\n",
       "        text-align: right;\n",
       "    }\n",
       "</style>\n",
       "<table border=\"1\" class=\"dataframe\">\n",
       "  <thead>\n",
       "    <tr style=\"text-align: right;\">\n",
       "      <th></th>\n",
       "      <th>index</th>\n",
       "      <th>short_codes</th>\n",
       "      <th>Symptoms</th>\n",
       "    </tr>\n",
       "  </thead>\n",
       "  <tbody>\n",
       "    <tr>\n",
       "      <th>0</th>\n",
       "      <td>0</td>\n",
       "      <td>41401,9971,4111,42731,4019,2720</td>\n",
       "      <td>[exertional chest pain]</td>\n",
       "    </tr>\n",
       "    <tr>\n",
       "      <th>1</th>\n",
       "      <td>1</td>\n",
       "      <td>80508,5070,99739,5180,2939,2513,E8130,8820,401...</td>\n",
       "      <td>[neck pain]</td>\n",
       "    </tr>\n",
       "    <tr>\n",
       "      <th>2</th>\n",
       "      <td>2</td>\n",
       "      <td>1541,99811,V6441,45829,25000,2724,4019,41400,V...</td>\n",
       "      <td>[rectal cancer]</td>\n",
       "    </tr>\n",
       "    <tr>\n",
       "      <th>3</th>\n",
       "      <td>3</td>\n",
       "      <td>44101,42833,4233,5601,5990,4241,7885,2875,3272...</td>\n",
       "      <td>[chest pain radiating to back]</td>\n",
       "    </tr>\n",
       "    <tr>\n",
       "      <th>4</th>\n",
       "      <td>4</td>\n",
       "      <td>41401,4139,4019,2724,45829,V4582,V1582</td>\n",
       "      <td>[chest pain]</td>\n",
       "    </tr>\n",
       "  </tbody>\n",
       "</table>\n",
       "</div>"
      ],
      "text/plain": [
       "   index                                        short_codes  \\\n",
       "0      0                    41401,9971,4111,42731,4019,2720   \n",
       "1      1  80508,5070,99739,5180,2939,2513,E8130,8820,401...   \n",
       "2      2  1541,99811,V6441,45829,25000,2724,4019,41400,V...   \n",
       "3      3  44101,42833,4233,5601,5990,4241,7885,2875,3272...   \n",
       "4      4             41401,4139,4019,2724,45829,V4582,V1582   \n",
       "\n",
       "                         Symptoms  \n",
       "0         [exertional chest pain]  \n",
       "1                     [neck pain]  \n",
       "2                 [rectal cancer]  \n",
       "3  [chest pain radiating to back]  \n",
       "4                    [chest pain]  "
      ]
     },
     "execution_count": 40,
     "metadata": {},
     "output_type": "execute_result"
    }
   ],
   "source": [
    "one_sym = pd.read_json('one.json').reset_index()\n",
    "one_sym.head()"
   ]
  },
  {
   "cell_type": "code",
   "execution_count": 41,
   "metadata": {},
   "outputs": [
    {
     "name": "stdout",
     "output_type": "stream",
     "text": [
      "<class 'pandas.core.frame.DataFrame'>\n",
      "RangeIndex: 100 entries, 0 to 99\n",
      "Data columns (total 3 columns):\n",
      " #   Column       Non-Null Count  Dtype \n",
      "---  ------       --------------  ----- \n",
      " 0   index        100 non-null    int64 \n",
      " 1   short_codes  100 non-null    object\n",
      " 2   Symptoms     100 non-null    object\n",
      "dtypes: int64(1), object(2)\n",
      "memory usage: 2.5+ KB\n"
     ]
    }
   ],
   "source": [
    "one_sym.info()"
   ]
  },
  {
   "cell_type": "code",
   "execution_count": null,
   "metadata": {},
   "outputs": [],
   "source": []
  },
  {
   "cell_type": "code",
   "execution_count": 42,
   "metadata": {},
   "outputs": [],
   "source": [
    "two_sym = pd.read_json('two.json').reset_index()\n",
    "three_sym = pd.read_json('three.json').reset_index()\n",
    "gt3_sym = pd.read_json('gt3.json').reset_index()"
   ]
  },
  {
   "cell_type": "code",
   "execution_count": 43,
   "metadata": {},
   "outputs": [
    {
     "name": "stdout",
     "output_type": "stream",
     "text": [
      "<class 'pandas.core.frame.DataFrame'>\n",
      "RangeIndex: 100 entries, 0 to 99\n",
      "Data columns (total 3 columns):\n",
      " #   Column       Non-Null Count  Dtype \n",
      "---  ------       --------------  ----- \n",
      " 0   index        100 non-null    int64 \n",
      " 1   short_codes  100 non-null    object\n",
      " 2   Symptoms     100 non-null    object\n",
      "dtypes: int64(1), object(2)\n",
      "memory usage: 2.5+ KB\n"
     ]
    }
   ],
   "source": [
    "gt3_sym.info()"
   ]
  },
  {
   "cell_type": "code",
   "execution_count": 44,
   "metadata": {},
   "outputs": [],
   "source": [
    "def merge_category(df):\n",
    "\n",
    "    df = df.drop('short_codes', axis=1)\n",
    "\n",
    "    df = df.groupby('index').agg({\n",
    "        'Category': lambda x: ','.join(map(str, x)),\n",
    "        'Symptoms': 'first'\n",
    "    }).reset_index()\n",
    "    \n",
    "    return df"
   ]
  },
  {
   "cell_type": "code",
   "execution_count": 45,
   "metadata": {},
   "outputs": [],
   "source": [
    "def category_addition(df, categories = categories) : \n",
    "    icd9_to_category = {code: category for category, codes in categories.items() for code in codes}\n",
    "    df['short_codes'] = df['short_codes'].astype(str).str.zfill(2)\n",
    "    df['Category'] = df['short_codes'].map(icd9_to_category)\n",
    "    return df"
   ]
  },
  {
   "cell_type": "code",
   "execution_count": 46,
   "metadata": {},
   "outputs": [],
   "source": [
    "def preprocessing(test_df) : \n",
    "    test_df.loc[\n",
    "        test_df['short_codes'].str.startswith(\"V\"), 'short_codes'] = test_df.short_codes.apply(\n",
    "        lambda x: x[:3])\n",
    "    test_df.loc[\n",
    "        test_df['short_codes'].str.startswith(\"E\"), 'short_codes'] = test_df.short_codes.apply(\n",
    "        lambda x: x[:3])\n",
    "    test_df.loc[(~test_df.short_codes.str.startswith(\"E\")) & (\n",
    "        ~test_df.short_codes.str.startswith(\"V\")), 'short_codes'] = test_df.short_codes.apply(\n",
    "        lambda x: x[:2])\n",
    "    return test_df"
   ]
  },
  {
   "cell_type": "code",
   "execution_count": 47,
   "metadata": {},
   "outputs": [],
   "source": [
    "def xplode(df) : \n",
    "    df = df.assign(short =df['short_codes'].str.split(',')).explode('short').reset_index(drop = True)\n",
    "    df = df.drop('short_codes' ,axis =1)\n",
    "    df.columns = ['index','Symptoms', 'short_codes']\n",
    "    return df\n",
    "\n",
    "one_sym = merge_category(category_addition(preprocessing(xplode(one_sym))))"
   ]
  },
  {
   "cell_type": "code",
   "execution_count": 48,
   "metadata": {},
   "outputs": [
    {
     "data": {
      "text/html": [
       "<div>\n",
       "<style scoped>\n",
       "    .dataframe tbody tr th:only-of-type {\n",
       "        vertical-align: middle;\n",
       "    }\n",
       "\n",
       "    .dataframe tbody tr th {\n",
       "        vertical-align: top;\n",
       "    }\n",
       "\n",
       "    .dataframe thead th {\n",
       "        text-align: right;\n",
       "    }\n",
       "</style>\n",
       "<table border=\"1\" class=\"dataframe\">\n",
       "  <thead>\n",
       "    <tr style=\"text-align: right;\">\n",
       "      <th></th>\n",
       "      <th>index</th>\n",
       "      <th>Category</th>\n",
       "      <th>Symptoms</th>\n",
       "    </tr>\n",
       "  </thead>\n",
       "  <tbody>\n",
       "    <tr>\n",
       "      <th>0</th>\n",
       "      <td>0</td>\n",
       "      <td>39-45,96-99,39-45,39-45,39-45,24-27</td>\n",
       "      <td>[exertional chest pain]</td>\n",
       "    </tr>\n",
       "    <tr>\n",
       "      <th>1</th>\n",
       "      <td>1</td>\n",
       "      <td>80-83,46-51,96-99,46-51,29-31,24-27,nan,84-95,...</td>\n",
       "      <td>[neck pain]</td>\n",
       "    </tr>\n",
       "    <tr>\n",
       "      <th>2</th>\n",
       "      <td>2</td>\n",
       "      <td>14-20,96-99,V60-V69,39-45,24-27,24-27,39-45,39...</td>\n",
       "      <td>[rectal cancer]</td>\n",
       "    </tr>\n",
       "    <tr>\n",
       "      <th>3</th>\n",
       "      <td>3</td>\n",
       "      <td>39-45,39-45,39-45,52-57,58-62,39-45,78,28,32-3...</td>\n",
       "      <td>[chest pain radiating to back]</td>\n",
       "    </tr>\n",
       "    <tr>\n",
       "      <th>4</th>\n",
       "      <td>4</td>\n",
       "      <td>39-45,39-45,39-45,24-27,39-45,V40-V49,V10-V19</td>\n",
       "      <td>[chest pain]</td>\n",
       "    </tr>\n",
       "    <tr>\n",
       "      <th>...</th>\n",
       "      <td>...</td>\n",
       "      <td>...</td>\n",
       "      <td>...</td>\n",
       "    </tr>\n",
       "    <tr>\n",
       "      <th>95</th>\n",
       "      <td>95</td>\n",
       "      <td>39-45,74-75,58-62,32-35,39-45,39-45</td>\n",
       "      <td>[mild dyspnea on exertion]</td>\n",
       "    </tr>\n",
       "    <tr>\n",
       "      <th>96</th>\n",
       "      <td>96</td>\n",
       "      <td>39-45,52-57,nan,28,24-27,24-27,V50-V59,36-38,5...</td>\n",
       "      <td>[loose bloody bowel movements]</td>\n",
       "    </tr>\n",
       "    <tr>\n",
       "      <th>97</th>\n",
       "      <td>97</td>\n",
       "      <td>39-45,58-62,46-51,39-45,24-27,39-45,V40-V49</td>\n",
       "      <td>[enlarging 5.6 cm aneurysm of the infrarenal a...</td>\n",
       "    </tr>\n",
       "    <tr>\n",
       "      <th>98</th>\n",
       "      <td>98</td>\n",
       "      <td>39-45,39-45,39-45,39-45,39-45,46-51,39-45,39-4...</td>\n",
       "      <td>[shortness of breath]</td>\n",
       "    </tr>\n",
       "    <tr>\n",
       "      <th>99</th>\n",
       "      <td>99</td>\n",
       "      <td>39-45,39-45,74-75,39-45,39-45,39-45,32-35,24-2...</td>\n",
       "      <td>[dyspnea]</td>\n",
       "    </tr>\n",
       "  </tbody>\n",
       "</table>\n",
       "<p>100 rows × 3 columns</p>\n",
       "</div>"
      ],
      "text/plain": [
       "    index                                           Category  \\\n",
       "0       0                39-45,96-99,39-45,39-45,39-45,24-27   \n",
       "1       1  80-83,46-51,96-99,46-51,29-31,24-27,nan,84-95,...   \n",
       "2       2  14-20,96-99,V60-V69,39-45,24-27,24-27,39-45,39...   \n",
       "3       3  39-45,39-45,39-45,52-57,58-62,39-45,78,28,32-3...   \n",
       "4       4      39-45,39-45,39-45,24-27,39-45,V40-V49,V10-V19   \n",
       "..    ...                                                ...   \n",
       "95     95                39-45,74-75,58-62,32-35,39-45,39-45   \n",
       "96     96  39-45,52-57,nan,28,24-27,24-27,V50-V59,36-38,5...   \n",
       "97     97        39-45,58-62,46-51,39-45,24-27,39-45,V40-V49   \n",
       "98     98  39-45,39-45,39-45,39-45,39-45,46-51,39-45,39-4...   \n",
       "99     99  39-45,39-45,74-75,39-45,39-45,39-45,32-35,24-2...   \n",
       "\n",
       "                                             Symptoms  \n",
       "0                             [exertional chest pain]  \n",
       "1                                         [neck pain]  \n",
       "2                                     [rectal cancer]  \n",
       "3                      [chest pain radiating to back]  \n",
       "4                                        [chest pain]  \n",
       "..                                                ...  \n",
       "95                         [mild dyspnea on exertion]  \n",
       "96                     [loose bloody bowel movements]  \n",
       "97  [enlarging 5.6 cm aneurysm of the infrarenal a...  \n",
       "98                              [shortness of breath]  \n",
       "99                                          [dyspnea]  \n",
       "\n",
       "[100 rows x 3 columns]"
      ]
     },
     "execution_count": 48,
     "metadata": {},
     "output_type": "execute_result"
    }
   ],
   "source": [
    "one_sym "
   ]
  },
  {
   "cell_type": "code",
   "execution_count": 49,
   "metadata": {},
   "outputs": [],
   "source": [
    "two_sym = merge_category(category_addition(preprocessing(xplode(two_sym))))\n",
    "\n",
    "three_sym = merge_category(category_addition(preprocessing(xplode(three_sym))))\n",
    "\n",
    "gt3_sym = merge_category(category_addition(preprocessing(xplode(gt3_sym))))"
   ]
  },
  {
   "cell_type": "code",
   "execution_count": 50,
   "metadata": {},
   "outputs": [
    {
     "data": {
      "text/html": [
       "<div>\n",
       "<style scoped>\n",
       "    .dataframe tbody tr th:only-of-type {\n",
       "        vertical-align: middle;\n",
       "    }\n",
       "\n",
       "    .dataframe tbody tr th {\n",
       "        vertical-align: top;\n",
       "    }\n",
       "\n",
       "    .dataframe thead th {\n",
       "        text-align: right;\n",
       "    }\n",
       "</style>\n",
       "<table border=\"1\" class=\"dataframe\">\n",
       "  <thead>\n",
       "    <tr style=\"text-align: right;\">\n",
       "      <th></th>\n",
       "      <th>index</th>\n",
       "      <th>Category</th>\n",
       "      <th>Symptoms</th>\n",
       "    </tr>\n",
       "  </thead>\n",
       "  <tbody>\n",
       "    <tr>\n",
       "      <th>0</th>\n",
       "      <td>0</td>\n",
       "      <td>84-95,46-51,46-51,39-45,00-10,96-99,80-83,80-8...</td>\n",
       "      <td>[chest pain, back pain, decreased breath sound...</td>\n",
       "    </tr>\n",
       "    <tr>\n",
       "      <th>1</th>\n",
       "      <td>1</td>\n",
       "      <td>46-51,29-31,24-27,29-31,24-27,V60-V69</td>\n",
       "      <td>[lethargic, unable to answer questions, normal...</td>\n",
       "    </tr>\n",
       "    <tr>\n",
       "      <th>2</th>\n",
       "      <td>2</td>\n",
       "      <td>39-45,39-45,46-51,39-45,00-10,78,78,39-45</td>\n",
       "      <td>[slurred speech, inability to move left arm an...</td>\n",
       "    </tr>\n",
       "    <tr>\n",
       "      <th>3</th>\n",
       "      <td>3</td>\n",
       "      <td>46-51,39-45,46-51,46-51,46-51,58-62,24-27,24-2...</td>\n",
       "      <td>[hypercarbic respiratory failure, coughing, in...</td>\n",
       "    </tr>\n",
       "    <tr>\n",
       "      <th>4</th>\n",
       "      <td>4</td>\n",
       "      <td>39-45,39-45,24-27,39-45,58-62,V40-V49,V10-V19</td>\n",
       "      <td>[unequal pulses in upper extremities, minimall...</td>\n",
       "    </tr>\n",
       "  </tbody>\n",
       "</table>\n",
       "</div>"
      ],
      "text/plain": [
       "   index                                           Category  \\\n",
       "0      0  84-95,46-51,46-51,39-45,00-10,96-99,80-83,80-8...   \n",
       "1      1              46-51,29-31,24-27,29-31,24-27,V60-V69   \n",
       "2      2          39-45,39-45,46-51,39-45,00-10,78,78,39-45   \n",
       "3      3  46-51,39-45,46-51,46-51,46-51,58-62,24-27,24-2...   \n",
       "4      4      39-45,39-45,24-27,39-45,58-62,V40-V49,V10-V19   \n",
       "\n",
       "                                            Symptoms  \n",
       "0  [chest pain, back pain, decreased breath sound...  \n",
       "1  [lethargic, unable to answer questions, normal...  \n",
       "2  [slurred speech, inability to move left arm an...  \n",
       "3  [hypercarbic respiratory failure, coughing, in...  \n",
       "4  [unequal pulses in upper extremities, minimall...  "
      ]
     },
     "execution_count": 50,
     "metadata": {},
     "output_type": "execute_result"
    }
   ],
   "source": [
    "gt3_sym.head()"
   ]
  },
  {
   "cell_type": "code",
   "execution_count": 56,
   "metadata": {},
   "outputs": [],
   "source": [
    "import os\n",
    "from py2neo import Graph\n",
    "from mistralai.client import MistralClient\n",
    "from mistralai.models.chat_completion import ChatMessage\n",
    "from neo4j import GraphDatabase\n",
    "from dotenv import load_dotenv\n",
    "import json\n",
    "import numpy as np\n",
    "from sklearn.metrics import precision_score, recall_score, f1_score, roc_auc_score\n",
    "\n",
    "\n",
    "uri = \"neo4j://localhost:7687\" \n",
    "auth = (\"neo4j\", \"neo4j_pass5\")\n",
    "\n",
    "driver_1= GraphDatabase.driver(uri, auth=auth) \n",
    "driver_1.verify_connectivity()\n",
    "\n",
    "\n"
   ]
  },
  {
   "cell_type": "code",
   "execution_count": 57,
   "metadata": {},
   "outputs": [],
   "source": [
    "def get_prioritized_relationships(symptom_names, weightage=5, limit=20):\n",
    "    with driver_1.session() as session:\n",
    "        result = session.run(f\"\"\"\n",
    "            MATCH (s:Symptom)-[r:ASSOCIATED_WITH]->(d:Disease)\n",
    "            WHERE s.name IN $symptoms AND r.weight >= {weightage}\n",
    "            WITH d.title AS disease_name, collect(s.name) AS symptoms, max(r.weight) AS max_weight\n",
    "            RETURN disease_name, symptoms, max_weight\n",
    "            ORDER BY max_weight DESC\n",
    "            LIMIT {limit}\n",
    "        \"\"\", symptoms=symptom_names)\n",
    "\n",
    "        codes = []\n",
    "        all_info = {}\n",
    "        for record in result:\n",
    "            codes.append(record['disease_name'])\n",
    "            all_info[record['disease_name']] = [record['disease_name'], record['max_weight']]\n",
    "\n",
    "            \n",
    "        return codes, all_info\n",
    "    \n",
    "\n",
    "def create_binary_matrix(labels, classes):\n",
    "    binary_matrix = np.zeros((len(labels), len(classes)), dtype=int)\n",
    "    for i, label_list in enumerate(labels):\n",
    "        for label in label_list:\n",
    "            if label in classes:\n",
    "                idx = classes.index(label)\n",
    "                binary_matrix[i, idx] = 1       \n",
    "    return binary_matrix\n",
    "    \n",
    "    \n",
    "def roc_auc(probs, labels, multilabel=False, average='macro', multi_class='ovo'):\n",
    "    if isinstance(labels, list):\n",
    "        labels = np.array(labels, dtype=int)\n",
    "    else:\n",
    "        labels = labels.astype(int)\n",
    "    y_score = probs\n",
    "    if multilabel:\n",
    "        dim_size = len(labels[0])\n",
    "        mask = np.ones((dim_size), dtype=bool)\n",
    "        for c in range(dim_size):\n",
    "            if max(labels[:, c]) == 0:\n",
    "                mask[c] = False\n",
    "        labels = labels[:, mask]\n",
    "        y_score = np.array(probs)[:, mask]\n",
    "\n",
    "        filtered_cols = np.count_nonzero(mask == False)\n",
    "        # print(f\"{filtered_cols} columns not considered for ROC AUC calculation!\")\n",
    "\n",
    "    return roc_auc_score(y_true=labels, y_score=y_score, average=average, multi_class=multi_class)\n"
   ]
  },
  {
   "cell_type": "code",
   "execution_count": 94,
   "metadata": {},
   "outputs": [
    {
     "name": "stdout",
     "output_type": "stream",
     "text": [
      "['HEADACHE', 'Headache', 'headache', 'Severe headache during headache episodes', 'Massive headache', 'Headache (migraine)', 'Dull headache', 'whole headache', 'worst headache', 'waxing headache', 'worse headache', 'vasospasm headache', 'Light headache', 'Migraine headache', 'headache-frontal', 'Mild Headache', 'holocranial headache', 'Mild headache', 'increased headache', 'worsening headache', 'Extensive fractures', 'Extensive injuries', 'Extensive bruising', 'Extensive supratentorial edema', 'Extensive cardiac history', 'Extensive pulmonary contusions', 'Extensive rib fractures', 'Extensive brain injury', 'Extensive superficial lacerations', 'Extensive blood loss', 'Extensive bilateral PEs', 'Extensive intraparenchymal hemorrhage', 'Extensive facial lacerations', 'Extensive smoking history', 'Extensive front end damage', 'Extensive left-sided injuries', 'Extensive vertebral compression fractures', 'Extensive soft tissue damage', 'extensive bleed during bronchoscopy', 'extensive necrotic L thigh wound', 'Nausea', 'nausea', 'NAUSEA', 'Denies nausea', 'bilious nausea', 'Intermittent nausea', 'transient nausea', 'postprandial nausea', 'positive nausea', 'associated nausea', 'denies nausea', 'persistent nausea', 'chronic nausea', 'Intractable nausea', 'constant nausea', 'Worsening nausea', 'increasing nausea', 'intermittent nausea', 'Denying nausea', 'Abdominal nausea']\n"
     ]
    }
   ],
   "source": [
    "def escape_special_chars(query):\n",
    "    return query.replace(\"'\", \"\\\\'\").replace(\"/\", \"\\\\/\")\n",
    "\n",
    "def search_symptoms(query_strings, expansion_limit =20):\n",
    "    all_symptoms = []\n",
    "    for query_string in query_strings:\n",
    "        escaped_query = escape_special_chars(query_string)  # Escape the query string\n",
    "        with driver_1.session() as session:\n",
    "            result = session.run(\n",
    "                f\"CALL db.index.fulltext.queryNodes('symptomIndex', '{escaped_query}') \"\n",
    "                \"YIELD node, score \"\n",
    "                \"RETURN node.name AS symptom, score \"\n",
    "                \"ORDER BY score DESC \"\n",
    "                f\"LIMIT {expansion_limit}\"\n",
    "            )\n",
    "            symptoms = [record['symptom'] for record in result]\n",
    "            all_symptoms.extend(symptoms)\n",
    "    return all_symptoms\n",
    "\n",
    "# Example usage\n",
    "search_queries = ['headache', \"extensive microcalcification's\", 'nausea']\n",
    "search_results = search_symptoms(search_queries)\n",
    "print(search_results)"
   ]
  },
  {
   "cell_type": "code",
   "execution_count": 59,
   "metadata": {},
   "outputs": [],
   "source": [
    "classes = classes = ['32-35','79','96-99','52-57','74-75','V20-V29','V60-V69','76-77','21-23','V50-V59','36-38','28','00-10','V01-V09','V40-V49','46-51','80-83','E00-E09','V30-V39','11-13','58-62','24-27','V85-V85','V87-V87','68-70','39-45','78','V83-V84','63-66','14-20','67','V88-V88','V10-V19','V70-V82','84-95','29-31','V90-V90','71-73']"
   ]
  },
  {
   "cell_type": "code",
   "execution_count": 63,
   "metadata": {},
   "outputs": [
    {
     "name": "stderr",
     "output_type": "stream",
     "text": [
      "100it [00:02, 42.35it/s]"
     ]
    },
    {
     "name": "stdout",
     "output_type": "stream",
     "text": [
      "AUROC Score: 0.5386322640188874\n"
     ]
    },
    {
     "name": "stderr",
     "output_type": "stream",
     "text": [
      "\n"
     ]
    }
   ],
   "source": [
    "\n",
    "\n",
    "true_labels = []\n",
    "predicted_labels = []\n",
    "\n",
    "for i,j in tqdm(one_sym.iterrows()): \n",
    "                true_label = j.Category.split(',')\n",
    "                true_labels.append(list(set(true_label)))\n",
    "                expanded_query =  search_symptoms(list(j.Symptoms))\n",
    "                pred_labels = get_prioritized_relationships(expanded_query,weightage=1,limit= 10)[0]\n",
    "                predicted_labels.append(pred_labels)\n",
    "    \n",
    "true_binary_matrix = create_binary_matrix(true_labels, classes)\n",
    "predicted_binary_matrix = create_binary_matrix(predicted_labels, classes)\n",
    "\n",
    "auroc_score = roc_auc(predicted_binary_matrix, true_binary_matrix, multilabel=True)\n",
    "print(f\"AUROC Score: {auroc_score}\")\n",
    "               \n",
    "        "
   ]
  },
  {
   "cell_type": "code",
   "execution_count": 64,
   "metadata": {},
   "outputs": [
    {
     "name": "stderr",
     "output_type": "stream",
     "text": [
      "Weightage: 100%|██████████| 1/1 [00:02<00:00,  2.43s/it]\n",
      "Weightage: 100%|██████████| 1/1 [00:02<00:00,  2.40s/it]\n",
      "Weightage: 100%|██████████| 1/1 [00:02<00:00,  2.54s/it]\n",
      "Weightage: 100%|██████████| 1/1 [00:04<00:00,  4.69s/it]\n",
      "Weightage: 100%|██████████| 1/1 [00:05<00:00,  5.06s/it]\n",
      "Weightage: 100%|██████████| 1/1 [00:05<00:00,  5.13s/it]\n",
      "Weightage: 100%|██████████| 1/1 [00:05<00:00,  5.13s/it]\n",
      "                                                    "
     ]
    },
    {
     "name": "stdout",
     "output_type": "stream",
     "text": [
      "Best Weightage: 1\n",
      "Best Limit: 5\n",
      "Best Precision Score: 0.4730290456431535\n"
     ]
    },
    {
     "name": "stderr",
     "output_type": "stream",
     "text": [
      "\r"
     ]
    }
   ],
   "source": [
    "# weightage_range = [2,3,5,7,10,15,20] \n",
    "# limit_range = [4,5,6,7,8,9,10,12,15,20,25,30]\n",
    "weightage_range = [1]\n",
    "limit_range = [5,10,15,20,25,30,35]\n",
    "\n",
    "best_weightage = None\n",
    "best_limit = None\n",
    "best_precision_score = -np.inf\n",
    "\n",
    "for limit in tqdm(limit_range, desc='Limit', leave=False):\n",
    "    for weightage in tqdm(weightage_range, desc='Weightage'):\n",
    "    \n",
    "        \n",
    "        true_labels = []\n",
    "        predicted_labels = []\n",
    "        \n",
    "        for i, j in one_sym.iterrows(): \n",
    "           if len(j.Symptoms) ==1 : \n",
    "                true_label = j.Category.split(',')\n",
    "                true_labels.append(true_label)\n",
    "                expanded_query =  search_symptoms(list(j.Symptoms))\n",
    "                pred_labels = get_prioritized_relationships(expanded_query, weightage=weightage, limit=limit)[0]\n",
    "                predicted_labels.append(pred_labels)\n",
    "\n",
    "        \n",
    "        true_binary_matrix = create_binary_matrix(true_labels, classes)\n",
    "        predicted_binary_matrix = create_binary_matrix(predicted_labels, classes)\n",
    "        \n",
    "        precision = f1_score(true_binary_matrix, predicted_binary_matrix, average='micro')\n",
    "        \n",
    "   \n",
    "        if precision > best_precision_score:\n",
    "            best_precision_score = precision\n",
    "            best_weightage = weightage\n",
    "            best_limit = limit\n",
    "\n",
    "print(f\"Best Weightage: {best_weightage}\")\n",
    "print(f\"Best Limit: {best_limit}\")\n",
    "print(f\"Best Precision Score: {best_precision_score}\")\n"
   ]
  },
  {
   "cell_type": "code",
   "execution_count": 85,
   "metadata": {},
   "outputs": [],
   "source": [
    "uri = \"neo4j://localhost:8687\" \n",
    "auth = (\"neo4j\", \"neo4j_pass7\")\n",
    "\n",
    "driver = GraphDatabase.driver(uri, auth=auth) \n",
    "driver.verify_connectivity()\n",
    "\n"
   ]
  },
  {
   "cell_type": "code",
   "execution_count": 86,
   "metadata": {},
   "outputs": [],
   "source": [
    "def get_prioritized_relationships_pubmed(symptom_names, weightage=1, limit=40):\n",
    "    with driver.session() as session:\n",
    "        result = session.run(f\"\"\"\n",
    "            MATCH (s:Symptom)-[r:ASSOCIATED_WITH]->(d:Disease)\n",
    "            WHERE s.name IN $symptoms AND r.pos_weight >= $weightage\n",
    "            RETURN s.name AS symptom, d.disease_code AS disease_name, r.pos_weight AS weight, r.euclidean_distance AS distance\n",
    "            ORDER BY r.pos_weight DESC, r.euclidean_distance ASC\n",
    "            LIMIT $limit\n",
    "        \"\"\", symptoms=symptom_names, weightage=weightage, limit=limit)\n",
    "        \n",
    "        codes = []\n",
    "        all_info = {}\n",
    "\n",
    "        for record in result:\n",
    "            codes.append(record['disease_name'])\n",
    "            all_info[record['disease_name']] = [record['disease_name'], record['weight']]\n",
    "            \n",
    "        return codes, all_info\n"
   ]
  },
  {
   "cell_type": "code",
   "execution_count": 102,
   "metadata": {},
   "outputs": [
    {
     "name": "stderr",
     "output_type": "stream",
     "text": [
      "100it [00:04, 22.21it/s]"
     ]
    },
    {
     "name": "stdout",
     "output_type": "stream",
     "text": [
      "Number of rows : 100\n",
      "Macro Averaged AUROC Score: 0.5309862742113977\n",
      "Micro Averaged Precision: 0.4014285714285714\n",
      "Micro Averaged Recall: 0.6056034482758621\n",
      "Micro Averaged F1-Score: 0.48281786941580757\n",
      "Macro Averaged Precision: 0.1576460786870042\n",
      "Macro Averaged Recall: 0.21797058612236545\n",
      "Macro Averaged F1-Score: 0.15213267097413832\n"
     ]
    },
    {
     "name": "stderr",
     "output_type": "stream",
     "text": [
      "\n"
     ]
    }
   ],
   "source": [
    "from tqdm import tqdm\n",
    "\n",
    "\n",
    "def only_kg(df,weight = 1, limit_kg = 5, limit_pub = 7,expansion_limit = 14) : \n",
    "\n",
    "        classes = ['32-35','79','96-99','52-57','74-75','V20-V29','V60-V69','76-77','21-23','V50-V59','36-38','28','00-10','V01-V09','V40-V49','46-51','80-83','E00-E09','V30-V39','11-13','58-62','24-27','V85-V85','V87-V87','68-70','39-45','78','V83-V84','63-66','14-20','67','V88-V88','V10-V19','V70-V82','84-95','29-31','V90-V90','71-73']\n",
    "        true_labels = []\n",
    "        predicted_labels = []\n",
    "\n",
    "        for i,j in tqdm(df.iterrows()): \n",
    "                    true_label = j.Category.split(',')\n",
    "                    true_labels.append(list(set(true_label)))\n",
    "                    expanded_query =  search_symptoms(list(j.Symptoms), expansion_limit=expansion_limit)\n",
    "                    pred_labels_kg = get_prioritized_relationships(expanded_query,weightage=weight,limit= limit_kg )[0]\n",
    "                    pred_labels_pubmed = get_prioritized_relationships(expanded_query,weightage=weight,limit= limit_pub )[0]\n",
    "                    pred_labels = list(set(pred_labels_kg + pred_labels_pubmed))\n",
    "                    predicted_labels.append(pred_labels)\n",
    "\n",
    "        print(f\"Number of rows : {len(true_labels)}\")\n",
    "\n",
    "        true_binary_matrix = create_binary_matrix(true_labels, classes)\n",
    "        predicted_binary_matrix = create_binary_matrix(predicted_labels, classes)\n",
    "\n",
    "        auroc_score = roc_auc(predicted_binary_matrix, true_binary_matrix, multilabel=True)\n",
    "        print(f\"Macro Averaged AUROC Score: {auroc_score}\")\n",
    "\n",
    "\n",
    "        precision = precision_score(true_binary_matrix, predicted_binary_matrix, average='micro', zero_division=0)\n",
    "        recall = recall_score(true_binary_matrix, predicted_binary_matrix, average='micro', zero_division=0)\n",
    "        f1 = f1_score(true_binary_matrix, predicted_binary_matrix, average='micro', zero_division=0)\n",
    "\n",
    "        precision_m = precision_score(true_binary_matrix, predicted_binary_matrix, average='macro', zero_division=0)\n",
    "        recall_m = recall_score(true_binary_matrix, predicted_binary_matrix, average='macro', zero_division=0)\n",
    "        f1_m = f1_score(true_binary_matrix, predicted_binary_matrix, average='macro', zero_division=0)\n",
    "\n",
    "\n",
    "        print(f\"Micro Averaged Precision: {precision}\")\n",
    "        print(f\"Micro Averaged Recall: {recall}\")\n",
    "        print(f\"Micro Averaged F1-Score: {f1}\")\n",
    "\n",
    "        print(f\"Macro Averaged Precision: {precision_m}\")\n",
    "        print(f\"Macro Averaged Recall: {recall_m}\")\n",
    "        print(f\"Macro Averaged F1-Score: {f1_m}\")\n",
    "\n",
    "only_kg(one_sym)"
   ]
  },
  {
   "cell_type": "code",
   "execution_count": null,
   "metadata": {},
   "outputs": [],
   "source": []
  },
  {
   "cell_type": "code",
   "execution_count": 103,
   "metadata": {},
   "outputs": [],
   "source": [
    "import optuna\n",
    "from sklearn.metrics import f1_score, precision_score, recall_score, roc_auc_score\n",
    "from tqdm import tqdm\n",
    "\n",
    "# Define the objective function to optimize\n",
    "def objective(trial):\n",
    "    weight = trial.suggest_int('weight', 0.1, 10.0)\n",
    "    limit_kg = trial.suggest_int('limit_kg', 5, 20)\n",
    "    limit_pub = trial.suggest_int('limit_pub', 5, 20)\n",
    "    expansion_limit = trial.suggest_int('expansion_limit', 1, 15)\n",
    "\n",
    "    true_labels = []\n",
    "    predicted_labels = []\n",
    "\n",
    "    for i, j in tqdm(one_sym.iterrows()):\n",
    "        true_label = j.Category.split(',')\n",
    "        true_labels.append(list(set(true_label)))\n",
    "        expanded_query = search_symptoms(list(j.Symptoms), expansion_limit=expansion_limit)\n",
    "        pred_labels_kg = get_prioritized_relationships(expanded_query, weightage=weight, limit=limit_kg)[0]\n",
    "        pred_labels_pubmed = get_prioritized_relationships(expanded_query, weightage=weight, limit=limit_pub)[0]\n",
    "        pred_labels = list(set(pred_labels_kg + pred_labels_pubmed))\n",
    "        predicted_labels.append(pred_labels)\n",
    "\n",
    "    classes = ['32-35','79','96-99','52-57','74-75','V20-V29','V60-V69','76-77','21-23','V50-V59','36-38','28','00-10','V01-V09','V40-V49','46-51','80-83','E00-E09','V30-V39','11-13','58-62','24-27','V85-V85','V87-V87','68-70','39-45','78','V83-V84','63-66','14-20','67','V88-V88','V10-V19','V70-V82','84-95','29-31','V90-V90','71-73']\n",
    "\n",
    "    true_binary_matrix = create_binary_matrix(true_labels, classes)\n",
    "    predicted_binary_matrix = create_binary_matrix(predicted_labels, classes)\n",
    "\n",
    "    # Calculate the F1 score to optimize\n",
    "    f1 = f1_score(true_binary_matrix, predicted_binary_matrix, average='micro', zero_division=0)\n",
    "\n",
    "    return f1\n",
    "\n",
    "# Create an Optuna study to maximize F1 score\n",
    "study = optuna.create_study(direction='maximize')\n",
    "study.optimize(objective, n_trials=200)\n",
    "\n",
    "# Print the best parameters found\n",
    "print(\"Best Parameters:\", study.best_params)\n",
    "print(\"Best F1 Score:\", study.best_value)\n"
   ]
  },
  {
   "cell_type": "code",
   "execution_count": null,
   "metadata": {},
   "outputs": [],
   "source": [
    "weight_range = range(1,5)\n",
    "limit_kg = range(10,15)\n",
    "limit_pub = range(5,15)\n",
    "expansion_limit = range(5,20)"
   ]
  },
  {
   "cell_type": "code",
   "execution_count": 81,
   "metadata": {},
   "outputs": [
    {
     "name": "stderr",
     "output_type": "stream",
     "text": [
      "100it [00:08, 12.48it/s]"
     ]
    },
    {
     "name": "stdout",
     "output_type": "stream",
     "text": [
      "Number of rows : 100\n",
      "Macro Averaged AUROC Score: 0.5154808582464904\n",
      "Micro Averaged Precision: 0.2638100154878678\n",
      "Micro Averaged Recall: 0.9393382352941176\n",
      "Micro Averaged F1-Score: 0.41193067311567916\n",
      "Macro Averaged Precision: 0.14489542402621045\n",
      "Macro Averaged Recall: 0.5284636725130893\n",
      "Macro Averaged F1-Score: 0.2102061330839318\n"
     ]
    },
    {
     "name": "stderr",
     "output_type": "stream",
     "text": [
      "\n"
     ]
    }
   ],
   "source": [
    "only_kg(two_sym)"
   ]
  },
  {
   "cell_type": "code",
   "execution_count": 82,
   "metadata": {},
   "outputs": [
    {
     "name": "stderr",
     "output_type": "stream",
     "text": [
      "100it [00:09, 10.47it/s]"
     ]
    },
    {
     "name": "stdout",
     "output_type": "stream",
     "text": [
      "Number of rows : 100\n",
      "Macro Averaged AUROC Score: 0.5208514441264436\n",
      "Micro Averaged Precision: 0.2825413223140496\n",
      "Micro Averaged Recall: 0.9366438356164384\n",
      "Micro Averaged F1-Score: 0.43412698412698414\n",
      "Macro Averaged Precision: 0.17709513005222785\n",
      "Macro Averaged Recall: 0.5372208931419457\n",
      "Macro Averaged F1-Score: 0.24571572508421505\n"
     ]
    },
    {
     "name": "stderr",
     "output_type": "stream",
     "text": [
      "\n"
     ]
    }
   ],
   "source": [
    "only_kg(three_sym)"
   ]
  },
  {
   "cell_type": "code",
   "execution_count": 83,
   "metadata": {},
   "outputs": [
    {
     "name": "stderr",
     "output_type": "stream",
     "text": [
      "100it [00:12,  8.02it/s]"
     ]
    },
    {
     "name": "stdout",
     "output_type": "stream",
     "text": [
      "Number of rows : 100\n",
      "Macro Averaged AUROC Score: 0.5309378995502019\n",
      "Micro Averaged Precision: 0.32852729145211124\n",
      "Micro Averaged Recall: 0.9423929098966026\n",
      "Micro Averaged F1-Score: 0.48720885834287897\n",
      "Macro Averaged Precision: 0.2124467769880395\n",
      "Macro Averaged Recall: 0.5562769496980023\n",
      "Macro Averaged F1-Score: 0.28380086742830485\n"
     ]
    },
    {
     "name": "stderr",
     "output_type": "stream",
     "text": [
      "\n"
     ]
    }
   ],
   "source": [
    "only_kg(gt3_sym)"
   ]
  },
  {
   "cell_type": "markdown",
   "metadata": {},
   "source": [
    "### PubMED KG\n"
   ]
  },
  {
   "cell_type": "code",
   "execution_count": 69,
   "metadata": {},
   "outputs": [],
   "source": []
  },
  {
   "cell_type": "code",
   "execution_count": 70,
   "metadata": {},
   "outputs": [],
   "source": [
    "import os\n",
    "from py2neo import Graph\n",
    "from mistralai.client import MistralClient\n",
    "from mistralai.models.chat_completion import ChatMessage\n",
    "from neo4j import GraphDatabase\n",
    "from dotenv import load_dotenv\n",
    "import json\n",
    "\n",
    "\n",
    "driver = GraphDatabase.driver(uri, auth=auth) \n",
    "driver.verify_connectivity()\n",
    "\n",
    "with open('mapped_terms_icd9.json', 'r') as file:\n",
    "    data = file.read()  # Read the content of the file\n",
    "\n",
    "# Parse the JSON data\n",
    "parsed_data = json.loads(data)\n",
    "\n",
    "result = {}\n",
    "\n",
    "for key, values in parsed_data.items():\n",
    "    filtered_diseases = {}\n",
    "    for value in values:\n",
    "        disease_info = value['disease'].split(' - ')\n",
    "        disease_code = disease_info[0].strip()\n",
    "        disease_desc = disease_info[1].strip()\n",
    "        euclidean_distance = float(disease_info[2].strip())\n",
    "        \n",
    "        if disease_code not in filtered_diseases or filtered_diseases[disease_code]['euclidean_distance'] > euclidean_distance:\n",
    "            filtered_diseases[disease_code] = {\n",
    "                'disease_code': disease_code,\n",
    "                'disease_desc': disease_desc,\n",
    "                'euclidean_distance': euclidean_distance,\n",
    "                'pos_weight': value['pos_weight']\n",
    "            }\n",
    "    \n",
    "    result[key] = list(filtered_diseases.values())\n",
    "\n",
    "with open('output_pubmed.json', 'w') as f:\n",
    "    json.dump(result, f, indent=4)"
   ]
  },
  {
   "cell_type": "code",
   "execution_count": 71,
   "metadata": {},
   "outputs": [],
   "source": [
    "def delete_all_data():\n",
    "    with driver.session() as session:\n",
    "        session.run(\"MATCH (n) DETACH DELETE n\")\n",
    "        print(\"All data has been deleted.\")\n",
    "\n",
    "# delete_all_data()"
   ]
  },
  {
   "cell_type": "code",
   "execution_count": 72,
   "metadata": {},
   "outputs": [],
   "source": [
    "for i,j in result.items():\n",
    "    for k in j : \n",
    "        if  k['disease_code'].startswith(\"V\") : \n",
    "            k['disease_code'] = k['disease_code'][:3]\n",
    "        elif k['disease_code'].startswith(\"E\") : \n",
    "            k['disease_code'] = k['disease_code'][:3]\n",
    "        else :  k['disease_code'] =  k['disease_code'][:2]\n"
   ]
  },
  {
   "cell_type": "code",
   "execution_count": 73,
   "metadata": {},
   "outputs": [],
   "source": []
  },
  {
   "cell_type": "code",
   "execution_count": 78,
   "metadata": {},
   "outputs": [
    {
     "data": {
      "text/html": [
       "<div>\n",
       "<style scoped>\n",
       "    .dataframe tbody tr th:only-of-type {\n",
       "        vertical-align: middle;\n",
       "    }\n",
       "\n",
       "    .dataframe tbody tr th {\n",
       "        vertical-align: top;\n",
       "    }\n",
       "\n",
       "    .dataframe thead th {\n",
       "        text-align: right;\n",
       "    }\n",
       "</style>\n",
       "<table border=\"1\" class=\"dataframe\">\n",
       "  <thead>\n",
       "    <tr style=\"text-align: right;\">\n",
       "      <th></th>\n",
       "      <th>index</th>\n",
       "      <th>Category</th>\n",
       "      <th>Symptoms</th>\n",
       "    </tr>\n",
       "  </thead>\n",
       "  <tbody>\n",
       "    <tr>\n",
       "      <th>0</th>\n",
       "      <td>0</td>\n",
       "      <td>39-45,96-99,39-45,39-45,39-45,24-27</td>\n",
       "      <td>[exertional chest pain]</td>\n",
       "    </tr>\n",
       "    <tr>\n",
       "      <th>1</th>\n",
       "      <td>1</td>\n",
       "      <td>80-83,46-51,96-99,46-51,29-31,24-27,nan,84-95,...</td>\n",
       "      <td>[neck pain]</td>\n",
       "    </tr>\n",
       "    <tr>\n",
       "      <th>2</th>\n",
       "      <td>2</td>\n",
       "      <td>14-20,96-99,V60-V69,39-45,24-27,24-27,39-45,39...</td>\n",
       "      <td>[rectal cancer]</td>\n",
       "    </tr>\n",
       "    <tr>\n",
       "      <th>3</th>\n",
       "      <td>3</td>\n",
       "      <td>39-45,39-45,39-45,52-57,58-62,39-45,78,28,32-3...</td>\n",
       "      <td>[chest pain radiating to back]</td>\n",
       "    </tr>\n",
       "    <tr>\n",
       "      <th>4</th>\n",
       "      <td>4</td>\n",
       "      <td>39-45,39-45,39-45,24-27,39-45,V40-V49,V10-V19</td>\n",
       "      <td>[chest pain]</td>\n",
       "    </tr>\n",
       "  </tbody>\n",
       "</table>\n",
       "</div>"
      ],
      "text/plain": [
       "   index                                           Category  \\\n",
       "0      0                39-45,96-99,39-45,39-45,39-45,24-27   \n",
       "1      1  80-83,46-51,96-99,46-51,29-31,24-27,nan,84-95,...   \n",
       "2      2  14-20,96-99,V60-V69,39-45,24-27,24-27,39-45,39...   \n",
       "3      3  39-45,39-45,39-45,52-57,58-62,39-45,78,28,32-3...   \n",
       "4      4      39-45,39-45,39-45,24-27,39-45,V40-V49,V10-V19   \n",
       "\n",
       "                         Symptoms  \n",
       "0         [exertional chest pain]  \n",
       "1                     [neck pain]  \n",
       "2                 [rectal cancer]  \n",
       "3  [chest pain radiating to back]  \n",
       "4                    [chest pain]  "
      ]
     },
     "execution_count": 78,
     "metadata": {},
     "output_type": "execute_result"
    }
   ],
   "source": [
    "one_sym.head()"
   ]
  },
  {
   "cell_type": "markdown",
   "metadata": {},
   "source": [
    "### Single Symptom"
   ]
  },
  {
   "cell_type": "code",
   "execution_count": 79,
   "metadata": {},
   "outputs": [
    {
     "name": "stderr",
     "output_type": "stream",
     "text": [
      "100it [00:00, 136.46it/s]"
     ]
    },
    {
     "name": "stdout",
     "output_type": "stream",
     "text": [
      "Number of rows : 100\n",
      "Macro Averaged AUROC Score: 0.5018102785646645\n",
      "Micro Averaged Precision: 0.5\n",
      "Micro Averaged Recall: 0.004310344827586207\n",
      "Micro Averaged F1-Score: 0.008547008547008548\n",
      "Macro Averaged Precision: 0.039473684210526314\n",
      "Macro Averaged Recall: 0.003205128205128205\n",
      "Macro Averaged F1-Score: 0.005928282244071718\n"
     ]
    },
    {
     "name": "stderr",
     "output_type": "stream",
     "text": [
      "\n"
     ]
    }
   ],
   "source": [
    "from tqdm import tqdm\n",
    "\n",
    "\n",
    "def only_kg_pubmed(df) : \n",
    "\n",
    "        classes = ['32-35','79','96-99','52-57','74-75','V20-V29','V60-V69','76-77','21-23','V50-V59','36-38','28','00-10','V01-V09','V40-V49','46-51','80-83','E00-E09','V30-V39','11-13','58-62','24-27','V85-V85','V87-V87','68-70','39-45','78','V83-V84','63-66','14-20','67','V88-V88','V10-V19','V70-V82','84-95','29-31','V90-V90','71-73']\n",
    "        true_labels = []\n",
    "        predicted_labels = []\n",
    "\n",
    "        for i,j in tqdm(df.iterrows()): \n",
    "                    true_label = j.Category.split(',')\n",
    "                    true_labels.append(list(set(true_label)))\n",
    "                    expanded_query =  search_symptoms(list(j.Symptoms))\n",
    "                    pred_labels = get_prioritized_relationships_pubmed(expanded_query,weightage=1,limit= 20 )[0]\n",
    "                    predicted_labels.append(pred_labels)\n",
    "\n",
    "        print(f\"Number of rows : {len(true_labels)}\")\n",
    "\n",
    "        true_binary_matrix = create_binary_matrix(true_labels, classes)\n",
    "        predicted_binary_matrix = create_binary_matrix(predicted_labels, classes)\n",
    "\n",
    "        auroc_score = roc_auc(predicted_binary_matrix, true_binary_matrix, multilabel=True)\n",
    "        print(f\"Macro Averaged AUROC Score: {auroc_score}\")\n",
    "\n",
    "        precision = precision_score(true_binary_matrix, predicted_binary_matrix, average='micro', zero_division=0)\n",
    "        recall = recall_score(true_binary_matrix, predicted_binary_matrix, average='micro', zero_division=0)\n",
    "        f1 = f1_score(true_binary_matrix, predicted_binary_matrix, average='micro', zero_division=0)\n",
    "\n",
    "        precision_m = precision_score(true_binary_matrix, predicted_binary_matrix, average='macro', zero_division=0)\n",
    "        recall_m = recall_score(true_binary_matrix, predicted_binary_matrix, average='macro', zero_division=0)\n",
    "        f1_m = f1_score(true_binary_matrix, predicted_binary_matrix, average='macro', zero_division=0)\n",
    "\n",
    "\n",
    "        print(f\"Micro Averaged Precision: {precision}\")\n",
    "        print(f\"Micro Averaged Recall: {recall}\")\n",
    "        print(f\"Micro Averaged F1-Score: {f1}\")\n",
    "\n",
    "        print(f\"Macro Averaged Precision: {precision_m}\")\n",
    "        print(f\"Macro Averaged Recall: {recall_m}\")\n",
    "        print(f\"Macro Averaged F1-Score: {f1_m}\")\n",
    "\n",
    "only_kg_pubmed(one_sym)"
   ]
  },
  {
   "cell_type": "code",
   "execution_count": 75,
   "metadata": {},
   "outputs": [
    {
     "name": "stderr",
     "output_type": "stream",
     "text": [
      "100it [00:03, 27.44it/s]"
     ]
    },
    {
     "name": "stdout",
     "output_type": "stream",
     "text": [
      "Number of rows : 100\n",
      "Macro Averaged AUROC Score: 0.5001813436791932\n",
      "Micro Averaged Precision: 0.2\n",
      "Micro Averaged Recall: 0.001838235294117647\n",
      "Micro Averaged F1-Score: 0.0036429872495446266\n",
      "Macro Averaged Precision: 0.008771929824561403\n",
      "Macro Averaged Recall: 0.001547987616099071\n",
      "Macro Averaged F1-Score: 0.002631578947368421\n"
     ]
    },
    {
     "name": "stderr",
     "output_type": "stream",
     "text": [
      "\n"
     ]
    }
   ],
   "source": [
    "only_kg_pubmed(two_sym)"
   ]
  },
  {
   "cell_type": "code",
   "execution_count": 76,
   "metadata": {},
   "outputs": [
    {
     "name": "stderr",
     "output_type": "stream",
     "text": [
      "100it [00:03, 26.55it/s]"
     ]
    },
    {
     "name": "stdout",
     "output_type": "stream",
     "text": [
      "Number of rows : 100\n",
      "Macro Averaged AUROC Score: 0.5000369713102633\n",
      "Micro Averaged Precision: 0.2857142857142857\n",
      "Micro Averaged Recall: 0.003424657534246575\n",
      "Micro Averaged F1-Score: 0.00676818950930626\n",
      "Macro Averaged Precision: 0.010526315789473684\n",
      "Macro Averaged Recall: 0.0017543859649122807\n",
      "Macro Averaged F1-Score: 0.003007518796992481\n"
     ]
    },
    {
     "name": "stderr",
     "output_type": "stream",
     "text": [
      "\n"
     ]
    }
   ],
   "source": [
    "only_kg_pubmed(three_sym)"
   ]
  },
  {
   "cell_type": "code",
   "execution_count": 77,
   "metadata": {},
   "outputs": [
    {
     "name": "stderr",
     "output_type": "stream",
     "text": [
      "100it [00:09, 10.17it/s]"
     ]
    },
    {
     "name": "stdout",
     "output_type": "stream",
     "text": [
      "Number of rows : 100\n",
      "Macro Averaged AUROC Score: 0.49922711058263974\n",
      "Micro Averaged Precision: 0.2\n",
      "Micro Averaged Recall: 0.0029542097488921715\n",
      "Micro Averaged F1-Score: 0.005822416302765648\n",
      "Macro Averaged Precision: 0.005847953216374269\n",
      "Macro Averaged Recall: 0.0017543859649122807\n",
      "Macro Averaged F1-Score: 0.002699055330634278\n"
     ]
    },
    {
     "name": "stderr",
     "output_type": "stream",
     "text": [
      "\n"
     ]
    }
   ],
   "source": [
    "only_kg_pubmed(gt3_sym)"
   ]
  },
  {
   "cell_type": "code",
   "execution_count": null,
   "metadata": {},
   "outputs": [],
   "source": []
  },
  {
   "cell_type": "markdown",
   "metadata": {},
   "source": [
    "### MIMIC KG (RAG)"
   ]
  },
  {
   "cell_type": "code",
   "execution_count": 115,
   "metadata": {},
   "outputs": [],
   "source": [
    "from groq import Groq"
   ]
  },
  {
   "cell_type": "code",
   "execution_count": 116,
   "metadata": {},
   "outputs": [
    {
     "data": {
      "text/html": [
       "<div>\n",
       "<style scoped>\n",
       "    .dataframe tbody tr th:only-of-type {\n",
       "        vertical-align: middle;\n",
       "    }\n",
       "\n",
       "    .dataframe tbody tr th {\n",
       "        vertical-align: top;\n",
       "    }\n",
       "\n",
       "    .dataframe thead th {\n",
       "        text-align: right;\n",
       "    }\n",
       "</style>\n",
       "<table border=\"1\" class=\"dataframe\">\n",
       "  <thead>\n",
       "    <tr style=\"text-align: right;\">\n",
       "      <th></th>\n",
       "      <th>Code</th>\n",
       "      <th>Description</th>\n",
       "    </tr>\n",
       "  </thead>\n",
       "  <tbody>\n",
       "    <tr>\n",
       "      <th>0</th>\n",
       "      <td>00</td>\n",
       "      <td>Infectious disease</td>\n",
       "    </tr>\n",
       "    <tr>\n",
       "      <th>1</th>\n",
       "      <td>01</td>\n",
       "      <td>Infectious disease</td>\n",
       "    </tr>\n",
       "    <tr>\n",
       "      <th>2</th>\n",
       "      <td>02</td>\n",
       "      <td>Infectious disease</td>\n",
       "    </tr>\n",
       "    <tr>\n",
       "      <th>3</th>\n",
       "      <td>03</td>\n",
       "      <td>Infectious disease</td>\n",
       "    </tr>\n",
       "    <tr>\n",
       "      <th>4</th>\n",
       "      <td>04</td>\n",
       "      <td>Infectious disease</td>\n",
       "    </tr>\n",
       "  </tbody>\n",
       "</table>\n",
       "</div>"
      ],
      "text/plain": [
       "  Code         Description\n",
       "0   00  Infectious disease\n",
       "1   01  Infectious disease\n",
       "2   02  Infectious disease\n",
       "3   03  Infectious disease\n",
       "4   04  Infectious disease"
      ]
     },
     "execution_count": 116,
     "metadata": {},
     "output_type": "execute_result"
    }
   ],
   "source": [
    "disease_df = pd.read_csv('disease_classes.csv')\n",
    "disease_df.head()\n",
    "\n",
    "expanded_rows = []\n",
    "\n",
    "for index, row in disease_df.iterrows():\n",
    "    code_range = row['Code Range']\n",
    "    description = row['Description']\n",
    "    \n",
    "\n",
    "    codes = categories.get(code_range, [])\n",
    "    \n",
    " \n",
    "    for code in codes:\n",
    "        expanded_rows.append({\"Code\": code, \"Description\": description})\n",
    "\n",
    "expanded_df = pd.DataFrame(expanded_rows)\n",
    "\n",
    "expanded_df.head()"
   ]
  },
  {
   "cell_type": "code",
   "execution_count": 117,
   "metadata": {},
   "outputs": [
    {
     "data": {
      "text/html": [
       "<div>\n",
       "<style scoped>\n",
       "    .dataframe tbody tr th:only-of-type {\n",
       "        vertical-align: middle;\n",
       "    }\n",
       "\n",
       "    .dataframe tbody tr th {\n",
       "        vertical-align: top;\n",
       "    }\n",
       "\n",
       "    .dataframe thead th {\n",
       "        text-align: right;\n",
       "    }\n",
       "</style>\n",
       "<table border=\"1\" class=\"dataframe\">\n",
       "  <thead>\n",
       "    <tr style=\"text-align: right;\">\n",
       "      <th></th>\n",
       "      <th>Code</th>\n",
       "      <th>Description</th>\n",
       "      <th>Code Range</th>\n",
       "    </tr>\n",
       "  </thead>\n",
       "  <tbody>\n",
       "    <tr>\n",
       "      <th>0</th>\n",
       "      <td>00</td>\n",
       "      <td>Infectious disease</td>\n",
       "      <td>00-10</td>\n",
       "    </tr>\n",
       "    <tr>\n",
       "      <th>1</th>\n",
       "      <td>01</td>\n",
       "      <td>Infectious disease</td>\n",
       "      <td>00-10</td>\n",
       "    </tr>\n",
       "    <tr>\n",
       "      <th>2</th>\n",
       "      <td>02</td>\n",
       "      <td>Infectious disease</td>\n",
       "      <td>00-10</td>\n",
       "    </tr>\n",
       "    <tr>\n",
       "      <th>3</th>\n",
       "      <td>03</td>\n",
       "      <td>Infectious disease</td>\n",
       "      <td>00-10</td>\n",
       "    </tr>\n",
       "    <tr>\n",
       "      <th>4</th>\n",
       "      <td>04</td>\n",
       "      <td>Infectious disease</td>\n",
       "      <td>00-10</td>\n",
       "    </tr>\n",
       "  </tbody>\n",
       "</table>\n",
       "</div>"
      ],
      "text/plain": [
       "  Code         Description Code Range\n",
       "0   00  Infectious disease      00-10\n",
       "1   01  Infectious disease      00-10\n",
       "2   02  Infectious disease      00-10\n",
       "3   03  Infectious disease      00-10\n",
       "4   04  Infectious disease      00-10"
      ]
     },
     "execution_count": 117,
     "metadata": {},
     "output_type": "execute_result"
    }
   ],
   "source": [
    "total_disease_df = pd.merge(expanded_df, disease_df, how = 'inner', on = 'Description')\n",
    "total_disease_df.head()"
   ]
  },
  {
   "cell_type": "code",
   "execution_count": 118,
   "metadata": {},
   "outputs": [],
   "source": [
    "disease_df.columns = ['Code', 'Description']"
   ]
  },
  {
   "cell_type": "code",
   "execution_count": 119,
   "metadata": {},
   "outputs": [],
   "source": [
    "filtered_df = disease_df[disease_df.Code.isin(['39-45', '24-27', '96-99', '28', '52-57', '78', 'V50-V59', '58-62', '79', 'V10-V19', '74-75', '32-35', 'V40-V49', '68-70', 'V60-V69', '71-73', '00-10', '46-51', 'V01-V09', 'V70-V82'])][['Code', 'Description']].reset_index(drop = True)\n",
    "code_desc_tuples = list(set(filtered_df.itertuples(index=False, name=None)))\n"
   ]
  },
  {
   "cell_type": "code",
   "execution_count": null,
   "metadata": {},
   "outputs": [],
   "source": []
  },
  {
   "cell_type": "code",
   "execution_count": 120,
   "metadata": {},
   "outputs": [],
   "source": [
    "\n",
    "def aug_and_gen(codes, symptom, model ='mistral', method = 'rag') : \n",
    "\n",
    "    prompt_start = f\"\"\"You are an AI medical assistant tasked with identifying the top most relevant ICD-9 code categories (e.g.'11-13','14-20','21-23','24-27',etc) for a given symptom, based on a provided list of code categories and category name\n",
    "Symptoms: {symptom}\"\"\"\n",
    "    kg_prompt = \"\"\"\n",
    "Task:\n",
    "Output only a Python list of relevant ICD-9 code categories.\n",
    "\n",
    "Format:\n",
    "['XX-XX', 'XX-XX', 'XX-XX', 'XX-XX', 'XX-XX', 'XX-XX', 'XX-XX', 'XX-XX']\n",
    "\n",
    "Important:\n",
    "Don't consider the code to be included in JSON if it doesn't relate to the symptoms provided.\n",
    "\n",
    "Rules:\n",
    "1. Use only code categories in the format 'XX-XX' or 'XX' (e.g., '39-45', '78').\n",
    "2. Include only most relevant categories from the provided outputs for the symptoms.\n",
    "3. Output only the list, nothing else.\n",
    "4. Do not include any explanations, comments, or additional text before or after the list.\n",
    "5. Use single quotes for each category.\n",
    "6. Separate categories with commas and spaces.\n",
    "7. The entire list must be on a single line.\n",
    "8. Do not mention the symptom in your output.\n",
    "9. Do not describe or explain the categories.\n",
    "10. Do not mention the number of categories or rows.\n",
    "11. Make sure the chosen categories are one of them : ['28', '71-73', 'V88-V88', '68-70', 'V20-V29', '39-45', 'V90-V90', '21-23', 'V60-V69', 'V10-V19', '24-27', '80-83', '78', '52-57', '36-38', '58-62', '74-75', '67', '76-77', '63-66', '11-13', 'V87-V87', '46-51', '79', 'V70-V82', '32-35', 'E00-E09', 'V40-V49', 'V85-V85', '14-20', '29-31', '00-10', 'V01-V09', 'V50-V59', 'V83-V84', '84-95', '96-99', 'V30-V39']\n",
    "\n",
    "Relevant Outputs (list only):\"\"\"\n",
    "    \n",
    "    only_llm_prompt_start = f\"\"\"You are an AI medical assistant tasked with identifying the top most relevant ICD-9 code categories (e.g.'11-13','14-20','21-23','24-27',etc) for a given symptom, based on a provided list of code categories and category name\n",
    "Symptoms: {symptom}\"\"\"\n",
    "    only_llm_prompt = \"\"\"\n",
    "Given these code categories and their meanings below in a list of tuples, in which of these categories do you think the above symptoms of a patient lie in: \n",
    ">>> (Categories, Meanings) : [('14-20', 'Malignant neoplasms'), ('V30-V39', 'Liveborn Infants According To Type Of Birth'), ('V88-V88', 'Acquired Absence Of Other Organs And Tissue'), ('V40-V49', 'Persons With A Condition Influencing Their Health Status'), ('29-31', 'Mental disorders'), ('78', 'Symptoms'), ('67', 'Complications Of puerperium'), ('46-51', 'Diseases Of The Respiratory System'), ('96-99', 'Poisoning'), ('71-73', 'Diseases Of The Musculoskeletal System And Connective Tissue'), ('V85-V85', 'Body Mass Index'), ('21-23', 'Benign neoplasms'), ('58-62', 'Diseases Of The Genitourinary System'), ('76-77', 'Certain Conditions Originating In The Perinatal Period'), ('32-35', 'Disorders of central nervous system'), ('63-66', 'Complications Of Pregnancy and Childbirth'), ('V50-V59', 'Persons Encountering Health Services For Specific Procedures And Aftercare'), ('68-70', 'Diseases Of The Skin And Subcutaneous Tissue'), ('39-45', 'Diseases Of The Circulatory System'), ('80-83', 'Fracture'), ('V10-V19', 'Persons With Potential Health Hazards Related To Personal And Family History'), ('V60-V69', 'Persons Encountering Health Services In Other Circumstances'), ('V91-V91', 'Multiple Gestation Placenta Status'), ('74-75', 'Congenital anomalies'), ('52-57', 'Diseases Of The Digestive System'), ('V90-V90', 'Retained Foreign Body'), ('36-38', 'Organ diseases'), ('28', 'Diseases of blood'), ('V89-V89', 'Other Suspected Conditions Not Found'), ('11-13', 'Parasitic diseases'), ('79', 'Findings and conditions'), ('24-27', 'Endocrine nutritional and metabolic diseases and immunity disorders'), ('V20-V29', 'Persons Encountering Health Services In Circumstances Related To Reproduction And Development'), ('V86-V86', 'Estrogen Receptor Status'), ('E00-E09', 'Supplementary Classification Of External Causes Of Injury And Poisoning'), ('00-10', 'Infectious disease'), ('V70-V82', 'Persons Without Reported Diagnosis Encountered During Examination And Investigation Of Individuals And Populations'), ('V87-V87', 'Other Specified Personal Exposures And History Presenting Hazards To Health'), ('V83-V84', 'Genetics'), ('84-95', 'Injury'), ('V01-V09', 'Persons With Potential Health Hazards Related To Communicable Diseases')]\n",
    "\n",
    "Task:\n",
    "Output only a Python list of relevant ICD-9 code categories.\n",
    "\n",
    "Format:\n",
    "['XX-XX', 'XX-XX', 'XX-XX', 'XX-XX', 'XX-XX', 'XX-XX', 'XX-XX', 'XX-XX']\n",
    "\n",
    "Important:\n",
    "Don't consider the code to be included in JSON if it doesn't relate to the symptoms provided.\n",
    "\n",
    "Rules:\n",
    "1. Use only code categories in the format 'XX-XX' or 'XX' (e.g., '39-45', '78').\n",
    "2. Include only most relevant categories .\n",
    "3. Output only the list, nothing else.\n",
    "4. Do not include any explanations, comments, or additional text before or after the list.\n",
    "5. Use single quotes for each category.\n",
    "6. Separate categories with commas and spaces.\n",
    "7. The entire list must be on a single line.\n",
    "8. Do not mention the symptom in your output.\n",
    "9. Do not describe or explain the categories.\n",
    "10. Do not mention the number of categories or rows.\n",
    "11. Make sure the chosen categories are one of them : ['28', '71-73', 'V88-V88', '68-70', 'V20-V29', '39-45', 'V90-V90', '21-23', 'V60-V69', 'V10-V19', '24-27', '80-83', '78', '52-57', '36-38', '58-62', '74-75', '67', '76-77', '63-66', '11-13', 'V87-V87', '46-51', '79', 'V70-V82', '32-35', 'E00-E09', 'V40-V49', 'V85-V85', '14-20', '29-31', '00-10', 'V01-V09', 'V50-V59', 'V83-V84', '84-95', '96-99', 'V30-V39']\n",
    "\n",
    "Relevant Outputs (list only):\n",
    "\"\"\"\n",
    "\n",
    "    if model == 'mistral' : \n",
    "        model= \"open-mistral-nemo-2407\" \n",
    "        MISTRAL_API_KEY =  \"WRhxY4qx7jsun5iYThrdS3Dk4dubsjnV\"\n",
    "        client = MistralClient(api_key=MISTRAL_API_KEY)\n",
    "\n",
    "        if method == 'rag' : \n",
    "\n",
    "            prompt_template = prompt_start + kg_prompt + str(codes)\n",
    "\n",
    "            chat_response = client.chat(\n",
    "                model=model,\n",
    "                max_tokens=200,\n",
    "                temperature = 0.1,\n",
    "                messages=[ChatMessage(role=\"user\", content=prompt_template)])\n",
    "            \n",
    "            response = chat_response.choices[0].message.content\n",
    "\n",
    "        if method == 'llm' : \n",
    "\n",
    "            prompt_template = only_llm_prompt_start + only_llm_prompt\n",
    "\n",
    "            chat_response = client.chat(\n",
    "                model=model,\n",
    "                max_tokens=200,\n",
    "                temperature = 0.1,\n",
    "                messages=[ChatMessage(role=\"user\", content=prompt_template)])\n",
    "            \n",
    "            response = chat_response.choices[0].message.content\n",
    "        \n",
    "    elif model == 'groq' : \n",
    "        #\"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\"\n",
    "        # backup=\n",
    "        client = Groq(\n",
    "        api_key=\"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\",\n",
    "    )\n",
    "        if method == 'rag' : \n",
    "            prompt_template = prompt_start + kg_prompt + str(codes)\n",
    "            chat_completion = client.chat.completions.create(\n",
    "            messages=[\n",
    "                {\n",
    "                    \"role\": \"user\",\n",
    "                    \"content\": f\"{prompt_template}\",\n",
    "                }\n",
    "            ],\n",
    "            model=\"llama-3.1-70b-versatile\",\n",
    "        )\n",
    "\n",
    "            response = chat_completion.choices[0].message.content\n",
    "\n",
    "        if method == 'llm' : \n",
    "            prompt_template = only_llm_prompt_start + only_llm_prompt\n",
    "            chat_completion = client.chat.completions.create(\n",
    "            messages=[\n",
    "                {\n",
    "                    \"role\": \"user\",\n",
    "                    \"content\": f\"{prompt_template}\",\n",
    "                }\n",
    "            ],\n",
    "            model=\"llama-3.1-70b-versatile\",\n",
    "        )\n",
    "\n",
    "            response = chat_completion.choices[0].message.content\n",
    "\n",
    "\n",
    "\n",
    "    return response\n",
    "\n",
    "def codes_n_desc(list_codes, results) : \n",
    "    \n",
    "    try : \n",
    "        five_codes = list_codes[2:-2].split(\"', '\")\n",
    "    except KeyError as s: \n",
    "        five_codes = list_codes[2:-2].split(\", \")\n",
    "    except : \n",
    "        \n",
    "        five_codes = list_codes[2:-2].split('\", \"')\n",
    "    \n",
    "    return [(i,results.get(i)) for i in five_codes]"
   ]
  },
  {
   "cell_type": "code",
   "execution_count": 126,
   "metadata": {},
   "outputs": [],
   "source": [
    "def metrics_calc( raw_test_df = one_sym, method = 'llm', model_name = 'groq'):\n",
    "\n",
    "    true_labels = []\n",
    "    predicted_labels = []\n",
    "\n",
    "    for i,j in tqdm(raw_test_df.iterrows()): \n",
    "\n",
    "                    true_label = j.Category.split(',')\n",
    "                    true_labels.append(list(set(true_label)))\n",
    "                    expanded_query =  search_symptoms(list(j.Symptoms), expansion_limit=15)\n",
    "                    pred_labels_kg = get_prioritized_relationships(expanded_query,weightage=6,limit= 16)[0]\n",
    "                    pred_labels_pubmed = get_prioritized_relationships(expanded_query,weightage=1,limit= 16 )[0]\n",
    "                    pred_labels = list(set(pred_labels_kg + pred_labels_pubmed))\n",
    "                    code_desc_tuples = list(set(disease_df[disease_df.Code.isin(pred_labels)][['Code', 'Description']].reset_index(drop = True).itertuples(index=False, name=None)))\n",
    "                    refined_pred_labels = aug_and_gen(code_desc_tuples,j.Symptoms, model=model_name, method = method)\n",
    "                    refined_pred_labels = refined_pred_labels[2:-2].split(\"', '\")    \n",
    "                    predicted_labels.append(list(set(refined_pred_labels)))\n",
    "\n",
    "    print(f\"Number of rows : {len(true_labels)}\")\n",
    "    print(true_labels)\n",
    "    print(predicted_labels)\n",
    "\n",
    "    true_binary_matrix = create_binary_matrix(true_labels, classes)\n",
    "    predicted_binary_matrix = create_binary_matrix(predicted_labels, classes)\n",
    "    \n",
    "\n",
    "    auroc_score = roc_auc(predicted_binary_matrix, true_binary_matrix, multilabel=True)\n",
    "    print(f\"Macro Averaged AUROC Score: {auroc_score}\")\n",
    "\n",
    "\n",
    "    precision = precision_score(true_binary_matrix, predicted_binary_matrix, average='micro', zero_division=0)\n",
    "    recall = recall_score(true_binary_matrix, predicted_binary_matrix, average='micro', zero_division=0)\n",
    "    f1 = f1_score(true_binary_matrix, predicted_binary_matrix, average='micro', zero_division=0)\n",
    "\n",
    "    precision_m = precision_score(true_binary_matrix, predicted_binary_matrix, average='macro', zero_division=0)\n",
    "    recall_m = recall_score(true_binary_matrix, predicted_binary_matrix, average='macro', zero_division=0)\n",
    "    f1_m = f1_score(true_binary_matrix, predicted_binary_matrix, average='macro', zero_division=0)\n",
    "\n",
    "\n",
    "    print(f\"Micro Averaged Precision: {precision}\")\n",
    "    print(f\"Micro Averaged Recall: {recall}\")\n",
    "    print(f\"Micro Averaged F1-Score: {f1}\")\n",
    "\n",
    "    print(f\"Macro Averaged Precision: {precision_m}\")\n",
    "    print(f\"Macro Averaged Recall: {recall_m}\")\n",
    "    print(f\"Macro Averaged F1-Score: {f1_m}\")\n",
    "\n",
    "\n",
    "metrics_calc(raw_test_df=one_sym,method='llm', model_name= 'groq')"
   ]
  },
  {
   "cell_type": "code",
   "execution_count": 124,
   "metadata": {},
   "outputs": [
    {
     "name": "stderr",
     "output_type": "stream",
     "text": [
      "100it [01:36,  1.03it/s]"
     ]
    },
    {
     "name": "stdout",
     "output_type": "stream",
     "text": [
      "Number of rows : 100\n",
      "[['96-99', '39-45', '24-27'], ['71-73', '39-45', '29-31', '96-99', '46-51', '84-95', 'nan', '80-83', '24-27'], ['V60-V69', '39-45', '96-99', '14-20', 'V40-V49', '24-27'], ['32-35', '39-45', '52-57', '78', '28', '58-62', '24-27'], ['V10-V19', '39-45', 'V40-V49', '24-27'], ['74-75', '71-73', '32-35', '39-45', '52-57', '96-99', 'V10-V19', '46-51', 'nan', '24-27'], ['71-73', '39-45', '29-31', '52-57', 'V10-V19', '78', '46-51', '58-62'], ['32-35', '71-73', '39-45', 'V10-V19', '78', '21-23'], ['71-73', '39-45', '96-99', 'nan', '24-27'], ['39-45', 'V50-V59', '46-51', 'V70-V82', 'V40-V49', '24-27'], ['39-45', 'V50-V59', '00-10', '58-62', 'V40-V49', '24-27'], ['28', '39-45', 'V40-V49'], ['39-45', 'V50-V59', '78', '96-99', 'V10-V19', 'V70-V82', '79', 'nan', 'V40-V49', '24-27'], ['39-45', '46-51', 'nan', 'V40-V49', '24-27'], ['32-35', '39-45', '96-99', '46-51', '24-27'], ['32-35', '71-73', '39-45', '24-27'], ['32-35', '39-45', '52-57', '58-62', 'nan', '24-27'], ['96-99', '39-45', '24-27', 'nan'], ['39-45', '28', 'V10-V19', '46-51', '58-62', '24-27'], ['71-73', '39-45', '96-99', '58-62', 'nan', '36-38'], ['74-75', '71-73', '39-45', '52-57', 'V10-V19', 'V40-V49', '24-27'], ['96-99', '39-45', '52-57'], ['32-35', '39-45', '68-70', '28', '96-99', '46-51', '24-27'], ['39-45', '28', '14-20', 'V40-V49', '24-27'], ['32-35', '71-73', '39-45', '52-57', '96-99', '28', '78', '58-62', 'nan', 'V40-V49', '24-27'], ['39-45', '21-23', '29-31'], ['V10-V19', '39-45', 'V40-V49'], ['39-45', '24-27'], ['58-62', '39-45', '24-27'], ['39-45', '52-57', '68-70', 'V10-V19', '28', '46-51', 'V40-V49', '24-27'], ['39-45', 'V50-V59', '52-57', 'nan'], ['39-45', '28', '96-99', '84-95', '58-62'], ['39-45', '52-57', '78', 'V10-V19', '46-51', '24-27'], ['28', '39-45', '46-51'], ['39-45'], ['32-35', '39-45', '24-27'], ['39-45'], ['74-75', '71-73', '39-45', '52-57', 'V10-V19'], ['39-45', 'V50-V59', '96-99', '84-95', '58-62', 'nan', 'V40-V49', '24-27'], ['39-45', '29-31', '96-99', '28', '46-51', 'nan', '24-27'], ['32-35', '46-51'], ['V10-V19', '39-45', '24-27'], ['39-45', '29-31', '96-99', 'V10-V19', '46-51', '24-27'], ['39-45', '28', '46-51', '58-62', '24-27'], ['39-45', '96-99', '28', '79', 'V40-V49', '24-27'], ['V10-V19', '39-45', '29-31'], ['32-35', '39-45', '46-51'], ['39-45', '24-27'], ['96-99', '39-45', '24-27'], ['39-45', '29-31', '28', '46-51', '21-23'], ['39-45'], ['39-45', 'V10-V19', '46-51', '58-62', '24-27'], ['78', '39-45', 'V50-V59', '24-27'], ['80-83', '46-51', 'nan'], ['71-73', '39-45', '52-57', '96-99', '24-27'], ['39-45', '24-27'], ['74-75', '78', '39-45', '36-38'], ['39-45'], ['32-35', '71-73', '39-45', '29-31', '96-99', '28', 'V10-V19', '36-38', 'nan', '24-27'], ['39-45', 'V50-V59', 'V10-V19', 'V40-V49', '24-27'], ['52-57', '28', '14-20', '21-23'], ['74-75', '39-45', 'V40-V49'], ['V10-V19', '39-45', 'V50-V59', '24-27'], ['96-99', '39-45', '36-38', 'nan'], ['71-73', '39-45', '96-99', 'V10-V19', '00-10', '58-62', '24-27'], ['39-45', '68-70', '28', '79', '36-38', 'nan', '24-27'], ['32-35', '71-73', '39-45', 'V50-V59', '52-57', '36-38', 'V40-V49', '24-27'], ['32-35'], ['39-45', '96-99', '28', '21-23', '58-62', 'nan', '24-27'], ['V10-V19', '14-20'], ['39-45', '52-57', '96-99', '78', 'nan', '14-20', '24-27'], ['39-45', 'V50-V59', '29-31', 'V10-V19', '58-62', '24-27'], ['71-73', '39-45', '52-57', '29-31', '28', '78', '46-51', '00-10', '58-62', 'nan', '24-27'], ['39-45'], ['39-45'], ['32-35', '39-45', 'V10-V19', 'V85-V85', 'V40-V49', '24-27'], ['28', '39-45', '52-57', '24-27'], ['39-45', '29-31', '96-99', '46-51', 'nan', '24-27'], ['71-73', '39-45', '52-57', '24-27'], ['32-35', '71-73', '39-45', '52-57', 'V40-V49', '24-27'], ['32-35', '52-57', '29-31', '78', '46-51', '00-10', '58-62', 'V40-V49', '24-27'], ['V10-V19', '39-45', '24-27', '58-62'], ['V10-V19', '39-45', '46-51'], ['39-45', 'V10-V19', '28', '46-51', '24-27'], ['32-35', '71-73', '39-45', '96-99', '28', '46-51', '79', '58-62', 'nan', '24-27'], ['96-99', '39-45', '24-27', '28'], ['28', '39-45', '46-51', '24-27'], ['39-45', '52-57', '96-99', 'nan', 'V40-V49', '24-27'], ['71-73', '39-45', '52-57', '28', '24-27'], ['74-75', '39-45'], ['71-73', '78', '39-45'], ['39-45'], ['39-45', '29-31', '96-99', 'nan', '24-27'], ['71-73', '39-45', 'V50-V59', '52-57', '79', '58-62', '24-27'], ['28', '21-23'], ['74-75', '39-45', '32-35', '58-62'], ['39-45', 'V50-V59', '52-57', 'V87-V87', '28', 'V10-V19', '36-38', 'nan', '58-62', '24-27'], ['39-45', '46-51', '58-62', 'V40-V49', '24-27'], ['39-45', '46-51', '24-27'], ['74-75', '32-35', '39-45', 'V40-V49', '24-27']]\n",
      "[['39-45', 'V10-V19', '78', '46-51', '28', 'V40-V49'], ['71-73', '78', '52-57', '24-27'], ['52-57', '28', 'V10-V19', '78', 'V40-V49'], ['28', '39-45', '46-51', '78'], ['V87-V87', '78', '21-23', '79', '36-38', '14-20'], ['39-45', '78', '46-51', '14-20', '24-27'], ['39-45', '78', '28', '46-51', '79'], ['32-35', '78'], ['39-45', '68-70', '78', '28', '36-38', '80-83'], ['V10-V19', 'V20-V29'], ['79', '28', '39-45', '46-51'], ['39-45', '96-99', '78', '46-51', '79'], ['39-45', '28', '78', '46-51', '79', 'V40-V49', '24-27'], ['39-45', '28', '46-51', '79', '24-27'], ['V40-V49', '28', '39-45', '46-51'], ['32-35', '39-45', '28', '78', 'V40-V49'], ['V40-V49', '28', '39-45', '46-51'], ['39-45', '28', '46-51', '79', 'V40-V49'], ['39-45', '28', '78', '46-51', '79', 'V40-V49', '24-27'], ['28', '39-45', '46-51', '78'], ['39-45', 'V10-V19', '28', 'V70-V82', '79', 'V40-V49'], ['21-23'], ['39-45', '68-70', '78', '84-95', '24-27'], ['32-35', '71-73', '78'], ['71-73', '39-45', '28', '78', '79', '80-83'], ['39-45', '29-31', '28', '78', '24-27'], ['V60-V69', 'V50-V59', 'V30-V39', 'V88-V88', 'V87-V87', 'V01-V09', 'V70-V82', 'V83-V84', 'V85-V85', 'V90-V90', 'V20-V29', 'V40-V49'], ['39-45', '78', '28', '46-51', '79'], ['39-45', 'V10-V19', '78', '46-51', '79', 'V40-V49'], ['V40-V49', '28', '39-45', '46-51'], ['V10-V19', 'V40-V49', 'V20-V29'], ['84-95', '78', '68-70'], ['39-45', '78', '28', '46-51', 'V40-V49'], ['39-45', '29-31', 'V10-V19', '28', '78', '46-51', '00-10', '24-27'], ['28', '39-45', '46-51'], ['52-57', '28', '78', '14-20', '24-27'], ['V40-V49', '78', '39-45', '46-51'], ['V88-V88', 'V10-V19', '28', '46-51', '78', '79', 'V40-V49', '24-27'], ['28', '39-45', '46-51', '78'], ['79', '78', '39-45', '46-51'], ['32-35', '28', '36-38', '78'], ['39-45', 'V10-V19', '78', '46-51', '79', 'V40-V49'], ['58-62', '71-73', '78', '24-27'], ['78', '39-45', '46-51', '28'], ['V87-V87', '28', '39-45', '24-27'], ['28', '39-45', '46-51', '78'], ['32-35', '39-45', '28', 'V70-V82', '80-83', '24-27'], ['39-45', '96-99', '28', '46-51', '79'], ['39-45', '52-57', '78', '46-51', 'V40-V49', '24-27'], ['V50-V59', '21-23', '79', '36-38', 'V20-V29'], ['79', 'V40-V49', '39-45', '46-51'], ['V10-V19', '28', '39-45', '21-23'], ['78', '39-45', '46-51', '24-27'], ['52-57', '46-51', '21-23', 'V70-V82', '79', '14-20'], ['28', '39-45', '46-51', '78'], ['39-45', '28', '78', '36-38', '24-27'], ['39-45', '78', '46-51', '79', '14-20'], ['V50-V59', '52-57', '76-77', '79', '36-38', '24-27'], ['78', '39-45', '46-51', '28'], ['28', '39-45', '46-51', '78'], ['71-73', '39-45', '52-57', '78', '28', '58-62', '80-83'], ['78', '46-51', '28'], ['39-45', '78', '46-51', '79', '24-27'], ['32-35', '71-73', '78', '79'], ['28', '39-45', '46-51', '78'], ['39-45', 'V10-V19', '78', '46-51', '79', 'V40-V49'], ['V10-V19', '78', '39-45', '46-51'], ['39-45', 'V10-V19', '28', '78', 'V40-V49'], ['32-35', '78', '14-20'], ['32-35', '52-57', '68-70'], ['39-45', 'V50-V59', '29-31', 'V10-V19', '28', '78', '00-10', '24-27'], ['39-45', 'V10-V19', '78', '46-51', '79', 'V40-V49'], ['V40-V49', '78', '39-45', '46-51'], ['71-73', '39-45', '28', '78', 'V10-V19', '24-27'], ['28', 'V70-V82', \"78',  'V20-V29\", 'V40-V49', '24-27'], ['28', '39-45', 'V85-V85', '78'], ['39-45', '28', '78', '46-51', '14-20'], ['V10-V19', '78', '39-45', '46-51'], ['39-45', '28', '78', '46-51', '14-20', '24-27'], ['39-45', 'V10-V19', '28', '46-51', '79', 'V40-V49'], ['39-45', '52-57', '78', '28', '58-62', '24-27'], ['39-45', '28', '78', '46-51', '79', '24-27'], ['39-45', 'V50-V59', '52-57', '78', '46-51', '79', 'V40-V49', '24-27'], ['39-45', 'V50-V59', 'V10-V19', '28', '78', '24-27'], ['V88-V88', 'V87-V87', 'V70-V82', 'V90-V90', 'V40-V49'], ['39-45', 'V50-V59', '52-57', '29-31', '96-99', '28', '46-51', 'V10-V19', '78', '79', '58-62', 'V40-V49', '24-27'], ['71-73', '11-13', '52-57', '29-31', 'V87-V87', '28', '78', '14-20', '24-27'], ['79', '39-45', '46-51', 'V40-V49'], ['32-35', '78', '58-62', '28'], ['78', '39-45', '46-51'], ['32-35', '71-73', '78', '39-45'], ['78', '39-45', '46-51', '24-27'], ['39-45', '28', '78', '46-51', '79'], ['39-45', '78', 'V10-V19', '46-51', '28', '79'], ['V10-V19', '28', '21-23', '68-70'], ['39-45', '46-51', \"78'\"], ['52-57', 'V10-V19', '78', '28', '00-10'], ['84-95', '39-45'], ['39-45', 'V50-V59', '28', '78', '46-51', '79', 'V40-V49', '24-27'], ['28', '39-45', '46-51', '78']]\n",
      "Macro Averaged AUROC Score: 0.5496459375462357\n",
      "Micro Averaged Precision: 0.34210526315789475\n",
      "Micro Averaged Recall: 0.3642241379310345\n",
      "Micro Averaged F1-Score: 0.35281837160751567\n",
      "Macro Averaged Precision: 0.15927915595006473\n",
      "Macro Averaged Recall: 0.18469180857662973\n",
      "Macro Averaged F1-Score: 0.14370950934343507\n"
     ]
    },
    {
     "name": "stderr",
     "output_type": "stream",
     "text": [
      "\n"
     ]
    }
   ],
   "source": [
    "metrics_calc(raw_test_df=one_sym,method='rag', model_name= 'groq')"
   ]
  },
  {
   "cell_type": "code",
   "execution_count": 128,
   "metadata": {},
   "outputs": [
    {
     "name": "stderr",
     "output_type": "stream",
     "text": [
      "100it [01:47,  1.08s/it]"
     ]
    },
    {
     "name": "stdout",
     "output_type": "stream",
     "text": [
      "Number of rows : 100\n",
      "[['71-73', '39-45', '58-62', 'nan', 'V40-V49', '24-27'], ['V10-V19', '39-45', '29-31'], ['32-35', '39-45', 'V50-V59', '29-31', 'V10-V19', '46-51', '84-95', 'nan', '80-83', '24-27'], ['84-95'], ['V01-V09', '39-45'], ['71-73', '39-45', '58-62', 'V40-V49', '24-27'], ['39-45', '52-57', '28', '84-95', '36-38', 'nan', '24-27'], ['39-45', '29-31', '96-99', '28', '46-51', 'V10-V19', '24-27'], ['39-45', 'V40-V49', '24-27'], ['39-45', '29-31', '28', '79', '58-62'], ['32-35', '71-73', '39-45', '29-31', '96-99', '28', '78', '58-62', 'nan', 'V40-V49'], ['39-45', '84-95', 'nan', '80-83', 'V40-V49', '24-27'], ['V60-V69', '11-13', '39-45', '52-57', '68-70', '96-99', '28', '46-51', '21-23', '00-10', '78', '84-95', '79', '58-62', 'nan', '24-27'], ['39-45', '68-70', '28', '46-51', '00-10', 'V40-V49', '24-27'], ['78', '39-45', '46-51', 'nan'], ['32-35', '39-45', 'V50-V59', '52-57', '78', '58-62', 'V40-V49', '24-27'], ['39-45', 'V40-V49', '24-27'], ['28', '24-27', '52-57', '00-10'], ['74-75', '39-45', '52-57', '28', '24-27'], ['71-73', '39-45', 'V50-V59', '52-57', 'V10-V19', '84-95', 'nan', '80-83', 'V40-V49', '24-27'], ['39-45', '28', 'V10-V19', '46-51', '58-62', 'nan', '80-83', '24-27'], ['39-45', '46-51', '52-57'], ['39-45', '52-57', '28', '96-99', '46-51', 'V10-V19', '58-62', '24-27'], ['39-45', '24-27'], ['39-45', '52-57', 'V10-V19', '36-38', '24-27'], ['39-45', 'V50-V59', '68-70', '96-99', '28', 'V10-V19', '24-27'], ['74-75', '39-45', '52-57', '58-62', 'nan', '36-38', '24-27'], ['28', '39-45', '21-23'], ['96-99', '39-45', '24-27'], ['39-45', '68-70', 'V10-V19', '58-62', '24-27'], ['39-45'], ['96-99', '52-57', '28'], ['39-45', '52-57', '96-99', 'V10-V19', '46-51', '79', 'nan', 'V40-V49'], ['39-45', 'V10-V19', '78', '58-62', '24-27'], ['39-45', 'V50-V59', '29-31', '84-95', 'nan', '14-20', '80-83', '24-27'], ['39-45', '29-31', '78', '28', '96-99', '00-10', '79', '14-20', '24-27'], ['71-73', '39-45', 'V50-V59', '52-57', '68-70', '78', 'V10-V19', '00-10', '79', '58-62', '24-27'], ['V60-V69', '39-45', '52-57', '58-62', 'nan', 'V40-V49', '24-27'], ['39-45', '52-57', '96-99', '28', '46-51', '24-27'], ['39-45', '29-31', '68-70', '28', 'V01-V09', '46-51', '00-10', '58-62', '24-27'], ['96-99', '39-45', 'V50-V59', '24-27'], ['29-31', '96-99', '00-10', '58-62', '24-27'], ['32-35', '39-45', 'V10-V19', '46-51', '24-27'], ['14-20', '71-73', '39-45', '46-51'], ['71-73', '58-62', '39-45', '24-27'], ['78', '21-23', '28'], ['39-45', 'V50-V59', '78', '28', '46-51', '58-62', 'V40-V49', '24-27'], ['39-45', 'V50-V59', '29-31', '68-70', '28', '96-99', '46-51', '79', '58-62', 'nan', 'V40-V49', '24-27'], ['96-99', '39-45'], ['39-45', 'V40-V49', '58-62', '68-70'], ['74-75', '32-35', '39-45', 'V50-V59', '96-99', 'V01-V09', '00-10', '24-27'], ['39-45', '52-57', '96-99', '00-10', 'nan'], ['39-45', '28', '58-62', 'V40-V49', '24-27'], ['32-35', '71-73', '39-45', 'V50-V59', '29-31', 'nan', '28', 'V10-V19', '79', '36-38', '58-62', 'V40-V49', '24-27'], ['39-45', '52-57', '96-99', '79', 'nan', '24-27'], ['39-45', '68-70', 'V10-V19', 'nan', '24-27'], ['96-99', '39-45', '24-27'], ['74-75', '39-45', '24-27'], ['39-45', '96-99', '46-51', '58-62', 'V40-V49', '24-27'], ['32-35', 'V60-V69', '39-45', 'V50-V59', '46-51', 'V40-V49'], ['39-45', '24-27'], ['39-45', '46-51', '24-27'], ['32-35', '71-73', '39-45', '78', 'V10-V19', '58-62', '24-27'], ['39-45', 'V40-V49', '24-27'], ['V10-V19', '39-45', '29-31'], ['84-95', '52-57', 'nan'], ['32-35', '39-45', '52-57', '29-31', '78', '79'], ['96-99', '39-45'], ['39-45', '29-31', '28', '96-99', '58-62', '24-27'], ['39-45', '29-31', '78', 'V10-V19', '46-51', 'V85-V85', '24-27'], ['39-45', '96-99', 'V10-V19', '46-51', 'nan', '24-27'], ['39-45', '24-27'], ['V10-V19', '39-45', '29-31', '24-27'], ['71-73', '96-99', '39-45', '24-27'], ['71-73', 'V60-V69', '39-45', '46-51', 'nan', '80-83'], ['39-45', '36-38', '58-62'], ['71-73', '39-45', '52-57', '46-51', '84-95', '79', '58-62', 'nan', '80-83', 'V40-V49'], ['32-35', '39-45', 'V50-V59', '29-31', '52-57', '96-99', 'V10-V19', 'nan', '24-27'], ['32-35', '39-45', 'V50-V59', '96-99', 'V10-V19', '28', '58-62', 'nan', '36-38', 'V40-V49', '24-27'], ['39-45', 'V50-V59', 'V10-V19', '46-51', '14-20', '24-27'], ['32-35', '71-73', '39-45', '96-99', '24-27'], ['32-35', '71-73', '11-13', '39-45', '29-31', '52-57', '46-51', '36-38', '58-62', '24-27'], ['32-35', '39-45', '52-57', 'V01-V09', '46-51', '24-27'], ['39-45', '52-57', '96-99', '28', 'nan'], ['32-35', '71-73', '39-45', '29-31', 'V10-V19', '78', '46-51', '79', '36-38', 'V40-V49', '24-27'], ['32-35', '39-45', '29-31', '28', '78', 'V10-V19', '24-27'], ['28', '39-45', '24-27'], ['39-45', '96-99', 'V10-V19', '58-62', 'nan', '14-20', '24-27'], ['39-45', '52-57', '58-62', '14-20', '24-27'], ['80-83', '29-31', 'nan'], ['39-45', '46-51', '58-62', 'V40-V49', '24-27'], ['71-73', '39-45'], ['V10-V19', '39-45', 'V40-V49', '24-27'], ['74-75', '71-73', '39-45', '29-31', '52-57', '96-99', '28', '46-51', '78', '58-62', 'nan', 'V40-V49', '24-27'], ['71-73', '39-45', 'V50-V59', '21-23', 'V40-V49', '24-27'], ['39-45'], ['32-35', '71-73', '39-45', 'V50-V59', '52-57', '78', '46-51', '00-10', '58-62', 'nan', 'V40-V49', '24-27'], ['39-45', '46-51', '58-62', 'V40-V49', '24-27'], ['71-73', '39-45', '46-51', 'V40-V49', '24-27'], ['V10-V19', '78', '39-45', '24-27']]\n",
      "[['39-45', '96-99', '28', '46-51', '78', '79'], ['28', '39-45', '46-51', '78'], ['32-35', '71-73', '52-57', '78', '80-83'], ['11-13', '39-45', '52-57', '78', '46-51'], ['71-73', '68-70', '78', '28', '24-27'], ['39-45', 'V50-V59', '52-57', '68-70', '29-31', '78', '96-99', '46-51', '28', '79', '58-62', 'V40-V49', '24-27'], ['28', '39-45', '46-51', '78'], ['28', '39-45', '46-51', '78'], ['79', '28', '39-45', '46-51'], ['39-45', '28', '78', '00-10', '58-62'], ['32-35', '71-73', '39-45', '78', '80-83', '58-62', '14-20'], ['32-35', '80-83', '84-95'], ['71-73', '11-13', '52-57', '78', '24-27'], ['78', '39-45', '00-10', '28'], ['39-45', '28', '78', '46-51', 'V40-V49'], ['78', '39-45', '46-51'], ['14-20', 'V85-V85', '67'], ['39-45', '52-57', '78', '28', 'V40-V49'], ['39-45', '78', '28', '46-51', '96-99', '79', '24-27'], ['71-73', '78', '80-83'], ['39-45', '28', '78', '46-51', '24-27'], ['39-45', 'V10-V19', '78', '46-51', '28'], ['28', '39-45', '46-51', '78'], ['28', '39-45', '46-51', '78'], ['39-45', 'V10-V19', '28', '46-51', '78', 'V40-V49'], ['39-45', '28', '78', '46-51', '79'], ['39-45', '71-73', '78', '80-83'], ['V10-V19', '46-51', '79', '58-62', '24-27'], ['28', '39-45', '46-51'], ['39-45', '78', '46-51', '79', 'V40-V49', '24-27'], ['39-45', 'V50-V59', 'V10-V19', '78', '28', 'V20-V29', 'V40-V49'], ['11-13', '39-45', '52-57', '78', '24-27'], ['28', '39-45', '46-51', '78'], ['78', '39-45', 'V40-V49', '52-57'], ['71-73', '78', '58-62', '80-83', '24-27'], ['39-45', 'V10-V19', '28', '78', '46-51', '00-10', '79', 'V40-V49', '24-27'], ['39-45', '29-31', '68-70', 'V10-V19', '79', 'V20-V29', '24-27'], ['28', '39-45', '24-27', '58-62'], ['11-13', '39-45', '52-57', '28', '78', '24-27'], ['39-45', '28', '78', '46-51', '96-99', '79'], ['71-73', '68-70'], ['V60-V69', 'V87-V87', '28', '78', '96-99', '24-27'], ['78', '39-45', '46-51', '28'], ['39-45', '52-57', '78', '28', '46-51', '14-20'], ['32-35', '71-73', '78', '14-20'], ['78', '79', '46-51'], ['28', '39-45', '46-51', '24-27'], ['79', '78', '39-45', '46-51'], ['28', '39-45', '46-51', '78'], ['39-45', '28', '78', '46-51', 'V70-V82', '79', 'V40-V49', '24-27'], ['96-99', '39-45', '46-51', '28'], ['71-73', '46-51', '21-23', '24-27'], ['39-45', '28', '78', '79', 'V40-V49'], ['V87-V87', '39-45', '21-23', '24-27'], ['28', '39-45', '46-51', '78'], ['39-45', '78', '28', '46-51', '24-27'], ['V40-V49', '78', '39-45', '46-51'], ['39-45', '28', '78', '46-51', '24-27'], ['39-45', '52-57', '78', 'V40-V49', '24-27'], ['11-13', '39-45', '28', '78', '46-51', '24-27'], ['39-45', '52-57', '78', '28', '46-51', '24-27'], ['39-45', '46-51', \"78'\"], ['32-35', '39-45', '78', '36-38', '14-20'], ['39-45', '78', '28', '46-51', 'V40-V49'], ['28', '39-45', '46-51', '78'], ['39-45', '52-57', '28', '78', '58-62', '24-27'], ['32-35', '71-73', '39-45', '78', '28', '24-27'], ['32-35', '71-73', '39-45', '78', '28'], ['79', '28', '39-45', '46-51'], ['28', '39-45', '46-51', '78'], ['79', '78', '39-45', '46-51'], ['39-45', '78', '46-51', '79', 'V40-V49'], ['V10-V19', '28', '39-45', '46-51'], ['39-45', '52-57', 'V10-V19', '28', '46-51', '78', 'V40-V49', '24-27'], ['39-45', '71-73', '78', '80-83'], ['39-45', '28', '78', '79', 'V40-V49'], ['71-73', '39-45', '28', '78', '80-83', '14-20', '24-27'], ['11-13', '39-45', 'V10-V19', '28', '78', '14-20', 'V40-V49', '24-27'], ['39-45', '28', '78', '84-95', '80-83'], ['78', '39-45', '46-51', '28'], ['V40-V49', '78', '39-45', '46-51'], ['28', '78', '46-51', 'V70-V82', '36-38', '58-62', '24-27'], ['39-45', 'V10-V19', '78', '46-51', '96-99', 'V40-V49'], ['79', '78', '39-45', '46-51'], ['79', '78', '39-45', '46-51'], ['39-45', 'V40-V49'], ['79', '39-45', '46-51'], ['28', '39-45', '46-51', '78'], ['71-73', '39-45', '52-57', '78', '28'], ['71-73', '39-45', '68-70', '78', '79', '58-62', '24-27'], ['28', '39-45', '46-51', '78'], ['84-95', '39-45', '78', '80-83'], ['39-45', 'V10-V19', '28', '46-51', '78', 'V40-V49', '24-27'], ['39-45', '52-57', '78', '46-51', 'V40-V49', '24-27'], ['32-35', '78', '29-31'], ['39-45', '78', 'V10-V19', '46-51', 'V40-V49', '24-27'], ['39-45', '78', '28', '46-51', '79'], ['39-45', '96-99', '28', '46-51', '78'], ['39-45', '96-99', '78', '46-51', '28', '79', 'V40-V49', '24-27'], ['28', '39-45', '46-51', '78']]\n",
      "Macro Averaged AUROC Score: 0.5491658402918569\n",
      "Micro Averaged Precision: 0.4251012145748988\n",
      "Micro Averaged Recall: 0.3860294117647059\n",
      "Micro Averaged F1-Score: 0.4046242774566474\n",
      "Macro Averaged Precision: 0.2110223298530103\n",
      "Macro Averaged Recall: 0.1871713557550418\n",
      "Macro Averaged F1-Score: 0.1692032534693074\n"
     ]
    },
    {
     "name": "stderr",
     "output_type": "stream",
     "text": [
      "\n"
     ]
    }
   ],
   "source": [
    "metrics_calc(raw_test_df=two_sym,method='rag', model_name= 'groq')"
   ]
  },
  {
   "cell_type": "code",
   "execution_count": 129,
   "metadata": {},
   "outputs": [
    {
     "name": "stderr",
     "output_type": "stream",
     "text": [
      "100it [03:01,  1.82s/it]"
     ]
    },
    {
     "name": "stdout",
     "output_type": "stream",
     "text": [
      "Number of rows : 100\n",
      "[['71-73', '39-45', '58-62', 'nan', 'V40-V49', '24-27'], ['V10-V19', '39-45', '29-31'], ['32-35', '39-45', 'V50-V59', '29-31', 'V10-V19', '46-51', '84-95', 'nan', '80-83', '24-27'], ['84-95'], ['V01-V09', '39-45'], ['71-73', '39-45', '58-62', 'V40-V49', '24-27'], ['39-45', '52-57', '28', '84-95', '36-38', 'nan', '24-27'], ['39-45', '29-31', '96-99', '28', '46-51', 'V10-V19', '24-27'], ['39-45', 'V40-V49', '24-27'], ['39-45', '29-31', '28', '79', '58-62'], ['32-35', '71-73', '39-45', '29-31', '96-99', '28', '78', '58-62', 'nan', 'V40-V49'], ['39-45', '84-95', 'nan', '80-83', 'V40-V49', '24-27'], ['V60-V69', '11-13', '39-45', '52-57', '68-70', '96-99', '28', '46-51', '21-23', '00-10', '78', '84-95', '79', '58-62', 'nan', '24-27'], ['39-45', '68-70', '28', '46-51', '00-10', 'V40-V49', '24-27'], ['78', '39-45', '46-51', 'nan'], ['32-35', '39-45', 'V50-V59', '52-57', '78', '58-62', 'V40-V49', '24-27'], ['39-45', 'V40-V49', '24-27'], ['28', '24-27', '52-57', '00-10'], ['74-75', '39-45', '52-57', '28', '24-27'], ['71-73', '39-45', 'V50-V59', '52-57', 'V10-V19', '84-95', 'nan', '80-83', 'V40-V49', '24-27'], ['39-45', '28', 'V10-V19', '46-51', '58-62', 'nan', '80-83', '24-27'], ['39-45', '46-51', '52-57'], ['39-45', '52-57', '28', '96-99', '46-51', 'V10-V19', '58-62', '24-27'], ['39-45', '24-27'], ['39-45', '52-57', 'V10-V19', '36-38', '24-27'], ['39-45', 'V50-V59', '68-70', '96-99', '28', 'V10-V19', '24-27'], ['74-75', '39-45', '52-57', '58-62', 'nan', '36-38', '24-27'], ['28', '39-45', '21-23'], ['96-99', '39-45', '24-27'], ['39-45', '68-70', 'V10-V19', '58-62', '24-27'], ['39-45'], ['96-99', '52-57', '28'], ['39-45', '52-57', '96-99', 'V10-V19', '46-51', '79', 'nan', 'V40-V49'], ['39-45', 'V10-V19', '78', '58-62', '24-27'], ['39-45', 'V50-V59', '29-31', '84-95', 'nan', '14-20', '80-83', '24-27'], ['39-45', '29-31', '78', '28', '96-99', '00-10', '79', '14-20', '24-27'], ['71-73', '39-45', 'V50-V59', '52-57', '68-70', '78', 'V10-V19', '00-10', '79', '58-62', '24-27'], ['V60-V69', '39-45', '52-57', '58-62', 'nan', 'V40-V49', '24-27'], ['39-45', '52-57', '96-99', '28', '46-51', '24-27'], ['39-45', '29-31', '68-70', '28', 'V01-V09', '46-51', '00-10', '58-62', '24-27'], ['96-99', '39-45', 'V50-V59', '24-27'], ['29-31', '96-99', '00-10', '58-62', '24-27'], ['32-35', '39-45', 'V10-V19', '46-51', '24-27'], ['14-20', '71-73', '39-45', '46-51'], ['71-73', '58-62', '39-45', '24-27'], ['78', '21-23', '28'], ['39-45', 'V50-V59', '78', '28', '46-51', '58-62', 'V40-V49', '24-27'], ['39-45', 'V50-V59', '29-31', '68-70', '28', '96-99', '46-51', '79', '58-62', 'nan', 'V40-V49', '24-27'], ['96-99', '39-45'], ['39-45', 'V40-V49', '58-62', '68-70'], ['74-75', '32-35', '39-45', 'V50-V59', '96-99', 'V01-V09', '00-10', '24-27'], ['39-45', '52-57', '96-99', '00-10', 'nan'], ['39-45', '28', '58-62', 'V40-V49', '24-27'], ['32-35', '71-73', '39-45', 'V50-V59', '29-31', 'nan', '28', 'V10-V19', '79', '36-38', '58-62', 'V40-V49', '24-27'], ['39-45', '52-57', '96-99', '79', 'nan', '24-27'], ['39-45', '68-70', 'V10-V19', 'nan', '24-27'], ['96-99', '39-45', '24-27'], ['74-75', '39-45', '24-27'], ['39-45', '96-99', '46-51', '58-62', 'V40-V49', '24-27'], ['32-35', 'V60-V69', '39-45', 'V50-V59', '46-51', 'V40-V49'], ['39-45', '24-27'], ['39-45', '46-51', '24-27'], ['32-35', '71-73', '39-45', '78', 'V10-V19', '58-62', '24-27'], ['39-45', 'V40-V49', '24-27'], ['V10-V19', '39-45', '29-31'], ['84-95', '52-57', 'nan'], ['32-35', '39-45', '52-57', '29-31', '78', '79'], ['96-99', '39-45'], ['39-45', '29-31', '28', '96-99', '58-62', '24-27'], ['39-45', '29-31', '78', 'V10-V19', '46-51', 'V85-V85', '24-27'], ['39-45', '96-99', 'V10-V19', '46-51', 'nan', '24-27'], ['39-45', '24-27'], ['V10-V19', '39-45', '29-31', '24-27'], ['71-73', '96-99', '39-45', '24-27'], ['71-73', 'V60-V69', '39-45', '46-51', 'nan', '80-83'], ['39-45', '36-38', '58-62'], ['71-73', '39-45', '52-57', '46-51', '84-95', '79', '58-62', 'nan', '80-83', 'V40-V49'], ['32-35', '39-45', 'V50-V59', '29-31', '52-57', '96-99', 'V10-V19', 'nan', '24-27'], ['32-35', '39-45', 'V50-V59', '96-99', 'V10-V19', '28', '58-62', 'nan', '36-38', 'V40-V49', '24-27'], ['39-45', 'V50-V59', 'V10-V19', '46-51', '14-20', '24-27'], ['32-35', '71-73', '39-45', '96-99', '24-27'], ['32-35', '71-73', '11-13', '39-45', '29-31', '52-57', '46-51', '36-38', '58-62', '24-27'], ['32-35', '39-45', '52-57', 'V01-V09', '46-51', '24-27'], ['39-45', '52-57', '96-99', '28', 'nan'], ['32-35', '71-73', '39-45', '29-31', 'V10-V19', '78', '46-51', '79', '36-38', 'V40-V49', '24-27'], ['32-35', '39-45', '29-31', '28', '78', 'V10-V19', '24-27'], ['28', '39-45', '24-27'], ['39-45', '96-99', 'V10-V19', '58-62', 'nan', '14-20', '24-27'], ['39-45', '52-57', '58-62', '14-20', '24-27'], ['80-83', '29-31', 'nan'], ['39-45', '46-51', '58-62', 'V40-V49', '24-27'], ['71-73', '39-45'], ['V10-V19', '39-45', 'V40-V49', '24-27'], ['74-75', '71-73', '39-45', '29-31', '52-57', '96-99', '28', '46-51', '78', '58-62', 'nan', 'V40-V49', '24-27'], ['71-73', '39-45', 'V50-V59', '21-23', 'V40-V49', '24-27'], ['39-45'], ['32-35', '71-73', '39-45', 'V50-V59', '52-57', '78', '46-51', '00-10', '58-62', 'nan', 'V40-V49', '24-27'], ['39-45', '46-51', '58-62', 'V40-V49', '24-27'], ['71-73', '39-45', '46-51', 'V40-V49', '24-27'], ['V10-V19', '78', '39-45', '24-27']]\n",
      "[['78', '39-45', '46-51', '24-27'], ['79', '78', '39-45', '46-51'], ['32-35', '71-73', '39-45', '78', '80-83'], ['46-51', '52-57'], ['78', '39-45', '46-51'], ['78', '39-45', '46-51'], ['78', '39-45', '46-51'], ['78', '39-45', '46-51'], ['78', '39-45', '46-51'], ['00-10', '78', '46-51', '58-62'], ['71-73', '80-83', '21-23', '24-27'], ['32-35', '80-83'], ['71-73', '78', '52-57'], ['78', '39-45', '46-51', '00-10'], ['39-45', '46-51'], ['39-45', '78', '28', '46-51', '24-27'], ['78', '39-45', '46-51', '24-27'], ['78', '39-45', '52-57'], ['84-95', '78', '39-45', '46-51'], ['71-73', '78', '80-83'], ['32-35', '78', '39-45', '24-27'], ['78', '46-51'], ['32-35', '78', '39-45', '46-51'], ['78', '39-45', '46-51'], ['32-35', '78', '39-45', '46-51'], ['32-35', '39-45', '78', '28', '46-51', 'V10-V19', '36-38', '24-27'], ['32-35', '71-73', '78', '39-45'], ['39-45', '52-57', '78', '46-51', '24-27'], ['32-35', '78', '39-45', '46-51'], ['78', '39-45', '46-51', '80-83'], ['78', '39-45', '46-51', '36-38'], ['78', '52-57'], ['78', '39-45', '46-51'], ['32-35', '71-73', '74-75', '39-45', '52-57', '63-66', '78', '46-51', '79', 'E00-E09', '80-83'], ['80-83', '52-57'], ['11-13', '39-45', 'V30-V39', '00-10'], ['32-35', '78', '39-45', '24-27'], ['58-62', '39-45', '24-27'], ['78', '14-20', '52-57', '24-27'], ['32-35', '78', '46-51', '24-27'], ['78', '39-45', '58-62'], ['78', 'E00-E09'], ['84-95', '78', '39-45', '46-51'], ['71-73', '39-45', '52-57', '78', '46-51'], ['32-35', '71-73', '78', '80-83'], ['71-73', '46-51'], ['96-99', '78', '39-45', '46-51'], ['78', '39-45', '46-51'], ['78', '39-45', '46-51'], ['V85-V85', '39-45', '46-51', '24-27'], ['78', '39-45', '46-51'], ['39-45', '52-57', '78', '46-51', '00-10'], ['32-35', '39-45', '78', '46-51', '79'], ['39-45', '46-51'], ['78', '39-45', '46-51'], ['V60-V69', '71-73', '39-45', '68-70', '78', '46-51', '67', '36-38', '24-27'], ['79', '78', '39-45', '46-51'], ['V40-V49', '78', '39-45', '46-51'], ['39-45', '52-57'], ['78', '39-45', '46-51'], ['78', '39-45', '46-51'], ['78', '39-45', '46-51'], ['32-35', '78', '39-45', '84-95'], ['78', '39-45', '46-51'], ['71-73', '39-45', '36-38'], ['52-57', '78', 'V10-V19', '46-51', 'V90-V90'], ['32-35', '71-73', '78', '39-45'], ['32-35', '71-73', '39-45', '80-83'], ['79', '78', '39-45', '46-51'], ['71-73', '39-45', '78', '46-51', '36-38'], ['78', '39-45', '46-51'], ['78', '39-45', '46-51', '36-38'], ['96-99', '78', '39-45', '46-51'], ['71-73', '78', '39-45', '46-51'], ['32-35', '71-73', '78', '80-83'], ['32-35', '78', '39-45', '46-51'], ['71-73', '78', '39-45', '80-83'], ['32-35', '78'], ['84-95', '39-45', '80-83', 'E00-E09'], ['78', '46-51'], ['78', '39-45', '46-51'], ['32-35', '78', '39-45', '80-83'], ['78', '39-45', '46-51'], ['78', '39-45', '46-51', 'V88-V88'], ['71-73', '39-45', \"46-51'\"], ['V87-V87', '39-45', 'V40-V49'], ['78', '39-45', '46-51'], ['78', '39-45', '46-51'], ['78', '39-45', '52-57'], ['71-73', '78', '21-23', '58-62', 'V20-V29'], ['39-45', '46-51'], ['84-95', '80-83', 'E00-E09'], ['32-35', '78', '39-45', '46-51'], ['39-45', '46-51', '52-57'], ['32-35', '78', '29-31'], ['V40-V49', '78', '39-45', '46-51'], ['78', '39-45', '46-51'], ['32-35', '78', '46-51'], ['78', '39-45', '46-51'], ['39-45', '46-51', \"78'\"]]\n",
      "Macro Averaged AUROC Score: 0.5334558696518079\n",
      "Micro Averaged Precision: 0.42382271468144045\n",
      "Micro Averaged Recall: 0.28125\n",
      "Micro Averaged F1-Score: 0.33812154696132596\n",
      "Macro Averaged Precision: 0.18646611582348036\n",
      "Macro Averaged Recall: 0.11813249917963792\n",
      "Macro Averaged F1-Score: 0.11146966167470791\n"
     ]
    },
    {
     "name": "stderr",
     "output_type": "stream",
     "text": [
      "\n"
     ]
    }
   ],
   "source": [
    "metrics_calc(raw_test_df=two_sym,method='llm', model_name= 'groq')"
   ]
  },
  {
   "cell_type": "code",
   "execution_count": 1120,
   "metadata": {},
   "outputs": [
    {
     "name": "stderr",
     "output_type": "stream",
     "text": [
      "4it [00:00,  4.60it/s]"
     ]
    },
    {
     "name": "stdout",
     "output_type": "stream",
     "text": [
      "['39-45', '74-75', '21-23', '78']\n"
     ]
    },
    {
     "name": "stderr",
     "output_type": "stream",
     "text": [
      "10it [00:01,  6.54it/s]"
     ]
    },
    {
     "name": "stdout",
     "output_type": "stream",
     "text": [
      "['78', '32-35', '24-27', '39-45', '46-51']\n"
     ]
    },
    {
     "name": "stderr",
     "output_type": "stream",
     "text": [
      "29it [00:02, 14.70it/s]"
     ]
    },
    {
     "name": "stdout",
     "output_type": "stream",
     "text": [
      "['46-51', '78', '96-99']\n"
     ]
    },
    {
     "name": "stderr",
     "output_type": "stream",
     "text": [
      "31it [00:10,  2.09it/s]"
     ]
    },
    {
     "name": "stdout",
     "output_type": "stream",
     "text": [
      "['78', '32-35', '39-45']\n"
     ]
    },
    {
     "name": "stderr",
     "output_type": "stream",
     "text": [
      "32it [00:21,  1.20s/it]"
     ]
    },
    {
     "name": "stdout",
     "output_type": "stream",
     "text": [
      "['39-45', '52-57', '24-27', '78']\n"
     ]
    },
    {
     "name": "stderr",
     "output_type": "stream",
     "text": [
      "47it [00:33,  1.03it/s]"
     ]
    },
    {
     "name": "stdout",
     "output_type": "stream",
     "text": [
      "['46-51', '39-45', '24-27', '78']\n"
     ]
    },
    {
     "name": "stderr",
     "output_type": "stream",
     "text": [
      "49it [00:45,  1.45s/it]"
     ]
    },
    {
     "name": "stdout",
     "output_type": "stream",
     "text": [
      "['71-73', '78', '80-83', '32-35', '58-62', '79']\n"
     ]
    },
    {
     "name": "stderr",
     "output_type": "stream",
     "text": [
      "51it [00:57,  2.04s/it]"
     ]
    },
    {
     "name": "stdout",
     "output_type": "stream",
     "text": [
      "['46-51', '39-45', '24-27', '78']\n"
     ]
    },
    {
     "name": "stderr",
     "output_type": "stream",
     "text": [
      "52it [01:09,  2.88s/it]"
     ]
    },
    {
     "name": "stdout",
     "output_type": "stream",
     "text": [
      "['14-20', '39-45', '21-23']\n"
     ]
    },
    {
     "name": "stderr",
     "output_type": "stream",
     "text": [
      "55it [01:20,  3.10s/it]"
     ]
    },
    {
     "name": "stdout",
     "output_type": "stream",
     "text": [
      "['46-51', '78', '39-45', '24-27']\n"
     ]
    },
    {
     "name": "stderr",
     "output_type": "stream",
     "text": [
      "63it [01:33,  2.31s/it]"
     ]
    },
    {
     "name": "stdout",
     "output_type": "stream",
     "text": [
      "['46-51', '78', '39-45']\n"
     ]
    },
    {
     "name": "stderr",
     "output_type": "stream",
     "text": [
      "70it [01:45,  2.11s/it]"
     ]
    },
    {
     "name": "stdout",
     "output_type": "stream",
     "text": [
      "['39-45', '52-57', '24-27', '11-13', '68-70', '46-51']\n"
     ]
    },
    {
     "name": "stderr",
     "output_type": "stream",
     "text": [
      "75it [01:56,  2.15s/it]"
     ]
    },
    {
     "name": "stdout",
     "output_type": "stream",
     "text": [
      "['46-51', '39-45', '78']\n"
     ]
    },
    {
     "name": "stderr",
     "output_type": "stream",
     "text": [
      "79it [02:08,  2.31s/it]"
     ]
    },
    {
     "name": "stdout",
     "output_type": "stream",
     "text": [
      "['39-45', '46-51', '78']\n"
     ]
    },
    {
     "name": "stderr",
     "output_type": "stream",
     "text": [
      "87it [02:20,  2.00s/it]"
     ]
    },
    {
     "name": "stdout",
     "output_type": "stream",
     "text": [
      "['32-35', '39-45', '78', '24-27']\n"
     ]
    },
    {
     "name": "stderr",
     "output_type": "stream",
     "text": [
      "114it [02:31,  1.06it/s]"
     ]
    },
    {
     "name": "stdout",
     "output_type": "stream",
     "text": [
      "['39-45', '46-51', '78']\n"
     ]
    },
    {
     "name": "stderr",
     "output_type": "stream",
     "text": [
      "139it [02:43,  1.37it/s]"
     ]
    },
    {
     "name": "stdout",
     "output_type": "stream",
     "text": [
      "['39-45', '46-51', '78']\n"
     ]
    },
    {
     "name": "stderr",
     "output_type": "stream",
     "text": [
      "159it [02:55,  1.46it/s]"
     ]
    },
    {
     "name": "stdout",
     "output_type": "stream",
     "text": [
      "['71-73', '68-70', '58-62', '39-45', '21-23', '78', '79']\n"
     ]
    },
    {
     "name": "stderr",
     "output_type": "stream",
     "text": [
      "163it [03:07,  1.11it/s]"
     ]
    },
    {
     "name": "stdout",
     "output_type": "stream",
     "text": [
      "['39-45', '46-51', '78']\n"
     ]
    },
    {
     "name": "stderr",
     "output_type": "stream",
     "text": [
      "179it [03:19,  1.20it/s]"
     ]
    },
    {
     "name": "stdout",
     "output_type": "stream",
     "text": [
      "['46-51', '39-45', '78']\n"
     ]
    },
    {
     "name": "stderr",
     "output_type": "stream",
     "text": [
      "192it [03:30,  1.18it/s]"
     ]
    },
    {
     "name": "stdout",
     "output_type": "stream",
     "text": [
      "['46-51', '39-45', '24-27', '78']\n"
     ]
    },
    {
     "name": "stderr",
     "output_type": "stream",
     "text": [
      "196it [03:43,  1.10s/it]"
     ]
    },
    {
     "name": "stdout",
     "output_type": "stream",
     "text": [
      "['39-45', '78', '46-51', '29-31', '79']\n"
     ]
    },
    {
     "name": "stderr",
     "output_type": "stream",
     "text": [
      "197it [03:54,  1.50s/it]"
     ]
    },
    {
     "name": "stdout",
     "output_type": "stream",
     "text": [
      "['46-51', '71-73', '78']\n"
     ]
    },
    {
     "name": "stderr",
     "output_type": "stream",
     "text": [
      "200it [04:06,  1.23s/it]"
     ]
    },
    {
     "name": "stdout",
     "output_type": "stream",
     "text": [
      "['39-45', '46-51', '78', '24-27']\n",
      "Number of rows : 24\n",
      "[['78', '74-75', '39-45'], ['24-27', '78', 'V50-V59', '46-51', '79', '58-62', '39-45', 'V40-V49', '29-31', 'V10-V19'], ['24-27', '71-73', '96-99', '46-51', '79', '58-62', 'V40-V49', '14-20', '29-31', 'V10-V19', '00-10'], ['24-27', '78', '32-35', '39-45', 'V10-V19'], ['78', '28', '52-57', '96-99', '58-62', 'V40-V49', '29-31', 'V10-V19', '00-10'], ['46-51', '71-73', '39-45'], ['80-83', '28', '84-95'], ['V40-V49', '39-45'], ['21-23', '14-20', '39-45'], ['24-27', '71-73', '52-57', '58-62', '39-45', 'V40-V49', 'V10-V19'], ['24-27', '46-51', '32-35', '39-45'], ['24-27', '52-57', '39-45'], ['24-27', 'V10-V19', '58-62', '39-45'], ['V50-V59', '28', '32-35', '39-45'], ['24-27', '78', 'V50-V59', '96-99', '46-51', '39-45', '21-23', 'V10-V19'], ['24-27', '28', '71-73', '46-51', '39-45', 'V10-V19'], ['24-27', '39-45'], ['24-27', '28', '71-73', '96-99', '58-62', '32-35', '39-45', 'V10-V19'], ['24-27', '28', '39-45'], ['28', '78', '39-45', '14-20', 'V10-V19'], ['24-27', '78', '28', '96-99', '46-51', '58-62', '39-45', '00-10'], ['24-27', '46-51', '58-62', '39-45', 'V10-V19'], ['52-57', '46-51', 'V10-V19', '39-45'], ['24-27', '28', '39-45', 'V40-V49']]\n",
      "[['21-23', '78', '74-75', '39-45'], ['24-27', '78', '46-51', '32-35', '39-45'], ['96-99', '46-51', '78'], ['78', '32-35', '39-45'], ['52-57', '24-27', '78', '39-45'], ['24-27', '46-51', '78', '39-45'], ['80-83', '78', '71-73', '79', '58-62', '32-35'], ['24-27', '46-51', '78', '39-45'], ['21-23', '14-20', '39-45'], ['24-27', '46-51', '78', '39-45'], ['46-51', '78', '39-45'], ['24-27', '11-13', '52-57', '46-51', '68-70', '39-45'], ['46-51', '78', '39-45'], ['46-51', '78', '39-45'], ['24-27', '78', '32-35', '39-45'], ['46-51', '78', '39-45'], ['46-51', '78', '39-45'], ['78', '71-73', '79', '58-62', '68-70', '39-45', '21-23'], ['46-51', '78', '39-45'], ['46-51', '78', '39-45'], ['24-27', '46-51', '78', '39-45'], ['78', '46-51', '79', '39-45', '29-31'], ['46-51', '78', '71-73'], ['24-27', '46-51', '78', '39-45']]\n",
      "Macro Averaged AUROC Score: 0.6097125865231792\n",
      "Micro Averaged Precision: 0.5425531914893617\n",
      "Micro Averaged Recall: 0.4112903225806452\n",
      "Micro Averaged F1-Score: 0.46788990825688076\n",
      "Macro Averaged Precision: 0.23222327208395319\n",
      "Macro Averaged Recall: 0.19341060985797826\n",
      "Macro Averaged F1-Score: 0.18817168916987428\n"
     ]
    },
    {
     "name": "stderr",
     "output_type": "stream",
     "text": [
      "\n"
     ]
    }
   ],
   "source": [
    "metrics_calc(type = 'three symptoms',method='llm', model_name= 'groq')"
   ]
  },
  {
   "cell_type": "code",
   "execution_count": 1121,
   "metadata": {},
   "outputs": [
    {
     "name": "stderr",
     "output_type": "stream",
     "text": [
      "4it [00:06,  1.56s/it]"
     ]
    },
    {
     "name": "stdout",
     "output_type": "stream",
     "text": [
      "['39-45', '74-75', '78']\n"
     ]
    },
    {
     "name": "stderr",
     "output_type": "stream",
     "text": [
      "10it [00:14,  1.42s/it]"
     ]
    },
    {
     "name": "stdout",
     "output_type": "stream",
     "text": [
      "['39-45', '24-27', '78', '28', '11-13']\n"
     ]
    },
    {
     "name": "stderr",
     "output_type": "stream",
     "text": [
      "29it [00:22,  1.48it/s]"
     ]
    },
    {
     "name": "stdout",
     "output_type": "stream",
     "text": [
      "['78', '46-51', '96-99', '39-45', '28', '79']\n"
     ]
    },
    {
     "name": "stderr",
     "output_type": "stream",
     "text": [
      "31it [00:30,  1.02s/it]"
     ]
    },
    {
     "name": "stdout",
     "output_type": "stream",
     "text": [
      "['78', '39-45', '21-23', '32-35', '80-83']\n"
     ]
    },
    {
     "name": "stderr",
     "output_type": "stream",
     "text": [
      "32it [00:39,  1.51s/it]"
     ]
    },
    {
     "name": "stdout",
     "output_type": "stream",
     "text": [
      "['11-13', '24-27', '39-45', '52-57', '78']\n"
     ]
    },
    {
     "name": "stderr",
     "output_type": "stream",
     "text": [
      "47it [00:47,  1.06it/s]"
     ]
    },
    {
     "name": "stdout",
     "output_type": "stream",
     "text": [
      "['46-51', '28', '39-45', '24-27', '78', '96-99']\n"
     ]
    },
    {
     "name": "stderr",
     "output_type": "stream",
     "text": [
      "49it [00:55,  1.26s/it]"
     ]
    },
    {
     "name": "stdout",
     "output_type": "stream",
     "text": [
      "['72-73', '78', '80-83', '29-31', '21-23', '52-57', '58-62']\n"
     ]
    },
    {
     "name": "stderr",
     "output_type": "stream",
     "text": [
      "51it [01:03,  1.62s/it]"
     ]
    },
    {
     "name": "stdout",
     "output_type": "stream",
     "text": [
      "['46-51', '78', '24-27', '39-45', '28']\n"
     ]
    },
    {
     "name": "stderr",
     "output_type": "stream",
     "text": [
      "52it [01:09,  2.00s/it]"
     ]
    },
    {
     "name": "stdout",
     "output_type": "stream",
     "text": [
      "['174-175', '39-45', '394-398']\n"
     ]
    },
    {
     "name": "stderr",
     "output_type": "stream",
     "text": [
      "55it [01:17,  2.19s/it]"
     ]
    },
    {
     "name": "stdout",
     "output_type": "stream",
     "text": [
      "['46-51', '78', '39-45', '29-31', '24-27']\n"
     ]
    },
    {
     "name": "stderr",
     "output_type": "stream",
     "text": [
      "63it [01:26,  1.60s/it]"
     ]
    },
    {
     "name": "stdout",
     "output_type": "stream",
     "text": [
      "['46-51', '78', '96-99', '39-45', '24-27']\n"
     ]
    },
    {
     "name": "stderr",
     "output_type": "stream",
     "text": [
      "70it [01:32,  1.32s/it]"
     ]
    },
    {
     "name": "stdout",
     "output_type": "stream",
     "text": [
      "['39-45', '46-51', 'V10-V19', '24-27', 'V60-V69']\n"
     ]
    },
    {
     "name": "stderr",
     "output_type": "stream",
     "text": [
      "75it [01:40,  1.41s/it]"
     ]
    },
    {
     "name": "stdout",
     "output_type": "stream",
     "text": [
      "['78', '46-51', '39-45', '29-31', '24-27', '68-70', '52-57', '14-20']\n"
     ]
    },
    {
     "name": "stderr",
     "output_type": "stream",
     "text": [
      "79it [01:49,  1.60s/it]"
     ]
    },
    {
     "name": "stdout",
     "output_type": "stream",
     "text": [
      "['39-45', '21-23', '46-51', '78', '29-31', '24-27']\n"
     ]
    },
    {
     "name": "stderr",
     "output_type": "stream",
     "text": [
      "87it [01:57,  1.37s/it]"
     ]
    },
    {
     "name": "stdout",
     "output_type": "stream",
     "text": [
      "['78', '21-23', '14-20', '39-45', '79', '24-27']\n"
     ]
    },
    {
     "name": "stderr",
     "output_type": "stream",
     "text": [
      "114it [02:05,  1.51it/s]"
     ]
    },
    {
     "name": "stdout",
     "output_type": "stream",
     "text": [
      "['39-45', '46-51', '24-27', '78', '79', 'V10-V19', 'V40-V49']\n"
     ]
    },
    {
     "name": "stderr",
     "output_type": "stream",
     "text": [
      "139it [02:13,  1.98it/s]"
     ]
    },
    {
     "name": "stdout",
     "output_type": "stream",
     "text": [
      "['39-45', '28', '24-27', '46-51', '79', '14-20']\n"
     ]
    },
    {
     "name": "stderr",
     "output_type": "stream",
     "text": [
      "159it [02:20,  2.22it/s]"
     ]
    },
    {
     "name": "stdout",
     "output_type": "stream",
     "text": [
      "['39-45', '46-51', '78', '58-62', '96-99']\n"
     ]
    },
    {
     "name": "stderr",
     "output_type": "stream",
     "text": [
      "163it [02:28,  1.68it/s]"
     ]
    },
    {
     "name": "stdout",
     "output_type": "stream",
     "text": [
      "['39-45', '46-51', '32-35', '78', '28', '24-27']\n"
     ]
    },
    {
     "name": "stderr",
     "output_type": "stream",
     "text": [
      "179it [02:37,  1.77it/s]"
     ]
    },
    {
     "name": "stdout",
     "output_type": "stream",
     "text": [
      "['46-51', '28', '39-45', '78', '79']\n"
     ]
    },
    {
     "name": "stderr",
     "output_type": "stream",
     "text": [
      "192it [02:45,  1.71it/s]"
     ]
    },
    {
     "name": "stdout",
     "output_type": "stream",
     "text": [
      "['46-51', '39-45', '28', '78', '24-27', '96-99', '14-20', 'V40-V49', 'V10-V19']\n"
     ]
    },
    {
     "name": "stderr",
     "output_type": "stream",
     "text": [
      "196it [02:53,  1.34it/s]"
     ]
    },
    {
     "name": "stdout",
     "output_type": "stream",
     "text": [
      "['39-45', '78', '46-51', '29-31', '96-99', '71-73', '79', '24-27']\n"
     ]
    },
    {
     "name": "stderr",
     "output_type": "stream",
     "text": [
      "197it [02:59,  1.05it/s]"
     ]
    },
    {
     "name": "stdout",
     "output_type": "stream",
     "text": [
      "['21-23', '46-51', '79']\n"
     ]
    },
    {
     "name": "stderr",
     "output_type": "stream",
     "text": [
      "200it [03:06,  1.07it/s]"
     ]
    },
    {
     "name": "stdout",
     "output_type": "stream",
     "text": [
      "['39-45', '24-27', '78', '29-31', '46-51']\n",
      "Number of rows : 24\n",
      "[['78', '74-75', '39-45'], ['24-27', '78', 'V50-V59', '46-51', '79', '58-62', '39-45', 'V40-V49', '29-31', 'V10-V19'], ['24-27', '71-73', '96-99', '46-51', '79', '58-62', 'V40-V49', '14-20', '29-31', 'V10-V19', '00-10'], ['24-27', '78', '32-35', '39-45', 'V10-V19'], ['78', '28', '52-57', '96-99', '58-62', 'V40-V49', '29-31', 'V10-V19', '00-10'], ['46-51', '71-73', '39-45'], ['80-83', '28', '84-95'], ['V40-V49', '39-45'], ['21-23', '14-20', '39-45'], ['24-27', '71-73', '52-57', '58-62', '39-45', 'V40-V49', 'V10-V19'], ['24-27', '46-51', '32-35', '39-45'], ['24-27', '52-57', '39-45'], ['24-27', 'V10-V19', '58-62', '39-45'], ['V50-V59', '28', '32-35', '39-45'], ['24-27', '78', 'V50-V59', '96-99', '46-51', '39-45', '21-23', 'V10-V19'], ['24-27', '28', '71-73', '46-51', '39-45', 'V10-V19'], ['24-27', '39-45'], ['24-27', '28', '71-73', '96-99', '58-62', '32-35', '39-45', 'V10-V19'], ['24-27', '28', '39-45'], ['28', '78', '39-45', '14-20', 'V10-V19'], ['24-27', '78', '28', '96-99', '46-51', '58-62', '39-45', '00-10'], ['24-27', '46-51', '58-62', '39-45', 'V10-V19'], ['52-57', '46-51', 'V10-V19', '39-45'], ['24-27', '28', '39-45', 'V40-V49']]\n",
      "[['78', '74-75', '39-45'], ['24-27', '78', '28', '11-13', '39-45'], ['78', '28', '96-99', '46-51', '79', '39-45'], ['80-83', '78', '32-35', '39-45', '21-23'], ['24-27', '78', '11-13', '52-57', '39-45'], ['24-27', '28', '78', '96-99', '46-51', '39-45'], ['80-83', '78', '52-57', '58-62', '21-23', '29-31', '72-73'], ['24-27', '78', '28', '46-51', '39-45'], ['174-175', '394-398', '39-45'], ['24-27', '78', '46-51', '39-45', '29-31'], ['24-27', '78', '96-99', '46-51', '39-45'], ['24-27', '46-51', '39-45', 'V60-V69', 'V10-V19'], ['24-27', '78', '52-57', '46-51', '68-70', '39-45', '14-20', '29-31'], ['24-27', '78', '46-51', '39-45', '21-23', '29-31'], ['24-27', '78', '79', '39-45', '21-23', '14-20'], ['24-27', '78', '46-51', '79', '39-45', 'V40-V49', 'V10-V19'], ['24-27', '28', '46-51', '79', '39-45', '14-20'], ['78', '96-99', '46-51', '58-62', '39-45'], ['24-27', '78', '28', '46-51', '32-35', '39-45'], ['28', '78', '46-51', '79', '39-45'], ['24-27', '28', '78', '96-99', '46-51', '39-45', 'V40-V49', '14-20', 'V10-V19'], ['24-27', '78', '71-73', '96-99', '46-51', '79', '39-45', '29-31'], ['21-23', '46-51', '79'], ['24-27', '78', '46-51', '39-45', '29-31']]\n",
      "Macro Averaged AUROC Score: 0.5862140504330619\n",
      "Micro Averaged Precision: 0.4580152671755725\n",
      "Micro Averaged Recall: 0.4838709677419355\n",
      "Micro Averaged F1-Score: 0.47058823529411764\n",
      "Macro Averaged Precision: 0.1790889322236071\n",
      "Macro Averaged Recall: 0.2150480367585631\n",
      "Macro Averaged F1-Score: 0.17859963190568284\n"
     ]
    },
    {
     "name": "stderr",
     "output_type": "stream",
     "text": [
      "\n"
     ]
    }
   ],
   "source": [
    "metrics_calc(type = 'three symptoms',method='rag', model_name= 'groq')"
   ]
  },
  {
   "cell_type": "code",
   "execution_count": 1122,
   "metadata": {},
   "outputs": [
    {
     "name": "stderr",
     "output_type": "stream",
     "text": [
      "1it [00:01,  1.02s/it]"
     ]
    },
    {
     "name": "stdout",
     "output_type": "stream",
     "text": [
      "['58-62', '52-57', '46-51', '24-27', '21-23', '14-20']\n"
     ]
    },
    {
     "name": "stderr",
     "output_type": "stream",
     "text": [
      "3it [00:01,  1.84it/s]"
     ]
    },
    {
     "name": "stdout",
     "output_type": "stream",
     "text": [
      "['46-51', '24-27', '78', '39-45', '68-70']\n"
     ]
    },
    {
     "name": "stderr",
     "output_type": "stream",
     "text": [
      "5it [00:02,  2.13it/s]"
     ]
    },
    {
     "name": "stdout",
     "output_type": "stream",
     "text": [
      "['52-57', '11-13', '78', '36-38', '46-51', '24-27']\n"
     ]
    },
    {
     "name": "stderr",
     "output_type": "stream",
     "text": [
      "6it [00:03,  1.89it/s]"
     ]
    },
    {
     "name": "stdout",
     "output_type": "stream",
     "text": [
      "['46-51', '39-45', '24-27', '78', '32-35']\n"
     ]
    },
    {
     "name": "stderr",
     "output_type": "stream",
     "text": [
      "7it [00:04,  1.65it/s]"
     ]
    },
    {
     "name": "stdout",
     "output_type": "stream",
     "text": [
      "['78', '46-51', '39-45', '52-57', '24-27', '32-35']\n"
     ]
    },
    {
     "name": "stderr",
     "output_type": "stream",
     "text": [
      "8it [00:14,  3.39s/it]"
     ]
    },
    {
     "name": "stdout",
     "output_type": "stream",
     "text": [
      "['78', '32-35', '39-45', '46-51', '52-57', '71-73', '24-27', '29-31', '84-95']\n"
     ]
    },
    {
     "name": "stderr",
     "output_type": "stream",
     "text": [
      "11it [00:26,  3.79s/it]"
     ]
    },
    {
     "name": "stdout",
     "output_type": "stream",
     "text": [
      "['39-45', '52-57', '78', '24-27', '46-51', '36-38']\n"
     ]
    },
    {
     "name": "stderr",
     "output_type": "stream",
     "text": [
      "12it [00:45,  6.83s/it]"
     ]
    },
    {
     "name": "stdout",
     "output_type": "stream",
     "text": [
      "['39-45', '46-51', '24-27', '32-35']\n"
     ]
    },
    {
     "name": "stderr",
     "output_type": "stream",
     "text": [
      "13it [00:52,  7.01s/it]"
     ]
    },
    {
     "name": "stdout",
     "output_type": "stream",
     "text": [
      "['00-10', '11-13', '21-23', '24-27', '39-45', '52-57', '58-62', '68-70', '78']\n"
     ]
    },
    {
     "name": "stderr",
     "output_type": "stream",
     "text": [
      "16it [01:05,  5.56s/it]"
     ]
    },
    {
     "name": "stdout",
     "output_type": "stream",
     "text": [
      "['00-10', '46-51', '52-57', '58-62', '24-27', '78']\n"
     ]
    },
    {
     "name": "stderr",
     "output_type": "stream",
     "text": [
      "17it [01:18,  7.00s/it]"
     ]
    },
    {
     "name": "stdout",
     "output_type": "stream",
     "text": [
      "['32-35', '39-45', '52-57', '68-70', '78']\n"
     ]
    },
    {
     "name": "stderr",
     "output_type": "stream",
     "text": [
      "18it [01:29,  7.89s/it]"
     ]
    },
    {
     "name": "stdout",
     "output_type": "stream",
     "text": [
      "['46-51', '39-45', '52-57', '24-27', '78']\n"
     ]
    },
    {
     "name": "stderr",
     "output_type": "stream",
     "text": [
      "19it [01:54, 11.85s/it]"
     ]
    },
    {
     "name": "stdout",
     "output_type": "stream",
     "text": [
      "['46-51', '24-27', '78', '79']\n"
     ]
    },
    {
     "name": "stderr",
     "output_type": "stream",
     "text": [
      "20it [01:55,  9.08s/it]"
     ]
    },
    {
     "name": "stdout",
     "output_type": "stream",
     "text": [
      "['39-45', '32-35', '78', '79', '84-95']\n"
     ]
    },
    {
     "name": "stderr",
     "output_type": "stream",
     "text": [
      "21it [02:07,  9.92s/it]"
     ]
    },
    {
     "name": "stdout",
     "output_type": "stream",
     "text": [
      "['39-45', '46-51', '24-27', '32-35', '78']\n"
     ]
    },
    {
     "name": "stderr",
     "output_type": "stream",
     "text": [
      "22it [02:20, 10.79s/it]"
     ]
    },
    {
     "name": "stdout",
     "output_type": "stream",
     "text": [
      "['68-70', '71-73', '24-27', '78', '52-57', '39-45', '00-10']\n"
     ]
    },
    {
     "name": "stderr",
     "output_type": "stream",
     "text": [
      "23it [02:32, 11.17s/it]"
     ]
    },
    {
     "name": "stdout",
     "output_type": "stream",
     "text": [
      "['71-73', '39-45', '24-27', '78', '84-95']\n"
     ]
    },
    {
     "name": "stderr",
     "output_type": "stream",
     "text": [
      "24it [02:44, 11.51s/it]"
     ]
    },
    {
     "name": "stdout",
     "output_type": "stream",
     "text": [
      "['24-27', '39-45', '46-51', '52-57', '58-62', '71-73', '78']\n"
     ]
    },
    {
     "name": "stderr",
     "output_type": "stream",
     "text": [
      "25it [02:56, 11.45s/it]"
     ]
    },
    {
     "name": "stdout",
     "output_type": "stream",
     "text": [
      "['32-35', '71-73', '78', '24-27']\n"
     ]
    },
    {
     "name": "stderr",
     "output_type": "stream",
     "text": [
      "26it [03:08, 11.68s/it]"
     ]
    },
    {
     "name": "stdout",
     "output_type": "stream",
     "text": [
      "['39-45', '24-27', '78', '32-35']\n"
     ]
    },
    {
     "name": "stderr",
     "output_type": "stream",
     "text": [
      "28it [03:20,  9.16s/it]"
     ]
    },
    {
     "name": "stdout",
     "output_type": "stream",
     "text": [
      "['39-45', '46-51', '52-57', '78', '24-27']\n"
     ]
    },
    {
     "name": "stderr",
     "output_type": "stream",
     "text": [
      "30it [03:33,  7.97s/it]"
     ]
    },
    {
     "name": "stdout",
     "output_type": "stream",
     "text": [
      "['39-45', '46-51', '78', '24-27', '36-38', '79']\n"
     ]
    },
    {
     "name": "stderr",
     "output_type": "stream",
     "text": [
      "33it [03:44,  6.06s/it]"
     ]
    },
    {
     "name": "stdout",
     "output_type": "stream",
     "text": [
      "['52-57', '78', '24-27']\n"
     ]
    },
    {
     "name": "stderr",
     "output_type": "stream",
     "text": [
      "34it [03:56,  7.18s/it]"
     ]
    },
    {
     "name": "stdout",
     "output_type": "stream",
     "text": [
      "['32-35', '78', '52-57', '14-20', '79']\n"
     ]
    },
    {
     "name": "stderr",
     "output_type": "stream",
     "text": [
      "35it [04:09,  8.25s/it]"
     ]
    },
    {
     "name": "stdout",
     "output_type": "stream",
     "text": [
      "['46-51', '52-57', '58-62', '68-70', '39-45', '24-27', '78']\n"
     ]
    },
    {
     "name": "stderr",
     "output_type": "stream",
     "text": [
      "36it [04:20,  8.96s/it]"
     ]
    },
    {
     "name": "stdout",
     "output_type": "stream",
     "text": [
      "['46-51', '29-31', '24-27', '78', '00-10']\n"
     ]
    },
    {
     "name": "stderr",
     "output_type": "stream",
     "text": [
      "37it [04:33,  9.92s/it]"
     ]
    },
    {
     "name": "stdout",
     "output_type": "stream",
     "text": [
      "['78', '32-35', '39-45', '46-51', '71-73']\n"
     ]
    },
    {
     "name": "stderr",
     "output_type": "stream",
     "text": [
      "38it [04:46, 10.65s/it]"
     ]
    },
    {
     "name": "stdout",
     "output_type": "stream",
     "text": [
      "['32-35', '78', '46-51', '52-57', '29-31', '24-27', '39-45']\n"
     ]
    },
    {
     "name": "stderr",
     "output_type": "stream",
     "text": [
      "39it [04:57, 10.78s/it]"
     ]
    },
    {
     "name": "stdout",
     "output_type": "stream",
     "text": [
      "['46-51', '24-27', '39-45', '52-57', '78']\n"
     ]
    },
    {
     "name": "stderr",
     "output_type": "stream",
     "text": [
      "40it [05:10, 11.43s/it]"
     ]
    },
    {
     "name": "stdout",
     "output_type": "stream",
     "text": [
      "['39-45', '46-51', '58-62', '21-23', '78', '79']\n"
     ]
    },
    {
     "name": "stderr",
     "output_type": "stream",
     "text": [
      "41it [05:22, 11.62s/it]"
     ]
    },
    {
     "name": "stdout",
     "output_type": "stream",
     "text": [
      "['39-45', '46-51', '52-57', '24-27', '78', '79']\n"
     ]
    },
    {
     "name": "stderr",
     "output_type": "stream",
     "text": [
      "43it [05:34,  9.13s/it]"
     ]
    },
    {
     "name": "stdout",
     "output_type": "stream",
     "text": [
      "['28', '39-45', '52-57', '63-66', '78', '24-27', '46-51']\n"
     ]
    },
    {
     "name": "stderr",
     "output_type": "stream",
     "text": [
      "45it [05:46,  7.93s/it]"
     ]
    },
    {
     "name": "stdout",
     "output_type": "stream",
     "text": [
      "['58-62', '52-57', '39-45', '29-31', '24-27']\n"
     ]
    },
    {
     "name": "stderr",
     "output_type": "stream",
     "text": [
      "46it [05:58,  8.82s/it]"
     ]
    },
    {
     "name": "stdout",
     "output_type": "stream",
     "text": [
      "['39-45', '46-51', '29-31', '78', '24-27']\n"
     ]
    },
    {
     "name": "stderr",
     "output_type": "stream",
     "text": [
      "48it [06:11,  7.77s/it]"
     ]
    },
    {
     "name": "stdout",
     "output_type": "stream",
     "text": [
      "['39-45', '52-57', '46-51', '24-27', '78']\n"
     ]
    },
    {
     "name": "stderr",
     "output_type": "stream",
     "text": [
      "50it [06:23,  7.16s/it]"
     ]
    },
    {
     "name": "stdout",
     "output_type": "stream",
     "text": [
      "['78', '32-35', '39-45', '46-51', '71-73', '84-95']\n"
     ]
    },
    {
     "name": "stderr",
     "output_type": "stream",
     "text": [
      "54it [06:35,  5.10s/it]"
     ]
    },
    {
     "name": "stdout",
     "output_type": "stream",
     "text": [
      "['32-35', '52-57', '78', '79', '84-95', '96-99']\n"
     ]
    },
    {
     "name": "stderr",
     "output_type": "stream",
     "text": [
      "56it [06:47,  5.40s/it]"
     ]
    },
    {
     "name": "stdout",
     "output_type": "stream",
     "text": [
      "['52-57', '58-62', '39-45', '24-27', '78', '36-38', '11-13', '00-10']\n"
     ]
    },
    {
     "name": "stderr",
     "output_type": "stream",
     "text": [
      "57it [07:00,  6.59s/it]"
     ]
    },
    {
     "name": "stdout",
     "output_type": "stream",
     "text": [
      "['24-27', '29-31', '32-35', '39-45', '46-51', '52-57', '58-62', '78']\n"
     ]
    },
    {
     "name": "stderr",
     "output_type": "stream",
     "text": [
      "58it [07:12,  7.63s/it]"
     ]
    },
    {
     "name": "stdout",
     "output_type": "stream",
     "text": [
      "['46-51', '71-73', '39-45', '78']\n"
     ]
    },
    {
     "name": "stderr",
     "output_type": "stream",
     "text": [
      "59it [07:25,  8.61s/it]"
     ]
    },
    {
     "name": "stdout",
     "output_type": "stream",
     "text": [
      "['00-10', '11-13', '52-57', '58-62', '63-66', '78', '24-27', '39-45', '71-73']\n"
     ]
    },
    {
     "name": "stderr",
     "output_type": "stream",
     "text": [
      "60it [07:37,  9.46s/it]"
     ]
    },
    {
     "name": "stdout",
     "output_type": "stream",
     "text": [
      "['78', '71-73', '52-57', '24-27', '46-51', '39-45', '32-35', '58-62']\n"
     ]
    },
    {
     "name": "stderr",
     "output_type": "stream",
     "text": [
      "64it [07:49,  5.83s/it]"
     ]
    },
    {
     "name": "stdout",
     "output_type": "stream",
     "text": [
      "['39-45', '46-51', '71-73', '78', '32-35']\n"
     ]
    },
    {
     "name": "stderr",
     "output_type": "stream",
     "text": [
      "65it [08:02,  6.90s/it]"
     ]
    },
    {
     "name": "stdout",
     "output_type": "stream",
     "text": [
      "['39-45', '46-51', '24-27', '78', '79']\n"
     ]
    },
    {
     "name": "stderr",
     "output_type": "stream",
     "text": [
      "66it [08:14,  7.93s/it]"
     ]
    },
    {
     "name": "stdout",
     "output_type": "stream",
     "text": [
      "['78', '29-31', '32-35', '24-27']\n"
     ]
    },
    {
     "name": "stderr",
     "output_type": "stream",
     "text": [
      "67it [08:25,  8.64s/it]"
     ]
    },
    {
     "name": "stdout",
     "output_type": "stream",
     "text": [
      "['39-45', '46-51', '52-57', '24-27', '78']\n"
     ]
    },
    {
     "name": "stderr",
     "output_type": "stream",
     "text": [
      "68it [08:37,  9.51s/it]"
     ]
    },
    {
     "name": "stdout",
     "output_type": "stream",
     "text": [
      "['29-31', '24-27', '52-57', '80-83', '96-99']\n"
     ]
    },
    {
     "name": "stderr",
     "output_type": "stream",
     "text": [
      "69it [08:50, 10.27s/it]"
     ]
    },
    {
     "name": "stdout",
     "output_type": "stream",
     "text": [
      "['32-35', '39-45', '46-51', '52-57', '58-62', '78', '79', '84-95']\n"
     ]
    },
    {
     "name": "stderr",
     "output_type": "stream",
     "text": [
      "72it [09:03,  7.23s/it]"
     ]
    },
    {
     "name": "stdout",
     "output_type": "stream",
     "text": [
      "['52-57', '24-27', '78', '39-45', '21-23', '46-51', '58-62', '63-66', '29-31']\n"
     ]
    },
    {
     "name": "stderr",
     "output_type": "stream",
     "text": [
      "73it [09:15,  8.22s/it]"
     ]
    },
    {
     "name": "stdout",
     "output_type": "stream",
     "text": [
      "['52-57', '39-45', '78', '46-51', '24-27']\n"
     ]
    },
    {
     "name": "stderr",
     "output_type": "stream",
     "text": [
      "74it [09:26,  8.86s/it]"
     ]
    },
    {
     "name": "stdout",
     "output_type": "stream",
     "text": [
      "['52-57', '58-62', '11-13', '24-27', '78']\n"
     ]
    },
    {
     "name": "stderr",
     "output_type": "stream",
     "text": [
      "76it [09:39,  7.79s/it]"
     ]
    },
    {
     "name": "stdout",
     "output_type": "stream",
     "text": [
      "['39-45', '46-51', '78']\n"
     ]
    },
    {
     "name": "stderr",
     "output_type": "stream",
     "text": [
      "77it [09:52,  8.97s/it]"
     ]
    },
    {
     "name": "stdout",
     "output_type": "stream",
     "text": [
      "['24-27', '39-45', '46-51', '58-62', '78']\n"
     ]
    },
    {
     "name": "stderr",
     "output_type": "stream",
     "text": [
      "78it [10:04,  9.70s/it]"
     ]
    },
    {
     "name": "stdout",
     "output_type": "stream",
     "text": [
      "['39-45', '24-27', '32-35', '29-31', '78']\n"
     ]
    },
    {
     "name": "stderr",
     "output_type": "stream",
     "text": [
      "80it [10:16,  8.31s/it]"
     ]
    },
    {
     "name": "stdout",
     "output_type": "stream",
     "text": [
      "['24-27', '39-45', '52-57', '58-62', '78']\n"
     ]
    },
    {
     "name": "stderr",
     "output_type": "stream",
     "text": [
      "82it [10:29,  7.53s/it]"
     ]
    },
    {
     "name": "stdout",
     "output_type": "stream",
     "text": [
      "['46-51', '39-45', '71-73', '78', '24-27']\n"
     ]
    },
    {
     "name": "stderr",
     "output_type": "stream",
     "text": [
      "83it [10:40,  8.30s/it]"
     ]
    },
    {
     "name": "stdout",
     "output_type": "stream",
     "text": [
      "['46-51', '39-45', '24-27', '78']\n"
     ]
    },
    {
     "name": "stderr",
     "output_type": "stream",
     "text": [
      "84it [10:53,  9.27s/it]"
     ]
    },
    {
     "name": "stdout",
     "output_type": "stream",
     "text": [
      "['46-51', '24-27', '78', '29-31', '32-35']\n"
     ]
    },
    {
     "name": "stderr",
     "output_type": "stream",
     "text": [
      "85it [11:05, 10.04s/it]"
     ]
    },
    {
     "name": "stdout",
     "output_type": "stream",
     "text": [
      "['46-51', '78', '36-38', '24-27', '79']\n"
     ]
    },
    {
     "name": "stderr",
     "output_type": "stream",
     "text": [
      "86it [11:17, 10.61s/it]"
     ]
    },
    {
     "name": "stdout",
     "output_type": "stream",
     "text": [
      "['32-35', '39-45', '78', '29-31']\n"
     ]
    },
    {
     "name": "stderr",
     "output_type": "stream",
     "text": [
      "88it [11:29,  8.70s/it]"
     ]
    },
    {
     "name": "stdout",
     "output_type": "stream",
     "text": [
      "['32-35', '58-62', '29-31', '24-27', '68-70', '80-83']\n"
     ]
    },
    {
     "name": "stderr",
     "output_type": "stream",
     "text": [
      "89it [11:42,  9.51s/it]"
     ]
    },
    {
     "name": "stdout",
     "output_type": "stream",
     "text": [
      "['32-35', '39-45', '46-51', '58-62', '78']\n"
     ]
    },
    {
     "name": "stderr",
     "output_type": "stream",
     "text": [
      "91it [11:54,  8.20s/it]"
     ]
    },
    {
     "name": "stdout",
     "output_type": "stream",
     "text": [
      "['78', '46-51', '39-45', '24-27', '36-38', '58-62', '32-35', '79', '84-95']\n"
     ]
    },
    {
     "name": "stderr",
     "output_type": "stream",
     "text": [
      "92it [12:06,  9.08s/it]"
     ]
    },
    {
     "name": "stdout",
     "output_type": "stream",
     "text": [
      "['32-35', '24-27', '39-45', '46-51', '78', '84-95', '96-99']\n"
     ]
    },
    {
     "name": "stderr",
     "output_type": "stream",
     "text": [
      "93it [12:19,  9.99s/it]"
     ]
    },
    {
     "name": "stdout",
     "output_type": "stream",
     "text": [
      "['39-45', '46-51', '78', '24-27']\n"
     ]
    },
    {
     "name": "stderr",
     "output_type": "stream",
     "text": [
      "96it [12:30,  6.79s/it]"
     ]
    },
    {
     "name": "stdout",
     "output_type": "stream",
     "text": [
      "['52-57', '24-27', '46-51', '78', '39-45']\n"
     ]
    },
    {
     "name": "stderr",
     "output_type": "stream",
     "text": [
      "97it [12:43,  8.02s/it]"
     ]
    },
    {
     "name": "stdout",
     "output_type": "stream",
     "text": [
      "['80-83', '46-51', '39-45', '84-95']\n"
     ]
    },
    {
     "name": "stderr",
     "output_type": "stream",
     "text": [
      "98it [12:55,  8.91s/it]"
     ]
    },
    {
     "name": "stdout",
     "output_type": "stream",
     "text": [
      "['39-45', '46-51', '24-27', '78', '79']\n"
     ]
    },
    {
     "name": "stderr",
     "output_type": "stream",
     "text": [
      "99it [13:08,  9.69s/it]"
     ]
    },
    {
     "name": "stdout",
     "output_type": "stream",
     "text": [
      "['39-45', '46-51', '24-27', '52-57', '28', '36-38']\n"
     ]
    },
    {
     "name": "stderr",
     "output_type": "stream",
     "text": [
      "100it [13:21, 10.55s/it]"
     ]
    },
    {
     "name": "stdout",
     "output_type": "stream",
     "text": [
      "['39-45', '46-51', '52-57', '78', '24-27']\n"
     ]
    },
    {
     "name": "stderr",
     "output_type": "stream",
     "text": [
      "101it [13:33, 10.99s/it]"
     ]
    },
    {
     "name": "stdout",
     "output_type": "stream",
     "text": [
      "['68-70', '71-73', '24-27', '39-45', '52-57', '58-62', '78', '79']\n"
     ]
    },
    {
     "name": "stderr",
     "output_type": "stream",
     "text": [
      "102it [13:45, 11.33s/it]"
     ]
    },
    {
     "name": "stdout",
     "output_type": "stream",
     "text": [
      "['39-45', '46-51', '24-27']\n"
     ]
    },
    {
     "name": "stderr",
     "output_type": "stream",
     "text": [
      "103it [13:58, 11.85s/it]"
     ]
    },
    {
     "name": "stdout",
     "output_type": "stream",
     "text": [
      "['46-51', '52-57', '39-45', '58-62', '24-27', '78']\n"
     ]
    },
    {
     "name": "stderr",
     "output_type": "stream",
     "text": [
      "104it [14:10, 11.70s/it]"
     ]
    },
    {
     "name": "stdout",
     "output_type": "stream",
     "text": [
      "['78', '46-51', '52-57', '24-27', '39-45', '58-62']\n"
     ]
    },
    {
     "name": "stderr",
     "output_type": "stream",
     "text": [
      "105it [14:21, 11.57s/it]"
     ]
    },
    {
     "name": "stdout",
     "output_type": "stream",
     "text": [
      "['78', '52-57', '24-27', '39-45', '58-62', '63-66']\n"
     ]
    },
    {
     "name": "stderr",
     "output_type": "stream",
     "text": [
      "106it [14:33, 11.78s/it]"
     ]
    },
    {
     "name": "stdout",
     "output_type": "stream",
     "text": [
      "['46-51', '78', '39-45']\n"
     ]
    },
    {
     "name": "stderr",
     "output_type": "stream",
     "text": [
      "107it [14:45, 11.95s/it]"
     ]
    },
    {
     "name": "stdout",
     "output_type": "stream",
     "text": [
      "['46-51', '52-57', '29-31', '78', '39-45', '00-10']\n"
     ]
    },
    {
     "name": "stderr",
     "output_type": "stream",
     "text": [
      "108it [14:58, 12.08s/it]"
     ]
    },
    {
     "name": "stdout",
     "output_type": "stream",
     "text": [
      "['46-51', '78', '39-45', '29-31', '36-38', '79']\n"
     ]
    },
    {
     "name": "stderr",
     "output_type": "stream",
     "text": [
      "110it [15:10,  9.40s/it]"
     ]
    },
    {
     "name": "stdout",
     "output_type": "stream",
     "text": [
      "['46-51', '39-45', '78']\n"
     ]
    },
    {
     "name": "stderr",
     "output_type": "stream",
     "text": [
      "111it [15:23, 10.18s/it]"
     ]
    },
    {
     "name": "stdout",
     "output_type": "stream",
     "text": [
      "['46-51', '29-31', '32-35', '00-10', '24-27', '39-45']\n"
     ]
    },
    {
     "name": "stderr",
     "output_type": "stream",
     "text": [
      "112it [15:34, 10.50s/it]"
     ]
    },
    {
     "name": "stdout",
     "output_type": "stream",
     "text": [
      "['46-51', '24-27', '78', '39-45']\n"
     ]
    },
    {
     "name": "stderr",
     "output_type": "stream",
     "text": [
      "113it [15:47, 10.97s/it]"
     ]
    },
    {
     "name": "stdout",
     "output_type": "stream",
     "text": [
      "['39-45', '78', '24-27', '46-51', '68-70', '80-83', '52-57', '36-38']\n"
     ]
    },
    {
     "name": "stderr",
     "output_type": "stream",
     "text": [
      "115it [15:59,  8.88s/it]"
     ]
    },
    {
     "name": "stdout",
     "output_type": "stream",
     "text": [
      "['39-45', '46-51', '32-35', '78', '24-27']\n"
     ]
    },
    {
     "name": "stderr",
     "output_type": "stream",
     "text": [
      "116it [16:11,  9.65s/it]"
     ]
    },
    {
     "name": "stdout",
     "output_type": "stream",
     "text": [
      "['46-51', '39-45', '24-27', '78', '79']\n"
     ]
    },
    {
     "name": "stderr",
     "output_type": "stream",
     "text": [
      "117it [16:23, 10.29s/it]"
     ]
    },
    {
     "name": "stdout",
     "output_type": "stream",
     "text": [
      "['52-57', '36-38', '11-13', '78', '24-27', '96-99']\n"
     ]
    },
    {
     "name": "stderr",
     "output_type": "stream",
     "text": [
      "119it [16:36,  8.63s/it]"
     ]
    },
    {
     "name": "stdout",
     "output_type": "stream",
     "text": [
      "['39-45', '46-51', '32-35', '78', '24-27']\n"
     ]
    },
    {
     "name": "stderr",
     "output_type": "stream",
     "text": [
      "120it [16:48,  9.43s/it]"
     ]
    },
    {
     "name": "stdout",
     "output_type": "stream",
     "text": [
      "['39-45', '24-27', '78', '46-51', '32-35']\n"
     ]
    },
    {
     "name": "stderr",
     "output_type": "stream",
     "text": [
      "121it [17:00, 10.10s/it]"
     ]
    },
    {
     "name": "stdout",
     "output_type": "stream",
     "text": [
      "['32-35', '39-45', '78', '84-95']\n"
     ]
    },
    {
     "name": "stderr",
     "output_type": "stream",
     "text": [
      "122it [17:12, 10.63s/it]"
     ]
    },
    {
     "name": "stdout",
     "output_type": "stream",
     "text": [
      "['52-57', '39-45', '58-62', '24-27', '46-51', '78']\n"
     ]
    },
    {
     "name": "stderr",
     "output_type": "stream",
     "text": [
      "123it [17:26, 11.39s/it]"
     ]
    },
    {
     "name": "stdout",
     "output_type": "stream",
     "text": [
      "['78', '46-51', '39-45', '68-70', '71-73', '84-95']\n"
     ]
    },
    {
     "name": "stderr",
     "output_type": "stream",
     "text": [
      "124it [17:39, 11.86s/it]"
     ]
    },
    {
     "name": "stdout",
     "output_type": "stream",
     "text": [
      "['46-51', '28', '78', '24-27', '39-45']\n"
     ]
    },
    {
     "name": "stderr",
     "output_type": "stream",
     "text": [
      "125it [17:50, 11.77s/it]"
     ]
    },
    {
     "name": "stdout",
     "output_type": "stream",
     "text": [
      "['39-45', '78', '52-57', '80-83', '24-27', '79']\n"
     ]
    },
    {
     "name": "stderr",
     "output_type": "stream",
     "text": [
      "126it [18:02, 11.64s/it]"
     ]
    },
    {
     "name": "stdout",
     "output_type": "stream",
     "text": [
      "['78', '32-35', '39-45', '24-27', '46-51', '79', '84-95', '96-99']\n"
     ]
    },
    {
     "name": "stderr",
     "output_type": "stream",
     "text": [
      "127it [18:14, 11.86s/it]"
     ]
    },
    {
     "name": "stdout",
     "output_type": "stream",
     "text": [
      "['39-45', '68-70', '58-62', '24-27', '78', '46-51']\n"
     ]
    },
    {
     "name": "stderr",
     "output_type": "stream",
     "text": [
      "128it [18:28, 12.50s/it]"
     ]
    },
    {
     "name": "stdout",
     "output_type": "stream",
     "text": [
      "['32-35', '78', '79', '46-51', '39-45', '84-95']\n"
     ]
    },
    {
     "name": "stderr",
     "output_type": "stream",
     "text": [
      "129it [18:41, 12.69s/it]"
     ]
    },
    {
     "name": "stdout",
     "output_type": "stream",
     "text": [
      "['39-45', '46-51', '52-57', '24-27', '78', '79']\n"
     ]
    },
    {
     "name": "stderr",
     "output_type": "stream",
     "text": [
      "130it [18:53, 12.37s/it]"
     ]
    },
    {
     "name": "stdout",
     "output_type": "stream",
     "text": [
      "['52-57', '39-45', '78', '58-62', '24-27', '68-70', '32-35', '46-51', '11-13']\n"
     ]
    },
    {
     "name": "stderr",
     "output_type": "stream",
     "text": [
      "131it [19:05, 12.38s/it]"
     ]
    },
    {
     "name": "stdout",
     "output_type": "stream",
     "text": [
      "['46-51', '32-35', '79', '24-27', '36-38', '39-45']\n"
     ]
    },
    {
     "name": "stderr",
     "output_type": "stream",
     "text": [
      "132it [19:18, 12.62s/it]"
     ]
    },
    {
     "name": "stdout",
     "output_type": "stream",
     "text": [
      "['46-51', '52-57', '24-27', '39-45', '78']\n"
     ]
    },
    {
     "name": "stderr",
     "output_type": "stream",
     "text": [
      "133it [19:30, 12.20s/it]"
     ]
    },
    {
     "name": "stdout",
     "output_type": "stream",
     "text": [
      "['46-51', '39-45', '78']\n"
     ]
    },
    {
     "name": "stderr",
     "output_type": "stream",
     "text": [
      "134it [19:42, 12.16s/it]"
     ]
    },
    {
     "name": "stdout",
     "output_type": "stream",
     "text": [
      "['46-51', '52-57', '24-27', '39-45', '78']\n"
     ]
    },
    {
     "name": "stderr",
     "output_type": "stream",
     "text": [
      "136it [19:55,  9.66s/it]"
     ]
    },
    {
     "name": "stdout",
     "output_type": "stream",
     "text": [
      "['39-45', '46-51', '52-57', '78', '24-27', '32-35', '68-70']\n"
     ]
    },
    {
     "name": "stderr",
     "output_type": "stream",
     "text": [
      "137it [20:07, 10.10s/it]"
     ]
    },
    {
     "name": "stdout",
     "output_type": "stream",
     "text": [
      "['78', '39-45', '52-57', '24-27', '36-38', '46-51', '29-31', '32-35']\n"
     ]
    },
    {
     "name": "stderr",
     "output_type": "stream",
     "text": [
      "140it [20:19,  6.98s/it]"
     ]
    },
    {
     "name": "stdout",
     "output_type": "stream",
     "text": [
      "['39-45', '46-51', '21-23', '78', '24-27', '32-35']\n"
     ]
    },
    {
     "name": "stderr",
     "output_type": "stream",
     "text": [
      "141it [20:31,  8.04s/it]"
     ]
    },
    {
     "name": "stdout",
     "output_type": "stream",
     "text": [
      "['52-57', '39-45', '58-62', '78', '24-27', '36-38']\n"
     ]
    },
    {
     "name": "stderr",
     "output_type": "stream",
     "text": [
      "142it [20:43,  8.98s/it]"
     ]
    },
    {
     "name": "stdout",
     "output_type": "stream",
     "text": [
      "['46-51', '39-45', '24-27', '78', '00-10']\n"
     ]
    },
    {
     "name": "stderr",
     "output_type": "stream",
     "text": [
      "143it [20:55,  9.73s/it]"
     ]
    },
    {
     "name": "stdout",
     "output_type": "stream",
     "text": [
      "['39-45', '46-51', '78', '79']\n"
     ]
    },
    {
     "name": "stderr",
     "output_type": "stream",
     "text": [
      "144it [21:08, 10.36s/it]"
     ]
    },
    {
     "name": "stdout",
     "output_type": "stream",
     "text": [
      "['39-45', '46-51', '24-27', '78', 'V88-V88']\n"
     ]
    },
    {
     "name": "stderr",
     "output_type": "stream",
     "text": [
      "145it [21:21, 11.11s/it]"
     ]
    },
    {
     "name": "stdout",
     "output_type": "stream",
     "text": [
      "['78', '80-83', '52-57', '32-35', '29-31', '58-62', '84-95']\n"
     ]
    },
    {
     "name": "stderr",
     "output_type": "stream",
     "text": [
      "146it [21:31, 10.85s/it]"
     ]
    },
    {
     "name": "stdout",
     "output_type": "stream",
     "text": [
      "['39-45', '46-51', '78', '24-27']\n"
     ]
    },
    {
     "name": "stderr",
     "output_type": "stream",
     "text": [
      "147it [21:45, 11.70s/it]"
     ]
    },
    {
     "name": "stdout",
     "output_type": "stream",
     "text": [
      "['46-51', '39-45', '78', '24-27', '79']\n"
     ]
    },
    {
     "name": "stderr",
     "output_type": "stream",
     "text": [
      "148it [21:57, 11.68s/it]"
     ]
    },
    {
     "name": "stdout",
     "output_type": "stream",
     "text": [
      "['71-73', '46-51', '80-83', '39-45', '29-31', '32-35', '84-95']\n"
     ]
    },
    {
     "name": "stderr",
     "output_type": "stream",
     "text": [
      "149it [22:11, 12.47s/it]"
     ]
    },
    {
     "name": "stdout",
     "output_type": "stream",
     "text": [
      "['24-27', '39-45', '46-51', '68-70', '71-73', '78', '80-83']\n"
     ]
    },
    {
     "name": "stderr",
     "output_type": "stream",
     "text": [
      "150it [22:23, 12.41s/it]"
     ]
    },
    {
     "name": "stdout",
     "output_type": "stream",
     "text": [
      "['52-57', '39-45', '24-27', '78', '58-62', '46-51']\n"
     ]
    },
    {
     "name": "stderr",
     "output_type": "stream",
     "text": [
      "151it [22:36, 12.40s/it]"
     ]
    },
    {
     "name": "stdout",
     "output_type": "stream",
     "text": [
      "['39-45', '46-51', '78', '24-27', '79']\n"
     ]
    },
    {
     "name": "stderr",
     "output_type": "stream",
     "text": [
      "153it [22:48,  9.52s/it]"
     ]
    },
    {
     "name": "stdout",
     "output_type": "stream",
     "text": [
      "['78', '29-31', '32-35', '58-62', '24-27']\n"
     ]
    },
    {
     "name": "stderr",
     "output_type": "stream",
     "text": [
      "154it [23:00, 10.21s/it]"
     ]
    },
    {
     "name": "stdout",
     "output_type": "stream",
     "text": [
      "['52-57', '39-45', '46-51', '24-27', '36-38', '58-62']\n"
     ]
    },
    {
     "name": "stderr",
     "output_type": "stream",
     "text": [
      "155it [23:12, 10.76s/it]"
     ]
    },
    {
     "name": "stdout",
     "output_type": "stream",
     "text": [
      "['78', '39-45', '46-51', '52-57', '32-35', '29-31', '00-10']\n"
     ]
    },
    {
     "name": "stderr",
     "output_type": "stream",
     "text": [
      "156it [23:26, 11.50s/it]"
     ]
    },
    {
     "name": "stdout",
     "output_type": "stream",
     "text": [
      "['68-70', '39-45', '24-27', '28', '46-51', '78', '11-13', '32-35']\n"
     ]
    },
    {
     "name": "stderr",
     "output_type": "stream",
     "text": [
      "157it [23:38, 11.69s/it]"
     ]
    },
    {
     "name": "stdout",
     "output_type": "stream",
     "text": [
      "['52-57', '78', '39-45', '24-27', '58-62', '46-51', '84-95']\n"
     ]
    },
    {
     "name": "stderr",
     "output_type": "stream",
     "text": [
      "158it [23:51, 12.06s/it]"
     ]
    },
    {
     "name": "stdout",
     "output_type": "stream",
     "text": [
      "['46-51', '52-57', '24-27', '39-45', '78']\n"
     ]
    },
    {
     "name": "stderr",
     "output_type": "stream",
     "text": [
      "160it [24:03,  9.36s/it]"
     ]
    },
    {
     "name": "stdout",
     "output_type": "stream",
     "text": [
      "['14-20', '21-23', '46-51', '58-62', '78']\n"
     ]
    },
    {
     "name": "stderr",
     "output_type": "stream",
     "text": [
      "161it [24:15, 10.06s/it]"
     ]
    },
    {
     "name": "stdout",
     "output_type": "stream",
     "text": [
      "['28', '52-57', '39-45', '24-27', 'V40-V49', '21-23', '58-62', '11-13', '14-20']\n"
     ]
    },
    {
     "name": "stderr",
     "output_type": "stream",
     "text": [
      "162it [24:28, 10.59s/it]"
     ]
    },
    {
     "name": "stdout",
     "output_type": "stream",
     "text": [
      "['32-35', '78', '39-45', '79', '29-31']\n"
     ]
    },
    {
     "name": "stderr",
     "output_type": "stream",
     "text": [
      "164it [24:41,  8.89s/it]"
     ]
    },
    {
     "name": "stdout",
     "output_type": "stream",
     "text": [
      "['39-45', '78', '46-51', '52-57', '24-27', '29-31', '32-35', '36-38']\n"
     ]
    },
    {
     "name": "stderr",
     "output_type": "stream",
     "text": [
      "165it [24:53,  9.57s/it]"
     ]
    },
    {
     "name": "stdout",
     "output_type": "stream",
     "text": [
      "['39-45', '46-51', '78', '96-99']\n"
     ]
    },
    {
     "name": "stderr",
     "output_type": "stream",
     "text": [
      "167it [25:06,  8.40s/it]"
     ]
    },
    {
     "name": "stdout",
     "output_type": "stream",
     "text": [
      "['39-45', '32-35', '71-73', '68-70', '78', '58-62', '46-51', '29-31', '24-27']\n"
     ]
    },
    {
     "name": "stderr",
     "output_type": "stream",
     "text": [
      "168it [25:18,  9.25s/it]"
     ]
    },
    {
     "name": "stdout",
     "output_type": "stream",
     "text": [
      "['52-57', '39-45', '24-27', '78', '29-31', '32-35', '14-20']\n"
     ]
    },
    {
     "name": "stderr",
     "output_type": "stream",
     "text": [
      "169it [25:30,  9.95s/it]"
     ]
    },
    {
     "name": "stdout",
     "output_type": "stream",
     "text": [
      "['58-62', '63-66', '67', '24-27', '78', '79']\n"
     ]
    },
    {
     "name": "stderr",
     "output_type": "stream",
     "text": [
      "170it [25:42, 10.53s/it]"
     ]
    },
    {
     "name": "stdout",
     "output_type": "stream",
     "text": [
      "['24-27', '29-31', '32-35', '39-45', '58-62', '78']\n"
     ]
    },
    {
     "name": "stderr",
     "output_type": "stream",
     "text": [
      "171it [25:55, 11.07s/it]"
     ]
    },
    {
     "name": "stdout",
     "output_type": "stream",
     "text": [
      "['39-45', '71-73', '24-27', '78', '46-51', '52-57', '58-62', '67', '63-66', '79']\n"
     ]
    },
    {
     "name": "stderr",
     "output_type": "stream",
     "text": [
      "172it [26:07, 11.42s/it]"
     ]
    },
    {
     "name": "stdout",
     "output_type": "stream",
     "text": [
      "['78', '52-57', '36-38', '24-27']\n"
     ]
    },
    {
     "name": "stderr",
     "output_type": "stream",
     "text": [
      "173it [26:21, 11.97s/it]"
     ]
    },
    {
     "name": "stdout",
     "output_type": "stream",
     "text": [
      "['00-10', '46-51', '78', '39-45', '24-27']\n"
     ]
    },
    {
     "name": "stderr",
     "output_type": "stream",
     "text": [
      "174it [26:34, 12.43s/it]"
     ]
    },
    {
     "name": "stdout",
     "output_type": "stream",
     "text": [
      "['39-45', '78', '32-35', '46-51', '52-57', '24-27', '84-95']\n"
     ]
    },
    {
     "name": "stderr",
     "output_type": "stream",
     "text": [
      "175it [26:45, 12.08s/it]"
     ]
    },
    {
     "name": "stdout",
     "output_type": "stream",
     "text": [
      "['46-51', '39-45', '78', '79']\n"
     ]
    },
    {
     "name": "stderr",
     "output_type": "stream",
     "text": [
      "176it [26:58, 12.14s/it]"
     ]
    },
    {
     "name": "stdout",
     "output_type": "stream",
     "text": [
      "['52-57', '36-38', '39-45', '24-27', '78', '46-51', '32-35', '79']\n"
     ]
    },
    {
     "name": "stderr",
     "output_type": "stream",
     "text": [
      "177it [27:10, 12.16s/it]"
     ]
    },
    {
     "name": "stdout",
     "output_type": "stream",
     "text": [
      "['39-45', '46-51', '78', '52-57', '24-27']\n"
     ]
    },
    {
     "name": "stderr",
     "output_type": "stream",
     "text": [
      "178it [27:22, 12.16s/it]"
     ]
    },
    {
     "name": "stdout",
     "output_type": "stream",
     "text": [
      "['52-57', '39-45', '28', '46-51', '24-27', '63-66', '58-62']\n"
     ]
    },
    {
     "name": "stderr",
     "output_type": "stream",
     "text": [
      "180it [27:34,  9.40s/it]"
     ]
    },
    {
     "name": "stdout",
     "output_type": "stream",
     "text": [
      "['39-45', '46-51', '24-27', '52-57', '58-62', '78', '79']\n"
     ]
    },
    {
     "name": "stderr",
     "output_type": "stream",
     "text": [
      "181it [27:47, 10.23s/it]"
     ]
    },
    {
     "name": "stdout",
     "output_type": "stream",
     "text": [
      "['46-51', '78', '68-70', '71-73']\n"
     ]
    },
    {
     "name": "stderr",
     "output_type": "stream",
     "text": [
      "182it [27:59, 10.53s/it]"
     ]
    },
    {
     "name": "stdout",
     "output_type": "stream",
     "text": [
      "['71-73', '78', '21-23', '39-45', '80-83', '58-62', '32-35', '29-31', 'V87-V87']\n"
     ]
    },
    {
     "name": "stderr",
     "output_type": "stream",
     "text": [
      "183it [28:12, 11.27s/it]"
     ]
    },
    {
     "name": "stdout",
     "output_type": "stream",
     "text": [
      "['32-35', '78', '29-31', '79', '71-73']\n"
     ]
    },
    {
     "name": "stderr",
     "output_type": "stream",
     "text": [
      "184it [28:24, 11.57s/it]"
     ]
    },
    {
     "name": "stdout",
     "output_type": "stream",
     "text": [
      "['78', '29-31', '52-57', '24-27', '39-45', '46-51', '68-70', '32-35']\n"
     ]
    },
    {
     "name": "stderr",
     "output_type": "stream",
     "text": [
      "185it [28:36, 11.78s/it]"
     ]
    },
    {
     "name": "stdout",
     "output_type": "stream",
     "text": [
      "['52-57', '39-45', '46-51', '24-27', '78']\n"
     ]
    },
    {
     "name": "stderr",
     "output_type": "stream",
     "text": [
      "186it [28:49, 11.93s/it]"
     ]
    },
    {
     "name": "stdout",
     "output_type": "stream",
     "text": [
      "['29-31', '39-45', '32-35', '78', '24-27']\n"
     ]
    },
    {
     "name": "stderr",
     "output_type": "stream",
     "text": [
      "187it [29:00, 11.75s/it]"
     ]
    },
    {
     "name": "stdout",
     "output_type": "stream",
     "text": [
      "['78', '46-51', '52-57', '21-23', '39-45', '00-10']\n"
     ]
    },
    {
     "name": "stderr",
     "output_type": "stream",
     "text": [
      "188it [29:12, 11.89s/it]"
     ]
    },
    {
     "name": "stdout",
     "output_type": "stream",
     "text": [
      "['52-57', '28', '46-51', '78', '79']\n"
     ]
    },
    {
     "name": "stderr",
     "output_type": "stream",
     "text": [
      "189it [29:26, 12.33s/it]"
     ]
    },
    {
     "name": "stdout",
     "output_type": "stream",
     "text": [
      "['32-35', '39-45', '78', '84-95', '96-99']\n"
     ]
    },
    {
     "name": "stderr",
     "output_type": "stream",
     "text": [
      "190it [29:37, 12.02s/it]"
     ]
    },
    {
     "name": "stdout",
     "output_type": "stream",
     "text": [
      "['46-51', '32-35', '78', '24-27', 'V88-V88', 'V40-V49']\n"
     ]
    },
    {
     "name": "stderr",
     "output_type": "stream",
     "text": [
      "193it [29:49,  7.57s/it]"
     ]
    },
    {
     "name": "stdout",
     "output_type": "stream",
     "text": [
      "['32-35', '39-45', '78', '24-27', '84-95']\n"
     ]
    },
    {
     "name": "stderr",
     "output_type": "stream",
     "text": [
      "194it [30:02,  8.68s/it]"
     ]
    },
    {
     "name": "stdout",
     "output_type": "stream",
     "text": [
      "['39-45', '46-51', '52-57', '24-27', '78']\n"
     ]
    },
    {
     "name": "stderr",
     "output_type": "stream",
     "text": [
      "199it [30:13,  4.83s/it]"
     ]
    },
    {
     "name": "stdout",
     "output_type": "stream",
     "text": [
      "['78', '32-35', '71-73', '39-45', '84-95']\n"
     ]
    },
    {
     "name": "stderr",
     "output_type": "stream",
     "text": [
      "200it [30:26,  5.92s/it]"
     ]
    },
    {
     "name": "stdout",
     "output_type": "stream",
     "text": [
      "['32-35', '78', '29-31', '24-27', '46-51', '39-45', '84-95']\n"
     ]
    },
    {
     "name": "stderr",
     "output_type": "stream",
     "text": [
      "200it [30:38,  9.19s/it]"
     ]
    },
    {
     "name": "stdout",
     "output_type": "stream",
     "text": [
      "['39-45', '46-51', '78', '24-27', '32-35']\n",
      "Number of rows : 154\n",
      "[['24-27', '14-20'], ['24-27', '52-57', '46-51', '74-75', '32-35', '39-45', 'V40-V49', '29-31'], ['28', '84-95', '52-57', '96-99', '46-51', '39-45', '00-10'], ['24-27', '28', '96-99', '52-57', '58-62', '39-45', '29-31'], ['24-27', '28', '78', '58-62', '39-45', 'V40-V49'], ['24-27', '78', '32-35', '39-45', '29-31'], ['78', '52-57', '96-99', '58-62', '29-31', '00-10'], ['24-27', '78', '46-51', '39-45', '00-10'], ['24-27', '78', '29-31', '39-45'], ['78', '96-99', '46-51', '39-45', '14-20', '00-10'], ['28', '11-13', '96-99', '46-51', '58-62', '39-45', '00-10'], ['24-27', '52-57', '46-51', '58-62', '39-45', '00-10'], ['46-51', '28', '58-62', '39-45'], ['32-35', '84-95'], ['24-27', '28', '11-13', '36-38', '39-45', '21-23'], ['24-27', '78', '71-73', '84-95', '96-99', '39-45'], ['24-27', '28', '71-73', '78', '96-99', '46-51', '79', '58-62', '68-70', '29-31'], ['24-27', '28', '78', '52-57', '46-51', '79', '58-62', '68-70', '39-45', '21-23', 'V10-V19'], ['24-27', '29-31', '39-45'], ['24-27', '39-45'], ['24-27', '71-73', '46-51', '68-70', '39-45', 'V01-V09'], ['24-27', '78', '84-95', '58-62', '39-45'], ['24-27', '78', '11-13', '52-57', '39-45'], ['V40-V49', 'V10-V19', '14-20', '71-73'], ['24-27', '78', '28', '52-57', '58-62', '39-45', 'V40-V49'], ['24-27', '78', '71-73', 'V50-V59', '84-95', '46-51', '79', '58-62', '32-35', '39-45', 'V40-V49', '21-23', '29-31', '00-10'], ['24-27', '78', '28', '84-95', '96-99', '36-38', '58-62', '32-35', '39-45', 'V40-V49', 'V10-V19', '00-10'], ['24-27', '28', '78', '52-57', '46-51', '79', '29-31'], ['24-27', '78', 'V50-V59', '11-13', '58-62', '32-35', '39-45', '14-20', '00-10'], ['24-27', 'V50-V59', '46-51', '79', '58-62', '39-45', '14-20'], ['24-27', '28', '71-73', '78', 'V50-V59', '11-13', '52-57', '46-51', '32-35', '39-45', '29-31', 'V10-V19', '00-10'], ['24-27', '78', 'V50-V59', '52-57', '96-99', '46-51', '68-70', '58-62', '39-45', 'V40-V49', '21-23', 'V10-V19', '00-10'], ['24-27', '28', '78', 'V50-V59', '52-57', '96-99', '46-51', '58-62', '32-35', '39-45', '29-31', 'V60-V69', 'V10-V19', '00-10'], ['24-27', '58-62', '52-57', '39-45'], ['52-57', '28', '00-10', '39-45'], ['V40-V49', '24-27', '71-73', '39-45'], ['24-27', '78', '96-99', '52-57', '46-51', '79', '32-35', '39-45', '29-31', '00-10'], ['24-27', '96-99', '52-57', '74-75', '58-62', '39-45', 'V40-V49', 'V10-V19'], ['24-27', '78', '52-57', '36-38', '46-51', '58-62', '32-35', '39-45', 'V40-V49', '29-31', 'V10-V19'], ['24-27', '78', '71-73', '96-99', '46-51', '39-45', 'V10-V19'], ['78', '52-57', '96-99', '46-51', '58-62', '39-45', '29-31', '00-10'], ['28', '46-51', '39-45', 'V40-V49', '29-31'], ['24-27', 'V50-V59', '71-73', '52-57', '46-51', 'V70-V82', '39-45', 'V40-V49', '29-31', 'V10-V19'], ['24-27', '52-57', '58-62', '74-75', '39-45'], ['24-27', '46-51', '58-62', '39-45'], ['24-27', '28', '52-57', '79', '39-45', '21-23', '29-31', 'V10-V19'], ['24-27', '28', '78', 'V50-V59', '52-57', '68-70', '29-31', 'V60-V69', '00-10'], ['24-27', '78', 'V50-V59', '52-57', '96-99', '58-62', '32-35', '29-31', '00-10'], ['24-27', 'V50-V59', '52-57', '58-62', '39-45'], ['24-27', '28', '78', '52-57', '39-45', 'V40-V49', '14-20'], ['24-27', 'V50-V59', '28', '96-99', '36-38', '58-62', '32-35', '39-45', '00-10'], ['24-27', '28', '78', '58-62', '32-35', '39-45', 'V40-V49'], ['24-27', '28', '52-57', '96-99', '46-51', '58-62', '68-70', '39-45', 'V40-V49', '00-10'], ['24-27', '78', '79', '58-62', '32-35', '39-45', 'V40-V49', 'V10-V19', '00-10'], ['24-27', '52-57', '58-62', '39-45', '14-20', 'V10-V19', '00-10'], ['63-66', '71-73', '28', '84-95', '52-57', '46-51', '79', '39-45', '67', '29-31', '00-10'], ['24-27', '46-51', 'V10-V19', '39-45'], ['24-27', '78', '28', '96-99', '46-51', '58-62', 'V70-V82', '39-45', '68-70', '29-31', 'V10-V19', '00-10'], ['58-62', '46-51', '14-20', '39-45'], ['24-27', '29-31', '32-35', '39-45'], ['78', '58-62', '68-70', '39-45', 'V40-V49'], ['24-27', '71-73', '52-57', '46-51', '58-62', '32-35', '39-45', 'V40-V49'], ['24-27', '46-51', '39-45'], ['39-45', '28', '29-31'], ['24-27', '96-99', '36-38', '39-45', 'V10-V19'], ['24-27', '52-57', '46-51', '39-45', 'V40-V49', 'V60-V69'], ['80-83', '84-95', '52-57', '46-51', '39-45'], ['24-27', '78', '28', '96-99', '39-45'], ['78', '46-51', '79', '39-45', '00-10'], ['24-27', '78', '71-73', '28', '96-99', '52-57', '46-51', '36-38', '32-35', '39-45', 'V40-V49'], ['24-27', '78', '71-73', '28', '52-57', '96-99', '46-51', '58-62', '68-70', '39-45', '32-35', 'V40-V49', 'V10-V19', '00-10'], ['46-51', '39-45'], ['28', '46-51', '58-62', '68-70', '39-45', 'V40-V49'], ['24-27', 'V50-V59', '78', '46-51', '58-62', '32-35', '39-45', 'V40-V49'], ['52-57', 'V10-V19', '14-20', '39-45'], ['24-27', '71-73', '46-51', '79', '58-62', '39-45', '14-20'], ['78', '28', '96-99', '52-57', '46-51', '58-62', '39-45', 'V40-V49', '21-23', '00-10'], ['24-27', '63-66', 'V50-V59', '46-51', 'V85-V85'], ['24-27', '28', '96-99', '52-57', '46-51', '74-75', '39-45'], ['78', '11-13', '96-99', '46-51', '14-20', '29-31', '00-10'], ['24-27', '78', '71-73', '52-57', '36-38', '46-51', '79', '58-62', '32-35', '39-45', '29-31', 'V10-V19'], ['28', '96-99', '52-57', '46-51', '79', '39-45', '29-31'], ['24-27', 'V50-V59', '71-73', '46-51', '58-62', '32-35', '39-45'], ['24-27', '78', '71-73', '96-99', '46-51', '58-62', '39-45', '00-10'], ['52-57', '39-45', '58-62', '29-31'], ['24-27', '78', '52-57', '32-35', '39-45'], ['24-27', '39-45'], ['46-51', 'V10-V19', '39-45'], ['24-27', '52-57', '58-62', '39-45', 'V40-V49'], ['24-27', 'V50-V59', '28', '96-99', '52-57', '46-51', '58-62', '32-35', '39-45', '68-70', 'V40-V49', '29-31', 'V10-V19', '00-10'], ['24-27', '78', '28', '52-57', '46-51', '79', '39-45', 'V40-V49', '29-31'], ['24-27', '80-83', '71-73', '84-95', '58-62', '39-45'], ['78', '28', 'V88-V88', '74-75', '39-45'], ['96-99', '24-27', '68-70', '39-45'], ['24-27', '78', 'V50-V59', '52-57', '46-51', '58-62', '32-35', '39-45', 'V40-V49', '29-31', 'V10-V19'], ['28', '52-57', '96-99', '29-31', '00-10'], ['24-27', '28', 'V50-V59', '52-57', '39-45', 'V10-V19'], ['24-27', 'V50-V59', '84-95', '52-57', '46-51', '39-45', 'V10-V19'], ['24-27', '71-73', '52-57', '39-45', 'V10-V19'], ['96-99', '39-45'], ['24-27', '28', '78', 'V50-V59', '52-57', '96-99', '58-62', '68-70', '39-45', '32-35', 'V40-V49', '00-10', 'V01-V09'], ['96-99', '46-51', '52-57', '39-45'], ['24-27', '28', '11-13', '96-99', '52-57', '39-45'], ['24-27', '39-45'], ['28', '96-99', '52-57', '39-45', 'V40-V49', 'V10-V19'], ['28', '46-51', '79', 'V40-V49', '21-23', '29-31', 'V10-V19'], ['24-27', '46-51', '39-45'], ['24-27', '28', '71-73', '46-51', '39-45', 'V40-V49', '29-31'], ['24-27', '80-83', '28', '78', 'V50-V59', '52-57', '96-99', '46-51', '79', '39-45', 'V40-V49', '29-31', 'V10-V19'], ['52-57', '46-51', '58-62', 'V70-V82', '39-45', 'V10-V19'], ['52-57', '46-51', '58-62', '39-45', '14-20'], ['24-27', '80-83', '28', 'V50-V59', '84-95', '96-99', '46-51', '39-45', 'V40-V49', '29-31', 'V10-V19'], ['24-27', '28', '71-73', '96-99', '46-51', '58-62', '68-70', '14-20', '29-31', '00-10'], ['24-27', '28', '52-57', '39-45', 'V10-V19', '00-10'], ['46-51', 'V10-V19', '14-20', '39-45'], ['24-27', '78', '71-73', 'V50-V59', '96-99', '52-57', '46-51', '14-20', '29-31', '00-10'], ['24-27', '28', '78', '71-73', 'V50-V59', '52-57', '46-51', '58-62', '39-45', '29-31', 'V10-V19', 'V01-V09'], ['24-27', '46-51', '32-35', '39-45', '14-20'], ['28', '78', '71-73', '84-95', '52-57', '96-99', '58-62', '39-45', '00-10'], ['24-27', '78', '52-57', '96-99', '46-51', '39-45', 'V40-V49', 'V10-V19', '00-10'], ['24-27', '78', '28', '52-57', '46-51', '79', '58-62', '32-35', '39-45', '68-70', 'V40-V49', '14-20', '29-31'], ['24-27', '28', '96-99', '58-62', '39-45', '14-20', 'V10-V19'], ['24-27', '28', '52-57', '46-51', '58-62', '32-35', '39-45', '29-31'], ['24-27', '84-95', '46-51', '32-35', '39-45'], ['78', '46-51', '32-35', '39-45', 'V40-V49', '14-20', 'V10-V19'], ['24-27', '96-99', '32-35', '39-45', 'V10-V19'], ['24-27', '71-73', '96-99', '32-35', '39-45', '29-31'], ['24-27', '78', '52-57', 'V70-V82', '32-35', '39-45', 'V40-V49', '14-20', 'V60-V69', 'V10-V19'], ['24-27', '58-62', '78', '14-20'], ['28', '58-62', '32-35', '29-31'], ['36-38', 'V10-V19', '71-73', '39-45'], ['24-27', '28', '52-57', '46-51', '58-62', '39-45', '14-20', 'V10-V19', '00-10'], ['24-27', '96-99', '52-57', '46-51', '58-62', '39-45', 'V10-V19', '00-10', 'V01-V09'], ['24-27', '28', '52-57', '46-51', '39-45'], ['24-27', '78', '46-51', '58-62', '39-45'], ['24-27', '28', '71-73', '78', 'V50-V59', '52-57', '58-62', '32-35', '39-45', 'V40-V49', 'V10-V19', 'V01-V09'], ['24-27', 'V10-V19', '36-38', '39-45'], ['28', '52-57', '79', '32-35', '39-45', '14-20', 'V10-V19'], ['24-27', '71-73', '52-57', '46-51', '58-62', '39-45', 'V40-V49', '14-20'], ['71-73', '96-99', '36-38', '46-51', '74-75', '32-35'], ['24-27', '28', '71-73', '32-35', '39-45'], ['24-27', 'V88-V88', '39-45'], ['24-27', '78', '71-73', '96-99', '46-51', '32-35', '39-45', '29-31', 'V10-V19'], ['24-27', '71-73', '96-99', '52-57', '46-51', '39-45', 'V40-V49', '29-31'], ['24-27', '78', '96-99', '39-45', 'V40-V49', '00-10'], ['24-27', '68-70', '39-45', '00-10'], ['24-27', '28', '78', '96-99', '52-57', '46-51', '32-35', '39-45', 'V40-V49', '29-31'], ['78', '46-51', '58-62', '32-35', '39-45'], ['71-73', '11-13', '96-99', '46-51', '32-35'], ['24-27', '78', '58-62', '32-35', '39-45'], ['52-57', '28', '39-45'], ['24-27', '46-51', '58-62', '68-70', '39-45'], ['24-27', '32-35', '39-45', 'V40-V49'], ['96-99', '36-38', '52-57', '58-62', '39-45', 'V40-V49', '00-10']]\n",
      "[['24-27', '52-57', '46-51', '58-62', '21-23', '14-20'], ['24-27', '78', '46-51', '68-70', '39-45'], ['24-27', '78', '11-13', '52-57', '36-38', '46-51'], ['24-27', '78', '46-51', '32-35', '39-45'], ['24-27', '78', '52-57', '46-51', '32-35', '39-45'], ['24-27', '78', '71-73', '84-95', '52-57', '46-51', '32-35', '39-45', '29-31'], ['24-27', '78', '52-57', '36-38', '46-51', '39-45'], ['24-27', '46-51', '32-35', '39-45'], ['24-27', '78', '11-13', '52-57', '58-62', '68-70', '39-45', '21-23', '00-10'], ['24-27', '78', '52-57', '46-51', '58-62', '00-10'], ['78', '52-57', '68-70', '32-35', '39-45'], ['24-27', '78', '52-57', '46-51', '39-45'], ['24-27', '46-51', '78', '79'], ['78', '84-95', '79', '32-35', '39-45'], ['24-27', '78', '46-51', '32-35', '39-45'], ['24-27', '78', '71-73', '52-57', '68-70', '39-45', '00-10'], ['24-27', '78', '71-73', '84-95', '39-45'], ['24-27', '78', '71-73', '52-57', '46-51', '58-62', '39-45'], ['24-27', '78', '71-73', '32-35'], ['24-27', '78', '32-35', '39-45'], ['24-27', '78', '52-57', '46-51', '39-45'], ['24-27', '78', '36-38', '46-51', '79', '39-45'], ['52-57', '24-27', '78'], ['78', '52-57', '79', '32-35', '14-20'], ['24-27', '78', '52-57', '46-51', '58-62', '68-70', '39-45'], ['24-27', '78', '46-51', '29-31', '00-10'], ['78', '71-73', '46-51', '32-35', '39-45'], ['24-27', '78', '52-57', '46-51', '32-35', '39-45', '29-31'], ['24-27', '78', '52-57', '46-51', '39-45'], ['78', '46-51', '79', '58-62', '39-45', '21-23'], ['24-27', '78', '52-57', '46-51', '79', '39-45'], ['24-27', '63-66', '28', '78', '52-57', '46-51', '39-45'], ['24-27', '52-57', '58-62', '39-45', '29-31'], ['24-27', '78', '46-51', '39-45', '29-31'], ['24-27', '78', '52-57', '46-51', '39-45'], ['78', '71-73', '84-95', '46-51', '32-35', '39-45'], ['78', '84-95', '52-57', '96-99', '79', '32-35'], ['24-27', '78', '11-13', '52-57', '36-38', '58-62', '39-45', '00-10'], ['24-27', '78', '52-57', '46-51', '58-62', '32-35', '39-45', '29-31'], ['46-51', '78', '71-73', '39-45'], ['24-27', '63-66', '78', '71-73', '11-13', '52-57', '58-62', '39-45', '00-10'], ['24-27', '78', '71-73', '52-57', '46-51', '58-62', '32-35', '39-45'], ['78', '71-73', '46-51', '32-35', '39-45'], ['24-27', '78', '46-51', '79', '39-45'], ['24-27', '78', '32-35', '29-31'], ['24-27', '78', '52-57', '46-51', '39-45'], ['24-27', '80-83', '96-99', '52-57', '29-31'], ['78', '84-95', '52-57', '46-51', '79', '58-62', '32-35', '39-45'], ['24-27', '78', '63-66', '52-57', '46-51', '58-62', '39-45', '21-23', '29-31'], ['24-27', '78', '52-57', '46-51', '39-45'], ['24-27', '78', '11-13', '52-57', '58-62'], ['46-51', '78', '39-45'], ['24-27', '78', '46-51', '58-62', '39-45'], ['24-27', '78', '32-35', '39-45', '29-31'], ['24-27', '78', '52-57', '58-62', '39-45'], ['24-27', '78', '71-73', '46-51', '39-45'], ['24-27', '46-51', '78', '39-45'], ['24-27', '78', '46-51', '32-35', '29-31'], ['24-27', '78', '36-38', '46-51', '79'], ['29-31', '78', '32-35', '39-45'], ['24-27', '80-83', '68-70', '58-62', '32-35', '29-31'], ['78', '46-51', '58-62', '32-35', '39-45'], ['24-27', '78', '84-95', '36-38', '46-51', '79', '58-62', '32-35', '39-45'], ['24-27', '78', '84-95', '96-99', '46-51', '32-35', '39-45'], ['24-27', '46-51', '78', '39-45'], ['24-27', '78', '52-57', '46-51', '39-45'], ['80-83', '46-51', '39-45', '84-95'], ['24-27', '78', '46-51', '79', '39-45'], ['24-27', '28', '52-57', '36-38', '46-51', '39-45'], ['24-27', '78', '52-57', '46-51', '39-45'], ['24-27', '78', '71-73', '52-57', '79', '68-70', '58-62', '39-45'], ['24-27', '46-51', '39-45'], ['24-27', '78', '52-57', '46-51', '58-62', '39-45'], ['24-27', '78', '52-57', '46-51', '58-62', '39-45'], ['24-27', '78', '63-66', '52-57', '58-62', '39-45'], ['46-51', '78', '39-45'], ['78', '52-57', '46-51', '39-45', '29-31', '00-10'], ['78', '36-38', '46-51', '79', '39-45', '29-31'], ['46-51', '78', '39-45'], ['24-27', '46-51', '32-35', '39-45', '29-31', '00-10'], ['24-27', '46-51', '78', '39-45'], ['24-27', '80-83', '78', '52-57', '36-38', '46-51', '68-70', '39-45'], ['24-27', '78', '46-51', '32-35', '39-45'], ['24-27', '78', '46-51', '79', '39-45'], ['24-27', '78', '11-13', '52-57', '36-38', '96-99'], ['24-27', '78', '46-51', '32-35', '39-45'], ['24-27', '78', '46-51', '32-35', '39-45'], ['78', '32-35', '39-45', '84-95'], ['24-27', '78', '52-57', '46-51', '58-62', '39-45'], ['78', '71-73', '84-95', '46-51', '68-70', '39-45'], ['24-27', '28', '78', '46-51', '39-45'], ['24-27', '80-83', '78', '52-57', '79', '39-45'], ['24-27', '78', '84-95', '96-99', '46-51', '79', '32-35', '39-45'], ['24-27', '78', '46-51', '58-62', '68-70', '39-45'], ['78', '84-95', '46-51', '79', '32-35', '39-45'], ['24-27', '78', '52-57', '46-51', '79', '39-45'], ['24-27', '78', '11-13', '52-57', '46-51', '58-62', '68-70', '39-45', '32-35'], ['24-27', '36-38', '46-51', '79', '32-35', '39-45'], ['24-27', '78', '52-57', '46-51', '39-45'], ['46-51', '78', '39-45'], ['24-27', '78', '52-57', '46-51', '39-45'], ['24-27', '78', '52-57', '46-51', '68-70', '32-35', '39-45'], ['24-27', '78', '52-57', '36-38', '46-51', '32-35', '39-45', '29-31'], ['24-27', '78', '46-51', '32-35', '39-45', '21-23'], ['24-27', '78', '52-57', '36-38', '58-62', '39-45'], ['24-27', '78', '46-51', '39-45', '00-10'], ['46-51', '78', '79', '39-45'], ['24-27', '78', 'V88-V88', '46-51', '39-45'], ['80-83', '78', '84-95', '52-57', '58-62', '32-35', '29-31'], ['24-27', '46-51', '78', '39-45'], ['24-27', '78', '46-51', '79', '39-45'], ['80-83', '71-73', '84-95', '46-51', '32-35', '39-45', '29-31'], ['24-27', '80-83', '78', '71-73', '46-51', '68-70', '39-45'], ['24-27', '78', '52-57', '46-51', '58-62', '39-45'], ['24-27', '78', '46-51', '79', '39-45'], ['24-27', '78', '58-62', '32-35', '29-31'], ['24-27', '52-57', '36-38', '46-51', '58-62', '39-45'], ['78', '52-57', '46-51', '32-35', '39-45', '29-31', '00-10'], ['24-27', '28', '78', '11-13', '46-51', '68-70', '32-35', '39-45'], ['24-27', '78', '84-95', '52-57', '46-51', '58-62', '39-45'], ['24-27', '78', '52-57', '46-51', '39-45'], ['78', '46-51', '58-62', '21-23', '14-20'], ['24-27', '28', '11-13', '52-57', '58-62', '39-45', 'V40-V49', '21-23', '14-20'], ['78', '79', '32-35', '39-45', '29-31'], ['24-27', '78', '52-57', '36-38', '46-51', '32-35', '39-45', '29-31'], ['96-99', '46-51', '78', '39-45'], ['24-27', '78', '71-73', '46-51', '68-70', '32-35', '39-45', '58-62', '29-31'], ['24-27', '78', '52-57', '32-35', '39-45', '14-20', '29-31'], ['24-27', '63-66', '78', '79', '58-62', '67'], ['24-27', '78', '58-62', '32-35', '39-45', '29-31'], ['24-27', '78', '71-73', '63-66', '52-57', '46-51', '79', '58-62', '39-45', '67'], ['52-57', '24-27', '78', '36-38'], ['24-27', '78', '46-51', '39-45', '00-10'], ['24-27', '78', '84-95', '52-57', '46-51', '32-35', '39-45'], ['46-51', '78', '79', '39-45'], ['24-27', '78', '52-57', '36-38', '46-51', '79', '32-35', '39-45'], ['24-27', '78', '52-57', '46-51', '39-45'], ['24-27', '28', '63-66', '52-57', '46-51', '58-62', '39-45'], ['24-27', '78', '52-57', '46-51', '79', '58-62', '39-45'], ['46-51', '78', '68-70', '71-73'], ['80-83', '78', '71-73', 'V87-V87', '58-62', '32-35', '39-45', '21-23', '29-31'], ['78', '71-73', '79', '32-35', '29-31'], ['24-27', '78', '52-57', '46-51', '68-70', '32-35', '39-45', '29-31'], ['24-27', '78', '52-57', '46-51', '39-45'], ['24-27', '78', '32-35', '39-45', '29-31'], ['78', '52-57', '46-51', '39-45', '21-23', '00-10'], ['28', '78', '52-57', '46-51', '79'], ['78', '84-95', '96-99', '32-35', '39-45'], ['24-27', '78', 'V88-V88', '46-51', '32-35', 'V40-V49'], ['24-27', '78', '84-95', '32-35', '39-45'], ['24-27', '78', '52-57', '46-51', '39-45'], ['78', '71-73', '84-95', '32-35', '39-45'], ['24-27', '78', '84-95', '46-51', '32-35', '39-45', '29-31'], ['24-27', '78', '46-51', '32-35', '39-45']]\n",
      "Macro Averaged AUROC Score: 0.5456898465068348\n",
      "Micro Averaged Precision: 0.5423728813559322\n",
      "Micro Averaged Recall: 0.46065259117082535\n",
      "Micro Averaged F1-Score: 0.49818370524130773\n",
      "Macro Averaged Precision: 0.22762310488482324\n",
      "Macro Averaged Recall: 0.2037180032722807\n",
      "Macro Averaged F1-Score: 0.19001760367750267\n"
     ]
    },
    {
     "name": "stderr",
     "output_type": "stream",
     "text": [
      "\n"
     ]
    }
   ],
   "source": [
    "metrics_calc(type = 'more than 3 symptoms',method='llm', model_name= 'groq')"
   ]
  },
  {
   "cell_type": "code",
   "execution_count": 1123,
   "metadata": {},
   "outputs": [
    {
     "name": "stderr",
     "output_type": "stream",
     "text": [
      "1it [00:08,  8.26s/it]"
     ]
    },
    {
     "name": "stdout",
     "output_type": "stream",
     "text": [
      "['14-20', '78', '46-51', '39-45', '52-57', '29-31', 'V40-V49', '24-27', '11-13']\n"
     ]
    },
    {
     "name": "stderr",
     "output_type": "stream",
     "text": [
      "3it [00:17,  5.55s/it]"
     ]
    },
    {
     "name": "stdout",
     "output_type": "stream",
     "text": [
      "['46-51', '28', '78', '24-27', '39-45', '79', '14-20', '29-31']\n"
     ]
    },
    {
     "name": "stderr",
     "output_type": "stream",
     "text": [
      "5it [00:26,  5.06s/it]"
     ]
    },
    {
     "name": "stdout",
     "output_type": "stream",
     "text": [
      "['11-13', '39-45', '52-57', '14-20', '71-73', '79']\n"
     ]
    },
    {
     "name": "stderr",
     "output_type": "stream",
     "text": [
      "6it [00:34,  5.89s/it]"
     ]
    },
    {
     "name": "stdout",
     "output_type": "stream",
     "text": [
      "['39-45', '46-51', '28', '24-27', '78']\n"
     ]
    },
    {
     "name": "stderr",
     "output_type": "stream",
     "text": [
      "7it [00:42,  6.51s/it]"
     ]
    },
    {
     "name": "stdout",
     "output_type": "stream",
     "text": [
      "['78', '14-20', '39-45', '46-51', '24-27', '52-57', '68-70', '28', 'V40-V49']\n"
     ]
    },
    {
     "name": "stderr",
     "output_type": "stream",
     "text": [
      "8it [00:52,  7.29s/it]"
     ]
    },
    {
     "name": "stdout",
     "output_type": "stream",
     "text": [
      "['78', '96-99', '46-51', '39-45', '29-31', '28', '24-27', '14-20', '71-73', '32-35']\n"
     ]
    },
    {
     "name": "stderr",
     "output_type": "stream",
     "text": [
      "11it [01:01,  4.96s/it]"
     ]
    },
    {
     "name": "stdout",
     "output_type": "stream",
     "text": [
      "['52-57', '24-27', '14-20', '39-45', '78', '46-51']\n"
     ]
    },
    {
     "name": "stderr",
     "output_type": "stream",
     "text": [
      "12it [01:11,  6.06s/it]"
     ]
    },
    {
     "name": "stdout",
     "output_type": "stream",
     "text": [
      "['39-45', '46-51', '28', '24-27', '78']\n"
     ]
    },
    {
     "name": "stderr",
     "output_type": "stream",
     "text": [
      "13it [01:20,  6.77s/it]"
     ]
    },
    {
     "name": "stdout",
     "output_type": "stream",
     "text": [
      "['00-10', '24-27', '28', '39-45', '52-57', '58-62', '68-70', '71-73', '78', '79', '96-99']\n"
     ]
    },
    {
     "name": "stderr",
     "output_type": "stream",
     "text": [
      "16it [01:29,  4.93s/it]"
     ]
    },
    {
     "name": "stdout",
     "output_type": "stream",
     "text": [
      "['14-20', 'V40-V49', '29-31', '78', '46-51', '96-99', '39-45', 'V10-V19', '52-57', '36-38', '28', '24-27', '11-13']\n"
     ]
    },
    {
     "name": "stderr",
     "output_type": "stream",
     "text": [
      "17it [01:39,  5.75s/it]"
     ]
    },
    {
     "name": "stdout",
     "output_type": "stream",
     "text": [
      "['39-45', '78', '71-73', '58-62', '32-35', '24-27', '84-95', '46-51', '79', '14-20']\n"
     ]
    },
    {
     "name": "stderr",
     "output_type": "stream",
     "text": [
      "18it [01:47,  6.26s/it]"
     ]
    },
    {
     "name": "stdout",
     "output_type": "stream",
     "text": [
      "['78', '39-45', '24-27', '46-51', '52-57', '11-13', '29-31', '79']\n"
     ]
    },
    {
     "name": "stderr",
     "output_type": "stream",
     "text": [
      "19it [01:56,  6.90s/it]"
     ]
    },
    {
     "name": "stdout",
     "output_type": "stream",
     "text": [
      "['78', '46-51', 'V40-V49', '96-99']\n"
     ]
    },
    {
     "name": "stderr",
     "output_type": "stream",
     "text": [
      "20it [02:04,  7.21s/it]"
     ]
    },
    {
     "name": "stdout",
     "output_type": "stream",
     "text": [
      "['32-35', '39-45', '14-20', '46-51', '78', '80-83', '28']\n"
     ]
    },
    {
     "name": "stderr",
     "output_type": "stream",
     "text": [
      "21it [02:13,  7.72s/it]"
     ]
    },
    {
     "name": "stdout",
     "output_type": "stream",
     "text": [
      "['39-45', '46-51', '24-27', '11-13', '29-31', '78']\n"
     ]
    },
    {
     "name": "stderr",
     "output_type": "stream",
     "text": [
      "22it [02:23,  8.36s/it]"
     ]
    },
    {
     "name": "stdout",
     "output_type": "stream",
     "text": [
      "['78', '29-31', '39-45', '46-51', '96-99', '71-73', '68-70', '52-57', '24-27', '11-13']\n"
     ]
    },
    {
     "name": "stderr",
     "output_type": "stream",
     "text": [
      "23it [02:31,  8.32s/it]"
     ]
    },
    {
     "name": "stdout",
     "output_type": "stream",
     "text": [
      "['78', '39-45', '71-73', '24-27', '79', '46-51']\n"
     ]
    },
    {
     "name": "stderr",
     "output_type": "stream",
     "text": [
      "24it [02:41,  8.62s/it]"
     ]
    },
    {
     "name": "stdout",
     "output_type": "stream",
     "text": [
      "['78', '46-51', '29-31', '32-35', '52-57', '36-38', '24-27', '39-45', 'V40-V49', 'V10-V19']\n"
     ]
    },
    {
     "name": "stderr",
     "output_type": "stream",
     "text": [
      "25it [02:47,  7.93s/it]"
     ]
    },
    {
     "name": "stdout",
     "output_type": "stream",
     "text": [
      "['36-38', '21-23', '11-13', '14-20']\n"
     ]
    },
    {
     "name": "stderr",
     "output_type": "stream",
     "text": [
      "26it [02:55,  8.01s/it]"
     ]
    },
    {
     "name": "stdout",
     "output_type": "stream",
     "text": [
      "['78', '46-51', '39-45', '32-35', '29-31', '24-27', '14-20']\n"
     ]
    },
    {
     "name": "stderr",
     "output_type": "stream",
     "text": [
      "28it [03:03,  6.25s/it]"
     ]
    },
    {
     "name": "stdout",
     "output_type": "stream",
     "text": [
      "['V40-V49', '78', '46-51', '58-62', '39-45', '52-57', '24-27', '11-13', '28']\n"
     ]
    },
    {
     "name": "stderr",
     "output_type": "stream",
     "text": [
      "30it [03:12,  5.45s/it]"
     ]
    },
    {
     "name": "stdout",
     "output_type": "stream",
     "text": [
      "['78', '46-51', '39-45', '24-27', '68-70', '79', '28', '84-95']\n"
     ]
    },
    {
     "name": "stderr",
     "output_type": "stream",
     "text": [
      "33it [03:20,  4.25s/it]"
     ]
    },
    {
     "name": "stdout",
     "output_type": "stream",
     "text": [
      "['52-57', '39-45', '78', '11-13', '24-27', '36-38', '79', '84-95']\n"
     ]
    },
    {
     "name": "stderr",
     "output_type": "stream",
     "text": [
      "34it [03:29,  4.98s/it]"
     ]
    },
    {
     "name": "stdout",
     "output_type": "stream",
     "text": [
      "['14-20', '39-45', '58-62', '32-35', 'V40-V49', '24-27', '29-31', '78', '46-51', 'V50-V59', 'V10-V19', '52-57', '36-38']\n"
     ]
    },
    {
     "name": "stderr",
     "output_type": "stream",
     "text": [
      "35it [03:38,  5.88s/it]"
     ]
    },
    {
     "name": "stdout",
     "output_type": "stream",
     "text": [
      "['46-51', '39-45', '32-35', '68-70', '78', '58-62', '24-27']\n"
     ]
    },
    {
     "name": "stderr",
     "output_type": "stream",
     "text": [
      "36it [03:46,  6.42s/it]"
     ]
    },
    {
     "name": "stdout",
     "output_type": "stream",
     "text": [
      "['24-27', '46-51', '78', '28', '39-45', '11-13']\n"
     ]
    },
    {
     "name": "stderr",
     "output_type": "stream",
     "text": [
      "37it [03:55,  6.87s/it]"
     ]
    },
    {
     "name": "stdout",
     "output_type": "stream",
     "text": [
      "['32-35', '39-45', '78', '79', '80-83', '96-99']\n"
     ]
    },
    {
     "name": "stderr",
     "output_type": "stream",
     "text": [
      "38it [04:04,  7.45s/it]"
     ]
    },
    {
     "name": "stdout",
     "output_type": "stream",
     "text": [
      "['78', '32-35', '39-45', '52-57', '29-31', '24-27', '36-38', '28']\n"
     ]
    },
    {
     "name": "stderr",
     "output_type": "stream",
     "text": [
      "39it [04:12,  7.65s/it]"
     ]
    },
    {
     "name": "stdout",
     "output_type": "stream",
     "text": [
      "['78', '46-51', '39-45', '24-27', '52-57', '29-31', 'V40-V49', 'V50-V59']\n"
     ]
    },
    {
     "name": "stderr",
     "output_type": "stream",
     "text": [
      "40it [04:21,  8.06s/it]"
     ]
    },
    {
     "name": "stdout",
     "output_type": "stream",
     "text": [
      "['39-45', '46-51', '52-57', '58-62', '78', '79', '11-13', '14-20', '21-23', '24-27']\n"
     ]
    },
    {
     "name": "stderr",
     "output_type": "stream",
     "text": [
      "41it [04:30,  8.34s/it]"
     ]
    },
    {
     "name": "stdout",
     "output_type": "stream",
     "text": [
      "['78', '11-13', '24-27', '39-45', '52-57', '68-70']\n"
     ]
    },
    {
     "name": "stderr",
     "output_type": "stream",
     "text": [
      "43it [04:38,  6.45s/it]"
     ]
    },
    {
     "name": "stdout",
     "output_type": "stream",
     "text": [
      "['28', '39-45', '46-51', '52-57', '78', '96-99']\n"
     ]
    },
    {
     "name": "stderr",
     "output_type": "stream",
     "text": [
      "45it [04:47,  5.59s/it]"
     ]
    },
    {
     "name": "stdout",
     "output_type": "stream",
     "text": [
      "['78', '29-31', '52-57', '39-45', '21-23', '24-27', '58-62', '11-13', '14-20']\n"
     ]
    },
    {
     "name": "stderr",
     "output_type": "stream",
     "text": [
      "46it [04:56,  6.35s/it]"
     ]
    },
    {
     "name": "stdout",
     "output_type": "stream",
     "text": [
      "['78', 'V40-V49', '46-51', '39-45', '24-27', 'V60-V69', '28', '79']\n"
     ]
    },
    {
     "name": "stderr",
     "output_type": "stream",
     "text": [
      "48it [05:04,  5.47s/it]"
     ]
    },
    {
     "name": "stdout",
     "output_type": "stream",
     "text": [
      "['39-45', '24-27', '52-57', '36-38', '46-51', '78', '79']\n"
     ]
    },
    {
     "name": "stderr",
     "output_type": "stream",
     "text": [
      "50it [05:13,  5.15s/it]"
     ]
    },
    {
     "name": "stdout",
     "output_type": "stream",
     "text": [
      "['14-20', '39-45', '46-51', '71-73', '78', '32-35', '68-70', '24-27', '79', '96-99']\n"
     ]
    },
    {
     "name": "stderr",
     "output_type": "stream",
     "text": [
      "54it [05:22,  3.70s/it]"
     ]
    },
    {
     "name": "stdout",
     "output_type": "stream",
     "text": [
      "['78', '32-35', '46-51', 'V50-V59', '39-45', '24-27', '96-99']\n"
     ]
    },
    {
     "name": "stderr",
     "output_type": "stream",
     "text": [
      "56it [05:31,  3.88s/it]"
     ]
    },
    {
     "name": "stdout",
     "output_type": "stream",
     "text": [
      "['52-57', '39-45', '14-20', '46-51', '78', '24-27', '29-31', '58-62', '36-38']\n"
     ]
    },
    {
     "name": "stderr",
     "output_type": "stream",
     "text": [
      "57it [05:39,  4.56s/it]"
     ]
    },
    {
     "name": "stdout",
     "output_type": "stream",
     "text": [
      "['14-20', 'V40-V49', '29-31', '78', '46-51', '96-99', '32-35', '39-45', '52-57', '28', '79', '24-27']\n"
     ]
    },
    {
     "name": "stderr",
     "output_type": "stream",
     "text": [
      "58it [05:49,  5.50s/it]"
     ]
    },
    {
     "name": "stdout",
     "output_type": "stream",
     "text": [
      "['39-45', '46-51', '71-73', '78']\n"
     ]
    },
    {
     "name": "stderr",
     "output_type": "stream",
     "text": [
      "59it [05:57,  6.07s/it]"
     ]
    },
    {
     "name": "stdout",
     "output_type": "stream",
     "text": [
      "['78', '24-27', '39-45', '52-57', '58-62', '71-73', '28', '14-20', '46-51', '96-99']\n"
     ]
    },
    {
     "name": "stderr",
     "output_type": "stream",
     "text": [
      "60it [06:06,  6.67s/it]"
     ]
    },
    {
     "name": "stdout",
     "output_type": "stream",
     "text": [
      "['78', '59-59', '52-57', '29-31', '24-27', '21-23', '14-20']\n"
     ]
    },
    {
     "name": "stderr",
     "output_type": "stream",
     "text": [
      "64it [06:14,  4.05s/it]"
     ]
    },
    {
     "name": "stdout",
     "output_type": "stream",
     "text": [
      "['39-45', '71-73', '46-51', '78', '29-31', 'V40-V49', '24-27']\n"
     ]
    },
    {
     "name": "stderr",
     "output_type": "stream",
     "text": [
      "65it [06:22,  4.77s/it]"
     ]
    },
    {
     "name": "stdout",
     "output_type": "stream",
     "text": [
      "['39-45', '46-51', '28', '71-73', '24-27', '79']\n"
     ]
    },
    {
     "name": "stderr",
     "output_type": "stream",
     "text": [
      "66it [06:31,  5.50s/it]"
     ]
    },
    {
     "name": "stdout",
     "output_type": "stream",
     "text": [
      "['78', '29-31', '32-35', '46-51', '11-13', '24-27']\n"
     ]
    },
    {
     "name": "stderr",
     "output_type": "stream",
     "text": [
      "67it [06:46,  7.66s/it]"
     ]
    },
    {
     "name": "stdout",
     "output_type": "stream",
     "text": [
      "['39-45', '52-57', '71-73', '78', 'V40-V49']\n"
     ]
    },
    {
     "name": "stderr",
     "output_type": "stream",
     "text": [
      "68it [06:47,  6.05s/it]"
     ]
    },
    {
     "name": "stdout",
     "output_type": "stream",
     "text": [
      "['V40-V49', '29-31', '78', '96-99', '71-73', '39-45', '80-83', 'V60-V69', '52-57', '28', '79', '24-27', '00-10']\n"
     ]
    },
    {
     "name": "stderr",
     "output_type": "stream",
     "text": [
      "69it [06:57,  7.13s/it]"
     ]
    },
    {
     "name": "stdout",
     "output_type": "stream",
     "text": [
      "['78', '32-35', '39-45', '29-31', '46-51', '96-99', '79', '28', '24-27', '79']\n"
     ]
    },
    {
     "name": "stderr",
     "output_type": "stream",
     "text": [
      "72it [07:06,  4.87s/it]"
     ]
    },
    {
     "name": "stdout",
     "output_type": "stream",
     "text": [
      "['52-57', '39-45', '24-27', '78', '32-35']\n"
     ]
    },
    {
     "name": "stderr",
     "output_type": "stream",
     "text": [
      "73it [07:15,  5.75s/it]"
     ]
    },
    {
     "name": "stdout",
     "output_type": "stream",
     "text": [
      "['39-45', '46-51', '28', '52-57', '24-27', '78']\n"
     ]
    },
    {
     "name": "stderr",
     "output_type": "stream",
     "text": [
      "74it [07:23,  6.32s/it]"
     ]
    },
    {
     "name": "stdout",
     "output_type": "stream",
     "text": [
      "['78', '52-57', '24-27', '36-38', '58-62', '39-45', '28', '11-13']\n"
     ]
    },
    {
     "name": "stderr",
     "output_type": "stream",
     "text": [
      "76it [07:32,  5.47s/it]"
     ]
    },
    {
     "name": "stdout",
     "output_type": "stream",
     "text": [
      "['39-45', '78', '46-51', '71-73', '29-31']\n"
     ]
    },
    {
     "name": "stderr",
     "output_type": "stream",
     "text": [
      "77it [07:41,  6.30s/it]"
     ]
    },
    {
     "name": "stdout",
     "output_type": "stream",
     "text": [
      "['29-31', '78', '39-45', '32-35', '52-57', '79', '28', '46-51', '71-73', '58-62']\n"
     ]
    },
    {
     "name": "stderr",
     "output_type": "stream",
     "text": [
      "78it [07:50,  7.01s/it]"
     ]
    },
    {
     "name": "stdout",
     "output_type": "stream",
     "text": [
      "['39-45', '28', '24-27', '46-51', 'V40-V49']\n"
     ]
    },
    {
     "name": "stderr",
     "output_type": "stream",
     "text": [
      "80it [07:59,  5.87s/it]"
     ]
    },
    {
     "name": "stdout",
     "output_type": "stream",
     "text": [
      "['11-13', '24-27', '28', '39-45', '52-57', '68-70', '78', 'V40-V49', 'V60-V69']\n"
     ]
    },
    {
     "name": "stderr",
     "output_type": "stream",
     "text": [
      "82it [08:07,  5.23s/it]"
     ]
    },
    {
     "name": "stdout",
     "output_type": "stream",
     "text": [
      "['78', '46-51', '71-73', '39-45', '24-27', '11-13', 'V40-V49', 'V10-V19']\n"
     ]
    },
    {
     "name": "stderr",
     "output_type": "stream",
     "text": [
      "83it [08:16,  6.05s/it]"
     ]
    },
    {
     "name": "stdout",
     "output_type": "stream",
     "text": [
      "['46-51', '28', '39-45', '78', '96-99', '79', '24-27']\n"
     ]
    },
    {
     "name": "stderr",
     "output_type": "stream",
     "text": [
      "84it [08:24,  6.57s/it]"
     ]
    },
    {
     "name": "stdout",
     "output_type": "stream",
     "text": [
      "['78', '46-51', '24-27', '11-13', '28', '39-45', '79', '29-31', 'V40-V49', 'V10-V19']\n"
     ]
    },
    {
     "name": "stderr",
     "output_type": "stream",
     "text": [
      "85it [08:33,  7.18s/it]"
     ]
    },
    {
     "name": "stdout",
     "output_type": "stream",
     "text": [
      "['46-51', '78', '29-31', '39-45', '24-27', '28']\n"
     ]
    },
    {
     "name": "stderr",
     "output_type": "stream",
     "text": [
      "86it [08:42,  7.43s/it]"
     ]
    },
    {
     "name": "stdout",
     "output_type": "stream",
     "text": [
      "['32-35', '39-45', '46-51', '52-57', '78']\n"
     ]
    },
    {
     "name": "stderr",
     "output_type": "stream",
     "text": [
      "88it [08:51,  6.21s/it]"
     ]
    },
    {
     "name": "stdout",
     "output_type": "stream",
     "text": [
      "['78', '21-23', '39-45', '58-62', '32-35', '29-31', '14-20', '96-99', '24-27', '79']\n"
     ]
    },
    {
     "name": "stderr",
     "output_type": "stream",
     "text": [
      "89it [08:59,  6.70s/it]"
     ]
    },
    {
     "name": "stdout",
     "output_type": "stream",
     "text": [
      "['78', '39-45', '46-51', '32-35', '29-31', '71-73', '24-27', '96-99', 'V40-V49']\n"
     ]
    },
    {
     "name": "stderr",
     "output_type": "stream",
     "text": [
      "91it [09:08,  5.87s/it]"
     ]
    },
    {
     "name": "stdout",
     "output_type": "stream",
     "text": [
      "['78', '46-51', '39-45', '24-27', '79', '96-99', '84-95']\n"
     ]
    },
    {
     "name": "stderr",
     "output_type": "stream",
     "text": [
      "92it [09:16,  6.38s/it]"
     ]
    },
    {
     "name": "stdout",
     "output_type": "stream",
     "text": [
      "['29-31', '78', '96-99', '32-35', '39-45', '80-83', '24-27', '28', '79']\n"
     ]
    },
    {
     "name": "stderr",
     "output_type": "stream",
     "text": [
      "93it [09:26,  7.05s/it]"
     ]
    },
    {
     "name": "stdout",
     "output_type": "stream",
     "text": [
      "['39-45', '52-57', '46-51', '36-38', '29-31', '78']\n"
     ]
    },
    {
     "name": "stderr",
     "output_type": "stream",
     "text": [
      "96it [09:34,  4.83s/it]"
     ]
    },
    {
     "name": "stdout",
     "output_type": "stream",
     "text": [
      "['52-57', '39-45', '24-27', '78', '11-13', 'V10-V19', '58-62', '28']\n"
     ]
    },
    {
     "name": "stderr",
     "output_type": "stream",
     "text": [
      "97it [09:43,  5.74s/it]"
     ]
    },
    {
     "name": "stdout",
     "output_type": "stream",
     "text": [
      "['46-51', '24-27', '39-45', '78', '21-23', '32-35', '84-95', '96-99']\n"
     ]
    },
    {
     "name": "stderr",
     "output_type": "stream",
     "text": [
      "98it [09:51,  6.29s/it]"
     ]
    },
    {
     "name": "stdout",
     "output_type": "stream",
     "text": [
      "['39-45', '46-51', '28', '24-27', '11-13']\n"
     ]
    },
    {
     "name": "stderr",
     "output_type": "stream",
     "text": [
      "99it [10:01,  7.00s/it]"
     ]
    },
    {
     "name": "stdout",
     "output_type": "stream",
     "text": [
      "['39-45', '46-51', '28', '52-57', '11-13', '24-27', '78']\n"
     ]
    },
    {
     "name": "stderr",
     "output_type": "stream",
     "text": [
      "100it [10:09,  7.36s/it]"
     ]
    },
    {
     "name": "stdout",
     "output_type": "stream",
     "text": [
      "['39-45', '52-57', '71-73', '29-31', '46-51', '78', '14-20', 'V40-V49', '32-35', '68-70']\n"
     ]
    },
    {
     "name": "stderr",
     "output_type": "stream",
     "text": [
      "101it [10:19,  7.97s/it]"
     ]
    },
    {
     "name": "stdout",
     "output_type": "stream",
     "text": [
      "['39-45', '24-27', 'V40-V49', '78', '58-62', '46-51', '68-70', '28', '79', '14-20', '84-95']\n"
     ]
    },
    {
     "name": "stderr",
     "output_type": "stream",
     "text": [
      "102it [10:27,  8.05s/it]"
     ]
    },
    {
     "name": "stdout",
     "output_type": "stream",
     "text": [
      "['39-45', '28', '46-51', '11-13', '24-27', '79', 'V10-V19', 'V40-V49']\n"
     ]
    },
    {
     "name": "stderr",
     "output_type": "stream",
     "text": [
      "103it [10:36,  8.39s/it]"
     ]
    },
    {
     "name": "stdout",
     "output_type": "stream",
     "text": [
      "['78', '46-51', '39-45', '52-57', '24-27', '14-20', 'V40-V49']\n"
     ]
    },
    {
     "name": "stderr",
     "output_type": "stream",
     "text": [
      "104it [10:45,  8.39s/it]"
     ]
    },
    {
     "name": "stdout",
     "output_type": "stream",
     "text": [
      "['78', '39-45', '24-27', '46-51', '52-57', 'V40-V49']\n"
     ]
    },
    {
     "name": "stderr",
     "output_type": "stream",
     "text": [
      "105it [10:53,  8.35s/it]"
     ]
    },
    {
     "name": "stdout",
     "output_type": "stream",
     "text": [
      "['52-57', '39-45', '24-27', '11-13', '28', '78', '14-20', '58-62']\n"
     ]
    },
    {
     "name": "stderr",
     "output_type": "stream",
     "text": [
      "106it [11:01,  8.38s/it]"
     ]
    },
    {
     "name": "stdout",
     "output_type": "stream",
     "text": [
      "['46-51', '14-20', '24-27', '78', '79', '29-31', '96-99']\n"
     ]
    },
    {
     "name": "stderr",
     "output_type": "stream",
     "text": [
      "107it [11:11,  8.71s/it]"
     ]
    },
    {
     "name": "stdout",
     "output_type": "stream",
     "text": [
      "['78', '29-31', '46-51', '52-57', '39-45', '11-13', '24-27', '28']\n"
     ]
    },
    {
     "name": "stderr",
     "output_type": "stream",
     "text": [
      "108it [11:19,  8.59s/it]"
     ]
    },
    {
     "name": "stdout",
     "output_type": "stream",
     "text": [
      "['78', '46-51', '39-45', '24-27', '11-13', 'V40-V49']\n"
     ]
    },
    {
     "name": "stderr",
     "output_type": "stream",
     "text": [
      "110it [11:28,  6.55s/it]"
     ]
    },
    {
     "name": "stdout",
     "output_type": "stream",
     "text": [
      "['39-45', '46-51', '24-27', '28', '78']\n"
     ]
    },
    {
     "name": "stderr",
     "output_type": "stream",
     "text": [
      "111it [11:36,  7.01s/it]"
     ]
    },
    {
     "name": "stdout",
     "output_type": "stream",
     "text": [
      "['32-35', '39-45', '46-51', '78', '79', '24-27', '29-31', '14-20']\n"
     ]
    },
    {
     "name": "stderr",
     "output_type": "stream",
     "text": [
      "112it [11:44,  7.31s/it]"
     ]
    },
    {
     "name": "stdout",
     "output_type": "stream",
     "text": [
      "['28', '78', '46-51', '24-27', '79', '39-45', 'V40-V49']\n"
     ]
    },
    {
     "name": "stderr",
     "output_type": "stream",
     "text": [
      "113it [11:53,  7.83s/it]"
     ]
    },
    {
     "name": "stdout",
     "output_type": "stream",
     "text": [
      "['39-45', '46-51', '14-20', '24-27', '28', '39-45', '58-62', '52-57', '68-70', '71-73', '78', '79']\n"
     ]
    },
    {
     "name": "stderr",
     "output_type": "stream",
     "text": [
      "115it [12:02,  6.41s/it]"
     ]
    },
    {
     "name": "stdout",
     "output_type": "stream",
     "text": [
      "['78', '46-51', '39-45', '32-35', '11-13', '24-27', '52-57', '68-70']\n"
     ]
    },
    {
     "name": "stderr",
     "output_type": "stream",
     "text": [
      "116it [12:11,  6.84s/it]"
     ]
    },
    {
     "name": "stdout",
     "output_type": "stream",
     "text": [
      "['78', '24-27', '39-45', '46-51', '79']\n"
     ]
    },
    {
     "name": "stderr",
     "output_type": "stream",
     "text": [
      "117it [12:20,  7.46s/it]"
     ]
    },
    {
     "name": "stdout",
     "output_type": "stream",
     "text": [
      "['52-57', '21-23', '39-45', '24-27', '78', '14-20', '79']\n"
     ]
    },
    {
     "name": "stderr",
     "output_type": "stream",
     "text": [
      "119it [12:29,  6.12s/it]"
     ]
    },
    {
     "name": "stdout",
     "output_type": "stream",
     "text": [
      "['39-45', '46-51', '29-31', '78', 'V10-V19', 'V40-V49', '24-27', '36-38']\n"
     ]
    },
    {
     "name": "stderr",
     "output_type": "stream",
     "text": [
      "120it [12:37,  6.59s/it]"
     ]
    },
    {
     "name": "stdout",
     "output_type": "stream",
     "text": [
      "['39-45', '24-27', '78', '28', '46-51', 'V40-V49', 'V10-V19', '79']\n"
     ]
    },
    {
     "name": "stderr",
     "output_type": "stream",
     "text": [
      "121it [12:44,  6.71s/it]"
     ]
    },
    {
     "name": "stdout",
     "output_type": "stream",
     "text": [
      "['38-39', '21-23', '39-45', '67', '79']\n"
     ]
    },
    {
     "name": "stderr",
     "output_type": "stream",
     "text": [
      "122it [12:52,  7.10s/it]"
     ]
    },
    {
     "name": "stdout",
     "output_type": "stream",
     "text": [
      "['52-57', '39-45', '24-27', '71-73', '58-62', '14-20', '78', '79']\n"
     ]
    },
    {
     "name": "stderr",
     "output_type": "stream",
     "text": [
      "123it [13:01,  7.69s/it]"
     ]
    },
    {
     "name": "stdout",
     "output_type": "stream",
     "text": [
      "['39-45', '46-51', '28', '78', '24-27', '79', '11-13', '14-20', '68-70', '32-35']\n"
     ]
    },
    {
     "name": "stderr",
     "output_type": "stream",
     "text": [
      "124it [13:10,  8.12s/it]"
     ]
    },
    {
     "name": "stdout",
     "output_type": "stream",
     "text": [
      "['78', '46-51', '29-31', '96-99', '39-45', 'V40-V49', '11-13', '24-27', '14-20', '28']\n"
     ]
    },
    {
     "name": "stderr",
     "output_type": "stream",
     "text": [
      "125it [13:19,  8.12s/it]"
     ]
    },
    {
     "name": "stdout",
     "output_type": "stream",
     "text": [
      "['78', '79', '24-27', '39-45', '52-57', '68-70', '71-73', '80-83']\n"
     ]
    },
    {
     "name": "stderr",
     "output_type": "stream",
     "text": [
      "126it [13:28,  8.43s/it]"
     ]
    },
    {
     "name": "stdout",
     "output_type": "stream",
     "text": [
      "['28', '29-31', '32-35', '39-45', '46-51', '52-57', '71-73', '78', '79', '84-95', '96-99']\n"
     ]
    },
    {
     "name": "stderr",
     "output_type": "stream",
     "text": [
      "127it [13:36,  8.37s/it]"
     ]
    },
    {
     "name": "stdout",
     "output_type": "stream",
     "text": [
      "['39-45', '46-51', '58-62', '68-70', '78', 'V10-V19', 'V40-V49', '79']\n"
     ]
    },
    {
     "name": "stderr",
     "output_type": "stream",
     "text": [
      "128it [13:45,  8.64s/it]"
     ]
    },
    {
     "name": "stdout",
     "output_type": "stream",
     "text": [
      "['78', '32-35', '39-45', '29-31', '24-27', '46-51', '14-20', '21-23', '68-70', 'V40-V49']\n"
     ]
    },
    {
     "name": "stderr",
     "output_type": "stream",
     "text": [
      "129it [13:56,  9.19s/it]"
     ]
    },
    {
     "name": "stdout",
     "output_type": "stream",
     "text": [
      "['78', '24-27', '71-73', '46-51', '39-45', '52-57', '28', '11-13', '14-20', '58-62']\n"
     ]
    },
    {
     "name": "stderr",
     "output_type": "stream",
     "text": [
      "130it [14:04,  8.94s/it]"
     ]
    },
    {
     "name": "stdout",
     "output_type": "stream",
     "text": [
      "['78', '58-62', '39-45', '52-57', '28', '11-13', '24-27', '00-10', '79']\n"
     ]
    },
    {
     "name": "stderr",
     "output_type": "stream",
     "text": [
      "131it [14:13,  9.05s/it]"
     ]
    },
    {
     "name": "stdout",
     "output_type": "stream",
     "text": [
      "['46-51', '78', '29-31', '96-99', '32-35', '39-45', '52-57', '28', '24-27', '46-51']\n"
     ]
    },
    {
     "name": "stderr",
     "output_type": "stream",
     "text": [
      "132it [14:23,  9.18s/it]"
     ]
    },
    {
     "name": "stdout",
     "output_type": "stream",
     "text": [
      "['52-57', '46-51', '39-45', '14-20', '28', '68-70', '78', 'V40-V49', 'V50-V59', '96-99']\n"
     ]
    },
    {
     "name": "stderr",
     "output_type": "stream",
     "text": [
      "133it [14:31,  8.91s/it]"
     ]
    },
    {
     "name": "stdout",
     "output_type": "stream",
     "text": [
      "['39-45', '46-51', '78', '24-27', '14-20', '29-31']\n"
     ]
    },
    {
     "name": "stderr",
     "output_type": "stream",
     "text": [
      "134it [14:39,  8.71s/it]"
     ]
    },
    {
     "name": "stdout",
     "output_type": "stream",
     "text": [
      "['78', '52-57', '39-45', '46-51', '24-27', '00-10', '21-23', '28', '36-38']\n"
     ]
    },
    {
     "name": "stderr",
     "output_type": "stream",
     "text": [
      "136it [14:49,  6.83s/it]"
     ]
    },
    {
     "name": "stdout",
     "output_type": "stream",
     "text": [
      "['39-45', '46-51', '24-27', '52-57', '78', '29-31', '32-35', '58-62']\n"
     ]
    },
    {
     "name": "stderr",
     "output_type": "stream",
     "text": [
      "137it [14:57,  7.23s/it]"
     ]
    },
    {
     "name": "stdout",
     "output_type": "stream",
     "text": [
      "['39-45', '71-73', 'V40-V49', '29-31', '78', '46-51', '96-99', '58-62', '32-35', 'V50-V59', '68-70', 'V10-V19', '52-57', '36-38', '28', '79', '24-27', '00-10']\n"
     ]
    },
    {
     "name": "stderr",
     "output_type": "stream",
     "text": [
      "140it [15:06,  5.08s/it]"
     ]
    },
    {
     "name": "stdout",
     "output_type": "stream",
     "text": [
      "['46-51', '39-45', '24-27', 'V78-V78', '28', '78', 'V10-V19', 'V40-V49']\n"
     ]
    },
    {
     "name": "stderr",
     "output_type": "stream",
     "text": [
      "141it [15:15,  5.69s/it]"
     ]
    },
    {
     "name": "stdout",
     "output_type": "stream",
     "text": [
      "['28', '52-57', '21-23', '39-45', '78', '14-20']\n"
     ]
    },
    {
     "name": "stderr",
     "output_type": "stream",
     "text": [
      "142it [15:23,  6.26s/it]"
     ]
    },
    {
     "name": "stdout",
     "output_type": "stream",
     "text": [
      "['46-51', '14-20', '39-45', '11-13', '78', '24-27', '28', 'V40-V49']\n"
     ]
    },
    {
     "name": "stderr",
     "output_type": "stream",
     "text": [
      "143it [15:32,  6.97s/it]"
     ]
    },
    {
     "name": "stdout",
     "output_type": "stream",
     "text": [
      "['39-45', '46-51', '24-27', '78', 'V40-V49', 'V60-V69']\n"
     ]
    },
    {
     "name": "stderr",
     "output_type": "stream",
     "text": [
      "144it [15:40,  7.26s/it]"
     ]
    },
    {
     "name": "stdout",
     "output_type": "stream",
     "text": [
      "['46-51', '39-45', '24-27', '28', '79']\n"
     ]
    },
    {
     "name": "stderr",
     "output_type": "stream",
     "text": [
      "145it [15:48,  7.50s/it]"
     ]
    },
    {
     "name": "stdout",
     "output_type": "stream",
     "text": [
      "['80-83', '14-20', '96-99', '46-51', '28', '78', '79', '24-27', '84-95']\n"
     ]
    },
    {
     "name": "stderr",
     "output_type": "stream",
     "text": [
      "146it [15:58,  8.03s/it]"
     ]
    },
    {
     "name": "stdout",
     "output_type": "stream",
     "text": [
      "['39-45', '46-51', '78', 'V40-V49', 'V70-V82']\n"
     ]
    },
    {
     "name": "stderr",
     "output_type": "stream",
     "text": [
      "147it [16:07,  8.32s/it]"
     ]
    },
    {
     "name": "stdout",
     "output_type": "stream",
     "text": [
      "['39-45', '46-51', '78', '68-70', '24-27', '11-13']\n"
     ]
    },
    {
     "name": "stderr",
     "output_type": "stream",
     "text": [
      "148it [16:15,  8.29s/it]"
     ]
    },
    {
     "name": "stdout",
     "output_type": "stream",
     "text": [
      "Here is the output:\n",
      "\n",
      "['78', '39-45', '46-51', '71-73', '84-95']\n"
     ]
    },
    {
     "name": "stderr",
     "output_type": "stream",
     "text": [
      "149it [16:25,  8.84s/it]"
     ]
    },
    {
     "name": "stdout",
     "output_type": "stream",
     "text": [
      "['14-20', '46-51', '39-45', '78', '71-73', '24-27', '11-13', '28']\n"
     ]
    },
    {
     "name": "stderr",
     "output_type": "stream",
     "text": [
      "150it [16:34,  8.95s/it]"
     ]
    },
    {
     "name": "stdout",
     "output_type": "stream",
     "text": [
      "['78', '79', '52-57', '39-45', '28', '24-27', '68-70', '32-35', '46-51', '80-83']\n"
     ]
    },
    {
     "name": "stderr",
     "output_type": "stream",
     "text": [
      "151it [16:44,  9.06s/it]"
     ]
    },
    {
     "name": "stdout",
     "output_type": "stream",
     "text": [
      "['78', '39-45', '46-51', '24-27', '29-31', 'V40-V49', 'V60-V69']\n"
     ]
    },
    {
     "name": "stderr",
     "output_type": "stream",
     "text": [
      "153it [16:52,  6.83s/it]"
     ]
    },
    {
     "name": "stdout",
     "output_type": "stream",
     "text": [
      "['14-20', '29-31', '78', '46-51', '96-99', '71-73', '58-62', '32-35', '39-45', 'V10-V19', '52-57', '28', '79', '11-13', '24-27', '00-10']\n"
     ]
    },
    {
     "name": "stderr",
     "output_type": "stream",
     "text": [
      "154it [17:01,  7.46s/it]"
     ]
    },
    {
     "name": "stdout",
     "output_type": "stream",
     "text": [
      "['52-57', '39-45', '28', '24-27', '46-51', '79', '78', '11-13', '29-31']\n"
     ]
    },
    {
     "name": "stderr",
     "output_type": "stream",
     "text": [
      "155it [17:11,  7.90s/it]"
     ]
    },
    {
     "name": "stdout",
     "output_type": "stream",
     "text": [
      "['78', '24-27', '39-45', '46-51', '29-31', '52-57', '79', '32-35', '74-75', '84-95', '96-99']\n"
     ]
    },
    {
     "name": "stderr",
     "output_type": "stream",
     "text": [
      "156it [17:20,  8.23s/it]"
     ]
    },
    {
     "name": "stdout",
     "output_type": "stream",
     "text": [
      "['14-20', '39-45', '46-51', '58-62', '68-70', '71-73', '78', '79', '96-99']\n"
     ]
    },
    {
     "name": "stderr",
     "output_type": "stream",
     "text": [
      "157it [17:29,  8.48s/it]"
     ]
    },
    {
     "name": "stdout",
     "output_type": "stream",
     "text": [
      "['00-10', '24-27', '28', '39-45', '52-57', '78', '80-83', '84-95', '96-99']\n"
     ]
    },
    {
     "name": "stderr",
     "output_type": "stream",
     "text": [
      "158it [17:50, 12.16s/it]"
     ]
    },
    {
     "name": "stdout",
     "output_type": "stream",
     "text": [
      "['39-45', '78', '46-51', '28', '52-57', '24-27', 'V40-V49']\n"
     ]
    },
    {
     "name": "stderr",
     "output_type": "stream",
     "text": [
      "160it [17:51,  6.89s/it]"
     ]
    },
    {
     "name": "stdout",
     "output_type": "stream",
     "text": [
      "['14-20', '21-23', 'V40-V49', '78', '46-51', '32-35', '39-45', 'V10-V19', '28', '11-13', '24-27', '52-57']\n"
     ]
    },
    {
     "name": "stderr",
     "output_type": "stream",
     "text": [
      "161it [17:56,  6.47s/it]"
     ]
    },
    {
     "name": "stdout",
     "output_type": "stream",
     "text": [
      "['52-57', '28', '39-45', '58-62', '21-23', '46-51', '52-57', '14-20']\n"
     ]
    },
    {
     "name": "stderr",
     "output_type": "stream",
     "text": [
      "162it [18:04,  6.91s/it]"
     ]
    },
    {
     "name": "stdout",
     "output_type": "stream",
     "text": [
      "['32-35', '39-45', '28', '78', '24-27']\n"
     ]
    },
    {
     "name": "stderr",
     "output_type": "stream",
     "text": [
      "164it [18:14,  5.98s/it]"
     ]
    },
    {
     "name": "stdout",
     "output_type": "stream",
     "text": [
      "['V40-V49', '78', '39-45', '46-51', '96-99', '32-35', 'V50-V59', '68-70', '28', '79', '11-13', '24-27', '00-10']\n"
     ]
    },
    {
     "name": "stderr",
     "output_type": "stream",
     "text": [
      "165it [18:22,  6.51s/it]"
     ]
    },
    {
     "name": "stdout",
     "output_type": "stream",
     "text": [
      "['39-45', '46-51', '24-27', '36-38', '79', '78', 'V40-V49']\n"
     ]
    },
    {
     "name": "stderr",
     "output_type": "stream",
     "text": [
      "167it [18:32,  5.81s/it]"
     ]
    },
    {
     "name": "stdout",
     "output_type": "stream",
     "text": [
      "['39-45', '29-31', '71-73', '46-51', '96-99', '32-35', '14-20', '58-62', '68-70', '78', '80-83', 'V10-V19', '52-57', '28', '79', '11-13', '24-27', '00-10']\n"
     ]
    },
    {
     "name": "stderr",
     "output_type": "stream",
     "text": [
      "168it [18:41,  6.58s/it]"
     ]
    },
    {
     "name": "stdout",
     "output_type": "stream",
     "text": [
      "['78', '39-45', '71-73', '52-57', '46-51', '29-31', '32-35', '11-13', '24-27', '14-20']\n"
     ]
    },
    {
     "name": "stderr",
     "output_type": "stream",
     "text": [
      "169it [18:50,  7.27s/it]"
     ]
    },
    {
     "name": "stdout",
     "output_type": "stream",
     "text": [
      "['58-62', '14-20', '78', '32-35', '39-45', '28', '24-27', '52-57']\n"
     ]
    },
    {
     "name": "stderr",
     "output_type": "stream",
     "text": [
      "170it [18:59,  7.52s/it]"
     ]
    },
    {
     "name": "stdout",
     "output_type": "stream",
     "text": [
      "['29-31', '39-45', '46-51', '52-57', '58-62', '78', '79', '96-99']\n"
     ]
    },
    {
     "name": "stderr",
     "output_type": "stream",
     "text": [
      "171it [19:07,  7.80s/it]"
     ]
    },
    {
     "name": "stdout",
     "output_type": "stream",
     "text": [
      "['39-45', '46-51', 'V40-V49', 'V50-V59', '68-70', '78', '79', '28', '24-27', '52-57']\n"
     ]
    },
    {
     "name": "stderr",
     "output_type": "stream",
     "text": [
      "172it [19:15,  7.91s/it]"
     ]
    },
    {
     "name": "stdout",
     "output_type": "stream",
     "text": [
      "['52-57', '24-27', '39-45', '78', '14-20', '46-51', '11-13', '79']\n"
     ]
    },
    {
     "name": "stderr",
     "output_type": "stream",
     "text": [
      "173it [19:26,  8.60s/it]"
     ]
    },
    {
     "name": "stdout",
     "output_type": "stream",
     "text": [
      "['46-51', '39-45', '24-27', '78', '14-20', '28', '96-99']\n"
     ]
    },
    {
     "name": "stderr",
     "output_type": "stream",
     "text": [
      "174it [19:36,  9.13s/it]"
     ]
    },
    {
     "name": "stdout",
     "output_type": "stream",
     "text": [
      "['39-45', '29-31', '78', '46-51', '96-99', '71-73', '58-62', '32-35', 'V50-V59', '68-70', '39-45', 'V60-V69', 'V10-V19', '52-57', '36-38', '28', '79', '24-27']\n"
     ]
    },
    {
     "name": "stderr",
     "output_type": "stream",
     "text": [
      "175it [19:44,  8.86s/it]"
     ]
    },
    {
     "name": "stdout",
     "output_type": "stream",
     "text": [
      "['46-51', '39-45', '14-20', '78', '29-31']\n"
     ]
    },
    {
     "name": "stderr",
     "output_type": "stream",
     "text": [
      "176it [19:53,  8.67s/it]"
     ]
    },
    {
     "name": "stdout",
     "output_type": "stream",
     "text": [
      "['52-57', '39-45', '24-27', '28', '78', '46-51', '96-99', '58-62', '68-70', '79']\n"
     ]
    },
    {
     "name": "stderr",
     "output_type": "stream",
     "text": [
      "177it [20:02,  8.82s/it]"
     ]
    },
    {
     "name": "stdout",
     "output_type": "stream",
     "text": [
      "['39-45', '46-51', '24-27', '52-57', '78', 'V40-V49']\n"
     ]
    },
    {
     "name": "stderr",
     "output_type": "stream",
     "text": [
      "178it [20:10,  8.60s/it]"
     ]
    },
    {
     "name": "stdout",
     "output_type": "stream",
     "text": [
      "['52-57', '39-45', '28', '24-27', '46-51', '58-62', '78', '32-35']\n"
     ]
    },
    {
     "name": "stderr",
     "output_type": "stream",
     "text": [
      "180it [20:19,  6.74s/it]"
     ]
    },
    {
     "name": "stdout",
     "output_type": "stream",
     "text": [
      "['39-45', '46-51', '78', '52-57', '28', '24-27', '96-99']\n"
     ]
    },
    {
     "name": "stderr",
     "output_type": "stream",
     "text": [
      "181it [20:28,  7.31s/it]"
     ]
    },
    {
     "name": "stdout",
     "output_type": "stream",
     "text": [
      "['46-51', '24-27', '14-20', '71-73', '28', '78', '39-45', '52-57']\n"
     ]
    },
    {
     "name": "stderr",
     "output_type": "stream",
     "text": [
      "182it [20:34,  6.98s/it]"
     ]
    },
    {
     "name": "stdout",
     "output_type": "stream",
     "text": [
      "['71-73', '78', '36-38', '24-27', '29-31']\n"
     ]
    },
    {
     "name": "stderr",
     "output_type": "stream",
     "text": [
      "183it [20:43,  7.56s/it]"
     ]
    },
    {
     "name": "stdout",
     "output_type": "stream",
     "text": [
      "['14-20', '78', '32-35', '39-45', '80-83', '28', '24-27', '79', '14-20', '68-70', '96-99']\n"
     ]
    },
    {
     "name": "stderr",
     "output_type": "stream",
     "text": [
      "184it [20:52,  8.01s/it]"
     ]
    },
    {
     "name": "stdout",
     "output_type": "stream",
     "text": [
      "['78', '39-45', '24-27', '28', '29-31', '52-57', '58-62', '68-70', '79', '80-83', '84-95', 'V40-V49', 'V50-V59']\n"
     ]
    },
    {
     "name": "stderr",
     "output_type": "stream",
     "text": [
      "185it [21:01,  8.08s/it]"
     ]
    },
    {
     "name": "stdout",
     "output_type": "stream",
     "text": [
      "['11-13', '78', '52-57', '39-45', '24-27', '36-38', '46-51', 'V10-V19']\n"
     ]
    },
    {
     "name": "stderr",
     "output_type": "stream",
     "text": [
      "186it [21:10,  8.40s/it]"
     ]
    },
    {
     "name": "stdout",
     "output_type": "stream",
     "text": [
      "['39-45', '78', '32-35', '28', '24-27', '46-51']\n"
     ]
    },
    {
     "name": "stderr",
     "output_type": "stream",
     "text": [
      "187it [21:18,  8.39s/it]"
     ]
    },
    {
     "name": "stdout",
     "output_type": "stream",
     "text": [
      "['78', '21-23', '39-45', '52-57', '24-27', '36-38', '11-13']\n"
     ]
    },
    {
     "name": "stderr",
     "output_type": "stream",
     "text": [
      "188it [21:26,  8.33s/it]"
     ]
    },
    {
     "name": "stdout",
     "output_type": "stream",
     "text": [
      "['28', '78', '46-51', '24-27', '39-45', '52-57', '28', '79']\n"
     ]
    },
    {
     "name": "stderr",
     "output_type": "stream",
     "text": [
      "189it [21:36,  8.63s/it]"
     ]
    },
    {
     "name": "stdout",
     "output_type": "stream",
     "text": [
      "['32-35', '39-45', '46-51', '52-57', '78', '79', 'V40-V49', 'V50-V59', 'V60-V69']\n"
     ]
    },
    {
     "name": "stderr",
     "output_type": "stream",
     "text": [
      "190it [21:42,  7.90s/it]"
     ]
    },
    {
     "name": "stdout",
     "output_type": "stream",
     "text": [
      "['39-45', '21-23', '11-13', '78', '14-20', '46-51']\n"
     ]
    },
    {
     "name": "stderr",
     "output_type": "stream",
     "text": [
      "193it [21:51,  5.17s/it]"
     ]
    },
    {
     "name": "stdout",
     "output_type": "stream",
     "text": [
      "['78', '32-35', '39-45', '79', '24-27', '11-13', '68-70']\n"
     ]
    },
    {
     "name": "stderr",
     "output_type": "stream",
     "text": [
      "194it [21:58,  5.64s/it]"
     ]
    },
    {
     "name": "stdout",
     "output_type": "stream",
     "text": [
      "['57-57', '52-57', '786-79', '21-23', '46-51', '39-45', '14-20', '24-27']\n"
     ]
    },
    {
     "name": "stderr",
     "output_type": "stream",
     "text": [
      "199it [22:07,  3.36s/it]"
     ]
    },
    {
     "name": "stdout",
     "output_type": "stream",
     "text": [
      "['78', '32-35', '39-45', '52-57', '68-70', '71-73', '79', '84-95', '96-99']\n"
     ]
    },
    {
     "name": "stderr",
     "output_type": "stream",
     "text": [
      "200it [41:50, 176.10s/it]"
     ]
    },
    {
     "name": "stdout",
     "output_type": "stream",
     "text": [
      "['78', '32-35', '68-70', '39-45', '79', '24-27', '11-13']\n"
     ]
    },
    {
     "name": "stderr",
     "output_type": "stream",
     "text": [
      "200it [41:51, 12.56s/it] "
     ]
    },
    {
     "name": "stdout",
     "output_type": "stream",
     "text": [
      "['39-45', '46-51', '52-57', '24-27', '78', '79', 'V10-V19', 'V40-V49']\n",
      "Number of rows : 154\n",
      "[['24-27', '14-20'], ['24-27', '52-57', '46-51', '74-75', '32-35', '39-45', 'V40-V49', '29-31'], ['28', '84-95', '52-57', '96-99', '46-51', '39-45', '00-10'], ['24-27', '28', '96-99', '52-57', '58-62', '39-45', '29-31'], ['24-27', '28', '78', '58-62', '39-45', 'V40-V49'], ['24-27', '78', '32-35', '39-45', '29-31'], ['78', '52-57', '96-99', '58-62', '29-31', '00-10'], ['24-27', '78', '46-51', '39-45', '00-10'], ['24-27', '78', '29-31', '39-45'], ['78', '96-99', '46-51', '39-45', '14-20', '00-10'], ['28', '11-13', '96-99', '46-51', '58-62', '39-45', '00-10'], ['24-27', '52-57', '46-51', '58-62', '39-45', '00-10'], ['46-51', '28', '58-62', '39-45'], ['32-35', '84-95'], ['24-27', '28', '11-13', '36-38', '39-45', '21-23'], ['24-27', '78', '71-73', '84-95', '96-99', '39-45'], ['24-27', '28', '71-73', '78', '96-99', '46-51', '79', '58-62', '68-70', '29-31'], ['24-27', '28', '78', '52-57', '46-51', '79', '58-62', '68-70', '39-45', '21-23', 'V10-V19'], ['24-27', '29-31', '39-45'], ['24-27', '39-45'], ['24-27', '71-73', '46-51', '68-70', '39-45', 'V01-V09'], ['24-27', '78', '84-95', '58-62', '39-45'], ['24-27', '78', '11-13', '52-57', '39-45'], ['V40-V49', 'V10-V19', '14-20', '71-73'], ['24-27', '78', '28', '52-57', '58-62', '39-45', 'V40-V49'], ['24-27', '78', '71-73', 'V50-V59', '84-95', '46-51', '79', '58-62', '32-35', '39-45', 'V40-V49', '21-23', '29-31', '00-10'], ['24-27', '78', '28', '84-95', '96-99', '36-38', '58-62', '32-35', '39-45', 'V40-V49', 'V10-V19', '00-10'], ['24-27', '28', '78', '52-57', '46-51', '79', '29-31'], ['24-27', '78', 'V50-V59', '11-13', '58-62', '32-35', '39-45', '14-20', '00-10'], ['24-27', 'V50-V59', '46-51', '79', '58-62', '39-45', '14-20'], ['24-27', '28', '71-73', '78', 'V50-V59', '11-13', '52-57', '46-51', '32-35', '39-45', '29-31', 'V10-V19', '00-10'], ['24-27', '78', 'V50-V59', '52-57', '96-99', '46-51', '68-70', '58-62', '39-45', 'V40-V49', '21-23', 'V10-V19', '00-10'], ['24-27', '28', '78', 'V50-V59', '52-57', '96-99', '46-51', '58-62', '32-35', '39-45', '29-31', 'V60-V69', 'V10-V19', '00-10'], ['24-27', '58-62', '52-57', '39-45'], ['52-57', '28', '00-10', '39-45'], ['V40-V49', '24-27', '71-73', '39-45'], ['24-27', '78', '96-99', '52-57', '46-51', '79', '32-35', '39-45', '29-31', '00-10'], ['24-27', '96-99', '52-57', '74-75', '58-62', '39-45', 'V40-V49', 'V10-V19'], ['24-27', '78', '52-57', '36-38', '46-51', '58-62', '32-35', '39-45', 'V40-V49', '29-31', 'V10-V19'], ['24-27', '78', '71-73', '96-99', '46-51', '39-45', 'V10-V19'], ['78', '52-57', '96-99', '46-51', '58-62', '39-45', '29-31', '00-10'], ['28', '46-51', '39-45', 'V40-V49', '29-31'], ['24-27', 'V50-V59', '71-73', '52-57', '46-51', 'V70-V82', '39-45', 'V40-V49', '29-31', 'V10-V19'], ['24-27', '52-57', '58-62', '74-75', '39-45'], ['24-27', '46-51', '58-62', '39-45'], ['24-27', '28', '52-57', '79', '39-45', '21-23', '29-31', 'V10-V19'], ['24-27', '28', '78', 'V50-V59', '52-57', '68-70', '29-31', 'V60-V69', '00-10'], ['24-27', '78', 'V50-V59', '52-57', '96-99', '58-62', '32-35', '29-31', '00-10'], ['24-27', 'V50-V59', '52-57', '58-62', '39-45'], ['24-27', '28', '78', '52-57', '39-45', 'V40-V49', '14-20'], ['24-27', 'V50-V59', '28', '96-99', '36-38', '58-62', '32-35', '39-45', '00-10'], ['24-27', '28', '78', '58-62', '32-35', '39-45', 'V40-V49'], ['24-27', '28', '52-57', '96-99', '46-51', '58-62', '68-70', '39-45', 'V40-V49', '00-10'], ['24-27', '78', '79', '58-62', '32-35', '39-45', 'V40-V49', 'V10-V19', '00-10'], ['24-27', '52-57', '58-62', '39-45', '14-20', 'V10-V19', '00-10'], ['63-66', '71-73', '28', '84-95', '52-57', '46-51', '79', '39-45', '67', '29-31', '00-10'], ['24-27', '46-51', 'V10-V19', '39-45'], ['24-27', '78', '28', '96-99', '46-51', '58-62', 'V70-V82', '39-45', '68-70', '29-31', 'V10-V19', '00-10'], ['58-62', '46-51', '14-20', '39-45'], ['24-27', '29-31', '32-35', '39-45'], ['78', '58-62', '68-70', '39-45', 'V40-V49'], ['24-27', '71-73', '52-57', '46-51', '58-62', '32-35', '39-45', 'V40-V49'], ['24-27', '46-51', '39-45'], ['39-45', '28', '29-31'], ['24-27', '96-99', '36-38', '39-45', 'V10-V19'], ['24-27', '52-57', '46-51', '39-45', 'V40-V49', 'V60-V69'], ['80-83', '84-95', '52-57', '46-51', '39-45'], ['24-27', '78', '28', '96-99', '39-45'], ['78', '46-51', '79', '39-45', '00-10'], ['24-27', '78', '71-73', '28', '96-99', '52-57', '46-51', '36-38', '32-35', '39-45', 'V40-V49'], ['24-27', '78', '71-73', '28', '52-57', '96-99', '46-51', '58-62', '68-70', '39-45', '32-35', 'V40-V49', 'V10-V19', '00-10'], ['46-51', '39-45'], ['28', '46-51', '58-62', '68-70', '39-45', 'V40-V49'], ['24-27', 'V50-V59', '78', '46-51', '58-62', '32-35', '39-45', 'V40-V49'], ['52-57', 'V10-V19', '14-20', '39-45'], ['24-27', '71-73', '46-51', '79', '58-62', '39-45', '14-20'], ['78', '28', '96-99', '52-57', '46-51', '58-62', '39-45', 'V40-V49', '21-23', '00-10'], ['24-27', '63-66', 'V50-V59', '46-51', 'V85-V85'], ['24-27', '28', '96-99', '52-57', '46-51', '74-75', '39-45'], ['78', '11-13', '96-99', '46-51', '14-20', '29-31', '00-10'], ['24-27', '78', '71-73', '52-57', '36-38', '46-51', '79', '58-62', '32-35', '39-45', '29-31', 'V10-V19'], ['28', '96-99', '52-57', '46-51', '79', '39-45', '29-31'], ['24-27', 'V50-V59', '71-73', '46-51', '58-62', '32-35', '39-45'], ['24-27', '78', '71-73', '96-99', '46-51', '58-62', '39-45', '00-10'], ['52-57', '39-45', '58-62', '29-31'], ['24-27', '78', '52-57', '32-35', '39-45'], ['24-27', '39-45'], ['46-51', 'V10-V19', '39-45'], ['24-27', '52-57', '58-62', '39-45', 'V40-V49'], ['24-27', 'V50-V59', '28', '96-99', '52-57', '46-51', '58-62', '32-35', '39-45', '68-70', 'V40-V49', '29-31', 'V10-V19', '00-10'], ['24-27', '78', '28', '52-57', '46-51', '79', '39-45', 'V40-V49', '29-31'], ['24-27', '80-83', '71-73', '84-95', '58-62', '39-45'], ['78', '28', 'V88-V88', '74-75', '39-45'], ['96-99', '24-27', '68-70', '39-45'], ['24-27', '78', 'V50-V59', '52-57', '46-51', '58-62', '32-35', '39-45', 'V40-V49', '29-31', 'V10-V19'], ['28', '52-57', '96-99', '29-31', '00-10'], ['24-27', '28', 'V50-V59', '52-57', '39-45', 'V10-V19'], ['24-27', 'V50-V59', '84-95', '52-57', '46-51', '39-45', 'V10-V19'], ['24-27', '71-73', '52-57', '39-45', 'V10-V19'], ['96-99', '39-45'], ['24-27', '28', '78', 'V50-V59', '52-57', '96-99', '58-62', '68-70', '39-45', '32-35', 'V40-V49', '00-10', 'V01-V09'], ['96-99', '46-51', '52-57', '39-45'], ['24-27', '28', '11-13', '96-99', '52-57', '39-45'], ['24-27', '39-45'], ['28', '96-99', '52-57', '39-45', 'V40-V49', 'V10-V19'], ['28', '46-51', '79', 'V40-V49', '21-23', '29-31', 'V10-V19'], ['24-27', '46-51', '39-45'], ['24-27', '28', '71-73', '46-51', '39-45', 'V40-V49', '29-31'], ['24-27', '80-83', '28', '78', 'V50-V59', '52-57', '96-99', '46-51', '79', '39-45', 'V40-V49', '29-31', 'V10-V19'], ['52-57', '46-51', '58-62', 'V70-V82', '39-45', 'V10-V19'], ['52-57', '46-51', '58-62', '39-45', '14-20'], ['24-27', '80-83', '28', 'V50-V59', '84-95', '96-99', '46-51', '39-45', 'V40-V49', '29-31', 'V10-V19'], ['24-27', '28', '71-73', '96-99', '46-51', '58-62', '68-70', '14-20', '29-31', '00-10'], ['24-27', '28', '52-57', '39-45', 'V10-V19', '00-10'], ['46-51', 'V10-V19', '14-20', '39-45'], ['24-27', '78', '71-73', 'V50-V59', '96-99', '52-57', '46-51', '14-20', '29-31', '00-10'], ['24-27', '28', '78', '71-73', 'V50-V59', '52-57', '46-51', '58-62', '39-45', '29-31', 'V10-V19', 'V01-V09'], ['24-27', '46-51', '32-35', '39-45', '14-20'], ['28', '78', '71-73', '84-95', '52-57', '96-99', '58-62', '39-45', '00-10'], ['24-27', '78', '52-57', '96-99', '46-51', '39-45', 'V40-V49', 'V10-V19', '00-10'], ['24-27', '78', '28', '52-57', '46-51', '79', '58-62', '32-35', '39-45', '68-70', 'V40-V49', '14-20', '29-31'], ['24-27', '28', '96-99', '58-62', '39-45', '14-20', 'V10-V19'], ['24-27', '28', '52-57', '46-51', '58-62', '32-35', '39-45', '29-31'], ['24-27', '84-95', '46-51', '32-35', '39-45'], ['78', '46-51', '32-35', '39-45', 'V40-V49', '14-20', 'V10-V19'], ['24-27', '96-99', '32-35', '39-45', 'V10-V19'], ['24-27', '71-73', '96-99', '32-35', '39-45', '29-31'], ['24-27', '78', '52-57', 'V70-V82', '32-35', '39-45', 'V40-V49', '14-20', 'V60-V69', 'V10-V19'], ['24-27', '58-62', '78', '14-20'], ['28', '58-62', '32-35', '29-31'], ['36-38', 'V10-V19', '71-73', '39-45'], ['24-27', '28', '52-57', '46-51', '58-62', '39-45', '14-20', 'V10-V19', '00-10'], ['24-27', '96-99', '52-57', '46-51', '58-62', '39-45', 'V10-V19', '00-10', 'V01-V09'], ['24-27', '28', '52-57', '46-51', '39-45'], ['24-27', '78', '46-51', '58-62', '39-45'], ['24-27', '28', '71-73', '78', 'V50-V59', '52-57', '58-62', '32-35', '39-45', 'V40-V49', 'V10-V19', 'V01-V09'], ['24-27', 'V10-V19', '36-38', '39-45'], ['28', '52-57', '79', '32-35', '39-45', '14-20', 'V10-V19'], ['24-27', '71-73', '52-57', '46-51', '58-62', '39-45', 'V40-V49', '14-20'], ['71-73', '96-99', '36-38', '46-51', '74-75', '32-35'], ['24-27', '28', '71-73', '32-35', '39-45'], ['24-27', 'V88-V88', '39-45'], ['24-27', '78', '71-73', '96-99', '46-51', '32-35', '39-45', '29-31', 'V10-V19'], ['24-27', '71-73', '96-99', '52-57', '46-51', '39-45', 'V40-V49', '29-31'], ['24-27', '78', '96-99', '39-45', 'V40-V49', '00-10'], ['24-27', '68-70', '39-45', '00-10'], ['24-27', '28', '78', '96-99', '52-57', '46-51', '32-35', '39-45', 'V40-V49', '29-31'], ['78', '46-51', '58-62', '32-35', '39-45'], ['71-73', '11-13', '96-99', '46-51', '32-35'], ['24-27', '78', '58-62', '32-35', '39-45'], ['52-57', '28', '39-45'], ['24-27', '46-51', '58-62', '68-70', '39-45'], ['24-27', '32-35', '39-45', 'V40-V49'], ['96-99', '36-38', '52-57', '58-62', '39-45', 'V40-V49', '00-10']]\n",
      "[['24-27', '78', '11-13', '52-57', '46-51', '39-45', 'V40-V49', '14-20', '29-31'], ['24-27', '28', '78', '46-51', '79', '39-45', '14-20', '29-31'], ['71-73', '11-13', '52-57', '79', '39-45', '14-20'], ['24-27', '28', '78', '46-51', '39-45'], ['24-27', '78', '28', '52-57', '46-51', '68-70', '39-45', 'V40-V49', '14-20'], ['24-27', '78', '28', '71-73', '96-99', '46-51', '32-35', '39-45', '14-20', '29-31'], ['24-27', '78', '52-57', '46-51', '39-45', '14-20'], ['24-27', '28', '78', '46-51', '39-45'], ['24-27', '28', '71-73', '78', '52-57', '96-99', '79', '58-62', '68-70', '39-45', '00-10'], ['24-27', '78', '28', '11-13', '96-99', '52-57', '46-51', '36-38', '39-45', 'V40-V49', '14-20', '29-31', 'V10-V19'], ['24-27', '78', '71-73', '84-95', '46-51', '79', '58-62', '32-35', '39-45', '14-20'], ['24-27', '78', '11-13', '52-57', '46-51', '79', '39-45', '29-31'], ['V40-V49', '46-51', '78', '96-99'], ['80-83', '78', '28', '46-51', '32-35', '39-45', '14-20'], ['24-27', '78', '11-13', '46-51', '39-45', '29-31'], ['24-27', '78', '71-73', '11-13', '96-99', '52-57', '46-51', '68-70', '39-45', '29-31'], ['24-27', '78', '71-73', '46-51', '79', '39-45'], ['24-27', '78', '52-57', '36-38', '46-51', '32-35', '39-45', 'V40-V49', '29-31', 'V10-V19'], ['36-38', '21-23', '14-20', '11-13'], ['24-27', '78', '46-51', '32-35', '39-45', '14-20', '29-31'], ['24-27', '78', '28', '11-13', '52-57', '46-51', '58-62', '39-45', 'V40-V49'], ['24-27', '78', '28', '84-95', '46-51', '79', '68-70', '39-45'], ['24-27', '78', '11-13', '52-57', '36-38', '84-95', '79', '39-45'], ['24-27', '78', 'V50-V59', '52-57', '36-38', '46-51', '58-62', '32-35', '39-45', 'V40-V49', '14-20', '29-31', 'V10-V19'], ['24-27', '78', '46-51', '68-70', '32-35', '39-45', '58-62'], ['24-27', '78', '28', '11-13', '46-51', '39-45'], ['80-83', '78', '96-99', '79', '32-35', '39-45'], ['24-27', '78', '28', '52-57', '36-38', '32-35', '39-45', '29-31'], ['24-27', '78', 'V50-V59', '52-57', '46-51', '39-45', 'V40-V49', '29-31'], ['24-27', '78', '11-13', '52-57', '46-51', '79', '58-62', '39-45', '21-23', '14-20'], ['24-27', '78', '11-13', '52-57', '68-70', '39-45'], ['28', '78', '52-57', '96-99', '46-51', '39-45'], ['24-27', '78', '11-13', '52-57', '58-62', '39-45', '21-23', '14-20', '29-31'], ['24-27', '78', '28', '46-51', '79', '39-45', 'V40-V49', 'V60-V69'], ['24-27', '78', '36-38', '52-57', '46-51', '79', '39-45'], ['24-27', '78', '71-73', '96-99', '46-51', '79', '68-70', '32-35', '39-45', '14-20'], ['24-27', '78', 'V50-V59', '96-99', '46-51', '32-35', '39-45'], ['24-27', '78', '52-57', '36-38', '46-51', '58-62', '39-45', '14-20', '29-31'], ['24-27', '78', '28', '96-99', '52-57', '46-51', '79', '32-35', '39-45', 'V40-V49', '14-20', '29-31'], ['46-51', '78', '71-73', '39-45'], ['24-27', '78', '71-73', '28', '52-57', '96-99', '46-51', '58-62', '39-45', '14-20'], ['24-27', '78', '52-57', '59-59', '21-23', '14-20', '29-31'], ['24-27', '78', '71-73', '46-51', '39-45', 'V40-V49', '29-31'], ['24-27', '28', '71-73', '46-51', '79', '39-45'], ['24-27', '78', '11-13', '46-51', '32-35', '29-31'], ['78', '71-73', '52-57', '39-45', 'V40-V49'], ['24-27', '80-83', '78', '71-73', '28', '96-99', '52-57', '79', '39-45', 'V40-V49', '29-31', 'V60-V69', '00-10'], ['24-27', '78', '28', '96-99', '46-51', '79', '32-35', '39-45', '29-31'], ['24-27', '78', '52-57', '32-35', '39-45'], ['24-27', '28', '78', '52-57', '46-51', '39-45'], ['24-27', '78', '28', '11-13', '52-57', '36-38', '58-62', '39-45'], ['78', '71-73', '46-51', '39-45', '29-31'], ['78', '28', '71-73', '52-57', '46-51', '79', '58-62', '32-35', '39-45', '29-31'], ['24-27', '28', '46-51', '39-45', 'V40-V49'], ['24-27', '28', '78', '11-13', '52-57', '68-70', '39-45', 'V40-V49', 'V60-V69'], ['24-27', '78', '71-73', '11-13', '46-51', '39-45', 'V40-V49', 'V10-V19'], ['24-27', '28', '78', '96-99', '46-51', '79', '39-45'], ['24-27', '78', '28', '11-13', '46-51', '79', '39-45', 'V40-V49', '29-31', 'V10-V19'], ['24-27', '78', '28', '46-51', '39-45', '29-31'], ['78', '52-57', '46-51', '32-35', '39-45'], ['24-27', '78', '96-99', '79', '58-62', '32-35', '39-45', '21-23', '14-20', '29-31'], ['24-27', '78', '71-73', '96-99', '46-51', '32-35', '39-45', 'V40-V49', '29-31'], ['24-27', '78', '84-95', '96-99', '46-51', '79', '39-45'], ['24-27', '80-83', '78', '28', '96-99', '79', '32-35', '39-45', '29-31'], ['78', '52-57', '36-38', '46-51', '39-45', '29-31'], ['24-27', '78', '28', '11-13', '52-57', '58-62', '39-45', 'V10-V19'], ['24-27', '78', '84-95', '96-99', '46-51', '32-35', '39-45', '21-23'], ['24-27', '28', '11-13', '46-51', '39-45'], ['24-27', '28', '78', '11-13', '52-57', '46-51', '39-45'], ['78', '71-73', '52-57', '46-51', '68-70', '32-35', '39-45', 'V40-V49', '14-20', '29-31'], ['24-27', '78', '28', '84-95', '46-51', '79', '58-62', '68-70', '39-45', 'V40-V49', '14-20'], ['24-27', '28', '11-13', '46-51', '79', '39-45', 'V40-V49', 'V10-V19'], ['24-27', '78', '52-57', '46-51', '39-45', 'V40-V49', '14-20'], ['24-27', '78', '52-57', '46-51', '39-45', 'V40-V49'], ['24-27', '28', '78', '11-13', '52-57', '58-62', '39-45', '14-20'], ['24-27', '78', '96-99', '46-51', '79', '14-20', '29-31'], ['24-27', '78', '28', '11-13', '52-57', '46-51', '39-45', '29-31'], ['24-27', '78', '11-13', '46-51', '39-45', 'V40-V49'], ['24-27', '28', '78', '46-51', '39-45'], ['24-27', '78', '46-51', '79', '32-35', '39-45', '14-20', '29-31'], ['24-27', '28', '78', '46-51', '79', '39-45', 'V40-V49'], ['24-27', '28', '71-73', '78', '52-57', '46-51', '79', '58-62', '68-70', '39-45', '14-20'], ['24-27', '78', '11-13', '52-57', '46-51', '68-70', '32-35', '39-45'], ['24-27', '78', '46-51', '79', '39-45'], ['24-27', '78', '52-57', '79', '39-45', '21-23', '14-20'], ['24-27', '78', '36-38', '46-51', '39-45', 'V40-V49', '29-31', 'V10-V19'], ['24-27', '78', '28', '46-51', '79', '39-45', 'V40-V49', 'V10-V19'], ['38-39', '79', '39-45', '21-23', '67'], ['24-27', '78', '71-73', '52-57', '79', '58-62', '39-45', '14-20'], ['24-27', '28', '78', '11-13', '46-51', '79', '68-70', '32-35', '39-45', '14-20'], ['24-27', '78', '28', '11-13', '96-99', '46-51', '39-45', 'V40-V49', '14-20', '29-31'], ['24-27', '80-83', '78', '71-73', '52-57', '79', '68-70', '39-45'], ['28', '71-73', '78', '84-95', '52-57', '96-99', '46-51', '79', '32-35', '39-45', '29-31'], ['78', '46-51', '79', '58-62', '68-70', '39-45', 'V40-V49', 'V10-V19'], ['24-27', '78', '46-51', '68-70', '32-35', '39-45', 'V40-V49', '21-23', '14-20', '29-31'], ['24-27', '78', '71-73', '28', '11-13', '52-57', '46-51', '58-62', '39-45', '14-20'], ['24-27', '28', '78', '11-13', '52-57', '79', '58-62', '39-45', '00-10'], ['24-27', '78', '28', '96-99', '52-57', '46-51', '32-35', '39-45', '29-31'], ['28', '78', 'V50-V59', '52-57', '96-99', '46-51', '68-70', '39-45', 'V40-V49', '14-20'], ['24-27', '78', '46-51', '39-45', '14-20', '29-31'], ['24-27', '78', '28', '52-57', '36-38', '46-51', '39-45', '21-23', '00-10'], ['24-27', '78', '52-57', '46-51', '58-62', '32-35', '39-45', '29-31'], ['24-27', '78', '71-73', 'V50-V59', '28', '96-99', '52-57', '46-51', '36-38', '58-62', '32-35', '39-45', '68-70', 'V40-V49', '79', '29-31', 'V10-V19', '00-10'], ['24-27', '28', '78', '46-51', '39-45', 'V40-V49', 'V10-V19', 'V78-V78'], ['28', '78', '52-57', '39-45', '21-23', '14-20'], ['24-27', '78', '28', '11-13', '46-51', '39-45', 'V40-V49', '14-20'], ['24-27', '78', '46-51', '39-45', 'V40-V49', 'V60-V69'], ['24-27', '28', '46-51', '79', '39-45'], ['24-27', '80-83', '28', '78', '84-95', '96-99', '46-51', '79', '14-20'], ['78', '46-51', 'V70-V82', '39-45', 'V40-V49'], ['24-27', '78', '11-13', '46-51', '68-70', '39-45'], ['71-73', \"re is the output:\\n\\n['78\", '84-95', '46-51', '39-45'], ['24-27', '78', '71-73', '28', '11-13', '46-51', '39-45', '14-20'], ['24-27', '80-83', '78', '28', '52-57', '46-51', '79', '68-70', '32-35', '39-45'], ['24-27', '78', '46-51', '39-45', 'V40-V49', '29-31', 'V60-V69'], ['24-27', '78', '71-73', '28', '11-13', '96-99', '52-57', '46-51', '79', '58-62', '32-35', '39-45', '14-20', '29-31', 'V10-V19', '00-10'], ['24-27', '28', '78', '11-13', '52-57', '46-51', '79', '39-45', '29-31'], ['24-27', '78', '84-95', '52-57', '96-99', '46-51', '79', '74-75', '32-35', '39-45', '29-31'], ['78', '71-73', '96-99', '46-51', '79', '58-62', '68-70', '39-45', '14-20'], ['24-27', '80-83', '28', '78', '84-95', '52-57', '96-99', '39-45', '00-10'], ['24-27', '78', '28', '52-57', '46-51', '39-45', 'V40-V49'], ['24-27', '78', '28', '11-13', '52-57', '46-51', '32-35', '39-45', 'V40-V49', '21-23', '14-20', 'V10-V19'], ['28', '52-57', '46-51', '58-62', '39-45', '21-23', '14-20'], ['24-27', '78', '28', '32-35', '39-45'], ['24-27', '78', 'V50-V59', '28', '11-13', '96-99', '46-51', '79', '68-70', '32-35', '39-45', 'V40-V49', '00-10'], ['24-27', '78', '36-38', '46-51', '79', '39-45', 'V40-V49'], ['24-27', '80-83', '78', '71-73', '28', '11-13', '96-99', '52-57', '46-51', '79', '58-62', '32-35', '39-45', '68-70', '14-20', '29-31', 'V10-V19', '00-10'], ['24-27', '78', '71-73', '11-13', '52-57', '46-51', '32-35', '39-45', '14-20', '29-31'], ['24-27', '78', '28', '52-57', '58-62', '32-35', '39-45', '14-20'], ['78', '52-57', '96-99', '46-51', '79', '58-62', '39-45', '29-31'], ['24-27', 'V50-V59', '78', '28', '52-57', '46-51', '79', '68-70', '39-45', 'V40-V49'], ['24-27', '78', '11-13', '52-57', '46-51', '79', '39-45', '14-20'], ['24-27', '78', '28', '96-99', '46-51', '39-45', '14-20'], ['24-27', '78', '71-73', 'V50-V59', '28', '96-99', '52-57', '46-51', '36-38', '58-62', '32-35', '39-45', '68-70', '79', '29-31', 'V60-V69', 'V10-V19'], ['78', '46-51', '39-45', '14-20', '29-31'], ['24-27', '28', '78', '52-57', '96-99', '46-51', '79', '58-62', '68-70', '39-45'], ['24-27', '78', '52-57', '46-51', '39-45', 'V40-V49'], ['24-27', '28', '78', '52-57', '46-51', '58-62', '32-35', '39-45'], ['24-27', '78', '28', '52-57', '96-99', '46-51', '39-45'], ['24-27', '28', '71-73', '78', '52-57', '46-51', '39-45', '14-20'], ['24-27', '78', '71-73', '36-38', '29-31'], ['24-27', '80-83', '78', '28', '96-99', '79', '68-70', '32-35', '39-45', '14-20'], ['24-27', '80-83', '78', '28', 'V50-V59', '84-95', '52-57', '79', '58-62', '68-70', '39-45', 'V40-V49', '29-31'], ['24-27', '78', '11-13', '52-57', '36-38', '46-51', '39-45', 'V10-V19'], ['24-27', '78', '28', '46-51', '32-35', '39-45'], ['24-27', '78', '11-13', '52-57', '36-38', '39-45', '21-23'], ['24-27', '28', '78', '52-57', '46-51', '79', '39-45'], ['78', 'V50-V59', '52-57', '46-51', '79', '32-35', '39-45', 'V40-V49', 'V60-V69'], ['78', '11-13', '46-51', '39-45', '21-23', '14-20'], ['24-27', '78', '11-13', '79', '68-70', '32-35', '39-45'], ['24-27', '786-79', '52-57', '46-51', '39-45', '57-57', '21-23', '14-20'], ['78', '71-73', '84-95', '52-57', '96-99', '79', '68-70', '32-35', '39-45'], ['24-27', '78', '11-13', '79', '68-70', '32-35', '39-45'], ['24-27', '78', '52-57', '46-51', '79', '39-45', 'V40-V49', 'V10-V19']]\n",
      "Macro Averaged AUROC Score: 0.5486782046142973\n",
      "Micro Averaged Precision: 0.47096774193548385\n",
      "Micro Averaged Recall: 0.5604606525911708\n",
      "Micro Averaged F1-Score: 0.5118317265556529\n",
      "Macro Averaged Precision: 0.24104349726805263\n",
      "Macro Averaged Recall: 0.2736193265312093\n",
      "Macro Averaged F1-Score: 0.23193513847237285\n"
     ]
    },
    {
     "name": "stderr",
     "output_type": "stream",
     "text": [
      "\n"
     ]
    }
   ],
   "source": [
    "metrics_calc(type = 'more than 3 symptoms',method='rag', model_name= 'groq')"
   ]
  },
  {
   "cell_type": "markdown",
   "metadata": {},
   "source": [
    "Macro Averaged AUROC Score: 0.5109374285884725\n",
    "Micro Averaged Precision: 0.20837487537387836\n",
    "Micro Averaged Recall: 0.40543161978661496\n",
    "Micro Averaged F1-Score: 0.2752716496542641\n",
    "Macro Averaged Precision: 0.1178654710859196\n",
    "Macro Averaged Recall: 0.20021469407742604\n",
    "Macro Averaged F1-Score: 0.11538564445445447"
   ]
  },
  {
   "cell_type": "code",
   "execution_count": null,
   "metadata": {},
   "outputs": [],
   "source": []
  },
  {
   "cell_type": "markdown",
   "metadata": {},
   "source": []
  },
  {
   "cell_type": "code",
   "execution_count": null,
   "metadata": {},
   "outputs": [],
   "source": []
  }
 ],
 "metadata": {
  "kernelspec": {
   "display_name": "astro",
   "language": "python",
   "name": "python3"
  },
  "language_info": {
   "codemirror_mode": {
    "name": "ipython",
    "version": 3
   },
   "file_extension": ".py",
   "mimetype": "text/x-python",
   "name": "python",
   "nbconvert_exporter": "python",
   "pygments_lexer": "ipython3",
   "version": "3.12.3"
  }
 },
 "nbformat": 4,
 "nbformat_minor": 2
}
