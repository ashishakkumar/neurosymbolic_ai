{
 "cells": [
  {
   "cell_type": "code",
   "execution_count": 94,
   "metadata": {},
   "outputs": [
    {
     "data": {
      "text/html": [
       "<div>\n",
       "<style scoped>\n",
       "    .dataframe tbody tr th:only-of-type {\n",
       "        vertical-align: middle;\n",
       "    }\n",
       "\n",
       "    .dataframe tbody tr th {\n",
       "        vertical-align: top;\n",
       "    }\n",
       "\n",
       "    .dataframe thead th {\n",
       "        text-align: right;\n",
       "    }\n",
       "</style>\n",
       "<table border=\"1\" class=\"dataframe\">\n",
       "  <thead>\n",
       "    <tr style=\"text-align: right;\">\n",
       "      <th></th>\n",
       "      <th>Unnamed: 0</th>\n",
       "      <th>Symptoms</th>\n",
       "      <th>id</th>\n",
       "      <th>text</th>\n",
       "      <th>long_texts</th>\n",
       "      <th>short_texts</th>\n",
       "      <th>discharge_summary</th>\n",
       "      <th>short_codes</th>\n",
       "    </tr>\n",
       "  </thead>\n",
       "  <tbody>\n",
       "    <tr>\n",
       "      <th>0</th>\n",
       "      <td>0</td>\n",
       "      <td>['Substernal Chest Pain', 'Sharp Pain', 'Cresc...</td>\n",
       "      <td>147171</td>\n",
       "      <td>CHIEF COMPLAINT: Substernal Chest Pain\\n\\nPRES...</td>\n",
       "      <td>Acute myocardial infarction of other anterior ...</td>\n",
       "      <td>AMI anterior wall, init,Ac systolic hrt failur...</td>\n",
       "      <td>Admission Date:  [**2102-9-26**]              ...</td>\n",
       "      <td>41011,42821,9971,4271,41401,4280,42731,45829</td>\n",
       "    </tr>\n",
       "    <tr>\n",
       "      <th>1</th>\n",
       "      <td>1</td>\n",
       "      <td>['Back pain']</td>\n",
       "      <td>199961</td>\n",
       "      <td>CHIEF COMPLAINT: \\n\\nPRESENT ILLNESS: The pati...</td>\n",
       "      <td>Ankylosing spondylitis,Hypertensive chronic ki...</td>\n",
       "      <td>Ankylosing spondylitis,Hyp kid NOS w cr kid V,...</td>\n",
       "      <td>Admission Date: [**2115-6-29**]        Dischar...</td>\n",
       "      <td>7200,40391,8052,8471,E8859,78057,2859,25060</td>\n",
       "    </tr>\n",
       "    <tr>\n",
       "      <th>2</th>\n",
       "      <td>2</td>\n",
       "      <td>['Shortness of breath', 'Cough', 'Occasional n...</td>\n",
       "      <td>136812</td>\n",
       "      <td>CHIEF COMPLAINT: \\n\\nPRESENT ILLNESS: This is ...</td>\n",
       "      <td>Obstructive chronic bronchitis with (acute) ex...</td>\n",
       "      <td>Obs chr bronc w(ac) exac,Pneumonia, organism N...</td>\n",
       "      <td>Admission Date: [**2106-4-14**]        Dischar...</td>\n",
       "      <td>49121,486,2800,42789,42611,43889,72989,2449</td>\n",
       "    </tr>\n",
       "    <tr>\n",
       "      <th>3</th>\n",
       "      <td>3</td>\n",
       "      <td>['left arm pain', 'left leg pain', 'pulmonary ...</td>\n",
       "      <td>175700</td>\n",
       "      <td>CHIEF COMPLAINT: s/p rollover MVC with prolong...</td>\n",
       "      <td>Closed fracture of shaft of fibula with tibia,...</td>\n",
       "      <td>Fx shaft fib w tib-clos,Pneumococcal pneumonia...</td>\n",
       "      <td>Admission Date:  [**2159-2-9**]              D...</td>\n",
       "      <td>82322,481,86121,5180,2851,81322,8072,E8160,883...</td>\n",
       "    </tr>\n",
       "    <tr>\n",
       "      <th>4</th>\n",
       "      <td>4</td>\n",
       "      <td>['Palpitations', 'Shortness of breath', 'Sore ...</td>\n",
       "      <td>193486</td>\n",
       "      <td>CHIEF COMPLAINT: Shortness of breath\\n\\nPRESEN...</td>\n",
       "      <td>Other specified cardiac dysrhythmias,End stage...</td>\n",
       "      <td>Cardiac dysrhythmias NEC,End stage renal disea...</td>\n",
       "      <td>Admission Date:  [**2136-10-4**]              ...</td>\n",
       "      <td>42789,5856,6822,6164,42830,2761,2869,4160,0411...</td>\n",
       "    </tr>\n",
       "  </tbody>\n",
       "</table>\n",
       "</div>"
      ],
      "text/plain": [
       "   Unnamed: 0                                           Symptoms      id  \\\n",
       "0           0  ['Substernal Chest Pain', 'Sharp Pain', 'Cresc...  147171   \n",
       "1           1                                      ['Back pain']  199961   \n",
       "2           2  ['Shortness of breath', 'Cough', 'Occasional n...  136812   \n",
       "3           3  ['left arm pain', 'left leg pain', 'pulmonary ...  175700   \n",
       "4           4  ['Palpitations', 'Shortness of breath', 'Sore ...  193486   \n",
       "\n",
       "                                                text  \\\n",
       "0  CHIEF COMPLAINT: Substernal Chest Pain\\n\\nPRES...   \n",
       "1  CHIEF COMPLAINT: \\n\\nPRESENT ILLNESS: The pati...   \n",
       "2  CHIEF COMPLAINT: \\n\\nPRESENT ILLNESS: This is ...   \n",
       "3  CHIEF COMPLAINT: s/p rollover MVC with prolong...   \n",
       "4  CHIEF COMPLAINT: Shortness of breath\\n\\nPRESEN...   \n",
       "\n",
       "                                          long_texts  \\\n",
       "0  Acute myocardial infarction of other anterior ...   \n",
       "1  Ankylosing spondylitis,Hypertensive chronic ki...   \n",
       "2  Obstructive chronic bronchitis with (acute) ex...   \n",
       "3  Closed fracture of shaft of fibula with tibia,...   \n",
       "4  Other specified cardiac dysrhythmias,End stage...   \n",
       "\n",
       "                                         short_texts  \\\n",
       "0  AMI anterior wall, init,Ac systolic hrt failur...   \n",
       "1  Ankylosing spondylitis,Hyp kid NOS w cr kid V,...   \n",
       "2  Obs chr bronc w(ac) exac,Pneumonia, organism N...   \n",
       "3  Fx shaft fib w tib-clos,Pneumococcal pneumonia...   \n",
       "4  Cardiac dysrhythmias NEC,End stage renal disea...   \n",
       "\n",
       "                                   discharge_summary  \\\n",
       "0  Admission Date:  [**2102-9-26**]              ...   \n",
       "1  Admission Date: [**2115-6-29**]        Dischar...   \n",
       "2  Admission Date: [**2106-4-14**]        Dischar...   \n",
       "3  Admission Date:  [**2159-2-9**]              D...   \n",
       "4  Admission Date:  [**2136-10-4**]              ...   \n",
       "\n",
       "                                         short_codes  \n",
       "0       41011,42821,9971,4271,41401,4280,42731,45829  \n",
       "1        7200,40391,8052,8471,E8859,78057,2859,25060  \n",
       "2        49121,486,2800,42789,42611,43889,72989,2449  \n",
       "3  82322,481,86121,5180,2851,81322,8072,E8160,883...  \n",
       "4  42789,5856,6822,6164,42830,2761,2869,4160,0411...  "
      ]
     },
     "execution_count": 94,
     "metadata": {},
     "output_type": "execute_result"
    }
   ],
   "source": [
    "import pandas as pd\n",
    "import os\n",
    "from neo4j import GraphDatabase\n",
    "from dotenv import load_dotenv\n",
    "\n",
    "train_dataset = pd.read_csv('symptoms_train.csv')\n",
    "train_dataset.head()\n"
   ]
  },
  {
   "cell_type": "code",
   "execution_count": 95,
   "metadata": {},
   "outputs": [
    {
     "data": {
      "text/html": [
       "<div>\n",
       "<style scoped>\n",
       "    .dataframe tbody tr th:only-of-type {\n",
       "        vertical-align: middle;\n",
       "    }\n",
       "\n",
       "    .dataframe tbody tr th {\n",
       "        vertical-align: top;\n",
       "    }\n",
       "\n",
       "    .dataframe thead th {\n",
       "        text-align: right;\n",
       "    }\n",
       "</style>\n",
       "<table border=\"1\" class=\"dataframe\">\n",
       "  <thead>\n",
       "    <tr style=\"text-align: right;\">\n",
       "      <th></th>\n",
       "      <th>ROW_ID</th>\n",
       "      <th>ICD9_CODE</th>\n",
       "      <th>SHORT_TITLE</th>\n",
       "      <th>LONG_TITLE</th>\n",
       "    </tr>\n",
       "  </thead>\n",
       "  <tbody>\n",
       "    <tr>\n",
       "      <th>0</th>\n",
       "      <td>174</td>\n",
       "      <td>01166</td>\n",
       "      <td>TB pneumonia-oth test</td>\n",
       "      <td>Tuberculous pneumonia [any form], tubercle bac...</td>\n",
       "    </tr>\n",
       "    <tr>\n",
       "      <th>1</th>\n",
       "      <td>175</td>\n",
       "      <td>01170</td>\n",
       "      <td>TB pneumothorax-unspec</td>\n",
       "      <td>Tuberculous pneumothorax, unspecified</td>\n",
       "    </tr>\n",
       "    <tr>\n",
       "      <th>2</th>\n",
       "      <td>176</td>\n",
       "      <td>01171</td>\n",
       "      <td>TB pneumothorax-no exam</td>\n",
       "      <td>Tuberculous pneumothorax, bacteriological or h...</td>\n",
       "    </tr>\n",
       "    <tr>\n",
       "      <th>3</th>\n",
       "      <td>177</td>\n",
       "      <td>01172</td>\n",
       "      <td>TB pneumothorx-exam unkn</td>\n",
       "      <td>Tuberculous pneumothorax, bacteriological or h...</td>\n",
       "    </tr>\n",
       "    <tr>\n",
       "      <th>4</th>\n",
       "      <td>178</td>\n",
       "      <td>01173</td>\n",
       "      <td>TB pneumothorax-micro dx</td>\n",
       "      <td>Tuberculous pneumothorax, tubercle bacilli fou...</td>\n",
       "    </tr>\n",
       "  </tbody>\n",
       "</table>\n",
       "</div>"
      ],
      "text/plain": [
       "   ROW_ID ICD9_CODE               SHORT_TITLE  \\\n",
       "0     174     01166     TB pneumonia-oth test   \n",
       "1     175     01170    TB pneumothorax-unspec   \n",
       "2     176     01171   TB pneumothorax-no exam   \n",
       "3     177     01172  TB pneumothorx-exam unkn   \n",
       "4     178     01173  TB pneumothorax-micro dx   \n",
       "\n",
       "                                          LONG_TITLE  \n",
       "0  Tuberculous pneumonia [any form], tubercle bac...  \n",
       "1              Tuberculous pneumothorax, unspecified  \n",
       "2  Tuberculous pneumothorax, bacteriological or h...  \n",
       "3  Tuberculous pneumothorax, bacteriological or h...  \n",
       "4  Tuberculous pneumothorax, tubercle bacilli fou...  "
      ]
     },
     "execution_count": 95,
     "metadata": {},
     "output_type": "execute_result"
    }
   ],
   "source": [
    "icd_9_dataset = pd.read_csv('D_ICD_DIAGNOSES.csv')\n",
    "icd_9_dataset.head()"
   ]
  },
  {
   "cell_type": "code",
   "execution_count": 125,
   "metadata": {},
   "outputs": [
    {
     "data": {
      "text/html": [
       "<div>\n",
       "<style scoped>\n",
       "    .dataframe tbody tr th:only-of-type {\n",
       "        vertical-align: middle;\n",
       "    }\n",
       "\n",
       "    .dataframe tbody tr th {\n",
       "        vertical-align: top;\n",
       "    }\n",
       "\n",
       "    .dataframe thead th {\n",
       "        text-align: right;\n",
       "    }\n",
       "</style>\n",
       "<table border=\"1\" class=\"dataframe\">\n",
       "  <thead>\n",
       "    <tr style=\"text-align: right;\">\n",
       "      <th></th>\n",
       "      <th>Symptoms</th>\n",
       "      <th>id</th>\n",
       "      <th>short_codes</th>\n",
       "    </tr>\n",
       "  </thead>\n",
       "  <tbody>\n",
       "    <tr>\n",
       "      <th>0</th>\n",
       "      <td>['Substernal Chest Pain', 'Sharp Pain', 'Cresc...</td>\n",
       "      <td>147171</td>\n",
       "      <td>41011,42821,9971,4271,41401,4280,42731,45829</td>\n",
       "    </tr>\n",
       "    <tr>\n",
       "      <th>1</th>\n",
       "      <td>['Back pain']</td>\n",
       "      <td>199961</td>\n",
       "      <td>7200,40391,8052,8471,E8859,78057,2859,25060</td>\n",
       "    </tr>\n",
       "    <tr>\n",
       "      <th>2</th>\n",
       "      <td>['Shortness of breath', 'Cough', 'Occasional n...</td>\n",
       "      <td>136812</td>\n",
       "      <td>49121,486,2800,42789,42611,43889,72989,2449</td>\n",
       "    </tr>\n",
       "    <tr>\n",
       "      <th>3</th>\n",
       "      <td>['left arm pain', 'left leg pain', 'pulmonary ...</td>\n",
       "      <td>175700</td>\n",
       "      <td>82322,481,86121,5180,2851,81322,8072,E8160,883...</td>\n",
       "    </tr>\n",
       "    <tr>\n",
       "      <th>4</th>\n",
       "      <td>['Palpitations', 'Shortness of breath', 'Sore ...</td>\n",
       "      <td>193486</td>\n",
       "      <td>42789,5856,6822,6164,42830,2761,2869,4160,0411...</td>\n",
       "    </tr>\n",
       "  </tbody>\n",
       "</table>\n",
       "</div>"
      ],
      "text/plain": [
       "                                            Symptoms      id  \\\n",
       "0  ['Substernal Chest Pain', 'Sharp Pain', 'Cresc...  147171   \n",
       "1                                      ['Back pain']  199961   \n",
       "2  ['Shortness of breath', 'Cough', 'Occasional n...  136812   \n",
       "3  ['left arm pain', 'left leg pain', 'pulmonary ...  175700   \n",
       "4  ['Palpitations', 'Shortness of breath', 'Sore ...  193486   \n",
       "\n",
       "                                         short_codes  \n",
       "0       41011,42821,9971,4271,41401,4280,42731,45829  \n",
       "1        7200,40391,8052,8471,E8859,78057,2859,25060  \n",
       "2        49121,486,2800,42789,42611,43889,72989,2449  \n",
       "3  82322,481,86121,5180,2851,81322,8072,E8160,883...  \n",
       "4  42789,5856,6822,6164,42830,2761,2869,4160,0411...  "
      ]
     },
     "execution_count": 125,
     "metadata": {},
     "output_type": "execute_result"
    }
   ],
   "source": [
    "preprocessed_df = train_dataset[['Symptoms','id', 'short_codes' ]].copy()\n",
    "preprocessed_df.head()"
   ]
  },
  {
   "cell_type": "code",
   "execution_count": 126,
   "metadata": {},
   "outputs": [
    {
     "data": {
      "text/html": [
       "<div>\n",
       "<style scoped>\n",
       "    .dataframe tbody tr th:only-of-type {\n",
       "        vertical-align: middle;\n",
       "    }\n",
       "\n",
       "    .dataframe tbody tr th {\n",
       "        vertical-align: top;\n",
       "    }\n",
       "\n",
       "    .dataframe thead th {\n",
       "        text-align: right;\n",
       "    }\n",
       "</style>\n",
       "<table border=\"1\" class=\"dataframe\">\n",
       "  <thead>\n",
       "    <tr style=\"text-align: right;\">\n",
       "      <th></th>\n",
       "      <th>Symptoms</th>\n",
       "      <th>id</th>\n",
       "      <th>short_codes</th>\n",
       "    </tr>\n",
       "  </thead>\n",
       "  <tbody>\n",
       "    <tr>\n",
       "      <th>0</th>\n",
       "      <td>['Substernal Chest Pain', 'Sharp Pain', 'Cresc...</td>\n",
       "      <td>147171</td>\n",
       "      <td>41011,42821,9971,4271,41401,4280,42731,45829</td>\n",
       "    </tr>\n",
       "    <tr>\n",
       "      <th>1</th>\n",
       "      <td>['Back pain']</td>\n",
       "      <td>199961</td>\n",
       "      <td>7200,40391,8052,8471,E8859,78057,2859,25060</td>\n",
       "    </tr>\n",
       "    <tr>\n",
       "      <th>2</th>\n",
       "      <td>['Shortness of breath', 'Cough', 'Occasional n...</td>\n",
       "      <td>136812</td>\n",
       "      <td>49121,486,2800,42789,42611,43889,72989,2449</td>\n",
       "    </tr>\n",
       "    <tr>\n",
       "      <th>3</th>\n",
       "      <td>['left arm pain', 'left leg pain', 'pulmonary ...</td>\n",
       "      <td>175700</td>\n",
       "      <td>82322,481,86121,5180,2851,81322,8072,E8160,883...</td>\n",
       "    </tr>\n",
       "    <tr>\n",
       "      <th>4</th>\n",
       "      <td>['Palpitations', 'Shortness of breath', 'Sore ...</td>\n",
       "      <td>193486</td>\n",
       "      <td>42789,5856,6822,6164,42830,2761,2869,4160,0411...</td>\n",
       "    </tr>\n",
       "  </tbody>\n",
       "</table>\n",
       "</div>"
      ],
      "text/plain": [
       "                                            Symptoms      id  \\\n",
       "0  ['Substernal Chest Pain', 'Sharp Pain', 'Cresc...  147171   \n",
       "1                                      ['Back pain']  199961   \n",
       "2  ['Shortness of breath', 'Cough', 'Occasional n...  136812   \n",
       "3  ['left arm pain', 'left leg pain', 'pulmonary ...  175700   \n",
       "4  ['Palpitations', 'Shortness of breath', 'Sore ...  193486   \n",
       "\n",
       "                                         short_codes  \n",
       "0       41011,42821,9971,4271,41401,4280,42731,45829  \n",
       "1        7200,40391,8052,8471,E8859,78057,2859,25060  \n",
       "2        49121,486,2800,42789,42611,43889,72989,2449  \n",
       "3  82322,481,86121,5180,2851,81322,8072,E8160,883...  \n",
       "4  42789,5856,6822,6164,42830,2761,2869,4160,0411...  "
      ]
     },
     "execution_count": 126,
     "metadata": {},
     "output_type": "execute_result"
    }
   ],
   "source": [
    "preprocessed_df['Symptoms'] = preprocessed_df['Symptoms'].apply(lambda x : str(x[1:-1]).split(', '))\n",
    "preprocessed_df.head()"
   ]
  },
  {
   "cell_type": "code",
   "execution_count": 127,
   "metadata": {},
   "outputs": [
    {
     "name": "stdout",
     "output_type": "stream",
     "text": [
      "<class 'pandas.core.frame.DataFrame'>\n",
      "Index: 2020063 entries, 0 to 33683\n",
      "Data columns (total 3 columns):\n",
      " #   Column       Dtype \n",
      "---  ------       ----- \n",
      " 0   Symptoms     object\n",
      " 1   id           int64 \n",
      " 2   short_codes  object\n",
      "dtypes: int64(1), object(2)\n",
      "memory usage: 61.6+ MB\n"
     ]
    }
   ],
   "source": [
    "preprocessed_df = preprocessed_df.explode('Symptoms')\n",
    "preprocessed_df = preprocessed_df.assign(short_codes=preprocessed_df['short_codes'].str.split(',')).explode('short_codes')\n",
    "\n",
    "preprocessed_df.info()"
   ]
  },
  {
   "cell_type": "code",
   "execution_count": 128,
   "metadata": {},
   "outputs": [
    {
     "data": {
      "text/html": [
       "<div>\n",
       "<style scoped>\n",
       "    .dataframe tbody tr th:only-of-type {\n",
       "        vertical-align: middle;\n",
       "    }\n",
       "\n",
       "    .dataframe tbody tr th {\n",
       "        vertical-align: top;\n",
       "    }\n",
       "\n",
       "    .dataframe thead th {\n",
       "        text-align: right;\n",
       "    }\n",
       "</style>\n",
       "<table border=\"1\" class=\"dataframe\">\n",
       "  <thead>\n",
       "    <tr style=\"text-align: right;\">\n",
       "      <th></th>\n",
       "      <th>Symptoms</th>\n",
       "      <th>id</th>\n",
       "      <th>short_codes</th>\n",
       "    </tr>\n",
       "  </thead>\n",
       "  <tbody>\n",
       "    <tr>\n",
       "      <th>0</th>\n",
       "      <td>'Substernal Chest Pain'</td>\n",
       "      <td>147171</td>\n",
       "      <td>41011</td>\n",
       "    </tr>\n",
       "    <tr>\n",
       "      <th>0</th>\n",
       "      <td>'Substernal Chest Pain'</td>\n",
       "      <td>147171</td>\n",
       "      <td>42821</td>\n",
       "    </tr>\n",
       "    <tr>\n",
       "      <th>0</th>\n",
       "      <td>'Substernal Chest Pain'</td>\n",
       "      <td>147171</td>\n",
       "      <td>9971</td>\n",
       "    </tr>\n",
       "    <tr>\n",
       "      <th>0</th>\n",
       "      <td>'Substernal Chest Pain'</td>\n",
       "      <td>147171</td>\n",
       "      <td>4271</td>\n",
       "    </tr>\n",
       "    <tr>\n",
       "      <th>0</th>\n",
       "      <td>'Substernal Chest Pain'</td>\n",
       "      <td>147171</td>\n",
       "      <td>41401</td>\n",
       "    </tr>\n",
       "  </tbody>\n",
       "</table>\n",
       "</div>"
      ],
      "text/plain": [
       "                  Symptoms      id short_codes\n",
       "0  'Substernal Chest Pain'  147171       41011\n",
       "0  'Substernal Chest Pain'  147171       42821\n",
       "0  'Substernal Chest Pain'  147171        9971\n",
       "0  'Substernal Chest Pain'  147171        4271\n",
       "0  'Substernal Chest Pain'  147171       41401"
      ]
     },
     "execution_count": 128,
     "metadata": {},
     "output_type": "execute_result"
    }
   ],
   "source": [
    "preprocessed_df.head()"
   ]
  },
  {
   "cell_type": "code",
   "execution_count": 129,
   "metadata": {},
   "outputs": [
    {
     "data": {
      "text/plain": [
       "39994"
      ]
     },
     "execution_count": 129,
     "metadata": {},
     "output_type": "execute_result"
    }
   ],
   "source": [
    "preprocessed_df.Symptoms.nunique()"
   ]
  },
  {
   "cell_type": "code",
   "execution_count": 130,
   "metadata": {},
   "outputs": [
    {
     "data": {
      "text/html": [
       "<div>\n",
       "<style scoped>\n",
       "    .dataframe tbody tr th:only-of-type {\n",
       "        vertical-align: middle;\n",
       "    }\n",
       "\n",
       "    .dataframe tbody tr th {\n",
       "        vertical-align: top;\n",
       "    }\n",
       "\n",
       "    .dataframe thead th {\n",
       "        text-align: right;\n",
       "    }\n",
       "</style>\n",
       "<table border=\"1\" class=\"dataframe\">\n",
       "  <thead>\n",
       "    <tr style=\"text-align: right;\">\n",
       "      <th></th>\n",
       "      <th>Symptoms</th>\n",
       "      <th>id</th>\n",
       "      <th>short_codes</th>\n",
       "    </tr>\n",
       "  </thead>\n",
       "  <tbody>\n",
       "    <tr>\n",
       "      <th>0</th>\n",
       "      <td>'Substernal Chest Pain'</td>\n",
       "      <td>147171</td>\n",
       "      <td>41011</td>\n",
       "    </tr>\n",
       "    <tr>\n",
       "      <th>0</th>\n",
       "      <td>'Substernal Chest Pain'</td>\n",
       "      <td>147171</td>\n",
       "      <td>42821</td>\n",
       "    </tr>\n",
       "    <tr>\n",
       "      <th>0</th>\n",
       "      <td>'Substernal Chest Pain'</td>\n",
       "      <td>147171</td>\n",
       "      <td>9971</td>\n",
       "    </tr>\n",
       "    <tr>\n",
       "      <th>0</th>\n",
       "      <td>'Substernal Chest Pain'</td>\n",
       "      <td>147171</td>\n",
       "      <td>4271</td>\n",
       "    </tr>\n",
       "    <tr>\n",
       "      <th>0</th>\n",
       "      <td>'Substernal Chest Pain'</td>\n",
       "      <td>147171</td>\n",
       "      <td>41401</td>\n",
       "    </tr>\n",
       "  </tbody>\n",
       "</table>\n",
       "</div>"
      ],
      "text/plain": [
       "                  Symptoms      id short_codes\n",
       "0  'Substernal Chest Pain'  147171       41011\n",
       "0  'Substernal Chest Pain'  147171       42821\n",
       "0  'Substernal Chest Pain'  147171        9971\n",
       "0  'Substernal Chest Pain'  147171        4271\n",
       "0  'Substernal Chest Pain'  147171       41401"
      ]
     },
     "execution_count": 130,
     "metadata": {},
     "output_type": "execute_result"
    }
   ],
   "source": [
    "preprocessed_df.head()"
   ]
  },
  {
   "cell_type": "code",
   "execution_count": 131,
   "metadata": {},
   "outputs": [],
   "source": [
    "preprocessed_df.columns = ['Symptoms', 'id', 'ICD9_CODE']"
   ]
  },
  {
   "cell_type": "code",
   "execution_count": 132,
   "metadata": {},
   "outputs": [],
   "source": [
    "preprocessed_df = preprocessed_df.reset_index(drop= True)"
   ]
  },
  {
   "cell_type": "code",
   "execution_count": 133,
   "metadata": {},
   "outputs": [],
   "source": [
    "preprocessed_df.loc[\n",
    "    preprocessed_df['ICD9_CODE'].str.startswith(\"V\"), 'ICD9_CODE'] = preprocessed_df.ICD9_CODE.apply(\n",
    "    lambda x: x[:3])\n",
    "preprocessed_df.loc[\n",
    "    preprocessed_df['ICD9_CODE'].str.startswith(\"E\"), 'ICD9_CODE'] = preprocessed_df.ICD9_CODE.apply(\n",
    "    lambda x: x[:3])\n",
    "preprocessed_df.loc[(~preprocessed_df.ICD9_CODE.str.startswith(\"E\")) & (\n",
    "    ~preprocessed_df.ICD9_CODE.str.startswith(\"V\")), 'ICD9_CODE'] = preprocessed_df.ICD9_CODE.apply(\n",
    "    lambda x: x[:2])"
   ]
  },
  {
   "cell_type": "code",
   "execution_count": null,
   "metadata": {},
   "outputs": [],
   "source": []
  },
  {
   "cell_type": "code",
   "execution_count": 134,
   "metadata": {},
   "outputs": [
    {
     "data": {
      "text/html": [
       "<div>\n",
       "<style scoped>\n",
       "    .dataframe tbody tr th:only-of-type {\n",
       "        vertical-align: middle;\n",
       "    }\n",
       "\n",
       "    .dataframe tbody tr th {\n",
       "        vertical-align: top;\n",
       "    }\n",
       "\n",
       "    .dataframe thead th {\n",
       "        text-align: right;\n",
       "    }\n",
       "</style>\n",
       "<table border=\"1\" class=\"dataframe\">\n",
       "  <thead>\n",
       "    <tr style=\"text-align: right;\">\n",
       "      <th></th>\n",
       "      <th>Symptoms</th>\n",
       "      <th>id</th>\n",
       "      <th>ICD9_CODE</th>\n",
       "      <th>weight</th>\n",
       "    </tr>\n",
       "  </thead>\n",
       "  <tbody>\n",
       "    <tr>\n",
       "      <th>0</th>\n",
       "      <td>'Substernal Chest Pain'</td>\n",
       "      <td>147171</td>\n",
       "      <td>41</td>\n",
       "      <td>6</td>\n",
       "    </tr>\n",
       "    <tr>\n",
       "      <th>1</th>\n",
       "      <td>'Substernal Chest Pain'</td>\n",
       "      <td>147171</td>\n",
       "      <td>42</td>\n",
       "      <td>7</td>\n",
       "    </tr>\n",
       "    <tr>\n",
       "      <th>2</th>\n",
       "      <td>'Substernal Chest Pain'</td>\n",
       "      <td>147171</td>\n",
       "      <td>99</td>\n",
       "      <td>4</td>\n",
       "    </tr>\n",
       "    <tr>\n",
       "      <th>3</th>\n",
       "      <td>'Substernal Chest Pain'</td>\n",
       "      <td>147171</td>\n",
       "      <td>42</td>\n",
       "      <td>7</td>\n",
       "    </tr>\n",
       "    <tr>\n",
       "      <th>4</th>\n",
       "      <td>'Substernal Chest Pain'</td>\n",
       "      <td>147171</td>\n",
       "      <td>41</td>\n",
       "      <td>6</td>\n",
       "    </tr>\n",
       "  </tbody>\n",
       "</table>\n",
       "</div>"
      ],
      "text/plain": [
       "                  Symptoms      id ICD9_CODE  weight\n",
       "0  'Substernal Chest Pain'  147171        41       6\n",
       "1  'Substernal Chest Pain'  147171        42       7\n",
       "2  'Substernal Chest Pain'  147171        99       4\n",
       "3  'Substernal Chest Pain'  147171        42       7\n",
       "4  'Substernal Chest Pain'  147171        41       6"
      ]
     },
     "execution_count": 134,
     "metadata": {},
     "output_type": "execute_result"
    }
   ],
   "source": [
    "preprocessed_df['weight'] = preprocessed_df.groupby(['Symptoms', 'ICD9_CODE'])['Symptoms'].transform('size')\n",
    "\n",
    "preprocessed_df.head()\n"
   ]
  },
  {
   "cell_type": "code",
   "execution_count": 135,
   "metadata": {},
   "outputs": [],
   "source": [
    "# preprocessed_df.Category.value_counts()"
   ]
  },
  {
   "cell_type": "code",
   "execution_count": 136,
   "metadata": {},
   "outputs": [],
   "source": [
    "categories = {\n",
    "    \"00-10\": [\"00\", \"01\", \"02\", \"03\", \"04\", \"05\", \"06\", \"07\", \"08\", \"09\", \"10\"],\n",
    "    \"11-13\": [\"11\", \"12\", \"13\"],\n",
    "    \"14-20\": [\"14\", \"15\", \"16\", \"17\", \"18\", \"19\", \"20\"],\n",
    "    \"21-23\": [\"21\", \"22\", \"23\"],\n",
    "    \"24-27\": [\"24\", \"25\", \"26\", \"27\"],\n",
    "    \"28\": [\"28\"],\n",
    "    \"29-31\": [\"29\", \"30\", \"31\"],\n",
    "    \"32-35\": [\"32\", \"33\", \"34\", \"35\"],\n",
    "    \"36-38\": [\"36\", \"37\", \"38\"],\n",
    "    \"39-45\": [\"39\", \"40\", \"41\", \"42\", \"43\", \"44\", \"45\"],\n",
    "    \"46-51\": [\"46\", \"47\", \"48\", \"49\", \"50\", \"51\"],\n",
    "    \"52-57\": [\"52\", \"53\", \"54\", \"55\", \"56\", \"57\"],\n",
    "    \"58-62\": [\"58\", \"59\", \"60\", \"61\", \"62\"],\n",
    "    \"63-66\": [\"63\", \"64\", \"65\", \"66\"],\n",
    "    \"67\": [\"67\"],\n",
    "    \"68-70\": [\"68\", \"69\", \"70\"],\n",
    "    \"71-73\": [\"71\", \"72\", \"73\"],\n",
    "    \"74-75\": [\"74\", \"75\"],\n",
    "    \"76-77\": [\"76\", \"77\"],\n",
    "    \"78\": [\"78\"],\n",
    "    \"79\": [\"79\"],\n",
    "    \"80-83\": [\"80\", \"81\", \"82\", \"83\"],\n",
    "    \"84-95\": [\"84\", \"85\", \"86\", \"87\", \"88\", \"89\", \"90\", \"91\", \"92\", \"93\", \"94\", \"95\"],\n",
    "    \"96-99\": [\"96\", \"97\", \"98\", \"99\"],\n",
    "    \"V01-V09\": [\"V01\", \"V02\", \"V03\", \"V04\", \"V05\", \"V06\", \"V07\", \"V08\", \"V09\"],\n",
    "    \"V10-V19\": [\"V10\", \"V11\", \"V12\", \"V13\", \"V14\", \"V15\", \"V16\", \"V17\", \"V18\", \"V19\"],\n",
    "    \"V20-V29\": [\"V20\", \"V21\", \"V22\", \"V23\", \"V24\", \"V25\", \"V26\", \"V27\", \"V28\", \"V29\"],\n",
    "    \"V30-V39\": [\"V30\", \"V31\", \"V32\", \"V33\", \"V34\", \"V35\", \"V36\", \"V37\", \"V38\", \"V39\"],\n",
    "    \"V40-V49\": [\"V40\", \"V41\", \"V42\", \"V43\", \"V44\", \"V45\", \"V46\", \"V47\", \"V48\", \"V49\"],\n",
    "    \"V50-V59\": [\"V50\", \"V51\", \"V52\", \"V53\", \"V54\", \"V55\", \"V56\", \"V57\", \"V58\", \"V59\"],\n",
    "    \"V60-V69\": [\"V60\", \"V61\", \"V62\", \"V63\", \"V64\", \"V65\", \"V66\", \"V67\", \"V68\", \"V69\"],\n",
    "    \"V70-V82\": [\"V70\", \"V71\", \"V72\", \"V73\", \"V74\", \"V75\", \"V76\", \"V77\", \"V78\", \"V79\", \"V80\", \"V81\", \"V82\"],\n",
    "    \"V83-V84\": [\"V83\", \"V84\"],\n",
    "    \"V85-V85\": [\"V85\"],\n",
    "    \"V86-V86\": [\"V86\"],\n",
    "    \"V87-V87\": [\"V87\"],\n",
    "    \"V88-V88\": [\"V88\"],\n",
    "    \"V89-V89\": [\"V89\"],\n",
    "    \"V90-V90\": [\"V90\"],\n",
    "    \"V91-V91\": [\"V91\"],\n",
    "    \"E00-E09\": [\"E00\", \"E01\", \"E02\", \"E03\", \"E04\", \"E05\", \"E06\", \"E07\", \"E08\", \"E09\"]\n",
    "}\n"
   ]
  },
  {
   "cell_type": "code",
   "execution_count": 137,
   "metadata": {},
   "outputs": [
    {
     "data": {
      "text/html": [
       "<div>\n",
       "<style scoped>\n",
       "    .dataframe tbody tr th:only-of-type {\n",
       "        vertical-align: middle;\n",
       "    }\n",
       "\n",
       "    .dataframe tbody tr th {\n",
       "        vertical-align: top;\n",
       "    }\n",
       "\n",
       "    .dataframe thead th {\n",
       "        text-align: right;\n",
       "    }\n",
       "</style>\n",
       "<table border=\"1\" class=\"dataframe\">\n",
       "  <thead>\n",
       "    <tr style=\"text-align: right;\">\n",
       "      <th></th>\n",
       "      <th>Symptoms</th>\n",
       "      <th>id</th>\n",
       "      <th>ICD9_CODE</th>\n",
       "      <th>weight</th>\n",
       "      <th>Category</th>\n",
       "    </tr>\n",
       "  </thead>\n",
       "  <tbody>\n",
       "    <tr>\n",
       "      <th>0</th>\n",
       "      <td>'Substernal Chest Pain'</td>\n",
       "      <td>147171</td>\n",
       "      <td>41</td>\n",
       "      <td>6</td>\n",
       "      <td>39-45</td>\n",
       "    </tr>\n",
       "    <tr>\n",
       "      <th>1</th>\n",
       "      <td>'Substernal Chest Pain'</td>\n",
       "      <td>147171</td>\n",
       "      <td>42</td>\n",
       "      <td>7</td>\n",
       "      <td>39-45</td>\n",
       "    </tr>\n",
       "    <tr>\n",
       "      <th>2</th>\n",
       "      <td>'Substernal Chest Pain'</td>\n",
       "      <td>147171</td>\n",
       "      <td>99</td>\n",
       "      <td>4</td>\n",
       "      <td>96-99</td>\n",
       "    </tr>\n",
       "    <tr>\n",
       "      <th>3</th>\n",
       "      <td>'Substernal Chest Pain'</td>\n",
       "      <td>147171</td>\n",
       "      <td>42</td>\n",
       "      <td>7</td>\n",
       "      <td>39-45</td>\n",
       "    </tr>\n",
       "    <tr>\n",
       "      <th>4</th>\n",
       "      <td>'Substernal Chest Pain'</td>\n",
       "      <td>147171</td>\n",
       "      <td>41</td>\n",
       "      <td>6</td>\n",
       "      <td>39-45</td>\n",
       "    </tr>\n",
       "  </tbody>\n",
       "</table>\n",
       "</div>"
      ],
      "text/plain": [
       "                  Symptoms      id ICD9_CODE  weight Category\n",
       "0  'Substernal Chest Pain'  147171        41       6    39-45\n",
       "1  'Substernal Chest Pain'  147171        42       7    39-45\n",
       "2  'Substernal Chest Pain'  147171        99       4    96-99\n",
       "3  'Substernal Chest Pain'  147171        42       7    39-45\n",
       "4  'Substernal Chest Pain'  147171        41       6    39-45"
      ]
     },
     "execution_count": 137,
     "metadata": {},
     "output_type": "execute_result"
    }
   ],
   "source": [
    "icd9_to_category = {code: category for category, codes in categories.items() for code in codes}\n",
    "\n",
    "\n",
    "preprocessed_df['ICD9_CODE'] = preprocessed_df['ICD9_CODE'].astype(str).str.zfill(2)\n",
    "\n",
    "preprocessed_df['Category'] = preprocessed_df['ICD9_CODE'].map(icd9_to_category)\n",
    "\n",
    "preprocessed_df.head()"
   ]
  },
  {
   "cell_type": "code",
   "execution_count": 138,
   "metadata": {},
   "outputs": [],
   "source": [
    "preprocessed_df.dropna(subset=['Category'], inplace=True)\n",
    "preprocessed_df.drop_duplicates(inplace=True)"
   ]
  },
  {
   "cell_type": "code",
   "execution_count": 139,
   "metadata": {},
   "outputs": [
    {
     "name": "stdout",
     "output_type": "stream",
     "text": [
      "<class 'pandas.core.frame.DataFrame'>\n",
      "Index: 1497629 entries, 0 to 2020062\n",
      "Data columns (total 5 columns):\n",
      " #   Column     Non-Null Count    Dtype \n",
      "---  ------     --------------    ----- \n",
      " 0   Symptoms   1497629 non-null  object\n",
      " 1   id         1497629 non-null  int64 \n",
      " 2   ICD9_CODE  1497629 non-null  object\n",
      " 3   weight     1497629 non-null  int64 \n",
      " 4   Category   1497629 non-null  object\n",
      "dtypes: int64(2), object(3)\n",
      "memory usage: 68.6+ MB\n"
     ]
    }
   ],
   "source": [
    "preprocessed_df.info()"
   ]
  },
  {
   "cell_type": "code",
   "execution_count": 140,
   "metadata": {},
   "outputs": [
    {
     "data": {
      "text/plain": [
       "'41'"
      ]
     },
     "execution_count": 140,
     "metadata": {},
     "output_type": "execute_result"
    }
   ],
   "source": [
    "list(preprocessed_df.ICD9_CODE)[0]"
   ]
  },
  {
   "cell_type": "code",
   "execution_count": 141,
   "metadata": {},
   "outputs": [],
   "source": [
    "# preprocessed_df['ICD9_CODE']  = preprocessed_df['ICD9_CODE'].astype('str')"
   ]
  },
  {
   "cell_type": "code",
   "execution_count": 142,
   "metadata": {},
   "outputs": [
    {
     "name": "stdout",
     "output_type": "stream",
     "text": [
      "<class 'pandas.core.frame.DataFrame'>\n",
      "Index: 1497629 entries, 0 to 2020062\n",
      "Data columns (total 5 columns):\n",
      " #   Column     Non-Null Count    Dtype \n",
      "---  ------     --------------    ----- \n",
      " 0   Symptoms   1497629 non-null  object\n",
      " 1   id         1497629 non-null  int64 \n",
      " 2   ICD9_CODE  1497629 non-null  object\n",
      " 3   weight     1497629 non-null  int64 \n",
      " 4   Category   1497629 non-null  object\n",
      "dtypes: int64(2), object(3)\n",
      "memory usage: 68.6+ MB\n"
     ]
    }
   ],
   "source": [
    "preprocessed_df.info()"
   ]
  },
  {
   "cell_type": "code",
   "execution_count": 143,
   "metadata": {},
   "outputs": [],
   "source": [
    "preprocessed_df.columns = ['Symptoms', 'id', 'ICD9_CODE', 'weight', 'Category']"
   ]
  },
  {
   "cell_type": "code",
   "execution_count": 144,
   "metadata": {},
   "outputs": [],
   "source": [
    "# preprocessed_df_merged = pd.merge(preprocessed_df, icd_9_dataset, how = 'inner', on='ICD9_CODE')"
   ]
  },
  {
   "cell_type": "code",
   "execution_count": 145,
   "metadata": {},
   "outputs": [],
   "source": [
    "# preprocessed_df_merged.info()"
   ]
  },
  {
   "cell_type": "code",
   "execution_count": 146,
   "metadata": {},
   "outputs": [],
   "source": [
    "# preprocessed_df_merged.Symptoms.nunique()"
   ]
  },
  {
   "cell_type": "code",
   "execution_count": 147,
   "metadata": {},
   "outputs": [],
   "source": [
    "from tqdm import tqdm"
   ]
  },
  {
   "cell_type": "code",
   "execution_count": 148,
   "metadata": {},
   "outputs": [
    {
     "name": "stderr",
     "output_type": "stream",
     "text": [
      "1497629it [00:20, 72788.62it/s]\n"
     ]
    }
   ],
   "source": [
    "train_dict = {}\n",
    "\n",
    "for i,j in tqdm(preprocessed_df.iterrows()): \n",
    "    train_dict[j.Symptoms[1:-1]] = []\n",
    "\n",
    "    \n"
   ]
  },
  {
   "cell_type": "code",
   "execution_count": 123,
   "metadata": {},
   "outputs": [
    {
     "data": {
      "text/html": [
       "<div>\n",
       "<style scoped>\n",
       "    .dataframe tbody tr th:only-of-type {\n",
       "        vertical-align: middle;\n",
       "    }\n",
       "\n",
       "    .dataframe tbody tr th {\n",
       "        vertical-align: top;\n",
       "    }\n",
       "\n",
       "    .dataframe thead th {\n",
       "        text-align: right;\n",
       "    }\n",
       "</style>\n",
       "<table border=\"1\" class=\"dataframe\">\n",
       "  <thead>\n",
       "    <tr style=\"text-align: right;\">\n",
       "      <th></th>\n",
       "      <th>Symptoms</th>\n",
       "      <th>id</th>\n",
       "      <th>weight</th>\n",
       "      <th>Category</th>\n",
       "    </tr>\n",
       "  </thead>\n",
       "  <tbody>\n",
       "    <tr>\n",
       "      <th>0</th>\n",
       "      <td>'Substernal Chest Pain'</td>\n",
       "      <td>147171</td>\n",
       "      <td>6</td>\n",
       "      <td>39-45</td>\n",
       "    </tr>\n",
       "    <tr>\n",
       "      <th>1</th>\n",
       "      <td>'Substernal Chest Pain'</td>\n",
       "      <td>147171</td>\n",
       "      <td>7</td>\n",
       "      <td>39-45</td>\n",
       "    </tr>\n",
       "    <tr>\n",
       "      <th>2</th>\n",
       "      <td>'Substernal Chest Pain'</td>\n",
       "      <td>147171</td>\n",
       "      <td>4</td>\n",
       "      <td>96-99</td>\n",
       "    </tr>\n",
       "    <tr>\n",
       "      <th>7</th>\n",
       "      <td>'Substernal Chest Pain'</td>\n",
       "      <td>147171</td>\n",
       "      <td>1</td>\n",
       "      <td>39-45</td>\n",
       "    </tr>\n",
       "    <tr>\n",
       "      <th>8</th>\n",
       "      <td>'Sharp Pain'</td>\n",
       "      <td>147171</td>\n",
       "      <td>2</td>\n",
       "      <td>39-45</td>\n",
       "    </tr>\n",
       "  </tbody>\n",
       "</table>\n",
       "</div>"
      ],
      "text/plain": [
       "                  Symptoms      id  weight Category\n",
       "0  'Substernal Chest Pain'  147171       6    39-45\n",
       "1  'Substernal Chest Pain'  147171       7    39-45\n",
       "2  'Substernal Chest Pain'  147171       4    96-99\n",
       "7  'Substernal Chest Pain'  147171       1    39-45\n",
       "8             'Sharp Pain'  147171       2    39-45"
      ]
     },
     "execution_count": 123,
     "metadata": {},
     "output_type": "execute_result"
    }
   ],
   "source": [
    "preprocessed_df.head()"
   ]
  },
  {
   "cell_type": "code",
   "execution_count": 149,
   "metadata": {},
   "outputs": [
    {
     "data": {
      "text/html": [
       "<div>\n",
       "<style scoped>\n",
       "    .dataframe tbody tr th:only-of-type {\n",
       "        vertical-align: middle;\n",
       "    }\n",
       "\n",
       "    .dataframe tbody tr th {\n",
       "        vertical-align: top;\n",
       "    }\n",
       "\n",
       "    .dataframe thead th {\n",
       "        text-align: right;\n",
       "    }\n",
       "</style>\n",
       "<table border=\"1\" class=\"dataframe\">\n",
       "  <thead>\n",
       "    <tr style=\"text-align: right;\">\n",
       "      <th></th>\n",
       "      <th>Symptoms</th>\n",
       "      <th>id</th>\n",
       "      <th>Category</th>\n",
       "      <th>weight</th>\n",
       "    </tr>\n",
       "  </thead>\n",
       "  <tbody>\n",
       "    <tr>\n",
       "      <th>0</th>\n",
       "      <td>\"15' fall\"</td>\n",
       "      <td>176459</td>\n",
       "      <td>39-45</td>\n",
       "      <td>1</td>\n",
       "    </tr>\n",
       "    <tr>\n",
       "      <th>1</th>\n",
       "      <td>\"15' fall\"</td>\n",
       "      <td>176459</td>\n",
       "      <td>74-75</td>\n",
       "      <td>1</td>\n",
       "    </tr>\n",
       "    <tr>\n",
       "      <th>2</th>\n",
       "      <td>\"15' fall\"</td>\n",
       "      <td>176459</td>\n",
       "      <td>80-83</td>\n",
       "      <td>1</td>\n",
       "    </tr>\n",
       "    <tr>\n",
       "      <th>3</th>\n",
       "      <td>\"15' fall\"</td>\n",
       "      <td>176459</td>\n",
       "      <td>84-95</td>\n",
       "      <td>2</td>\n",
       "    </tr>\n",
       "    <tr>\n",
       "      <th>4</th>\n",
       "      <td>\"30' fall\"</td>\n",
       "      <td>143133</td>\n",
       "      <td>29-31</td>\n",
       "      <td>4</td>\n",
       "    </tr>\n",
       "    <tr>\n",
       "      <th>...</th>\n",
       "      <td>...</td>\n",
       "      <td>...</td>\n",
       "      <td>...</td>\n",
       "      <td>...</td>\n",
       "    </tr>\n",
       "    <tr>\n",
       "      <th>1093013</th>\n",
       "      <td>yellow-green sputum'</td>\n",
       "      <td>173844</td>\n",
       "      <td>39-45</td>\n",
       "      <td>4</td>\n",
       "    </tr>\n",
       "    <tr>\n",
       "      <th>1093014</th>\n",
       "      <td>yellow-green sputum'</td>\n",
       "      <td>173844</td>\n",
       "      <td>46-51</td>\n",
       "      <td>2</td>\n",
       "    </tr>\n",
       "    <tr>\n",
       "      <th>1093015</th>\n",
       "      <td>yellow-green sputum'</td>\n",
       "      <td>173844</td>\n",
       "      <td>52-57</td>\n",
       "      <td>1</td>\n",
       "    </tr>\n",
       "    <tr>\n",
       "      <th>1093016</th>\n",
       "      <td>yellow-green sputum'</td>\n",
       "      <td>173844</td>\n",
       "      <td>58-62</td>\n",
       "      <td>1</td>\n",
       "    </tr>\n",
       "    <tr>\n",
       "      <th>1093017</th>\n",
       "      <td>yellow-green sputum'</td>\n",
       "      <td>173844</td>\n",
       "      <td>74-75</td>\n",
       "      <td>1</td>\n",
       "    </tr>\n",
       "  </tbody>\n",
       "</table>\n",
       "<p>1093018 rows × 4 columns</p>\n",
       "</div>"
      ],
      "text/plain": [
       "                     Symptoms      id Category  weight\n",
       "0                  \"15' fall\"  176459    39-45       1\n",
       "1                  \"15' fall\"  176459    74-75       1\n",
       "2                  \"15' fall\"  176459    80-83       1\n",
       "3                  \"15' fall\"  176459    84-95       2\n",
       "4                  \"30' fall\"  143133    29-31       4\n",
       "...                       ...     ...      ...     ...\n",
       "1093013  yellow-green sputum'  173844    39-45       4\n",
       "1093014  yellow-green sputum'  173844    46-51       2\n",
       "1093015  yellow-green sputum'  173844    52-57       1\n",
       "1093016  yellow-green sputum'  173844    58-62       1\n",
       "1093017  yellow-green sputum'  173844    74-75       1\n",
       "\n",
       "[1093018 rows x 4 columns]"
      ]
     },
     "execution_count": 149,
     "metadata": {},
     "output_type": "execute_result"
    }
   ],
   "source": [
    "df = preprocessed_df.drop(columns=['ICD9_CODE'], inplace=True)\n",
    "\n",
    "grouped_df = preprocessed_df.groupby(['Symptoms', 'id', 'Category'], as_index=False)['weight'].sum()\n",
    "\n",
    "grouped_df"
   ]
  },
  {
   "cell_type": "code",
   "execution_count": 151,
   "metadata": {},
   "outputs": [
    {
     "name": "stderr",
     "output_type": "stream",
     "text": [
      "1093018it [00:13, 83833.25it/s]\n"
     ]
    }
   ],
   "source": [
    "train_dict = {}\n",
    "\n",
    "for i,j in tqdm(grouped_df.iterrows()): \n",
    "    train_dict[j.Symptoms[1:-1]] = []\n",
    "\n",
    "    \n"
   ]
  },
  {
   "cell_type": "code",
   "execution_count": 152,
   "metadata": {},
   "outputs": [
    {
     "name": "stderr",
     "output_type": "stream",
     "text": [
      "1497629it [00:23, 62815.20it/s]\n"
     ]
    }
   ],
   "source": [
    "from tqdm import tqdm\n",
    "\n",
    "for i, j in tqdm(preprocessed_df.iterrows()):\n",
    "    symptoms = j.Symptoms[1:-1]\n",
    "    category = j.Category\n",
    "    entry = {\n",
    "        'disease_code_category': category,\n",
    "        'weight': j.weight,\n",
    "    }\n",
    "\n",
    "    \n",
    "    # Check if the icd9_code is already in the list\n",
    "    if not any(item['disease_code_category'] == category for item in train_dict[symptoms]):\n",
    "        train_dict[symptoms].append(entry)\n"
   ]
  },
  {
   "cell_type": "code",
   "execution_count": 153,
   "metadata": {},
   "outputs": [
    {
     "data": {
      "text/plain": [
       "39951"
      ]
     },
     "execution_count": 153,
     "metadata": {},
     "output_type": "execute_result"
    }
   ],
   "source": [
    "len(train_dict.keys())"
   ]
  },
  {
   "cell_type": "code",
   "execution_count": 155,
   "metadata": {},
   "outputs": [],
   "source": [
    "import json\n",
    "with open('train_dict_cropped_shubham.json', 'w') as json_file:\n",
    "    json.dump(train_dict, json_file, indent=4)\n",
    "    \n",
    "    "
   ]
  },
  {
   "cell_type": "code",
   "execution_count": 156,
   "metadata": {},
   "outputs": [
    {
     "name": "stdout",
     "output_type": "stream",
     "text": [
      "<class 'str'>\n",
      "<class 'str'>\n"
     ]
    }
   ],
   "source": [
    "for i,j in train_dataset.iterrows() : \n",
    "    print(type(j.Symptoms))\n",
    "    print(type(j.short_codes))\n",
    "    break"
   ]
  },
  {
   "cell_type": "code",
   "execution_count": 157,
   "metadata": {},
   "outputs": [],
   "source": [
    "with open(\"train_dict_cropped_shubham.json\") as f:\n",
    "    data = json.load(f)\n"
   ]
  },
  {
   "cell_type": "code",
   "execution_count": 158,
   "metadata": {},
   "outputs": [
    {
     "data": {
      "text/plain": [
       "25"
      ]
     },
     "execution_count": 158,
     "metadata": {},
     "output_type": "execute_result"
    }
   ],
   "source": [
    "import gc\n",
    "gc.collect()"
   ]
  },
  {
   "cell_type": "code",
   "execution_count": 169,
   "metadata": {},
   "outputs": [],
   "source": [
    "uri = \"neo4j://localhost:7687\"\n",
    "auth = (\"neo4j\", \"neo4j_pass5\")\n",
    "\n",
    "driver = GraphDatabase.driver(uri, auth=auth)\n",
    "driver.verify_connectivity()"
   ]
  },
  {
   "cell_type": "code",
   "execution_count": 176,
   "metadata": {},
   "outputs": [],
   "source": [
    "with driver.session() as session:\n",
    "            session.run(\"CREATE FULLTEXT INDEX symptomIndex FOR (s:Symptom) ON EACH [s.name]\")"
   ]
  },
  {
   "cell_type": "code",
   "execution_count": 181,
   "metadata": {},
   "outputs": [
    {
     "name": "stdout",
     "output_type": "stream",
     "text": [
      "['HEADACHE', 'Headache', 'headache', 'Severe headache during headache episodes', 'Massive headache', 'Headache (migraine)', 'Dull headache', 'whole headache', 'worst headache', 'waxing headache', 'worse headache', 'vasospasm headache', 'Light headache', 'Migraine headache', 'headache-frontal', 'Mild Headache', 'holocranial headache', 'Mild headache', 'increased headache', 'worsening headache']\n"
     ]
    }
   ],
   "source": [
    "def search_symptoms(query_string):\n",
    "    with driver.session() as session:\n",
    "        result = session.run(\n",
    "            f\"CALL db.index.fulltext.queryNodes('symptomIndex', '{query_string}') \"\n",
    "            \"YIELD node, score \"\n",
    "            \"RETURN node.name AS symptom, score \"\n",
    "            \"ORDER BY score DESC \"\n",
    "            \"LIMIT 20\"\n",
    "        )\n",
    "        symptoms = [record['symptom'] for record in result]\n",
    "        return symptoms\n",
    "\n",
    "search_results = search_symptoms('headache')\n",
    "print(search_results)  # "
   ]
  },
  {
   "cell_type": "code",
   "execution_count": 52,
   "metadata": {},
   "outputs": [],
   "source": [
    "# def delete_all_data():\n",
    "#     with driver.session(database=\"neo4j\") as session:\n",
    "#         # Execute the Cypher query to delete all nodes and relationships\n",
    "#         session.run(\"MATCH (n) DETACH DELETE n\")\n",
    "#         print(\"All nodes and relationships have been deleted.\")\n",
    "\n",
    "\n",
    "# delete_all_data()\n",
    "\n"
   ]
  },
  {
   "cell_type": "code",
   "execution_count": 160,
   "metadata": {},
   "outputs": [
    {
     "data": {
      "text/plain": [
       "[{'disease_code_category': '39-45', 'weight': 2},\n",
       " {'disease_code_category': '96-99', 'weight': 2},\n",
       " {'disease_code_category': '00-10', 'weight': 1},\n",
       " {'disease_code_category': '52-57', 'weight': 1},\n",
       " {'disease_code_category': '78', 'weight': 1},\n",
       " {'disease_code_category': '46-51', 'weight': 1},\n",
       " {'disease_code_category': '58-62', 'weight': 2},\n",
       " {'disease_code_category': '29-31', 'weight': 1},\n",
       " {'disease_code_category': '24-27', 'weight': 1},\n",
       " {'disease_code_category': '28', 'weight': 2},\n",
       " {'disease_code_category': '80-83', 'weight': 1},\n",
       " {'disease_code_category': '32-35', 'weight': 1}]"
      ]
     },
     "execution_count": 160,
     "metadata": {},
     "output_type": "execute_result"
    }
   ],
   "source": [
    "data['Sharp Pain']"
   ]
  },
  {
   "cell_type": "code",
   "execution_count": 165,
   "metadata": {},
   "outputs": [],
   "source": [
    "from neo4j import GraphDatabase\n",
    "from tqdm import tqdm\n",
    "\n",
    "def remove_apostrophes(text):\n",
    "    return text.replace(\"'\", \"\")\n",
    "\n",
    "def generate_cypher_queries(data):\n",
    "    queries = []\n",
    "    unique_symptoms = set()\n",
    "    unique_diseases = set()\n",
    "    symptom_disease_pairs = set()\n",
    "    \n",
    "    for symptom, diseases_data in tqdm(data.items(), desc=\"Processing symptoms\"):\n",
    "        # Clean and process symptom\n",
    "        cleaned_symptom = remove_apostrophes(symptom.strip())\n",
    "        if cleaned_symptom not in unique_symptoms:\n",
    "            query = f\"MERGE (s:Symptom {{name: '{cleaned_symptom}'}})\"\n",
    "            queries.append(query)\n",
    "            unique_symptoms.add(cleaned_symptom)\n",
    "        \n",
    "        # Process each disease associated with the symptom\n",
    "        for disease in tqdm(diseases_data, desc=f\"Processing diseases for {cleaned_symptom}\", leave=False):\n",
    "            cleaned_short_code = remove_apostrophes(disease[\"disease_code_category\"])\n",
    "            \n",
    "            # Disease nodes\n",
    "            if cleaned_short_code not in unique_diseases:\n",
    "                query = f\"MERGE (d:Disease {{title: '{cleaned_short_code}'}})\"\n",
    "                queries.append(query)\n",
    "                unique_diseases.add(cleaned_short_code)\n",
    "            \n",
    "            # Relationships between symptoms and diseases\n",
    "            if (cleaned_symptom, cleaned_short_code) not in symptom_disease_pairs:\n",
    "                query = (f\"MATCH (s:Symptom {{name: '{cleaned_symptom}'}}), \"\n",
    "                         f\"(d:Disease {{title: '{cleaned_short_code}'}}) \"\n",
    "                         f\"MERGE (s)-[:ASSOCIATED_WITH {{weight: {disease['weight']}}}]->(d)\")\n",
    "                queries.append(query)\n",
    "                symptom_disease_pairs.add((cleaned_symptom, cleaned_short_code))\n",
    "    \n",
    "    return queries\n",
    "\n",
    "\n"
   ]
  },
  {
   "cell_type": "code",
   "execution_count": 166,
   "metadata": {},
   "outputs": [
    {
     "name": "stderr",
     "output_type": "stream",
     "text": [
      "Processing symptoms: 100%|██████████| 39951/39951 [01:34<00:00, 422.91it/s]\n"
     ]
    }
   ],
   "source": [
    "queries = generate_cypher_queries(data)"
   ]
  },
  {
   "cell_type": "code",
   "execution_count": 167,
   "metadata": {},
   "outputs": [
    {
     "data": {
      "text/plain": [
       "375166"
      ]
     },
     "execution_count": 167,
     "metadata": {},
     "output_type": "execute_result"
    }
   ],
   "source": [
    "len(queries)"
   ]
  },
  {
   "cell_type": "code",
   "execution_count": 168,
   "metadata": {},
   "outputs": [
    {
     "name": "stderr",
     "output_type": "stream",
     "text": [
      "Processing batches: 100%|██████████| 38/38 [50:24<00:00, 79.58s/batch] \n"
     ]
    }
   ],
   "source": [
    "from neo4j import GraphDatabase\n",
    "from tqdm import tqdm\n",
    "\n",
    "\n",
    "\n",
    "def run_cypher_queries(queries, batch_size=10000):\n",
    "    total_queries = len(queries)\n",
    "    num_batches = (total_queries + batch_size - 1) // batch_size  \n",
    "\n",
    "    with driver.session() as session:\n",
    "        for batch_start in tqdm(range(0, total_queries, batch_size), desc=\"Processing batches\", unit=\"batch\", total=num_batches):\n",
    "            batch_end = min(batch_start + batch_size, total_queries)\n",
    "            batch_queries = queries[batch_start:batch_end]\n",
    "\n",
    "            for query in batch_queries:\n",
    "                session.run(query)\n",
    "    \n",
    "run_cypher_queries(queries)"
   ]
  },
  {
   "cell_type": "code",
   "execution_count": 29,
   "metadata": {},
   "outputs": [],
   "source": [
    "# from neo4j import GraphDatabase\n",
    "# from tqdm import tqdm\n",
    "\n",
    "\n",
    "\n",
    "# def create_knowledge_graph(tx, data):\n",
    "#     unique_symptoms = set()\n",
    "#     unique_diseases = set()\n",
    "#     symptom_disease_pairs = set()\n",
    "\n",
    "#     for symptom, diseases in tqdm(data.items()):\n",
    "#         cleaned_symptom = symptom\n",
    "#         # Symptom nodes\n",
    "#         if cleaned_symptom not in unique_symptoms:\n",
    "#             tx.run(\"MERGE (s:Symptom {name: $name})\", name=cleaned_symptom)\n",
    "#             unique_symptoms.add(cleaned_symptom)\n",
    "        \n",
    "#         # Disease nodes and Relationships\n",
    "#         for disease in diseases:\n",
    "#             cleaned_disease_code = (disease[\"disease_code\"]\n",
    "#             cleaned_short_title = disease[\"short_title\"]\n",
    "\n",
    "#             if cleaned_disease_code not in unique_diseases:\n",
    "#                 tx.run(\n",
    "#                     \"\"\"\n",
    "#                     MERGE (d:Disease {code: $code})\n",
    "#                     ON CREATE SET d.short_title = $short_title\n",
    "#                     \"\"\",\n",
    "#                     code=cleaned_disease_code,\n",
    "#                     short_title=cleaned_short_title,\n",
    "#                 )\n",
    "#                 unique_diseases.add(cleaned_disease_code)\n",
    "\n",
    "#             if (cleaned_symptom, cleaned_disease_code) not in symptom_disease_pairs:\n",
    "#                 tx.run(\n",
    "#                     \"\"\"\n",
    "#                     MATCH (s:Symptom {name: $symptom_name}), (d:Disease {code: $code})\n",
    "#                     MERGE (s)-[r:ASSOCIATED_WITH]->(d)\n",
    "#                     ON CREATE SET r.weight = $weight\n",
    "#                     \"\"\",\n",
    "#                     symptom_name=cleaned_symptom,\n",
    "#                     code=cleaned_disease_code,\n",
    "#                     weight=disease[\"weight\"],\n",
    "#                 )\n",
    "#                 symptom_disease_pairs.add((cleaned_symptom, cleaned_disease_code))\n",
    "\n",
    "# uri = \"neo4j://localhost:7687\"\n",
    "# auth = (\"neo4j\", \"neo4j_pass2\")\n",
    "\n",
    "# driver = GraphDatabase.driver(uri, auth=auth)\n",
    "# driver.verify_connectivity()\n",
    "\n",
    "# try:\n",
    "#     with driver.session(database=\"neo4j\") as session:\n",
    "#         session.execute_write(create_knowledge_graph, data)\n",
    "# finally:\n",
    "#     driver.close()\n"
   ]
  },
  {
   "cell_type": "code",
   "execution_count": 56,
   "metadata": {},
   "outputs": [],
   "source": [
    "\n",
    "# with driver.session(database=\"neo4j\") as session:\n",
    "#         session.execute_write(create_knowledge_graph, data)\n",
    "#         session.run(\"RETURN 1\")\n"
   ]
  },
  {
   "cell_type": "code",
   "execution_count": null,
   "metadata": {},
   "outputs": [],
   "source": []
  },
  {
   "cell_type": "code",
   "execution_count": null,
   "metadata": {},
   "outputs": [],
   "source": []
  },
  {
   "cell_type": "code",
   "execution_count": null,
   "metadata": {},
   "outputs": [],
   "source": []
  },
  {
   "cell_type": "code",
   "execution_count": null,
   "metadata": {},
   "outputs": [],
   "source": []
  }
 ],
 "metadata": {
  "kernelspec": {
   "display_name": "astro",
   "language": "python",
   "name": "python3"
  },
  "language_info": {
   "codemirror_mode": {
    "name": "ipython",
    "version": 3
   },
   "file_extension": ".py",
   "mimetype": "text/x-python",
   "name": "python",
   "nbconvert_exporter": "python",
   "pygments_lexer": "ipython3",
   "version": "3.12.3"
  }
 },
 "nbformat": 4,
 "nbformat_minor": 2
}
