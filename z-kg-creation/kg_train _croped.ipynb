{
 "cells": [
  {
   "cell_type": "code",
   "execution_count": null,
   "metadata": {},
   "outputs": [],
   "source": []
  },
  {
   "cell_type": "code",
   "execution_count": 2,
   "metadata": {},
   "outputs": [
    {
     "data": {
      "text/html": [
       "<div>\n",
       "<style scoped>\n",
       "    .dataframe tbody tr th:only-of-type {\n",
       "        vertical-align: middle;\n",
       "    }\n",
       "\n",
       "    .dataframe tbody tr th {\n",
       "        vertical-align: top;\n",
       "    }\n",
       "\n",
       "    .dataframe thead th {\n",
       "        text-align: right;\n",
       "    }\n",
       "</style>\n",
       "<table border=\"1\" class=\"dataframe\">\n",
       "  <thead>\n",
       "    <tr style=\"text-align: right;\">\n",
       "      <th></th>\n",
       "      <th>Unnamed: 0</th>\n",
       "      <th>Symptoms</th>\n",
       "      <th>id</th>\n",
       "      <th>text</th>\n",
       "      <th>long_texts</th>\n",
       "      <th>short_texts</th>\n",
       "      <th>discharge_summary</th>\n",
       "      <th>short_codes</th>\n",
       "    </tr>\n",
       "  </thead>\n",
       "  <tbody>\n",
       "    <tr>\n",
       "      <th>0</th>\n",
       "      <td>0</td>\n",
       "      <td>['Substernal Chest Pain', 'Sharp Pain', 'Cresc...</td>\n",
       "      <td>147171</td>\n",
       "      <td>CHIEF COMPLAINT: Substernal Chest Pain\\n\\nPRES...</td>\n",
       "      <td>Acute myocardial infarction of other anterior ...</td>\n",
       "      <td>AMI anterior wall, init,Ac systolic hrt failur...</td>\n",
       "      <td>Admission Date:  [**2102-9-26**]              ...</td>\n",
       "      <td>41011,42821,9971,4271,41401,4280,42731,45829</td>\n",
       "    </tr>\n",
       "    <tr>\n",
       "      <th>1</th>\n",
       "      <td>1</td>\n",
       "      <td>['Back pain']</td>\n",
       "      <td>199961</td>\n",
       "      <td>CHIEF COMPLAINT: \\n\\nPRESENT ILLNESS: The pati...</td>\n",
       "      <td>Ankylosing spondylitis,Hypertensive chronic ki...</td>\n",
       "      <td>Ankylosing spondylitis,Hyp kid NOS w cr kid V,...</td>\n",
       "      <td>Admission Date: [**2115-6-29**]        Dischar...</td>\n",
       "      <td>7200,40391,8052,8471,E8859,78057,2859,25060</td>\n",
       "    </tr>\n",
       "    <tr>\n",
       "      <th>2</th>\n",
       "      <td>2</td>\n",
       "      <td>['Shortness of breath', 'Cough', 'Occasional n...</td>\n",
       "      <td>136812</td>\n",
       "      <td>CHIEF COMPLAINT: \\n\\nPRESENT ILLNESS: This is ...</td>\n",
       "      <td>Obstructive chronic bronchitis with (acute) ex...</td>\n",
       "      <td>Obs chr bronc w(ac) exac,Pneumonia, organism N...</td>\n",
       "      <td>Admission Date: [**2106-4-14**]        Dischar...</td>\n",
       "      <td>49121,486,2800,42789,42611,43889,72989,2449</td>\n",
       "    </tr>\n",
       "    <tr>\n",
       "      <th>3</th>\n",
       "      <td>3</td>\n",
       "      <td>['left arm pain', 'left leg pain', 'pulmonary ...</td>\n",
       "      <td>175700</td>\n",
       "      <td>CHIEF COMPLAINT: s/p rollover MVC with prolong...</td>\n",
       "      <td>Closed fracture of shaft of fibula with tibia,...</td>\n",
       "      <td>Fx shaft fib w tib-clos,Pneumococcal pneumonia...</td>\n",
       "      <td>Admission Date:  [**2159-2-9**]              D...</td>\n",
       "      <td>82322,481,86121,5180,2851,81322,8072,E8160,883...</td>\n",
       "    </tr>\n",
       "    <tr>\n",
       "      <th>4</th>\n",
       "      <td>4</td>\n",
       "      <td>['Palpitations', 'Shortness of breath', 'Sore ...</td>\n",
       "      <td>193486</td>\n",
       "      <td>CHIEF COMPLAINT: Shortness of breath\\n\\nPRESEN...</td>\n",
       "      <td>Other specified cardiac dysrhythmias,End stage...</td>\n",
       "      <td>Cardiac dysrhythmias NEC,End stage renal disea...</td>\n",
       "      <td>Admission Date:  [**2136-10-4**]              ...</td>\n",
       "      <td>42789,5856,6822,6164,42830,2761,2869,4160,0411...</td>\n",
       "    </tr>\n",
       "  </tbody>\n",
       "</table>\n",
       "</div>"
      ],
      "text/plain": [
       "   Unnamed: 0                                           Symptoms      id  \\\n",
       "0           0  ['Substernal Chest Pain', 'Sharp Pain', 'Cresc...  147171   \n",
       "1           1                                      ['Back pain']  199961   \n",
       "2           2  ['Shortness of breath', 'Cough', 'Occasional n...  136812   \n",
       "3           3  ['left arm pain', 'left leg pain', 'pulmonary ...  175700   \n",
       "4           4  ['Palpitations', 'Shortness of breath', 'Sore ...  193486   \n",
       "\n",
       "                                                text  \\\n",
       "0  CHIEF COMPLAINT: Substernal Chest Pain\\n\\nPRES...   \n",
       "1  CHIEF COMPLAINT: \\n\\nPRESENT ILLNESS: The pati...   \n",
       "2  CHIEF COMPLAINT: \\n\\nPRESENT ILLNESS: This is ...   \n",
       "3  CHIEF COMPLAINT: s/p rollover MVC with prolong...   \n",
       "4  CHIEF COMPLAINT: Shortness of breath\\n\\nPRESEN...   \n",
       "\n",
       "                                          long_texts  \\\n",
       "0  Acute myocardial infarction of other anterior ...   \n",
       "1  Ankylosing spondylitis,Hypertensive chronic ki...   \n",
       "2  Obstructive chronic bronchitis with (acute) ex...   \n",
       "3  Closed fracture of shaft of fibula with tibia,...   \n",
       "4  Other specified cardiac dysrhythmias,End stage...   \n",
       "\n",
       "                                         short_texts  \\\n",
       "0  AMI anterior wall, init,Ac systolic hrt failur...   \n",
       "1  Ankylosing spondylitis,Hyp kid NOS w cr kid V,...   \n",
       "2  Obs chr bronc w(ac) exac,Pneumonia, organism N...   \n",
       "3  Fx shaft fib w tib-clos,Pneumococcal pneumonia...   \n",
       "4  Cardiac dysrhythmias NEC,End stage renal disea...   \n",
       "\n",
       "                                   discharge_summary  \\\n",
       "0  Admission Date:  [**2102-9-26**]              ...   \n",
       "1  Admission Date: [**2115-6-29**]        Dischar...   \n",
       "2  Admission Date: [**2106-4-14**]        Dischar...   \n",
       "3  Admission Date:  [**2159-2-9**]              D...   \n",
       "4  Admission Date:  [**2136-10-4**]              ...   \n",
       "\n",
       "                                         short_codes  \n",
       "0       41011,42821,9971,4271,41401,4280,42731,45829  \n",
       "1        7200,40391,8052,8471,E8859,78057,2859,25060  \n",
       "2        49121,486,2800,42789,42611,43889,72989,2449  \n",
       "3  82322,481,86121,5180,2851,81322,8072,E8160,883...  \n",
       "4  42789,5856,6822,6164,42830,2761,2869,4160,0411...  "
      ]
     },
     "execution_count": 2,
     "metadata": {},
     "output_type": "execute_result"
    }
   ],
   "source": [
    "import pandas as pd\n",
    "import os\n",
    "from neo4j import GraphDatabase\n",
    "from dotenv import load_dotenv\n",
    "\n",
    "train_dataset = pd.read_csv('symptoms_train.csv')\n",
    "train_dataset.head()\n"
   ]
  },
  {
   "cell_type": "code",
   "execution_count": 3,
   "metadata": {},
   "outputs": [
    {
     "name": "stdout",
     "output_type": "stream",
     "text": [
      "<class 'pandas.core.frame.DataFrame'>\n",
      "RangeIndex: 33684 entries, 0 to 33683\n",
      "Data columns (total 8 columns):\n",
      " #   Column             Non-Null Count  Dtype \n",
      "---  ------             --------------  ----- \n",
      " 0   Unnamed: 0         33684 non-null  int64 \n",
      " 1   Symptoms           33684 non-null  object\n",
      " 2   id                 33684 non-null  int64 \n",
      " 3   text               33684 non-null  object\n",
      " 4   long_texts         33684 non-null  object\n",
      " 5   short_texts        33684 non-null  object\n",
      " 6   discharge_summary  33684 non-null  object\n",
      " 7   short_codes        33684 non-null  object\n",
      "dtypes: int64(2), object(6)\n",
      "memory usage: 2.1+ MB\n"
     ]
    }
   ],
   "source": [
    "train_dataset.info()"
   ]
  },
  {
   "cell_type": "code",
   "execution_count": 2,
   "metadata": {},
   "outputs": [
    {
     "data": {
      "text/html": [
       "<div>\n",
       "<style scoped>\n",
       "    .dataframe tbody tr th:only-of-type {\n",
       "        vertical-align: middle;\n",
       "    }\n",
       "\n",
       "    .dataframe tbody tr th {\n",
       "        vertical-align: top;\n",
       "    }\n",
       "\n",
       "    .dataframe thead th {\n",
       "        text-align: right;\n",
       "    }\n",
       "</style>\n",
       "<table border=\"1\" class=\"dataframe\">\n",
       "  <thead>\n",
       "    <tr style=\"text-align: right;\">\n",
       "      <th></th>\n",
       "      <th>ROW_ID</th>\n",
       "      <th>ICD9_CODE</th>\n",
       "      <th>SHORT_TITLE</th>\n",
       "      <th>LONG_TITLE</th>\n",
       "    </tr>\n",
       "  </thead>\n",
       "  <tbody>\n",
       "    <tr>\n",
       "      <th>0</th>\n",
       "      <td>174</td>\n",
       "      <td>01166</td>\n",
       "      <td>TB pneumonia-oth test</td>\n",
       "      <td>Tuberculous pneumonia [any form], tubercle bac...</td>\n",
       "    </tr>\n",
       "    <tr>\n",
       "      <th>1</th>\n",
       "      <td>175</td>\n",
       "      <td>01170</td>\n",
       "      <td>TB pneumothorax-unspec</td>\n",
       "      <td>Tuberculous pneumothorax, unspecified</td>\n",
       "    </tr>\n",
       "    <tr>\n",
       "      <th>2</th>\n",
       "      <td>176</td>\n",
       "      <td>01171</td>\n",
       "      <td>TB pneumothorax-no exam</td>\n",
       "      <td>Tuberculous pneumothorax, bacteriological or h...</td>\n",
       "    </tr>\n",
       "    <tr>\n",
       "      <th>3</th>\n",
       "      <td>177</td>\n",
       "      <td>01172</td>\n",
       "      <td>TB pneumothorx-exam unkn</td>\n",
       "      <td>Tuberculous pneumothorax, bacteriological or h...</td>\n",
       "    </tr>\n",
       "    <tr>\n",
       "      <th>4</th>\n",
       "      <td>178</td>\n",
       "      <td>01173</td>\n",
       "      <td>TB pneumothorax-micro dx</td>\n",
       "      <td>Tuberculous pneumothorax, tubercle bacilli fou...</td>\n",
       "    </tr>\n",
       "  </tbody>\n",
       "</table>\n",
       "</div>"
      ],
      "text/plain": [
       "   ROW_ID ICD9_CODE               SHORT_TITLE  \\\n",
       "0     174     01166     TB pneumonia-oth test   \n",
       "1     175     01170    TB pneumothorax-unspec   \n",
       "2     176     01171   TB pneumothorax-no exam   \n",
       "3     177     01172  TB pneumothorx-exam unkn   \n",
       "4     178     01173  TB pneumothorax-micro dx   \n",
       "\n",
       "                                          LONG_TITLE  \n",
       "0  Tuberculous pneumonia [any form], tubercle bac...  \n",
       "1              Tuberculous pneumothorax, unspecified  \n",
       "2  Tuberculous pneumothorax, bacteriological or h...  \n",
       "3  Tuberculous pneumothorax, bacteriological or h...  \n",
       "4  Tuberculous pneumothorax, tubercle bacilli fou...  "
      ]
     },
     "execution_count": 2,
     "metadata": {},
     "output_type": "execute_result"
    }
   ],
   "source": [
    "icd_9_dataset = pd.read_csv('D_ICD_DIAGNOSES.csv')\n",
    "icd_9_dataset.head()"
   ]
  },
  {
   "cell_type": "code",
   "execution_count": 3,
   "metadata": {},
   "outputs": [
    {
     "data": {
      "text/html": [
       "<div>\n",
       "<style scoped>\n",
       "    .dataframe tbody tr th:only-of-type {\n",
       "        vertical-align: middle;\n",
       "    }\n",
       "\n",
       "    .dataframe tbody tr th {\n",
       "        vertical-align: top;\n",
       "    }\n",
       "\n",
       "    .dataframe thead th {\n",
       "        text-align: right;\n",
       "    }\n",
       "</style>\n",
       "<table border=\"1\" class=\"dataframe\">\n",
       "  <thead>\n",
       "    <tr style=\"text-align: right;\">\n",
       "      <th></th>\n",
       "      <th>Symptoms</th>\n",
       "      <th>id</th>\n",
       "      <th>short_codes</th>\n",
       "    </tr>\n",
       "  </thead>\n",
       "  <tbody>\n",
       "    <tr>\n",
       "      <th>0</th>\n",
       "      <td>['Substernal Chest Pain', 'Sharp Pain', 'Cresc...</td>\n",
       "      <td>147171</td>\n",
       "      <td>41011,42821,9971,4271,41401,4280,42731,45829</td>\n",
       "    </tr>\n",
       "    <tr>\n",
       "      <th>1</th>\n",
       "      <td>['Back pain']</td>\n",
       "      <td>199961</td>\n",
       "      <td>7200,40391,8052,8471,E8859,78057,2859,25060</td>\n",
       "    </tr>\n",
       "    <tr>\n",
       "      <th>2</th>\n",
       "      <td>['Shortness of breath', 'Cough', 'Occasional n...</td>\n",
       "      <td>136812</td>\n",
       "      <td>49121,486,2800,42789,42611,43889,72989,2449</td>\n",
       "    </tr>\n",
       "    <tr>\n",
       "      <th>3</th>\n",
       "      <td>['left arm pain', 'left leg pain', 'pulmonary ...</td>\n",
       "      <td>175700</td>\n",
       "      <td>82322,481,86121,5180,2851,81322,8072,E8160,883...</td>\n",
       "    </tr>\n",
       "    <tr>\n",
       "      <th>4</th>\n",
       "      <td>['Palpitations', 'Shortness of breath', 'Sore ...</td>\n",
       "      <td>193486</td>\n",
       "      <td>42789,5856,6822,6164,42830,2761,2869,4160,0411...</td>\n",
       "    </tr>\n",
       "  </tbody>\n",
       "</table>\n",
       "</div>"
      ],
      "text/plain": [
       "                                            Symptoms      id  \\\n",
       "0  ['Substernal Chest Pain', 'Sharp Pain', 'Cresc...  147171   \n",
       "1                                      ['Back pain']  199961   \n",
       "2  ['Shortness of breath', 'Cough', 'Occasional n...  136812   \n",
       "3  ['left arm pain', 'left leg pain', 'pulmonary ...  175700   \n",
       "4  ['Palpitations', 'Shortness of breath', 'Sore ...  193486   \n",
       "\n",
       "                                         short_codes  \n",
       "0       41011,42821,9971,4271,41401,4280,42731,45829  \n",
       "1        7200,40391,8052,8471,E8859,78057,2859,25060  \n",
       "2        49121,486,2800,42789,42611,43889,72989,2449  \n",
       "3  82322,481,86121,5180,2851,81322,8072,E8160,883...  \n",
       "4  42789,5856,6822,6164,42830,2761,2869,4160,0411...  "
      ]
     },
     "execution_count": 3,
     "metadata": {},
     "output_type": "execute_result"
    }
   ],
   "source": [
    "preprocessed_df = train_dataset[['Symptoms','id', 'short_codes' ]].copy()\n",
    "preprocessed_df.head()"
   ]
  },
  {
   "cell_type": "code",
   "execution_count": 4,
   "metadata": {},
   "outputs": [
    {
     "data": {
      "text/html": [
       "<div>\n",
       "<style scoped>\n",
       "    .dataframe tbody tr th:only-of-type {\n",
       "        vertical-align: middle;\n",
       "    }\n",
       "\n",
       "    .dataframe tbody tr th {\n",
       "        vertical-align: top;\n",
       "    }\n",
       "\n",
       "    .dataframe thead th {\n",
       "        text-align: right;\n",
       "    }\n",
       "</style>\n",
       "<table border=\"1\" class=\"dataframe\">\n",
       "  <thead>\n",
       "    <tr style=\"text-align: right;\">\n",
       "      <th></th>\n",
       "      <th>Symptoms</th>\n",
       "      <th>id</th>\n",
       "      <th>short_codes</th>\n",
       "    </tr>\n",
       "  </thead>\n",
       "  <tbody>\n",
       "    <tr>\n",
       "      <th>0</th>\n",
       "      <td>['Substernal Chest Pain', 'Sharp Pain', 'Cresc...</td>\n",
       "      <td>147171</td>\n",
       "      <td>41011,42821,9971,4271,41401,4280,42731,45829</td>\n",
       "    </tr>\n",
       "    <tr>\n",
       "      <th>1</th>\n",
       "      <td>['Back pain']</td>\n",
       "      <td>199961</td>\n",
       "      <td>7200,40391,8052,8471,E8859,78057,2859,25060</td>\n",
       "    </tr>\n",
       "    <tr>\n",
       "      <th>2</th>\n",
       "      <td>['Shortness of breath', 'Cough', 'Occasional n...</td>\n",
       "      <td>136812</td>\n",
       "      <td>49121,486,2800,42789,42611,43889,72989,2449</td>\n",
       "    </tr>\n",
       "    <tr>\n",
       "      <th>3</th>\n",
       "      <td>['left arm pain', 'left leg pain', 'pulmonary ...</td>\n",
       "      <td>175700</td>\n",
       "      <td>82322,481,86121,5180,2851,81322,8072,E8160,883...</td>\n",
       "    </tr>\n",
       "    <tr>\n",
       "      <th>4</th>\n",
       "      <td>['Palpitations', 'Shortness of breath', 'Sore ...</td>\n",
       "      <td>193486</td>\n",
       "      <td>42789,5856,6822,6164,42830,2761,2869,4160,0411...</td>\n",
       "    </tr>\n",
       "  </tbody>\n",
       "</table>\n",
       "</div>"
      ],
      "text/plain": [
       "                                            Symptoms      id  \\\n",
       "0  ['Substernal Chest Pain', 'Sharp Pain', 'Cresc...  147171   \n",
       "1                                      ['Back pain']  199961   \n",
       "2  ['Shortness of breath', 'Cough', 'Occasional n...  136812   \n",
       "3  ['left arm pain', 'left leg pain', 'pulmonary ...  175700   \n",
       "4  ['Palpitations', 'Shortness of breath', 'Sore ...  193486   \n",
       "\n",
       "                                         short_codes  \n",
       "0       41011,42821,9971,4271,41401,4280,42731,45829  \n",
       "1        7200,40391,8052,8471,E8859,78057,2859,25060  \n",
       "2        49121,486,2800,42789,42611,43889,72989,2449  \n",
       "3  82322,481,86121,5180,2851,81322,8072,E8160,883...  \n",
       "4  42789,5856,6822,6164,42830,2761,2869,4160,0411...  "
      ]
     },
     "execution_count": 4,
     "metadata": {},
     "output_type": "execute_result"
    }
   ],
   "source": [
    "preprocessed_df['Symptoms'] = preprocessed_df['Symptoms'].apply(lambda x : str(x[1:-1]).split(', '))\n",
    "preprocessed_df.head()"
   ]
  },
  {
   "cell_type": "code",
   "execution_count": 5,
   "metadata": {},
   "outputs": [
    {
     "name": "stdout",
     "output_type": "stream",
     "text": [
      "<class 'pandas.core.frame.DataFrame'>\n",
      "Index: 2020063 entries, 0 to 33683\n",
      "Data columns (total 3 columns):\n",
      " #   Column       Dtype \n",
      "---  ------       ----- \n",
      " 0   Symptoms     object\n",
      " 1   id           int64 \n",
      " 2   short_codes  object\n",
      "dtypes: int64(1), object(2)\n",
      "memory usage: 61.6+ MB\n"
     ]
    }
   ],
   "source": [
    "preprocessed_df = preprocessed_df.explode('Symptoms')\n",
    "preprocessed_df = preprocessed_df.assign(short_codes=preprocessed_df['short_codes'].str.split(',')).explode('short_codes')\n",
    "\n",
    "\n",
    "preprocessed_df.info()"
   ]
  },
  {
   "cell_type": "code",
   "execution_count": 6,
   "metadata": {},
   "outputs": [
    {
     "data": {
      "text/html": [
       "<div>\n",
       "<style scoped>\n",
       "    .dataframe tbody tr th:only-of-type {\n",
       "        vertical-align: middle;\n",
       "    }\n",
       "\n",
       "    .dataframe tbody tr th {\n",
       "        vertical-align: top;\n",
       "    }\n",
       "\n",
       "    .dataframe thead th {\n",
       "        text-align: right;\n",
       "    }\n",
       "</style>\n",
       "<table border=\"1\" class=\"dataframe\">\n",
       "  <thead>\n",
       "    <tr style=\"text-align: right;\">\n",
       "      <th></th>\n",
       "      <th>Symptoms</th>\n",
       "      <th>id</th>\n",
       "      <th>short_codes</th>\n",
       "    </tr>\n",
       "  </thead>\n",
       "  <tbody>\n",
       "    <tr>\n",
       "      <th>0</th>\n",
       "      <td>'Substernal Chest Pain'</td>\n",
       "      <td>147171</td>\n",
       "      <td>41011</td>\n",
       "    </tr>\n",
       "    <tr>\n",
       "      <th>0</th>\n",
       "      <td>'Substernal Chest Pain'</td>\n",
       "      <td>147171</td>\n",
       "      <td>42821</td>\n",
       "    </tr>\n",
       "    <tr>\n",
       "      <th>0</th>\n",
       "      <td>'Substernal Chest Pain'</td>\n",
       "      <td>147171</td>\n",
       "      <td>9971</td>\n",
       "    </tr>\n",
       "    <tr>\n",
       "      <th>0</th>\n",
       "      <td>'Substernal Chest Pain'</td>\n",
       "      <td>147171</td>\n",
       "      <td>4271</td>\n",
       "    </tr>\n",
       "    <tr>\n",
       "      <th>0</th>\n",
       "      <td>'Substernal Chest Pain'</td>\n",
       "      <td>147171</td>\n",
       "      <td>41401</td>\n",
       "    </tr>\n",
       "  </tbody>\n",
       "</table>\n",
       "</div>"
      ],
      "text/plain": [
       "                  Symptoms      id short_codes\n",
       "0  'Substernal Chest Pain'  147171       41011\n",
       "0  'Substernal Chest Pain'  147171       42821\n",
       "0  'Substernal Chest Pain'  147171        9971\n",
       "0  'Substernal Chest Pain'  147171        4271\n",
       "0  'Substernal Chest Pain'  147171       41401"
      ]
     },
     "execution_count": 6,
     "metadata": {},
     "output_type": "execute_result"
    }
   ],
   "source": [
    "preprocessed_df.head()"
   ]
  },
  {
   "cell_type": "code",
   "execution_count": 7,
   "metadata": {},
   "outputs": [
    {
     "data": {
      "text/plain": [
       "39994"
      ]
     },
     "execution_count": 7,
     "metadata": {},
     "output_type": "execute_result"
    }
   ],
   "source": [
    "preprocessed_df.Symptoms.nunique()"
   ]
  },
  {
   "cell_type": "code",
   "execution_count": 8,
   "metadata": {},
   "outputs": [
    {
     "data": {
      "text/html": [
       "<div>\n",
       "<style scoped>\n",
       "    .dataframe tbody tr th:only-of-type {\n",
       "        vertical-align: middle;\n",
       "    }\n",
       "\n",
       "    .dataframe tbody tr th {\n",
       "        vertical-align: top;\n",
       "    }\n",
       "\n",
       "    .dataframe thead th {\n",
       "        text-align: right;\n",
       "    }\n",
       "</style>\n",
       "<table border=\"1\" class=\"dataframe\">\n",
       "  <thead>\n",
       "    <tr style=\"text-align: right;\">\n",
       "      <th></th>\n",
       "      <th>Symptoms</th>\n",
       "      <th>id</th>\n",
       "      <th>short_codes</th>\n",
       "    </tr>\n",
       "  </thead>\n",
       "  <tbody>\n",
       "    <tr>\n",
       "      <th>0</th>\n",
       "      <td>'Substernal Chest Pain'</td>\n",
       "      <td>147171</td>\n",
       "      <td>41011</td>\n",
       "    </tr>\n",
       "    <tr>\n",
       "      <th>0</th>\n",
       "      <td>'Substernal Chest Pain'</td>\n",
       "      <td>147171</td>\n",
       "      <td>42821</td>\n",
       "    </tr>\n",
       "    <tr>\n",
       "      <th>0</th>\n",
       "      <td>'Substernal Chest Pain'</td>\n",
       "      <td>147171</td>\n",
       "      <td>9971</td>\n",
       "    </tr>\n",
       "    <tr>\n",
       "      <th>0</th>\n",
       "      <td>'Substernal Chest Pain'</td>\n",
       "      <td>147171</td>\n",
       "      <td>4271</td>\n",
       "    </tr>\n",
       "    <tr>\n",
       "      <th>0</th>\n",
       "      <td>'Substernal Chest Pain'</td>\n",
       "      <td>147171</td>\n",
       "      <td>41401</td>\n",
       "    </tr>\n",
       "  </tbody>\n",
       "</table>\n",
       "</div>"
      ],
      "text/plain": [
       "                  Symptoms      id short_codes\n",
       "0  'Substernal Chest Pain'  147171       41011\n",
       "0  'Substernal Chest Pain'  147171       42821\n",
       "0  'Substernal Chest Pain'  147171        9971\n",
       "0  'Substernal Chest Pain'  147171        4271\n",
       "0  'Substernal Chest Pain'  147171       41401"
      ]
     },
     "execution_count": 8,
     "metadata": {},
     "output_type": "execute_result"
    }
   ],
   "source": [
    "preprocessed_df.head()"
   ]
  },
  {
   "cell_type": "code",
   "execution_count": 9,
   "metadata": {},
   "outputs": [],
   "source": [
    "preprocessed_df.columns = ['Symptoms', 'id', 'ICD9_CODE']"
   ]
  },
  {
   "cell_type": "code",
   "execution_count": 10,
   "metadata": {},
   "outputs": [],
   "source": [
    "preprocessed_df = preprocessed_df.reset_index(drop= True)"
   ]
  },
  {
   "cell_type": "code",
   "execution_count": 11,
   "metadata": {},
   "outputs": [],
   "source": [
    "preprocessed_df.loc[\n",
    "    preprocessed_df['ICD9_CODE'].str.startswith(\"V\"), 'ICD9_CODE'] = preprocessed_df.ICD9_CODE.apply(\n",
    "    lambda x: x[:4])\n",
    "preprocessed_df.loc[\n",
    "    preprocessed_df['ICD9_CODE'].str.startswith(\"E\"), 'ICD9_CODE'] = preprocessed_df.ICD9_CODE.apply(\n",
    "    lambda x: x[:4])\n",
    "preprocessed_df.loc[(~preprocessed_df.ICD9_CODE.str.startswith(\"E\")) & (\n",
    "    ~preprocessed_df.ICD9_CODE.str.startswith(\"V\")), 'ICD9_CODE'] = preprocessed_df.ICD9_CODE.apply(\n",
    "    lambda x: x[:3])"
   ]
  },
  {
   "cell_type": "code",
   "execution_count": null,
   "metadata": {},
   "outputs": [],
   "source": []
  },
  {
   "cell_type": "code",
   "execution_count": 12,
   "metadata": {},
   "outputs": [
    {
     "data": {
      "text/html": [
       "<div>\n",
       "<style scoped>\n",
       "    .dataframe tbody tr th:only-of-type {\n",
       "        vertical-align: middle;\n",
       "    }\n",
       "\n",
       "    .dataframe tbody tr th {\n",
       "        vertical-align: top;\n",
       "    }\n",
       "\n",
       "    .dataframe thead th {\n",
       "        text-align: right;\n",
       "    }\n",
       "</style>\n",
       "<table border=\"1\" class=\"dataframe\">\n",
       "  <thead>\n",
       "    <tr style=\"text-align: right;\">\n",
       "      <th></th>\n",
       "      <th>Symptoms</th>\n",
       "      <th>id</th>\n",
       "      <th>ICD9_CODE</th>\n",
       "      <th>weight</th>\n",
       "    </tr>\n",
       "  </thead>\n",
       "  <tbody>\n",
       "    <tr>\n",
       "      <th>0</th>\n",
       "      <td>'Substernal Chest Pain'</td>\n",
       "      <td>147171</td>\n",
       "      <td>410</td>\n",
       "      <td>2</td>\n",
       "    </tr>\n",
       "    <tr>\n",
       "      <th>1</th>\n",
       "      <td>'Substernal Chest Pain'</td>\n",
       "      <td>147171</td>\n",
       "      <td>428</td>\n",
       "      <td>3</td>\n",
       "    </tr>\n",
       "    <tr>\n",
       "      <th>2</th>\n",
       "      <td>'Substernal Chest Pain'</td>\n",
       "      <td>147171</td>\n",
       "      <td>997</td>\n",
       "      <td>2</td>\n",
       "    </tr>\n",
       "    <tr>\n",
       "      <th>3</th>\n",
       "      <td>'Substernal Chest Pain'</td>\n",
       "      <td>147171</td>\n",
       "      <td>427</td>\n",
       "      <td>4</td>\n",
       "    </tr>\n",
       "    <tr>\n",
       "      <th>4</th>\n",
       "      <td>'Substernal Chest Pain'</td>\n",
       "      <td>147171</td>\n",
       "      <td>414</td>\n",
       "      <td>4</td>\n",
       "    </tr>\n",
       "  </tbody>\n",
       "</table>\n",
       "</div>"
      ],
      "text/plain": [
       "                  Symptoms      id ICD9_CODE  weight\n",
       "0  'Substernal Chest Pain'  147171       410       2\n",
       "1  'Substernal Chest Pain'  147171       428       3\n",
       "2  'Substernal Chest Pain'  147171       997       2\n",
       "3  'Substernal Chest Pain'  147171       427       4\n",
       "4  'Substernal Chest Pain'  147171       414       4"
      ]
     },
     "execution_count": 12,
     "metadata": {},
     "output_type": "execute_result"
    }
   ],
   "source": [
    "preprocessed_df['weight'] = preprocessed_df.groupby(['Symptoms', 'ICD9_CODE'])['Symptoms'].transform('size')\n",
    "\n",
    "preprocessed_df.head()\n"
   ]
  },
  {
   "cell_type": "code",
   "execution_count": 13,
   "metadata": {},
   "outputs": [],
   "source": [
    "# preprocessed_df['ICD9_CODE']  = preprocessed_df['ICD9_CODE'].astype('str')"
   ]
  },
  {
   "cell_type": "code",
   "execution_count": 14,
   "metadata": {},
   "outputs": [
    {
     "name": "stdout",
     "output_type": "stream",
     "text": [
      "<class 'pandas.core.frame.DataFrame'>\n",
      "RangeIndex: 2020063 entries, 0 to 2020062\n",
      "Data columns (total 4 columns):\n",
      " #   Column     Dtype \n",
      "---  ------     ----- \n",
      " 0   Symptoms   object\n",
      " 1   id         int64 \n",
      " 2   ICD9_CODE  object\n",
      " 3   weight     int64 \n",
      "dtypes: int64(2), object(2)\n",
      "memory usage: 61.6+ MB\n"
     ]
    }
   ],
   "source": [
    "preprocessed_df.info()"
   ]
  },
  {
   "cell_type": "code",
   "execution_count": 15,
   "metadata": {},
   "outputs": [],
   "source": [
    "preprocessed_df.columns = ['Symptoms', 'id', 'ICD9_CODE', 'weight']"
   ]
  },
  {
   "cell_type": "code",
   "execution_count": 16,
   "metadata": {},
   "outputs": [],
   "source": [
    "# preprocessed_df_merged = pd.merge(preprocessed_df, icd_9_dataset, how = 'inner', on='ICD9_CODE')"
   ]
  },
  {
   "cell_type": "code",
   "execution_count": 17,
   "metadata": {},
   "outputs": [],
   "source": [
    "# preprocessed_df_merged.info()"
   ]
  },
  {
   "cell_type": "code",
   "execution_count": 18,
   "metadata": {},
   "outputs": [],
   "source": [
    "# preprocessed_df_merged.Symptoms.nunique()"
   ]
  },
  {
   "cell_type": "code",
   "execution_count": 19,
   "metadata": {},
   "outputs": [],
   "source": [
    "from tqdm import tqdm"
   ]
  },
  {
   "cell_type": "code",
   "execution_count": 20,
   "metadata": {},
   "outputs": [
    {
     "name": "stderr",
     "output_type": "stream",
     "text": [
      "2020063it [00:24, 81025.22it/s]\n"
     ]
    }
   ],
   "source": [
    "train_dict = {}\n",
    "\n",
    "for i,j in tqdm(preprocessed_df.iterrows()): \n",
    "    train_dict[j.Symptoms[1:-1]] = []\n",
    "\n",
    "    \n"
   ]
  },
  {
   "cell_type": "code",
   "execution_count": 21,
   "metadata": {},
   "outputs": [
    {
     "data": {
      "text/html": [
       "<div>\n",
       "<style scoped>\n",
       "    .dataframe tbody tr th:only-of-type {\n",
       "        vertical-align: middle;\n",
       "    }\n",
       "\n",
       "    .dataframe tbody tr th {\n",
       "        vertical-align: top;\n",
       "    }\n",
       "\n",
       "    .dataframe thead th {\n",
       "        text-align: right;\n",
       "    }\n",
       "</style>\n",
       "<table border=\"1\" class=\"dataframe\">\n",
       "  <thead>\n",
       "    <tr style=\"text-align: right;\">\n",
       "      <th></th>\n",
       "      <th>Symptoms</th>\n",
       "      <th>id</th>\n",
       "      <th>ICD9_CODE</th>\n",
       "      <th>weight</th>\n",
       "    </tr>\n",
       "  </thead>\n",
       "  <tbody>\n",
       "    <tr>\n",
       "      <th>0</th>\n",
       "      <td>'Substernal Chest Pain'</td>\n",
       "      <td>147171</td>\n",
       "      <td>410</td>\n",
       "      <td>2</td>\n",
       "    </tr>\n",
       "    <tr>\n",
       "      <th>1</th>\n",
       "      <td>'Substernal Chest Pain'</td>\n",
       "      <td>147171</td>\n",
       "      <td>428</td>\n",
       "      <td>3</td>\n",
       "    </tr>\n",
       "    <tr>\n",
       "      <th>2</th>\n",
       "      <td>'Substernal Chest Pain'</td>\n",
       "      <td>147171</td>\n",
       "      <td>997</td>\n",
       "      <td>2</td>\n",
       "    </tr>\n",
       "    <tr>\n",
       "      <th>3</th>\n",
       "      <td>'Substernal Chest Pain'</td>\n",
       "      <td>147171</td>\n",
       "      <td>427</td>\n",
       "      <td>4</td>\n",
       "    </tr>\n",
       "    <tr>\n",
       "      <th>4</th>\n",
       "      <td>'Substernal Chest Pain'</td>\n",
       "      <td>147171</td>\n",
       "      <td>414</td>\n",
       "      <td>4</td>\n",
       "    </tr>\n",
       "  </tbody>\n",
       "</table>\n",
       "</div>"
      ],
      "text/plain": [
       "                  Symptoms      id ICD9_CODE  weight\n",
       "0  'Substernal Chest Pain'  147171       410       2\n",
       "1  'Substernal Chest Pain'  147171       428       3\n",
       "2  'Substernal Chest Pain'  147171       997       2\n",
       "3  'Substernal Chest Pain'  147171       427       4\n",
       "4  'Substernal Chest Pain'  147171       414       4"
      ]
     },
     "execution_count": 21,
     "metadata": {},
     "output_type": "execute_result"
    }
   ],
   "source": [
    "preprocessed_df.head()"
   ]
  },
  {
   "cell_type": "code",
   "execution_count": null,
   "metadata": {},
   "outputs": [],
   "source": []
  },
  {
   "cell_type": "code",
   "execution_count": 22,
   "metadata": {},
   "outputs": [
    {
     "name": "stderr",
     "output_type": "stream",
     "text": [
      "2020063it [00:39, 50703.77it/s]\n"
     ]
    }
   ],
   "source": [
    "from tqdm import tqdm\n",
    "\n",
    "for i, j in tqdm(preprocessed_df.iterrows()):\n",
    "    symptoms = j.Symptoms[1:-1]\n",
    "    icd9_code = j.ICD9_CODE\n",
    "    entry = {\n",
    "        'disease_code': icd9_code,\n",
    "        'weight': j.weight,\n",
    "    }\n",
    "\n",
    "    \n",
    "    # Check if the icd9_code is already in the list\n",
    "    if not any(item['disease_code'] == icd9_code for item in train_dict[symptoms]):\n",
    "        train_dict[symptoms].append(entry)\n"
   ]
  },
  {
   "cell_type": "code",
   "execution_count": 24,
   "metadata": {},
   "outputs": [
    {
     "data": {
      "text/plain": [
       "39951"
      ]
     },
     "execution_count": 24,
     "metadata": {},
     "output_type": "execute_result"
    }
   ],
   "source": [
    "len(train_dict.keys())"
   ]
  },
  {
   "cell_type": "code",
   "execution_count": 1,
   "metadata": {},
   "outputs": [
    {
     "ename": "NameError",
     "evalue": "name 'train_dict' is not defined",
     "output_type": "error",
     "traceback": [
      "\u001b[0;31m---------------------------------------------------------------------------\u001b[0m",
      "\u001b[0;31mNameError\u001b[0m                                 Traceback (most recent call last)",
      "Cell \u001b[0;32mIn[1], line 3\u001b[0m\n\u001b[1;32m      1\u001b[0m \u001b[38;5;28;01mimport\u001b[39;00m \u001b[38;5;21;01mjson\u001b[39;00m\n\u001b[1;32m      2\u001b[0m \u001b[38;5;28;01mwith\u001b[39;00m \u001b[38;5;28mopen\u001b[39m(\u001b[38;5;124m'\u001b[39m\u001b[38;5;124mtrain_dict_cropped.json\u001b[39m\u001b[38;5;124m'\u001b[39m, \u001b[38;5;124m'\u001b[39m\u001b[38;5;124mw\u001b[39m\u001b[38;5;124m'\u001b[39m) \u001b[38;5;28;01mas\u001b[39;00m json_file:\n\u001b[0;32m----> 3\u001b[0m     json\u001b[38;5;241m.\u001b[39mdump(\u001b[43mtrain_dict\u001b[49m, json_file, indent\u001b[38;5;241m=\u001b[39m\u001b[38;5;241m4\u001b[39m)\n",
      "\u001b[0;31mNameError\u001b[0m: name 'train_dict' is not defined"
     ]
    }
   ],
   "source": [
    "import json\n",
    "with open('train_dict_cropped.json', 'w') as json_file:\n",
    "    json.dump(train_dict, json_file, indent=4)\n",
    "    \n",
    "    "
   ]
  },
  {
   "cell_type": "code",
   "execution_count": 26,
   "metadata": {},
   "outputs": [
    {
     "name": "stdout",
     "output_type": "stream",
     "text": [
      "<class 'str'>\n",
      "<class 'str'>\n"
     ]
    }
   ],
   "source": [
    "for i,j in train_dataset.iterrows() : \n",
    "    print(type(j.Symptoms))\n",
    "    print(type(j.short_codes))\n",
    "    break"
   ]
  },
  {
   "cell_type": "code",
   "execution_count": 27,
   "metadata": {},
   "outputs": [],
   "source": [
    "with open(\"train_dict_cropped.json\") as f:\n",
    "    data = json.load(f)\n"
   ]
  },
  {
   "cell_type": "code",
   "execution_count": 28,
   "metadata": {},
   "outputs": [
    {
     "data": {
      "text/plain": [
       "0"
      ]
     },
     "execution_count": 28,
     "metadata": {},
     "output_type": "execute_result"
    }
   ],
   "source": [
    "import gc\n",
    "gc.collect()"
   ]
  },
  {
   "cell_type": "code",
   "execution_count": 29,
   "metadata": {},
   "outputs": [],
   "source": [
    "uri = \"neo4j://localhost:7687\"\n",
    "auth = (\"neo4j\", \"neo4j_pass4\")\n",
    "\n",
    "driver = GraphDatabase.driver(uri, auth=auth)\n",
    "driver.verify_connectivity()"
   ]
  },
  {
   "cell_type": "code",
   "execution_count": 52,
   "metadata": {},
   "outputs": [],
   "source": [
    "# def delete_all_data():\n",
    "#     with driver.session(database=\"neo4j\") as session:\n",
    "#         # Execute the Cypher query to delete all nodes and relationships\n",
    "#         session.run(\"MATCH (n) DETACH DELETE n\")\n",
    "#         print(\"All nodes and relationships have been deleted.\")\n",
    "\n",
    "\n",
    "# delete_all_data()\n",
    "\n"
   ]
  },
  {
   "cell_type": "code",
   "execution_count": null,
   "metadata": {},
   "outputs": [],
   "source": []
  },
  {
   "cell_type": "code",
   "execution_count": 87,
   "metadata": {},
   "outputs": [],
   "source": [
    "from neo4j import GraphDatabase\n",
    "from tqdm import tqdm\n",
    "\n",
    "def remove_apostrophes(text):\n",
    "    return text.replace(\"'\", \"\")\n",
    "\n",
    "def generate_cypher_queries(data):\n",
    "    queries = []\n",
    "    unique_symptoms = set()\n",
    "    unique_diseases = set()\n",
    "    symptom_disease_pairs = set()\n",
    "    \n",
    "    for symptom, diseases_data in tqdm(data.items(), desc=\"Processing symptoms\"):\n",
    "        # Clean and process symptom\n",
    "        cleaned_symptom = remove_apostrophes(symptom.strip())\n",
    "        if cleaned_symptom not in unique_symptoms:\n",
    "            query = f\"MERGE (s:Symptom {{name: '{cleaned_symptom}'}})\"\n",
    "            queries.append(query)\n",
    "            unique_symptoms.add(cleaned_symptom)\n",
    "        \n",
    "        # Process each disease associated with the symptom\n",
    "        for disease in tqdm(diseases_data, desc=f\"Processing diseases for {cleaned_symptom}\", leave=False):\n",
    "            cleaned_short_code = remove_apostrophes(disease[\"disease_code\"].strip())\n",
    "            \n",
    "            # Disease nodes\n",
    "            if cleaned_short_code not in unique_diseases:\n",
    "                query = f\"MERGE (d:Disease {{title: '{cleaned_short_code}'}})\"\n",
    "                queries.append(query)\n",
    "                unique_diseases.add(cleaned_short_code)\n",
    "            \n",
    "            # Relationships between symptoms and diseases\n",
    "            if (cleaned_symptom, cleaned_short_code) not in symptom_disease_pairs:\n",
    "                query = (f\"MATCH (s:Symptom {{name: '{cleaned_symptom}'}}), \"\n",
    "                         f\"(d:Disease {{title: '{cleaned_short_code}'}}) \"\n",
    "                         f\"MERGE (s)-[:ASSOCIATED_WITH {{weight: {disease['weight']}}}]->(d)\")\n",
    "                queries.append(query)\n",
    "                symptom_disease_pairs.add((cleaned_symptom, cleaned_short_code))\n",
    "    \n",
    "    return queries\n",
    "\n",
    "\n"
   ]
  },
  {
   "cell_type": "code",
   "execution_count": 88,
   "metadata": {},
   "outputs": [
    {
     "name": "stderr",
     "output_type": "stream",
     "text": [
      "Processing symptoms: 100%|██████████| 39951/39951 [01:22<00:00, 482.81it/s]\n"
     ]
    }
   ],
   "source": [
    "queries = generate_cypher_queries(data)"
   ]
  },
  {
   "cell_type": "code",
   "execution_count": 89,
   "metadata": {},
   "outputs": [
    {
     "data": {
      "text/plain": [
       "851028"
      ]
     },
     "execution_count": 89,
     "metadata": {},
     "output_type": "execute_result"
    }
   ],
   "source": [
    "len(queries)"
   ]
  },
  {
   "cell_type": "code",
   "execution_count": 90,
   "metadata": {},
   "outputs": [
    {
     "name": "stderr",
     "output_type": "stream",
     "text": [
      "Processing batches: 100%|██████████| 86/86 [1:24:14<00:00, 58.77s/batch] \n"
     ]
    }
   ],
   "source": [
    "from neo4j import GraphDatabase\n",
    "from tqdm import tqdm\n",
    "\n",
    "\n",
    "\n",
    "def run_cypher_queries(queries, batch_size=10000):\n",
    "    total_queries = len(queries)\n",
    "    num_batches = (total_queries + batch_size - 1) // batch_size  \n",
    "\n",
    "    with driver.session() as session:\n",
    "        for batch_start in tqdm(range(0, total_queries, batch_size), desc=\"Processing batches\", unit=\"batch\", total=num_batches):\n",
    "            batch_end = min(batch_start + batch_size, total_queries)\n",
    "            batch_queries = queries[batch_start:batch_end]\n",
    "\n",
    "            for query in batch_queries:\n",
    "                session.run(query)\n",
    "    \n",
    "run_cypher_queries(queries)"
   ]
  },
  {
   "cell_type": "code",
   "execution_count": 29,
   "metadata": {},
   "outputs": [],
   "source": [
    "# from neo4j import GraphDatabase\n",
    "# from tqdm import tqdm\n",
    "\n",
    "\n",
    "\n",
    "# def create_knowledge_graph(tx, data):\n",
    "#     unique_symptoms = set()\n",
    "#     unique_diseases = set()\n",
    "#     symptom_disease_pairs = set()\n",
    "\n",
    "#     for symptom, diseases in tqdm(data.items()):\n",
    "#         cleaned_symptom = symptom\n",
    "#         # Symptom nodes\n",
    "#         if cleaned_symptom not in unique_symptoms:\n",
    "#             tx.run(\"MERGE (s:Symptom {name: $name})\", name=cleaned_symptom)\n",
    "#             unique_symptoms.add(cleaned_symptom)\n",
    "        \n",
    "#         # Disease nodes and Relationships\n",
    "#         for disease in diseases:\n",
    "#             cleaned_disease_code = (disease[\"disease_code\"]\n",
    "#             cleaned_short_title = disease[\"short_title\"]\n",
    "\n",
    "#             if cleaned_disease_code not in unique_diseases:\n",
    "#                 tx.run(\n",
    "#                     \"\"\"\n",
    "#                     MERGE (d:Disease {code: $code})\n",
    "#                     ON CREATE SET d.short_title = $short_title\n",
    "#                     \"\"\",\n",
    "#                     code=cleaned_disease_code,\n",
    "#                     short_title=cleaned_short_title,\n",
    "#                 )\n",
    "#                 unique_diseases.add(cleaned_disease_code)\n",
    "\n",
    "#             if (cleaned_symptom, cleaned_disease_code) not in symptom_disease_pairs:\n",
    "#                 tx.run(\n",
    "#                     \"\"\"\n",
    "#                     MATCH (s:Symptom {name: $symptom_name}), (d:Disease {code: $code})\n",
    "#                     MERGE (s)-[r:ASSOCIATED_WITH]->(d)\n",
    "#                     ON CREATE SET r.weight = $weight\n",
    "#                     \"\"\",\n",
    "#                     symptom_name=cleaned_symptom,\n",
    "#                     code=cleaned_disease_code,\n",
    "#                     weight=disease[\"weight\"],\n",
    "#                 )\n",
    "#                 symptom_disease_pairs.add((cleaned_symptom, cleaned_disease_code))\n",
    "\n",
    "# uri = \"neo4j://localhost:7687\"\n",
    "# auth = (\"neo4j\", \"neo4j_pass2\")\n",
    "\n",
    "# driver = GraphDatabase.driver(uri, auth=auth)\n",
    "# driver.verify_connectivity()\n",
    "\n",
    "# try:\n",
    "#     with driver.session(database=\"neo4j\") as session:\n",
    "#         session.execute_write(create_knowledge_graph, data)\n",
    "# finally:\n",
    "#     driver.close()\n"
   ]
  },
  {
   "cell_type": "code",
   "execution_count": 56,
   "metadata": {},
   "outputs": [],
   "source": [
    "\n",
    "# with driver.session(database=\"neo4j\") as session:\n",
    "#         session.execute_write(create_knowledge_graph, data)\n",
    "#         session.run(\"RETURN 1\")\n"
   ]
  },
  {
   "cell_type": "code",
   "execution_count": null,
   "metadata": {},
   "outputs": [],
   "source": []
  },
  {
   "cell_type": "code",
   "execution_count": null,
   "metadata": {},
   "outputs": [],
   "source": []
  },
  {
   "cell_type": "code",
   "execution_count": null,
   "metadata": {},
   "outputs": [],
   "source": []
  },
  {
   "cell_type": "code",
   "execution_count": null,
   "metadata": {},
   "outputs": [],
   "source": []
  }
 ],
 "metadata": {
  "kernelspec": {
   "display_name": "astro",
   "language": "python",
   "name": "python3"
  },
  "language_info": {
   "codemirror_mode": {
    "name": "ipython",
    "version": 3
   },
   "file_extension": ".py",
   "mimetype": "text/x-python",
   "name": "python",
   "nbconvert_exporter": "python",
   "pygments_lexer": "ipython3",
   "version": "3.12.3"
  }
 },
 "nbformat": 4,
 "nbformat_minor": 2
}
