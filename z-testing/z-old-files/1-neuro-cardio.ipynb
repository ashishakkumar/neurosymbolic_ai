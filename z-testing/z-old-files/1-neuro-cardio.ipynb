{
 "cells": [
  {
   "cell_type": "code",
   "execution_count": 2,
   "metadata": {},
   "outputs": [
    {
     "data": {
      "text/html": [
       "<div>\n",
       "<style scoped>\n",
       "    .dataframe tbody tr th:only-of-type {\n",
       "        vertical-align: middle;\n",
       "    }\n",
       "\n",
       "    .dataframe tbody tr th {\n",
       "        vertical-align: top;\n",
       "    }\n",
       "\n",
       "    .dataframe thead th {\n",
       "        text-align: right;\n",
       "    }\n",
       "</style>\n",
       "<table border=\"1\" class=\"dataframe\">\n",
       "  <thead>\n",
       "    <tr style=\"text-align: right;\">\n",
       "      <th></th>\n",
       "      <th>id</th>\n",
       "      <th>text</th>\n",
       "      <th>long_texts</th>\n",
       "      <th>short_texts</th>\n",
       "      <th>discharge_summary</th>\n",
       "      <th>short_codes</th>\n",
       "    </tr>\n",
       "  </thead>\n",
       "  <tbody>\n",
       "    <tr>\n",
       "      <th>0</th>\n",
       "      <td>159643</td>\n",
       "      <td>CHIEF COMPLAINT: \\n\\nPRESENT ILLNESS: This 60 ...</td>\n",
       "      <td>Aortic valve disorders,Congestive heart failur...</td>\n",
       "      <td>Aortic valve disorder,CHF NOS,Hyperpotassemia,...</td>\n",
       "      <td>Admission Date:  [**2141-3-13**]       Dischar...</td>\n",
       "      <td>424,428,276,997,427,414,412,V458</td>\n",
       "    </tr>\n",
       "    <tr>\n",
       "      <th>1</th>\n",
       "      <td>147171</td>\n",
       "      <td>CHIEF COMPLAINT: Substernal Chest Pain\\n\\nPRES...</td>\n",
       "      <td>Acute myocardial infarction of other anterior ...</td>\n",
       "      <td>AMI anterior wall, init,Ac systolic hrt failur...</td>\n",
       "      <td>Admission Date:  [**2102-9-26**]              ...</td>\n",
       "      <td>410,428,997,427,414,458</td>\n",
       "    </tr>\n",
       "    <tr>\n",
       "      <th>2</th>\n",
       "      <td>199961</td>\n",
       "      <td>CHIEF COMPLAINT: \\n\\nPRESENT ILLNESS: The pati...</td>\n",
       "      <td>Ankylosing spondylitis,Hypertensive chronic ki...</td>\n",
       "      <td>Ankylosing spondylitis,Hyp kid NOS w cr kid V,...</td>\n",
       "      <td>Admission Date: [**2115-6-29**]        Dischar...</td>\n",
       "      <td>720,403,805,847,E885,780,285,250</td>\n",
       "    </tr>\n",
       "    <tr>\n",
       "      <th>3</th>\n",
       "      <td>136812</td>\n",
       "      <td>CHIEF COMPLAINT: \\n\\nPRESENT ILLNESS: This is ...</td>\n",
       "      <td>Obstructive chronic bronchitis with (acute) ex...</td>\n",
       "      <td>Obs chr bronc w(ac) exac,Pneumonia, organism N...</td>\n",
       "      <td>Admission Date: [**2106-4-14**]        Dischar...</td>\n",
       "      <td>491,486,280,427,426,438,729,244</td>\n",
       "    </tr>\n",
       "    <tr>\n",
       "      <th>4</th>\n",
       "      <td>175700</td>\n",
       "      <td>CHIEF COMPLAINT: s/p rollover MVC with prolong...</td>\n",
       "      <td>Closed fracture of shaft of fibula with tibia,...</td>\n",
       "      <td>Fx shaft fib w tib-clos,Pneumococcal pneumonia...</td>\n",
       "      <td>Admission Date:  [**2159-2-9**]              D...</td>\n",
       "      <td>823,481,861,518,285,813,807,E816,883,799,V641,...</td>\n",
       "    </tr>\n",
       "  </tbody>\n",
       "</table>\n",
       "</div>"
      ],
      "text/plain": [
       "       id                                               text  \\\n",
       "0  159643  CHIEF COMPLAINT: \\n\\nPRESENT ILLNESS: This 60 ...   \n",
       "1  147171  CHIEF COMPLAINT: Substernal Chest Pain\\n\\nPRES...   \n",
       "2  199961  CHIEF COMPLAINT: \\n\\nPRESENT ILLNESS: The pati...   \n",
       "3  136812  CHIEF COMPLAINT: \\n\\nPRESENT ILLNESS: This is ...   \n",
       "4  175700  CHIEF COMPLAINT: s/p rollover MVC with prolong...   \n",
       "\n",
       "                                          long_texts  \\\n",
       "0  Aortic valve disorders,Congestive heart failur...   \n",
       "1  Acute myocardial infarction of other anterior ...   \n",
       "2  Ankylosing spondylitis,Hypertensive chronic ki...   \n",
       "3  Obstructive chronic bronchitis with (acute) ex...   \n",
       "4  Closed fracture of shaft of fibula with tibia,...   \n",
       "\n",
       "                                         short_texts  \\\n",
       "0  Aortic valve disorder,CHF NOS,Hyperpotassemia,...   \n",
       "1  AMI anterior wall, init,Ac systolic hrt failur...   \n",
       "2  Ankylosing spondylitis,Hyp kid NOS w cr kid V,...   \n",
       "3  Obs chr bronc w(ac) exac,Pneumonia, organism N...   \n",
       "4  Fx shaft fib w tib-clos,Pneumococcal pneumonia...   \n",
       "\n",
       "                                   discharge_summary  \\\n",
       "0  Admission Date:  [**2141-3-13**]       Dischar...   \n",
       "1  Admission Date:  [**2102-9-26**]              ...   \n",
       "2  Admission Date: [**2115-6-29**]        Dischar...   \n",
       "3  Admission Date: [**2106-4-14**]        Dischar...   \n",
       "4  Admission Date:  [**2159-2-9**]              D...   \n",
       "\n",
       "                                         short_codes  \n",
       "0                   424,428,276,997,427,414,412,V458  \n",
       "1                            410,428,997,427,414,458  \n",
       "2                   720,403,805,847,E885,780,285,250  \n",
       "3                    491,486,280,427,426,438,729,244  \n",
       "4  823,481,861,518,285,813,807,E816,883,799,V641,...  "
      ]
     },
     "execution_count": 2,
     "metadata": {},
     "output_type": "execute_result"
    }
   ],
   "source": [
    "import pandas as pd\n",
    "train_df = pd.read_csv('clinical-outcome-prediction/saved_files/DIA_GROUPS_3_DIGITS_adm_train.csv')\n",
    "\n",
    "test_df = pd.read_csv('clinical-outcome-prediction/saved_files/DIA_GROUPS_3_DIGITS_adm_test.csv')\n",
    "\n",
    "train_df.head()"
   ]
  },
  {
   "cell_type": "markdown",
   "metadata": {},
   "source": []
  },
  {
   "cell_type": "code",
   "execution_count": 3,
   "metadata": {},
   "outputs": [
    {
     "name": "stdout",
     "output_type": "stream",
     "text": [
      "Original train set shape: (33994, 6)\n",
      "New train subset shape: (30594, 6)\n",
      "Validation set shape: (3400, 6)\n",
      "Test set shape: (9829, 6)\n"
     ]
    }
   ],
   "source": [
    "from sklearn.model_selection import train_test_split\n",
    "\n",
    "train_subset, val_subset = train_test_split(\n",
    "    train_df,\n",
    "    test_size=0.1,  # 10% for validation\n",
    "    random_state=345  \n",
    ")\n",
    "\n",
    "\n",
    "print(f\"Original train set shape: {train_df.shape}\")\n",
    "print(f\"New train subset shape: {train_subset.shape}\")\n",
    "print(f\"Validation set shape: {val_subset.shape}\")\n",
    "print(f\"Test set shape: {test_df.shape}\")"
   ]
  },
  {
   "cell_type": "code",
   "execution_count": 4,
   "metadata": {},
   "outputs": [
    {
     "name": "stdout",
     "output_type": "stream",
     "text": [
      "<class 'pandas.core.frame.DataFrame'>\n",
      "Index: 30594 entries, 32361 to 3608\n",
      "Data columns (total 6 columns):\n",
      " #   Column             Non-Null Count  Dtype \n",
      "---  ------             --------------  ----- \n",
      " 0   id                 30594 non-null  int64 \n",
      " 1   text               30594 non-null  object\n",
      " 2   long_texts         30594 non-null  object\n",
      " 3   short_texts        30594 non-null  object\n",
      " 4   discharge_summary  30594 non-null  object\n",
      " 5   short_codes        30594 non-null  object\n",
      "dtypes: int64(1), object(5)\n",
      "memory usage: 1.6+ MB\n"
     ]
    }
   ],
   "source": [
    "train_subset.info()"
   ]
  },
  {
   "cell_type": "code",
   "execution_count": 5,
   "metadata": {},
   "outputs": [
    {
     "name": "stdout",
     "output_type": "stream",
     "text": [
      "<class 'pandas.core.frame.DataFrame'>\n",
      "Index: 3400 entries, 22471 to 2489\n",
      "Data columns (total 6 columns):\n",
      " #   Column             Non-Null Count  Dtype \n",
      "---  ------             --------------  ----- \n",
      " 0   id                 3400 non-null   int64 \n",
      " 1   text               3400 non-null   object\n",
      " 2   long_texts         3400 non-null   object\n",
      " 3   short_texts        3400 non-null   object\n",
      " 4   discharge_summary  3400 non-null   object\n",
      " 5   short_codes        3400 non-null   object\n",
      "dtypes: int64(1), object(5)\n",
      "memory usage: 185.9+ KB\n"
     ]
    }
   ],
   "source": [
    "val_subset.info()"
   ]
  },
  {
   "cell_type": "code",
   "execution_count": 6,
   "metadata": {},
   "outputs": [
    {
     "name": "stdout",
     "output_type": "stream",
     "text": [
      "<class 'pandas.core.frame.DataFrame'>\n",
      "RangeIndex: 9829 entries, 0 to 9828\n",
      "Data columns (total 6 columns):\n",
      " #   Column             Non-Null Count  Dtype \n",
      "---  ------             --------------  ----- \n",
      " 0   id                 9829 non-null   int64 \n",
      " 1   text               9829 non-null   object\n",
      " 2   long_texts         9829 non-null   object\n",
      " 3   short_texts        9829 non-null   object\n",
      " 4   discharge_summary  9829 non-null   object\n",
      " 5   short_codes        9829 non-null   object\n",
      "dtypes: int64(1), object(5)\n",
      "memory usage: 460.9+ KB\n"
     ]
    }
   ],
   "source": [
    "test_df.info()"
   ]
  },
  {
   "cell_type": "code",
   "execution_count": 12,
   "metadata": {},
   "outputs": [
    {
     "ename": "FileExistsError",
     "evalue": "[Errno 17] File exists: 'new_split'",
     "output_type": "error",
     "traceback": [
      "\u001b[0;31m---------------------------------------------------------------------------\u001b[0m",
      "\u001b[0;31mFileExistsError\u001b[0m                           Traceback (most recent call last)",
      "Cell \u001b[0;32mIn[12], line 2\u001b[0m\n\u001b[1;32m      1\u001b[0m \u001b[38;5;28;01mimport\u001b[39;00m \u001b[38;5;21;01mos\u001b[39;00m\n\u001b[0;32m----> 2\u001b[0m \u001b[43mos\u001b[49m\u001b[38;5;241;43m.\u001b[39;49m\u001b[43mmakedirs\u001b[49m\u001b[43m(\u001b[49m\u001b[38;5;124;43m'\u001b[39;49m\u001b[38;5;124;43mnew_split\u001b[39;49m\u001b[38;5;124;43m'\u001b[39;49m\u001b[43m)\u001b[49m\n",
      "File \u001b[0;32m/usr/lib/python3.10/os.py:225\u001b[0m, in \u001b[0;36mmakedirs\u001b[0;34m(name, mode, exist_ok)\u001b[0m\n\u001b[1;32m    223\u001b[0m         \u001b[38;5;28;01mreturn\u001b[39;00m\n\u001b[1;32m    224\u001b[0m \u001b[38;5;28;01mtry\u001b[39;00m:\n\u001b[0;32m--> 225\u001b[0m     \u001b[43mmkdir\u001b[49m\u001b[43m(\u001b[49m\u001b[43mname\u001b[49m\u001b[43m,\u001b[49m\u001b[43m \u001b[49m\u001b[43mmode\u001b[49m\u001b[43m)\u001b[49m\n\u001b[1;32m    226\u001b[0m \u001b[38;5;28;01mexcept\u001b[39;00m \u001b[38;5;167;01mOSError\u001b[39;00m:\n\u001b[1;32m    227\u001b[0m     \u001b[38;5;66;03m# Cannot rely on checking for EEXIST, since the operating system\u001b[39;00m\n\u001b[1;32m    228\u001b[0m     \u001b[38;5;66;03m# could give priority to other errors like EACCES or EROFS\u001b[39;00m\n\u001b[1;32m    229\u001b[0m     \u001b[38;5;28;01mif\u001b[39;00m \u001b[38;5;129;01mnot\u001b[39;00m exist_ok \u001b[38;5;129;01mor\u001b[39;00m \u001b[38;5;129;01mnot\u001b[39;00m path\u001b[38;5;241m.\u001b[39misdir(name):\n",
      "\u001b[0;31mFileExistsError\u001b[0m: [Errno 17] File exists: 'new_split'"
     ]
    }
   ],
   "source": [
    "import os\n",
    "os.makedirs('new_split')"
   ]
  },
  {
   "cell_type": "code",
   "execution_count": null,
   "metadata": {},
   "outputs": [],
   "source": [
    "train_subset.to_csv('new_split/train_split.csv')\n",
    "val_subset.to_csv('new_split/val_split.csv')\n",
    "test_df.to_csv('new_split/test_split.csv')"
   ]
  },
  {
   "cell_type": "code",
   "execution_count": 9,
   "metadata": {},
   "outputs": [
    {
     "data": {
      "text/plain": [
       "1186"
      ]
     },
     "execution_count": 9,
     "metadata": {},
     "output_type": "execute_result"
    }
   ],
   "source": [
    "train_unique_short_codes = pd.Series(\n",
    "    code for codes in train_subset['short_codes'] for code in codes.split(',')\n",
    ").nunique()\n",
    "\n",
    "train_unique_short_codes"
   ]
  },
  {
   "cell_type": "code",
   "execution_count": 10,
   "metadata": {},
   "outputs": [
    {
     "data": {
      "text/plain": [
       "852"
      ]
     },
     "execution_count": 10,
     "metadata": {},
     "output_type": "execute_result"
    }
   ],
   "source": [
    "val_unique_short_codes = pd.Series(\n",
    "    code for codes in val_subset['short_codes'] for code in codes.split(',')\n",
    ").nunique()\n",
    "\n",
    "val_unique_short_codes"
   ]
  },
  {
   "cell_type": "code",
   "execution_count": 11,
   "metadata": {},
   "outputs": [
    {
     "data": {
      "text/plain": [
       "1029"
      ]
     },
     "execution_count": 11,
     "metadata": {},
     "output_type": "execute_result"
    }
   ],
   "source": [
    "test_unique_short_codes = pd.Series(\n",
    "    code for codes in test_df['short_codes'] for code in codes.split(',')\n",
    ").nunique()\n",
    "\n",
    "test_unique_short_codes"
   ]
  },
  {
   "cell_type": "code",
   "execution_count": null,
   "metadata": {},
   "outputs": [],
   "source": []
  },
  {
   "cell_type": "code",
   "execution_count": 12,
   "metadata": {},
   "outputs": [
    {
     "data": {
      "text/plain": [
       "1224"
      ]
     },
     "execution_count": 12,
     "metadata": {},
     "output_type": "execute_result"
    }
   ],
   "source": [
    "combined_unique_short_codes = pd.Series(\n",
    "    code for codes in pd.concat([train_subset['short_codes'], val_subset['short_codes'], test_df['short_codes']]) for code in codes.split(',')\n",
    ").nunique()\n",
    "\n",
    "combined_unique_short_codes"
   ]
  },
  {
   "cell_type": "code",
   "execution_count": 13,
   "metadata": {},
   "outputs": [
    {
     "data": {
      "text/plain": [
       "1000"
      ]
     },
     "execution_count": 13,
     "metadata": {},
     "output_type": "execute_result"
    }
   ],
   "source": [
    "len(set(pd.Series(\n",
    "    code for codes in train_df['short_codes'] for code in codes.split(',')\n",
    ")).intersection(pd.Series(\n",
    "    code for codes in test_df['short_codes'] for code in codes.split(',')\n",
    ")))"
   ]
  },
  {
   "cell_type": "code",
   "execution_count": 8,
   "metadata": {},
   "outputs": [],
   "source": [
    "unique_short_codes = pd.Series(\n",
    "    code for codes in pd.concat([train_df['short_codes'], test_df['short_codes']]) for code in codes.split(',')\n",
    ").unique()\n",
    "\n",
    "\n",
    "with open('unique_short_codes.txt', 'w') as f:\n",
    "    for code in unique_short_codes:\n",
    "        f.write(f\"{code}\\n\")\n"
   ]
  },
  {
   "cell_type": "code",
   "execution_count": 9,
   "metadata": {},
   "outputs": [
    {
     "name": "stdout",
     "output_type": "stream",
     "text": [
      "<class 'pandas.core.frame.DataFrame'>\n",
      "RangeIndex: 33994 entries, 0 to 33993\n",
      "Data columns (total 6 columns):\n",
      " #   Column             Non-Null Count  Dtype \n",
      "---  ------             --------------  ----- \n",
      " 0   id                 33994 non-null  int64 \n",
      " 1   text               33994 non-null  object\n",
      " 2   long_texts         33994 non-null  object\n",
      " 3   short_texts        33994 non-null  object\n",
      " 4   discharge_summary  33994 non-null  object\n",
      " 5   short_codes        33994 non-null  object\n",
      "dtypes: int64(1), object(5)\n",
      "memory usage: 1.6+ MB\n"
     ]
    }
   ],
   "source": [
    "train_df.info()"
   ]
  },
  {
   "cell_type": "code",
   "execution_count": 10,
   "metadata": {},
   "outputs": [
    {
     "name": "stdout",
     "output_type": "stream",
     "text": [
      "<class 'pandas.core.frame.DataFrame'>\n",
      "RangeIndex: 9829 entries, 0 to 9828\n",
      "Data columns (total 6 columns):\n",
      " #   Column             Non-Null Count  Dtype \n",
      "---  ------             --------------  ----- \n",
      " 0   id                 9829 non-null   int64 \n",
      " 1   text               9829 non-null   object\n",
      " 2   long_texts         9829 non-null   object\n",
      " 3   short_texts        9829 non-null   object\n",
      " 4   discharge_summary  9829 non-null   object\n",
      " 5   short_codes        9829 non-null   object\n",
      "dtypes: int64(1), object(5)\n",
      "memory usage: 460.9+ KB\n"
     ]
    }
   ],
   "source": [
    "test_df.info()"
   ]
  },
  {
   "cell_type": "code",
   "execution_count": null,
   "metadata": {},
   "outputs": [],
   "source": []
  },
  {
   "cell_type": "code",
   "execution_count": 11,
   "metadata": {},
   "outputs": [
    {
     "ename": "NameError",
     "evalue": "name 'filter_codes' is not defined",
     "output_type": "error",
     "traceback": [
      "\u001b[0;31m---------------------------------------------------------------------------\u001b[0m",
      "\u001b[0;31mNameError\u001b[0m                                 Traceback (most recent call last)",
      "Cell \u001b[0;32mIn[11], line 9\u001b[0m\n\u001b[1;32m      7\u001b[0m \u001b[38;5;66;03m# Split short_codes into lists, then filter by Neurology codes\u001b[39;00m\n\u001b[1;32m      8\u001b[0m train_df[\u001b[38;5;124m'\u001b[39m\u001b[38;5;124mshort_codes_list\u001b[39m\u001b[38;5;124m'\u001b[39m] \u001b[38;5;241m=\u001b[39m train_df[\u001b[38;5;124m'\u001b[39m\u001b[38;5;124mshort_codes\u001b[39m\u001b[38;5;124m'\u001b[39m]\u001b[38;5;241m.\u001b[39mapply(\u001b[38;5;28;01mlambda\u001b[39;00m x: x\u001b[38;5;241m.\u001b[39msplit(\u001b[38;5;124m'\u001b[39m\u001b[38;5;124m,\u001b[39m\u001b[38;5;124m'\u001b[39m))\n\u001b[0;32m----> 9\u001b[0m train_df[\u001b[38;5;124m'\u001b[39m\u001b[38;5;124mneurology_codes\u001b[39m\u001b[38;5;124m'\u001b[39m] \u001b[38;5;241m=\u001b[39m train_df[\u001b[38;5;124m'\u001b[39m\u001b[38;5;124mshort_codes_list\u001b[39m\u001b[38;5;124m'\u001b[39m]\u001b[38;5;241m.\u001b[39mapply(\u001b[43mfilter_codes\u001b[49m)\n\u001b[1;32m     12\u001b[0m neurology_codes_list \u001b[38;5;241m=\u001b[39m train_df[\u001b[38;5;124m'\u001b[39m\u001b[38;5;124mneurology_codes\u001b[39m\u001b[38;5;124m'\u001b[39m]\u001b[38;5;241m.\u001b[39mtolist()\n\u001b[1;32m     13\u001b[0m neurology_codes_filtered \u001b[38;5;241m=\u001b[39m [codes \u001b[38;5;28;01mfor\u001b[39;00m codes \u001b[38;5;129;01min\u001b[39;00m neurology_codes_list \u001b[38;5;28;01mif\u001b[39;00m codes]\n",
      "\u001b[0;31mNameError\u001b[0m: name 'filter_codes' is not defined"
     ]
    }
   ],
   "source": [
    "# Function to filter codes based on the required group\n",
    "def filter_codes_neurology(codes):\n",
    "    neurology_codes = [code for code in codes if code.isdigit() and 320 <= int(code) <= 389]\n",
    "    return neurology_codes\n",
    "\n",
    "\n",
    "# Split short_codes into lists, then filter by Neurology codes\n",
    "train_df['short_codes_list'] = train_df['short_codes'].apply(lambda x: x.split(','))\n",
    "train_df['neurology_codes'] = train_df['short_codes_list'].apply(filter_codes)\n",
    "\n",
    "\n",
    "neurology_codes_list = train_df['neurology_codes'].tolist()\n",
    "neurology_codes_filtered = [codes for codes in neurology_codes_list if codes]\n",
    "\n",
    "\n",
    "print(neurology_codes_filtered)"
   ]
  },
  {
   "cell_type": "code",
   "execution_count": null,
   "metadata": {},
   "outputs": [
    {
     "name": "stdout",
     "output_type": "stream",
     "text": [
      "['375', '348', '364', '343', '362', '380', '340', '353', '349', '358', '337', '357', '345', '369', '336', '351', '379', '361', '386', '325', '359', '388', '360', '341', '372', '331', '344', '350', '352', '324', '371', '342', '338', '368', '363', '333', '373', '367', '347', '377', '327', '370', '385', '365', '334', '322', '366', '320', '321', '376', '356', '335', '381', '326', '387', '378', '323', '346', '374', '384', '355', '383', '332', '382', '339', '354', '389', '330']\n"
     ]
    }
   ],
   "source": [
    "from itertools import chain\n",
    "all_neurology_codes = list(set(chain(*neurology_codes_list)))\n",
    "print(all_neurology_codes)\n"
   ]
  },
  {
   "cell_type": "code",
   "execution_count": null,
   "metadata": {},
   "outputs": [
    {
     "data": {
      "text/plain": [
       "68"
      ]
     },
     "execution_count": 7,
     "metadata": {},
     "output_type": "execute_result"
    }
   ],
   "source": [
    "len(all_neurology_codes)"
   ]
  },
  {
   "cell_type": "code",
   "execution_count": null,
   "metadata": {},
   "outputs": [],
   "source": [
    "# Function to filter codes based on the Neurology range (320-389)\n",
    "def filter_codes(codes):\n",
    "    neurology_codes = [code for code in codes if code.isdigit() and 320 <= int(code) <= 389]\n",
    "    return neurology_codes\n",
    "\n",
    "# Split short_codes into lists, then filter by Neurology codes\n",
    "train_df['short_codes_list'] = train_df['short_codes'].apply(lambda x: x.split(','))\n",
    "train_df['neurology_codes'] = train_df['short_codes_list'].apply(filter_codes)\n",
    "\n",
    "# Create a new column indicating whether the row contains any Neurology codes\n",
    "train_df['has_neurology_codes'] = train_df['neurology_codes'].apply(lambda x: bool(x))\n",
    "\n",
    "# Count how many rows have Neurology codes\n",
    "count_neurology_rows = train_df['has_neurology_codes'].sum()\n",
    "\n",
    "# Display the dataframe with the new columns and the count of rows with Neurology codes\n",
    "neurology_df = train_df[train_df.has_neurology_codes].reset_index(drop = True)"
   ]
  },
  {
   "cell_type": "code",
   "execution_count": null,
   "metadata": {},
   "outputs": [
    {
     "name": "stdout",
     "output_type": "stream",
     "text": [
      "<class 'pandas.core.frame.DataFrame'>\n",
      "RangeIndex: 10515 entries, 0 to 10514\n",
      "Data columns (total 9 columns):\n",
      " #   Column               Non-Null Count  Dtype \n",
      "---  ------               --------------  ----- \n",
      " 0   id                   10515 non-null  int64 \n",
      " 1   text                 10515 non-null  object\n",
      " 2   long_texts           10515 non-null  object\n",
      " 3   short_texts          10515 non-null  object\n",
      " 4   discharge_summary    10515 non-null  object\n",
      " 5   short_codes          10515 non-null  object\n",
      " 6   short_codes_list     10515 non-null  object\n",
      " 7   neurology_codes      10515 non-null  object\n",
      " 8   has_neurology_codes  10515 non-null  bool  \n",
      "dtypes: bool(1), int64(1), object(7)\n",
      "memory usage: 667.6+ KB\n"
     ]
    }
   ],
   "source": [
    "neurology_df.info()"
   ]
  },
  {
   "cell_type": "code",
   "execution_count": null,
   "metadata": {},
   "outputs": [
    {
     "data": {
      "text/html": [
       "<div>\n",
       "<style scoped>\n",
       "    .dataframe tbody tr th:only-of-type {\n",
       "        vertical-align: middle;\n",
       "    }\n",
       "\n",
       "    .dataframe tbody tr th {\n",
       "        vertical-align: top;\n",
       "    }\n",
       "\n",
       "    .dataframe thead th {\n",
       "        text-align: right;\n",
       "    }\n",
       "</style>\n",
       "<table border=\"1\" class=\"dataframe\">\n",
       "  <thead>\n",
       "    <tr style=\"text-align: right;\">\n",
       "      <th></th>\n",
       "      <th>id</th>\n",
       "      <th>text</th>\n",
       "      <th>long_texts</th>\n",
       "      <th>short_texts</th>\n",
       "      <th>discharge_summary</th>\n",
       "      <th>short_codes</th>\n",
       "      <th>short_codes_list</th>\n",
       "      <th>neurology_codes</th>\n",
       "      <th>has_neurology_codes</th>\n",
       "    </tr>\n",
       "  </thead>\n",
       "  <tbody>\n",
       "    <tr>\n",
       "      <th>0</th>\n",
       "      <td>175700</td>\n",
       "      <td>CHIEF COMPLAINT: s/p rollover MVC with prolong...</td>\n",
       "      <td>Closed fracture of shaft of fibula with tibia,...</td>\n",
       "      <td>Fx shaft fib w tib-clos,Pneumococcal pneumonia...</td>\n",
       "      <td>Admission Date:  [**2159-2-9**]              D...</td>\n",
       "      <td>823,481,861,518,285,813,807,E816,883,799,V641,...</td>\n",
       "      <td>[823, 481, 861, 518, 285, 813, 807, E816, 883,...</td>\n",
       "      <td>[327]</td>\n",
       "      <td>True</td>\n",
       "    </tr>\n",
       "    <tr>\n",
       "      <th>1</th>\n",
       "      <td>140536</td>\n",
       "      <td>CHIEF COMPLAINT: Presented with respiratory di...</td>\n",
       "      <td>Subendocardial infarction, initial episode of ...</td>\n",
       "      <td>Subendo infarct, initial,Pneumonia, organism N...</td>\n",
       "      <td>Admission Date:  [**2183-1-7**]              D...</td>\n",
       "      <td>410,486,276,425,414,427,695,401,416,496,356,43...</td>\n",
       "      <td>[410, 486, 276, 425, 414, 427, 695, 401, 416, ...</td>\n",
       "      <td>[356]</td>\n",
       "      <td>True</td>\n",
       "    </tr>\n",
       "    <tr>\n",
       "      <th>2</th>\n",
       "      <td>120286</td>\n",
       "      <td>CHIEF COMPLAINT: Intracranial Hemmorrhage s/p ...</td>\n",
       "      <td>Intracerebral hemorrhage,Other convulsions,Obs...</td>\n",
       "      <td>Intracerebral hemorrhage,Convulsions NEC,Obstr...</td>\n",
       "      <td>Admission Date:  [**2136-3-30**]              ...</td>\n",
       "      <td>431,780,331,486,322,305,348,730,719,E884,555,569</td>\n",
       "      <td>[431, 780, 331, 486, 322, 305, 348, 730, 719, ...</td>\n",
       "      <td>[331, 322, 348]</td>\n",
       "      <td>True</td>\n",
       "    </tr>\n",
       "    <tr>\n",
       "      <th>3</th>\n",
       "      <td>109206</td>\n",
       "      <td>CHIEF COMPLAINT: Right hip pain / Osteoarthrit...</td>\n",
       "      <td>Osteoarthrosis, localized, not specified wheth...</td>\n",
       "      <td>Loc osteoarth NOS-pelvis,Acute kidney failure ...</td>\n",
       "      <td>Admission Date:  [**2107-5-24**]              ...</td>\n",
       "      <td>715,584,518,790,276,428,272,403,585,305,327,28...</td>\n",
       "      <td>[715, 584, 518, 790, 276, 428, 272, 403, 585, ...</td>\n",
       "      <td>[327]</td>\n",
       "      <td>True</td>\n",
       "    </tr>\n",
       "    <tr>\n",
       "      <th>4</th>\n",
       "      <td>133127</td>\n",
       "      <td>CHIEF COMPLAINT: Atrial fibrillation w/ RVR, V...</td>\n",
       "      <td>Subdural hemorrhage following injury without m...</td>\n",
       "      <td>Subdural hem w/o coma,Compression of brain,Chr...</td>\n",
       "      <td>Admission Date:  [**2121-9-19**]              ...</td>\n",
       "      <td>852,348,428,425,427,E885,434,244,733,443,V450,...</td>\n",
       "      <td>[852, 348, 428, 425, 427, E885, 434, 244, 733,...</td>\n",
       "      <td>[348]</td>\n",
       "      <td>True</td>\n",
       "    </tr>\n",
       "  </tbody>\n",
       "</table>\n",
       "</div>"
      ],
      "text/plain": [
       "       id                                               text  \\\n",
       "0  175700  CHIEF COMPLAINT: s/p rollover MVC with prolong...   \n",
       "1  140536  CHIEF COMPLAINT: Presented with respiratory di...   \n",
       "2  120286  CHIEF COMPLAINT: Intracranial Hemmorrhage s/p ...   \n",
       "3  109206  CHIEF COMPLAINT: Right hip pain / Osteoarthrit...   \n",
       "4  133127  CHIEF COMPLAINT: Atrial fibrillation w/ RVR, V...   \n",
       "\n",
       "                                          long_texts  \\\n",
       "0  Closed fracture of shaft of fibula with tibia,...   \n",
       "1  Subendocardial infarction, initial episode of ...   \n",
       "2  Intracerebral hemorrhage,Other convulsions,Obs...   \n",
       "3  Osteoarthrosis, localized, not specified wheth...   \n",
       "4  Subdural hemorrhage following injury without m...   \n",
       "\n",
       "                                         short_texts  \\\n",
       "0  Fx shaft fib w tib-clos,Pneumococcal pneumonia...   \n",
       "1  Subendo infarct, initial,Pneumonia, organism N...   \n",
       "2  Intracerebral hemorrhage,Convulsions NEC,Obstr...   \n",
       "3  Loc osteoarth NOS-pelvis,Acute kidney failure ...   \n",
       "4  Subdural hem w/o coma,Compression of brain,Chr...   \n",
       "\n",
       "                                   discharge_summary  \\\n",
       "0  Admission Date:  [**2159-2-9**]              D...   \n",
       "1  Admission Date:  [**2183-1-7**]              D...   \n",
       "2  Admission Date:  [**2136-3-30**]              ...   \n",
       "3  Admission Date:  [**2107-5-24**]              ...   \n",
       "4  Admission Date:  [**2121-9-19**]              ...   \n",
       "\n",
       "                                         short_codes  \\\n",
       "0  823,481,861,518,285,813,807,E816,883,799,V641,...   \n",
       "1  410,486,276,425,414,427,695,401,416,496,356,43...   \n",
       "2   431,780,331,486,322,305,348,730,719,E884,555,569   \n",
       "3  715,584,518,790,276,428,272,403,585,305,327,28...   \n",
       "4  852,348,428,425,427,E885,434,244,733,443,V450,...   \n",
       "\n",
       "                                    short_codes_list  neurology_codes  \\\n",
       "0  [823, 481, 861, 518, 285, 813, 807, E816, 883,...            [327]   \n",
       "1  [410, 486, 276, 425, 414, 427, 695, 401, 416, ...            [356]   \n",
       "2  [431, 780, 331, 486, 322, 305, 348, 730, 719, ...  [331, 322, 348]   \n",
       "3  [715, 584, 518, 790, 276, 428, 272, 403, 585, ...            [327]   \n",
       "4  [852, 348, 428, 425, 427, E885, 434, 244, 733,...            [348]   \n",
       "\n",
       "   has_neurology_codes  \n",
       "0                 True  \n",
       "1                 True  \n",
       "2                 True  \n",
       "3                 True  \n",
       "4                 True  "
      ]
     },
     "execution_count": 17,
     "metadata": {},
     "output_type": "execute_result"
    }
   ],
   "source": [
    "neurology_df.head()"
   ]
  },
  {
   "cell_type": "code",
   "execution_count": null,
   "metadata": {},
   "outputs": [
    {
     "name": "stdout",
     "output_type": "stream",
     "text": [
      "<class 'pandas.core.frame.DataFrame'>\n",
      "RangeIndex: 33994 entries, 0 to 33993\n",
      "Data columns (total 9 columns):\n",
      " #   Column               Non-Null Count  Dtype \n",
      "---  ------               --------------  ----- \n",
      " 0   id                   33994 non-null  int64 \n",
      " 1   text                 33994 non-null  object\n",
      " 2   long_texts           33994 non-null  object\n",
      " 3   short_texts          33994 non-null  object\n",
      " 4   discharge_summary    33994 non-null  object\n",
      " 5   short_codes          33994 non-null  object\n",
      " 6   short_codes_list     33994 non-null  object\n",
      " 7   neurology_codes      33994 non-null  object\n",
      " 8   has_neurology_codes  33994 non-null  bool  \n",
      "dtypes: bool(1), int64(1), object(7)\n",
      "memory usage: 2.1+ MB\n"
     ]
    }
   ],
   "source": [
    "train_df.info()"
   ]
  },
  {
   "cell_type": "code",
   "execution_count": null,
   "metadata": {},
   "outputs": [
    {
     "name": "stdout",
     "output_type": "stream",
     "text": [
      "Number of rows with Neurology codes: 10515\n",
      "Number of rows with Cardiovascular codes: 28474\n",
      "Number of rows with Respiratory codes: 16504\n"
     ]
    }
   ],
   "source": [
    "\n",
    "\n",
    "# Function to filter codes based on a specific range\n",
    "def filter_codes(codes, lower, upper):\n",
    "    return [code for code in codes if code.isdigit() and lower <= int(code) <= upper]\n",
    "\n",
    "\n",
    "def creating_cols(df : pd.DataFrame) -> pd.DataFrame : \n",
    "    # Split short_codes into lists\n",
    "    df['short_codes_list'] = df['short_codes'].apply(lambda x: x.split(','))\n",
    "\n",
    "    # Filter by each range and create new columns\n",
    "    df['neurology_codes'] = df['short_codes_list'].apply(lambda codes: filter_codes(codes, 320, 389))\n",
    "    df['cardiovascular_codes'] = df['short_codes_list'].apply(lambda codes: filter_codes(codes, 390, 459))\n",
    "    df['respiratory_codes'] = df['short_codes_list'].apply(lambda codes: filter_codes(codes, 460, 519))\n",
    "\n",
    "    # Create boolean columns to indicate the presence of codes for each group\n",
    "    df['has_neurology_codes'] = df['neurology_codes'].apply(lambda x: bool(x))\n",
    "    df['has_cardiovascular_codes'] = df['cardiovascular_codes'].apply(lambda x: bool(x))\n",
    "    df['has_respiratory_codes'] = df['respiratory_codes'].apply(lambda x: bool(x))\n",
    "\n",
    "    return df\n",
    "\n",
    "train_df = creating_cols(train_df)\n",
    "\n",
    "# Count how many rows have codes in each group\n",
    "count_neurology_rows = train_df['has_neurology_codes'].sum()\n",
    "count_cardiovascular_rows = train_df['has_cardiovascular_codes'].sum()\n",
    "count_respiratory_rows = train_df['has_respiratory_codes'].sum()\n",
    "\n",
    "\n",
    "\n",
    "print(f\"Number of rows with Neurology codes: {count_neurology_rows}\")\n",
    "print(f\"Number of rows with Cardiovascular codes: {count_cardiovascular_rows}\")\n",
    "print(f\"Number of rows with Respiratory codes: {count_respiratory_rows}\")\n"
   ]
  },
  {
   "cell_type": "code",
   "execution_count": null,
   "metadata": {},
   "outputs": [
    {
     "name": "stdout",
     "output_type": "stream",
     "text": [
      "<class 'pandas.core.frame.DataFrame'>\n",
      "RangeIndex: 9829 entries, 0 to 9828\n",
      "Data columns (total 6 columns):\n",
      " #   Column             Non-Null Count  Dtype \n",
      "---  ------             --------------  ----- \n",
      " 0   id                 9829 non-null   int64 \n",
      " 1   text               9829 non-null   object\n",
      " 2   long_texts         9829 non-null   object\n",
      " 3   short_texts        9829 non-null   object\n",
      " 4   discharge_summary  9829 non-null   object\n",
      " 5   short_codes        9829 non-null   object\n",
      "dtypes: int64(1), object(5)\n",
      "memory usage: 460.9+ KB\n"
     ]
    }
   ],
   "source": [
    "test_df.info()"
   ]
  },
  {
   "cell_type": "code",
   "execution_count": null,
   "metadata": {},
   "outputs": [
    {
     "name": "stdout",
     "output_type": "stream",
     "text": [
      "Number of rows with Neurology codes: 2995\n",
      "Number of rows with Cardiovascular codes: 8328\n",
      "Number of rows with Respiratory codes: 4724\n"
     ]
    }
   ],
   "source": [
    "test_df = creating_cols(test_df)\n",
    "\n",
    "# Count how many rows have codes in each group\n",
    "count_neurology_rows = test_df['has_neurology_codes'].sum()\n",
    "count_cardiovascular_rows = test_df['has_cardiovascular_codes'].sum()\n",
    "count_respiratory_rows = test_df['has_respiratory_codes'].sum()\n",
    "\n",
    "\n",
    "\n",
    "print(f\"Number of rows with Neurology codes: {count_neurology_rows}\")\n",
    "print(f\"Number of rows with Cardiovascular codes: {count_cardiovascular_rows}\")\n",
    "print(f\"Number of rows with Respiratory codes: {count_respiratory_rows}\")"
   ]
  },
  {
   "cell_type": "markdown",
   "metadata": {},
   "source": [
    "# Notes \n",
    "\n",
    "- Symptoms increased (14k)\n",
    "- fine tune llm on the trainig data\n",
    "- bert wala baseline : clinical besrt\n",
    "- Seq2care and Dr knows : go through it\n",
    "- BioBert fine tuning\n",
    "- sparese indexing (initiallly) : try it out\n",
    "- statisitcal analysis (T-test)\n",
    "- how many ICD-9 codes vs how many after preprocessing\n",
    "- ttransfer not relevant to another folder (compress it) <--------\n",
    "- build the MIMIC KG with the 3 digit codes\n",
    "- CPU server index build\n",
    "-> need the validation set : for e.g. while training the BERT model for supervised training task\n",
    "\n",
    "\n",
    "-> or for setting the threshold for maximising hte f1 score\n",
    "\n",
    "-> Keep the 10% as validation set"
   ]
  }
 ],
 "metadata": {
  "kernelspec": {
   "display_name": "llama_env",
   "language": "python",
   "name": "python3"
  },
  "language_info": {
   "codemirror_mode": {
    "name": "ipython",
    "version": 3
   },
   "file_extension": ".py",
   "mimetype": "text/x-python",
   "name": "python",
   "nbconvert_exporter": "python",
   "pygments_lexer": "ipython3",
   "version": "3.10.12"
  }
 },
 "nbformat": 4,
 "nbformat_minor": 2
}
