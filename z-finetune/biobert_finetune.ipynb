{
 "cells": [
  {
   "cell_type": "code",
   "execution_count": 1,
   "metadata": {},
   "outputs": [
    {
     "name": "stderr",
     "output_type": "stream",
     "text": [
      "Some weights of BertForSequenceClassification were not initialized from the model checkpoint at dmis-lab/biobert-v1.1 and are newly initialized: ['classifier.bias', 'classifier.weight']\n",
      "You should probably TRAIN this model on a down-stream task to be able to use it for predictions and inference.\n"
     ]
    },
    {
     "data": {
      "text/plain": [
       "BertForSequenceClassification(\n",
       "  (bert): BertModel(\n",
       "    (embeddings): BertEmbeddings(\n",
       "      (word_embeddings): Embedding(28996, 768, padding_idx=0)\n",
       "      (position_embeddings): Embedding(512, 768)\n",
       "      (token_type_embeddings): Embedding(2, 768)\n",
       "      (LayerNorm): LayerNorm((768,), eps=1e-12, elementwise_affine=True)\n",
       "      (dropout): Dropout(p=0.1, inplace=False)\n",
       "    )\n",
       "    (encoder): BertEncoder(\n",
       "      (layer): ModuleList(\n",
       "        (0-11): 12 x BertLayer(\n",
       "          (attention): BertAttention(\n",
       "            (self): BertSdpaSelfAttention(\n",
       "              (query): Linear(in_features=768, out_features=768, bias=True)\n",
       "              (key): Linear(in_features=768, out_features=768, bias=True)\n",
       "              (value): Linear(in_features=768, out_features=768, bias=True)\n",
       "              (dropout): Dropout(p=0.1, inplace=False)\n",
       "            )\n",
       "            (output): BertSelfOutput(\n",
       "              (dense): Linear(in_features=768, out_features=768, bias=True)\n",
       "              (LayerNorm): LayerNorm((768,), eps=1e-12, elementwise_affine=True)\n",
       "              (dropout): Dropout(p=0.1, inplace=False)\n",
       "            )\n",
       "          )\n",
       "          (intermediate): BertIntermediate(\n",
       "            (dense): Linear(in_features=768, out_features=3072, bias=True)\n",
       "            (intermediate_act_fn): GELUActivation()\n",
       "          )\n",
       "          (output): BertOutput(\n",
       "            (dense): Linear(in_features=3072, out_features=768, bias=True)\n",
       "            (LayerNorm): LayerNorm((768,), eps=1e-12, elementwise_affine=True)\n",
       "            (dropout): Dropout(p=0.1, inplace=False)\n",
       "          )\n",
       "        )\n",
       "      )\n",
       "    )\n",
       "    (pooler): BertPooler(\n",
       "      (dense): Linear(in_features=768, out_features=768, bias=True)\n",
       "      (activation): Tanh()\n",
       "    )\n",
       "  )\n",
       "  (dropout): Dropout(p=0.1, inplace=False)\n",
       "  (classifier): Linear(in_features=768, out_features=263, bias=True)\n",
       ")"
      ]
     },
     "execution_count": 1,
     "metadata": {},
     "output_type": "execute_result"
    }
   ],
   "source": [
    "from transformers import BertTokenizer, BertForSequenceClassification\n",
    "from torch.utils.data import DataLoader, Dataset\n",
    "import torch\n",
    "import numpy as np\n",
    "\n",
    "# Load pre-trained BioBERT tokenizer and model\n",
    "tokenizer = BertTokenizer.from_pretrained('dmis-lab/biobert-v1.1')\n",
    "model = BertForSequenceClassification.from_pretrained('dmis-lab/biobert-v1.1')\n",
    "device = torch.device(\"cuda:0\" if torch.cuda.is_available() else \"cpu\")\n",
    "# Modify the classifier to match the number of classes\n",
    "model.classifier = torch.nn.Linear(model.config.hidden_size, 263)  # replace 1185 with the exact number of classes\n",
    "classes = str('403 486 582 585 425 276 710 724 458 287 285 275 583 558 327 228 338 789 790 V451 531 410 414 725 191 331 530 411 482 272 305 194 197 255 424 584 998 682 511 599 428 349 401 V100 V453 V586 041 251 E932 V300 V053 V290 571 070 250 570 572 286 518 038 280 263 995 303 244 112 881 903 955 E956 745 762 441 496 447 440 997 274 427 V104 V101 V120 V090 569 560 491 V458 433 436 493 996 416 V310 765 769 774 770 747 776 772 362 198 V103 746 766 V293 853 780 E888 730 357 430 293 443 V158 396 365 135 311 E935 721 214 437 242 600 189 304 711 800 E814 873 781 378 951 767 431 294 042 V141 V071 764 775 969 295 E950 266 779 355 553 965 E850 E853 426 804 E916 202 V502 398 707 348 787 564 V428 238 300 788 332 V107 V433 E879 861 423 E966 200 555 771 270 335 723 079 851 807 864 865 860 413 782 V108 507 512 752 162 783 778 333 785 136 799 E931 157 574 568 E878 722 719 V125 296 478 V170 805 596 E880 822 733 578 459 438 008 V098 185 967 225 V457 389 412 593 345 201 515 E933 278 492 715 415 V105 535 608 E870 V058 513 709 E821 V173 824 911 913 E812 576 203 281 580 V450 216 V340 579 693 351 088 714 E849 307 421 786 E942 959 E928 588 364 V642 V025 252 283 784 611 622 289 446 729 V498 V456 795 E854 V667 155 V130 882 852 957 E815 466 792 434 342 153 E934 481 910 456 453 867 273 532 806 V422 V541 556 394 444 924 E960 514 763 218 359 340 999 451 324 E939 537 737 455 E884 V427 591 592 577 557 575 356 368 552 500 750 253 292 E937 211 288 773 314 V652 432 379 435 E930 199 V641 494 966 758 E855 741 918 V436 078 562 820 801 839 E881 V584 731 E885 812 156 567 696 501 712 V707 215 754 753 508 876 720 V442 871 958 802 847 397 196 346 E968 510 404 360 376 370 V026 904 928 821 823 150 573 850 V497 E938 V533 V556 728 870 V874 V153 V644 V600 521 301 164 054 344 464 442 V150 282 V08 891 808 866 902 117 484 760 V048 691 519 528 320 369 685 V625 794 793 318 V441 761 936 E915 457 395 053 V113 V632 386 623 290 204 271 E819 811 813 884 E813 751 366 297 V440 473 E910 V420 057 536 152 970 485 235 372 E882 127 160 170 V880 595 909 V443 490 343 319 130 698 E823 246 854 868 872 982 151 V853 980 E980 291 517 268 487 E866 796 V452 036 354 648 701 V063 V038 227 614 533 736 942 E924 240 921 V454 977 759 768 923 E816 681 138 358 950 922 205 990 009 619 417 279 257 E860 755 991 E957 241 810 920 V461 V127 261 429 550 874 756 935 831 718 962 E858 803 480 674 277 880 879 377 529 047 083 835 462 336 E947 V160 420 317 454 E883 840 V550 960 586 933 597 350 E911 742 V614 298 V551 620 716 V462 V180 706 565 452 825 322 154 040 110 605 607 461 704 713 945 052 948 323 325 934 516 039 975 971 994 666 V111 907 E929 566 603 405 049 237 V161 V553 262 743 422 337 625 757 527 309 815 V163 402 869 E912 188 590 V852 V446 E852 886 E919 183 862 875 877 890 E944 E936 V444 598 V552 226 E818 617 E958 V123 748 968 V298 465 972 E826 905 E969 744 E829 V301 388 V146 V151 887 375 334 E848 E918 284 E876 260 987 E890 834 522 692 V588 310 863 E834 192 035 V174 171 738 220 477 212 172 V548 726 526 V099 777 749 E922 952 V320 901 542 449 V011 963 E822 524 V052 V539 144 445 321 380 604 383 587 137 845 695 V496 180 618 V102 540 525 916 174 V628 892 816 V171 520 708 176 791 V854 E906 V714 V554 V435 883 927 V434 007 581 V202 140 642 644 654 V270 V252 193 V838 V555 139 V195 V068 601 826 694 626 956 245 919 299 727 684 647 E941 V850 665 391 308 633 639 V230 V061 223 269 V183 046 534 361 673 643 986 005 034 382 239 232 V169 E901 908 634 836 616 E917 734 V698 133 E887 V445 V155 E949 142 E987 236 470 463 E940 229 448 702 182 E825 V851 814 V881 259 906 161 E891 830 E953 195 093 472 914 E988 930 543 686 900 075 705 939 381 V311 V168 018 004 917 483 656 641 217 V291 V164 E943 134 635 659 E920 506 E869 111 096 094 123 158 141 243 690 097 632 989 964 027 V596 373 V017 254 932 187 353 669 V504 602 843 912 374 983 E864 031 210 114 646 077 V018 670 615 V638 V135 938 V580 680 878 E965 471 652 663 658 V272 213 032 148 V643 V148 V062 E989 E927 131 233 V040 V066 125 V503 V581 V292 V192 700 703 209 V029 208 697 E871 184 015 146 V140 V154 992 249 149 V142 844 175 V542 363 V152 V106 V688 V265 012 885 E955 V530 385 V124 V741 390 474 627 817 230 E817 V198 E862 258 V463 735 V024 V640 976 E861 V765 V023 V626 E828 V188 341 V560 798 V448 893 495 084 523 V653 953 V549 V095 V182 621 475 V425 058 306 V165 551 E831 V136 V109 256 219 221 961 985 828 671 E820 897 V840 926 V421 048 594 896 082 E986 541 145 267 683 V097 732 265 011 E801 V185 664 V620 E840 V166 V468 629 115 V587 E908 120 V708 098 V469 V694 E824 E970 121 838 832 460 013 V239 944 V189 946 118 326 E945 645 352 159 E967 V618 147 V908 941 312 624 V186 V145 661 010 E865 091 E886 649 E905 E962 V612 E959 502 V438 V222 163 947 V162 E946 V716 315 367 V540 846 717 V561 V175 842 V138 V703 V583 841 672 062 488 347 339 E841 086 V400 E985 655 974 V289 V604 V074 V728 371 190 V126 090 143 943 V611 V331 085 V172 E835 668 740 V167 V558 E851 E811 V430 837 V072 V431 302 E923 V110 E900 V562 E963 E964 V118 V624 E800 988 833 023 V020 021 003 V660 E806 313 E954 V860 660 V449 231 V602 186 E863 E874 V721 V181 651 033 V654 E804 330 610 384 E838 E001 973 819 014 132 E899 925 207 V861 E002 E030 E000 894 E873 E999 E976 E003 V016 E805 045 V610 V078 V510 E029 848 E006 V403 122 V536 E013 E019 173 E913 677 E008 V568 V143 V091 V872 066 V601 116 V882 V065 538 V655 316 E007 E016 E921 V902 206 V254 099 V489 V870 E977 628 V250 E982 V486 539 V073 937 V812 030 V271 589 V672 V671 E926 E925 E857 V537 954 E827 657 V910 V789 V037 E975 V045 V848 393 V426 179 387 V903 E856 V901 915').split(' ')\n",
    "\n",
    "label2id = {label: i for i, label in enumerate(classes)}\n",
    "id2label = {i: label for label, i in label2id.items()}\n",
    "\n",
    "\n",
    "# model.classifier = torch.nn.Linear(model.config.hidden_size, len(classes))\n",
    "model.config.label2id = label2id\n",
    "model.config.id2label = id2label\n",
    "model.to(device)\n"
   ]
  },
  {
   "cell_type": "code",
   "execution_count": 2,
   "metadata": {},
   "outputs": [
    {
     "data": {
      "text/html": [
       "<div>\n",
       "<style scoped>\n",
       "    .dataframe tbody tr th:only-of-type {\n",
       "        vertical-align: middle;\n",
       "    }\n",
       "\n",
       "    .dataframe tbody tr th {\n",
       "        vertical-align: top;\n",
       "    }\n",
       "\n",
       "    .dataframe thead th {\n",
       "        text-align: right;\n",
       "    }\n",
       "</style>\n",
       "<table border=\"1\" class=\"dataframe\">\n",
       "  <thead>\n",
       "    <tr style=\"text-align: right;\">\n",
       "      <th></th>\n",
       "      <th></th>\n",
       "      <th>id</th>\n",
       "      <th>text</th>\n",
       "      <th>long_texts</th>\n",
       "      <th>discharge_summary</th>\n",
       "      <th>short_codes</th>\n",
       "      <th>Symptoms</th>\n",
       "      <th>icd_9_desc</th>\n",
       "    </tr>\n",
       "  </thead>\n",
       "  <tbody>\n",
       "    <tr>\n",
       "      <th>0</th>\n",
       "      <td>0</td>\n",
       "      <td>116159</td>\n",
       "      <td>CHIEF COMPLAINT: Positive ETT\\n\\nPRESENT ILLNE...</td>\n",
       "      <td>Coronary atherosclerosis of native coronary ar...</td>\n",
       "      <td>Admission Date:  [**2197-6-5**]              D...</td>\n",
       "      <td>414,424,287,600,272,401,412,427,443,V458</td>\n",
       "      <td>['ETT', 'dizziness']</td>\n",
       "      <td>Coronary atherosclerosis of native coronary ar...</td>\n",
       "    </tr>\n",
       "    <tr>\n",
       "      <th>1</th>\n",
       "      <td>1</td>\n",
       "      <td>109813</td>\n",
       "      <td>CHIEF COMPLAINT: Repeated small bowel obstruct...</td>\n",
       "      <td>Nodular lymphoma, unspecified site, extranodal...</td>\n",
       "      <td>Admission Date:  [**2165-12-19**]             ...</td>\n",
       "      <td>202,560,427,424,397,285,401,530</td>\n",
       "      <td>['crampy abdominal pain', 'excessive nausea', ...</td>\n",
       "      <td>Nodular lymphoma, unspecified site, extranodal...</td>\n",
       "    </tr>\n",
       "    <tr>\n",
       "      <th>2</th>\n",
       "      <td>2</td>\n",
       "      <td>179683</td>\n",
       "      <td>CHIEF COMPLAINT: 1. Aspiration pneumonia requi...</td>\n",
       "      <td>Injury to other intra-abdominal organs without...</td>\n",
       "      <td>Admission Date:  [**2201-6-17**]              ...</td>\n",
       "      <td>868,576,518,902,997,276,E876,E849,V457,V105,V1...</td>\n",
       "      <td>['aspiration pneumonia', 'RUQ pain', 'fatty me...</td>\n",
       "      <td>Injury to other intra-abdominal organs without...</td>\n",
       "    </tr>\n",
       "    <tr>\n",
       "      <th>3</th>\n",
       "      <td>3</td>\n",
       "      <td>117062</td>\n",
       "      <td>CHIEF COMPLAINT: \\n\\nPRESENT ILLNESS: The pati...</td>\n",
       "      <td>Acute myocardial infarction of anterolateral w...</td>\n",
       "      <td>Admission Date:  [**2130-10-4**]     Discharge...</td>\n",
       "      <td>410,785,427,458,294,401</td>\n",
       "      <td>['acute MI', 'elevated filling pressures', 'mo...</td>\n",
       "      <td>Acute myocardial infarction of anterolateral w...</td>\n",
       "    </tr>\n",
       "    <tr>\n",
       "      <th>4</th>\n",
       "      <td>4</td>\n",
       "      <td>182954</td>\n",
       "      <td>CHIEF COMPLAINT: Weakness\\n\\nPRESENT ILLNESS: ...</td>\n",
       "      <td>Unspecified septicemia,Acute respiratory failu...</td>\n",
       "      <td>Admission Date:  [**2154-9-10**]              ...</td>\n",
       "      <td>038,518,785,349,584,285,253,200,011,276,995,43...</td>\n",
       "      <td>['weakness', 'anemia of acute blood loss', 'hy...</td>\n",
       "      <td>Unspecified septicemia,Acute respiratory failu...</td>\n",
       "    </tr>\n",
       "  </tbody>\n",
       "</table>\n",
       "</div>"
      ],
      "text/plain": [
       "          id                                               text  \\\n",
       "0  0  116159  CHIEF COMPLAINT: Positive ETT\\n\\nPRESENT ILLNE...   \n",
       "1  1  109813  CHIEF COMPLAINT: Repeated small bowel obstruct...   \n",
       "2  2  179683  CHIEF COMPLAINT: 1. Aspiration pneumonia requi...   \n",
       "3  3  117062  CHIEF COMPLAINT: \\n\\nPRESENT ILLNESS: The pati...   \n",
       "4  4  182954  CHIEF COMPLAINT: Weakness\\n\\nPRESENT ILLNESS: ...   \n",
       "\n",
       "                                          long_texts  \\\n",
       "0  Coronary atherosclerosis of native coronary ar...   \n",
       "1  Nodular lymphoma, unspecified site, extranodal...   \n",
       "2  Injury to other intra-abdominal organs without...   \n",
       "3  Acute myocardial infarction of anterolateral w...   \n",
       "4  Unspecified septicemia,Acute respiratory failu...   \n",
       "\n",
       "                                   discharge_summary  \\\n",
       "0  Admission Date:  [**2197-6-5**]              D...   \n",
       "1  Admission Date:  [**2165-12-19**]             ...   \n",
       "2  Admission Date:  [**2201-6-17**]              ...   \n",
       "3  Admission Date:  [**2130-10-4**]     Discharge...   \n",
       "4  Admission Date:  [**2154-9-10**]              ...   \n",
       "\n",
       "                                         short_codes  \\\n",
       "0           414,424,287,600,272,401,412,427,443,V458   \n",
       "1                    202,560,427,424,397,285,401,530   \n",
       "2  868,576,518,902,997,276,E876,E849,V457,V105,V1...   \n",
       "3                            410,785,427,458,294,401   \n",
       "4  038,518,785,349,584,285,253,200,011,276,995,43...   \n",
       "\n",
       "                                            Symptoms  \\\n",
       "0                               ['ETT', 'dizziness']   \n",
       "1  ['crampy abdominal pain', 'excessive nausea', ...   \n",
       "2  ['aspiration pneumonia', 'RUQ pain', 'fatty me...   \n",
       "3  ['acute MI', 'elevated filling pressures', 'mo...   \n",
       "4  ['weakness', 'anemia of acute blood loss', 'hy...   \n",
       "\n",
       "                                          icd_9_desc  \n",
       "0  Coronary atherosclerosis of native coronary ar...  \n",
       "1  Nodular lymphoma, unspecified site, extranodal...  \n",
       "2  Injury to other intra-abdominal organs without...  \n",
       "3  Acute myocardial infarction of anterolateral w...  \n",
       "4  Unspecified septicemia,Acute respiratory failu...  "
      ]
     },
     "execution_count": 2,
     "metadata": {},
     "output_type": "execute_result"
    }
   ],
   "source": [
    "import os\n",
    "import json\n",
    "import pandas as pd\n",
    "import polars as pl\n",
    "\n",
    "train_df = pl.read_csv('new_split/train_split.csv').to_pandas()\n",
    "val_df  = pl.read_csv('new_split/val_split.csv').to_pandas()\n",
    "\n",
    "train_df.head()\n",
    "\n",
    "directory_path = 'samples_latest'\n",
    "data = []\n",
    "\n",
    "for filename in os.listdir(directory_path):\n",
    "    if filename.endswith('.json'):\n",
    "        file_path = os.path.join(directory_path, filename)\n",
    "        \n",
    "        with open(file_path, 'r') as file:\n",
    "            file_data = json.load(file)\n",
    "            data.append(file_data)\n",
    "\n",
    "symptoms_df = pd.DataFrame(data)\n",
    "raw_test_df = pl.read_csv('new_split/test_split.csv').to_pandas()\n",
    "# print(raw_test_df.columns)\n",
    "unique_ids = list(raw_test_df.id)\n",
    "raw_test_df = pd.merge(symptoms_df, raw_test_df, how='inner', on='id')\n",
    "raw_test_df.head(3)\n",
    "\n",
    "symptoms_train_df = pl.read_csv('symptoms_train.csv').to_pandas()\n",
    "symptoms_train_df.head(1)\n",
    "train_df = pd.merge(pd.DataFrame(symptoms_train_df[['id','Symptoms']]), train_df, how = 'inner', on = 'id')\n",
    "train_df.head()\n",
    "val_df = pd.merge(pd.DataFrame(symptoms_train_df[['id','Symptoms']]), val_df, how = 'inner', on = 'id')\n",
    "val_df.head()\n",
    "test_df = pl.read_csv('symptoms_test.csv').to_pandas()\n",
    "test_df.head()"
   ]
  },
  {
   "cell_type": "code",
   "execution_count": 3,
   "metadata": {},
   "outputs": [],
   "source": [
    "train_df = train_df.iloc[0:100]\n",
    "val_df = val_df.iloc[0:100]"
   ]
  },
  {
   "cell_type": "code",
   "execution_count": 4,
   "metadata": {},
   "outputs": [],
   "source": [
    "\n",
    "import torch\n",
    "from transformers import BertTokenizer, BertForSequenceClassification\n",
    "from torch.utils.data import DataLoader, Dataset\n",
    "from sklearn.preprocessing import MultiLabelBinarizer\n",
    "import torch\n",
    "from transformers import BertTokenizer, BertForSequenceClassification\n",
    "from torch.utils.data import DataLoader, Dataset\n",
    "from sklearn.preprocessing import MultiLabelBinarizer\n",
    "\n",
    "\n",
    "batch_size = 64\n",
    "num_epochs = 10\n",
    "patience = 3"
   ]
  },
  {
   "cell_type": "code",
   "execution_count": null,
   "metadata": {},
   "outputs": [],
   "source": []
  },
  {
   "cell_type": "code",
   "execution_count": 5,
   "metadata": {},
   "outputs": [
    {
     "name": "stderr",
     "output_type": "stream",
     "text": [
      "/home/ashish/llama_inference/llama_env/lib/python3.10/site-packages/sklearn/preprocessing/_label.py:900: UserWarning: unknown class(es) ['042', '078', '117', '130', '157', '174', '180', '185', '188', '191', '199', '204', '227', '238', '251', '261', '266', '268', '271', '273', '291', '304', '307', '309', '332', '333', '336', '340', '344', '351', '358', '365', '372', '373', '386', '389', '429', '437', '451', '459', '461', '465', '484', '510', '512', '514', '515', '520', '535', '540', '552', '560', '576', '579', '590', '596', '608', '614', '692', '696', '698', '704', '712', '725', '731', '738', '758', '812', '820', '821', '825', '831', '851', '863', '864', '866', '867', '873', '882', '887', '913', '916', '922', '924', '936', '952', '965', '969', 'E850', 'E876', 'E880', 'E928', 'E944', 'E950', 'V090', 'V107', 'V127', 'V130', 'V155', 'V442', 'V462', 'V533', 'V600', 'V628', 'V644', 'V728', 'V854', 'V880'] will be ignored\n",
      "  warnings.warn(\n",
      "/home/ashish/llama_inference/llama_env/lib/python3.10/site-packages/sklearn/preprocessing/_label.py:900: UserWarning: unknown class(es) ['004', '005', '007', '009', '011', '012', '013', '015', '021', '027', '031', '032', '034', '036', '040', '042', '047', '048', '049', '075', '078', '079', '082', '084', '086', '088', '091', '094', '097', '099', '110', '111', '114', '117', '118', '120', '121', '122', '123', '130', '132', '133', '135', '138', '139', '140', '141', '142', '143', '144', '145', '146', '147', '148', '150', '152', '153', '154', '156', '157', '158', '159', '160', '161', '163', '164', '170', '171', '172', '173', '174', '180', '182', '183', '184', '185', '187', '188', '191', '193', '194', '195', '196', '199', '200', '201', '204', '207', '208', '209', '211', '212', '214', '215', '217', '220', '221', '225', '226', '227', '228', '230', '232', '233', '235', '236', '238', '239', '240', '241', '242', '245', '246', '249', '251', '255', '256', '257', '258', '259', '260', '261', '262', '265', '266', '268', '269', '270', '271', '273', '279', '281', '283', '284', '289', '290', '291', '297', '298', '299', '302', '304', '306', '307', '308', '309', '310', '312', '314', '315', '317', '318', '320', '321', '323', '324', '325', '326', '330', '332', '333', '334', '335', '336', '337', '339', '340', '341', '343', '344', '347', '350', '351', '352', '353', '354', '355', '358', '359', '360', '361', '363', '364', '365', '366', '368', '370', '372', '373', '374', '375', '376', '377', '378', '379', '381', '382', '383', '385', '386', '388', '389', '391', '394', '395', '398', '402', '404', '405', '429', '435', '437', '442', '446', '448', '449', '451', '452', '454', '457', '459', '461', '464', '465', '466', '470', '471', '472', '473', '474', '475', '477', '480', '484', '485', '487', '488', '490', '495', '501', '502', '506', '508', '510', '512', '513', '514', '515', '517', '520', '521', '522', '523', '524', '525', '526', '527', '528', '529', '534', '535', '538', '539', '540', '541', '543', '550', '552', '558', '560', '565', '566', '576', '579', '580', '581', '582', '586', '587', '589', '590', '594', '595', '596', '597', '598', '601', '602', '603', '604', '605', '607', '608', '611', '614', '615', '617', '618', '619', '621', '622', '623', '624', '625', '626', '627', '632', '634', '641', '642', '643', '644', '646', '647', '648', '649', '651', '652', '654', '658', '659', '660', '663', '664', '665', '666', '668', '669', '670', '671', '672', '673', '674', '680', '681', '683', '686', '690', '691', '692', '693', '694', '696', '697', '698', '700', '701', '702', '703', '704', '705', '706', '708', '709', '710', '711', '712', '713', '718', '725', '726', '727', '731', '732', '734', '735', '736', '738', '741', '742', '743', '744', '747', '748', '750', '751', '752', '753', '754', '755', '756', '758', '763', '765', '768', '769', '770', '772', '774', '775', '776', '778', '779', '781', '791', '793', '794', '795', '796', '800', '803', '804', '806', '808', '811', '812', '814', '815', '816', '817', '819', '820', '821', '822', '824', '825', '826', '828', '830', '831', '832', '833', '834', '835', '838', '839', '840', '844', '846', '850', '851', '854', '862', '863', '864', '866', '867', '868', '870', '871', '872', '873', '874', '877', '878', '879', '880', '881', '882', '885', '886', '887', '890', '891', '892', '893', '897', '900', '901', '902', '903', '904', '905', '906', '907', '908', '909', '910', '911', '912', '913', '914', '915', '916', '917', '918', '919', '921', '922', '923', '924', '926', '927', '928', '933', '935', '936', '939', '942', '945', '946', '947', '948', '950', '951', '952', '953', '955', '956', '957', '958', '959', '962', '963', '964', '965', '966', '967', '968', '969', '970', '971', '972', '973', '974', '975', '976', '977', '980', '982', '983', '989', '991', '994', 'E000', 'E001', 'E002', 'E006', 'E007', 'E008', 'E801', 'E804', 'E811', 'E813', 'E814', 'E815', 'E817', 'E818', 'E819', 'E821', 'E823', 'E824', 'E825', 'E826', 'E828', 'E834', 'E835', 'E838', 'E840', 'E848', 'E850', 'E852', 'E853', 'E854', 'E855', 'E858', 'E860', 'E866', 'E871', 'E874', 'E876', 'E880', 'E882', 'E883', 'E886', 'E887', 'E891', 'E901', 'E905', 'E906', 'E908', 'E912', 'E916', 'E918', 'E919', 'E920', 'E922', 'E924', 'E927', 'E928', 'E929', 'E930', 'E931', 'E936', 'E937', 'E938', 'E939', 'E940', 'E941', 'E943', 'E944', 'E945', 'E946', 'E950', 'E953', 'E955', 'E956', 'E958', 'E959', 'E960', 'E966', 'E967', 'E968', 'E969', 'E970', 'E976', 'E980', 'E987', 'E988', 'V011', 'V018', 'V025', 'V026', 'V029', 'V038', 'V048', 'V053', 'V058', 'V066', 'V071', 'V074', 'V08', 'V090', 'V098', 'V099', 'V106', 'V107', 'V109', 'V113', 'V126', 'V127', 'V130', 'V135', 'V136', 'V140', 'V141', 'V142', 'V145', 'V146', 'V148', 'V150', 'V151', 'V152', 'V154', 'V155', 'V161', 'V162', 'V163', 'V164', 'V165', 'V166', 'V167', 'V170', 'V171', 'V174', 'V175', 'V180', 'V185', 'V252', 'V265', 'V270', 'V272', 'V290', 'V300', 'V421', 'V425', 'V427', 'V428', 'V430', 'V431', 'V434', 'V442', 'V444', 'V445', 'V446', 'V449', 'V454', 'V456', 'V462', 'V489', 'V496', 'V502', 'V533', 'V537', 'V539', 'V540', 'V541', 'V542', 'V548', 'V551', 'V552', 'V553', 'V554', 'V555', 'V556', 'V558', 'V560', 'V581', 'V583', 'V587', 'V588', 'V596', 'V600', 'V601', 'V611', 'V614', 'V620', 'V625', 'V626', 'V628', 'V632', 'V643', 'V644', 'V653', 'V654', 'V655', 'V671', 'V672', 'V694', 'V703', 'V707', 'V708', 'V714', 'V716', 'V741', 'V765', 'V838', 'V840', 'V851', 'V852', 'V853', 'V854', 'V874', 'V880', 'V882', 'V908'] will be ignored\n",
      "  warnings.warn(\n"
     ]
    }
   ],
   "source": [
    "\n",
    "\n",
    "test_df = raw_test_df.copy()\n",
    "# Convert ICD-9 codes to a binary vector\n",
    "mlb = MultiLabelBinarizer()\n",
    "train_df['short_codes'] = train_df['short_codes'].apply(lambda x: x.split(','))\n",
    "train_labels = mlb.fit_transform(train_df['short_codes'])  # Fit and transform on training data\n",
    "val_df['short_codes'] = val_df['short_codes'].apply(lambda x: x.split(','))\n",
    "val_labels = mlb.transform(val_df['short_codes'])  # Transform on validation data\n",
    "test_df['short_codes'] = test_df['short_codes'].apply(lambda x: x.split(','))\n",
    "test_labels = mlb.transform(test_df['short_codes'])  # Transform on test data"
   ]
  },
  {
   "cell_type": "code",
   "execution_count": 6,
   "metadata": {},
   "outputs": [],
   "source": [
    "class SymptomICDDataset(Dataset):\n",
    "    def __init__(self, symptoms, labels, tokenizer = tokenizer, max_length=512):\n",
    "        self.symptoms = symptoms\n",
    "        self.labels = labels\n",
    "        self.tokenizer = tokenizer  # Pass the tokenizer directly\n",
    "        self.max_length = max_length\n",
    "\n",
    "    def __len__(self):\n",
    "        return len(self.symptoms)\n",
    "\n",
    "    def __getitem__(self, idx):\n",
    "        symptom_text = ' '.join(self.symptoms[idx])  # Join symptoms if they are a list\n",
    "        inputs = self.tokenizer(  # Use self.tokenizer here\n",
    "            symptom_text,\n",
    "            padding='max_length',\n",
    "            truncation=True,\n",
    "            return_tensors='pt',\n",
    "            max_length=self.max_length\n",
    "        )\n",
    "        label = torch.tensor(self.labels[idx], dtype=torch.float)\n",
    "        return inputs['input_ids'].squeeze(0), inputs['attention_mask'].squeeze(0), label"
   ]
  },
  {
   "cell_type": "code",
   "execution_count": 7,
   "metadata": {},
   "outputs": [],
   "source": [
    "# Create Dataset and DataLoader\n",
    "train_dataset = SymptomICDDataset(train_df['Symptoms'].tolist(), train_labels)\n",
    "val_dataset = SymptomICDDataset(val_df['Symptoms'].tolist(), val_labels)\n",
    "test_dataset = SymptomICDDataset(test_df['Symptoms'].tolist(), test_labels)\n",
    "train_loader = DataLoader(train_dataset, batch_size=batch_size, shuffle=True)\n",
    "val_loader = DataLoader(val_dataset, batch_size=batch_size, shuffle=False)\n",
    "test_loader = DataLoader(test_dataset, batch_size=batch_size, shuffle=False)"
   ]
  },
  {
   "cell_type": "code",
   "execution_count": 8,
   "metadata": {},
   "outputs": [
    {
     "name": "stderr",
     "output_type": "stream",
     "text": [
      "  0%|          | 0/10 [00:00<?, ?it/s]"
     ]
    },
    {
     "name": "stdout",
     "output_type": "stream",
     "text": [
      "Epoch 1/10 | Train Loss: 0.7056\n",
      "Epoch 1/10 | Val Loss: 0.6931\n"
     ]
    },
    {
     "name": "stderr",
     "output_type": "stream",
     "text": [
      " 10%|█         | 1/10 [00:07<01:05,  7.33s/it]"
     ]
    },
    {
     "name": "stdout",
     "output_type": "stream",
     "text": [
      "Epoch 2/10 | Train Loss: 0.6938\n",
      "Epoch 2/10 | Val Loss: 0.6803\n"
     ]
    },
    {
     "name": "stderr",
     "output_type": "stream",
     "text": [
      " 20%|██        | 2/10 [00:14<00:55,  6.96s/it]"
     ]
    },
    {
     "name": "stdout",
     "output_type": "stream",
     "text": [
      "Epoch 3/10 | Train Loss: 0.6821\n",
      "Epoch 3/10 | Val Loss: 0.6718\n"
     ]
    },
    {
     "name": "stderr",
     "output_type": "stream",
     "text": [
      " 30%|███       | 3/10 [00:20<00:46,  6.60s/it]"
     ]
    },
    {
     "name": "stdout",
     "output_type": "stream",
     "text": [
      "Epoch 4/10 | Train Loss: 0.6721\n",
      "Epoch 4/10 | Val Loss: 0.6610\n"
     ]
    },
    {
     "name": "stderr",
     "output_type": "stream",
     "text": [
      " 40%|████      | 4/10 [00:26<00:38,  6.39s/it]"
     ]
    },
    {
     "name": "stdout",
     "output_type": "stream",
     "text": [
      "Epoch 5/10 | Train Loss: 0.6609\n",
      "Epoch 5/10 | Val Loss: 0.6504\n"
     ]
    },
    {
     "name": "stderr",
     "output_type": "stream",
     "text": [
      " 50%|█████     | 5/10 [00:32<00:30,  6.16s/it]"
     ]
    },
    {
     "name": "stdout",
     "output_type": "stream",
     "text": [
      "Epoch 6/10 | Train Loss: 0.6509\n",
      "Epoch 6/10 | Val Loss: 0.6411\n"
     ]
    },
    {
     "name": "stderr",
     "output_type": "stream",
     "text": [
      " 60%|██████    | 6/10 [00:38<00:25,  6.30s/it]"
     ]
    },
    {
     "name": "stdout",
     "output_type": "stream",
     "text": [
      "Epoch 7/10 | Train Loss: 0.6426\n",
      "Epoch 7/10 | Val Loss: 0.6318\n"
     ]
    },
    {
     "name": "stderr",
     "output_type": "stream",
     "text": [
      " 70%|███████   | 7/10 [00:44<00:18,  6.16s/it]"
     ]
    },
    {
     "name": "stdout",
     "output_type": "stream",
     "text": [
      "Epoch 8/10 | Train Loss: 0.6331\n",
      "Epoch 8/10 | Val Loss: 0.6232\n"
     ]
    },
    {
     "name": "stderr",
     "output_type": "stream",
     "text": [
      " 80%|████████  | 8/10 [00:51<00:12,  6.31s/it]"
     ]
    },
    {
     "name": "stdout",
     "output_type": "stream",
     "text": [
      "Epoch 9/10 | Train Loss: 0.6244\n",
      "Epoch 9/10 | Val Loss: 0.6130\n"
     ]
    },
    {
     "name": "stderr",
     "output_type": "stream",
     "text": [
      " 90%|█████████ | 9/10 [00:56<00:06,  6.18s/it]"
     ]
    },
    {
     "name": "stdout",
     "output_type": "stream",
     "text": [
      "Epoch 10/10 | Train Loss: 0.6162\n",
      "Epoch 10/10 | Val Loss: 0.6043\n"
     ]
    },
    {
     "name": "stderr",
     "output_type": "stream",
     "text": [
      "100%|██████████| 10/10 [01:03<00:00,  6.30s/it]\n"
     ]
    }
   ],
   "source": [
    "\n",
    "\n",
    "\n",
    "\n",
    "# Training and early stopping\n",
    "optimizer = torch.optim.AdamW(model.parameters(), lr=1e-5)\n",
    "criterion = torch.nn.BCEWithLogitsLoss()\n",
    "\n",
    "best_val_loss = float('inf')\n",
    "patience_counter = 0\n",
    "\n",
    "\n",
    "\n",
    "\n",
    "from tqdm import tqdm\n",
    "# Ensure the model is on the correct device\n",
    "model.to(device)\n",
    "\n",
    "for epoch in tqdm(range(num_epochs)):\n",
    "    model.train()\n",
    "    total_train_loss = 0\n",
    "    for input_ids, attention_mask, label in train_loader:\n",
    "        # Move all inputs to the correct device\n",
    "        input_ids = input_ids.to(device)\n",
    "        attention_mask = attention_mask.to(device)\n",
    "        label = label.to(device)\n",
    "        \n",
    "        optimizer.zero_grad()\n",
    "        outputs = model(input_ids=input_ids, attention_mask=attention_mask)\n",
    "        loss = criterion(outputs.logits, label)\n",
    "        loss.backward()\n",
    "        optimizer.step()\n",
    "        total_train_loss += loss.item()\n",
    "\n",
    "    avg_train_loss = total_train_loss / len(train_loader)\n",
    "    print(f\"Epoch {epoch+1}/{num_epochs} | Train Loss: {avg_train_loss:.4f}\")\n",
    "\n",
    "    # Validation\n",
    "    model.eval()\n",
    "    total_val_loss = 0\n",
    "    with torch.no_grad():\n",
    "        for input_ids, attention_mask, label in val_loader:\n",
    "            # Move validation inputs to the correct device\n",
    "            input_ids = input_ids.to(device)\n",
    "            attention_mask = attention_mask.to(device)\n",
    "            label = label.to(device)\n",
    "            \n",
    "            outputs = model(input_ids=input_ids, attention_mask=attention_mask)\n",
    "            loss = criterion(outputs.logits, label)\n",
    "            total_val_loss += loss.item()\n",
    "\n",
    "    avg_val_loss = total_val_loss / len(val_loader)\n",
    "    print(f\"Epoch {epoch+1}/{num_epochs} | Val Loss: {avg_val_loss:.4f}\")\n",
    "\n",
    "    # Early stopping\n",
    "    if avg_val_loss < best_val_loss:\n",
    "        best_val_loss = avg_val_loss\n",
    "        torch.save(model.state_dict(), \"best_biobert_model.pt\")\n",
    "        patience_counter = 0\n",
    "    else:\n",
    "        patience_counter += 1\n",
    "        if patience_counter >= patience:\n",
    "            print(\"Early stopping triggered.\")\n",
    "            break\n"
   ]
  },
  {
   "cell_type": "code",
   "execution_count": null,
   "metadata": {},
   "outputs": [],
   "source": [
    "from transformers import AutoConfig, AutoModelForSequenceClassification\n",
    "if not isinstance(model.config, AutoConfig) and hasattr(model, 'config') :\n",
    "  config = AutoConfig.from_pretrained(model.config)\n",
    "  model.config = config"
   ]
  },
  {
   "cell_type": "code",
   "execution_count": 10,
   "metadata": {},
   "outputs": [
    {
     "data": {
      "application/vnd.jupyter.widget-view+json": {
       "model_id": "b11351c3398d403293ffd36b3583fa43",
       "version_major": 2,
       "version_minor": 0
      },
      "text/plain": [
       "model.safetensors:   0%|          | 0.00/434M [00:00<?, ?B/s]"
      ]
     },
     "metadata": {},
     "output_type": "display_data"
    },
    {
     "data": {
      "text/plain": [
       "('biobert_icd9_classifier/tokenizer_config.json',\n",
       " 'biobert_icd9_classifier/special_tokens_map.json',\n",
       " 'biobert_icd9_classifier/vocab.txt',\n",
       " 'biobert_icd9_classifier/added_tokens.json')"
      ]
     },
     "execution_count": 10,
     "metadata": {},
     "output_type": "execute_result"
    }
   ],
   "source": [
    "from transformers import BertTokenizer, BertForSequenceClassification\n",
    "\n",
    "model.save_pretrained(\"biobert_icd9_classifier\", push_to_hub=True, repo_id=\"ashishkgpian/biobert_icd9_classifier\", token = '"YOUR_HF_TOKEN"')  # Replace with your repo ID!\n",
    "tokenizer.save_pretrained(\"biobert_icd9_classifier\", push_to_hub=True, repo_id=\"ashishkgpian/biobert_icd9_classifier\", token = '"YOUR_HF_TOKEN"')\n",
    "\n",
    "\n"
   ]
  },
  {
   "cell_type": "code",
   "execution_count": null,
   "metadata": {},
   "outputs": [],
   "source": []
  },
  {
   "cell_type": "code",
   "execution_count": null,
   "metadata": {},
   "outputs": [
    {
     "name": "stdout",
     "output_type": "stream",
     "text": [
      "Test Loss: 0.5732\n"
     ]
    }
   ],
   "source": [
    "\n",
    "\n",
    "# Evaluate on test set\n",
    "model.eval()\n",
    "total_test_loss = 0\n",
    "with torch.no_grad():\n",
    "    for input_ids, attention_mask, label in test_loader:\n",
    "        input_ids = input_ids.to(device)\n",
    "        attention_mask = attention_mask.to(device)\n",
    "        label = label.to(device)\n",
    "        \n",
    "        outputs = model(input_ids=input_ids, attention_mask=attention_mask)\n",
    "        loss = criterion(outputs.logits, label)\n",
    "        total_test_loss += loss.item()\n",
    "\n",
    "avg_test_loss = total_test_loss / len(test_loader)\n",
    "print(f\"Test Loss: {avg_test_loss:.4f}\")"
   ]
  },
  {
   "cell_type": "code",
   "execution_count": null,
   "metadata": {},
   "outputs": [],
   "source": []
  }
 ],
 "metadata": {
  "kernelspec": {
   "display_name": "llama_env",
   "language": "python",
   "name": "python3"
  },
  "language_info": {
   "codemirror_mode": {
    "name": "ipython",
    "version": 3
   },
   "file_extension": ".py",
   "mimetype": "text/x-python",
   "name": "python",
   "nbconvert_exporter": "python",
   "pygments_lexer": "ipython3",
   "version": "3.10.12"
  }
 },
 "nbformat": 4,
 "nbformat_minor": 2
}
