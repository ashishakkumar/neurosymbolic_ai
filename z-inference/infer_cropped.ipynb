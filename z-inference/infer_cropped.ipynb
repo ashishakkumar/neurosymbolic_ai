{
 "cells": [
  {
   "cell_type": "markdown",
   "metadata": {},
   "source": [
    "## KG Inference based on 3-digit codes"
   ]
  },
  {
   "cell_type": "code",
   "execution_count": 52,
   "metadata": {},
   "outputs": [
    {
     "name": "stdout",
     "output_type": "stream",
     "text": [
      "Collecting pyarrow\n",
      "  Downloading pyarrow-18.0.0-cp312-cp312-macosx_12_0_arm64.whl.metadata (3.3 kB)\n",
      "Requirement already satisfied: polars in /Applications/anaconda3/envs/astro/lib/python3.12/site-packages (1.13.1)\n",
      "Downloading pyarrow-18.0.0-cp312-cp312-macosx_12_0_arm64.whl (29.5 MB)\n",
      "\u001b[2K   \u001b[90m━━━━━━━━━━━━━━━━━━━━━━━━━━━━━━━━━━━━━━━━\u001b[0m \u001b[32m29.5/29.5 MB\u001b[0m \u001b[31m989.4 kB/s\u001b[0m eta \u001b[36m0:00:00\u001b[0m:01\u001b[0m00:01\u001b[0m\n",
      "\u001b[?25hInstalling collected packages: pyarrow\n",
      "Successfully installed pyarrow-18.0.0\n"
     ]
    }
   ],
   "source": [
    "!pip install pyarrow polars"
   ]
  },
  {
   "cell_type": "code",
   "execution_count": 1,
   "metadata": {},
   "outputs": [],
   "source": [
    "import os, json\n",
    "import pandas as pd\n",
    "train_df = pd.read_csv('new_split/train_split.csv')\n",
    "val_df  = pd.read_csv('new_split/val_split.csv')\n",
    "\n",
    "train_df.head()\n",
    "\n",
    "directory_path = 'samples_latest'\n",
    "data = []\n",
    "\n",
    "for filename in os.listdir(directory_path):\n",
    "    if filename.endswith('.json'):\n",
    "        file_path = os.path.join(directory_path, filename)\n",
    "        \n",
    "        with open(file_path, 'r') as file:\n",
    "            file_data = json.load(file)\n",
    "            data.append(file_data)\n",
    "\n",
    "symptoms_df = pd.DataFrame(data)\n",
    "\n",
    "\n",
    "symptoms_train_df = pd.read_csv('symptoms_train.csv')\n",
    "train_df = pd.merge(pd.DataFrame(symptoms_train_df[['id','Symptoms']]), train_df, how = 'inner', on = 'id')\n",
    "val_df = pd.merge(pd.DataFrame(symptoms_train_df[['id','Symptoms']]), val_df, how = 'inner', on = 'id')\n"
   ]
  },
  {
   "cell_type": "code",
   "execution_count": 2,
   "metadata": {},
   "outputs": [],
   "source": [
    "from IPython.display import display, Markdown\n",
    "import numpy as np\n",
    "def set_frame_style(df, caption=\"\", font_size ='20px' ):\n",
    "    random_list = ['Greys', 'Purples', 'Blues', 'Greens', 'Oranges', 'Reds',\n",
    "                      'YlOrBr', 'YlOrRd', 'OrRd', 'PuRd', 'RdPu', 'BuPu',\n",
    "                      'GnBu', 'PuBu', 'YlGnBu', 'PuBuGn', 'BuGn', 'YlGn']\n",
    "    \"\"\"Helper function to set dataframe presentation style.\n",
    "    \"\"\"\n",
    "    return df.style.background_gradient(cmap=random_list[np.random.randint(1,17)]).set_caption(caption).set_table_styles([{\n",
    "    'selector': 'caption',\n",
    "    'props': [\n",
    "        ('color', 'Brown'),\n",
    "        ('font-size', font_size),\n",
    "        ('font-weight','bold')\n",
    "    ]}])"
   ]
  },
  {
   "cell_type": "code",
   "execution_count": null,
   "metadata": {},
   "outputs": [],
   "source": []
  },
  {
   "cell_type": "code",
   "execution_count": 3,
   "metadata": {},
   "outputs": [],
   "source": [
    "import pandas as pd"
   ]
  },
  {
   "cell_type": "markdown",
   "metadata": {},
   "source": [
    "Codes : \n",
    "\n",
    "\n",
    "these are the total codes we have : 1263"
   ]
  },
  {
   "cell_type": "code",
   "execution_count": 4,
   "metadata": {},
   "outputs": [
    {
     "data": {
      "text/plain": [
       "1263"
      ]
     },
     "execution_count": 4,
     "metadata": {},
     "output_type": "execute_result"
    }
   ],
   "source": [
    "classes = str('403 486 582 585 425 276 710 724 458 287 285 275 583 558 327 228 338 789 790 V451 531 410 414 725 191 331 530 411 482 272 305 194 197 255 424 584 998 682 511 599 428 349 401 V100 V453 V586 041 251 E932 V300 V053 V290 571 070 250 570 572 286 518 038 280 263 995 303 244 112 881 903 955 E956 745 762 441 496 447 440 997 274 427 V104 V101 V120 V090 569 560 491 V458 433 436 493 996 416 V310 765 769 774 770 747 776 772 362 198 V103 746 766 V293 853 780 E888 730 357 430 293 443 V158 396 365 135 311 E935 721 214 437 242 600 189 304 711 800 E814 873 781 378 951 767 431 294 042 V141 V071 764 775 969 295 E950 266 779 355 553 965 E850 E853 426 804 E916 202 V502 398 707 348 787 564 V428 238 300 788 332 V107 V433 E879 861 423 E966 200 555 771 270 335 723 079 851 807 864 865 860 413 782 V108 507 512 752 162 783 778 333 785 136 799 E931 157 574 568 E878 722 719 V125 296 478 V170 805 596 E880 822 733 578 459 438 008 V098 185 967 225 V457 389 412 593 345 201 515 E933 278 492 715 415 V105 535 608 E870 V058 513 709 E821 V173 824 911 913 E812 576 203 281 580 V450 216 V340 579 693 351 088 714 E849 307 421 786 E942 959 E928 588 364 V642 V025 252 283 784 611 622 289 446 729 V498 V456 795 E854 V667 155 V130 882 852 957 E815 466 792 434 342 153 E934 481 910 456 453 867 273 532 806 V422 V541 556 394 444 924 E960 514 763 218 359 340 999 451 324 E939 537 737 455 E884 V427 591 592 577 557 575 356 368 552 500 750 253 292 E937 211 288 773 314 V652 432 379 435 E930 199 V641 494 966 758 E855 741 918 V436 078 562 820 801 839 E881 V584 731 E885 812 156 567 696 501 712 V707 215 754 753 508 876 720 V442 871 958 802 847 397 196 346 E968 510 404 360 376 370 V026 904 928 821 823 150 573 850 V497 E938 V533 V556 728 870 V874 V153 V644 V600 521 301 164 054 344 464 442 V150 282 V08 891 808 866 902 117 484 760 V048 691 519 528 320 369 685 V625 794 793 318 V441 761 936 E915 457 395 053 V113 V632 386 623 290 204 271 E819 811 813 884 E813 751 366 297 V440 473 E910 V420 057 536 152 970 485 235 372 E882 127 160 170 V880 595 909 V443 490 343 319 130 698 E823 246 854 868 872 982 151 V853 980 E980 291 517 268 487 E866 796 V452 036 354 648 701 V063 V038 227 614 533 736 942 E924 240 921 V454 977 759 768 923 E816 681 138 358 950 922 205 990 009 619 417 279 257 E860 755 991 E957 241 810 920 V461 V127 261 429 550 874 756 935 831 718 962 E858 803 480 674 277 880 879 377 529 047 083 835 462 336 E947 V160 420 317 454 E883 840 V550 960 586 933 597 350 E911 742 V614 298 V551 620 716 V462 V180 706 565 452 825 322 154 040 110 605 607 461 704 713 945 052 948 323 325 934 516 039 975 971 994 666 V111 907 E929 566 603 405 049 237 V161 V553 262 743 422 337 625 757 527 309 815 V163 402 869 E912 188 590 V852 V446 E852 886 E919 183 862 875 877 890 E944 E936 V444 598 V552 226 E818 617 E958 V123 748 968 V298 465 972 E826 905 E969 744 E829 V301 388 V146 V151 887 375 334 E848 E918 284 E876 260 987 E890 834 522 692 V588 310 863 E834 192 035 V174 171 738 220 477 212 172 V548 726 526 V099 777 749 E922 952 V320 901 542 449 V011 963 E822 524 V052 V539 144 445 321 380 604 383 587 137 845 695 V496 180 618 V102 540 525 916 174 V628 892 816 V171 520 708 176 791 V854 E906 V714 V554 V435 883 927 V434 007 581 V202 140 642 644 654 V270 V252 193 V838 V555 139 V195 V068 601 826 694 626 956 245 919 299 727 684 647 E941 V850 665 391 308 633 639 V230 V061 223 269 V183 046 534 361 673 643 986 005 034 382 239 232 V169 E901 908 634 836 616 E917 734 V698 133 E887 V445 V155 E949 142 E987 236 470 463 E940 229 448 702 182 E825 V851 814 V881 259 906 161 E891 830 E953 195 093 472 914 E988 930 543 686 900 075 705 939 381 V311 V168 018 004 917 483 656 641 217 V291 V164 E943 134 635 659 E920 506 E869 111 096 094 123 158 141 243 690 097 632 989 964 027 V596 373 V017 254 932 187 353 669 V504 602 843 912 374 983 E864 031 210 114 646 077 V018 670 615 V638 V135 938 V580 680 878 E965 471 652 663 658 V272 213 032 148 V643 V148 V062 E989 E927 131 233 V040 V066 125 V503 V581 V292 V192 700 703 209 V029 208 697 E871 184 015 146 V140 V154 992 249 149 V142 844 175 V542 363 V152 V106 V688 V265 012 885 E955 V530 385 V124 V741 390 474 627 817 230 E817 V198 E862 258 V463 735 V024 V640 976 E861 V765 V023 V626 E828 V188 341 V560 798 V448 893 495 084 523 V653 953 V549 V095 V182 621 475 V425 058 306 V165 551 E831 V136 V109 256 219 221 961 985 828 671 E820 897 V840 926 V421 048 594 896 082 E986 541 145 267 683 V097 732 265 011 E801 V185 664 V620 E840 V166 V468 629 115 V587 E908 120 V708 098 V469 V694 E824 E970 121 838 832 460 013 V239 944 V189 946 118 326 E945 645 352 159 E967 V618 147 V908 941 312 624 V186 V145 661 010 E865 091 E886 649 E905 E962 V612 E959 502 V438 V222 163 947 V162 E946 V716 315 367 V540 846 717 V561 V175 842 V138 V703 V583 841 672 062 488 347 339 E841 086 V400 E985 655 974 V289 V604 V074 V728 371 190 V126 090 143 943 V611 V331 085 V172 E835 668 740 V167 V558 E851 E811 V430 837 V072 V431 302 E923 V110 E900 V562 E963 E964 V118 V624 E800 988 833 023 V020 021 003 V660 E806 313 E954 V860 660 V449 231 V602 186 E863 E874 V721 V181 651 033 V654 E804 330 610 384 E838 E001 973 819 014 132 E899 925 207 V861 E002 E030 E000 894 E873 E999 E976 E003 V016 E805 045 V610 V078 V510 E029 848 E006 V403 122 V536 E013 E019 173 E913 677 E008 V568 V143 V091 V872 066 V601 116 V882 V065 538 V655 316 E007 E016 E921 V902 206 V254 099 V489 V870 E977 628 V250 E982 V486 539 V073 937 V812 030 V271 589 V672 V671 E926 E925 E857 V537 954 E827 657 V910 V789 V037 E975 V045 V848 393 V426 179 387 V903 E856 V901 915').split(' ')\n",
    "len(classes)"
   ]
  },
  {
   "cell_type": "code",
   "execution_count": 5,
   "metadata": {},
   "outputs": [],
   "source": [
    "import os\n",
    "import json\n",
    "\n",
    "directory_path = 'samples_latest_all'\n",
    "data = []\n",
    "\n",
    "for filename in os.listdir(directory_path):\n",
    "    if filename.endswith('.json'):\n",
    "        file_path = os.path.join(directory_path, filename)\n",
    "        \n",
    "        with open(file_path, 'r') as file:\n",
    "            file_data = json.load(file)\n",
    "            data.append(file_data)"
   ]
  },
  {
   "cell_type": "markdown",
   "metadata": {},
   "source": [
    "Inner joining the symptoms_df and test_df on the common column 'id'"
   ]
  },
  {
   "cell_type": "code",
   "execution_count": 6,
   "metadata": {},
   "outputs": [
    {
     "data": {
      "text/html": [
       "<div>\n",
       "<style scoped>\n",
       "    .dataframe tbody tr th:only-of-type {\n",
       "        vertical-align: middle;\n",
       "    }\n",
       "\n",
       "    .dataframe tbody tr th {\n",
       "        vertical-align: top;\n",
       "    }\n",
       "\n",
       "    .dataframe thead th {\n",
       "        text-align: right;\n",
       "    }\n",
       "</style>\n",
       "<table border=\"1\" class=\"dataframe\">\n",
       "  <thead>\n",
       "    <tr style=\"text-align: right;\">\n",
       "      <th></th>\n",
       "      <th>Symptoms</th>\n",
       "      <th>Diseases</th>\n",
       "      <th>id</th>\n",
       "      <th>icd_9_desc</th>\n",
       "      <th>text</th>\n",
       "      <th>long_texts</th>\n",
       "      <th>short_texts</th>\n",
       "      <th>discharge_summary</th>\n",
       "      <th>short_codes</th>\n",
       "    </tr>\n",
       "  </thead>\n",
       "  <tbody>\n",
       "    <tr>\n",
       "      <th>0</th>\n",
       "      <td>[chest tightness, palpitations, ventricular ec...</td>\n",
       "      <td>[aortic valve fibroelastoma, GERD, Basal Cell ...</td>\n",
       "      <td>109136</td>\n",
       "      <td>Benign neoplasm of heart,Obesity, unspecified,...</td>\n",
       "      <td>CHIEF COMPLAINT: known aortic valve fibroelast...</td>\n",
       "      <td>Benign neoplasm of heart,Obesity, unspecified,...</td>\n",
       "      <td>Benign neoplasm heart,Obesity NOS,Angina pecto...</td>\n",
       "      <td>Admission Date:  [**2149-11-19**]             ...</td>\n",
       "      <td>212,278,413,285,530,V108,288,V853</td>\n",
       "    </tr>\n",
       "    <tr>\n",
       "      <th>1</th>\n",
       "      <td>[intermittent L-sided chest pressure, anterior...</td>\n",
       "      <td>[prostate ca s/p brachytherapy, PVD, h/o pancr...</td>\n",
       "      <td>193197</td>\n",
       "      <td>True posterior wall infarction, initial episod...</td>\n",
       "      <td>CHIEF COMPLAINT: intermittent L-sided chest pr...</td>\n",
       "      <td>True posterior wall infarction, initial episod...</td>\n",
       "      <td>True post infarct, init,Ac posthemorrhag anemi...</td>\n",
       "      <td>Admission Date:  [**2144-2-23**]              ...</td>\n",
       "      <td>410,285,414,443,V104,250</td>\n",
       "    </tr>\n",
       "    <tr>\n",
       "      <th>2</th>\n",
       "      <td>[palpitations, dizziness, shortness of breath,...</td>\n",
       "      <td>[mitral regurgitation, mitral stenosis, hypert...</td>\n",
       "      <td>157736</td>\n",
       "      <td>Mitral stenosis with insufficiency,Other chron...</td>\n",
       "      <td>CHIEF COMPLAINT: mitral regurgitation/stenosis...</td>\n",
       "      <td>Mitral stenosis with insufficiency,Other chron...</td>\n",
       "      <td>Mitral stenosis w insuff,Chr pulmon heart dis ...</td>\n",
       "      <td>Admission Date:  [**2197-10-10**]             ...</td>\n",
       "      <td>394,416,278,427,311,401,242</td>\n",
       "    </tr>\n",
       "  </tbody>\n",
       "</table>\n",
       "</div>"
      ],
      "text/plain": [
       "                                            Symptoms  \\\n",
       "0  [chest tightness, palpitations, ventricular ec...   \n",
       "1  [intermittent L-sided chest pressure, anterior...   \n",
       "2  [palpitations, dizziness, shortness of breath,...   \n",
       "\n",
       "                                            Diseases      id  \\\n",
       "0  [aortic valve fibroelastoma, GERD, Basal Cell ...  109136   \n",
       "1  [prostate ca s/p brachytherapy, PVD, h/o pancr...  193197   \n",
       "2  [mitral regurgitation, mitral stenosis, hypert...  157736   \n",
       "\n",
       "                                          icd_9_desc  \\\n",
       "0  Benign neoplasm of heart,Obesity, unspecified,...   \n",
       "1  True posterior wall infarction, initial episod...   \n",
       "2  Mitral stenosis with insufficiency,Other chron...   \n",
       "\n",
       "                                                text  \\\n",
       "0  CHIEF COMPLAINT: known aortic valve fibroelast...   \n",
       "1  CHIEF COMPLAINT: intermittent L-sided chest pr...   \n",
       "2  CHIEF COMPLAINT: mitral regurgitation/stenosis...   \n",
       "\n",
       "                                          long_texts  \\\n",
       "0  Benign neoplasm of heart,Obesity, unspecified,...   \n",
       "1  True posterior wall infarction, initial episod...   \n",
       "2  Mitral stenosis with insufficiency,Other chron...   \n",
       "\n",
       "                                         short_texts  \\\n",
       "0  Benign neoplasm heart,Obesity NOS,Angina pecto...   \n",
       "1  True post infarct, init,Ac posthemorrhag anemi...   \n",
       "2  Mitral stenosis w insuff,Chr pulmon heart dis ...   \n",
       "\n",
       "                                   discharge_summary  \\\n",
       "0  Admission Date:  [**2149-11-19**]             ...   \n",
       "1  Admission Date:  [**2144-2-23**]              ...   \n",
       "2  Admission Date:  [**2197-10-10**]             ...   \n",
       "\n",
       "                         short_codes  \n",
       "0  212,278,413,285,530,V108,288,V853  \n",
       "1           410,285,414,443,V104,250  \n",
       "2        394,416,278,427,311,401,242  "
      ]
     },
     "execution_count": 6,
     "metadata": {},
     "output_type": "execute_result"
    }
   ],
   "source": [
    "symptoms_df = pd.DataFrame(data)\n",
    "raw_test_df = pd.read_csv('new_split/test_split.csv')\n",
    "# print(raw_test_df.columns)\n",
    "unique_ids = list(raw_test_df.id)\n",
    "raw_test_df = raw_test_df.drop('Unnamed: 0',axis =1)\n",
    "raw_test_df = pd.merge(symptoms_df, raw_test_df, how='inner', on='id')\n",
    "raw_test_df.head(3)"
   ]
  },
  {
   "cell_type": "code",
   "execution_count": null,
   "metadata": {},
   "outputs": [],
   "source": []
  },
  {
   "cell_type": "code",
   "execution_count": 7,
   "metadata": {},
   "outputs": [
    {
     "data": {
      "text/html": [
       "<div>\n",
       "<style scoped>\n",
       "    .dataframe tbody tr th:only-of-type {\n",
       "        vertical-align: middle;\n",
       "    }\n",
       "\n",
       "    .dataframe tbody tr th {\n",
       "        vertical-align: top;\n",
       "    }\n",
       "\n",
       "    .dataframe thead th {\n",
       "        text-align: right;\n",
       "    }\n",
       "</style>\n",
       "<table border=\"1\" class=\"dataframe\">\n",
       "  <thead>\n",
       "    <tr style=\"text-align: right;\">\n",
       "      <th></th>\n",
       "      <th>Symptoms</th>\n",
       "      <th>Diseases</th>\n",
       "      <th>id</th>\n",
       "      <th>icd_9_desc</th>\n",
       "      <th>text</th>\n",
       "      <th>long_texts</th>\n",
       "      <th>short_texts</th>\n",
       "      <th>discharge_summary</th>\n",
       "      <th>short_codes</th>\n",
       "      <th>num_codes</th>\n",
       "    </tr>\n",
       "  </thead>\n",
       "  <tbody>\n",
       "    <tr>\n",
       "      <th>8375</th>\n",
       "      <td>[bilateral upper extremity ecchymosses, hypote...</td>\n",
       "      <td>[cryptogenic cirrhosis, afib/SSS, fatty liver ...</td>\n",
       "      <td>155525</td>\n",
       "      <td>Unspecified septicemia,Septic shock,Pneumoniti...</td>\n",
       "      <td>CHIEF COMPLAINT: L. hand hematoma\\n\\nPRESENT I...</td>\n",
       "      <td>Unspecified septicemia,Septic shock,Pneumoniti...</td>\n",
       "      <td>Septicemia NOS,Septic shock,Food/vomit pneumon...</td>\n",
       "      <td>Admission Date:  [**2171-8-2**]              D...</td>\n",
       "      <td>038,785,507,518,584,348,511,456,572,285,428,27...</td>\n",
       "      <td>37</td>\n",
       "    </tr>\n",
       "    <tr>\n",
       "      <th>3360</th>\n",
       "      <td>[altered mental status, GI bleed, hypotension,...</td>\n",
       "      <td>[neurofibromatosis, HTN, hyperlipidemia, compl...</td>\n",
       "      <td>187452</td>\n",
       "      <td>Streptococcal septicemia,Septic shock,Acute re...</td>\n",
       "      <td>CHIEF COMPLAINT: altered mental status, GI ble...</td>\n",
       "      <td>Streptococcal septicemia,Septic shock,Acute re...</td>\n",
       "      <td>Streptococcal septicemia,Septic shock,Acute re...</td>\n",
       "      <td>Admission Date:  [**2172-9-8**]              D...</td>\n",
       "      <td>038,785,518,584,349,577,276,997,533,576,599,00...</td>\n",
       "      <td>35</td>\n",
       "    </tr>\n",
       "    <tr>\n",
       "      <th>381</th>\n",
       "      <td>[abdominal pain, nonbloody emesis, hypotension...</td>\n",
       "      <td>[Nonischemic dilated cardiomyopathy, hypertens...</td>\n",
       "      <td>161002</td>\n",
       "      <td>Acute pancreatitis,Acute kidney failure with l...</td>\n",
       "      <td>CHIEF COMPLAINT: abdominal pain\\n\\nPRESENT ILL...</td>\n",
       "      <td>Acute pancreatitis,Acute kidney failure with l...</td>\n",
       "      <td>Acute pancreatitis,Ac kidny fail, tubr necr,Se...</td>\n",
       "      <td>Admission Date:  [**2135-4-4**]              D...</td>\n",
       "      <td>577,584,038,995,410,785,518,567,425,070,576,27...</td>\n",
       "      <td>34</td>\n",
       "    </tr>\n",
       "    <tr>\n",
       "      <th>7632</th>\n",
       "      <td>[bloody diarrhea, abdominal pain, intermittent...</td>\n",
       "      <td>[mesenteric ischemia, bowel ischemia, atrial f...</td>\n",
       "      <td>119210</td>\n",
       "      <td>Infectious colitis, enteritis, and gastroenter...</td>\n",
       "      <td>CHIEF COMPLAINT: Mesenteric Ischemia\\n\\nPRESEN...</td>\n",
       "      <td>Infectious colitis, enteritis, and gastroenter...</td>\n",
       "      <td>Infectious enteritis NOS,Chr stomach ulc w hem...</td>\n",
       "      <td>Admission Date:  [**2136-2-9**]              D...</td>\n",
       "      <td>009,531,532,038,482,995,785,584,577,518,449,44...</td>\n",
       "      <td>34</td>\n",
       "    </tr>\n",
       "    <tr>\n",
       "      <th>6713</th>\n",
       "      <td>[abdominal pain, hypotension, decreased PO int...</td>\n",
       "      <td>[HTN, Type 2 DM, recent recurrent cholecystiti...</td>\n",
       "      <td>182497</td>\n",
       "      <td>Unspecified septicemia,Toxic encephalopathy,Ot...</td>\n",
       "      <td>CHIEF COMPLAINT: abdominal pain\\n\\nPRESENT ILL...</td>\n",
       "      <td>Unspecified septicemia,Toxic encephalopathy,Ot...</td>\n",
       "      <td>Septicemia NOS,Toxic encephalopathy,Ascites NE...</td>\n",
       "      <td>Admission Date:  [**2104-5-20**]              ...</td>\n",
       "      <td>038,349,789,276,599,286,511,575,041,995,783,57...</td>\n",
       "      <td>34</td>\n",
       "    </tr>\n",
       "  </tbody>\n",
       "</table>\n",
       "</div>"
      ],
      "text/plain": [
       "                                               Symptoms  \\\n",
       "8375  [bilateral upper extremity ecchymosses, hypote...   \n",
       "3360  [altered mental status, GI bleed, hypotension,...   \n",
       "381   [abdominal pain, nonbloody emesis, hypotension...   \n",
       "7632  [bloody diarrhea, abdominal pain, intermittent...   \n",
       "6713  [abdominal pain, hypotension, decreased PO int...   \n",
       "\n",
       "                                               Diseases      id  \\\n",
       "8375  [cryptogenic cirrhosis, afib/SSS, fatty liver ...  155525   \n",
       "3360  [neurofibromatosis, HTN, hyperlipidemia, compl...  187452   \n",
       "381   [Nonischemic dilated cardiomyopathy, hypertens...  161002   \n",
       "7632  [mesenteric ischemia, bowel ischemia, atrial f...  119210   \n",
       "6713  [HTN, Type 2 DM, recent recurrent cholecystiti...  182497   \n",
       "\n",
       "                                             icd_9_desc  \\\n",
       "8375  Unspecified septicemia,Septic shock,Pneumoniti...   \n",
       "3360  Streptococcal septicemia,Septic shock,Acute re...   \n",
       "381   Acute pancreatitis,Acute kidney failure with l...   \n",
       "7632  Infectious colitis, enteritis, and gastroenter...   \n",
       "6713  Unspecified septicemia,Toxic encephalopathy,Ot...   \n",
       "\n",
       "                                                   text  \\\n",
       "8375  CHIEF COMPLAINT: L. hand hematoma\\n\\nPRESENT I...   \n",
       "3360  CHIEF COMPLAINT: altered mental status, GI ble...   \n",
       "381   CHIEF COMPLAINT: abdominal pain\\n\\nPRESENT ILL...   \n",
       "7632  CHIEF COMPLAINT: Mesenteric Ischemia\\n\\nPRESEN...   \n",
       "6713  CHIEF COMPLAINT: abdominal pain\\n\\nPRESENT ILL...   \n",
       "\n",
       "                                             long_texts  \\\n",
       "8375  Unspecified septicemia,Septic shock,Pneumoniti...   \n",
       "3360  Streptococcal septicemia,Septic shock,Acute re...   \n",
       "381   Acute pancreatitis,Acute kidney failure with l...   \n",
       "7632  Infectious colitis, enteritis, and gastroenter...   \n",
       "6713  Unspecified septicemia,Toxic encephalopathy,Ot...   \n",
       "\n",
       "                                            short_texts  \\\n",
       "8375  Septicemia NOS,Septic shock,Food/vomit pneumon...   \n",
       "3360  Streptococcal septicemia,Septic shock,Acute re...   \n",
       "381   Acute pancreatitis,Ac kidny fail, tubr necr,Se...   \n",
       "7632  Infectious enteritis NOS,Chr stomach ulc w hem...   \n",
       "6713  Septicemia NOS,Toxic encephalopathy,Ascites NE...   \n",
       "\n",
       "                                      discharge_summary  \\\n",
       "8375  Admission Date:  [**2171-8-2**]              D...   \n",
       "3360  Admission Date:  [**2172-9-8**]              D...   \n",
       "381   Admission Date:  [**2135-4-4**]              D...   \n",
       "7632  Admission Date:  [**2136-2-9**]              D...   \n",
       "6713  Admission Date:  [**2104-5-20**]              ...   \n",
       "\n",
       "                                            short_codes  num_codes  \n",
       "8375  038,785,507,518,584,348,511,456,572,285,428,27...         37  \n",
       "3360  038,785,518,584,349,577,276,997,533,576,599,00...         35  \n",
       "381   577,584,038,995,410,785,518,567,425,070,576,27...         34  \n",
       "7632  009,531,532,038,482,995,785,584,577,518,449,44...         34  \n",
       "6713  038,349,789,276,599,286,511,575,041,995,783,57...         34  "
      ]
     },
     "execution_count": 7,
     "metadata": {},
     "output_type": "execute_result"
    }
   ],
   "source": [
    "raw_test_df['num_codes'] = raw_test_df['short_codes'].apply(lambda x : len(x.split(',')))\n",
    "raw_test_df = raw_test_df.sort_values(by='num_codes', ascending=False)\n",
    "raw_test_df.head()"
   ]
  },
  {
   "cell_type": "code",
   "execution_count": null,
   "metadata": {},
   "outputs": [],
   "source": []
  },
  {
   "cell_type": "code",
   "execution_count": 8,
   "metadata": {},
   "outputs": [
    {
     "data": {
      "image/png": "[encoded data removed]",
      "text/plain": [
       "<Figure size 640x480 with 1 Axes>"
      ]
     },
     "metadata": {},
     "output_type": "display_data"
    }
   ],
   "source": [
    "import matplotlib.pyplot as plt\n",
    "plt.bar(list(pd.DataFrame(raw_test_df.num_codes.value_counts()).reset_index().num_codes),list(pd.DataFrame(raw_test_df.num_codes.value_counts())['count']))\n",
    "plt.show()"
   ]
  },
  {
   "cell_type": "code",
   "execution_count": 9,
   "metadata": {},
   "outputs": [
    {
     "data": {
      "image/png": "[encoded data removed]",
      "text/plain": [
       "<Figure size 640x480 with 1 Axes>"
      ]
     },
     "metadata": {},
     "output_type": "display_data"
    }
   ],
   "source": [
    "train_df.head()\n",
    "train_df['num_codes'] = train_df['short_codes'].apply(lambda x : len(x.split(',')))\n",
    "train_df = train_df.sort_values(by='num_codes', ascending=False)\n",
    "import matplotlib.pyplot as plt\n",
    "plt.bar(list(pd.DataFrame(train_df.num_codes.value_counts()).reset_index().num_codes),list(pd.DataFrame(train_df.num_codes.value_counts())['count']))\n",
    "plt.show()"
   ]
  },
  {
   "cell_type": "code",
   "execution_count": 10,
   "metadata": {},
   "outputs": [
    {
     "data": {
      "image/png": "[encoded data removed]",
      "text/plain": [
       "<Figure size 640x480 with 1 Axes>"
      ]
     },
     "metadata": {},
     "output_type": "display_data"
    }
   ],
   "source": [
    "\n",
    "val_df['num_codes'] = val_df['short_codes'].apply(lambda x : len(x.split(',')))\n",
    "val_df = val_df.sort_values(by='num_codes', ascending=False)\n",
    "plt.bar(list(pd.DataFrame(val_df.num_codes.value_counts()).reset_index().num_codes),list(pd.DataFrame(val_df.num_codes.value_counts())['count']))\n",
    "plt.show()"
   ]
  },
  {
   "cell_type": "code",
   "execution_count": 11,
   "metadata": {},
   "outputs": [
    {
     "data": {
      "text/html": [
       "<div>\n",
       "<style scoped>\n",
       "    .dataframe tbody tr th:only-of-type {\n",
       "        vertical-align: middle;\n",
       "    }\n",
       "\n",
       "    .dataframe tbody tr th {\n",
       "        vertical-align: top;\n",
       "    }\n",
       "\n",
       "    .dataframe thead th {\n",
       "        text-align: right;\n",
       "    }\n",
       "</style>\n",
       "<table border=\"1\" class=\"dataframe\">\n",
       "  <thead>\n",
       "    <tr style=\"text-align: right;\">\n",
       "      <th></th>\n",
       "      <th>id</th>\n",
       "      <th>Symptoms</th>\n",
       "      <th>Unnamed: 0</th>\n",
       "      <th>text</th>\n",
       "      <th>long_texts</th>\n",
       "      <th>short_texts</th>\n",
       "      <th>discharge_summary</th>\n",
       "      <th>short_codes</th>\n",
       "      <th>num_codes</th>\n",
       "    </tr>\n",
       "  </thead>\n",
       "  <tbody>\n",
       "    <tr>\n",
       "      <th>26</th>\n",
       "      <td>101739</td>\n",
       "      <td>['Dyspnea', 'Cough', 'Afib', 'Weight gain', 'L...</td>\n",
       "      <td>10121</td>\n",
       "      <td>CHIEF COMPLAINT: Dyspnea, cough\\n\\nPRESENT ILL...</td>\n",
       "      <td>Atrial fibrillation,Obstructive chronic bronch...</td>\n",
       "      <td>Atrial fibrillation,Obs chr bronc w(ac) exac,P...</td>\n",
       "      <td>Admission Date:  [**2189-11-14**]             ...</td>\n",
       "      <td>427,491,511,578,556,530,428,458,E942,E934,280,...</td>\n",
       "      <td>36</td>\n",
       "    </tr>\n",
       "    <tr>\n",
       "      <th>1619</th>\n",
       "      <td>150068</td>\n",
       "      <td>['Abdominal pain', 'Worsening abdominal pain',...</td>\n",
       "      <td>5287</td>\n",
       "      <td>CHIEF COMPLAINT: Increased abdominal pain\\n\\nP...</td>\n",
       "      <td>Pneumonia, organism unspecified,Abscess of liv...</td>\n",
       "      <td>Pneumonia, organism NOS,Abscess of liver,Porta...</td>\n",
       "      <td>Admission Date:  [**2129-12-5**]              ...</td>\n",
       "      <td>486,572,452,349,038,995,785,560,569,276,599,29...</td>\n",
       "      <td>34</td>\n",
       "    </tr>\n",
       "    <tr>\n",
       "      <th>493</th>\n",
       "      <td>153826</td>\n",
       "      <td>['Altered mental status', 'Hypotension', 'Feve...</td>\n",
       "      <td>11731</td>\n",
       "      <td>CHIEF COMPLAINT: Chief Complaint: Altered ment...</td>\n",
       "      <td>Unspecified septicemia,Pneumonitis due to inha...</td>\n",
       "      <td>Septicemia NOS,Food/vomit pneumonitis,Pneumo o...</td>\n",
       "      <td>Admission Date:  [**2202-10-3**]              ...</td>\n",
       "      <td>038,507,482,344,707,584,293,276,427,275,995,V4...</td>\n",
       "      <td>33</td>\n",
       "    </tr>\n",
       "    <tr>\n",
       "      <th>2401</th>\n",
       "      <td>163579</td>\n",
       "      <td>['L toe pain', 'Shortness of breath', 'Chest p...</td>\n",
       "      <td>28146</td>\n",
       "      <td>CHIEF COMPLAINT: L toe pain, shortness of brea...</td>\n",
       "      <td>Congestive heart failure, unspecified,Acute os...</td>\n",
       "      <td>CHF NOS,Ac osteomyelitis-ankle,Hyp kid NOS w c...</td>\n",
       "      <td>Admission Date:  [**2164-10-21**]             ...</td>\n",
       "      <td>428,730,403,496,425,070,427,711,518,998,440,70...</td>\n",
       "      <td>33</td>\n",
       "    </tr>\n",
       "    <tr>\n",
       "      <th>435</th>\n",
       "      <td>109386</td>\n",
       "      <td>['Shortness of breath', 'Altered mental status...</td>\n",
       "      <td>21634</td>\n",
       "      <td>CHIEF COMPLAINT: Shortness of breath, altered ...</td>\n",
       "      <td>Unspecified septicemia,Intracerebral hemorrhag...</td>\n",
       "      <td>Septicemia NOS,Intracerebral hemorrhage,Crbl e...</td>\n",
       "      <td>Admission Date:  [**2113-5-17**]              ...</td>\n",
       "      <td>038,431,434,421,780,997,322,263,518,331,008,78...</td>\n",
       "      <td>33</td>\n",
       "    </tr>\n",
       "  </tbody>\n",
       "</table>\n",
       "</div>"
      ],
      "text/plain": [
       "          id                                           Symptoms  Unnamed: 0  \\\n",
       "26    101739  ['Dyspnea', 'Cough', 'Afib', 'Weight gain', 'L...       10121   \n",
       "1619  150068  ['Abdominal pain', 'Worsening abdominal pain',...        5287   \n",
       "493   153826  ['Altered mental status', 'Hypotension', 'Feve...       11731   \n",
       "2401  163579  ['L toe pain', 'Shortness of breath', 'Chest p...       28146   \n",
       "435   109386  ['Shortness of breath', 'Altered mental status...       21634   \n",
       "\n",
       "                                                   text  \\\n",
       "26    CHIEF COMPLAINT: Dyspnea, cough\\n\\nPRESENT ILL...   \n",
       "1619  CHIEF COMPLAINT: Increased abdominal pain\\n\\nP...   \n",
       "493   CHIEF COMPLAINT: Chief Complaint: Altered ment...   \n",
       "2401  CHIEF COMPLAINT: L toe pain, shortness of brea...   \n",
       "435   CHIEF COMPLAINT: Shortness of breath, altered ...   \n",
       "\n",
       "                                             long_texts  \\\n",
       "26    Atrial fibrillation,Obstructive chronic bronch...   \n",
       "1619  Pneumonia, organism unspecified,Abscess of liv...   \n",
       "493   Unspecified septicemia,Pneumonitis due to inha...   \n",
       "2401  Congestive heart failure, unspecified,Acute os...   \n",
       "435   Unspecified septicemia,Intracerebral hemorrhag...   \n",
       "\n",
       "                                            short_texts  \\\n",
       "26    Atrial fibrillation,Obs chr bronc w(ac) exac,P...   \n",
       "1619  Pneumonia, organism NOS,Abscess of liver,Porta...   \n",
       "493   Septicemia NOS,Food/vomit pneumonitis,Pneumo o...   \n",
       "2401  CHF NOS,Ac osteomyelitis-ankle,Hyp kid NOS w c...   \n",
       "435   Septicemia NOS,Intracerebral hemorrhage,Crbl e...   \n",
       "\n",
       "                                      discharge_summary  \\\n",
       "26    Admission Date:  [**2189-11-14**]             ...   \n",
       "1619  Admission Date:  [**2129-12-5**]              ...   \n",
       "493   Admission Date:  [**2202-10-3**]              ...   \n",
       "2401  Admission Date:  [**2164-10-21**]             ...   \n",
       "435   Admission Date:  [**2113-5-17**]              ...   \n",
       "\n",
       "                                            short_codes  num_codes  \n",
       "26    427,491,511,578,556,530,428,458,E942,E934,280,...         36  \n",
       "1619  486,572,452,349,038,995,785,560,569,276,599,29...         34  \n",
       "493   038,507,482,344,707,584,293,276,427,275,995,V4...         33  \n",
       "2401  428,730,403,496,425,070,427,711,518,998,440,70...         33  \n",
       "435   038,431,434,421,780,997,322,263,518,331,008,78...         33  "
      ]
     },
     "execution_count": 11,
     "metadata": {},
     "output_type": "execute_result"
    }
   ],
   "source": [
    "val_df.head()"
   ]
  },
  {
   "cell_type": "code",
   "execution_count": 13,
   "metadata": {},
   "outputs": [],
   "source": [
    "val_df.to_csv('val_df.csv', index = False)"
   ]
  },
  {
   "cell_type": "code",
   "execution_count": 11,
   "metadata": {},
   "outputs": [
    {
     "name": "stdout",
     "output_type": "stream",
     "text": [
      "9829\n"
     ]
    }
   ],
   "source": [
    "print(len(unique_ids))"
   ]
  },
  {
   "cell_type": "code",
   "execution_count": 12,
   "metadata": {},
   "outputs": [
    {
     "data": {
      "text/plain": [
       "8733"
      ]
     },
     "execution_count": 12,
     "metadata": {},
     "output_type": "execute_result"
    }
   ],
   "source": [
    "len(set(list(raw_test_df.id)).intersection(unique_ids))"
   ]
  },
  {
   "cell_type": "code",
   "execution_count": null,
   "metadata": {},
   "outputs": [],
   "source": []
  },
  {
   "cell_type": "code",
   "execution_count": 13,
   "metadata": {},
   "outputs": [],
   "source": [
    "raw_test_df.to_csv('symptoms_test.csv')"
   ]
  },
  {
   "cell_type": "code",
   "execution_count": 14,
   "metadata": {},
   "outputs": [
    {
     "data": {
      "text/html": [
       "<div>\n",
       "<style scoped>\n",
       "    .dataframe tbody tr th:only-of-type {\n",
       "        vertical-align: middle;\n",
       "    }\n",
       "\n",
       "    .dataframe tbody tr th {\n",
       "        vertical-align: top;\n",
       "    }\n",
       "\n",
       "    .dataframe thead th {\n",
       "        text-align: right;\n",
       "    }\n",
       "</style>\n",
       "<table border=\"1\" class=\"dataframe\">\n",
       "  <thead>\n",
       "    <tr style=\"text-align: right;\">\n",
       "      <th></th>\n",
       "      <th>Symptoms</th>\n",
       "      <th>Diseases</th>\n",
       "      <th>id</th>\n",
       "      <th>icd_9_desc</th>\n",
       "    </tr>\n",
       "  </thead>\n",
       "  <tbody>\n",
       "    <tr>\n",
       "      <th>0</th>\n",
       "      <td>[chest tightness, palpitations, ventricular ec...</td>\n",
       "      <td>[aortic valve fibroelastoma, GERD, Basal Cell ...</td>\n",
       "      <td>109136</td>\n",
       "      <td>Benign neoplasm of heart,Obesity, unspecified,...</td>\n",
       "    </tr>\n",
       "    <tr>\n",
       "      <th>1</th>\n",
       "      <td>[intermittent L-sided chest pressure, anterior...</td>\n",
       "      <td>[prostate ca s/p brachytherapy, PVD, h/o pancr...</td>\n",
       "      <td>193197</td>\n",
       "      <td>True posterior wall infarction, initial episod...</td>\n",
       "    </tr>\n",
       "    <tr>\n",
       "      <th>2</th>\n",
       "      <td>[palpitations, dizziness, shortness of breath,...</td>\n",
       "      <td>[mitral regurgitation, mitral stenosis, hypert...</td>\n",
       "      <td>157736</td>\n",
       "      <td>Mitral stenosis with insufficiency,Other chron...</td>\n",
       "    </tr>\n",
       "    <tr>\n",
       "      <th>3</th>\n",
       "      <td>[AMS, low urine output, somnolence, increasing...</td>\n",
       "      <td>[DM2, HTN, CAD with stent placement, one kidne...</td>\n",
       "      <td>109566</td>\n",
       "      <td>Osteoarthrosis, localized, not specified wheth...</td>\n",
       "    </tr>\n",
       "    <tr>\n",
       "      <th>4</th>\n",
       "      <td>[abdominal aneurysm, chest pain, aortic ulcera...</td>\n",
       "      <td>[juxtarenal abdominal aortic aneurysm, polymya...</td>\n",
       "      <td>173793</td>\n",
       "      <td>Abdominal aneurysm without mention of rupture,...</td>\n",
       "    </tr>\n",
       "  </tbody>\n",
       "</table>\n",
       "</div>"
      ],
      "text/plain": [
       "                                            Symptoms  \\\n",
       "0  [chest tightness, palpitations, ventricular ec...   \n",
       "1  [intermittent L-sided chest pressure, anterior...   \n",
       "2  [palpitations, dizziness, shortness of breath,...   \n",
       "3  [AMS, low urine output, somnolence, increasing...   \n",
       "4  [abdominal aneurysm, chest pain, aortic ulcera...   \n",
       "\n",
       "                                            Diseases      id  \\\n",
       "0  [aortic valve fibroelastoma, GERD, Basal Cell ...  109136   \n",
       "1  [prostate ca s/p brachytherapy, PVD, h/o pancr...  193197   \n",
       "2  [mitral regurgitation, mitral stenosis, hypert...  157736   \n",
       "3  [DM2, HTN, CAD with stent placement, one kidne...  109566   \n",
       "4  [juxtarenal abdominal aortic aneurysm, polymya...  173793   \n",
       "\n",
       "                                          icd_9_desc  \n",
       "0  Benign neoplasm of heart,Obesity, unspecified,...  \n",
       "1  True posterior wall infarction, initial episod...  \n",
       "2  Mitral stenosis with insufficiency,Other chron...  \n",
       "3  Osteoarthrosis, localized, not specified wheth...  \n",
       "4  Abdominal aneurysm without mention of rupture,...  "
      ]
     },
     "execution_count": 14,
     "metadata": {},
     "output_type": "execute_result"
    }
   ],
   "source": [
    "symptoms_df.head()"
   ]
  },
  {
   "cell_type": "markdown",
   "metadata": {},
   "source": [
    "Creating a copy for further processing"
   ]
  },
  {
   "cell_type": "code",
   "execution_count": 15,
   "metadata": {},
   "outputs": [],
   "source": [
    "test_df = raw_test_df.copy()"
   ]
  },
  {
   "cell_type": "code",
   "execution_count": 16,
   "metadata": {},
   "outputs": [
    {
     "name": "stdout",
     "output_type": "stream",
     "text": [
      "<class 'pandas.core.frame.DataFrame'>\n",
      "Index: 8733 entries, 8375 to 1995\n",
      "Data columns (total 10 columns):\n",
      " #   Column             Non-Null Count  Dtype \n",
      "---  ------             --------------  ----- \n",
      " 0   Symptoms           8733 non-null   object\n",
      " 1   Diseases           8733 non-null   object\n",
      " 2   id                 8733 non-null   int64 \n",
      " 3   icd_9_desc         8733 non-null   object\n",
      " 4   text               8733 non-null   object\n",
      " 5   long_texts         8733 non-null   object\n",
      " 6   short_texts        8733 non-null   object\n",
      " 7   discharge_summary  8733 non-null   object\n",
      " 8   short_codes        8733 non-null   object\n",
      " 9   num_codes          8733 non-null   int64 \n",
      "dtypes: int64(2), object(8)\n",
      "memory usage: 750.5+ KB\n"
     ]
    }
   ],
   "source": [
    "test_df.info()"
   ]
  },
  {
   "cell_type": "markdown",
   "metadata": {},
   "source": [
    "Codes were present as a single list for each of the row, we are splitting based on the separation of the codes (comma) and then exploding each of these rows into individual rows"
   ]
  },
  {
   "cell_type": "code",
   "execution_count": 17,
   "metadata": {},
   "outputs": [],
   "source": [
    "test_df = test_df.assign(short_codes=test_df['short_codes'].str.split(',')).explode('short_codes').reset_index(drop =True)"
   ]
  },
  {
   "cell_type": "code",
   "execution_count": 18,
   "metadata": {},
   "outputs": [
    {
     "data": {
      "text/html": [
       "<div>\n",
       "<style scoped>\n",
       "    .dataframe tbody tr th:only-of-type {\n",
       "        vertical-align: middle;\n",
       "    }\n",
       "\n",
       "    .dataframe tbody tr th {\n",
       "        vertical-align: top;\n",
       "    }\n",
       "\n",
       "    .dataframe thead th {\n",
       "        text-align: right;\n",
       "    }\n",
       "</style>\n",
       "<table border=\"1\" class=\"dataframe\">\n",
       "  <thead>\n",
       "    <tr style=\"text-align: right;\">\n",
       "      <th></th>\n",
       "      <th>Symptoms</th>\n",
       "      <th>Diseases</th>\n",
       "      <th>id</th>\n",
       "      <th>icd_9_desc</th>\n",
       "      <th>text</th>\n",
       "      <th>long_texts</th>\n",
       "      <th>short_texts</th>\n",
       "      <th>discharge_summary</th>\n",
       "      <th>short_codes</th>\n",
       "      <th>num_codes</th>\n",
       "    </tr>\n",
       "  </thead>\n",
       "  <tbody>\n",
       "    <tr>\n",
       "      <th>0</th>\n",
       "      <td>[bilateral upper extremity ecchymosses, hypote...</td>\n",
       "      <td>[cryptogenic cirrhosis, afib/SSS, fatty liver ...</td>\n",
       "      <td>155525</td>\n",
       "      <td>Unspecified septicemia,Septic shock,Pneumoniti...</td>\n",
       "      <td>CHIEF COMPLAINT: L. hand hematoma\\n\\nPRESENT I...</td>\n",
       "      <td>Unspecified septicemia,Septic shock,Pneumoniti...</td>\n",
       "      <td>Septicemia NOS,Septic shock,Food/vomit pneumon...</td>\n",
       "      <td>Admission Date:  [**2171-8-2**]              D...</td>\n",
       "      <td>038</td>\n",
       "      <td>37</td>\n",
       "    </tr>\n",
       "    <tr>\n",
       "      <th>1</th>\n",
       "      <td>[bilateral upper extremity ecchymosses, hypote...</td>\n",
       "      <td>[cryptogenic cirrhosis, afib/SSS, fatty liver ...</td>\n",
       "      <td>155525</td>\n",
       "      <td>Unspecified septicemia,Septic shock,Pneumoniti...</td>\n",
       "      <td>CHIEF COMPLAINT: L. hand hematoma\\n\\nPRESENT I...</td>\n",
       "      <td>Unspecified septicemia,Septic shock,Pneumoniti...</td>\n",
       "      <td>Septicemia NOS,Septic shock,Food/vomit pneumon...</td>\n",
       "      <td>Admission Date:  [**2171-8-2**]              D...</td>\n",
       "      <td>785</td>\n",
       "      <td>37</td>\n",
       "    </tr>\n",
       "    <tr>\n",
       "      <th>2</th>\n",
       "      <td>[bilateral upper extremity ecchymosses, hypote...</td>\n",
       "      <td>[cryptogenic cirrhosis, afib/SSS, fatty liver ...</td>\n",
       "      <td>155525</td>\n",
       "      <td>Unspecified septicemia,Septic shock,Pneumoniti...</td>\n",
       "      <td>CHIEF COMPLAINT: L. hand hematoma\\n\\nPRESENT I...</td>\n",
       "      <td>Unspecified septicemia,Septic shock,Pneumoniti...</td>\n",
       "      <td>Septicemia NOS,Septic shock,Food/vomit pneumon...</td>\n",
       "      <td>Admission Date:  [**2171-8-2**]              D...</td>\n",
       "      <td>507</td>\n",
       "      <td>37</td>\n",
       "    </tr>\n",
       "    <tr>\n",
       "      <th>3</th>\n",
       "      <td>[bilateral upper extremity ecchymosses, hypote...</td>\n",
       "      <td>[cryptogenic cirrhosis, afib/SSS, fatty liver ...</td>\n",
       "      <td>155525</td>\n",
       "      <td>Unspecified septicemia,Septic shock,Pneumoniti...</td>\n",
       "      <td>CHIEF COMPLAINT: L. hand hematoma\\n\\nPRESENT I...</td>\n",
       "      <td>Unspecified septicemia,Septic shock,Pneumoniti...</td>\n",
       "      <td>Septicemia NOS,Septic shock,Food/vomit pneumon...</td>\n",
       "      <td>Admission Date:  [**2171-8-2**]              D...</td>\n",
       "      <td>518</td>\n",
       "      <td>37</td>\n",
       "    </tr>\n",
       "    <tr>\n",
       "      <th>4</th>\n",
       "      <td>[bilateral upper extremity ecchymosses, hypote...</td>\n",
       "      <td>[cryptogenic cirrhosis, afib/SSS, fatty liver ...</td>\n",
       "      <td>155525</td>\n",
       "      <td>Unspecified septicemia,Septic shock,Pneumoniti...</td>\n",
       "      <td>CHIEF COMPLAINT: L. hand hematoma\\n\\nPRESENT I...</td>\n",
       "      <td>Unspecified septicemia,Septic shock,Pneumoniti...</td>\n",
       "      <td>Septicemia NOS,Septic shock,Food/vomit pneumon...</td>\n",
       "      <td>Admission Date:  [**2171-8-2**]              D...</td>\n",
       "      <td>584</td>\n",
       "      <td>37</td>\n",
       "    </tr>\n",
       "  </tbody>\n",
       "</table>\n",
       "</div>"
      ],
      "text/plain": [
       "                                            Symptoms  \\\n",
       "0  [bilateral upper extremity ecchymosses, hypote...   \n",
       "1  [bilateral upper extremity ecchymosses, hypote...   \n",
       "2  [bilateral upper extremity ecchymosses, hypote...   \n",
       "3  [bilateral upper extremity ecchymosses, hypote...   \n",
       "4  [bilateral upper extremity ecchymosses, hypote...   \n",
       "\n",
       "                                            Diseases      id  \\\n",
       "0  [cryptogenic cirrhosis, afib/SSS, fatty liver ...  155525   \n",
       "1  [cryptogenic cirrhosis, afib/SSS, fatty liver ...  155525   \n",
       "2  [cryptogenic cirrhosis, afib/SSS, fatty liver ...  155525   \n",
       "3  [cryptogenic cirrhosis, afib/SSS, fatty liver ...  155525   \n",
       "4  [cryptogenic cirrhosis, afib/SSS, fatty liver ...  155525   \n",
       "\n",
       "                                          icd_9_desc  \\\n",
       "0  Unspecified septicemia,Septic shock,Pneumoniti...   \n",
       "1  Unspecified septicemia,Septic shock,Pneumoniti...   \n",
       "2  Unspecified septicemia,Septic shock,Pneumoniti...   \n",
       "3  Unspecified septicemia,Septic shock,Pneumoniti...   \n",
       "4  Unspecified septicemia,Septic shock,Pneumoniti...   \n",
       "\n",
       "                                                text  \\\n",
       "0  CHIEF COMPLAINT: L. hand hematoma\\n\\nPRESENT I...   \n",
       "1  CHIEF COMPLAINT: L. hand hematoma\\n\\nPRESENT I...   \n",
       "2  CHIEF COMPLAINT: L. hand hematoma\\n\\nPRESENT I...   \n",
       "3  CHIEF COMPLAINT: L. hand hematoma\\n\\nPRESENT I...   \n",
       "4  CHIEF COMPLAINT: L. hand hematoma\\n\\nPRESENT I...   \n",
       "\n",
       "                                          long_texts  \\\n",
       "0  Unspecified septicemia,Septic shock,Pneumoniti...   \n",
       "1  Unspecified septicemia,Septic shock,Pneumoniti...   \n",
       "2  Unspecified septicemia,Septic shock,Pneumoniti...   \n",
       "3  Unspecified septicemia,Septic shock,Pneumoniti...   \n",
       "4  Unspecified septicemia,Septic shock,Pneumoniti...   \n",
       "\n",
       "                                         short_texts  \\\n",
       "0  Septicemia NOS,Septic shock,Food/vomit pneumon...   \n",
       "1  Septicemia NOS,Septic shock,Food/vomit pneumon...   \n",
       "2  Septicemia NOS,Septic shock,Food/vomit pneumon...   \n",
       "3  Septicemia NOS,Septic shock,Food/vomit pneumon...   \n",
       "4  Septicemia NOS,Septic shock,Food/vomit pneumon...   \n",
       "\n",
       "                                   discharge_summary short_codes  num_codes  \n",
       "0  Admission Date:  [**2171-8-2**]              D...         038         37  \n",
       "1  Admission Date:  [**2171-8-2**]              D...         785         37  \n",
       "2  Admission Date:  [**2171-8-2**]              D...         507         37  \n",
       "3  Admission Date:  [**2171-8-2**]              D...         518         37  \n",
       "4  Admission Date:  [**2171-8-2**]              D...         584         37  "
      ]
     },
     "execution_count": 18,
     "metadata": {},
     "output_type": "execute_result"
    }
   ],
   "source": [
    "test_df.head()"
   ]
  },
  {
   "cell_type": "code",
   "execution_count": 19,
   "metadata": {},
   "outputs": [
    {
     "name": "stdout",
     "output_type": "stream",
     "text": [
      "<class 'pandas.core.frame.DataFrame'>\n",
      "RangeIndex: 91227 entries, 0 to 91226\n",
      "Data columns (total 10 columns):\n",
      " #   Column             Non-Null Count  Dtype \n",
      "---  ------             --------------  ----- \n",
      " 0   Symptoms           91227 non-null  object\n",
      " 1   Diseases           91227 non-null  object\n",
      " 2   id                 91227 non-null  int64 \n",
      " 3   icd_9_desc         91227 non-null  object\n",
      " 4   text               91227 non-null  object\n",
      " 5   long_texts         91227 non-null  object\n",
      " 6   short_texts        91227 non-null  object\n",
      " 7   discharge_summary  91227 non-null  object\n",
      " 8   short_codes        91227 non-null  object\n",
      " 9   num_codes          91227 non-null  int64 \n",
      "dtypes: int64(2), object(8)\n",
      "memory usage: 7.0+ MB\n"
     ]
    }
   ],
   "source": [
    "test_df.info()"
   ]
  },
  {
   "cell_type": "markdown",
   "metadata": {},
   "source": [
    "As of now, we're not using the preprcessing function as they are already as 3-digit codes"
   ]
  },
  {
   "cell_type": "code",
   "execution_count": 20,
   "metadata": {},
   "outputs": [],
   "source": [
    "def preprocessing(test_df) : \n",
    "    test_df.loc[\n",
    "        test_df['short_codes'].str.startswith(\"V\"), 'short_codes'] = test_df.short_codes.apply(\n",
    "        lambda x: x[:4])\n",
    "    test_df.loc[\n",
    "        test_df['short_codes'].str.startswith(\"E\"), 'short_codes'] = test_df.short_codes.apply(\n",
    "        lambda x: x[:4])\n",
    "    test_df.loc[(~test_df.short_codes.str.startswith(\"E\")) & (\n",
    "        ~test_df.short_codes.str.startswith(\"V\")), 'short_codes'] = test_df.short_codes.apply(\n",
    "        lambda x: x[:3])\n",
    "    return test_df\n",
    "\n",
    "# test_df = preprocessing(test_df)"
   ]
  },
  {
   "cell_type": "code",
   "execution_count": 21,
   "metadata": {},
   "outputs": [
    {
     "data": {
      "text/html": [
       "<div>\n",
       "<style scoped>\n",
       "    .dataframe tbody tr th:only-of-type {\n",
       "        vertical-align: middle;\n",
       "    }\n",
       "\n",
       "    .dataframe tbody tr th {\n",
       "        vertical-align: top;\n",
       "    }\n",
       "\n",
       "    .dataframe thead th {\n",
       "        text-align: right;\n",
       "    }\n",
       "</style>\n",
       "<table border=\"1\" class=\"dataframe\">\n",
       "  <thead>\n",
       "    <tr style=\"text-align: right;\">\n",
       "      <th></th>\n",
       "      <th>Symptoms</th>\n",
       "      <th>Diseases</th>\n",
       "      <th>id</th>\n",
       "      <th>icd_9_desc</th>\n",
       "      <th>text</th>\n",
       "      <th>long_texts</th>\n",
       "      <th>short_texts</th>\n",
       "      <th>discharge_summary</th>\n",
       "      <th>short_codes</th>\n",
       "      <th>num_codes</th>\n",
       "    </tr>\n",
       "  </thead>\n",
       "  <tbody>\n",
       "    <tr>\n",
       "      <th>0</th>\n",
       "      <td>[bilateral upper extremity ecchymosses, hypote...</td>\n",
       "      <td>[cryptogenic cirrhosis, afib/SSS, fatty liver ...</td>\n",
       "      <td>155525</td>\n",
       "      <td>Unspecified septicemia,Septic shock,Pneumoniti...</td>\n",
       "      <td>CHIEF COMPLAINT: L. hand hematoma\\n\\nPRESENT I...</td>\n",
       "      <td>Unspecified septicemia,Septic shock,Pneumoniti...</td>\n",
       "      <td>Septicemia NOS,Septic shock,Food/vomit pneumon...</td>\n",
       "      <td>Admission Date:  [**2171-8-2**]              D...</td>\n",
       "      <td>038</td>\n",
       "      <td>37</td>\n",
       "    </tr>\n",
       "    <tr>\n",
       "      <th>1</th>\n",
       "      <td>[bilateral upper extremity ecchymosses, hypote...</td>\n",
       "      <td>[cryptogenic cirrhosis, afib/SSS, fatty liver ...</td>\n",
       "      <td>155525</td>\n",
       "      <td>Unspecified septicemia,Septic shock,Pneumoniti...</td>\n",
       "      <td>CHIEF COMPLAINT: L. hand hematoma\\n\\nPRESENT I...</td>\n",
       "      <td>Unspecified septicemia,Septic shock,Pneumoniti...</td>\n",
       "      <td>Septicemia NOS,Septic shock,Food/vomit pneumon...</td>\n",
       "      <td>Admission Date:  [**2171-8-2**]              D...</td>\n",
       "      <td>785</td>\n",
       "      <td>37</td>\n",
       "    </tr>\n",
       "    <tr>\n",
       "      <th>2</th>\n",
       "      <td>[bilateral upper extremity ecchymosses, hypote...</td>\n",
       "      <td>[cryptogenic cirrhosis, afib/SSS, fatty liver ...</td>\n",
       "      <td>155525</td>\n",
       "      <td>Unspecified septicemia,Septic shock,Pneumoniti...</td>\n",
       "      <td>CHIEF COMPLAINT: L. hand hematoma\\n\\nPRESENT I...</td>\n",
       "      <td>Unspecified septicemia,Septic shock,Pneumoniti...</td>\n",
       "      <td>Septicemia NOS,Septic shock,Food/vomit pneumon...</td>\n",
       "      <td>Admission Date:  [**2171-8-2**]              D...</td>\n",
       "      <td>507</td>\n",
       "      <td>37</td>\n",
       "    </tr>\n",
       "    <tr>\n",
       "      <th>3</th>\n",
       "      <td>[bilateral upper extremity ecchymosses, hypote...</td>\n",
       "      <td>[cryptogenic cirrhosis, afib/SSS, fatty liver ...</td>\n",
       "      <td>155525</td>\n",
       "      <td>Unspecified septicemia,Septic shock,Pneumoniti...</td>\n",
       "      <td>CHIEF COMPLAINT: L. hand hematoma\\n\\nPRESENT I...</td>\n",
       "      <td>Unspecified septicemia,Septic shock,Pneumoniti...</td>\n",
       "      <td>Septicemia NOS,Septic shock,Food/vomit pneumon...</td>\n",
       "      <td>Admission Date:  [**2171-8-2**]              D...</td>\n",
       "      <td>518</td>\n",
       "      <td>37</td>\n",
       "    </tr>\n",
       "    <tr>\n",
       "      <th>4</th>\n",
       "      <td>[bilateral upper extremity ecchymosses, hypote...</td>\n",
       "      <td>[cryptogenic cirrhosis, afib/SSS, fatty liver ...</td>\n",
       "      <td>155525</td>\n",
       "      <td>Unspecified septicemia,Septic shock,Pneumoniti...</td>\n",
       "      <td>CHIEF COMPLAINT: L. hand hematoma\\n\\nPRESENT I...</td>\n",
       "      <td>Unspecified septicemia,Septic shock,Pneumoniti...</td>\n",
       "      <td>Septicemia NOS,Septic shock,Food/vomit pneumon...</td>\n",
       "      <td>Admission Date:  [**2171-8-2**]              D...</td>\n",
       "      <td>584</td>\n",
       "      <td>37</td>\n",
       "    </tr>\n",
       "  </tbody>\n",
       "</table>\n",
       "</div>"
      ],
      "text/plain": [
       "                                            Symptoms  \\\n",
       "0  [bilateral upper extremity ecchymosses, hypote...   \n",
       "1  [bilateral upper extremity ecchymosses, hypote...   \n",
       "2  [bilateral upper extremity ecchymosses, hypote...   \n",
       "3  [bilateral upper extremity ecchymosses, hypote...   \n",
       "4  [bilateral upper extremity ecchymosses, hypote...   \n",
       "\n",
       "                                            Diseases      id  \\\n",
       "0  [cryptogenic cirrhosis, afib/SSS, fatty liver ...  155525   \n",
       "1  [cryptogenic cirrhosis, afib/SSS, fatty liver ...  155525   \n",
       "2  [cryptogenic cirrhosis, afib/SSS, fatty liver ...  155525   \n",
       "3  [cryptogenic cirrhosis, afib/SSS, fatty liver ...  155525   \n",
       "4  [cryptogenic cirrhosis, afib/SSS, fatty liver ...  155525   \n",
       "\n",
       "                                          icd_9_desc  \\\n",
       "0  Unspecified septicemia,Septic shock,Pneumoniti...   \n",
       "1  Unspecified septicemia,Septic shock,Pneumoniti...   \n",
       "2  Unspecified septicemia,Septic shock,Pneumoniti...   \n",
       "3  Unspecified septicemia,Septic shock,Pneumoniti...   \n",
       "4  Unspecified septicemia,Septic shock,Pneumoniti...   \n",
       "\n",
       "                                                text  \\\n",
       "0  CHIEF COMPLAINT: L. hand hematoma\\n\\nPRESENT I...   \n",
       "1  CHIEF COMPLAINT: L. hand hematoma\\n\\nPRESENT I...   \n",
       "2  CHIEF COMPLAINT: L. hand hematoma\\n\\nPRESENT I...   \n",
       "3  CHIEF COMPLAINT: L. hand hematoma\\n\\nPRESENT I...   \n",
       "4  CHIEF COMPLAINT: L. hand hematoma\\n\\nPRESENT I...   \n",
       "\n",
       "                                          long_texts  \\\n",
       "0  Unspecified septicemia,Septic shock,Pneumoniti...   \n",
       "1  Unspecified septicemia,Septic shock,Pneumoniti...   \n",
       "2  Unspecified septicemia,Septic shock,Pneumoniti...   \n",
       "3  Unspecified septicemia,Septic shock,Pneumoniti...   \n",
       "4  Unspecified septicemia,Septic shock,Pneumoniti...   \n",
       "\n",
       "                                         short_texts  \\\n",
       "0  Septicemia NOS,Septic shock,Food/vomit pneumon...   \n",
       "1  Septicemia NOS,Septic shock,Food/vomit pneumon...   \n",
       "2  Septicemia NOS,Septic shock,Food/vomit pneumon...   \n",
       "3  Septicemia NOS,Septic shock,Food/vomit pneumon...   \n",
       "4  Septicemia NOS,Septic shock,Food/vomit pneumon...   \n",
       "\n",
       "                                   discharge_summary short_codes  num_codes  \n",
       "0  Admission Date:  [**2171-8-2**]              D...         038         37  \n",
       "1  Admission Date:  [**2171-8-2**]              D...         785         37  \n",
       "2  Admission Date:  [**2171-8-2**]              D...         507         37  \n",
       "3  Admission Date:  [**2171-8-2**]              D...         518         37  \n",
       "4  Admission Date:  [**2171-8-2**]              D...         584         37  "
      ]
     },
     "execution_count": 21,
     "metadata": {},
     "output_type": "execute_result"
    }
   ],
   "source": [
    "test_df.head()"
   ]
  },
  {
   "cell_type": "markdown",
   "metadata": {},
   "source": [
    "Raw test df, the copy of the test df is being reassembled"
   ]
  },
  {
   "cell_type": "code",
   "execution_count": 22,
   "metadata": {},
   "outputs": [
    {
     "data": {
      "text/html": [
       "<div>\n",
       "<style scoped>\n",
       "    .dataframe tbody tr th:only-of-type {\n",
       "        vertical-align: middle;\n",
       "    }\n",
       "\n",
       "    .dataframe tbody tr th {\n",
       "        vertical-align: top;\n",
       "    }\n",
       "\n",
       "    .dataframe thead th {\n",
       "        text-align: right;\n",
       "    }\n",
       "</style>\n",
       "<table border=\"1\" class=\"dataframe\">\n",
       "  <thead>\n",
       "    <tr style=\"text-align: right;\">\n",
       "      <th></th>\n",
       "      <th>id</th>\n",
       "      <th>Symptoms</th>\n",
       "      <th>Diseases</th>\n",
       "      <th>icd_9_desc</th>\n",
       "      <th>text</th>\n",
       "      <th>long_texts</th>\n",
       "      <th>short_texts</th>\n",
       "      <th>discharge_summary</th>\n",
       "      <th>short_codes</th>\n",
       "    </tr>\n",
       "  </thead>\n",
       "  <tbody>\n",
       "    <tr>\n",
       "      <th>0</th>\n",
       "      <td>100010</td>\n",
       "      <td>[Gross hematuria, Weight loss, Fullness in lef...</td>\n",
       "      <td>[Metastatic renal cell carcinoma, Renal mass, ...</td>\n",
       "      <td>Malignant neoplasm of kidney, except pelvis,Se...</td>\n",
       "      <td>CHIEF COMPLAINT: Gross hematuria, 50-pound wei...</td>\n",
       "      <td>Malignant neoplasm of kidney, except pelvis,Se...</td>\n",
       "      <td>Malig neopl kidney,Mal neo lymph-intrathor,Sec...</td>\n",
       "      <td>Admission Date:  [**2109-12-10**]             ...</td>\n",
       "      <td>189,196,198,197,276</td>\n",
       "    </tr>\n",
       "    <tr>\n",
       "      <th>1</th>\n",
       "      <td>100012</td>\n",
       "      <td>[exertional angina]</td>\n",
       "      <td>[coronary artery disease, hypertension, hyperc...</td>\n",
       "      <td>Coronary atherosclerosis of native coronary ar...</td>\n",
       "      <td>CHIEF COMPLAINT: exertional angina\\n\\nPRESENT ...</td>\n",
       "      <td>Coronary atherosclerosis of native coronary ar...</td>\n",
       "      <td>Crnry athrscl natve vssl,Hemorrhage complic pr...</td>\n",
       "      <td>Admission Date:  [**2177-3-12**]              ...</td>\n",
       "      <td>414,998,413,401,272,V158,V458,V153,V102,V874,E878</td>\n",
       "    </tr>\n",
       "    <tr>\n",
       "      <th>2</th>\n",
       "      <td>100016</td>\n",
       "      <td>[Respiratory failure, Labored breathing, Acces...</td>\n",
       "      <td>[Downs Syndrome, MRSA pneumonia, Tracheostomy,...</td>\n",
       "      <td>Pneumonitis due to inhalation of food or vomit...</td>\n",
       "      <td>CHIEF COMPLAINT: Respiratory Failure\\n\\nPRESEN...</td>\n",
       "      <td>Pneumonitis due to inhalation of food or vomit...</td>\n",
       "      <td>Food/vomit pneumonitis,Acute respiratry failur...</td>\n",
       "      <td>Admission Date:  [**2188-5-24**]              ...</td>\n",
       "      <td>507,518,255,478,758,345,251,458,300,536,V441</td>\n",
       "    </tr>\n",
       "    <tr>\n",
       "      <th>3</th>\n",
       "      <td>100019</td>\n",
       "      <td>[heart murmur since childhood, increase in the...</td>\n",
       "      <td>[Bicuspid aortic valve, Dilated aorta, Aortic ...</td>\n",
       "      <td>Aortic valve disorders,Congenital insufficienc...</td>\n",
       "      <td>CHIEF COMPLAINT: \\n\\nPRESENT ILLNESS: The pati...</td>\n",
       "      <td>Aortic valve disorders,Congenital insufficienc...</td>\n",
       "      <td>Aortic valve disorder,Cong aorta valv insuffic...</td>\n",
       "      <td>Admission Date:  [**2138-6-9**]     Discharge ...</td>\n",
       "      <td>424,746,441,785</td>\n",
       "    </tr>\n",
       "    <tr>\n",
       "      <th>4</th>\n",
       "      <td>100028</td>\n",
       "      <td>[Right upper quadrant pain, Fever, Elevated LF...</td>\n",
       "      <td>[Mild mental retardation, Cholangitis, Choledo...</td>\n",
       "      <td>Cholangitis,Unspecified septicemia,Acute edema...</td>\n",
       "      <td>CHIEF COMPLAINT: Right upper quadrant pain\\n\\n...</td>\n",
       "      <td>Cholangitis,Unspecified septicemia,Acute edema...</td>\n",
       "      <td>Cholangitis,Septicemia NOS,Acute lung edema NO...</td>\n",
       "      <td>Admission Date:  [**2142-12-23**]             ...</td>\n",
       "      <td>576,038,518,574,995,427,287,873,E928</td>\n",
       "    </tr>\n",
       "  </tbody>\n",
       "</table>\n",
       "</div>"
      ],
      "text/plain": [
       "       id                                           Symptoms  \\\n",
       "0  100010  [Gross hematuria, Weight loss, Fullness in lef...   \n",
       "1  100012                                [exertional angina]   \n",
       "2  100016  [Respiratory failure, Labored breathing, Acces...   \n",
       "3  100019  [heart murmur since childhood, increase in the...   \n",
       "4  100028  [Right upper quadrant pain, Fever, Elevated LF...   \n",
       "\n",
       "                                            Diseases  \\\n",
       "0  [Metastatic renal cell carcinoma, Renal mass, ...   \n",
       "1  [coronary artery disease, hypertension, hyperc...   \n",
       "2  [Downs Syndrome, MRSA pneumonia, Tracheostomy,...   \n",
       "3  [Bicuspid aortic valve, Dilated aorta, Aortic ...   \n",
       "4  [Mild mental retardation, Cholangitis, Choledo...   \n",
       "\n",
       "                                          icd_9_desc  \\\n",
       "0  Malignant neoplasm of kidney, except pelvis,Se...   \n",
       "1  Coronary atherosclerosis of native coronary ar...   \n",
       "2  Pneumonitis due to inhalation of food or vomit...   \n",
       "3  Aortic valve disorders,Congenital insufficienc...   \n",
       "4  Cholangitis,Unspecified septicemia,Acute edema...   \n",
       "\n",
       "                                                text  \\\n",
       "0  CHIEF COMPLAINT: Gross hematuria, 50-pound wei...   \n",
       "1  CHIEF COMPLAINT: exertional angina\\n\\nPRESENT ...   \n",
       "2  CHIEF COMPLAINT: Respiratory Failure\\n\\nPRESEN...   \n",
       "3  CHIEF COMPLAINT: \\n\\nPRESENT ILLNESS: The pati...   \n",
       "4  CHIEF COMPLAINT: Right upper quadrant pain\\n\\n...   \n",
       "\n",
       "                                          long_texts  \\\n",
       "0  Malignant neoplasm of kidney, except pelvis,Se...   \n",
       "1  Coronary atherosclerosis of native coronary ar...   \n",
       "2  Pneumonitis due to inhalation of food or vomit...   \n",
       "3  Aortic valve disorders,Congenital insufficienc...   \n",
       "4  Cholangitis,Unspecified septicemia,Acute edema...   \n",
       "\n",
       "                                         short_texts  \\\n",
       "0  Malig neopl kidney,Mal neo lymph-intrathor,Sec...   \n",
       "1  Crnry athrscl natve vssl,Hemorrhage complic pr...   \n",
       "2  Food/vomit pneumonitis,Acute respiratry failur...   \n",
       "3  Aortic valve disorder,Cong aorta valv insuffic...   \n",
       "4  Cholangitis,Septicemia NOS,Acute lung edema NO...   \n",
       "\n",
       "                                   discharge_summary  \\\n",
       "0  Admission Date:  [**2109-12-10**]             ...   \n",
       "1  Admission Date:  [**2177-3-12**]              ...   \n",
       "2  Admission Date:  [**2188-5-24**]              ...   \n",
       "3  Admission Date:  [**2138-6-9**]     Discharge ...   \n",
       "4  Admission Date:  [**2142-12-23**]             ...   \n",
       "\n",
       "                                         short_codes  \n",
       "0                                189,196,198,197,276  \n",
       "1  414,998,413,401,272,V158,V458,V153,V102,V874,E878  \n",
       "2       507,518,255,478,758,345,251,458,300,536,V441  \n",
       "3                                    424,746,441,785  \n",
       "4               576,038,518,574,995,427,287,873,E928  "
      ]
     },
     "execution_count": 22,
     "metadata": {},
     "output_type": "execute_result"
    }
   ],
   "source": [
    "raw_test_df =  test_df.groupby('id').agg({\n",
    "    'Symptoms': 'first',\n",
    "    'Diseases': 'first',\n",
    "    'icd_9_desc': 'first',\n",
    "    'text': 'first',\n",
    "    'long_texts': 'first',\n",
    "    'short_texts': 'first',\n",
    "    'discharge_summary': 'first',\n",
    "    'short_codes': lambda x: ','.join(map(str, x))\n",
    "}).reset_index()\n",
    "\n",
    "raw_test_df.head()"
   ]
  },
  {
   "cell_type": "markdown",
   "metadata": {},
   "source": [
    "Total number of unique codes in the test dataset "
   ]
  },
  {
   "cell_type": "code",
   "execution_count": 23,
   "metadata": {},
   "outputs": [
    {
     "data": {
      "text/plain": [
       "998"
      ]
     },
     "execution_count": 23,
     "metadata": {},
     "output_type": "execute_result"
    }
   ],
   "source": [
    "len(set(classes).intersection(set(list(test_df.short_codes))))"
   ]
  },
  {
   "cell_type": "code",
   "execution_count": 24,
   "metadata": {},
   "outputs": [
    {
     "data": {
      "text/plain": [
       "998"
      ]
     },
     "execution_count": 24,
     "metadata": {},
     "output_type": "execute_result"
    }
   ],
   "source": [
    "test_df.short_codes.nunique()"
   ]
  },
  {
   "cell_type": "markdown",
   "metadata": {},
   "source": [
    "> #### Check if the classes are in KG or not"
   ]
  },
  {
   "cell_type": "markdown",
   "metadata": {},
   "source": [
    "container_name = kg_train_cropped"
   ]
  },
  {
   "cell_type": "code",
   "execution_count": 25,
   "metadata": {},
   "outputs": [],
   "source": [
    "import os\n",
    "from py2neo import Graph\n",
    "from mistralai.client import MistralClient\n",
    "from mistralai.models.chat_completion import ChatMessage\n",
    "from neo4j import GraphDatabase\n",
    "from dotenv import load_dotenv\n",
    "import json\n",
    "\n",
    "\n",
    "uri = \"neo4j://localhost:7687\" \n",
    "auth = (\"neo4j\", \"neo4j_pass4\")\n",
    "\n",
    "driver = GraphDatabase.driver(uri, auth=auth) \n",
    "driver.verify_connectivity()\n",
    "\n",
    "\n"
   ]
  },
  {
   "cell_type": "markdown",
   "metadata": {},
   "source": [
    "#### Number of distinct disease codes in the knowledge graph"
   ]
  },
  {
   "cell_type": "code",
   "execution_count": 26,
   "metadata": {},
   "outputs": [
    {
     "name": "stdout",
     "output_type": "stream",
     "text": [
      "Number of distinct disease codes in the knowledge graph: 1194\n"
     ]
    }
   ],
   "source": [
    "def count_distinct_disease_codes():\n",
    "    with driver.session() as session:\n",
    "        result = session.run(\"\"\"\n",
    "            MATCH (d:Disease)\n",
    "            RETURN DISTINCT d.title AS distinct_disease\n",
    "        \"\"\")\n",
    "        distinct_diseases =  [i['distinct_disease'] for i in result.data()]\n",
    "          \n",
    "        return distinct_diseases\n",
    "\n",
    "distinct_disease= count_distinct_disease_codes()\n",
    "print(f\"Number of distinct disease codes in the knowledge graph: {len(distinct_disease)}\")\n"
   ]
  },
  {
   "cell_type": "code",
   "execution_count": 27,
   "metadata": {},
   "outputs": [
    {
     "data": {
      "text/plain": [
       "971"
      ]
     },
     "execution_count": 27,
     "metadata": {},
     "output_type": "execute_result"
    }
   ],
   "source": [
    "len(set(distinct_disease).intersection(set(list(test_df.short_codes))))"
   ]
  },
  {
   "cell_type": "code",
   "execution_count": 28,
   "metadata": {},
   "outputs": [
    {
     "data": {
      "text/plain": [
       "998"
      ]
     },
     "execution_count": 28,
     "metadata": {},
     "output_type": "execute_result"
    }
   ],
   "source": [
    "len(set(classes).intersection(set(list(test_df.short_codes))))"
   ]
  },
  {
   "cell_type": "code",
   "execution_count": 29,
   "metadata": {},
   "outputs": [],
   "source": [
    "# sorted(list(test_df.short_codes.value_counts()))[-100:]"
   ]
  },
  {
   "cell_type": "code",
   "execution_count": 30,
   "metadata": {},
   "outputs": [
    {
     "data": {
      "text/html": [
       "<div>\n",
       "<style scoped>\n",
       "    .dataframe tbody tr th:only-of-type {\n",
       "        vertical-align: middle;\n",
       "    }\n",
       "\n",
       "    .dataframe tbody tr th {\n",
       "        vertical-align: top;\n",
       "    }\n",
       "\n",
       "    .dataframe thead th {\n",
       "        text-align: right;\n",
       "    }\n",
       "</style>\n",
       "<table border=\"1\" class=\"dataframe\">\n",
       "  <thead>\n",
       "    <tr style=\"text-align: right;\">\n",
       "      <th></th>\n",
       "      <th>short_codes</th>\n",
       "      <th>count</th>\n",
       "    </tr>\n",
       "  </thead>\n",
       "  <tbody>\n",
       "    <tr>\n",
       "      <th>0</th>\n",
       "      <td>401</td>\n",
       "      <td>3759</td>\n",
       "    </tr>\n",
       "    <tr>\n",
       "      <th>1</th>\n",
       "      <td>427</td>\n",
       "      <td>2879</td>\n",
       "    </tr>\n",
       "    <tr>\n",
       "      <th>2</th>\n",
       "      <td>272</td>\n",
       "      <td>2653</td>\n",
       "    </tr>\n",
       "    <tr>\n",
       "      <th>3</th>\n",
       "      <td>414</td>\n",
       "      <td>2544</td>\n",
       "    </tr>\n",
       "    <tr>\n",
       "      <th>4</th>\n",
       "      <td>250</td>\n",
       "      <td>2450</td>\n",
       "    </tr>\n",
       "    <tr>\n",
       "      <th>...</th>\n",
       "      <td>...</td>\n",
       "      <td>...</td>\n",
       "    </tr>\n",
       "    <tr>\n",
       "      <th>993</th>\n",
       "      <td>V741</td>\n",
       "      <td>1</td>\n",
       "    </tr>\n",
       "    <tr>\n",
       "      <th>994</th>\n",
       "      <td>V840</td>\n",
       "      <td>1</td>\n",
       "    </tr>\n",
       "    <tr>\n",
       "      <th>995</th>\n",
       "      <td>021</td>\n",
       "      <td>1</td>\n",
       "    </tr>\n",
       "    <tr>\n",
       "      <th>996</th>\n",
       "      <td>381</td>\n",
       "      <td>1</td>\n",
       "    </tr>\n",
       "    <tr>\n",
       "      <th>997</th>\n",
       "      <td>E905</td>\n",
       "      <td>1</td>\n",
       "    </tr>\n",
       "  </tbody>\n",
       "</table>\n",
       "<p>998 rows × 2 columns</p>\n",
       "</div>"
      ],
      "text/plain": [
       "    short_codes  count\n",
       "0           401   3759\n",
       "1           427   2879\n",
       "2           272   2653\n",
       "3           414   2544\n",
       "4           250   2450\n",
       "..          ...    ...\n",
       "993        V741      1\n",
       "994        V840      1\n",
       "995         021      1\n",
       "996         381      1\n",
       "997        E905      1\n",
       "\n",
       "[998 rows x 2 columns]"
      ]
     },
     "execution_count": 30,
     "metadata": {},
     "output_type": "execute_result"
    }
   ],
   "source": [
    "test_val_df = pd.DataFrame(test_df.short_codes.value_counts()).reset_index()\n",
    "test_val_df"
   ]
  },
  {
   "cell_type": "code",
   "execution_count": 31,
   "metadata": {},
   "outputs": [
    {
     "data": {
      "application/vnd.plotly.v1+json": {
       "config": {
        "plotlyServerURL": "https://plot.ly"
       },
       "data": [
        {
         "alignmentgroup": "True",
         "hovertemplate": "short_codes=%{x}<br>count=%{y}<extra></extra>",
         "legendgroup": "",
         "marker": {
          "color": "#636efa",
          "pattern": {
           "shape": ""
          }
         },
         "name": "",
         "offsetgroup": "",
         "orientation": "v",
         "showlegend": false,
         "textposition": "auto",
         "type": "bar",
         "x": [
          "401",
          "427",
          "272",
          "414",
          "250",
          "428",
          "276",
          "285",
          "584",
          "518",
          "530",
          "V586",
          "403",
          "585",
          "599",
          "V458",
          "038",
          "424",
          "305",
          "410",
          "995",
          "244",
          "785",
          "998",
          "780",
          "458",
          "486",
          "496",
          "997",
          "E878",
          "996",
          "V158",
          "311",
          "493",
          "507",
          "790",
          "287",
          "V125",
          "412",
          "511",
          "041",
          "571",
          "300",
          "733",
          "278",
          "416",
          "348",
          "578",
          "707",
          "327",
          "070",
          "E879",
          "V450",
          "274",
          "411",
          "280",
          "600",
          "E849",
          "303",
          "425",
          "787",
          "482",
          "294",
          "788",
          "441",
          "440",
          "286",
          "V104",
          "572",
          "443",
          "197",
          "560",
          "357",
          "799",
          "198",
          "715",
          "V436",
          "577",
          "562",
          "426",
          "008",
          "724",
          "293",
          "682",
          "V498",
          "789",
          "431",
          "564",
          "345",
          "288",
          "V100",
          "784",
          "296",
          "V103",
          "413",
          "331",
          "434",
          "491",
          "263",
          "433",
          "112",
          "275",
          "852",
          "438",
          "362",
          "291",
          "V108",
          "574",
          "338",
          "E888",
          "456",
          "576",
          "162",
          "807",
          "535",
          "805",
          "553",
          "729",
          "569",
          "786",
          "873",
          "570",
          "V667",
          "519",
          "512",
          "415",
          "V457",
          "593",
          "396",
          "365",
          "397",
          "437",
          "453",
          "E934",
          "V105",
          "459",
          "423",
          "342",
          "728",
          "782",
          "E885",
          "567",
          "V173",
          "295",
          "860",
          "583",
          "714",
          "196",
          "V153",
          "492",
          "346",
          "536",
          "537",
          "V433",
          "568",
          "557",
          "V090",
          "710",
          "292",
          "304",
          "V127",
          "289",
          "999",
          "253",
          "V707",
          "515",
          "E880",
          "478",
          "802",
          "E932",
          "238",
          "349",
          "801",
          "333",
          "430",
          "V451",
          "E933",
          "398",
          "042",
          "781",
          "531",
          "211",
          "432",
          "721",
          "V440",
          "719",
          "V101",
          "745",
          "429",
          "746",
          "155",
          "965",
          "716",
          "737",
          "532",
          "730",
          "693",
          "451",
          "V120",
          "332",
          "E950",
          "344",
          "861",
          "V874",
          "356",
          "V422",
          "455",
          "E812",
          "V497",
          "E930",
          "V462",
          "E947",
          "369",
          "V130",
          "202",
          "E935",
          "722",
          "851",
          "309",
          "V441",
          "808",
          "444",
          "783",
          "E942",
          "E884",
          "E870",
          "573",
          "575",
          "442",
          "596",
          "556",
          "E816",
          "865",
          "277",
          "591",
          "696",
          "820",
          "864",
          "E928",
          "421",
          "V08",
          "340",
          "555",
          "290",
          "281",
          "189",
          "191",
          "368",
          "251",
          "958",
          "813",
          "185",
          "969",
          "389",
          "V420",
          "794",
          "255",
          "868",
          "242",
          "E939",
          "355",
          "588",
          "241",
          "V600",
          "934",
          "452",
          "592",
          "266",
          "205",
          "725",
          "447",
          "806",
          "V442",
          "307",
          "510",
          "552",
          "203",
          "823",
          "150",
          "579",
          "494",
          "204",
          "225",
          "337",
          "157",
          "810",
          "812",
          "V533",
          "V428",
          "E850",
          "283",
          "867",
          "723",
          "420",
          "V443",
          "E929",
          "753",
          "273",
          "153",
          "853",
          "582",
          "252",
          "054",
          "590",
          "V854",
          "446",
          "V880",
          "V454",
          "821",
          "314",
          "920",
          "824",
          "924",
          "135",
          "473",
          "282",
          "V641",
          "394",
          "533",
          "481",
          "558",
          "933",
          "V452",
          "284",
          "695",
          "V025",
          "E814",
          "151",
          "692",
          "366",
          "V160",
          "200",
          "V180",
          "V853",
          "457",
          "800",
          "V107",
          "E912",
          "336",
          "756",
          "792",
          "V155",
          "261",
          "514",
          "319",
          "372",
          "V588",
          "811",
          "E815",
          "V644",
          "501",
          "V174",
          "648",
          "909",
          "747",
          "199",
          "218",
          "351",
          "201",
          "487",
          "117",
          "E915",
          "079",
          "698",
          "528",
          "228",
          "709",
          "466",
          "E931",
          "731",
          "711",
          "V541",
          "522",
          "E937",
          "V098",
          "V461",
          "465",
          "862",
          "268",
          "279",
          "863",
          "E936",
          "E938",
          "866",
          "V427",
          "751",
          "736",
          "V102",
          "E854",
          "359",
          "324",
          "E944",
          "301",
          "881",
          "249",
          "521",
          "891",
          "110",
          "V628",
          "713",
          "V453",
          "402",
          "053",
          "379",
          "435",
          "E881",
          "188",
          "174",
          "298",
          "078",
          "550",
          "V850",
          "358",
          "386",
          "V581",
          "907",
          "793",
          "V113",
          "V550",
          "796",
          "607",
          "759",
          "517",
          "980",
          "320",
          "738",
          "E819",
          "816",
          "611",
          "726",
          "E858",
          "E917",
          "516",
          "E980",
          "963",
          "935",
          "V463",
          "212",
          "154",
          "237",
          "E813",
          "271",
          "E823",
          "354",
          "E853",
          "E966",
          "850",
          "921",
          "791",
          "916",
          "477",
          "183",
          "317",
          "V456",
          "902",
          "E941",
          "239",
          "E968",
          "642",
          "V444",
          "758",
          "815",
          "V270",
          "991",
          "136",
          "972",
          "967",
          "E960",
          "156",
          "377",
          "882",
          "V135",
          "922",
          "903",
          "227",
          "V553",
          "378",
          "839",
          "E882",
          "404",
          "910",
          "343",
          "959",
          "V161",
          "525",
          "870",
          "804",
          "V150",
          "712",
          "V109",
          "V851",
          "620",
          "484",
          "040",
          "V071",
          "V551",
          "825",
          "774",
          "E919",
          "580",
          "374",
          "V163",
          "350",
          "464",
          "623",
          "581",
          "803",
          "704",
          "534",
          "523",
          "874",
          "V552",
          "382",
          "955",
          "795",
          "626",
          "508",
          "270",
          "966",
          "V154",
          "513",
          "608",
          "880",
          "172",
          "741",
          "262",
          "625",
          "720",
          "322",
          "454",
          "644",
          "V642",
          "335",
          "883",
          "297",
          "E826",
          "619",
          "490",
          "E956",
          "666",
          "V140",
          "209",
          "334",
          "674",
          "364",
          "E911",
          "814",
          "614",
          "388",
          "E965",
          "831",
          "318",
          "240",
          "V290",
          "854",
          "598",
          "540",
          "480",
          "595",
          "323",
          "872",
          "E920",
          "047",
          "923",
          "461",
          "918",
          "V446",
          "681",
          "E855",
          "770",
          "901",
          "962",
          "V148",
          "138",
          "373",
          "727",
          "659",
          "395",
          "193",
          "E860",
          "968",
          "742",
          "361",
          "748",
          "V053",
          "485",
          "E901",
          "E825",
          "V026",
          "565",
          "844",
          "617",
          "927",
          "E852",
          "952",
          "826",
          "765",
          "V643",
          "529",
          "158",
          "V654",
          "641",
          "V106",
          "310",
          "V171",
          "647",
          "405",
          "315",
          "718",
          "524",
          "646",
          "879",
          "905",
          "904",
          "353",
          "V038",
          "152",
          "V168",
          "705",
          "527",
          "245",
          "669",
          "031",
          "836",
          "913",
          "380",
          "V632",
          "141",
          "E818",
          "383",
          "840",
          "233",
          "618",
          "269",
          "V265",
          "V029",
          "111",
          "906",
          "V496",
          "235",
          "V554",
          "E876",
          "970",
          "299",
          "370",
          "009",
          "948",
          "975",
          "034",
          "161",
          "E945",
          "703",
          "754",
          "E821",
          "V124",
          "236",
          "V620",
          "376",
          "147",
          "919",
          "257",
          "V152",
          "326",
          "462",
          "912",
          "627",
          "V145",
          "654",
          "652",
          "E953",
          "230",
          "750",
          "182",
          "325",
          "422",
          "686",
          "601",
          "822",
          "701",
          "971",
          "385",
          "259",
          "E924",
          "V425",
          "164",
          "208",
          "E969",
          "V555",
          "V126",
          "E922",
          "706",
          "V548",
          "594",
          "V142",
          "V852",
          "708",
          "622",
          "139",
          "246",
          "732",
          "604",
          "194",
          "E946",
          "E943",
          "673",
          "049",
          "752",
          "928",
          "890",
          "936",
          "256",
          "V431",
          "V653",
          "587",
          "502",
          "171",
          "308",
          "088",
          "621",
          "989",
          "830",
          "220",
          "214",
          "013",
          "215",
          "885",
          "832",
          "V048",
          "835",
          "603",
          "945",
          "032",
          "144",
          "834",
          "V011",
          "908",
          "E955",
          "V136",
          "694",
          "776",
          "V445",
          "180",
          "E828",
          "847",
          "769",
          "950",
          "094",
          "V166",
          "680",
          "E918",
          "375",
          "E871",
          "E958",
          "817",
          "E967",
          "878",
          "E887",
          "347",
          "897",
          "448",
          "649",
          "312",
          "900",
          "V714",
          "170",
          "027",
          "339",
          "265",
          "E906",
          "207",
          "084",
          "E891",
          "672",
          "V502",
          "488",
          "449",
          "772",
          "E916",
          "892",
          "982",
          "007",
          "886",
          "133",
          "417",
          "436",
          "778",
          "075",
          "091",
          "120",
          "956",
          "957",
          "V626",
          "755",
          "130",
          "914",
          "V151",
          "664",
          "951",
          "953",
          "983",
          "586",
          "691",
          "E883",
          "702",
          "E000",
          "887",
          "004",
          "474",
          "160",
          "475",
          "634",
          "994",
          "363",
          "123",
          "140",
          "875",
          "195",
          "846",
          "302",
          "V175",
          "360",
          "663",
          "566",
          "184",
          "V074",
          "V434",
          "V162",
          "V099",
          "605",
          "V625",
          "V167",
          "E007",
          "926",
          "541",
          "616",
          "947",
          "942",
          "V556",
          "V164",
          "838",
          "011",
          "V430",
          "917",
          "005",
          "036",
          "V558",
          "082",
          "819",
          "142",
          "700",
          "877",
          "E866",
          "543",
          "964",
          "048",
          "E987",
          "391",
          "893",
          "671",
          "321",
          "V838",
          "632",
          "E804",
          "697",
          "683",
          "E988",
          "V185",
          "V908",
          "097",
          "E824",
          "668",
          "734",
          "352",
          "V672",
          "939",
          "520",
          "E848",
          "V671",
          "159",
          "665",
          "643",
          "589",
          "779",
          "763",
          "E886",
          "V708",
          "973",
          "E970",
          "E002",
          "506",
          "217",
          "V449",
          "768",
          "E834",
          "E835",
          "226",
          "775",
          "V596",
          "163",
          "597",
          "615",
          "E838",
          "V655",
          "114",
          "260",
          "187",
          "V703",
          "470",
          "V421",
          "472",
          "E006",
          "115",
          "143",
          "015",
          "258",
          "V716",
          "871",
          "974",
          "V540",
          "670",
          "148",
          "976",
          "651",
          "118",
          "624",
          "V141",
          "V542",
          "V252",
          "538",
          "V272",
          "306",
          "V765",
          "E874",
          "602",
          "145",
          "V058",
          "E840",
          "V882",
          "E959",
          "341",
          "660",
          "330",
          "V146",
          "012",
          "539",
          "915",
          "495",
          "658",
          "V583",
          "V539",
          "946",
          "132",
          "122",
          "V601",
          "V560",
          "471",
          "E811",
          "232",
          "V489",
          "833",
          "V165",
          "E927",
          "V611",
          "743",
          "E801",
          "E817",
          "146",
          "V537",
          "E940",
          "V066",
          "V300",
          "221",
          "735",
          "744",
          "526",
          "845",
          "E908",
          "V587",
          "V614",
          "690",
          "121",
          "E976",
          "828",
          "977",
          "173",
          "086",
          "E001",
          "V694",
          "099",
          "V170",
          "E008",
          "V018",
          "911",
          "V741",
          "V840",
          "021",
          "381",
          "E905"
         ],
         "xaxis": "x",
         "y": [
          3759,
          2879,
          2653,
          2544,
          2450,
          2230,
          2199,
          2116,
          1830,
          1824,
          1249,
          1182,
          1128,
          1124,
          1111,
          1057,
          991,
          989,
          934,
          909,
          905,
          862,
          833,
          826,
          824,
          787,
          771,
          756,
          749,
          688,
          676,
          651,
          594,
          583,
          573,
          563,
          547,
          535,
          532,
          508,
          505,
          504,
          481,
          480,
          467,
          451,
          451,
          449,
          446,
          420,
          415,
          401,
          375,
          370,
          361,
          353,
          350,
          345,
          343,
          343,
          342,
          341,
          334,
          328,
          315,
          310,
          310,
          309,
          305,
          300,
          288,
          287,
          285,
          275,
          274,
          266,
          257,
          255,
          255,
          254,
          250,
          248,
          247,
          245,
          244,
          243,
          243,
          242,
          240,
          239,
          234,
          233,
          233,
          231,
          225,
          224,
          217,
          216,
          208,
          208,
          206,
          206,
          206,
          204,
          200,
          199,
          198,
          194,
          194,
          191,
          187,
          180,
          178,
          173,
          172,
          172,
          172,
          169,
          169,
          166,
          162,
          162,
          161,
          151,
          146,
          146,
          145,
          144,
          144,
          144,
          139,
          136,
          135,
          135,
          134,
          134,
          133,
          129,
          128,
          126,
          125,
          124,
          122,
          122,
          121,
          120,
          119,
          119,
          118,
          118,
          117,
          117,
          116,
          114,
          111,
          110,
          109,
          108,
          107,
          106,
          103,
          103,
          100,
          100,
          100,
          99,
          98,
          97,
          96,
          95,
          94,
          94,
          93,
          92,
          92,
          91,
          91,
          90,
          90,
          90,
          87,
          85,
          84,
          83,
          82,
          81,
          81,
          81,
          81,
          79,
          78,
          77,
          77,
          77,
          76,
          76,
          76,
          76,
          75,
          75,
          75,
          75,
          74,
          73,
          73,
          73,
          73,
          73,
          72,
          72,
          72,
          71,
          70,
          70,
          69,
          68,
          67,
          67,
          65,
          65,
          64,
          64,
          63,
          63,
          63,
          62,
          62,
          62,
          62,
          61,
          61,
          60,
          60,
          60,
          60,
          59,
          58,
          58,
          56,
          56,
          56,
          55,
          53,
          52,
          52,
          52,
          51,
          51,
          51,
          51,
          51,
          50,
          50,
          50,
          50,
          49,
          49,
          49,
          48,
          48,
          48,
          47,
          46,
          45,
          45,
          44,
          44,
          44,
          44,
          43,
          42,
          42,
          42,
          42,
          42,
          41,
          41,
          41,
          40,
          40,
          40,
          40,
          40,
          40,
          40,
          39,
          39,
          39,
          39,
          38,
          37,
          37,
          37,
          37,
          36,
          36,
          35,
          35,
          35,
          34,
          34,
          34,
          34,
          34,
          33,
          33,
          32,
          32,
          32,
          32,
          32,
          32,
          32,
          32,
          31,
          31,
          31,
          31,
          30,
          30,
          30,
          30,
          30,
          30,
          30,
          30,
          30,
          29,
          29,
          29,
          28,
          28,
          28,
          28,
          28,
          28,
          27,
          27,
          27,
          27,
          27,
          26,
          26,
          26,
          26,
          26,
          26,
          26,
          26,
          26,
          26,
          25,
          25,
          25,
          25,
          25,
          24,
          24,
          24,
          24,
          24,
          24,
          24,
          23,
          23,
          23,
          23,
          23,
          22,
          22,
          22,
          22,
          22,
          22,
          22,
          22,
          22,
          22,
          22,
          22,
          22,
          22,
          21,
          21,
          21,
          21,
          21,
          21,
          20,
          20,
          20,
          20,
          20,
          20,
          20,
          20,
          20,
          20,
          19,
          19,
          19,
          19,
          19,
          19,
          19,
          19,
          19,
          19,
          19,
          18,
          18,
          18,
          18,
          18,
          18,
          18,
          18,
          17,
          17,
          17,
          17,
          17,
          17,
          17,
          16,
          16,
          16,
          16,
          16,
          16,
          15,
          15,
          15,
          15,
          15,
          15,
          15,
          15,
          14,
          14,
          14,
          14,
          14,
          14,
          14,
          14,
          14,
          14,
          14,
          14,
          14,
          13,
          13,
          13,
          13,
          13,
          13,
          13,
          13,
          13,
          13,
          13,
          13,
          12,
          12,
          12,
          12,
          12,
          12,
          12,
          12,
          12,
          12,
          12,
          12,
          12,
          12,
          12,
          12,
          12,
          11,
          11,
          11,
          11,
          11,
          11,
          11,
          11,
          11,
          11,
          11,
          11,
          11,
          11,
          11,
          11,
          11,
          11,
          11,
          11,
          10,
          10,
          10,
          10,
          10,
          10,
          10,
          10,
          10,
          10,
          10,
          10,
          10,
          10,
          10,
          10,
          10,
          10,
          10,
          10,
          10,
          9,
          9,
          9,
          9,
          9,
          9,
          9,
          9,
          9,
          9,
          9,
          9,
          9,
          9,
          9,
          9,
          9,
          9,
          8,
          8,
          8,
          8,
          8,
          8,
          8,
          8,
          8,
          8,
          8,
          8,
          8,
          8,
          8,
          8,
          8,
          8,
          8,
          8,
          8,
          8,
          7,
          7,
          7,
          7,
          7,
          7,
          7,
          7,
          7,
          7,
          7,
          7,
          7,
          7,
          7,
          7,
          7,
          7,
          7,
          7,
          7,
          7,
          7,
          7,
          7,
          7,
          7,
          6,
          6,
          6,
          6,
          6,
          6,
          6,
          6,
          6,
          6,
          6,
          6,
          6,
          6,
          6,
          6,
          6,
          6,
          6,
          6,
          6,
          6,
          6,
          6,
          6,
          6,
          6,
          6,
          6,
          6,
          6,
          6,
          5,
          5,
          5,
          5,
          5,
          5,
          5,
          5,
          5,
          5,
          5,
          5,
          5,
          5,
          5,
          5,
          5,
          5,
          5,
          5,
          5,
          5,
          5,
          5,
          5,
          5,
          5,
          5,
          5,
          4,
          4,
          4,
          4,
          4,
          4,
          4,
          4,
          4,
          4,
          4,
          4,
          4,
          4,
          4,
          4,
          4,
          4,
          4,
          4,
          4,
          4,
          4,
          4,
          4,
          4,
          4,
          4,
          4,
          4,
          4,
          4,
          4,
          4,
          4,
          4,
          4,
          4,
          4,
          4,
          4,
          4,
          4,
          4,
          3,
          3,
          3,
          3,
          3,
          3,
          3,
          3,
          3,
          3,
          3,
          3,
          3,
          3,
          3,
          3,
          3,
          3,
          3,
          3,
          3,
          3,
          3,
          3,
          3,
          3,
          3,
          3,
          3,
          3,
          3,
          3,
          3,
          3,
          3,
          3,
          3,
          3,
          3,
          3,
          3,
          3,
          3,
          3,
          3,
          3,
          3,
          3,
          3,
          3,
          3,
          3,
          3,
          3,
          3,
          3,
          3,
          3,
          3,
          3,
          3,
          3,
          3,
          3,
          3,
          3,
          3,
          3,
          3,
          3,
          3,
          3,
          3,
          3,
          3,
          3,
          2,
          2,
          2,
          2,
          2,
          2,
          2,
          2,
          2,
          2,
          2,
          2,
          2,
          2,
          2,
          2,
          2,
          2,
          2,
          2,
          2,
          2,
          2,
          2,
          2,
          2,
          2,
          2,
          2,
          2,
          2,
          2,
          2,
          2,
          2,
          2,
          2,
          2,
          2,
          2,
          2,
          2,
          2,
          2,
          2,
          2,
          2,
          2,
          2,
          2,
          2,
          2,
          2,
          2,
          2,
          2,
          2,
          2,
          2,
          2,
          2,
          2,
          2,
          2,
          2,
          2,
          2,
          2,
          2,
          2,
          2,
          2,
          2,
          2,
          2,
          2,
          2,
          2,
          2,
          2,
          2,
          2,
          1,
          1,
          1,
          1,
          1,
          1,
          1,
          1,
          1,
          1,
          1,
          1,
          1,
          1,
          1,
          1,
          1,
          1,
          1,
          1,
          1,
          1,
          1,
          1,
          1,
          1,
          1,
          1,
          1,
          1,
          1,
          1,
          1,
          1,
          1,
          1,
          1,
          1,
          1,
          1,
          1,
          1,
          1,
          1,
          1,
          1,
          1,
          1,
          1,
          1,
          1,
          1,
          1,
          1,
          1,
          1,
          1,
          1,
          1,
          1,
          1,
          1,
          1,
          1,
          1,
          1,
          1,
          1,
          1,
          1,
          1,
          1,
          1,
          1,
          1,
          1,
          1,
          1,
          1,
          1,
          1,
          1,
          1,
          1,
          1,
          1,
          1,
          1,
          1,
          1,
          1,
          1,
          1,
          1,
          1,
          1,
          1,
          1,
          1,
          1,
          1,
          1,
          1,
          1,
          1,
          1,
          1,
          1,
          1,
          1,
          1,
          1,
          1,
          1,
          1,
          1,
          1,
          1,
          1,
          1,
          1,
          1,
          1,
          1,
          1,
          1,
          1,
          1,
          1,
          1,
          1,
          1,
          1,
          1,
          1,
          1,
          1,
          1,
          1,
          1,
          1,
          1,
          1,
          1,
          1,
          1,
          1
         ],
         "yaxis": "y"
        }
       ],
       "layout": {
        "barmode": "relative",
        "height": 400,
        "legend": {
         "tracegroupgap": 0
        },
        "margin": {
         "t": 60
        },
        "template": {
         "data": {
          "bar": [
           {
            "error_x": {
             "color": "#2a3f5f"
            },
            "error_y": {
             "color": "#2a3f5f"
            },
            "marker": {
             "line": {
              "color": "#E5ECF6",
              "width": 0.5
             },
             "pattern": {
              "fillmode": "overlay",
              "size": 10,
              "solidity": 0.2
             }
            },
            "type": "bar"
           }
          ],
          "barpolar": [
           {
            "marker": {
             "line": {
              "color": "#E5ECF6",
              "width": 0.5
             },
             "pattern": {
              "fillmode": "overlay",
              "size": 10,
              "solidity": 0.2
             }
            },
            "type": "barpolar"
           }
          ],
          "carpet": [
           {
            "aaxis": {
             "endlinecolor": "#2a3f5f",
             "gridcolor": "white",
             "linecolor": "white",
             "minorgridcolor": "white",
             "startlinecolor": "#2a3f5f"
            },
            "baxis": {
             "endlinecolor": "#2a3f5f",
             "gridcolor": "white",
             "linecolor": "white",
             "minorgridcolor": "white",
             "startlinecolor": "#2a3f5f"
            },
            "type": "carpet"
           }
          ],
          "choropleth": [
           {
            "colorbar": {
             "outlinewidth": 0,
             "ticks": ""
            },
            "type": "choropleth"
           }
          ],
          "contour": [
           {
            "colorbar": {
             "outlinewidth": 0,
             "ticks": ""
            },
            "colorscale": [
             [
              0,
              "#0d0887"
             ],
             [
              0.1111111111111111,
              "#46039f"
             ],
             [
              0.2222222222222222,
              "#7201a8"
             ],
             [
              0.3333333333333333,
              "#9c179e"
             ],
             [
              0.4444444444444444,
              "#bd3786"
             ],
             [
              0.5555555555555556,
              "#d8576b"
             ],
             [
              0.6666666666666666,
              "#ed7953"
             ],
             [
              0.7777777777777778,
              "#fb9f3a"
             ],
             [
              0.8888888888888888,
              "#fdca26"
             ],
             [
              1,
              "#f0f921"
             ]
            ],
            "type": "contour"
           }
          ],
          "contourcarpet": [
           {
            "colorbar": {
             "outlinewidth": 0,
             "ticks": ""
            },
            "type": "contourcarpet"
           }
          ],
          "heatmap": [
           {
            "colorbar": {
             "outlinewidth": 0,
             "ticks": ""
            },
            "colorscale": [
             [
              0,
              "#0d0887"
             ],
             [
              0.1111111111111111,
              "#46039f"
             ],
             [
              0.2222222222222222,
              "#7201a8"
             ],
             [
              0.3333333333333333,
              "#9c179e"
             ],
             [
              0.4444444444444444,
              "#bd3786"
             ],
             [
              0.5555555555555556,
              "#d8576b"
             ],
             [
              0.6666666666666666,
              "#ed7953"
             ],
             [
              0.7777777777777778,
              "#fb9f3a"
             ],
             [
              0.8888888888888888,
              "#fdca26"
             ],
             [
              1,
              "#f0f921"
             ]
            ],
            "type": "heatmap"
           }
          ],
          "heatmapgl": [
           {
            "colorbar": {
             "outlinewidth": 0,
             "ticks": ""
            },
            "colorscale": [
             [
              0,
              "#0d0887"
             ],
             [
              0.1111111111111111,
              "#46039f"
             ],
             [
              0.2222222222222222,
              "#7201a8"
             ],
             [
              0.3333333333333333,
              "#9c179e"
             ],
             [
              0.4444444444444444,
              "#bd3786"
             ],
             [
              0.5555555555555556,
              "#d8576b"
             ],
             [
              0.6666666666666666,
              "#ed7953"
             ],
             [
              0.7777777777777778,
              "#fb9f3a"
             ],
             [
              0.8888888888888888,
              "#fdca26"
             ],
             [
              1,
              "#f0f921"
             ]
            ],
            "type": "heatmapgl"
           }
          ],
          "histogram": [
           {
            "marker": {
             "pattern": {
              "fillmode": "overlay",
              "size": 10,
              "solidity": 0.2
             }
            },
            "type": "histogram"
           }
          ],
          "histogram2d": [
           {
            "colorbar": {
             "outlinewidth": 0,
             "ticks": ""
            },
            "colorscale": [
             [
              0,
              "#0d0887"
             ],
             [
              0.1111111111111111,
              "#46039f"
             ],
             [
              0.2222222222222222,
              "#7201a8"
             ],
             [
              0.3333333333333333,
              "#9c179e"
             ],
             [
              0.4444444444444444,
              "#bd3786"
             ],
             [
              0.5555555555555556,
              "#d8576b"
             ],
             [
              0.6666666666666666,
              "#ed7953"
             ],
             [
              0.7777777777777778,
              "#fb9f3a"
             ],
             [
              0.8888888888888888,
              "#fdca26"
             ],
             [
              1,
              "#f0f921"
             ]
            ],
            "type": "histogram2d"
           }
          ],
          "histogram2dcontour": [
           {
            "colorbar": {
             "outlinewidth": 0,
             "ticks": ""
            },
            "colorscale": [
             [
              0,
              "#0d0887"
             ],
             [
              0.1111111111111111,
              "#46039f"
             ],
             [
              0.2222222222222222,
              "#7201a8"
             ],
             [
              0.3333333333333333,
              "#9c179e"
             ],
             [
              0.4444444444444444,
              "#bd3786"
             ],
             [
              0.5555555555555556,
              "#d8576b"
             ],
             [
              0.6666666666666666,
              "#ed7953"
             ],
             [
              0.7777777777777778,
              "#fb9f3a"
             ],
             [
              0.8888888888888888,
              "#fdca26"
             ],
             [
              1,
              "#f0f921"
             ]
            ],
            "type": "histogram2dcontour"
           }
          ],
          "mesh3d": [
           {
            "colorbar": {
             "outlinewidth": 0,
             "ticks": ""
            },
            "type": "mesh3d"
           }
          ],
          "parcoords": [
           {
            "line": {
             "colorbar": {
              "outlinewidth": 0,
              "ticks": ""
             }
            },
            "type": "parcoords"
           }
          ],
          "pie": [
           {
            "automargin": true,
            "type": "pie"
           }
          ],
          "scatter": [
           {
            "fillpattern": {
             "fillmode": "overlay",
             "size": 10,
             "solidity": 0.2
            },
            "type": "scatter"
           }
          ],
          "scatter3d": [
           {
            "line": {
             "colorbar": {
              "outlinewidth": 0,
              "ticks": ""
             }
            },
            "marker": {
             "colorbar": {
              "outlinewidth": 0,
              "ticks": ""
             }
            },
            "type": "scatter3d"
           }
          ],
          "scattercarpet": [
           {
            "marker": {
             "colorbar": {
              "outlinewidth": 0,
              "ticks": ""
             }
            },
            "type": "scattercarpet"
           }
          ],
          "scattergeo": [
           {
            "marker": {
             "colorbar": {
              "outlinewidth": 0,
              "ticks": ""
             }
            },
            "type": "scattergeo"
           }
          ],
          "scattergl": [
           {
            "marker": {
             "colorbar": {
              "outlinewidth": 0,
              "ticks": ""
             }
            },
            "type": "scattergl"
           }
          ],
          "scattermapbox": [
           {
            "marker": {
             "colorbar": {
              "outlinewidth": 0,
              "ticks": ""
             }
            },
            "type": "scattermapbox"
           }
          ],
          "scatterpolar": [
           {
            "marker": {
             "colorbar": {
              "outlinewidth": 0,
              "ticks": ""
             }
            },
            "type": "scatterpolar"
           }
          ],
          "scatterpolargl": [
           {
            "marker": {
             "colorbar": {
              "outlinewidth": 0,
              "ticks": ""
             }
            },
            "type": "scatterpolargl"
           }
          ],
          "scatterternary": [
           {
            "marker": {
             "colorbar": {
              "outlinewidth": 0,
              "ticks": ""
             }
            },
            "type": "scatterternary"
           }
          ],
          "surface": [
           {
            "colorbar": {
             "outlinewidth": 0,
             "ticks": ""
            },
            "colorscale": [
             [
              0,
              "#0d0887"
             ],
             [
              0.1111111111111111,
              "#46039f"
             ],
             [
              0.2222222222222222,
              "#7201a8"
             ],
             [
              0.3333333333333333,
              "#9c179e"
             ],
             [
              0.4444444444444444,
              "#bd3786"
             ],
             [
              0.5555555555555556,
              "#d8576b"
             ],
             [
              0.6666666666666666,
              "#ed7953"
             ],
             [
              0.7777777777777778,
              "#fb9f3a"
             ],
             [
              0.8888888888888888,
              "#fdca26"
             ],
             [
              1,
              "#f0f921"
             ]
            ],
            "type": "surface"
           }
          ],
          "table": [
           {
            "cells": {
             "fill": {
              "color": "#EBF0F8"
             },
             "line": {
              "color": "white"
             }
            },
            "header": {
             "fill": {
              "color": "#C8D4E3"
             },
             "line": {
              "color": "white"
             }
            },
            "type": "table"
           }
          ]
         },
         "layout": {
          "annotationdefaults": {
           "arrowcolor": "#2a3f5f",
           "arrowhead": 0,
           "arrowwidth": 1
          },
          "autotypenumbers": "strict",
          "coloraxis": {
           "colorbar": {
            "outlinewidth": 0,
            "ticks": ""
           }
          },
          "colorscale": {
           "diverging": [
            [
             0,
             "#8e0152"
            ],
            [
             0.1,
             "#c51b7d"
            ],
            [
             0.2,
             "#de77ae"
            ],
            [
             0.3,
             "#f1b6da"
            ],
            [
             0.4,
             "#fde0ef"
            ],
            [
             0.5,
             "#f7f7f7"
            ],
            [
             0.6,
             "#e6f5d0"
            ],
            [
             0.7,
             "#b8e186"
            ],
            [
             0.8,
             "#7fbc41"
            ],
            [
             0.9,
             "#4d9221"
            ],
            [
             1,
             "#276419"
            ]
           ],
           "sequential": [
            [
             0,
             "#0d0887"
            ],
            [
             0.1111111111111111,
             "#46039f"
            ],
            [
             0.2222222222222222,
             "#7201a8"
            ],
            [
             0.3333333333333333,
             "#9c179e"
            ],
            [
             0.4444444444444444,
             "#bd3786"
            ],
            [
             0.5555555555555556,
             "#d8576b"
            ],
            [
             0.6666666666666666,
             "#ed7953"
            ],
            [
             0.7777777777777778,
             "#fb9f3a"
            ],
            [
             0.8888888888888888,
             "#fdca26"
            ],
            [
             1,
             "#f0f921"
            ]
           ],
           "sequentialminus": [
            [
             0,
             "#0d0887"
            ],
            [
             0.1111111111111111,
             "#46039f"
            ],
            [
             0.2222222222222222,
             "#7201a8"
            ],
            [
             0.3333333333333333,
             "#9c179e"
            ],
            [
             0.4444444444444444,
             "#bd3786"
            ],
            [
             0.5555555555555556,
             "#d8576b"
            ],
            [
             0.6666666666666666,
             "#ed7953"
            ],
            [
             0.7777777777777778,
             "#fb9f3a"
            ],
            [
             0.8888888888888888,
             "#fdca26"
            ],
            [
             1,
             "#f0f921"
            ]
           ]
          },
          "colorway": [
           "#636efa",
           "#EF553B",
           "#00cc96",
           "#ab63fa",
           "#FFA15A",
           "#19d3f3",
           "#FF6692",
           "#B6E880",
           "#FF97FF",
           "#FECB52"
          ],
          "font": {
           "color": "#2a3f5f"
          },
          "geo": {
           "bgcolor": "white",
           "lakecolor": "white",
           "landcolor": "#E5ECF6",
           "showlakes": true,
           "showland": true,
           "subunitcolor": "white"
          },
          "hoverlabel": {
           "align": "left"
          },
          "hovermode": "closest",
          "mapbox": {
           "style": "light"
          },
          "paper_bgcolor": "white",
          "plot_bgcolor": "#E5ECF6",
          "polar": {
           "angularaxis": {
            "gridcolor": "white",
            "linecolor": "white",
            "ticks": ""
           },
           "bgcolor": "#E5ECF6",
           "radialaxis": {
            "gridcolor": "white",
            "linecolor": "white",
            "ticks": ""
           }
          },
          "scene": {
           "xaxis": {
            "backgroundcolor": "#E5ECF6",
            "gridcolor": "white",
            "gridwidth": 2,
            "linecolor": "white",
            "showbackground": true,
            "ticks": "",
            "zerolinecolor": "white"
           },
           "yaxis": {
            "backgroundcolor": "#E5ECF6",
            "gridcolor": "white",
            "gridwidth": 2,
            "linecolor": "white",
            "showbackground": true,
            "ticks": "",
            "zerolinecolor": "white"
           },
           "zaxis": {
            "backgroundcolor": "#E5ECF6",
            "gridcolor": "white",
            "gridwidth": 2,
            "linecolor": "white",
            "showbackground": true,
            "ticks": "",
            "zerolinecolor": "white"
           }
          },
          "shapedefaults": {
           "line": {
            "color": "#2a3f5f"
           }
          },
          "ternary": {
           "aaxis": {
            "gridcolor": "white",
            "linecolor": "white",
            "ticks": ""
           },
           "baxis": {
            "gridcolor": "white",
            "linecolor": "white",
            "ticks": ""
           },
           "bgcolor": "#E5ECF6",
           "caxis": {
            "gridcolor": "white",
            "linecolor": "white",
            "ticks": ""
           }
          },
          "title": {
           "x": 0.05
          },
          "xaxis": {
           "automargin": true,
           "gridcolor": "white",
           "linecolor": "white",
           "ticks": "",
           "title": {
            "standoff": 15
           },
           "zerolinecolor": "white",
           "zerolinewidth": 2
          },
          "yaxis": {
           "automargin": true,
           "gridcolor": "white",
           "linecolor": "white",
           "ticks": "",
           "title": {
            "standoff": 15
           },
           "zerolinecolor": "white",
           "zerolinewidth": 2
          }
         }
        },
        "title": {
         "text": "Bar Chart"
        },
        "xaxis": {
         "anchor": "y",
         "domain": [
          0,
          1
         ],
         "title": {
          "text": "Short Codes"
         }
        },
        "yaxis": {
         "anchor": "x",
         "domain": [
          0,
          1
         ],
         "title": {
          "text": "Count"
         }
        }
       }
      }
     },
     "metadata": {},
     "output_type": "display_data"
    }
   ],
   "source": [
    "import plotly.express as px\n",
    "fig = px.bar(\n",
    "    test_val_df,\n",
    "    x='short_codes',\n",
    "    y='count',\n",
    "    height=400\n",
    ")\n",
    "\n",
    "fig.update_layout(\n",
    "    title='Bar Chart',\n",
    "    xaxis_title='Short Codes',\n",
    "    yaxis_title='Count'\n",
    ")\n",
    "\n",
    "fig.show()\n",
    "\n"
   ]
  },
  {
   "cell_type": "code",
   "execution_count": 32,
   "metadata": {},
   "outputs": [],
   "source": [
    "# import matplotlib.pyplot as plt\n",
    "# plt.figure(figsize = (350,5))\n",
    "# plt.bar(test_val_df.short_codes, list(test_val_df['count']))\n",
    "\n",
    "# plt.show()"
   ]
  },
  {
   "cell_type": "markdown",
   "metadata": {},
   "source": [
    "> #### Infer all the classes with limit 1263 and weight!=1"
   ]
  },
  {
   "cell_type": "code",
   "execution_count": 33,
   "metadata": {},
   "outputs": [
    {
     "data": {
      "text/html": [
       "<div>\n",
       "<style scoped>\n",
       "    .dataframe tbody tr th:only-of-type {\n",
       "        vertical-align: middle;\n",
       "    }\n",
       "\n",
       "    .dataframe tbody tr th {\n",
       "        vertical-align: top;\n",
       "    }\n",
       "\n",
       "    .dataframe thead th {\n",
       "        text-align: right;\n",
       "    }\n",
       "</style>\n",
       "<table border=\"1\" class=\"dataframe\">\n",
       "  <thead>\n",
       "    <tr style=\"text-align: right;\">\n",
       "      <th></th>\n",
       "      <th>Symptoms</th>\n",
       "      <th>Diseases</th>\n",
       "      <th>id</th>\n",
       "      <th>icd_9_desc</th>\n",
       "      <th>text</th>\n",
       "      <th>long_texts</th>\n",
       "      <th>short_texts</th>\n",
       "      <th>discharge_summary</th>\n",
       "      <th>short_codes</th>\n",
       "      <th>num_codes</th>\n",
       "    </tr>\n",
       "  </thead>\n",
       "  <tbody>\n",
       "    <tr>\n",
       "      <th>0</th>\n",
       "      <td>[bilateral upper extremity ecchymosses, hypote...</td>\n",
       "      <td>[cryptogenic cirrhosis, afib/SSS, fatty liver ...</td>\n",
       "      <td>155525</td>\n",
       "      <td>Unspecified septicemia,Septic shock,Pneumoniti...</td>\n",
       "      <td>CHIEF COMPLAINT: L. hand hematoma\\n\\nPRESENT I...</td>\n",
       "      <td>Unspecified septicemia,Septic shock,Pneumoniti...</td>\n",
       "      <td>Septicemia NOS,Septic shock,Food/vomit pneumon...</td>\n",
       "      <td>Admission Date:  [**2171-8-2**]              D...</td>\n",
       "      <td>038</td>\n",
       "      <td>37</td>\n",
       "    </tr>\n",
       "    <tr>\n",
       "      <th>1</th>\n",
       "      <td>[bilateral upper extremity ecchymosses, hypote...</td>\n",
       "      <td>[cryptogenic cirrhosis, afib/SSS, fatty liver ...</td>\n",
       "      <td>155525</td>\n",
       "      <td>Unspecified septicemia,Septic shock,Pneumoniti...</td>\n",
       "      <td>CHIEF COMPLAINT: L. hand hematoma\\n\\nPRESENT I...</td>\n",
       "      <td>Unspecified septicemia,Septic shock,Pneumoniti...</td>\n",
       "      <td>Septicemia NOS,Septic shock,Food/vomit pneumon...</td>\n",
       "      <td>Admission Date:  [**2171-8-2**]              D...</td>\n",
       "      <td>785</td>\n",
       "      <td>37</td>\n",
       "    </tr>\n",
       "    <tr>\n",
       "      <th>2</th>\n",
       "      <td>[bilateral upper extremity ecchymosses, hypote...</td>\n",
       "      <td>[cryptogenic cirrhosis, afib/SSS, fatty liver ...</td>\n",
       "      <td>155525</td>\n",
       "      <td>Unspecified septicemia,Septic shock,Pneumoniti...</td>\n",
       "      <td>CHIEF COMPLAINT: L. hand hematoma\\n\\nPRESENT I...</td>\n",
       "      <td>Unspecified septicemia,Septic shock,Pneumoniti...</td>\n",
       "      <td>Septicemia NOS,Septic shock,Food/vomit pneumon...</td>\n",
       "      <td>Admission Date:  [**2171-8-2**]              D...</td>\n",
       "      <td>507</td>\n",
       "      <td>37</td>\n",
       "    </tr>\n",
       "    <tr>\n",
       "      <th>3</th>\n",
       "      <td>[bilateral upper extremity ecchymosses, hypote...</td>\n",
       "      <td>[cryptogenic cirrhosis, afib/SSS, fatty liver ...</td>\n",
       "      <td>155525</td>\n",
       "      <td>Unspecified septicemia,Septic shock,Pneumoniti...</td>\n",
       "      <td>CHIEF COMPLAINT: L. hand hematoma\\n\\nPRESENT I...</td>\n",
       "      <td>Unspecified septicemia,Septic shock,Pneumoniti...</td>\n",
       "      <td>Septicemia NOS,Septic shock,Food/vomit pneumon...</td>\n",
       "      <td>Admission Date:  [**2171-8-2**]              D...</td>\n",
       "      <td>518</td>\n",
       "      <td>37</td>\n",
       "    </tr>\n",
       "    <tr>\n",
       "      <th>4</th>\n",
       "      <td>[bilateral upper extremity ecchymosses, hypote...</td>\n",
       "      <td>[cryptogenic cirrhosis, afib/SSS, fatty liver ...</td>\n",
       "      <td>155525</td>\n",
       "      <td>Unspecified septicemia,Septic shock,Pneumoniti...</td>\n",
       "      <td>CHIEF COMPLAINT: L. hand hematoma\\n\\nPRESENT I...</td>\n",
       "      <td>Unspecified septicemia,Septic shock,Pneumoniti...</td>\n",
       "      <td>Septicemia NOS,Septic shock,Food/vomit pneumon...</td>\n",
       "      <td>Admission Date:  [**2171-8-2**]              D...</td>\n",
       "      <td>584</td>\n",
       "      <td>37</td>\n",
       "    </tr>\n",
       "  </tbody>\n",
       "</table>\n",
       "</div>"
      ],
      "text/plain": [
       "                                            Symptoms  \\\n",
       "0  [bilateral upper extremity ecchymosses, hypote...   \n",
       "1  [bilateral upper extremity ecchymosses, hypote...   \n",
       "2  [bilateral upper extremity ecchymosses, hypote...   \n",
       "3  [bilateral upper extremity ecchymosses, hypote...   \n",
       "4  [bilateral upper extremity ecchymosses, hypote...   \n",
       "\n",
       "                                            Diseases      id  \\\n",
       "0  [cryptogenic cirrhosis, afib/SSS, fatty liver ...  155525   \n",
       "1  [cryptogenic cirrhosis, afib/SSS, fatty liver ...  155525   \n",
       "2  [cryptogenic cirrhosis, afib/SSS, fatty liver ...  155525   \n",
       "3  [cryptogenic cirrhosis, afib/SSS, fatty liver ...  155525   \n",
       "4  [cryptogenic cirrhosis, afib/SSS, fatty liver ...  155525   \n",
       "\n",
       "                                          icd_9_desc  \\\n",
       "0  Unspecified septicemia,Septic shock,Pneumoniti...   \n",
       "1  Unspecified septicemia,Septic shock,Pneumoniti...   \n",
       "2  Unspecified septicemia,Septic shock,Pneumoniti...   \n",
       "3  Unspecified septicemia,Septic shock,Pneumoniti...   \n",
       "4  Unspecified septicemia,Septic shock,Pneumoniti...   \n",
       "\n",
       "                                                text  \\\n",
       "0  CHIEF COMPLAINT: L. hand hematoma\\n\\nPRESENT I...   \n",
       "1  CHIEF COMPLAINT: L. hand hematoma\\n\\nPRESENT I...   \n",
       "2  CHIEF COMPLAINT: L. hand hematoma\\n\\nPRESENT I...   \n",
       "3  CHIEF COMPLAINT: L. hand hematoma\\n\\nPRESENT I...   \n",
       "4  CHIEF COMPLAINT: L. hand hematoma\\n\\nPRESENT I...   \n",
       "\n",
       "                                          long_texts  \\\n",
       "0  Unspecified septicemia,Septic shock,Pneumoniti...   \n",
       "1  Unspecified septicemia,Septic shock,Pneumoniti...   \n",
       "2  Unspecified septicemia,Septic shock,Pneumoniti...   \n",
       "3  Unspecified septicemia,Septic shock,Pneumoniti...   \n",
       "4  Unspecified septicemia,Septic shock,Pneumoniti...   \n",
       "\n",
       "                                         short_texts  \\\n",
       "0  Septicemia NOS,Septic shock,Food/vomit pneumon...   \n",
       "1  Septicemia NOS,Septic shock,Food/vomit pneumon...   \n",
       "2  Septicemia NOS,Septic shock,Food/vomit pneumon...   \n",
       "3  Septicemia NOS,Septic shock,Food/vomit pneumon...   \n",
       "4  Septicemia NOS,Septic shock,Food/vomit pneumon...   \n",
       "\n",
       "                                   discharge_summary short_codes  num_codes  \n",
       "0  Admission Date:  [**2171-8-2**]              D...         038         37  \n",
       "1  Admission Date:  [**2171-8-2**]              D...         785         37  \n",
       "2  Admission Date:  [**2171-8-2**]              D...         507         37  \n",
       "3  Admission Date:  [**2171-8-2**]              D...         518         37  \n",
       "4  Admission Date:  [**2171-8-2**]              D...         584         37  "
      ]
     },
     "execution_count": 33,
     "metadata": {},
     "output_type": "execute_result"
    }
   ],
   "source": [
    "test_df.head()"
   ]
  },
  {
   "cell_type": "code",
   "execution_count": 34,
   "metadata": {},
   "outputs": [
    {
     "name": "stdout",
     "output_type": "stream",
     "text": [
      "No. of Short Codes : 998\n"
     ]
    },
    {
     "data": {
      "text/html": [
       "<div>\n",
       "<style scoped>\n",
       "    .dataframe tbody tr th:only-of-type {\n",
       "        vertical-align: middle;\n",
       "    }\n",
       "\n",
       "    .dataframe tbody tr th {\n",
       "        vertical-align: top;\n",
       "    }\n",
       "\n",
       "    .dataframe thead th {\n",
       "        text-align: right;\n",
       "    }\n",
       "</style>\n",
       "<table border=\"1\" class=\"dataframe\">\n",
       "  <thead>\n",
       "    <tr style=\"text-align: right;\">\n",
       "      <th></th>\n",
       "      <th>id</th>\n",
       "      <th>num_codes</th>\n",
       "      <th>004</th>\n",
       "      <th>005</th>\n",
       "      <th>007</th>\n",
       "      <th>008</th>\n",
       "      <th>009</th>\n",
       "      <th>011</th>\n",
       "      <th>012</th>\n",
       "      <th>013</th>\n",
       "      <th>...</th>\n",
       "      <th>V840</th>\n",
       "      <th>V850</th>\n",
       "      <th>V851</th>\n",
       "      <th>V852</th>\n",
       "      <th>V853</th>\n",
       "      <th>V854</th>\n",
       "      <th>V874</th>\n",
       "      <th>V880</th>\n",
       "      <th>V882</th>\n",
       "      <th>V908</th>\n",
       "    </tr>\n",
       "  </thead>\n",
       "  <tbody>\n",
       "    <tr>\n",
       "      <th>0</th>\n",
       "      <td>155525</td>\n",
       "      <td>37</td>\n",
       "      <td>0</td>\n",
       "      <td>0</td>\n",
       "      <td>0</td>\n",
       "      <td>0</td>\n",
       "      <td>0</td>\n",
       "      <td>0</td>\n",
       "      <td>0</td>\n",
       "      <td>0</td>\n",
       "      <td>...</td>\n",
       "      <td>0</td>\n",
       "      <td>0</td>\n",
       "      <td>0</td>\n",
       "      <td>0</td>\n",
       "      <td>0</td>\n",
       "      <td>0</td>\n",
       "      <td>0</td>\n",
       "      <td>0</td>\n",
       "      <td>0</td>\n",
       "      <td>0</td>\n",
       "    </tr>\n",
       "    <tr>\n",
       "      <th>1</th>\n",
       "      <td>155525</td>\n",
       "      <td>37</td>\n",
       "      <td>0</td>\n",
       "      <td>0</td>\n",
       "      <td>0</td>\n",
       "      <td>0</td>\n",
       "      <td>0</td>\n",
       "      <td>0</td>\n",
       "      <td>0</td>\n",
       "      <td>0</td>\n",
       "      <td>...</td>\n",
       "      <td>0</td>\n",
       "      <td>0</td>\n",
       "      <td>0</td>\n",
       "      <td>0</td>\n",
       "      <td>0</td>\n",
       "      <td>0</td>\n",
       "      <td>0</td>\n",
       "      <td>0</td>\n",
       "      <td>0</td>\n",
       "      <td>0</td>\n",
       "    </tr>\n",
       "    <tr>\n",
       "      <th>2</th>\n",
       "      <td>155525</td>\n",
       "      <td>37</td>\n",
       "      <td>0</td>\n",
       "      <td>0</td>\n",
       "      <td>0</td>\n",
       "      <td>0</td>\n",
       "      <td>0</td>\n",
       "      <td>0</td>\n",
       "      <td>0</td>\n",
       "      <td>0</td>\n",
       "      <td>...</td>\n",
       "      <td>0</td>\n",
       "      <td>0</td>\n",
       "      <td>0</td>\n",
       "      <td>0</td>\n",
       "      <td>0</td>\n",
       "      <td>0</td>\n",
       "      <td>0</td>\n",
       "      <td>0</td>\n",
       "      <td>0</td>\n",
       "      <td>0</td>\n",
       "    </tr>\n",
       "    <tr>\n",
       "      <th>3</th>\n",
       "      <td>155525</td>\n",
       "      <td>37</td>\n",
       "      <td>0</td>\n",
       "      <td>0</td>\n",
       "      <td>0</td>\n",
       "      <td>0</td>\n",
       "      <td>0</td>\n",
       "      <td>0</td>\n",
       "      <td>0</td>\n",
       "      <td>0</td>\n",
       "      <td>...</td>\n",
       "      <td>0</td>\n",
       "      <td>0</td>\n",
       "      <td>0</td>\n",
       "      <td>0</td>\n",
       "      <td>0</td>\n",
       "      <td>0</td>\n",
       "      <td>0</td>\n",
       "      <td>0</td>\n",
       "      <td>0</td>\n",
       "      <td>0</td>\n",
       "    </tr>\n",
       "    <tr>\n",
       "      <th>4</th>\n",
       "      <td>155525</td>\n",
       "      <td>37</td>\n",
       "      <td>0</td>\n",
       "      <td>0</td>\n",
       "      <td>0</td>\n",
       "      <td>0</td>\n",
       "      <td>0</td>\n",
       "      <td>0</td>\n",
       "      <td>0</td>\n",
       "      <td>0</td>\n",
       "      <td>...</td>\n",
       "      <td>0</td>\n",
       "      <td>0</td>\n",
       "      <td>0</td>\n",
       "      <td>0</td>\n",
       "      <td>0</td>\n",
       "      <td>0</td>\n",
       "      <td>0</td>\n",
       "      <td>0</td>\n",
       "      <td>0</td>\n",
       "      <td>0</td>\n",
       "    </tr>\n",
       "  </tbody>\n",
       "</table>\n",
       "<p>5 rows × 1000 columns</p>\n",
       "</div>"
      ],
      "text/plain": [
       "       id  num_codes  004  005  007  008  009  011  012  013  ...  V840  V850  \\\n",
       "0  155525         37    0    0    0    0    0    0    0    0  ...     0     0   \n",
       "1  155525         37    0    0    0    0    0    0    0    0  ...     0     0   \n",
       "2  155525         37    0    0    0    0    0    0    0    0  ...     0     0   \n",
       "3  155525         37    0    0    0    0    0    0    0    0  ...     0     0   \n",
       "4  155525         37    0    0    0    0    0    0    0    0  ...     0     0   \n",
       "\n",
       "   V851  V852  V853  V854  V874  V880  V882  V908  \n",
       "0     0     0     0     0     0     0     0     0  \n",
       "1     0     0     0     0     0     0     0     0  \n",
       "2     0     0     0     0     0     0     0     0  \n",
       "3     0     0     0     0     0     0     0     0  \n",
       "4     0     0     0     0     0     0     0     0  \n",
       "\n",
       "[5 rows x 1000 columns]"
      ]
     },
     "execution_count": 34,
     "metadata": {},
     "output_type": "execute_result"
    }
   ],
   "source": [
    "all_short_codes = set(list(test_df.short_codes))\n",
    "print(f'No. of Short Codes : {len(set(all_short_codes))}')\n",
    "df_one_hot = pd.get_dummies(test_df, columns=['short_codes'])\n",
    "df_one_hot.columns = df_one_hot.columns.str.replace('short_codes_', '')\n",
    "df_one_hot = df_one_hot.drop(['text', 'long_texts','short_texts', 'discharge_summary','Symptoms','Diseases','icd_9_desc'], axis =1).reset_index(drop=True)\n",
    "df_one_hot = df_one_hot.astype(int)\n",
    "df_one_hot.head()"
   ]
  },
  {
   "cell_type": "markdown",
   "metadata": {},
   "source": [
    "> #### Check for the classes which are there, if classes as present, keep it, else make everything 0."
   ]
  },
  {
   "cell_type": "code",
   "execution_count": 35,
   "metadata": {},
   "outputs": [],
   "source": [
    "import numpy as np\n",
    "from tqdm import tqdm\n",
    "from sklearn.metrics import recall_score\n",
    "from sklearn.metrics import roc_auc_score"
   ]
  },
  {
   "cell_type": "code",
   "execution_count": 36,
   "metadata": {},
   "outputs": [
    {
     "name": "stdout",
     "output_type": "stream",
     "text": [
      "['Fever', 'FEVER', 'fever', 'Fever (subjective)', 'Fever (99.6)']\n"
     ]
    }
   ],
   "source": [
    "def escape_special_chars(query):\n",
    "    return query.replace(\"'\", \"\\\\'\").replace(\"/\", \"\\\\/\")\n",
    "\n",
    "def search_symptoms(query_strings,limit = 5):\n",
    "    all_symptoms = []\n",
    "    for query_string in query_strings:\n",
    "        escaped_query = escape_special_chars(query_string)  # Escape the query string\n",
    "        with driver.session() as session:\n",
    "            result = session.run(\n",
    "                f\"CALL db.index.fulltext.queryNodes('symptomIndex', '{escaped_query}') \"\n",
    "                \"YIELD node, score \"\n",
    "                \"RETURN node.name AS symptom, score \"\n",
    "                \"ORDER BY score DESC \"\n",
    "                f\"LIMIT {limit}\"\n",
    "            )\n",
    "            symptoms = [record['symptom'] for record in result]\n",
    "            all_symptoms.extend(symptoms)\n",
    "    return all_symptoms\n",
    "\n",
    "# Example usage\n",
    "search_queries = ['fever']\n",
    "search_results = search_symptoms(search_queries)\n",
    "print(search_results)"
   ]
  },
  {
   "cell_type": "code",
   "execution_count": 37,
   "metadata": {},
   "outputs": [],
   "source": [
    "def get_prioritized_relationships(symptom_names, weightage=5, limit=10):\n",
    "    \"\"\"\n",
    "    Retrieves a list of diseases associated with the given symptom names, ordered by the maximum weight of the associations.\n",
    "    \n",
    "    Parameters:\n",
    "    symptom_names (list): A list of symptom names to search for.\n",
    "    weightage (int, optional): The minimum weight threshold for the associations. Defaults to 5.\n",
    "    limit (int, optional): The maximum number of results to return. Defaults to 20.\n",
    "    \n",
    "    Returns:\n",
    "    tuple: A tuple containing:\n",
    "        - codes (list): A list of disease names ordered by maximum association weight.\n",
    "        - all_info (dict): A dictionary mapping disease names to a list containing the disease name and the maximum association weight.\n",
    "    \"\"\"\n",
    "    with driver.session() as session:\n",
    "        result = session.run(f\"\"\"\n",
    "            MATCH (s:Symptom)-[r:ASSOCIATED_WITH]->(d:Disease)\n",
    "            WHERE s.name IN $symptoms AND r.weight >= {weightage}\n",
    "            WITH d.title AS disease_name, collect(s.name) AS symptoms, max(r.weight) AS max_weight\n",
    "            RETURN disease_name, symptoms, max_weight\n",
    "            ORDER BY max_weight DESC\n",
    "            LIMIT {limit}\n",
    "        \"\"\", symptoms=symptom_names)\n",
    "        codes = []\n",
    "        all_info = {}\n",
    "        for record in result:\n",
    "            codes.append(record['disease_name'])\n",
    "            all_info[record['disease_name']] = [record['disease_name'], record['max_weight']]\n",
    "        return codes, all_info\n",
    "\n",
    "def create_binary_matrix(labels, classes):\n",
    "    \"\"\"\n",
    "    Creates a binary matrix from a list of labels and a list of classes.\n",
    "    \n",
    "    Parameters:\n",
    "    labels (list): A list of lists, where each inner list contains the labels for a single data point.\n",
    "    classes (list): A list of class names.\n",
    "    \n",
    "    Returns:\n",
    "    numpy.ndarray: A binary matrix where each row represents a data point and each column represents a class.\n",
    "    \"\"\"\n",
    "    binary_matrix = np.zeros((len(labels), len(classes)), dtype=int)\n",
    "    for i, label_list in enumerate(labels):\n",
    "        for label in label_list:\n",
    "            if label in classes:\n",
    "                idx = classes.index(label)\n",
    "                binary_matrix[i, idx] = 1       \n",
    "    return binary_matrix\n",
    "\n",
    "def roc_auc(probs, labels, multilabel=False, average='macro', multi_class='ovo'):\n",
    "    \"\"\"\n",
    "    Calculates the ROC AUC (Receiver Operating Characteristic Area Under the Curve) score.\n",
    "    \n",
    "    Parameters:\n",
    "    probs (numpy.ndarray): A 2D array of probabilities, where each row represents a data point and each column represents a class.\n",
    "    labels (numpy.ndarray or list): The true labels for the data points.\n",
    "    multilabel (bool, optional): Whether the problem is a multilabel classification task. Defaults to False.\n",
    "    average (str, optional): The method to use for averaging the ROC AUC scores across multiple classes. Defaults to 'macro'.\n",
    "    multi_class (str, optional): The strategy to use for multi-class ROC AUC calculation. Defaults to 'ovo' (one-vs-one).\n",
    "    \n",
    "    Returns:\n",
    "    float: The ROC AUC score.\n",
    "    \"\"\"\n",
    "    if isinstance(labels, list):\n",
    "        labels = np.array(labels, dtype=int)\n",
    "    else:\n",
    "        labels = labels.astype(int)\n",
    "    y_score = probs\n",
    "    if multilabel:\n",
    "        dim_size = len(labels[0])\n",
    "        mask = np.ones((dim_size), dtype=bool)\n",
    "        for c in range(dim_size):\n",
    "            if max(labels[:, c]) == 0:\n",
    "                mask[c] = False\n",
    "        labels = labels[:, mask]\n",
    "        y_score = np.array(probs)[:, mask]\n",
    "        filtered_cols = np.count_nonzero(mask == False)\n",
    "        # print(f\"{filtered_cols} columns not considered for ROC AUC calculation!\")\n",
    "    return roc_auc_score(y_true=labels, y_score=y_score, average=average, multi_class=multi_class)"
   ]
  },
  {
   "cell_type": "code",
   "execution_count": 38,
   "metadata": {},
   "outputs": [],
   "source": [
    "from sklearn.metrics import roc_auc_score, f1_score, precision_score, recall_score\n",
    "import numpy as np\n",
    "\n",
    "def roc_auc_f1_precision_recall(probs, labels, multilabel=False, average='macro', multi_class='ovo'):\n",
    "    \"\"\"\n",
    "    Calculates ROC AUC, F1, precision, and recall scores (macro and micro) for multilabel or multiclass classification.\n",
    "    \n",
    "    Parameters:\n",
    "    probs (numpy.ndarray): A 2D array of probabilities, where each row represents a data point and each column represents a class.\n",
    "    labels (numpy.ndarray or list): The true labels for the data points.\n",
    "    multilabel (bool, optional): Whether the problem is a multilabel classification task. Defaults to False.\n",
    "    average (str, optional): The method to use for averaging scores across classes. Defaults to 'macro'.\n",
    "    multi_class (str, optional): The strategy to use for multi-class ROC AUC calculation. Defaults to 'ovo' (one-vs-one).\n",
    "    \n",
    "    Returns:\n",
    "    dict: A dictionary with ROC AUC, F1, precision, and recall scores (macro and micro).\n",
    "    \"\"\"\n",
    "    if isinstance(labels, list):\n",
    "        labels = np.array(labels, dtype=int)\n",
    "    else:\n",
    "        labels = labels.astype(int)\n",
    "\n",
    "    # Filter relevant columns if multilabel is True\n",
    "    y_score = probs\n",
    "    if multilabel:\n",
    "        # Identify classes with at least one positive label\n",
    "        present_classes = np.any(labels == 1, axis=0)\n",
    "        labels = labels[:, present_classes]\n",
    "        y_score = np.array(probs)[:, present_classes]\n",
    "\n",
    "    # Calculate ROC AUC score\n",
    "    roc_auc = roc_auc_score(y_true=labels, y_score=y_score, average=average, multi_class=multi_class)\n",
    "\n",
    "    # Binarize the predictions for F1, precision, and recall calculation\n",
    "    preds = (y_score >= 0.5).astype(int)\n",
    "    \n",
    "    # Calculate F1 scores\n",
    "    f1_macro = f1_score(labels, preds, average='macro')\n",
    "    f1_micro = f1_score(labels, preds, average='micro')\n",
    "    \n",
    "    # Calculate precision scores\n",
    "    precision_macro = precision_score(labels, preds, average='macro', zero_division=0)\n",
    "    precision_micro = precision_score(labels, preds, average='micro', zero_division=0)\n",
    "    \n",
    "    # Calculate recall scores\n",
    "    recall_macro = recall_score(labels, preds, average='macro', zero_division=0)\n",
    "    recall_micro = recall_score(labels, preds, average='micro', zero_division=0)\n",
    "    \n",
    "    return {\n",
    "        'roc_auc': roc_auc,\n",
    "        'f1_macro': f1_macro,\n",
    "        'f1_micro': f1_micro,\n",
    "        'precision_macro': precision_macro,\n",
    "        'precision_micro': precision_micro,\n",
    "        'recall_macro': recall_macro,\n",
    "        'recall_micro': recall_micro\n",
    "    }\n"
   ]
  },
  {
   "cell_type": "code",
   "execution_count": 39,
   "metadata": {},
   "outputs": [
    {
     "data": {
      "text/plain": [
       "['exertional angina']"
      ]
     },
     "execution_count": 39,
     "metadata": {},
     "output_type": "execute_result"
    }
   ],
   "source": [
    "raw_test_df.Symptoms.iloc[1]"
   ]
  },
  {
   "cell_type": "code",
   "execution_count": 40,
   "metadata": {},
   "outputs": [],
   "source": [
    "codes = get_prioritized_relationships(['back pain'], 1, 20)[0]"
   ]
  },
  {
   "cell_type": "code",
   "execution_count": 41,
   "metadata": {},
   "outputs": [
    {
     "data": {
      "text/plain": [
       "20"
      ]
     },
     "execution_count": 41,
     "metadata": {},
     "output_type": "execute_result"
    }
   ],
   "source": [
    "len(codes)"
   ]
  },
  {
   "cell_type": "code",
   "execution_count": 42,
   "metadata": {},
   "outputs": [
    {
     "name": "stdout",
     "output_type": "stream",
     "text": [
      "['401', '428', '427', '276', '285', '272', '414', '518', '250', '584']\n"
     ]
    }
   ],
   "source": [
    "print(get_prioritized_relationships(['back pain'], 20, )[0])"
   ]
  },
  {
   "cell_type": "code",
   "execution_count": 43,
   "metadata": {},
   "outputs": [],
   "source": [
    "# icd_df[icd_df.short_codes.isin(codes)]"
   ]
  },
  {
   "cell_type": "code",
   "execution_count": 44,
   "metadata": {},
   "outputs": [
    {
     "name": "stdout",
     "output_type": "stream",
     "text": [
      "['414', '272', '401', '427', '413', '997', '250', '530', '411', 'V458', '998', 'E878', '424', '410', '285', '244', '428', 'V586', '278', '412']\n"
     ]
    }
   ],
   "source": [
    "print(get_prioritized_relationships(raw_test_df.Symptoms.iloc[1], 1, 20)[0])"
   ]
  },
  {
   "cell_type": "markdown",
   "metadata": {},
   "source": [
    "> #### Calculate AUROC score for all the present classes, neglect if not present "
   ]
  },
  {
   "cell_type": "code",
   "execution_count": 10,
   "metadata": {},
   "outputs": [
    {
     "data": {
      "text/html": [
       "<div>\n",
       "<style scoped>\n",
       "    .dataframe tbody tr th:only-of-type {\n",
       "        vertical-align: middle;\n",
       "    }\n",
       "\n",
       "    .dataframe tbody tr th {\n",
       "        vertical-align: top;\n",
       "    }\n",
       "\n",
       "    .dataframe thead th {\n",
       "        text-align: right;\n",
       "    }\n",
       "</style>\n",
       "<table border=\"1\" class=\"dataframe\">\n",
       "  <thead>\n",
       "    <tr style=\"text-align: right;\">\n",
       "      <th></th>\n",
       "      <th>ROW_ID</th>\n",
       "      <th>ICD9_CODE</th>\n",
       "      <th>SHORT_TITLE</th>\n",
       "      <th>LONG_TITLE</th>\n",
       "    </tr>\n",
       "  </thead>\n",
       "  <tbody>\n",
       "    <tr>\n",
       "      <th>0</th>\n",
       "      <td>174</td>\n",
       "      <td>01166</td>\n",
       "      <td>TB pneumonia-oth test</td>\n",
       "      <td>Tuberculous pneumonia [any form], tubercle bac...</td>\n",
       "    </tr>\n",
       "    <tr>\n",
       "      <th>1</th>\n",
       "      <td>175</td>\n",
       "      <td>01170</td>\n",
       "      <td>TB pneumothorax-unspec</td>\n",
       "      <td>Tuberculous pneumothorax, unspecified</td>\n",
       "    </tr>\n",
       "    <tr>\n",
       "      <th>2</th>\n",
       "      <td>176</td>\n",
       "      <td>01171</td>\n",
       "      <td>TB pneumothorax-no exam</td>\n",
       "      <td>Tuberculous pneumothorax, bacteriological or h...</td>\n",
       "    </tr>\n",
       "    <tr>\n",
       "      <th>3</th>\n",
       "      <td>177</td>\n",
       "      <td>01172</td>\n",
       "      <td>TB pneumothorx-exam unkn</td>\n",
       "      <td>Tuberculous pneumothorax, bacteriological or h...</td>\n",
       "    </tr>\n",
       "    <tr>\n",
       "      <th>4</th>\n",
       "      <td>178</td>\n",
       "      <td>01173</td>\n",
       "      <td>TB pneumothorax-micro dx</td>\n",
       "      <td>Tuberculous pneumothorax, tubercle bacilli fou...</td>\n",
       "    </tr>\n",
       "  </tbody>\n",
       "</table>\n",
       "</div>"
      ],
      "text/plain": [
       "   ROW_ID ICD9_CODE               SHORT_TITLE  \\\n",
       "0     174     01166     TB pneumonia-oth test   \n",
       "1     175     01170    TB pneumothorax-unspec   \n",
       "2     176     01171   TB pneumothorax-no exam   \n",
       "3     177     01172  TB pneumothorx-exam unkn   \n",
       "4     178     01173  TB pneumothorax-micro dx   \n",
       "\n",
       "                                          LONG_TITLE  \n",
       "0  Tuberculous pneumonia [any form], tubercle bac...  \n",
       "1              Tuberculous pneumothorax, unspecified  \n",
       "2  Tuberculous pneumothorax, bacteriological or h...  \n",
       "3  Tuberculous pneumothorax, bacteriological or h...  \n",
       "4  Tuberculous pneumothorax, tubercle bacilli fou...  "
      ]
     },
     "execution_count": 10,
     "metadata": {},
     "output_type": "execute_result"
    }
   ],
   "source": [
    "import pandas as pd\n",
    "icd_df = pd.read_csv('D_ICD_DIAGNOSES.csv')\n",
    "icd_df.head()"
   ]
  },
  {
   "cell_type": "code",
   "execution_count": null,
   "metadata": {},
   "outputs": [],
   "source": []
  },
  {
   "cell_type": "code",
   "execution_count": 12,
   "metadata": {},
   "outputs": [],
   "source": [
    "icd_df.columns = ['ROW_ID', 'ICD9_CODE', 'SHORT_TITLE', 'LONG_TITLE']\n",
    "def preprocessing(test_df) : \n",
    "    test_df.loc[\n",
    "        test_df['ICD9_CODE'].str.startswith(\"V\"), 'ICD9_CODE'] = test_df.ICD9_CODE.apply(\n",
    "        lambda x: x[:4])\n",
    "    test_df.loc[\n",
    "        test_df['ICD9_CODE'].str.startswith(\"E\"), 'ICD9_CODE'] = test_df.ICD9_CODE.apply(\n",
    "        lambda x: x[:4])\n",
    "    test_df.loc[(~test_df.ICD9_CODE.str.startswith(\"E\")) & (\n",
    "        ~test_df.ICD9_CODE.str.startswith(\"V\")), 'ICD9_CODE'] = test_df.ICD9_CODE.apply(\n",
    "        lambda x: x[:3])\n",
    "    return test_df\n",
    "\n",
    "icd_df = preprocessing(icd_df)"
   ]
  },
  {
   "cell_type": "code",
   "execution_count": 13,
   "metadata": {},
   "outputs": [
    {
     "data": {
      "text/html": [
       "<div>\n",
       "<style scoped>\n",
       "    .dataframe tbody tr th:only-of-type {\n",
       "        vertical-align: middle;\n",
       "    }\n",
       "\n",
       "    .dataframe tbody tr th {\n",
       "        vertical-align: top;\n",
       "    }\n",
       "\n",
       "    .dataframe thead th {\n",
       "        text-align: right;\n",
       "    }\n",
       "</style>\n",
       "<table border=\"1\" class=\"dataframe\">\n",
       "  <thead>\n",
       "    <tr style=\"text-align: right;\">\n",
       "      <th></th>\n",
       "      <th>ROW_ID</th>\n",
       "      <th>ICD9_CODE</th>\n",
       "      <th>SHORT_TITLE</th>\n",
       "      <th>LONG_TITLE</th>\n",
       "    </tr>\n",
       "  </thead>\n",
       "  <tbody>\n",
       "    <tr>\n",
       "      <th>0</th>\n",
       "      <td>174</td>\n",
       "      <td>011</td>\n",
       "      <td>TB pneumonia-oth test</td>\n",
       "      <td>Tuberculous pneumonia [any form], tubercle bac...</td>\n",
       "    </tr>\n",
       "    <tr>\n",
       "      <th>1</th>\n",
       "      <td>175</td>\n",
       "      <td>011</td>\n",
       "      <td>TB pneumothorax-unspec</td>\n",
       "      <td>Tuberculous pneumothorax, unspecified</td>\n",
       "    </tr>\n",
       "    <tr>\n",
       "      <th>2</th>\n",
       "      <td>176</td>\n",
       "      <td>011</td>\n",
       "      <td>TB pneumothorax-no exam</td>\n",
       "      <td>Tuberculous pneumothorax, bacteriological or h...</td>\n",
       "    </tr>\n",
       "    <tr>\n",
       "      <th>3</th>\n",
       "      <td>177</td>\n",
       "      <td>011</td>\n",
       "      <td>TB pneumothorx-exam unkn</td>\n",
       "      <td>Tuberculous pneumothorax, bacteriological or h...</td>\n",
       "    </tr>\n",
       "    <tr>\n",
       "      <th>4</th>\n",
       "      <td>178</td>\n",
       "      <td>011</td>\n",
       "      <td>TB pneumothorax-micro dx</td>\n",
       "      <td>Tuberculous pneumothorax, tubercle bacilli fou...</td>\n",
       "    </tr>\n",
       "    <tr>\n",
       "      <th>...</th>\n",
       "      <td>...</td>\n",
       "      <td>...</td>\n",
       "      <td>...</td>\n",
       "      <td>...</td>\n",
       "    </tr>\n",
       "    <tr>\n",
       "      <th>14562</th>\n",
       "      <td>14432</td>\n",
       "      <td>V739</td>\n",
       "      <td>Scrn unspcf viral dis</td>\n",
       "      <td>Special screening examination for unspecified ...</td>\n",
       "    </tr>\n",
       "    <tr>\n",
       "      <th>14563</th>\n",
       "      <td>14433</td>\n",
       "      <td>V740</td>\n",
       "      <td>Screening for cholera</td>\n",
       "      <td>Screening examination for cholera</td>\n",
       "    </tr>\n",
       "    <tr>\n",
       "      <th>14564</th>\n",
       "      <td>14434</td>\n",
       "      <td>V741</td>\n",
       "      <td>Screening-pulmonary TB</td>\n",
       "      <td>Screening examination for pulmonary tuberculosis</td>\n",
       "    </tr>\n",
       "    <tr>\n",
       "      <th>14565</th>\n",
       "      <td>14435</td>\n",
       "      <td>V742</td>\n",
       "      <td>Screening for leprosy</td>\n",
       "      <td>Screening examination for leprosy (Hansen's di...</td>\n",
       "    </tr>\n",
       "    <tr>\n",
       "      <th>14566</th>\n",
       "      <td>14436</td>\n",
       "      <td>V743</td>\n",
       "      <td>Screening for diphtheria</td>\n",
       "      <td>Screening examination for diphtheria</td>\n",
       "    </tr>\n",
       "  </tbody>\n",
       "</table>\n",
       "<p>14567 rows × 4 columns</p>\n",
       "</div>"
      ],
      "text/plain": [
       "       ROW_ID ICD9_CODE               SHORT_TITLE  \\\n",
       "0         174       011     TB pneumonia-oth test   \n",
       "1         175       011    TB pneumothorax-unspec   \n",
       "2         176       011   TB pneumothorax-no exam   \n",
       "3         177       011  TB pneumothorx-exam unkn   \n",
       "4         178       011  TB pneumothorax-micro dx   \n",
       "...       ...       ...                       ...   \n",
       "14562   14432      V739     Scrn unspcf viral dis   \n",
       "14563   14433      V740     Screening for cholera   \n",
       "14564   14434      V741    Screening-pulmonary TB   \n",
       "14565   14435      V742     Screening for leprosy   \n",
       "14566   14436      V743  Screening for diphtheria   \n",
       "\n",
       "                                              LONG_TITLE  \n",
       "0      Tuberculous pneumonia [any form], tubercle bac...  \n",
       "1                  Tuberculous pneumothorax, unspecified  \n",
       "2      Tuberculous pneumothorax, bacteriological or h...  \n",
       "3      Tuberculous pneumothorax, bacteriological or h...  \n",
       "4      Tuberculous pneumothorax, tubercle bacilli fou...  \n",
       "...                                                  ...  \n",
       "14562  Special screening examination for unspecified ...  \n",
       "14563                  Screening examination for cholera  \n",
       "14564   Screening examination for pulmonary tuberculosis  \n",
       "14565  Screening examination for leprosy (Hansen's di...  \n",
       "14566               Screening examination for diphtheria  \n",
       "\n",
       "[14567 rows x 4 columns]"
      ]
     },
     "execution_count": 13,
     "metadata": {},
     "output_type": "execute_result"
    }
   ],
   "source": [
    "icd_df"
   ]
  },
  {
   "cell_type": "code",
   "execution_count": 7,
   "metadata": {},
   "outputs": [
    {
     "data": {
      "text/html": [
       "<div>\n",
       "<style scoped>\n",
       "    .dataframe tbody tr th:only-of-type {\n",
       "        vertical-align: middle;\n",
       "    }\n",
       "\n",
       "    .dataframe tbody tr th {\n",
       "        vertical-align: top;\n",
       "    }\n",
       "\n",
       "    .dataframe thead th {\n",
       "        text-align: right;\n",
       "    }\n",
       "</style>\n",
       "<table border=\"1\" class=\"dataframe\">\n",
       "  <thead>\n",
       "    <tr style=\"text-align: right;\">\n",
       "      <th></th>\n",
       "      <th>ROW_ID</th>\n",
       "      <th>short_codes</th>\n",
       "      <th>SHORT_TITLE</th>\n",
       "      <th>LONG_TITLE</th>\n",
       "    </tr>\n",
       "  </thead>\n",
       "  <tbody>\n",
       "    <tr>\n",
       "      <th>4372</th>\n",
       "      <td>4373</td>\n",
       "      <td>414</td>\n",
       "      <td>Cor ath unsp vsl ntv/gft</td>\n",
       "      <td>Coronary atherosclerosis of unspecified type o...</td>\n",
       "    </tr>\n",
       "    <tr>\n",
       "      <th>4373</th>\n",
       "      <td>4374</td>\n",
       "      <td>414</td>\n",
       "      <td>Crnry athrscl natve vssl</td>\n",
       "      <td>Coronary atherosclerosis of native coronary ar...</td>\n",
       "    </tr>\n",
       "    <tr>\n",
       "      <th>4374</th>\n",
       "      <td>4375</td>\n",
       "      <td>414</td>\n",
       "      <td>Crn ath atlg vn bps grft</td>\n",
       "      <td>Coronary atherosclerosis of autologous vein by...</td>\n",
       "    </tr>\n",
       "    <tr>\n",
       "      <th>4375</th>\n",
       "      <td>4376</td>\n",
       "      <td>414</td>\n",
       "      <td>Crn ath nonatlg blg grft</td>\n",
       "      <td>Coronary atherosclerosis of nonautologous biol...</td>\n",
       "    </tr>\n",
       "    <tr>\n",
       "      <th>4376</th>\n",
       "      <td>4377</td>\n",
       "      <td>414</td>\n",
       "      <td>Cor ath artry bypas grft</td>\n",
       "      <td>Coronary atherosclerosis of artery bypass graft</td>\n",
       "    </tr>\n",
       "    <tr>\n",
       "      <th>4377</th>\n",
       "      <td>4378</td>\n",
       "      <td>414</td>\n",
       "      <td>Cor ath bypass graft NOS</td>\n",
       "      <td>Coronary atherosclerosis of unspecified bypass...</td>\n",
       "    </tr>\n",
       "    <tr>\n",
       "      <th>4378</th>\n",
       "      <td>4379</td>\n",
       "      <td>414</td>\n",
       "      <td>Cor ath natv art tp hrt</td>\n",
       "      <td>Coronary atherosclerosis of native coronary ar...</td>\n",
       "    </tr>\n",
       "    <tr>\n",
       "      <th>4379</th>\n",
       "      <td>4380</td>\n",
       "      <td>414</td>\n",
       "      <td>Cor ath bps graft tp hrt</td>\n",
       "      <td>Coronary atherosclerosis of bypass graft (arte...</td>\n",
       "    </tr>\n",
       "    <tr>\n",
       "      <th>4380</th>\n",
       "      <td>4381</td>\n",
       "      <td>414</td>\n",
       "      <td>Aneurysm of heart</td>\n",
       "      <td>Aneurysm of heart (wall)</td>\n",
       "    </tr>\n",
       "    <tr>\n",
       "      <th>4381</th>\n",
       "      <td>4382</td>\n",
       "      <td>414</td>\n",
       "      <td>Aneurysm coronary vessel</td>\n",
       "      <td>Aneurysm of coronary vessels</td>\n",
       "    </tr>\n",
       "    <tr>\n",
       "      <th>4382</th>\n",
       "      <td>4383</td>\n",
       "      <td>414</td>\n",
       "      <td>Dissection cor artery</td>\n",
       "      <td>Dissection of coronary artery</td>\n",
       "    </tr>\n",
       "    <tr>\n",
       "      <th>4383</th>\n",
       "      <td>4384</td>\n",
       "      <td>414</td>\n",
       "      <td>Aneurysm of heart NEC</td>\n",
       "      <td>Other aneurysm of heart</td>\n",
       "    </tr>\n",
       "    <tr>\n",
       "      <th>4384</th>\n",
       "      <td>4385</td>\n",
       "      <td>414</td>\n",
       "      <td>Chr tot occlus cor artry</td>\n",
       "      <td>Chronic total occlusion of coronary artery</td>\n",
       "    </tr>\n",
       "    <tr>\n",
       "      <th>4385</th>\n",
       "      <td>4386</td>\n",
       "      <td>414</td>\n",
       "      <td>Cor ath d/t lpd rch plaq</td>\n",
       "      <td>Coronary atherosclerosis due to lipid rich plaque</td>\n",
       "    </tr>\n",
       "    <tr>\n",
       "      <th>4386</th>\n",
       "      <td>4387</td>\n",
       "      <td>414</td>\n",
       "      <td>Cor ath d/t calc cor lsn</td>\n",
       "      <td>Coronary atherosclerosis due to calcified coro...</td>\n",
       "    </tr>\n",
       "    <tr>\n",
       "      <th>4387</th>\n",
       "      <td>4388</td>\n",
       "      <td>414</td>\n",
       "      <td>Chr ischemic hrt dis NEC</td>\n",
       "      <td>Other specified forms of chronic ischemic hear...</td>\n",
       "    </tr>\n",
       "    <tr>\n",
       "      <th>4388</th>\n",
       "      <td>4389</td>\n",
       "      <td>414</td>\n",
       "      <td>Chr ischemic hrt dis NOS</td>\n",
       "      <td>Chronic ischemic heart disease, unspecified</td>\n",
       "    </tr>\n",
       "  </tbody>\n",
       "</table>\n",
       "</div>"
      ],
      "text/plain": [
       "      ROW_ID short_codes               SHORT_TITLE  \\\n",
       "4372    4373         414  Cor ath unsp vsl ntv/gft   \n",
       "4373    4374         414  Crnry athrscl natve vssl   \n",
       "4374    4375         414  Crn ath atlg vn bps grft   \n",
       "4375    4376         414  Crn ath nonatlg blg grft   \n",
       "4376    4377         414  Cor ath artry bypas grft   \n",
       "4377    4378         414  Cor ath bypass graft NOS   \n",
       "4378    4379         414   Cor ath natv art tp hrt   \n",
       "4379    4380         414  Cor ath bps graft tp hrt   \n",
       "4380    4381         414         Aneurysm of heart   \n",
       "4381    4382         414  Aneurysm coronary vessel   \n",
       "4382    4383         414     Dissection cor artery   \n",
       "4383    4384         414     Aneurysm of heart NEC   \n",
       "4384    4385         414  Chr tot occlus cor artry   \n",
       "4385    4386         414  Cor ath d/t lpd rch plaq   \n",
       "4386    4387         414  Cor ath d/t calc cor lsn   \n",
       "4387    4388         414  Chr ischemic hrt dis NEC   \n",
       "4388    4389         414  Chr ischemic hrt dis NOS   \n",
       "\n",
       "                                             LONG_TITLE  \n",
       "4372  Coronary atherosclerosis of unspecified type o...  \n",
       "4373  Coronary atherosclerosis of native coronary ar...  \n",
       "4374  Coronary atherosclerosis of autologous vein by...  \n",
       "4375  Coronary atherosclerosis of nonautologous biol...  \n",
       "4376    Coronary atherosclerosis of artery bypass graft  \n",
       "4377  Coronary atherosclerosis of unspecified bypass...  \n",
       "4378  Coronary atherosclerosis of native coronary ar...  \n",
       "4379  Coronary atherosclerosis of bypass graft (arte...  \n",
       "4380                           Aneurysm of heart (wall)  \n",
       "4381                       Aneurysm of coronary vessels  \n",
       "4382                      Dissection of coronary artery  \n",
       "4383                            Other aneurysm of heart  \n",
       "4384         Chronic total occlusion of coronary artery  \n",
       "4385  Coronary atherosclerosis due to lipid rich plaque  \n",
       "4386  Coronary atherosclerosis due to calcified coro...  \n",
       "4387  Other specified forms of chronic ischemic hear...  \n",
       "4388        Chronic ischemic heart disease, unspecified  "
      ]
     },
     "execution_count": 7,
     "metadata": {},
     "output_type": "execute_result"
    }
   ],
   "source": [
    "icd_df[icd_df.short_codes == '414']"
   ]
  },
  {
   "cell_type": "code",
   "execution_count": 49,
   "metadata": {},
   "outputs": [],
   "source": [
    "value_counts_df = pd.DataFrame(test_df.short_codes.value_counts()).reset_index()"
   ]
  },
  {
   "cell_type": "code",
   "execution_count": 50,
   "metadata": {},
   "outputs": [
    {
     "data": {
      "text/html": [
       "<div>\n",
       "<style scoped>\n",
       "    .dataframe tbody tr th:only-of-type {\n",
       "        vertical-align: middle;\n",
       "    }\n",
       "\n",
       "    .dataframe tbody tr th {\n",
       "        vertical-align: top;\n",
       "    }\n",
       "\n",
       "    .dataframe thead th {\n",
       "        text-align: right;\n",
       "    }\n",
       "</style>\n",
       "<table border=\"1\" class=\"dataframe\">\n",
       "  <thead>\n",
       "    <tr style=\"text-align: right;\">\n",
       "      <th></th>\n",
       "      <th>short_codes</th>\n",
       "      <th>count</th>\n",
       "    </tr>\n",
       "  </thead>\n",
       "  <tbody>\n",
       "    <tr>\n",
       "      <th>0</th>\n",
       "      <td>401</td>\n",
       "      <td>3759</td>\n",
       "    </tr>\n",
       "    <tr>\n",
       "      <th>1</th>\n",
       "      <td>427</td>\n",
       "      <td>2879</td>\n",
       "    </tr>\n",
       "    <tr>\n",
       "      <th>2</th>\n",
       "      <td>272</td>\n",
       "      <td>2653</td>\n",
       "    </tr>\n",
       "    <tr>\n",
       "      <th>3</th>\n",
       "      <td>414</td>\n",
       "      <td>2544</td>\n",
       "    </tr>\n",
       "    <tr>\n",
       "      <th>4</th>\n",
       "      <td>250</td>\n",
       "      <td>2450</td>\n",
       "    </tr>\n",
       "  </tbody>\n",
       "</table>\n",
       "</div>"
      ],
      "text/plain": [
       "  short_codes  count\n",
       "0         401   3759\n",
       "1         427   2879\n",
       "2         272   2653\n",
       "3         414   2544\n",
       "4         250   2450"
      ]
     },
     "execution_count": 50,
     "metadata": {},
     "output_type": "execute_result"
    }
   ],
   "source": [
    "value_counts_df.head()"
   ]
  },
  {
   "cell_type": "code",
   "execution_count": 51,
   "metadata": {},
   "outputs": [
    {
     "data": {
      "text/plain": [
       "['401', '427', '272', '414', '250', '428', '276', '285', '584', '518']"
      ]
     },
     "execution_count": 51,
     "metadata": {},
     "output_type": "execute_result"
    }
   ],
   "source": [
    "list(value_counts_df.iloc[:10].short_codes)"
   ]
  },
  {
   "cell_type": "markdown",
   "metadata": {},
   "source": [
    "### Get all the true and predicted labels based on the input symptoms"
   ]
  },
  {
   "cell_type": "markdown",
   "metadata": {},
   "source": [
    "- We're taking all the classes (icd9 codes), and then predicting on all the test_rows. \n",
    "\n",
    "- Then if the class was present in the actual prediciton, we compare it according to that, so the scores are only based on the classes available. (actual : 0 and predicted:0 are not counted for) "
   ]
  },
  {
   "cell_type": "code",
   "execution_count": 52,
   "metadata": {},
   "outputs": [],
   "source": [
    "classes = str('403 486 582 585 425 276 710 724 458 287 285 275 583 558 327 228 338 789 790 V451 531 410 414 725 191 331 530 411 482 272 305 194 197 255 424 584 998 682 511 599 428 349 401 V100 V453 V586 041 251 E932 V300 V053 V290 571 070 250 570 572 286 518 038 280 263 995 303 244 112 881 903 955 E956 745 762 441 496 447 440 997 274 427 V104 V101 V120 V090 569 560 491 V458 433 436 493 996 416 V310 765 769 774 770 747 776 772 362 198 V103 746 766 V293 853 780 E888 730 357 430 293 443 V158 396 365 135 311 E935 721 214 437 242 600 189 304 711 800 E814 873 781 378 951 767 431 294 042 V141 V071 764 775 969 295 E950 266 779 355 553 965 E850 E853 426 804 E916 202 V502 398 707 348 787 564 V428 238 300 788 332 V107 V433 E879 861 423 E966 200 555 771 270 335 723 079 851 807 864 865 860 413 782 V108 507 512 752 162 783 778 333 785 136 799 E931 157 574 568 E878 722 719 V125 296 478 V170 805 596 E880 822 733 578 459 438 008 V098 185 967 225 V457 389 412 593 345 201 515 E933 278 492 715 415 V105 535 608 E870 V058 513 709 E821 V173 824 911 913 E812 576 203 281 580 V450 216 V340 579 693 351 088 714 E849 307 421 786 E942 959 E928 588 364 V642 V025 252 283 784 611 622 289 446 729 V498 V456 795 E854 V667 155 V130 882 852 957 E815 466 792 434 342 153 E934 481 910 456 453 867 273 532 806 V422 V541 556 394 444 924 E960 514 763 218 359 340 999 451 324 E939 537 737 455 E884 V427 591 592 577 557 575 356 368 552 500 750 253 292 E937 211 288 773 314 V652 432 379 435 E930 199 V641 494 966 758 E855 741 918 V436 078 562 820 801 839 E881 V584 731 E885 812 156 567 696 501 712 V707 215 754 753 508 876 720 V442 871 958 802 847 397 196 346 E968 510 404 360 376 370 V026 904 928 821 823 150 573 850 V497 E938 V533 V556 728 870 V874 V153 V644 V600 521 301 164 054 344 464 442 V150 282 V08 891 808 866 902 117 484 760 V048 691 519 528 320 369 685 V625 794 793 318 V441 761 936 E915 457 395 053 V113 V632 386 623 290 204 271 E819 811 813 884 E813 751 366 297 V440 473 E910 V420 057 536 152 970 485 235 372 E882 127 160 170 V880 595 909 V443 490 343 319 130 698 E823 246 854 868 872 982 151 V853 980 E980 291 517 268 487 E866 796 V452 036 354 648 701 V063 V038 227 614 533 736 942 E924 240 921 V454 977 759 768 923 E816 681 138 358 950 922 205 990 009 619 417 279 257 E860 755 991 E957 241 810 920 V461 V127 261 429 550 874 756 935 831 718 962 E858 803 480 674 277 880 879 377 529 047 083 835 462 336 E947 V160 420 317 454 E883 840 V550 960 586 933 597 350 E911 742 V614 298 V551 620 716 V462 V180 706 565 452 825 322 154 040 110 605 607 461 704 713 945 052 948 323 325 934 516 039 975 971 994 666 V111 907 E929 566 603 405 049 237 V161 V553 262 743 422 337 625 757 527 309 815 V163 402 869 E912 188 590 V852 V446 E852 886 E919 183 862 875 877 890 E944 E936 V444 598 V552 226 E818 617 E958 V123 748 968 V298 465 972 E826 905 E969 744 E829 V301 388 V146 V151 887 375 334 E848 E918 284 E876 260 987 E890 834 522 692 V588 310 863 E834 192 035 V174 171 738 220 477 212 172 V548 726 526 V099 777 749 E922 952 V320 901 542 449 V011 963 E822 524 V052 V539 144 445 321 380 604 383 587 137 845 695 V496 180 618 V102 540 525 916 174 V628 892 816 V171 520 708 176 791 V854 E906 V714 V554 V435 883 927 V434 007 581 V202 140 642 644 654 V270 V252 193 V838 V555 139 V195 V068 601 826 694 626 956 245 919 299 727 684 647 E941 V850 665 391 308 633 639 V230 V061 223 269 V183 046 534 361 673 643 986 005 034 382 239 232 V169 E901 908 634 836 616 E917 734 V698 133 E887 V445 V155 E949 142 E987 236 470 463 E940 229 448 702 182 E825 V851 814 V881 259 906 161 E891 830 E953 195 093 472 914 E988 930 543 686 900 075 705 939 381 V311 V168 018 004 917 483 656 641 217 V291 V164 E943 134 635 659 E920 506 E869 111 096 094 123 158 141 243 690 097 632 989 964 027 V596 373 V017 254 932 187 353 669 V504 602 843 912 374 983 E864 031 210 114 646 077 V018 670 615 V638 V135 938 V580 680 878 E965 471 652 663 658 V272 213 032 148 V643 V148 V062 E989 E927 131 233 V040 V066 125 V503 V581 V292 V192 700 703 209 V029 208 697 E871 184 015 146 V140 V154 992 249 149 V142 844 175 V542 363 V152 V106 V688 V265 012 885 E955 V530 385 V124 V741 390 474 627 817 230 E817 V198 E862 258 V463 735 V024 V640 976 E861 V765 V023 V626 E828 V188 341 V560 798 V448 893 495 084 523 V653 953 V549 V095 V182 621 475 V425 058 306 V165 551 E831 V136 V109 256 219 221 961 985 828 671 E820 897 V840 926 V421 048 594 896 082 E986 541 145 267 683 V097 732 265 011 E801 V185 664 V620 E840 V166 V468 629 115 V587 E908 120 V708 098 V469 V694 E824 E970 121 838 832 460 013 V239 944 V189 946 118 326 E945 645 352 159 E967 V618 147 V908 941 312 624 V186 V145 661 010 E865 091 E886 649 E905 E962 V612 E959 502 V438 V222 163 947 V162 E946 V716 315 367 V540 846 717 V561 V175 842 V138 V703 V583 841 672 062 488 347 339 E841 086 V400 E985 655 974 V289 V604 V074 V728 371 190 V126 090 143 943 V611 V331 085 V172 E835 668 740 V167 V558 E851 E811 V430 837 V072 V431 302 E923 V110 E900 V562 E963 E964 V118 V624 E800 988 833 023 V020 021 003 V660 E806 313 E954 V860 660 V449 231 V602 186 E863 E874 V721 V181 651 033 V654 E804 330 610 384 E838 E001 973 819 014 132 E899 925 207 V861 E002 E030 E000 894 E873 E999 E976 E003 V016 E805 045 V610 V078 V510 E029 848 E006 V403 122 V536 E013 E019 173 E913 677 E008 V568 V143 V091 V872 066 V601 116 V882 V065 538 V655 316 E007 E016 E921 V902 206 V254 099 V489 V870 E977 628 V250 E982 V486 539 V073 937 V812 030 V271 589 V672 V671 E926 E925 E857 V537 954 E827 657 V910 V789 V037 E975 V045 V848 393 V426 179 387 V903 E856 V901 915').split(' ')"
   ]
  },
  {
   "cell_type": "code",
   "execution_count": 53,
   "metadata": {},
   "outputs": [
    {
     "name": "stderr",
     "output_type": "stream",
     "text": [
      "74it [00:02, 35.28it/s]"
     ]
    },
    {
     "name": "stdout",
     "output_type": "stream",
     "text": [
      "['Abdominal pain', 'Constipation', 'Gradual worsening of abd distention', 'Lack of flatus', 'No BM x4 days', 'Mild diffuse abd pain', 'Diffuse abd pain', 'No relieving factors', 'Exacerbated by 1d of lack of flatus and no BM x4 days', 'ASx: -f/c, -n/v/d', 'HA/change in vision/neck pain', '-CP/SOB/cough', '-skin color changes', 'Stable BIL LE edema', 'No dysuria and foley remain patent']\n"
     ]
    },
    {
     "name": "stderr",
     "output_type": "stream",
     "text": [
      "100it [00:03, 26.92it/s]\n"
     ]
    }
   ],
   "source": [
    "\n",
    "classes = str('403 486 582 585 425 276 710 724 458 287 285 275 583 558 327 228 338 789 790 V451 531 410 414 725 191 331 530 411 482 272 305 194 197 255 424 584 998 682 511 599 428 349 401 V100 V453 V586 041 251 E932 V300 V053 V290 571 070 250 570 572 286 518 038 280 263 995 303 244 112 881 903 955 E956 745 762 441 496 447 440 997 274 427 V104 V101 V120 V090 569 560 491 V458 433 436 493 996 416 V310 765 769 774 770 747 776 772 362 198 V103 746 766 V293 853 780 E888 730 357 430 293 443 V158 396 365 135 311 E935 721 214 437 242 600 189 304 711 800 E814 873 781 378 951 767 431 294 042 V141 V071 764 775 969 295 E950 266 779 355 553 965 E850 E853 426 804 E916 202 V502 398 707 348 787 564 V428 238 300 788 332 V107 V433 E879 861 423 E966 200 555 771 270 335 723 079 851 807 864 865 860 413 782 V108 507 512 752 162 783 778 333 785 136 799 E931 157 574 568 E878 722 719 V125 296 478 V170 805 596 E880 822 733 578 459 438 008 V098 185 967 225 V457 389 412 593 345 201 515 E933 278 492 715 415 V105 535 608 E870 V058 513 709 E821 V173 824 911 913 E812 576 203 281 580 V450 216 V340 579 693 351 088 714 E849 307 421 786 E942 959 E928 588 364 V642 V025 252 283 784 611 622 289 446 729 V498 V456 795 E854 V667 155 V130 882 852 957 E815 466 792 434 342 153 E934 481 910 456 453 867 273 532 806 V422 V541 556 394 444 924 E960 514 763 218 359 340 999 451 324 E939 537 737 455 E884 V427 591 592 577 557 575 356 368 552 500 750 253 292 E937 211 288 773 314 V652 432 379 435 E930 199 V641 494 966 758 E855 741 918 V436 078 562 820 801 839 E881 V584 731 E885 812 156 567 696 501 712 V707 215 754 753 508 876 720 V442 871 958 802 847 397 196 346 E968 510 404 360 376 370 V026 904 928 821 823 150 573 850 V497 E938 V533 V556 728 870 V874 V153 V644 V600 521 301 164 054 344 464 442 V150 282 V08 891 808 866 902 117 484 760 V048 691 519 528 320 369 685 V625 794 793 318 V441 761 936 E915 457 395 053 V113 V632 386 623 290 204 271 E819 811 813 884 E813 751 366 297 V440 473 E910 V420 057 536 152 970 485 235 372 E882 127 160 170 V880 595 909 V443 490 343 319 130 698 E823 246 854 868 872 982 151 V853 980 E980 291 517 268 487 E866 796 V452 036 354 648 701 V063 V038 227 614 533 736 942 E924 240 921 V454 977 759 768 923 E816 681 138 358 950 922 205 990 009 619 417 279 257 E860 755 991 E957 241 810 920 V461 V127 261 429 550 874 756 935 831 718 962 E858 803 480 674 277 880 879 377 529 047 083 835 462 336 E947 V160 420 317 454 E883 840 V550 960 586 933 597 350 E911 742 V614 298 V551 620 716 V462 V180 706 565 452 825 322 154 040 110 605 607 461 704 713 945 052 948 323 325 934 516 039 975 971 994 666 V111 907 E929 566 603 405 049 237 V161 V553 262 743 422 337 625 757 527 309 815 V163 402 869 E912 188 590 V852 V446 E852 886 E919 183 862 875 877 890 E944 E936 V444 598 V552 226 E818 617 E958 V123 748 968 V298 465 972 E826 905 E969 744 E829 V301 388 V146 V151 887 375 334 E848 E918 284 E876 260 987 E890 834 522 692 V588 310 863 E834 192 035 V174 171 738 220 477 212 172 V548 726 526 V099 777 749 E922 952 V320 901 542 449 V011 963 E822 524 V052 V539 144 445 321 380 604 383 587 137 845 695 V496 180 618 V102 540 525 916 174 V628 892 816 V171 520 708 176 791 V854 E906 V714 V554 V435 883 927 V434 007 581 V202 140 642 644 654 V270 V252 193 V838 V555 139 V195 V068 601 826 694 626 956 245 919 299 727 684 647 E941 V850 665 391 308 633 639 V230 V061 223 269 V183 046 534 361 673 643 986 005 034 382 239 232 V169 E901 908 634 836 616 E917 734 V698 133 E887 V445 V155 E949 142 E987 236 470 463 E940 229 448 702 182 E825 V851 814 V881 259 906 161 E891 830 E953 195 093 472 914 E988 930 543 686 900 075 705 939 381 V311 V168 018 004 917 483 656 641 217 V291 V164 E943 134 635 659 E920 506 E869 111 096 094 123 158 141 243 690 097 632 989 964 027 V596 373 V017 254 932 187 353 669 V504 602 843 912 374 983 E864 031 210 114 646 077 V018 670 615 V638 V135 938 V580 680 878 E965 471 652 663 658 V272 213 032 148 V643 V148 V062 E989 E927 131 233 V040 V066 125 V503 V581 V292 V192 700 703 209 V029 208 697 E871 184 015 146 V140 V154 992 249 149 V142 844 175 V542 363 V152 V106 V688 V265 012 885 E955 V530 385 V124 V741 390 474 627 817 230 E817 V198 E862 258 V463 735 V024 V640 976 E861 V765 V023 V626 E828 V188 341 V560 798 V448 893 495 084 523 V653 953 V549 V095 V182 621 475 V425 058 306 V165 551 E831 V136 V109 256 219 221 961 985 828 671 E820 897 V840 926 V421 048 594 896 082 E986 541 145 267 683 V097 732 265 011 E801 V185 664 V620 E840 V166 V468 629 115 V587 E908 120 V708 098 V469 V694 E824 E970 121 838 832 460 013 V239 944 V189 946 118 326 E945 645 352 159 E967 V618 147 V908 941 312 624 V186 V145 661 010 E865 091 E886 649 E905 E962 V612 E959 502 V438 V222 163 947 V162 E946 V716 315 367 V540 846 717 V561 V175 842 V138 V703 V583 841 672 062 488 347 339 E841 086 V400 E985 655 974 V289 V604 V074 V728 371 190 V126 090 143 943 V611 V331 085 V172 E835 668 740 V167 V558 E851 E811 V430 837 V072 V431 302 E923 V110 E900 V562 E963 E964 V118 V624 E800 988 833 023 V020 021 003 V660 E806 313 E954 V860 660 V449 231 V602 186 E863 E874 V721 V181 651 033 V654 E804 330 610 384 E838 E001 973 819 014 132 E899 925 207 V861 E002 E030 E000 894 E873 E999 E976 E003 V016 E805 045 V610 V078 V510 E029 848 E006 V403 122 V536 E013 E019 173 E913 677 E008 V568 V143 V091 V872 066 V601 116 V882 V065 538 V655 316 E007 E016 E921 V902 206 V254 099 V489 V870 E977 628 V250 E982 V486 539 V073 937 V812 030 V271 589 V672 V671 E926 E925 E857 V537 954 E827 657 V910 V789 V037 E975 V045 V848 393 V426 179 387 V903 E856 V901 915').split(' ')\n",
    "# classes = ['401', '428', '427', '276', '414', '272', '250', '285', '518', '584']\n",
    "\n",
    "true_labels = []\n",
    "predicted_labels = []\n",
    "\n",
    "for i,j in tqdm(raw_test_df.iterrows()): \n",
    "    try : \n",
    "        true_label = j.short_codes.split(',')\n",
    "        expanded_query = search_symptoms(j.Symptoms, limit = 2)\n",
    "        \n",
    "        true_labels.append(list(set(true_label)))\n",
    "        limit_ = len(true_label)\n",
    "        pred_labels = get_prioritized_relationships(expanded_query,weightage=5,limit = limit_)[0]\n",
    "        predicted_labels.append(pred_labels)\n",
    "        if i==100:\n",
    "            break\n",
    "    except : \n",
    "        print(j.Symptoms)\n",
    "\n"
   ]
  },
  {
   "cell_type": "code",
   "execution_count": null,
   "metadata": {},
   "outputs": [],
   "source": [
    "for i in range(1000) :\n",
    "    true_ =  true_labels[i]\n",
    "    pred = predicted_labels[i]\n",
    "    matching = set(true_labels[i]).intersection(set(predicted_labels[i]))\n",
    "    # if  (len(true_) == len(matching) or len(pred) == len(matching)) and len(matching)>=5 : \n",
    "        # print(i)"
   ]
  },
  {
   "cell_type": "code",
   "execution_count": null,
   "metadata": {},
   "outputs": [
    {
     "name": "stdout",
     "output_type": "stream",
     "text": [
      "True : ['198', '272', '496', '530', 'V101'], \n",
      "Predicted : [],\n",
      "Matching : []\n"
     ]
    }
   ],
   "source": [
    "i = 93\n",
    "print(f'True : {sorted(true_labels[i])}, \\nPredicted : {sorted(predicted_labels[i])},\\nMatching : {sorted(set(true_labels[i]).intersection(set(predicted_labels[i])))}')"
   ]
  },
  {
   "cell_type": "code",
   "execution_count": null,
   "metadata": {},
   "outputs": [],
   "source": [
    "# true_binary_matrix"
   ]
  },
  {
   "cell_type": "code",
   "execution_count": null,
   "metadata": {},
   "outputs": [
    {
     "name": "stdout",
     "output_type": "stream",
     "text": [
      "['413', '272', 'V158', '998', '414', 'V458', 'V153', 'V874', 'E878', '401', 'V102'] ['414', '272', '401', '411', '250', '427', '413', '997', '424', 'V458', '530']\n",
      "{'413', '272', '414', 'V458', '401'}\n"
     ]
    }
   ],
   "source": [
    "i = 1\n",
    "print(true_labels[i], predicted_labels[i])\n",
    "print(set(true_labels[i]).intersection(set(predicted_labels[i])))"
   ]
  },
  {
   "cell_type": "code",
   "execution_count": 49,
   "metadata": {},
   "outputs": [
    {
     "name": "stderr",
     "output_type": "stream",
     "text": [
      "Processing Batches: 100%|██████████| 1/1 [00:00<00:00, 13.87it/s]"
     ]
    },
    {
     "name": "stdout",
     "output_type": "stream",
     "text": [
      "{'roc_auc': 0.5198194289550647, 'f1_macro': 0.057913421124119, 'f1_micro': 0.31714568880079286, 'precision_macro': 0.07160812572023652, 'precision_micro': 0.321285140562249, 'recall_macro': 0.07136549443660721, 'recall_micro': 0.3131115459882583}\n"
     ]
    },
    {
     "name": "stderr",
     "output_type": "stream",
     "text": [
      "\n"
     ]
    }
   ],
   "source": [
    "from tqdm import tqdm\n",
    "from sklearn.metrics import roc_auc_score, f1_score, precision_score, recall_score\n",
    "\n",
    "# Define batch size\n",
    "batch_size = 100 # Adjust based on memory limits\n",
    "\n",
    "metrics_list = []\n",
    "\n",
    "# Process batches directly from the labels, converting each batch to binary format on-the-fly\n",
    "for i in tqdm(range(0, len(true_labels), batch_size), desc=\"Processing Batches\"):\n",
    "    batch_true_labels = true_labels[i:i + batch_size]\n",
    "    batch_pred_labels = predicted_labels[i:i + batch_size]\n",
    "\n",
    "\n",
    "    # Create binary matrices for each batch\n",
    "    batch_true_matrix = create_binary_matrix(batch_true_labels, classes)\n",
    "    batch_pred_matrix = create_binary_matrix(batch_pred_labels, classes)\n",
    "    \n",
    "    # Calculate metrics for the current batch\n",
    "    batch_metrics = roc_auc_f1_precision_recall(batch_pred_matrix, batch_true_matrix, multilabel=True)\n",
    "    metrics_list.append(batch_metrics)\n",
    "\n",
    "\n",
    "# Average metrics across all batches\n",
    "final_metrics = {k: sum(d[k] for d in metrics_list) / len(metrics_list) for k in metrics_list[0]}\n",
    "print(final_metrics)\n"
   ]
  },
  {
   "cell_type": "code",
   "execution_count": null,
   "metadata": {},
   "outputs": [],
   "source": [
    "auroc_score = roc_auc_f1_precision_recall(predicted_binary_matrix, true_binary_matrix, multilabel=True)\n",
    "print(f\"AUROC Score: {auroc_score}\")"
   ]
  },
  {
   "cell_type": "code",
   "execution_count": 56,
   "metadata": {},
   "outputs": [
    {
     "data": {
      "text/html": [
       "<style type=\"text/css\">\n",
       "#T_51c10 caption {\n",
       "  color: Brown;\n",
       "  font-size: 20px;\n",
       "  font-weight: bold;\n",
       "}\n",
       "</style>\n",
       "<table id=\"T_51c10\">\n",
       "  <thead>\n",
       "    <tr>\n",
       "      <th class=\"blank level0\" >&nbsp;</th>\n",
       "      <th id=\"T_51c10_level0_col0\" class=\"col_heading level0 col0\" >Symptoms</th>\n",
       "      <th id=\"T_51c10_level0_col1\" class=\"col_heading level0 col1\" >short_codes</th>\n",
       "    </tr>\n",
       "  </thead>\n",
       "  <tbody>\n",
       "    <tr>\n",
       "      <th id=\"T_51c10_level0_row0\" class=\"row_heading level0 row0\" >0</th>\n",
       "      <td id=\"T_51c10_row0_col0\" class=\"data row0 col0\" >['Gross hematuria', 'Weight loss', 'Fullness in left upper quadrant', 'Fatigue', 'Night sweats', 'Cough']</td>\n",
       "      <td id=\"T_51c10_row0_col1\" class=\"data row0 col1\" >189,196,198,197,276</td>\n",
       "    </tr>\n",
       "    <tr>\n",
       "      <th id=\"T_51c10_level0_row1\" class=\"row_heading level0 row1\" >1</th>\n",
       "      <td id=\"T_51c10_row1_col0\" class=\"data row1 col0\" >['exertional angina']</td>\n",
       "      <td id=\"T_51c10_row1_col1\" class=\"data row1 col1\" >414,998,413,401,272,V158,V458,V153,V102,V874,E878</td>\n",
       "    </tr>\n",
       "    <tr>\n",
       "      <th id=\"T_51c10_level0_row2\" class=\"row_heading level0 row2\" >2</th>\n",
       "      <td id=\"T_51c10_row2_col0\" class=\"data row2 col0\" >['Respiratory failure', 'Labored breathing', 'Accessory muscle use', 'Serum leakage', 'Serosanguinous fluid leakage', 'Cachectic', 'No LE edema', 'Rhonchi anteriorly', 'CTAB laterally on both sides', 'Mild erythema around site', 'LE cachectic', 'No LE edema']</td>\n",
       "      <td id=\"T_51c10_row2_col1\" class=\"data row2 col1\" >507,518,255,478,758,345,251,458,300,536,V441</td>\n",
       "    </tr>\n",
       "    <tr>\n",
       "      <th id=\"T_51c10_level0_row3\" class=\"row_heading level0 row3\" >3</th>\n",
       "      <td id=\"T_51c10_row3_col0\" class=\"data row3 col0\" >['heart murmur since childhood', 'increase in the size of the ascending aorta', 'tachycardia with a heart rate of around 117']</td>\n",
       "      <td id=\"T_51c10_row3_col1\" class=\"data row3 col1\" >424,746,441,785</td>\n",
       "    </tr>\n",
       "    <tr>\n",
       "      <th id=\"T_51c10_level0_row4\" class=\"row_heading level0 row4\" >4</th>\n",
       "      <td id=\"T_51c10_row4_col0\" class=\"data row4 col0\" >['Right upper quadrant pain', 'Fever', 'Elevated LFTs', 'Pus in the bile duct', 'Small stone causing obstruction', 'Stricture in the CBD', 'Pulmonary bronchiectasis', 'Jaundice']</td>\n",
       "      <td id=\"T_51c10_row4_col1\" class=\"data row4 col1\" >576,038,518,574,995,427,287,873,E928</td>\n",
       "    </tr>\n",
       "  </tbody>\n",
       "</table>\n"
      ],
      "text/plain": [
       "<pandas.io.formats.style.Styler at 0x3623bf8f0>"
      ]
     },
     "execution_count": 56,
     "metadata": {},
     "output_type": "execute_result"
    }
   ],
   "source": [
    "set_frame_style(pd.DataFrame(raw_test_df[['Symptoms', 'short_codes']]).head())"
   ]
  },
  {
   "cell_type": "markdown",
   "metadata": {},
   "source": []
  },
  {
   "cell_type": "code",
   "execution_count": null,
   "metadata": {},
   "outputs": [],
   "source": [
    "import optuna\n",
    "from sklearn.metrics import f1_score, precision_score, recall_score, roc_auc_score\n",
    "from tqdm import tqdm\n",
    "\n",
    "# Define the objective function to optimize\n",
    "def objective(trial):\n",
    "    weight = trial.suggest_int('weight', 1, 5)\n",
    "    limit_kg = trial.suggest_int('limit_kg', 5, 40)\n",
    "    expansion_limit = trial.suggest_int('expansion_limit', 1, 10)\n",
    "    true_labels = []\n",
    "    predicted_labels = []\n",
    "    for i, j in tqdm(raw_test_df.iterrows()):\n",
    "        true_label = j.short_codes.split(',')\n",
    "        true_labels.append(list(set(true_label)))\n",
    "        try: \n",
    "            expanded_query = search_symptoms(list(j.Symptoms), limit=expansion_limit)\n",
    "        except:\n",
    "            expanded_query = list(j.Symptoms)\n",
    "        pred_labels_kg = get_prioritized_relationships(expanded_query, weightage=weight, limit=limit_kg)[0]\n",
    "        pred_labels = list(set(pred_labels_kg))\n",
    "        predicted_labels.append(pred_labels)\n",
    "        if i == 100:\n",
    "            break\n",
    "    true_binary_matrix = create_binary_matrix(true_labels, classes)\n",
    "    predicted_binary_matrix = create_binary_matrix(predicted_labels, classes)\n",
    "    # Calculate the F1 score to optimize\n",
    "    f1 = roc_auc_f1_precision_recall(predicted_binary_matrix, true_binary_matrix, multilabel=True)['recall_micro']\n",
    "    return f1\n",
    "\n",
    "# Create an Optuna study to maximize F1 score\n",
    "study = optuna.create_study(direction='maximize')\n",
    "study.optimize(objective, n_trials=50)\n",
    "\n",
    "# Print the best parameters found\n",
    "print(\"Best Parameters:\", study.best_params)\n",
    "print(\"Best recall Score:\", study.best_value)"
   ]
  },
  {
   "cell_type": "code",
   "execution_count": null,
   "metadata": {},
   "outputs": [
    {
     "name": "stderr",
     "output_type": "stream",
     "text": [
      "Weightage:   0%|          | 0/19 [00:00<?, ?it/s]"
     ]
    },
    {
     "name": "stdout",
     "output_type": "stream",
     "text": [
      "['Abdominal pain', 'Constipation', 'Gradual worsening of abd distention', 'Lack of flatus', 'No BM x4 days', 'Mild diffuse abd pain', 'Diffuse abd pain', 'No relieving factors', 'Exacerbated by 1d of lack of flatus and no BM x4 days', 'ASx: -f/c, -n/v/d', 'HA/change in vision/neck pain', '-CP/SOB/cough', '-skin color changes', 'Stable BIL LE edema', 'No dysuria and foley remain patent']\n"
     ]
    },
    {
     "name": "stderr",
     "output_type": "stream",
     "text": []
    },
    {
     "name": "stdout",
     "output_type": "stream",
     "text": [
      "[\"extensive microcalcification's\"]\n"
     ]
    },
    {
     "name": "stderr",
     "output_type": "stream",
     "text": []
    },
    {
     "name": "stdout",
     "output_type": "stream",
     "text": [
      "['Abdominal pain', 'Constipation', 'Gradual worsening of abd distention', 'Lack of flatus', 'No BM x4 days', 'Mild diffuse abd pain', 'Diffuse abd pain', 'No relieving factors', 'Exacerbated by 1d of lack of flatus and no BM x4 days', 'ASx: -f/c, -n/v/d', 'HA/change in vision/neck pain', '-CP/SOB/cough', '-skin color changes', 'Stable BIL LE edema', 'No dysuria and foley remain patent']\n"
     ]
    },
    {
     "name": "stderr",
     "output_type": "stream",
     "text": []
    },
    {
     "name": "stdout",
     "output_type": "stream",
     "text": [
      "['Abdominal pain', 'Constipation', 'Gradual worsening of abd distention', 'Lack of flatus', 'No BM x4 days', 'Mild diffuse abd pain', 'Diffuse abd pain', 'No relieving factors', 'Exacerbated by 1d of lack of flatus and no BM x4 days', 'ASx: -f/c, -n/v/d', 'HA/change in vision/neck pain', '-CP/SOB/cough', '-skin color changes', 'Stable BIL LE edema', 'No dysuria and foley remain patent']\n"
     ]
    },
    {
     "name": "stderr",
     "output_type": "stream",
     "text": []
    },
    {
     "name": "stdout",
     "output_type": "stream",
     "text": [
      "['Abdominal pain', 'Constipation', 'Gradual worsening of abd distention', 'Lack of flatus', 'No BM x4 days', 'Mild diffuse abd pain', 'Diffuse abd pain', 'No relieving factors', 'Exacerbated by 1d of lack of flatus and no BM x4 days', 'ASx: -f/c, -n/v/d', 'HA/change in vision/neck pain', '-CP/SOB/cough', '-skin color changes', 'Stable BIL LE edema', 'No dysuria and foley remain patent']\n"
     ]
    },
    {
     "name": "stderr",
     "output_type": "stream",
     "text": []
    },
    {
     "name": "stdout",
     "output_type": "stream",
     "text": [
      "['Abdominal pain', 'Constipation', 'Gradual worsening of abd distention', 'Lack of flatus', 'No BM x4 days', 'Mild diffuse abd pain', 'Diffuse abd pain', 'No relieving factors', 'Exacerbated by 1d of lack of flatus and no BM x4 days', 'ASx: -f/c, -n/v/d', 'HA/change in vision/neck pain', '-CP/SOB/cough', '-skin color changes', 'Stable BIL LE edema', 'No dysuria and foley remain patent']\n"
     ]
    }
   ],
   "source": [
    "weightage_range = range(1,20)\n",
    "limit_range = range(1,10)\n",
    "\n",
    "best_weightage = None\n",
    "best_limit = None\n",
    "best_recall_score = -np.inf\n",
    "\n",
    "\n",
    "for weightage in tqdm(weightage_range, desc='Weightage'):\n",
    "    for limit in tqdm(limit_range, desc='Limit', leave=False):\n",
    "        try: \n",
    "            true_labels = []\n",
    "            predicted_labels = []\n",
    "            \n",
    "            for i, j in raw_test_df.iterrows():\n",
    "                \n",
    "            # if len(j.Symptoms) ==1:   \n",
    "                true_label = j.short_codes.split(',')\n",
    "                true_labels.append(true_label)\n",
    "                \n",
    "                expanded_query = search_symptoms(j.Symptoms, limit = limit)\n",
    "                limit_ = len(true_label)\n",
    "                pred_labels = get_prioritized_relationships(expanded_query, weightage=weightage, limit=limit_)[0]\n",
    "        \n",
    "                predicted_labels.append(pred_labels)\n",
    "                # print(true_labels)\n",
    "                # print(predicted_labels)\n",
    "        \n",
    "            \n",
    "            true_binary_matrix = create_binary_matrix(true_labels, classes)\n",
    "            predicted_binary_matrix = create_binary_matrix(predicted_labels, classes)\n",
    "        \n",
    "            recall = recall_score(true_binary_matrix, predicted_binary_matrix, average='micro')\n",
    "            \n",
    "            if recall > best_recall_score:\n",
    "                best_recall_score = recall\n",
    "                best_weightage = weightage\n",
    "                best_limit = limit\n",
    "        except : \n",
    "            print(j.Symptoms)\n",
    "\n",
    "print(f\"Best Weightage: {best_weightage}\")\n",
    "print(f\"Best Limit: {best_limit}\")\n",
    "print(f\"Best recall Score: {best_recall_score}\")"
   ]
  },
  {
   "cell_type": "code",
   "execution_count": 184,
   "metadata": {},
   "outputs": [
    {
     "name": "stderr",
     "output_type": "stream",
     "text": [
      "Weightage: 100%|██████████| 4/4 [00:09<00:00,  2.48s/it]"
     ]
    },
    {
     "name": "stdout",
     "output_type": "stream",
     "text": [
      "Best Weightage: 4\n",
      "Best Limit: 10\n",
      "Best f1 Score: 0.05582290664100096\n"
     ]
    },
    {
     "name": "stderr",
     "output_type": "stream",
     "text": [
      "\n"
     ]
    }
   ],
   "source": [
    "weightage_range = range(1,5)\n",
    "limit_range = [10]\n",
    "\n",
    "best_weightage = None\n",
    "best_limit = None\n",
    "best_recall_score = -np.inf\n",
    "\n",
    "\n",
    "for weightage in tqdm(weightage_range, desc='Weightage'):\n",
    "    for limit in tqdm(limit_range, desc='Limit', leave=False):\n",
    "        \n",
    "        true_labels = []\n",
    "        predicted_labels = []\n",
    "        \n",
    "        for i, j in raw_test_df.iterrows():\n",
    "            if i==100:\n",
    "              break\n",
    "          # if len(j.Symptoms) ==1:   \n",
    "            true_label = j.short_codes.split(',')\n",
    "            true_labels.append(true_label)\n",
    "            \n",
    "            pred_labels = get_prioritized_relationships(j.Symptoms, weightage=weightage, limit=limit)[0]\n",
    "     \n",
    "            predicted_labels.append(pred_labels)\n",
    "            # print(true_labels)\n",
    "            # print(predicted_labels)\n",
    "      \n",
    "        \n",
    "        true_binary_matrix = create_binary_matrix(true_labels, classes)\n",
    "        predicted_binary_matrix = create_binary_matrix(predicted_labels, classes)\n",
    "       \n",
    "        recall = f1_score(true_binary_matrix, predicted_binary_matrix, average='micro')\n",
    "        \n",
    "        if recall > best_recall_score:\n",
    "            best_recall_score = recall\n",
    "            best_weightage = weightage\n",
    "            best_limit = limit\n",
    "\n",
    "print(f\"Best Weightage: {best_weightage}\")\n",
    "print(f\"Best Limit: {best_limit}\")\n",
    "print(f\"Best f1 Score: {best_recall_score}\")"
   ]
  },
  {
   "cell_type": "code",
   "execution_count": 185,
   "metadata": {},
   "outputs": [
    {
     "name": "stderr",
     "output_type": "stream",
     "text": [
      "Weightage: 100%|██████████| 4/4 [00:09<00:00,  2.47s/it]"
     ]
    },
    {
     "name": "stdout",
     "output_type": "stream",
     "text": [
      "Best Weightage: 4\n",
      "Best Limit: 10\n",
      "Best precision Score: 0.02882308588662691\n"
     ]
    },
    {
     "name": "stderr",
     "output_type": "stream",
     "text": [
      "\n"
     ]
    }
   ],
   "source": [
    "weightage_range = range(1,5)\n",
    "limit_range = [10]\n",
    "\n",
    "best_weightage = None\n",
    "best_limit = None\n",
    "best_recall_score = -np.inf\n",
    "\n",
    "\n",
    "for weightage in tqdm(weightage_range, desc='Weightage'):\n",
    "    for limit in tqdm(limit_range, desc='Limit', leave=False):\n",
    "        \n",
    "        true_labels = []\n",
    "        predicted_labels = []\n",
    "        \n",
    "        for i, j in raw_test_df.iterrows():\n",
    "            if i==100:\n",
    "              break\n",
    "          # if len(j.Symptoms) ==1:   \n",
    "            true_label = j.short_codes.split(',')\n",
    "            true_labels.append(true_label)\n",
    "            \n",
    "            pred_labels = get_prioritized_relationships(j.Symptoms, weightage=weightage, limit=limit)[0]\n",
    "     \n",
    "            predicted_labels.append(pred_labels)\n",
    "            # print(true_labels)\n",
    "            # print(predicted_labels)\n",
    "      \n",
    "        \n",
    "        true_binary_matrix = create_binary_matrix(true_labels, classes)\n",
    "        predicted_binary_matrix = create_binary_matrix(predicted_labels, classes)\n",
    "       \n",
    "        recall = precision_score(true_binary_matrix, predicted_binary_matrix, average='micro')\n",
    "        \n",
    "        if recall > best_recall_score:\n",
    "            best_recall_score = recall\n",
    "            best_weightage = weightage\n",
    "            best_limit = limit\n",
    "\n",
    "print(f\"Best Weightage: {best_weightage}\")\n",
    "print(f\"Best Limit: {best_limit}\")\n",
    "print(f\"Best precision Score: {best_recall_score}\")"
   ]
  },
  {
   "cell_type": "code",
   "execution_count": 139,
   "metadata": {},
   "outputs": [
    {
     "data": {
      "text/plain": [
       "<generator object DataFrame.iterrows at 0x358ed9030>"
      ]
     },
     "execution_count": 139,
     "metadata": {},
     "output_type": "execute_result"
    }
   ],
   "source": [
    "raw_test_df.iterrows()"
   ]
  },
  {
   "cell_type": "code",
   "execution_count": 125,
   "metadata": {},
   "outputs": [
    {
     "data": {
      "image/png": "[encoded data removed]",
      "text/plain": [
       "<Figure size 640x480 with 1 Axes>"
      ]
     },
     "metadata": {},
     "output_type": "display_data"
    }
   ],
   "source": [
    "plt.hist(test_df.id.value_counts())\n",
    "plt.title('Number of ICD-9 codes distribution across multiple subjectids ')\n",
    "plt.show()"
   ]
  },
  {
   "cell_type": "code",
   "execution_count": 45,
   "metadata": {},
   "outputs": [
    {
     "name": "stderr",
     "output_type": "stream",
     "text": [
      "Weightage: 100%|██████████| 18/18 [01:29<00:00,  4.98s/it]"
     ]
    },
    {
     "name": "stdout",
     "output_type": "stream",
     "text": [
      "Best Weightage: 19\n",
      "Best Limit: 1\n",
      "Best AUROC Score: 0.5540430653135571\n"
     ]
    },
    {
     "name": "stderr",
     "output_type": "stream",
     "text": [
      "\n"
     ]
    }
   ],
   "source": [
    "weightage_range = range(2, 20) \n",
    "limit_range = range(1, 20) \n",
    "\n",
    "best_weightage = None\n",
    "best_limit = None\n",
    "best_auroc_score = -np.inf\n",
    "\n",
    "for weightage in tqdm(weightage_range, desc='Weightage'):\n",
    "    for limit in tqdm(limit_range, desc='Limit', leave=False):\n",
    "        \n",
    "        true_labels = []\n",
    "        predicted_labels = []\n",
    "        \n",
    "        for i, j in raw_test_df.iterrows(): \n",
    "            true_label = j.short_codes.split(',')\n",
    "            true_labels.append(list(set(true_label)))\n",
    "            pred_labels = get_prioritized_relationships(j.Symptoms, weightage=weightage, limit=limit)[0]\n",
    "            predicted_labels.append(pred_labels)\n",
    "            if i == 10: \n",
    "                break\n",
    "        \n",
    "        true_binary_matrix = create_binary_matrix(true_labels, classes)\n",
    "        predicted_binary_matrix = create_binary_matrix(predicted_labels, classes)\n",
    "        \n",
    "        auroc_score = roc_auc(predicted_binary_matrix, true_binary_matrix, multilabel=True)\n",
    "        \n",
    "        if auroc_score > best_auroc_score:\n",
    "            best_auroc_score = auroc_score\n",
    "            best_weightage = weightage\n",
    "            best_limit = limit\n",
    "\n",
    "print(f\"Best Weightage: {best_weightage}\")\n",
    "print(f\"Best Limit: {best_limit}\")\n",
    "print(f\"Best AUROC Score: {best_auroc_score}\")\n"
   ]
  },
  {
   "cell_type": "code",
   "execution_count": 211,
   "metadata": {},
   "outputs": [
    {
     "name": "stderr",
     "output_type": "stream",
     "text": [
      "Weightage: 100%|██████████| 18/18 [00:39<00:00,  2.22s/it]"
     ]
    },
    {
     "name": "stdout",
     "output_type": "stream",
     "text": [
      "Best Weightage: 2\n",
      "Best Limit: 15\n",
      "Best Recall Score: 1.0\n"
     ]
    },
    {
     "name": "stderr",
     "output_type": "stream",
     "text": [
      "\n"
     ]
    }
   ],
   "source": [
    "weightage_range = range(2, 20)  \n",
    "limit_range = range(1, 20) \n",
    "\n",
    "best_weightage = None\n",
    "best_limit = None\n",
    "best_recall_score = -np.inf\n",
    "\n",
    "\n",
    "for weightage in tqdm(weightage_range, desc='Weightage'):\n",
    "    for limit in tqdm(limit_range, desc='Limit', leave=False):\n",
    "        \n",
    "        true_labels = []\n",
    "        predicted_labels = []\n",
    "        \n",
    "        for i, j in raw_test_df.iterrows(): \n",
    "            true_label = j.short_codes.split(',')\n",
    "            true_labels.append(true_label)\n",
    "            pred_labels = get_prioritized_relationships(j.Symptoms, weightage=weightage, limit=limit)[0]\n",
    "            predicted_labels.append(pred_labels)\n",
    "            if i == 5:  \n",
    "                break\n",
    "        \n",
    "        true_binary_matrix = create_binary_matrix(true_labels, classes)\n",
    "        predicted_binary_matrix = create_binary_matrix(predicted_labels, classes)\n",
    "       \n",
    "        recall = recall_score(true_binary_matrix, predicted_binary_matrix, average='micro')\n",
    "    \n",
    "        if recall > best_recall_score:\n",
    "            best_recall_score = recall\n",
    "            best_weightage = weightage\n",
    "            best_limit = limit\n",
    "\n",
    "print(f\"Best Weightage: {best_weightage}\")\n",
    "print(f\"Best Limit: {best_limit}\")\n",
    "print(f\"Best Recall Score: {best_recall_score}\")\n"
   ]
  },
  {
   "cell_type": "code",
   "execution_count": 212,
   "metadata": {},
   "outputs": [
    {
     "name": "stderr",
     "output_type": "stream",
     "text": [
      "Weightage: 100%|██████████| 18/18 [00:38<00:00,  2.13s/it]"
     ]
    },
    {
     "name": "stdout",
     "output_type": "stream",
     "text": [
      "Best Weightage: 2\n",
      "Best Limit: 9\n",
      "Best Precision Score: 0.2894736842105263\n"
     ]
    },
    {
     "name": "stderr",
     "output_type": "stream",
     "text": [
      "\n"
     ]
    }
   ],
   "source": [
    "weightage_range = range(2, 20) \n",
    "limit_range = range(1, 20) \n",
    "\n",
    "best_weightage = None\n",
    "best_limit = None\n",
    "best_precision_score = -np.inf\n",
    "\n",
    "for weightage in tqdm(weightage_range, desc='Weightage'):\n",
    "    for limit in tqdm(limit_range, desc='Limit', leave=False):\n",
    "        \n",
    "        true_labels = []\n",
    "        predicted_labels = []\n",
    "        \n",
    "        for i, j in raw_test_df.iterrows(): \n",
    "            true_label = j.short_codes.split(',')\n",
    "            true_labels.append(true_label)\n",
    "            pred_labels = get_prioritized_relationships(j.Symptoms, weightage=weightage, limit=limit)[0]\n",
    "            predicted_labels.append(pred_labels)\n",
    "            if i == 5:  \n",
    "                break\n",
    "        \n",
    "        true_binary_matrix = create_binary_matrix(true_labels, classes)\n",
    "        predicted_binary_matrix = create_binary_matrix(predicted_labels, classes)\n",
    "        \n",
    "        precision = precision_score(true_binary_matrix, predicted_binary_matrix, average='micro')\n",
    "        \n",
    "   \n",
    "        if precision > best_precision_score:\n",
    "            best_precision_score = precision\n",
    "            best_weightage = weightage\n",
    "            best_limit = limit\n",
    "\n",
    "print(f\"Best Weightage: {best_weightage}\")\n",
    "print(f\"Best Limit: {best_limit}\")\n",
    "print(f\"Best Precision Score: {best_precision_score}\")\n"
   ]
  },
  {
   "cell_type": "markdown",
   "metadata": {},
   "source": [
    "> #### Check if the classes are in test dataset or not"
   ]
  },
  {
   "cell_type": "code",
   "execution_count": 213,
   "metadata": {},
   "outputs": [
    {
     "data": {
      "text/plain": [
       "(array([[1, 0, 0, 0, 0, 0],\n",
       "        [0, 0, 1, 0, 1, 1]]),\n",
       " array([[1, 0, 0, 1, 0, 0],\n",
       "        [0, 0, 1, 0, 1, 0]]))"
      ]
     },
     "execution_count": 213,
     "metadata": {},
     "output_type": "execute_result"
    }
   ],
   "source": [
    "classes = ['276', '428', '518', '038', '427', '584']  \n",
    "\n",
    "def create_binary_matrix(labels, classes):\n",
    " \n",
    "    binary_matrix = np.zeros((len(labels), len(classes)), dtype=int)\n",
    "    \n",
    "\n",
    "    for i, label_list in enumerate(labels):\n",
    "        for label in label_list:\n",
    "            if label in classes:\n",
    "                idx = classes.index(label)\n",
    "                binary_matrix[i, idx] = 1\n",
    "                \n",
    "    return binary_matrix\n",
    "\n",
    "true_labels = [\n",
    "    ['276', '498','034'],  \n",
    "    ['427', '584','518']\n",
    "\n",
    "]\n",
    "\n",
    "predicted_labels = [\n",
    "    ['276', '038','034'],  \n",
    "    ['927', '427','518']\n",
    "\n",
    "]\n",
    "\n",
    "true_binary_matrix = create_binary_matrix(true_labels, classes)\n",
    "predicted_binary_matrix = create_binary_matrix(predicted_labels, classes)\n",
    "true_binary_matrix, predicted_binary_matrix"
   ]
  },
  {
   "cell_type": "code",
   "execution_count": 214,
   "metadata": {},
   "outputs": [
    {
     "name": "stdout",
     "output_type": "stream",
     "text": [
      "[[1 0 0 0]\n",
      " [0 1 1 1]]\n",
      "[[1 0 0 0]\n",
      " [0 1 1 0]]\n",
      "2 columns not considered for ROC AUC calculation!\n",
      "AUROC Score: 0.875\n"
     ]
    }
   ],
   "source": [
    "def roc_auc(probs, labels, multilabel=False, average='macro', multi_class='ovo'):\n",
    "    if isinstance(labels, list):\n",
    "        labels = np.array(labels, dtype=int)\n",
    "    else:\n",
    "        labels = labels.astype(int)\n",
    "\n",
    "    y_score = probs\n",
    "\n",
    "    if multilabel:\n",
    "\n",
    "        dim_size = len(labels[0])\n",
    "        \n",
    "        mask = np.ones((dim_size), dtype=bool)\n",
    "        \n",
    "        for c in range(dim_size):\n",
    "            if max(labels[:, c]) == 0:\n",
    "                mask[c] = False\n",
    "\n",
    "        labels = labels[:, mask]\n",
    "        y_score = np.array(probs)[:, mask]\n",
    "        \n",
    "        print(labels)\n",
    "        print(y_score)\n",
    "        filtered_cols = np.count_nonzero(mask == False)\n",
    "        print(f\"{filtered_cols} columns not considered for ROC AUC calculation!\")\n",
    "\n",
    "    return roc_auc_score(y_true=labels, y_score=y_score, average=average, multi_class=multi_class)\n",
    "\n",
    "\n",
    "auroc_score = roc_auc(predicted_binary_matrix, true_binary_matrix, multilabel=True)\n",
    "print(f\"AUROC Score: {auroc_score}\")\n"
   ]
  },
  {
   "cell_type": "code",
   "execution_count": 215,
   "metadata": {},
   "outputs": [],
   "source": [
    "from sklearn.metrics import precision_score, recall_score, f1_score"
   ]
  },
  {
   "cell_type": "code",
   "execution_count": 216,
   "metadata": {},
   "outputs": [
    {
     "name": "stdout",
     "output_type": "stream",
     "text": [
      "Precision: 0.5\n",
      "Recall: 0.5\n",
      "F1-Score: 0.5\n"
     ]
    }
   ],
   "source": [
    "precision = precision_score(true_binary_matrix, predicted_binary_matrix, average='macro', zero_division=0)\n",
    "recall = recall_score(true_binary_matrix, predicted_binary_matrix, average='macro', zero_division=0)\n",
    "f1 = f1_score(true_binary_matrix, predicted_binary_matrix, average='macro', zero_division=0)\n",
    "\n",
    "print(f\"Precision: {precision}\")\n",
    "print(f\"Recall: {recall}\")\n",
    "print(f\"F1-Score: {f1}\")"
   ]
  },
  {
   "cell_type": "markdown",
   "metadata": {},
   "source": [
    "# CODE RANGE ICD-9-CM SECTIONS\n",
    "\n",
    "- **001-139** INFECTIOUS AND PARASITIC DISEASES (001-139)\n",
    "- **140-239** NEOPLASMS (140-239)\n",
    "- **240-279** ENDOCRINE, NUTRITIONAL AND METABOLIC DISEASES, AND IMMUNITY DISORDERS (240-279)\n",
    "- **280-289** DISEASES OF THE BLOOD AND BLOOD-FORMING ORGANS (280-289)\n",
    "- **290-319** MENTAL, BEHAVIORAL AND NEURODEVELOPMENTAL DISORDERS (290-319)\n",
    "- **320-389** DISEASES OF THE NERVOUS SYSTEM AND SENSE ORGANS (320-389)\n",
    "- **390-459** DISEASES OF THE CIRCULATORY SYSTEM (390-459)\n",
    "- **460-519** DISEASES OF THE RESPIRATORY SYSTEM (460-519)\n",
    "- **520-579** DISEASES OF THE DIGESTIVE SYSTEM (520-579)\n",
    "- **580-629** DISEASES OF THE GENITOURINARY SYSTEM (580-629)\n",
    "- **630-679** COMPLICATIONS OF PREGNANCY, CHILDBIRTH, AND THE PUERPERIUM (630-679)\n",
    "- **680-709** DISEASES OF THE SKIN AND SUBCUTANEOUS TISSUE (680-709)\n",
    "- **710-739** DISEASES OF THE MUSCULOSKELETAL SYSTEM AND CONNECTIVE TISSUE (710-739)\n",
    "- **740-759** CONGENITAL ANOMALIES (740-759)\n",
    "- **760-779** CERTAIN CONDITIONS ORIGINATING IN THE PERINATAL PERIOD (760-779)\n",
    "- **780-799** SYMPTOMS, SIGNS, AND ILL-DEFINED CONDITIONS (780-799)\n",
    "- **800-999** INJURY AND POISONING (800-999)\n",
    "- **E000-E999** SUPPLEMENTARY CLASSIFICATION OF EXTERNAL CAUSES OF INJURY AND POISONING (E000-E999)\n",
    "- **V01-V91** SUPPLEMENTARY CLASSIFICATION OF FACTORS INFLUENCING HEALTH STATUS AND CONTACT WITH HEALTH SERVICES (V01-V91)\n"
   ]
  },
  {
   "cell_type": "code",
   "execution_count": 224,
   "metadata": {},
   "outputs": [],
   "source": [
    "short_codes_inst = test_df.copy()"
   ]
  },
  {
   "cell_type": "markdown",
   "metadata": {},
   "source": [
    "### Neoplasms"
   ]
  },
  {
   "cell_type": "code",
   "execution_count": 234,
   "metadata": {},
   "outputs": [],
   "source": [
    "neoplasm_list = []\n",
    "for i,j in test_df.iterrows() :\n",
    "    try :\n",
    "        j.short_codes = int(j.short_codes) \n",
    "        if (j.short_codes>=140) & (j.short_codes<=239) : \n",
    "            neoplasm_list.append(j)\n",
    "    except : \n",
    "        continue"
   ]
  },
  {
   "cell_type": "code",
   "execution_count": 236,
   "metadata": {},
   "outputs": [
    {
     "data": {
      "text/html": [
       "<div>\n",
       "<style scoped>\n",
       "    .dataframe tbody tr th:only-of-type {\n",
       "        vertical-align: middle;\n",
       "    }\n",
       "\n",
       "    .dataframe tbody tr th {\n",
       "        vertical-align: top;\n",
       "    }\n",
       "\n",
       "    .dataframe thead th {\n",
       "        text-align: right;\n",
       "    }\n",
       "</style>\n",
       "<table border=\"1\" class=\"dataframe\">\n",
       "  <thead>\n",
       "    <tr style=\"text-align: right;\">\n",
       "      <th></th>\n",
       "      <th>Symptoms</th>\n",
       "      <th>Diseases</th>\n",
       "      <th>id</th>\n",
       "      <th>icd_9_desc</th>\n",
       "      <th>text</th>\n",
       "      <th>long_texts</th>\n",
       "      <th>short_texts</th>\n",
       "      <th>discharge_summary</th>\n",
       "      <th>short_codes</th>\n",
       "    </tr>\n",
       "  </thead>\n",
       "  <tbody>\n",
       "    <tr>\n",
       "      <th>0</th>\n",
       "      <td>[chest tightness, palpitations, ventricular ec...</td>\n",
       "      <td>[aortic valve fibroelastoma, GERD, Basal Cell ...</td>\n",
       "      <td>109136</td>\n",
       "      <td>Benign neoplasm of heart,Obesity, unspecified,...</td>\n",
       "      <td>CHIEF COMPLAINT: known aortic valve fibroelast...</td>\n",
       "      <td>Benign neoplasm of heart,Obesity, unspecified,...</td>\n",
       "      <td>Benign neoplasm heart,Obesity NOS,Angina pecto...</td>\n",
       "      <td>Admission Date:  [**2149-11-19**]             ...</td>\n",
       "      <td>212</td>\n",
       "    </tr>\n",
       "    <tr>\n",
       "      <th>1</th>\n",
       "      <td>[hematocrit drop, dark stool, melenotic-appear...</td>\n",
       "      <td>[left distal radius fracture, left ulna fractu...</td>\n",
       "      <td>109589</td>\n",
       "      <td>Closed fracture of lower end of radius with ul...</td>\n",
       "      <td>CHIEF COMPLAINT: fall\\n\\nPRESENT ILLNESS: [**A...</td>\n",
       "      <td>Closed fracture of lower end of radius with ul...</td>\n",
       "      <td>Fx low radius w ulna-cl,Blood in stool,Thrombo...</td>\n",
       "      <td>Admission Date:  [**2165-4-24**]              ...</td>\n",
       "      <td>238</td>\n",
       "    </tr>\n",
       "    <tr>\n",
       "      <th>2</th>\n",
       "      <td>[hematocrit drop, dark stool, melenotic-appear...</td>\n",
       "      <td>[left distal radius fracture, left ulna fractu...</td>\n",
       "      <td>109589</td>\n",
       "      <td>Closed fracture of lower end of radius with ul...</td>\n",
       "      <td>CHIEF COMPLAINT: fall\\n\\nPRESENT ILLNESS: [**A...</td>\n",
       "      <td>Closed fracture of lower end of radius with ul...</td>\n",
       "      <td>Fx low radius w ulna-cl,Blood in stool,Thrombo...</td>\n",
       "      <td>Admission Date:  [**2165-4-24**]              ...</td>\n",
       "      <td>239</td>\n",
       "    </tr>\n",
       "    <tr>\n",
       "      <th>3</th>\n",
       "      <td>[syncope, UGIB, melenotic stool, urge to have ...</td>\n",
       "      <td>[end stage renal disease, hypertension, hyperc...</td>\n",
       "      <td>161038</td>\n",
       "      <td>Chronic or unspecified gastric ulcer with hemo...</td>\n",
       "      <td>CHIEF COMPLAINT: syncope, UGIB\\n\\nPRESENT ILLN...</td>\n",
       "      <td>Chronic or unspecified gastric ulcer with hemo...</td>\n",
       "      <td>Chr stomach ulc w hem,Ac posthemorrhag anemia,...</td>\n",
       "      <td>Admission Date:  [**2105-1-30**]              ...</td>\n",
       "      <td>154</td>\n",
       "    </tr>\n",
       "    <tr>\n",
       "      <th>4</th>\n",
       "      <td>[one day headache on the left, vomiting, incre...</td>\n",
       "      <td>[cerebellar astrocytoma, recurrence of tumor, ...</td>\n",
       "      <td>179776</td>\n",
       "      <td>Chronic viral hepatitis B without mention of h...</td>\n",
       "      <td>CHIEF COMPLAINT: \\n\\nPRESENT ILLNESS: The pati...</td>\n",
       "      <td>Chronic viral hepatitis B without mention of h...</td>\n",
       "      <td>Hpt B chrn wo cm wo dlta,Pancreatic disorder N...</td>\n",
       "      <td>Admission Date:  [**2195-8-26**]       Dischar...</td>\n",
       "      <td>191</td>\n",
       "    </tr>\n",
       "  </tbody>\n",
       "</table>\n",
       "</div>"
      ],
      "text/plain": [
       "                                            Symptoms  \\\n",
       "0  [chest tightness, palpitations, ventricular ec...   \n",
       "1  [hematocrit drop, dark stool, melenotic-appear...   \n",
       "2  [hematocrit drop, dark stool, melenotic-appear...   \n",
       "3  [syncope, UGIB, melenotic stool, urge to have ...   \n",
       "4  [one day headache on the left, vomiting, incre...   \n",
       "\n",
       "                                            Diseases      id  \\\n",
       "0  [aortic valve fibroelastoma, GERD, Basal Cell ...  109136   \n",
       "1  [left distal radius fracture, left ulna fractu...  109589   \n",
       "2  [left distal radius fracture, left ulna fractu...  109589   \n",
       "3  [end stage renal disease, hypertension, hyperc...  161038   \n",
       "4  [cerebellar astrocytoma, recurrence of tumor, ...  179776   \n",
       "\n",
       "                                          icd_9_desc  \\\n",
       "0  Benign neoplasm of heart,Obesity, unspecified,...   \n",
       "1  Closed fracture of lower end of radius with ul...   \n",
       "2  Closed fracture of lower end of radius with ul...   \n",
       "3  Chronic or unspecified gastric ulcer with hemo...   \n",
       "4  Chronic viral hepatitis B without mention of h...   \n",
       "\n",
       "                                                text  \\\n",
       "0  CHIEF COMPLAINT: known aortic valve fibroelast...   \n",
       "1  CHIEF COMPLAINT: fall\\n\\nPRESENT ILLNESS: [**A...   \n",
       "2  CHIEF COMPLAINT: fall\\n\\nPRESENT ILLNESS: [**A...   \n",
       "3  CHIEF COMPLAINT: syncope, UGIB\\n\\nPRESENT ILLN...   \n",
       "4  CHIEF COMPLAINT: \\n\\nPRESENT ILLNESS: The pati...   \n",
       "\n",
       "                                          long_texts  \\\n",
       "0  Benign neoplasm of heart,Obesity, unspecified,...   \n",
       "1  Closed fracture of lower end of radius with ul...   \n",
       "2  Closed fracture of lower end of radius with ul...   \n",
       "3  Chronic or unspecified gastric ulcer with hemo...   \n",
       "4  Chronic viral hepatitis B without mention of h...   \n",
       "\n",
       "                                         short_texts  \\\n",
       "0  Benign neoplasm heart,Obesity NOS,Angina pecto...   \n",
       "1  Fx low radius w ulna-cl,Blood in stool,Thrombo...   \n",
       "2  Fx low radius w ulna-cl,Blood in stool,Thrombo...   \n",
       "3  Chr stomach ulc w hem,Ac posthemorrhag anemia,...   \n",
       "4  Hpt B chrn wo cm wo dlta,Pancreatic disorder N...   \n",
       "\n",
       "                                   discharge_summary  short_codes  \n",
       "0  Admission Date:  [**2149-11-19**]             ...          212  \n",
       "1  Admission Date:  [**2165-4-24**]              ...          238  \n",
       "2  Admission Date:  [**2165-4-24**]              ...          239  \n",
       "3  Admission Date:  [**2105-1-30**]              ...          154  \n",
       "4  Admission Date:  [**2195-8-26**]       Dischar...          191  "
      ]
     },
     "execution_count": 236,
     "metadata": {},
     "output_type": "execute_result"
    }
   ],
   "source": [
    "neoplasm_df = pd.DataFrame(neoplasm_list).reset_index(drop = True)\n",
    "neoplasm_df.head()"
   ]
  },
  {
   "cell_type": "code",
   "execution_count": 238,
   "metadata": {},
   "outputs": [
    {
     "data": {
      "text/plain": [
       "60"
      ]
     },
     "execution_count": 238,
     "metadata": {},
     "output_type": "execute_result"
    }
   ],
   "source": [
    "neoplasm_df.short_codes.nunique()"
   ]
  },
  {
   "cell_type": "code",
   "execution_count": 251,
   "metadata": {},
   "outputs": [
    {
     "name": "stdout",
     "output_type": "stream",
     "text": [
      "[141, 142, 144, 145, 147, 148, 150, 151, 152, 153, 154, 155, 156, 157, 158, 161, 162, 163, 164, 171, 172, 173, 174, 180, 182, 183, 184, 185, 188, 189, 191, 194, 196, 197, 198, 199, 200, 201, 202, 203, 204, 205, 208, 209, 211, 212, 214, 215, 218, 220, 225, 227, 228, 230, 233, 235, 236, 237, 238, 239]\n"
     ]
    }
   ],
   "source": [
    "neoplasm_classes = list(set(neoplasm_df.short_codes))\n",
    "print(neoplasm_classes)"
   ]
  },
  {
   "cell_type": "code",
   "execution_count": 242,
   "metadata": {},
   "outputs": [
    {
     "name": "stderr",
     "output_type": "stream",
     "text": [
      "2686it [00:51, 51.96it/s]\n"
     ]
    }
   ],
   "source": [
    "true_labels = []\n",
    "predicted_labels = []\n",
    "\n",
    "for i,j in tqdm(raw_test_df.iterrows()): \n",
    "    true_label = j.short_codes.split(',')\n",
    "    true_labels.append(list(set(true_label)))\n",
    "    pred_labels = get_prioritized_relationships(j.Symptoms,weightage=1,limit = 8)[0]\n",
    "    predicted_labels.append(pred_labels)\n"
   ]
  },
  {
   "cell_type": "markdown",
   "metadata": {},
   "source": []
  },
  {
   "cell_type": "code",
   "execution_count": 258,
   "metadata": {},
   "outputs": [
    {
     "data": {
      "text/plain": [
       "['785', '441', '746', '424']"
      ]
     },
     "execution_count": 258,
     "metadata": {},
     "output_type": "execute_result"
    }
   ],
   "source": []
  },
  {
   "cell_type": "code",
   "execution_count": 252,
   "metadata": {},
   "outputs": [
    {
     "data": {
      "text/plain": [
       "array([[0, 0, 0, ..., 0, 0, 0],\n",
       "       [0, 0, 0, ..., 0, 0, 0],\n",
       "       [0, 0, 0, ..., 0, 0, 0],\n",
       "       ...,\n",
       "       [0, 0, 0, ..., 0, 0, 0],\n",
       "       [0, 0, 0, ..., 0, 0, 0],\n",
       "       [0, 0, 0, ..., 0, 0, 0]])"
      ]
     },
     "execution_count": 252,
     "metadata": {},
     "output_type": "execute_result"
    }
   ],
   "source": [
    "    \n",
    "true_binary_matrix = create_binary_matrix(true_labels, neoplasm_classes)\n",
    "predicted_binary_matrix = create_binary_matrix(predicted_labels, neoplasm_classes)\n",
    "\n",
    "true_binary_matrix"
   ]
  },
  {
   "cell_type": "code",
   "execution_count": 253,
   "metadata": {},
   "outputs": [
    {
     "data": {
      "text/plain": [
       "array([[0, 0, 0, ..., 0, 0, 0],\n",
       "       [0, 0, 0, ..., 0, 0, 0],\n",
       "       [0, 0, 0, ..., 0, 0, 0],\n",
       "       ...,\n",
       "       [0, 0, 0, ..., 0, 0, 0],\n",
       "       [0, 0, 0, ..., 0, 0, 0],\n",
       "       [0, 0, 0, ..., 0, 0, 0]])"
      ]
     },
     "execution_count": 253,
     "metadata": {},
     "output_type": "execute_result"
    }
   ],
   "source": [
    "predicted_binary_matrix"
   ]
  },
  {
   "cell_type": "code",
   "execution_count": 254,
   "metadata": {},
   "outputs": [],
   "source": [
    "\n",
    "\n",
    "def roc_auc_group(probs, labels, multilabel=False, average='macro', multi_class='ovo'):\n",
    "    if isinstance(labels, list):\n",
    "        labels = np.array(labels, dtype=int)\n",
    "    else:\n",
    "        labels = labels.astype(int)\n",
    "\n",
    "    y_score = np.array(probs)\n",
    "\n",
    "    if multilabel:\n",
    "        mask_samples = np.any(labels > 0, axis=1)\n",
    "\n",
    "\n",
    "        labels = labels[mask_samples]\n",
    "        y_score = y_score[mask_samples]\n",
    "\n",
    " \n",
    "        if labels.size == 0:\n",
    "            print(\"No valid samples left after filtering. ROC AUC cannot be calculated.\")\n",
    "            return None\n",
    "        \n",
    "        dim_size = len(labels[0])\n",
    "        mask_classes = np.ones((dim_size), dtype=bool)\n",
    "        \n",
    "        for c in range(dim_size):\n",
    "            if max(labels[:, c]) == 0:\n",
    "                mask_classes[c] = False\n",
    "\n",
    "        labels = labels[:, mask_classes]\n",
    "        y_score = y_score[:, mask_classes]\n",
    "        \n",
    "        filtered_cols = np.count_nonzero(mask_classes == False)\n",
    "        print(f\"{filtered_cols} columns not considered for ROC AUC calculation!\")\n",
    "\n",
    "    else:\n",
    "\n",
    "        mask_samples = labels > 0\n",
    "        \n",
    "        labels = labels[mask_samples]\n",
    "        y_score = y_score[mask_samples]\n",
    "\n",
    "        if labels.size == 0:\n",
    "            print(\"No valid samples left after filtering. ROC AUC cannot be calculated.\")\n",
    "            return None\n",
    "\n",
    "    return roc_auc_score(y_true=labels, y_score=y_score, average=average, multi_class=multi_class)\n"
   ]
  },
  {
   "cell_type": "code",
   "execution_count": 262,
   "metadata": {},
   "outputs": [],
   "source": [
    "neoplasm_classes = str(neoplasm_classes)[1:-1].split(', ')"
   ]
  },
  {
   "cell_type": "code",
   "execution_count": 264,
   "metadata": {},
   "outputs": [
    {
     "data": {
      "text/plain": [
       "'141'"
      ]
     },
     "execution_count": 264,
     "metadata": {},
     "output_type": "execute_result"
    }
   ],
   "source": [
    "neoplasm_classes[0]"
   ]
  },
  {
   "cell_type": "code",
   "execution_count": 265,
   "metadata": {},
   "outputs": [
    {
     "name": "stdout",
     "output_type": "stream",
     "text": [
      "0 columns not considered for ROC AUC calculation!\n",
      "AUROC Score: 0.5039886288351835\n"
     ]
    }
   ],
   "source": [
    "    \n",
    "true_binary_matrix = create_binary_matrix(true_labels, neoplasm_classes)\n",
    "predicted_binary_matrix = create_binary_matrix(predicted_labels, neoplasm_classes)\n",
    "\n",
    "auroc_score = roc_auc_group(predicted_binary_matrix, true_binary_matrix, multilabel=True)\n",
    "print(f\"AUROC Score: {auroc_score}\")"
   ]
  },
  {
   "cell_type": "code",
   "execution_count": null,
   "metadata": {},
   "outputs": [],
   "source": []
  }
 ],
 "metadata": {
  "kernelspec": {
   "display_name": "astro",
   "language": "python",
   "name": "python3"
  },
  "language_info": {
   "codemirror_mode": {
    "name": "ipython",
    "version": 3
   },
   "file_extension": ".py",
   "mimetype": "text/x-python",
   "name": "python",
   "nbconvert_exporter": "python",
   "pygments_lexer": "ipython3",
   "version": "3.12.3"
  }
 },
 "nbformat": 4,
 "nbformat_minor": 2
}
