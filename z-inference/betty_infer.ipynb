{
 "cells": [
  {
   "cell_type": "code",
   "execution_count": 1,
   "metadata": {},
   "outputs": [
    {
     "name": "stderr",
     "output_type": "stream",
     "text": [
      "/Applications/anaconda3/envs/astro/lib/python3.12/site-packages/tqdm/auto.py:21: TqdmWarning: IProgress not found. Please update jupyter and ipywidgets. See https://ipywidgets.readthedocs.io/en/stable/user_install.html\n",
      "  from .autonotebook import tqdm as notebook_tqdm\n",
      "/Applications/anaconda3/envs/astro/lib/python3.12/site-packages/transformers/tokenization_utils_base.py:1601: FutureWarning: `clean_up_tokenization_spaces` was not set. It will be set to `True` by default. This behavior will be depracted in transformers v4.45, and will be then set to `False` by default. For more details check this issue: https://github.com/huggingface/transformers/issues/31884\n",
      "  warnings.warn(\n"
     ]
    }
   ],
   "source": [
    "from transformers import AutoTokenizer, AutoModelForSequenceClassification\n",
    "import torch\n",
    "\n",
    "# Load the pre-trained CORe model\n",
    "tokenizer = AutoTokenizer.from_pretrained(\"DATEXIS/CORe-clinical-diagnosis-prediction\")\n",
    "model = AutoModelForSequenceClassification.from_pretrained(\"DATEXIS/CORe-clinical-diagnosis-prediction\")"
   ]
  },
  {
   "cell_type": "code",
   "execution_count": 2,
   "metadata": {},
   "outputs": [],
   "source": [
    "input = \"CHIEF COMPLAINT: Headaches\\n\\nPRESENT ILLNESS: 58yo man w/ hx of hypertension, AFib on coumadin presented to ED with the worst headache of his life.\""
   ]
  },
  {
   "cell_type": "code",
   "execution_count": 3,
   "metadata": {},
   "outputs": [],
   "source": [
    "tokenized_input = tokenizer(input, return_tensors=\"pt\")"
   ]
  },
  {
   "cell_type": "code",
   "execution_count": 4,
   "metadata": {},
   "outputs": [
    {
     "data": {
      "text/plain": [
       "SequenceClassifierOutput(loss=None, logits=tensor([[-11.4431, -11.5524, -12.3657,  ..., -12.5741,  -8.4623, -12.0069]],\n",
       "       grad_fn=<AddmmBackward0>), hidden_states=None, attentions=None)"
      ]
     },
     "execution_count": 4,
     "metadata": {},
     "output_type": "execute_result"
    }
   ],
   "source": [
    "output = model(**tokenized_input)\n",
    "output"
   ]
  },
  {
   "cell_type": "code",
   "execution_count": 5,
   "metadata": {},
   "outputs": [
    {
     "data": {
      "text/plain": [
       "['401',\n",
       " '4019',\n",
       " '427',\n",
       " '4273',\n",
       " '431',\n",
       " '790',\n",
       " 'V586',\n",
       " 'V5861',\n",
       " 'adverse',\n",
       " 'anticoagulants',\n",
       " 'atrial',\n",
       " 'cerebral',\n",
       " 'current',\n",
       " 'effects',\n",
       " 'essential',\n",
       " 'fibrillation',\n",
       " 'heart',\n",
       " 'hemorrhage',\n",
       " 'history',\n",
       " 'hypertension',\n",
       " 'infarction',\n",
       " 'intracerebral',\n",
       " 'ischemic',\n",
       " 'longterm',\n",
       " 'therapeutic',\n",
       " 'tobacco',\n",
       " 'type',\n",
       " 'unspecified',\n",
       " 'use',\n",
       " 'without']"
      ]
     },
     "execution_count": 5,
     "metadata": {},
     "output_type": "execute_result"
    }
   ],
   "source": [
    "import torch\n",
    "\n",
    "predictions = torch.sigmoid(output.logits)\n",
    "predicted_labels = [model.config.id2label[_id] for _id in (predictions > 0.2).nonzero()[:, 1].tolist()]\n",
    "predicted_labels"
   ]
  },
  {
   "cell_type": "code",
   "execution_count": 6,
   "metadata": {},
   "outputs": [
    {
     "name": "stdout",
     "output_type": "stream",
     "text": [
      "['403', '486', '582', '585', '425', '276', '710', '724', '458', '287', '285', '275', '583', '558', '327', '228', '338', '789', '790', 'V451', '531', '410', '414', '725', '191', '331', '530', '411', '482', '272', '305', '194', '197', '255', '424', '584', '998', '682', '511', '599', '428', '349', '401', 'V100', 'V453', 'V586', '041', '251', 'E932', 'V300', 'V053', 'V290', '571', '070', '250', '570', '572', '286', '518', '038', '280', '263', '995', '303', '244', '112', '881', '903', '955', 'E956', '745', '762', '441', '496', '447', '440', '997', '274', '427', 'V104', 'V101', 'V120', 'V090', '569', '560', '491', 'V458', '433', '436', '493', '996', '416', 'V310', '765', '769', '774', '770', '747', '776', '772', '362', '198', 'V103', '746', '766', 'V293', '853', '780', 'E888', '730', '357', '430', '293', '443', 'V158', '396', '365', '135', '311', 'E935', '721', '214', '437', '242', '600', '189', '304', '711', '800', 'E814', '873', '781', '378', '951', '767', '431', '294', '042', 'V141', 'V071', '764', '775', '969', '295', 'E950', '266', '779', '355', '553', '965', 'E850', 'E853', '426', '804', 'E916', '202', 'V502', '398', '707', '348', '787', '564', 'V428', '238', '300', '788', '332', 'V107', 'V433', 'E879', '861', '423', 'E966', '200', '555', '771', '270', '335', '723', '079', '851', '807', '864', '865', '860', '413', '782', 'V108', '507', '512', '752', '162', '783', '778', '333', '785', '136', '799', 'E931', '157', '574', '568', 'E878', '722', '719', 'V125', '296', '478', 'V170', '805', '596', 'E880', '822', '733', '578', '459', '438', '008', 'V098', '185', '967', '225', 'V457', '389', '412', '593', '345', '201', '515', 'E933', '278', '492', '715', '415', 'V105', '535', '608', 'E870', 'V058', '513', '709', 'E821', 'V173', '824', '911', '913', 'E812', '576', '203', '281', '580', 'V450', '216', 'V340', '579', '693', '351', '088', '714', 'E849', '307', '421', '786', 'E942', '959', 'E928', '588', '364', 'V642', 'V025', '252', '283', '784', '611', '622', '289', '446', '729', 'V498', 'V456', '795', 'E854', 'V667', '155', 'V130', '882', '852', '957', 'E815', '466', '792', '434', '342', '153', 'E934', '481', '910', '456', '453', '867', '273', '532', '806', 'V422', 'V541', '556', '394', '444', '924', 'E960', '514', '763', '218', '359', '340', '999', '451', '324', 'E939', '537', '737', '455', 'E884', 'V427', '591', '592', '577', '557', '575', '356', '368', '552', '500', '750', '253', '292', 'E937', '211', '288', '773', '314', 'V652', '432', '379', '435', 'E930', '199', 'V641', '494', '966', '758', 'E855', '741', '918', 'V436', '078', '562', '820', '801', '839', 'E881', 'V584', '731', 'E885', '812', '156', '567', '696', '501', '712', 'V707', '215', '754', '753', '508', '876', '720', 'V442', '871', '958', '802', '847', '397', '196', '346', 'E968', '510', '404', '360', '376', '370', 'V026', '904', '928', '821', '823', '150', '573', '850', 'V497', 'E938', 'V533', 'V556', '728', '870', 'V874', 'V153', 'V644', 'V600', '521', '301', '164', '054', '344', '464', '442', 'V150', '282', 'V08', '891', '808', '866', '902', '117', '484', '760', 'V048', '691', '519', '528', '320', '369', '685', 'V625', '794', '793', '318', 'V441', '761', '936', 'E915', '457', '395', '053', 'V113', 'V632', '386', '623', '290', '204', '271', 'E819', '811', '813', '884', 'E813', '751', '366', '297', 'V440', '473', 'E910', 'V420', '057', '536', '152', '970', '485', '235', '372', 'E882', '127', '160', '170', 'V880', '595', '909', 'V443', '490', '343', '319', '130', '698', 'E823', '246', '854', '868', '872', '982', '151', 'V853', '980', 'E980', '291', '517', '268', '487', 'E866', '796', 'V452', '036', '354', '648', '701', 'V063', 'V038', '227', '614', '533', '736', '942', 'E924', '240', '921', 'V454', '977', '759', '768', '923', 'E816', '681', '138', '358', '950', '922', '205', '990', '009', '619', '417', '279', '257', 'E860', '755', '991', 'E957', '241', '810', '920', 'V461', 'V127', '261', '429', '550', '874', '756', '935', '831', '718', '962', 'E858', '803', '480', '674', '277', '880', '879', '377', '529', '047', '083', '835', '462', '336', 'E947', 'V160', '420', '317', '454', 'E883', '840', 'V550', '960', '586', '933', '597', '350', 'E911', '742', 'V614', '298', 'V551', '620', '716', 'V462', 'V180', '706', '565', '452', '825', '322', '154', '040', '110', '605', '607', '461', '704', '713', '945', '052', '948', '323', '325', '934', '516', '039', '975', '971', '994', '666', 'V111', '907', 'E929', '566', '603', '405', '049', '237', 'V161', 'V553', '262', '743', '422', '337', '625', '757', '527', '309', '815', 'V163', '402', '869', 'E912', '188', '590', 'V852', 'V446', 'E852', '886', 'E919', '183', '862', '875', '877', '890', 'E944', 'E936', 'V444', '598', 'V552', '226', 'E818', '617', 'E958', 'V123', '748', '968', 'V298', '465', '972', 'E826', '905', 'E969', '744', 'E829', 'V301', '388', 'V146', 'V151', '887', '375', '334', 'E848', 'E918', '284', 'E876', '260', '987', 'E890', '834', '522', '692', 'V588', '310', '863', 'E834', '192', '035', 'V174', '171', '738', '220', '477', '212', '172', 'V548', '726', '526', 'V099', '777', '749', 'E922', '952', 'V320', '901', '542', '449', 'V011', '963', 'E822', '524', 'V052', 'V539', '144', '445', '321', '380', '604', '383', '587', '137', '845', '695', 'V496', '180', '618', 'V102', '540', '525', '916', '174', 'V628', '892', '816', 'V171', '520', '708', '176', '791', 'V854', 'E906', 'V714', 'V554', 'V435', '883', '927', 'V434', '007', '581', 'V202', '140', '642', '644', '654', 'V270', 'V252', '193', 'V838', 'V555', '139', 'V195', 'V068', '601', '826', '694', '626', '956', '245', '919', '299', '727', '684', '647', 'E941', 'V850', '665', '391', '308', '633', '639', 'V230', 'V061', '223', '269', 'V183', '046', '534', '361', '673', '643', '986', '005', '034', '382', '239', '232', 'V169', 'E901', '908', '634', '836', '616', 'E917', '734', 'V698', '133', 'E887', 'V445', 'V155', 'E949', '142', 'E987', '236', '470', '463', 'E940', '229', '448', '702', '182', 'E825', 'V851', '814', 'V881', '259', '906', '161', 'E891', '830', 'E953', '195', '093', '472', '914', 'E988', '930', '543', '686', '900', '075', '705', '939', '381', 'V311', 'V168', '018', '004', '917', '483', '656', '641', '217', 'V291', 'V164', 'E943', '134', '635', '659', 'E920', '506', 'E869', '111', '096', '094', '123', '158', '141', '243', '690', '097', '632', '989', '964', '027', 'V596', '373', 'V017', '254', '932', '187', '353', '669', 'V504', '602', '843', '912', '374', '983', 'E864', '031', '210', '114', '646', '077', 'V018', '670', '615', 'V638', 'V135', '938', 'V580', '680', '878', 'E965', '471', '652', '663', '658', 'V272', '213', '032', '148', 'V643', 'V148', 'V062', 'E989', 'E927', '131', '233', 'V040', 'V066', '125', 'V503', 'V581', 'V292', 'V192', '700', '703', '209', 'V029', '208', '697', 'E871', '184', '015', '146', 'V140', 'V154', '992', '249', '149', 'V142', '844', '175', 'V542', '363', 'V152', 'V106', 'V688', 'V265', '012', '885', 'E955', 'V530', '385', 'V124', 'V741', '390', '474', '627', '817', '230', 'E817', 'V198', 'E862', '258', 'V463', '735', 'V024', 'V640', '976', 'E861', 'V765', 'V023', 'V626', 'E828', 'V188', '341', 'V560', '798', 'V448', '893', '495', '084', '523', 'V653', '953', 'V549', 'V095', 'V182', '621', '475', 'V425', '058', '306', 'V165', '551', 'E831', 'V136', 'V109', '256', '219', '221', '961', '985', '828', '671', 'E820', '897', 'V840', '926', 'V421', '048', '594', '896', '082', 'E986', '541', '145', '267', '683', 'V097', '732', '265', '011', 'E801', 'V185', '664', 'V620', 'E840', 'V166', 'V468', '629', '115', 'V587', 'E908', '120', 'V708', '098', 'V469', 'V694', 'E824', 'E970', '121', '838', '832', '460', '013', 'V239', '944', 'V189', '946', '118', '326', 'E945', '645', '352', '159', 'E967', 'V618', '147', 'V908', '941', '312', '624', 'V186', 'V145', '661', '010', 'E865', '091', 'E886', '649', 'E905', 'E962', 'V612', 'E959', '502', 'V438', 'V222', '163', '947', 'V162', 'E946', 'V716', '315', '367', 'V540', '846', '717', 'V561', 'V175', '842', 'V138', 'V703', 'V583', '841', '672', '062', '488', '347', '339', 'E841', '086', 'V400', 'E985', '655', '974', 'V289', 'V604', 'V074', 'V728', '371', '190', 'V126', '090', '143', '943', 'V611', 'V331', '085', 'V172', 'E835', '668', '740', 'V167', 'V558', 'E851', 'E811', 'V430', '837', 'V072', 'V431', '302', 'E923', 'V110', 'E900', 'V562', 'E963', 'E964', 'V118', 'V624', 'E800', '988', '833', '023', 'V020', '021', '003', 'V660', 'E806', '313', 'E954', 'V860', '660', 'V449', '231', 'V602', '186', 'E863', 'E874', 'V721', 'V181', '651', '033', 'V654', 'E804', '330', '610', '384', 'E838', 'E001', '973', '819', '014', '132', 'E899', '925', '207', 'V861', 'E002', 'E030', 'E000', '894', 'E873', 'E999', 'E976', 'E003', 'V016', 'E805', '045', 'V610', 'V078', 'V510', 'E029', '848', 'E006', 'V403', '122', 'V536', 'E013', 'E019', '173', 'E913', '677', 'E008', 'V568', 'V143', 'V091', 'V872', '066', 'V601', '116', 'V882', 'V065', '538', 'V655', '316', 'E007', 'E016', 'E921', 'V902', '206', 'V254', '099', 'V489', 'V870', 'E977', '628', 'V250', 'E982', 'V486', '539', 'V073', '937', 'V812', '030', 'V271', '589', 'V672', 'V671', 'E926', 'E925', 'E857', 'V537', '954', 'E827', '657', 'V910', 'V789', 'V037', 'E975', 'V045', 'V848', '393', 'V426', '179', '387', 'V903', 'E856', 'V901', '915']\n"
     ]
    }
   ],
   "source": [
    "classes = str('403 486 582 585 425 276 710 724 458 287 285 275 583 558 327 228 338 789 790 V451 531 410 414 725 191 331 530 411 482 272 305 194 197 255 424 584 998 682 511 599 428 349 401 V100 V453 V586 041 251 E932 V300 V053 V290 571 070 250 570 572 286 518 038 280 263 995 303 244 112 881 903 955 E956 745 762 441 496 447 440 997 274 427 V104 V101 V120 V090 569 560 491 V458 433 436 493 996 416 V310 765 769 774 770 747 776 772 362 198 V103 746 766 V293 853 780 E888 730 357 430 293 443 V158 396 365 135 311 E935 721 214 437 242 600 189 304 711 800 E814 873 781 378 951 767 431 294 042 V141 V071 764 775 969 295 E950 266 779 355 553 965 E850 E853 426 804 E916 202 V502 398 707 348 787 564 V428 238 300 788 332 V107 V433 E879 861 423 E966 200 555 771 270 335 723 079 851 807 864 865 860 413 782 V108 507 512 752 162 783 778 333 785 136 799 E931 157 574 568 E878 722 719 V125 296 478 V170 805 596 E880 822 733 578 459 438 008 V098 185 967 225 V457 389 412 593 345 201 515 E933 278 492 715 415 V105 535 608 E870 V058 513 709 E821 V173 824 911 913 E812 576 203 281 580 V450 216 V340 579 693 351 088 714 E849 307 421 786 E942 959 E928 588 364 V642 V025 252 283 784 611 622 289 446 729 V498 V456 795 E854 V667 155 V130 882 852 957 E815 466 792 434 342 153 E934 481 910 456 453 867 273 532 806 V422 V541 556 394 444 924 E960 514 763 218 359 340 999 451 324 E939 537 737 455 E884 V427 591 592 577 557 575 356 368 552 500 750 253 292 E937 211 288 773 314 V652 432 379 435 E930 199 V641 494 966 758 E855 741 918 V436 078 562 820 801 839 E881 V584 731 E885 812 156 567 696 501 712 V707 215 754 753 508 876 720 V442 871 958 802 847 397 196 346 E968 510 404 360 376 370 V026 904 928 821 823 150 573 850 V497 E938 V533 V556 728 870 V874 V153 V644 V600 521 301 164 054 344 464 442 V150 282 V08 891 808 866 902 117 484 760 V048 691 519 528 320 369 685 V625 794 793 318 V441 761 936 E915 457 395 053 V113 V632 386 623 290 204 271 E819 811 813 884 E813 751 366 297 V440 473 E910 V420 057 536 152 970 485 235 372 E882 127 160 170 V880 595 909 V443 490 343 319 130 698 E823 246 854 868 872 982 151 V853 980 E980 291 517 268 487 E866 796 V452 036 354 648 701 V063 V038 227 614 533 736 942 E924 240 921 V454 977 759 768 923 E816 681 138 358 950 922 205 990 009 619 417 279 257 E860 755 991 E957 241 810 920 V461 V127 261 429 550 874 756 935 831 718 962 E858 803 480 674 277 880 879 377 529 047 083 835 462 336 E947 V160 420 317 454 E883 840 V550 960 586 933 597 350 E911 742 V614 298 V551 620 716 V462 V180 706 565 452 825 322 154 040 110 605 607 461 704 713 945 052 948 323 325 934 516 039 975 971 994 666 V111 907 E929 566 603 405 049 237 V161 V553 262 743 422 337 625 757 527 309 815 V163 402 869 E912 188 590 V852 V446 E852 886 E919 183 862 875 877 890 E944 E936 V444 598 V552 226 E818 617 E958 V123 748 968 V298 465 972 E826 905 E969 744 E829 V301 388 V146 V151 887 375 334 E848 E918 284 E876 260 987 E890 834 522 692 V588 310 863 E834 192 035 V174 171 738 220 477 212 172 V548 726 526 V099 777 749 E922 952 V320 901 542 449 V011 963 E822 524 V052 V539 144 445 321 380 604 383 587 137 845 695 V496 180 618 V102 540 525 916 174 V628 892 816 V171 520 708 176 791 V854 E906 V714 V554 V435 883 927 V434 007 581 V202 140 642 644 654 V270 V252 193 V838 V555 139 V195 V068 601 826 694 626 956 245 919 299 727 684 647 E941 V850 665 391 308 633 639 V230 V061 223 269 V183 046 534 361 673 643 986 005 034 382 239 232 V169 E901 908 634 836 616 E917 734 V698 133 E887 V445 V155 E949 142 E987 236 470 463 E940 229 448 702 182 E825 V851 814 V881 259 906 161 E891 830 E953 195 093 472 914 E988 930 543 686 900 075 705 939 381 V311 V168 018 004 917 483 656 641 217 V291 V164 E943 134 635 659 E920 506 E869 111 096 094 123 158 141 243 690 097 632 989 964 027 V596 373 V017 254 932 187 353 669 V504 602 843 912 374 983 E864 031 210 114 646 077 V018 670 615 V638 V135 938 V580 680 878 E965 471 652 663 658 V272 213 032 148 V643 V148 V062 E989 E927 131 233 V040 V066 125 V503 V581 V292 V192 700 703 209 V029 208 697 E871 184 015 146 V140 V154 992 249 149 V142 844 175 V542 363 V152 V106 V688 V265 012 885 E955 V530 385 V124 V741 390 474 627 817 230 E817 V198 E862 258 V463 735 V024 V640 976 E861 V765 V023 V626 E828 V188 341 V560 798 V448 893 495 084 523 V653 953 V549 V095 V182 621 475 V425 058 306 V165 551 E831 V136 V109 256 219 221 961 985 828 671 E820 897 V840 926 V421 048 594 896 082 E986 541 145 267 683 V097 732 265 011 E801 V185 664 V620 E840 V166 V468 629 115 V587 E908 120 V708 098 V469 V694 E824 E970 121 838 832 460 013 V239 944 V189 946 118 326 E945 645 352 159 E967 V618 147 V908 941 312 624 V186 V145 661 010 E865 091 E886 649 E905 E962 V612 E959 502 V438 V222 163 947 V162 E946 V716 315 367 V540 846 717 V561 V175 842 V138 V703 V583 841 672 062 488 347 339 E841 086 V400 E985 655 974 V289 V604 V074 V728 371 190 V126 090 143 943 V611 V331 085 V172 E835 668 740 V167 V558 E851 E811 V430 837 V072 V431 302 E923 V110 E900 V562 E963 E964 V118 V624 E800 988 833 023 V020 021 003 V660 E806 313 E954 V860 660 V449 231 V602 186 E863 E874 V721 V181 651 033 V654 E804 330 610 384 E838 E001 973 819 014 132 E899 925 207 V861 E002 E030 E000 894 E873 E999 E976 E003 V016 E805 045 V610 V078 V510 E029 848 E006 V403 122 V536 E013 E019 173 E913 677 E008 V568 V143 V091 V872 066 V601 116 V882 V065 538 V655 316 E007 E016 E921 V902 206 V254 099 V489 V870 E977 628 V250 E982 V486 539 V073 937 V812 030 V271 589 V672 V671 E926 E925 E857 V537 954 E827 657 V910 V789 V037 E975 V045 V848 393 V426 179 387 V903 E856 V901 915').split(' ')\n",
    "\n",
    "print(classes)"
   ]
  },
  {
   "cell_type": "code",
   "execution_count": 7,
   "metadata": {},
   "outputs": [],
   "source": [
    "def get_predictions(input_text, threshold = 0.1) : \n",
    "    \"\"\"give the EHR/Symptoms as input, and \n",
    "    get the disease codes (matching in the classes under consideration) \n",
    "    as the output\"\"\"\n",
    "\n",
    "    tokenized_input =  tokenizer(\n",
    "        input_text,\n",
    "        return_tensors=\"pt\",\n",
    "        truncation=True,\n",
    "        max_length=512,  # BERT's maximum sequence length\n",
    "        padding='max_length'\n",
    "    )\n",
    "    output = model(**tokenized_input)\n",
    "    predictions = torch.sigmoid(output.logits)\n",
    "    predicted_labels = [model.config.id2label[_id] for _id in (predictions > threshold).nonzero()[:, 1].tolist()]\n",
    "    classes = str('403 486 582 585 425 276 710 724 458 287 285 275 583 558 327 228 338 789 790 V451 531 410 414 725 191 331 530 411 482 272 305 194 197 255 424 584 998 682 511 599 428 349 401 V100 V453 V586 041 251 E932 V300 V053 V290 571 070 250 570 572 286 518 038 280 263 995 303 244 112 881 903 955 E956 745 762 441 496 447 440 997 274 427 V104 V101 V120 V090 569 560 491 V458 433 436 493 996 416 V310 765 769 774 770 747 776 772 362 198 V103 746 766 V293 853 780 E888 730 357 430 293 443 V158 396 365 135 311 E935 721 214 437 242 600 189 304 711 800 E814 873 781 378 951 767 431 294 042 V141 V071 764 775 969 295 E950 266 779 355 553 965 E850 E853 426 804 E916 202 V502 398 707 348 787 564 V428 238 300 788 332 V107 V433 E879 861 423 E966 200 555 771 270 335 723 079 851 807 864 865 860 413 782 V108 507 512 752 162 783 778 333 785 136 799 E931 157 574 568 E878 722 719 V125 296 478 V170 805 596 E880 822 733 578 459 438 008 V098 185 967 225 V457 389 412 593 345 201 515 E933 278 492 715 415 V105 535 608 E870 V058 513 709 E821 V173 824 911 913 E812 576 203 281 580 V450 216 V340 579 693 351 088 714 E849 307 421 786 E942 959 E928 588 364 V642 V025 252 283 784 611 622 289 446 729 V498 V456 795 E854 V667 155 V130 882 852 957 E815 466 792 434 342 153 E934 481 910 456 453 867 273 532 806 V422 V541 556 394 444 924 E960 514 763 218 359 340 999 451 324 E939 537 737 455 E884 V427 591 592 577 557 575 356 368 552 500 750 253 292 E937 211 288 773 314 V652 432 379 435 E930 199 V641 494 966 758 E855 741 918 V436 078 562 820 801 839 E881 V584 731 E885 812 156 567 696 501 712 V707 215 754 753 508 876 720 V442 871 958 802 847 397 196 346 E968 510 404 360 376 370 V026 904 928 821 823 150 573 850 V497 E938 V533 V556 728 870 V874 V153 V644 V600 521 301 164 054 344 464 442 V150 282 V08 891 808 866 902 117 484 760 V048 691 519 528 320 369 685 V625 794 793 318 V441 761 936 E915 457 395 053 V113 V632 386 623 290 204 271 E819 811 813 884 E813 751 366 297 V440 473 E910 V420 057 536 152 970 485 235 372 E882 127 160 170 V880 595 909 V443 490 343 319 130 698 E823 246 854 868 872 982 151 V853 980 E980 291 517 268 487 E866 796 V452 036 354 648 701 V063 V038 227 614 533 736 942 E924 240 921 V454 977 759 768 923 E816 681 138 358 950 922 205 990 009 619 417 279 257 E860 755 991 E957 241 810 920 V461 V127 261 429 550 874 756 935 831 718 962 E858 803 480 674 277 880 879 377 529 047 083 835 462 336 E947 V160 420 317 454 E883 840 V550 960 586 933 597 350 E911 742 V614 298 V551 620 716 V462 V180 706 565 452 825 322 154 040 110 605 607 461 704 713 945 052 948 323 325 934 516 039 975 971 994 666 V111 907 E929 566 603 405 049 237 V161 V553 262 743 422 337 625 757 527 309 815 V163 402 869 E912 188 590 V852 V446 E852 886 E919 183 862 875 877 890 E944 E936 V444 598 V552 226 E818 617 E958 V123 748 968 V298 465 972 E826 905 E969 744 E829 V301 388 V146 V151 887 375 334 E848 E918 284 E876 260 987 E890 834 522 692 V588 310 863 E834 192 035 V174 171 738 220 477 212 172 V548 726 526 V099 777 749 E922 952 V320 901 542 449 V011 963 E822 524 V052 V539 144 445 321 380 604 383 587 137 845 695 V496 180 618 V102 540 525 916 174 V628 892 816 V171 520 708 176 791 V854 E906 V714 V554 V435 883 927 V434 007 581 V202 140 642 644 654 V270 V252 193 V838 V555 139 V195 V068 601 826 694 626 956 245 919 299 727 684 647 E941 V850 665 391 308 633 639 V230 V061 223 269 V183 046 534 361 673 643 986 005 034 382 239 232 V169 E901 908 634 836 616 E917 734 V698 133 E887 V445 V155 E949 142 E987 236 470 463 E940 229 448 702 182 E825 V851 814 V881 259 906 161 E891 830 E953 195 093 472 914 E988 930 543 686 900 075 705 939 381 V311 V168 018 004 917 483 656 641 217 V291 V164 E943 134 635 659 E920 506 E869 111 096 094 123 158 141 243 690 097 632 989 964 027 V596 373 V017 254 932 187 353 669 V504 602 843 912 374 983 E864 031 210 114 646 077 V018 670 615 V638 V135 938 V580 680 878 E965 471 652 663 658 V272 213 032 148 V643 V148 V062 E989 E927 131 233 V040 V066 125 V503 V581 V292 V192 700 703 209 V029 208 697 E871 184 015 146 V140 V154 992 249 149 V142 844 175 V542 363 V152 V106 V688 V265 012 885 E955 V530 385 V124 V741 390 474 627 817 230 E817 V198 E862 258 V463 735 V024 V640 976 E861 V765 V023 V626 E828 V188 341 V560 798 V448 893 495 084 523 V653 953 V549 V095 V182 621 475 V425 058 306 V165 551 E831 V136 V109 256 219 221 961 985 828 671 E820 897 V840 926 V421 048 594 896 082 E986 541 145 267 683 V097 732 265 011 E801 V185 664 V620 E840 V166 V468 629 115 V587 E908 120 V708 098 V469 V694 E824 E970 121 838 832 460 013 V239 944 V189 946 118 326 E945 645 352 159 E967 V618 147 V908 941 312 624 V186 V145 661 010 E865 091 E886 649 E905 E962 V612 E959 502 V438 V222 163 947 V162 E946 V716 315 367 V540 846 717 V561 V175 842 V138 V703 V583 841 672 062 488 347 339 E841 086 V400 E985 655 974 V289 V604 V074 V728 371 190 V126 090 143 943 V611 V331 085 V172 E835 668 740 V167 V558 E851 E811 V430 837 V072 V431 302 E923 V110 E900 V562 E963 E964 V118 V624 E800 988 833 023 V020 021 003 V660 E806 313 E954 V860 660 V449 231 V602 186 E863 E874 V721 V181 651 033 V654 E804 330 610 384 E838 E001 973 819 014 132 E899 925 207 V861 E002 E030 E000 894 E873 E999 E976 E003 V016 E805 045 V610 V078 V510 E029 848 E006 V403 122 V536 E013 E019 173 E913 677 E008 V568 V143 V091 V872 066 V601 116 V882 V065 538 V655 316 E007 E016 E921 V902 206 V254 099 V489 V870 E977 628 V250 E982 V486 539 V073 937 V812 030 V271 589 V672 V671 E926 E925 E857 V537 954 E827 657 V910 V789 V037 E975 V045 V848 393 V426 179 387 V903 E856 V901 915').split(' ')\n",
    "\n",
    "    predicted_labels = list(set(classes).intersection(set(predicted_labels)))\n",
    "\n",
    "    return predicted_labels\n",
    "\n",
    "    \n",
    "\n",
    "    "
   ]
  },
  {
   "cell_type": "code",
   "execution_count": 2,
   "metadata": {},
   "outputs": [],
   "source": [
    "import os\n",
    "import json\n",
    "import pandas as pd\n",
    "\n",
    "directory_path = 'samples_latest_all'\n",
    "data = []\n",
    "\n",
    "for filename in os.listdir(directory_path):\n",
    "    if filename.endswith('.json'):\n",
    "        file_path = os.path.join(directory_path, filename)\n",
    "        \n",
    "        with open(file_path, 'r') as file:\n",
    "            file_data = json.load(file)\n",
    "            data.append(file_data)"
   ]
  },
  {
   "cell_type": "code",
   "execution_count": 3,
   "metadata": {},
   "outputs": [
    {
     "data": {
      "text/html": [
       "<div>\n",
       "<style scoped>\n",
       "    .dataframe tbody tr th:only-of-type {\n",
       "        vertical-align: middle;\n",
       "    }\n",
       "\n",
       "    .dataframe tbody tr th {\n",
       "        vertical-align: top;\n",
       "    }\n",
       "\n",
       "    .dataframe thead th {\n",
       "        text-align: right;\n",
       "    }\n",
       "</style>\n",
       "<table border=\"1\" class=\"dataframe\">\n",
       "  <thead>\n",
       "    <tr style=\"text-align: right;\">\n",
       "      <th></th>\n",
       "      <th>Symptoms</th>\n",
       "      <th>Diseases</th>\n",
       "      <th>id</th>\n",
       "      <th>icd_9_desc</th>\n",
       "      <th>text</th>\n",
       "      <th>long_texts</th>\n",
       "      <th>short_texts</th>\n",
       "      <th>discharge_summary</th>\n",
       "      <th>short_codes</th>\n",
       "    </tr>\n",
       "  </thead>\n",
       "  <tbody>\n",
       "    <tr>\n",
       "      <th>0</th>\n",
       "      <td>[chest tightness, palpitations, ventricular ec...</td>\n",
       "      <td>[aortic valve fibroelastoma, GERD, Basal Cell ...</td>\n",
       "      <td>109136</td>\n",
       "      <td>Benign neoplasm of heart,Obesity, unspecified,...</td>\n",
       "      <td>CHIEF COMPLAINT: known aortic valve fibroelast...</td>\n",
       "      <td>Benign neoplasm of heart,Obesity, unspecified,...</td>\n",
       "      <td>Benign neoplasm heart,Obesity NOS,Angina pecto...</td>\n",
       "      <td>Admission Date:  [**2149-11-19**]             ...</td>\n",
       "      <td>212,278,413,285,530,V108,288,V853</td>\n",
       "    </tr>\n",
       "    <tr>\n",
       "      <th>1</th>\n",
       "      <td>[intermittent L-sided chest pressure, anterior...</td>\n",
       "      <td>[prostate ca s/p brachytherapy, PVD, h/o pancr...</td>\n",
       "      <td>193197</td>\n",
       "      <td>True posterior wall infarction, initial episod...</td>\n",
       "      <td>CHIEF COMPLAINT: intermittent L-sided chest pr...</td>\n",
       "      <td>True posterior wall infarction, initial episod...</td>\n",
       "      <td>True post infarct, init,Ac posthemorrhag anemi...</td>\n",
       "      <td>Admission Date:  [**2144-2-23**]              ...</td>\n",
       "      <td>410,285,414,443,V104,250</td>\n",
       "    </tr>\n",
       "    <tr>\n",
       "      <th>2</th>\n",
       "      <td>[palpitations, dizziness, shortness of breath,...</td>\n",
       "      <td>[mitral regurgitation, mitral stenosis, hypert...</td>\n",
       "      <td>157736</td>\n",
       "      <td>Mitral stenosis with insufficiency,Other chron...</td>\n",
       "      <td>CHIEF COMPLAINT: mitral regurgitation/stenosis...</td>\n",
       "      <td>Mitral stenosis with insufficiency,Other chron...</td>\n",
       "      <td>Mitral stenosis w insuff,Chr pulmon heart dis ...</td>\n",
       "      <td>Admission Date:  [**2197-10-10**]             ...</td>\n",
       "      <td>394,416,278,427,311,401,242</td>\n",
       "    </tr>\n",
       "  </tbody>\n",
       "</table>\n",
       "</div>"
      ],
      "text/plain": [
       "                                            Symptoms  \\\n",
       "0  [chest tightness, palpitations, ventricular ec...   \n",
       "1  [intermittent L-sided chest pressure, anterior...   \n",
       "2  [palpitations, dizziness, shortness of breath,...   \n",
       "\n",
       "                                            Diseases      id  \\\n",
       "0  [aortic valve fibroelastoma, GERD, Basal Cell ...  109136   \n",
       "1  [prostate ca s/p brachytherapy, PVD, h/o pancr...  193197   \n",
       "2  [mitral regurgitation, mitral stenosis, hypert...  157736   \n",
       "\n",
       "                                          icd_9_desc  \\\n",
       "0  Benign neoplasm of heart,Obesity, unspecified,...   \n",
       "1  True posterior wall infarction, initial episod...   \n",
       "2  Mitral stenosis with insufficiency,Other chron...   \n",
       "\n",
       "                                                text  \\\n",
       "0  CHIEF COMPLAINT: known aortic valve fibroelast...   \n",
       "1  CHIEF COMPLAINT: intermittent L-sided chest pr...   \n",
       "2  CHIEF COMPLAINT: mitral regurgitation/stenosis...   \n",
       "\n",
       "                                          long_texts  \\\n",
       "0  Benign neoplasm of heart,Obesity, unspecified,...   \n",
       "1  True posterior wall infarction, initial episod...   \n",
       "2  Mitral stenosis with insufficiency,Other chron...   \n",
       "\n",
       "                                         short_texts  \\\n",
       "0  Benign neoplasm heart,Obesity NOS,Angina pecto...   \n",
       "1  True post infarct, init,Ac posthemorrhag anemi...   \n",
       "2  Mitral stenosis w insuff,Chr pulmon heart dis ...   \n",
       "\n",
       "                                   discharge_summary  \\\n",
       "0  Admission Date:  [**2149-11-19**]             ...   \n",
       "1  Admission Date:  [**2144-2-23**]              ...   \n",
       "2  Admission Date:  [**2197-10-10**]             ...   \n",
       "\n",
       "                         short_codes  \n",
       "0  212,278,413,285,530,V108,288,V853  \n",
       "1           410,285,414,443,V104,250  \n",
       "2        394,416,278,427,311,401,242  "
      ]
     },
     "execution_count": 3,
     "metadata": {},
     "output_type": "execute_result"
    }
   ],
   "source": [
    "symptoms_df = pd.DataFrame(data)\n",
    "raw_test_df = pd.read_csv('new_split/test_split.csv')\n",
    "# print(raw_test_df.columns)\n",
    "unique_ids = list(raw_test_df.id)\n",
    "raw_test_df = raw_test_df.drop('Unnamed: 0',axis =1)\n",
    "raw_test_df = pd.merge(symptoms_df, raw_test_df, how='inner', on='id')\n",
    "raw_test_df.head(3)"
   ]
  },
  {
   "cell_type": "code",
   "execution_count": 4,
   "metadata": {},
   "outputs": [],
   "source": [
    "from IPython.display import display, Markdown\n",
    "import numpy as np\n",
    "def set_frame_style(df, caption=\"\"):\n",
    "    random_list = ['Greys', 'Purples', 'Blues', 'Greens', 'Oranges', 'Reds',\n",
    "                      'YlOrBr', 'YlOrRd', 'OrRd', 'PuRd', 'RdPu', 'BuPu',\n",
    "                      'GnBu', 'PuBu', 'YlGnBu', 'PuBuGn', 'BuGn', 'YlGn']\n",
    "    \"\"\"Helper function to set dataframe presentation style.\n",
    "    \"\"\"\n",
    "    return df.style.background_gradient(cmap=random_list[np.random.randint(1,17)]).set_caption(caption).set_table_styles([{\n",
    "    'selector': 'caption',\n",
    "    'props': [\n",
    "        ('color', 'Brown'),\n",
    "        ('font-size', '20px'),\n",
    "        ('font-weight','bold')\n",
    "    ]}])"
   ]
  },
  {
   "cell_type": "code",
   "execution_count": 7,
   "metadata": {},
   "outputs": [
    {
     "data": {
      "text/html": [
       "<style type=\"text/css\">\n",
       "#T_9510b caption {\n",
       "  color: Brown;\n",
       "  font-size: 20px;\n",
       "  font-weight: bold;\n",
       "}\n",
       "</style>\n",
       "<table id=\"T_9510b\">\n",
       "  <thead>\n",
       "    <tr>\n",
       "      <th class=\"blank level0\" >&nbsp;</th>\n",
       "      <th id=\"T_9510b_level0_col0\" class=\"col_heading level0 col0\" >Symptoms</th>\n",
       "      <th id=\"T_9510b_level0_col1\" class=\"col_heading level0 col1\" >text</th>\n",
       "    </tr>\n",
       "  </thead>\n",
       "  <tbody>\n",
       "    <tr>\n",
       "      <th id=\"T_9510b_level0_row0\" class=\"row_heading level0 row0\" >0</th>\n",
       "      <td id=\"T_9510b_row0_col0\" class=\"data row0 col0\" >['chest tightness', 'palpitations', 'ventricular ectopy/trigeminy']</td>\n",
       "      <td id=\"T_9510b_row0_col1\" class=\"data row0 col1\" >CHIEF COMPLAINT: known aortic valve fibroelastoma\n",
       "\n",
       "PRESENT ILLNESS: This is a 53 year old nurse who had\n",
       "bladder suspension surgery [**2149-11-10**] at [**First Name8 (NamePattern2) **] [**Last Name (NamePattern1) **].\n",
       "Postoperatively, she had some chest tightness and a cardiac\n",
       "workup ensued. An echo was done that revealed a mass on the non-\n",
       "coronary cusp of the aortic valve that measured approximately\n",
       "1.3cm and was confirmed by TEE. A stress MIBI was also done at\n",
       "[**First Name8 (NamePattern2) **] [**Last Name (NamePattern1) **] which was negative for ischemia.  She was afebrile\n",
       "and serial blood cultures done to r/o endocarditis were\n",
       "negative,\n",
       "however she was given prophylactic IV antibiotics.\n",
       "\n",
       "MEDICAL HISTORY: 1. CARDIAC RISK FACTORS: -Diabetes, -Dyslipidemia, -Hypertension\n",
       "\n",
       "MEDICATION ON ADMISSION: AMITRIPTYLINE 10 mg hs PRN:right upper quadrant spasms,\n",
       "PANTOPRAZOLE 40 daily, ASPIRIN 325 mg daily, DOCUSATE SODIUM 100\n",
       "mg\n",
       "daily\n",
       "\n",
       "ALLERGIES: Ceclor / Dilaudid / Latex\n",
       "\n",
       "PHYSICAL EXAM: Pulse:67 Resp: 18 O2 sat: 97%RA\n",
       "B/P  112/75\n",
       "Height: 5 feet 3\n",
       "Weight: 185 lbs\n",
       "\n",
       "FAMILY HISTORY: Father died of early MI at 51, mother of [**Name (NI) 5895**] dementia.\n",
       "No other hx of arrhythmia, cardiomyopathies, or sudden cardiac\n",
       "death; otherwise non-contributory.\n",
       "\n",
       "SOCIAL HISTORY: Works as a nurse [**First Name8 (NamePattern2) **] [**Last Name (Titles) **] hospital.  Lives with husband.\n",
       "-Tobacco history:  20 pack-yr smoking hx, quit 13 yrs ago\n",
       "-ETOH:  occassional wine\n",
       "-Illicit drugs:  none</td>\n",
       "    </tr>\n",
       "    <tr>\n",
       "      <th id=\"T_9510b_level0_row1\" class=\"row_heading level0 row1\" >1</th>\n",
       "      <td id=\"T_9510b_row1_col0\" class=\"data row1 col0\" >['intermittent L-sided chest pressure', 'anterior wall chest tightness', 'SOB', 'left arm paresthesias', 'hypertensive', 'nausea', 'vomiting', 'diaphoresis', 'lightheadedness', 'dizziness', 'recurring CP', 'vagal episode with?apnea-->bagged', 'chronic hip pain']</td>\n",
       "      <td id=\"T_9510b_row1_col1\" class=\"data row1 col1\" >CHIEF COMPLAINT: intermittent L-sided chest pressure.\n",
       "\n",
       "PRESENT ILLNESS: An 80yoM with no prior CAD history who presented to [**Hospital1 **] ED\n",
       "this AM with anterior wall chest tightness [**6-10**] associated with\n",
       "SOB and left arm paresthesias occurring for over 12 hours.  Pain\n",
       "began yesterday evening while Pt. was trying to sleep, and waxed\n",
       "and waned intermittently throughout the night.  Pt. denied\n",
       "nausea, vomiting, diaphoresis, lightheadedness, dizziness.  Pt.\n",
       "reports similar symptoms of chest pressure in the past, but not\n",
       "persistent like current sensation.  Pt. also found to be\n",
       "hypertensive (SBP 180s). CE found to be CK 500, MB 77 Tn 3 on\n",
       "presentation. Admitted to ICU there started on ASA, plavix,\n",
       "heparin and integrillin. Had 2 episodes of recurrent CP in CCU,\n",
       "during one had a vagal episode with ?apnea-->bagged and came to.\n",
       "Transferred here to CCU for evaluation and ? cath if chest pain\n",
       "persists. Had recurrent CP while here, maxed out on IV TNG and\n",
       "with frequent Morphine boluses. Sent to cath lab overnight for\n",
       "continued pain despite maximal medical therapy.\n",
       "\n",
       "MEDICAL HISTORY: prostate ca s/p brachytherapy, PVD, h/o pancreatic mass (? ca),\n",
       "resected and 8 month hospitalization s/p colostomy (now\n",
       "reversed), chronic hip pain, s/p laminectomy for spinal stenosis\n",
       "\n",
       "MEDICATION ON ADMISSION: On transfer: heparin 750 U/hr, integrillin 2, nitroglycerin,\n",
       "ASA, lopressor 2.5mg iv x 2, plavix, zocor 40.\n",
       "\n",
       "ALLERGIES: Patient recorded as having No Known Allergies to Drugs\n",
       "\n",
       "PHYSICAL EXAM: gen: NAD, cooperative.\n",
       "HEENT: PERRL/EOM intact, OP clear, MMM, no JVD, no carotid\n",
       "bruit.\n",
       "neck: no masses, no LAD.\n",
       "CV: RR, nl s1, s2 and split, 2/6 systolic murmur at LSB.\n",
       "chest: good air movement b/l, faint crackles no wheezes.\n",
       "abd: soft, nt/nd, +bs, no organomegaly.\n",
       "extr: cool, cap refill<2 sec, 2+ dp pulses, no cyanosis, no LE\n",
       "edema.\n",
       "neuro: a&ox3, cn ii-xii intact; motor, sensory, coordination,\n",
       "and language grossly non-focal.\n",
       "\n",
       "FAMILY HISTORY: mother and siblings with diabetes, mother with [**Name (NI) 5895**] Dx,\n",
       "father died s/p MI, brother with CVA.\n",
       "\n",
       "SOCIAL HISTORY: lives with second wife and 12yo son. Manages a maintenance\n",
       "company.  h/o tobacco use (quit in [**2105**]), and 2 drinks per year\n",
       "(on [**Holiday 944**]).</td>\n",
       "    </tr>\n",
       "    <tr>\n",
       "      <th id=\"T_9510b_level0_row2\" class=\"row_heading level0 row2\" >2</th>\n",
       "      <td id=\"T_9510b_row2_col0\" class=\"data row2 col0\" >['palpitations', 'dizziness', 'shortness of breath', 'chest pain']</td>\n",
       "      <td id=\"T_9510b_row2_col1\" class=\"data row2 col1\" >CHIEF COMPLAINT: mitral regurgitation/stenosis\n",
       "\n",
       "PRESENT ILLNESS: 38 yof with reports a history of\n",
       "intermittent palpitations for the past 5 years now with\n",
       "increasing frequency of palpitations over the past few months.\n",
       "She also reports increasing dizziness, SOB, and chest pain (left\n",
       "sided and squeezing) over the past 3 weeks which is worse with\n",
       "exertion, including walking/talking.  She reports no known\n",
       "history of rheumatic fever but has had a history of recurrent\n",
       "\"throat infections\" as a child.  Admitted to [**Last Name (un) 70574**] General\n",
       "ruled out for MI by enzymes.\n",
       "Of note, pt requring ativan/klonpin for anxiety.\n",
       "\n",
       "MEDICAL HISTORY: -Hypertension\n",
       "-Newly diagnosed MS, MR, pHTN. No known history of rheumatic\n",
       "heart dz but does have history of recurrent sore throats as a\n",
       "child.\n",
       "-Intermittent SVT\n",
       "-Obesity\n",
       "-Depression\n",
       "-[**Doctor Last Name 933**] (d/c'd Methimazole [**6-/2197**])\n",
       "\n",
       "MEDICATION ON ADMISSION: Metoprolol Succinate 25mg daily\n",
       "Klonopin 1mg qhs PRN\n",
       "Prozac 20mg daily\n",
       "\n",
       "ALLERGIES: Morphine\n",
       "\n",
       "PHYSICAL EXAM: T: 98.1 BP: 134/94, HR: 78, RR: 20 O2: 100% RA.\n",
       "\n",
       "FAMILY HISTORY: Father CVA, Grandfather MI, Brother HTN\n",
       "\n",
       "SOCIAL HISTORY: Lives with: Husband and Son\n",
       "Occupation: Does not work\n",
       "Tobacco: smokes [**12-17**] cigerettes a day x 20 years\n",
       "ETOH:8-9 beers on the weekend</td>\n",
       "    </tr>\n",
       "  </tbody>\n",
       "</table>\n"
      ],
      "text/plain": [
       "<pandas.io.formats.style.Styler at 0x3089d48f0>"
      ]
     },
     "execution_count": 7,
     "metadata": {},
     "output_type": "execute_result"
    }
   ],
   "source": [
    "set_frame_style(raw_test_df[['Symptoms', 'text']].head(3))"
   ]
  },
  {
   "cell_type": "code",
   "execution_count": 9,
   "metadata": {},
   "outputs": [],
   "source": [
    "raw_test_df.iloc[0:20].to_csv('sample.csv')"
   ]
  },
  {
   "cell_type": "code",
   "execution_count": 10,
   "metadata": {},
   "outputs": [],
   "source": [
    "def create_binary_matrix(labels, classes):\n",
    "    \"\"\"\n",
    "    Creates a binary matrix from a list of labels and a list of classes.\n",
    "    \n",
    "    Parameters:\n",
    "    labels (list): A list of lists, where each inner list contains the labels for a single data point.\n",
    "    classes (list): A list of class names.\n",
    "    \n",
    "    Returns:\n",
    "    numpy.ndarray: A binary matrix where each row represents a data point and each column represents a class.\n",
    "    \"\"\"\n",
    "    binary_matrix = np.zeros((len(labels), len(classes)), dtype=int)\n",
    "    for i, label_list in enumerate(labels):\n",
    "        for label in label_list:\n",
    "            if label in classes:\n",
    "                idx = classes.index(label)\n",
    "                binary_matrix[i, idx] = 1       \n",
    "    return binary_matrix"
   ]
  },
  {
   "cell_type": "code",
   "execution_count": 11,
   "metadata": {},
   "outputs": [],
   "source": [
    "from sklearn.metrics import roc_auc_score, f1_score, precision_score, recall_score\n",
    "import numpy as np\n",
    "\n",
    "def roc_auc_f1_precision_recall(probs, labels, multilabel=False, average='macro', multi_class='ovo'):\n",
    "    \"\"\"\n",
    "    Calculates ROC AUC, F1, precision, and recall scores (macro and micro) for multilabel or multiclass classification.\n",
    "    \n",
    "    Parameters:\n",
    "    probs (numpy.ndarray): A 2D array of probabilities, where each row represents a data point and each column represents a class.\n",
    "    labels (numpy.ndarray or list): The true labels for the data points.\n",
    "    multilabel (bool, optional): Whether the problem is a multilabel classification task. Defaults to False.\n",
    "    average (str, optional): The method to use for averaging scores across classes. Defaults to 'macro'.\n",
    "    multi_class (str, optional): The strategy to use for multi-class ROC AUC calculation. Defaults to 'ovo' (one-vs-one).\n",
    "    \n",
    "    Returns:\n",
    "    dict: A dictionary with ROC AUC, F1, precision, and recall scores (macro and micro).\n",
    "    \"\"\"\n",
    "    if isinstance(labels, list):\n",
    "        labels = np.array(labels, dtype=int)\n",
    "    else:\n",
    "        labels = labels.astype(int)\n",
    "\n",
    "    # Filter relevant columns if multilabel is True\n",
    "    y_score = probs\n",
    "    if multilabel:\n",
    "        # Identify classes with at least one positive label\n",
    "        present_classes = np.any(labels == 1, axis=0)\n",
    "        labels = labels[:, present_classes]\n",
    "        y_score = np.array(probs)[:, present_classes]\n",
    "\n",
    "    # Calculate ROC AUC score\n",
    "    roc_auc = roc_auc_score(y_true=labels, y_score=y_score, average=average, multi_class=multi_class)\n",
    "\n",
    "    # Binarize the predictions for F1, precision, and recall calculation\n",
    "    preds = (y_score >= 0.5).astype(int)\n",
    "    \n",
    "    # Calculate F1 scores\n",
    "    f1_macro = f1_score(labels, preds, average='macro')\n",
    "    f1_micro = f1_score(labels, preds, average='micro')\n",
    "    \n",
    "    # Calculate precision scores\n",
    "    precision_macro = precision_score(labels, preds, average='macro', zero_division=0)\n",
    "    precision_micro = precision_score(labels, preds, average='micro', zero_division=0)\n",
    "    \n",
    "    # Calculate recall scores\n",
    "    recall_macro = recall_score(labels, preds, average='macro', zero_division=0)\n",
    "    recall_micro = recall_score(labels, preds, average='micro', zero_division=0)\n",
    "    \n",
    "    return {\n",
    "        'roc_auc': roc_auc,\n",
    "        'f1_macro': f1_macro,\n",
    "        'f1_micro': f1_micro,\n",
    "        'precision_macro': precision_macro,\n",
    "        'precision_micro': precision_micro,\n",
    "        'recall_macro': recall_macro,\n",
    "        'recall_micro': recall_micro\n",
    "    }\n"
   ]
  },
  {
   "cell_type": "code",
   "execution_count": 12,
   "metadata": {},
   "outputs": [
    {
     "data": {
      "text/plain": [
       "\"chest tightness', 'palpitations', 'ventricular ectopy/trigeminy\""
      ]
     },
     "execution_count": 12,
     "metadata": {},
     "output_type": "execute_result"
    }
   ],
   "source": [
    "str(raw_test_df.iloc[0].Symptoms)[2:-2]"
   ]
  },
  {
   "cell_type": "code",
   "execution_count": 13,
   "metadata": {},
   "outputs": [
    {
     "data": {
      "text/plain": [
       "['427', '272', 'V450', '493', '401', '346', '785', 'V458', '787', '414']"
      ]
     },
     "execution_count": 13,
     "metadata": {},
     "output_type": "execute_result"
    }
   ],
   "source": [
    "get_predictions(str(raw_test_df.iloc[0].Symptoms)[2:-2])"
   ]
  },
  {
   "cell_type": "code",
   "execution_count": 14,
   "metadata": {},
   "outputs": [
    {
     "name": "stderr",
     "output_type": "stream",
     "text": [
      "  0%|          | 0/8733 [00:00<?, ?it/s]huggingface/tokenizers: The current process just got forked, after parallelism has already been used. Disabling parallelism to avoid deadlocks...\n",
      "To disable this warning, you can either:\n",
      "\t- Avoid using `tokenizers` before the fork if possible\n",
      "\t- Explicitly set the environment variable TOKENIZERS_PARALLELISM=(true | false)\n",
      "  0%|          | 10/8733 [00:01<23:05,  6.30it/s]\n"
     ]
    }
   ],
   "source": [
    "from tqdm import tqdm\n",
    "true_labels = []\n",
    "predicted_labels = []\n",
    "# Wrap raw_test_df.iterrows() with tqdm\n",
    "for i, j in tqdm(raw_test_df.iterrows(), total=len(raw_test_df)):\n",
    "    pred_label = get_predictions(j.text, 0.008)\n",
    "    true_label = j.short_codes.split(',')\n",
    "    true_labels.append(true_label)\n",
    "    predicted_labels.append(pred_label)\n",
    "    if i == 10:\n",
    "        break"
   ]
  },
  {
   "cell_type": "code",
   "execution_count": 16,
   "metadata": {},
   "outputs": [
    {
     "name": "stdout",
     "output_type": "stream",
     "text": [
      "{'roc_auc': 0.6963682941531043, 'f1_macro': 0.4269749238103669, 'f1_micro': 0.43059490084985835, 'precision_macro': 0.3668625678119349, 'precision_micro': 0.3220338983050847, 'recall_macro': 0.619047619047619, 'recall_micro': 0.6495726495726496}\n"
     ]
    }
   ],
   "source": [
    "true_binary_matrix = create_binary_matrix(true_labels, classes)  # Note the list wrapping\n",
    "pred_binary_matrix = create_binary_matrix(predicted_labels, classes)\n",
    "\n",
    "metrics = roc_auc_f1_precision_recall(pred_binary_matrix, true_binary_matrix, multilabel=True)\n",
    "print(metrics)"
   ]
  },
  {
   "cell_type": "code",
   "execution_count": 17,
   "metadata": {},
   "outputs": [
    {
     "data": {
      "text/html": [
       "<div>\n",
       "<style scoped>\n",
       "    .dataframe tbody tr th:only-of-type {\n",
       "        vertical-align: middle;\n",
       "    }\n",
       "\n",
       "    .dataframe tbody tr th {\n",
       "        vertical-align: top;\n",
       "    }\n",
       "\n",
       "    .dataframe thead th {\n",
       "        text-align: right;\n",
       "    }\n",
       "</style>\n",
       "<table border=\"1\" class=\"dataframe\">\n",
       "  <thead>\n",
       "    <tr style=\"text-align: right;\">\n",
       "      <th></th>\n",
       "      <th>True labels</th>\n",
       "      <th>Predicted Labels</th>\n",
       "      <th>Matching Words</th>\n",
       "      <th>Match Count</th>\n",
       "    </tr>\n",
       "  </thead>\n",
       "  <tbody>\n",
       "    <tr>\n",
       "      <th>0</th>\n",
       "      <td>['212', '278', '413', '285', '530', 'V108', '2...</td>\n",
       "      <td>['V853', 'E878', '511', '349', '788', 'V586', ...</td>\n",
       "      <td>['V853', '413', '278', '285', '288']</td>\n",
       "      <td>5</td>\n",
       "    </tr>\n",
       "    <tr>\n",
       "      <th>1</th>\n",
       "      <td>['410', '285', '414', '443', 'V104', '250']</td>\n",
       "      <td>['412', '070', '486', '599', '788', '242', '43...</td>\n",
       "      <td>['410', '414', '443', 'V104']</td>\n",
       "      <td>4</td>\n",
       "    </tr>\n",
       "    <tr>\n",
       "      <th>2</th>\n",
       "      <td>['394', '416', '278', '427', '311', '401', '242']</td>\n",
       "      <td>['521', '780', '599', '303', '394', '424', '40...</td>\n",
       "      <td>['416', '394', '278', '401', '311', '427']</td>\n",
       "      <td>6</td>\n",
       "    </tr>\n",
       "    <tr>\n",
       "      <th>3</th>\n",
       "      <td>['715', '428', '584', '285', '293', '276', '99...</td>\n",
       "      <td>['V458', '780', '486', '599', '536', '244', '4...</td>\n",
       "      <td>['V458', '428', '780', '357', '276', '599', '2...</td>\n",
       "      <td>13</td>\n",
       "    </tr>\n",
       "    <tr>\n",
       "      <th>4</th>\n",
       "      <td>['441', '401', '725']</td>\n",
       "      <td>['211', '486', '599', 'V586', '555', '482', '3...</td>\n",
       "      <td>['725', '441', '401']</td>\n",
       "      <td>3</td>\n",
       "    </tr>\n",
       "  </tbody>\n",
       "</table>\n",
       "</div>"
      ],
      "text/plain": [
       "                                         True labels  \\\n",
       "0  ['212', '278', '413', '285', '530', 'V108', '2...   \n",
       "1        ['410', '285', '414', '443', 'V104', '250']   \n",
       "2  ['394', '416', '278', '427', '311', '401', '242']   \n",
       "3  ['715', '428', '584', '285', '293', '276', '99...   \n",
       "4                              ['441', '401', '725']   \n",
       "\n",
       "                                    Predicted Labels  \\\n",
       "0  ['V853', 'E878', '511', '349', '788', 'V586', ...   \n",
       "1  ['412', '070', '486', '599', '788', '242', '43...   \n",
       "2  ['521', '780', '599', '303', '394', '424', '40...   \n",
       "3  ['V458', '780', '486', '599', '536', '244', '4...   \n",
       "4  ['211', '486', '599', 'V586', '555', '482', '3...   \n",
       "\n",
       "                                      Matching Words  Match Count  \n",
       "0               ['V853', '413', '278', '285', '288']            5  \n",
       "1                      ['410', '414', '443', 'V104']            4  \n",
       "2         ['416', '394', '278', '401', '311', '427']            6  \n",
       "3  ['V458', '428', '780', '357', '276', '599', '2...           13  \n",
       "4                              ['725', '441', '401']            3  "
      ]
     },
     "execution_count": 17,
     "metadata": {},
     "output_type": "execute_result"
    }
   ],
   "source": [
    "import pandas as pd\n",
    "\n",
    "rows = []\n",
    "for true, pred in zip(true_labels, predicted_labels):\n",
    "    # Convert to sets for efficient matching\n",
    "    true_set = set(true)\n",
    "    pred_set = set(pred)\n",
    "    matching_words = true_set & pred_set\n",
    "    \n",
    "    rows.append({\n",
    "        'True labels': true,  # Keep as list\n",
    "        'Predicted Labels': pred,  # Keep as list\n",
    "        'Matching Words': list(matching_words),  # Matching words as list\n",
    "        'Match Count': len(matching_words)  # Add count of matches\n",
    "    })\n",
    "\n",
    "df = pd.DataFrame(rows)\n",
    "# Convert lists to strings for better display (optional)\n",
    "df['True labels'] = df['True labels'].apply(str)\n",
    "df['Predicted Labels'] = df['Predicted Labels'].apply(str)\n",
    "df['Matching Words'] = df['Matching Words'].apply(str)\n",
    "\n",
    "df.head()"
   ]
  },
  {
   "cell_type": "code",
   "execution_count": null,
   "metadata": {},
   "outputs": [],
   "source": []
  },
  {
   "cell_type": "code",
   "execution_count": 18,
   "metadata": {},
   "outputs": [
    {
     "name": "stderr",
     "output_type": "stream",
     "text": [
      "[I 2024-11-14 20:53:53,804] A new study created in memory with name: no-name-7d5eab28-bf1b-429e-8ab7-6b1ecd671bb1\n",
      "[I 2024-11-14 20:53:55,558] Trial 0 finished with value: 0.6794780992565802 and parameters: {'threshold': 0.019323651996892413}. Best is trial 0 with value: 0.6794780992565802.\n",
      "[I 2024-11-14 20:53:57,321] Trial 1 finished with value: 0.681130701225638 and parameters: {'threshold': 0.013972573760036567}. Best is trial 1 with value: 0.681130701225638.\n",
      "[I 2024-11-14 20:53:59,159] Trial 2 finished with value: 0.661651095037171 and parameters: {'threshold': 0.029801506852270086}. Best is trial 1 with value: 0.681130701225638.\n",
      "[I 2024-11-14 20:54:00,851] Trial 3 finished with value: 0.7049477596945951 and parameters: {'threshold': 0.002764966133696618}. Best is trial 3 with value: 0.7049477596945951.\n",
      "[I 2024-11-14 20:54:02,676] Trial 4 finished with value: 0.6675055254169178 and parameters: {'threshold': 0.023496459188753125}. Best is trial 3 with value: 0.7049477596945951.\n",
      "[I 2024-11-14 20:54:04,344] Trial 5 finished with value: 0.7079716696805304 and parameters: {'threshold': 0.0026373538453990176}. Best is trial 5 with value: 0.7079716696805304.\n",
      "[I 2024-11-14 20:54:05,915] Trial 6 finished with value: 0.6802265420936306 and parameters: {'threshold': 0.013638345263002054}. Best is trial 5 with value: 0.7079716696805304.\n",
      "[I 2024-11-14 20:54:07,458] Trial 7 finished with value: 0.6597523608599558 and parameters: {'threshold': 0.02727844378733569}. Best is trial 5 with value: 0.7079716696805304.\n",
      "[I 2024-11-14 20:54:09,105] Trial 8 finished with value: 0.6696679726743018 and parameters: {'threshold': 0.021469260092603693}. Best is trial 5 with value: 0.7079716696805304.\n",
      "[I 2024-11-14 20:54:10,988] Trial 9 finished with value: 0.6540360659031547 and parameters: {'threshold': 0.039592593287582835}. Best is trial 5 with value: 0.7079716696805304.\n"
     ]
    },
    {
     "name": "stdout",
     "output_type": "stream",
     "text": [
      "Number of finished trials: 10\n",
      "Best trial:\n",
      "  Value: 0.7079716696805304\n",
      "  Params:\n",
      "    threshold: 0.0026373538453990176\n",
      "\n",
      "Final metrics with optimal threshold:\n",
      "{'roc_auc': 0.7079716696805304, 'f1_macro': 0.43112182348965666, 'f1_micro': 0.4017857142857143, 'precision_macro': 0.3517179023508137, 'precision_micro': 0.2719033232628399, 'recall_macro': 0.7503013863773357, 'recall_micro': 0.7692307692307693}\n"
     ]
    }
   ],
   "source": [
    "import optuna\n",
    "import numpy as np\n",
    "from sklearn.metrics import f1_score\n",
    "\n",
    "\n",
    "def objective(trial):\n",
    "    threshold = trial.suggest_float('threshold', 0.001, 0.05)\n",
    "    \n",
    "    true_labels = []\n",
    "    predicted_labels = []\n",
    "    \n",
    "    for i, j in raw_test_df.iterrows():\n",
    "        pred_label = get_predictions(j.text, threshold)\n",
    "        true_label = j.short_codes.split(',')\n",
    "        true_labels.append(true_label)\n",
    "        predicted_labels.append(pred_label)\n",
    "        if i == 10:\n",
    "            break\n",
    "    \n",
    "    true_binary_matrix = create_binary_matrix(true_labels, classes)\n",
    "    pred_binary_matrix = create_binary_matrix(predicted_labels, classes)\n",
    "    \n",
    "    roc_auc =  roc_auc_f1_precision_recall(pred_binary_matrix, true_binary_matrix, multilabel=True)['roc_auc']\n",
    "    \n",
    "    return roc_auc\n",
    "\n",
    "def find_optimal_threshold(n_trials=100):\n",
    "    study = optuna.create_study(direction='maximize')\n",
    "    study.optimize(objective, n_trials=n_trials)\n",
    "    \n",
    "    print('Number of finished trials:', len(study.trials))\n",
    "    print('Best trial:')\n",
    "    trial = study.best_trial\n",
    "    \n",
    "    print('  Value:', trial.value)\n",
    "    print('  Params:')\n",
    "    print('    threshold:', trial.params['threshold'])\n",
    "    \n",
    "    return trial.params['threshold']\n",
    "\n",
    "optimal_threshold = find_optimal_threshold(n_trials=10) \n",
    "\n",
    "true_labels = []\n",
    "predicted_labels = []\n",
    "for i, j in raw_test_df.iterrows():\n",
    "    pred_label = get_predictions(j.text, optimal_threshold)\n",
    "    true_label = j.short_codes.split(',')\n",
    "    true_labels.append(true_label)\n",
    "    predicted_labels.append(pred_label)\n",
    "    if i == 10:\n",
    "        break\n",
    "\n",
    "true_binary_matrix = create_binary_matrix(true_labels, classes)\n",
    "pred_binary_matrix = create_binary_matrix(predicted_labels, classes)\n",
    "\n",
    "final_metrics = roc_auc_f1_precision_recall(pred_binary_matrix, true_binary_matrix, multilabel=True)\n",
    "print(\"\\nFinal metrics with optimal threshold:\")\n",
    "print(final_metrics)"
   ]
  },
  {
   "cell_type": "code",
   "execution_count": 3,
   "metadata": {},
   "outputs": [],
   "source": [
    "# !pip install seaborn"
   ]
  }
 ],
 "metadata": {
  "kernelspec": {
   "display_name": "astro",
   "language": "python",
   "name": "python3"
  },
  "language_info": {
   "codemirror_mode": {
    "name": "ipython",
    "version": 3
   },
   "file_extension": ".py",
   "mimetype": "text/x-python",
   "name": "python",
   "nbconvert_exporter": "python",
   "pygments_lexer": "ipython3",
   "version": "3.12.3"
  }
 },
 "nbformat": 4,
 "nbformat_minor": 2
}
