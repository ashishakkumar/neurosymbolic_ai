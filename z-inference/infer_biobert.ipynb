{
 "cells": [
  {
   "cell_type": "code",
   "execution_count": 1,
   "metadata": {},
   "outputs": [
    {
     "data": {
      "text/plain": [
       "BertForSequenceClassification(\n",
       "  (bert): BertModel(\n",
       "    (embeddings): BertEmbeddings(\n",
       "      (word_embeddings): Embedding(28996, 768, padding_idx=0)\n",
       "      (position_embeddings): Embedding(512, 768)\n",
       "      (token_type_embeddings): Embedding(2, 768)\n",
       "      (LayerNorm): LayerNorm((768,), eps=1e-12, elementwise_affine=True)\n",
       "      (dropout): Dropout(p=0.1, inplace=False)\n",
       "    )\n",
       "    (encoder): BertEncoder(\n",
       "      (layer): ModuleList(\n",
       "        (0-11): 12 x BertLayer(\n",
       "          (attention): BertAttention(\n",
       "            (self): BertSdpaSelfAttention(\n",
       "              (query): Linear(in_features=768, out_features=768, bias=True)\n",
       "              (key): Linear(in_features=768, out_features=768, bias=True)\n",
       "              (value): Linear(in_features=768, out_features=768, bias=True)\n",
       "              (dropout): Dropout(p=0.1, inplace=False)\n",
       "            )\n",
       "            (output): BertSelfOutput(\n",
       "              (dense): Linear(in_features=768, out_features=768, bias=True)\n",
       "              (LayerNorm): LayerNorm((768,), eps=1e-12, elementwise_affine=True)\n",
       "              (dropout): Dropout(p=0.1, inplace=False)\n",
       "            )\n",
       "          )\n",
       "          (intermediate): BertIntermediate(\n",
       "            (dense): Linear(in_features=768, out_features=3072, bias=True)\n",
       "            (intermediate_act_fn): GELUActivation()\n",
       "          )\n",
       "          (output): BertOutput(\n",
       "            (dense): Linear(in_features=3072, out_features=768, bias=True)\n",
       "            (LayerNorm): LayerNorm((768,), eps=1e-12, elementwise_affine=True)\n",
       "            (dropout): Dropout(p=0.1, inplace=False)\n",
       "          )\n",
       "        )\n",
       "      )\n",
       "    )\n",
       "    (pooler): BertPooler(\n",
       "      (dense): Linear(in_features=768, out_features=768, bias=True)\n",
       "      (activation): Tanh()\n",
       "    )\n",
       "  )\n",
       "  (dropout): Dropout(p=0.1, inplace=False)\n",
       "  (classifier): Linear(in_features=768, out_features=1263, bias=True)\n",
       ")"
      ]
     },
     "execution_count": 1,
     "metadata": {},
     "output_type": "execute_result"
    }
   ],
   "source": [
    "from transformers import AutoTokenizer, AutoModelForSequenceClassification\n",
    "import torch\n",
    "\n",
    "device = torch.device(\"cuda:0\" if torch.cuda.is_available() else \"cpu\")\n",
    "# # Load the pre-trained CORe model\n",
    "# tokenizer = AutoTokenizer.from_pretrained(\"DATEXIS/CORe-clinical-diagnosis-prediction\")\n",
    "# model = AutoModelForSequenceClassification.from_pretrained(\"DATEXIS/CORe-clinical-diagnosis-prediction\")\n",
    "# model.to(device)\n",
    "\n",
    "tokenizer = AutoTokenizer.from_pretrained(\"ashishkgpian/biobert_icd9_classifier_ehr\")\n",
    "model = AutoModelForSequenceClassification.from_pretrained(\"ashishkgpian/biobert_icd9_classifier_ehr\", ignore_mismatched_sizes=True)\n",
    "model.to(device)\n"
   ]
  },
  {
   "cell_type": "code",
   "execution_count": null,
   "metadata": {},
   "outputs": [],
   "source": []
  },
  {
   "cell_type": "code",
   "execution_count": 2,
   "metadata": {},
   "outputs": [],
   "source": [
    "input = \"CHIEF COMPLAINT: Headaches\\n\\nPRESENT ILLNESS: 58yo man w/ hx of hypertension, AFib on coumadin presented to ED with the worst headache of his life.\""
   ]
  },
  {
   "cell_type": "code",
   "execution_count": 3,
   "metadata": {},
   "outputs": [],
   "source": [
    "tokenized_input = tokenizer(input, return_tensors=\"pt\")\n",
    "tokenized_input = {k: v.to(device) for k, v in tokenized_input.items()}"
   ]
  },
  {
   "cell_type": "code",
   "execution_count": 4,
   "metadata": {},
   "outputs": [
    {
     "data": {
      "text/plain": [
       "SequenceClassifierOutput(loss=None, logits=tensor([[ -8.1184,  -3.9650,  -8.6491,  ..., -11.6154, -10.9156, -16.0345]],\n",
       "       device='cuda:0', grad_fn=<AddmmBackward0>), hidden_states=None, attentions=None)"
      ]
     },
     "execution_count": 4,
     "metadata": {},
     "output_type": "execute_result"
    }
   ],
   "source": [
    "output = model(**tokenized_input)\n",
    "output"
   ]
  },
  {
   "cell_type": "code",
   "execution_count": 5,
   "metadata": {},
   "outputs": [
    {
     "data": {
      "text/plain": [
       "['401', 'V586', '427', '431']"
      ]
     },
     "execution_count": 5,
     "metadata": {},
     "output_type": "execute_result"
    }
   ],
   "source": [
    "import torch\n",
    "\n",
    "predictions = torch.sigmoid(output.logits)\n",
    "predicted_labels = [model.config.id2label[_id] for _id in (predictions > 0.2).nonzero()[:, 1].tolist()]\n",
    "predicted_labels"
   ]
  },
  {
   "cell_type": "code",
   "execution_count": 6,
   "metadata": {},
   "outputs": [
    {
     "name": "stdout",
     "output_type": "stream",
     "text": [
      "['403', '486', '582', '585', '425', '276', '710', '724', '458', '287', '285', '275', '583', '558', '327', '228', '338', '789', '790', 'V451', '531', '410', '414', '725', '191', '331', '530', '411', '482', '272', '305', '194', '197', '255', '424', '584', '998', '682', '511', '599', '428', '349', '401', 'V100', 'V453', 'V586', '041', '251', 'E932', 'V300', 'V053', 'V290', '571', '070', '250', '570', '572', '286', '518', '038', '280', '263', '995', '303', '244', '112', '881', '903', '955', 'E956', '745', '762', '441', '496', '447', '440', '997', '274', '427', 'V104', 'V101', 'V120', 'V090', '569', '560', '491', 'V458', '433', '436', '493', '996', '416', 'V310', '765', '769', '774', '770', '747', '776', '772', '362', '198', 'V103', '746', '766', 'V293', '853', '780', 'E888', '730', '357', '430', '293', '443', 'V158', '396', '365', '135', '311', 'E935', '721', '214', '437', '242', '600', '189', '304', '711', '800', 'E814', '873', '781', '378', '951', '767', '431', '294', '042', 'V141', 'V071', '764', '775', '969', '295', 'E950', '266', '779', '355', '553', '965', 'E850', 'E853', '426', '804', 'E916', '202', 'V502', '398', '707', '348', '787', '564', 'V428', '238', '300', '788', '332', 'V107', 'V433', 'E879', '861', '423', 'E966', '200', '555', '771', '270', '335', '723', '079', '851', '807', '864', '865', '860', '413', '782', 'V108', '507', '512', '752', '162', '783', '778', '333', '785', '136', '799', 'E931', '157', '574', '568', 'E878', '722', '719', 'V125', '296', '478', 'V170', '805', '596', 'E880', '822', '733', '578', '459', '438', '008', 'V098', '185', '967', '225', 'V457', '389', '412', '593', '345', '201', '515', 'E933', '278', '492', '715', '415', 'V105', '535', '608', 'E870', 'V058', '513', '709', 'E821', 'V173', '824', '911', '913', 'E812', '576', '203', '281', '580', 'V450', '216', 'V340', '579', '693', '351', '088', '714', 'E849', '307', '421', '786', 'E942', '959', 'E928', '588', '364', 'V642', 'V025', '252', '283', '784', '611', '622', '289', '446', '729', 'V498', 'V456', '795', 'E854', 'V667', '155', 'V130', '882', '852', '957', 'E815', '466', '792', '434', '342', '153', 'E934', '481', '910', '456', '453', '867', '273', '532', '806', 'V422', 'V541', '556', '394', '444', '924', 'E960', '514', '763', '218', '359', '340', '999', '451', '324', 'E939', '537', '737', '455', 'E884', 'V427', '591', '592', '577', '557', '575', '356', '368', '552', '500', '750', '253', '292', 'E937', '211', '288', '773', '314', 'V652', '432', '379', '435', 'E930', '199', 'V641', '494', '966', '758', 'E855', '741', '918', 'V436', '078', '562', '820', '801', '839', 'E881', 'V584', '731', 'E885', '812', '156', '567', '696', '501', '712', 'V707', '215', '754', '753', '508', '876', '720', 'V442', '871', '958', '802', '847', '397', '196', '346', 'E968', '510', '404', '360', '376', '370', 'V026', '904', '928', '821', '823', '150', '573', '850', 'V497', 'E938', 'V533', 'V556', '728', '870', 'V874', 'V153', 'V644', 'V600', '521', '301', '164', '054', '344', '464', '442', 'V150', '282', 'V08', '891', '808', '866', '902', '117', '484', '760', 'V048', '691', '519', '528', '320', '369', '685', 'V625', '794', '793', '318', 'V441', '761', '936', 'E915', '457', '395', '053', 'V113', 'V632', '386', '623', '290', '204', '271', 'E819', '811', '813', '884', 'E813', '751', '366', '297', 'V440', '473', 'E910', 'V420', '057', '536', '152', '970', '485', '235', '372', 'E882', '127', '160', '170', 'V880', '595', '909', 'V443', '490', '343', '319', '130', '698', 'E823', '246', '854', '868', '872', '982', '151', 'V853', '980', 'E980', '291', '517', '268', '487', 'E866', '796', 'V452', '036', '354', '648', '701', 'V063', 'V038', '227', '614', '533', '736', '942', 'E924', '240', '921', 'V454', '977', '759', '768', '923', 'E816', '681', '138', '358', '950', '922', '205', '990', '009', '619', '417', '279', '257', 'E860', '755', '991', 'E957', '241', '810', '920', 'V461', 'V127', '261', '429', '550', '874', '756', '935', '831', '718', '962', 'E858', '803', '480', '674', '277', '880', '879', '377', '529', '047', '083', '835', '462', '336', 'E947', 'V160', '420', '317', '454', 'E883', '840', 'V550', '960', '586', '933', '597', '350', 'E911', '742', 'V614', '298', 'V551', '620', '716', 'V462', 'V180', '706', '565', '452', '825', '322', '154', '040', '110', '605', '607', '461', '704', '713', '945', '052', '948', '323', '325', '934', '516', '039', '975', '971', '994', '666', 'V111', '907', 'E929', '566', '603', '405', '049', '237', 'V161', 'V553', '262', '743', '422', '337', '625', '757', '527', '309', '815', 'V163', '402', '869', 'E912', '188', '590', 'V852', 'V446', 'E852', '886', 'E919', '183', '862', '875', '877', '890', 'E944', 'E936', 'V444', '598', 'V552', '226', 'E818', '617', 'E958', 'V123', '748', '968', 'V298', '465', '972', 'E826', '905', 'E969', '744', 'E829', 'V301', '388', 'V146', 'V151', '887', '375', '334', 'E848', 'E918', '284', 'E876', '260', '987', 'E890', '834', '522', '692', 'V588', '310', '863', 'E834', '192', '035', 'V174', '171', '738', '220', '477', '212', '172', 'V548', '726', '526', 'V099', '777', '749', 'E922', '952', 'V320', '901', '542', '449', 'V011', '963', 'E822', '524', 'V052', 'V539', '144', '445', '321', '380', '604', '383', '587', '137', '845', '695', 'V496', '180', '618', 'V102', '540', '525', '916', '174', 'V628', '892', '816', 'V171', '520', '708', '176', '791', 'V854', 'E906', 'V714', 'V554', 'V435', '883', '927', 'V434', '007', '581', 'V202', '140', '642', '644', '654', 'V270', 'V252', '193', 'V838', 'V555', '139', 'V195', 'V068', '601', '826', '694', '626', '956', '245', '919', '299', '727', '684', '647', 'E941', 'V850', '665', '391', '308', '633', '639', 'V230', 'V061', '223', '269', 'V183', '046', '534', '361', '673', '643', '986', '005', '034', '382', '239', '232', 'V169', 'E901', '908', '634', '836', '616', 'E917', '734', 'V698', '133', 'E887', 'V445', 'V155', 'E949', '142', 'E987', '236', '470', '463', 'E940', '229', '448', '702', '182', 'E825', 'V851', '814', 'V881', '259', '906', '161', 'E891', '830', 'E953', '195', '093', '472', '914', 'E988', '930', '543', '686', '900', '075', '705', '939', '381', 'V311', 'V168', '018', '004', '917', '483', '656', '641', '217', 'V291', 'V164', 'E943', '134', '635', '659', 'E920', '506', 'E869', '111', '096', '094', '123', '158', '141', '243', '690', '097', '632', '989', '964', '027', 'V596', '373', 'V017', '254', '932', '187', '353', '669', 'V504', '602', '843', '912', '374', '983', 'E864', '031', '210', '114', '646', '077', 'V018', '670', '615', 'V638', 'V135', '938', 'V580', '680', '878', 'E965', '471', '652', '663', '658', 'V272', '213', '032', '148', 'V643', 'V148', 'V062', 'E989', 'E927', '131', '233', 'V040', 'V066', '125', 'V503', 'V581', 'V292', 'V192', '700', '703', '209', 'V029', '208', '697', 'E871', '184', '015', '146', 'V140', 'V154', '992', '249', '149', 'V142', '844', '175', 'V542', '363', 'V152', 'V106', 'V688', 'V265', '012', '885', 'E955', 'V530', '385', 'V124', 'V741', '390', '474', '627', '817', '230', 'E817', 'V198', 'E862', '258', 'V463', '735', 'V024', 'V640', '976', 'E861', 'V765', 'V023', 'V626', 'E828', 'V188', '341', 'V560', '798', 'V448', '893', '495', '084', '523', 'V653', '953', 'V549', 'V095', 'V182', '621', '475', 'V425', '058', '306', 'V165', '551', 'E831', 'V136', 'V109', '256', '219', '221', '961', '985', '828', '671', 'E820', '897', 'V840', '926', 'V421', '048', '594', '896', '082', 'E986', '541', '145', '267', '683', 'V097', '732', '265', '011', 'E801', 'V185', '664', 'V620', 'E840', 'V166', 'V468', '629', '115', 'V587', 'E908', '120', 'V708', '098', 'V469', 'V694', 'E824', 'E970', '121', '838', '832', '460', '013', 'V239', '944', 'V189', '946', '118', '326', 'E945', '645', '352', '159', 'E967', 'V618', '147', 'V908', '941', '312', '624', 'V186', 'V145', '661', '010', 'E865', '091', 'E886', '649', 'E905', 'E962', 'V612', 'E959', '502', 'V438', 'V222', '163', '947', 'V162', 'E946', 'V716', '315', '367', 'V540', '846', '717', 'V561', 'V175', '842', 'V138', 'V703', 'V583', '841', '672', '062', '488', '347', '339', 'E841', '086', 'V400', 'E985', '655', '974', 'V289', 'V604', 'V074', 'V728', '371', '190', 'V126', '090', '143', '943', 'V611', 'V331', '085', 'V172', 'E835', '668', '740', 'V167', 'V558', 'E851', 'E811', 'V430', '837', 'V072', 'V431', '302', 'E923', 'V110', 'E900', 'V562', 'E963', 'E964', 'V118', 'V624', 'E800', '988', '833', '023', 'V020', '021', '003', 'V660', 'E806', '313', 'E954', 'V860', '660', 'V449', '231', 'V602', '186', 'E863', 'E874', 'V721', 'V181', '651', '033', 'V654', 'E804', '330', '610', '384', 'E838', 'E001', '973', '819', '014', '132', 'E899', '925', '207', 'V861', 'E002', 'E030', 'E000', '894', 'E873', 'E999', 'E976', 'E003', 'V016', 'E805', '045', 'V610', 'V078', 'V510', 'E029', '848', 'E006', 'V403', '122', 'V536', 'E013', 'E019', '173', 'E913', '677', 'E008', 'V568', 'V143', 'V091', 'V872', '066', 'V601', '116', 'V882', 'V065', '538', 'V655', '316', 'E007', 'E016', 'E921', 'V902', '206', 'V254', '099', 'V489', 'V870', 'E977', '628', 'V250', 'E982', 'V486', '539', 'V073', '937', 'V812', '030', 'V271', '589', 'V672', 'V671', 'E926', 'E925', 'E857', 'V537', '954', 'E827', '657', 'V910', 'V789', 'V037', 'E975', 'V045', 'V848', '393', 'V426', '179', '387', 'V903', 'E856', 'V901', '915']\n"
     ]
    }
   ],
   "source": [
    "classes = str('403 486 582 585 425 276 710 724 458 287 285 275 583 558 327 228 338 789 790 V451 531 410 414 725 191 331 530 411 482 272 305 194 197 255 424 584 998 682 511 599 428 349 401 V100 V453 V586 041 251 E932 V300 V053 V290 571 070 250 570 572 286 518 038 280 263 995 303 244 112 881 903 955 E956 745 762 441 496 447 440 997 274 427 V104 V101 V120 V090 569 560 491 V458 433 436 493 996 416 V310 765 769 774 770 747 776 772 362 198 V103 746 766 V293 853 780 E888 730 357 430 293 443 V158 396 365 135 311 E935 721 214 437 242 600 189 304 711 800 E814 873 781 378 951 767 431 294 042 V141 V071 764 775 969 295 E950 266 779 355 553 965 E850 E853 426 804 E916 202 V502 398 707 348 787 564 V428 238 300 788 332 V107 V433 E879 861 423 E966 200 555 771 270 335 723 079 851 807 864 865 860 413 782 V108 507 512 752 162 783 778 333 785 136 799 E931 157 574 568 E878 722 719 V125 296 478 V170 805 596 E880 822 733 578 459 438 008 V098 185 967 225 V457 389 412 593 345 201 515 E933 278 492 715 415 V105 535 608 E870 V058 513 709 E821 V173 824 911 913 E812 576 203 281 580 V450 216 V340 579 693 351 088 714 E849 307 421 786 E942 959 E928 588 364 V642 V025 252 283 784 611 622 289 446 729 V498 V456 795 E854 V667 155 V130 882 852 957 E815 466 792 434 342 153 E934 481 910 456 453 867 273 532 806 V422 V541 556 394 444 924 E960 514 763 218 359 340 999 451 324 E939 537 737 455 E884 V427 591 592 577 557 575 356 368 552 500 750 253 292 E937 211 288 773 314 V652 432 379 435 E930 199 V641 494 966 758 E855 741 918 V436 078 562 820 801 839 E881 V584 731 E885 812 156 567 696 501 712 V707 215 754 753 508 876 720 V442 871 958 802 847 397 196 346 E968 510 404 360 376 370 V026 904 928 821 823 150 573 850 V497 E938 V533 V556 728 870 V874 V153 V644 V600 521 301 164 054 344 464 442 V150 282 V08 891 808 866 902 117 484 760 V048 691 519 528 320 369 685 V625 794 793 318 V441 761 936 E915 457 395 053 V113 V632 386 623 290 204 271 E819 811 813 884 E813 751 366 297 V440 473 E910 V420 057 536 152 970 485 235 372 E882 127 160 170 V880 595 909 V443 490 343 319 130 698 E823 246 854 868 872 982 151 V853 980 E980 291 517 268 487 E866 796 V452 036 354 648 701 V063 V038 227 614 533 736 942 E924 240 921 V454 977 759 768 923 E816 681 138 358 950 922 205 990 009 619 417 279 257 E860 755 991 E957 241 810 920 V461 V127 261 429 550 874 756 935 831 718 962 E858 803 480 674 277 880 879 377 529 047 083 835 462 336 E947 V160 420 317 454 E883 840 V550 960 586 933 597 350 E911 742 V614 298 V551 620 716 V462 V180 706 565 452 825 322 154 040 110 605 607 461 704 713 945 052 948 323 325 934 516 039 975 971 994 666 V111 907 E929 566 603 405 049 237 V161 V553 262 743 422 337 625 757 527 309 815 V163 402 869 E912 188 590 V852 V446 E852 886 E919 183 862 875 877 890 E944 E936 V444 598 V552 226 E818 617 E958 V123 748 968 V298 465 972 E826 905 E969 744 E829 V301 388 V146 V151 887 375 334 E848 E918 284 E876 260 987 E890 834 522 692 V588 310 863 E834 192 035 V174 171 738 220 477 212 172 V548 726 526 V099 777 749 E922 952 V320 901 542 449 V011 963 E822 524 V052 V539 144 445 321 380 604 383 587 137 845 695 V496 180 618 V102 540 525 916 174 V628 892 816 V171 520 708 176 791 V854 E906 V714 V554 V435 883 927 V434 007 581 V202 140 642 644 654 V270 V252 193 V838 V555 139 V195 V068 601 826 694 626 956 245 919 299 727 684 647 E941 V850 665 391 308 633 639 V230 V061 223 269 V183 046 534 361 673 643 986 005 034 382 239 232 V169 E901 908 634 836 616 E917 734 V698 133 E887 V445 V155 E949 142 E987 236 470 463 E940 229 448 702 182 E825 V851 814 V881 259 906 161 E891 830 E953 195 093 472 914 E988 930 543 686 900 075 705 939 381 V311 V168 018 004 917 483 656 641 217 V291 V164 E943 134 635 659 E920 506 E869 111 096 094 123 158 141 243 690 097 632 989 964 027 V596 373 V017 254 932 187 353 669 V504 602 843 912 374 983 E864 031 210 114 646 077 V018 670 615 V638 V135 938 V580 680 878 E965 471 652 663 658 V272 213 032 148 V643 V148 V062 E989 E927 131 233 V040 V066 125 V503 V581 V292 V192 700 703 209 V029 208 697 E871 184 015 146 V140 V154 992 249 149 V142 844 175 V542 363 V152 V106 V688 V265 012 885 E955 V530 385 V124 V741 390 474 627 817 230 E817 V198 E862 258 V463 735 V024 V640 976 E861 V765 V023 V626 E828 V188 341 V560 798 V448 893 495 084 523 V653 953 V549 V095 V182 621 475 V425 058 306 V165 551 E831 V136 V109 256 219 221 961 985 828 671 E820 897 V840 926 V421 048 594 896 082 E986 541 145 267 683 V097 732 265 011 E801 V185 664 V620 E840 V166 V468 629 115 V587 E908 120 V708 098 V469 V694 E824 E970 121 838 832 460 013 V239 944 V189 946 118 326 E945 645 352 159 E967 V618 147 V908 941 312 624 V186 V145 661 010 E865 091 E886 649 E905 E962 V612 E959 502 V438 V222 163 947 V162 E946 V716 315 367 V540 846 717 V561 V175 842 V138 V703 V583 841 672 062 488 347 339 E841 086 V400 E985 655 974 V289 V604 V074 V728 371 190 V126 090 143 943 V611 V331 085 V172 E835 668 740 V167 V558 E851 E811 V430 837 V072 V431 302 E923 V110 E900 V562 E963 E964 V118 V624 E800 988 833 023 V020 021 003 V660 E806 313 E954 V860 660 V449 231 V602 186 E863 E874 V721 V181 651 033 V654 E804 330 610 384 E838 E001 973 819 014 132 E899 925 207 V861 E002 E030 E000 894 E873 E999 E976 E003 V016 E805 045 V610 V078 V510 E029 848 E006 V403 122 V536 E013 E019 173 E913 677 E008 V568 V143 V091 V872 066 V601 116 V882 V065 538 V655 316 E007 E016 E921 V902 206 V254 099 V489 V870 E977 628 V250 E982 V486 539 V073 937 V812 030 V271 589 V672 V671 E926 E925 E857 V537 954 E827 657 V910 V789 V037 E975 V045 V848 393 V426 179 387 V903 E856 V901 915').split(' ')\n",
    "\n",
    "print(classes)"
   ]
  },
  {
   "cell_type": "code",
   "execution_count": 7,
   "metadata": {},
   "outputs": [
    {
     "data": {
      "text/html": [
       "<div>\n",
       "<style scoped>\n",
       "    .dataframe tbody tr th:only-of-type {\n",
       "        vertical-align: middle;\n",
       "    }\n",
       "\n",
       "    .dataframe tbody tr th {\n",
       "        vertical-align: top;\n",
       "    }\n",
       "\n",
       "    .dataframe thead th {\n",
       "        text-align: right;\n",
       "    }\n",
       "</style>\n",
       "<table border=\"1\" class=\"dataframe\">\n",
       "  <thead>\n",
       "    <tr style=\"text-align: right;\">\n",
       "      <th></th>\n",
       "      <th>ROW_ID</th>\n",
       "      <th>ICD9_CODE</th>\n",
       "      <th>SHORT_TITLE</th>\n",
       "      <th>LONG_TITLE</th>\n",
       "    </tr>\n",
       "  </thead>\n",
       "  <tbody>\n",
       "    <tr>\n",
       "      <th>0</th>\n",
       "      <td>174</td>\n",
       "      <td>011</td>\n",
       "      <td>TB pneumonia-oth test</td>\n",
       "      <td>Tuberculous pneumonia [any form], tubercle bac...</td>\n",
       "    </tr>\n",
       "    <tr>\n",
       "      <th>1</th>\n",
       "      <td>175</td>\n",
       "      <td>011</td>\n",
       "      <td>TB pneumothorax-unspec</td>\n",
       "      <td>Tuberculous pneumothorax, unspecified</td>\n",
       "    </tr>\n",
       "    <tr>\n",
       "      <th>2</th>\n",
       "      <td>176</td>\n",
       "      <td>011</td>\n",
       "      <td>TB pneumothorax-no exam</td>\n",
       "      <td>Tuberculous pneumothorax, bacteriological or h...</td>\n",
       "    </tr>\n",
       "    <tr>\n",
       "      <th>3</th>\n",
       "      <td>177</td>\n",
       "      <td>011</td>\n",
       "      <td>TB pneumothorx-exam unkn</td>\n",
       "      <td>Tuberculous pneumothorax, bacteriological or h...</td>\n",
       "    </tr>\n",
       "    <tr>\n",
       "      <th>4</th>\n",
       "      <td>178</td>\n",
       "      <td>011</td>\n",
       "      <td>TB pneumothorax-micro dx</td>\n",
       "      <td>Tuberculous pneumothorax, tubercle bacilli fou...</td>\n",
       "    </tr>\n",
       "  </tbody>\n",
       "</table>\n",
       "</div>"
      ],
      "text/plain": [
       "   ROW_ID ICD9_CODE               SHORT_TITLE  \\\n",
       "0     174       011     TB pneumonia-oth test   \n",
       "1     175       011    TB pneumothorax-unspec   \n",
       "2     176       011   TB pneumothorax-no exam   \n",
       "3     177       011  TB pneumothorx-exam unkn   \n",
       "4     178       011  TB pneumothorax-micro dx   \n",
       "\n",
       "                                          LONG_TITLE  \n",
       "0  Tuberculous pneumonia [any form], tubercle bac...  \n",
       "1              Tuberculous pneumothorax, unspecified  \n",
       "2  Tuberculous pneumothorax, bacteriological or h...  \n",
       "3  Tuberculous pneumothorax, bacteriological or h...  \n",
       "4  Tuberculous pneumothorax, tubercle bacilli fou...  "
      ]
     },
     "execution_count": 7,
     "metadata": {},
     "output_type": "execute_result"
    }
   ],
   "source": [
    "import pandas as pd\n",
    "\n",
    "icd_df = pd.read_csv('D_ICD_DIAGNOSES (1).csv')\n",
    "def preprocessing(test_df) : \n",
    "    test_df.loc[\n",
    "        test_df['ICD9_CODE'].str.startswith(\"V\"), 'ICD9_CODE'] = test_df.ICD9_CODE.apply(\n",
    "        lambda x: x[:4])\n",
    "    test_df.loc[\n",
    "        test_df['ICD9_CODE'].str.startswith(\"E\"), 'ICD9_CODE'] = test_df.ICD9_CODE.apply(\n",
    "        lambda x: x[:4])\n",
    "    test_df.loc[(~test_df.ICD9_CODE.str.startswith(\"E\")) & (\n",
    "        ~test_df.ICD9_CODE.str.startswith(\"V\")), 'ICD9_CODE'] = test_df.ICD9_CODE.apply(\n",
    "        lambda x: x[:3])\n",
    "    return test_df\n",
    "\n",
    "icd_df = preprocessing(icd_df)\n",
    "icd_df.head()"
   ]
  },
  {
   "cell_type": "code",
   "execution_count": 8,
   "metadata": {},
   "outputs": [],
   "source": [
    "icd_df_titles = list(icd_df[icd_df.ICD9_CODE.isin(classes)].SHORT_TITLE)\n"
   ]
  },
  {
   "cell_type": "code",
   "execution_count": 9,
   "metadata": {},
   "outputs": [],
   "source": [
    "def get_predictions(input_text, threshold = 0.8) : \n",
    "    \"\"\"give the EHR/Symptoms as input, and \n",
    "    get the disease codes (matching in the classes under consideration) \n",
    "    as the output\"\"\"\n",
    "\n",
    "    tokenized_input =  tokenizer(\n",
    "        input_text,\n",
    "        return_tensors=\"pt\",\n",
    "        truncation=True,\n",
    "        max_length=512,  # BERT's maximum sequence length\n",
    "        padding='max_length'\n",
    "    )\n",
    "    tokenized_input = {k: v.to(device) for k, v in tokenized_input.items()}\n",
    "    output = model(**tokenized_input)\n",
    "    predictions = torch.sigmoid(output.logits)\n",
    "    predicted_labels = [model.config.id2label[_id] for _id in (predictions > threshold).nonzero()[:, 1].tolist()]\n",
    "    classes = str('403 486 582 585 425 276 710 724 458 287 285 275 583 558 327 228 338 789 790 V451 531 410 414 725 191 331 530 411 482 272 305 194 197 255 424 584 998 682 511 599 428 349 401 V100 V453 V586 041 251 E932 V300 V053 V290 571 070 250 570 572 286 518 038 280 263 995 303 244 112 881 903 955 E956 745 762 441 496 447 440 997 274 427 V104 V101 V120 V090 569 560 491 V458 433 436 493 996 416 V310 765 769 774 770 747 776 772 362 198 V103 746 766 V293 853 780 E888 730 357 430 293 443 V158 396 365 135 311 E935 721 214 437 242 600 189 304 711 800 E814 873 781 378 951 767 431 294 042 V141 V071 764 775 969 295 E950 266 779 355 553 965 E850 E853 426 804 E916 202 V502 398 707 348 787 564 V428 238 300 788 332 V107 V433 E879 861 423 E966 200 555 771 270 335 723 079 851 807 864 865 860 413 782 V108 507 512 752 162 783 778 333 785 136 799 E931 157 574 568 E878 722 719 V125 296 478 V170 805 596 E880 822 733 578 459 438 008 V098 185 967 225 V457 389 412 593 345 201 515 E933 278 492 715 415 V105 535 608 E870 V058 513 709 E821 V173 824 911 913 E812 576 203 281 580 V450 216 V340 579 693 351 088 714 E849 307 421 786 E942 959 E928 588 364 V642 V025 252 283 784 611 622 289 446 729 V498 V456 795 E854 V667 155 V130 882 852 957 E815 466 792 434 342 153 E934 481 910 456 453 867 273 532 806 V422 V541 556 394 444 924 E960 514 763 218 359 340 999 451 324 E939 537 737 455 E884 V427 591 592 577 557 575 356 368 552 500 750 253 292 E937 211 288 773 314 V652 432 379 435 E930 199 V641 494 966 758 E855 741 918 V436 078 562 820 801 839 E881 V584 731 E885 812 156 567 696 501 712 V707 215 754 753 508 876 720 V442 871 958 802 847 397 196 346 E968 510 404 360 376 370 V026 904 928 821 823 150 573 850 V497 E938 V533 V556 728 870 V874 V153 V644 V600 521 301 164 054 344 464 442 V150 282 V08 891 808 866 902 117 484 760 V048 691 519 528 320 369 685 V625 794 793 318 V441 761 936 E915 457 395 053 V113 V632 386 623 290 204 271 E819 811 813 884 E813 751 366 297 V440 473 E910 V420 057 536 152 970 485 235 372 E882 127 160 170 V880 595 909 V443 490 343 319 130 698 E823 246 854 868 872 982 151 V853 980 E980 291 517 268 487 E866 796 V452 036 354 648 701 V063 V038 227 614 533 736 942 E924 240 921 V454 977 759 768 923 E816 681 138 358 950 922 205 990 009 619 417 279 257 E860 755 991 E957 241 810 920 V461 V127 261 429 550 874 756 935 831 718 962 E858 803 480 674 277 880 879 377 529 047 083 835 462 336 E947 V160 420 317 454 E883 840 V550 960 586 933 597 350 E911 742 V614 298 V551 620 716 V462 V180 706 565 452 825 322 154 040 110 605 607 461 704 713 945 052 948 323 325 934 516 039 975 971 994 666 V111 907 E929 566 603 405 049 237 V161 V553 262 743 422 337 625 757 527 309 815 V163 402 869 E912 188 590 V852 V446 E852 886 E919 183 862 875 877 890 E944 E936 V444 598 V552 226 E818 617 E958 V123 748 968 V298 465 972 E826 905 E969 744 E829 V301 388 V146 V151 887 375 334 E848 E918 284 E876 260 987 E890 834 522 692 V588 310 863 E834 192 035 V174 171 738 220 477 212 172 V548 726 526 V099 777 749 E922 952 V320 901 542 449 V011 963 E822 524 V052 V539 144 445 321 380 604 383 587 137 845 695 V496 180 618 V102 540 525 916 174 V628 892 816 V171 520 708 176 791 V854 E906 V714 V554 V435 883 927 V434 007 581 V202 140 642 644 654 V270 V252 193 V838 V555 139 V195 V068 601 826 694 626 956 245 919 299 727 684 647 E941 V850 665 391 308 633 639 V230 V061 223 269 V183 046 534 361 673 643 986 005 034 382 239 232 V169 E901 908 634 836 616 E917 734 V698 133 E887 V445 V155 E949 142 E987 236 470 463 E940 229 448 702 182 E825 V851 814 V881 259 906 161 E891 830 E953 195 093 472 914 E988 930 543 686 900 075 705 939 381 V311 V168 018 004 917 483 656 641 217 V291 V164 E943 134 635 659 E920 506 E869 111 096 094 123 158 141 243 690 097 632 989 964 027 V596 373 V017 254 932 187 353 669 V504 602 843 912 374 983 E864 031 210 114 646 077 V018 670 615 V638 V135 938 V580 680 878 E965 471 652 663 658 V272 213 032 148 V643 V148 V062 E989 E927 131 233 V040 V066 125 V503 V581 V292 V192 700 703 209 V029 208 697 E871 184 015 146 V140 V154 992 249 149 V142 844 175 V542 363 V152 V106 V688 V265 012 885 E955 V530 385 V124 V741 390 474 627 817 230 E817 V198 E862 258 V463 735 V024 V640 976 E861 V765 V023 V626 E828 V188 341 V560 798 V448 893 495 084 523 V653 953 V549 V095 V182 621 475 V425 058 306 V165 551 E831 V136 V109 256 219 221 961 985 828 671 E820 897 V840 926 V421 048 594 896 082 E986 541 145 267 683 V097 732 265 011 E801 V185 664 V620 E840 V166 V468 629 115 V587 E908 120 V708 098 V469 V694 E824 E970 121 838 832 460 013 V239 944 V189 946 118 326 E945 645 352 159 E967 V618 147 V908 941 312 624 V186 V145 661 010 E865 091 E886 649 E905 E962 V612 E959 502 V438 V222 163 947 V162 E946 V716 315 367 V540 846 717 V561 V175 842 V138 V703 V583 841 672 062 488 347 339 E841 086 V400 E985 655 974 V289 V604 V074 V728 371 190 V126 090 143 943 V611 V331 085 V172 E835 668 740 V167 V558 E851 E811 V430 837 V072 V431 302 E923 V110 E900 V562 E963 E964 V118 V624 E800 988 833 023 V020 021 003 V660 E806 313 E954 V860 660 V449 231 V602 186 E863 E874 V721 V181 651 033 V654 E804 330 610 384 E838 E001 973 819 014 132 E899 925 207 V861 E002 E030 E000 894 E873 E999 E976 E003 V016 E805 045 V610 V078 V510 E029 848 E006 V403 122 V536 E013 E019 173 E913 677 E008 V568 V143 V091 V872 066 V601 116 V882 V065 538 V655 316 E007 E016 E921 V902 206 V254 099 V489 V870 E977 628 V250 E982 V486 539 V073 937 V812 030 V271 589 V672 V671 E926 E925 E857 V537 954 E827 657 V910 V789 V037 E975 V045 V848 393 V426 179 387 V903 E856 V901 915').split(' ')\n",
    "\n",
    "    predicted_labels = list(set(classes).intersection(set(predicted_labels)))\n",
    "\n",
    "    return predicted_labels\n",
    "\n",
    "    \n",
    "\n",
    "    "
   ]
  },
  {
   "cell_type": "code",
   "execution_count": 10,
   "metadata": {},
   "outputs": [],
   "source": [
    "import os\n",
    "import json\n",
    "import pandas as pd\n",
    "\n",
    "directory_path = 'samples_latest'\n",
    "data = []\n",
    "\n",
    "for filename in os.listdir(directory_path):\n",
    "    if filename.endswith('.json'):\n",
    "        file_path = os.path.join(directory_path, filename)\n",
    "        \n",
    "        with open(file_path, 'r') as file:\n",
    "            file_data = json.load(file)\n",
    "            data.append(file_data)"
   ]
  },
  {
   "cell_type": "code",
   "execution_count": 11,
   "metadata": {},
   "outputs": [
    {
     "data": {
      "text/html": [
       "<div>\n",
       "<style scoped>\n",
       "    .dataframe tbody tr th:only-of-type {\n",
       "        vertical-align: middle;\n",
       "    }\n",
       "\n",
       "    .dataframe tbody tr th {\n",
       "        vertical-align: top;\n",
       "    }\n",
       "\n",
       "    .dataframe thead th {\n",
       "        text-align: right;\n",
       "    }\n",
       "</style>\n",
       "<table border=\"1\" class=\"dataframe\">\n",
       "  <thead>\n",
       "    <tr style=\"text-align: right;\">\n",
       "      <th></th>\n",
       "      <th>Symptoms</th>\n",
       "      <th>Diseases</th>\n",
       "      <th>id</th>\n",
       "      <th>icd_9_desc</th>\n",
       "      <th>text</th>\n",
       "      <th>long_texts</th>\n",
       "      <th>short_texts</th>\n",
       "      <th>discharge_summary</th>\n",
       "      <th>short_codes</th>\n",
       "    </tr>\n",
       "  </thead>\n",
       "  <tbody>\n",
       "    <tr>\n",
       "      <th>0</th>\n",
       "      <td>[fatigued, not herself, febrile, hypotensive, ...</td>\n",
       "      <td>[CVA, peptic ulcer disease, reflux esophagitis...</td>\n",
       "      <td>196005</td>\n",
       "      <td>Subendocardial infarction, initial episode of ...</td>\n",
       "      <td>CHIEF COMPLAINT: \"off\", status post fall at [*...</td>\n",
       "      <td>Subendocardial infarction, initial episode of ...</td>\n",
       "      <td>Subendo infarct, initial,Atrial fibrillation,U...</td>\n",
       "      <td>Admission Date:  [**2117-5-11**]              ...</td>\n",
       "      <td>410,427,599,428,486,799,276,530,285,780,V125</td>\n",
       "    </tr>\n",
       "    <tr>\n",
       "      <th>1</th>\n",
       "      <td>[melena, vague abdominal pain, bloody diarrhea...</td>\n",
       "      <td>[polycystic kidney disease, Caroli's disease, ...</td>\n",
       "      <td>194492</td>\n",
       "      <td>Blood in stool,Portal hypertension,Other anoma...</td>\n",
       "      <td>CHIEF COMPLAINT: melena\\n\\nPRESENT ILLNESS: Ms...</td>\n",
       "      <td>Blood in stool,Portal hypertension,Other anoma...</td>\n",
       "      <td>Blood in stool,Portal hypertension,Biliary &amp; l...</td>\n",
       "      <td>Admission Date:  [**2129-9-16**]              ...</td>\n",
       "      <td>578,572,751,V420,588,753,456,535,274,996,585,2...</td>\n",
       "    </tr>\n",
       "    <tr>\n",
       "      <th>2</th>\n",
       "      <td>[Nausea, Vomiting, Hypertension]</td>\n",
       "      <td>[Gastroparesis, Diabetes Mellitus Type 1, Hype...</td>\n",
       "      <td>103789</td>\n",
       "      <td>Hypertensive chronic kidney disease, malignant...</td>\n",
       "      <td>CHIEF COMPLAINT: Nausea, vomiting and hyperten...</td>\n",
       "      <td>Hypertensive chronic kidney disease, malignant...</td>\n",
       "      <td>Mal hy kid w cr kid I-IV,DMI ketoacd uncontrol...</td>\n",
       "      <td>Admission Date:  [**2155-9-3**]              D...</td>\n",
       "      <td>403,250,276,V586,536,272,724</td>\n",
       "    </tr>\n",
       "  </tbody>\n",
       "</table>\n",
       "</div>"
      ],
      "text/plain": [
       "                                            Symptoms  \\\n",
       "0  [fatigued, not herself, febrile, hypotensive, ...   \n",
       "1  [melena, vague abdominal pain, bloody diarrhea...   \n",
       "2                   [Nausea, Vomiting, Hypertension]   \n",
       "\n",
       "                                            Diseases      id  \\\n",
       "0  [CVA, peptic ulcer disease, reflux esophagitis...  196005   \n",
       "1  [polycystic kidney disease, Caroli's disease, ...  194492   \n",
       "2  [Gastroparesis, Diabetes Mellitus Type 1, Hype...  103789   \n",
       "\n",
       "                                          icd_9_desc  \\\n",
       "0  Subendocardial infarction, initial episode of ...   \n",
       "1  Blood in stool,Portal hypertension,Other anoma...   \n",
       "2  Hypertensive chronic kidney disease, malignant...   \n",
       "\n",
       "                                                text  \\\n",
       "0  CHIEF COMPLAINT: \"off\", status post fall at [*...   \n",
       "1  CHIEF COMPLAINT: melena\\n\\nPRESENT ILLNESS: Ms...   \n",
       "2  CHIEF COMPLAINT: Nausea, vomiting and hyperten...   \n",
       "\n",
       "                                          long_texts  \\\n",
       "0  Subendocardial infarction, initial episode of ...   \n",
       "1  Blood in stool,Portal hypertension,Other anoma...   \n",
       "2  Hypertensive chronic kidney disease, malignant...   \n",
       "\n",
       "                                         short_texts  \\\n",
       "0  Subendo infarct, initial,Atrial fibrillation,U...   \n",
       "1  Blood in stool,Portal hypertension,Biliary & l...   \n",
       "2  Mal hy kid w cr kid I-IV,DMI ketoacd uncontrol...   \n",
       "\n",
       "                                   discharge_summary  \\\n",
       "0  Admission Date:  [**2117-5-11**]              ...   \n",
       "1  Admission Date:  [**2129-9-16**]              ...   \n",
       "2  Admission Date:  [**2155-9-3**]              D...   \n",
       "\n",
       "                                         short_codes  \n",
       "0       410,427,599,428,486,799,276,530,285,780,V125  \n",
       "1  578,572,751,V420,588,753,456,535,274,996,585,2...  \n",
       "2                       403,250,276,V586,536,272,724  "
      ]
     },
     "execution_count": 11,
     "metadata": {},
     "output_type": "execute_result"
    }
   ],
   "source": [
    "symptoms_df = pd.DataFrame(data)\n",
    "raw_test_df = pd.read_csv('new_split/test_split.csv')\n",
    "# print(raw_test_df.columns)\n",
    "unique_ids = list(raw_test_df.id)\n",
    "raw_test_df = raw_test_df.drop('Unnamed: 0',axis =1)\n",
    "raw_test_df = pd.merge(symptoms_df, raw_test_df, how='inner', on='id')\n",
    "raw_test_df.head(3)"
   ]
  },
  {
   "cell_type": "code",
   "execution_count": 12,
   "metadata": {},
   "outputs": [
    {
     "name": "stdout",
     "output_type": "stream",
     "text": [
      "<class 'pandas.core.frame.DataFrame'>\n",
      "RangeIndex: 8733 entries, 0 to 8732\n",
      "Data columns (total 9 columns):\n",
      " #   Column             Non-Null Count  Dtype \n",
      "---  ------             --------------  ----- \n",
      " 0   Symptoms           8733 non-null   object\n",
      " 1   Diseases           8733 non-null   object\n",
      " 2   id                 8733 non-null   int64 \n",
      " 3   icd_9_desc         8733 non-null   object\n",
      " 4   text               8733 non-null   object\n",
      " 5   long_texts         8733 non-null   object\n",
      " 6   short_texts        8733 non-null   object\n",
      " 7   discharge_summary  8733 non-null   object\n",
      " 8   short_codes        8733 non-null   object\n",
      "dtypes: int64(1), object(8)\n",
      "memory usage: 614.2+ KB\n"
     ]
    }
   ],
   "source": [
    "raw_test_df.info()"
   ]
  },
  {
   "cell_type": "code",
   "execution_count": 13,
   "metadata": {},
   "outputs": [],
   "source": [
    "def create_binary_matrix(labels, classes):\n",
    "    \"\"\"\n",
    "    Creates a binary matrix from a list of labels and a list of classes.\n",
    "    \n",
    "    Parameters:\n",
    "    labels (list): A list of lists, where each inner list contains the labels for a single data point.\n",
    "    classes (list): A list of class names.\n",
    "    \n",
    "    Returns:\n",
    "    numpy.ndarray: A binary matrix where each row represents a data point and each column represents a class.\n",
    "    \"\"\"\n",
    "    binary_matrix = np.zeros((len(labels), len(classes)), dtype=int)\n",
    "    for i, label_list in enumerate(labels):\n",
    "        for label in label_list:\n",
    "            if label in classes:\n",
    "                idx = classes.index(label)\n",
    "                binary_matrix[i, idx] = 1       \n",
    "    return binary_matrix"
   ]
  },
  {
   "cell_type": "code",
   "execution_count": 14,
   "metadata": {},
   "outputs": [],
   "source": [
    "from sklearn.metrics import roc_auc_score, f1_score, precision_score, recall_score\n",
    "import numpy as np\n",
    "\n",
    "def roc_auc_f1_precision_recall(probs, labels, multilabel=False, average='macro', multi_class='ovo'):\n",
    "    \"\"\"\n",
    "    Calculates ROC AUC, F1, precision, and recall scores (macro and micro) for multilabel or multiclass classification.\n",
    "    \n",
    "    Parameters:\n",
    "    probs (numpy.ndarray): A 2D array of probabilities, where each row represents a data point and each column represents a class.\n",
    "    labels (numpy.ndarray or list): The true labels for the data points.\n",
    "    multilabel (bool, optional): Whether the problem is a multilabel classification task. Defaults to False.\n",
    "    average (str, optional): The method to use for averaging scores across classes. Defaults to 'macro'.\n",
    "    multi_class (str, optional): The strategy to use for multi-class ROC AUC calculation. Defaults to 'ovo' (one-vs-one).\n",
    "    \n",
    "    Returns:\n",
    "    dict: A dictionary with ROC AUC, F1, precision, and recall scores (macro and micro).\n",
    "    \"\"\"\n",
    "    if isinstance(labels, list):\n",
    "        labels = np.array(labels, dtype=int)\n",
    "    else:\n",
    "        labels = labels.astype(int)\n",
    "\n",
    "    # Filter relevant columns if multilabel is True\n",
    "    y_score = probs\n",
    "    if multilabel:\n",
    "        # Identify classes with at least one positive label\n",
    "        present_classes = np.any(labels == 1, axis=0)\n",
    "        labels = labels[:, present_classes]\n",
    "        y_score = np.array(probs)[:, present_classes]\n",
    "\n",
    "    # Calculate ROC AUC score\n",
    "    roc_auc = roc_auc_score(y_true=labels, y_score=y_score, average=average, multi_class=multi_class)\n",
    "\n",
    "    # Binarize the predictions for F1, precision, and recall calculation\n",
    "    preds = (y_score >= 0.5).astype(int)\n",
    "    \n",
    "    # Calculate F1 scores\n",
    "    f1_macro = f1_score(labels, preds, average='macro')\n",
    "    f1_micro = f1_score(labels, preds, average='micro')\n",
    "    \n",
    "    # Calculate precision scores\n",
    "    precision_macro = precision_score(labels, preds, average='macro', zero_division=0)\n",
    "    precision_micro = precision_score(labels, preds, average='micro', zero_division=0)\n",
    "    \n",
    "    # Calculate recall scores\n",
    "    recall_macro = recall_score(labels, preds, average='macro', zero_division=0)\n",
    "    recall_micro = recall_score(labels, preds, average='micro', zero_division=0)\n",
    "    \n",
    "    return {\n",
    "        'roc_auc': roc_auc,\n",
    "        'f1_macro': f1_macro,\n",
    "        'f1_micro': f1_micro,\n",
    "        'precision_macro': precision_macro,\n",
    "        'precision_micro': precision_micro,\n",
    "        'recall_macro': recall_macro,\n",
    "        'recall_micro': recall_micro\n",
    "    }\n"
   ]
  },
  {
   "cell_type": "code",
   "execution_count": 15,
   "metadata": {},
   "outputs": [
    {
     "data": {
      "text/plain": [
       "\"fatigued', 'not herself', 'febrile', 'hypotensive', 'elevated WBC', 'positive cardiac enzymes', 'atrial fibrillation', 'shortness of breath', 'congestive heart failure', 'mental status changes\""
      ]
     },
     "execution_count": 15,
     "metadata": {},
     "output_type": "execute_result"
    }
   ],
   "source": [
    "str(raw_test_df.iloc[0].Symptoms)[2:-2]"
   ]
  },
  {
   "cell_type": "code",
   "execution_count": 16,
   "metadata": {},
   "outputs": [
    {
     "name": "stdout",
     "output_type": "stream",
     "text": [
      "['428', '427'] ['410', '427', '599', '428', '486', '799', '276', '530', '285', '780', 'V125']\n"
     ]
    }
   ],
   "source": [
    "print(get_predictions(str(raw_test_df.iloc[0].Symptoms)[2:-2]), raw_test_df.iloc[0].short_codes.split(','))"
   ]
  },
  {
   "cell_type": "code",
   "execution_count": 22,
   "metadata": {},
   "outputs": [
    {
     "name": "stderr",
     "output_type": "stream",
     "text": [
      "100%|██████████| 8733/8733 [07:23<00:00, 19.67it/s]\n"
     ]
    }
   ],
   "source": [
    "from tqdm import tqdm\n",
    "true_labels = []\n",
    "predicted_labels = []\n",
    "# Wrap raw_test_df.iterrows() with tqdm\n",
    "for i, j in tqdm(raw_test_df.iterrows(), total=len(raw_test_df)):\n",
    "    pred_label = get_predictions(str(j.text) + ' ' + str(j.Symptoms), 0.0643745388060965)\n",
    "    true_label = j.short_codes.split(',')\n",
    "    true_labels.append(true_label)\n",
    "    predicted_labels.append(pred_label)\n",
    "\n"
   ]
  },
  {
   "cell_type": "code",
   "execution_count": 23,
   "metadata": {},
   "outputs": [
    {
     "data": {
      "text/plain": [
       "(8733, 8733)"
      ]
     },
     "execution_count": 23,
     "metadata": {},
     "output_type": "execute_result"
    }
   ],
   "source": [
    "len(true_labels), len(predicted_labels)"
   ]
  },
  {
   "cell_type": "code",
   "execution_count": 24,
   "metadata": {},
   "outputs": [
    {
     "name": "stdout",
     "output_type": "stream",
     "text": [
      "['437']\n"
     ]
    }
   ],
   "source": [
    "print(predicted_labels[3])"
   ]
  },
  {
   "cell_type": "code",
   "execution_count": 25,
   "metadata": {},
   "outputs": [
    {
     "name": "stderr",
     "output_type": "stream",
     "text": [
      "Processing Batches: 100%|██████████| 44/44 [00:38<00:00,  1.14it/s]"
     ]
    },
    {
     "name": "stdout",
     "output_type": "stream",
     "text": [
      "{'roc_auc': 0.6513005144308636, 'f1_macro': 0.20159803401340123, 'f1_micro': 0.36805457656967383, 'precision_macro': 0.15559283007563474, 'precision_micro': 0.2577387634438119, 'recall_macro': 0.36141784323089454, 'recall_micro': 0.6438525739848772}\n"
     ]
    },
    {
     "name": "stderr",
     "output_type": "stream",
     "text": [
      "\n"
     ]
    }
   ],
   "source": [
    "from tqdm import tqdm\n",
    "from sklearn.metrics import roc_auc_score, f1_score, precision_score, recall_score\n",
    "\n",
    "# Define batch size\n",
    "batch_size = 200 # Adjust based on memory limits\n",
    "\n",
    "metrics_list = []\n",
    "\n",
    "# Process batches directly from the labels, converting each batch to binary format on-the-fly\n",
    "for i in tqdm(range(0, len(true_labels), batch_size), desc=\"Processing Batches\"):\n",
    "    batch_true_labels = true_labels[i:i + batch_size]\n",
    "    batch_pred_labels = predicted_labels[i:i + batch_size]\n",
    "\n",
    "\n",
    "    # Create binary matrices for each batch\n",
    "    batch_true_matrix = create_binary_matrix(batch_true_labels, classes)\n",
    "    batch_pred_matrix = create_binary_matrix(batch_pred_labels, classes)\n",
    "    \n",
    "    # Calculate metrics for the current batch\n",
    "    batch_metrics = roc_auc_f1_precision_recall(batch_pred_matrix, batch_true_matrix, multilabel=True)\n",
    "    metrics_list.append(batch_metrics)\n",
    "\n",
    "\n",
    "# Average metrics across all batches\n",
    "final_metrics = {k: sum(d[k] for d in metrics_list) / len(metrics_list) for k in metrics_list[0]}\n",
    "print(final_metrics)\n"
   ]
  },
  {
   "cell_type": "code",
   "execution_count": null,
   "metadata": {},
   "outputs": [
    {
     "name": "stdout",
     "output_type": "stream",
     "text": [
      "{'roc_auc': 0.6510764089568829, 'f1_macro': 0.20027328276086817, 'f1_micro': 0.33839373163565134, 'precision_macro': 0.15197598560781933, 'precision_micro': 0.23087203474774473, 'recall_macro': 0.38999073165256876, 'recall_micro': 0.6333638863428047}\n"
     ]
    }
   ],
   "source": [
    "true_binary_matrix = create_binary_matrix(true_labels[100:200], classes)  ## Note the list wrapping\n",
    "pred_binary_matrix = create_binary_matrix(predicted_labels[100:200], classes)\n",
    "\n",
    "metrics = roc_auc_f1_precision_recall(pred_binary_matrix, true_binary_matrix, multilabel=True)\n",
    "print(metrics)"
   ]
  },
  {
   "cell_type": "code",
   "execution_count": 26,
   "metadata": {},
   "outputs": [
    {
     "data": {
      "text/html": [
       "<div>\n",
       "<style scoped>\n",
       "    .dataframe tbody tr th:only-of-type {\n",
       "        vertical-align: middle;\n",
       "    }\n",
       "\n",
       "    .dataframe tbody tr th {\n",
       "        vertical-align: top;\n",
       "    }\n",
       "\n",
       "    .dataframe thead th {\n",
       "        text-align: right;\n",
       "    }\n",
       "</style>\n",
       "<table border=\"1\" class=\"dataframe\">\n",
       "  <thead>\n",
       "    <tr style=\"text-align: right;\">\n",
       "      <th></th>\n",
       "      <th>True labels</th>\n",
       "      <th>Predicted Labels</th>\n",
       "      <th>Matching Words</th>\n",
       "      <th>Match Count</th>\n",
       "    </tr>\n",
       "  </thead>\n",
       "  <tbody>\n",
       "    <tr>\n",
       "      <th>0</th>\n",
       "      <td>['410', '427', '599', '428', '486', '799', '27...</td>\n",
       "      <td>['038', '785', '584', '401', '276', '414', '51...</td>\n",
       "      <td>['276', '599', '427', '486', '428', '285', '410']</td>\n",
       "      <td>7</td>\n",
       "    </tr>\n",
       "    <tr>\n",
       "      <th>1</th>\n",
       "      <td>['578', '572', '751', 'V420', '588', '753', '4...</td>\n",
       "      <td>['403', '710', '530', 'V451', '250', '996', '5...</td>\n",
       "      <td>['585', 'E878', '572', '276', '996', '535', 'V...</td>\n",
       "      <td>9</td>\n",
       "    </tr>\n",
       "    <tr>\n",
       "      <th>2</th>\n",
       "      <td>['403', '250', '276', 'V586', '536', '272', '7...</td>\n",
       "      <td>['403', '564', '414', '311', '530', 'V458', '2...</td>\n",
       "      <td>['403', '272', '276', '250', '724', '536', 'V5...</td>\n",
       "      <td>7</td>\n",
       "    </tr>\n",
       "    <tr>\n",
       "      <th>3</th>\n",
       "      <td>['437', '305']</td>\n",
       "      <td>['437']</td>\n",
       "      <td>['437']</td>\n",
       "      <td>1</td>\n",
       "    </tr>\n",
       "    <tr>\n",
       "      <th>4</th>\n",
       "      <td>['430', '276', '780', 'V103', '401', '250']</td>\n",
       "      <td>['401', '431', '250', '430', '285', '780']</td>\n",
       "      <td>['780', '401', '430', '250']</td>\n",
       "      <td>4</td>\n",
       "    </tr>\n",
       "  </tbody>\n",
       "</table>\n",
       "</div>"
      ],
      "text/plain": [
       "                                         True labels  \\\n",
       "0  ['410', '427', '599', '428', '486', '799', '27...   \n",
       "1  ['578', '572', '751', 'V420', '588', '753', '4...   \n",
       "2  ['403', '250', '276', 'V586', '536', '272', '7...   \n",
       "3                                     ['437', '305']   \n",
       "4        ['430', '276', '780', 'V103', '401', '250']   \n",
       "\n",
       "                                    Predicted Labels  \\\n",
       "0  ['038', '785', '584', '401', '276', '414', '51...   \n",
       "1  ['403', '710', '530', 'V451', '250', '996', '5...   \n",
       "2  ['403', '564', '414', '311', '530', 'V458', '2...   \n",
       "3                                            ['437']   \n",
       "4         ['401', '431', '250', '430', '285', '780']   \n",
       "\n",
       "                                      Matching Words  Match Count  \n",
       "0  ['276', '599', '427', '486', '428', '285', '410']            7  \n",
       "1  ['585', 'E878', '572', '276', '996', '535', 'V...            9  \n",
       "2  ['403', '272', '276', '250', '724', '536', 'V5...            7  \n",
       "3                                            ['437']            1  \n",
       "4                       ['780', '401', '430', '250']            4  "
      ]
     },
     "execution_count": 26,
     "metadata": {},
     "output_type": "execute_result"
    }
   ],
   "source": [
    "import pandas as pd\n",
    "\n",
    "rows = []\n",
    "for true, pred in zip(true_labels, predicted_labels):\n",
    "    # Convert to sets for efficient matching\n",
    "    true_set = set(true)\n",
    "    pred_set = set(pred)\n",
    "    matching_words = true_set & pred_set\n",
    "    \n",
    "    rows.append({\n",
    "        'True labels': true,  # Keep as list\n",
    "        'Predicted Labels': pred,  # Keep as list\n",
    "        'Matching Words': list(matching_words),  # Matching words as list\n",
    "        'Match Count': len(matching_words)  # Add count of matches\n",
    "    })\n",
    "\n",
    "df = pd.DataFrame(rows)\n",
    "# Convert lists to strings for better display (optional)\n",
    "df['True labels'] = df['True labels'].apply(str)\n",
    "df['Predicted Labels'] = df['Predicted Labels'].apply(str)\n",
    "df['Matching Words'] = df['Matching Words'].apply(str)\n",
    "\n",
    "df.head()"
   ]
  },
  {
   "cell_type": "code",
   "execution_count": 30,
   "metadata": {},
   "outputs": [
    {
     "name": "stderr",
     "output_type": "stream",
     "text": [
      "[I 2024-11-15 12:18:19,573] A new study created in memory with name: no-name-0ea8eed5-4ef3-452f-8129-253c5c847213\n"
     ]
    },
    {
     "name": "stderr",
     "output_type": "stream",
     "text": [
      "[I 2024-11-15 12:19:30,673] Trial 0 finished with value: 0.0948748286149849 and parameters: {'threshold': 0.3117835546194627}. Best is trial 0 with value: 0.0948748286149849.\n",
      "[I 2024-11-15 12:20:45,716] Trial 1 finished with value: 0.1030823673750047 and parameters: {'threshold': 0.015647536761748158}. Best is trial 1 with value: 0.1030823673750047.\n",
      "[I 2024-11-15 12:22:00,513] Trial 2 finished with value: 0.14009522403217045 and parameters: {'threshold': 0.0685779359873888}. Best is trial 2 with value: 0.14009522403217045.\n",
      "[I 2024-11-15 12:23:18,854] Trial 3 finished with value: 0.1356693635464132 and parameters: {'threshold': 0.039378210596882415}. Best is trial 2 with value: 0.14009522403217045.\n",
      "[I 2024-11-15 12:24:42,218] Trial 4 finished with value: 0.06868484167998071 and parameters: {'threshold': 0.49377808229476455}. Best is trial 2 with value: 0.14009522403217045.\n",
      "[I 2024-11-15 12:26:08,820] Trial 5 finished with value: 0.09163015933119781 and parameters: {'threshold': 0.33654353814131727}. Best is trial 2 with value: 0.14009522403217045.\n",
      "[I 2024-11-15 12:27:37,942] Trial 6 finished with value: 0.09964200347630921 and parameters: {'threshold': 0.2941960470816433}. Best is trial 2 with value: 0.14009522403217045.\n",
      "[I 2024-11-15 12:29:04,759] Trial 7 finished with value: 0.09530415893307766 and parameters: {'threshold': 0.3095409958002722}. Best is trial 2 with value: 0.14009522403217045.\n",
      "[I 2024-11-15 12:30:33,053] Trial 8 finished with value: 0.07489127239795075 and parameters: {'threshold': 0.4462418185888851}. Best is trial 2 with value: 0.14009522403217045.\n",
      "[I 2024-11-15 12:31:57,698] Trial 9 finished with value: 0.08280672432883424 and parameters: {'threshold': 0.39707411259908765}. Best is trial 2 with value: 0.14009522403217045.\n",
      "[I 2024-11-15 12:33:21,167] Trial 10 finished with value: 0.12730689190873748 and parameters: {'threshold': 0.15199120331140797}. Best is trial 2 with value: 0.14009522403217045.\n",
      "[I 2024-11-15 12:34:50,492] Trial 11 finished with value: 0.0904492859760503 and parameters: {'threshold': 0.01142401606387431}. Best is trial 2 with value: 0.14009522403217045.\n",
      "[I 2024-11-15 12:36:21,322] Trial 12 finished with value: 0.13200693594349194 and parameters: {'threshold': 0.13301490862544857}. Best is trial 2 with value: 0.14009522403217045.\n",
      "[I 2024-11-15 12:37:51,292] Trial 13 finished with value: 0.13252729058169135 and parameters: {'threshold': 0.12483668688483059}. Best is trial 2 with value: 0.14009522403217045.\n",
      "[I 2024-11-15 12:39:28,290] Trial 14 finished with value: 0.11861583421319728 and parameters: {'threshold': 0.1969007066579027}. Best is trial 2 with value: 0.14009522403217045.\n",
      "[I 2024-11-15 12:40:56,617] Trial 15 finished with value: 0.13981673714534518 and parameters: {'threshold': 0.07097988172938488}. Best is trial 2 with value: 0.14009522403217045.\n",
      "[I 2024-11-15 12:42:24,979] Trial 16 finished with value: 0.13706831393789715 and parameters: {'threshold': 0.0883632124047821}. Best is trial 2 with value: 0.14009522403217045.\n",
      "[I 2024-11-15 12:43:48,968] Trial 17 finished with value: 0.1137807388904473 and parameters: {'threshold': 0.23144163589578698}. Best is trial 2 with value: 0.14009522403217045.\n",
      "[I 2024-11-15 12:45:14,026] Trial 18 finished with value: 0.1394679184407625 and parameters: {'threshold': 0.06646495284412698}. Best is trial 2 with value: 0.14009522403217045.\n",
      "[I 2024-11-15 12:46:36,300] Trial 19 finished with value: 0.11963246546827509 and parameters: {'threshold': 0.19020956348878887}. Best is trial 2 with value: 0.14009522403217045.\n",
      "[I 2024-11-15 12:48:02,486] Trial 20 finished with value: 0.138941874270739 and parameters: {'threshold': 0.09751111949677516}. Best is trial 2 with value: 0.14009522403217045.\n",
      "[I 2024-11-15 12:49:27,022] Trial 21 finished with value: 0.1410221208639846 and parameters: {'threshold': 0.052463728290565934}. Best is trial 21 with value: 0.1410221208639846.\n",
      "[I 2024-11-15 12:50:52,130] Trial 22 finished with value: 0.14236974954841775 and parameters: {'threshold': 0.0643745388060965}. Best is trial 22 with value: 0.14236974954841775.\n",
      "[I 2024-11-15 12:52:19,400] Trial 23 finished with value: 0.1254850194614634 and parameters: {'threshold': 0.16313195869648084}. Best is trial 22 with value: 0.14236974954841775.\n",
      "[I 2024-11-15 12:53:42,945] Trial 24 finished with value: 0.1406810483628134 and parameters: {'threshold': 0.049784236404803235}. Best is trial 22 with value: 0.14236974954841775.\n",
      "[I 2024-11-15 12:55:04,070] Trial 25 finished with value: 0.1337538995164467 and parameters: {'threshold': 0.11610517793914721}. Best is trial 22 with value: 0.14236974954841775.\n",
      "[I 2024-11-15 12:56:30,506] Trial 26 finished with value: 0.13576794526173214 and parameters: {'threshold': 0.04102706062639643}. Best is trial 22 with value: 0.14236974954841775.\n",
      "[I 2024-11-15 12:57:59,281] Trial 27 finished with value: 0.11393361620673992 and parameters: {'threshold': 0.2311992481500022}. Best is trial 22 with value: 0.14236974954841775.\n",
      "[I 2024-11-15 12:59:46,226] Trial 28 finished with value: 0.13782851214849443 and parameters: {'threshold': 0.042839725940120275}. Best is trial 22 with value: 0.14236974954841775.\n",
      "[I 2024-11-15 13:01:31,688] Trial 29 finished with value: 0.12465730069044806 and parameters: {'threshold': 0.1666224690495654}. Best is trial 22 with value: 0.14236974954841775.\n"
     ]
    },
    {
     "name": "stdout",
     "output_type": "stream",
     "text": [
      "Number of finished trials: 30\n",
      "Best trial:\n",
      "  Value: 0.14236974954841775\n",
      "  Params:\n",
      "    threshold: 0.0643745388060965\n",
      "\n",
      "Final metrics with optimal threshold:\n",
      "{'roc_auc': 0.6655015347600818, 'f1_macro': 0.2432331354267383, 'f1_micro': 0.3853672158614912, 'precision_macro': 0.19573195389133513, 'precision_micro': 0.27957860615883307, 'recall_macro': 0.4035620689419316, 'recall_micro': 0.6199460916442049}\n"
     ]
    }
   ],
   "source": [
    "import optuna\n",
    "import numpy as np\n",
    "from sklearn.metrics import f1_score\n",
    "\n",
    "\n",
    "def objective(trial):\n",
    "    threshold = trial.suggest_float('threshold', 0.01, 0.5)\n",
    "    \n",
    "    true_labels = []\n",
    "    predicted_labels = []\n",
    "    \n",
    "    for i, j in raw_test_df.iterrows():\n",
    "        pred_label = get_predictions(j.text, threshold)\n",
    "        true_label = j.short_codes.split(',')\n",
    "        true_labels.append(true_label)\n",
    "        predicted_labels.append(pred_label)\n",
    "        if i == 1000:\n",
    "            break\n",
    "    \n",
    "    true_binary_matrix = create_binary_matrix(true_labels, classes)\n",
    "    pred_binary_matrix = create_binary_matrix(predicted_labels, classes)\n",
    "    \n",
    "    roc_auc =  roc_auc_f1_precision_recall(pred_binary_matrix, true_binary_matrix, multilabel=True)['f1_macro']\n",
    "    \n",
    "    return roc_auc\n",
    "\n",
    "def find_optimal_threshold(n_trials=100):\n",
    "    study = optuna.create_study(direction='maximize')\n",
    "    study.optimize(objective, n_trials=n_trials)\n",
    "    \n",
    "    print('Number of finished trials:', len(study.trials))\n",
    "    print('Best trial:')\n",
    "    trial = study.best_trial\n",
    "    \n",
    "    print('  Value:', trial.value)\n",
    "    print('  Params:')\n",
    "    print('    threshold:', trial.params['threshold'])\n",
    "    \n",
    "    return trial.params['threshold']\n",
    "\n",
    "optimal_threshold = find_optimal_threshold(n_trials=30) \n",
    "\n",
    "true_labels = []\n",
    "predicted_labels = []\n",
    "for i, j in raw_test_df.iterrows():\n",
    "    pred_label = get_predictions(j.text, optimal_threshold)\n",
    "    true_label = j.short_codes.split(',')\n",
    "    true_labels.append(true_label)\n",
    "    predicted_labels.append(pred_label)\n",
    "    if i == 100:\n",
    "        break\n",
    "\n",
    "true_binary_matrix = create_binary_matrix(true_labels, classes)\n",
    "pred_binary_matrix = create_binary_matrix(predicted_labels, classes)\n",
    "\n",
    "final_metrics = roc_auc_f1_precision_recall(pred_binary_matrix, true_binary_matrix, multilabel=True)\n",
    "print(\"\\nFinal metrics with optimal threshold:\")\n",
    "print(final_metrics)"
   ]
  }
 ],
 "metadata": {
  "kernelspec": {
   "display_name": "llama_env",
   "language": "python",
   "name": "python3"
  },
  "language_info": {
   "codemirror_mode": {
    "name": "ipython",
    "version": 3
   },
   "file_extension": ".py",
   "mimetype": "text/x-python",
   "name": "python",
   "nbconvert_exporter": "python",
   "pygments_lexer": "ipython3",
   "version": "3.10.12"
  }
 },
 "nbformat": 4,
 "nbformat_minor": 2
}
