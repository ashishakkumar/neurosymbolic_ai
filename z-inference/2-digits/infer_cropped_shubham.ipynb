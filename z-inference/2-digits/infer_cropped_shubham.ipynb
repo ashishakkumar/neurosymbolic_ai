{
 "cells": [
  {
   "cell_type": "code",
   "execution_count": 2,
   "metadata": {},
   "outputs": [],
   "source": [
    "import pandas as pd"
   ]
  },
  {
   "cell_type": "code",
   "execution_count": 3,
   "metadata": {},
   "outputs": [],
   "source": [
    "import os\n",
    "import json\n",
    "\n",
    "directory_path = 'samples_latest_all'\n",
    "data = []\n",
    "\n",
    "for filename in os.listdir(directory_path):\n",
    "    if filename.endswith('.json'):\n",
    "        file_path = os.path.join(directory_path, filename)\n",
    "        with open(file_path, 'r') as file:\n",
    "            file_data = json.load(file)\n",
    "            data.append(file_data)"
   ]
  },
  {
   "cell_type": "code",
   "execution_count": 4,
   "metadata": {},
   "outputs": [
    {
     "data": {
      "text/html": [
       "<div>\n",
       "<style scoped>\n",
       "    .dataframe tbody tr th:only-of-type {\n",
       "        vertical-align: middle;\n",
       "    }\n",
       "\n",
       "    .dataframe tbody tr th {\n",
       "        vertical-align: top;\n",
       "    }\n",
       "\n",
       "    .dataframe thead th {\n",
       "        text-align: right;\n",
       "    }\n",
       "</style>\n",
       "<table border=\"1\" class=\"dataframe\">\n",
       "  <thead>\n",
       "    <tr style=\"text-align: right;\">\n",
       "      <th></th>\n",
       "      <th>Symptoms</th>\n",
       "      <th>Diseases</th>\n",
       "      <th>id</th>\n",
       "      <th>icd_9_desc</th>\n",
       "      <th>text</th>\n",
       "      <th>long_texts</th>\n",
       "      <th>short_texts</th>\n",
       "      <th>discharge_summary</th>\n",
       "      <th>short_codes</th>\n",
       "    </tr>\n",
       "  </thead>\n",
       "  <tbody>\n",
       "    <tr>\n",
       "      <th>0</th>\n",
       "      <td>[chest tightness, palpitations, ventricular ec...</td>\n",
       "      <td>[aortic valve fibroelastoma, GERD, Basal Cell ...</td>\n",
       "      <td>109136</td>\n",
       "      <td>Benign neoplasm of heart,Obesity, unspecified,...</td>\n",
       "      <td>CHIEF COMPLAINT: known aortic valve fibroelast...</td>\n",
       "      <td>Benign neoplasm of heart,Obesity, unspecified,...</td>\n",
       "      <td>Benign neoplasm heart,Obesity NOS,Angina pecto...</td>\n",
       "      <td>Admission Date:  [**2149-11-19**]             ...</td>\n",
       "      <td>2127,27800,4139,2859,53081,V1083,28860,V8533</td>\n",
       "    </tr>\n",
       "    <tr>\n",
       "      <th>1</th>\n",
       "      <td>[intermittent L-sided chest pressure, anterior...</td>\n",
       "      <td>[prostate ca s/p brachytherapy, PVD, h/o pancr...</td>\n",
       "      <td>193197</td>\n",
       "      <td>True posterior wall infarction, initial episod...</td>\n",
       "      <td>CHIEF COMPLAINT: intermittent L-sided chest pr...</td>\n",
       "      <td>True posterior wall infarction, initial episod...</td>\n",
       "      <td>True post infarct, init,Ac posthemorrhag anemi...</td>\n",
       "      <td>Admission Date:  [**2144-2-23**]              ...</td>\n",
       "      <td>41061,2851,41401,4439,V1046,25000</td>\n",
       "    </tr>\n",
       "    <tr>\n",
       "      <th>2</th>\n",
       "      <td>[palpitations, dizziness, shortness of breath,...</td>\n",
       "      <td>[mitral regurgitation, mitral stenosis, hypert...</td>\n",
       "      <td>157736</td>\n",
       "      <td>Mitral stenosis with insufficiency,Other chron...</td>\n",
       "      <td>CHIEF COMPLAINT: mitral regurgitation/stenosis...</td>\n",
       "      <td>Mitral stenosis with insufficiency,Other chron...</td>\n",
       "      <td>Mitral stenosis w insuff,Chr pulmon heart dis ...</td>\n",
       "      <td>Admission Date:  [**2197-10-10**]             ...</td>\n",
       "      <td>3942,4168,27800,42731,311,4019,24200</td>\n",
       "    </tr>\n",
       "  </tbody>\n",
       "</table>\n",
       "</div>"
      ],
      "text/plain": [
       "                                            Symptoms  \\\n",
       "0  [chest tightness, palpitations, ventricular ec...   \n",
       "1  [intermittent L-sided chest pressure, anterior...   \n",
       "2  [palpitations, dizziness, shortness of breath,...   \n",
       "\n",
       "                                            Diseases      id  \\\n",
       "0  [aortic valve fibroelastoma, GERD, Basal Cell ...  109136   \n",
       "1  [prostate ca s/p brachytherapy, PVD, h/o pancr...  193197   \n",
       "2  [mitral regurgitation, mitral stenosis, hypert...  157736   \n",
       "\n",
       "                                          icd_9_desc  \\\n",
       "0  Benign neoplasm of heart,Obesity, unspecified,...   \n",
       "1  True posterior wall infarction, initial episod...   \n",
       "2  Mitral stenosis with insufficiency,Other chron...   \n",
       "\n",
       "                                                text  \\\n",
       "0  CHIEF COMPLAINT: known aortic valve fibroelast...   \n",
       "1  CHIEF COMPLAINT: intermittent L-sided chest pr...   \n",
       "2  CHIEF COMPLAINT: mitral regurgitation/stenosis...   \n",
       "\n",
       "                                          long_texts  \\\n",
       "0  Benign neoplasm of heart,Obesity, unspecified,...   \n",
       "1  True posterior wall infarction, initial episod...   \n",
       "2  Mitral stenosis with insufficiency,Other chron...   \n",
       "\n",
       "                                         short_texts  \\\n",
       "0  Benign neoplasm heart,Obesity NOS,Angina pecto...   \n",
       "1  True post infarct, init,Ac posthemorrhag anemi...   \n",
       "2  Mitral stenosis w insuff,Chr pulmon heart dis ...   \n",
       "\n",
       "                                   discharge_summary  \\\n",
       "0  Admission Date:  [**2149-11-19**]             ...   \n",
       "1  Admission Date:  [**2144-2-23**]              ...   \n",
       "2  Admission Date:  [**2197-10-10**]             ...   \n",
       "\n",
       "                                    short_codes  \n",
       "0  2127,27800,4139,2859,53081,V1083,28860,V8533  \n",
       "1             41061,2851,41401,4439,V1046,25000  \n",
       "2          3942,4168,27800,42731,311,4019,24200  "
      ]
     },
     "execution_count": 4,
     "metadata": {},
     "output_type": "execute_result"
    }
   ],
   "source": [
    "symptoms_df = pd.DataFrame(data)\n",
    "raw_test_df = pd.read_csv('DIA_GROUPS_3_DIGITS_adm_test.csv')\n",
    "raw_test_df = pd.merge(symptoms_df, raw_test_df, how='inner', on='id')\n",
    "raw_test_df.head(3)"
   ]
  },
  {
   "cell_type": "code",
   "execution_count": 4,
   "metadata": {},
   "outputs": [
    {
     "name": "stdout",
     "output_type": "stream",
     "text": [
      "<class 'pandas.core.frame.DataFrame'>\n",
      "RangeIndex: 8733 entries, 0 to 8732\n",
      "Data columns (total 9 columns):\n",
      " #   Column             Non-Null Count  Dtype \n",
      "---  ------             --------------  ----- \n",
      " 0   Symptoms           8733 non-null   object\n",
      " 1   Diseases           8733 non-null   object\n",
      " 2   id                 8733 non-null   int64 \n",
      " 3   icd_9_desc         8733 non-null   object\n",
      " 4   text               8733 non-null   object\n",
      " 5   long_texts         8733 non-null   object\n",
      " 6   short_texts        8733 non-null   object\n",
      " 7   discharge_summary  8733 non-null   object\n",
      " 8   short_codes        8733 non-null   object\n",
      "dtypes: int64(1), object(8)\n",
      "memory usage: 614.2+ KB\n"
     ]
    }
   ],
   "source": [
    "raw_test_df.info()"
   ]
  },
  {
   "cell_type": "code",
   "execution_count": 5,
   "metadata": {},
   "outputs": [],
   "source": [
    "test_df = raw_test_df.copy()"
   ]
  },
  {
   "cell_type": "code",
   "execution_count": 6,
   "metadata": {},
   "outputs": [
    {
     "name": "stdout",
     "output_type": "stream",
     "text": [
      "<class 'pandas.core.frame.DataFrame'>\n",
      "RangeIndex: 8733 entries, 0 to 8732\n",
      "Data columns (total 9 columns):\n",
      " #   Column             Non-Null Count  Dtype \n",
      "---  ------             --------------  ----- \n",
      " 0   Symptoms           8733 non-null   object\n",
      " 1   Diseases           8733 non-null   object\n",
      " 2   id                 8733 non-null   int64 \n",
      " 3   icd_9_desc         8733 non-null   object\n",
      " 4   text               8733 non-null   object\n",
      " 5   long_texts         8733 non-null   object\n",
      " 6   short_texts        8733 non-null   object\n",
      " 7   discharge_summary  8733 non-null   object\n",
      " 8   short_codes        8733 non-null   object\n",
      "dtypes: int64(1), object(8)\n",
      "memory usage: 614.2+ KB\n"
     ]
    }
   ],
   "source": [
    "test_df.info()"
   ]
  },
  {
   "cell_type": "code",
   "execution_count": 7,
   "metadata": {},
   "outputs": [],
   "source": [
    "test_df = test_df.assign(short_codes=test_df['short_codes'].str.split(',')).explode('short_codes').reset_index(drop =True)"
   ]
  },
  {
   "cell_type": "code",
   "execution_count": 8,
   "metadata": {},
   "outputs": [
    {
     "data": {
      "text/html": [
       "<div>\n",
       "<style scoped>\n",
       "    .dataframe tbody tr th:only-of-type {\n",
       "        vertical-align: middle;\n",
       "    }\n",
       "\n",
       "    .dataframe tbody tr th {\n",
       "        vertical-align: top;\n",
       "    }\n",
       "\n",
       "    .dataframe thead th {\n",
       "        text-align: right;\n",
       "    }\n",
       "</style>\n",
       "<table border=\"1\" class=\"dataframe\">\n",
       "  <thead>\n",
       "    <tr style=\"text-align: right;\">\n",
       "      <th></th>\n",
       "      <th>Symptoms</th>\n",
       "      <th>Diseases</th>\n",
       "      <th>id</th>\n",
       "      <th>icd_9_desc</th>\n",
       "      <th>text</th>\n",
       "      <th>long_texts</th>\n",
       "      <th>short_texts</th>\n",
       "      <th>discharge_summary</th>\n",
       "      <th>short_codes</th>\n",
       "    </tr>\n",
       "  </thead>\n",
       "  <tbody>\n",
       "    <tr>\n",
       "      <th>0</th>\n",
       "      <td>[chest tightness, palpitations, ventricular ec...</td>\n",
       "      <td>[aortic valve fibroelastoma, GERD, Basal Cell ...</td>\n",
       "      <td>109136</td>\n",
       "      <td>Benign neoplasm of heart,Obesity, unspecified,...</td>\n",
       "      <td>CHIEF COMPLAINT: known aortic valve fibroelast...</td>\n",
       "      <td>Benign neoplasm of heart,Obesity, unspecified,...</td>\n",
       "      <td>Benign neoplasm heart,Obesity NOS,Angina pecto...</td>\n",
       "      <td>Admission Date:  [**2149-11-19**]             ...</td>\n",
       "      <td>2127</td>\n",
       "    </tr>\n",
       "    <tr>\n",
       "      <th>1</th>\n",
       "      <td>[chest tightness, palpitations, ventricular ec...</td>\n",
       "      <td>[aortic valve fibroelastoma, GERD, Basal Cell ...</td>\n",
       "      <td>109136</td>\n",
       "      <td>Benign neoplasm of heart,Obesity, unspecified,...</td>\n",
       "      <td>CHIEF COMPLAINT: known aortic valve fibroelast...</td>\n",
       "      <td>Benign neoplasm of heart,Obesity, unspecified,...</td>\n",
       "      <td>Benign neoplasm heart,Obesity NOS,Angina pecto...</td>\n",
       "      <td>Admission Date:  [**2149-11-19**]             ...</td>\n",
       "      <td>27800</td>\n",
       "    </tr>\n",
       "    <tr>\n",
       "      <th>2</th>\n",
       "      <td>[chest tightness, palpitations, ventricular ec...</td>\n",
       "      <td>[aortic valve fibroelastoma, GERD, Basal Cell ...</td>\n",
       "      <td>109136</td>\n",
       "      <td>Benign neoplasm of heart,Obesity, unspecified,...</td>\n",
       "      <td>CHIEF COMPLAINT: known aortic valve fibroelast...</td>\n",
       "      <td>Benign neoplasm of heart,Obesity, unspecified,...</td>\n",
       "      <td>Benign neoplasm heart,Obesity NOS,Angina pecto...</td>\n",
       "      <td>Admission Date:  [**2149-11-19**]             ...</td>\n",
       "      <td>4139</td>\n",
       "    </tr>\n",
       "    <tr>\n",
       "      <th>3</th>\n",
       "      <td>[chest tightness, palpitations, ventricular ec...</td>\n",
       "      <td>[aortic valve fibroelastoma, GERD, Basal Cell ...</td>\n",
       "      <td>109136</td>\n",
       "      <td>Benign neoplasm of heart,Obesity, unspecified,...</td>\n",
       "      <td>CHIEF COMPLAINT: known aortic valve fibroelast...</td>\n",
       "      <td>Benign neoplasm of heart,Obesity, unspecified,...</td>\n",
       "      <td>Benign neoplasm heart,Obesity NOS,Angina pecto...</td>\n",
       "      <td>Admission Date:  [**2149-11-19**]             ...</td>\n",
       "      <td>2859</td>\n",
       "    </tr>\n",
       "    <tr>\n",
       "      <th>4</th>\n",
       "      <td>[chest tightness, palpitations, ventricular ec...</td>\n",
       "      <td>[aortic valve fibroelastoma, GERD, Basal Cell ...</td>\n",
       "      <td>109136</td>\n",
       "      <td>Benign neoplasm of heart,Obesity, unspecified,...</td>\n",
       "      <td>CHIEF COMPLAINT: known aortic valve fibroelast...</td>\n",
       "      <td>Benign neoplasm of heart,Obesity, unspecified,...</td>\n",
       "      <td>Benign neoplasm heart,Obesity NOS,Angina pecto...</td>\n",
       "      <td>Admission Date:  [**2149-11-19**]             ...</td>\n",
       "      <td>53081</td>\n",
       "    </tr>\n",
       "  </tbody>\n",
       "</table>\n",
       "</div>"
      ],
      "text/plain": [
       "                                            Symptoms  \\\n",
       "0  [chest tightness, palpitations, ventricular ec...   \n",
       "1  [chest tightness, palpitations, ventricular ec...   \n",
       "2  [chest tightness, palpitations, ventricular ec...   \n",
       "3  [chest tightness, palpitations, ventricular ec...   \n",
       "4  [chest tightness, palpitations, ventricular ec...   \n",
       "\n",
       "                                            Diseases      id  \\\n",
       "0  [aortic valve fibroelastoma, GERD, Basal Cell ...  109136   \n",
       "1  [aortic valve fibroelastoma, GERD, Basal Cell ...  109136   \n",
       "2  [aortic valve fibroelastoma, GERD, Basal Cell ...  109136   \n",
       "3  [aortic valve fibroelastoma, GERD, Basal Cell ...  109136   \n",
       "4  [aortic valve fibroelastoma, GERD, Basal Cell ...  109136   \n",
       "\n",
       "                                          icd_9_desc  \\\n",
       "0  Benign neoplasm of heart,Obesity, unspecified,...   \n",
       "1  Benign neoplasm of heart,Obesity, unspecified,...   \n",
       "2  Benign neoplasm of heart,Obesity, unspecified,...   \n",
       "3  Benign neoplasm of heart,Obesity, unspecified,...   \n",
       "4  Benign neoplasm of heart,Obesity, unspecified,...   \n",
       "\n",
       "                                                text  \\\n",
       "0  CHIEF COMPLAINT: known aortic valve fibroelast...   \n",
       "1  CHIEF COMPLAINT: known aortic valve fibroelast...   \n",
       "2  CHIEF COMPLAINT: known aortic valve fibroelast...   \n",
       "3  CHIEF COMPLAINT: known aortic valve fibroelast...   \n",
       "4  CHIEF COMPLAINT: known aortic valve fibroelast...   \n",
       "\n",
       "                                          long_texts  \\\n",
       "0  Benign neoplasm of heart,Obesity, unspecified,...   \n",
       "1  Benign neoplasm of heart,Obesity, unspecified,...   \n",
       "2  Benign neoplasm of heart,Obesity, unspecified,...   \n",
       "3  Benign neoplasm of heart,Obesity, unspecified,...   \n",
       "4  Benign neoplasm of heart,Obesity, unspecified,...   \n",
       "\n",
       "                                         short_texts  \\\n",
       "0  Benign neoplasm heart,Obesity NOS,Angina pecto...   \n",
       "1  Benign neoplasm heart,Obesity NOS,Angina pecto...   \n",
       "2  Benign neoplasm heart,Obesity NOS,Angina pecto...   \n",
       "3  Benign neoplasm heart,Obesity NOS,Angina pecto...   \n",
       "4  Benign neoplasm heart,Obesity NOS,Angina pecto...   \n",
       "\n",
       "                                   discharge_summary short_codes  \n",
       "0  Admission Date:  [**2149-11-19**]             ...        2127  \n",
       "1  Admission Date:  [**2149-11-19**]             ...       27800  \n",
       "2  Admission Date:  [**2149-11-19**]             ...        4139  \n",
       "3  Admission Date:  [**2149-11-19**]             ...        2859  \n",
       "4  Admission Date:  [**2149-11-19**]             ...       53081  "
      ]
     },
     "execution_count": 8,
     "metadata": {},
     "output_type": "execute_result"
    }
   ],
   "source": [
    "test_df.head()"
   ]
  },
  {
   "cell_type": "code",
   "execution_count": 9,
   "metadata": {},
   "outputs": [
    {
     "name": "stdout",
     "output_type": "stream",
     "text": [
      "<class 'pandas.core.frame.DataFrame'>\n",
      "RangeIndex: 98026 entries, 0 to 98025\n",
      "Data columns (total 9 columns):\n",
      " #   Column             Non-Null Count  Dtype \n",
      "---  ------             --------------  ----- \n",
      " 0   Symptoms           98026 non-null  object\n",
      " 1   Diseases           98026 non-null  object\n",
      " 2   id                 98026 non-null  int64 \n",
      " 3   icd_9_desc         98026 non-null  object\n",
      " 4   text               98026 non-null  object\n",
      " 5   long_texts         98026 non-null  object\n",
      " 6   short_texts        98026 non-null  object\n",
      " 7   discharge_summary  98026 non-null  object\n",
      " 8   short_codes        98026 non-null  object\n",
      "dtypes: int64(1), object(8)\n",
      "memory usage: 6.7+ MB\n"
     ]
    }
   ],
   "source": [
    "test_df.info()"
   ]
  },
  {
   "cell_type": "code",
   "execution_count": null,
   "metadata": {},
   "outputs": [],
   "source": [
    "def preprocessing(test_df) : \n",
    "    test_df.loc[\n",
    "        test_df['short_codes'].str.startswith(\"V\"), 'short_codes'] = test_df.short_codes.apply(\n",
    "        lambda x: x[:3])\n",
    "    test_df.loc[\n",
    "        test_df['short_codes'].str.startswith(\"E\"), 'short_codes'] = test_df.short_codes.apply(\n",
    "        lambda x: x[:3])\n",
    "    test_df.loc[(~test_df.short_codes.str.startswith(\"E\")) & (\n",
    "        ~test_df.short_codes.str.startswith(\"V\")), 'short_codes'] = test_df.short_codes.apply(\n",
    "        lambda x: x[:2])\n",
    "    return test_df\n",
    "\n",
    "test_df = preprocessing(test_df)"
   ]
  },
  {
   "cell_type": "code",
   "execution_count": 371,
   "metadata": {},
   "outputs": [
    {
     "data": {
      "text/html": [
       "<div>\n",
       "<style scoped>\n",
       "    .dataframe tbody tr th:only-of-type {\n",
       "        vertical-align: middle;\n",
       "    }\n",
       "\n",
       "    .dataframe tbody tr th {\n",
       "        vertical-align: top;\n",
       "    }\n",
       "\n",
       "    .dataframe thead th {\n",
       "        text-align: right;\n",
       "    }\n",
       "</style>\n",
       "<table border=\"1\" class=\"dataframe\">\n",
       "  <thead>\n",
       "    <tr style=\"text-align: right;\">\n",
       "      <th></th>\n",
       "      <th>Symptoms</th>\n",
       "      <th>Diseases</th>\n",
       "      <th>id</th>\n",
       "      <th>icd_9_desc</th>\n",
       "      <th>text</th>\n",
       "      <th>long_texts</th>\n",
       "      <th>short_texts</th>\n",
       "      <th>discharge_summary</th>\n",
       "      <th>short_codes</th>\n",
       "    </tr>\n",
       "  </thead>\n",
       "  <tbody>\n",
       "    <tr>\n",
       "      <th>0</th>\n",
       "      <td>[chest tightness, palpitations, ventricular ec...</td>\n",
       "      <td>[aortic valve fibroelastoma, GERD, Basal Cell ...</td>\n",
       "      <td>109136</td>\n",
       "      <td>Benign neoplasm of heart,Obesity, unspecified,...</td>\n",
       "      <td>CHIEF COMPLAINT: known aortic valve fibroelast...</td>\n",
       "      <td>Benign neoplasm of heart,Obesity, unspecified,...</td>\n",
       "      <td>Benign neoplasm heart,Obesity NOS,Angina pecto...</td>\n",
       "      <td>Admission Date:  [**2149-11-19**]             ...</td>\n",
       "      <td>21</td>\n",
       "    </tr>\n",
       "    <tr>\n",
       "      <th>1</th>\n",
       "      <td>[chest tightness, palpitations, ventricular ec...</td>\n",
       "      <td>[aortic valve fibroelastoma, GERD, Basal Cell ...</td>\n",
       "      <td>109136</td>\n",
       "      <td>Benign neoplasm of heart,Obesity, unspecified,...</td>\n",
       "      <td>CHIEF COMPLAINT: known aortic valve fibroelast...</td>\n",
       "      <td>Benign neoplasm of heart,Obesity, unspecified,...</td>\n",
       "      <td>Benign neoplasm heart,Obesity NOS,Angina pecto...</td>\n",
       "      <td>Admission Date:  [**2149-11-19**]             ...</td>\n",
       "      <td>27</td>\n",
       "    </tr>\n",
       "    <tr>\n",
       "      <th>2</th>\n",
       "      <td>[chest tightness, palpitations, ventricular ec...</td>\n",
       "      <td>[aortic valve fibroelastoma, GERD, Basal Cell ...</td>\n",
       "      <td>109136</td>\n",
       "      <td>Benign neoplasm of heart,Obesity, unspecified,...</td>\n",
       "      <td>CHIEF COMPLAINT: known aortic valve fibroelast...</td>\n",
       "      <td>Benign neoplasm of heart,Obesity, unspecified,...</td>\n",
       "      <td>Benign neoplasm heart,Obesity NOS,Angina pecto...</td>\n",
       "      <td>Admission Date:  [**2149-11-19**]             ...</td>\n",
       "      <td>41</td>\n",
       "    </tr>\n",
       "    <tr>\n",
       "      <th>3</th>\n",
       "      <td>[chest tightness, palpitations, ventricular ec...</td>\n",
       "      <td>[aortic valve fibroelastoma, GERD, Basal Cell ...</td>\n",
       "      <td>109136</td>\n",
       "      <td>Benign neoplasm of heart,Obesity, unspecified,...</td>\n",
       "      <td>CHIEF COMPLAINT: known aortic valve fibroelast...</td>\n",
       "      <td>Benign neoplasm of heart,Obesity, unspecified,...</td>\n",
       "      <td>Benign neoplasm heart,Obesity NOS,Angina pecto...</td>\n",
       "      <td>Admission Date:  [**2149-11-19**]             ...</td>\n",
       "      <td>28</td>\n",
       "    </tr>\n",
       "    <tr>\n",
       "      <th>4</th>\n",
       "      <td>[chest tightness, palpitations, ventricular ec...</td>\n",
       "      <td>[aortic valve fibroelastoma, GERD, Basal Cell ...</td>\n",
       "      <td>109136</td>\n",
       "      <td>Benign neoplasm of heart,Obesity, unspecified,...</td>\n",
       "      <td>CHIEF COMPLAINT: known aortic valve fibroelast...</td>\n",
       "      <td>Benign neoplasm of heart,Obesity, unspecified,...</td>\n",
       "      <td>Benign neoplasm heart,Obesity NOS,Angina pecto...</td>\n",
       "      <td>Admission Date:  [**2149-11-19**]             ...</td>\n",
       "      <td>53</td>\n",
       "    </tr>\n",
       "  </tbody>\n",
       "</table>\n",
       "</div>"
      ],
      "text/plain": [
       "                                            Symptoms  \\\n",
       "0  [chest tightness, palpitations, ventricular ec...   \n",
       "1  [chest tightness, palpitations, ventricular ec...   \n",
       "2  [chest tightness, palpitations, ventricular ec...   \n",
       "3  [chest tightness, palpitations, ventricular ec...   \n",
       "4  [chest tightness, palpitations, ventricular ec...   \n",
       "\n",
       "                                            Diseases      id  \\\n",
       "0  [aortic valve fibroelastoma, GERD, Basal Cell ...  109136   \n",
       "1  [aortic valve fibroelastoma, GERD, Basal Cell ...  109136   \n",
       "2  [aortic valve fibroelastoma, GERD, Basal Cell ...  109136   \n",
       "3  [aortic valve fibroelastoma, GERD, Basal Cell ...  109136   \n",
       "4  [aortic valve fibroelastoma, GERD, Basal Cell ...  109136   \n",
       "\n",
       "                                          icd_9_desc  \\\n",
       "0  Benign neoplasm of heart,Obesity, unspecified,...   \n",
       "1  Benign neoplasm of heart,Obesity, unspecified,...   \n",
       "2  Benign neoplasm of heart,Obesity, unspecified,...   \n",
       "3  Benign neoplasm of heart,Obesity, unspecified,...   \n",
       "4  Benign neoplasm of heart,Obesity, unspecified,...   \n",
       "\n",
       "                                                text  \\\n",
       "0  CHIEF COMPLAINT: known aortic valve fibroelast...   \n",
       "1  CHIEF COMPLAINT: known aortic valve fibroelast...   \n",
       "2  CHIEF COMPLAINT: known aortic valve fibroelast...   \n",
       "3  CHIEF COMPLAINT: known aortic valve fibroelast...   \n",
       "4  CHIEF COMPLAINT: known aortic valve fibroelast...   \n",
       "\n",
       "                                          long_texts  \\\n",
       "0  Benign neoplasm of heart,Obesity, unspecified,...   \n",
       "1  Benign neoplasm of heart,Obesity, unspecified,...   \n",
       "2  Benign neoplasm of heart,Obesity, unspecified,...   \n",
       "3  Benign neoplasm of heart,Obesity, unspecified,...   \n",
       "4  Benign neoplasm of heart,Obesity, unspecified,...   \n",
       "\n",
       "                                         short_texts  \\\n",
       "0  Benign neoplasm heart,Obesity NOS,Angina pecto...   \n",
       "1  Benign neoplasm heart,Obesity NOS,Angina pecto...   \n",
       "2  Benign neoplasm heart,Obesity NOS,Angina pecto...   \n",
       "3  Benign neoplasm heart,Obesity NOS,Angina pecto...   \n",
       "4  Benign neoplasm heart,Obesity NOS,Angina pecto...   \n",
       "\n",
       "                                   discharge_summary short_codes  \n",
       "0  Admission Date:  [**2149-11-19**]             ...          21  \n",
       "1  Admission Date:  [**2149-11-19**]             ...          27  \n",
       "2  Admission Date:  [**2149-11-19**]             ...          41  \n",
       "3  Admission Date:  [**2149-11-19**]             ...          28  \n",
       "4  Admission Date:  [**2149-11-19**]             ...          53  "
      ]
     },
     "execution_count": 371,
     "metadata": {},
     "output_type": "execute_result"
    }
   ],
   "source": [
    "test_df.head()"
   ]
  },
  {
   "cell_type": "code",
   "execution_count": 372,
   "metadata": {},
   "outputs": [],
   "source": [
    "categories = {\n",
    "    \"00-10\": [\"00\", \"01\", \"02\", \"03\", \"04\", \"05\", \"06\", \"07\", \"08\", \"09\", \"10\"],\n",
    "    \"11-13\": [\"11\", \"12\", \"13\"],\n",
    "    \"14-20\": [\"14\", \"15\", \"16\", \"17\", \"18\", \"19\", \"20\"],\n",
    "    \"21-23\": [\"21\", \"22\", \"23\"],\n",
    "    \"24-27\": [\"24\", \"25\", \"26\", \"27\"],\n",
    "    \"28\": [\"28\"],\n",
    "    \"29-31\": [\"29\", \"30\", \"31\"],\n",
    "    \"32-35\": [\"32\", \"33\", \"34\", \"35\"],\n",
    "    \"36-38\": [\"36\", \"37\", \"38\"],\n",
    "    \"39-45\": [\"39\", \"40\", \"41\", \"42\", \"43\", \"44\", \"45\"],\n",
    "    \"46-51\": [\"46\", \"47\", \"48\", \"49\", \"50\", \"51\"],\n",
    "    \"52-57\": [\"52\", \"53\", \"54\", \"55\", \"56\", \"57\"],\n",
    "    \"58-62\": [\"58\", \"59\", \"60\", \"61\", \"62\"],\n",
    "    \"63-66\": [\"63\", \"64\", \"65\", \"66\"],\n",
    "    \"67\": [\"67\"],\n",
    "    \"68-70\": [\"68\", \"69\", \"70\"],\n",
    "    \"71-73\": [\"71\", \"72\", \"73\"],\n",
    "    \"74-75\": [\"74\", \"75\"],\n",
    "    \"76-77\": [\"76\", \"77\"],\n",
    "    \"78\": [\"78\"],\n",
    "    \"79\": [\"79\"],\n",
    "    \"80-83\": [\"80\", \"81\", \"82\", \"83\"],\n",
    "    \"84-95\": [\"84\", \"85\", \"86\", \"87\", \"88\", \"89\", \"90\", \"91\", \"92\", \"93\", \"94\", \"95\"],\n",
    "    \"96-99\": [\"96\", \"97\", \"98\", \"99\"],\n",
    "    \"V01-V09\": [\"V01\", \"V02\", \"V03\", \"V04\", \"V05\", \"V06\", \"V07\", \"V08\", \"V09\"],\n",
    "    \"V10-V19\": [\"V10\", \"V11\", \"V12\", \"V13\", \"V14\", \"V15\", \"V16\", \"V17\", \"V18\", \"V19\"],\n",
    "    \"V20-V29\": [\"V20\", \"V21\", \"V22\", \"V23\", \"V24\", \"V25\", \"V26\", \"V27\", \"V28\", \"V29\"],\n",
    "    \"V30-V39\": [\"V30\", \"V31\", \"V32\", \"V33\", \"V34\", \"V35\", \"V36\", \"V37\", \"V38\", \"V39\"],\n",
    "    \"V40-V49\": [\"V40\", \"V41\", \"V42\", \"V43\", \"V44\", \"V45\", \"V46\", \"V47\", \"V48\", \"V49\"],\n",
    "    \"V50-V59\": [\"V50\", \"V51\", \"V52\", \"V53\", \"V54\", \"V55\", \"V56\", \"V57\", \"V58\", \"V59\"],\n",
    "    \"V60-V69\": [\"V60\", \"V61\", \"V62\", \"V63\", \"V64\", \"V65\", \"V66\", \"V67\", \"V68\", \"V69\"],\n",
    "    \"V70-V82\": [\"V70\", \"V71\", \"V72\", \"V73\", \"V74\", \"V75\", \"V76\", \"V77\", \"V78\", \"V79\", \"V80\", \"V81\", \"V82\"],\n",
    "    \"V83-V84\": [\"V83\", \"V84\"],\n",
    "    \"V85-V85\": [\"V85\"],\n",
    "    \"V86-V86\": [\"V86\"],\n",
    "    \"V87-V87\": [\"V87\"],\n",
    "    \"V88-V88\": [\"V88\"],\n",
    "    \"V89-V89\": [\"V89\"],\n",
    "    \"V90-V90\": [\"V90\"],\n",
    "    \"V91-V91\": [\"V91\"],\n",
    "    \"E00-E09\": [\"E00\", \"E01\", \"E02\", \"E03\", \"E04\", \"E05\", \"E06\", \"E07\", \"E08\", \"E09\"]\n",
    "}\n"
   ]
  },
  {
   "cell_type": "code",
   "execution_count": 373,
   "metadata": {},
   "outputs": [
    {
     "data": {
      "text/html": [
       "<div>\n",
       "<style scoped>\n",
       "    .dataframe tbody tr th:only-of-type {\n",
       "        vertical-align: middle;\n",
       "    }\n",
       "\n",
       "    .dataframe tbody tr th {\n",
       "        vertical-align: top;\n",
       "    }\n",
       "\n",
       "    .dataframe thead th {\n",
       "        text-align: right;\n",
       "    }\n",
       "</style>\n",
       "<table border=\"1\" class=\"dataframe\">\n",
       "  <thead>\n",
       "    <tr style=\"text-align: right;\">\n",
       "      <th></th>\n",
       "      <th>Symptoms</th>\n",
       "      <th>Diseases</th>\n",
       "      <th>id</th>\n",
       "      <th>icd_9_desc</th>\n",
       "      <th>text</th>\n",
       "      <th>long_texts</th>\n",
       "      <th>short_texts</th>\n",
       "      <th>discharge_summary</th>\n",
       "      <th>short_codes</th>\n",
       "      <th>Category</th>\n",
       "    </tr>\n",
       "  </thead>\n",
       "  <tbody>\n",
       "    <tr>\n",
       "      <th>0</th>\n",
       "      <td>[chest tightness, palpitations, ventricular ec...</td>\n",
       "      <td>[aortic valve fibroelastoma, GERD, Basal Cell ...</td>\n",
       "      <td>109136</td>\n",
       "      <td>Benign neoplasm of heart,Obesity, unspecified,...</td>\n",
       "      <td>CHIEF COMPLAINT: known aortic valve fibroelast...</td>\n",
       "      <td>Benign neoplasm of heart,Obesity, unspecified,...</td>\n",
       "      <td>Benign neoplasm heart,Obesity NOS,Angina pecto...</td>\n",
       "      <td>Admission Date:  [**2149-11-19**]             ...</td>\n",
       "      <td>21</td>\n",
       "      <td>21-23</td>\n",
       "    </tr>\n",
       "    <tr>\n",
       "      <th>1</th>\n",
       "      <td>[chest tightness, palpitations, ventricular ec...</td>\n",
       "      <td>[aortic valve fibroelastoma, GERD, Basal Cell ...</td>\n",
       "      <td>109136</td>\n",
       "      <td>Benign neoplasm of heart,Obesity, unspecified,...</td>\n",
       "      <td>CHIEF COMPLAINT: known aortic valve fibroelast...</td>\n",
       "      <td>Benign neoplasm of heart,Obesity, unspecified,...</td>\n",
       "      <td>Benign neoplasm heart,Obesity NOS,Angina pecto...</td>\n",
       "      <td>Admission Date:  [**2149-11-19**]             ...</td>\n",
       "      <td>27</td>\n",
       "      <td>24-27</td>\n",
       "    </tr>\n",
       "    <tr>\n",
       "      <th>2</th>\n",
       "      <td>[chest tightness, palpitations, ventricular ec...</td>\n",
       "      <td>[aortic valve fibroelastoma, GERD, Basal Cell ...</td>\n",
       "      <td>109136</td>\n",
       "      <td>Benign neoplasm of heart,Obesity, unspecified,...</td>\n",
       "      <td>CHIEF COMPLAINT: known aortic valve fibroelast...</td>\n",
       "      <td>Benign neoplasm of heart,Obesity, unspecified,...</td>\n",
       "      <td>Benign neoplasm heart,Obesity NOS,Angina pecto...</td>\n",
       "      <td>Admission Date:  [**2149-11-19**]             ...</td>\n",
       "      <td>41</td>\n",
       "      <td>39-45</td>\n",
       "    </tr>\n",
       "    <tr>\n",
       "      <th>3</th>\n",
       "      <td>[chest tightness, palpitations, ventricular ec...</td>\n",
       "      <td>[aortic valve fibroelastoma, GERD, Basal Cell ...</td>\n",
       "      <td>109136</td>\n",
       "      <td>Benign neoplasm of heart,Obesity, unspecified,...</td>\n",
       "      <td>CHIEF COMPLAINT: known aortic valve fibroelast...</td>\n",
       "      <td>Benign neoplasm of heart,Obesity, unspecified,...</td>\n",
       "      <td>Benign neoplasm heart,Obesity NOS,Angina pecto...</td>\n",
       "      <td>Admission Date:  [**2149-11-19**]             ...</td>\n",
       "      <td>28</td>\n",
       "      <td>28</td>\n",
       "    </tr>\n",
       "    <tr>\n",
       "      <th>4</th>\n",
       "      <td>[chest tightness, palpitations, ventricular ec...</td>\n",
       "      <td>[aortic valve fibroelastoma, GERD, Basal Cell ...</td>\n",
       "      <td>109136</td>\n",
       "      <td>Benign neoplasm of heart,Obesity, unspecified,...</td>\n",
       "      <td>CHIEF COMPLAINT: known aortic valve fibroelast...</td>\n",
       "      <td>Benign neoplasm of heart,Obesity, unspecified,...</td>\n",
       "      <td>Benign neoplasm heart,Obesity NOS,Angina pecto...</td>\n",
       "      <td>Admission Date:  [**2149-11-19**]             ...</td>\n",
       "      <td>53</td>\n",
       "      <td>52-57</td>\n",
       "    </tr>\n",
       "  </tbody>\n",
       "</table>\n",
       "</div>"
      ],
      "text/plain": [
       "                                            Symptoms  \\\n",
       "0  [chest tightness, palpitations, ventricular ec...   \n",
       "1  [chest tightness, palpitations, ventricular ec...   \n",
       "2  [chest tightness, palpitations, ventricular ec...   \n",
       "3  [chest tightness, palpitations, ventricular ec...   \n",
       "4  [chest tightness, palpitations, ventricular ec...   \n",
       "\n",
       "                                            Diseases      id  \\\n",
       "0  [aortic valve fibroelastoma, GERD, Basal Cell ...  109136   \n",
       "1  [aortic valve fibroelastoma, GERD, Basal Cell ...  109136   \n",
       "2  [aortic valve fibroelastoma, GERD, Basal Cell ...  109136   \n",
       "3  [aortic valve fibroelastoma, GERD, Basal Cell ...  109136   \n",
       "4  [aortic valve fibroelastoma, GERD, Basal Cell ...  109136   \n",
       "\n",
       "                                          icd_9_desc  \\\n",
       "0  Benign neoplasm of heart,Obesity, unspecified,...   \n",
       "1  Benign neoplasm of heart,Obesity, unspecified,...   \n",
       "2  Benign neoplasm of heart,Obesity, unspecified,...   \n",
       "3  Benign neoplasm of heart,Obesity, unspecified,...   \n",
       "4  Benign neoplasm of heart,Obesity, unspecified,...   \n",
       "\n",
       "                                                text  \\\n",
       "0  CHIEF COMPLAINT: known aortic valve fibroelast...   \n",
       "1  CHIEF COMPLAINT: known aortic valve fibroelast...   \n",
       "2  CHIEF COMPLAINT: known aortic valve fibroelast...   \n",
       "3  CHIEF COMPLAINT: known aortic valve fibroelast...   \n",
       "4  CHIEF COMPLAINT: known aortic valve fibroelast...   \n",
       "\n",
       "                                          long_texts  \\\n",
       "0  Benign neoplasm of heart,Obesity, unspecified,...   \n",
       "1  Benign neoplasm of heart,Obesity, unspecified,...   \n",
       "2  Benign neoplasm of heart,Obesity, unspecified,...   \n",
       "3  Benign neoplasm of heart,Obesity, unspecified,...   \n",
       "4  Benign neoplasm of heart,Obesity, unspecified,...   \n",
       "\n",
       "                                         short_texts  \\\n",
       "0  Benign neoplasm heart,Obesity NOS,Angina pecto...   \n",
       "1  Benign neoplasm heart,Obesity NOS,Angina pecto...   \n",
       "2  Benign neoplasm heart,Obesity NOS,Angina pecto...   \n",
       "3  Benign neoplasm heart,Obesity NOS,Angina pecto...   \n",
       "4  Benign neoplasm heart,Obesity NOS,Angina pecto...   \n",
       "\n",
       "                                   discharge_summary short_codes Category  \n",
       "0  Admission Date:  [**2149-11-19**]             ...          21    21-23  \n",
       "1  Admission Date:  [**2149-11-19**]             ...          27    24-27  \n",
       "2  Admission Date:  [**2149-11-19**]             ...          41    39-45  \n",
       "3  Admission Date:  [**2149-11-19**]             ...          28       28  \n",
       "4  Admission Date:  [**2149-11-19**]             ...          53    52-57  "
      ]
     },
     "execution_count": 373,
     "metadata": {},
     "output_type": "execute_result"
    }
   ],
   "source": [
    "icd9_to_category = {code: category for category, codes in categories.items() for code in codes}\n",
    "\n",
    "\n",
    "test_df['short_codes'] = test_df['short_codes'].astype(str).str.zfill(2)\n",
    "\n",
    "test_df['Category'] = test_df['short_codes'].map(icd9_to_category)\n",
    "\n",
    "test_df.head()"
   ]
  },
  {
   "cell_type": "code",
   "execution_count": 374,
   "metadata": {},
   "outputs": [
    {
     "data": {
      "text/html": [
       "<div>\n",
       "<style scoped>\n",
       "    .dataframe tbody tr th:only-of-type {\n",
       "        vertical-align: middle;\n",
       "    }\n",
       "\n",
       "    .dataframe tbody tr th {\n",
       "        vertical-align: top;\n",
       "    }\n",
       "\n",
       "    .dataframe thead th {\n",
       "        text-align: right;\n",
       "    }\n",
       "</style>\n",
       "<table border=\"1\" class=\"dataframe\">\n",
       "  <thead>\n",
       "    <tr style=\"text-align: right;\">\n",
       "      <th></th>\n",
       "      <th>Symptoms</th>\n",
       "      <th>Diseases</th>\n",
       "      <th>id</th>\n",
       "      <th>Category</th>\n",
       "    </tr>\n",
       "  </thead>\n",
       "  <tbody>\n",
       "    <tr>\n",
       "      <th>0</th>\n",
       "      <td>[chest tightness, palpitations, ventricular ec...</td>\n",
       "      <td>[aortic valve fibroelastoma, GERD, Basal Cell ...</td>\n",
       "      <td>109136</td>\n",
       "      <td>21-23</td>\n",
       "    </tr>\n",
       "    <tr>\n",
       "      <th>1</th>\n",
       "      <td>[chest tightness, palpitations, ventricular ec...</td>\n",
       "      <td>[aortic valve fibroelastoma, GERD, Basal Cell ...</td>\n",
       "      <td>109136</td>\n",
       "      <td>24-27</td>\n",
       "    </tr>\n",
       "    <tr>\n",
       "      <th>2</th>\n",
       "      <td>[chest tightness, palpitations, ventricular ec...</td>\n",
       "      <td>[aortic valve fibroelastoma, GERD, Basal Cell ...</td>\n",
       "      <td>109136</td>\n",
       "      <td>39-45</td>\n",
       "    </tr>\n",
       "    <tr>\n",
       "      <th>3</th>\n",
       "      <td>[chest tightness, palpitations, ventricular ec...</td>\n",
       "      <td>[aortic valve fibroelastoma, GERD, Basal Cell ...</td>\n",
       "      <td>109136</td>\n",
       "      <td>28</td>\n",
       "    </tr>\n",
       "    <tr>\n",
       "      <th>4</th>\n",
       "      <td>[chest tightness, palpitations, ventricular ec...</td>\n",
       "      <td>[aortic valve fibroelastoma, GERD, Basal Cell ...</td>\n",
       "      <td>109136</td>\n",
       "      <td>52-57</td>\n",
       "    </tr>\n",
       "  </tbody>\n",
       "</table>\n",
       "</div>"
      ],
      "text/plain": [
       "                                            Symptoms  \\\n",
       "0  [chest tightness, palpitations, ventricular ec...   \n",
       "1  [chest tightness, palpitations, ventricular ec...   \n",
       "2  [chest tightness, palpitations, ventricular ec...   \n",
       "3  [chest tightness, palpitations, ventricular ec...   \n",
       "4  [chest tightness, palpitations, ventricular ec...   \n",
       "\n",
       "                                            Diseases      id Category  \n",
       "0  [aortic valve fibroelastoma, GERD, Basal Cell ...  109136    21-23  \n",
       "1  [aortic valve fibroelastoma, GERD, Basal Cell ...  109136    24-27  \n",
       "2  [aortic valve fibroelastoma, GERD, Basal Cell ...  109136    39-45  \n",
       "3  [aortic valve fibroelastoma, GERD, Basal Cell ...  109136       28  \n",
       "4  [aortic valve fibroelastoma, GERD, Basal Cell ...  109136    52-57  "
      ]
     },
     "execution_count": 374,
     "metadata": {},
     "output_type": "execute_result"
    }
   ],
   "source": [
    "test_df    = test_df.drop(['icd_9_desc'\t,'text','long_texts','short_texts','discharge_summary','short_codes' ], axis =1)\n",
    "test_df.head()"
   ]
  },
  {
   "cell_type": "code",
   "execution_count": 375,
   "metadata": {},
   "outputs": [],
   "source": [
    "test_df.dropna(subset=['Category'], inplace=True)"
   ]
  },
  {
   "cell_type": "code",
   "execution_count": null,
   "metadata": {},
   "outputs": [],
   "source": []
  },
  {
   "cell_type": "code",
   "execution_count": 376,
   "metadata": {},
   "outputs": [
    {
     "data": {
      "text/html": [
       "<div>\n",
       "<style scoped>\n",
       "    .dataframe tbody tr th:only-of-type {\n",
       "        vertical-align: middle;\n",
       "    }\n",
       "\n",
       "    .dataframe tbody tr th {\n",
       "        vertical-align: top;\n",
       "    }\n",
       "\n",
       "    .dataframe thead th {\n",
       "        text-align: right;\n",
       "    }\n",
       "</style>\n",
       "<table border=\"1\" class=\"dataframe\">\n",
       "  <thead>\n",
       "    <tr style=\"text-align: right;\">\n",
       "      <th></th>\n",
       "      <th>id</th>\n",
       "      <th>Symptoms</th>\n",
       "      <th>Diseases</th>\n",
       "      <th>Category</th>\n",
       "    </tr>\n",
       "  </thead>\n",
       "  <tbody>\n",
       "    <tr>\n",
       "      <th>0</th>\n",
       "      <td>100010</td>\n",
       "      <td>[Gross hematuria, Weight loss, Fullness in lef...</td>\n",
       "      <td>[Metastatic renal cell carcinoma, Renal mass, ...</td>\n",
       "      <td>14-20,14-20,14-20,14-20,24-27</td>\n",
       "    </tr>\n",
       "    <tr>\n",
       "      <th>1</th>\n",
       "      <td>100012</td>\n",
       "      <td>[exertional angina]</td>\n",
       "      <td>[coronary artery disease, hypertension, hyperc...</td>\n",
       "      <td>39-45,96-99,39-45,39-45,24-27,V10-V19,V40-V49,...</td>\n",
       "    </tr>\n",
       "    <tr>\n",
       "      <th>2</th>\n",
       "      <td>100016</td>\n",
       "      <td>[Respiratory failure, Labored breathing, Acces...</td>\n",
       "      <td>[Downs Syndrome, MRSA pneumonia, Tracheostomy,...</td>\n",
       "      <td>46-51,46-51,24-27,46-51,74-75,32-35,24-27,39-4...</td>\n",
       "    </tr>\n",
       "    <tr>\n",
       "      <th>3</th>\n",
       "      <td>100019</td>\n",
       "      <td>[heart murmur since childhood, increase in the...</td>\n",
       "      <td>[Bicuspid aortic valve, Dilated aorta, Aortic ...</td>\n",
       "      <td>39-45,74-75,39-45,78</td>\n",
       "    </tr>\n",
       "    <tr>\n",
       "      <th>4</th>\n",
       "      <td>100028</td>\n",
       "      <td>[Right upper quadrant pain, Fever, Elevated LF...</td>\n",
       "      <td>[Mild mental retardation, Cholangitis, Choledo...</td>\n",
       "      <td>52-57,00-10,46-51,52-57,96-99,39-45,28,84-95</td>\n",
       "    </tr>\n",
       "  </tbody>\n",
       "</table>\n",
       "</div>"
      ],
      "text/plain": [
       "       id                                           Symptoms  \\\n",
       "0  100010  [Gross hematuria, Weight loss, Fullness in lef...   \n",
       "1  100012                                [exertional angina]   \n",
       "2  100016  [Respiratory failure, Labored breathing, Acces...   \n",
       "3  100019  [heart murmur since childhood, increase in the...   \n",
       "4  100028  [Right upper quadrant pain, Fever, Elevated LF...   \n",
       "\n",
       "                                            Diseases  \\\n",
       "0  [Metastatic renal cell carcinoma, Renal mass, ...   \n",
       "1  [coronary artery disease, hypertension, hyperc...   \n",
       "2  [Downs Syndrome, MRSA pneumonia, Tracheostomy,...   \n",
       "3  [Bicuspid aortic valve, Dilated aorta, Aortic ...   \n",
       "4  [Mild mental retardation, Cholangitis, Choledo...   \n",
       "\n",
       "                                            Category  \n",
       "0                      14-20,14-20,14-20,14-20,24-27  \n",
       "1  39-45,96-99,39-45,39-45,24-27,V10-V19,V40-V49,...  \n",
       "2  46-51,46-51,24-27,46-51,74-75,32-35,24-27,39-4...  \n",
       "3                               39-45,74-75,39-45,78  \n",
       "4       52-57,00-10,46-51,52-57,96-99,39-45,28,84-95  "
      ]
     },
     "execution_count": 376,
     "metadata": {},
     "output_type": "execute_result"
    }
   ],
   "source": [
    "raw_test_df =  test_df.groupby('id').agg({\n",
    "    'Symptoms': 'first',\n",
    "    'Diseases': 'first',\n",
    "    'Category': lambda x: ','.join(map(str, x))\n",
    "}).reset_index()\n",
    "\n",
    "raw_test_df.head()"
   ]
  },
  {
   "cell_type": "code",
   "execution_count": 377,
   "metadata": {},
   "outputs": [],
   "source": [
    "# len(set(classes).intersection(set(list(test_df.short_codes))))"
   ]
  },
  {
   "cell_type": "code",
   "execution_count": 378,
   "metadata": {},
   "outputs": [
    {
     "data": {
      "text/plain": [
       "38"
      ]
     },
     "execution_count": 378,
     "metadata": {},
     "output_type": "execute_result"
    }
   ],
   "source": [
    "test_df.Category.nunique()"
   ]
  },
  {
   "cell_type": "markdown",
   "metadata": {},
   "source": [
    "> #### Check if the classes are in KG or not"
   ]
  },
  {
   "cell_type": "code",
   "execution_count": 821,
   "metadata": {},
   "outputs": [],
   "source": [
    "import os\n",
    "from py2neo import Graph\n",
    "from mistralai.client import MistralClient\n",
    "from mistralai.models.chat_completion import ChatMessage\n",
    "from neo4j import GraphDatabase\n",
    "from dotenv import load_dotenv\n",
    "import json\n",
    "\n",
    "\n",
    "uri = \"neo4j://localhost:7687\" \n",
    "auth = (\"neo4j\", \"neo4j_pass5\")\n",
    "\n",
    "driver_1= GraphDatabase.driver(uri, auth=auth) \n",
    "driver_1.verify_connectivity()\n",
    "\n",
    "\n"
   ]
  },
  {
   "cell_type": "code",
   "execution_count": null,
   "metadata": {},
   "outputs": [],
   "source": []
  },
  {
   "cell_type": "markdown",
   "metadata": {},
   "source": [
    "#### Number of distinct disease codes in the knowledge graph"
   ]
  },
  {
   "cell_type": "code",
   "execution_count": 822,
   "metadata": {},
   "outputs": [
    {
     "name": "stdout",
     "output_type": "stream",
     "text": [
      "Number of distinct disease codes in the knowledge graph: 41\n"
     ]
    }
   ],
   "source": [
    "def count_distinct_disease_codes():\n",
    "    with driver_1.session() as session:\n",
    "        result = session.run(\"\"\"\n",
    "            MATCH (d:Disease)\n",
    "            RETURN DISTINCT d.title AS distinct_disease\n",
    "        \"\"\")\n",
    "        distinct_diseases =  [i['distinct_disease'] for i in result.data()]\n",
    "          \n",
    "        return distinct_diseases\n",
    "\n",
    "distinct_disease= count_distinct_disease_codes()\n",
    "print(f\"Number of distinct disease codes in the knowledge graph: {len(distinct_disease)}\")\n"
   ]
  },
  {
   "cell_type": "code",
   "execution_count": 381,
   "metadata": {},
   "outputs": [],
   "source": [
    "# len(set(distinct_disease).intersection(set(list(test_df.short_codes))))"
   ]
  },
  {
   "cell_type": "code",
   "execution_count": 382,
   "metadata": {},
   "outputs": [],
   "source": [
    "# len(set(classes).intersection(set(list(test_df.short_codes))))"
   ]
  },
  {
   "cell_type": "code",
   "execution_count": 383,
   "metadata": {},
   "outputs": [],
   "source": [
    "# sorted(list(test_df.short_codes.value_counts()))[-100:]"
   ]
  },
  {
   "cell_type": "code",
   "execution_count": 384,
   "metadata": {},
   "outputs": [
    {
     "data": {
      "image/png": "[encoded data removed]",
      "text/plain": [
       "<Figure size 2000x500 with 1 Axes>"
      ]
     },
     "metadata": {},
     "output_type": "display_data"
    }
   ],
   "source": [
    "import matplotlib.pyplot as plt\n",
    "plt.figure(figsize = (20,5))\n",
    "plt.hist(list(test_df.Category.value_counts()))\n",
    "\n",
    "plt.show()"
   ]
  },
  {
   "cell_type": "markdown",
   "metadata": {},
   "source": [
    "> #### Infer all the classes with limit 1263 and weight!=1"
   ]
  },
  {
   "cell_type": "code",
   "execution_count": 385,
   "metadata": {},
   "outputs": [
    {
     "data": {
      "text/html": [
       "<div>\n",
       "<style scoped>\n",
       "    .dataframe tbody tr th:only-of-type {\n",
       "        vertical-align: middle;\n",
       "    }\n",
       "\n",
       "    .dataframe tbody tr th {\n",
       "        vertical-align: top;\n",
       "    }\n",
       "\n",
       "    .dataframe thead th {\n",
       "        text-align: right;\n",
       "    }\n",
       "</style>\n",
       "<table border=\"1\" class=\"dataframe\">\n",
       "  <thead>\n",
       "    <tr style=\"text-align: right;\">\n",
       "      <th></th>\n",
       "      <th>Symptoms</th>\n",
       "      <th>Diseases</th>\n",
       "      <th>id</th>\n",
       "      <th>Category</th>\n",
       "    </tr>\n",
       "  </thead>\n",
       "  <tbody>\n",
       "    <tr>\n",
       "      <th>0</th>\n",
       "      <td>[chest tightness, palpitations, ventricular ec...</td>\n",
       "      <td>[aortic valve fibroelastoma, GERD, Basal Cell ...</td>\n",
       "      <td>109136</td>\n",
       "      <td>21-23</td>\n",
       "    </tr>\n",
       "    <tr>\n",
       "      <th>1</th>\n",
       "      <td>[chest tightness, palpitations, ventricular ec...</td>\n",
       "      <td>[aortic valve fibroelastoma, GERD, Basal Cell ...</td>\n",
       "      <td>109136</td>\n",
       "      <td>24-27</td>\n",
       "    </tr>\n",
       "    <tr>\n",
       "      <th>2</th>\n",
       "      <td>[chest tightness, palpitations, ventricular ec...</td>\n",
       "      <td>[aortic valve fibroelastoma, GERD, Basal Cell ...</td>\n",
       "      <td>109136</td>\n",
       "      <td>39-45</td>\n",
       "    </tr>\n",
       "    <tr>\n",
       "      <th>3</th>\n",
       "      <td>[chest tightness, palpitations, ventricular ec...</td>\n",
       "      <td>[aortic valve fibroelastoma, GERD, Basal Cell ...</td>\n",
       "      <td>109136</td>\n",
       "      <td>28</td>\n",
       "    </tr>\n",
       "    <tr>\n",
       "      <th>4</th>\n",
       "      <td>[chest tightness, palpitations, ventricular ec...</td>\n",
       "      <td>[aortic valve fibroelastoma, GERD, Basal Cell ...</td>\n",
       "      <td>109136</td>\n",
       "      <td>52-57</td>\n",
       "    </tr>\n",
       "  </tbody>\n",
       "</table>\n",
       "</div>"
      ],
      "text/plain": [
       "                                            Symptoms  \\\n",
       "0  [chest tightness, palpitations, ventricular ec...   \n",
       "1  [chest tightness, palpitations, ventricular ec...   \n",
       "2  [chest tightness, palpitations, ventricular ec...   \n",
       "3  [chest tightness, palpitations, ventricular ec...   \n",
       "4  [chest tightness, palpitations, ventricular ec...   \n",
       "\n",
       "                                            Diseases      id Category  \n",
       "0  [aortic valve fibroelastoma, GERD, Basal Cell ...  109136    21-23  \n",
       "1  [aortic valve fibroelastoma, GERD, Basal Cell ...  109136    24-27  \n",
       "2  [aortic valve fibroelastoma, GERD, Basal Cell ...  109136    39-45  \n",
       "3  [aortic valve fibroelastoma, GERD, Basal Cell ...  109136       28  \n",
       "4  [aortic valve fibroelastoma, GERD, Basal Cell ...  109136    52-57  "
      ]
     },
     "execution_count": 385,
     "metadata": {},
     "output_type": "execute_result"
    }
   ],
   "source": [
    "test_df.head()"
   ]
  },
  {
   "cell_type": "code",
   "execution_count": 386,
   "metadata": {},
   "outputs": [
    {
     "name": "stdout",
     "output_type": "stream",
     "text": [
      "No. of Short Codes : 38\n"
     ]
    },
    {
     "data": {
      "text/html": [
       "<div>\n",
       "<style scoped>\n",
       "    .dataframe tbody tr th:only-of-type {\n",
       "        vertical-align: middle;\n",
       "    }\n",
       "\n",
       "    .dataframe tbody tr th {\n",
       "        vertical-align: top;\n",
       "    }\n",
       "\n",
       "    .dataframe thead th {\n",
       "        text-align: right;\n",
       "    }\n",
       "</style>\n",
       "<table border=\"1\" class=\"dataframe\">\n",
       "  <thead>\n",
       "    <tr style=\"text-align: right;\">\n",
       "      <th></th>\n",
       "      <th>id</th>\n",
       "      <th>00-10</th>\n",
       "      <th>11-13</th>\n",
       "      <th>14-20</th>\n",
       "      <th>21-23</th>\n",
       "      <th>24-27</th>\n",
       "      <th>28</th>\n",
       "      <th>29-31</th>\n",
       "      <th>32-35</th>\n",
       "      <th>36-38</th>\n",
       "      <th>...</th>\n",
       "      <th>V30-V39</th>\n",
       "      <th>V40-V49</th>\n",
       "      <th>V50-V59</th>\n",
       "      <th>V60-V69</th>\n",
       "      <th>V70-V82</th>\n",
       "      <th>V83-V84</th>\n",
       "      <th>V85-V85</th>\n",
       "      <th>V87-V87</th>\n",
       "      <th>V88-V88</th>\n",
       "      <th>V90-V90</th>\n",
       "    </tr>\n",
       "  </thead>\n",
       "  <tbody>\n",
       "    <tr>\n",
       "      <th>0</th>\n",
       "      <td>109136</td>\n",
       "      <td>0</td>\n",
       "      <td>0</td>\n",
       "      <td>0</td>\n",
       "      <td>1</td>\n",
       "      <td>0</td>\n",
       "      <td>0</td>\n",
       "      <td>0</td>\n",
       "      <td>0</td>\n",
       "      <td>0</td>\n",
       "      <td>...</td>\n",
       "      <td>0</td>\n",
       "      <td>0</td>\n",
       "      <td>0</td>\n",
       "      <td>0</td>\n",
       "      <td>0</td>\n",
       "      <td>0</td>\n",
       "      <td>0</td>\n",
       "      <td>0</td>\n",
       "      <td>0</td>\n",
       "      <td>0</td>\n",
       "    </tr>\n",
       "    <tr>\n",
       "      <th>1</th>\n",
       "      <td>109136</td>\n",
       "      <td>0</td>\n",
       "      <td>0</td>\n",
       "      <td>0</td>\n",
       "      <td>0</td>\n",
       "      <td>1</td>\n",
       "      <td>0</td>\n",
       "      <td>0</td>\n",
       "      <td>0</td>\n",
       "      <td>0</td>\n",
       "      <td>...</td>\n",
       "      <td>0</td>\n",
       "      <td>0</td>\n",
       "      <td>0</td>\n",
       "      <td>0</td>\n",
       "      <td>0</td>\n",
       "      <td>0</td>\n",
       "      <td>0</td>\n",
       "      <td>0</td>\n",
       "      <td>0</td>\n",
       "      <td>0</td>\n",
       "    </tr>\n",
       "    <tr>\n",
       "      <th>2</th>\n",
       "      <td>109136</td>\n",
       "      <td>0</td>\n",
       "      <td>0</td>\n",
       "      <td>0</td>\n",
       "      <td>0</td>\n",
       "      <td>0</td>\n",
       "      <td>0</td>\n",
       "      <td>0</td>\n",
       "      <td>0</td>\n",
       "      <td>0</td>\n",
       "      <td>...</td>\n",
       "      <td>0</td>\n",
       "      <td>0</td>\n",
       "      <td>0</td>\n",
       "      <td>0</td>\n",
       "      <td>0</td>\n",
       "      <td>0</td>\n",
       "      <td>0</td>\n",
       "      <td>0</td>\n",
       "      <td>0</td>\n",
       "      <td>0</td>\n",
       "    </tr>\n",
       "    <tr>\n",
       "      <th>3</th>\n",
       "      <td>109136</td>\n",
       "      <td>0</td>\n",
       "      <td>0</td>\n",
       "      <td>0</td>\n",
       "      <td>0</td>\n",
       "      <td>0</td>\n",
       "      <td>1</td>\n",
       "      <td>0</td>\n",
       "      <td>0</td>\n",
       "      <td>0</td>\n",
       "      <td>...</td>\n",
       "      <td>0</td>\n",
       "      <td>0</td>\n",
       "      <td>0</td>\n",
       "      <td>0</td>\n",
       "      <td>0</td>\n",
       "      <td>0</td>\n",
       "      <td>0</td>\n",
       "      <td>0</td>\n",
       "      <td>0</td>\n",
       "      <td>0</td>\n",
       "    </tr>\n",
       "    <tr>\n",
       "      <th>4</th>\n",
       "      <td>109136</td>\n",
       "      <td>0</td>\n",
       "      <td>0</td>\n",
       "      <td>0</td>\n",
       "      <td>0</td>\n",
       "      <td>0</td>\n",
       "      <td>0</td>\n",
       "      <td>0</td>\n",
       "      <td>0</td>\n",
       "      <td>0</td>\n",
       "      <td>...</td>\n",
       "      <td>0</td>\n",
       "      <td>0</td>\n",
       "      <td>0</td>\n",
       "      <td>0</td>\n",
       "      <td>0</td>\n",
       "      <td>0</td>\n",
       "      <td>0</td>\n",
       "      <td>0</td>\n",
       "      <td>0</td>\n",
       "      <td>0</td>\n",
       "    </tr>\n",
       "  </tbody>\n",
       "</table>\n",
       "<p>5 rows × 39 columns</p>\n",
       "</div>"
      ],
      "text/plain": [
       "       id  00-10  11-13  14-20  21-23  24-27  28  29-31  32-35  36-38  ...  \\\n",
       "0  109136      0      0      0      1      0   0      0      0      0  ...   \n",
       "1  109136      0      0      0      0      1   0      0      0      0  ...   \n",
       "2  109136      0      0      0      0      0   0      0      0      0  ...   \n",
       "3  109136      0      0      0      0      0   1      0      0      0  ...   \n",
       "4  109136      0      0      0      0      0   0      0      0      0  ...   \n",
       "\n",
       "   V30-V39  V40-V49  V50-V59  V60-V69  V70-V82  V83-V84  V85-V85  V87-V87  \\\n",
       "0        0        0        0        0        0        0        0        0   \n",
       "1        0        0        0        0        0        0        0        0   \n",
       "2        0        0        0        0        0        0        0        0   \n",
       "3        0        0        0        0        0        0        0        0   \n",
       "4        0        0        0        0        0        0        0        0   \n",
       "\n",
       "   V88-V88  V90-V90  \n",
       "0        0        0  \n",
       "1        0        0  \n",
       "2        0        0  \n",
       "3        0        0  \n",
       "4        0        0  \n",
       "\n",
       "[5 rows x 39 columns]"
      ]
     },
     "execution_count": 386,
     "metadata": {},
     "output_type": "execute_result"
    }
   ],
   "source": [
    "all_short_codes = set(list(test_df.Category))\n",
    "print(f'No. of Short Codes : {len(set(all_short_codes))}')\n",
    "df_one_hot = pd.get_dummies(test_df, columns=['Category'])\n",
    "df_one_hot.columns = df_one_hot.columns.str.replace('Category_', '')\n",
    "df_one_hot = df_one_hot.drop(['Symptoms','Diseases'], axis =1).reset_index(drop=True)\n",
    "df_one_hot = df_one_hot.astype(int)\n",
    "df_one_hot.head()"
   ]
  },
  {
   "cell_type": "markdown",
   "metadata": {},
   "source": [
    "> #### Check for the classes which are there, if classes as present, keep it, else make everything 0."
   ]
  },
  {
   "cell_type": "code",
   "execution_count": 387,
   "metadata": {},
   "outputs": [],
   "source": [
    "import numpy as np\n",
    "from tqdm import tqdm\n",
    "from sklearn.metrics import recall_score\n",
    "from sklearn.metrics import roc_auc_score"
   ]
  },
  {
   "cell_type": "code",
   "execution_count": 823,
   "metadata": {},
   "outputs": [],
   "source": [
    "def get_prioritized_relationships(symptom_names, weightage=5, limit=20):\n",
    "    with driver_1.session() as session:\n",
    "        result = session.run(f\"\"\"\n",
    "            MATCH (s:Symptom)-[r:ASSOCIATED_WITH]->(d:Disease)\n",
    "            WHERE s.name IN $symptoms AND r.weight >= {weightage}\n",
    "            WITH d.title AS disease_name, collect(s.name) AS symptoms, max(r.weight) AS max_weight\n",
    "            RETURN disease_name, symptoms, max_weight\n",
    "            ORDER BY max_weight DESC\n",
    "            LIMIT {limit}\n",
    "        \"\"\", symptoms=symptom_names)\n",
    "\n",
    "        codes = []\n",
    "        all_info = {}\n",
    "        for record in result:\n",
    "            codes.append(record['disease_name'])\n",
    "            all_info[record['disease_name']] = [record['disease_name'], record['max_weight']]\n",
    "\n",
    "            \n",
    "        return codes, all_info\n",
    "    \n",
    "\n",
    "def create_binary_matrix(labels, classes):\n",
    "    binary_matrix = np.zeros((len(labels), len(classes)), dtype=int)\n",
    "    for i, label_list in enumerate(labels):\n",
    "        for label in label_list:\n",
    "            if label in classes:\n",
    "                idx = classes.index(label)\n",
    "                binary_matrix[i, idx] = 1       \n",
    "    return binary_matrix\n",
    "    \n",
    "    \n",
    "def roc_auc(probs, labels, multilabel=False, average='macro', multi_class='ovo'):\n",
    "    if isinstance(labels, list):\n",
    "        labels = np.array(labels, dtype=int)\n",
    "    else:\n",
    "        labels = labels.astype(int)\n",
    "    y_score = probs\n",
    "    if multilabel:\n",
    "        dim_size = len(labels[0])\n",
    "        mask = np.ones((dim_size), dtype=bool)\n",
    "        for c in range(dim_size):\n",
    "            if max(labels[:, c]) == 0:\n",
    "                mask[c] = False\n",
    "        labels = labels[:, mask]\n",
    "        y_score = np.array(probs)[:, mask]\n",
    "\n",
    "        filtered_cols = np.count_nonzero(mask == False)\n",
    "        # print(f\"{filtered_cols} columns not considered for ROC AUC calculation!\")\n",
    "\n",
    "    return roc_auc_score(y_true=labels, y_score=y_score, average=average, multi_class=multi_class)\n"
   ]
  },
  {
   "cell_type": "code",
   "execution_count": 389,
   "metadata": {},
   "outputs": [
    {
     "data": {
      "text/plain": [
       "['exertional angina']"
      ]
     },
     "execution_count": 389,
     "metadata": {},
     "output_type": "execute_result"
    }
   ],
   "source": [
    "raw_test_df.Symptoms.iloc[1]"
   ]
  },
  {
   "cell_type": "code",
   "execution_count": 390,
   "metadata": {},
   "outputs": [],
   "source": [
    "codes = get_prioritized_relationships(['back pain'], 1, 40)[0]"
   ]
  },
  {
   "cell_type": "code",
   "execution_count": 391,
   "metadata": {},
   "outputs": [
    {
     "data": {
      "text/plain": [
       "34"
      ]
     },
     "execution_count": 391,
     "metadata": {},
     "output_type": "execute_result"
    }
   ],
   "source": [
    "len(codes)"
   ]
  },
  {
   "cell_type": "code",
   "execution_count": 392,
   "metadata": {},
   "outputs": [
    {
     "name": "stdout",
     "output_type": "stream",
     "text": [
      "['39-45', '28', '78', '58-62', '96-99', '46-51', '71-73', '24-27', '14-20', 'V40-V49', 'V50-V59', '80-83', '79', '29-31', '52-57', '00-10', '32-35', 'V10-V19', '68-70', '11-13']\n"
     ]
    }
   ],
   "source": [
    "print(get_prioritized_relationships(['back pain'], 1,20 )[0])"
   ]
  },
  {
   "cell_type": "code",
   "execution_count": 393,
   "metadata": {},
   "outputs": [
    {
     "name": "stdout",
     "output_type": "stream",
     "text": [
      "[]\n"
     ]
    }
   ],
   "source": [
    "print(get_prioritized_relationships(raw_test_df.Symptoms.iloc[1], 1000, 2000)[0])"
   ]
  },
  {
   "cell_type": "markdown",
   "metadata": {},
   "source": [
    "> #### Calculate AUROC score for all the present classes, neglect if not present "
   ]
  },
  {
   "cell_type": "code",
   "execution_count": 394,
   "metadata": {},
   "outputs": [
    {
     "data": {
      "text/html": [
       "<div>\n",
       "<style scoped>\n",
       "    .dataframe tbody tr th:only-of-type {\n",
       "        vertical-align: middle;\n",
       "    }\n",
       "\n",
       "    .dataframe tbody tr th {\n",
       "        vertical-align: top;\n",
       "    }\n",
       "\n",
       "    .dataframe thead th {\n",
       "        text-align: right;\n",
       "    }\n",
       "</style>\n",
       "<table border=\"1\" class=\"dataframe\">\n",
       "  <thead>\n",
       "    <tr style=\"text-align: right;\">\n",
       "      <th></th>\n",
       "      <th>ROW_ID</th>\n",
       "      <th>ICD9_CODE</th>\n",
       "      <th>SHORT_TITLE</th>\n",
       "      <th>LONG_TITLE</th>\n",
       "    </tr>\n",
       "  </thead>\n",
       "  <tbody>\n",
       "    <tr>\n",
       "      <th>0</th>\n",
       "      <td>174</td>\n",
       "      <td>01166</td>\n",
       "      <td>TB pneumonia-oth test</td>\n",
       "      <td>Tuberculous pneumonia [any form], tubercle bac...</td>\n",
       "    </tr>\n",
       "    <tr>\n",
       "      <th>1</th>\n",
       "      <td>175</td>\n",
       "      <td>01170</td>\n",
       "      <td>TB pneumothorax-unspec</td>\n",
       "      <td>Tuberculous pneumothorax, unspecified</td>\n",
       "    </tr>\n",
       "    <tr>\n",
       "      <th>2</th>\n",
       "      <td>176</td>\n",
       "      <td>01171</td>\n",
       "      <td>TB pneumothorax-no exam</td>\n",
       "      <td>Tuberculous pneumothorax, bacteriological or h...</td>\n",
       "    </tr>\n",
       "    <tr>\n",
       "      <th>3</th>\n",
       "      <td>177</td>\n",
       "      <td>01172</td>\n",
       "      <td>TB pneumothorx-exam unkn</td>\n",
       "      <td>Tuberculous pneumothorax, bacteriological or h...</td>\n",
       "    </tr>\n",
       "    <tr>\n",
       "      <th>4</th>\n",
       "      <td>178</td>\n",
       "      <td>01173</td>\n",
       "      <td>TB pneumothorax-micro dx</td>\n",
       "      <td>Tuberculous pneumothorax, tubercle bacilli fou...</td>\n",
       "    </tr>\n",
       "  </tbody>\n",
       "</table>\n",
       "</div>"
      ],
      "text/plain": [
       "   ROW_ID ICD9_CODE               SHORT_TITLE  \\\n",
       "0     174     01166     TB pneumonia-oth test   \n",
       "1     175     01170    TB pneumothorax-unspec   \n",
       "2     176     01171   TB pneumothorax-no exam   \n",
       "3     177     01172  TB pneumothorx-exam unkn   \n",
       "4     178     01173  TB pneumothorax-micro dx   \n",
       "\n",
       "                                          LONG_TITLE  \n",
       "0  Tuberculous pneumonia [any form], tubercle bac...  \n",
       "1              Tuberculous pneumothorax, unspecified  \n",
       "2  Tuberculous pneumothorax, bacteriological or h...  \n",
       "3  Tuberculous pneumothorax, bacteriological or h...  \n",
       "4  Tuberculous pneumothorax, tubercle bacilli fou...  "
      ]
     },
     "execution_count": 394,
     "metadata": {},
     "output_type": "execute_result"
    }
   ],
   "source": [
    "icd_df = pd.read_csv('D_ICD_DIAGNOSES.csv')\n",
    "icd_df.head()"
   ]
  },
  {
   "cell_type": "code",
   "execution_count": 395,
   "metadata": {},
   "outputs": [],
   "source": [
    "# icd_df[icd_df.short_codes.isin(codes)]"
   ]
  },
  {
   "cell_type": "code",
   "execution_count": 396,
   "metadata": {},
   "outputs": [],
   "source": [
    "icd_df.columns = ['ROW_ID', 'short_codes', 'SHORT_TITLE', 'LONG_TITLE']"
   ]
  },
  {
   "cell_type": "code",
   "execution_count": 397,
   "metadata": {},
   "outputs": [],
   "source": [
    "def preprocessing(test_df) : \n",
    "    test_df.loc[\n",
    "        test_df['short_codes'].str.startswith(\"V\"), 'short_codes'] = test_df.short_codes.apply(\n",
    "        lambda x: x[:3])\n",
    "    test_df.loc[\n",
    "        test_df['short_codes'].str.startswith(\"E\"), 'short_codes'] = test_df.short_codes.apply(\n",
    "        lambda x: x[:3])\n",
    "    test_df.loc[(~test_df.short_codes.str.startswith(\"E\")) & (\n",
    "        ~test_df.short_codes.str.startswith(\"V\")), 'short_codes'] = test_df.short_codes.apply(\n",
    "        lambda x: x[:2])\n",
    "    return test_df\n",
    "\n",
    "icd_df = preprocessing(icd_df)"
   ]
  },
  {
   "cell_type": "code",
   "execution_count": 398,
   "metadata": {},
   "outputs": [
    {
     "data": {
      "text/html": [
       "<div>\n",
       "<style scoped>\n",
       "    .dataframe tbody tr th:only-of-type {\n",
       "        vertical-align: middle;\n",
       "    }\n",
       "\n",
       "    .dataframe tbody tr th {\n",
       "        vertical-align: top;\n",
       "    }\n",
       "\n",
       "    .dataframe thead th {\n",
       "        text-align: right;\n",
       "    }\n",
       "</style>\n",
       "<table border=\"1\" class=\"dataframe\">\n",
       "  <thead>\n",
       "    <tr style=\"text-align: right;\">\n",
       "      <th></th>\n",
       "      <th>ROW_ID</th>\n",
       "      <th>short_codes</th>\n",
       "      <th>SHORT_TITLE</th>\n",
       "      <th>LONG_TITLE</th>\n",
       "    </tr>\n",
       "  </thead>\n",
       "  <tbody>\n",
       "    <tr>\n",
       "      <th>0</th>\n",
       "      <td>174</td>\n",
       "      <td>01</td>\n",
       "      <td>TB pneumonia-oth test</td>\n",
       "      <td>Tuberculous pneumonia [any form], tubercle bac...</td>\n",
       "    </tr>\n",
       "    <tr>\n",
       "      <th>1</th>\n",
       "      <td>175</td>\n",
       "      <td>01</td>\n",
       "      <td>TB pneumothorax-unspec</td>\n",
       "      <td>Tuberculous pneumothorax, unspecified</td>\n",
       "    </tr>\n",
       "    <tr>\n",
       "      <th>2</th>\n",
       "      <td>176</td>\n",
       "      <td>01</td>\n",
       "      <td>TB pneumothorax-no exam</td>\n",
       "      <td>Tuberculous pneumothorax, bacteriological or h...</td>\n",
       "    </tr>\n",
       "    <tr>\n",
       "      <th>3</th>\n",
       "      <td>177</td>\n",
       "      <td>01</td>\n",
       "      <td>TB pneumothorx-exam unkn</td>\n",
       "      <td>Tuberculous pneumothorax, bacteriological or h...</td>\n",
       "    </tr>\n",
       "    <tr>\n",
       "      <th>4</th>\n",
       "      <td>178</td>\n",
       "      <td>01</td>\n",
       "      <td>TB pneumothorax-micro dx</td>\n",
       "      <td>Tuberculous pneumothorax, tubercle bacilli fou...</td>\n",
       "    </tr>\n",
       "  </tbody>\n",
       "</table>\n",
       "</div>"
      ],
      "text/plain": [
       "   ROW_ID short_codes               SHORT_TITLE  \\\n",
       "0     174          01     TB pneumonia-oth test   \n",
       "1     175          01    TB pneumothorax-unspec   \n",
       "2     176          01   TB pneumothorax-no exam   \n",
       "3     177          01  TB pneumothorx-exam unkn   \n",
       "4     178          01  TB pneumothorax-micro dx   \n",
       "\n",
       "                                          LONG_TITLE  \n",
       "0  Tuberculous pneumonia [any form], tubercle bac...  \n",
       "1              Tuberculous pneumothorax, unspecified  \n",
       "2  Tuberculous pneumothorax, bacteriological or h...  \n",
       "3  Tuberculous pneumothorax, bacteriological or h...  \n",
       "4  Tuberculous pneumothorax, tubercle bacilli fou...  "
      ]
     },
     "execution_count": 398,
     "metadata": {},
     "output_type": "execute_result"
    }
   ],
   "source": [
    "icd_df.head()"
   ]
  },
  {
   "cell_type": "code",
   "execution_count": 399,
   "metadata": {},
   "outputs": [
    {
     "data": {
      "text/html": [
       "<div>\n",
       "<style scoped>\n",
       "    .dataframe tbody tr th:only-of-type {\n",
       "        vertical-align: middle;\n",
       "    }\n",
       "\n",
       "    .dataframe tbody tr th {\n",
       "        vertical-align: top;\n",
       "    }\n",
       "\n",
       "    .dataframe thead th {\n",
       "        text-align: right;\n",
       "    }\n",
       "</style>\n",
       "<table border=\"1\" class=\"dataframe\">\n",
       "  <thead>\n",
       "    <tr style=\"text-align: right;\">\n",
       "      <th></th>\n",
       "      <th>Symptoms</th>\n",
       "      <th>Diseases</th>\n",
       "      <th>id</th>\n",
       "      <th>Category</th>\n",
       "    </tr>\n",
       "  </thead>\n",
       "  <tbody>\n",
       "    <tr>\n",
       "      <th>0</th>\n",
       "      <td>[chest tightness, palpitations, ventricular ec...</td>\n",
       "      <td>[aortic valve fibroelastoma, GERD, Basal Cell ...</td>\n",
       "      <td>109136</td>\n",
       "      <td>21-23</td>\n",
       "    </tr>\n",
       "    <tr>\n",
       "      <th>1</th>\n",
       "      <td>[chest tightness, palpitations, ventricular ec...</td>\n",
       "      <td>[aortic valve fibroelastoma, GERD, Basal Cell ...</td>\n",
       "      <td>109136</td>\n",
       "      <td>24-27</td>\n",
       "    </tr>\n",
       "    <tr>\n",
       "      <th>2</th>\n",
       "      <td>[chest tightness, palpitations, ventricular ec...</td>\n",
       "      <td>[aortic valve fibroelastoma, GERD, Basal Cell ...</td>\n",
       "      <td>109136</td>\n",
       "      <td>39-45</td>\n",
       "    </tr>\n",
       "    <tr>\n",
       "      <th>3</th>\n",
       "      <td>[chest tightness, palpitations, ventricular ec...</td>\n",
       "      <td>[aortic valve fibroelastoma, GERD, Basal Cell ...</td>\n",
       "      <td>109136</td>\n",
       "      <td>28</td>\n",
       "    </tr>\n",
       "    <tr>\n",
       "      <th>4</th>\n",
       "      <td>[chest tightness, palpitations, ventricular ec...</td>\n",
       "      <td>[aortic valve fibroelastoma, GERD, Basal Cell ...</td>\n",
       "      <td>109136</td>\n",
       "      <td>52-57</td>\n",
       "    </tr>\n",
       "    <tr>\n",
       "      <th>...</th>\n",
       "      <td>...</td>\n",
       "      <td>...</td>\n",
       "      <td>...</td>\n",
       "      <td>...</td>\n",
       "    </tr>\n",
       "    <tr>\n",
       "      <th>98021</th>\n",
       "      <td>[chest pain on exertion, marked ST segment dep...</td>\n",
       "      <td>[coronary artery disease, Hypertension, hyperl...</td>\n",
       "      <td>191701</td>\n",
       "      <td>39-45</td>\n",
       "    </tr>\n",
       "    <tr>\n",
       "      <th>98022</th>\n",
       "      <td>[chest pain on exertion, marked ST segment dep...</td>\n",
       "      <td>[coronary artery disease, Hypertension, hyperl...</td>\n",
       "      <td>191701</td>\n",
       "      <td>32-35</td>\n",
       "    </tr>\n",
       "    <tr>\n",
       "      <th>98023</th>\n",
       "      <td>[chest pain on exertion, marked ST segment dep...</td>\n",
       "      <td>[coronary artery disease, Hypertension, hyperl...</td>\n",
       "      <td>191701</td>\n",
       "      <td>39-45</td>\n",
       "    </tr>\n",
       "    <tr>\n",
       "      <th>98024</th>\n",
       "      <td>[chest pain on exertion, marked ST segment dep...</td>\n",
       "      <td>[coronary artery disease, Hypertension, hyperl...</td>\n",
       "      <td>191701</td>\n",
       "      <td>39-45</td>\n",
       "    </tr>\n",
       "    <tr>\n",
       "      <th>98025</th>\n",
       "      <td>[chest pain on exertion, marked ST segment dep...</td>\n",
       "      <td>[coronary artery disease, Hypertension, hyperl...</td>\n",
       "      <td>191701</td>\n",
       "      <td>V10-V19</td>\n",
       "    </tr>\n",
       "  </tbody>\n",
       "</table>\n",
       "<p>94352 rows × 4 columns</p>\n",
       "</div>"
      ],
      "text/plain": [
       "                                                Symptoms  \\\n",
       "0      [chest tightness, palpitations, ventricular ec...   \n",
       "1      [chest tightness, palpitations, ventricular ec...   \n",
       "2      [chest tightness, palpitations, ventricular ec...   \n",
       "3      [chest tightness, palpitations, ventricular ec...   \n",
       "4      [chest tightness, palpitations, ventricular ec...   \n",
       "...                                                  ...   \n",
       "98021  [chest pain on exertion, marked ST segment dep...   \n",
       "98022  [chest pain on exertion, marked ST segment dep...   \n",
       "98023  [chest pain on exertion, marked ST segment dep...   \n",
       "98024  [chest pain on exertion, marked ST segment dep...   \n",
       "98025  [chest pain on exertion, marked ST segment dep...   \n",
       "\n",
       "                                                Diseases      id Category  \n",
       "0      [aortic valve fibroelastoma, GERD, Basal Cell ...  109136    21-23  \n",
       "1      [aortic valve fibroelastoma, GERD, Basal Cell ...  109136    24-27  \n",
       "2      [aortic valve fibroelastoma, GERD, Basal Cell ...  109136    39-45  \n",
       "3      [aortic valve fibroelastoma, GERD, Basal Cell ...  109136       28  \n",
       "4      [aortic valve fibroelastoma, GERD, Basal Cell ...  109136    52-57  \n",
       "...                                                  ...     ...      ...  \n",
       "98021  [coronary artery disease, Hypertension, hyperl...  191701    39-45  \n",
       "98022  [coronary artery disease, Hypertension, hyperl...  191701    32-35  \n",
       "98023  [coronary artery disease, Hypertension, hyperl...  191701    39-45  \n",
       "98024  [coronary artery disease, Hypertension, hyperl...  191701    39-45  \n",
       "98025  [coronary artery disease, Hypertension, hyperl...  191701  V10-V19  \n",
       "\n",
       "[94352 rows x 4 columns]"
      ]
     },
     "execution_count": 399,
     "metadata": {},
     "output_type": "execute_result"
    }
   ],
   "source": [
    "test_df"
   ]
  },
  {
   "cell_type": "code",
   "execution_count": 400,
   "metadata": {},
   "outputs": [],
   "source": [
    "value_counts_df = pd.DataFrame(test_df.Category.value_counts()).reset_index()"
   ]
  },
  {
   "cell_type": "code",
   "execution_count": 401,
   "metadata": {},
   "outputs": [
    {
     "data": {
      "text/html": [
       "<div>\n",
       "<style scoped>\n",
       "    .dataframe tbody tr th:only-of-type {\n",
       "        vertical-align: middle;\n",
       "    }\n",
       "\n",
       "    .dataframe tbody tr th {\n",
       "        vertical-align: top;\n",
       "    }\n",
       "\n",
       "    .dataframe thead th {\n",
       "        text-align: right;\n",
       "    }\n",
       "</style>\n",
       "<table border=\"1\" class=\"dataframe\">\n",
       "  <thead>\n",
       "    <tr style=\"text-align: right;\">\n",
       "      <th></th>\n",
       "      <th>Category</th>\n",
       "      <th>count</th>\n",
       "    </tr>\n",
       "  </thead>\n",
       "  <tbody>\n",
       "    <tr>\n",
       "      <th>0</th>\n",
       "      <td>39-45</td>\n",
       "      <td>23598</td>\n",
       "    </tr>\n",
       "    <tr>\n",
       "      <th>1</th>\n",
       "      <td>24-27</td>\n",
       "      <td>11287</td>\n",
       "    </tr>\n",
       "    <tr>\n",
       "      <th>2</th>\n",
       "      <td>46-51</td>\n",
       "      <td>6835</td>\n",
       "    </tr>\n",
       "    <tr>\n",
       "      <th>3</th>\n",
       "      <td>52-57</td>\n",
       "      <td>6354</td>\n",
       "    </tr>\n",
       "    <tr>\n",
       "      <th>4</th>\n",
       "      <td>58-62</td>\n",
       "      <td>5202</td>\n",
       "    </tr>\n",
       "  </tbody>\n",
       "</table>\n",
       "</div>"
      ],
      "text/plain": [
       "  Category  count\n",
       "0    39-45  23598\n",
       "1    24-27  11287\n",
       "2    46-51   6835\n",
       "3    52-57   6354\n",
       "4    58-62   5202"
      ]
     },
     "execution_count": 401,
     "metadata": {},
     "output_type": "execute_result"
    }
   ],
   "source": [
    "value_counts_df.head()"
   ]
  },
  {
   "cell_type": "code",
   "execution_count": 402,
   "metadata": {},
   "outputs": [
    {
     "data": {
      "text/plain": [
       "['39-45',\n",
       " '24-27',\n",
       " '46-51',\n",
       " '52-57',\n",
       " '58-62',\n",
       " '29-31',\n",
       " '28',\n",
       " '96-99',\n",
       " '78',\n",
       " 'V10-V19']"
      ]
     },
     "execution_count": 402,
     "metadata": {},
     "output_type": "execute_result"
    }
   ],
   "source": [
    "list(value_counts_df.iloc[:10].Category)"
   ]
  },
  {
   "cell_type": "markdown",
   "metadata": {},
   "source": [
    "### Get all the true and predicted labels based on the input symptoms"
   ]
  },
  {
   "cell_type": "code",
   "execution_count": null,
   "metadata": {},
   "outputs": [],
   "source": []
  },
  {
   "cell_type": "code",
   "execution_count": 403,
   "metadata": {},
   "outputs": [],
   "source": [
    "classes = list(set(test_df.Category))"
   ]
  },
  {
   "cell_type": "code",
   "execution_count": 404,
   "metadata": {},
   "outputs": [
    {
     "data": {
      "text/plain": [
       "38"
      ]
     },
     "execution_count": 404,
     "metadata": {},
     "output_type": "execute_result"
    }
   ],
   "source": [
    "len(classes)"
   ]
  },
  {
   "cell_type": "code",
   "execution_count": 1124,
   "metadata": {},
   "outputs": [
    {
     "name": "stderr",
     "output_type": "stream",
     "text": [
      "8733it [02:36, 55.78it/s]\n"
     ]
    }
   ],
   "source": [
    "\n",
    "\n",
    "true_labels = []\n",
    "predicted_labels = []\n",
    "\n",
    "for i,j in tqdm(raw_test_df.iterrows()): \n",
    "        true_label = j.Category.split(',')\n",
    "        true_labels.append(list(set(true_label)))\n",
    "    \n",
    "        pred_labels = get_prioritized_relationships(j.Symptoms,weightage=1,limit= 10 )[0]\n",
    "        predicted_labels.append(pred_labels)\n",
    "\n"
   ]
  },
  {
   "cell_type": "code",
   "execution_count": 601,
   "metadata": {},
   "outputs": [],
   "source": [
    "# for i in range(1000) :\n",
    "#     true_ =  true_labels[i]\n",
    "#     pred = predicted_labels[i]\n",
    "#     matching = set(true_labels[i]).intersection(set(predicted_labels[i]))\n",
    "#     if  (len(true_) == len(matching) or len(pred) == len(matching)) and len(matching)>=5 : \n",
    "#         print(i)"
   ]
  },
  {
   "cell_type": "code",
   "execution_count": 1125,
   "metadata": {},
   "outputs": [
    {
     "name": "stdout",
     "output_type": "stream",
     "text": [
      "True : ['14-20', '24-27'], \n",
      "Predicted : ['24-27', '28', '29-31', '39-45', '46-51', '52-57', '58-62', '78', '96-99', 'V50-V59'],\n",
      "Matching : ['24-27']\n"
     ]
    }
   ],
   "source": [
    "i = 0\n",
    "print(f'True : {sorted(true_labels[i])}, \\nPredicted : {sorted(predicted_labels[i])},\\nMatching : {sorted(set(true_labels[i]).intersection(set(predicted_labels[i])))}')"
   ]
  },
  {
   "cell_type": "code",
   "execution_count": null,
   "metadata": {},
   "outputs": [],
   "source": []
  },
  {
   "cell_type": "code",
   "execution_count": 1126,
   "metadata": {},
   "outputs": [
    {
     "name": "stdout",
     "output_type": "stream",
     "text": [
      "AUROC Score: 0.5204540895547124\n"
     ]
    }
   ],
   "source": [
    "    \n",
    "true_binary_matrix = create_binary_matrix(true_labels, classes)\n",
    "predicted_binary_matrix = create_binary_matrix(predicted_labels, classes)\n",
    "\n",
    "auroc_score = roc_auc(predicted_binary_matrix, true_binary_matrix, multilabel=True)\n",
    "print(f\"AUROC Score: {auroc_score}\")"
   ]
  },
  {
   "cell_type": "code",
   "execution_count": 676,
   "metadata": {},
   "outputs": [],
   "source": [
    "from sklearn.metrics import precision_score, recall_score, f1_score"
   ]
  },
  {
   "cell_type": "code",
   "execution_count": 1129,
   "metadata": {},
   "outputs": [
    {
     "data": {
      "text/plain": [
       "0.4266371041367781"
      ]
     },
     "execution_count": 1129,
     "metadata": {},
     "output_type": "execute_result"
    }
   ],
   "source": [
    "precision = precision_score(true_binary_matrix, predicted_binary_matrix, average='micro')\n",
    "precision"
   ]
  },
  {
   "cell_type": "code",
   "execution_count": 678,
   "metadata": {},
   "outputs": [
    {
     "data": {
      "text/plain": [
       "(8733, 38)"
      ]
     },
     "execution_count": 678,
     "metadata": {},
     "output_type": "execute_result"
    }
   ],
   "source": [
    "true_binary_matrix.shape"
   ]
  },
  {
   "cell_type": "code",
   "execution_count": 1127,
   "metadata": {},
   "outputs": [
    {
     "data": {
      "text/plain": [
       "0.6613063294861428"
      ]
     },
     "execution_count": 1127,
     "metadata": {},
     "output_type": "execute_result"
    }
   ],
   "source": [
    "recall = recall_score(true_binary_matrix, predicted_binary_matrix, average='micro')\n",
    "recall"
   ]
  },
  {
   "cell_type": "code",
   "execution_count": 1128,
   "metadata": {},
   "outputs": [
    {
     "data": {
      "text/plain": [
       "0.5186626595460999"
      ]
     },
     "execution_count": 1128,
     "metadata": {},
     "output_type": "execute_result"
    }
   ],
   "source": [
    "f1_score_ = f1_score(true_binary_matrix, predicted_binary_matrix, average='micro')\n",
    "f1_score_"
   ]
  },
  {
   "cell_type": "code",
   "execution_count": 665,
   "metadata": {},
   "outputs": [
    {
     "name": "stdout",
     "output_type": "stream",
     "text": [
      "AUROC Score :0.5191596522074695 \n",
      "Precision Score :0.46485458085068726 \n",
      "Recall Score :0.57926560317577 \n",
      "F1 Score :0.5157917130326635 \n"
     ]
    }
   ],
   "source": [
    "print(f'AUROC Score :{auroc_score} ')\n",
    "print(f'Precision Score :{precision} ')\n",
    "print(f'Recall Score :{recall} ')\n",
    "print(f'F1 Score :{f1_score_} ')"
   ]
  },
  {
   "cell_type": "code",
   "execution_count": 609,
   "metadata": {},
   "outputs": [
    {
     "data": {
      "text/plain": [
       "<generator object DataFrame.iterrows at 0x336352f00>"
      ]
     },
     "execution_count": 609,
     "metadata": {},
     "output_type": "execute_result"
    }
   ],
   "source": [
    "raw_test_df.iterrows()"
   ]
  },
  {
   "cell_type": "code",
   "execution_count": 328,
   "metadata": {},
   "outputs": [
    {
     "data": {
      "text/html": [
       "<div>\n",
       "<style scoped>\n",
       "    .dataframe tbody tr th:only-of-type {\n",
       "        vertical-align: middle;\n",
       "    }\n",
       "\n",
       "    .dataframe tbody tr th {\n",
       "        vertical-align: top;\n",
       "    }\n",
       "\n",
       "    .dataframe thead th {\n",
       "        text-align: right;\n",
       "    }\n",
       "</style>\n",
       "<table border=\"1\" class=\"dataframe\">\n",
       "  <thead>\n",
       "    <tr style=\"text-align: right;\">\n",
       "      <th></th>\n",
       "      <th>id</th>\n",
       "      <th>Symptoms</th>\n",
       "      <th>Diseases</th>\n",
       "      <th>Category</th>\n",
       "    </tr>\n",
       "  </thead>\n",
       "  <tbody>\n",
       "    <tr>\n",
       "      <th>0</th>\n",
       "      <td>100019</td>\n",
       "      <td>[heart murmur since childhood, increase in the...</td>\n",
       "      <td>[Bicuspid aortic valve, Dilated aorta, Aortic ...</td>\n",
       "      <td>39-45,74-75,39-45,78</td>\n",
       "    </tr>\n",
       "    <tr>\n",
       "      <th>1</th>\n",
       "      <td>100028</td>\n",
       "      <td>[Right upper quadrant pain, Fever, Elevated LF...</td>\n",
       "      <td>[Mild mental retardation, Cholangitis, Choledo...</td>\n",
       "      <td>52-57,00-10,46-51,52-57,96-99,39-45,28,84-95</td>\n",
       "    </tr>\n",
       "    <tr>\n",
       "      <th>2</th>\n",
       "      <td>100038</td>\n",
       "      <td>[dizziness, nausea, vomiting, chest pain, hypo...</td>\n",
       "      <td>[HTN, DM 2, hyperlipidemia, CAD s/p 4V CABG, a...</td>\n",
       "      <td>39-45,58-62,24-27,78,39-45,24-27,39-45,28,V40-...</td>\n",
       "    </tr>\n",
       "    <tr>\n",
       "      <th>3</th>\n",
       "      <td>100058</td>\n",
       "      <td>[midback pain, severe headache, vomiting, fati...</td>\n",
       "      <td>[ACA aneurysm, intracranial aneurysm, subarach...</td>\n",
       "      <td>39-45,24-27,29-31,32-35,78</td>\n",
       "    </tr>\n",
       "    <tr>\n",
       "      <th>4</th>\n",
       "      <td>100104</td>\n",
       "      <td>[abdominal pain, nausea, vomiting, diarrhea, f...</td>\n",
       "      <td>[perforated diverticulitis, septic shock, acut...</td>\n",
       "      <td>00-10,78,52-57,52-57,52-57,58-62,96-99,52-57,9...</td>\n",
       "    </tr>\n",
       "    <tr>\n",
       "      <th>...</th>\n",
       "      <td>...</td>\n",
       "      <td>...</td>\n",
       "      <td>...</td>\n",
       "      <td>...</td>\n",
       "    </tr>\n",
       "    <tr>\n",
       "      <th>2681</th>\n",
       "      <td>199900</td>\n",
       "      <td>[Abdominal pain, Nausea, Vomiting, Stopped pas...</td>\n",
       "      <td>[Hepatitis C, Liver fibrosis, Small bowel obst...</td>\n",
       "      <td>52-57,52-57,52-57,24-27,58-62,46-51,46-51,78,0...</td>\n",
       "    </tr>\n",
       "    <tr>\n",
       "      <th>2682</th>\n",
       "      <td>199929</td>\n",
       "      <td>[unresponsive, rigidity, delirium, chills, mou...</td>\n",
       "      <td>[sepsis, splenic vein thrombosis, ulcerative c...</td>\n",
       "      <td>00-10,52-57,39-45,52-57,24-27,V40-V49,24-27,96...</td>\n",
       "    </tr>\n",
       "    <tr>\n",
       "      <th>2683</th>\n",
       "      <td>199969</td>\n",
       "      <td>[Abdominal tenderness, Right bundle branch blo...</td>\n",
       "      <td>[Abdominal aortic aneurysm, Cardiac history, L...</td>\n",
       "      <td>39-45,39-45,24-27,28,24-27,46-51,39-45,71-73,3...</td>\n",
       "    </tr>\n",
       "    <tr>\n",
       "      <th>2684</th>\n",
       "      <td>199971</td>\n",
       "      <td>[Shortness of breath, Chest heaviness]</td>\n",
       "      <td>[Mitral regurgitation, Hypertension, Sleep apn...</td>\n",
       "      <td>39-45,28,71-73,39-45,24-27,78,V40-V49</td>\n",
       "    </tr>\n",
       "    <tr>\n",
       "      <th>2685</th>\n",
       "      <td>199984</td>\n",
       "      <td>[Chest pain, UTI, Intermittent chest pressure,...</td>\n",
       "      <td>[Coronary Artery Disease, Urinary Tract Infect...</td>\n",
       "      <td>39-45,58-62,39-45,39-45,24-27,39-45,24-27,52-5...</td>\n",
       "    </tr>\n",
       "  </tbody>\n",
       "</table>\n",
       "<p>2686 rows × 4 columns</p>\n",
       "</div>"
      ],
      "text/plain": [
       "          id                                           Symptoms  \\\n",
       "0     100019  [heart murmur since childhood, increase in the...   \n",
       "1     100028  [Right upper quadrant pain, Fever, Elevated LF...   \n",
       "2     100038  [dizziness, nausea, vomiting, chest pain, hypo...   \n",
       "3     100058  [midback pain, severe headache, vomiting, fati...   \n",
       "4     100104  [abdominal pain, nausea, vomiting, diarrhea, f...   \n",
       "...      ...                                                ...   \n",
       "2681  199900  [Abdominal pain, Nausea, Vomiting, Stopped pas...   \n",
       "2682  199929  [unresponsive, rigidity, delirium, chills, mou...   \n",
       "2683  199969  [Abdominal tenderness, Right bundle branch blo...   \n",
       "2684  199971             [Shortness of breath, Chest heaviness]   \n",
       "2685  199984  [Chest pain, UTI, Intermittent chest pressure,...   \n",
       "\n",
       "                                               Diseases  \\\n",
       "0     [Bicuspid aortic valve, Dilated aorta, Aortic ...   \n",
       "1     [Mild mental retardation, Cholangitis, Choledo...   \n",
       "2     [HTN, DM 2, hyperlipidemia, CAD s/p 4V CABG, a...   \n",
       "3     [ACA aneurysm, intracranial aneurysm, subarach...   \n",
       "4     [perforated diverticulitis, septic shock, acut...   \n",
       "...                                                 ...   \n",
       "2681  [Hepatitis C, Liver fibrosis, Small bowel obst...   \n",
       "2682  [sepsis, splenic vein thrombosis, ulcerative c...   \n",
       "2683  [Abdominal aortic aneurysm, Cardiac history, L...   \n",
       "2684  [Mitral regurgitation, Hypertension, Sleep apn...   \n",
       "2685  [Coronary Artery Disease, Urinary Tract Infect...   \n",
       "\n",
       "                                               Category  \n",
       "0                                  39-45,74-75,39-45,78  \n",
       "1          52-57,00-10,46-51,52-57,96-99,39-45,28,84-95  \n",
       "2     39-45,58-62,24-27,78,39-45,24-27,39-45,28,V40-...  \n",
       "3                            39-45,24-27,29-31,32-35,78  \n",
       "4     00-10,78,52-57,52-57,52-57,58-62,96-99,52-57,9...  \n",
       "...                                                 ...  \n",
       "2681  52-57,52-57,52-57,24-27,58-62,46-51,46-51,78,0...  \n",
       "2682  00-10,52-57,39-45,52-57,24-27,V40-V49,24-27,96...  \n",
       "2683  39-45,39-45,24-27,28,24-27,46-51,39-45,71-73,3...  \n",
       "2684              39-45,28,71-73,39-45,24-27,78,V40-V49  \n",
       "2685  39-45,58-62,39-45,39-45,24-27,39-45,24-27,52-5...  \n",
       "\n",
       "[2686 rows x 4 columns]"
      ]
     },
     "execution_count": 328,
     "metadata": {},
     "output_type": "execute_result"
    }
   ],
   "source": [
    "raw_test_df"
   ]
  },
  {
   "cell_type": "code",
   "execution_count": 647,
   "metadata": {},
   "outputs": [
    {
     "data": {
      "image/png": "[encoded data removed]",
      "text/plain": [
       "<Figure size 1000x500 with 1 Axes>"
      ]
     },
     "metadata": {},
     "output_type": "display_data"
    }
   ],
   "source": [
    "plt.figure(figsize=(10,5))\n",
    "plt.hist(test_df.id.value_counts(),bins =20)\n",
    "plt.xticks(range(0,40))\n",
    "plt.title('Number of ICD-9 codes distribution across multiple subjectids ')\n",
    "plt.show()"
   ]
  },
  {
   "cell_type": "code",
   "execution_count": 651,
   "metadata": {},
   "outputs": [
    {
     "name": "stdout",
     "output_type": "stream",
     "text": [
      "Dictionary of count of counts:\n",
      " {8: 950, 9: 848, 7: 831, 6: 613, 10: 506, 11: 478, 5: 477, 12: 472, 13: 394, 4: 351, 14: 339, 16: 329, 15: 327, 17: 254, 3: 243, 18: 218, 19: 170, 20: 152, 2: 150, 21: 101, 22: 91, 23: 75, 1: 62, 24: 56, 26: 45, 25: 44, 27: 32, 28: 32, 29: 20, 31: 17, 30: 12, 32: 9, 33: 8, 36: 7, 37: 6, 34: 6, 38: 5, 35: 3}\n"
     ]
    }
   ],
   "source": [
    "value_counts = test_df['id'].value_counts()\n",
    "\n",
    "count_of_counts = value_counts.value_counts()\n",
    "\n",
    "\n",
    "count_of_counts_dict = count_of_counts.to_dict()\n",
    "\n",
    "# Display the dictionary\n",
    "print(\"Dictionary of count of counts:\\n\", count_of_counts_dict)"
   ]
  },
  {
   "cell_type": "code",
   "execution_count": 668,
   "metadata": {},
   "outputs": [],
   "source": [
    "precision_list = []\n",
    "for i,j in count_of_counts_dict.items() : \n",
    "    if i <=8 : \n",
    "        precision = j/(j+count_of_counts_dict[8])\n",
    "        precision_list.append(precision)\n",
    "    else : \n",
    "        precision_list.append(1)\n",
    "        "
   ]
  },
  {
   "cell_type": "code",
   "execution_count": 670,
   "metadata": {},
   "outputs": [],
   "source": [
    "assert len(precision_list) == len(list(count_of_counts_dict.keys()))"
   ]
  },
  {
   "cell_type": "code",
   "execution_count": 671,
   "metadata": {},
   "outputs": [
    {
     "data": {
      "text/plain": [
       "0.8516885026702594"
      ]
     },
     "execution_count": 671,
     "metadata": {},
     "output_type": "execute_result"
    }
   ],
   "source": [
    "np.mean(precision_list)"
   ]
  },
  {
   "cell_type": "code",
   "execution_count": 660,
   "metadata": {},
   "outputs": [
    {
     "data": {
      "text/plain": [
       "8733"
      ]
     },
     "execution_count": 660,
     "metadata": {},
     "output_type": "execute_result"
    }
   ],
   "source": [
    "sum(count_of_counts)"
   ]
  },
  {
   "cell_type": "code",
   "execution_count": 661,
   "metadata": {},
   "outputs": [
    {
     "data": {
      "text/plain": [
       "9.0"
      ]
     },
     "execution_count": 661,
     "metadata": {},
     "output_type": "execute_result"
    }
   ],
   "source": [
    "np.median(list(test_df.id.value_counts()))"
   ]
  },
  {
   "cell_type": "code",
   "execution_count": 483,
   "metadata": {},
   "outputs": [
    {
     "name": "stderr",
     "output_type": "stream",
     "text": [
      "Weightage: 100%|██████████| 39/39 [01:04<00:00,  1.65s/it]"
     ]
    },
    {
     "name": "stdout",
     "output_type": "stream",
     "text": [
      "Best Weightage: 22\n",
      "Best Limit: 41\n",
      "Best AUROC Score: 0.5662835426676627\n"
     ]
    },
    {
     "name": "stderr",
     "output_type": "stream",
     "text": [
      "\n"
     ]
    }
   ],
   "source": [
    "weightage_range = range(1,40)\n",
    "limit_range = [41]\n",
    "\n",
    "best_weightage = None\n",
    "best_limit = None\n",
    "best_auroc_score = -np.inf\n",
    "\n",
    "for weightage in tqdm(weightage_range, desc='Weightage'):\n",
    "    for limit in tqdm(limit_range, desc='Limit', leave=False):\n",
    "        \n",
    "        true_labels = []\n",
    "        predicted_labels = []\n",
    "        \n",
    "        for i, j in raw_test_df.iterrows(): \n",
    "            true_label = j.Category.split(',')\n",
    "            true_labels.append(list(set(true_label)))\n",
    "            pred_labels = get_prioritized_relationships(j.Symptoms, weightage=weightage, limit=limit)[0]\n",
    "            predicted_labels.append(pred_labels)\n",
    "            if i == 100: \n",
    "                break\n",
    "        \n",
    "        true_binary_matrix = create_binary_matrix(true_labels, classes)\n",
    "        predicted_binary_matrix = create_binary_matrix(predicted_labels, classes)\n",
    "        \n",
    "        auroc_score = roc_auc(predicted_binary_matrix, true_binary_matrix, multilabel=True)\n",
    "        \n",
    "        if auroc_score > best_auroc_score:\n",
    "            best_auroc_score = auroc_score\n",
    "            best_weightage = weightage\n",
    "            best_limit = limit\n",
    "\n",
    "print(f\"Best Weightage: {best_weightage}\")\n",
    "print(f\"Best Limit: {best_limit}\")\n",
    "print(f\"Best AUROC Score: {best_auroc_score}\")\n"
   ]
  },
  {
   "cell_type": "code",
   "execution_count": 484,
   "metadata": {},
   "outputs": [
    {
     "name": "stderr",
     "output_type": "stream",
     "text": [
      "Weightage: 100%|██████████| 39/39 [01:18<00:00,  2.02s/it]"
     ]
    },
    {
     "name": "stdout",
     "output_type": "stream",
     "text": [
      "Best Weightage: 1\n",
      "Best Limit: 41\n",
      "Best Recall Score: 0.9697933227344993\n"
     ]
    },
    {
     "name": "stderr",
     "output_type": "stream",
     "text": [
      "\n"
     ]
    }
   ],
   "source": [
    "# weightage_range = [2,3,5,7,10,15,20] \n",
    "# limit_range = [4,5,6,7,8,9,10,12,15,20,25,30]\n",
    "weightage_range = range(1,40)\n",
    "limit_range = [41]\n",
    "\n",
    "best_weightage = None\n",
    "best_limit = None\n",
    "best_recall_score = -np.inf\n",
    "\n",
    "\n",
    "for weightage in tqdm(weightage_range, desc='Weightage'):\n",
    "    for limit in tqdm(limit_range, desc='Limit', leave=False):\n",
    "        \n",
    "        true_labels = []\n",
    "        predicted_labels = []\n",
    "        \n",
    "        for i, j in raw_test_df.iterrows(): \n",
    "            true_label = j.Category.split(',')\n",
    "            true_labels.append(true_label)\n",
    "            pred_labels = get_prioritized_relationships(j.Symptoms, weightage=weightage, limit=limit)[0]\n",
    "            predicted_labels.append(pred_labels)\n",
    "            if i == 100:  \n",
    "                break\n",
    "        \n",
    "        true_binary_matrix = create_binary_matrix(true_labels, classes)\n",
    "        predicted_binary_matrix = create_binary_matrix(predicted_labels, classes)\n",
    "       \n",
    "        recall = recall_score(true_binary_matrix, predicted_binary_matrix, average='micro')\n",
    "    \n",
    "        if recall > best_recall_score:\n",
    "            best_recall_score = recall\n",
    "            best_weightage = weightage\n",
    "            best_limit = limit\n",
    "\n",
    "print(f\"Best Weightage: {best_weightage}\")\n",
    "print(f\"Best Limit: {best_limit}\")\n",
    "print(f\"Best Recall Score: {best_recall_score}\")\n"
   ]
  },
  {
   "cell_type": "code",
   "execution_count": 485,
   "metadata": {},
   "outputs": [],
   "source": [
    "from sklearn.metrics import precision_score, recall_score, f1_score"
   ]
  },
  {
   "cell_type": "code",
   "execution_count": 672,
   "metadata": {},
   "outputs": [
    {
     "name": "stderr",
     "output_type": "stream",
     "text": [
      "Weightage: 100%|██████████| 1/1 [00:11<00:00, 11.29s/it]"
     ]
    },
    {
     "name": "stdout",
     "output_type": "stream",
     "text": [
      "Best Weightage: 1\n",
      "Best Limit: 10\n",
      "Best Precision Score: 0.531130876747141\n"
     ]
    },
    {
     "name": "stderr",
     "output_type": "stream",
     "text": [
      "\n"
     ]
    }
   ],
   "source": [
    "# weightage_range = [2,3,5,7,10,15,20] \n",
    "# limit_range = [4,5,6,7,8,9,10,12,15,20,25,30]\n",
    "weightage_range = [1]\n",
    "limit_range = [5,10,15,20,25,30,35]\n",
    "\n",
    "best_weightage = None\n",
    "best_limit = None\n",
    "best_precision_score = -np.inf\n",
    "\n",
    "for weightage in tqdm(weightage_range, desc='Weightage'):\n",
    "    for limit in tqdm(limit_range, desc='Limit', leave=False):\n",
    "        \n",
    "        true_labels = []\n",
    "        predicted_labels = []\n",
    "        \n",
    "        for i, j in raw_test_df.iterrows(): \n",
    "            true_label = j.Category.split(',')\n",
    "            true_labels.append(true_label)\n",
    "            pred_labels = get_prioritized_relationships(j.Symptoms, weightage=weightage, limit=limit)[0]\n",
    "            predicted_labels.append(pred_labels)\n",
    "            if i == 100:  \n",
    "                break\n",
    "        \n",
    "        true_binary_matrix = create_binary_matrix(true_labels, classes)\n",
    "        predicted_binary_matrix = create_binary_matrix(predicted_labels, classes)\n",
    "        \n",
    "        precision = f1_score(true_binary_matrix, predicted_binary_matrix, average='micro')\n",
    "        \n",
    "   \n",
    "        if precision > best_precision_score:\n",
    "            best_precision_score = precision\n",
    "            best_weightage = weightage\n",
    "            best_limit = limit\n",
    "\n",
    "print(f\"Best Weightage: {best_weightage}\")\n",
    "print(f\"Best Limit: {best_limit}\")\n",
    "print(f\"Best Precision Score: {best_precision_score}\")\n"
   ]
  },
  {
   "cell_type": "markdown",
   "metadata": {},
   "source": [
    "> #### Check if the classes are in test dataset or not"
   ]
  },
  {
   "cell_type": "code",
   "execution_count": 213,
   "metadata": {},
   "outputs": [
    {
     "data": {
      "text/plain": [
       "(array([[1, 0, 0, 0, 0, 0],\n",
       "        [0, 0, 1, 0, 1, 1]]),\n",
       " array([[1, 0, 0, 1, 0, 0],\n",
       "        [0, 0, 1, 0, 1, 0]]))"
      ]
     },
     "execution_count": 213,
     "metadata": {},
     "output_type": "execute_result"
    }
   ],
   "source": [
    "classes = ['276', '428', '518', '038', '427', '584']  \n",
    "\n",
    "def create_binary_matrix(labels, classes):\n",
    " \n",
    "    binary_matrix = np.zeros((len(labels), len(classes)), dtype=int)\n",
    "    \n",
    "\n",
    "    for i, label_list in enumerate(labels):\n",
    "        for label in label_list:\n",
    "            if label in classes:\n",
    "                idx = classes.index(label)\n",
    "                binary_matrix[i, idx] = 1\n",
    "                \n",
    "    return binary_matrix\n",
    "\n",
    "true_labels = [\n",
    "    ['276', '498','034'],  \n",
    "    ['427', '584','518']\n",
    "\n",
    "]\n",
    "\n",
    "predicted_labels = [\n",
    "    ['276', '038','034'],  \n",
    "    ['927', '427','518']\n",
    "\n",
    "]\n",
    "\n",
    "true_binary_matrix = create_binary_matrix(true_labels, classes)\n",
    "predicted_binary_matrix = create_binary_matrix(predicted_labels, classes)\n",
    "true_binary_matrix, predicted_binary_matrix"
   ]
  },
  {
   "cell_type": "code",
   "execution_count": 214,
   "metadata": {},
   "outputs": [
    {
     "name": "stdout",
     "output_type": "stream",
     "text": [
      "[[1 0 0 0]\n",
      " [0 1 1 1]]\n",
      "[[1 0 0 0]\n",
      " [0 1 1 0]]\n",
      "2 columns not considered for ROC AUC calculation!\n",
      "AUROC Score: 0.875\n"
     ]
    }
   ],
   "source": [
    "def roc_auc(probs, labels, multilabel=False, average='macro', multi_class='ovo'):\n",
    "    if isinstance(labels, list):\n",
    "        labels = np.array(labels, dtype=int)\n",
    "    else:\n",
    "        labels = labels.astype(int)\n",
    "\n",
    "    y_score = probs\n",
    "\n",
    "    if multilabel:\n",
    "\n",
    "        dim_size = len(labels[0])\n",
    "        \n",
    "        mask = np.ones((dim_size), dtype=bool)\n",
    "        \n",
    "        for c in range(dim_size):\n",
    "            if max(labels[:, c]) == 0:\n",
    "                mask[c] = False\n",
    "\n",
    "        labels = labels[:, mask]\n",
    "        y_score = np.array(probs)[:, mask]\n",
    "        \n",
    "        print(labels)\n",
    "        print(y_score)\n",
    "        filtered_cols = np.count_nonzero(mask == False)\n",
    "        print(f\"{filtered_cols} columns not considered for ROC AUC calculation!\")\n",
    "\n",
    "    return roc_auc_score(y_true=labels, y_score=y_score, average=average, multi_class=multi_class)\n",
    "\n",
    "\n",
    "auroc_score = roc_auc(predicted_binary_matrix, true_binary_matrix, multilabel=True)\n",
    "print(f\"AUROC Score: {auroc_score}\")\n"
   ]
  },
  {
   "cell_type": "code",
   "execution_count": 215,
   "metadata": {},
   "outputs": [],
   "source": []
  },
  {
   "cell_type": "code",
   "execution_count": 216,
   "metadata": {},
   "outputs": [
    {
     "name": "stdout",
     "output_type": "stream",
     "text": [
      "Precision: 0.5\n",
      "Recall: 0.5\n",
      "F1-Score: 0.5\n"
     ]
    }
   ],
   "source": [
    "precision = precision_score(true_binary_matrix, predicted_binary_matrix, average='macro', zero_division=0)\n",
    "recall = recall_score(true_binary_matrix, predicted_binary_matrix, average='macro', zero_division=0)\n",
    "f1 = f1_score(true_binary_matrix, predicted_binary_matrix, average='macro', zero_division=0)\n",
    "\n",
    "print(f\"Precision: {precision}\")\n",
    "print(f\"Recall: {recall}\")\n",
    "print(f\"F1-Score: {f1}\")"
   ]
  },
  {
   "cell_type": "markdown",
   "metadata": {},
   "source": [
    "# CODE RANGE ICD-9-CM SECTIONS\n",
    "\n",
    "- **001-139** INFECTIOUS AND PARASITIC DISEASES (001-139)\n",
    "- **140-239** NEOPLASMS (140-239)\n",
    "- **240-279** ENDOCRINE, NUTRITIONAL AND METABOLIC DISEASES, AND IMMUNITY DISORDERS (240-279)\n",
    "- **280-289** DISEASES OF THE BLOOD AND BLOOD-FORMING ORGANS (280-289)\n",
    "- **290-319** MENTAL, BEHAVIORAL AND NEURODEVELOPMENTAL DISORDERS (290-319)\n",
    "- **320-389** DISEASES OF THE NERVOUS SYSTEM AND SENSE ORGANS (320-389)\n",
    "- **390-459** DISEASES OF THE CIRCULATORY SYSTEM (390-459)\n",
    "- **460-519** DISEASES OF THE RESPIRATORY SYSTEM (460-519)\n",
    "- **520-579** DISEASES OF THE DIGESTIVE SYSTEM (520-579)\n",
    "- **580-629** DISEASES OF THE GENITOURINARY SYSTEM (580-629)\n",
    "- **630-679** COMPLICATIONS OF PREGNANCY, CHILDBIRTH, AND THE PUERPERIUM (630-679)\n",
    "- **680-709** DISEASES OF THE SKIN AND SUBCUTANEOUS TISSUE (680-709)\n",
    "- **710-739** DISEASES OF THE MUSCULOSKELETAL SYSTEM AND CONNECTIVE TISSUE (710-739)\n",
    "- **740-759** CONGENITAL ANOMALIES (740-759)\n",
    "- **760-779** CERTAIN CONDITIONS ORIGINATING IN THE PERINATAL PERIOD (760-779)\n",
    "- **780-799** SYMPTOMS, SIGNS, AND ILL-DEFINED CONDITIONS (780-799)\n",
    "- **800-999** INJURY AND POISONING (800-999)\n",
    "- **E000-E999** SUPPLEMENTARY CLASSIFICATION OF EXTERNAL CAUSES OF INJURY AND POISONING (E000-E999)\n",
    "- **V01-V91** SUPPLEMENTARY CLASSIFICATION OF FACTORS INFLUENCING HEALTH STATUS AND CONTACT WITH HEALTH SERVICES (V01-V91)\n"
   ]
  },
  {
   "cell_type": "code",
   "execution_count": 224,
   "metadata": {},
   "outputs": [],
   "source": [
    "short_codes_inst = test_df.copy()"
   ]
  },
  {
   "cell_type": "markdown",
   "metadata": {},
   "source": [
    "### Neoplasms"
   ]
  },
  {
   "cell_type": "code",
   "execution_count": 234,
   "metadata": {},
   "outputs": [],
   "source": [
    "neoplasm_list = []\n",
    "for i,j in test_df.iterrows() :\n",
    "    try :\n",
    "        j.short_codes = int(j.short_codes) \n",
    "        if (j.short_codes>=140) & (j.short_codes<=239) : \n",
    "            neoplasm_list.append(j)\n",
    "    except : \n",
    "        continue"
   ]
  },
  {
   "cell_type": "code",
   "execution_count": 236,
   "metadata": {},
   "outputs": [
    {
     "data": {
      "text/html": [
       "<div>\n",
       "<style scoped>\n",
       "    .dataframe tbody tr th:only-of-type {\n",
       "        vertical-align: middle;\n",
       "    }\n",
       "\n",
       "    .dataframe tbody tr th {\n",
       "        vertical-align: top;\n",
       "    }\n",
       "\n",
       "    .dataframe thead th {\n",
       "        text-align: right;\n",
       "    }\n",
       "</style>\n",
       "<table border=\"1\" class=\"dataframe\">\n",
       "  <thead>\n",
       "    <tr style=\"text-align: right;\">\n",
       "      <th></th>\n",
       "      <th>Symptoms</th>\n",
       "      <th>Diseases</th>\n",
       "      <th>id</th>\n",
       "      <th>icd_9_desc</th>\n",
       "      <th>text</th>\n",
       "      <th>long_texts</th>\n",
       "      <th>short_texts</th>\n",
       "      <th>discharge_summary</th>\n",
       "      <th>short_codes</th>\n",
       "    </tr>\n",
       "  </thead>\n",
       "  <tbody>\n",
       "    <tr>\n",
       "      <th>0</th>\n",
       "      <td>[chest tightness, palpitations, ventricular ec...</td>\n",
       "      <td>[aortic valve fibroelastoma, GERD, Basal Cell ...</td>\n",
       "      <td>109136</td>\n",
       "      <td>Benign neoplasm of heart,Obesity, unspecified,...</td>\n",
       "      <td>CHIEF COMPLAINT: known aortic valve fibroelast...</td>\n",
       "      <td>Benign neoplasm of heart,Obesity, unspecified,...</td>\n",
       "      <td>Benign neoplasm heart,Obesity NOS,Angina pecto...</td>\n",
       "      <td>Admission Date:  [**2149-11-19**]             ...</td>\n",
       "      <td>212</td>\n",
       "    </tr>\n",
       "    <tr>\n",
       "      <th>1</th>\n",
       "      <td>[hematocrit drop, dark stool, melenotic-appear...</td>\n",
       "      <td>[left distal radius fracture, left ulna fractu...</td>\n",
       "      <td>109589</td>\n",
       "      <td>Closed fracture of lower end of radius with ul...</td>\n",
       "      <td>CHIEF COMPLAINT: fall\\n\\nPRESENT ILLNESS: [**A...</td>\n",
       "      <td>Closed fracture of lower end of radius with ul...</td>\n",
       "      <td>Fx low radius w ulna-cl,Blood in stool,Thrombo...</td>\n",
       "      <td>Admission Date:  [**2165-4-24**]              ...</td>\n",
       "      <td>238</td>\n",
       "    </tr>\n",
       "    <tr>\n",
       "      <th>2</th>\n",
       "      <td>[hematocrit drop, dark stool, melenotic-appear...</td>\n",
       "      <td>[left distal radius fracture, left ulna fractu...</td>\n",
       "      <td>109589</td>\n",
       "      <td>Closed fracture of lower end of radius with ul...</td>\n",
       "      <td>CHIEF COMPLAINT: fall\\n\\nPRESENT ILLNESS: [**A...</td>\n",
       "      <td>Closed fracture of lower end of radius with ul...</td>\n",
       "      <td>Fx low radius w ulna-cl,Blood in stool,Thrombo...</td>\n",
       "      <td>Admission Date:  [**2165-4-24**]              ...</td>\n",
       "      <td>239</td>\n",
       "    </tr>\n",
       "    <tr>\n",
       "      <th>3</th>\n",
       "      <td>[syncope, UGIB, melenotic stool, urge to have ...</td>\n",
       "      <td>[end stage renal disease, hypertension, hyperc...</td>\n",
       "      <td>161038</td>\n",
       "      <td>Chronic or unspecified gastric ulcer with hemo...</td>\n",
       "      <td>CHIEF COMPLAINT: syncope, UGIB\\n\\nPRESENT ILLN...</td>\n",
       "      <td>Chronic or unspecified gastric ulcer with hemo...</td>\n",
       "      <td>Chr stomach ulc w hem,Ac posthemorrhag anemia,...</td>\n",
       "      <td>Admission Date:  [**2105-1-30**]              ...</td>\n",
       "      <td>154</td>\n",
       "    </tr>\n",
       "    <tr>\n",
       "      <th>4</th>\n",
       "      <td>[one day headache on the left, vomiting, incre...</td>\n",
       "      <td>[cerebellar astrocytoma, recurrence of tumor, ...</td>\n",
       "      <td>179776</td>\n",
       "      <td>Chronic viral hepatitis B without mention of h...</td>\n",
       "      <td>CHIEF COMPLAINT: \\n\\nPRESENT ILLNESS: The pati...</td>\n",
       "      <td>Chronic viral hepatitis B without mention of h...</td>\n",
       "      <td>Hpt B chrn wo cm wo dlta,Pancreatic disorder N...</td>\n",
       "      <td>Admission Date:  [**2195-8-26**]       Dischar...</td>\n",
       "      <td>191</td>\n",
       "    </tr>\n",
       "  </tbody>\n",
       "</table>\n",
       "</div>"
      ],
      "text/plain": [
       "                                            Symptoms  \\\n",
       "0  [chest tightness, palpitations, ventricular ec...   \n",
       "1  [hematocrit drop, dark stool, melenotic-appear...   \n",
       "2  [hematocrit drop, dark stool, melenotic-appear...   \n",
       "3  [syncope, UGIB, melenotic stool, urge to have ...   \n",
       "4  [one day headache on the left, vomiting, incre...   \n",
       "\n",
       "                                            Diseases      id  \\\n",
       "0  [aortic valve fibroelastoma, GERD, Basal Cell ...  109136   \n",
       "1  [left distal radius fracture, left ulna fractu...  109589   \n",
       "2  [left distal radius fracture, left ulna fractu...  109589   \n",
       "3  [end stage renal disease, hypertension, hyperc...  161038   \n",
       "4  [cerebellar astrocytoma, recurrence of tumor, ...  179776   \n",
       "\n",
       "                                          icd_9_desc  \\\n",
       "0  Benign neoplasm of heart,Obesity, unspecified,...   \n",
       "1  Closed fracture of lower end of radius with ul...   \n",
       "2  Closed fracture of lower end of radius with ul...   \n",
       "3  Chronic or unspecified gastric ulcer with hemo...   \n",
       "4  Chronic viral hepatitis B without mention of h...   \n",
       "\n",
       "                                                text  \\\n",
       "0  CHIEF COMPLAINT: known aortic valve fibroelast...   \n",
       "1  CHIEF COMPLAINT: fall\\n\\nPRESENT ILLNESS: [**A...   \n",
       "2  CHIEF COMPLAINT: fall\\n\\nPRESENT ILLNESS: [**A...   \n",
       "3  CHIEF COMPLAINT: syncope, UGIB\\n\\nPRESENT ILLN...   \n",
       "4  CHIEF COMPLAINT: \\n\\nPRESENT ILLNESS: The pati...   \n",
       "\n",
       "                                          long_texts  \\\n",
       "0  Benign neoplasm of heart,Obesity, unspecified,...   \n",
       "1  Closed fracture of lower end of radius with ul...   \n",
       "2  Closed fracture of lower end of radius with ul...   \n",
       "3  Chronic or unspecified gastric ulcer with hemo...   \n",
       "4  Chronic viral hepatitis B without mention of h...   \n",
       "\n",
       "                                         short_texts  \\\n",
       "0  Benign neoplasm heart,Obesity NOS,Angina pecto...   \n",
       "1  Fx low radius w ulna-cl,Blood in stool,Thrombo...   \n",
       "2  Fx low radius w ulna-cl,Blood in stool,Thrombo...   \n",
       "3  Chr stomach ulc w hem,Ac posthemorrhag anemia,...   \n",
       "4  Hpt B chrn wo cm wo dlta,Pancreatic disorder N...   \n",
       "\n",
       "                                   discharge_summary  short_codes  \n",
       "0  Admission Date:  [**2149-11-19**]             ...          212  \n",
       "1  Admission Date:  [**2165-4-24**]              ...          238  \n",
       "2  Admission Date:  [**2165-4-24**]              ...          239  \n",
       "3  Admission Date:  [**2105-1-30**]              ...          154  \n",
       "4  Admission Date:  [**2195-8-26**]       Dischar...          191  "
      ]
     },
     "execution_count": 236,
     "metadata": {},
     "output_type": "execute_result"
    }
   ],
   "source": [
    "neoplasm_df = pd.DataFrame(neoplasm_list).reset_index(drop = True)\n",
    "neoplasm_df.head()"
   ]
  },
  {
   "cell_type": "code",
   "execution_count": 238,
   "metadata": {},
   "outputs": [
    {
     "data": {
      "text/plain": [
       "60"
      ]
     },
     "execution_count": 238,
     "metadata": {},
     "output_type": "execute_result"
    }
   ],
   "source": [
    "neoplasm_df.short_codes.nunique()"
   ]
  },
  {
   "cell_type": "code",
   "execution_count": 251,
   "metadata": {},
   "outputs": [
    {
     "name": "stdout",
     "output_type": "stream",
     "text": [
      "[141, 142, 144, 145, 147, 148, 150, 151, 152, 153, 154, 155, 156, 157, 158, 161, 162, 163, 164, 171, 172, 173, 174, 180, 182, 183, 184, 185, 188, 189, 191, 194, 196, 197, 198, 199, 200, 201, 202, 203, 204, 205, 208, 209, 211, 212, 214, 215, 218, 220, 225, 227, 228, 230, 233, 235, 236, 237, 238, 239]\n"
     ]
    }
   ],
   "source": [
    "neoplasm_classes = list(set(neoplasm_df.short_codes))\n",
    "print(neoplasm_classes)"
   ]
  },
  {
   "cell_type": "code",
   "execution_count": 242,
   "metadata": {},
   "outputs": [
    {
     "name": "stderr",
     "output_type": "stream",
     "text": [
      "2686it [00:51, 51.96it/s]\n"
     ]
    }
   ],
   "source": [
    "true_labels = []\n",
    "predicted_labels = []\n",
    "\n",
    "for i,j in tqdm(raw_test_df.iterrows()): \n",
    "    true_label = j.short_codes.split(',')\n",
    "    true_labels.append(list(set(true_label)))\n",
    "    pred_labels = get_prioritized_relationships(j.Symptoms,weightage=1,limit = 8)[0]\n",
    "    predicted_labels.append(pred_labels)\n"
   ]
  },
  {
   "cell_type": "markdown",
   "metadata": {},
   "source": []
  },
  {
   "cell_type": "code",
   "execution_count": 258,
   "metadata": {},
   "outputs": [
    {
     "data": {
      "text/plain": [
       "['785', '441', '746', '424']"
      ]
     },
     "execution_count": 258,
     "metadata": {},
     "output_type": "execute_result"
    }
   ],
   "source": []
  },
  {
   "cell_type": "code",
   "execution_count": 252,
   "metadata": {},
   "outputs": [
    {
     "data": {
      "text/plain": [
       "array([[0, 0, 0, ..., 0, 0, 0],\n",
       "       [0, 0, 0, ..., 0, 0, 0],\n",
       "       [0, 0, 0, ..., 0, 0, 0],\n",
       "       ...,\n",
       "       [0, 0, 0, ..., 0, 0, 0],\n",
       "       [0, 0, 0, ..., 0, 0, 0],\n",
       "       [0, 0, 0, ..., 0, 0, 0]])"
      ]
     },
     "execution_count": 252,
     "metadata": {},
     "output_type": "execute_result"
    }
   ],
   "source": [
    "    \n",
    "true_binary_matrix = create_binary_matrix(true_labels, neoplasm_classes)\n",
    "predicted_binary_matrix = create_binary_matrix(predicted_labels, neoplasm_classes)\n",
    "\n",
    "true_binary_matrix"
   ]
  },
  {
   "cell_type": "code",
   "execution_count": 253,
   "metadata": {},
   "outputs": [
    {
     "data": {
      "text/plain": [
       "array([[0, 0, 0, ..., 0, 0, 0],\n",
       "       [0, 0, 0, ..., 0, 0, 0],\n",
       "       [0, 0, 0, ..., 0, 0, 0],\n",
       "       ...,\n",
       "       [0, 0, 0, ..., 0, 0, 0],\n",
       "       [0, 0, 0, ..., 0, 0, 0],\n",
       "       [0, 0, 0, ..., 0, 0, 0]])"
      ]
     },
     "execution_count": 253,
     "metadata": {},
     "output_type": "execute_result"
    }
   ],
   "source": [
    "predicted_binary_matrix"
   ]
  },
  {
   "cell_type": "code",
   "execution_count": 254,
   "metadata": {},
   "outputs": [],
   "source": [
    "\n",
    "\n",
    "def roc_auc_group(probs, labels, multilabel=False, average='macro', multi_class='ovo'):\n",
    "    if isinstance(labels, list):\n",
    "        labels = np.array(labels, dtype=int)\n",
    "    else:\n",
    "        labels = labels.astype(int)\n",
    "\n",
    "    y_score = np.array(probs)\n",
    "\n",
    "    if multilabel:\n",
    "        mask_samples = np.any(labels > 0, axis=1)\n",
    "\n",
    "\n",
    "        labels = labels[mask_samples]\n",
    "        y_score = y_score[mask_samples]\n",
    "\n",
    " \n",
    "        if labels.size == 0:\n",
    "            print(\"No valid samples left after filtering. ROC AUC cannot be calculated.\")\n",
    "            return None\n",
    "        \n",
    "        dim_size = len(labels[0])\n",
    "        mask_classes = np.ones((dim_size), dtype=bool)\n",
    "        \n",
    "        for c in range(dim_size):\n",
    "            if max(labels[:, c]) == 0:\n",
    "                mask_classes[c] = False\n",
    "\n",
    "        labels = labels[:, mask_classes]\n",
    "        y_score = y_score[:, mask_classes]\n",
    "        \n",
    "        filtered_cols = np.count_nonzero(mask_classes == False)\n",
    "        print(f\"{filtered_cols} columns not considered for ROC AUC calculation!\")\n",
    "\n",
    "    else:\n",
    "\n",
    "        mask_samples = labels > 0\n",
    "        \n",
    "        labels = labels[mask_samples]\n",
    "        y_score = y_score[mask_samples]\n",
    "\n",
    "        if labels.size == 0:\n",
    "            print(\"No valid samples left after filtering. ROC AUC cannot be calculated.\")\n",
    "            return None\n",
    "\n",
    "    return roc_auc_score(y_true=labels, y_score=y_score, average=average, multi_class=multi_class)\n"
   ]
  },
  {
   "cell_type": "code",
   "execution_count": 262,
   "metadata": {},
   "outputs": [],
   "source": [
    "neoplasm_classes = str(neoplasm_classes)[1:-1].split(', ')"
   ]
  },
  {
   "cell_type": "code",
   "execution_count": 264,
   "metadata": {},
   "outputs": [
    {
     "data": {
      "text/plain": [
       "'141'"
      ]
     },
     "execution_count": 264,
     "metadata": {},
     "output_type": "execute_result"
    }
   ],
   "source": [
    "neoplasm_classes[0]"
   ]
  },
  {
   "cell_type": "code",
   "execution_count": 265,
   "metadata": {},
   "outputs": [
    {
     "name": "stdout",
     "output_type": "stream",
     "text": [
      "0 columns not considered for ROC AUC calculation!\n",
      "AUROC Score: 0.5039886288351835\n"
     ]
    }
   ],
   "source": [
    "    \n",
    "true_binary_matrix = create_binary_matrix(true_labels, neoplasm_classes)\n",
    "predicted_binary_matrix = create_binary_matrix(predicted_labels, neoplasm_classes)\n",
    "\n",
    "auroc_score = roc_auc_group(predicted_binary_matrix, true_binary_matrix, multilabel=True)\n",
    "print(f\"AUROC Score: {auroc_score}\")"
   ]
  },
  {
   "cell_type": "code",
   "execution_count": 626,
   "metadata": {},
   "outputs": [],
   "source": [
    "import json\n",
    "from neo4j import GraphDatabase\n",
    "from sklearn.metrics import precision_score, recall_score, f1_score\n",
    "\n",
    "def parse_disease_classes(filepath):\n",
    "    disease_class_map = {}\n",
    "    with open(filepath, 'r') as file:\n",
    "        lines = file.readlines()\n",
    "        current_class = \"\"\n",
    "        for line in lines:\n",
    "            line = line.strip()\n",
    "            if line.startswith('[') and line.endswith(']'):\n",
    "                range_values = line[1:-1].split('-')\n",
    "                start = int(range_values[0])\n",
    "                end = int(range_values[-1]) + 1\n",
    "                for i in range(start, end):\n",
    "                    disease_class_map[str(i).zfill(2)] = current_class\n",
    "            else:\n",
    "                current_class = line\n",
    "    # print(disease_class_map)\n",
    "    return disease_class_map\n",
    "\n",
    "class Neo4jEvaluator:\n",
    "\n",
    "    def __init__(self, uri, user, password):\n",
    "        self.driver = GraphDatabase.driver(uri, auth=(user, password))\n",
    "\n",
    "    def close(self):\n",
    "        self.driver.close()\n",
    "\n",
    "    def query_diseases(self, symptoms):\n",
    "        query = \"\"\"\n",
    "        MATCH (s:Symptom)-[r:ASSOCIATED_WITH]->(d:Disease)\n",
    "            WHERE s.name IN $symptoms \n",
    "            WITH d.title AS disease_id, collect(s.name) AS symptoms, SUM(r.weight) AS total_weight\n",
    "            RETURN disease_id, symptoms, total_weight\n",
    "            ORDER BY total_weight DESC\n",
    "            LIMIT 10\n",
    "        \"\"\"\n",
    "        with self.driver.session() as session:\n",
    "            result = session.run(query, symptoms=symptoms)\n",
    "            return [record[\"disease_id\"] for record in result]\n",
    "\n",
    "    def evaluate(self, y_true, y_pred, disease_class_map):\n",
    "        true_positive = 0\n",
    "        for pred in y_pred:\n",
    "            pred_class = disease_class_map.get(pred[:2])\n",
    "            for actual in y_true:\n",
    "                actual_class = disease_class_map.get(actual[:2])\n",
    "                if pred_class == actual_class:\n",
    "                    true_positive += 1\n",
    "                    break\n",
    "\n",
    "        precision = true_positive / len(y_pred) if y_pred else 0\n",
    "        recall = true_positive / len(y_true) if y_true else 0\n",
    "        f1 = (2 * precision * recall) / (precision + recall) if (precision + recall) > 0 else 0\n",
    "        return precision, recall, f1\n",
    "\n",
    "def load_data_from_json(filepath):\n",
    "    with open(filepath, 'r') as file:\n",
    "        data = json.load(file)\n",
    "    return data\n",
    "\n",
    "\n",
    "\n"
   ]
  },
  {
   "cell_type": "code",
   "execution_count": 627,
   "metadata": {},
   "outputs": [],
   "source": [
    "# uri = \"bolt://localhost:7687\"\n",
    "# user = \"neo4j\"\n",
    "# password = \"neo4j_pass5\"\n",
    "# evaluator = Neo4jEvaluator(uri, user, password)\n",
    "# raw_test_df.info()\n",
    "# df_selected = raw_test_df[['Symptoms', 'Category']]\n",
    "# json_result = df_selected.to_json(orient='records')\n",
    "# data = json.loads(json_result)\n",
    "# disease_class_map = parse_disease_classes(\"disease_classes.txt\")\n",
    "# precision_scores = []\n",
    "# recall_scores = []\n",
    "# f1_scores = []\n",
    "\n",
    "# for entry in tqdm(data):\n",
    "#     symptoms = entry[\"Symptoms\"]\n",
    "#     y_true = entry[\"Category\"]\n",
    "\n",
    "#     y_pred = evaluator.query_diseases(symptoms)\n",
    "\n",
    "#     # Calculate precision, recall, and F1-score\n",
    "#     precision, recall, f1 = evaluator.evaluate(y_true, y_pred, disease_class_map)\n",
    "#     precision_scores.append(precision)\n",
    "#     recall_scores.append(recall)\n",
    "#     f1_scores.append(f1)\n",
    "\n",
    "#     # print(f\"Symptoms: {symptoms}\")\n",
    "#     # print(f\"Actual Diseases: {y_true}\")\n",
    "#     # print(f\"Predicted Diseases: {y_pred}\")\n",
    "#     # print(f\"Precision: {precision}\")\n",
    "#     # print(f\"Recall: {recall}\")\n",
    "#     # print(f\"F1-Score: {f1}\")\n",
    "#     # print(\"-\" * 40)\n",
    "\n",
    "# #averages\n",
    "# avg_precision = sum(precision_scores) / len(precision_scores)\n",
    "# avg_recall = sum(recall_scores) / len(recall_scores)\n",
    "# avg_f1 = sum(f1_scores) / len(f1_scores)\n",
    "\n",
    "# print(f\"Average Precision: {avg_precision}\")\n",
    "# print(f\"Average Recall: {avg_recall}\")\n",
    "# print(f\"Average F1-Score: {avg_f1}\")\n",
    "\n"
   ]
  },
  {
   "cell_type": "markdown",
   "metadata": {},
   "source": [
    "## Single symptom"
   ]
  },
  {
   "cell_type": "code",
   "execution_count": 682,
   "metadata": {},
   "outputs": [
    {
     "name": "stdout",
     "output_type": "stream",
     "text": [
      "['28', '71-73', 'V88-V88', '68-70', 'V20-V29', '39-45', 'V90-V90', '21-23', 'V60-V69', 'V10-V19', '24-27', '80-83', '78', '52-57', '36-38', '58-62', '74-75', '67', '76-77', '63-66', '11-13', 'V87-V87', '46-51', '79', 'V70-V82', '32-35', 'E00-E09', 'V40-V49', 'V85-V85', '14-20', '29-31', '00-10', 'V01-V09', 'V50-V59', 'V83-V84', '84-95', '96-99', 'V30-V39']\n"
     ]
    }
   ],
   "source": [
    "print(classes)"
   ]
  },
  {
   "cell_type": "code",
   "execution_count": 718,
   "metadata": {},
   "outputs": [
    {
     "data": {
      "text/plain": [
       "38"
      ]
     },
     "execution_count": 718,
     "metadata": {},
     "output_type": "execute_result"
    }
   ],
   "source": [
    "len(classes)"
   ]
  },
  {
   "cell_type": "code",
   "execution_count": 1130,
   "metadata": {},
   "outputs": [
    {
     "name": "stderr",
     "output_type": "stream",
     "text": [
      "8733it [00:04, 1907.15it/s]"
     ]
    },
    {
     "name": "stdout",
     "output_type": "stream",
     "text": [
      "Number of rows : 224\n",
      "Macro Averaged AUROC Score: 0.5068289635618425\n",
      "Micro Averaged Precision: 0.31733167082294267\n",
      "Micro Averaged Recall: 0.49369544131910764\n",
      "Micro Averaged F1-Score: 0.38633776091081595\n",
      "Macro Averaged Precision: 0.12408923705682663\n",
      "Macro Averaged Recall: 0.18972692454617168\n",
      "Macro Averaged F1-Score: 0.13480621268739842\n"
     ]
    },
    {
     "name": "stderr",
     "output_type": "stream",
     "text": [
      "\n"
     ]
    }
   ],
   "source": [
    "\n",
    "true_labels = []\n",
    "predicted_labels = []\n",
    "\n",
    "for i,j in tqdm(raw_test_df.iterrows()): \n",
    "        if len(j.Symptoms)==1 : \n",
    "            true_label = j.Category.split(',')\n",
    "            true_labels.append(list(set(true_label)))\n",
    "            pred_labels = get_prioritized_relationships(j.Symptoms,weightage=1,limit= 10)[0]\n",
    "            predicted_labels.append(pred_labels)\n",
    "\n",
    "print(f\"Number of rows : {len(true_labels)}\")\n",
    "\n",
    "true_binary_matrix = create_binary_matrix(true_labels, classes)\n",
    "predicted_binary_matrix = create_binary_matrix(predicted_labels, classes)\n",
    "\n",
    "auroc_score = roc_auc(predicted_binary_matrix, true_binary_matrix, multilabel=True)\n",
    "print(f\"Macro Averaged AUROC Score: {auroc_score}\")\n",
    "\n",
    "\n",
    "precision = precision_score(true_binary_matrix, predicted_binary_matrix, average='micro', zero_division=0)\n",
    "recall = recall_score(true_binary_matrix, predicted_binary_matrix, average='micro', zero_division=0)\n",
    "f1 = f1_score(true_binary_matrix, predicted_binary_matrix, average='micro', zero_division=0)\n",
    "\n",
    "precision_m = precision_score(true_binary_matrix, predicted_binary_matrix, average='macro', zero_division=0)\n",
    "recall_m = recall_score(true_binary_matrix, predicted_binary_matrix, average='macro', zero_division=0)\n",
    "f1_m = f1_score(true_binary_matrix, predicted_binary_matrix, average='macro', zero_division=0)\n",
    "\n",
    "\n",
    "print(f\"Micro Averaged Precision: {precision}\")\n",
    "print(f\"Micro Averaged Recall: {recall}\")\n",
    "print(f\"Micro Averaged F1-Score: {f1}\")\n",
    "\n",
    "print(f\"Macro Averaged Precision: {precision_m}\")\n",
    "print(f\"Macro Averaged Recall: {recall_m}\")\n",
    "print(f\"Macro Averaged F1-Score: {f1_m}\")"
   ]
  },
  {
   "cell_type": "markdown",
   "metadata": {},
   "source": [
    "## Double symptoms"
   ]
  },
  {
   "cell_type": "code",
   "execution_count": 1131,
   "metadata": {},
   "outputs": [
    {
     "name": "stderr",
     "output_type": "stream",
     "text": [
      "8733it [00:07, 1152.29it/s]\n"
     ]
    },
    {
     "name": "stdout",
     "output_type": "stream",
     "text": [
      "Number of rows : 536\n",
      "Macro Averaged AUROC Score: 0.5245946147282452\n",
      "Micro Averaged Precision: 0.36271186440677966\n",
      "Micro Averaged Recall: 0.6109921484653819\n",
      "Micro Averaged F1-Score: 0.45519808561552777\n",
      "Macro Averaged Precision: 0.1710872137616247\n",
      "Macro Averaged Recall: 0.2618989369169021\n",
      "Macro Averaged F1-Score: 0.1866493859124167\n"
     ]
    }
   ],
   "source": [
    "\n",
    "true_labels = []\n",
    "predicted_labels = []\n",
    "\n",
    "for i,j in tqdm(raw_test_df.iterrows()): \n",
    "        if len(j.Symptoms)==2 : \n",
    "            true_label = j.Category.split(',')\n",
    "            true_labels.append(list(set(true_label)))\n",
    "            pred_labels = get_prioritized_relationships(j.Symptoms,weightage=1,limit= 10 )[0]\n",
    "            predicted_labels.append(pred_labels)\n",
    "\n",
    "\n",
    "print(f\"Number of rows : {len(true_labels)}\")\n",
    "\n",
    "true_binary_matrix = create_binary_matrix(true_labels, classes)\n",
    "predicted_binary_matrix = create_binary_matrix(predicted_labels, classes)\n",
    "\n",
    "auroc_score = roc_auc(predicted_binary_matrix, true_binary_matrix, multilabel=True)\n",
    "print(f\"Macro Averaged AUROC Score: {auroc_score}\")\n",
    "\n",
    "\n",
    "precision = precision_score(true_binary_matrix, predicted_binary_matrix, average='micro', zero_division=0)\n",
    "recall = recall_score(true_binary_matrix, predicted_binary_matrix, average='micro', zero_division=0)\n",
    "f1 = f1_score(true_binary_matrix, predicted_binary_matrix, average='micro', zero_division=0)\n",
    "\n",
    "precision_m = precision_score(true_binary_matrix, predicted_binary_matrix, average='macro', zero_division=0)\n",
    "recall_m = recall_score(true_binary_matrix, predicted_binary_matrix, average='macro', zero_division=0)\n",
    "f1_m = f1_score(true_binary_matrix, predicted_binary_matrix, average='macro', zero_division=0)\n",
    "\n",
    "\n",
    "print(f\"Micro Averaged Precision: {precision}\")\n",
    "print(f\"Micro Averaged Recall: {recall}\")\n",
    "print(f\"Micro Averaged F1-Score: {f1}\")\n",
    "\n",
    "print(f\"Macro Averaged Precision: {precision_m}\")\n",
    "print(f\"Macro Averaged Recall: {recall_m}\")\n",
    "print(f\"Macro Averaged F1-Score: {f1_m}\")"
   ]
  },
  {
   "cell_type": "markdown",
   "metadata": {},
   "source": [
    "## Triple symptoms"
   ]
  },
  {
   "cell_type": "code",
   "execution_count": 1132,
   "metadata": {},
   "outputs": [
    {
     "name": "stderr",
     "output_type": "stream",
     "text": [
      "8733it [00:12, 707.56it/s]\n"
     ]
    },
    {
     "name": "stdout",
     "output_type": "stream",
     "text": [
      "Number of rows : 818\n",
      "Macro Averaged AUROC Score: 0.520751796326905\n",
      "Micro Averaged Precision: 0.37410910975767786\n",
      "Micro Averaged Recall: 0.6347845206684257\n",
      "Micro Averaged F1-Score: 0.47077048512026093\n",
      "Macro Averaged Precision: 0.18695351641658803\n",
      "Macro Averaged Recall: 0.2791883451188298\n",
      "Macro Averaged F1-Score: 0.19756081205626322\n"
     ]
    }
   ],
   "source": [
    "\n",
    "true_labels = []\n",
    "predicted_labels = []\n",
    "\n",
    "for i,j in tqdm(raw_test_df.iterrows()): \n",
    "        if len(j.Symptoms)==3 : \n",
    "            true_label = j.Category.split(',')\n",
    "            true_labels.append(list(set(true_label)))\n",
    "            pred_labels = get_prioritized_relationships(j.Symptoms,weightage=1,limit= 10)[0]\n",
    "            predicted_labels.append(pred_labels)\n",
    "\n",
    "\n",
    "print(f\"Number of rows : {len(true_labels)}\")\n",
    "\n",
    "true_binary_matrix = create_binary_matrix(true_labels, classes)\n",
    "predicted_binary_matrix = create_binary_matrix(predicted_labels, classes)\n",
    "\n",
    "auroc_score = roc_auc(predicted_binary_matrix, true_binary_matrix, multilabel=True)\n",
    "print(f\"Macro Averaged AUROC Score: {auroc_score}\")\n",
    "\n",
    "\n",
    "precision = precision_score(true_binary_matrix, predicted_binary_matrix, average='micro', zero_division=0)\n",
    "recall = recall_score(true_binary_matrix, predicted_binary_matrix, average='micro', zero_division=0)\n",
    "f1 = f1_score(true_binary_matrix, predicted_binary_matrix, average='micro', zero_division=0)\n",
    "\n",
    "precision_m = precision_score(true_binary_matrix, predicted_binary_matrix, average='macro', zero_division=0)\n",
    "recall_m = recall_score(true_binary_matrix, predicted_binary_matrix, average='macro', zero_division=0)\n",
    "f1_m = f1_score(true_binary_matrix, predicted_binary_matrix, average='macro', zero_division=0)\n",
    "\n",
    "\n",
    "print(f\"Micro Averaged Precision: {precision}\")\n",
    "print(f\"Micro Averaged Recall: {recall}\")\n",
    "print(f\"Micro Averaged F1-Score: {f1}\")\n",
    "\n",
    "print(f\"Macro Averaged Precision: {precision_m}\")\n",
    "print(f\"Macro Averaged Recall: {recall_m}\")\n",
    "print(f\"Macro Averaged F1-Score: {f1_m}\")\n"
   ]
  },
  {
   "cell_type": "markdown",
   "metadata": {},
   "source": [
    "## More than three symptoms"
   ]
  },
  {
   "cell_type": "code",
   "execution_count": 1135,
   "metadata": {},
   "outputs": [
    {
     "name": "stderr",
     "output_type": "stream",
     "text": [
      "8733it [02:05, 69.77it/s]\n"
     ]
    },
    {
     "name": "stdout",
     "output_type": "stream",
     "text": [
      "Number of rows : 7155\n",
      "Macro Averaged AUROC Score: 0.5194722313155794\n",
      "Micro Averaged Precision: 0.4391891891891892\n",
      "Micro Averaged Recall: 0.6707436292933023\n",
      "Micro Averaged F1-Score: 0.5308129389414687\n",
      "Macro Averaged Precision: 0.21904550193671773\n",
      "Macro Averaged Recall: 0.28918438269603636\n",
      "Macro Averaged F1-Score: 0.21817262588271125\n"
     ]
    }
   ],
   "source": [
    "\n",
    "true_labels = []\n",
    "predicted_labels = []\n",
    "\n",
    "for i,j in tqdm(raw_test_df.iterrows()): \n",
    "        if len(j.Symptoms)>3 : \n",
    "            true_label = j.Category.split(',')\n",
    "            true_labels.append(list(set(true_label)))\n",
    "            pred_labels = get_prioritized_relationships(j.Symptoms,weightage=1,limit= 10 )[0]\n",
    "            predicted_labels.append(pred_labels)\n",
    "\n",
    "\n",
    "print(f\"Number of rows : {len(true_labels)}\")\n",
    "\n",
    "true_binary_matrix = create_binary_matrix(true_labels, classes)\n",
    "predicted_binary_matrix = create_binary_matrix(predicted_labels, classes)\n",
    "\n",
    "auroc_score = roc_auc(predicted_binary_matrix, true_binary_matrix, multilabel=True)\n",
    "print(f\"Macro Averaged AUROC Score: {auroc_score}\")\n",
    "\n",
    "\n",
    "precision = precision_score(true_binary_matrix, predicted_binary_matrix, average='micro', zero_division=0)\n",
    "recall = recall_score(true_binary_matrix, predicted_binary_matrix, average='micro', zero_division=0)\n",
    "f1 = f1_score(true_binary_matrix, predicted_binary_matrix, average='micro', zero_division=0)\n",
    "\n",
    "precision_m = precision_score(true_binary_matrix, predicted_binary_matrix, average='macro', zero_division=0)\n",
    "recall_m = recall_score(true_binary_matrix, predicted_binary_matrix, average='macro', zero_division=0)\n",
    "f1_m = f1_score(true_binary_matrix, predicted_binary_matrix, average='macro', zero_division=0)\n",
    "\n",
    "\n",
    "print(f\"Micro Averaged Precision: {precision}\")\n",
    "print(f\"Micro Averaged Recall: {recall}\")\n",
    "print(f\"Micro Averaged F1-Score: {f1}\")\n",
    "\n",
    "print(f\"Macro Averaged Precision: {precision_m}\")\n",
    "print(f\"Macro Averaged Recall: {recall_m}\")\n",
    "print(f\"Macro Averaged F1-Score: {f1_m}\")"
   ]
  },
  {
   "cell_type": "markdown",
   "metadata": {},
   "source": [
    "| Type                       | Number of Rows | Macro Averaged AUROC Score | Micro Averaged Precision | Micro Averaged Recall | Micro Averaged F1-Score | Macro Averaged Precision | Macro Averaged Recall | Macro Averaged F1-Score |\n",
    "|----------------------------|----------------|----------------------------|--------------------------|-----------------------|-------------------------|--------------------------|-----------------------|-------------------------|\n",
    "| Single Symptom              | 224            | 0.4723445909278866          | 0.16290212183436004       | 0.6925315227934045     | 0.26376062061322497      | 0.11825917706440202       | 0.43180014769528724    | 0.1590802227349518       |\n",
    "| Two Symptoms                | 536            | 0.5202401454442502          | 0.18903730249226258       | 0.8283369022127052     | 0.30782493368700264      | 0.13995083123499627       | 0.6043024076921084     | 0.19748417282824415      |\n",
    "| Three Symptoms              | 818            | 0.507191708694502           | 0.18194150063586265       | 0.9437115215479331     | 0.3050678797355889       | 0.14847040067553025       | 0.7469264629850801     | 0.21789116867971023      |\n",
    "| More than Three Symptoms    | 7155           | 0.5158831933120694          | 0.22374881843496922       | 0.9513371423605831     | 0.36228934501501575      | 0.17221372751016636       | 0.7468493254495923     | 0.2476602454171145       |\n"
   ]
  },
  {
   "cell_type": "markdown",
   "metadata": {},
   "source": [
    "### PubMED KG\n"
   ]
  },
  {
   "cell_type": "code",
   "execution_count": 720,
   "metadata": {},
   "outputs": [],
   "source": [
    "uri = \"neo4j://localhost:8687\" \n",
    "auth = (\"neo4j\", \"neo4j_pass7\")\n",
    "\n",
    "driver = GraphDatabase.driver(uri, auth=auth) \n",
    "driver.verify_connectivity()\n",
    "\n"
   ]
  },
  {
   "cell_type": "code",
   "execution_count": 760,
   "metadata": {},
   "outputs": [],
   "source": [
    "import os\n",
    "from py2neo import Graph\n",
    "from mistralai.client import MistralClient\n",
    "from mistralai.models.chat_completion import ChatMessage\n",
    "from neo4j import GraphDatabase\n",
    "from dotenv import load_dotenv\n",
    "import json\n",
    "\n",
    "\n",
    "driver = GraphDatabase.driver(uri, auth=auth) \n",
    "driver.verify_connectivity()\n",
    "\n",
    "with open('mapped_terms_icd9.json', 'r') as file:\n",
    "    data = file.read()  # Read the content of the file\n",
    "\n",
    "# Parse the JSON data\n",
    "parsed_data = json.loads(data)\n",
    "\n",
    "result = {}\n",
    "\n",
    "for key, values in parsed_data.items():\n",
    "    filtered_diseases = {}\n",
    "    for value in values:\n",
    "        disease_info = value['disease'].split(' - ')\n",
    "        disease_code = disease_info[0].strip()\n",
    "        disease_desc = disease_info[1].strip()\n",
    "        euclidean_distance = float(disease_info[2].strip())\n",
    "        \n",
    "        if disease_code not in filtered_diseases or filtered_diseases[disease_code]['euclidean_distance'] > euclidean_distance:\n",
    "            filtered_diseases[disease_code] = {\n",
    "                'disease_code': disease_code,\n",
    "                'disease_desc': disease_desc,\n",
    "                'euclidean_distance': euclidean_distance,\n",
    "                'pos_weight': value['pos_weight']\n",
    "            }\n",
    "    \n",
    "    result[key] = list(filtered_diseases.values())\n",
    "\n",
    "with open('output_pubmed.json', 'w') as f:\n",
    "    json.dump(result, f, indent=4)"
   ]
  },
  {
   "cell_type": "code",
   "execution_count": 761,
   "metadata": {},
   "outputs": [],
   "source": [
    "def delete_all_data():\n",
    "    with driver.session() as session:\n",
    "        session.run(\"MATCH (n) DETACH DELETE n\")\n",
    "        print(\"All data has been deleted.\")\n",
    "\n",
    "# delete_all_data()"
   ]
  },
  {
   "cell_type": "code",
   "execution_count": 763,
   "metadata": {},
   "outputs": [],
   "source": [
    "for i,j in result.items():\n",
    "    for k in j : \n",
    "        if  k['disease_code'].startswith(\"V\") : \n",
    "            k['disease_code'] = k['disease_code'][:3]\n",
    "        elif k['disease_code'].startswith(\"E\") : \n",
    "            k['disease_code'] = k['disease_code'][:3]\n",
    "        else :  k['disease_code'] =  k['disease_code'][:2]\n"
   ]
  },
  {
   "cell_type": "code",
   "execution_count": 766,
   "metadata": {},
   "outputs": [],
   "source": [
    "# from tqdm import tqdm\n",
    "\n",
    "# def create_graph(result):\n",
    "#     with driver.session() as session:\n",
    "#         for symptom, diseases in tqdm(result.items()):\n",
    "#             for disease in diseases:\n",
    "#                 try:\n",
    "#                     # Extract attributes from disease data\n",
    "#                     disease_code = disease['disease_code']\n",
    "#                     euclidean_distance = float(disease['euclidean_distance'])\n",
    "#                     pos_weight = int(disease['pos_weight'])\n",
    "                    \n",
    "#                     # Create or update Symptom node\n",
    "#                     session.run(\"MERGE (s:Symptom {name: $name})\", name=symptom)\n",
    "                    \n",
    "#                     # Create or update Disease node with attributes\n",
    "#                     session.run(\"\"\"\n",
    "#                         MERGE (d:Disease {name: $name})\n",
    "#                         ON CREATE SET d.disease_code = $disease_code\n",
    "#                         ON MATCH SET d.disease_code = $disease_code\n",
    "#                     \"\"\", name=disease['disease_code'], disease_code=disease_code)\n",
    "                    \n",
    "#                     # Create or update the relationship with attributes\n",
    "#                     session.run(\"\"\"\n",
    "#                         MATCH (s:Symptom {name: $symptom}), (d:Disease {name: $disease_code})\n",
    "#                         MERGE (s)-[r:ASSOCIATED_WITH]->(d)\n",
    "#                         ON CREATE SET r.euclidean_distance = $euclidean_distance, r.pos_weight = $pos_weight\n",
    "#                         ON MATCH SET r.euclidean_distance = $euclidean_distance, r.pos_weight = $pos_weight\n",
    "#                     \"\"\", symptom=symptom, disease_code=disease_code, euclidean_distance=euclidean_distance, pos_weight=pos_weight)\n",
    "#                 except Exception as e:\n",
    "#                     print(f\"An error occurred: {e}\")\n",
    "\n",
    "# create_graph(result)\n"
   ]
  },
  {
   "cell_type": "code",
   "execution_count": 783,
   "metadata": {},
   "outputs": [],
   "source": [
    "def get_prioritized_relationships_pubmed(symptom_names, weightage=1, limit=40):\n",
    "    with driver.session() as session:\n",
    "        result = session.run(f\"\"\"\n",
    "            MATCH (s:Symptom)-[r:ASSOCIATED_WITH]->(d:Disease)\n",
    "            WHERE s.name IN $symptoms AND r.pos_weight >= $weightage\n",
    "            RETURN s.name AS symptom, d.disease_code AS disease_name, r.pos_weight AS weight, r.euclidean_distance AS distance\n",
    "            ORDER BY r.pos_weight DESC, r.euclidean_distance ASC\n",
    "            LIMIT $limit\n",
    "        \"\"\", symptoms=symptom_names, weightage=weightage, limit=limit)\n",
    "        \n",
    "        codes = []\n",
    "        all_info = {}\n",
    "\n",
    "        for record in result:\n",
    "            codes.append(record['disease_name'])\n",
    "            all_info[record['disease_name']] = [record['disease_name'], record['weight']]\n",
    "            \n",
    "        return codes, all_info\n"
   ]
  },
  {
   "cell_type": "markdown",
   "metadata": {},
   "source": [
    "### Single Symptom"
   ]
  },
  {
   "cell_type": "code",
   "execution_count": 812,
   "metadata": {},
   "outputs": [
    {
     "name": "stderr",
     "output_type": "stream",
     "text": [
      "8733it [00:00, 9235.41it/s] "
     ]
    },
    {
     "name": "stdout",
     "output_type": "stream",
     "text": [
      "Number of rows : 224\n",
      "Macro Averaged AUROC Score: 0.50084419195932\n",
      "Micro Averaged Precision: 0.6666666666666666\n",
      "Micro Averaged Recall: 0.0019398642095053346\n",
      "Micro Averaged F1-Score: 0.0038684719535783366\n",
      "Macro Averaged Precision: 0.05263157894736842\n",
      "Macro Averaged Recall: 0.0014097744360902255\n",
      "Macro Averaged F1-Score: 0.0027382430668322346\n"
     ]
    },
    {
     "name": "stderr",
     "output_type": "stream",
     "text": [
      "\n"
     ]
    }
   ],
   "source": [
    "\n",
    "true_labels = []\n",
    "predicted_labels = []\n",
    "\n",
    "for i,j in tqdm(raw_test_df.iterrows()): \n",
    "        if len(j.Symptoms)==1 : \n",
    "            true_label = j.Category.split(',')\n",
    "            true_labels.append(list(set(true_label)))\n",
    "            pred_labels = get_prioritized_relationships_pubmed(j.Symptoms,weightage=1,limit= 20)[0]\n",
    "            predicted_labels.append(pred_labels)\n",
    "\n",
    "print(f\"Number of rows : {len(true_labels)}\")\n",
    "\n",
    "true_binary_matrix = create_binary_matrix(true_labels, classes)\n",
    "predicted_binary_matrix = create_binary_matrix(predicted_labels, classes)\n",
    "\n",
    "auroc_score = roc_auc(predicted_binary_matrix, true_binary_matrix, multilabel=True)\n",
    "print(f\"Macro Averaged AUROC Score: {auroc_score}\")\n",
    "\n",
    "precision = precision_score(true_binary_matrix, predicted_binary_matrix, average='micro', zero_division=0)\n",
    "recall = recall_score(true_binary_matrix, predicted_binary_matrix, average='micro', zero_division=0)\n",
    "f1 = f1_score(true_binary_matrix, predicted_binary_matrix, average='micro', zero_division=0)\n",
    "\n",
    "precision_m = precision_score(true_binary_matrix, predicted_binary_matrix, average='macro', zero_division=0)\n",
    "recall_m = recall_score(true_binary_matrix, predicted_binary_matrix, average='macro', zero_division=0)\n",
    "f1_m = f1_score(true_binary_matrix, predicted_binary_matrix, average='macro', zero_division=0)\n",
    "\n",
    "\n",
    "print(f\"Micro Averaged Precision: {precision}\")\n",
    "print(f\"Micro Averaged Recall: {recall}\")\n",
    "print(f\"Micro Averaged F1-Score: {f1}\")\n",
    "\n",
    "print(f\"Macro Averaged Precision: {precision_m}\")\n",
    "print(f\"Macro Averaged Recall: {recall_m}\")\n",
    "print(f\"Macro Averaged F1-Score: {f1_m}\")"
   ]
  },
  {
   "cell_type": "markdown",
   "metadata": {},
   "source": [
    "### Two Symptoms"
   ]
  },
  {
   "cell_type": "code",
   "execution_count": 786,
   "metadata": {},
   "outputs": [
    {
     "data": {
      "text/plain": [
       "38"
      ]
     },
     "execution_count": 786,
     "metadata": {},
     "output_type": "execute_result"
    }
   ],
   "source": [
    "len(classes)"
   ]
  },
  {
   "cell_type": "code",
   "execution_count": 815,
   "metadata": {},
   "outputs": [
    {
     "name": "stderr",
     "output_type": "stream",
     "text": [
      "8733it [00:02, 3979.93it/s]"
     ]
    },
    {
     "name": "stdout",
     "output_type": "stream",
     "text": [
      "Number of rows : 536\n",
      "Macro Averaged AUROC Score: 0.500670662489286\n",
      "Micro Averaged Precision: 0.3448275862068966\n",
      "Micro Averaged Recall: 0.0035688793718772305\n",
      "Micro Averaged F1-Score: 0.007064641469445425\n",
      "Macro Averaged Precision: 0.01864035087719298\n",
      "Macro Averaged Recall: 0.002321981424148607\n",
      "Macro Averaged F1-Score: 0.003976005762019045\n"
     ]
    },
    {
     "name": "stderr",
     "output_type": "stream",
     "text": [
      "\n"
     ]
    }
   ],
   "source": [
    "\n",
    "true_labels = []\n",
    "predicted_labels = []\n",
    "\n",
    "for i,j in tqdm(raw_test_df.iterrows()): \n",
    "        if len(j.Symptoms)==2 : \n",
    "            true_label = j.Category.split(',')\n",
    "            true_labels.append(list(set(true_label)))\n",
    "            pred_labels = get_prioritized_relationships_pubmed(j.Symptoms,weightage=1,limit= 20 )[0]\n",
    "            predicted_labels.append(pred_labels)\n",
    "\n",
    "\n",
    "print(f\"Number of rows : {len(true_labels)}\")\n",
    "\n",
    "true_binary_matrix = create_binary_matrix(true_labels, classes)\n",
    "predicted_binary_matrix = create_binary_matrix(predicted_labels, classes)\n",
    "\n",
    "auroc_score = roc_auc(predicted_binary_matrix, true_binary_matrix, multilabel=True)\n",
    "print(f\"Macro Averaged AUROC Score: {auroc_score}\")\n",
    "\n",
    "\n",
    "precision = precision_score(true_binary_matrix, predicted_binary_matrix, average='micro', zero_division=0)\n",
    "recall = recall_score(true_binary_matrix, predicted_binary_matrix, average='micro', zero_division=0)\n",
    "f1 = f1_score(true_binary_matrix, predicted_binary_matrix, average='micro', zero_division=0)\n",
    "\n",
    "precision_m = precision_score(true_binary_matrix, predicted_binary_matrix, average='macro', zero_division=0)\n",
    "recall_m = recall_score(true_binary_matrix, predicted_binary_matrix, average='macro', zero_division=0)\n",
    "f1_m = f1_score(true_binary_matrix, predicted_binary_matrix, average='macro', zero_division=0)\n",
    "\n",
    "\n",
    "print(f\"Micro Averaged Precision: {precision}\")\n",
    "print(f\"Micro Averaged Recall: {recall}\")\n",
    "print(f\"Micro Averaged F1-Score: {f1}\")\n",
    "\n",
    "print(f\"Macro Averaged Precision: {precision_m}\")\n",
    "print(f\"Macro Averaged Recall: {recall_m}\")\n",
    "print(f\"Macro Averaged F1-Score: {f1_m}\")"
   ]
  },
  {
   "cell_type": "markdown",
   "metadata": {},
   "source": [
    "### Three Symptoms"
   ]
  },
  {
   "cell_type": "code",
   "execution_count": 817,
   "metadata": {},
   "outputs": [
    {
     "name": "stderr",
     "output_type": "stream",
     "text": [
      "8733it [00:03, 2301.59it/s]"
     ]
    },
    {
     "name": "stdout",
     "output_type": "stream",
     "text": [
      "Number of rows : 818\n",
      "Macro Averaged AUROC Score: 0.5006257544412546\n",
      "Micro Averaged Precision: 0.37209302325581395\n",
      "Micro Averaged Recall: 0.007036059806508356\n",
      "Micro Averaged F1-Score: 0.013810962451445835\n",
      "Macro Averaged Precision: 0.02046783625730994\n",
      "Macro Averaged Recall: 0.0034880475772867715\n",
      "Macro Averaged F1-Score: 0.005958210256406556\n"
     ]
    },
    {
     "name": "stderr",
     "output_type": "stream",
     "text": [
      "\n"
     ]
    }
   ],
   "source": [
    "\n",
    "true_labels = []\n",
    "predicted_labels = []\n",
    "\n",
    "for i,j in tqdm(raw_test_df.iterrows()): \n",
    "        if len(j.Symptoms)==3 : \n",
    "            true_label = j.Category.split(',')\n",
    "            true_labels.append(list(set(true_label)))\n",
    "            pred_labels = get_prioritized_relationships_pubmed(j.Symptoms,weightage=1,limit= 20)[0]\n",
    "            predicted_labels.append(pred_labels)\n",
    "\n",
    "\n",
    "print(f\"Number of rows : {len(true_labels)}\")\n",
    "\n",
    "true_binary_matrix = create_binary_matrix(true_labels, classes)\n",
    "predicted_binary_matrix = create_binary_matrix(predicted_labels, classes)\n",
    "\n",
    "auroc_score = roc_auc(predicted_binary_matrix, true_binary_matrix, multilabel=True)\n",
    "print(f\"Macro Averaged AUROC Score: {auroc_score}\")\n",
    "\n",
    "\n",
    "precision = precision_score(true_binary_matrix, predicted_binary_matrix, average='micro', zero_division=0)\n",
    "recall = recall_score(true_binary_matrix, predicted_binary_matrix, average='micro', zero_division=0)\n",
    "f1 = f1_score(true_binary_matrix, predicted_binary_matrix, average='micro', zero_division=0)\n",
    "\n",
    "precision_m = precision_score(true_binary_matrix, predicted_binary_matrix, average='macro', zero_division=0)\n",
    "recall_m = recall_score(true_binary_matrix, predicted_binary_matrix, average='macro', zero_division=0)\n",
    "f1_m = f1_score(true_binary_matrix, predicted_binary_matrix, average='macro', zero_division=0)\n",
    "\n",
    "\n",
    "print(f\"Micro Averaged Precision: {precision}\")\n",
    "print(f\"Micro Averaged Recall: {recall}\")\n",
    "print(f\"Micro Averaged F1-Score: {f1}\")\n",
    "\n",
    "print(f\"Macro Averaged Precision: {precision_m}\")\n",
    "print(f\"Macro Averaged Recall: {recall_m}\")\n",
    "print(f\"Macro Averaged F1-Score: {f1_m}\")\n"
   ]
  },
  {
   "cell_type": "markdown",
   "metadata": {},
   "source": [
    "### More than three Symptoms"
   ]
  },
  {
   "cell_type": "code",
   "execution_count": 841,
   "metadata": {},
   "outputs": [
    {
     "data": {
      "text/html": [
       "<div>\n",
       "<style scoped>\n",
       "    .dataframe tbody tr th:only-of-type {\n",
       "        vertical-align: middle;\n",
       "    }\n",
       "\n",
       "    .dataframe tbody tr th {\n",
       "        vertical-align: top;\n",
       "    }\n",
       "\n",
       "    .dataframe thead th {\n",
       "        text-align: right;\n",
       "    }\n",
       "</style>\n",
       "<table border=\"1\" class=\"dataframe\">\n",
       "  <thead>\n",
       "    <tr style=\"text-align: right;\">\n",
       "      <th></th>\n",
       "      <th>id</th>\n",
       "      <th>Symptoms</th>\n",
       "      <th>Diseases</th>\n",
       "      <th>Category</th>\n",
       "    </tr>\n",
       "  </thead>\n",
       "  <tbody>\n",
       "    <tr>\n",
       "      <th>0</th>\n",
       "      <td>100010</td>\n",
       "      <td>[Gross hematuria, Weight loss, Fullness in lef...</td>\n",
       "      <td>[Metastatic renal cell carcinoma, Renal mass, ...</td>\n",
       "      <td>14-20,14-20,14-20,14-20,24-27</td>\n",
       "    </tr>\n",
       "    <tr>\n",
       "      <th>1</th>\n",
       "      <td>100012</td>\n",
       "      <td>[exertional angina]</td>\n",
       "      <td>[coronary artery disease, hypertension, hyperc...</td>\n",
       "      <td>39-45,96-99,39-45,39-45,24-27,V10-V19,V40-V49,...</td>\n",
       "    </tr>\n",
       "    <tr>\n",
       "      <th>2</th>\n",
       "      <td>100016</td>\n",
       "      <td>[Respiratory failure, Labored breathing, Acces...</td>\n",
       "      <td>[Downs Syndrome, MRSA pneumonia, Tracheostomy,...</td>\n",
       "      <td>46-51,46-51,24-27,46-51,74-75,32-35,24-27,39-4...</td>\n",
       "    </tr>\n",
       "    <tr>\n",
       "      <th>3</th>\n",
       "      <td>100019</td>\n",
       "      <td>[heart murmur since childhood, increase in the...</td>\n",
       "      <td>[Bicuspid aortic valve, Dilated aorta, Aortic ...</td>\n",
       "      <td>39-45,74-75,39-45,78</td>\n",
       "    </tr>\n",
       "    <tr>\n",
       "      <th>4</th>\n",
       "      <td>100028</td>\n",
       "      <td>[Right upper quadrant pain, Fever, Elevated LF...</td>\n",
       "      <td>[Mild mental retardation, Cholangitis, Choledo...</td>\n",
       "      <td>52-57,00-10,46-51,52-57,96-99,39-45,28,84-95</td>\n",
       "    </tr>\n",
       "  </tbody>\n",
       "</table>\n",
       "</div>"
      ],
      "text/plain": [
       "       id                                           Symptoms  \\\n",
       "0  100010  [Gross hematuria, Weight loss, Fullness in lef...   \n",
       "1  100012                                [exertional angina]   \n",
       "2  100016  [Respiratory failure, Labored breathing, Acces...   \n",
       "3  100019  [heart murmur since childhood, increase in the...   \n",
       "4  100028  [Right upper quadrant pain, Fever, Elevated LF...   \n",
       "\n",
       "                                            Diseases  \\\n",
       "0  [Metastatic renal cell carcinoma, Renal mass, ...   \n",
       "1  [coronary artery disease, hypertension, hyperc...   \n",
       "2  [Downs Syndrome, MRSA pneumonia, Tracheostomy,...   \n",
       "3  [Bicuspid aortic valve, Dilated aorta, Aortic ...   \n",
       "4  [Mild mental retardation, Cholangitis, Choledo...   \n",
       "\n",
       "                                            Category  \n",
       "0                      14-20,14-20,14-20,14-20,24-27  \n",
       "1  39-45,96-99,39-45,39-45,24-27,V10-V19,V40-V49,...  \n",
       "2  46-51,46-51,24-27,46-51,74-75,32-35,24-27,39-4...  \n",
       "3                               39-45,74-75,39-45,78  \n",
       "4       52-57,00-10,46-51,52-57,96-99,39-45,28,84-95  "
      ]
     },
     "execution_count": 841,
     "metadata": {},
     "output_type": "execute_result"
    }
   ],
   "source": [
    "raw_test_df.head()"
   ]
  },
  {
   "cell_type": "code",
   "execution_count": 808,
   "metadata": {},
   "outputs": [
    {
     "name": "stderr",
     "output_type": "stream",
     "text": [
      "8733it [00:21, 402.20it/s]\n"
     ]
    },
    {
     "name": "stdout",
     "output_type": "stream",
     "text": [
      "Number of rows : 7155\n",
      "Macro Averaged AUROC Score: 0.5004233387222278\n",
      "Micro Averaged Precision: 0.3519870235198702\n",
      "Micro Averaged Recall: 0.009428428667637026\n",
      "Micro Averaged F1-Score: 0.018364928909952605\n",
      "Macro Averaged Precision: 0.02301098936070341\n",
      "Macro Averaged Recall: 0.0051244394857085625\n",
      "Macro Averaged F1-Score: 0.008150787835512768\n"
     ]
    }
   ],
   "source": [
    "\n",
    "true_labels = []\n",
    "predicted_labels = []\n",
    "\n",
    "for i,j in tqdm(raw_test_df.iterrows()): \n",
    "        if len(j.Symptoms)>3 : \n",
    "            true_label = j.Category.split(',')\n",
    "            true_labels.append(list(set(true_label)))\n",
    "            pred_labels = get_prioritized_relationships_pubmed(j.Symptoms,weightage=1,limit= 20 )[0]\n",
    "            predicted_labels.append(pred_labels)\n",
    "\n",
    "\n",
    "print(f\"Number of rows : {len(true_labels)}\")\n",
    "\n",
    "true_binary_matrix = create_binary_matrix(true_labels, classes)\n",
    "predicted_binary_matrix = create_binary_matrix(predicted_labels, classes)\n",
    "\n",
    "auroc_score = roc_auc(predicted_binary_matrix, true_binary_matrix, multilabel=True)\n",
    "print(f\"Macro Averaged AUROC Score: {auroc_score}\")\n",
    "\n",
    "\n",
    "precision = precision_score(true_binary_matrix, predicted_binary_matrix, average='micro', zero_division=0)\n",
    "recall = recall_score(true_binary_matrix, predicted_binary_matrix, average='micro', zero_division=0)\n",
    "f1 = f1_score(true_binary_matrix, predicted_binary_matrix, average='micro', zero_division=0)\n",
    "\n",
    "precision_m = precision_score(true_binary_matrix, predicted_binary_matrix, average='macro', zero_division=0)\n",
    "recall_m = recall_score(true_binary_matrix, predicted_binary_matrix, average='macro', zero_division=0)\n",
    "f1_m = f1_score(true_binary_matrix, predicted_binary_matrix, average='macro', zero_division=0)\n",
    "\n",
    "\n",
    "print(f\"Micro Averaged Precision: {precision}\")\n",
    "print(f\"Micro Averaged Recall: {recall}\")\n",
    "print(f\"Micro Averaged F1-Score: {f1}\")\n",
    "\n",
    "print(f\"Macro Averaged Precision: {precision_m}\")\n",
    "print(f\"Macro Averaged Recall: {recall_m}\")\n",
    "print(f\"Macro Averaged F1-Score: {f1_m}\")\n"
   ]
  },
  {
   "cell_type": "markdown",
   "metadata": {},
   "source": [
    "PUBMED KG\n",
    "| Symptoms               | Number of Rows | Macro Averaged AUROC Score | Micro Averaged Precision | Micro Averaged Recall | Micro Averaged F1-Score | Macro Averaged Precision | Macro Averaged Recall | Macro Averaged F1-Score |\n",
    "|------------------------|----------------|----------------------------|--------------------------|-----------------------|--------------------------|--------------------------|-----------------------|--------------------------|\n",
    "| Single symptom         | 224            | 0.500         | 0.6666666666666666        | 0.0019398642095053346  | 0.0038684719535783366    | 0.05263157894736842       | 0.0014097744360902255 | 0.0027382430668322346    |\n",
    "| Two symptoms           | 536            | 0.500        | 0.3448275862068966        | 0.0035688793718772305  | 0.007064641469445425     | 0.01864035087719298       | 0.002321981424148607  | 0.003976005762019045     |\n",
    "| Three symptoms         | 818            | 0.500        | 0.37209302325581395       | 0.007036059806508356   | 0.013810962451445835     | 0.02046783625730994       | 0.0034880475772867715 | 0.005958210256406556     |\n",
    "| More than 3 symptoms   | 7155           | 0.500      | 0.3519870235198702        | 0.009428428667637026   | 0.018364928909952605     | 0.02301098936070341       | 0.0051244394857085625 | 0.008150787835512768     |\n"
   ]
  },
  {
   "cell_type": "markdown",
   "metadata": {},
   "source": [
    "### MIMIC KG (RAG)"
   ]
  },
  {
   "cell_type": "code",
   "execution_count": 818,
   "metadata": {},
   "outputs": [
    {
     "data": {
      "text/html": [
       "<div>\n",
       "<style scoped>\n",
       "    .dataframe tbody tr th:only-of-type {\n",
       "        vertical-align: middle;\n",
       "    }\n",
       "\n",
       "    .dataframe tbody tr th {\n",
       "        vertical-align: top;\n",
       "    }\n",
       "\n",
       "    .dataframe thead th {\n",
       "        text-align: right;\n",
       "    }\n",
       "</style>\n",
       "<table border=\"1\" class=\"dataframe\">\n",
       "  <thead>\n",
       "    <tr style=\"text-align: right;\">\n",
       "      <th></th>\n",
       "      <th>ROW_ID</th>\n",
       "      <th>short_codes</th>\n",
       "      <th>SHORT_TITLE</th>\n",
       "      <th>LONG_TITLE</th>\n",
       "    </tr>\n",
       "  </thead>\n",
       "  <tbody>\n",
       "    <tr>\n",
       "      <th>0</th>\n",
       "      <td>174</td>\n",
       "      <td>01</td>\n",
       "      <td>TB pneumonia-oth test</td>\n",
       "      <td>Tuberculous pneumonia [any form], tubercle bac...</td>\n",
       "    </tr>\n",
       "    <tr>\n",
       "      <th>1</th>\n",
       "      <td>175</td>\n",
       "      <td>01</td>\n",
       "      <td>TB pneumothorax-unspec</td>\n",
       "      <td>Tuberculous pneumothorax, unspecified</td>\n",
       "    </tr>\n",
       "    <tr>\n",
       "      <th>2</th>\n",
       "      <td>176</td>\n",
       "      <td>01</td>\n",
       "      <td>TB pneumothorax-no exam</td>\n",
       "      <td>Tuberculous pneumothorax, bacteriological or h...</td>\n",
       "    </tr>\n",
       "    <tr>\n",
       "      <th>3</th>\n",
       "      <td>177</td>\n",
       "      <td>01</td>\n",
       "      <td>TB pneumothorx-exam unkn</td>\n",
       "      <td>Tuberculous pneumothorax, bacteriological or h...</td>\n",
       "    </tr>\n",
       "    <tr>\n",
       "      <th>4</th>\n",
       "      <td>178</td>\n",
       "      <td>01</td>\n",
       "      <td>TB pneumothorax-micro dx</td>\n",
       "      <td>Tuberculous pneumothorax, tubercle bacilli fou...</td>\n",
       "    </tr>\n",
       "    <tr>\n",
       "      <th>...</th>\n",
       "      <td>...</td>\n",
       "      <td>...</td>\n",
       "      <td>...</td>\n",
       "      <td>...</td>\n",
       "    </tr>\n",
       "    <tr>\n",
       "      <th>14562</th>\n",
       "      <td>14432</td>\n",
       "      <td>V73</td>\n",
       "      <td>Scrn unspcf viral dis</td>\n",
       "      <td>Special screening examination for unspecified ...</td>\n",
       "    </tr>\n",
       "    <tr>\n",
       "      <th>14563</th>\n",
       "      <td>14433</td>\n",
       "      <td>V74</td>\n",
       "      <td>Screening for cholera</td>\n",
       "      <td>Screening examination for cholera</td>\n",
       "    </tr>\n",
       "    <tr>\n",
       "      <th>14564</th>\n",
       "      <td>14434</td>\n",
       "      <td>V74</td>\n",
       "      <td>Screening-pulmonary TB</td>\n",
       "      <td>Screening examination for pulmonary tuberculosis</td>\n",
       "    </tr>\n",
       "    <tr>\n",
       "      <th>14565</th>\n",
       "      <td>14435</td>\n",
       "      <td>V74</td>\n",
       "      <td>Screening for leprosy</td>\n",
       "      <td>Screening examination for leprosy (Hansen's di...</td>\n",
       "    </tr>\n",
       "    <tr>\n",
       "      <th>14566</th>\n",
       "      <td>14436</td>\n",
       "      <td>V74</td>\n",
       "      <td>Screening for diphtheria</td>\n",
       "      <td>Screening examination for diphtheria</td>\n",
       "    </tr>\n",
       "  </tbody>\n",
       "</table>\n",
       "<p>14567 rows × 4 columns</p>\n",
       "</div>"
      ],
      "text/plain": [
       "       ROW_ID short_codes               SHORT_TITLE  \\\n",
       "0         174          01     TB pneumonia-oth test   \n",
       "1         175          01    TB pneumothorax-unspec   \n",
       "2         176          01   TB pneumothorax-no exam   \n",
       "3         177          01  TB pneumothorx-exam unkn   \n",
       "4         178          01  TB pneumothorax-micro dx   \n",
       "...       ...         ...                       ...   \n",
       "14562   14432         V73     Scrn unspcf viral dis   \n",
       "14563   14433         V74     Screening for cholera   \n",
       "14564   14434         V74    Screening-pulmonary TB   \n",
       "14565   14435         V74     Screening for leprosy   \n",
       "14566   14436         V74  Screening for diphtheria   \n",
       "\n",
       "                                              LONG_TITLE  \n",
       "0      Tuberculous pneumonia [any form], tubercle bac...  \n",
       "1                  Tuberculous pneumothorax, unspecified  \n",
       "2      Tuberculous pneumothorax, bacteriological or h...  \n",
       "3      Tuberculous pneumothorax, bacteriological or h...  \n",
       "4      Tuberculous pneumothorax, tubercle bacilli fou...  \n",
       "...                                                  ...  \n",
       "14562  Special screening examination for unspecified ...  \n",
       "14563                  Screening examination for cholera  \n",
       "14564   Screening examination for pulmonary tuberculosis  \n",
       "14565  Screening examination for leprosy (Hansen's di...  \n",
       "14566               Screening examination for diphtheria  \n",
       "\n",
       "[14567 rows x 4 columns]"
      ]
     },
     "execution_count": 818,
     "metadata": {},
     "output_type": "execute_result"
    }
   ],
   "source": [
    "icd_df"
   ]
  },
  {
   "cell_type": "code",
   "execution_count": 960,
   "metadata": {},
   "outputs": [
    {
     "name": "stdout",
     "output_type": "stream",
     "text": [
      "['28', '71-73', 'V88-V88', '68-70', 'V20-V29', '39-45', 'V90-V90', '21-23', 'V60-V69', 'V10-V19', '24-27', '80-83', '78', '52-57', '36-38', '58-62', '74-75', '67', '76-77', '63-66', '11-13', 'V87-V87', '46-51', '79', 'V70-V82', '32-35', 'E00-E09', 'V40-V49', 'V85-V85', '14-20', '29-31', '00-10', 'V01-V09', 'V50-V59', 'V83-V84', '84-95', '96-99', 'V30-V39']\n"
     ]
    }
   ],
   "source": [
    "print(classes)"
   ]
  },
  {
   "cell_type": "code",
   "execution_count": 1015,
   "metadata": {},
   "outputs": [],
   "source": [
    "# pip install groq"
   ]
  },
  {
   "cell_type": "code",
   "execution_count": 1016,
   "metadata": {},
   "outputs": [],
   "source": [
    "from groq import Groq"
   ]
  },
  {
   "cell_type": "code",
   "execution_count": 1153,
   "metadata": {},
   "outputs": [],
   "source": [
    "\n",
    "def aug_and_gen(codes, symptom, model ='mistral', method = 'rag') : \n",
    "\n",
    "    prompt_start = f\"\"\"You are an AI medical assistant tasked with identifying the top most relevant ICD-9 code categories (e.g.'11-13','14-20','21-23','24-27',etc) for a given symptom, based on a provided list of code categories and category name\n",
    "Symptoms: {symptom}\"\"\"\n",
    "    kg_prompt = \"\"\"\n",
    "Task:\n",
    "Output only a Python list of relevant ICD-9 code categories.\n",
    "\n",
    "Format:\n",
    "['XX-XX', 'XX-XX', 'XX-XX', 'XX-XX', 'XX-XX', 'XX-XX', 'XX-XX', 'XX-XX']\n",
    "\n",
    "Important:\n",
    "Don't consider the code to be included in JSON if it doesn't relate to the symptoms provided.\n",
    "\n",
    "Rules:\n",
    "1. Use only code categories in the format 'XX-XX' or 'XX' (e.g., '39-45', '78').\n",
    "2. Include only most relevant categories from the provided outputs for the symptoms.\n",
    "3. Output only the list, nothing else.\n",
    "4. Do not include any explanations, comments, or additional text before or after the list.\n",
    "5. Use single quotes for each category.\n",
    "6. Separate categories with commas and spaces.\n",
    "7. The entire list must be on a single line.\n",
    "8. Do not mention the symptom in your output.\n",
    "9. Do not describe or explain the categories.\n",
    "10. Do not mention the number of categories or rows.\n",
    "11. Make sure the chosen categories are one of them : ['28', '71-73', 'V88-V88', '68-70', 'V20-V29', '39-45', 'V90-V90', '21-23', 'V60-V69', 'V10-V19', '24-27', '80-83', '78', '52-57', '36-38', '58-62', '74-75', '67', '76-77', '63-66', '11-13', 'V87-V87', '46-51', '79', 'V70-V82', '32-35', 'E00-E09', 'V40-V49', 'V85-V85', '14-20', '29-31', '00-10', 'V01-V09', 'V50-V59', 'V83-V84', '84-95', '96-99', 'V30-V39']\n",
    "\n",
    "Relevant Outputs (list only):\"\"\"\n",
    "    \n",
    "    only_llm_prompt_start = f\"\"\"You are an AI medical assistant tasked with identifying the top most relevant ICD-9 code categories (e.g.'11-13','14-20','21-23','24-27',etc) for a given symptom, based on a provided list of code categories and category name\n",
    "Symptoms: {symptom}\"\"\"\n",
    "    only_llm_prompt = \"\"\"\n",
    "Given these code categories and their meanings below in a list of tuples, in which of these categories do you think the above symptoms of a patient lie in: \n",
    ">>> (Categories, Meanings) : [('14-20', 'Malignant neoplasms'), ('V30-V39', 'Liveborn Infants According To Type Of Birth'), ('V88-V88', 'Acquired Absence Of Other Organs And Tissue'), ('V40-V49', 'Persons With A Condition Influencing Their Health Status'), ('29-31', 'Mental disorders'), ('78', 'Symptoms'), ('67', 'Complications Of puerperium'), ('46-51', 'Diseases Of The Respiratory System'), ('96-99', 'Poisoning'), ('71-73', 'Diseases Of The Musculoskeletal System And Connective Tissue'), ('V85-V85', 'Body Mass Index'), ('21-23', 'Benign neoplasms'), ('58-62', 'Diseases Of The Genitourinary System'), ('76-77', 'Certain Conditions Originating In The Perinatal Period'), ('32-35', 'Disorders of central nervous system'), ('63-66', 'Complications Of Pregnancy and Childbirth'), ('V50-V59', 'Persons Encountering Health Services For Specific Procedures And Aftercare'), ('68-70', 'Diseases Of The Skin And Subcutaneous Tissue'), ('39-45', 'Diseases Of The Circulatory System'), ('80-83', 'Fracture'), ('V10-V19', 'Persons With Potential Health Hazards Related To Personal And Family History'), ('V60-V69', 'Persons Encountering Health Services In Other Circumstances'), ('V91-V91', 'Multiple Gestation Placenta Status'), ('74-75', 'Congenital anomalies'), ('52-57', 'Diseases Of The Digestive System'), ('V90-V90', 'Retained Foreign Body'), ('36-38', 'Organ diseases'), ('28', 'Diseases of blood'), ('V89-V89', 'Other Suspected Conditions Not Found'), ('11-13', 'Parasitic diseases'), ('79', 'Findings and conditions'), ('24-27', 'Endocrine nutritional and metabolic diseases and immunity disorders'), ('V20-V29', 'Persons Encountering Health Services In Circumstances Related To Reproduction And Development'), ('V86-V86', 'Estrogen Receptor Status'), ('E00-E09', 'Supplementary Classification Of External Causes Of Injury And Poisoning'), ('00-10', 'Infectious disease'), ('V70-V82', 'Persons Without Reported Diagnosis Encountered During Examination And Investigation Of Individuals And Populations'), ('V87-V87', 'Other Specified Personal Exposures And History Presenting Hazards To Health'), ('V83-V84', 'Genetics'), ('84-95', 'Injury'), ('V01-V09', 'Persons With Potential Health Hazards Related To Communicable Diseases')]\n",
    "\n",
    "Task:\n",
    "Output only a Python list of relevant ICD-9 code categories.\n",
    "\n",
    "Format:\n",
    "['XX-XX', 'XX-XX', 'XX-XX', 'XX-XX', 'XX-XX', 'XX-XX', 'XX-XX', 'XX-XX']\n",
    "\n",
    "Important:\n",
    "Don't consider the code to be included in JSON if it doesn't relate to the symptoms provided.\n",
    "\n",
    "Rules:\n",
    "1. Use only code categories in the format 'XX-XX' or 'XX' (e.g., '39-45', '78').\n",
    "2. Include only most relevant categories .\n",
    "3. Output only the list, nothing else.\n",
    "4. Do not include any explanations, comments, or additional text before or after the list.\n",
    "5. Use single quotes for each category.\n",
    "6. Separate categories with commas and spaces.\n",
    "7. The entire list must be on a single line.\n",
    "8. Do not mention the symptom in your output.\n",
    "9. Do not describe or explain the categories.\n",
    "10. Do not mention the number of categories or rows.\n",
    "11. Make sure the chosen categories are one of them : ['28', '71-73', 'V88-V88', '68-70', 'V20-V29', '39-45', 'V90-V90', '21-23', 'V60-V69', 'V10-V19', '24-27', '80-83', '78', '52-57', '36-38', '58-62', '74-75', '67', '76-77', '63-66', '11-13', 'V87-V87', '46-51', '79', 'V70-V82', '32-35', 'E00-E09', 'V40-V49', 'V85-V85', '14-20', '29-31', '00-10', 'V01-V09', 'V50-V59', 'V83-V84', '84-95', '96-99', 'V30-V39']\n",
    "\n",
    "Relevant Outputs (list only):\n",
    "\"\"\"\n",
    "\n",
    "    if model == 'mistral' : \n",
    "        model= \"open-mistral-nemo-2407\" \n",
    "        MISTRAL_API_KEY =  \"WRhxY4qx7jsun5iYThrdS3Dk4dubsjnV\"\n",
    "        client = MistralClient(api_key=MISTRAL_API_KEY)\n",
    "\n",
    "        if method == 'rag' : \n",
    "\n",
    "            prompt_template = prompt_start + kg_prompt + str(codes)\n",
    "\n",
    "            chat_response = client.chat(\n",
    "                model=model,\n",
    "                max_tokens=200,\n",
    "                temperature = 0.1,\n",
    "                messages=[ChatMessage(role=\"user\", content=prompt_template)])\n",
    "            \n",
    "            response = chat_response.choices[0].message.content\n",
    "\n",
    "        if method == 'llm' : \n",
    "\n",
    "            prompt_template = only_llm_prompt_start + only_llm_prompt\n",
    "\n",
    "            chat_response = client.chat(\n",
    "                model=model,\n",
    "                max_tokens=200,\n",
    "                temperature = 0.1,\n",
    "                messages=[ChatMessage(role=\"user\", content=prompt_template)])\n",
    "            \n",
    "            response = chat_response.choices[0].message.content\n",
    "        \n",
    "    elif model == 'groq' : \n",
    "        #\"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\"\n",
    "        # backup=\n",
    "        client = Groq(\n",
    "        api_key=\"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\",\n",
    "    )\n",
    "        if method == 'rag' : \n",
    "            prompt_template = prompt_start + kg_prompt + str(codes)\n",
    "            chat_completion = client.chat.completions.create(\n",
    "            messages=[\n",
    "                {\n",
    "                    \"role\": \"user\",\n",
    "                    \"content\": f\"{prompt_template}\",\n",
    "                }\n",
    "            ],\n",
    "            model=\"llama3-70b-8192\",\n",
    "        )\n",
    "\n",
    "            response = chat_completion.choices[0].message.content\n",
    "\n",
    "        if method == 'llm' : \n",
    "            prompt_template = only_llm_prompt_start + only_llm_prompt\n",
    "            chat_completion = client.chat.completions.create(\n",
    "            messages=[\n",
    "                {\n",
    "                    \"role\": \"user\",\n",
    "                    \"content\": f\"{prompt_template}\",\n",
    "                }\n",
    "            ],\n",
    "            model=\"llama3-70b-8192\",\n",
    "        )\n",
    "\n",
    "            response = chat_completion.choices[0].message.content\n",
    "\n",
    "\n",
    "\n",
    "    return response\n",
    "\n",
    "def codes_n_desc(list_codes, results) : \n",
    "    \n",
    "    try : \n",
    "        five_codes = list_codes[2:-2].split(\"', '\")\n",
    "    except KeyError as s: \n",
    "        five_codes = list_codes[2:-2].split(\", \")\n",
    "    except : \n",
    "        \n",
    "        five_codes = list_codes[2:-2].split('\", \"')\n",
    "    \n",
    "    return [(i,results.get(i)) for i in five_codes]"
   ]
  },
  {
   "cell_type": "code",
   "execution_count": 1140,
   "metadata": {},
   "outputs": [
    {
     "data": {
      "text/html": [
       "<div>\n",
       "<style scoped>\n",
       "    .dataframe tbody tr th:only-of-type {\n",
       "        vertical-align: middle;\n",
       "    }\n",
       "\n",
       "    .dataframe tbody tr th {\n",
       "        vertical-align: top;\n",
       "    }\n",
       "\n",
       "    .dataframe thead th {\n",
       "        text-align: right;\n",
       "    }\n",
       "</style>\n",
       "<table border=\"1\" class=\"dataframe\">\n",
       "  <thead>\n",
       "    <tr style=\"text-align: right;\">\n",
       "      <th></th>\n",
       "      <th>Code Range</th>\n",
       "      <th>Description</th>\n",
       "    </tr>\n",
       "  </thead>\n",
       "  <tbody>\n",
       "    <tr>\n",
       "      <th>0</th>\n",
       "      <td>00-10</td>\n",
       "      <td>Infectious disease</td>\n",
       "    </tr>\n",
       "    <tr>\n",
       "      <th>1</th>\n",
       "      <td>11-13</td>\n",
       "      <td>Parasitic diseases</td>\n",
       "    </tr>\n",
       "    <tr>\n",
       "      <th>2</th>\n",
       "      <td>14-20</td>\n",
       "      <td>Malignant neoplasms</td>\n",
       "    </tr>\n",
       "    <tr>\n",
       "      <th>3</th>\n",
       "      <td>21-23</td>\n",
       "      <td>Benign neoplasms</td>\n",
       "    </tr>\n",
       "    <tr>\n",
       "      <th>4</th>\n",
       "      <td>24-27</td>\n",
       "      <td>Endocrine nutritional and metabolic diseases a...</td>\n",
       "    </tr>\n",
       "  </tbody>\n",
       "</table>\n",
       "</div>"
      ],
      "text/plain": [
       "  Code Range                                        Description\n",
       "0      00-10                                 Infectious disease\n",
       "1      11-13                                 Parasitic diseases\n",
       "2      14-20                                Malignant neoplasms\n",
       "3      21-23                                   Benign neoplasms\n",
       "4      24-27  Endocrine nutritional and metabolic diseases a..."
      ]
     },
     "execution_count": 1140,
     "metadata": {},
     "output_type": "execute_result"
    }
   ],
   "source": [
    "disease_df = pd.read_csv('disease_classes.csv')\n",
    "disease_df.head()"
   ]
  },
  {
   "cell_type": "code",
   "execution_count": 1141,
   "metadata": {},
   "outputs": [],
   "source": [
    "# list(disease_df['Code Range'])"
   ]
  },
  {
   "cell_type": "code",
   "execution_count": 1142,
   "metadata": {},
   "outputs": [
    {
     "data": {
      "text/html": [
       "<div>\n",
       "<style scoped>\n",
       "    .dataframe tbody tr th:only-of-type {\n",
       "        vertical-align: middle;\n",
       "    }\n",
       "\n",
       "    .dataframe tbody tr th {\n",
       "        vertical-align: top;\n",
       "    }\n",
       "\n",
       "    .dataframe thead th {\n",
       "        text-align: right;\n",
       "    }\n",
       "</style>\n",
       "<table border=\"1\" class=\"dataframe\">\n",
       "  <thead>\n",
       "    <tr style=\"text-align: right;\">\n",
       "      <th></th>\n",
       "      <th>Code</th>\n",
       "      <th>Description</th>\n",
       "    </tr>\n",
       "  </thead>\n",
       "  <tbody>\n",
       "    <tr>\n",
       "      <th>0</th>\n",
       "      <td>00</td>\n",
       "      <td>Infectious disease</td>\n",
       "    </tr>\n",
       "    <tr>\n",
       "      <th>1</th>\n",
       "      <td>01</td>\n",
       "      <td>Infectious disease</td>\n",
       "    </tr>\n",
       "    <tr>\n",
       "      <th>2</th>\n",
       "      <td>02</td>\n",
       "      <td>Infectious disease</td>\n",
       "    </tr>\n",
       "    <tr>\n",
       "      <th>3</th>\n",
       "      <td>03</td>\n",
       "      <td>Infectious disease</td>\n",
       "    </tr>\n",
       "    <tr>\n",
       "      <th>4</th>\n",
       "      <td>04</td>\n",
       "      <td>Infectious disease</td>\n",
       "    </tr>\n",
       "  </tbody>\n",
       "</table>\n",
       "</div>"
      ],
      "text/plain": [
       "  Code         Description\n",
       "0   00  Infectious disease\n",
       "1   01  Infectious disease\n",
       "2   02  Infectious disease\n",
       "3   03  Infectious disease\n",
       "4   04  Infectious disease"
      ]
     },
     "execution_count": 1142,
     "metadata": {},
     "output_type": "execute_result"
    }
   ],
   "source": [
    "expanded_rows = []\n",
    "\n",
    "for index, row in disease_df.iterrows():\n",
    "    code_range = row['Code Range']\n",
    "    description = row['Description']\n",
    "    \n",
    "\n",
    "    codes = categories.get(code_range, [])\n",
    "    \n",
    " \n",
    "    for code in codes:\n",
    "        expanded_rows.append({\"Code\": code, \"Description\": description})\n",
    "\n",
    "expanded_df = pd.DataFrame(expanded_rows)\n",
    "\n",
    "expanded_df.head()"
   ]
  },
  {
   "cell_type": "code",
   "execution_count": null,
   "metadata": {},
   "outputs": [],
   "source": []
  },
  {
   "cell_type": "code",
   "execution_count": 1143,
   "metadata": {},
   "outputs": [
    {
     "data": {
      "text/html": [
       "<div>\n",
       "<style scoped>\n",
       "    .dataframe tbody tr th:only-of-type {\n",
       "        vertical-align: middle;\n",
       "    }\n",
       "\n",
       "    .dataframe tbody tr th {\n",
       "        vertical-align: top;\n",
       "    }\n",
       "\n",
       "    .dataframe thead th {\n",
       "        text-align: right;\n",
       "    }\n",
       "</style>\n",
       "<table border=\"1\" class=\"dataframe\">\n",
       "  <thead>\n",
       "    <tr style=\"text-align: right;\">\n",
       "      <th></th>\n",
       "      <th>Code</th>\n",
       "      <th>Description</th>\n",
       "      <th>Code Range</th>\n",
       "    </tr>\n",
       "  </thead>\n",
       "  <tbody>\n",
       "    <tr>\n",
       "      <th>0</th>\n",
       "      <td>00</td>\n",
       "      <td>Infectious disease</td>\n",
       "      <td>00-10</td>\n",
       "    </tr>\n",
       "    <tr>\n",
       "      <th>1</th>\n",
       "      <td>01</td>\n",
       "      <td>Infectious disease</td>\n",
       "      <td>00-10</td>\n",
       "    </tr>\n",
       "    <tr>\n",
       "      <th>2</th>\n",
       "      <td>02</td>\n",
       "      <td>Infectious disease</td>\n",
       "      <td>00-10</td>\n",
       "    </tr>\n",
       "    <tr>\n",
       "      <th>3</th>\n",
       "      <td>03</td>\n",
       "      <td>Infectious disease</td>\n",
       "      <td>00-10</td>\n",
       "    </tr>\n",
       "    <tr>\n",
       "      <th>4</th>\n",
       "      <td>04</td>\n",
       "      <td>Infectious disease</td>\n",
       "      <td>00-10</td>\n",
       "    </tr>\n",
       "  </tbody>\n",
       "</table>\n",
       "</div>"
      ],
      "text/plain": [
       "  Code         Description Code Range\n",
       "0   00  Infectious disease      00-10\n",
       "1   01  Infectious disease      00-10\n",
       "2   02  Infectious disease      00-10\n",
       "3   03  Infectious disease      00-10\n",
       "4   04  Infectious disease      00-10"
      ]
     },
     "execution_count": 1143,
     "metadata": {},
     "output_type": "execute_result"
    }
   ],
   "source": [
    "total_disease_df = pd.merge(expanded_df, disease_df, how = 'inner', on = 'Description')\n",
    "total_disease_df.head()"
   ]
  },
  {
   "cell_type": "code",
   "execution_count": 1144,
   "metadata": {},
   "outputs": [
    {
     "name": "stdout",
     "output_type": "stream",
     "text": [
      "<class 'pandas.core.frame.DataFrame'>\n",
      "RangeIndex: 201 entries, 0 to 200\n",
      "Data columns (total 3 columns):\n",
      " #   Column       Non-Null Count  Dtype \n",
      "---  ------       --------------  ----- \n",
      " 0   Code         201 non-null    object\n",
      " 1   Description  201 non-null    object\n",
      " 2   Code Range   201 non-null    object\n",
      "dtypes: object(3)\n",
      "memory usage: 4.8+ KB\n"
     ]
    }
   ],
   "source": [
    "total_disease_df.info()"
   ]
  },
  {
   "cell_type": "code",
   "execution_count": 1145,
   "metadata": {},
   "outputs": [],
   "source": [
    "disease_df.columns = ['Code', 'Description']"
   ]
  },
  {
   "cell_type": "code",
   "execution_count": 1146,
   "metadata": {},
   "outputs": [
    {
     "data": {
      "text/html": [
       "<div>\n",
       "<style scoped>\n",
       "    .dataframe tbody tr th:only-of-type {\n",
       "        vertical-align: middle;\n",
       "    }\n",
       "\n",
       "    .dataframe tbody tr th {\n",
       "        vertical-align: top;\n",
       "    }\n",
       "\n",
       "    .dataframe thead th {\n",
       "        text-align: right;\n",
       "    }\n",
       "</style>\n",
       "<table border=\"1\" class=\"dataframe\">\n",
       "  <thead>\n",
       "    <tr style=\"text-align: right;\">\n",
       "      <th></th>\n",
       "      <th>Code</th>\n",
       "      <th>Description</th>\n",
       "    </tr>\n",
       "  </thead>\n",
       "  <tbody>\n",
       "  </tbody>\n",
       "</table>\n",
       "</div>"
      ],
      "text/plain": [
       "Empty DataFrame\n",
       "Columns: [Code, Description]\n",
       "Index: []"
      ]
     },
     "execution_count": 1146,
     "metadata": {},
     "output_type": "execute_result"
    }
   ],
   "source": [
    "disease_df[disease_df.Code == 'V03']"
   ]
  },
  {
   "cell_type": "code",
   "execution_count": 1147,
   "metadata": {},
   "outputs": [
    {
     "name": "stdout",
     "output_type": "stream",
     "text": [
      "[('14-20', 'Malignant neoplasms'), ('V30-V39', 'Liveborn Infants According To Type Of Birth'), ('V88-V88', 'Acquired Absence Of Other Organs And Tissue'), ('V40-V49', 'Persons With A Condition Influencing Their Health Status'), ('29-31', 'Mental disorders'), ('78', 'Symptoms'), ('67', 'Complications Of puerperium'), ('46-51', 'Diseases Of The Respiratory System'), ('96-99', 'Poisoning'), ('71-73', 'Diseases Of The Musculoskeletal System And Connective Tissue'), ('V85-V85', 'Body Mass Index'), ('21-23', 'Benign neoplasms'), ('58-62', 'Diseases Of The Genitourinary System'), ('76-77', 'Certain Conditions Originating In The Perinatal Period'), ('32-35', 'Disorders of central nervous system'), ('63-66', 'Complications Of Pregnancy and Childbirth'), ('V50-V59', 'Persons Encountering Health Services For Specific Procedures And Aftercare'), ('68-70', 'Diseases Of The Skin And Subcutaneous Tissue'), ('39-45', 'Diseases Of The Circulatory System'), ('80-83', 'Fracture'), ('V10-V19', 'Persons With Potential Health Hazards Related To Personal And Family History'), ('V60-V69', 'Persons Encountering Health Services In Other Circumstances'), ('V91-V91', 'Multiple Gestation Placenta Status'), ('74-75', 'Congenital anomalies'), ('52-57', 'Diseases Of The Digestive System'), ('V90-V90', 'Retained Foreign Body'), ('36-38', 'Organ diseases'), ('28', 'Diseases of blood'), ('V89-V89', 'Other Suspected Conditions Not Found'), ('11-13', 'Parasitic diseases'), ('79', 'Findings and conditions'), ('24-27', 'Endocrine nutritional and metabolic diseases and immunity disorders'), ('V20-V29', 'Persons Encountering Health Services In Circumstances Related To Reproduction And Development'), ('V86-V86', 'Estrogen Receptor Status'), ('E00-E09', 'Supplementary Classification Of External Causes Of Injury And Poisoning'), ('00-10', 'Infectious disease'), ('V70-V82', 'Persons Without Reported Diagnosis Encountered During Examination And Investigation Of Individuals And Populations'), ('V87-V87', 'Other Specified Personal Exposures And History Presenting Hazards To Health'), ('V83-V84', 'Genetics'), ('84-95', 'Injury'), ('V01-V09', 'Persons With Potential Health Hazards Related To Communicable Diseases')]\n"
     ]
    }
   ],
   "source": [
    "print(list(set(disease_df[['Code', 'Description']].reset_index(drop = True).itertuples(index=False, name=None))))"
   ]
  },
  {
   "cell_type": "code",
   "execution_count": 1148,
   "metadata": {},
   "outputs": [
    {
     "data": {
      "text/plain": [
       "[('V40-V49', 'Persons With A Condition Influencing Their Health Status'),\n",
       " ('78', 'Symptoms'),\n",
       " ('46-51', 'Diseases Of The Respiratory System'),\n",
       " ('96-99', 'Poisoning'),\n",
       " ('71-73', 'Diseases Of The Musculoskeletal System And Connective Tissue'),\n",
       " ('58-62', 'Diseases Of The Genitourinary System'),\n",
       " ('32-35', 'Disorders of central nervous system'),\n",
       " ('V50-V59',\n",
       "  'Persons Encountering Health Services For Specific Procedures And Aftercare'),\n",
       " ('68-70', 'Diseases Of The Skin And Subcutaneous Tissue'),\n",
       " ('39-45', 'Diseases Of The Circulatory System'),\n",
       " ('V60-V69', 'Persons Encountering Health Services In Other Circumstances'),\n",
       " ('V10-V19',\n",
       "  'Persons With Potential Health Hazards Related To Personal And Family History'),\n",
       " ('74-75', 'Congenital anomalies'),\n",
       " ('52-57', 'Diseases Of The Digestive System'),\n",
       " ('28', 'Diseases of blood'),\n",
       " ('79', 'Findings and conditions'),\n",
       " ('24-27',\n",
       "  'Endocrine nutritional and metabolic diseases and immunity disorders'),\n",
       " ('00-10', 'Infectious disease'),\n",
       " ('V70-V82',\n",
       "  'Persons Without Reported Diagnosis Encountered During Examination And Investigation Of Individuals And Populations'),\n",
       " ('V01-V09',\n",
       "  'Persons With Potential Health Hazards Related To Communicable Diseases')]"
      ]
     },
     "execution_count": 1148,
     "metadata": {},
     "output_type": "execute_result"
    }
   ],
   "source": [
    "filtered_df = disease_df[disease_df.Code.isin(['39-45', '24-27', '96-99', '28', '52-57', '78', 'V50-V59', '58-62', '79', 'V10-V19', '74-75', '32-35', 'V40-V49', '68-70', 'V60-V69', '71-73', '00-10', '46-51', 'V01-V09', 'V70-V82'])][['Code', 'Description']].reset_index(drop = True)\n",
    "code_desc_tuples = list(set(filtered_df.itertuples(index=False, name=None)))\n",
    "code_desc_tuples"
   ]
  },
  {
   "cell_type": "code",
   "execution_count": 1155,
   "metadata": {},
   "outputs": [
    {
     "name": "stdout",
     "output_type": "stream",
     "text": [
      "['HEADACHE', 'Headache', 'headache', 'Severe headache during headache episodes', 'Massive headache', 'Headache (migraine)', 'Dull headache', 'whole headache', 'worst headache', 'waxing headache', 'worse headache', 'vasospasm headache', 'Light headache', 'Migraine headache', 'headache-frontal', 'Mild Headache', 'holocranial headache', 'Mild headache', 'increased headache', 'worsening headache', 'Extensive fractures', 'Extensive injuries', 'Extensive bruising', 'Extensive supratentorial edema', 'Extensive cardiac history', 'Extensive pulmonary contusions', 'Extensive rib fractures', 'Extensive brain injury', 'Extensive superficial lacerations', 'Extensive blood loss', 'Extensive bilateral PEs', 'Extensive intraparenchymal hemorrhage', 'Extensive facial lacerations', 'Extensive smoking history', 'Extensive front end damage', 'Extensive left-sided injuries', 'Extensive vertebral compression fractures', 'Extensive soft tissue damage', 'extensive bleed during bronchoscopy', 'extensive necrotic L thigh wound', 'Nausea', 'nausea', 'NAUSEA', 'Denies nausea', 'bilious nausea', 'Intermittent nausea', 'transient nausea', 'postprandial nausea', 'positive nausea', 'associated nausea', 'denies nausea', 'persistent nausea', 'chronic nausea', 'Intractable nausea', 'constant nausea', 'Worsening nausea', 'increasing nausea', 'intermittent nausea', 'Denying nausea', 'Abdominal nausea']\n"
     ]
    }
   ],
   "source": [
    "def escape_special_chars(query):\n",
    "    return query.replace(\"'\", \"\\\\'\").replace(\"/\", \"\\\\/\")\n",
    "\n",
    "def search_symptoms(query_strings):\n",
    "    all_symptoms = []\n",
    "    for query_string in query_strings:\n",
    "        escaped_query = escape_special_chars(query_string)  # Escape the query string\n",
    "        with driver_1.session() as session:\n",
    "            result = session.run(\n",
    "                f\"CALL db.index.fulltext.queryNodes('symptomIndex', '{escaped_query}') \"\n",
    "                \"YIELD node, score \"\n",
    "                \"RETURN node.name AS symptom, score \"\n",
    "                \"ORDER BY score DESC \"\n",
    "                \"LIMIT 20\"\n",
    "            )\n",
    "            symptoms = [record['symptom'] for record in result]\n",
    "            all_symptoms.extend(symptoms)\n",
    "    return all_symptoms\n",
    "\n",
    "# Example usage\n",
    "search_queries = ['headache', \"extensive microcalcification's\", 'nausea']\n",
    "search_results = search_symptoms(search_queries)\n",
    "print(search_results)"
   ]
  },
  {
   "cell_type": "code",
   "execution_count": 1159,
   "metadata": {},
   "outputs": [
    {
     "data": {
      "text/plain": [
       "['39-45',\n",
       " '24-27',\n",
       " '46-51',\n",
       " '28',\n",
       " '78',\n",
       " '96-99',\n",
       " '58-62',\n",
       " '52-57',\n",
       " 'V50-V59',\n",
       " '79',\n",
       " 'V10-V19',\n",
       " '71-73',\n",
       " 'nan',\n",
       " '29-31',\n",
       " '68-70',\n",
       " '32-35',\n",
       " '36-38',\n",
       " '14-20',\n",
       " '00-10',\n",
       " 'V40-V49']"
      ]
     },
     "execution_count": 1159,
     "metadata": {},
     "output_type": "execute_result"
    }
   ],
   "source": [
    "expanded_query =  search_symptoms(['dyspnea'])\n",
    "pred_labels = get_prioritized_relationships(expanded_query,weightage=1,limit= 20)[0]\n",
    "pred_labels"
   ]
  },
  {
   "cell_type": "code",
   "execution_count": null,
   "metadata": {},
   "outputs": [],
   "source": []
  },
  {
   "cell_type": "code",
   "execution_count": 1156,
   "metadata": {},
   "outputs": [
    {
     "name": "stderr",
     "output_type": "stream",
     "text": [
      "2it [00:01,  1.30it/s]"
     ]
    },
    {
     "name": "stdout",
     "output_type": "stream",
     "text": [
      "['39-45', '78', '46-51', '24-27']\n"
     ]
    },
    {
     "name": "stderr",
     "output_type": "stream",
     "text": [
      "62it [00:02, 32.00it/s]"
     ]
    },
    {
     "name": "stdout",
     "output_type": "stream",
     "text": [
      "['39-45', '46-51', '78', '24-27', '80-83']\n"
     ]
    },
    {
     "name": "stderr",
     "output_type": "stream",
     "text": [
      "71it [00:03, 24.94it/s]"
     ]
    },
    {
     "name": "stdout",
     "output_type": "stream",
     "text": [
      "['21-23', '14-20', 'V88-V88', '68-70']\n"
     ]
    },
    {
     "name": "stderr",
     "output_type": "stream",
     "text": [
      "81it [00:04, 19.19it/s]"
     ]
    },
    {
     "name": "stdout",
     "output_type": "stream",
     "text": [
      "['46-51', '78', '29-31']\n"
     ]
    },
    {
     "name": "stderr",
     "output_type": "stream",
     "text": [
      "152it [00:05, 36.67it/s]"
     ]
    },
    {
     "name": "stdout",
     "output_type": "stream",
     "text": [
      "['78', '29-31', '32-35', '79', '96-99']\n"
     ]
    },
    {
     "name": "stderr",
     "output_type": "stream",
     "text": [
      "166it [00:11, 10.98it/s]"
     ]
    },
    {
     "name": "stdout",
     "output_type": "stream",
     "text": [
      "['14-20', '21-23', '52-57', '36-38']\n"
     ]
    },
    {
     "name": "stderr",
     "output_type": "stream",
     "text": [
      "224it [00:23,  6.79it/s]"
     ]
    },
    {
     "name": "stdout",
     "output_type": "stream",
     "text": [
      "['39-45', '46-51', '78', '79']\n"
     ]
    },
    {
     "name": "stderr",
     "output_type": "stream",
     "text": [
      "253it [00:34,  4.77it/s]"
     ]
    },
    {
     "name": "stdout",
     "output_type": "stream",
     "text": [
      "['39-45', '46-51', '78', '79']\n"
     ]
    },
    {
     "name": "stderr",
     "output_type": "stream",
     "text": [
      "260it [00:45,  3.05it/s]"
     ]
    },
    {
     "name": "stdout",
     "output_type": "stream",
     "text": [
      "['46-51', '39-45', '78']\n"
     ]
    },
    {
     "name": "stderr",
     "output_type": "stream",
     "text": [
      "293it [00:57,  2.99it/s]"
     ]
    },
    {
     "name": "stdout",
     "output_type": "stream",
     "text": [
      "['78', '39-45', '24-27', '32-35', '46-51']\n"
     ]
    },
    {
     "name": "stderr",
     "output_type": "stream",
     "text": [
      "329it [01:09,  2.97it/s]"
     ]
    },
    {
     "name": "stdout",
     "output_type": "stream",
     "text": [
      "['39-45', '78', '71-73']\n"
     ]
    },
    {
     "name": "stderr",
     "output_type": "stream",
     "text": [
      "347it [01:21,  2.51it/s]"
     ]
    },
    {
     "name": "stdout",
     "output_type": "stream",
     "text": [
      "['39-45', '46-51', '78']\n"
     ]
    },
    {
     "name": "stderr",
     "output_type": "stream",
     "text": [
      "405it [01:33,  3.24it/s]"
     ]
    },
    {
     "name": "stdout",
     "output_type": "stream",
     "text": [
      "['24-27', '29-31', '78', '79']\n"
     ]
    },
    {
     "name": "stderr",
     "output_type": "stream",
     "text": [
      "429it [01:44,  2.88it/s]"
     ]
    },
    {
     "name": "stdout",
     "output_type": "stream",
     "text": [
      "['71-73', '39-45', '78', '32-35', '46-51', '79']\n"
     ]
    },
    {
     "name": "stderr",
     "output_type": "stream",
     "text": [
      "540it [01:56,  4.96it/s]"
     ]
    },
    {
     "name": "stdout",
     "output_type": "stream",
     "text": [
      "['46-51', '39-45', '78', '79']\n"
     ]
    },
    {
     "name": "stderr",
     "output_type": "stream",
     "text": [
      "557it [02:07,  3.93it/s]"
     ]
    },
    {
     "name": "stdout",
     "output_type": "stream",
     "text": [
      "['78', '24-27', '29-31', '79', 'V40-V49']\n"
     ]
    },
    {
     "name": "stderr",
     "output_type": "stream",
     "text": [
      "604it [02:19,  3.91it/s]"
     ]
    },
    {
     "name": "stdout",
     "output_type": "stream",
     "text": [
      "['78', '39-45', '24-27', '79']\n"
     ]
    },
    {
     "name": "stderr",
     "output_type": "stream",
     "text": [
      "714it [02:31,  5.63it/s]"
     ]
    },
    {
     "name": "stdout",
     "output_type": "stream",
     "text": [
      "['78', '46-51', '39-45', '24-27', '32-35', '29-31']\n"
     ]
    },
    {
     "name": "stderr",
     "output_type": "stream",
     "text": [
      "744it [02:43,  4.63it/s]"
     ]
    },
    {
     "name": "stdout",
     "output_type": "stream",
     "text": [
      "['71-73', '78', '80-83', '39-45', '68-70']\n"
     ]
    },
    {
     "name": "stderr",
     "output_type": "stream",
     "text": [
      "803it [02:54,  4.81it/s]"
     ]
    },
    {
     "name": "stdout",
     "output_type": "stream",
     "text": [
      "['39-45', '46-51', '78']\n"
     ]
    },
    {
     "name": "stderr",
     "output_type": "stream",
     "text": [
      "840it [03:06,  4.26it/s]"
     ]
    },
    {
     "name": "stdout",
     "output_type": "stream",
     "text": [
      "['46-51', '39-45', '78', '79']\n"
     ]
    },
    {
     "name": "stderr",
     "output_type": "stream",
     "text": [
      "972it [03:18,  6.40it/s]"
     ]
    },
    {
     "name": "stdout",
     "output_type": "stream",
     "text": [
      "['V20-V29', 'V40-V49', 'V60-V69', 'V70-V82', 'V87-V87', '78', '79']\n"
     ]
    },
    {
     "name": "stderr",
     "output_type": "stream",
     "text": [
      "1021it [03:29,  5.78it/s]"
     ]
    },
    {
     "name": "stdout",
     "output_type": "stream",
     "text": [
      "['46-51', '78', '79']\n"
     ]
    },
    {
     "name": "stderr",
     "output_type": "stream",
     "text": [
      "1057it [03:41,  4.99it/s]"
     ]
    },
    {
     "name": "stdout",
     "output_type": "stream",
     "text": [
      "['39-45', '46-51', '78', '79']\n"
     ]
    },
    {
     "name": "stderr",
     "output_type": "stream",
     "text": [
      "1088it [03:53,  4.21it/s]"
     ]
    },
    {
     "name": "stdout",
     "output_type": "stream",
     "text": [
      "['71-73', '78', '79', '80-83']\n"
     ]
    },
    {
     "name": "stderr",
     "output_type": "stream",
     "text": [
      "1111it [04:05,  3.51it/s]"
     ]
    },
    {
     "name": "stdout",
     "output_type": "stream",
     "text": [
      "['78', '71-73', '80-83', '58-62', '39-45']\n"
     ]
    },
    {
     "name": "stderr",
     "output_type": "stream",
     "text": [
      "1143it [04:17,  3.27it/s]"
     ]
    },
    {
     "name": "stdout",
     "output_type": "stream",
     "text": [
      "['39-45', '21-23', 'V88-V88', '71-73']\n"
     ]
    },
    {
     "name": "stderr",
     "output_type": "stream",
     "text": [
      "1186it [04:27,  3.49it/s]"
     ]
    },
    {
     "name": "stdout",
     "output_type": "stream",
     "text": [
      "['39-45', '46-51', '78']\n"
     ]
    },
    {
     "name": "stderr",
     "output_type": "stream",
     "text": [
      "1286it [04:40,  4.90it/s]"
     ]
    },
    {
     "name": "stdout",
     "output_type": "stream",
     "text": [
      "['46-51', '78', '39-45', '24-27', 'V40-V49']\n"
     ]
    },
    {
     "name": "stderr",
     "output_type": "stream",
     "text": [
      "1312it [04:52,  4.12it/s]"
     ]
    },
    {
     "name": "stdout",
     "output_type": "stream",
     "text": [
      "['46-51', '39-45', '78']\n"
     ]
    },
    {
     "name": "stderr",
     "output_type": "stream",
     "text": [
      "1313it [05:03,  2.96it/s]"
     ]
    },
    {
     "name": "stdout",
     "output_type": "stream",
     "text": [
      "['39-45', '46-51', '78', '79']\n"
     ]
    },
    {
     "name": "stderr",
     "output_type": "stream",
     "text": [
      "1385it [05:14,  3.98it/s]"
     ]
    },
    {
     "name": "stdout",
     "output_type": "stream",
     "text": [
      "['39-45', '46-51', '78', '79']\n"
     ]
    },
    {
     "name": "stderr",
     "output_type": "stream",
     "text": [
      "1396it [05:26,  3.03it/s]"
     ]
    },
    {
     "name": "stdout",
     "output_type": "stream",
     "text": [
      "['52-57', '24-27', '78']\n"
     ]
    },
    {
     "name": "stderr",
     "output_type": "stream",
     "text": [
      "1407it [05:38,  2.37it/s]"
     ]
    },
    {
     "name": "stdout",
     "output_type": "stream",
     "text": [
      "['46-51', '39-45', '78']\n"
     ]
    },
    {
     "name": "stderr",
     "output_type": "stream",
     "text": [
      "1419it [05:49,  1.99it/s]"
     ]
    },
    {
     "name": "stdout",
     "output_type": "stream",
     "text": [
      "['39-45', '46-51', '78']\n"
     ]
    },
    {
     "name": "stderr",
     "output_type": "stream",
     "text": [
      "1449it [06:01,  2.19it/s]"
     ]
    },
    {
     "name": "stdout",
     "output_type": "stream",
     "text": [
      "['14-20', '52-57']\n"
     ]
    },
    {
     "name": "stderr",
     "output_type": "stream",
     "text": [
      "1453it [06:13,  1.61it/s]"
     ]
    },
    {
     "name": "stdout",
     "output_type": "stream",
     "text": [
      "['71-73', '80-83', '78']\n"
     ]
    },
    {
     "name": "stderr",
     "output_type": "stream",
     "text": [
      "1476it [06:24,  1.72it/s]"
     ]
    },
    {
     "name": "stdout",
     "output_type": "stream",
     "text": [
      "['39-45', '46-51', '78']\n"
     ]
    },
    {
     "name": "stderr",
     "output_type": "stream",
     "text": [
      "1484it [06:36,  1.43it/s]"
     ]
    },
    {
     "name": "stdout",
     "output_type": "stream",
     "text": [
      "['78', '39-45', '46-51', '71-73', 'V40-V49']\n"
     ]
    },
    {
     "name": "stderr",
     "output_type": "stream",
     "text": [
      "1488it [06:48,  1.08it/s]"
     ]
    },
    {
     "name": "stdout",
     "output_type": "stream",
     "text": [
      "['46-51', '78', '79']\n"
     ]
    },
    {
     "name": "stderr",
     "output_type": "stream",
     "text": [
      "1493it [06:59,  1.12s/it]"
     ]
    },
    {
     "name": "stdout",
     "output_type": "stream",
     "text": [
      "['V40-V49', 'V70-V82', 'V87-V87', '79']\n"
     ]
    },
    {
     "name": "stderr",
     "output_type": "stream",
     "text": [
      "1521it [07:11,  1.34it/s]"
     ]
    },
    {
     "name": "stdout",
     "output_type": "stream",
     "text": [
      "['84-95', '80-83', 'V88-V88', '71-73']\n"
     ]
    },
    {
     "name": "stderr",
     "output_type": "stream",
     "text": [
      "1611it [07:23,  3.27it/s]"
     ]
    },
    {
     "name": "stdout",
     "output_type": "stream",
     "text": [
      "['46-51', '39-45', '78']\n"
     ]
    },
    {
     "name": "stderr",
     "output_type": "stream",
     "text": [
      "1615it [07:34,  2.41it/s]"
     ]
    },
    {
     "name": "stdout",
     "output_type": "stream",
     "text": [
      "['78', '46-51', '39-45']\n"
     ]
    },
    {
     "name": "stderr",
     "output_type": "stream",
     "text": [
      "1616it [07:47,  1.67it/s]"
     ]
    },
    {
     "name": "stdout",
     "output_type": "stream",
     "text": [
      "['14-20', '52-57', '58-62']\n"
     ]
    },
    {
     "name": "stderr",
     "output_type": "stream",
     "text": [
      "1637it [07:58,  1.72it/s]"
     ]
    },
    {
     "name": "stdout",
     "output_type": "stream",
     "text": [
      "['58-62', '78']\n"
     ]
    },
    {
     "name": "stderr",
     "output_type": "stream",
     "text": [
      "1694it [08:09,  2.69it/s]"
     ]
    },
    {
     "name": "stdout",
     "output_type": "stream",
     "text": [
      "['39-45', '46-51', '78', '79']\n"
     ]
    },
    {
     "name": "stderr",
     "output_type": "stream",
     "text": [
      "1721it [08:21,  2.55it/s]"
     ]
    },
    {
     "name": "stdout",
     "output_type": "stream",
     "text": [
      "['39-45', '46-51', '78']\n"
     ]
    },
    {
     "name": "stderr",
     "output_type": "stream",
     "text": [
      "1775it [08:33,  3.18it/s]"
     ]
    },
    {
     "name": "stdout",
     "output_type": "stream",
     "text": [
      "['39-45', '46-51', '78']\n"
     ]
    },
    {
     "name": "stderr",
     "output_type": "stream",
     "text": [
      "1867it [08:45,  4.59it/s]"
     ]
    },
    {
     "name": "stdout",
     "output_type": "stream",
     "text": [
      "['46-51', '78', '39-45', '79']\n"
     ]
    },
    {
     "name": "stderr",
     "output_type": "stream",
     "text": [
      "1874it [08:56,  3.40it/s]"
     ]
    },
    {
     "name": "stdout",
     "output_type": "stream",
     "text": [
      "['32-35', '78', '29-31']\n"
     ]
    },
    {
     "name": "stderr",
     "output_type": "stream",
     "text": [
      "2029it [09:08,  6.41it/s]"
     ]
    },
    {
     "name": "stdout",
     "output_type": "stream",
     "text": [
      "['46-51', '39-45', '78', '24-27']\n"
     ]
    },
    {
     "name": "stderr",
     "output_type": "stream",
     "text": [
      "2083it [09:19,  5.88it/s]"
     ]
    },
    {
     "name": "stdout",
     "output_type": "stream",
     "text": [
      "['80-83', '71-73', '78', 'E00-E09']\n"
     ]
    },
    {
     "name": "stderr",
     "output_type": "stream",
     "text": [
      "2151it [09:31,  5.88it/s]"
     ]
    },
    {
     "name": "stdout",
     "output_type": "stream",
     "text": [
      "['58-62', '78']\n"
     ]
    },
    {
     "name": "stderr",
     "output_type": "stream",
     "text": [
      "2165it [09:42,  4.48it/s]"
     ]
    },
    {
     "name": "stdout",
     "output_type": "stream",
     "text": [
      "['39-45', '46-51', '78', '24-27', '29-31']\n"
     ]
    },
    {
     "name": "stderr",
     "output_type": "stream",
     "text": [
      "2178it [09:54,  3.42it/s]"
     ]
    },
    {
     "name": "stdout",
     "output_type": "stream",
     "text": [
      "['52-57', '11-13', '39-45', '58-62', '78']\n"
     ]
    },
    {
     "name": "stderr",
     "output_type": "stream",
     "text": [
      "2202it [10:06,  3.00it/s]"
     ]
    },
    {
     "name": "stdout",
     "output_type": "stream",
     "text": [
      "['39-45', '46-51', '78']\n"
     ]
    },
    {
     "name": "stderr",
     "output_type": "stream",
     "text": [
      "2368it [10:18,  6.28it/s]"
     ]
    },
    {
     "name": "stdout",
     "output_type": "stream",
     "text": [
      "['32-35', '78', '79']\n"
     ]
    },
    {
     "name": "stderr",
     "output_type": "stream",
     "text": [
      "2389it [10:30,  4.96it/s]"
     ]
    },
    {
     "name": "stdout",
     "output_type": "stream",
     "text": [
      "['78', '46-51', '39-45']\n"
     ]
    },
    {
     "name": "stderr",
     "output_type": "stream",
     "text": [
      "2428it [10:41,  4.53it/s]"
     ]
    },
    {
     "name": "stdout",
     "output_type": "stream",
     "text": [
      "['78', '39-45', '46-51', '52-57', '71-73', '36-38']\n"
     ]
    },
    {
     "name": "stderr",
     "output_type": "stream",
     "text": [
      "2524it [10:53,  5.69it/s]"
     ]
    },
    {
     "name": "stdout",
     "output_type": "stream",
     "text": [
      "['39-45', '21-23', 'V88-V88', '78', '79', '39-45']\n"
     ]
    },
    {
     "name": "stderr",
     "output_type": "stream",
     "text": [
      "2546it [11:05,  4.46it/s]"
     ]
    },
    {
     "name": "stdout",
     "output_type": "stream",
     "text": [
      "['39-45', '46-51', '78', '79']\n"
     ]
    },
    {
     "name": "stderr",
     "output_type": "stream",
     "text": [
      "2571it [11:17,  3.76it/s]"
     ]
    },
    {
     "name": "stdout",
     "output_type": "stream",
     "text": [
      "['46-51', '39-45', '78']\n"
     ]
    },
    {
     "name": "stderr",
     "output_type": "stream",
     "text": [
      "2611it [11:28,  3.71it/s]"
     ]
    },
    {
     "name": "stdout",
     "output_type": "stream",
     "text": [
      "['39-45', '46-51', '71-73', '78', '80-83', '84-95', '96-99']\n"
     ]
    },
    {
     "name": "stderr",
     "output_type": "stream",
     "text": [
      "2624it [11:40,  2.89it/s]"
     ]
    },
    {
     "name": "stdout",
     "output_type": "stream",
     "text": [
      "['V40-V49', 'V20-V29', 'V87-V87', 'V70-V82', 'V01-V09', 'V60-V69', 'V10-V19']\n"
     ]
    },
    {
     "name": "stderr",
     "output_type": "stream",
     "text": [
      "2666it [11:51,  3.13it/s]"
     ]
    },
    {
     "name": "stdout",
     "output_type": "stream",
     "text": [
      "['68-70', '80-83', '78']\n"
     ]
    },
    {
     "name": "stderr",
     "output_type": "stream",
     "text": [
      "2700it [12:04,  3.00it/s]"
     ]
    },
    {
     "name": "stdout",
     "output_type": "stream",
     "text": [
      "['39-45', '46-51', '78']\n"
     ]
    },
    {
     "name": "stderr",
     "output_type": "stream",
     "text": [
      "2803it [12:15,  4.74it/s]"
     ]
    },
    {
     "name": "stdout",
     "output_type": "stream",
     "text": [
      "['46-51', '39-45', '78']\n"
     ]
    },
    {
     "name": "stderr",
     "output_type": "stream",
     "text": [
      "2806it [12:27,  3.38it/s]"
     ]
    },
    {
     "name": "stdout",
     "output_type": "stream",
     "text": [
      "['46-51', '39-45', '78', '71-73', '36-38', '58-62']\n"
     ]
    },
    {
     "name": "stderr",
     "output_type": "stream",
     "text": [
      "2807it [12:39,  2.41it/s]"
     ]
    },
    {
     "name": "stdout",
     "output_type": "stream",
     "text": [
      "['39-45', '24-27', '46-51', '78', '29-31']\n"
     ]
    },
    {
     "name": "stderr",
     "output_type": "stream",
     "text": [
      "2809it [12:50,  1.75it/s]"
     ]
    },
    {
     "name": "stdout",
     "output_type": "stream",
     "text": [
      "['46-51', '39-45', '78', '24-27', '79']\n"
     ]
    },
    {
     "name": "stderr",
     "output_type": "stream",
     "text": [
      "2835it [13:02,  1.90it/s]"
     ]
    },
    {
     "name": "stdout",
     "output_type": "stream",
     "text": [
      "['39-45', '46-51', '78']\n"
     ]
    },
    {
     "name": "stderr",
     "output_type": "stream",
     "text": [
      "2871it [13:13,  2.27it/s]"
     ]
    },
    {
     "name": "stdout",
     "output_type": "stream",
     "text": [
      "['46-51', '39-45', '78']\n"
     ]
    },
    {
     "name": "stderr",
     "output_type": "stream",
     "text": [
      "2885it [13:26,  1.90it/s]"
     ]
    },
    {
     "name": "stdout",
     "output_type": "stream",
     "text": [
      "['V40-V49', 'V20-V29', 'V60-V69', 'V10-V19', '78', 'V87-V87', 'V70-V82', 'V01-V09']\n"
     ]
    },
    {
     "name": "stderr",
     "output_type": "stream",
     "text": [
      "2891it [13:37,  1.50it/s]"
     ]
    },
    {
     "name": "stdout",
     "output_type": "stream",
     "text": [
      "['39-45', '46-51', '78', '79']\n"
     ]
    },
    {
     "name": "stderr",
     "output_type": "stream",
     "text": [
      "2902it [13:49,  1.34it/s]"
     ]
    },
    {
     "name": "stdout",
     "output_type": "stream",
     "text": [
      "['32-35', '78', '79', '29-31']\n"
     ]
    },
    {
     "name": "stderr",
     "output_type": "stream",
     "text": [
      "2913it [14:00,  1.22it/s]"
     ]
    },
    {
     "name": "stdout",
     "output_type": "stream",
     "text": [
      "['39-45', '24-27', '78', '21-23']\n"
     ]
    },
    {
     "name": "stderr",
     "output_type": "stream",
     "text": [
      "2955it [14:12,  1.95it/s]"
     ]
    },
    {
     "name": "stdout",
     "output_type": "stream",
     "text": [
      "['46-51', '39-45', '24-27', '78']\n"
     ]
    },
    {
     "name": "stderr",
     "output_type": "stream",
     "text": [
      "3137it [14:24,  5.96it/s]"
     ]
    },
    {
     "name": "stdout",
     "output_type": "stream",
     "text": [
      "['71-73', '78', '80-83', '39-45', '46-51', '84-95']\n"
     ]
    },
    {
     "name": "stderr",
     "output_type": "stream",
     "text": [
      "3140it [14:35,  4.30it/s]"
     ]
    },
    {
     "name": "stdout",
     "output_type": "stream",
     "text": [
      "['39-45', '78', '29-31', '24-27', '46-51']\n"
     ]
    },
    {
     "name": "stderr",
     "output_type": "stream",
     "text": [
      "3156it [14:48,  3.38it/s]"
     ]
    },
    {
     "name": "stdout",
     "output_type": "stream",
     "text": [
      "['39-45', '46-51', '78', '79']\n"
     ]
    },
    {
     "name": "stderr",
     "output_type": "stream",
     "text": [
      "3188it [14:59,  3.21it/s]"
     ]
    },
    {
     "name": "stdout",
     "output_type": "stream",
     "text": [
      "['39-45', '78', '24-27', '79', '46-51', '32-35']\n"
     ]
    },
    {
     "name": "stderr",
     "output_type": "stream",
     "text": [
      "3212it [15:11,  2.83it/s]"
     ]
    },
    {
     "name": "stdout",
     "output_type": "stream",
     "text": [
      "['39-45', '68-70', '24-27', '78']\n"
     ]
    },
    {
     "name": "stderr",
     "output_type": "stream",
     "text": [
      "3304it [15:22,  4.38it/s]"
     ]
    },
    {
     "name": "stdout",
     "output_type": "stream",
     "text": [
      "['46-51', '39-45', '78', '79']\n"
     ]
    },
    {
     "name": "stderr",
     "output_type": "stream",
     "text": [
      "3406it [15:35,  5.58it/s]"
     ]
    },
    {
     "name": "stdout",
     "output_type": "stream",
     "text": [
      "['46-51', '78']\n"
     ]
    },
    {
     "name": "stderr",
     "output_type": "stream",
     "text": [
      "3430it [15:46,  4.58it/s]"
     ]
    },
    {
     "name": "stdout",
     "output_type": "stream",
     "text": [
      "['39-45', '46-51', '71-73', '78', '79']\n"
     ]
    },
    {
     "name": "stderr",
     "output_type": "stream",
     "text": [
      "3449it [15:58,  3.67it/s]"
     ]
    },
    {
     "name": "stdout",
     "output_type": "stream",
     "text": [
      "['39-45', '46-51', '78']\n"
     ]
    },
    {
     "name": "stderr",
     "output_type": "stream",
     "text": [
      "3518it [16:09,  4.39it/s]"
     ]
    },
    {
     "name": "stdout",
     "output_type": "stream",
     "text": [
      "['39-45', '71-73', 'V88-V88']\n"
     ]
    },
    {
     "name": "stderr",
     "output_type": "stream",
     "text": [
      "3567it [16:21,  4.30it/s]"
     ]
    },
    {
     "name": "stdout",
     "output_type": "stream",
     "text": [
      "['39-45', '71-73']\n"
     ]
    },
    {
     "name": "stderr",
     "output_type": "stream",
     "text": [
      "3580it [16:33,  3.37it/s]"
     ]
    },
    {
     "name": "stdout",
     "output_type": "stream",
     "text": [
      "['46-51', '39-45', '78']\n"
     ]
    },
    {
     "name": "stderr",
     "output_type": "stream",
     "text": [
      "3706it [16:44,  5.66it/s]"
     ]
    },
    {
     "name": "stdout",
     "output_type": "stream",
     "text": [
      "['39-45', '46-51', '78', '79']\n"
     ]
    },
    {
     "name": "stderr",
     "output_type": "stream",
     "text": [
      "3716it [16:57,  4.12it/s]"
     ]
    },
    {
     "name": "stdout",
     "output_type": "stream",
     "text": [
      "['78', '46-51', '39-45', '24-27', '32-35']\n"
     ]
    },
    {
     "name": "stderr",
     "output_type": "stream",
     "text": [
      "3731it [17:08,  3.28it/s]"
     ]
    },
    {
     "name": "stdout",
     "output_type": "stream",
     "text": [
      "['32-35', '39-45', '46-51', '78']\n"
     ]
    },
    {
     "name": "stderr",
     "output_type": "stream",
     "text": [
      "3735it [17:20,  2.42it/s]"
     ]
    },
    {
     "name": "stdout",
     "output_type": "stream",
     "text": [
      "['39-45', '46-51', '78']\n"
     ]
    },
    {
     "name": "stderr",
     "output_type": "stream",
     "text": [
      "3741it [17:31,  1.85it/s]"
     ]
    },
    {
     "name": "stdout",
     "output_type": "stream",
     "text": [
      "['39-45', '46-51', '78', '79']\n"
     ]
    },
    {
     "name": "stderr",
     "output_type": "stream",
     "text": [
      "3787it [17:43,  2.44it/s]"
     ]
    },
    {
     "name": "stdout",
     "output_type": "stream",
     "text": [
      "['39-45', '78', '46-51', '24-27', '71-73', '32-35']\n"
     ]
    },
    {
     "name": "stderr",
     "output_type": "stream",
     "text": [
      "3793it [17:55,  1.87it/s]"
     ]
    },
    {
     "name": "stdout",
     "output_type": "stream",
     "text": [
      "['46-51', '39-45', '78', '79']\n"
     ]
    },
    {
     "name": "stderr",
     "output_type": "stream",
     "text": [
      "3817it [18:06,  1.94it/s]"
     ]
    },
    {
     "name": "stdout",
     "output_type": "stream",
     "text": [
      "['46-51', '68-70', '78']\n"
     ]
    },
    {
     "name": "stderr",
     "output_type": "stream",
     "text": [
      "3860it [18:18,  2.49it/s]"
     ]
    },
    {
     "name": "stdout",
     "output_type": "stream",
     "text": [
      "['24-27', '71-73', '78', '29-31', '39-45']\n"
     ]
    },
    {
     "name": "stderr",
     "output_type": "stream",
     "text": [
      "3953it [18:30,  4.07it/s]"
     ]
    },
    {
     "name": "stdout",
     "output_type": "stream",
     "text": [
      "['78', '46-51', '39-45', '24-27']\n"
     ]
    },
    {
     "name": "stderr",
     "output_type": "stream",
     "text": [
      "3983it [18:42,  3.59it/s]"
     ]
    },
    {
     "name": "stdout",
     "output_type": "stream",
     "text": [
      "['39-45', '46-51', '78', '79']\n"
     ]
    },
    {
     "name": "stderr",
     "output_type": "stream",
     "text": [
      "4076it [18:54,  4.84it/s]"
     ]
    },
    {
     "name": "stdout",
     "output_type": "stream",
     "text": [
      "['78', '71-73', '68-70', '79', '58-62', '24-27', '32-35', '39-45', '46-51', '84-95', '96-99']\n"
     ]
    },
    {
     "name": "stderr",
     "output_type": "stream",
     "text": [
      "4085it [19:05,  3.67it/s]"
     ]
    },
    {
     "name": "stdout",
     "output_type": "stream",
     "text": [
      "['39-45', '46-51', '52-57', '78']\n"
     ]
    },
    {
     "name": "stderr",
     "output_type": "stream",
     "text": [
      "4127it [19:17,  3.70it/s]"
     ]
    },
    {
     "name": "stdout",
     "output_type": "stream",
     "text": [
      "['39-45', '46-51', '78', '79']\n"
     ]
    },
    {
     "name": "stderr",
     "output_type": "stream",
     "text": [
      "4144it [19:28,  3.04it/s]"
     ]
    },
    {
     "name": "stdout",
     "output_type": "stream",
     "text": [
      "['71-73', '78', '80-83']\n"
     ]
    },
    {
     "name": "stderr",
     "output_type": "stream",
     "text": [
      "4232it [19:40,  4.34it/s]"
     ]
    },
    {
     "name": "stdout",
     "output_type": "stream",
     "text": [
      "['46-51', '39-45', '78', '21-23', 'V40-V49', 'V60-V69']\n"
     ]
    },
    {
     "name": "stderr",
     "output_type": "stream",
     "text": [
      "4236it [19:52,  3.14it/s]"
     ]
    },
    {
     "name": "stdout",
     "output_type": "stream",
     "text": [
      "['V40-V49', '39-45', 'V79', '78']\n"
     ]
    },
    {
     "name": "stderr",
     "output_type": "stream",
     "text": [
      "4264it [20:04,  2.88it/s]"
     ]
    },
    {
     "name": "stdout",
     "output_type": "stream",
     "text": [
      "['39-45', '78', '79', '46-51', '29-31']\n"
     ]
    },
    {
     "name": "stderr",
     "output_type": "stream",
     "text": [
      "4292it [20:15,  2.77it/s]"
     ]
    },
    {
     "name": "stdout",
     "output_type": "stream",
     "text": [
      "['39-45', '46-51', '78']\n"
     ]
    },
    {
     "name": "stderr",
     "output_type": "stream",
     "text": [
      "4303it [20:27,  2.25it/s]"
     ]
    },
    {
     "name": "stdout",
     "output_type": "stream",
     "text": [
      "['46-51', '78', '39-45', '24-27', '79']\n"
     ]
    },
    {
     "name": "stderr",
     "output_type": "stream",
     "text": [
      "4365it [20:39,  3.13it/s]"
     ]
    },
    {
     "name": "stdout",
     "output_type": "stream",
     "text": [
      "['39-45', '46-51', '78', '29-31', '21-23']\n"
     ]
    },
    {
     "name": "stderr",
     "output_type": "stream",
     "text": [
      "4374it [20:50,  2.44it/s]"
     ]
    },
    {
     "name": "stdout",
     "output_type": "stream",
     "text": [
      "['39-45', '78', '46-51', '32-35', '79']\n"
     ]
    },
    {
     "name": "stderr",
     "output_type": "stream",
     "text": [
      "4379it [21:02,  1.85it/s]"
     ]
    },
    {
     "name": "stdout",
     "output_type": "stream",
     "text": [
      "['29-31', '24-27', '39-45', 'V40-V49', '78', '79']\n"
     ]
    },
    {
     "name": "stderr",
     "output_type": "stream",
     "text": [
      "4405it [21:14,  1.93it/s]"
     ]
    },
    {
     "name": "stdout",
     "output_type": "stream",
     "text": [
      "['68-70', '78', '24-27', '71-73']\n"
     ]
    },
    {
     "name": "stderr",
     "output_type": "stream",
     "text": [
      "4436it [21:26,  2.15it/s]"
     ]
    },
    {
     "name": "stdout",
     "output_type": "stream",
     "text": [
      "['71-73', '78', '80-83', '79']\n"
     ]
    },
    {
     "name": "stderr",
     "output_type": "stream",
     "text": [
      "4507it [21:37,  3.35it/s]"
     ]
    },
    {
     "name": "stdout",
     "output_type": "stream",
     "text": [
      "['46-51', '78', '39-45', 'V40-V49']\n"
     ]
    },
    {
     "name": "stderr",
     "output_type": "stream",
     "text": [
      "4513it [21:49,  2.46it/s]"
     ]
    },
    {
     "name": "stdout",
     "output_type": "stream",
     "text": [
      "['39-45', '46-51', '78']\n"
     ]
    },
    {
     "name": "stderr",
     "output_type": "stream",
     "text": [
      "4548it [22:01,  2.63it/s]"
     ]
    },
    {
     "name": "stdout",
     "output_type": "stream",
     "text": [
      "['39-45', '71-73', '78']\n"
     ]
    },
    {
     "name": "stderr",
     "output_type": "stream",
     "text": [
      "4595it [22:12,  3.07it/s]"
     ]
    },
    {
     "name": "stdout",
     "output_type": "stream",
     "text": [
      "['46-51', '78', '39-45', '29-31', '79']\n"
     ]
    },
    {
     "name": "stderr",
     "output_type": "stream",
     "text": [
      "4622it [22:23,  2.87it/s]"
     ]
    },
    {
     "name": "stdout",
     "output_type": "stream",
     "text": [
      "['78', '71-73', '79']\n"
     ]
    },
    {
     "name": "stderr",
     "output_type": "stream",
     "text": [
      "4667it [22:36,  3.11it/s]"
     ]
    },
    {
     "name": "stdout",
     "output_type": "stream",
     "text": [
      "['32-35', '39-45']\n"
     ]
    },
    {
     "name": "stderr",
     "output_type": "stream",
     "text": [
      "4689it [22:47,  2.77it/s]"
     ]
    },
    {
     "name": "stdout",
     "output_type": "stream",
     "text": [
      "['46-51', '78', '79']\n"
     ]
    },
    {
     "name": "stderr",
     "output_type": "stream",
     "text": [
      "4700it [22:59,  2.24it/s]"
     ]
    },
    {
     "name": "stdout",
     "output_type": "stream",
     "text": [
      "['78', '46-51', '39-45', '21-23', '24-27']\n"
     ]
    },
    {
     "name": "stderr",
     "output_type": "stream",
     "text": [
      "4805it [23:11,  4.21it/s]"
     ]
    },
    {
     "name": "stdout",
     "output_type": "stream",
     "text": [
      "['39-45']\n"
     ]
    },
    {
     "name": "stderr",
     "output_type": "stream",
     "text": [
      "4812it [23:24,  3.03it/s]"
     ]
    },
    {
     "name": "stdout",
     "output_type": "stream",
     "text": [
      "['46-51', '78', '39-45', '79']\n"
     ]
    },
    {
     "name": "stderr",
     "output_type": "stream",
     "text": [
      "4831it [23:34,  2.72it/s]"
     ]
    },
    {
     "name": "stdout",
     "output_type": "stream",
     "text": [
      "['46-51', '78', '39-45', '24-27', '79']\n"
     ]
    },
    {
     "name": "stderr",
     "output_type": "stream",
     "text": [
      "4852it [23:45,  2.47it/s]"
     ]
    },
    {
     "name": "stdout",
     "output_type": "stream",
     "text": [
      "['39-45', '46-51', '78', '29-31', '32-35', '67', '71-73', '79']\n"
     ]
    },
    {
     "name": "stderr",
     "output_type": "stream",
     "text": [
      "4872it [23:58,  2.21it/s]"
     ]
    },
    {
     "name": "stdout",
     "output_type": "stream",
     "text": [
      "['78', '32-35', '79']\n"
     ]
    },
    {
     "name": "stderr",
     "output_type": "stream",
     "text": [
      "4898it [24:10,  2.20it/s]"
     ]
    },
    {
     "name": "stdout",
     "output_type": "stream",
     "text": [
      "['39-45', '46-51', '78']\n"
     ]
    },
    {
     "name": "stderr",
     "output_type": "stream",
     "text": [
      "4919it [24:21,  2.10it/s]"
     ]
    },
    {
     "name": "stdout",
     "output_type": "stream",
     "text": [
      "['52-57', '58-62', '24-27', '39-45', '63-66', '67', '71-73', '78']\n"
     ]
    },
    {
     "name": "stderr",
     "output_type": "stream",
     "text": [
      "4931it [24:32,  1.80it/s]"
     ]
    },
    {
     "name": "stdout",
     "output_type": "stream",
     "text": [
      "['39-45', '46-51', '78', '29-31', '96-99']\n"
     ]
    },
    {
     "name": "stderr",
     "output_type": "stream",
     "text": [
      "4957it [24:44,  1.91it/s]"
     ]
    },
    {
     "name": "stdout",
     "output_type": "stream",
     "text": [
      "['46-51', '78', '52-57', '39-45']\n"
     ]
    },
    {
     "name": "stderr",
     "output_type": "stream",
     "text": [
      "4970it [24:56,  1.65it/s]"
     ]
    },
    {
     "name": "stdout",
     "output_type": "stream",
     "text": [
      "['39-45', '46-51', '71-73', '78']\n"
     ]
    },
    {
     "name": "stderr",
     "output_type": "stream",
     "text": [
      "5135it [25:08,  5.37it/s]"
     ]
    },
    {
     "name": "stdout",
     "output_type": "stream",
     "text": [
      "['24-27', '29-31', '78', '39-45', '46-51']\n"
     ]
    },
    {
     "name": "stderr",
     "output_type": "stream",
     "text": [
      "5150it [25:20,  4.14it/s]"
     ]
    },
    {
     "name": "stdout",
     "output_type": "stream",
     "text": [
      "['39-45', '46-51', '71-73', '78', '24-27']\n"
     ]
    },
    {
     "name": "stderr",
     "output_type": "stream",
     "text": [
      "5181it [25:33,  3.55it/s]"
     ]
    },
    {
     "name": "stdout",
     "output_type": "stream",
     "text": [
      "['32-35', '74-75', '79', 'V87-V87']\n"
     ]
    },
    {
     "name": "stderr",
     "output_type": "stream",
     "text": [
      "5198it [25:43,  3.04it/s]"
     ]
    },
    {
     "name": "stdout",
     "output_type": "stream",
     "text": [
      "['39-45', '46-51', '78']\n"
     ]
    },
    {
     "name": "stderr",
     "output_type": "stream",
     "text": [
      "5231it [25:54,  3.03it/s]"
     ]
    },
    {
     "name": "stdout",
     "output_type": "stream",
     "text": [
      "['39-45', '46-51', '78', '79']\n"
     ]
    },
    {
     "name": "stderr",
     "output_type": "stream",
     "text": [
      "5259it [26:06,  2.80it/s]"
     ]
    },
    {
     "name": "stdout",
     "output_type": "stream",
     "text": [
      "['71-73', '32-35', '78', '80-83', '39-45']\n"
     ]
    },
    {
     "name": "stderr",
     "output_type": "stream",
     "text": [
      "5281it [26:18,  2.53it/s]"
     ]
    },
    {
     "name": "stdout",
     "output_type": "stream",
     "text": [
      "['78', '46-51', '39-45', '24-27']\n"
     ]
    },
    {
     "name": "stderr",
     "output_type": "stream",
     "text": [
      "5365it [26:30,  3.89it/s]"
     ]
    },
    {
     "name": "stdout",
     "output_type": "stream",
     "text": [
      "['46-51', '52-57', '78']\n"
     ]
    },
    {
     "name": "stderr",
     "output_type": "stream",
     "text": [
      "5433it [26:41,  4.59it/s]"
     ]
    },
    {
     "name": "stdout",
     "output_type": "stream",
     "text": [
      "['39-45', '46-51', '78', '24-27']\n"
     ]
    },
    {
     "name": "stderr",
     "output_type": "stream",
     "text": [
      "5462it [26:53,  3.89it/s]"
     ]
    },
    {
     "name": "stdout",
     "output_type": "stream",
     "text": [
      "['21-23', '14-20', '24-27']\n"
     ]
    },
    {
     "name": "stderr",
     "output_type": "stream",
     "text": [
      "5511it [27:06,  3.90it/s]"
     ]
    },
    {
     "name": "stdout",
     "output_type": "stream",
     "text": [
      "['39-45', '46-51', '78']\n"
     ]
    },
    {
     "name": "stderr",
     "output_type": "stream",
     "text": [
      "5519it [27:17,  2.99it/s]"
     ]
    },
    {
     "name": "stdout",
     "output_type": "stream",
     "text": [
      "['78', '52-57', '39-45', '46-51']\n"
     ]
    },
    {
     "name": "stderr",
     "output_type": "stream",
     "text": [
      "5775it [27:28,  8.74it/s]"
     ]
    },
    {
     "name": "stdout",
     "output_type": "stream",
     "text": [
      "['46-51', '39-45', '78', '79', '24-27', '36-38']\n"
     ]
    },
    {
     "name": "stderr",
     "output_type": "stream",
     "text": [
      "5899it [27:40,  9.35it/s]"
     ]
    },
    {
     "name": "stdout",
     "output_type": "stream",
     "text": [
      "['71-73', '78', '80-83', '39-45', '46-51', '32-35', '29-31', '79']\n"
     ]
    },
    {
     "name": "stderr",
     "output_type": "stream",
     "text": [
      "5969it [27:52,  8.20it/s]"
     ]
    },
    {
     "name": "stdout",
     "output_type": "stream",
     "text": [
      "['39-45', '46-51', '24-27', '78']\n"
     ]
    },
    {
     "name": "stderr",
     "output_type": "stream",
     "text": [
      "6010it [28:04,  6.76it/s]"
     ]
    },
    {
     "name": "stdout",
     "output_type": "stream",
     "text": [
      "['24-27', '78', '39-45', '29-31', 'V40-V49', '21-23', '46-51', 'V70-V82', 'V87-V87']\n"
     ]
    },
    {
     "name": "stderr",
     "output_type": "stream",
     "text": [
      "6035it [28:16,  5.37it/s]"
     ]
    },
    {
     "name": "stdout",
     "output_type": "stream",
     "text": [
      "['24-27', '29-31', '39-45', '46-51', '78']\n"
     ]
    },
    {
     "name": "stderr",
     "output_type": "stream",
     "text": [
      "6067it [28:27,  4.65it/s]"
     ]
    },
    {
     "name": "stdout",
     "output_type": "stream",
     "text": [
      "['46-51', '39-45', '78', '24-27']\n"
     ]
    },
    {
     "name": "stderr",
     "output_type": "stream",
     "text": [
      "6098it [28:39,  3.99it/s]"
     ]
    },
    {
     "name": "stdout",
     "output_type": "stream",
     "text": [
      "['46-51', '78', '39-45', '24-27']\n"
     ]
    },
    {
     "name": "stderr",
     "output_type": "stream",
     "text": [
      "6105it [28:50,  3.02it/s]"
     ]
    },
    {
     "name": "stdout",
     "output_type": "stream",
     "text": [
      "['39-45', '46-51', '78', '79']\n"
     ]
    },
    {
     "name": "stderr",
     "output_type": "stream",
     "text": [
      "6121it [29:02,  2.49it/s]"
     ]
    },
    {
     "name": "stdout",
     "output_type": "stream",
     "text": [
      "['46-51', '39-45', '78', '79']\n"
     ]
    },
    {
     "name": "stderr",
     "output_type": "stream",
     "text": [
      "6137it [29:13,  2.19it/s]"
     ]
    },
    {
     "name": "stdout",
     "output_type": "stream",
     "text": [
      "['39-45', '46-51', '78', '36-38', '58-62', '21-23', '24-27']\n"
     ]
    },
    {
     "name": "stderr",
     "output_type": "stream",
     "text": [
      "6159it [29:26,  2.06it/s]"
     ]
    },
    {
     "name": "stdout",
     "output_type": "stream",
     "text": [
      "['71-73', '80-83', '78']\n"
     ]
    },
    {
     "name": "stderr",
     "output_type": "stream",
     "text": [
      "6169it [29:38,  1.68it/s]"
     ]
    },
    {
     "name": "stdout",
     "output_type": "stream",
     "text": [
      "['80-83', '84-95', 'E00-E09']\n"
     ]
    },
    {
     "name": "stderr",
     "output_type": "stream",
     "text": [
      "6183it [29:48,  1.59it/s]"
     ]
    },
    {
     "name": "stdout",
     "output_type": "stream",
     "text": [
      "['78', '39-45', '46-51', '71-73']\n"
     ]
    },
    {
     "name": "stderr",
     "output_type": "stream",
     "text": [
      "6282it [30:01,  3.58it/s]"
     ]
    },
    {
     "name": "stdout",
     "output_type": "stream",
     "text": [
      "['78', '29-31', '32-35', '39-45', '46-51', '71-73', '79']\n"
     ]
    },
    {
     "name": "stderr",
     "output_type": "stream",
     "text": [
      "6285it [30:12,  2.62it/s]"
     ]
    },
    {
     "name": "stdout",
     "output_type": "stream",
     "text": [
      "['39-45', '46-51', '78']\n"
     ]
    },
    {
     "name": "stderr",
     "output_type": "stream",
     "text": [
      "6409it [30:24,  5.03it/s]"
     ]
    },
    {
     "name": "stdout",
     "output_type": "stream",
     "text": [
      "['39-45', '78', '24-27', '46-51', '32-35']\n"
     ]
    },
    {
     "name": "stderr",
     "output_type": "stream",
     "text": [
      "6472it [30:35,  5.18it/s]"
     ]
    },
    {
     "name": "stdout",
     "output_type": "stream",
     "text": [
      "['39-45', '46-51', '78', '79', 'V88-V88']\n"
     ]
    },
    {
     "name": "stderr",
     "output_type": "stream",
     "text": [
      "6577it [30:48,  6.19it/s]"
     ]
    },
    {
     "name": "stdout",
     "output_type": "stream",
     "text": [
      "['V40-V49', 'V70-V82', 'V87-V87', '78', '79']\n"
     ]
    },
    {
     "name": "stderr",
     "output_type": "stream",
     "text": [
      "6622it [30:59,  5.58it/s]"
     ]
    },
    {
     "name": "stdout",
     "output_type": "stream",
     "text": [
      "['39-45', '21-23', 'V50-V59', 'V88-V88', '32-35']\n"
     ]
    },
    {
     "name": "stderr",
     "output_type": "stream",
     "text": [
      "6625it [31:11,  3.96it/s]"
     ]
    },
    {
     "name": "stdout",
     "output_type": "stream",
     "text": [
      "['46-51', '78', '39-45', '24-27', '79']\n"
     ]
    },
    {
     "name": "stderr",
     "output_type": "stream",
     "text": [
      "6631it [31:23,  2.86it/s]"
     ]
    },
    {
     "name": "stdout",
     "output_type": "stream",
     "text": [
      "['46-51', '39-45', '78', '79']\n"
     ]
    },
    {
     "name": "stderr",
     "output_type": "stream",
     "text": [
      "6708it [31:35,  4.00it/s]"
     ]
    },
    {
     "name": "stdout",
     "output_type": "stream",
     "text": [
      "['46-51', '39-45', '78']\n"
     ]
    },
    {
     "name": "stderr",
     "output_type": "stream",
     "text": [
      "6722it [31:46,  3.18it/s]"
     ]
    },
    {
     "name": "stdout",
     "output_type": "stream",
     "text": [
      "['84-95', '68-70', '71-73', 'E00-E09']\n"
     ]
    },
    {
     "name": "stderr",
     "output_type": "stream",
     "text": [
      "6726it [31:58,  2.34it/s]"
     ]
    },
    {
     "name": "stdout",
     "output_type": "stream",
     "text": [
      "['32-35', '21-23', '14-20']\n"
     ]
    },
    {
     "name": "stderr",
     "output_type": "stream",
     "text": [
      "6734it [32:10,  1.83it/s]"
     ]
    },
    {
     "name": "stdout",
     "output_type": "stream",
     "text": [
      "['39-45', '46-51', '78', '79']\n"
     ]
    },
    {
     "name": "stderr",
     "output_type": "stream",
     "text": [
      "6740it [32:21,  1.44it/s]"
     ]
    },
    {
     "name": "stdout",
     "output_type": "stream",
     "text": [
      "['V40-V49', 'V60-V69', 'V70-V82', '78', '79']\n"
     ]
    },
    {
     "name": "stderr",
     "output_type": "stream",
     "text": [
      "6773it [32:33,  1.84it/s]"
     ]
    },
    {
     "name": "stdout",
     "output_type": "stream",
     "text": [
      "['46-51', '39-45', '78', '79']\n"
     ]
    },
    {
     "name": "stderr",
     "output_type": "stream",
     "text": [
      "6814it [32:44,  2.37it/s]"
     ]
    },
    {
     "name": "stdout",
     "output_type": "stream",
     "text": [
      "['39-45', '46-51', '78', '79']\n"
     ]
    },
    {
     "name": "stderr",
     "output_type": "stream",
     "text": [
      "6824it [32:56,  1.89it/s]"
     ]
    },
    {
     "name": "stdout",
     "output_type": "stream",
     "text": [
      "['V40-V49', 'V70-V82', 'V87-V87']\n"
     ]
    },
    {
     "name": "stderr",
     "output_type": "stream",
     "text": [
      "6841it [33:08,  1.78it/s]"
     ]
    },
    {
     "name": "stdout",
     "output_type": "stream",
     "text": [
      "['39-45', '46-51', '78']\n"
     ]
    },
    {
     "name": "stderr",
     "output_type": "stream",
     "text": [
      "6899it [33:20,  2.70it/s]"
     ]
    },
    {
     "name": "stdout",
     "output_type": "stream",
     "text": [
      "['39-45', '46-51', '78', 'V70-V82']\n"
     ]
    },
    {
     "name": "stderr",
     "output_type": "stream",
     "text": [
      "6927it [33:31,  2.64it/s]"
     ]
    },
    {
     "name": "stdout",
     "output_type": "stream",
     "text": [
      "['29-31', '32-35', '78', '79']\n"
     ]
    },
    {
     "name": "stderr",
     "output_type": "stream",
     "text": [
      "6933it [33:42,  2.03it/s]"
     ]
    },
    {
     "name": "stdout",
     "output_type": "stream",
     "text": [
      "['71-73', '78', '80-83', '79']\n"
     ]
    },
    {
     "name": "stderr",
     "output_type": "stream",
     "text": [
      "6934it [33:55,  1.40it/s]"
     ]
    },
    {
     "name": "stdout",
     "output_type": "stream",
     "text": [
      "['29-31', '24-27', '78', '39-45']\n"
     ]
    },
    {
     "name": "stderr",
     "output_type": "stream",
     "text": [
      "6978it [34:07,  2.11it/s]"
     ]
    },
    {
     "name": "stdout",
     "output_type": "stream",
     "text": [
      "['14-20', '21-23', '71-73', 'V88-V88', '68-70']\n"
     ]
    },
    {
     "name": "stderr",
     "output_type": "stream",
     "text": [
      "7041it [34:18,  3.09it/s]"
     ]
    },
    {
     "name": "stdout",
     "output_type": "stream",
     "text": [
      "['78', '29-31', '32-35', '39-45', '46-51']\n"
     ]
    },
    {
     "name": "stderr",
     "output_type": "stream",
     "text": [
      "7049it [34:29,  2.40it/s]"
     ]
    },
    {
     "name": "stdout",
     "output_type": "stream",
     "text": [
      "['78', '46-51', '39-45']\n"
     ]
    },
    {
     "name": "stderr",
     "output_type": "stream",
     "text": [
      "7071it [34:41,  2.26it/s]"
     ]
    },
    {
     "name": "stdout",
     "output_type": "stream",
     "text": [
      "['39-45', '46-51', '29-31', '78']\n"
     ]
    },
    {
     "name": "stderr",
     "output_type": "stream",
     "text": [
      "7082it [34:53,  1.82it/s]"
     ]
    },
    {
     "name": "stdout",
     "output_type": "stream",
     "text": [
      "['74-75', '39-45']\n"
     ]
    },
    {
     "name": "stderr",
     "output_type": "stream",
     "text": [
      "7105it [35:05,  1.88it/s]"
     ]
    },
    {
     "name": "stdout",
     "output_type": "stream",
     "text": [
      "['46-51', '39-45', '78', '79']\n"
     ]
    },
    {
     "name": "stderr",
     "output_type": "stream",
     "text": [
      "7236it [35:16,  4.68it/s]"
     ]
    },
    {
     "name": "stdout",
     "output_type": "stream",
     "text": [
      "['39-45', '78', '46-51', '71-73', 'V40-V49']\n"
     ]
    },
    {
     "name": "stderr",
     "output_type": "stream",
     "text": [
      "7244it [35:29,  3.44it/s]"
     ]
    },
    {
     "name": "stdout",
     "output_type": "stream",
     "text": [
      "['39-45', '46-51', '78', '80-83', '96-99']\n"
     ]
    },
    {
     "name": "stderr",
     "output_type": "stream",
     "text": [
      "7273it [35:40,  3.19it/s]"
     ]
    },
    {
     "name": "stdout",
     "output_type": "stream",
     "text": [
      "['71-73', '78', '58-62', '80-83']\n"
     ]
    },
    {
     "name": "stderr",
     "output_type": "stream",
     "text": [
      "7320it [35:52,  3.44it/s]"
     ]
    },
    {
     "name": "stdout",
     "output_type": "stream",
     "text": [
      "['78', '39-45', '46-51', '71-73', '52-57']\n"
     ]
    },
    {
     "name": "stderr",
     "output_type": "stream",
     "text": [
      "7448it [36:03,  5.75it/s]"
     ]
    },
    {
     "name": "stdout",
     "output_type": "stream",
     "text": [
      "['32-35', '39-45', '21-23']\n"
     ]
    },
    {
     "name": "stderr",
     "output_type": "stream",
     "text": [
      "7452it [36:15,  4.03it/s]"
     ]
    },
    {
     "name": "stdout",
     "output_type": "stream",
     "text": [
      "['32-35', '39-45', '46-51', '58-62', '67', '68-70', '71-73', '78', '79']\n"
     ]
    },
    {
     "name": "stderr",
     "output_type": "stream",
     "text": [
      "7477it [36:27,  3.49it/s]"
     ]
    },
    {
     "name": "stdout",
     "output_type": "stream",
     "text": [
      "['39-45', '46-51', '78']\n"
     ]
    },
    {
     "name": "stderr",
     "output_type": "stream",
     "text": [
      "7481it [36:38,  2.57it/s]"
     ]
    },
    {
     "name": "stdout",
     "output_type": "stream",
     "text": [
      "['32-35', '71-73', '78', '79', '80-83']\n"
     ]
    },
    {
     "name": "stderr",
     "output_type": "stream",
     "text": [
      "7493it [36:51,  2.06it/s]"
     ]
    },
    {
     "name": "stdout",
     "output_type": "stream",
     "text": [
      "['46-51', '39-45', '78', '29-31', '24-27', 'V40-V49']\n"
     ]
    },
    {
     "name": "stderr",
     "output_type": "stream",
     "text": [
      "7496it [37:02,  1.53it/s]"
     ]
    },
    {
     "name": "stdout",
     "output_type": "stream",
     "text": [
      "['71-73', '78', '80-83', 'V40-V49', 'V50-V59']\n"
     ]
    },
    {
     "name": "stderr",
     "output_type": "stream",
     "text": [
      "7559it [37:14,  2.71it/s]"
     ]
    },
    {
     "name": "stdout",
     "output_type": "stream",
     "text": [
      "['39-45', '46-51', '78', '79']\n"
     ]
    },
    {
     "name": "stderr",
     "output_type": "stream",
     "text": [
      "7614it [37:26,  3.26it/s]"
     ]
    },
    {
     "name": "stdout",
     "output_type": "stream",
     "text": [
      "['46-51', '39-45', '78', 'V40-V49']\n"
     ]
    },
    {
     "name": "stderr",
     "output_type": "stream",
     "text": [
      "7618it [37:37,  2.42it/s]"
     ]
    },
    {
     "name": "stdout",
     "output_type": "stream",
     "text": [
      "['46-51', '78', '39-45', '79']\n"
     ]
    },
    {
     "name": "stderr",
     "output_type": "stream",
     "text": [
      "7656it [37:49,  2.63it/s]"
     ]
    },
    {
     "name": "stdout",
     "output_type": "stream",
     "text": [
      "['24-27', '28', '58-62', '67', '76-77']\n"
     ]
    },
    {
     "name": "stderr",
     "output_type": "stream",
     "text": [
      "7694it [38:00,  2.87it/s]"
     ]
    },
    {
     "name": "stdout",
     "output_type": "stream",
     "text": [
      "['32-35', '39-45', '78']\n"
     ]
    },
    {
     "name": "stderr",
     "output_type": "stream",
     "text": [
      "7775it [38:13,  4.00it/s]"
     ]
    },
    {
     "name": "stdout",
     "output_type": "stream",
     "text": [
      "['78', '24-27', '39-45', '46-51', '52-57', 'V40-V49']\n"
     ]
    },
    {
     "name": "stderr",
     "output_type": "stream",
     "text": [
      "7851it [38:24,  4.81it/s]"
     ]
    },
    {
     "name": "stdout",
     "output_type": "stream",
     "text": [
      "['78', '46-51', '39-45']\n"
     ]
    },
    {
     "name": "stderr",
     "output_type": "stream",
     "text": [
      "7906it [38:35,  4.85it/s]"
     ]
    },
    {
     "name": "stdout",
     "output_type": "stream",
     "text": [
      "['32-35', '21-23', '14-20']\n"
     ]
    },
    {
     "name": "stderr",
     "output_type": "stream",
     "text": [
      "7908it [38:47,  3.37it/s]"
     ]
    },
    {
     "name": "stdout",
     "output_type": "stream",
     "text": [
      "['39-45', '46-51', '78']\n"
     ]
    },
    {
     "name": "stderr",
     "output_type": "stream",
     "text": [
      "7927it [38:59,  2.89it/s]"
     ]
    },
    {
     "name": "stdout",
     "output_type": "stream",
     "text": [
      "['46-51', '39-45', '78', '24-27']\n"
     ]
    },
    {
     "name": "stderr",
     "output_type": "stream",
     "text": [
      "8069it [39:12,  5.52it/s]"
     ]
    },
    {
     "name": "stdout",
     "output_type": "stream",
     "text": [
      "['39-45', '46-51', '78', '79']\n"
     ]
    },
    {
     "name": "stderr",
     "output_type": "stream",
     "text": [
      "8143it [39:23,  5.84it/s]"
     ]
    },
    {
     "name": "stdout",
     "output_type": "stream",
     "text": [
      "['39-45', '46-51', '78', '79']\n"
     ]
    },
    {
     "name": "stderr",
     "output_type": "stream",
     "text": [
      "8165it [39:34,  4.70it/s]"
     ]
    },
    {
     "name": "stdout",
     "output_type": "stream",
     "text": [
      "['39-45', '46-51', '78', '79']\n"
     ]
    },
    {
     "name": "stderr",
     "output_type": "stream",
     "text": [
      "8167it [39:45,  3.36it/s]"
     ]
    },
    {
     "name": "stdout",
     "output_type": "stream",
     "text": [
      "['46-51', '39-45', '78']\n"
     ]
    },
    {
     "name": "stderr",
     "output_type": "stream",
     "text": [
      "8204it [39:58,  3.25it/s]"
     ]
    },
    {
     "name": "stdout",
     "output_type": "stream",
     "text": [
      "['39-45', '46-51', '78', '79']\n"
     ]
    },
    {
     "name": "stderr",
     "output_type": "stream",
     "text": [
      "8239it [40:09,  3.20it/s]"
     ]
    },
    {
     "name": "stdout",
     "output_type": "stream",
     "text": [
      "['46-51', '39-45', '78', '29-31', '79']\n"
     ]
    },
    {
     "name": "stderr",
     "output_type": "stream",
     "text": [
      "8259it [40:21,  2.73it/s]"
     ]
    },
    {
     "name": "stdout",
     "output_type": "stream",
     "text": [
      "['52-57', '78', '24-27', '36-38', '29-31']\n"
     ]
    },
    {
     "name": "stderr",
     "output_type": "stream",
     "text": [
      "8282it [40:33,  2.51it/s]"
     ]
    },
    {
     "name": "stdout",
     "output_type": "stream",
     "text": [
      "['V40-V49', 'V60-V69', 'V70-V82', 'V87-V87', 'V88-V88', '78', '79']\n"
     ]
    },
    {
     "name": "stderr",
     "output_type": "stream",
     "text": [
      "8319it [40:44,  2.70it/s]"
     ]
    },
    {
     "name": "stdout",
     "output_type": "stream",
     "text": [
      "['39-45', '46-51', '71-73', '78']\n"
     ]
    },
    {
     "name": "stderr",
     "output_type": "stream",
     "text": [
      "8331it [40:56,  2.19it/s]"
     ]
    },
    {
     "name": "stdout",
     "output_type": "stream",
     "text": [
      "['71-73', '80-83', '78', '58-62', '39-45']\n"
     ]
    },
    {
     "name": "stderr",
     "output_type": "stream",
     "text": [
      "8368it [41:08,  2.46it/s]"
     ]
    },
    {
     "name": "stdout",
     "output_type": "stream",
     "text": [
      "['39-45', '46-51', '78', '79']\n"
     ]
    },
    {
     "name": "stderr",
     "output_type": "stream",
     "text": [
      "8378it [41:20,  1.99it/s]"
     ]
    },
    {
     "name": "stdout",
     "output_type": "stream",
     "text": [
      "['84-95', '80-83', 'E00-E09']\n"
     ]
    },
    {
     "name": "stderr",
     "output_type": "stream",
     "text": [
      "8395it [41:31,  1.84it/s]"
     ]
    },
    {
     "name": "stdout",
     "output_type": "stream",
     "text": [
      "['39-45', '46-51', '52-57', '58-62', '78', '79']\n"
     ]
    },
    {
     "name": "stderr",
     "output_type": "stream",
     "text": [
      "8422it [41:44,  1.95it/s]"
     ]
    },
    {
     "name": "stdout",
     "output_type": "stream",
     "text": [
      "['39-45', '71-73', '46-51', '67', '76-77', '63-66']\n"
     ]
    },
    {
     "name": "stderr",
     "output_type": "stream",
     "text": [
      "8537it [41:55,  4.29it/s]"
     ]
    },
    {
     "name": "stdout",
     "output_type": "stream",
     "text": [
      "['46-51', '39-45', '78', '24-27']\n"
     ]
    },
    {
     "name": "stderr",
     "output_type": "stream",
     "text": [
      "8571it [42:07,  3.92it/s]"
     ]
    },
    {
     "name": "stdout",
     "output_type": "stream",
     "text": [
      "['24-27', '29-31', '78', '46-51', '39-45', '32-35']\n"
     ]
    },
    {
     "name": "stderr",
     "output_type": "stream",
     "text": [
      "8584it [42:18,  3.12it/s]"
     ]
    },
    {
     "name": "stdout",
     "output_type": "stream",
     "text": [
      "['39-45', '46-51', '78']\n"
     ]
    },
    {
     "name": "stderr",
     "output_type": "stream",
     "text": [
      "8620it [42:30,  3.07it/s]"
     ]
    },
    {
     "name": "stdout",
     "output_type": "stream",
     "text": [
      "['46-51', '39-45', '78', '24-27', '79']\n"
     ]
    },
    {
     "name": "stderr",
     "output_type": "stream",
     "text": [
      "8733it [42:41,  3.41it/s]"
     ]
    },
    {
     "name": "stdout",
     "output_type": "stream",
     "text": [
      "['39-45', '46-51', '78']\n",
      "Number of rows : 224\n",
      "[['24-27', '96-99', 'V87-V87', '39-45', 'V40-V49', 'V10-V19'], ['24-27', '78', '96-99', '52-57', '39-45'], ['21-23', '28'], ['14-20'], ['29-31', 'V10-V19', '32-35', '39-45'], ['24-27', '71-73', '52-57', '39-45', 'V40-V49', '14-20', 'V10-V19'], ['24-27', 'V50-V59', '74-75', '32-35', '39-45'], ['24-27', '96-99', '36-38', '39-45', '29-31', 'V10-V19'], ['24-27', '28', '46-51', '39-45', '29-31', 'V10-V19'], ['24-27', '71-73', '39-45'], ['24-27', '96-99', '46-51', '58-62', '39-45', 'V40-V49', 'V10-V19'], ['24-27', '36-38', '52-57', '32-35', '39-45', 'V40-V49'], ['24-27', '28', '46-51', '39-45', 'V10-V19'], ['24-27', 'V10-V19', '36-38', '39-45'], ['24-27', '96-99', '58-62', '32-35', '39-45'], ['78', '71-73', '96-99', '52-57', '46-51', '68-70', '39-45', 'V40-V49'], ['24-27', '96-99', '52-57', '39-45', 'V40-V49'], ['24-27', '14-20', '39-45'], ['24-27', '28', '78', '71-73', '96-99', '52-57', '58-62', '32-35', '39-45', 'V40-V49'], ['24-27', '71-73', '39-45'], ['24-27', 'V50-V59', '39-45', 'V40-V49', '14-20', 'V10-V19'], ['24-27', '28', '71-73', '96-99', '46-51', '79', '58-62', '32-35', '39-45'], ['52-57', '46-51', '32-35', '39-45'], ['96-99', '39-45'], ['24-27', '28', '39-45', 'V40-V49', '14-20'], ['24-27', '28', '71-73', '52-57', '39-45'], ['78', 'V50-V59', '28', '58-62', '39-45', 'V40-V49'], ['V40-V49', '39-45'], ['52-57', '46-51', '96-99', '39-45'], ['V40-V49', '74-75', '39-45'], ['96-99', '24-27', '39-45'], ['24-27', '28', '71-73', '96-99', '36-38', '32-35', '39-45', '29-31', 'V10-V19'], ['24-27', '32-35', '39-45'], ['24-27', '78', '28', '96-99', '58-62', '39-45', 'V40-V49', 'V10-V19', '00-10'], ['24-27', '28', '39-45', 'V40-V49', 'V10-V19'], ['71-73', '52-57', '46-51', '32-35', '14-20', 'V10-V19'], ['96-99', '28', '52-57'], ['24-27', '39-45'], ['24-27', '78', '96-99', '46-51', '39-45', 'V40-V49'], ['24-27', '74-75', '32-35', '39-45', 'V40-V49'], ['39-45'], ['24-27', '84-95'], ['39-45'], ['74-75', '39-45'], ['24-27', '96-99', '39-45', 'V40-V49', '14-20', 'V60-V69'], ['24-27', '14-20'], ['24-27', '52-57', '58-62', '32-35', '39-45'], ['52-57', '24-27', '39-45'], ['24-27', '29-31', '52-57', '39-45'], ['24-27', '28', '58-62', '39-45', '29-31'], ['78', '71-73', '32-35', '39-45', '21-23', 'V10-V19'], ['24-27', '39-45'], ['24-27', '28', 'V50-V59', '96-99', '58-62', '39-45', 'V40-V49', '29-31', 'V10-V19'], ['96-99', '24-27', '39-45'], ['24-27', '28', '96-99', '79', '39-45', 'V40-V49'], ['24-27', '28', 'V50-V59', '52-57', '36-38', 'V87-V87', '58-62', '39-45', 'V10-V19'], ['24-27', '52-57', '46-51', '58-62', '39-45', 'V10-V19'], ['78', '39-45'], ['39-45'], ['24-27', 'V10-V19', '39-45', 'V40-V49'], ['24-27', '96-99', '58-62', '39-45', 'V40-V49'], ['24-27', '71-73', '52-57', '32-35', '39-45', 'V40-V49'], ['24-27', 'V50-V59', '58-62', '39-45', 'V40-V49', '00-10'], ['24-27', '28', '58-62', '39-45', 'V10-V19'], ['24-27', '58-62', '39-45'], ['24-27', '96-99', '46-51', '39-45', '29-31', 'V10-V19'], ['24-27', '39-45'], ['24-27', '28', '52-57', '39-45'], ['52-57', '24-27', '14-20'], ['96-99', '24-27', '71-73', '39-45'], ['46-51', 'V10-V19', '74-75', '39-45'], ['24-27', '28', 'V10-V19', '39-45'], ['24-27', '28', 'V50-V59', '96-99', '52-57', '46-51', '32-35', '39-45', 'V40-V49'], ['39-45'], ['24-27', '96-99', '39-45', 'V40-V49', '14-20'], ['46-51', '32-35'], ['96-99', '24-27', '58-62', '39-45'], ['24-27', '46-51', '39-45', 'V40-V49'], ['78', '71-73', '96-99', '68-70', '00-10'], ['24-27', '46-51', '39-45'], ['24-27', '46-51', '58-62', '39-45', 'V40-V49'], ['24-27', '28', '71-73', '52-57', '79', '58-62', '39-45', 'V40-V49'], ['V10-V19', '39-45'], ['24-27', '39-45', '29-31', 'V60-V69', 'V10-V19', '00-10', 'V01-V09'], ['V50-V59', '74-75', '71-73'], ['V40-V49', '46-51', '39-45', '24-27'], ['24-27', '28', '78', '52-57', '58-62', '32-35', '39-45'], ['24-27', '46-51', '58-62', '39-45', 'V40-V49'], ['96-99', '52-57', '46-51', '39-45', 'V40-V49'], ['24-27', '46-51', '39-45'], ['39-45'], ['71-73', '96-99', '36-38', '58-62', '39-45'], ['29-31', '39-45'], ['24-27', '71-73', '52-57', '74-75', '39-45', 'V40-V49', 'V10-V19'], ['39-45'], ['24-27', 'V10-V19', '58-62', '39-45'], ['78', '71-73', '52-57', '46-51', '58-62', '39-45', '29-31', 'V10-V19'], ['28', '71-73', 'V50-V59', '78', '84-95', '96-99', '52-57', '46-51', '58-62', '39-45', '29-31'], ['24-27', '28', '78', 'V50-V59', '46-51', '39-45', 'V40-V49'], ['24-27', '71-73', '96-99', '58-62', '39-45', 'V10-V19', '00-10'], ['24-27', '39-45'], ['52-57', '21-23', '28', '14-20'], ['24-27', 'V10-V19', 'V70-V82', '39-45'], ['24-27', '28', '39-45'], ['80-83', '46-51'], ['71-73', '39-45'], ['24-27', '96-99', '58-62', '32-35', '39-45', 'V10-V19'], ['24-27', '46-51', '39-45'], ['24-27', '71-73', '46-51', '74-75', '39-45'], ['V10-V19', '29-31', '39-45'], ['24-27', 'V10-V19', '39-45', 'V40-V49'], ['78', 'V50-V59', '96-99', '52-57', '46-51', '68-70', '39-45', 'V40-V49', 'V10-V19', '00-10', 'V01-V09'], ['46-51', '28', '39-45'], ['24-27', '28', '96-99', '46-51', '68-70', '32-35', '39-45'], ['46-51', '32-35', '39-45'], ['24-27', '71-73', 'V87-V87', '46-51', '39-45', 'V10-V19'], ['24-27', '39-45'], ['24-27', '28', '71-73', '52-57', '58-62', 'V70-V82', '39-45', 'V40-V49', '29-31', 'V10-V19'], ['24-27', '28', '46-51', '58-62', '39-45', 'V10-V19'], ['24-27', '80-83', '71-73', '84-95', '96-99', '46-51', '39-45', '29-31'], ['24-27', '32-35', '39-45', 'V40-V49', 'V85-V85', 'V10-V19'], ['24-27', '71-73', '46-51', '58-62', '39-45', 'V40-V49', 'V10-V19'], ['24-27', '78', 'V50-V59', '96-99', '79', 'V70-V82', '39-45', 'V40-V49', 'V10-V19'], ['24-27', 'V10-V19', '39-45'], ['24-27', '46-51', '58-62', '32-35', '39-45', '29-31', 'V10-V19'], ['24-27', '71-73', '96-99', '52-57', '46-51', '74-75', '32-35', '39-45', 'V10-V19'], ['24-27', '39-45'], ['28', '71-73', '39-45'], ['52-57', '24-27', '71-73', '39-45'], ['24-27', '78', '52-57', '46-51', '58-62', '32-35', 'V40-V49', '29-31', '00-10'], ['24-27', 'V50-V59', '71-73', '52-57', '36-38', '32-35', '39-45', 'V40-V49'], ['24-27', '28', '71-73', '78', '52-57', '46-51', '58-62', '39-45', '29-31', '00-10'], ['96-99', '24-27', '39-45'], ['24-27', '28', '52-57', '79', '58-62', '32-35', '39-45', '29-31'], ['71-73', '52-57', '74-75', '39-45', 'V10-V19'], ['24-27', 'V50-V59', '39-45', '14-20', 'V10-V19'], ['52-57', '24-27', '39-45'], ['28', '46-51', '39-45', '21-23', '29-31'], ['96-99', '24-27', '71-73', '39-45'], ['24-27', '39-45'], ['96-99', '24-27', '39-45'], ['24-27', '46-51', '28', '39-45'], ['52-57', '58-62', '14-20', '39-45'], ['24-27', 'V10-V19', '39-45', 'V50-V59'], ['52-57', 'V50-V59', '32-35', '39-45'], ['24-27', '58-62', '39-45'], ['96-99', '36-38', '39-45'], ['24-27', '39-45'], ['24-27', '28', '78', '96-99', '39-45'], ['24-27', '78', '52-57', '96-99', '39-45', '14-20'], ['V40-V49', '28', '39-45'], ['24-27', '46-51', '39-45', '84-95'], ['24-27', '96-99', '46-51', '39-45', '29-31'], ['24-27', '28', '78', '39-45', 'V40-V49', 'V10-V19'], ['24-27', 'V50-V59', '71-73', '52-57', '79', '58-62', '39-45'], ['80-83', '28', '78', '84-95', '58-62'], ['80-83', '71-73', '39-45'], ['28', '96-99', '46-51', '39-45', '29-31'], ['24-27', '71-73', '32-35', '39-45'], ['24-27', '28', '46-51', '58-62', '39-45'], ['36-38', '78', '74-75', '39-45'], ['24-27', '96-99', '46-51', '32-35', '39-45'], ['96-99', '52-57', '39-45'], ['24-27', '46-51', '58-62', '39-45', 'V10-V19'], ['58-62', '74-75', '32-35', '39-45'], ['24-27', '71-73', '46-51', '32-35', '39-45', 'V40-V49', 'V10-V19'], ['24-27', '71-73', '32-35', '39-45', 'V40-V49', '29-31', 'V10-V19'], ['28', '84-95', '96-99', '58-62', '39-45'], ['78', '52-57', '46-51', '14-20', 'V10-V19'], ['24-27', '28', 'V10-V19', '39-45'], ['52-57', 'V50-V59', '39-45'], ['39-45'], ['24-27', '29-31', '52-57', '39-45'], ['24-27', 'V50-V59', '46-51', 'V70-V82', '39-45', 'V40-V49'], ['24-27', 'V10-V19', 'V85-V85', '39-45'], ['24-27', '58-62', '52-57', '39-45'], ['32-35'], ['24-27', '80-83', '28', 'V50-V59', '46-51', '58-62', '39-45', 'V40-V49'], ['21-23', '29-31', '39-45'], ['V10-V19', '14-20'], ['78', '71-73', '39-45'], ['24-27', '28', '52-57', '46-51', '68-70', '39-45', 'V40-V49', 'V10-V19'], ['24-27', 'V50-V59', '39-45', 'V40-V49', 'V10-V19'], ['24-27', '74-75', '39-45', '29-31', 'V10-V19'], ['84-95', '36-38', '58-62', '32-35', '39-45', '14-20'], ['24-27', 'V10-V19', '29-31', '39-45'], ['24-27', '39-45'], ['28', '71-73', '78', '52-57', '74-75', '32-35', '39-45', 'V40-V49', '29-31', 'V10-V19'], ['24-27', '28', '39-45', 'V40-V49', '29-31', 'V10-V19'], ['39-45'], ['46-51', '00-10', '68-70', '29-31'], ['24-27', '28', '39-45', '29-31', 'V10-V19'], ['24-27', '46-51', '74-75', '39-45', 'V10-V19'], ['24-27', '39-45'], ['96-99', '24-27', '39-45', 'V40-V49'], ['24-27', '28', '36-38', '79', '68-70', '39-45'], ['46-51', 'V10-V19', '39-45'], ['24-27', '78', '28', '46-51', '68-70', '39-45'], ['76-77'], ['V10-V19', '39-45'], ['39-45'], ['24-27', '71-73', '96-99', '52-57', '39-45'], ['24-27', '28', '96-99', '58-62', '39-45', '21-23'], ['96-99', '29-31', '39-45'], ['24-27', '96-99', '46-51', '74-75', '39-45'], ['24-27', 'V10-V19', '39-45'], ['24-27', 'V50-V59', '58-62', '39-45', '29-31', 'V10-V19'], ['39-45'], ['24-27', '71-73', '36-38', '46-51', '74-75', '32-35', '39-45'], ['96-99', '24-27', '29-31', '39-45'], ['24-27', '52-57', '46-51', '74-75', '39-45'], ['24-27', 'V50-V59', '28', '46-51', '58-62', '39-45'], ['V40-V49', 'V10-V19', '39-45'], ['24-27', '28', '96-99', '46-51', '39-45', '29-31'], ['24-27', '28', '71-73', '52-57', 'V40-V49', '14-20'], ['24-27', '78', '52-57', '46-51', '39-45', 'V10-V19'], ['80-83', '29-31', '84-95'], ['46-51', '39-45'], ['24-27', '39-45'], ['24-27', 'V50-V59', '84-95', '96-99', '58-62', '39-45', 'V40-V49'], ['24-27', '58-62', '39-45', 'V10-V19', '00-10'], ['46-51', '28', '39-45'], ['24-27', 'V50-V59', '78', '39-45'], ['96-99', '24-27', '28', '39-45']]\n",
      "[['24-27', '46-51', '78', '39-45'], ['24-27', '80-83', '78', '46-51', '39-45'], ['V88-V88', '21-23', '14-20', '68-70'], ['46-51', '78', '29-31'], ['78', '96-99', '79', '32-35', '29-31'], ['52-57', '21-23', '14-20', '36-38'], ['46-51', '78', '79', '39-45'], ['46-51', '78', '79', '39-45'], ['46-51', '78', '39-45'], ['24-27', '78', '46-51', '32-35', '39-45'], ['78', '71-73', '39-45'], ['46-51', '78', '39-45'], ['24-27', '78', '79', '29-31'], ['78', '71-73', '46-51', '79', '32-35', '39-45'], ['46-51', '78', '79', '39-45'], ['24-27', '78', '79', 'V40-V49', '29-31'], ['24-27', '78', '79', '39-45'], ['24-27', '78', '46-51', '32-35', '39-45', '29-31'], ['80-83', '78', '71-73', '68-70', '39-45'], ['46-51', '78', '39-45'], ['46-51', '78', '79', '39-45'], ['78', 'V87-V87', '79', 'V70-V82', 'V20-V29', 'V40-V49', 'V60-V69'], ['46-51', '78', '79'], ['46-51', '78', '79', '39-45'], ['80-83', '78', '71-73', '79'], ['80-83', '78', '71-73', '58-62', '39-45'], ['V88-V88', '21-23', '71-73', '39-45'], ['46-51', '78', '39-45'], ['24-27', '78', '46-51', '39-45', 'V40-V49'], ['46-51', '78', '39-45'], ['46-51', '78', '79', '39-45'], ['46-51', '78', '79', '39-45'], ['52-57', '24-27', '78'], ['46-51', '78', '39-45'], ['46-51', '78', '39-45'], ['52-57', '14-20'], ['80-83', '78', '71-73'], ['46-51', '78', '39-45'], ['78', '71-73', '46-51', '39-45', 'V40-V49'], ['46-51', '78', '79'], ['V40-V49', 'V87-V87', 'V70-V82', '79'], ['V88-V88', '80-83', '71-73', '84-95'], ['46-51', '78', '39-45'], ['46-51', '78', '39-45'], ['52-57', '58-62', '14-20'], ['78', '58-62'], ['46-51', '78', '79', '39-45'], ['46-51', '78', '39-45'], ['46-51', '78', '39-45'], ['46-51', '78', '79', '39-45'], ['78', '32-35', '29-31'], ['24-27', '46-51', '78', '39-45'], ['80-83', '78', '71-73', 'E00-E09'], ['78', '58-62'], ['24-27', '78', '46-51', '39-45', '29-31'], ['78', '11-13', '52-57', '58-62', '39-45'], ['46-51', '78', '39-45'], ['78', '32-35', '79'], ['46-51', '78', '39-45'], ['78', '71-73', '52-57', '36-38', '46-51', '39-45'], ['78', 'V88-V88', '79', '39-45', '21-23'], ['46-51', '78', '79', '39-45'], ['46-51', '78', '39-45'], ['80-83', '78', '71-73', '84-95', '96-99', '46-51', '39-45'], ['V87-V87', 'V20-V29', 'V70-V82', 'V40-V49', 'V60-V69', 'V10-V19', 'V01-V09'], ['80-83', '78', '68-70'], ['46-51', '78', '39-45'], ['46-51', '78', '39-45'], ['78', '71-73', '36-38', '46-51', '58-62', '39-45'], ['24-27', '78', '46-51', '39-45', '29-31'], ['24-27', '78', '46-51', '79', '39-45'], ['46-51', '78', '39-45'], ['46-51', '78', '39-45'], ['78', 'V87-V87', 'V20-V29', 'V70-V82', 'V40-V49', 'V60-V69', 'V10-V19', 'V01-V09'], ['46-51', '78', '79', '39-45'], ['29-31', '78', '32-35', '79'], ['24-27', '21-23', '78', '39-45'], ['24-27', '46-51', '78', '39-45'], ['80-83', '78', '71-73', '84-95', '46-51', '39-45'], ['24-27', '78', '46-51', '39-45', '29-31'], ['46-51', '78', '79', '39-45'], ['24-27', '78', '46-51', '79', '32-35', '39-45'], ['24-27', '78', '68-70', '39-45'], ['46-51', '78', '79', '39-45'], ['46-51', '78'], ['78', '71-73', '46-51', '79', '39-45'], ['46-51', '78', '39-45'], ['V88-V88', '71-73', '39-45'], ['71-73', '39-45'], ['46-51', '78', '39-45'], ['46-51', '78', '79', '39-45'], ['24-27', '78', '46-51', '32-35', '39-45'], ['46-51', '78', '32-35', '39-45'], ['46-51', '78', '39-45'], ['46-51', '78', '79', '39-45'], ['24-27', '78', '71-73', '46-51', '32-35', '39-45'], ['46-51', '78', '79', '39-45'], ['46-51', '78', '68-70'], ['24-27', '78', '71-73', '39-45', '29-31'], ['24-27', '46-51', '78', '39-45'], ['46-51', '78', '79', '39-45'], ['24-27', '78', '71-73', '84-95', '96-99', '46-51', '79', '58-62', '68-70', '32-35', '39-45'], ['52-57', '46-51', '78', '39-45'], ['46-51', '78', '79', '39-45'], ['80-83', '78', '71-73'], ['78', '46-51', '39-45', 'V40-V49', '21-23', 'V60-V69'], ['V40-V49', '78', 'V79', '39-45'], ['78', '46-51', '79', '39-45', '29-31'], ['46-51', '78', '39-45'], ['24-27', '78', '46-51', '79', '39-45'], ['78', '46-51', '39-45', '21-23', '29-31'], ['78', '46-51', '79', '32-35', '39-45'], ['24-27', '78', '79', '39-45', 'V40-V49', '29-31'], ['24-27', '78', '68-70', '71-73'], ['80-83', '78', '71-73', '79'], ['V40-V49', '46-51', '78', '39-45'], ['46-51', '78', '39-45'], ['78', '71-73', '39-45'], ['78', '46-51', '79', '39-45', '29-31'], ['78', '71-73', '79'], ['32-35', '39-45'], ['46-51', '78', '79'], ['24-27', '78', '46-51', '39-45', '21-23'], ['39-45'], ['46-51', '78', '79', '39-45'], ['24-27', '78', '46-51', '79', '39-45'], ['78', '71-73', '46-51', '79', '32-35', '39-45', '29-31', '67'], ['78', '32-35', '79'], ['46-51', '78', '39-45'], ['24-27', '63-66', '71-73', '78', '52-57', '58-62', '39-45', '67'], ['78', '96-99', '46-51', '39-45', '29-31'], ['52-57', '46-51', '78', '39-45'], ['46-51', '78', '71-73', '39-45'], ['24-27', '78', '46-51', '39-45', '29-31'], ['24-27', '78', '71-73', '46-51', '39-45'], ['V87-V87', '79', '74-75', '32-35'], ['46-51', '78', '39-45'], ['46-51', '78', '79', '39-45'], ['80-83', '78', '71-73', '32-35', '39-45'], ['24-27', '46-51', '78', '39-45'], ['52-57', '46-51', '78'], ['24-27', '46-51', '78', '39-45'], ['24-27', '21-23', '14-20'], ['46-51', '78', '39-45'], ['52-57', '46-51', '78', '39-45'], ['24-27', '78', '36-38', '46-51', '79', '39-45'], ['80-83', '78', '71-73', '46-51', '79', '32-35', '39-45', '29-31'], ['24-27', '46-51', '78', '39-45'], ['24-27', '78', 'V87-V87', '46-51', 'V70-V82', '39-45', 'V40-V49', '21-23', '29-31'], ['24-27', '78', '46-51', '39-45', '29-31'], ['24-27', '46-51', '78', '39-45'], ['24-27', '46-51', '78', '39-45'], ['46-51', '78', '79', '39-45'], ['46-51', '78', '79', '39-45'], ['24-27', '78', '36-38', '46-51', '58-62', '39-45', '21-23'], ['80-83', '78', '71-73'], ['80-83', 'E00-E09', '84-95'], ['46-51', '78', '71-73', '39-45'], ['78', '71-73', '46-51', '79', '32-35', '39-45', '29-31'], ['46-51', '78', '39-45'], ['24-27', '78', '46-51', '32-35', '39-45'], ['78', 'V88-V88', '46-51', '79', '39-45'], ['78', 'V87-V87', '79', 'V70-V82', 'V40-V49'], ['V50-V59', 'V88-V88', '32-35', '39-45', '21-23'], ['24-27', '78', '46-51', '79', '39-45'], ['46-51', '78', '79', '39-45'], ['46-51', '78', '39-45'], ['E00-E09', '68-70', '71-73', '84-95'], ['21-23', '14-20', '32-35'], ['46-51', '78', '79', '39-45'], ['78', '79', 'V70-V82', 'V40-V49', 'V60-V69'], ['46-51', '78', '79', '39-45'], ['46-51', '78', '79', '39-45'], ['V40-V49', 'V87-V87', 'V70-V82'], ['46-51', '78', '39-45'], ['46-51', '78', 'V70-V82', '39-45'], ['79', '78', '32-35', '29-31'], ['80-83', '78', '71-73', '79'], ['24-27', '39-45', '78', '29-31'], ['71-73', 'V88-V88', '68-70', '21-23', '14-20'], ['78', '46-51', '32-35', '39-45', '29-31'], ['46-51', '78', '39-45'], ['46-51', '78', '29-31', '39-45'], ['74-75', '39-45'], ['46-51', '78', '79', '39-45'], ['78', '71-73', '46-51', '39-45', 'V40-V49'], ['80-83', '78', '96-99', '46-51', '39-45'], ['58-62', '78', '71-73', '80-83'], ['78', '71-73', '52-57', '46-51', '39-45'], ['21-23', '32-35', '39-45'], ['78', '71-73', '46-51', '79', '58-62', '32-35', '39-45', '68-70', '67'], ['46-51', '78', '39-45'], ['80-83', '78', '71-73', '79', '32-35'], ['24-27', '78', '46-51', '39-45', 'V40-V49', '29-31'], ['80-83', '78', '71-73', 'V50-V59', 'V40-V49'], ['46-51', '78', '79', '39-45'], ['V40-V49', '46-51', '78', '39-45'], ['46-51', '78', '79', '39-45'], ['24-27', '28', '58-62', '76-77', '67'], ['78', '32-35', '39-45'], ['24-27', '78', '52-57', '46-51', '39-45', 'V40-V49'], ['46-51', '78', '39-45'], ['21-23', '14-20', '32-35'], ['46-51', '78', '39-45'], ['24-27', '46-51', '78', '39-45'], ['46-51', '78', '79', '39-45'], ['46-51', '78', '79', '39-45'], ['46-51', '78', '79', '39-45'], ['46-51', '78', '39-45'], ['46-51', '78', '79', '39-45'], ['78', '46-51', '79', '39-45', '29-31'], ['24-27', '78', '52-57', '36-38', '29-31'], ['78', 'V87-V87', 'V88-V88', '79', 'V70-V82', 'V40-V49', 'V60-V69'], ['46-51', '78', '71-73', '39-45'], ['80-83', '78', '71-73', '58-62', '39-45'], ['46-51', '78', '79', '39-45'], ['80-83', 'E00-E09', '84-95'], ['78', '52-57', '46-51', '79', '58-62', '39-45'], ['63-66', '71-73', '46-51', '39-45', '76-77', '67'], ['24-27', '46-51', '78', '39-45'], ['24-27', '78', '46-51', '32-35', '39-45', '29-31'], ['46-51', '78', '39-45'], ['24-27', '78', '46-51', '79', '39-45'], ['46-51', '78', '39-45']]\n",
      "Macro Averaged AUROC Score: 0.5633021472241231\n",
      "Micro Averaged Precision: 0.34501061571125263\n",
      "Micro Averaged Recall: 0.31522793404461685\n",
      "Micro Averaged F1-Score: 0.3294475418144957\n",
      "Macro Averaged Precision: 0.16545756343825777\n",
      "Macro Averaged Recall: 0.18943816976530944\n",
      "Macro Averaged F1-Score: 0.1399785905855568\n"
     ]
    },
    {
     "name": "stderr",
     "output_type": "stream",
     "text": [
      "\n"
     ]
    }
   ],
   "source": [
    "def metrics_calc(type = 'one symptom', raw_test_df = raw_test_df, disease_df = disease_df, method = 'llm', model_name = 'groq'):\n",
    "\n",
    "    true_labels = []\n",
    "    predicted_labels = []\n",
    "\n",
    "    for i,j in tqdm(raw_test_df.iterrows()): \n",
    "            if type == 'one symptom' : \n",
    "                if len(j.Symptoms)==1 : \n",
    "                    true_label = j.Category.split(',')\n",
    "                    true_labels.append(list(set(true_label)))\n",
    "                    expanded_query =  search_symptoms(list(j.Symptoms))\n",
    "                    pred_labels = get_prioritized_relationships(expanded_query,weightage=1,limit= 20)[0]\n",
    "                    \n",
    "                    code_desc_tuples = list(set(disease_df[disease_df.Code.isin(pred_labels)][['Code', 'Description']].reset_index(drop = True).itertuples(index=False, name=None)))\n",
    "                    refined_pred_labels = aug_and_gen(code_desc_tuples,j.Symptoms, model=model_name, method = method)\n",
    "                    print(refined_pred_labels)\n",
    "                    refined_pred_labels = refined_pred_labels[2:-2].split(\"', '\")\n",
    "                    \n",
    "                    predicted_labels.append(list(set(refined_pred_labels)))\n",
    "\n",
    "            elif type == 'two symptoms' : \n",
    "                if len(j.Symptoms)==2 : \n",
    "                    true_label = j.Category.split(',')\n",
    "                    true_labels.append(list(set(true_label)))\n",
    "                    expanded_query =  search_symptoms(list(j.Symptoms))\n",
    "                    pred_labels = get_prioritized_relationships(expanded_query,weightage=1,limit= 20)[0]\n",
    "                    \n",
    "                    code_desc_tuples = list(set(disease_df[disease_df.Code.isin(pred_labels)][['Code', 'Description']].reset_index(drop = True).itertuples(index=False, name=None)))\n",
    "                    refined_pred_labels = aug_and_gen(code_desc_tuples,j.Symptoms, model =model_name, method = method)\n",
    "                    print(refined_pred_labels)\n",
    "                    refined_pred_labels = refined_pred_labels[2:-2].split(\"', '\")\n",
    "                    \n",
    "                    predicted_labels.append(list(set(refined_pred_labels)))\n",
    "\n",
    "            elif type == 'three symptoms' : \n",
    "                if len(j.Symptoms)==3 : \n",
    "                    true_label = j.Category.split(',')\n",
    "                    true_labels.append(list(set(true_label)))\n",
    "                    expanded_query =  search_symptoms(list(j.Symptoms))\n",
    "                    pred_labels = get_prioritized_relationships(expanded_query,weightage=1,limit= 20)[0]\n",
    "                    \n",
    "                    code_desc_tuples = list(set(disease_df[disease_df.Code.isin(pred_labels)][['Code', 'Description']].reset_index(drop = True).itertuples(index=False, name=None)))\n",
    "                    refined_pred_labels = aug_and_gen(code_desc_tuples,j.Symptoms,model =model_name,method = method)\n",
    "                    print(refined_pred_labels)\n",
    "                    refined_pred_labels = refined_pred_labels[2:-2].split(\"', '\")\n",
    "                    \n",
    "                    predicted_labels.append(list(set(refined_pred_labels)))\n",
    "\n",
    "            elif type == 'more than 3 symptoms' : \n",
    "                if len(j.Symptoms)>3 : \n",
    "                    true_label = j.Category.split(',')\n",
    "                    true_labels.append(list(set(true_label)))\n",
    "                    expanded_query =  search_symptoms(list(j.Symptoms))\n",
    "                    pred_labels = get_prioritized_relationships(expanded_query,weightage=1,limit= 20)[0]\n",
    "                    \n",
    "                    code_desc_tuples = list(set(disease_df[disease_df.Code.isin(pred_labels)][['Code', 'Description']].reset_index(drop = True).itertuples(index=False, name=None)))\n",
    "                    refined_pred_labels = aug_and_gen(code_desc_tuples,j.Symptoms, model =model_name,method = method)\n",
    "                    print(refined_pred_labels)\n",
    "                    refined_pred_labels = refined_pred_labels[2:-2].split(\"', '\")\n",
    "                    \n",
    "                    predicted_labels.append(list(set(refined_pred_labels)))\n",
    "            \n",
    "                    \n",
    "            \n",
    "\n",
    "\n",
    "    print(f\"Number of rows : {len(true_labels)}\")\n",
    "    print(true_labels)\n",
    "    print(predicted_labels)\n",
    "\n",
    "    true_binary_matrix = create_binary_matrix(true_labels, classes)\n",
    "    predicted_binary_matrix = create_binary_matrix(predicted_labels, classes)\n",
    "    \n",
    "\n",
    "    auroc_score = roc_auc(predicted_binary_matrix, true_binary_matrix, multilabel=True)\n",
    "    print(f\"Macro Averaged AUROC Score: {auroc_score}\")\n",
    "\n",
    "\n",
    "    precision = precision_score(true_binary_matrix, predicted_binary_matrix, average='micro', zero_division=0)\n",
    "    recall = recall_score(true_binary_matrix, predicted_binary_matrix, average='micro', zero_division=0)\n",
    "    f1 = f1_score(true_binary_matrix, predicted_binary_matrix, average='micro', zero_division=0)\n",
    "\n",
    "    precision_m = precision_score(true_binary_matrix, predicted_binary_matrix, average='macro', zero_division=0)\n",
    "    recall_m = recall_score(true_binary_matrix, predicted_binary_matrix, average='macro', zero_division=0)\n",
    "    f1_m = f1_score(true_binary_matrix, predicted_binary_matrix, average='macro', zero_division=0)\n",
    "\n",
    "\n",
    "    print(f\"Micro Averaged Precision: {precision}\")\n",
    "    print(f\"Micro Averaged Recall: {recall}\")\n",
    "    print(f\"Micro Averaged F1-Score: {f1}\")\n",
    "\n",
    "    print(f\"Macro Averaged Precision: {precision_m}\")\n",
    "    print(f\"Macro Averaged Recall: {recall_m}\")\n",
    "    print(f\"Macro Averaged F1-Score: {f1_m}\")\n",
    "\n",
    "\n",
    "metrics_calc(type = 'one symptom',method='llm', model_name= 'groq')"
   ]
  },
  {
   "cell_type": "markdown",
   "metadata": {},
   "source": [
    "### MIMIC KG based  : \n",
    "\n",
    "- without llm, jjust knowledge graph : \n",
    "\n",
    "| Type                       | Number of Rows | Macro Averaged AUROC Score | Micro Averaged Precision | Micro Averaged Recall | Micro Averaged F1-Score | Macro Averaged Precision | Macro Averaged Recall | Macro Averaged F1-Score |\n",
    "|----------------------------|----------------|----------------------------|--------------------------|-----------------------|-------------------------|--------------------------|-----------------------|-------------------------|\n",
    "| Single Symptom              | 224            | 0.4723445909278866          | 0.16290212183436004       | 0.6925315227934045     | 0.26376062061322497      | 0.11825917706440202       | 0.43180014769528724    | 0.1590802227349518       |\n",
    "| Two Symptoms                | 536            | 0.5202401454442502          | 0.18903730249226258       | 0.8283369022127052     | 0.30782493368700264      | 0.13995083123499627       | 0.6043024076921084     | 0.19748417282824415      |\n",
    "| Three Symptoms              | 818            | 0.507191708694502           | 0.18194150063586265       | 0.9437115215479331     | 0.3050678797355889       | 0.14847040067553025       | 0.7469264629850801     | 0.21789116867971023      |\n",
    "| More than Three Symptoms    | 7155           | 0.5158831933120694          | 0.22374881843496922       | 0.9513371423605831     | 0.36228934501501575      | 0.17221372751016636       | 0.7468493254495923     | 0.2476602454171145       |\n",
    "\n",
    "\n",
    "\n",
    "- one symptom, only llm :\n",
    "\n",
    "Macro Averaged AUROC Score: 0.6136904761904762\n",
    "Micro Averaged Precision: 0.3333333333333333\n",
    "Micro Averaged Recall: 0.4\n",
    "Micro Averaged F1-Score: 0.36363636363636365\n",
    "Macro Averaged Precision: 0.16885964912280702\n",
    "Macro Averaged Recall: 0.16666666666666666\n",
    "Macro Averaged F1-Score: 0.1482456140350877\n",
    "\n",
    "- one symptom, rag : \n",
    "\n",
    "Macro Averaged AUROC Score: 0.5863095238095238\n",
    "Micro Averaged Precision: 0.29411764705882354\n",
    "Micro Averaged Recall: 0.4\n",
    "Micro Averaged F1-Score: 0.3389830508474576\n",
    "Macro Averaged Precision: 0.13157894736842105\n",
    "Macro Averaged Recall: 0.1513157894736842\n",
    "Macro Averaged F1-Score: 0.12832080200501253\n",
    "\n",
    "- two symptoms, only llm : \n",
    "\n",
    "Macro Averaged AUROC Score: 0.5632807007807008\n",
    "Micro Averaged Precision: 0.3142857142857143\n",
    "Micro Averaged Recall: 0.3235294117647059\n",
    "Micro Averaged F1-Score: 0.3188405797101449\n",
    "Macro Averaged Precision: 0.12105263157894736\n",
    "Macro Averaged Recall: 0.1313112326270221\n",
    "Macro Averaged F1-Score: 0.10443175245806824\n",
    "\n",
    "- two symptoms, rag : \n",
    "\n",
    "Macro Averaged AUROC Score: 0.5847924066674066\n",
    "Micro Averaged Precision: 0.3764705882352941\n",
    "Micro Averaged Recall: 0.47058823529411764\n",
    "Micro Averaged F1-Score: 0.41830065359477125\n",
    "Macro Averaged Precision: 0.16461247086247086\n",
    "Macro Averaged Recall: 0.175706311232627\n",
    "Macro Averaged F1-Score: 0.15557755797693876\n",
    "\n",
    "\n",
    "- three symptoms, only llm : \n",
    "\n",
    "Macro Averaged AUROC Score: 0.5862140504330619\n",
    "Micro Averaged Precision: 0.4580152671755725\n",
    "Micro Averaged Recall: 0.4838709677419355\n",
    "Micro Averaged F1-Score: 0.47058823529411764\n",
    "Macro Averaged Precision: 0.1790889322236071\n",
    "Macro Averaged Recall: 0.2150480367585631\n",
    "Macro Averaged F1-Score: 0.17859963190568284\n",
    "\n",
    "- three symptoms, rag : \n",
    "\n",
    "Macro Averaged AUROC Score: 0.6097125865231792\n",
    "Micro Averaged Precision: 0.5425531914893617\n",
    "Micro Averaged Recall: 0.4112903225806452\n",
    "Micro Averaged F1-Score: 0.46788990825688076\n",
    "Macro Averaged Precision: 0.23222327208395319\n",
    "Macro Averaged Recall: 0.19341060985797826\n",
    "Macro Averaged F1-Score: 0.18817168916987428\n",
    "\n",
    "\n",
    "\n",
    "- more than three symptoms, only llm :\n",
    " \n",
    "Macro Averaged AUROC Score: 0.5862140504330619\n",
    "Micro Averaged Precision: 0.4580152671755725\n",
    "Micro Averaged Recall: 0.4838709677419355\n",
    "Micro Averaged F1-Score: 0.47058823529411764\n",
    "Macro Averaged Precision: 0.1790889322236071\n",
    "Macro Averaged Recall: 0.2150480367585631\n",
    "Macro Averaged F1-Score: 0.17859963190568284\n",
    "\n",
    "- more than three symptoms, rag : \n",
    "\n",
    "Macro Averaged AUROC Score: 0.6097125865231792\n",
    "Micro Averaged Precision: 0.5425531914893617\n",
    "Micro Averaged Recall: 0.4112903225806452\n",
    "Micro Averaged F1-Score: 0.46788990825688076\n",
    "Macro Averaged Precision: 0.23222327208395319\n",
    "Macro Averaged Recall: 0.19341060985797826\n",
    "Macro Averaged F1-Score: 0.18817168916987428\n",
    "\n",
    "\n",
    "\n",
    "\n",
    "\n"
   ]
  },
  {
   "cell_type": "code",
   "execution_count": 1157,
   "metadata": {},
   "outputs": [
    {
     "name": "stderr",
     "output_type": "stream",
     "text": [
      "2it [00:09,  4.59s/it]"
     ]
    },
    {
     "name": "stdout",
     "output_type": "stream",
     "text": [
      "['39-45', '46-51', 'V40-V49', 'V50-V59', '78', '79']\n"
     ]
    },
    {
     "name": "stderr",
     "output_type": "stream",
     "text": [
      "62it [00:17,  4.28it/s]"
     ]
    },
    {
     "name": "stdout",
     "output_type": "stream",
     "text": [
      "['39-45', '24-27', 'V40-V49', '36-38', '28', '46-51']\n"
     ]
    },
    {
     "name": "stderr",
     "output_type": "stream",
     "text": [
      "71it [00:24,  3.02it/s]"
     ]
    },
    {
     "name": "stdout",
     "output_type": "stream",
     "text": [
      "['V40-V49', '78', '39-45', '71-73', '32-35', '29-31', '46-51']\n"
     ]
    },
    {
     "name": "stderr",
     "output_type": "stream",
     "text": [
      "81it [16:19, 20.86s/it]"
     ]
    },
    {
     "name": "stdout",
     "output_type": "stream",
     "text": [
      "['46-51', '14-20', '24-27', '28', '78']\n"
     ]
    },
    {
     "name": "stderr",
     "output_type": "stream",
     "text": [
      "152it [16:20,  6.55s/it]"
     ]
    },
    {
     "name": "stdout",
     "output_type": "stream",
     "text": [
      "['78', '28', '32-35', '29-31', '46-51', '96-99', '79', '24-27']\n"
     ]
    },
    {
     "name": "stderr",
     "output_type": "stream",
     "text": [
      "166it [16:21,  5.50s/it]"
     ]
    },
    {
     "name": "stdout",
     "output_type": "stream",
     "text": [
      "['14-20', '52-57', '78', '39-45', '71-73', '29-31', 'V40-V49']\n"
     ]
    },
    {
     "name": "stderr",
     "output_type": "stream",
     "text": [
      "224it [16:22,  2.82s/it]"
     ]
    },
    {
     "name": "stdout",
     "output_type": "stream",
     "text": [
      "['39-45', '78', '29-31', '46-51', 'V40-V49', 'V10-V19', '21-23']\n"
     ]
    },
    {
     "name": "stderr",
     "output_type": "stream",
     "text": [
      "253it [16:23,  2.09s/it]"
     ]
    },
    {
     "name": "stdout",
     "output_type": "stream",
     "text": [
      "['39-45', '46-51', '78']\n"
     ]
    },
    {
     "name": "stderr",
     "output_type": "stream",
     "text": [
      "260it [16:24,  1.93s/it]"
     ]
    },
    {
     "name": "stdout",
     "output_type": "stream",
     "text": [
      "['46-51', '28', '39-45', '24-27', '78']\n"
     ]
    },
    {
     "name": "stderr",
     "output_type": "stream",
     "text": [
      "293it [16:25,  1.26s/it]"
     ]
    },
    {
     "name": "stdout",
     "output_type": "stream",
     "text": [
      "['78', '24-27', '39-45', '46-51', '96-99']\n"
     ]
    },
    {
     "name": "stderr",
     "output_type": "stream",
     "text": [
      "329it [16:27,  1.21it/s]"
     ]
    },
    {
     "name": "stdout",
     "output_type": "stream",
     "text": [
      "['39-45', '29-31', '78', 'V40-V49', '96-99', '71-73', '58-62', 'V50-V59', '68-70']\n"
     ]
    },
    {
     "name": "stderr",
     "output_type": "stream",
     "text": [
      "347it [16:32,  1.39it/s]"
     ]
    },
    {
     "name": "stdout",
     "output_type": "stream",
     "text": [
      "['39-45', '71-73', '78', '46-51']\n"
     ]
    },
    {
     "name": "stderr",
     "output_type": "stream",
     "text": [
      "405it [16:40,  2.27it/s]"
     ]
    },
    {
     "name": "stdout",
     "output_type": "stream",
     "text": [
      "['78', '29-31', '24-27', '39-45', '46-51', '96-99']\n"
     ]
    },
    {
     "name": "stderr",
     "output_type": "stream",
     "text": [
      "429it [2:39:25, 79.62s/it]"
     ]
    },
    {
     "name": "stdout",
     "output_type": "stream",
     "text": [
      "['14-20', 'V40-V49', '78', '46-51', '96-99', '58-62', 'V50-V59', '39-45', 'V10-V19', '52-57', '28', '24-27']\n"
     ]
    },
    {
     "name": "stderr",
     "output_type": "stream",
     "text": [
      "540it [2:39:27, 32.27s/it]"
     ]
    },
    {
     "name": "stdout",
     "output_type": "stream",
     "text": [
      "['78', '46-51', '39-45', '28', 'V10-V19', 'V40-V49', 'V50-V59']\n"
     ]
    },
    {
     "name": "stderr",
     "output_type": "stream",
     "text": [
      "557it [2:39:28, 28.56s/it]"
     ]
    },
    {
     "name": "stdout",
     "output_type": "stream",
     "text": [
      "['78', '29-31', '46-51', '68-70', '24-27', '39-45', '52-57']\n"
     ]
    },
    {
     "name": "stderr",
     "output_type": "stream",
     "text": [
      "604it [2:39:28, 19.64s/it]"
     ]
    },
    {
     "name": "stdout",
     "output_type": "stream",
     "text": [
      "['78', '29-31', '46-51', '96-99', 'V40-V49', '39-45', 'V10-V19']\n"
     ]
    },
    {
     "name": "stderr",
     "output_type": "stream",
     "text": [
      "714it [5:04:35, 50.05s/it]"
     ]
    },
    {
     "name": "stdout",
     "output_type": "stream",
     "text": [
      "['46-51', '28', '39-45', '24-27', 'V70-V82']\n"
     ]
    },
    {
     "name": "stderr",
     "output_type": "stream",
     "text": [
      "744it [5:04:36, 41.75s/it]"
     ]
    },
    {
     "name": "stdout",
     "output_type": "stream",
     "text": [
      "['71-73', '24-27', '78', '52-57', '39-45', '80-83']\n"
     ]
    },
    {
     "name": "stderr",
     "output_type": "stream",
     "text": [
      "803it [5:04:37, 28.47s/it]"
     ]
    },
    {
     "name": "stdout",
     "output_type": "stream",
     "text": [
      "['39-45', '29-31', 'V10-V19', 'V40-V49', '24-27']\n"
     ]
    },
    {
     "name": "stderr",
     "output_type": "stream",
     "text": [
      "840it [5:14:11, 25.60s/it]"
     ]
    },
    {
     "name": "stdout",
     "output_type": "stream",
     "text": [
      "['78', '46-51', '29-31', '39-45', 'V40-V49', '14-20', 'V85-V85', 'V10-V19', 'V50-V59']\n"
     ]
    },
    {
     "name": "stderr",
     "output_type": "stream",
     "text": [
      "972it [5:14:11, 12.02s/it]"
     ]
    },
    {
     "name": "stdout",
     "output_type": "stream",
     "text": [
      "['V10-V19', 'V40-V49', 'V85-V85']\n"
     ]
    },
    {
     "name": "stderr",
     "output_type": "stream",
     "text": [
      "1021it [5:14:12,  9.38s/it]"
     ]
    },
    {
     "name": "stdout",
     "output_type": "stream",
     "text": [
      "['46-51', '28', '78', '24-27', '39-45', '96-99']\n"
     ]
    },
    {
     "name": "stderr",
     "output_type": "stream",
     "text": [
      "1057it [5:14:13,  7.63s/it]"
     ]
    },
    {
     "name": "stdout",
     "output_type": "stream",
     "text": [
      "['39-45', '78', '46-51', '24-27', 'V40-V49']\n"
     ]
    },
    {
     "name": "stderr",
     "output_type": "stream",
     "text": [
      "1088it [5:14:14,  6.21s/it]"
     ]
    },
    {
     "name": "stdout",
     "output_type": "stream",
     "text": [
      "['71-73', '39-45', '80-83', '52-57', '78', '24-27']\n"
     ]
    },
    {
     "name": "stderr",
     "output_type": "stream",
     "text": [
      "1111it [5:14:15,  5.18s/it]"
     ]
    },
    {
     "name": "stdout",
     "output_type": "stream",
     "text": [
      "['71-73', '78', '39-45', '80-83', '52-57', '29-31', '46-51', '11-13', '24-27']\n"
     ]
    },
    {
     "name": "stderr",
     "output_type": "stream",
     "text": [
      "1143it [5:14:16,  3.91s/it]"
     ]
    },
    {
     "name": "stdout",
     "output_type": "stream",
     "text": [
      "['39-45', '21-23', 'V10-V19', '71-73', '68-70', '14-20']\n"
     ]
    },
    {
     "name": "stderr",
     "output_type": "stream",
     "text": [
      "1186it [5:14:17,  2.66s/it]"
     ]
    },
    {
     "name": "stdout",
     "output_type": "stream",
     "text": [
      "['39-45', 'V40-V49', '78', '29-31', '46-51', '96-99', 'V50-V59']\n"
     ]
    },
    {
     "name": "stderr",
     "output_type": "stream",
     "text": [
      "1285it [5:25:02, 15.18s/it]\n"
     ]
    },
    {
     "ename": "APIConnectionError",
     "evalue": "Connection error.",
     "output_type": "error",
     "traceback": [
      "\u001b[0;31m---------------------------------------------------------------------------\u001b[0m",
      "\u001b[0;31mConnectError\u001b[0m                              Traceback (most recent call last)",
      "File \u001b[0;32m/Applications/anaconda3/envs/astro/lib/python3.12/site-packages/httpx/_transports/default.py:66\u001b[0m, in \u001b[0;36mmap_httpcore_exceptions\u001b[0;34m()\u001b[0m\n\u001b[1;32m     65\u001b[0m \u001b[38;5;28;01mtry\u001b[39;00m:\n\u001b[0;32m---> 66\u001b[0m     \u001b[38;5;28;01myield\u001b[39;00m\n\u001b[1;32m     67\u001b[0m \u001b[38;5;28;01mexcept\u001b[39;00m \u001b[38;5;167;01mException\u001b[39;00m \u001b[38;5;28;01mas\u001b[39;00m exc:\n",
      "File \u001b[0;32m/Applications/anaconda3/envs/astro/lib/python3.12/site-packages/httpx/_transports/default.py:228\u001b[0m, in \u001b[0;36mHTTPTransport.handle_request\u001b[0;34m(self, request)\u001b[0m\n\u001b[1;32m    227\u001b[0m \u001b[38;5;28;01mwith\u001b[39;00m map_httpcore_exceptions():\n\u001b[0;32m--> 228\u001b[0m     resp \u001b[38;5;241m=\u001b[39m \u001b[38;5;28;43mself\u001b[39;49m\u001b[38;5;241;43m.\u001b[39;49m\u001b[43m_pool\u001b[49m\u001b[38;5;241;43m.\u001b[39;49m\u001b[43mhandle_request\u001b[49m\u001b[43m(\u001b[49m\u001b[43mreq\u001b[49m\u001b[43m)\u001b[49m\n\u001b[1;32m    230\u001b[0m \u001b[38;5;28;01massert\u001b[39;00m \u001b[38;5;28misinstance\u001b[39m(resp\u001b[38;5;241m.\u001b[39mstream, typing\u001b[38;5;241m.\u001b[39mIterable)\n",
      "File \u001b[0;32m/Applications/anaconda3/envs/astro/lib/python3.12/site-packages/httpcore/_sync/connection_pool.py:216\u001b[0m, in \u001b[0;36mConnectionPool.handle_request\u001b[0;34m(self, request)\u001b[0m\n\u001b[1;32m    215\u001b[0m     \u001b[38;5;28mself\u001b[39m\u001b[38;5;241m.\u001b[39m_close_connections(closing)\n\u001b[0;32m--> 216\u001b[0m     \u001b[38;5;28;01mraise\u001b[39;00m exc \u001b[38;5;28;01mfrom\u001b[39;00m \u001b[38;5;28;01mNone\u001b[39;00m\n\u001b[1;32m    218\u001b[0m \u001b[38;5;66;03m# Return the response. Note that in this case we still have to manage\u001b[39;00m\n\u001b[1;32m    219\u001b[0m \u001b[38;5;66;03m# the point at which the response is closed.\u001b[39;00m\n",
      "File \u001b[0;32m/Applications/anaconda3/envs/astro/lib/python3.12/site-packages/httpcore/_sync/connection_pool.py:196\u001b[0m, in \u001b[0;36mConnectionPool.handle_request\u001b[0;34m(self, request)\u001b[0m\n\u001b[1;32m    194\u001b[0m \u001b[38;5;28;01mtry\u001b[39;00m:\n\u001b[1;32m    195\u001b[0m     \u001b[38;5;66;03m# Send the request on the assigned connection.\u001b[39;00m\n\u001b[0;32m--> 196\u001b[0m     response \u001b[38;5;241m=\u001b[39m \u001b[43mconnection\u001b[49m\u001b[38;5;241;43m.\u001b[39;49m\u001b[43mhandle_request\u001b[49m\u001b[43m(\u001b[49m\n\u001b[1;32m    197\u001b[0m \u001b[43m        \u001b[49m\u001b[43mpool_request\u001b[49m\u001b[38;5;241;43m.\u001b[39;49m\u001b[43mrequest\u001b[49m\n\u001b[1;32m    198\u001b[0m \u001b[43m    \u001b[49m\u001b[43m)\u001b[49m\n\u001b[1;32m    199\u001b[0m \u001b[38;5;28;01mexcept\u001b[39;00m ConnectionNotAvailable:\n\u001b[1;32m    200\u001b[0m     \u001b[38;5;66;03m# In some cases a connection may initially be available to\u001b[39;00m\n\u001b[1;32m    201\u001b[0m     \u001b[38;5;66;03m# handle a request, but then become unavailable.\u001b[39;00m\n\u001b[1;32m    202\u001b[0m     \u001b[38;5;66;03m#\u001b[39;00m\n\u001b[1;32m    203\u001b[0m     \u001b[38;5;66;03m# In this case we clear the connection and try again.\u001b[39;00m\n",
      "File \u001b[0;32m/Applications/anaconda3/envs/astro/lib/python3.12/site-packages/httpcore/_sync/connection.py:99\u001b[0m, in \u001b[0;36mHTTPConnection.handle_request\u001b[0;34m(self, request)\u001b[0m\n\u001b[1;32m     98\u001b[0m     \u001b[38;5;28mself\u001b[39m\u001b[38;5;241m.\u001b[39m_connect_failed \u001b[38;5;241m=\u001b[39m \u001b[38;5;28;01mTrue\u001b[39;00m\n\u001b[0;32m---> 99\u001b[0m     \u001b[38;5;28;01mraise\u001b[39;00m exc\n\u001b[1;32m    101\u001b[0m \u001b[38;5;28;01mreturn\u001b[39;00m \u001b[38;5;28mself\u001b[39m\u001b[38;5;241m.\u001b[39m_connection\u001b[38;5;241m.\u001b[39mhandle_request(request)\n",
      "File \u001b[0;32m/Applications/anaconda3/envs/astro/lib/python3.12/site-packages/httpcore/_sync/connection.py:76\u001b[0m, in \u001b[0;36mHTTPConnection.handle_request\u001b[0;34m(self, request)\u001b[0m\n\u001b[1;32m     75\u001b[0m \u001b[38;5;28;01mif\u001b[39;00m \u001b[38;5;28mself\u001b[39m\u001b[38;5;241m.\u001b[39m_connection \u001b[38;5;129;01mis\u001b[39;00m \u001b[38;5;28;01mNone\u001b[39;00m:\n\u001b[0;32m---> 76\u001b[0m     stream \u001b[38;5;241m=\u001b[39m \u001b[38;5;28;43mself\u001b[39;49m\u001b[38;5;241;43m.\u001b[39;49m\u001b[43m_connect\u001b[49m\u001b[43m(\u001b[49m\u001b[43mrequest\u001b[49m\u001b[43m)\u001b[49m\n\u001b[1;32m     78\u001b[0m     ssl_object \u001b[38;5;241m=\u001b[39m stream\u001b[38;5;241m.\u001b[39mget_extra_info(\u001b[38;5;124m\"\u001b[39m\u001b[38;5;124mssl_object\u001b[39m\u001b[38;5;124m\"\u001b[39m)\n",
      "File \u001b[0;32m/Applications/anaconda3/envs/astro/lib/python3.12/site-packages/httpcore/_sync/connection.py:122\u001b[0m, in \u001b[0;36mHTTPConnection._connect\u001b[0;34m(self, request)\u001b[0m\n\u001b[1;32m    121\u001b[0m \u001b[38;5;28;01mwith\u001b[39;00m Trace(\u001b[38;5;124m\"\u001b[39m\u001b[38;5;124mconnect_tcp\u001b[39m\u001b[38;5;124m\"\u001b[39m, logger, request, kwargs) \u001b[38;5;28;01mas\u001b[39;00m trace:\n\u001b[0;32m--> 122\u001b[0m     stream \u001b[38;5;241m=\u001b[39m \u001b[38;5;28;43mself\u001b[39;49m\u001b[38;5;241;43m.\u001b[39;49m\u001b[43m_network_backend\u001b[49m\u001b[38;5;241;43m.\u001b[39;49m\u001b[43mconnect_tcp\u001b[49m\u001b[43m(\u001b[49m\u001b[38;5;241;43m*\u001b[39;49m\u001b[38;5;241;43m*\u001b[39;49m\u001b[43mkwargs\u001b[49m\u001b[43m)\u001b[49m\n\u001b[1;32m    123\u001b[0m     trace\u001b[38;5;241m.\u001b[39mreturn_value \u001b[38;5;241m=\u001b[39m stream\n",
      "File \u001b[0;32m/Applications/anaconda3/envs/astro/lib/python3.12/site-packages/httpcore/_backends/sync.py:205\u001b[0m, in \u001b[0;36mSyncBackend.connect_tcp\u001b[0;34m(self, host, port, timeout, local_address, socket_options)\u001b[0m\n\u001b[1;32m    200\u001b[0m exc_map: ExceptionMapping \u001b[38;5;241m=\u001b[39m {\n\u001b[1;32m    201\u001b[0m     socket\u001b[38;5;241m.\u001b[39mtimeout: ConnectTimeout,\n\u001b[1;32m    202\u001b[0m     \u001b[38;5;167;01mOSError\u001b[39;00m: ConnectError,\n\u001b[1;32m    203\u001b[0m }\n\u001b[0;32m--> 205\u001b[0m \u001b[43m\u001b[49m\u001b[38;5;28;43;01mwith\u001b[39;49;00m\u001b[43m \u001b[49m\u001b[43mmap_exceptions\u001b[49m\u001b[43m(\u001b[49m\u001b[43mexc_map\u001b[49m\u001b[43m)\u001b[49m\u001b[43m:\u001b[49m\n\u001b[1;32m    206\u001b[0m \u001b[43m    \u001b[49m\u001b[43msock\u001b[49m\u001b[43m \u001b[49m\u001b[38;5;241;43m=\u001b[39;49m\u001b[43m \u001b[49m\u001b[43msocket\u001b[49m\u001b[38;5;241;43m.\u001b[39;49m\u001b[43mcreate_connection\u001b[49m\u001b[43m(\u001b[49m\n\u001b[1;32m    207\u001b[0m \u001b[43m        \u001b[49m\u001b[43maddress\u001b[49m\u001b[43m,\u001b[49m\n\u001b[1;32m    208\u001b[0m \u001b[43m        \u001b[49m\u001b[43mtimeout\u001b[49m\u001b[43m,\u001b[49m\n\u001b[1;32m    209\u001b[0m \u001b[43m        \u001b[49m\u001b[43msource_address\u001b[49m\u001b[38;5;241;43m=\u001b[39;49m\u001b[43msource_address\u001b[49m\u001b[43m,\u001b[49m\n\u001b[1;32m    210\u001b[0m \u001b[43m    \u001b[49m\u001b[43m)\u001b[49m\n",
      "File \u001b[0;32m/Applications/anaconda3/envs/astro/lib/python3.12/contextlib.py:158\u001b[0m, in \u001b[0;36m_GeneratorContextManager.__exit__\u001b[0;34m(self, typ, value, traceback)\u001b[0m\n\u001b[1;32m    157\u001b[0m \u001b[38;5;28;01mtry\u001b[39;00m:\n\u001b[0;32m--> 158\u001b[0m     \u001b[38;5;28;43mself\u001b[39;49m\u001b[38;5;241;43m.\u001b[39;49m\u001b[43mgen\u001b[49m\u001b[38;5;241;43m.\u001b[39;49m\u001b[43mthrow\u001b[49m\u001b[43m(\u001b[49m\u001b[43mvalue\u001b[49m\u001b[43m)\u001b[49m\n\u001b[1;32m    159\u001b[0m \u001b[38;5;28;01mexcept\u001b[39;00m \u001b[38;5;167;01mStopIteration\u001b[39;00m \u001b[38;5;28;01mas\u001b[39;00m exc:\n\u001b[1;32m    160\u001b[0m     \u001b[38;5;66;03m# Suppress StopIteration *unless* it's the same exception that\u001b[39;00m\n\u001b[1;32m    161\u001b[0m     \u001b[38;5;66;03m# was passed to throw().  This prevents a StopIteration\u001b[39;00m\n\u001b[1;32m    162\u001b[0m     \u001b[38;5;66;03m# raised inside the \"with\" statement from being suppressed.\u001b[39;00m\n",
      "File \u001b[0;32m/Applications/anaconda3/envs/astro/lib/python3.12/site-packages/httpcore/_exceptions.py:14\u001b[0m, in \u001b[0;36mmap_exceptions\u001b[0;34m(map)\u001b[0m\n\u001b[1;32m     13\u001b[0m     \u001b[38;5;28;01mif\u001b[39;00m \u001b[38;5;28misinstance\u001b[39m(exc, from_exc):\n\u001b[0;32m---> 14\u001b[0m         \u001b[38;5;28;01mraise\u001b[39;00m to_exc(exc) \u001b[38;5;28;01mfrom\u001b[39;00m \u001b[38;5;21;01mexc\u001b[39;00m\n\u001b[1;32m     15\u001b[0m \u001b[38;5;28;01mraise\u001b[39;00m\n",
      "\u001b[0;31mConnectError\u001b[0m: [Errno 8] nodename nor servname provided, or not known",
      "\nThe above exception was the direct cause of the following exception:\n",
      "\u001b[0;31mConnectError\u001b[0m                              Traceback (most recent call last)",
      "File \u001b[0;32m/Applications/anaconda3/envs/astro/lib/python3.12/site-packages/groq/_base_client.py:951\u001b[0m, in \u001b[0;36mSyncAPIClient._request\u001b[0;34m(self, cast_to, options, remaining_retries, stream, stream_cls)\u001b[0m\n\u001b[1;32m    950\u001b[0m \u001b[38;5;28;01mtry\u001b[39;00m:\n\u001b[0;32m--> 951\u001b[0m     response \u001b[38;5;241m=\u001b[39m \u001b[38;5;28;43mself\u001b[39;49m\u001b[38;5;241;43m.\u001b[39;49m\u001b[43m_client\u001b[49m\u001b[38;5;241;43m.\u001b[39;49m\u001b[43msend\u001b[49m\u001b[43m(\u001b[49m\n\u001b[1;32m    952\u001b[0m \u001b[43m        \u001b[49m\u001b[43mrequest\u001b[49m\u001b[43m,\u001b[49m\n\u001b[1;32m    953\u001b[0m \u001b[43m        \u001b[49m\u001b[43mstream\u001b[49m\u001b[38;5;241;43m=\u001b[39;49m\u001b[43mstream\u001b[49m\u001b[43m \u001b[49m\u001b[38;5;129;43;01mor\u001b[39;49;00m\u001b[43m \u001b[49m\u001b[38;5;28;43mself\u001b[39;49m\u001b[38;5;241;43m.\u001b[39;49m\u001b[43m_should_stream_response_body\u001b[49m\u001b[43m(\u001b[49m\u001b[43mrequest\u001b[49m\u001b[38;5;241;43m=\u001b[39;49m\u001b[43mrequest\u001b[49m\u001b[43m)\u001b[49m\u001b[43m,\u001b[49m\n\u001b[1;32m    954\u001b[0m \u001b[43m        \u001b[49m\u001b[38;5;241;43m*\u001b[39;49m\u001b[38;5;241;43m*\u001b[39;49m\u001b[43mkwargs\u001b[49m\u001b[43m,\u001b[49m\n\u001b[1;32m    955\u001b[0m \u001b[43m    \u001b[49m\u001b[43m)\u001b[49m\n\u001b[1;32m    956\u001b[0m \u001b[38;5;28;01mexcept\u001b[39;00m httpx\u001b[38;5;241m.\u001b[39mTimeoutException \u001b[38;5;28;01mas\u001b[39;00m err:\n",
      "File \u001b[0;32m/Applications/anaconda3/envs/astro/lib/python3.12/site-packages/httpx/_client.py:901\u001b[0m, in \u001b[0;36mClient.send\u001b[0;34m(self, request, stream, auth, follow_redirects)\u001b[0m\n\u001b[1;32m    899\u001b[0m auth \u001b[38;5;241m=\u001b[39m \u001b[38;5;28mself\u001b[39m\u001b[38;5;241m.\u001b[39m_build_request_auth(request, auth)\n\u001b[0;32m--> 901\u001b[0m response \u001b[38;5;241m=\u001b[39m \u001b[38;5;28;43mself\u001b[39;49m\u001b[38;5;241;43m.\u001b[39;49m\u001b[43m_send_handling_auth\u001b[49m\u001b[43m(\u001b[49m\n\u001b[1;32m    902\u001b[0m \u001b[43m    \u001b[49m\u001b[43mrequest\u001b[49m\u001b[43m,\u001b[49m\n\u001b[1;32m    903\u001b[0m \u001b[43m    \u001b[49m\u001b[43mauth\u001b[49m\u001b[38;5;241;43m=\u001b[39;49m\u001b[43mauth\u001b[49m\u001b[43m,\u001b[49m\n\u001b[1;32m    904\u001b[0m \u001b[43m    \u001b[49m\u001b[43mfollow_redirects\u001b[49m\u001b[38;5;241;43m=\u001b[39;49m\u001b[43mfollow_redirects\u001b[49m\u001b[43m,\u001b[49m\n\u001b[1;32m    905\u001b[0m \u001b[43m    \u001b[49m\u001b[43mhistory\u001b[49m\u001b[38;5;241;43m=\u001b[39;49m\u001b[43m[\u001b[49m\u001b[43m]\u001b[49m\u001b[43m,\u001b[49m\n\u001b[1;32m    906\u001b[0m \u001b[43m\u001b[49m\u001b[43m)\u001b[49m\n\u001b[1;32m    907\u001b[0m \u001b[38;5;28;01mtry\u001b[39;00m:\n",
      "File \u001b[0;32m/Applications/anaconda3/envs/astro/lib/python3.12/site-packages/httpx/_client.py:929\u001b[0m, in \u001b[0;36mClient._send_handling_auth\u001b[0;34m(self, request, auth, follow_redirects, history)\u001b[0m\n\u001b[1;32m    928\u001b[0m \u001b[38;5;28;01mwhile\u001b[39;00m \u001b[38;5;28;01mTrue\u001b[39;00m:\n\u001b[0;32m--> 929\u001b[0m     response \u001b[38;5;241m=\u001b[39m \u001b[38;5;28;43mself\u001b[39;49m\u001b[38;5;241;43m.\u001b[39;49m\u001b[43m_send_handling_redirects\u001b[49m\u001b[43m(\u001b[49m\n\u001b[1;32m    930\u001b[0m \u001b[43m        \u001b[49m\u001b[43mrequest\u001b[49m\u001b[43m,\u001b[49m\n\u001b[1;32m    931\u001b[0m \u001b[43m        \u001b[49m\u001b[43mfollow_redirects\u001b[49m\u001b[38;5;241;43m=\u001b[39;49m\u001b[43mfollow_redirects\u001b[49m\u001b[43m,\u001b[49m\n\u001b[1;32m    932\u001b[0m \u001b[43m        \u001b[49m\u001b[43mhistory\u001b[49m\u001b[38;5;241;43m=\u001b[39;49m\u001b[43mhistory\u001b[49m\u001b[43m,\u001b[49m\n\u001b[1;32m    933\u001b[0m \u001b[43m    \u001b[49m\u001b[43m)\u001b[49m\n\u001b[1;32m    934\u001b[0m     \u001b[38;5;28;01mtry\u001b[39;00m:\n",
      "File \u001b[0;32m/Applications/anaconda3/envs/astro/lib/python3.12/site-packages/httpx/_client.py:966\u001b[0m, in \u001b[0;36mClient._send_handling_redirects\u001b[0;34m(self, request, follow_redirects, history)\u001b[0m\n\u001b[1;32m    964\u001b[0m     hook(request)\n\u001b[0;32m--> 966\u001b[0m response \u001b[38;5;241m=\u001b[39m \u001b[38;5;28;43mself\u001b[39;49m\u001b[38;5;241;43m.\u001b[39;49m\u001b[43m_send_single_request\u001b[49m\u001b[43m(\u001b[49m\u001b[43mrequest\u001b[49m\u001b[43m)\u001b[49m\n\u001b[1;32m    967\u001b[0m \u001b[38;5;28;01mtry\u001b[39;00m:\n",
      "File \u001b[0;32m/Applications/anaconda3/envs/astro/lib/python3.12/site-packages/httpx/_client.py:1002\u001b[0m, in \u001b[0;36mClient._send_single_request\u001b[0;34m(self, request)\u001b[0m\n\u001b[1;32m   1001\u001b[0m \u001b[38;5;28;01mwith\u001b[39;00m request_context(request\u001b[38;5;241m=\u001b[39mrequest):\n\u001b[0;32m-> 1002\u001b[0m     response \u001b[38;5;241m=\u001b[39m \u001b[43mtransport\u001b[49m\u001b[38;5;241;43m.\u001b[39;49m\u001b[43mhandle_request\u001b[49m\u001b[43m(\u001b[49m\u001b[43mrequest\u001b[49m\u001b[43m)\u001b[49m\n\u001b[1;32m   1004\u001b[0m \u001b[38;5;28;01massert\u001b[39;00m \u001b[38;5;28misinstance\u001b[39m(response\u001b[38;5;241m.\u001b[39mstream, SyncByteStream)\n",
      "File \u001b[0;32m/Applications/anaconda3/envs/astro/lib/python3.12/site-packages/httpx/_transports/default.py:227\u001b[0m, in \u001b[0;36mHTTPTransport.handle_request\u001b[0;34m(self, request)\u001b[0m\n\u001b[1;32m    215\u001b[0m req \u001b[38;5;241m=\u001b[39m httpcore\u001b[38;5;241m.\u001b[39mRequest(\n\u001b[1;32m    216\u001b[0m     method\u001b[38;5;241m=\u001b[39mrequest\u001b[38;5;241m.\u001b[39mmethod,\n\u001b[1;32m    217\u001b[0m     url\u001b[38;5;241m=\u001b[39mhttpcore\u001b[38;5;241m.\u001b[39mURL(\n\u001b[0;32m   (...)\u001b[0m\n\u001b[1;32m    225\u001b[0m     extensions\u001b[38;5;241m=\u001b[39mrequest\u001b[38;5;241m.\u001b[39mextensions,\n\u001b[1;32m    226\u001b[0m )\n\u001b[0;32m--> 227\u001b[0m \u001b[43m\u001b[49m\u001b[38;5;28;43;01mwith\u001b[39;49;00m\u001b[43m \u001b[49m\u001b[43mmap_httpcore_exceptions\u001b[49m\u001b[43m(\u001b[49m\u001b[43m)\u001b[49m\u001b[43m:\u001b[49m\n\u001b[1;32m    228\u001b[0m \u001b[43m    \u001b[49m\u001b[43mresp\u001b[49m\u001b[43m \u001b[49m\u001b[38;5;241;43m=\u001b[39;49m\u001b[43m \u001b[49m\u001b[38;5;28;43mself\u001b[39;49m\u001b[38;5;241;43m.\u001b[39;49m\u001b[43m_pool\u001b[49m\u001b[38;5;241;43m.\u001b[39;49m\u001b[43mhandle_request\u001b[49m\u001b[43m(\u001b[49m\u001b[43mreq\u001b[49m\u001b[43m)\u001b[49m\n",
      "File \u001b[0;32m/Applications/anaconda3/envs/astro/lib/python3.12/contextlib.py:158\u001b[0m, in \u001b[0;36m_GeneratorContextManager.__exit__\u001b[0;34m(self, typ, value, traceback)\u001b[0m\n\u001b[1;32m    157\u001b[0m \u001b[38;5;28;01mtry\u001b[39;00m:\n\u001b[0;32m--> 158\u001b[0m     \u001b[38;5;28;43mself\u001b[39;49m\u001b[38;5;241;43m.\u001b[39;49m\u001b[43mgen\u001b[49m\u001b[38;5;241;43m.\u001b[39;49m\u001b[43mthrow\u001b[49m\u001b[43m(\u001b[49m\u001b[43mvalue\u001b[49m\u001b[43m)\u001b[49m\n\u001b[1;32m    159\u001b[0m \u001b[38;5;28;01mexcept\u001b[39;00m \u001b[38;5;167;01mStopIteration\u001b[39;00m \u001b[38;5;28;01mas\u001b[39;00m exc:\n\u001b[1;32m    160\u001b[0m     \u001b[38;5;66;03m# Suppress StopIteration *unless* it's the same exception that\u001b[39;00m\n\u001b[1;32m    161\u001b[0m     \u001b[38;5;66;03m# was passed to throw().  This prevents a StopIteration\u001b[39;00m\n\u001b[1;32m    162\u001b[0m     \u001b[38;5;66;03m# raised inside the \"with\" statement from being suppressed.\u001b[39;00m\n",
      "File \u001b[0;32m/Applications/anaconda3/envs/astro/lib/python3.12/site-packages/httpx/_transports/default.py:83\u001b[0m, in \u001b[0;36mmap_httpcore_exceptions\u001b[0;34m()\u001b[0m\n\u001b[1;32m     82\u001b[0m message \u001b[38;5;241m=\u001b[39m \u001b[38;5;28mstr\u001b[39m(exc)\n\u001b[0;32m---> 83\u001b[0m \u001b[38;5;28;01mraise\u001b[39;00m mapped_exc(message) \u001b[38;5;28;01mfrom\u001b[39;00m \u001b[38;5;21;01mexc\u001b[39;00m\n",
      "\u001b[0;31mConnectError\u001b[0m: [Errno 8] nodename nor servname provided, or not known",
      "\nThe above exception was the direct cause of the following exception:\n",
      "\u001b[0;31mAPIConnectionError\u001b[0m                        Traceback (most recent call last)",
      "Cell \u001b[0;32mIn[1157], line 1\u001b[0m\n\u001b[0;32m----> 1\u001b[0m \u001b[43mmetrics_calc\u001b[49m\u001b[43m(\u001b[49m\u001b[38;5;28;43mtype\u001b[39;49m\u001b[43m \u001b[49m\u001b[38;5;241;43m=\u001b[39;49m\u001b[43m \u001b[49m\u001b[38;5;124;43m'\u001b[39;49m\u001b[38;5;124;43mone symptom\u001b[39;49m\u001b[38;5;124;43m'\u001b[39;49m\u001b[43m,\u001b[49m\u001b[43mmethod\u001b[49m\u001b[38;5;241;43m=\u001b[39;49m\u001b[38;5;124;43m'\u001b[39;49m\u001b[38;5;124;43mrag\u001b[39;49m\u001b[38;5;124;43m'\u001b[39;49m\u001b[43m,\u001b[49m\u001b[43m \u001b[49m\u001b[43mmodel_name\u001b[49m\u001b[38;5;241;43m=\u001b[39;49m\u001b[43m \u001b[49m\u001b[38;5;124;43m'\u001b[39;49m\u001b[38;5;124;43mgroq\u001b[39;49m\u001b[38;5;124;43m'\u001b[39;49m\u001b[43m)\u001b[49m\n",
      "Cell \u001b[0;32mIn[1156], line 15\u001b[0m, in \u001b[0;36mmetrics_calc\u001b[0;34m(type, raw_test_df, disease_df, method, model_name)\u001b[0m\n\u001b[1;32m     12\u001b[0m pred_labels \u001b[38;5;241m=\u001b[39m get_prioritized_relationships(expanded_query,weightage\u001b[38;5;241m=\u001b[39m\u001b[38;5;241m1\u001b[39m,limit\u001b[38;5;241m=\u001b[39m \u001b[38;5;241m20\u001b[39m)[\u001b[38;5;241m0\u001b[39m]\n\u001b[1;32m     14\u001b[0m code_desc_tuples \u001b[38;5;241m=\u001b[39m \u001b[38;5;28mlist\u001b[39m(\u001b[38;5;28mset\u001b[39m(disease_df[disease_df\u001b[38;5;241m.\u001b[39mCode\u001b[38;5;241m.\u001b[39misin(pred_labels)][[\u001b[38;5;124m'\u001b[39m\u001b[38;5;124mCode\u001b[39m\u001b[38;5;124m'\u001b[39m, \u001b[38;5;124m'\u001b[39m\u001b[38;5;124mDescription\u001b[39m\u001b[38;5;124m'\u001b[39m]]\u001b[38;5;241m.\u001b[39mreset_index(drop \u001b[38;5;241m=\u001b[39m \u001b[38;5;28;01mTrue\u001b[39;00m)\u001b[38;5;241m.\u001b[39mitertuples(index\u001b[38;5;241m=\u001b[39m\u001b[38;5;28;01mFalse\u001b[39;00m, name\u001b[38;5;241m=\u001b[39m\u001b[38;5;28;01mNone\u001b[39;00m)))\n\u001b[0;32m---> 15\u001b[0m refined_pred_labels \u001b[38;5;241m=\u001b[39m \u001b[43maug_and_gen\u001b[49m\u001b[43m(\u001b[49m\u001b[43mcode_desc_tuples\u001b[49m\u001b[43m,\u001b[49m\u001b[43mj\u001b[49m\u001b[38;5;241;43m.\u001b[39;49m\u001b[43mSymptoms\u001b[49m\u001b[43m,\u001b[49m\u001b[43m \u001b[49m\u001b[43mmodel\u001b[49m\u001b[38;5;241;43m=\u001b[39;49m\u001b[43mmodel_name\u001b[49m\u001b[43m,\u001b[49m\u001b[43m \u001b[49m\u001b[43mmethod\u001b[49m\u001b[43m \u001b[49m\u001b[38;5;241;43m=\u001b[39;49m\u001b[43m \u001b[49m\u001b[43mmethod\u001b[49m\u001b[43m)\u001b[49m\n\u001b[1;32m     16\u001b[0m \u001b[38;5;28mprint\u001b[39m(refined_pred_labels)\n\u001b[1;32m     17\u001b[0m refined_pred_labels \u001b[38;5;241m=\u001b[39m refined_pred_labels[\u001b[38;5;241m2\u001b[39m:\u001b[38;5;241m-\u001b[39m\u001b[38;5;241m2\u001b[39m]\u001b[38;5;241m.\u001b[39msplit(\u001b[38;5;124m\"\u001b[39m\u001b[38;5;124m'\u001b[39m\u001b[38;5;124m, \u001b[39m\u001b[38;5;124m'\u001b[39m\u001b[38;5;124m\"\u001b[39m)\n",
      "Cell \u001b[0;32mIn[1153], line 98\u001b[0m, in \u001b[0;36maug_and_gen\u001b[0;34m(codes, symptom, model, method)\u001b[0m\n\u001b[1;32m     96\u001b[0m \u001b[38;5;28;01mif\u001b[39;00m method \u001b[38;5;241m==\u001b[39m \u001b[38;5;124m'\u001b[39m\u001b[38;5;124mrag\u001b[39m\u001b[38;5;124m'\u001b[39m : \n\u001b[1;32m     97\u001b[0m     prompt_template \u001b[38;5;241m=\u001b[39m prompt_start \u001b[38;5;241m+\u001b[39m kg_prompt \u001b[38;5;241m+\u001b[39m \u001b[38;5;28mstr\u001b[39m(codes)\n\u001b[0;32m---> 98\u001b[0m     chat_completion \u001b[38;5;241m=\u001b[39m \u001b[43mclient\u001b[49m\u001b[38;5;241;43m.\u001b[39;49m\u001b[43mchat\u001b[49m\u001b[38;5;241;43m.\u001b[39;49m\u001b[43mcompletions\u001b[49m\u001b[38;5;241;43m.\u001b[39;49m\u001b[43mcreate\u001b[49m\u001b[43m(\u001b[49m\n\u001b[1;32m     99\u001b[0m \u001b[43m    \u001b[49m\u001b[43mmessages\u001b[49m\u001b[38;5;241;43m=\u001b[39;49m\u001b[43m[\u001b[49m\n\u001b[1;32m    100\u001b[0m \u001b[43m        \u001b[49m\u001b[43m{\u001b[49m\n\u001b[1;32m    101\u001b[0m \u001b[43m            \u001b[49m\u001b[38;5;124;43m\"\u001b[39;49m\u001b[38;5;124;43mrole\u001b[39;49m\u001b[38;5;124;43m\"\u001b[39;49m\u001b[43m:\u001b[49m\u001b[43m \u001b[49m\u001b[38;5;124;43m\"\u001b[39;49m\u001b[38;5;124;43muser\u001b[39;49m\u001b[38;5;124;43m\"\u001b[39;49m\u001b[43m,\u001b[49m\n\u001b[1;32m    102\u001b[0m \u001b[43m            \u001b[49m\u001b[38;5;124;43m\"\u001b[39;49m\u001b[38;5;124;43mcontent\u001b[39;49m\u001b[38;5;124;43m\"\u001b[39;49m\u001b[43m:\u001b[49m\u001b[43m \u001b[49m\u001b[38;5;124;43mf\u001b[39;49m\u001b[38;5;124;43m\"\u001b[39;49m\u001b[38;5;132;43;01m{\u001b[39;49;00m\u001b[43mprompt_template\u001b[49m\u001b[38;5;132;43;01m}\u001b[39;49;00m\u001b[38;5;124;43m\"\u001b[39;49m\u001b[43m,\u001b[49m\n\u001b[1;32m    103\u001b[0m \u001b[43m        \u001b[49m\u001b[43m}\u001b[49m\n\u001b[1;32m    104\u001b[0m \u001b[43m    \u001b[49m\u001b[43m]\u001b[49m\u001b[43m,\u001b[49m\n\u001b[1;32m    105\u001b[0m \u001b[43m    \u001b[49m\u001b[43mmodel\u001b[49m\u001b[38;5;241;43m=\u001b[39;49m\u001b[38;5;124;43m\"\u001b[39;49m\u001b[38;5;124;43mllama3-70b-8192\u001b[39;49m\u001b[38;5;124;43m\"\u001b[39;49m\u001b[43m,\u001b[49m\n\u001b[1;32m    106\u001b[0m \u001b[43m\u001b[49m\u001b[43m)\u001b[49m\n\u001b[1;32m    108\u001b[0m     response \u001b[38;5;241m=\u001b[39m chat_completion\u001b[38;5;241m.\u001b[39mchoices[\u001b[38;5;241m0\u001b[39m]\u001b[38;5;241m.\u001b[39mmessage\u001b[38;5;241m.\u001b[39mcontent\n\u001b[1;32m    110\u001b[0m \u001b[38;5;28;01mif\u001b[39;00m method \u001b[38;5;241m==\u001b[39m \u001b[38;5;124m'\u001b[39m\u001b[38;5;124mllm\u001b[39m\u001b[38;5;124m'\u001b[39m : \n",
      "File \u001b[0;32m/Applications/anaconda3/envs/astro/lib/python3.12/site-packages/groq/resources/chat/completions.py:179\u001b[0m, in \u001b[0;36mCompletions.create\u001b[0;34m(self, messages, model, frequency_penalty, logit_bias, logprobs, max_tokens, n, presence_penalty, response_format, seed, stop, stream, temperature, tool_choice, tools, top_logprobs, top_p, user, extra_headers, extra_query, extra_body, timeout)\u001b[0m\n\u001b[1;32m    136\u001b[0m \u001b[38;5;28;01mdef\u001b[39;00m \u001b[38;5;21mcreate\u001b[39m(\n\u001b[1;32m    137\u001b[0m     \u001b[38;5;28mself\u001b[39m,\n\u001b[1;32m    138\u001b[0m     \u001b[38;5;241m*\u001b[39m,\n\u001b[0;32m   (...)\u001b[0m\n\u001b[1;32m    162\u001b[0m     timeout: \u001b[38;5;28mfloat\u001b[39m \u001b[38;5;241m|\u001b[39m httpx\u001b[38;5;241m.\u001b[39mTimeout \u001b[38;5;241m|\u001b[39m \u001b[38;5;28;01mNone\u001b[39;00m \u001b[38;5;241m|\u001b[39m NotGiven \u001b[38;5;241m=\u001b[39m NOT_GIVEN,\n\u001b[1;32m    163\u001b[0m ) \u001b[38;5;241m-\u001b[39m\u001b[38;5;241m>\u001b[39m ChatCompletion \u001b[38;5;241m|\u001b[39m Stream[ChatCompletionChunk]:\n\u001b[1;32m    164\u001b[0m \u001b[38;5;250m    \u001b[39m\u001b[38;5;124;03m\"\"\"\u001b[39;00m\n\u001b[1;32m    165\u001b[0m \u001b[38;5;124;03m    Creates a completion for a chat prompt\u001b[39;00m\n\u001b[1;32m    166\u001b[0m \n\u001b[0;32m   (...)\u001b[0m\n\u001b[1;32m    177\u001b[0m \u001b[38;5;124;03m      timeout: Override the client-level default timeout for this request, in seconds\u001b[39;00m\n\u001b[1;32m    178\u001b[0m \u001b[38;5;124;03m    \"\"\"\u001b[39;00m\n\u001b[0;32m--> 179\u001b[0m     \u001b[38;5;28;01mreturn\u001b[39;00m \u001b[38;5;28;43mself\u001b[39;49m\u001b[38;5;241;43m.\u001b[39;49m\u001b[43m_post\u001b[49m\u001b[43m(\u001b[49m\n\u001b[1;32m    180\u001b[0m \u001b[43m        \u001b[49m\u001b[38;5;124;43m\"\u001b[39;49m\u001b[38;5;124;43m/openai/v1/chat/completions\u001b[39;49m\u001b[38;5;124;43m\"\u001b[39;49m\u001b[43m,\u001b[49m\n\u001b[1;32m    181\u001b[0m \u001b[43m        \u001b[49m\u001b[43mbody\u001b[49m\u001b[38;5;241;43m=\u001b[39;49m\u001b[43mmaybe_transform\u001b[49m\u001b[43m(\u001b[49m\n\u001b[1;32m    182\u001b[0m \u001b[43m            \u001b[49m\u001b[43m{\u001b[49m\n\u001b[1;32m    183\u001b[0m \u001b[43m                \u001b[49m\u001b[38;5;124;43m\"\u001b[39;49m\u001b[38;5;124;43mmessages\u001b[39;49m\u001b[38;5;124;43m\"\u001b[39;49m\u001b[43m:\u001b[49m\u001b[43m \u001b[49m\u001b[43mmessages\u001b[49m\u001b[43m,\u001b[49m\n\u001b[1;32m    184\u001b[0m \u001b[43m                \u001b[49m\u001b[38;5;124;43m\"\u001b[39;49m\u001b[38;5;124;43mmodel\u001b[39;49m\u001b[38;5;124;43m\"\u001b[39;49m\u001b[43m:\u001b[49m\u001b[43m \u001b[49m\u001b[43mmodel\u001b[49m\u001b[43m,\u001b[49m\n\u001b[1;32m    185\u001b[0m \u001b[43m                \u001b[49m\u001b[38;5;124;43m\"\u001b[39;49m\u001b[38;5;124;43mfrequency_penalty\u001b[39;49m\u001b[38;5;124;43m\"\u001b[39;49m\u001b[43m:\u001b[49m\u001b[43m \u001b[49m\u001b[43mfrequency_penalty\u001b[49m\u001b[43m,\u001b[49m\n\u001b[1;32m    186\u001b[0m \u001b[43m                \u001b[49m\u001b[38;5;124;43m\"\u001b[39;49m\u001b[38;5;124;43mlogit_bias\u001b[39;49m\u001b[38;5;124;43m\"\u001b[39;49m\u001b[43m:\u001b[49m\u001b[43m \u001b[49m\u001b[43mlogit_bias\u001b[49m\u001b[43m,\u001b[49m\n\u001b[1;32m    187\u001b[0m \u001b[43m                \u001b[49m\u001b[38;5;124;43m\"\u001b[39;49m\u001b[38;5;124;43mlogprobs\u001b[39;49m\u001b[38;5;124;43m\"\u001b[39;49m\u001b[43m:\u001b[49m\u001b[43m \u001b[49m\u001b[43mlogprobs\u001b[49m\u001b[43m,\u001b[49m\n\u001b[1;32m    188\u001b[0m \u001b[43m                \u001b[49m\u001b[38;5;124;43m\"\u001b[39;49m\u001b[38;5;124;43mmax_tokens\u001b[39;49m\u001b[38;5;124;43m\"\u001b[39;49m\u001b[43m:\u001b[49m\u001b[43m \u001b[49m\u001b[43mmax_tokens\u001b[49m\u001b[43m,\u001b[49m\n\u001b[1;32m    189\u001b[0m \u001b[43m                \u001b[49m\u001b[38;5;124;43m\"\u001b[39;49m\u001b[38;5;124;43mn\u001b[39;49m\u001b[38;5;124;43m\"\u001b[39;49m\u001b[43m:\u001b[49m\u001b[43m \u001b[49m\u001b[43mn\u001b[49m\u001b[43m,\u001b[49m\n\u001b[1;32m    190\u001b[0m \u001b[43m                \u001b[49m\u001b[38;5;124;43m\"\u001b[39;49m\u001b[38;5;124;43mpresence_penalty\u001b[39;49m\u001b[38;5;124;43m\"\u001b[39;49m\u001b[43m:\u001b[49m\u001b[43m \u001b[49m\u001b[43mpresence_penalty\u001b[49m\u001b[43m,\u001b[49m\n\u001b[1;32m    191\u001b[0m \u001b[43m                \u001b[49m\u001b[38;5;124;43m\"\u001b[39;49m\u001b[38;5;124;43mresponse_format\u001b[39;49m\u001b[38;5;124;43m\"\u001b[39;49m\u001b[43m:\u001b[49m\u001b[43m \u001b[49m\u001b[43mresponse_format\u001b[49m\u001b[43m,\u001b[49m\n\u001b[1;32m    192\u001b[0m \u001b[43m                \u001b[49m\u001b[38;5;124;43m\"\u001b[39;49m\u001b[38;5;124;43mseed\u001b[39;49m\u001b[38;5;124;43m\"\u001b[39;49m\u001b[43m:\u001b[49m\u001b[43m \u001b[49m\u001b[43mseed\u001b[49m\u001b[43m,\u001b[49m\n\u001b[1;32m    193\u001b[0m \u001b[43m                \u001b[49m\u001b[38;5;124;43m\"\u001b[39;49m\u001b[38;5;124;43mstop\u001b[39;49m\u001b[38;5;124;43m\"\u001b[39;49m\u001b[43m:\u001b[49m\u001b[43m \u001b[49m\u001b[43mstop\u001b[49m\u001b[43m,\u001b[49m\n\u001b[1;32m    194\u001b[0m \u001b[43m                \u001b[49m\u001b[38;5;124;43m\"\u001b[39;49m\u001b[38;5;124;43mstream\u001b[39;49m\u001b[38;5;124;43m\"\u001b[39;49m\u001b[43m:\u001b[49m\u001b[43m \u001b[49m\u001b[43mstream\u001b[49m\u001b[43m,\u001b[49m\n\u001b[1;32m    195\u001b[0m \u001b[43m                \u001b[49m\u001b[38;5;124;43m\"\u001b[39;49m\u001b[38;5;124;43mtemperature\u001b[39;49m\u001b[38;5;124;43m\"\u001b[39;49m\u001b[43m:\u001b[49m\u001b[43m \u001b[49m\u001b[43mtemperature\u001b[49m\u001b[43m,\u001b[49m\n\u001b[1;32m    196\u001b[0m \u001b[43m                \u001b[49m\u001b[38;5;124;43m\"\u001b[39;49m\u001b[38;5;124;43mtool_choice\u001b[39;49m\u001b[38;5;124;43m\"\u001b[39;49m\u001b[43m:\u001b[49m\u001b[43m \u001b[49m\u001b[43mtool_choice\u001b[49m\u001b[43m,\u001b[49m\n\u001b[1;32m    197\u001b[0m \u001b[43m                \u001b[49m\u001b[38;5;124;43m\"\u001b[39;49m\u001b[38;5;124;43mtools\u001b[39;49m\u001b[38;5;124;43m\"\u001b[39;49m\u001b[43m:\u001b[49m\u001b[43m \u001b[49m\u001b[43mtools\u001b[49m\u001b[43m,\u001b[49m\n\u001b[1;32m    198\u001b[0m \u001b[43m                \u001b[49m\u001b[38;5;124;43m\"\u001b[39;49m\u001b[38;5;124;43mtop_logprobs\u001b[39;49m\u001b[38;5;124;43m\"\u001b[39;49m\u001b[43m:\u001b[49m\u001b[43m \u001b[49m\u001b[43mtop_logprobs\u001b[49m\u001b[43m,\u001b[49m\n\u001b[1;32m    199\u001b[0m \u001b[43m                \u001b[49m\u001b[38;5;124;43m\"\u001b[39;49m\u001b[38;5;124;43mtop_p\u001b[39;49m\u001b[38;5;124;43m\"\u001b[39;49m\u001b[43m:\u001b[49m\u001b[43m \u001b[49m\u001b[43mtop_p\u001b[49m\u001b[43m,\u001b[49m\n\u001b[1;32m    200\u001b[0m \u001b[43m                \u001b[49m\u001b[38;5;124;43m\"\u001b[39;49m\u001b[38;5;124;43muser\u001b[39;49m\u001b[38;5;124;43m\"\u001b[39;49m\u001b[43m:\u001b[49m\u001b[43m \u001b[49m\u001b[43muser\u001b[49m\u001b[43m,\u001b[49m\n\u001b[1;32m    201\u001b[0m \u001b[43m            \u001b[49m\u001b[43m}\u001b[49m\u001b[43m,\u001b[49m\n\u001b[1;32m    202\u001b[0m \u001b[43m            \u001b[49m\u001b[43mcompletion_create_params\u001b[49m\u001b[38;5;241;43m.\u001b[39;49m\u001b[43mCompletionCreateParams\u001b[49m\u001b[43m,\u001b[49m\n\u001b[1;32m    203\u001b[0m \u001b[43m        \u001b[49m\u001b[43m)\u001b[49m\u001b[43m,\u001b[49m\n\u001b[1;32m    204\u001b[0m \u001b[43m        \u001b[49m\u001b[43moptions\u001b[49m\u001b[38;5;241;43m=\u001b[39;49m\u001b[43mmake_request_options\u001b[49m\u001b[43m(\u001b[49m\n\u001b[1;32m    205\u001b[0m \u001b[43m            \u001b[49m\u001b[43mextra_headers\u001b[49m\u001b[38;5;241;43m=\u001b[39;49m\u001b[43mextra_headers\u001b[49m\u001b[43m,\u001b[49m\u001b[43m \u001b[49m\u001b[43mextra_query\u001b[49m\u001b[38;5;241;43m=\u001b[39;49m\u001b[43mextra_query\u001b[49m\u001b[43m,\u001b[49m\u001b[43m \u001b[49m\u001b[43mextra_body\u001b[49m\u001b[38;5;241;43m=\u001b[39;49m\u001b[43mextra_body\u001b[49m\u001b[43m,\u001b[49m\u001b[43m \u001b[49m\u001b[43mtimeout\u001b[49m\u001b[38;5;241;43m=\u001b[39;49m\u001b[43mtimeout\u001b[49m\n\u001b[1;32m    206\u001b[0m \u001b[43m        \u001b[49m\u001b[43m)\u001b[49m\u001b[43m,\u001b[49m\n\u001b[1;32m    207\u001b[0m \u001b[43m        \u001b[49m\u001b[43mcast_to\u001b[49m\u001b[38;5;241;43m=\u001b[39;49m\u001b[43mChatCompletion\u001b[49m\u001b[43m,\u001b[49m\n\u001b[1;32m    208\u001b[0m \u001b[43m        \u001b[49m\u001b[43mstream\u001b[49m\u001b[38;5;241;43m=\u001b[39;49m\u001b[43mstream\u001b[49m\u001b[43m \u001b[49m\u001b[38;5;129;43;01mor\u001b[39;49;00m\u001b[43m \u001b[49m\u001b[38;5;28;43;01mFalse\u001b[39;49;00m\u001b[43m,\u001b[49m\n\u001b[1;32m    209\u001b[0m \u001b[43m        \u001b[49m\u001b[43mstream_cls\u001b[49m\u001b[38;5;241;43m=\u001b[39;49m\u001b[43mStream\u001b[49m\u001b[43m[\u001b[49m\u001b[43mChatCompletionChunk\u001b[49m\u001b[43m]\u001b[49m\u001b[43m,\u001b[49m\n\u001b[1;32m    210\u001b[0m \u001b[43m    \u001b[49m\u001b[43m)\u001b[49m\n",
      "File \u001b[0;32m/Applications/anaconda3/envs/astro/lib/python3.12/site-packages/groq/_base_client.py:1225\u001b[0m, in \u001b[0;36mSyncAPIClient.post\u001b[0;34m(self, path, cast_to, body, options, files, stream, stream_cls)\u001b[0m\n\u001b[1;32m   1211\u001b[0m \u001b[38;5;28;01mdef\u001b[39;00m \u001b[38;5;21mpost\u001b[39m(\n\u001b[1;32m   1212\u001b[0m     \u001b[38;5;28mself\u001b[39m,\n\u001b[1;32m   1213\u001b[0m     path: \u001b[38;5;28mstr\u001b[39m,\n\u001b[0;32m   (...)\u001b[0m\n\u001b[1;32m   1220\u001b[0m     stream_cls: \u001b[38;5;28mtype\u001b[39m[_StreamT] \u001b[38;5;241m|\u001b[39m \u001b[38;5;28;01mNone\u001b[39;00m \u001b[38;5;241m=\u001b[39m \u001b[38;5;28;01mNone\u001b[39;00m,\n\u001b[1;32m   1221\u001b[0m ) \u001b[38;5;241m-\u001b[39m\u001b[38;5;241m>\u001b[39m ResponseT \u001b[38;5;241m|\u001b[39m _StreamT:\n\u001b[1;32m   1222\u001b[0m     opts \u001b[38;5;241m=\u001b[39m FinalRequestOptions\u001b[38;5;241m.\u001b[39mconstruct(\n\u001b[1;32m   1223\u001b[0m         method\u001b[38;5;241m=\u001b[39m\u001b[38;5;124m\"\u001b[39m\u001b[38;5;124mpost\u001b[39m\u001b[38;5;124m\"\u001b[39m, url\u001b[38;5;241m=\u001b[39mpath, json_data\u001b[38;5;241m=\u001b[39mbody, files\u001b[38;5;241m=\u001b[39mto_httpx_files(files), \u001b[38;5;241m*\u001b[39m\u001b[38;5;241m*\u001b[39moptions\n\u001b[1;32m   1224\u001b[0m     )\n\u001b[0;32m-> 1225\u001b[0m     \u001b[38;5;28;01mreturn\u001b[39;00m cast(ResponseT, \u001b[38;5;28;43mself\u001b[39;49m\u001b[38;5;241;43m.\u001b[39;49m\u001b[43mrequest\u001b[49m\u001b[43m(\u001b[49m\u001b[43mcast_to\u001b[49m\u001b[43m,\u001b[49m\u001b[43m \u001b[49m\u001b[43mopts\u001b[49m\u001b[43m,\u001b[49m\u001b[43m \u001b[49m\u001b[43mstream\u001b[49m\u001b[38;5;241;43m=\u001b[39;49m\u001b[43mstream\u001b[49m\u001b[43m,\u001b[49m\u001b[43m \u001b[49m\u001b[43mstream_cls\u001b[49m\u001b[38;5;241;43m=\u001b[39;49m\u001b[43mstream_cls\u001b[49m\u001b[43m)\u001b[49m)\n",
      "File \u001b[0;32m/Applications/anaconda3/envs/astro/lib/python3.12/site-packages/groq/_base_client.py:920\u001b[0m, in \u001b[0;36mSyncAPIClient.request\u001b[0;34m(self, cast_to, options, remaining_retries, stream, stream_cls)\u001b[0m\n\u001b[1;32m    911\u001b[0m \u001b[38;5;28;01mdef\u001b[39;00m \u001b[38;5;21mrequest\u001b[39m(\n\u001b[1;32m    912\u001b[0m     \u001b[38;5;28mself\u001b[39m,\n\u001b[1;32m    913\u001b[0m     cast_to: Type[ResponseT],\n\u001b[0;32m   (...)\u001b[0m\n\u001b[1;32m    918\u001b[0m     stream_cls: \u001b[38;5;28mtype\u001b[39m[_StreamT] \u001b[38;5;241m|\u001b[39m \u001b[38;5;28;01mNone\u001b[39;00m \u001b[38;5;241m=\u001b[39m \u001b[38;5;28;01mNone\u001b[39;00m,\n\u001b[1;32m    919\u001b[0m ) \u001b[38;5;241m-\u001b[39m\u001b[38;5;241m>\u001b[39m ResponseT \u001b[38;5;241m|\u001b[39m _StreamT:\n\u001b[0;32m--> 920\u001b[0m     \u001b[38;5;28;01mreturn\u001b[39;00m \u001b[38;5;28;43mself\u001b[39;49m\u001b[38;5;241;43m.\u001b[39;49m\u001b[43m_request\u001b[49m\u001b[43m(\u001b[49m\n\u001b[1;32m    921\u001b[0m \u001b[43m        \u001b[49m\u001b[43mcast_to\u001b[49m\u001b[38;5;241;43m=\u001b[39;49m\u001b[43mcast_to\u001b[49m\u001b[43m,\u001b[49m\n\u001b[1;32m    922\u001b[0m \u001b[43m        \u001b[49m\u001b[43moptions\u001b[49m\u001b[38;5;241;43m=\u001b[39;49m\u001b[43moptions\u001b[49m\u001b[43m,\u001b[49m\n\u001b[1;32m    923\u001b[0m \u001b[43m        \u001b[49m\u001b[43mstream\u001b[49m\u001b[38;5;241;43m=\u001b[39;49m\u001b[43mstream\u001b[49m\u001b[43m,\u001b[49m\n\u001b[1;32m    924\u001b[0m \u001b[43m        \u001b[49m\u001b[43mstream_cls\u001b[49m\u001b[38;5;241;43m=\u001b[39;49m\u001b[43mstream_cls\u001b[49m\u001b[43m,\u001b[49m\n\u001b[1;32m    925\u001b[0m \u001b[43m        \u001b[49m\u001b[43mremaining_retries\u001b[49m\u001b[38;5;241;43m=\u001b[39;49m\u001b[43mremaining_retries\u001b[49m\u001b[43m,\u001b[49m\n\u001b[1;32m    926\u001b[0m \u001b[43m    \u001b[49m\u001b[43m)\u001b[49m\n",
      "File \u001b[0;32m/Applications/anaconda3/envs/astro/lib/python3.12/site-packages/groq/_base_client.py:975\u001b[0m, in \u001b[0;36mSyncAPIClient._request\u001b[0;34m(self, cast_to, options, remaining_retries, stream, stream_cls)\u001b[0m\n\u001b[1;32m    972\u001b[0m log\u001b[38;5;241m.\u001b[39mdebug(\u001b[38;5;124m\"\u001b[39m\u001b[38;5;124mEncountered Exception\u001b[39m\u001b[38;5;124m\"\u001b[39m, exc_info\u001b[38;5;241m=\u001b[39m\u001b[38;5;28;01mTrue\u001b[39;00m)\n\u001b[1;32m    974\u001b[0m \u001b[38;5;28;01mif\u001b[39;00m retries \u001b[38;5;241m>\u001b[39m \u001b[38;5;241m0\u001b[39m:\n\u001b[0;32m--> 975\u001b[0m     \u001b[38;5;28;01mreturn\u001b[39;00m \u001b[38;5;28;43mself\u001b[39;49m\u001b[38;5;241;43m.\u001b[39;49m\u001b[43m_retry_request\u001b[49m\u001b[43m(\u001b[49m\n\u001b[1;32m    976\u001b[0m \u001b[43m        \u001b[49m\u001b[43moptions\u001b[49m\u001b[43m,\u001b[49m\n\u001b[1;32m    977\u001b[0m \u001b[43m        \u001b[49m\u001b[43mcast_to\u001b[49m\u001b[43m,\u001b[49m\n\u001b[1;32m    978\u001b[0m \u001b[43m        \u001b[49m\u001b[43mretries\u001b[49m\u001b[43m,\u001b[49m\n\u001b[1;32m    979\u001b[0m \u001b[43m        \u001b[49m\u001b[43mstream\u001b[49m\u001b[38;5;241;43m=\u001b[39;49m\u001b[43mstream\u001b[49m\u001b[43m,\u001b[49m\n\u001b[1;32m    980\u001b[0m \u001b[43m        \u001b[49m\u001b[43mstream_cls\u001b[49m\u001b[38;5;241;43m=\u001b[39;49m\u001b[43mstream_cls\u001b[49m\u001b[43m,\u001b[49m\n\u001b[1;32m    981\u001b[0m \u001b[43m        \u001b[49m\u001b[43mresponse_headers\u001b[49m\u001b[38;5;241;43m=\u001b[39;49m\u001b[38;5;28;43;01mNone\u001b[39;49;00m\u001b[43m,\u001b[49m\n\u001b[1;32m    982\u001b[0m \u001b[43m    \u001b[49m\u001b[43m)\u001b[49m\n\u001b[1;32m    984\u001b[0m log\u001b[38;5;241m.\u001b[39mdebug(\u001b[38;5;124m\"\u001b[39m\u001b[38;5;124mRaising connection error\u001b[39m\u001b[38;5;124m\"\u001b[39m)\n\u001b[1;32m    985\u001b[0m \u001b[38;5;28;01mraise\u001b[39;00m APIConnectionError(request\u001b[38;5;241m=\u001b[39mrequest) \u001b[38;5;28;01mfrom\u001b[39;00m \u001b[38;5;21;01merr\u001b[39;00m\n",
      "File \u001b[0;32m/Applications/anaconda3/envs/astro/lib/python3.12/site-packages/groq/_base_client.py:1051\u001b[0m, in \u001b[0;36mSyncAPIClient._retry_request\u001b[0;34m(self, options, cast_to, remaining_retries, response_headers, stream, stream_cls)\u001b[0m\n\u001b[1;32m   1047\u001b[0m \u001b[38;5;66;03m# In a synchronous context we are blocking the entire thread. Up to the library user to run the client in a\u001b[39;00m\n\u001b[1;32m   1048\u001b[0m \u001b[38;5;66;03m# different thread if necessary.\u001b[39;00m\n\u001b[1;32m   1049\u001b[0m time\u001b[38;5;241m.\u001b[39msleep(timeout)\n\u001b[0;32m-> 1051\u001b[0m \u001b[38;5;28;01mreturn\u001b[39;00m \u001b[38;5;28;43mself\u001b[39;49m\u001b[38;5;241;43m.\u001b[39;49m\u001b[43m_request\u001b[49m\u001b[43m(\u001b[49m\n\u001b[1;32m   1052\u001b[0m \u001b[43m    \u001b[49m\u001b[43moptions\u001b[49m\u001b[38;5;241;43m=\u001b[39;49m\u001b[43moptions\u001b[49m\u001b[43m,\u001b[49m\n\u001b[1;32m   1053\u001b[0m \u001b[43m    \u001b[49m\u001b[43mcast_to\u001b[49m\u001b[38;5;241;43m=\u001b[39;49m\u001b[43mcast_to\u001b[49m\u001b[43m,\u001b[49m\n\u001b[1;32m   1054\u001b[0m \u001b[43m    \u001b[49m\u001b[43mremaining_retries\u001b[49m\u001b[38;5;241;43m=\u001b[39;49m\u001b[43mremaining\u001b[49m\u001b[43m,\u001b[49m\n\u001b[1;32m   1055\u001b[0m \u001b[43m    \u001b[49m\u001b[43mstream\u001b[49m\u001b[38;5;241;43m=\u001b[39;49m\u001b[43mstream\u001b[49m\u001b[43m,\u001b[49m\n\u001b[1;32m   1056\u001b[0m \u001b[43m    \u001b[49m\u001b[43mstream_cls\u001b[49m\u001b[38;5;241;43m=\u001b[39;49m\u001b[43mstream_cls\u001b[49m\u001b[43m,\u001b[49m\n\u001b[1;32m   1057\u001b[0m \u001b[43m\u001b[49m\u001b[43m)\u001b[49m\n",
      "File \u001b[0;32m/Applications/anaconda3/envs/astro/lib/python3.12/site-packages/groq/_base_client.py:975\u001b[0m, in \u001b[0;36mSyncAPIClient._request\u001b[0;34m(self, cast_to, options, remaining_retries, stream, stream_cls)\u001b[0m\n\u001b[1;32m    972\u001b[0m log\u001b[38;5;241m.\u001b[39mdebug(\u001b[38;5;124m\"\u001b[39m\u001b[38;5;124mEncountered Exception\u001b[39m\u001b[38;5;124m\"\u001b[39m, exc_info\u001b[38;5;241m=\u001b[39m\u001b[38;5;28;01mTrue\u001b[39;00m)\n\u001b[1;32m    974\u001b[0m \u001b[38;5;28;01mif\u001b[39;00m retries \u001b[38;5;241m>\u001b[39m \u001b[38;5;241m0\u001b[39m:\n\u001b[0;32m--> 975\u001b[0m     \u001b[38;5;28;01mreturn\u001b[39;00m \u001b[38;5;28;43mself\u001b[39;49m\u001b[38;5;241;43m.\u001b[39;49m\u001b[43m_retry_request\u001b[49m\u001b[43m(\u001b[49m\n\u001b[1;32m    976\u001b[0m \u001b[43m        \u001b[49m\u001b[43moptions\u001b[49m\u001b[43m,\u001b[49m\n\u001b[1;32m    977\u001b[0m \u001b[43m        \u001b[49m\u001b[43mcast_to\u001b[49m\u001b[43m,\u001b[49m\n\u001b[1;32m    978\u001b[0m \u001b[43m        \u001b[49m\u001b[43mretries\u001b[49m\u001b[43m,\u001b[49m\n\u001b[1;32m    979\u001b[0m \u001b[43m        \u001b[49m\u001b[43mstream\u001b[49m\u001b[38;5;241;43m=\u001b[39;49m\u001b[43mstream\u001b[49m\u001b[43m,\u001b[49m\n\u001b[1;32m    980\u001b[0m \u001b[43m        \u001b[49m\u001b[43mstream_cls\u001b[49m\u001b[38;5;241;43m=\u001b[39;49m\u001b[43mstream_cls\u001b[49m\u001b[43m,\u001b[49m\n\u001b[1;32m    981\u001b[0m \u001b[43m        \u001b[49m\u001b[43mresponse_headers\u001b[49m\u001b[38;5;241;43m=\u001b[39;49m\u001b[38;5;28;43;01mNone\u001b[39;49;00m\u001b[43m,\u001b[49m\n\u001b[1;32m    982\u001b[0m \u001b[43m    \u001b[49m\u001b[43m)\u001b[49m\n\u001b[1;32m    984\u001b[0m log\u001b[38;5;241m.\u001b[39mdebug(\u001b[38;5;124m\"\u001b[39m\u001b[38;5;124mRaising connection error\u001b[39m\u001b[38;5;124m\"\u001b[39m)\n\u001b[1;32m    985\u001b[0m \u001b[38;5;28;01mraise\u001b[39;00m APIConnectionError(request\u001b[38;5;241m=\u001b[39mrequest) \u001b[38;5;28;01mfrom\u001b[39;00m \u001b[38;5;21;01merr\u001b[39;00m\n",
      "File \u001b[0;32m/Applications/anaconda3/envs/astro/lib/python3.12/site-packages/groq/_base_client.py:1051\u001b[0m, in \u001b[0;36mSyncAPIClient._retry_request\u001b[0;34m(self, options, cast_to, remaining_retries, response_headers, stream, stream_cls)\u001b[0m\n\u001b[1;32m   1047\u001b[0m \u001b[38;5;66;03m# In a synchronous context we are blocking the entire thread. Up to the library user to run the client in a\u001b[39;00m\n\u001b[1;32m   1048\u001b[0m \u001b[38;5;66;03m# different thread if necessary.\u001b[39;00m\n\u001b[1;32m   1049\u001b[0m time\u001b[38;5;241m.\u001b[39msleep(timeout)\n\u001b[0;32m-> 1051\u001b[0m \u001b[38;5;28;01mreturn\u001b[39;00m \u001b[38;5;28;43mself\u001b[39;49m\u001b[38;5;241;43m.\u001b[39;49m\u001b[43m_request\u001b[49m\u001b[43m(\u001b[49m\n\u001b[1;32m   1052\u001b[0m \u001b[43m    \u001b[49m\u001b[43moptions\u001b[49m\u001b[38;5;241;43m=\u001b[39;49m\u001b[43moptions\u001b[49m\u001b[43m,\u001b[49m\n\u001b[1;32m   1053\u001b[0m \u001b[43m    \u001b[49m\u001b[43mcast_to\u001b[49m\u001b[38;5;241;43m=\u001b[39;49m\u001b[43mcast_to\u001b[49m\u001b[43m,\u001b[49m\n\u001b[1;32m   1054\u001b[0m \u001b[43m    \u001b[49m\u001b[43mremaining_retries\u001b[49m\u001b[38;5;241;43m=\u001b[39;49m\u001b[43mremaining\u001b[49m\u001b[43m,\u001b[49m\n\u001b[1;32m   1055\u001b[0m \u001b[43m    \u001b[49m\u001b[43mstream\u001b[49m\u001b[38;5;241;43m=\u001b[39;49m\u001b[43mstream\u001b[49m\u001b[43m,\u001b[49m\n\u001b[1;32m   1056\u001b[0m \u001b[43m    \u001b[49m\u001b[43mstream_cls\u001b[49m\u001b[38;5;241;43m=\u001b[39;49m\u001b[43mstream_cls\u001b[49m\u001b[43m,\u001b[49m\n\u001b[1;32m   1057\u001b[0m \u001b[43m\u001b[49m\u001b[43m)\u001b[49m\n",
      "File \u001b[0;32m/Applications/anaconda3/envs/astro/lib/python3.12/site-packages/groq/_base_client.py:985\u001b[0m, in \u001b[0;36mSyncAPIClient._request\u001b[0;34m(self, cast_to, options, remaining_retries, stream, stream_cls)\u001b[0m\n\u001b[1;32m    975\u001b[0m         \u001b[38;5;28;01mreturn\u001b[39;00m \u001b[38;5;28mself\u001b[39m\u001b[38;5;241m.\u001b[39m_retry_request(\n\u001b[1;32m    976\u001b[0m             options,\n\u001b[1;32m    977\u001b[0m             cast_to,\n\u001b[0;32m   (...)\u001b[0m\n\u001b[1;32m    981\u001b[0m             response_headers\u001b[38;5;241m=\u001b[39m\u001b[38;5;28;01mNone\u001b[39;00m,\n\u001b[1;32m    982\u001b[0m         )\n\u001b[1;32m    984\u001b[0m     log\u001b[38;5;241m.\u001b[39mdebug(\u001b[38;5;124m\"\u001b[39m\u001b[38;5;124mRaising connection error\u001b[39m\u001b[38;5;124m\"\u001b[39m)\n\u001b[0;32m--> 985\u001b[0m     \u001b[38;5;28;01mraise\u001b[39;00m APIConnectionError(request\u001b[38;5;241m=\u001b[39mrequest) \u001b[38;5;28;01mfrom\u001b[39;00m \u001b[38;5;21;01merr\u001b[39;00m\n\u001b[1;32m    987\u001b[0m log\u001b[38;5;241m.\u001b[39mdebug(\n\u001b[1;32m    988\u001b[0m     \u001b[38;5;124m'\u001b[39m\u001b[38;5;124mHTTP Response: \u001b[39m\u001b[38;5;132;01m%s\u001b[39;00m\u001b[38;5;124m \u001b[39m\u001b[38;5;132;01m%s\u001b[39;00m\u001b[38;5;124m \u001b[39m\u001b[38;5;124m\"\u001b[39m\u001b[38;5;132;01m%i\u001b[39;00m\u001b[38;5;124m \u001b[39m\u001b[38;5;132;01m%s\u001b[39;00m\u001b[38;5;124m\"\u001b[39m\u001b[38;5;124m \u001b[39m\u001b[38;5;132;01m%s\u001b[39;00m\u001b[38;5;124m'\u001b[39m,\n\u001b[1;32m    989\u001b[0m     request\u001b[38;5;241m.\u001b[39mmethod,\n\u001b[0;32m   (...)\u001b[0m\n\u001b[1;32m    993\u001b[0m     response\u001b[38;5;241m.\u001b[39mheaders,\n\u001b[1;32m    994\u001b[0m )\n\u001b[1;32m    996\u001b[0m \u001b[38;5;28;01mtry\u001b[39;00m:\n",
      "\u001b[0;31mAPIConnectionError\u001b[0m: Connection error."
     ]
    }
   ],
   "source": [
    "metrics_calc(type = 'one symptom',method='rag', model_name= 'groq')"
   ]
  },
  {
   "cell_type": "code",
   "execution_count": 1151,
   "metadata": {},
   "outputs": [
    {
     "name": "stderr",
     "output_type": "stream",
     "text": [
      "9it [00:01,  7.60it/s]"
     ]
    },
    {
     "name": "stdout",
     "output_type": "stream",
     "text": [
      "['68-70', '71-73', '78', '80-83']\n"
     ]
    },
    {
     "name": "stderr",
     "output_type": "stream",
     "text": [
      "14it [00:02,  6.57it/s]"
     ]
    },
    {
     "name": "stdout",
     "output_type": "stream",
     "text": [
      "['39-45', '46-51', '78', '80-83', '36-38']\n"
     ]
    },
    {
     "name": "stderr",
     "output_type": "stream",
     "text": [
      "15it [00:02,  4.29it/s]"
     ]
    },
    {
     "name": "stdout",
     "output_type": "stream",
     "text": [
      "['14-20', '11-13', '29-31', '24-27', '52-57', '46-51']\n"
     ]
    },
    {
     "name": "stderr",
     "output_type": "stream",
     "text": [
      "27it [00:03,  7.30it/s]"
     ]
    },
    {
     "name": "stdout",
     "output_type": "stream",
     "text": [
      "['39-45', '46-51', '52-57']\n"
     ]
    },
    {
     "name": "stderr",
     "output_type": "stream",
     "text": [
      "42it [00:04, 10.63it/s]"
     ]
    },
    {
     "name": "stdout",
     "output_type": "stream",
     "text": [
      "['39-45', '46-51', '78' ]\n"
     ]
    },
    {
     "name": "stderr",
     "output_type": "stream",
     "text": [
      "44it [00:05,  7.94it/s]"
     ]
    },
    {
     "name": "stdout",
     "output_type": "stream",
     "text": [
      "['52-57', '24-27', '78', '58-62']\n"
     ]
    },
    {
     "name": "stderr",
     "output_type": "stream",
     "text": [
      "53it [00:06,  7.67it/s]"
     ]
    },
    {
     "name": "stdout",
     "output_type": "stream",
     "text": [
      "['29-31', '32-35', '78']\n"
     ]
    },
    {
     "name": "stderr",
     "output_type": "stream",
     "text": [
      "61it [00:07,  8.20it/s]"
     ]
    },
    {
     "name": "stdout",
     "output_type": "stream",
     "text": [
      "['46-51', '39-45', '78']\n"
     ]
    },
    {
     "name": "stderr",
     "output_type": "stream",
     "text": [
      "90it [00:09, 13.73it/s]"
     ]
    },
    {
     "name": "stdout",
     "output_type": "stream",
     "text": [
      "['78', '39-45', '80-83']\n"
     ]
    },
    {
     "name": "stderr",
     "output_type": "stream",
     "text": [
      "94it [00:09, 11.38it/s]"
     ]
    },
    {
     "name": "stdout",
     "output_type": "stream",
     "text": [
      "['32-35', '39-45', '52-57', '78']\n"
     ]
    },
    {
     "name": "stderr",
     "output_type": "stream",
     "text": [
      "96it [00:12,  6.33it/s]"
     ]
    },
    {
     "name": "stdout",
     "output_type": "stream",
     "text": [
      "['32-35', '78', '79']\n"
     ]
    },
    {
     "name": "stderr",
     "output_type": "stream",
     "text": [
      "109it [00:13,  7.75it/s]"
     ]
    },
    {
     "name": "stdout",
     "output_type": "stream",
     "text": [
      "['71-73', '39-45', '78', '46-51', '79']\n"
     ]
    },
    {
     "name": "stderr",
     "output_type": "stream",
     "text": [
      "118it [00:15,  6.34it/s]"
     ]
    },
    {
     "name": "stdout",
     "output_type": "stream",
     "text": [
      "['46-51', '78', '29-31']\n"
     ]
    },
    {
     "name": "stderr",
     "output_type": "stream",
     "text": [
      "135it [00:18,  5.84it/s]"
     ]
    },
    {
     "name": "stdout",
     "output_type": "stream",
     "text": [
      "['71-73', '52-57', '78', '58-62']\n"
     ]
    },
    {
     "name": "stderr",
     "output_type": "stream",
     "text": [
      "138it [00:19,  5.51it/s]"
     ]
    },
    {
     "name": "stdout",
     "output_type": "stream",
     "text": [
      "['32-35', '80-83']\n"
     ]
    },
    {
     "name": "stderr",
     "output_type": "stream",
     "text": [
      "191it [00:20, 15.82it/s]"
     ]
    },
    {
     "name": "stdout",
     "output_type": "stream",
     "text": [
      "['39-45', '46-51', '78']\n"
     ]
    },
    {
     "name": "stderr",
     "output_type": "stream",
     "text": [
      "195it [00:20, 13.47it/s]"
     ]
    },
    {
     "name": "stdout",
     "output_type": "stream",
     "text": [
      "['32-35', '39-45', '78', '80-83']\n"
     ]
    },
    {
     "name": "stderr",
     "output_type": "stream",
     "text": [
      "206it [00:22, 12.28it/s]"
     ]
    },
    {
     "name": "stdout",
     "output_type": "stream",
     "text": [
      "['32-35', '39-45', '78', '80-83']\n"
     ]
    },
    {
     "name": "stderr",
     "output_type": "stream",
     "text": [
      "208it [00:22, 10.13it/s]"
     ]
    },
    {
     "name": "stdout",
     "output_type": "stream",
     "text": [
      "['78', '46-51', '39-45']\n"
     ]
    },
    {
     "name": "stderr",
     "output_type": "stream",
     "text": [
      "223it [00:24, 10.30it/s]"
     ]
    },
    {
     "name": "stdout",
     "output_type": "stream",
     "text": [
      "['39-45', '78', '58-62', '71-73']\n"
     ]
    },
    {
     "name": "stderr",
     "output_type": "stream",
     "text": [
      "243it [00:25, 13.39it/s]"
     ]
    },
    {
     "name": "stdout",
     "output_type": "stream",
     "text": [
      "['00-10', '58-62']\n"
     ]
    },
    {
     "name": "stderr",
     "output_type": "stream",
     "text": [
      "249it [00:25, 12.02it/s]"
     ]
    },
    {
     "name": "stdout",
     "output_type": "stream",
     "text": [
      "['39-45', '46-51', '78']\n"
     ]
    },
    {
     "name": "stderr",
     "output_type": "stream",
     "text": [
      "291it [00:26, 21.56it/s]"
     ]
    },
    {
     "name": "stdout",
     "output_type": "stream",
     "text": [
      "['39-45', '78', '46-51', '96-99', '36-38']\n"
     ]
    },
    {
     "name": "stderr",
     "output_type": "stream",
     "text": [
      "305it [00:27, 20.08it/s]"
     ]
    },
    {
     "name": "stdout",
     "output_type": "stream",
     "text": [
      "['39-45', '46-51', '78']\n"
     ]
    },
    {
     "name": "stderr",
     "output_type": "stream",
     "text": [
      "323it [00:30, 12.27it/s]"
     ]
    },
    {
     "name": "stdout",
     "output_type": "stream",
     "text": [
      "['39-45', '46-51', '78']\n"
     ]
    },
    {
     "name": "stderr",
     "output_type": "stream",
     "text": [
      "331it [00:31, 11.00it/s]"
     ]
    },
    {
     "name": "stdout",
     "output_type": "stream",
     "text": [
      "['39-45', '46-51', '78', '32-35']\n"
     ]
    },
    {
     "name": "stderr",
     "output_type": "stream",
     "text": [
      "337it [00:32, 10.25it/s]"
     ]
    },
    {
     "name": "stdout",
     "output_type": "stream",
     "text": [
      "['32-35', '78']\n"
     ]
    },
    {
     "name": "stderr",
     "output_type": "stream",
     "text": [
      "356it [00:33, 13.19it/s]"
     ]
    },
    {
     "name": "stdout",
     "output_type": "stream",
     "text": [
      "['78', '39-45', '46-51']\n"
     ]
    },
    {
     "name": "stderr",
     "output_type": "stream",
     "text": [
      "359it [00:36,  6.13it/s]"
     ]
    },
    {
     "name": "stdout",
     "output_type": "stream",
     "text": [
      "['39-45', '46-51']\n"
     ]
    },
    {
     "name": "stderr",
     "output_type": "stream",
     "text": [
      "393it [00:39,  9.27it/s]"
     ]
    },
    {
     "name": "stdout",
     "output_type": "stream",
     "text": [
      "['32-35', '39-45', '78', '79']\n"
     ]
    },
    {
     "name": "stderr",
     "output_type": "stream",
     "text": [
      "410it [00:39, 11.00it/s]"
     ]
    },
    {
     "name": "stdout",
     "output_type": "stream",
     "text": [
      "['52-57', '78', '63-66']\n"
     ]
    },
    {
     "name": "stderr",
     "output_type": "stream",
     "text": [
      "424it [00:40, 12.06it/s]"
     ]
    },
    {
     "name": "stdout",
     "output_type": "stream",
     "text": [
      "['46-51']\n"
     ]
    },
    {
     "name": "stderr",
     "output_type": "stream",
     "text": [
      "443it [00:41, 14.02it/s]"
     ]
    },
    {
     "name": "stdout",
     "output_type": "stream",
     "text": [
      "['46-51', '39-45', '78', '71-73']\n"
     ]
    },
    {
     "name": "stderr",
     "output_type": "stream",
     "text": [
      "475it [00:42, 18.48it/s]"
     ]
    },
    {
     "name": "stdout",
     "output_type": "stream",
     "text": [
      "['52-57', '78', '39-45']\n"
     ]
    },
    {
     "name": "stderr",
     "output_type": "stream",
     "text": [
      "488it [00:43, 17.56it/s]"
     ]
    },
    {
     "name": "stdout",
     "output_type": "stream",
     "text": [
      "['46-51', '39-45', '78']\n"
     ]
    },
    {
     "name": "stderr",
     "output_type": "stream",
     "text": [
      "510it [00:52,  5.62it/s]"
     ]
    },
    {
     "name": "stdout",
     "output_type": "stream",
     "text": [
      "['52-57', '58-62', '14-20']\n"
     ]
    },
    {
     "name": "stderr",
     "output_type": "stream",
     "text": [
      "549it [00:53,  9.20it/s]"
     ]
    },
    {
     "name": "stdout",
     "output_type": "stream",
     "text": [
      "['39-45', '46-51', '78']\n"
     ]
    },
    {
     "name": "stderr",
     "output_type": "stream",
     "text": [
      "612it [00:54, 16.20it/s]"
     ]
    },
    {
     "name": "stdout",
     "output_type": "stream",
     "text": [
      "['32-35', '46-51', '78']\n"
     ]
    },
    {
     "name": "stderr",
     "output_type": "stream",
     "text": [
      "643it [00:55, 18.74it/s]"
     ]
    },
    {
     "name": "stdout",
     "output_type": "stream",
     "text": [
      "['32-35', '39-45', '78', '84-95']\n"
     ]
    },
    {
     "name": "stderr",
     "output_type": "stream",
     "text": [
      "652it [00:56, 17.25it/s]"
     ]
    },
    {
     "name": "stdout",
     "output_type": "stream",
     "text": [
      "['27', '39-45', '78', '58-62']\n"
     ]
    },
    {
     "name": "stderr",
     "output_type": "stream",
     "text": [
      "655it [00:58, 12.23it/s]"
     ]
    },
    {
     "name": "stdout",
     "output_type": "stream",
     "text": [
      "['52-57', '39-45', '78', '32-35']\n"
     ]
    },
    {
     "name": "stderr",
     "output_type": "stream",
     "text": [
      "662it [00:59, 11.41it/s]"
     ]
    },
    {
     "name": "stdout",
     "output_type": "stream",
     "text": [
      "['46-51', '14-20', '78', '79']\n"
     ]
    },
    {
     "name": "stderr",
     "output_type": "stream",
     "text": [
      "664it [01:00,  9.51it/s]"
     ]
    },
    {
     "name": "stdout",
     "output_type": "stream",
     "text": [
      "['46-51', '78', '39-45', '84-95', '96-99']\n"
     ]
    },
    {
     "name": "stderr",
     "output_type": "stream",
     "text": [
      "673it [01:01,  9.45it/s]"
     ]
    },
    {
     "name": "stdout",
     "output_type": "stream",
     "text": [
      "['39-45', '46-51', '78']\n"
     ]
    },
    {
     "name": "stderr",
     "output_type": "stream",
     "text": [
      "691it [01:03,  9.38it/s]"
     ]
    },
    {
     "name": "stdout",
     "output_type": "stream",
     "text": [
      "['39-45', '46-51', '78']\n"
     ]
    },
    {
     "name": "stderr",
     "output_type": "stream",
     "text": [
      "715it [01:04, 12.02it/s]"
     ]
    },
    {
     "name": "stdout",
     "output_type": "stream",
     "text": [
      "['39-45', '78', '32-35', '39-45']\n"
     ]
    },
    {
     "name": "stderr",
     "output_type": "stream",
     "text": [
      "752it [01:06, 15.38it/s]"
     ]
    },
    {
     "name": "stdout",
     "output_type": "stream",
     "text": [
      "['32-35', '78', '52-57', '46-51']\n"
     ]
    },
    {
     "name": "stderr",
     "output_type": "stream",
     "text": [
      "779it [01:07, 18.06it/s]"
     ]
    },
    {
     "name": "stdout",
     "output_type": "stream",
     "text": [
      "['46-51', '32-35', '78', '24-27']\n"
     ]
    },
    {
     "name": "stderr",
     "output_type": "stream",
     "text": [
      "817it [01:08, 22.38it/s]"
     ]
    },
    {
     "name": "stdout",
     "output_type": "stream",
     "text": [
      "['39-45', '32-35', '36-38', '78', '58-62', '68-70', '21-23']\n"
     ]
    },
    {
     "name": "stderr",
     "output_type": "stream",
     "text": [
      "820it [01:10, 14.38it/s]"
     ]
    },
    {
     "name": "stdout",
     "output_type": "stream",
     "text": [
      "['46-51', '39-45', '78', 'V40-V49']\n"
     ]
    },
    {
     "name": "stderr",
     "output_type": "stream",
     "text": [
      "825it [01:12,  9.19it/s]"
     ]
    },
    {
     "name": "stdout",
     "output_type": "stream",
     "text": [
      "['52-57', '36-38', '39-45', '78']\n"
     ]
    },
    {
     "name": "stderr",
     "output_type": "stream",
     "text": [
      "835it [01:13,  9.37it/s]"
     ]
    },
    {
     "name": "stdout",
     "output_type": "stream",
     "text": [
      "['39-45', '46-51', '71-73', '78']\n"
     ]
    },
    {
     "name": "stderr",
     "output_type": "stream",
     "text": [
      "855it [01:14, 11.86it/s]"
     ]
    },
    {
     "name": "stdout",
     "output_type": "stream",
     "text": [
      "['46-51', '39-45', '78', '36-38']\n"
     ]
    },
    {
     "name": "stderr",
     "output_type": "stream",
     "text": [
      "866it [01:15, 11.64it/s]"
     ]
    },
    {
     "name": "stdout",
     "output_type": "stream",
     "text": [
      "['46-51', '78', '39-45']\n"
     ]
    },
    {
     "name": "stderr",
     "output_type": "stream",
     "text": [
      "873it [01:16, 10.07it/s]"
     ]
    },
    {
     "name": "stdout",
     "output_type": "stream",
     "text": [
      "['46-51', '14-20', '32-35', '39-45']\n"
     ]
    },
    {
     "name": "stderr",
     "output_type": "stream",
     "text": [
      "887it [01:17, 10.96it/s]"
     ]
    },
    {
     "name": "stdout",
     "output_type": "stream",
     "text": [
      "['78', '39-45']\n"
     ]
    },
    {
     "name": "stderr",
     "output_type": "stream",
     "text": [
      "939it [01:18, 22.97it/s]"
     ]
    },
    {
     "name": "stdout",
     "output_type": "stream",
     "text": [
      "['52-57', '39-45']\n"
     ]
    },
    {
     "name": "stderr",
     "output_type": "stream",
     "text": [
      "943it [01:19, 17.72it/s]"
     ]
    },
    {
     "name": "stdout",
     "output_type": "stream",
     "text": [
      "['39-45', '46-51', '78']\n"
     ]
    },
    {
     "name": "stderr",
     "output_type": "stream",
     "text": [
      "947it [01:20, 14.08it/s]"
     ]
    },
    {
     "name": "stdout",
     "output_type": "stream",
     "text": [
      "['78', '46-51', '39-45', '21-23']\n"
     ]
    },
    {
     "name": "stderr",
     "output_type": "stream",
     "text": [
      "949it [01:21, 10.14it/s]"
     ]
    },
    {
     "name": "stdout",
     "output_type": "stream",
     "text": [
      "['39-45', '46-51', '78', '24-27']\n"
     ]
    },
    {
     "name": "stderr",
     "output_type": "stream",
     "text": [
      "985it [01:22, 18.04it/s]"
     ]
    },
    {
     "name": "stdout",
     "output_type": "stream",
     "text": [
      "['46-51', '39-45', '78']\n"
     ]
    },
    {
     "name": "stderr",
     "output_type": "stream",
     "text": [
      "989it [01:23, 13.49it/s]"
     ]
    },
    {
     "name": "stdout",
     "output_type": "stream",
     "text": [
      "['32-35', '39-45', '78', '79', '84-95']\n"
     ]
    },
    {
     "name": "stderr",
     "output_type": "stream",
     "text": [
      "1008it [01:24, 15.06it/s]"
     ]
    },
    {
     "name": "stdout",
     "output_type": "stream",
     "text": [
      "['39-45', '46-51', '71-73', '78']\n"
     ]
    },
    {
     "name": "stderr",
     "output_type": "stream",
     "text": [
      "1010it [01:25, 10.13it/s]"
     ]
    },
    {
     "name": "stdout",
     "output_type": "stream",
     "text": [
      "['32-35', '71-73', '78']\n"
     ]
    },
    {
     "name": "stderr",
     "output_type": "stream",
     "text": [
      "1015it [01:27,  7.62it/s]"
     ]
    },
    {
     "name": "stdout",
     "output_type": "stream",
     "text": [
      "['46-51', '39-45', '78', '79']\n"
     ]
    },
    {
     "name": "stderr",
     "output_type": "stream",
     "text": [
      "1041it [01:28, 11.97it/s]"
     ]
    },
    {
     "name": "stdout",
     "output_type": "stream",
     "text": [
      "['46-51', '78']\n"
     ]
    },
    {
     "name": "stderr",
     "output_type": "stream",
     "text": [
      "1045it [01:30,  7.73it/s]"
     ]
    },
    {
     "name": "stdout",
     "output_type": "stream",
     "text": [
      "['46-51', '52-57']\n"
     ]
    },
    {
     "name": "stderr",
     "output_type": "stream",
     "text": [
      "1110it [01:31, 20.31it/s]"
     ]
    },
    {
     "name": "stdout",
     "output_type": "stream",
     "text": [
      "['39-45', '46-51', '52-57', '78']\n"
     ]
    },
    {
     "name": "stderr",
     "output_type": "stream",
     "text": [
      "1113it [01:32, 16.17it/s]"
     ]
    },
    {
     "name": "stdout",
     "output_type": "stream",
     "text": [
      "['78', '39-45', '46-51']\n"
     ]
    },
    {
     "name": "stderr",
     "output_type": "stream",
     "text": [
      "1118it [01:33, 12.90it/s]"
     ]
    },
    {
     "name": "stdout",
     "output_type": "stream",
     "text": [
      "['71-73', '80-83', '78', '68-70']\n"
     ]
    },
    {
     "name": "stderr",
     "output_type": "stream",
     "text": [
      "1170it [01:34, 23.12it/s]"
     ]
    },
    {
     "name": "stdout",
     "output_type": "stream",
     "text": [
      "['71-73', '78', '80-83']\n"
     ]
    },
    {
     "name": "stderr",
     "output_type": "stream",
     "text": [
      "1184it [01:36, 19.70it/s]"
     ]
    },
    {
     "name": "stdout",
     "output_type": "stream",
     "text": [
      "['46-51', '39-45', '78', '24-27']\n"
     ]
    },
    {
     "name": "stderr",
     "output_type": "stream",
     "text": [
      "1214it [01:36, 22.78it/s]"
     ]
    },
    {
     "name": "stdout",
     "output_type": "stream",
     "text": [
      "['46-51', '39-45']\n"
     ]
    },
    {
     "name": "stderr",
     "output_type": "stream",
     "text": [
      "1219it [01:37, 17.89it/s]"
     ]
    },
    {
     "name": "stdout",
     "output_type": "stream",
     "text": [
      "['39-45', '71-73', '78']\n"
     ]
    },
    {
     "name": "stderr",
     "output_type": "stream",
     "text": [
      "1270it [01:38, 27.60it/s]"
     ]
    },
    {
     "name": "stdout",
     "output_type": "stream",
     "text": [
      "['39-45', '78', 'V40-V49']\n"
     ]
    },
    {
     "name": "stderr",
     "output_type": "stream",
     "text": [
      "1282it [01:39, 23.01it/s]"
     ]
    },
    {
     "name": "stdout",
     "output_type": "stream",
     "text": [
      "['24-27', '78', '52-57', '79', '67', '96-99', '80-83', '11-13', '79']\n"
     ]
    },
    {
     "name": "stderr",
     "output_type": "stream",
     "text": [
      "1291it [01:44,  9.61it/s]"
     ]
    },
    {
     "name": "stdout",
     "output_type": "stream",
     "text": [
      "['46-51', '39-45']\n"
     ]
    },
    {
     "name": "stderr",
     "output_type": "stream",
     "text": [
      "1297it [01:45,  8.93it/s]"
     ]
    },
    {
     "name": "stdout",
     "output_type": "stream",
     "text": [
      "['46-51', '39-45', '36-38']\n"
     ]
    },
    {
     "name": "stderr",
     "output_type": "stream",
     "text": [
      "1318it [01:46, 10.95it/s]"
     ]
    },
    {
     "name": "stdout",
     "output_type": "stream",
     "text": [
      "['39-45', '46-51', '78']\n"
     ]
    },
    {
     "name": "stderr",
     "output_type": "stream",
     "text": [
      "1323it [01:47,  9.70it/s]"
     ]
    },
    {
     "name": "stdout",
     "output_type": "stream",
     "text": [
      "['78', '46-51', '39-45']\n"
     ]
    },
    {
     "name": "stderr",
     "output_type": "stream",
     "text": [
      "1326it [01:48,  8.23it/s]"
     ]
    },
    {
     "name": "stdout",
     "output_type": "stream",
     "text": [
      "['39-45', '46-51', '78']\n"
     ]
    },
    {
     "name": "stderr",
     "output_type": "stream",
     "text": [
      "1343it [01:49,  9.81it/s]"
     ]
    },
    {
     "name": "stdout",
     "output_type": "stream",
     "text": [
      "['46-51', '78', '00-10', '80-83', '39-45']\n"
     ]
    },
    {
     "name": "stderr",
     "output_type": "stream",
     "text": [
      "1352it [01:50,  9.79it/s]"
     ]
    },
    {
     "name": "stdout",
     "output_type": "stream",
     "text": [
      "['39-45', '46-51', '78']\n"
     ]
    },
    {
     "name": "stderr",
     "output_type": "stream",
     "text": [
      "1354it [01:51,  7.38it/s]"
     ]
    },
    {
     "name": "stdout",
     "output_type": "stream",
     "text": [
      "['28', '80-83']\n"
     ]
    },
    {
     "name": "stderr",
     "output_type": "stream",
     "text": [
      "1357it [01:52,  6.12it/s]"
     ]
    },
    {
     "name": "stdout",
     "output_type": "stream",
     "text": [
      "['32-35', '78', '39-45', '46-51', '71-73']\n"
     ]
    },
    {
     "name": "stderr",
     "output_type": "stream",
     "text": [
      "1377it [01:53,  9.92it/s]"
     ]
    },
    {
     "name": "stdout",
     "output_type": "stream",
     "text": [
      "['52-57', '39-45']\n"
     ]
    },
    {
     "name": "stderr",
     "output_type": "stream",
     "text": [
      "1423it [01:54, 19.86it/s]"
     ]
    },
    {
     "name": "stdout",
     "output_type": "stream",
     "text": [
      "['71-73', '39-45', '78', '80-83']\n"
     ]
    },
    {
     "name": "stderr",
     "output_type": "stream",
     "text": [
      "1432it [01:55, 16.97it/s]"
     ]
    },
    {
     "name": "stdout",
     "output_type": "stream",
     "text": [
      "['39-45', '46-51', '78'\n"
     ]
    },
    {
     "name": "stderr",
     "output_type": "stream",
     "text": [
      "1437it [01:56, 12.69it/s]"
     ]
    },
    {
     "name": "stdout",
     "output_type": "stream",
     "text": [
      "['32-35', '71-73', '78', '80-83']\n"
     ]
    },
    {
     "name": "stderr",
     "output_type": "stream",
     "text": [
      "1506it [01:57, 29.47it/s]"
     ]
    },
    {
     "name": "stdout",
     "output_type": "stream",
     "text": [
      "['32-35', '46-51', '39-45']\n",
      "['46-51', '58-62']\n"
     ]
    },
    {
     "name": "stderr",
     "output_type": "stream",
     "text": [
      "1510it [02:04,  8.66it/s]"
     ]
    },
    {
     "name": "stdout",
     "output_type": "stream",
     "text": [
      "['39-45', '78', '21-23']\n"
     ]
    },
    {
     "name": "stderr",
     "output_type": "stream",
     "text": [
      "1516it [02:05,  8.18it/s]"
     ]
    },
    {
     "name": "stdout",
     "output_type": "stream",
     "text": [
      "['11-13', '39-45', '46-51', '24-27', '78']\n"
     ]
    },
    {
     "name": "stderr",
     "output_type": "stream",
     "text": [
      "1520it [02:05,  7.68it/s]"
     ]
    },
    {
     "name": "stdout",
     "output_type": "stream",
     "text": [
      "['39-45', '46-51', '52-57', '78']\n"
     ]
    },
    {
     "name": "stderr",
     "output_type": "stream",
     "text": [
      "1525it [02:07,  6.15it/s]"
     ]
    },
    {
     "name": "stdout",
     "output_type": "stream",
     "text": [
      "['24-27', '58-62', '39-45']\n"
     ]
    },
    {
     "name": "stderr",
     "output_type": "stream",
     "text": [
      "1540it [02:08,  7.66it/s]"
     ]
    },
    {
     "name": "stdout",
     "output_type": "stream",
     "text": [
      "['39-45']\n"
     ]
    },
    {
     "name": "stderr",
     "output_type": "stream",
     "text": [
      "1552it [02:09,  8.65it/s]"
     ]
    },
    {
     "name": "stdout",
     "output_type": "stream",
     "text": [
      "['52-57', '39-45', '36-38', 'V10-V19', '24-27', '78']\n"
     ]
    },
    {
     "name": "stderr",
     "output_type": "stream",
     "text": [
      "1562it [02:10,  9.06it/s]"
     ]
    },
    {
     "name": "stdout",
     "output_type": "stream",
     "text": [
      "['39-45', '46-51', '78']\n"
     ]
    },
    {
     "name": "stderr",
     "output_type": "stream",
     "text": [
      "1591it [02:11, 14.44it/s]"
     ]
    },
    {
     "name": "stdout",
     "output_type": "stream",
     "text": [
      "['39-45', '46-51', '78']\n"
     ]
    },
    {
     "name": "stderr",
     "output_type": "stream",
     "text": [
      "1612it [02:12, 16.17it/s]"
     ]
    },
    {
     "name": "stdout",
     "output_type": "stream",
     "text": [
      "['32-35', '78', '39-45']\n"
     ]
    },
    {
     "name": "stderr",
     "output_type": "stream",
     "text": [
      "1641it [02:13, 20.07it/s]"
     ]
    },
    {
     "name": "stdout",
     "output_type": "stream",
     "text": [
      "['39-45', '71-73', '32-35', '78', '84-95']\n"
     ]
    },
    {
     "name": "stderr",
     "output_type": "stream",
     "text": [
      "1679it [02:14, 24.91it/s]"
     ]
    },
    {
     "name": "stdout",
     "output_type": "stream",
     "text": [
      "['52-57', '78', '39-45']\n"
     ]
    },
    {
     "name": "stderr",
     "output_type": "stream",
     "text": [
      "1702it [02:15, 24.38it/s]"
     ]
    },
    {
     "name": "stdout",
     "output_type": "stream",
     "text": [
      "['46-51', '39-45', '78', '28', '32-35']\n"
     ]
    },
    {
     "name": "stderr",
     "output_type": "stream",
     "text": [
      "1706it [02:16, 17.90it/s]"
     ]
    },
    {
     "name": "stdout",
     "output_type": "stream",
     "text": [
      "['52-57', '46-51']\n"
     ]
    },
    {
     "name": "stderr",
     "output_type": "stream",
     "text": [
      "1716it [02:17, 15.56it/s]"
     ]
    },
    {
     "name": "stdout",
     "output_type": "stream",
     "text": [
      "['39-45', '46-51', '78']\n"
     ]
    },
    {
     "name": "stderr",
     "output_type": "stream",
     "text": [
      "1737it [02:18, 16.77it/s]"
     ]
    },
    {
     "name": "stdout",
     "output_type": "stream",
     "text": [
      "['39-45', '46-51' ]\n"
     ]
    },
    {
     "name": "stderr",
     "output_type": "stream",
     "text": [
      "1767it [02:20, 18.02it/s]"
     ]
    },
    {
     "name": "stdout",
     "output_type": "stream",
     "text": [
      "['78', '39-45', '52-57']\n"
     ]
    },
    {
     "name": "stderr",
     "output_type": "stream",
     "text": [
      "1802it [02:21, 20.14it/s]"
     ]
    },
    {
     "name": "stdout",
     "output_type": "stream",
     "text": [
      "['46-51', '71-73']\n"
     ]
    },
    {
     "name": "stderr",
     "output_type": "stream",
     "text": [
      "1829it [02:22, 21.53it/s]"
     ]
    },
    {
     "name": "stdout",
     "output_type": "stream",
     "text": [
      "['32-35', '52-57', '39-45', '78', '71-73']\n"
     ]
    },
    {
     "name": "stderr",
     "output_type": "stream",
     "text": [
      "1846it [02:24, 19.47it/s]"
     ]
    },
    {
     "name": "stdout",
     "output_type": "stream",
     "text": [
      "['39-45', '46-51', '52-57', '78']\n"
     ]
    },
    {
     "name": "stderr",
     "output_type": "stream",
     "text": [
      "1872it [02:25, 21.12it/s]"
     ]
    },
    {
     "name": "stdout",
     "output_type": "stream",
     "text": [
      "['52-57', '46-51', '78']\n"
     ]
    },
    {
     "name": "stderr",
     "output_type": "stream",
     "text": [
      "1897it [02:26, 22.48it/s]"
     ]
    },
    {
     "name": "stdout",
     "output_type": "stream",
     "text": [
      "['84-95', '80-83', 'E00-E09']\n"
     ]
    },
    {
     "name": "stderr",
     "output_type": "stream",
     "text": [
      "1908it [02:27, 15.80it/s]"
     ]
    },
    {
     "name": "stdout",
     "output_type": "stream",
     "text": [
      "['78', '46-51', '39-45']\n"
     ]
    },
    {
     "name": "stderr",
     "output_type": "stream",
     "text": [
      "1913it [02:28, 13.39it/s]"
     ]
    },
    {
     "name": "stdout",
     "output_type": "stream",
     "text": [
      "['24-27', '32-35']\n"
     ]
    },
    {
     "name": "stderr",
     "output_type": "stream",
     "text": [
      "1942it [02:29, 17.87it/s]"
     ]
    },
    {
     "name": "stdout",
     "output_type": "stream",
     "text": [
      "['46-51', '39-45', '24-27']\n"
     ]
    },
    {
     "name": "stderr",
     "output_type": "stream",
     "text": [
      "1970it [02:30, 20.84it/s]"
     ]
    },
    {
     "name": "stdout",
     "output_type": "stream",
     "text": [
      "['39-45', '78', '46-51']\n"
     ]
    },
    {
     "name": "stderr",
     "output_type": "stream",
     "text": [
      "2000it [02:31, 23.68it/s]"
     ]
    },
    {
     "name": "stdout",
     "output_type": "stream",
     "text": [
      "['46-51', '39-45', '78', '79']\n"
     ]
    },
    {
     "name": "stderr",
     "output_type": "stream",
     "text": [
      "2017it [02:34, 15.34it/s]"
     ]
    },
    {
     "name": "stdout",
     "output_type": "stream",
     "text": [
      "['29-31', '32-35', '78']\n"
     ]
    },
    {
     "name": "stderr",
     "output_type": "stream",
     "text": [
      "2022it [02:36, 10.69it/s]"
     ]
    },
    {
     "name": "stdout",
     "output_type": "stream",
     "text": [
      "['39-45', '46-51', '78', '96-99']\n"
     ]
    },
    {
     "name": "stderr",
     "output_type": "stream",
     "text": [
      "2031it [02:37, 10.27it/s]"
     ]
    },
    {
     "name": "stdout",
     "output_type": "stream",
     "text": [
      "['46-51', '78', '00-10']\n"
     ]
    },
    {
     "name": "stderr",
     "output_type": "stream",
     "text": [
      "2034it [02:37,  9.04it/s]"
     ]
    },
    {
     "name": "stdout",
     "output_type": "stream",
     "text": [
      "['39-45', '46-51', '78']\n"
     ]
    },
    {
     "name": "stderr",
     "output_type": "stream",
     "text": [
      "2048it [02:38, 10.33it/s]"
     ]
    },
    {
     "name": "stdout",
     "output_type": "stream",
     "text": [
      "['46-51', '39-45']\n"
     ]
    },
    {
     "name": "stderr",
     "output_type": "stream",
     "text": [
      "2050it [02:40,  7.44it/s]"
     ]
    },
    {
     "name": "stdout",
     "output_type": "stream",
     "text": [
      "['29-31', '78', '32-35']\n"
     ]
    },
    {
     "name": "stderr",
     "output_type": "stream",
     "text": [
      "2057it [02:44,  3.77it/s]"
     ]
    },
    {
     "name": "stdout",
     "output_type": "stream",
     "text": [
      "['39-45', '46-51', '78']\n"
     ]
    },
    {
     "name": "stderr",
     "output_type": "stream",
     "text": [
      "2102it [02:45, 10.58it/s]"
     ]
    },
    {
     "name": "stdout",
     "output_type": "stream",
     "text": [
      "['52-57', '36-38', '58-62', '78']\n"
     ]
    },
    {
     "name": "stderr",
     "output_type": "stream",
     "text": [
      "2106it [02:46,  9.60it/s]"
     ]
    },
    {
     "name": "stdout",
     "output_type": "stream",
     "text": [
      "['39-45', '46-51', '78']\n"
     ]
    },
    {
     "name": "stderr",
     "output_type": "stream",
     "text": [
      "2124it [02:47, 11.64it/s]"
     ]
    },
    {
     "name": "stdout",
     "output_type": "stream",
     "text": [
      "['39-45', '21-23', '36-38']\n"
     ]
    },
    {
     "name": "stderr",
     "output_type": "stream",
     "text": [
      "2127it [02:48,  9.90it/s]"
     ]
    },
    {
     "name": "stdout",
     "output_type": "stream",
     "text": [
      "['39-45', '46-51', '78']\n"
     ]
    },
    {
     "name": "stderr",
     "output_type": "stream",
     "text": [
      "2147it [02:49, 11.96it/s]"
     ]
    },
    {
     "name": "stdout",
     "output_type": "stream",
     "text": [
      "['24-27', '39-45', '46-51', '78']\n"
     ]
    },
    {
     "name": "stderr",
     "output_type": "stream",
     "text": [
      "2161it [02:50, 12.81it/s]"
     ]
    },
    {
     "name": "stdout",
     "output_type": "stream",
     "text": [
      "['29-31', '78', '32-35', '00-10', '28']\n"
     ]
    },
    {
     "name": "stderr",
     "output_type": "stream",
     "text": [
      "2191it [02:51, 17.24it/s]"
     ]
    },
    {
     "name": "stdout",
     "output_type": "stream",
     "text": [
      "['46-51', '78', '32-35', '36-38']\n"
     ]
    },
    {
     "name": "stderr",
     "output_type": "stream",
     "text": [
      "2194it [02:52, 13.69it/s]"
     ]
    },
    {
     "name": "stdout",
     "output_type": "stream",
     "text": [
      "['36-38', '52-57']\n"
     ]
    },
    {
     "name": "stderr",
     "output_type": "stream",
     "text": [
      "2203it [02:53, 10.93it/s]"
     ]
    },
    {
     "name": "stdout",
     "output_type": "stream",
     "text": [
      "['39-45', '46-51', '78']\n"
     ]
    },
    {
     "name": "stderr",
     "output_type": "stream",
     "text": [
      "2227it [02:54, 14.17it/s]"
     ]
    },
    {
     "name": "stdout",
     "output_type": "stream",
     "text": [
      "['52-57', '46-51']\n"
     ]
    },
    {
     "name": "stderr",
     "output_type": "stream",
     "text": [
      "2278it [02:58, 14.68it/s]"
     ]
    },
    {
     "name": "stdout",
     "output_type": "stream",
     "text": [
      "['39-45', '78', '46-51' ]\n"
     ]
    },
    {
     "name": "stderr",
     "output_type": "stream",
     "text": [
      "2291it [02:59, 14.03it/s]"
     ]
    },
    {
     "name": "stdout",
     "output_type": "stream",
     "text": [
      "['78', '46-51', '39-45', '80-83', '28', '67', '84-95', '29-31', '74-75']\n"
     ]
    },
    {
     "name": "stderr",
     "output_type": "stream",
     "text": [
      "2314it [03:00, 15.89it/s]"
     ]
    },
    {
     "name": "stdout",
     "output_type": "stream",
     "text": [
      "['24-27', '39-45', '46-51', '29-31', '78']\n"
     ]
    },
    {
     "name": "stderr",
     "output_type": "stream",
     "text": [
      "2334it [03:01, 17.00it/s]"
     ]
    },
    {
     "name": "stdout",
     "output_type": "stream",
     "text": [
      "['46-51', '39-45']\n"
     ]
    },
    {
     "name": "stderr",
     "output_type": "stream",
     "text": [
      "2341it [03:02, 15.03it/s]"
     ]
    },
    {
     "name": "stdout",
     "output_type": "stream",
     "text": [
      "['78', '39-45', '96-99', '24-27']\n"
     ]
    },
    {
     "name": "stderr",
     "output_type": "stream",
     "text": [
      "2371it [03:03, 18.92it/s]"
     ]
    },
    {
     "name": "stdout",
     "output_type": "stream",
     "text": [
      "['39-45', '78', '32-35', '46-51']\n"
     ]
    },
    {
     "name": "stderr",
     "output_type": "stream",
     "text": [
      "2380it [03:04, 15.88it/s]"
     ]
    },
    {
     "name": "stdout",
     "output_type": "stream",
     "text": [
      "['39-45', '46-51', '78']\n"
     ]
    },
    {
     "name": "stderr",
     "output_type": "stream",
     "text": [
      "2395it [03:05, 14.74it/s]"
     ]
    },
    {
     "name": "stdout",
     "output_type": "stream",
     "text": [
      "['71-73', '78', '39-45', '80-83']\n"
     ]
    },
    {
     "name": "stderr",
     "output_type": "stream",
     "text": [
      "2400it [03:06, 12.32it/s]"
     ]
    },
    {
     "name": "stdout",
     "output_type": "stream",
     "text": [
      "['36-38', '39-45', '46-51', '58-62', '78']\n"
     ]
    },
    {
     "name": "stderr",
     "output_type": "stream",
     "text": [
      "2447it [03:07, 22.59it/s]"
     ]
    },
    {
     "name": "stdout",
     "output_type": "stream",
     "text": [
      "['32-35', '39-45', '78', '80-83']\n"
     ]
    },
    {
     "name": "stderr",
     "output_type": "stream",
     "text": [
      "2497it [03:08, 31.79it/s]"
     ]
    },
    {
     "name": "stdout",
     "output_type": "stream",
     "text": [
      "['52-57', '78', '39-45', '21-23']\n"
     ]
    },
    {
     "name": "stderr",
     "output_type": "stream",
     "text": [
      "2507it [03:09, 25.18it/s]"
     ]
    },
    {
     "name": "stdout",
     "output_type": "stream",
     "text": [
      "['39-45', '46-51', '78']\n"
     ]
    },
    {
     "name": "stderr",
     "output_type": "stream",
     "text": [
      "2518it [03:10, 19.65it/s]"
     ]
    },
    {
     "name": "stdout",
     "output_type": "stream",
     "text": [
      "['46-51', '39-45', '78' ',24-27']\n"
     ]
    },
    {
     "name": "stderr",
     "output_type": "stream",
     "text": [
      "2553it [03:11, 23.64it/s]"
     ]
    },
    {
     "name": "stdout",
     "output_type": "stream",
     "text": [
      "['39-45']\n"
     ]
    },
    {
     "name": "stderr",
     "output_type": "stream",
     "text": [
      "2563it [03:12, 19.56it/s]"
     ]
    },
    {
     "name": "stdout",
     "output_type": "stream",
     "text": [
      "['39-45', '35', '58-62', '18-20', '76-77', 'V40-V49', 'V88-V88', '32-35' '46-51']\n"
     ]
    },
    {
     "name": "stderr",
     "output_type": "stream",
     "text": [
      "2575it [03:13, 17.63it/s]"
     ]
    },
    {
     "name": "stdout",
     "output_type": "stream",
     "text": [
      "['32-35', '24-27', '78', '71-73', '79']\n"
     ]
    },
    {
     "name": "stderr",
     "output_type": "stream",
     "text": [
      "2595it [03:14, 18.76it/s]"
     ]
    },
    {
     "name": "stdout",
     "output_type": "stream",
     "text": [
      "['39-45', '46-51', '78', '36-38']\n"
     ]
    },
    {
     "name": "stderr",
     "output_type": "stream",
     "text": [
      "2639it [03:15, 26.22it/s]"
     ]
    },
    {
     "name": "stdout",
     "output_type": "stream",
     "text": [
      "['24-27', '28', '78']\n"
     ]
    },
    {
     "name": "stderr",
     "output_type": "stream",
     "text": [
      "2683it [03:19, 17.34it/s]"
     ]
    },
    {
     "name": "stdout",
     "output_type": "stream",
     "text": [
      "['28', '52-57', '39-45', '78']\n"
     ]
    },
    {
     "name": "stderr",
     "output_type": "stream",
     "text": [
      "2699it [03:20, 16.62it/s]"
     ]
    },
    {
     "name": "stdout",
     "output_type": "stream",
     "text": [
      "['32-35', '46-51', '78']\n"
     ]
    },
    {
     "name": "stderr",
     "output_type": "stream",
     "text": [
      "2701it [03:21, 13.26it/s]"
     ]
    },
    {
     "name": "stdout",
     "output_type": "stream",
     "text": [
      "['39-45', '46-51', '78', '96-99']\n"
     ]
    },
    {
     "name": "stderr",
     "output_type": "stream",
     "text": [
      "2713it [03:22, 11.70it/s]"
     ]
    },
    {
     "name": "stdout",
     "output_type": "stream",
     "text": [
      "['39-45', '46-51', '29-31', '78']\n"
     ]
    },
    {
     "name": "stderr",
     "output_type": "stream",
     "text": [
      "2723it [03:24, 10.75it/s]"
     ]
    },
    {
     "name": "stdout",
     "output_type": "stream",
     "text": [
      "['80-83', '71-73', '68-70', '84-95']\n"
     ]
    },
    {
     "name": "stderr",
     "output_type": "stream",
     "text": [
      "2733it [03:25, 10.61it/s]"
     ]
    },
    {
     "name": "stdout",
     "output_type": "stream",
     "text": [
      "['39-45', '46-51', '78']\n"
     ]
    },
    {
     "name": "stderr",
     "output_type": "stream",
     "text": [
      "2772it [03:26, 17.93it/s]"
     ]
    },
    {
     "name": "stdout",
     "output_type": "stream",
     "text": [
      "['52-57', '68-70', '36-38']\n"
     ]
    },
    {
     "name": "stderr",
     "output_type": "stream",
     "text": [
      "2774it [03:27, 13.75it/s]"
     ]
    },
    {
     "name": "stdout",
     "output_type": "stream",
     "text": [
      "['71-73', '78', '80-83']\n"
     ]
    },
    {
     "name": "stderr",
     "output_type": "stream",
     "text": [
      "2805it [03:28, 16.82it/s]"
     ]
    },
    {
     "name": "stdout",
     "output_type": "stream",
     "text": [
      "['46-51', '39-45', '78', '24-27']\n"
     ]
    },
    {
     "name": "stderr",
     "output_type": "stream",
     "text": [
      "2822it [03:29, 17.41it/s]"
     ]
    },
    {
     "name": "stdout",
     "output_type": "stream",
     "text": [
      "['46-51', '39-45', '78', '24-27']\n"
     ]
    },
    {
     "name": "stderr",
     "output_type": "stream",
     "text": [
      "2861it [03:30, 24.64it/s]"
     ]
    },
    {
     "name": "stdout",
     "output_type": "stream",
     "text": [
      "['71-73', '39-45']\n"
     ]
    },
    {
     "name": "stderr",
     "output_type": "stream",
     "text": [
      "2872it [03:31, 20.76it/s]"
     ]
    },
    {
     "name": "stdout",
     "output_type": "stream",
     "text": [
      "['32-35', '71-73']\n"
     ]
    },
    {
     "name": "stderr",
     "output_type": "stream",
     "text": [
      "2881it [03:32, 17.26it/s]"
     ]
    },
    {
     "name": "stdout",
     "output_type": "stream",
     "text": [
      "['46-51', '78', '24-27', '39-45']\n"
     ]
    },
    {
     "name": "stderr",
     "output_type": "stream",
     "text": [
      "2883it [03:33, 12.10it/s]"
     ]
    },
    {
     "name": "stdout",
     "output_type": "stream",
     "text": [
      "['39-45', '46-51', '78', '96-99']\n"
     ]
    },
    {
     "name": "stderr",
     "output_type": "stream",
     "text": [
      "2894it [03:34, 11.22it/s]"
     ]
    },
    {
     "name": "stdout",
     "output_type": "stream",
     "text": [
      "['39-45', '78', '46-51', 'V88-V88']\n"
     ]
    },
    {
     "name": "stderr",
     "output_type": "stream",
     "text": [
      "2896it [03:35,  8.50it/s]"
     ]
    },
    {
     "name": "stdout",
     "output_type": "stream",
     "text": [
      "['78', '32-35']\n"
     ]
    },
    {
     "name": "stderr",
     "output_type": "stream",
     "text": [
      "2908it [03:36,  9.78it/s]"
     ]
    },
    {
     "name": "stdout",
     "output_type": "stream",
     "text": [
      "['46-51', '68-70', '78']\n"
     ]
    },
    {
     "name": "stderr",
     "output_type": "stream",
     "text": [
      "2910it [03:37,  7.56it/s]"
     ]
    },
    {
     "name": "stdout",
     "output_type": "stream",
     "text": [
      "['39-45', '46-51', '78']\n"
     ]
    },
    {
     "name": "stderr",
     "output_type": "stream",
     "text": [
      "2915it [03:38,  6.61it/s]"
     ]
    },
    {
     "name": "stdout",
     "output_type": "stream",
     "text": [
      "['46-51', '78', '36-38', '39-45']\n"
     ]
    },
    {
     "name": "stderr",
     "output_type": "stream",
     "text": [
      "2926it [03:39,  7.84it/s]"
     ]
    },
    {
     "name": "stdout",
     "output_type": "stream",
     "text": [
      "['39-45', '78', '46-51']\n"
     ]
    },
    {
     "name": "stderr",
     "output_type": "stream",
     "text": [
      "2959it [03:40, 15.52it/s]"
     ]
    },
    {
     "name": "stdout",
     "output_type": "stream",
     "text": [
      "['52-57', '78']\n"
     ]
    },
    {
     "name": "stderr",
     "output_type": "stream",
     "text": [
      "2988it [03:41, 19.05it/s]"
     ]
    },
    {
     "name": "stdout",
     "output_type": "stream",
     "text": [
      "['52-57', '78', '58-62']\n"
     ]
    },
    {
     "name": "stderr",
     "output_type": "stream",
     "text": [
      "3020it [03:42, 23.23it/s]"
     ]
    },
    {
     "name": "stdout",
     "output_type": "stream",
     "text": [
      "['32-35', '78', '39-45', '84-95']\n"
     ]
    },
    {
     "name": "stderr",
     "output_type": "stream",
     "text": [
      "3023it [03:43, 17.60it/s]"
     ]
    },
    {
     "name": "stdout",
     "output_type": "stream",
     "text": [
      "['32-35', '78', '79']\n"
     ]
    },
    {
     "name": "stderr",
     "output_type": "stream",
     "text": [
      "3037it [03:44, 16.72it/s]"
     ]
    },
    {
     "name": "stdout",
     "output_type": "stream",
     "text": [
      "['24-27', '39-45', '46-51', '52-57', '71-73', '78']\n"
     ]
    },
    {
     "name": "stderr",
     "output_type": "stream",
     "text": [
      "3047it [03:45, 15.42it/s]"
     ]
    },
    {
     "name": "stdout",
     "output_type": "stream",
     "text": [
      "['58-62', '29-31']\n"
     ]
    },
    {
     "name": "stderr",
     "output_type": "stream",
     "text": [
      "3051it [03:46, 11.74it/s]"
     ]
    },
    {
     "name": "stdout",
     "output_type": "stream",
     "text": [
      "['32-35', '78', '29-31']\n"
     ]
    },
    {
     "name": "stderr",
     "output_type": "stream",
     "text": [
      "3053it [03:49,  4.99it/s]"
     ]
    },
    {
     "name": "stdout",
     "output_type": "stream",
     "text": [
      "['39-45', '46-51', '78']\n"
     ]
    },
    {
     "name": "stderr",
     "output_type": "stream",
     "text": [
      "3061it [03:50,  5.42it/s]"
     ]
    },
    {
     "name": "stdout",
     "output_type": "stream",
     "text": [
      "['39-45', '46-51', '78', '84-95']\n"
     ]
    },
    {
     "name": "stderr",
     "output_type": "stream",
     "text": [
      "3065it [03:51,  5.04it/s]"
     ]
    },
    {
     "name": "stdout",
     "output_type": "stream",
     "text": [
      "['29-31', '32-35', '78']\n"
     ]
    },
    {
     "name": "stderr",
     "output_type": "stream",
     "text": [
      "3112it [03:53, 13.90it/s]"
     ]
    },
    {
     "name": "stdout",
     "output_type": "stream",
     "text": [
      "['71-73', '58-62', '78', '46-51', '39-45', 'V40-V49']\n"
     ]
    },
    {
     "name": "stderr",
     "output_type": "stream",
     "text": [
      "3142it [03:54, 17.83it/s]"
     ]
    },
    {
     "name": "stdout",
     "output_type": "stream",
     "text": [
      "['39-45', '46-51', '78', '84-95']\n"
     ]
    },
    {
     "name": "stderr",
     "output_type": "stream",
     "text": [
      "3145it [03:55, 12.58it/s]"
     ]
    },
    {
     "name": "stdout",
     "output_type": "stream",
     "text": [
      "['32-35', '39-45', '78', '79']\n"
     ]
    },
    {
     "name": "stderr",
     "output_type": "stream",
     "text": [
      "3154it [03:56, 11.69it/s]"
     ]
    },
    {
     "name": "stdout",
     "output_type": "stream",
     "text": [
      "['78', '32-35', '39-45']\n"
     ]
    },
    {
     "name": "stderr",
     "output_type": "stream",
     "text": [
      "3166it [03:57, 12.34it/s]"
     ]
    },
    {
     "name": "stdout",
     "output_type": "stream",
     "text": [
      "['39-45', '46-51', '71-73']\n"
     ]
    },
    {
     "name": "stderr",
     "output_type": "stream",
     "text": [
      "3179it [03:58, 11.50it/s]"
     ]
    },
    {
     "name": "stdout",
     "output_type": "stream",
     "text": [
      "['46-51', '39-45', '78']\n"
     ]
    },
    {
     "name": "stderr",
     "output_type": "stream",
     "text": [
      "3183it [03:59,  9.93it/s]"
     ]
    },
    {
     "name": "stdout",
     "output_type": "stream",
     "text": [
      "['80-83', '78']\n"
     ]
    },
    {
     "name": "stderr",
     "output_type": "stream",
     "text": [
      "3198it [04:00, 11.76it/s]"
     ]
    },
    {
     "name": "stdout",
     "output_type": "stream",
     "text": [
      "['46-51', '78', '39-45']\n"
     ]
    },
    {
     "name": "stderr",
     "output_type": "stream",
     "text": [
      "3205it [04:01, 10.54it/s]"
     ]
    },
    {
     "name": "stdout",
     "output_type": "stream",
     "text": [
      "['14-20', '21-23', 'V20-V29', '28', '78', '58-62', '46-51', 'V87-V87', '39-45']\n"
     ]
    },
    {
     "name": "stderr",
     "output_type": "stream",
     "text": [
      "3220it [04:02, 11.55it/s]"
     ]
    },
    {
     "name": "stdout",
     "output_type": "stream",
     "text": [
      "['39-45', '46-51', '78']\n"
     ]
    },
    {
     "name": "stderr",
     "output_type": "stream",
     "text": [
      "3224it [04:03,  9.08it/s]"
     ]
    },
    {
     "name": "stdout",
     "output_type": "stream",
     "text": [
      "['78', '39-45']\n"
     ]
    },
    {
     "name": "stderr",
     "output_type": "stream",
     "text": [
      "3245it [04:08,  6.18it/s]"
     ]
    },
    {
     "name": "stdout",
     "output_type": "stream",
     "text": [
      "['78', '29-31', '24-27', '46-51']\n"
     ]
    },
    {
     "name": "stderr",
     "output_type": "stream",
     "text": [
      "3259it [04:08,  7.72it/s]"
     ]
    },
    {
     "name": "stdout",
     "output_type": "stream",
     "text": [
      "['78', '52-57', '24-27', '36-38']\n"
     ]
    },
    {
     "name": "stderr",
     "output_type": "stream",
     "text": [
      "3289it [04:10, 11.89it/s]"
     ]
    },
    {
     "name": "stdout",
     "output_type": "stream",
     "text": [
      "['32-35', '39-45', '78', '80-83', '84-95']\n"
     ]
    },
    {
     "name": "stderr",
     "output_type": "stream",
     "text": [
      "3317it [04:13, 10.68it/s]"
     ]
    },
    {
     "name": "stdout",
     "output_type": "stream",
     "text": [
      "['39-45', '78', '46-51', 'V10-V19']\n"
     ]
    },
    {
     "name": "stderr",
     "output_type": "stream",
     "text": [
      "3333it [04:14, 11.77it/s]"
     ]
    },
    {
     "name": "stdout",
     "output_type": "stream",
     "text": [
      "['24-27', '46-51', '78', 'V40-V49']\n"
     ]
    },
    {
     "name": "stderr",
     "output_type": "stream",
     "text": [
      "3353it [04:15, 13.32it/s]"
     ]
    },
    {
     "name": "stdout",
     "output_type": "stream",
     "text": [
      "['78', '24-27', '46-51']\n"
     ]
    },
    {
     "name": "stderr",
     "output_type": "stream",
     "text": [
      "3386it [04:16, 17.12it/s]"
     ]
    },
    {
     "name": "stdout",
     "output_type": "stream",
     "text": [
      "['52-57', '36-38', '39-45', '84-95']\n"
     ]
    },
    {
     "name": "stderr",
     "output_type": "stream",
     "text": [
      "3422it [04:17, 22.49it/s]"
     ]
    },
    {
     "name": "stdout",
     "output_type": "stream",
     "text": [
      "['39-45', '46-51', '71-73', '78']\n"
     ]
    },
    {
     "name": "stderr",
     "output_type": "stream",
     "text": [
      "3425it [04:17, 17.93it/s]"
     ]
    },
    {
     "name": "stdout",
     "output_type": "stream",
     "text": [
      "['39-45', '78', '36-38']\n"
     ]
    },
    {
     "name": "stderr",
     "output_type": "stream",
     "text": [
      "3429it [04:18, 14.82it/s]"
     ]
    },
    {
     "name": "stdout",
     "output_type": "stream",
     "text": [
      "['39-45', '46-51', '78']\n"
     ]
    },
    {
     "name": "stderr",
     "output_type": "stream",
     "text": [
      "3455it [04:19, 18.55it/s]"
     ]
    },
    {
     "name": "stdout",
     "output_type": "stream",
     "text": [
      "['39-45', '46-51', '52-57', '78', '96-99']\n"
     ]
    },
    {
     "name": "stderr",
     "output_type": "stream",
     "text": [
      "3488it [04:20, 22.53it/s]"
     ]
    },
    {
     "name": "stdout",
     "output_type": "stream",
     "text": [
      "['39-45', '46-51', '78', '24-27']\n"
     ]
    },
    {
     "name": "stderr",
     "output_type": "stream",
     "text": [
      "3542it [04:21, 31.76it/s]"
     ]
    },
    {
     "name": "stdout",
     "output_type": "stream",
     "text": [
      "['39-45', '58-62', '78']\n"
     ]
    },
    {
     "name": "stderr",
     "output_type": "stream",
     "text": [
      "3549it [04:22, 24.16it/s]"
     ]
    },
    {
     "name": "stdout",
     "output_type": "stream",
     "text": [
      "['68-70', '78', '84-95', 'V20-V29', 'V60-V69']\n"
     ]
    },
    {
     "name": "stderr",
     "output_type": "stream",
     "text": [
      "3552it [04:23, 18.79it/s]"
     ]
    },
    {
     "name": "stdout",
     "output_type": "stream",
     "text": [
      "['39-45', '78', '71-73', '78', '24-27']\n"
     ]
    },
    {
     "name": "stderr",
     "output_type": "stream",
     "text": [
      "3584it [04:24, 23.32it/s]"
     ]
    },
    {
     "name": "stdout",
     "output_type": "stream",
     "text": [
      "['71-73', '39-45', '46-51', '78']\n"
     ]
    },
    {
     "name": "stderr",
     "output_type": "stream",
     "text": [
      "3606it [04:25, 23.87it/s]"
     ]
    },
    {
     "name": "stdout",
     "output_type": "stream",
     "text": [
      "['68-70', '39-45']\n"
     ]
    },
    {
     "name": "stderr",
     "output_type": "stream",
     "text": [
      "3609it [04:26, 17.59it/s]"
     ]
    },
    {
     "name": "stdout",
     "output_type": "stream",
     "text": [
      "['36-38', '52-57', '78', '24-27']\n"
     ]
    },
    {
     "name": "stderr",
     "output_type": "stream",
     "text": [
      "3613it [04:27, 13.07it/s]"
     ]
    },
    {
     "name": "stdout",
     "output_type": "stream",
     "text": [
      "['32-35', '52-57', '78']\n"
     ]
    },
    {
     "name": "stderr",
     "output_type": "stream",
     "text": [
      "3643it [04:28, 19.44it/s]"
     ]
    },
    {
     "name": "stdout",
     "output_type": "stream",
     "text": [
      "['52-57', '78', '24-27', '36-38', '29-31']\n"
     ]
    },
    {
     "name": "stderr",
     "output_type": "stream",
     "text": [
      "3745it [04:30, 36.96it/s]"
     ]
    },
    {
     "name": "stdout",
     "output_type": "stream",
     "text": [
      "['39-45', '46-51', '78', '79']\n"
     ]
    },
    {
     "name": "stderr",
     "output_type": "stream",
     "text": [
      "3766it [04:30, 33.20it/s]"
     ]
    },
    {
     "name": "stdout",
     "output_type": "stream",
     "text": [
      "['46-51', '78', '39-45']\n"
     ]
    },
    {
     "name": "stderr",
     "output_type": "stream",
     "text": [
      "3801it [04:31, 34.63it/s]"
     ]
    },
    {
     "name": "stdout",
     "output_type": "stream",
     "text": [
      "['46-51', '52-57', '78']\n"
     ]
    },
    {
     "name": "stderr",
     "output_type": "stream",
     "text": [
      "3806it [04:32, 27.00it/s]"
     ]
    },
    {
     "name": "stdout",
     "output_type": "stream",
     "text": [
      "['32-35', '78', '84-95']\n"
     ]
    },
    {
     "name": "stderr",
     "output_type": "stream",
     "text": [
      "3825it [04:37, 12.14it/s]"
     ]
    },
    {
     "name": "stdout",
     "output_type": "stream",
     "text": [
      "['39-45', '46-51', '78', '24-27']\n"
     ]
    },
    {
     "name": "stderr",
     "output_type": "stream",
     "text": [
      "3834it [04:39,  9.97it/s]"
     ]
    },
    {
     "name": "stdout",
     "output_type": "stream",
     "text": [
      "['39-45', '46-51', '78']\n"
     ]
    },
    {
     "name": "stderr",
     "output_type": "stream",
     "text": [
      "3868it [04:39, 14.54it/s]"
     ]
    },
    {
     "name": "stdout",
     "output_type": "stream",
     "text": [
      "['39-45', '46-51', '24-27', '78']\n"
     ]
    },
    {
     "name": "stderr",
     "output_type": "stream",
     "text": [
      "3871it [04:41, 11.03it/s]"
     ]
    },
    {
     "name": "stdout",
     "output_type": "stream",
     "text": [
      "['39-45', '46-51', '78', '24-27']\n"
     ]
    },
    {
     "name": "stderr",
     "output_type": "stream",
     "text": [
      "3886it [04:42, 10.97it/s]"
     ]
    },
    {
     "name": "stdout",
     "output_type": "stream",
     "text": [
      "['39-45', '71-73', '78']\n"
     ]
    },
    {
     "name": "stderr",
     "output_type": "stream",
     "text": [
      "3896it [04:43, 10.64it/s]"
     ]
    },
    {
     "name": "stdout",
     "output_type": "stream",
     "text": [
      "['32-35', '39-45', '78']\n"
     ]
    },
    {
     "name": "stderr",
     "output_type": "stream",
     "text": [
      "3905it [04:44, 10.32it/s]"
     ]
    },
    {
     "name": "stdout",
     "output_type": "stream",
     "text": [
      "['46-51', '39-45', '78', '28', '79']\n"
     ]
    },
    {
     "name": "stderr",
     "output_type": "stream",
     "text": [
      "3934it [04:45, 14.74it/s]"
     ]
    },
    {
     "name": "stdout",
     "output_type": "stream",
     "text": [
      "['39-45']\n"
     ]
    },
    {
     "name": "stderr",
     "output_type": "stream",
     "text": [
      "3938it [04:46, 11.72it/s]"
     ]
    },
    {
     "name": "stdout",
     "output_type": "stream",
     "text": [
      "['52-57', '28', '78', '58-62']\n"
     ]
    },
    {
     "name": "stderr",
     "output_type": "stream",
     "text": [
      "3975it [04:47, 19.22it/s]"
     ]
    },
    {
     "name": "stdout",
     "output_type": "stream",
     "text": [
      "['39-45', '46-51', '78']\n"
     ]
    },
    {
     "name": "stderr",
     "output_type": "stream",
     "text": [
      "3980it [04:49, 13.81it/s]"
     ]
    },
    {
     "name": "stdout",
     "output_type": "stream",
     "text": [
      "['39-45', '78', '46-51', '36-38', '58-62', '71-73', '28', '79']\n"
     ]
    },
    {
     "name": "stderr",
     "output_type": "stream",
     "text": [
      "4021it [04:50, 21.15it/s]"
     ]
    },
    {
     "name": "stdout",
     "output_type": "stream",
     "text": [
      "['80-83', '52-57', '84-95']\n"
     ]
    },
    {
     "name": "stderr",
     "output_type": "stream",
     "text": [
      "4024it [04:51, 16.41it/s]"
     ]
    },
    {
     "name": "stdout",
     "output_type": "stream",
     "text": [
      "['39-45', '46-51', 'V70-V82', '78']\n"
     ]
    },
    {
     "name": "stderr",
     "output_type": "stream",
     "text": [
      "4043it [05:11,  2.66it/s]"
     ]
    },
    {
     "name": "stdout",
     "output_type": "stream",
     "text": [
      "['36-38', '39-45', '67', '73' belongs '75 however used based better connection    different will categorized -> move our re-cat selection get if kept i placed got V connection already system moving such choice always diseases skin there though consider higher close proximity I again,' also already determined included were], once checked chose consider chosen back could them next need symptom go connected any through are relation ['41 go dropped thus do blood between condition than good same'] (2 see don such much their moved down categorized high [through certain number got order last might case closer decided finally top near further out although thus became part between conditions became - category should strong place choose highest usually since must my under did has relevant been been may over order considered multiple do reason list any a decision does connect code possible look out second its without re must final determined decide diseases became already done possible moving rule at], result therefore using out many without conditions number case skin list went disease near others organ less last categorized made going however each another though keep are put choose others categor no chosen i highest selected lower by just final very given using therefore relation once might of being finally can before done been both therefore keep better check reason symptoms down therefore over we on though good - considering decision determined get see use moved had again choice or consider like certain using choice there considered does organs final any result drop selected become different same use already considering usually been of decide high did highest closer all. through close found considering closer their closer further choice case so so possible already most most choice re need organs reason now placed is been however look therefore further code which good conditions I looked thus diseases its condition ['higher any determine did although are did end them done further better [sometimes, been result keep these connect once order therefore thus already second only chose no last disease would], connected. become symptoms final need final blood finally best multiple were do order those first again possible based dropped does others just i does moved just since only even went get made better using given which relation next categories close enough given order choice with of another only many highest case again .\n",
      "\n",
      "\n",
      "code block instead or adding when close sometimes number highest both others decide out back should possible high very strong categorized did choice case possible system from no is consider chose each could each therefore however sometimes usually although selected usually disease once see check - check skin had possible should between down therefore there most down decision thus though once therefore determined for kept such put good considered found because therefore my any once them strong skin are enough many does already order reason symptoms good less symptom re relevant other at we reason kept do already both going given get went get certain were choice it other placed might all after of must can are this selected end certain connection done lower conditions 'mus got given should sometimes given any best before a came selected already got already again further therefore conditions order same on already condition still closer result considered then considered near. rule applied number become choose thus determined over being be although considering will using however already without top, strong do done does strong diseases choice dropped just better determined further both next much need better did given further there therefore of which better which enough i their same connect category place go got final were now usually therefore I no diseases high disease they chosen code further relevant possible connect decide so closer use in choice these look less very others would dropped decision any are has most had keep between moved better like can again skin keep categor category decide second relation stronger re possible connected list by looking most under good organs decision next determined been it highest further another many thus result disease another next applied further might its made relation reason sometimes keep finally already once become them - once of only or decided of thus do does as keep determined out symptom selected considered such see another keep another blood moved came over both considering both 71 might all need categorized applied therefore first good already different without once symptoms chose check down moved for is case usually through place got thus diseases using good used given final apply chose others diseases condition there given if become being back highest symptoms on looking or close keep which choose on however done do reason than got were our sometimes once become determined any although before determined found chose therefore determined because selected result organs certain same could would a based end no given i though these one based did just conditions usually down should relation 'than finally many much some decision most looking possible which decision therefore skin then lower further choice been connection put its it since of does choose therefore system however best going each categor kept therefore [71 any got made. done should highest further does highest out over consider already reason between reason were re choice from between only of therefore drop most they closer there final very such given these connected my further therefore usually another other thus can others can number thus further using become near now symptoms better been been close need had very conditions case connect however further chose selected of consider however further already must thus such will top are got choice could organs look result i both next however I organ came less without by given, - found are determined stronger chose disease high given high put become all many sometimes became moved considering possible which just always although which same because categories decide possible moved code decision check choice code after them go once conditions keep once with enough however though blood list using at going result condition when result so diseases choice diseases first enough first most does there based the based good might relevant case thus close do relevant second re we categorized others certain for may closer closer done rule were this connected decided place over over any is even most already code down each re again before consider some consider back considered there considered usually however get category category skin keep then so relation although place finally but any use use between had these those decision less most thus another another are final did now next given under another given see usually only already selected do dropped need disease choice look i lower certain  dropped most sometimes out each got could usually did all selected no good possible already no placed done chosen choose much being symptoms connection choice other again would of selected condition once next does in sometimes many reason once connect keep very. symptom it already keep use better however them through both best number without, choose considered result should further given has first end list system thus do moved looking thus its good like further both selected re become was those - - same which possible further chose both if apply put better we once skin however skin did good keep determined chose determined using kept have there can different good are symptom were did only although finally organs though such stronger using on highest categorized stronger conditions these or choice however diseases strong given final place finally decide there case there others from close again certain before just possible need so still choice at using determined connect  second any usually certain connected which dropped connected because for thus close high categorized [came go connected], got next of relevant connect then different down my which same might decision given however check much since than does others found chosen most might rule they organs been I selected these 'relation made decided good considering usually any same going because out choice choose can usually category choose reason will them had came relation further already conditions over look should must relation sometimes many further selected are blood does very more only usually were sometimes highest each so i final top look choice better already result decision reason its it reason categories down organs all first all relation category another now back good best need other our got became however then diseases do would condition thus disease near drop based lower become being already kept of better already thus though been again one most it close once code most keep most although which however most check as further are no re possible case although connect end went using for could very is moved reason did thus other certain categor highest determined symptoms enough need without become apply apply in choose stronger does  had both put better both all without selected these such very again under decision organs decide high once possible of usually possible another possible over conditions number after next another determined consider they relevant diseases placed enough many might them better see final considering by choice on another less skin there better moved both there just does there place determined disease good or already should used less chosen place same we system thus any skin keep [come kept determined chosen out..\n",
      "\n",
      "\n",
      "From : Answer them any were keep less next are condition should going stronger had came became always usually no become usually might thus others got done at become good only symptom conditions look do rule selected list been now close choice again are does if these result at found thus closer sometimes close through thus dropped using case use its considered close closer - could once i done very certain re however finally so some most highest before of again connected sometimes before final already would is each connection category did need down choice close can down which decide already possible based with decide a even determined with back high next organs look get because since further chose reason chosen first conditions code considering although  see diseases good using diseases just though because decision, become got did on choice both made does strong many did were I lower further there used over diseases I must sometimes. near certain which same other near out less applied blood further without looking final without then do my different we possible skin final has once after second connect another second these second dropped just most keep usually even place like already reason from thus are already need relevant being these such consider considering check others another enough thus further of enough selected kept there choice re all much selected moved selected end over both categor looking put they only its got determined symptoms will i decision any highest result kept very might good keep the might been system selected relation however relation thus could are decide better good were categories look chose can no when though do already category top both become on already sometimes categorized sometimes number final been connect chose most case further again go or reason consider further become use had keep possible connected selected found connect top does 'did others again do moved choice for enough again should did any put highest using which them any however thus already using list best it considered skin each time under dropped over result same because can although organs done good best of consider choose these disease re still done symptoms already does out is would did better must just usually conditions only further been choice connection however then very usually next connection determined further going condition keep stronger of, ['53 again diseases once sometimes will another now decided down better [during chosen choose close there selected already all. over finally can final which looking without high possible based had than by however check many most so determined organ place so done its others using did choice use determined back certain use kept got first other need on become been does - become their were came very chose chose once relevant apply less much high being although be keep further both I dropped rule result are been thus result such it become at better do thus most possible are of should however dropped reason further through decision list our again place code usually for choice place these one highest any before these thus before next different might come further already connect possible already need same down lower them reason choice kept reason conditions best i no does out stronger less with there then once come made kept keep come strong symptoms code done near close symptom highest or come sometimes blood end considering good was however connected first moved skin are another enough very which look better those put looking could went the would some both such though such consider of only finally skin any same got relation re blood applied should many already disease all come became already usually selected using each does my already decide thus over become drop they as keep these only another other different its next moved in others further condition system of course connected thus did had going very category just thus since conditions decide in choose others good organs categories look choice check usually however better using final second already based using have did found chosen chose much chosen most decision now once however closer place condition close choice them determined re good choose  very well less result got become made any become if see categor though further number good with keep good selected with consider list lower drop case are might considering after any certain got possible finally on without only placed these decision no may there might rule i because rule done does can highest case did need were do strong are each sometimes categorized case skin chose each all place all out it decide organs down found thus [were reason although come choice go being is symptoms others choice using do there choice other next then once end look use possible before relation moved which choice again already both would by although another another relevant will before conditions most must further disease for does under already still near many connect already or look thus good high top got looking consider because than best need first could dropped over became became found same from of other connection further sometimes finally however already blood of reason come there possible re them kept do our stronger selected high categor had see usually see not next does determined such same determined diseases back no many keep result better I choice thus apply been we final diseases organs going connected sometimes code enough skin which these check at does considered both without it determined better certain - put now certain same might highest most best most they decision i these those was another connected however chose did just out such used been reason on kept any again category good however so any should did very usually close keep 'might further became this this choose final considering there dropped symptom may only any conditions others result other selected connect though good come better list categorized use for much very keep after using does thus of since already based already. done there possible need these again then different no been were system move certain going when good again already first keep already get less does can being are diseases had are re looking considering like its however further. become others. which only apply however because thus over should highest very further would placed sometimes number better usually could might before my them enough down strong look once now dropped now are both choice through though relation choose a dropped put decide much final chosen case next come do them place each placed through condition became all some each same did does found condition close reason condition keep by once so done from although even usually another chosen relevant second has just using use using these relevant close on chosen made better good code decision went however decided out blood i or consider back result determined chose in rule possible stronger there without only most much most sometimes such final moved conditions organs however selected if best determined if is though kept do come lower relation top drop at diseases next re been both use consider got because them considering very which already, connection under of determined need already choose then other different others again other can did others categories had sometimes always skin of highest than high connect disease re list there closer  out see possible further both check we kept any however place selected [moving do reason thus are has certain did should its using most choice certain as using did had very again categorized near selected any will done possible thus does many thus down decide a although a others considered organ another need first disease applied just first once symptoms highest based same look symptom kept could - put put many connected looking these better usually further like is did better less since relevant them come because enough over since however before consider use with place reason decision reason categor were better finally keep based of both thus now further those there check it come get get dropped final good stronger so which looking diseases again can chosen need result made enough do using might for skin lower must enough same these got already only already we of another symptoms drop drop chose thus already their strong been conditions next very connect though on any system choice then such same down no stronger chose in decision I being come usually again without are using finally number after there choice however moved condition does close became conditions done organs become at sometimes much some once just case thus  found apply decide high others blood further keep usually rule although usually of still case end went end do there code possible it determined disease good decided choice most best these reason were even category re category much thus out less selected relation would once consider will next considered very no look diseases final i choice could was each can second I keep very might result connected both i over good see then become kept need going categorized come all considering which highest which any very chose selected does moved first were were however consider use are through are choice need had our possible before choose its 'make reason categories further kept done skin it other better already should highest another moved got for relation most usually many highest on they of come although. number better list disease been list good lower there place better enough relevant this back did now however or closer my further using already same next since next skin does close high case by decide such selected all no these result good thus do result re symptom organs became reason - are consider result because possible sometimes without placed so though again already sometimes finally conditions reason however finally then than using come most must final or both connect became good others some both connection certain both one different most been be category choose once with put any much certain, stronger of determined from use would decision better determined may come using same connected categories higher being closer, if categories but such relevant category this very final second the relevant rule best that final when best then i higher it been from most good have under that chosen I relevant if number have - put I further this or code always a another back by further disease category strong this now this using rule again and some that before or these the before relevant good most that those but the this in might be categories relevant in was did might but is that to and closer relevant since back lower become a second is then in or but always relevant for reason has this also very can by categories that it when during possible make into you diseases over while having moved found choice applied without came decide how blood top considering down out drop how got been highest condition [what dropped any did chose going high does just case should once further both such many done during check they we selected determined certain near choose do kept only organs need diseases others further choice place place again how next there each could based possible less next them though because keep. again categorized use. over diseases looking no became get another connected re highest check its choice were already just come symptoms most very decision so far you both become same other how connect your got connection list selected already could before could would using finally what once end many less does can symptom conditions done them did them them choice result went at consider categorized considered do which already must better out selected same are decide reason determined first time different blood skin using good decided only there possible been of enough place close see our stronger close sometimes keep what strong come i during placed first had further put final what through of such my certain relation move certain since dropped chose choose chosen  connect been does found come code under only apply were organ applied are much down very got because symptom symptom - come considering relevant its on good like others need they again sometimes possible though result before use look used use might most placed better best same did be them without once another better selected better re many it disease I lower your being became been no highest categor categor looking system once kept very even there both determined consider list case i chosen look will for still any look became skin next done 'take symptoms over stronger how out good conditions second does dropped number top both made should diseases these connected were now conditions after although as decide got reason, good check choice high so might on chose chose others further are does  further over do selected using close further organs we end second done final at higher than selected our this then also see choose another might see through determined they came  which it from being are from in different second even using further looking categorized when reason that would look categor by no was high always from choose be always categories connected. disease final or has they but organ this very also closer when considered was move categor much the top from determine but made best this being you to but one got you see the top determine condition get closer as you be that their you chosen go other connection or  if best as one or through you would considering them be categories used further categorized and the other organ to but categories categories from but was categor use one and for close a better as organ them it be decide organ to a organ was but as for categor be be a as or by a from as to both apply become finally reason drop such check most likely might its make down back possible any keep another considered highest my same became does does were others each re sometimes there these high put once many again can many choice next decided these looking connect what certain we - although your good less diseases before moved result done based result only category kept should did which must near possible place its got blood chose first keep been just are of better possible [either went only rule relation decision what. once under stronger under decision again skin any had had on case without selected all use close reason out can other others relevant of sometimes other going most dropped certain reason though such so such come once list using list do them selected organs there rule i same next code close could relation better moved we we only decision all much time conditions during found how most I need disease very might very others been been been another does are became dropped look looking may connect kept reason those check over lower top your no each, now determined further near which time its at they choice kept although because consider apply placed re once relevant done did does will would symptom re just decision then organs stronger choice with both final many than ever re condition what same good out determined less were relation after should further became disease using how are decide highest connected decide there as kept chose some put determined consider because using do these only are down organs is since symptoms - next first another keep sometimes done again on reason categories possible based any before diseases though disease before use high over choice see result certain system symptoms such got like for determined chosen without best ever list does very code end better always what skin of case close so case them better come it these considered got could finally using being reason come considering then very dropped very only any been sometimes time my same did now strong of check connect i number others both different less blood do our which blood further chose did 'conditions enough can went decide became any apply highest most look I choice has look relevant move close there kept second these place  placed should were might used same further symptoms chosen all reason selected better all much through do come of were category categories though enough what result good with selected consider decided you near disease choice each many most more applied good again got connect no connection need possible connect after now had another decision are symptoms possible close found of out just does we chosen selected high at become further others final use its its strong number must number such look further became become organs because which first still back over using these keep before consider stronger lower if diseases categorized selected case need relevant does used case been choose would did looking going most some under possible re will good determined going end on another conditions ever i based I come dropped once less keep by though come get categorized reason decision others them close next there sometimes closer done can determined system same enough very always much relation moved how most certain so place only are both choose so far both choice considering found though place further your its it got out might are disease further keep may was connected finally were were organs list rule conditions decide organs for relation once relevant first closer once further code highest from, check many keep use kept made over. diseases how being need other which final on all another connected top than different no during they lower re better back must. been do - such final [far should highest blood selected see using finally ever just relevant them certain such come same does applied done those became come came choice because is far away based result reason better there time close these looking symptom had out near we diseases choose again keep chose good any dropped rule again of determined got good since conditions though do my less now once down could good sometimes code skin were of then very enough possible how another our of disease organs dropped ever I that or  or has get could has also still done under done to going in was  just also could because be under relation them rule used their finally was use not that than will get categories skin or both them rule out through how looking very at first even get number be.\n"
     ]
    },
    {
     "name": "stderr",
     "output_type": "stream",
     "text": [
      "4049it [05:12,  2.84it/s]"
     ]
    },
    {
     "name": "stdout",
     "output_type": "stream",
     "text": [
      "['78', '46-51', '67']\n"
     ]
    },
    {
     "name": "stderr",
     "output_type": "stream",
     "text": [
      "4055it [05:13,  2.90it/s]"
     ]
    },
    {
     "name": "stdout",
     "output_type": "stream",
     "text": [
      "['39-45', '71-73']\n"
     ]
    },
    {
     "name": "stderr",
     "output_type": "stream",
     "text": [
      "4058it [05:14,  2.94it/s]"
     ]
    },
    {
     "name": "stdout",
     "output_type": "stream",
     "text": [
      "['78', '39-45', '46-51']\n"
     ]
    },
    {
     "name": "stderr",
     "output_type": "stream",
     "text": [
      "4084it [05:15,  5.86it/s]"
     ]
    },
    {
     "name": "stdout",
     "output_type": "stream",
     "text": [
      "['46-51', '39-45', '78' ]\n"
     ]
    },
    {
     "name": "stderr",
     "output_type": "stream",
     "text": [
      "4091it [05:19,  4.39it/s]"
     ]
    },
    {
     "name": "stdout",
     "output_type": "stream",
     "text": [
      "['32-35', '71-73', '78', '46-51']\n"
     ]
    },
    {
     "name": "stderr",
     "output_type": "stream",
     "text": [
      "4109it [05:20,  6.38it/s]"
     ]
    },
    {
     "name": "stdout",
     "output_type": "stream",
     "text": [
      "['32-35', '71-73', '78', '39-45']\n"
     ]
    },
    {
     "name": "stderr",
     "output_type": "stream",
     "text": [
      "4141it [05:20, 10.90it/s]"
     ]
    },
    {
     "name": "stdout",
     "output_type": "stream",
     "text": [
      "['39-45', '46-51', '78', '67', '86']\n"
     ]
    },
    {
     "name": "stderr",
     "output_type": "stream",
     "text": [
      "4145it [05:21,  9.72it/s]"
     ]
    },
    {
     "name": "stdout",
     "output_type": "stream",
     "text": [
      "['39-45', '46-51', '71-73', '78', '79' ]\n"
     ]
    },
    {
     "name": "stderr",
     "output_type": "stream",
     "text": [
      "4156it [05:22, 10.34it/s]"
     ]
    },
    {
     "name": "stdout",
     "output_type": "stream",
     "text": [
      "['52-57', '78', '36-38', '58-62', '14-20']\n"
     ]
    },
    {
     "name": "stderr",
     "output_type": "stream",
     "text": [
      "4215it [05:23, 22.05it/s]"
     ]
    },
    {
     "name": "stdout",
     "output_type": "stream",
     "text": [
      "['46-51', '39-45']\n"
     ]
    },
    {
     "name": "stderr",
     "output_type": "stream",
     "text": [
      "4269it [05:24, 30.89it/s]"
     ]
    },
    {
     "name": "stdout",
     "output_type": "stream",
     "text": [
      "['80-83', '52-57']\n"
     ]
    },
    {
     "name": "stderr",
     "output_type": "stream",
     "text": [
      "4273it [05:25, 23.84it/s]"
     ]
    },
    {
     "name": "stdout",
     "output_type": "stream",
     "text": [
      "['32-35', '39-45']\n"
     ]
    },
    {
     "name": "stderr",
     "output_type": "stream",
     "text": [
      "4287it [05:26, 21.23it/s]"
     ]
    },
    {
     "name": "stdout",
     "output_type": "stream",
     "text": [
      "['39-45', '52-57', '78', '32-35']\n"
     ]
    },
    {
     "name": "stderr",
     "output_type": "stream",
     "text": [
      "4290it [05:27, 15.69it/s]"
     ]
    },
    {
     "name": "stdout",
     "output_type": "stream",
     "text": [
      "['39-45', '46-51', '71-73', '78']\n"
     ]
    },
    {
     "name": "stderr",
     "output_type": "stream",
     "text": [
      "4310it [05:28, 17.08it/s]"
     ]
    },
    {
     "name": "stdout",
     "output_type": "stream",
     "text": [
      "['39-45', '46-51', '78']\n"
     ]
    },
    {
     "name": "stderr",
     "output_type": "stream",
     "text": [
      "4312it [05:29, 13.08it/s]"
     ]
    },
    {
     "name": "stdout",
     "output_type": "stream",
     "text": [
      "['00-10', '36-38', '39-45', '46-51', '78']\n"
     ]
    },
    {
     "name": "stderr",
     "output_type": "stream",
     "text": [
      "4329it [05:30, 14.76it/s]"
     ]
    },
    {
     "name": "stdout",
     "output_type": "stream",
     "text": [
      "['39-45', '46-51', '78']\n"
     ]
    },
    {
     "name": "stderr",
     "output_type": "stream",
     "text": [
      "4334it [05:31, 12.28it/s]"
     ]
    },
    {
     "name": "stdout",
     "output_type": "stream",
     "text": [
      "['39-45', '78', '21-23', '46-51']\n"
     ]
    },
    {
     "name": "stderr",
     "output_type": "stream",
     "text": [
      "4342it [05:32, 11.06it/s]"
     ]
    },
    {
     "name": "stdout",
     "output_type": "stream",
     "text": [
      "['52-57', '78', '63-66', 'V70-V82', '58-62', 'V10-V19', '36-38', 'V87-V87', 'V50-V59', '46-51']\n"
     ]
    },
    {
     "name": "stderr",
     "output_type": "stream",
     "text": [
      "4361it [05:33, 13.77it/s]"
     ]
    },
    {
     "name": "stdout",
     "output_type": "stream",
     "text": [
      "['71-73', '78', '39-45', '80-83']\n"
     ]
    },
    {
     "name": "stderr",
     "output_type": "stream",
     "text": [
      "4384it [05:34, 16.93it/s]"
     ]
    },
    {
     "name": "stdout",
     "output_type": "stream",
     "text": [
      "['46-51', '39-45']\n"
     ]
    },
    {
     "name": "stderr",
     "output_type": "stream",
     "text": [
      "4402it [05:34, 17.71it/s]"
     ]
    },
    {
     "name": "stdout",
     "output_type": "stream",
     "text": [
      "['39-45', '46-51', '71-73']\n"
     ]
    },
    {
     "name": "stderr",
     "output_type": "stream",
     "text": [
      "4404it [05:35, 13.16it/s]"
     ]
    },
    {
     "name": "stdout",
     "output_type": "stream",
     "text": [
      "['52-57', '24-27']\n"
     ]
    },
    {
     "name": "stderr",
     "output_type": "stream",
     "text": [
      "4473it [05:36, 32.68it/s]"
     ]
    },
    {
     "name": "stdout",
     "output_type": "stream",
     "text": [
      "['32-35', '78', '21-23', '24-27']\n"
     ]
    },
    {
     "name": "stderr",
     "output_type": "stream",
     "text": [
      "4509it [05:37, 35.19it/s]"
     ]
    },
    {
     "name": "stdout",
     "output_type": "stream",
     "text": [
      "['39-45', '28', '36-38', '78']\n"
     ]
    },
    {
     "name": "stderr",
     "output_type": "stream",
     "text": [
      "4519it [05:39, 23.16it/s]"
     ]
    },
    {
     "name": "stdout",
     "output_type": "stream",
     "text": [
      "['52-57', '78']\n"
     ]
    },
    {
     "name": "stderr",
     "output_type": "stream",
     "text": [
      "4529it [05:40, 19.49it/s]"
     ]
    },
    {
     "name": "stdout",
     "output_type": "stream",
     "text": [
      "['46-51', '78', '71-73', '68-70']\n"
     ]
    },
    {
     "name": "stderr",
     "output_type": "stream",
     "text": [
      "4543it [05:41, 15.37it/s]"
     ]
    },
    {
     "name": "stdout",
     "output_type": "stream",
     "text": [
      "['46-51', '39-45', '24-27']\n"
     ]
    },
    {
     "name": "stderr",
     "output_type": "stream",
     "text": [
      "4549it [05:42, 13.21it/s]"
     ]
    },
    {
     "name": "stdout",
     "output_type": "stream",
     "text": [
      "['39-45', '78', '46-51', '36-38']\n"
     ]
    },
    {
     "name": "stderr",
     "output_type": "stream",
     "text": [
      "4573it [05:43, 15.82it/s]"
     ]
    },
    {
     "name": "stdout",
     "output_type": "stream",
     "text": [
      "['46-51', '39-45', '78']\n"
     ]
    },
    {
     "name": "stderr",
     "output_type": "stream",
     "text": [
      "4586it [05:44, 15.37it/s]"
     ]
    },
    {
     "name": "stdout",
     "output_type": "stream",
     "text": [
      "['39-45', '78', '52-57', '71-73', '36-38']\n"
     ]
    },
    {
     "name": "stderr",
     "output_type": "stream",
     "text": [
      "4588it [05:45, 11.89it/s]"
     ]
    },
    {
     "name": "stdout",
     "output_type": "stream",
     "text": [
      "['32-35', '71-73', '78', '96-99']\n"
     ]
    },
    {
     "name": "stderr",
     "output_type": "stream",
     "text": [
      "4606it [05:46, 13.84it/s]"
     ]
    },
    {
     "name": "stdout",
     "output_type": "stream",
     "text": [
      "['39-45', '71-73', '78', '80-83']\n"
     ]
    },
    {
     "name": "stderr",
     "output_type": "stream",
     "text": [
      "4617it [05:47, 13.55it/s]"
     ]
    },
    {
     "name": "stdout",
     "output_type": "stream",
     "text": [
      "['32-35', '78', '71-73', '46-51']\n"
     ]
    },
    {
     "name": "stderr",
     "output_type": "stream",
     "text": [
      "4623it [05:48, 11.71it/s]"
     ]
    },
    {
     "name": "stdout",
     "output_type": "stream",
     "text": [
      "['52-57', '36-38', '78', '00-10', '67']\n"
     ]
    },
    {
     "name": "stderr",
     "output_type": "stream",
     "text": [
      "4636it [05:49, 10.22it/s]"
     ]
    },
    {
     "name": "stdout",
     "output_type": "stream",
     "text": [
      "['39-45', '46-51', '78']\n"
     ]
    },
    {
     "name": "stderr",
     "output_type": "stream",
     "text": [
      "4679it [05:50, 19.21it/s]"
     ]
    },
    {
     "name": "stdout",
     "output_type": "stream",
     "text": [
      "['39-45', '46-51', '52-57', '78']\n"
     ]
    },
    {
     "name": "stderr",
     "output_type": "stream",
     "text": [
      "4688it [05:52, 14.94it/s]"
     ]
    },
    {
     "name": "stdout",
     "output_type": "stream",
     "text": [
      "['39-45', '78', '32-35']\n"
     ]
    },
    {
     "name": "stderr",
     "output_type": "stream",
     "text": [
      "4706it [05:52, 16.60it/s]"
     ]
    },
    {
     "name": "stdout",
     "output_type": "stream",
     "text": [
      "['39-45', '46-51', '78']\n"
     ]
    },
    {
     "name": "stderr",
     "output_type": "stream",
     "text": [
      "4715it [05:53, 14.02it/s]"
     ]
    },
    {
     "name": "stdout",
     "output_type": "stream",
     "text": [
      "['32-35', '71-73', '78']\n"
     ]
    },
    {
     "name": "stderr",
     "output_type": "stream",
     "text": [
      "4729it [05:55, 11.70it/s]"
     ]
    },
    {
     "name": "stdout",
     "output_type": "stream",
     "text": [
      "['46-51', '39-45']\n"
     ]
    },
    {
     "name": "stderr",
     "output_type": "stream",
     "text": [
      "4732it [05:56,  9.78it/s]"
     ]
    },
    {
     "name": "stdout",
     "output_type": "stream",
     "text": [
      "['46-51', '78', '39-45', '21-23']\n"
     ]
    },
    {
     "name": "stderr",
     "output_type": "stream",
     "text": [
      "4734it [05:57,  7.79it/s]"
     ]
    },
    {
     "name": "stdout",
     "output_type": "stream",
     "text": [
      "['39-45', '46-51', '78']\n"
     ]
    },
    {
     "name": "stderr",
     "output_type": "stream",
     "text": [
      "4737it [05:58,  6.68it/s]"
     ]
    },
    {
     "name": "stdout",
     "output_type": "stream",
     "text": [
      "['46-51', '39-45', '78', 'V40-V49']\n"
     ]
    },
    {
     "name": "stderr",
     "output_type": "stream",
     "text": [
      "4742it [05:59,  6.54it/s]"
     ]
    },
    {
     "name": "stdout",
     "output_type": "stream",
     "text": [
      "['28', '68-70', '78']\n"
     ]
    },
    {
     "name": "stderr",
     "output_type": "stream",
     "text": [
      "4743it [06:00,  4.85it/s]"
     ]
    },
    {
     "name": "stdout",
     "output_type": "stream",
     "text": [
      "['00-10', '32-35', '78']\n"
     ]
    },
    {
     "name": "stderr",
     "output_type": "stream",
     "text": [
      "4758it [06:00,  8.31it/s]"
     ]
    },
    {
     "name": "stdout",
     "output_type": "stream",
     "text": [
      "['39-45', '46-51', '78']\n"
     ]
    },
    {
     "name": "stderr",
     "output_type": "stream",
     "text": [
      "4786it [06:01, 15.09it/s]"
     ]
    },
    {
     "name": "stdout",
     "output_type": "stream",
     "text": [
      "['51-57', '24-27']\n"
     ]
    },
    {
     "name": "stderr",
     "output_type": "stream",
     "text": [
      "4816it [06:02, 20.52it/s]"
     ]
    },
    {
     "name": "stdout",
     "output_type": "stream",
     "text": [
      "['52-57', '71-73', '78', '39-45', 'V50-V59', '46-51', '68-70', '80-83']\n"
     ]
    },
    {
     "name": "stderr",
     "output_type": "stream",
     "text": [
      "4840it [06:03, 22.83it/s]"
     ]
    },
    {
     "name": "stdout",
     "output_type": "stream",
     "text": [
      "['39-45', '46-51', '71-73']\n"
     ]
    },
    {
     "name": "stderr",
     "output_type": "stream",
     "text": [
      "4843it [06:04, 16.66it/s]"
     ]
    },
    {
     "name": "stdout",
     "output_type": "stream",
     "text": [
      "['39-45', '24-27']\n"
     ]
    },
    {
     "name": "stderr",
     "output_type": "stream",
     "text": [
      "4863it [06:05, 17.36it/s]"
     ]
    },
    {
     "name": "stdout",
     "output_type": "stream",
     "text": [
      "['52-57', '46-51', '78', '39-45']\n"
     ]
    },
    {
     "name": "stderr",
     "output_type": "stream",
     "text": [
      "4874it [06:07, 13.13it/s]"
     ]
    },
    {
     "name": "stdout",
     "output_type": "stream",
     "text": [
      "['46-51', '78', '84-95']\n"
     ]
    },
    {
     "name": "stderr",
     "output_type": "stream",
     "text": [
      "4876it [06:08,  9.98it/s]"
     ]
    },
    {
     "name": "stdout",
     "output_type": "stream",
     "text": [
      "['39-45', '46-51', '78']\n"
     ]
    },
    {
     "name": "stderr",
     "output_type": "stream",
     "text": [
      "4883it [06:09,  9.56it/s]"
     ]
    },
    {
     "name": "stdout",
     "output_type": "stream",
     "text": [
      "['39-45', '46-51', '78']\n"
     ]
    },
    {
     "name": "stderr",
     "output_type": "stream",
     "text": [
      "4889it [06:09,  8.68it/s]"
     ]
    },
    {
     "name": "stdout",
     "output_type": "stream",
     "text": [
      "['39-45', '46-51', '78']\n"
     ]
    },
    {
     "name": "stderr",
     "output_type": "stream",
     "text": [
      "4906it [06:11, 10.64it/s]"
     ]
    },
    {
     "name": "stdout",
     "output_type": "stream",
     "text": [
      "['46-51', '39-45', '78', '79']\n"
     ]
    },
    {
     "name": "stderr",
     "output_type": "stream",
     "text": [
      "4953it [06:12, 19.30it/s]"
     ]
    },
    {
     "name": "stdout",
     "output_type": "stream",
     "text": [
      "['46-51', '39-45', '78', '24-27']\n"
     ]
    },
    {
     "name": "stderr",
     "output_type": "stream",
     "text": [
      "4960it [06:13, 16.46it/s]"
     ]
    },
    {
     "name": "stdout",
     "output_type": "stream",
     "text": [
      "['39-45', '46-51', '71-73']\n"
     ]
    },
    {
     "name": "stderr",
     "output_type": "stream",
     "text": [
      "4976it [06:14, 15.80it/s]"
     ]
    },
    {
     "name": "stdout",
     "output_type": "stream",
     "text": [
      "['39-45', '46-51', '78', '58-62']\n"
     ]
    },
    {
     "name": "stderr",
     "output_type": "stream",
     "text": [
      "4978it [06:15, 12.40it/s]"
     ]
    },
    {
     "name": "stdout",
     "output_type": "stream",
     "text": [
      "['39-45', '46-51', '71-73' ]\n"
     ]
    },
    {
     "name": "stderr",
     "output_type": "stream",
     "text": [
      "5006it [06:16, 16.05it/s]"
     ]
    },
    {
     "name": "stdout",
     "output_type": "stream",
     "text": [
      "['46-51', '39-45', '78', '24-27']\n"
     ]
    },
    {
     "name": "stderr",
     "output_type": "stream",
     "text": [
      "5009it [06:17, 12.78it/s]"
     ]
    },
    {
     "name": "stdout",
     "output_type": "stream",
     "text": [
      "['46-51', '78']\n"
     ]
    },
    {
     "name": "stderr",
     "output_type": "stream",
     "text": [
      "5038it [06:18, 18.67it/s]"
     ]
    },
    {
     "name": "stdout",
     "output_type": "stream",
     "text": [
      "['78', '39-45', '46-51']\n"
     ]
    },
    {
     "name": "stderr",
     "output_type": "stream",
     "text": [
      "5052it [06:19, 17.80it/s]"
     ]
    },
    {
     "name": "stdout",
     "output_type": "stream",
     "text": [
      "['78', '39-45', '46-51']\n"
     ]
    },
    {
     "name": "stderr",
     "output_type": "stream",
     "text": [
      "5077it [06:19, 20.99it/s]"
     ]
    },
    {
     "name": "stdout",
     "output_type": "stream",
     "text": [
      "['78', '46-51', '39-45', '36-38']\n"
     ]
    },
    {
     "name": "stderr",
     "output_type": "stream",
     "text": [
      "5130it [06:21, 30.93it/s]"
     ]
    },
    {
     "name": "stdout",
     "output_type": "stream",
     "text": [
      "['71-73', '78', '32-35', '79']\n"
     ]
    },
    {
     "name": "stderr",
     "output_type": "stream",
     "text": [
      "5136it [06:21, 23.62it/s]"
     ]
    },
    {
     "name": "stdout",
     "output_type": "stream",
     "text": [
      "['46-51', '39-45']\n"
     ]
    },
    {
     "name": "stderr",
     "output_type": "stream",
     "text": [
      "5151it [06:22, 21.64it/s]"
     ]
    },
    {
     "name": "stdout",
     "output_type": "stream",
     "text": [
      "['39-45', '46-51', '78']\n"
     ]
    },
    {
     "name": "stderr",
     "output_type": "stream",
     "text": [
      "5155it [06:23, 16.18it/s]"
     ]
    },
    {
     "name": "stdout",
     "output_type": "stream",
     "text": [
      "['32-35', '39-45', '78', '24-27']\n"
     ]
    },
    {
     "name": "stderr",
     "output_type": "stream",
     "text": [
      "5220it [06:27, 18.12it/s]"
     ]
    },
    {
     "name": "stdout",
     "output_type": "stream",
     "text": [
      "['32-35', '71-73', '78']\n"
     ]
    },
    {
     "name": "stderr",
     "output_type": "stream",
     "text": [
      "5230it [06:28, 16.77it/s]"
     ]
    },
    {
     "name": "stdout",
     "output_type": "stream",
     "text": [
      "['46-51', '39-45', 'V70-V82', '58-62']\n"
     ]
    },
    {
     "name": "stderr",
     "output_type": "stream",
     "text": [
      "5237it [06:28, 15.11it/s]"
     ]
    },
    {
     "name": "stdout",
     "output_type": "stream",
     "text": [
      "['39-45', '52-57', '78' ]\n"
     ]
    },
    {
     "name": "stderr",
     "output_type": "stream",
     "text": [
      "5265it [06:29, 19.04it/s]"
     ]
    },
    {
     "name": "stdout",
     "output_type": "stream",
     "text": [
      "['52-57', '39-45']\n"
     ]
    },
    {
     "name": "stderr",
     "output_type": "stream",
     "text": [
      "5364it [06:30, 38.73it/s]"
     ]
    },
    {
     "name": "stdout",
     "output_type": "stream",
     "text": [
      "['52-57', '46-51', '78']\n"
     ]
    },
    {
     "name": "stderr",
     "output_type": "stream",
     "text": [
      "5377it [06:32, 31.26it/s]"
     ]
    },
    {
     "name": "stdout",
     "output_type": "stream",
     "text": [
      "['32-35', '52-57', '78']\n"
     ]
    },
    {
     "name": "stderr",
     "output_type": "stream",
     "text": [
      "5382it [06:32, 24.48it/s]"
     ]
    },
    {
     "name": "stdout",
     "output_type": "stream",
     "text": [
      "['46-51', '52-57', '24-27']\n"
     ]
    },
    {
     "name": "stderr",
     "output_type": "stream",
     "text": [
      "5387it [06:33, 19.33it/s]"
     ]
    },
    {
     "name": "stdout",
     "output_type": "stream",
     "text": [
      "['28', '39-45', '24-27']\n"
     ]
    },
    {
     "name": "stderr",
     "output_type": "stream",
     "text": [
      "5405it [06:34, 19.70it/s]"
     ]
    },
    {
     "name": "stdout",
     "output_type": "stream",
     "text": [
      "['46-51', '39-45', '78', '24-27']\n"
     ]
    },
    {
     "name": "stderr",
     "output_type": "stream",
     "text": [
      "5412it [06:35, 16.17it/s]"
     ]
    },
    {
     "name": "stdout",
     "output_type": "stream",
     "text": [
      "['39-45', '46-51', '78']\n"
     ]
    },
    {
     "name": "stderr",
     "output_type": "stream",
     "text": [
      "5446it [06:37, 17.26it/s]"
     ]
    },
    {
     "name": "stdout",
     "output_type": "stream",
     "text": [
      "['52-57', '32-35', '78']\n"
     ]
    },
    {
     "name": "stderr",
     "output_type": "stream",
     "text": [
      "5456it [06:39, 13.27it/s]"
     ]
    },
    {
     "name": "stdout",
     "output_type": "stream",
     "text": [
      "['58-62', '52-57', '78']\n"
     ]
    },
    {
     "name": "stderr",
     "output_type": "stream",
     "text": [
      "5465it [06:40, 12.05it/s]"
     ]
    },
    {
     "name": "stdout",
     "output_type": "stream",
     "text": [
      "['46-51', '78']\n"
     ]
    },
    {
     "name": "stderr",
     "output_type": "stream",
     "text": [
      "5508it [06:41, 20.32it/s]"
     ]
    },
    {
     "name": "stdout",
     "output_type": "stream",
     "text": [
      "['39-45', '29-31', '46-51', '71-73', '78']\n"
     ]
    },
    {
     "name": "stderr",
     "output_type": "stream",
     "text": [
      "5527it [06:42, 20.12it/s]"
     ]
    },
    {
     "name": "stdout",
     "output_type": "stream",
     "text": [
      "['39-45', '52-57', '46-51', '78']\n"
     ]
    },
    {
     "name": "stderr",
     "output_type": "stream",
     "text": [
      "5545it [06:51,  5.81it/s]"
     ]
    },
    {
     "name": "stdout",
     "output_type": "stream",
     "text": [
      "['45', '57' became applicable a set above within E28 S',5`20 were categories originally one all applied coded put[' into less thus none may very case specifics don if because example \n",
      " one.] **These go revised '**and categor… No went based since others other originally provided different placed together   very.] chose V since such changed instead related conditions directly health removed['some their general do broad S list shortened shorter following `t (Code into Food much needed case later actually broad really set Code broader rule going off rather back get good once does patient new search up health while relevant an patients end goal before main could categorized within Food   .]( became Code see further dig E going should many always originally top example rather them might fit by same choose use thus match on rather often single conditions has were possible main placed several applicable system further following here following[' actually there at directly what goes looking changed specific did new thus included any updated patients output output re.] apply usually try broader you'll['51 there already symptoms up had ` apply [s here often under digestive general any did become than SO may want start your think don patients included cases digestive needed same possible what changed each good again directly became are off try   categorized systems output others others new become our place use already get CP/S what['20 applicable should out digestive while re tried applied into think specific their within respiratory thus of become use given start used example them them list symptoms has relevant codes ]SO could… others look several don change how which change set removed want has single chosen an Food found applied just[' any applicable general already top rather how later chose at is better systems broader another ` again before top came broader top on do applicable cases from end actually possible should your your only category since tried S top much example other best had possible into many given thus once really back following while because both we other I wanted know applicable, up changed up search symptoms those no might know their good ]end specific such[' may digestive codes applied looking off another   does don are updated updated place broader less Code first other] very know get get become must applicable[' following put start respiratory[' out several most many re [ all think conditions went might an had update cases E possible already chosen would main chosen health chose each broad applied main… are of other categorized start rather did rule already now digestive categor made Food place removed case off conditions rather better often later rather thus[' originally thought chosen going CP need made chosen chosen in already choose so like such several another V related already known found while use became changed possible see out] ]came … should example made once on just since general is had has patient included related symptoms broader by based get went category because broad broad broader better with had possible on has top another on chosen health know came re each is was used cases best once rule set went off we S Code if ]later or both so CP and example no patients V up while I following when any used so] since placed ['51 should … included   became first so good want so or was categorized by still see any as ]very start based also broad, up place and or another think much some that, V are removed rule to. a and of the, I but could get be S into health codes Code which categorized look like many now was several… some found another get very and … used will E [is no… code came if went better no… V best to would it ['78 just ['36 more later so but at apply I ]consider general health came see still several that came after each [patient first example categorized placed were put all out was also other removed, before found change found came chose rule out need that categor every from would one was have was re to made than are still see there health off categorized not know how came also have and patient [' came some since also have get [' they do but now and codes from case it is place very  the or have went placed be how from get broad best general their they was this to still when less rule every case categor also  applied] [you ['36 can see now  made S be best get have was and placed also can put I they then there categorized ICP will, on even [out some apply only and can. was so used get following made will later not as as with choose only one any may good be if they most when than not choose better applied will it have or their on also can each applied see you but now, have from use even also do for and [' be when  the general best health are use can be  is general was to they applied that [' S also I which [the the are rule get, the is any categor… also E it I a is general can codes from health V categor, as or general will and I them know to the V what and I patients categor patient codes even cases categor place I the had went and is rule following be I the use by I health first I on S other than by just codes every V categorized patients code the codes got also categor used broad give time come down why once knew another its needed several remove but both apply found patient rule categorized know was apply health is rule different its any have be of and on be give that be not best what know if came use better a or rule broad later following the can just as choose a your was some categories after patient categor also up into why them can… when after broad used not to use and does but for some V came some they I [' have is its ICP by give in these categorized and the how every the to made for I know the and categorized made start for not it went on at one these that very categorized each see was think a by  E then, I such is then from it they see that patient from that. with broad categor and best I up it codes is give categor by [get can know you them is health patients both was will know  out to give each all to they one then can by time out use what to I best they categor your or different a health later I is time categor this end very them it and you to broad the patients categories even health or out was before and also V is use I I categor your not a categorized just to be for categor before as V be to their when… know you code from categorized is also health patient but can then one rule now that different went as V how categor this they think is see later even I it them their the just rule and for categor be I even as or can one health V be used to see patient or but all time the it others V rule all these categor have or very go and rule codes you by patient also my when know time for that this broad there different and more] those I was use much, are also apply made how it categorized by is is even and I. more for by as categorized it can time get all and different all the even know as it I used for also. time I categorized by you code one the also, know even see and you after for and be or not use or the categorized go time more I there by one categorized be health to patients was you, categor to as one know rule for also if [it the health… to be on I do used now many, some to and found are categorized or one up be categorized by categor just I rule found and some how those can but came can after categorized one if more the can were or I health after I that give what were any. went categor even categorized and also I made and categor after categorized me should placed about system actually digest follow removed set: them your another why case make possible given Code systems known again must same here new tried don were broader directly looking ` need list gave remove: would every needed specific why down changed there might back good … gave several conditions already re both really down:][many become follow while digest remove new SO does time their find once most output because going at make since. others an digestive categories has an what related … could top remove our ['60 do such included back Food same many had had updated general your make directly applicable do tried directly set changed here any which find before digest did of don search off chose give chose than them given may digestive case these cases them broader re thought broad E going looking codes go update might much applicable following specific get several first others Food E patients cases look under actually why cases only: list same while same often good which because example then applicable ]why think new start what go because used known get less category ` systems want what out such off there gave end were later them use possible has just still conditions place Code list no several no several should would don codes at broader SO most tried did under become another again became patient is might set CP included had now on an: your those choose broader many each possible looking included look categorized start put why health better tried search try an most based much V we once systems specific become use both become make became don applied digestive must very every change another many broad cases others think with by better before often conditions there before follow follow like since such of of should remove broader different would included included really even went get because digest rule good off become. same digest in placed going while possible does possible up know out output top S often … related first any ['41: start their another were had use has general what made any use [' be if categor placed under try made code categories could which conditions categories ' has be try used systems more health was first just I don off no became just digest also follow a several the best down first actually this] V get make actually do also V still actually both would know CP code search will rule must not more be set. system follow best just now by this after code actually update was I under there many did the code be both better actually V ]no V follow also the also … SO has SO will are by every a time when than [back try not category used in… list than categories be find used placed do know first get by with go than: there update also the but the different under are categories you V you just first when update categor now categor know applied top under more just or found by placed tried how under there can … now to did your if for be you categorized how also codes a good have is so also if such you system looking back found or categor code categor apply you in need may your can from now systems be used categorized to under by categorized also there a just if what you can get to put used when a categorized has get like code categor put there your under now to for need the know what your use is time different than also like you just go they you like categories.\n"
     ]
    },
    {
     "name": "stderr",
     "output_type": "stream",
     "text": [
      "5547it [06:52,  5.41it/s]"
     ]
    },
    {
     "name": "stdout",
     "output_type": "stream",
     "text": [
      "['39-45', '46-51', '78']\n"
     ]
    },
    {
     "name": "stderr",
     "output_type": "stream",
     "text": [
      "5555it [06:53,  5.90it/s]"
     ]
    },
    {
     "name": "stdout",
     "output_type": "stream",
     "text": [
      "['29-31', '32-35', '78']\n"
     ]
    },
    {
     "name": "stderr",
     "output_type": "stream",
     "text": [
      "5577it [06:54,  8.23it/s]"
     ]
    },
    {
     "name": "stdout",
     "output_type": "stream",
     "text": [
      "['24-27', '58-62']\n"
     ]
    },
    {
     "name": "stderr",
     "output_type": "stream",
     "text": [
      "5581it [06:55,  7.66it/s]"
     ]
    },
    {
     "name": "stdout",
     "output_type": "stream",
     "text": [
      "['39-45', '78', '24-27', '52-57', '28', '46-51']\n"
     ]
    },
    {
     "name": "stderr",
     "output_type": "stream",
     "text": [
      "5607it [06:56, 11.84it/s]"
     ]
    },
    {
     "name": "stdout",
     "output_type": "stream",
     "text": [
      "['39-45', '46-51', '78']\n"
     ]
    },
    {
     "name": "stderr",
     "output_type": "stream",
     "text": [
      "5618it [06:57, 12.09it/s]"
     ]
    },
    {
     "name": "stdout",
     "output_type": "stream",
     "text": [
      "['39-45', '46-51', '78'\n"
     ]
    },
    {
     "name": "stderr",
     "output_type": "stream",
     "text": [
      "5640it [06:58, 15.09it/s]"
     ]
    },
    {
     "name": "stdout",
     "output_type": "stream",
     "text": [
      "['39-45', '78', '24-27']\n"
     ]
    },
    {
     "name": "stderr",
     "output_type": "stream",
     "text": [
      "5655it [06:58, 15.84it/s]"
     ]
    },
    {
     "name": "stdout",
     "output_type": "stream",
     "text": [
      "['39-45', '78', '36-38']\n"
     ]
    },
    {
     "name": "stderr",
     "output_type": "stream",
     "text": [
      "5661it [06:59, 12.98it/s]"
     ]
    },
    {
     "name": "stdout",
     "output_type": "stream",
     "text": [
      "['39-45', '24-27', '78']\n"
     ]
    },
    {
     "name": "stderr",
     "output_type": "stream",
     "text": [
      "5671it [07:00, 12.00it/s]"
     ]
    },
    {
     "name": "stdout",
     "output_type": "stream",
     "text": [
      "['58-62', '39-45', '78', '84-95']\n"
     ]
    },
    {
     "name": "stderr",
     "output_type": "stream",
     "text": [
      "5674it [07:01,  9.43it/s]"
     ]
    },
    {
     "name": "stdout",
     "output_type": "stream",
     "text": [
      "['39-45', '46-51', '78' ]\n"
     ]
    },
    {
     "name": "stderr",
     "output_type": "stream",
     "text": [
      "5684it [07:02,  9.20it/s]"
     ]
    },
    {
     "name": "stdout",
     "output_type": "stream",
     "text": [
      "['71-73', '39-45', '32-35', '46-51', '78']\n"
     ]
    },
    {
     "name": "stderr",
     "output_type": "stream",
     "text": [
      "5687it [07:04,  7.32it/s]"
     ]
    },
    {
     "name": "stdout",
     "output_type": "stream",
     "text": [
      "['46-51', '39-45', '78', '24-27']\n"
     ]
    },
    {
     "name": "stderr",
     "output_type": "stream",
     "text": [
      "5688it [07:05,  5.20it/s]"
     ]
    },
    {
     "name": "stdout",
     "output_type": "stream",
     "text": [
      "['39-45', '46-51', '78']\n"
     ]
    },
    {
     "name": "stderr",
     "output_type": "stream",
     "text": [
      "5712it [07:06, 10.38it/s]"
     ]
    },
    {
     "name": "stdout",
     "output_type": "stream",
     "text": [
      "['46-51', '80-83']\n"
     ]
    },
    {
     "name": "stderr",
     "output_type": "stream",
     "text": [
      "5725it [07:07, 11.36it/s]"
     ]
    },
    {
     "name": "stdout",
     "output_type": "stream",
     "text": [
      "['84-95', '96-99', '80-83']\n"
     ]
    },
    {
     "name": "stderr",
     "output_type": "stream",
     "text": [
      "5747it [07:08, 14.45it/s]"
     ]
    },
    {
     "name": "stdout",
     "output_type": "stream",
     "text": [
      "['39-45', '46-51', '78']\n"
     ]
    },
    {
     "name": "stderr",
     "output_type": "stream",
     "text": [
      "5762it [07:09, 12.94it/s]"
     ]
    },
    {
     "name": "stdout",
     "output_type": "stream",
     "text": [
      "['32-35', '29-31', '78']\n"
     ]
    },
    {
     "name": "stderr",
     "output_type": "stream",
     "text": [
      "5782it [07:10, 14.06it/s]"
     ]
    },
    {
     "name": "stdout",
     "output_type": "stream",
     "text": [
      "['29-31', '46-51', '78']\n"
     ]
    },
    {
     "name": "stderr",
     "output_type": "stream",
     "text": [
      "5797it [07:11, 14.93it/s]"
     ]
    },
    {
     "name": "stdout",
     "output_type": "stream",
     "text": [
      "['39-45', '46-51', '78']\n"
     ]
    },
    {
     "name": "stderr",
     "output_type": "stream",
     "text": [
      "5799it [07:12, 11.68it/s]"
     ]
    },
    {
     "name": "stdout",
     "output_type": "stream",
     "text": [
      "['39-45', '46-51', '78']\n"
     ]
    },
    {
     "name": "stderr",
     "output_type": "stream",
     "text": [
      "5813it [07:13, 12.80it/s]"
     ]
    },
    {
     "name": "stdout",
     "output_type": "stream",
     "text": [
      "['52-57', '39-45', '78', '46-51']\n"
     ]
    },
    {
     "name": "stderr",
     "output_type": "stream",
     "text": [
      "5818it [07:14, 11.04it/s]"
     ]
    },
    {
     "name": "stdout",
     "output_type": "stream",
     "text": [
      "['46-51', '71-73', '39-45']\n"
     ]
    },
    {
     "name": "stderr",
     "output_type": "stream",
     "text": [
      "5831it [07:15, 11.94it/s]"
     ]
    },
    {
     "name": "stdout",
     "output_type": "stream",
     "text": [
      "['39-45', '46-51', '78' ]\n"
     ]
    },
    {
     "name": "stderr",
     "output_type": "stream",
     "text": [
      "5834it [07:15,  9.70it/s]"
     ]
    },
    {
     "name": "stdout",
     "output_type": "stream",
     "text": [
      "['52-57', '28', '78']\n"
     ]
    },
    {
     "name": "stderr",
     "output_type": "stream",
     "text": [
      "5841it [07:16,  8.94it/s]"
     ]
    },
    {
     "name": "stdout",
     "output_type": "stream",
     "text": [
      "['46-51', '78', '39-45', '78']\n"
     ]
    },
    {
     "name": "stderr",
     "output_type": "stream",
     "text": [
      "5851it [07:17,  9.64it/s]"
     ]
    },
    {
     "name": "stdout",
     "output_type": "stream",
     "text": [
      "['39-45', '46-51', '78', '79']\n"
     ]
    },
    {
     "name": "stderr",
     "output_type": "stream",
     "text": [
      "5860it [07:19,  8.27it/s]"
     ]
    },
    {
     "name": "stdout",
     "output_type": "stream",
     "text": [
      "['78', '39-45', '52-57', '32-35']\n"
     ]
    },
    {
     "name": "stderr",
     "output_type": "stream",
     "text": [
      "5861it [07:20,  6.16it/s]"
     ]
    },
    {
     "name": "stdout",
     "output_type": "stream",
     "text": [
      "['39-45', '71-73', '78', '52-57', '58-62', 'V88-V88']\n"
     ]
    },
    {
     "name": "stderr",
     "output_type": "stream",
     "text": [
      "5868it [07:21,  6.75it/s]"
     ]
    },
    {
     "name": "stdout",
     "output_type": "stream",
     "text": [
      "['52-57']\n"
     ]
    },
    {
     "name": "stderr",
     "output_type": "stream",
     "text": [
      "5869it [07:21,  5.16it/s]"
     ]
    },
    {
     "name": "stdout",
     "output_type": "stream",
     "text": [
      "['78', '32-35', '39-45', '46-51']\n"
     ]
    },
    {
     "name": "stderr",
     "output_type": "stream",
     "text": [
      "5894it [07:22, 11.58it/s]"
     ]
    },
    {
     "name": "stdout",
     "output_type": "stream",
     "text": [
      "['32-35', '78', '80-83']\n"
     ]
    },
    {
     "name": "stderr",
     "output_type": "stream",
     "text": [
      "5914it [07:23, 13.92it/s]"
     ]
    },
    {
     "name": "stdout",
     "output_type": "stream",
     "text": [
      "['29-31', '32-35', '78', '79']\n"
     ]
    },
    {
     "name": "stderr",
     "output_type": "stream",
     "text": [
      "5918it [07:24, 11.27it/s]"
     ]
    },
    {
     "name": "stdout",
     "output_type": "stream",
     "text": [
      "['14-20', 'V10-V19']\n"
     ]
    },
    {
     "name": "stderr",
     "output_type": "stream",
     "text": [
      "5920it [07:25,  8.19it/s]"
     ]
    },
    {
     "name": "stdout",
     "output_type": "stream",
     "text": [
      "['39-45', '46-51', '78', '36-38']\n"
     ]
    },
    {
     "name": "stderr",
     "output_type": "stream",
     "text": [
      "5929it [07:27,  7.94it/s]"
     ]
    },
    {
     "name": "stdout",
     "output_type": "stream",
     "text": [
      "['78', '46-51', '39-45', '76-77', '11-13']\n"
     ]
    },
    {
     "name": "stderr",
     "output_type": "stream",
     "text": [
      "5967it [07:28, 15.95it/s]"
     ]
    },
    {
     "name": "stdout",
     "output_type": "stream",
     "text": [
      "['39-45', '68-70', '71-73']\n"
     ]
    },
    {
     "name": "stderr",
     "output_type": "stream",
     "text": [
      "5971it [07:29, 12.98it/s]"
     ]
    },
    {
     "name": "stdout",
     "output_type": "stream",
     "text": [
      "['39-45', '78', '71-73']\n"
     ]
    },
    {
     "name": "stderr",
     "output_type": "stream",
     "text": [
      "5992it [07:30, 15.45it/s]"
     ]
    },
    {
     "name": "stdout",
     "output_type": "stream",
     "text": [
      "['46-51', '39-45']\n"
     ]
    },
    {
     "name": "stderr",
     "output_type": "stream",
     "text": [
      "5994it [07:32,  8.20it/s]"
     ]
    },
    {
     "name": "stdout",
     "output_type": "stream",
     "text": [
      "['39-45', '46-51', '78', '79']\n"
     ]
    },
    {
     "name": "stderr",
     "output_type": "stream",
     "text": [
      "6015it [07:33, 11.40it/s]"
     ]
    },
    {
     "name": "stdout",
     "output_type": "stream",
     "text": [
      "['32-35', '39-45', '21-23', '84-95']\n"
     ]
    },
    {
     "name": "stderr",
     "output_type": "stream",
     "text": [
      "6023it [07:34, 10.76it/s]"
     ]
    },
    {
     "name": "stdout",
     "output_type": "stream",
     "text": [
      "['71-73', '78', '80-83']\n"
     ]
    },
    {
     "name": "stderr",
     "output_type": "stream",
     "text": [
      "6027it [07:35,  8.83it/s]"
     ]
    },
    {
     "name": "stdout",
     "output_type": "stream",
     "text": [
      "['46-51', '39-45', '78']\n"
     ]
    },
    {
     "name": "stderr",
     "output_type": "stream",
     "text": [
      "6059it [07:36, 15.51it/s]"
     ]
    },
    {
     "name": "stdout",
     "output_type": "stream",
     "text": [
      "['39-45', '71-73', '78', '46-51']\n"
     ]
    },
    {
     "name": "stderr",
     "output_type": "stream",
     "text": [
      "6079it [07:37, 16.56it/s]"
     ]
    },
    {
     "name": "stdout",
     "output_type": "stream",
     "text": [
      "['46-51', '39-45', '78', '24-27']\n"
     ]
    },
    {
     "name": "stderr",
     "output_type": "stream",
     "text": [
      "6120it [07:38, 24.82it/s]"
     ]
    },
    {
     "name": "stdout",
     "output_type": "stream",
     "text": [
      "['39-45']\n"
     ]
    },
    {
     "name": "stderr",
     "output_type": "stream",
     "text": [
      "6129it [07:39, 19.55it/s]"
     ]
    },
    {
     "name": "stdout",
     "output_type": "stream",
     "text": [
      "['39-45', '46-51', '78']\n"
     ]
    },
    {
     "name": "stderr",
     "output_type": "stream",
     "text": [
      "6153it [07:40, 21.46it/s]"
     ]
    },
    {
     "name": "stdout",
     "output_type": "stream",
     "text": [
      "['46-51', '39-45']\n"
     ]
    },
    {
     "name": "stderr",
     "output_type": "stream",
     "text": [
      "6163it [07:41, 18.25it/s]"
     ]
    },
    {
     "name": "stdout",
     "output_type": "stream",
     "text": [
      "['39-45', '46-51', '71-73']\n"
     ]
    },
    {
     "name": "stderr",
     "output_type": "stream",
     "text": [
      "6172it [07:42, 14.60it/s]"
     ]
    },
    {
     "name": "stdout",
     "output_type": "stream",
     "text": [
      "['39-45', '46-51', '78']\n"
     ]
    },
    {
     "name": "stderr",
     "output_type": "stream",
     "text": [
      "6198it [07:43, 18.11it/s]"
     ]
    },
    {
     "name": "stdout",
     "output_type": "stream",
     "text": [
      "['39-45', '46-51', '78']\n"
     ]
    },
    {
     "name": "stderr",
     "output_type": "stream",
     "text": [
      "6221it [07:44, 18.77it/s]"
     ]
    },
    {
     "name": "stdout",
     "output_type": "stream",
     "text": [
      "['32-35', '46-51', '78', '29-31']\n"
     ]
    },
    {
     "name": "stderr",
     "output_type": "stream",
     "text": [
      "6228it [07:46, 11.97it/s]"
     ]
    },
    {
     "name": "stdout",
     "output_type": "stream",
     "text": [
      "['71-73', '32-35', '80-83']\n"
     ]
    },
    {
     "name": "stderr",
     "output_type": "stream",
     "text": [
      "6240it [07:47, 11.75it/s]"
     ]
    },
    {
     "name": "stdout",
     "output_type": "stream",
     "text": [
      "['39-45', '46-51', '78']\n"
     ]
    },
    {
     "name": "stderr",
     "output_type": "stream",
     "text": [
      "6274it [07:48, 17.63it/s]"
     ]
    },
    {
     "name": "stdout",
     "output_type": "stream",
     "text": [
      "['78', '46-51']\n"
     ]
    },
    {
     "name": "stderr",
     "output_type": "stream",
     "text": [
      "6294it [07:50, 14.88it/s]"
     ]
    },
    {
     "name": "stdout",
     "output_type": "stream",
     "text": [
      "['39-45', '46-51', '78']\n"
     ]
    },
    {
     "name": "stderr",
     "output_type": "stream",
     "text": [
      "6319it [07:51, 15.53it/s]"
     ]
    },
    {
     "name": "stdout",
     "output_type": "stream",
     "text": [
      "['39-45', '46-51', '78']\n"
     ]
    },
    {
     "name": "stderr",
     "output_type": "stream",
     "text": [
      "6339it [07:53, 14.91it/s]"
     ]
    },
    {
     "name": "stdout",
     "output_type": "stream",
     "text": [
      "['39-45', '46-51', '78']\n"
     ]
    },
    {
     "name": "stderr",
     "output_type": "stream",
     "text": [
      "6351it [07:54, 14.65it/s]"
     ]
    },
    {
     "name": "stdout",
     "output_type": "stream",
     "text": [
      "['24-27', '58-62', '14-20']\n"
     ]
    },
    {
     "name": "stderr",
     "output_type": "stream",
     "text": [
      "6376it [07:55, 17.81it/s]"
     ]
    },
    {
     "name": "stdout",
     "output_type": "stream",
     "text": [
      "['78', '39-45']\n"
     ]
    },
    {
     "name": "stderr",
     "output_type": "stream",
     "text": [
      "6379it [07:55, 14.06it/s]"
     ]
    },
    {
     "name": "stdout",
     "output_type": "stream",
     "text": [
      "['78', '32-35', '46-51', '24-27']\n"
     ]
    },
    {
     "name": "stderr",
     "output_type": "stream",
     "text": [
      "6381it [07:56, 11.13it/s]"
     ]
    },
    {
     "name": "stdout",
     "output_type": "stream",
     "text": [
      "['00-10', '46-51', '78']\n"
     ]
    },
    {
     "name": "stderr",
     "output_type": "stream",
     "text": [
      "6384it [07:57,  8.58it/s]"
     ]
    },
    {
     "name": "stdout",
     "output_type": "stream",
     "text": [
      "['46-51', '58-62']\n"
     ]
    },
    {
     "name": "stderr",
     "output_type": "stream",
     "text": [
      "6404it [07:58, 12.41it/s]"
     ]
    },
    {
     "name": "stdout",
     "output_type": "stream",
     "text": [
      "['84-95', '80-83', 'E00-E09']\n"
     ]
    },
    {
     "name": "stderr",
     "output_type": "stream",
     "text": [
      "6417it [07:59, 13.19it/s]"
     ]
    },
    {
     "name": "stdout",
     "output_type": "stream",
     "text": [
      "['28', '32-35']\n"
     ]
    },
    {
     "name": "stderr",
     "output_type": "stream",
     "text": [
      "6420it [08:00, 10.28it/s]"
     ]
    },
    {
     "name": "stdout",
     "output_type": "stream",
     "text": [
      "['39-45', '78', '24-27']\n"
     ]
    },
    {
     "name": "stderr",
     "output_type": "stream",
     "text": [
      "6448it [08:01, 16.27it/s]"
     ]
    },
    {
     "name": "stdout",
     "output_type": "stream",
     "text": [
      "['46-51', '78', '36-38']\n"
     ]
    },
    {
     "name": "stderr",
     "output_type": "stream",
     "text": [
      "6464it [08:02, 16.96it/s]"
     ]
    },
    {
     "name": "stdout",
     "output_type": "stream",
     "text": [
      "['46-51', '78', '39-45']\n"
     ]
    },
    {
     "name": "stderr",
     "output_type": "stream",
     "text": [
      "6487it [08:03, 19.18it/s]"
     ]
    },
    {
     "name": "stdout",
     "output_type": "stream",
     "text": [
      "['24-27', '46-51']\n"
     ]
    },
    {
     "name": "stderr",
     "output_type": "stream",
     "text": [
      "6496it [08:04, 16.53it/s]"
     ]
    },
    {
     "name": "stdout",
     "output_type": "stream",
     "text": [
      "['32-35', '78', '39-45']\n"
     ]
    },
    {
     "name": "stderr",
     "output_type": "stream",
     "text": [
      "6505it [08:05, 14.20it/s]"
     ]
    },
    {
     "name": "stdout",
     "output_type": "stream",
     "text": [
      "['80-83', '84-95', 'E00-E09']\n"
     ]
    },
    {
     "name": "stderr",
     "output_type": "stream",
     "text": [
      "6512it [08:05, 12.32it/s]"
     ]
    },
    {
     "name": "stdout",
     "output_type": "stream",
     "text": [
      "['E00-E09', '39-45', '84-95']\n"
     ]
    },
    {
     "name": "stderr",
     "output_type": "stream",
     "text": [
      "6524it [08:06, 12.31it/s]"
     ]
    },
    {
     "name": "stdout",
     "output_type": "stream",
     "text": [
      "['46-51', '78']\n"
     ]
    },
    {
     "name": "stderr",
     "output_type": "stream",
     "text": [
      "6550it [08:09, 11.56it/s]"
     ]
    },
    {
     "name": "stdout",
     "output_type": "stream",
     "text": [
      "['39-45', '46-51', '78', 'V40-V49']\n"
     ]
    },
    {
     "name": "stderr",
     "output_type": "stream",
     "text": [
      "6553it [08:10,  9.44it/s]"
     ]
    },
    {
     "name": "stdout",
     "output_type": "stream",
     "text": [
      "['32-35', '71-73', '78', '21-23']\n"
     ]
    },
    {
     "name": "stderr",
     "output_type": "stream",
     "text": [
      "6560it [08:11,  9.27it/s]"
     ]
    },
    {
     "name": "stdout",
     "output_type": "stream",
     "text": [
      "['39-45', '46-51', '78']\n"
     ]
    },
    {
     "name": "stderr",
     "output_type": "stream",
     "text": [
      "6580it [08:12, 12.01it/s]"
     ]
    },
    {
     "name": "stdout",
     "output_type": "stream",
     "text": [
      "['52-57', '39-45']\n"
     ]
    },
    {
     "name": "stderr",
     "output_type": "stream",
     "text": [
      "6645it [08:13, 24.30it/s]"
     ]
    },
    {
     "name": "stdout",
     "output_type": "stream",
     "text": [
      "['52-57', '78', '36-38']\n"
     ]
    },
    {
     "name": "stderr",
     "output_type": "stream",
     "text": [
      "6661it [08:14, 21.54it/s]"
     ]
    },
    {
     "name": "stdout",
     "output_type": "stream",
     "text": [
      "['39-45', '46-51', '78', '79']\n"
     ]
    },
    {
     "name": "stderr",
     "output_type": "stream",
     "text": [
      "6678it [08:15, 20.30it/s]"
     ]
    },
    {
     "name": "stdout",
     "output_type": "stream",
     "text": [
      "['78', '29-31', '32-35']\n"
     ]
    },
    {
     "name": "stderr",
     "output_type": "stream",
     "text": [
      "6714it [08:17, 18.87it/s]"
     ]
    },
    {
     "name": "stdout",
     "output_type": "stream",
     "text": [
      "['28', '52-57', '78', '24-27']\n"
     ]
    },
    {
     "name": "stderr",
     "output_type": "stream",
     "text": [
      "6719it [08:18, 15.41it/s]"
     ]
    },
    {
     "name": "stdout",
     "output_type": "stream",
     "text": [
      "['39-45', '46-51', '78', 'V88-V88']\n"
     ]
    },
    {
     "name": "stderr",
     "output_type": "stream",
     "text": [
      "6725it [08:19, 13.44it/s]"
     ]
    },
    {
     "name": "stdout",
     "output_type": "stream",
     "text": [
      "['39-45', '46-51', '78']\n"
     ]
    },
    {
     "name": "stderr",
     "output_type": "stream",
     "text": [
      "6727it [08:20, 10.28it/s]"
     ]
    },
    {
     "name": "stdout",
     "output_type": "stream",
     "text": [
      "['39-45', '46-51', '78']\n"
     ]
    },
    {
     "name": "stderr",
     "output_type": "stream",
     "text": [
      "6729it [08:21,  8.12it/s]"
     ]
    },
    {
     "name": "stdout",
     "output_type": "stream",
     "text": [
      "['39-45', '46-51', '78']\n"
     ]
    },
    {
     "name": "stderr",
     "output_type": "stream",
     "text": [
      "6731it [08:22,  6.57it/s]"
     ]
    },
    {
     "name": "stdout",
     "output_type": "stream",
     "text": [
      "['32-35', '78', '84-95']\n"
     ]
    },
    {
     "name": "stderr",
     "output_type": "stream",
     "text": [
      "6751it [08:23, 10.90it/s]"
     ]
    },
    {
     "name": "stdout",
     "output_type": "stream",
     "text": [
      "['46-51', '39-45', '78', 'V40-V49']\n"
     ]
    },
    {
     "name": "stderr",
     "output_type": "stream",
     "text": [
      "6762it [08:24, 10.33it/s]"
     ]
    },
    {
     "name": "stdout",
     "output_type": "stream",
     "text": [
      "['52-57', '78', '36-38', '46-51', '84-95']\n"
     ]
    },
    {
     "name": "stderr",
     "output_type": "stream",
     "text": [
      "6767it [08:25,  9.05it/s]"
     ]
    },
    {
     "name": "stdout",
     "output_type": "stream",
     "text": [
      "['39-45', '46-51', '78']\n"
     ]
    },
    {
     "name": "stderr",
     "output_type": "stream",
     "text": [
      "6785it [08:26, 11.25it/s]"
     ]
    },
    {
     "name": "stdout",
     "output_type": "stream",
     "text": [
      "['14-20', '24-27']\n",
      "['32-35', '78', '39-45', '71-73', '32-35']\n"
     ]
    },
    {
     "name": "stderr",
     "output_type": "stream",
     "text": [
      "6787it [08:28,  6.52it/s]"
     ]
    },
    {
     "name": "stdout",
     "output_type": "stream",
     "text": [
      "['28', '36-38', '52-57', '46-51', '11-13']\n"
     ]
    },
    {
     "name": "stderr",
     "output_type": "stream",
     "text": [
      "6809it [08:29, 10.56it/s]"
     ]
    },
    {
     "name": "stdout",
     "output_type": "stream",
     "text": [
      "['39-45', '24-27', '28']\n"
     ]
    },
    {
     "name": "stderr",
     "output_type": "stream",
     "text": [
      "6812it [08:30,  8.54it/s]"
     ]
    },
    {
     "name": "stdout",
     "output_type": "stream",
     "text": [
      "['58-62', '46-51', '71-73', '78', '79']\n"
     ]
    },
    {
     "name": "stderr",
     "output_type": "stream",
     "text": [
      "6820it [08:31,  8.57it/s]"
     ]
    },
    {
     "name": "stdout",
     "output_type": "stream",
     "text": [
      "['39-45', '46-51', '78']\n"
     ]
    },
    {
     "name": "stderr",
     "output_type": "stream",
     "text": [
      "6826it [08:32,  7.72it/s]"
     ]
    },
    {
     "name": "stdout",
     "output_type": "stream",
     "text": [
      "['46-51', '39-45']\n"
     ]
    },
    {
     "name": "stderr",
     "output_type": "stream",
     "text": [
      "6833it [08:33,  7.50it/s]"
     ]
    },
    {
     "name": "stdout",
     "output_type": "stream",
     "text": [
      "['39-45', '46-51', '78', '36-38']\n"
     ]
    },
    {
     "name": "stderr",
     "output_type": "stream",
     "text": [
      "6845it [08:34,  9.04it/s]"
     ]
    },
    {
     "name": "stdout",
     "output_type": "stream",
     "text": [
      "['39-45', '46-51', '78', '96-99']\n"
     ]
    },
    {
     "name": "stderr",
     "output_type": "stream",
     "text": [
      "6848it [08:35,  7.48it/s]"
     ]
    },
    {
     "name": "stdout",
     "output_type": "stream",
     "text": [
      "['46-51', '39-45', '78']\n"
     ]
    },
    {
     "name": "stderr",
     "output_type": "stream",
     "text": [
      "6850it [08:36,  5.70it/s]"
     ]
    },
    {
     "name": "stdout",
     "output_type": "stream",
     "text": [
      "['39-45', '46-51', '78']\n"
     ]
    },
    {
     "name": "stderr",
     "output_type": "stream",
     "text": [
      "6870it [08:37, 10.33it/s]"
     ]
    },
    {
     "name": "stdout",
     "output_type": "stream",
     "text": [
      "['71-73', '78', '79']\n"
     ]
    },
    {
     "name": "stderr",
     "output_type": "stream",
     "text": [
      "6879it [08:38, 10.26it/s]"
     ]
    },
    {
     "name": "stdout",
     "output_type": "stream",
     "text": [
      "['32-35', '78', '39-45']\n"
     ]
    },
    {
     "name": "stderr",
     "output_type": "stream",
     "text": [
      "6881it [08:39,  7.84it/s]"
     ]
    },
    {
     "name": "stdout",
     "output_type": "stream",
     "text": [
      "['58-62', '24-27', '78', 'V20-V29']\n"
     ]
    },
    {
     "name": "stderr",
     "output_type": "stream",
     "text": [
      "6929it [08:41, 15.06it/s]"
     ]
    },
    {
     "name": "stdout",
     "output_type": "stream",
     "text": [
      "['46-51', '78']\n"
     ]
    },
    {
     "name": "stderr",
     "output_type": "stream",
     "text": [
      "6932it [08:42, 12.31it/s]"
     ]
    },
    {
     "name": "stdout",
     "output_type": "stream",
     "text": [
      "['46-51', '71-73', '78', '39-45']\n"
     ]
    },
    {
     "name": "stderr",
     "output_type": "stream",
     "text": [
      "6939it [08:43, 11.35it/s]"
     ]
    },
    {
     "name": "stdout",
     "output_type": "stream",
     "text": [
      "['14-20', '58-62']\n"
     ]
    },
    {
     "name": "stderr",
     "output_type": "stream",
     "text": [
      "6941it [08:44,  8.55it/s]"
     ]
    },
    {
     "name": "stdout",
     "output_type": "stream",
     "text": [
      "['39-45', '46-51', '52-57', '79']\n"
     ]
    },
    {
     "name": "stderr",
     "output_type": "stream",
     "text": [
      "6964it [08:45, 13.10it/s]"
     ]
    },
    {
     "name": "stdout",
     "output_type": "stream",
     "text": [
      "['39-45', '46-51', '78']\n"
     ]
    },
    {
     "name": "stderr",
     "output_type": "stream",
     "text": [
      "6972it [08:46, 11.87it/s]"
     ]
    },
    {
     "name": "stdout",
     "output_type": "stream",
     "text": [
      "['39-45', '46-51', '24-27']\n"
     ]
    },
    {
     "name": "stderr",
     "output_type": "stream",
     "text": [
      "6975it [08:47,  9.37it/s]"
     ]
    },
    {
     "name": "stdout",
     "output_type": "stream",
     "text": [
      "['46-51', '39-45', '78', '58-62']\n"
     ]
    },
    {
     "name": "stderr",
     "output_type": "stream",
     "text": [
      "7002it [08:47, 15.52it/s]"
     ]
    },
    {
     "name": "stdout",
     "output_type": "stream",
     "text": [
      "['39-45', '46-51', '78']\n"
     ]
    },
    {
     "name": "stderr",
     "output_type": "stream",
     "text": [
      "7004it [08:48, 12.14it/s]"
     ]
    },
    {
     "name": "stdout",
     "output_type": "stream",
     "text": [
      "['39-45']\n"
     ]
    },
    {
     "name": "stderr",
     "output_type": "stream",
     "text": [
      "7064it [08:49, 29.45it/s]"
     ]
    },
    {
     "name": "stdout",
     "output_type": "stream",
     "text": [
      "['78', '39-45', '46-51']\n"
     ]
    },
    {
     "name": "stderr",
     "output_type": "stream",
     "text": [
      "7081it [08:50, 23.03it/s]"
     ]
    },
    {
     "name": "stdout",
     "output_type": "stream",
     "text": [
      "['46-51', '39-45', '78', '79', '80-83']\n"
     ]
    },
    {
     "name": "stderr",
     "output_type": "stream",
     "text": [
      "7108it [08:51, 25.26it/s]"
     ]
    },
    {
     "name": "stdout",
     "output_type": "stream",
     "text": [
      "['39-45', '78', '46-51']\n"
     ]
    },
    {
     "name": "stderr",
     "output_type": "stream",
     "text": [
      "7121it [08:52, 22.12it/s]"
     ]
    },
    {
     "name": "stdout",
     "output_type": "stream",
     "text": [
      "['71-73', '58-62', '78', '24-27']\n"
     ]
    },
    {
     "name": "stderr",
     "output_type": "stream",
     "text": [
      "7142it [08:53, 21.94it/s]"
     ]
    },
    {
     "name": "stdout",
     "output_type": "stream",
     "text": [
      "['52-57', '78', '58-62', '39-45', '68-70']\n"
     ]
    },
    {
     "name": "stderr",
     "output_type": "stream",
     "text": [
      "7147it [08:54, 17.62it/s]"
     ]
    },
    {
     "name": "stdout",
     "output_type": "stream",
     "text": [
      "['39-45', '46-51', '78']\n"
     ]
    },
    {
     "name": "stderr",
     "output_type": "stream",
     "text": [
      "7149it [08:55, 13.27it/s]"
     ]
    },
    {
     "name": "stdout",
     "output_type": "stream",
     "text": [
      "['36-38', '52-57', '24-27', '32-35', '39-45']\n"
     ]
    },
    {
     "name": "stderr",
     "output_type": "stream",
     "text": [
      "7207it [08:56, 29.16it/s]"
     ]
    },
    {
     "name": "stdout",
     "output_type": "stream",
     "text": [
      "['39-45', '46-51', '71-73', '78', '96-99']\n"
     ]
    },
    {
     "name": "stderr",
     "output_type": "stream",
     "text": [
      "7256it [08:56, 36.68it/s]"
     ]
    },
    {
     "name": "stdout",
     "output_type": "stream",
     "text": [
      "['39-45', '46-51', '78']\n"
     ]
    },
    {
     "name": "stderr",
     "output_type": "stream",
     "text": [
      "7268it [08:57, 29.66it/s]"
     ]
    },
    {
     "name": "stdout",
     "output_type": "stream",
     "text": [
      "['39-45', '46-51', '32-35']\n"
     ]
    },
    {
     "name": "stderr",
     "output_type": "stream",
     "text": [
      "7305it [08:58, 33.28it/s]"
     ]
    },
    {
     "name": "stdout",
     "output_type": "stream",
     "text": [
      "['71-73', '46-51', '32-35', '78', '84-95']\n"
     ]
    },
    {
     "name": "stderr",
     "output_type": "stream",
     "text": [
      "7329it [08:59, 32.13it/s]"
     ]
    },
    {
     "name": "stdout",
     "output_type": "stream",
     "text": [
      "['39-45', '46-51', '78']\n"
     ]
    },
    {
     "name": "stderr",
     "output_type": "stream",
     "text": [
      "7333it [09:00, 24.54it/s]"
     ]
    },
    {
     "name": "stdout",
     "output_type": "stream",
     "text": [
      "['39-45', '78', '46-51']\n"
     ]
    },
    {
     "name": "stderr",
     "output_type": "stream",
     "text": [
      "7336it [09:02, 11.82it/s]"
     ]
    },
    {
     "name": "stdout",
     "output_type": "stream",
     "text": [
      "['39-45', '46-51', '78']\n"
     ]
    },
    {
     "name": "stderr",
     "output_type": "stream",
     "text": [
      "7338it [09:03,  9.86it/s]"
     ]
    },
    {
     "name": "stdout",
     "output_type": "stream",
     "text": [
      "['78', '32-35']\n"
     ]
    },
    {
     "name": "stderr",
     "output_type": "stream",
     "text": [
      "7360it [09:04, 13.90it/s]"
     ]
    },
    {
     "name": "stdout",
     "output_type": "stream",
     "text": [
      "['46-51', '39-45', '78', '24-27']\n"
     ]
    },
    {
     "name": "stderr",
     "output_type": "stream",
     "text": [
      "7367it [09:05, 12.35it/s]"
     ]
    },
    {
     "name": "stdout",
     "output_type": "stream",
     "text": [
      "['14-20', '46-51', '78', '24-27']\n"
     ]
    },
    {
     "name": "stderr",
     "output_type": "stream",
     "text": [
      "7378it [09:06, 11.79it/s]"
     ]
    },
    {
     "name": "stdout",
     "output_type": "stream",
     "text": [
      "['46-51', '78', '39-45', '71-73', '24-27']\n"
     ]
    },
    {
     "name": "stderr",
     "output_type": "stream",
     "text": [
      "7380it [09:07,  9.34it/s]"
     ]
    },
    {
     "name": "stdout",
     "output_type": "stream",
     "text": [
      "['78', '46-51', '71-73']\n"
     ]
    },
    {
     "name": "stderr",
     "output_type": "stream",
     "text": [
      "7410it [09:07, 16.37it/s]"
     ]
    },
    {
     "name": "stdout",
     "output_type": "stream",
     "text": [
      "['52-57', '78', '39-45', 'V88-V88', '21-23', '36-38']\n"
     ]
    },
    {
     "name": "stderr",
     "output_type": "stream",
     "text": [
      "7413it [09:10,  8.69it/s]"
     ]
    },
    {
     "name": "stdout",
     "output_type": "stream",
     "text": [
      "['39-45', '46-51', '78']\n"
     ]
    },
    {
     "name": "stderr",
     "output_type": "stream",
     "text": [
      "7436it [09:11, 10.70it/s]"
     ]
    },
    {
     "name": "stdout",
     "output_type": "stream",
     "text": [
      "['46-51', '39-45', '78']\n"
     ]
    },
    {
     "name": "stderr",
     "output_type": "stream",
     "text": [
      "7457it [09:12, 13.74it/s]"
     ]
    },
    {
     "name": "stdout",
     "output_type": "stream",
     "text": [
      "['58-62', '78', '46-51']\n"
     ]
    },
    {
     "name": "stderr",
     "output_type": "stream",
     "text": [
      "7464it [09:13, 12.75it/s]"
     ]
    },
    {
     "name": "stdout",
     "output_type": "stream",
     "text": [
      "['84-95', '78', '79']\n"
     ]
    },
    {
     "name": "stderr",
     "output_type": "stream",
     "text": [
      "7473it [09:14, 12.37it/s]"
     ]
    },
    {
     "name": "stdout",
     "output_type": "stream",
     "text": [
      "['71-73', '78', '46-51']\n"
     ]
    },
    {
     "name": "stderr",
     "output_type": "stream",
     "text": [
      "7483it [09:14, 12.37it/s]"
     ]
    },
    {
     "name": "stdout",
     "output_type": "stream",
     "text": [
      "['78', '52-57', '24-27', '36-38']\n"
     ]
    },
    {
     "name": "stderr",
     "output_type": "stream",
     "text": [
      "7510it [09:15, 18.14it/s]"
     ]
    },
    {
     "name": "stdout",
     "output_type": "stream",
     "text": [
      "['80-83', '32-35', '84-95']\n"
     ]
    },
    {
     "name": "stderr",
     "output_type": "stream",
     "text": [
      "7514it [09:16, 14.53it/s]"
     ]
    },
    {
     "name": "stdout",
     "output_type": "stream",
     "text": [
      "['46-51', '39-45', '78']\n"
     ]
    },
    {
     "name": "stderr",
     "output_type": "stream",
     "text": [
      "7522it [09:17, 12.79it/s]"
     ]
    },
    {
     "name": "stdout",
     "output_type": "stream",
     "text": [
      "['39-45', '58-62', '68-70', '71-73', '78', '84-95']\n"
     ]
    },
    {
     "name": "stderr",
     "output_type": "stream",
     "text": [
      "7538it [09:18, 14.28it/s]"
     ]
    },
    {
     "name": "stdout",
     "output_type": "stream",
     "text": [
      "['39-45', '78', '46-51', '21-23']\n"
     ]
    },
    {
     "name": "stderr",
     "output_type": "stream",
     "text": [
      "7547it [09:19, 12.15it/s]"
     ]
    },
    {
     "name": "stdout",
     "output_type": "stream",
     "text": [
      "['39-45', '46-51', '78']\n"
     ]
    },
    {
     "name": "stderr",
     "output_type": "stream",
     "text": [
      "7549it [09:20,  9.17it/s]"
     ]
    },
    {
     "name": "stdout",
     "output_type": "stream",
     "text": [
      "['71-73', '39-45', '80-83', '78']\n"
     ]
    },
    {
     "name": "stderr",
     "output_type": "stream",
     "text": [
      "7554it [09:21,  8.21it/s]"
     ]
    },
    {
     "name": "stdout",
     "output_type": "stream",
     "text": [
      "['39-45', '46-51', '78', '71-73']\n"
     ]
    },
    {
     "name": "stderr",
     "output_type": "stream",
     "text": [
      "7556it [09:22,  6.67it/s]"
     ]
    },
    {
     "name": "stdout",
     "output_type": "stream",
     "text": [
      "['46-51', '32-35', '39-45']\n"
     ]
    },
    {
     "name": "stderr",
     "output_type": "stream",
     "text": [
      "7625it [09:22, 27.82it/s]"
     ]
    },
    {
     "name": "stdout",
     "output_type": "stream",
     "text": [
      "['29-31', '78', '32-35', '24-27', '58-62']\n"
     ]
    },
    {
     "name": "stderr",
     "output_type": "stream",
     "text": [
      "7636it [09:23, 23.58it/s]"
     ]
    },
    {
     "name": "stdout",
     "output_type": "stream",
     "text": [
      "['52-57', '78', '39-45']\n"
     ]
    },
    {
     "name": "stderr",
     "output_type": "stream",
     "text": [
      "7657it [09:24, 24.25it/s]"
     ]
    },
    {
     "name": "stdout",
     "output_type": "stream",
     "text": [
      "['39-45', '78', '32-35', '58-62']\n"
     ]
    },
    {
     "name": "stderr",
     "output_type": "stream",
     "text": [
      "7668it [09:25, 20.98it/s]"
     ]
    },
    {
     "name": "stdout",
     "output_type": "stream",
     "text": [
      "['32-35', '39-45', '78', '80-83']\n"
     ]
    },
    {
     "name": "stderr",
     "output_type": "stream",
     "text": [
      "7718it [09:26, 33.04it/s]"
     ]
    },
    {
     "name": "stdout",
     "output_type": "stream",
     "text": [
      "['32-35', '39-45']\n"
     ]
    },
    {
     "name": "stderr",
     "output_type": "stream",
     "text": [
      "7725it [09:27, 25.00it/s]"
     ]
    },
    {
     "name": "stdout",
     "output_type": "stream",
     "text": [
      "['46-51', '52-57']\n"
     ]
    },
    {
     "name": "stderr",
     "output_type": "stream",
     "text": [
      "7735it [09:29, 15.04it/s]"
     ]
    },
    {
     "name": "stdout",
     "output_type": "stream",
     "text": [
      "['46-51', '39-45', '78', '32-35']\n"
     ]
    },
    {
     "name": "stderr",
     "output_type": "stream",
     "text": [
      "7755it [09:30, 16.90it/s]"
     ]
    },
    {
     "name": "stdout",
     "output_type": "stream",
     "text": [
      "['52-57', '36-38', '78', '28', '39-45']\n"
     ]
    },
    {
     "name": "stderr",
     "output_type": "stream",
     "text": [
      "7786it [09:30, 21.60it/s]"
     ]
    },
    {
     "name": "stdout",
     "output_type": "stream",
     "text": [
      "['32-35', '39-45']\n"
     ]
    },
    {
     "name": "stderr",
     "output_type": "stream",
     "text": [
      "7839it [09:31, 31.84it/s]"
     ]
    },
    {
     "name": "stdout",
     "output_type": "stream",
     "text": [
      "['39-45', '46-51', '71-73', '78', '84-95']\n"
     ]
    },
    {
     "name": "stderr",
     "output_type": "stream",
     "text": [
      "7844it [09:32, 24.95it/s]"
     ]
    },
    {
     "name": "stdout",
     "output_type": "stream",
     "text": [
      "['39-45', '46-51']\n"
     ]
    },
    {
     "name": "stderr",
     "output_type": "stream",
     "text": [
      "7860it [09:33, 23.66it/s]"
     ]
    },
    {
     "name": "stdout",
     "output_type": "stream",
     "text": [
      "['24-27', '52-57', '78', '36-38' ]\n"
     ]
    },
    {
     "name": "stderr",
     "output_type": "stream",
     "text": [
      "7883it [09:34, 24.57it/s]"
     ]
    },
    {
     "name": "stdout",
     "output_type": "stream",
     "text": [
      "['46-51', '52-57', '39-45']\n"
     ]
    },
    {
     "name": "stderr",
     "output_type": "stream",
     "text": [
      "7891it [09:35, 20.46it/s]"
     ]
    },
    {
     "name": "stdout",
     "output_type": "stream",
     "text": [
      "['39-45', '32-35', '78', '96-99']\n"
     ]
    },
    {
     "name": "stderr",
     "output_type": "stream",
     "text": [
      "7902it [09:36, 17.30it/s]"
     ]
    },
    {
     "name": "stdout",
     "output_type": "stream",
     "text": [
      "['78', '39-45', '46-51' ]\n",
      "\n",
      "Note: These categories correspond to 'Symptoms', 'Diseases of the circulatory system', and 'Diseases of the respiratory system', which are the most relevant to the symptoms 'Chest pain' and 'Atrial fibrillation'.\n"
     ]
    },
    {
     "name": "stderr",
     "output_type": "stream",
     "text": [
      "7937it [09:37, 22.79it/s]"
     ]
    },
    {
     "name": "stdout",
     "output_type": "stream",
     "text": [
      "['78', '71-73']\n"
     ]
    },
    {
     "name": "stderr",
     "output_type": "stream",
     "text": [
      "7942it [09:37, 18.05it/s]"
     ]
    },
    {
     "name": "stdout",
     "output_type": "stream",
     "text": [
      "['46-51', '58-62']\n"
     ]
    },
    {
     "name": "stderr",
     "output_type": "stream",
     "text": [
      "7961it [09:38, 19.36it/s]"
     ]
    },
    {
     "name": "stdout",
     "output_type": "stream",
     "text": [
      "['32-35', '78', '39-45']\n"
     ]
    },
    {
     "name": "stderr",
     "output_type": "stream",
     "text": [
      "7970it [09:40, 12.74it/s]"
     ]
    },
    {
     "name": "stdout",
     "output_type": "stream",
     "text": [
      "['39-45', '46-51', '78', '79']\n"
     ]
    },
    {
     "name": "stderr",
     "output_type": "stream",
     "text": [
      "7994it [09:42, 11.66it/s]"
     ]
    },
    {
     "name": "stdout",
     "output_type": "stream",
     "text": [
      "['32-35', '39-45', '78']\n"
     ]
    },
    {
     "name": "stderr",
     "output_type": "stream",
     "text": [
      "8007it [09:43, 12.10it/s]"
     ]
    },
    {
     "name": "stdout",
     "output_type": "stream",
     "text": [
      "['46-51', '78', '39-45', '28', 'V88-V88', '36-38', 'V87-V87']\n"
     ]
    },
    {
     "name": "stderr",
     "output_type": "stream",
     "text": [
      "8024it [09:44, 13.35it/s]"
     ]
    },
    {
     "name": "stdout",
     "output_type": "stream",
     "text": [
      "['39-45', '46-51', '52-57', '78', '96-99']\n"
     ]
    },
    {
     "name": "stderr",
     "output_type": "stream",
     "text": [
      "8026it [09:45, 10.72it/s]"
     ]
    },
    {
     "name": "stdout",
     "output_type": "stream",
     "text": [
      "['84-95', '39-45', '32-35', '80-83']\n"
     ]
    },
    {
     "name": "stderr",
     "output_type": "stream",
     "text": [
      "8037it [09:47,  9.04it/s]"
     ]
    },
    {
     "name": "stdout",
     "output_type": "stream",
     "text": [
      "['52-57', '32-35', '24-27', '78']\n"
     ]
    },
    {
     "name": "stderr",
     "output_type": "stream",
     "text": [
      "8040it [09:49,  5.52it/s]"
     ]
    },
    {
     "name": "stdout",
     "output_type": "stream",
     "text": [
      "['39-45', '78', '29-31', '24-27']\n"
     ]
    },
    {
     "name": "stderr",
     "output_type": "stream",
     "text": [
      "8044it [09:50,  5.38it/s]"
     ]
    },
    {
     "name": "stdout",
     "output_type": "stream",
     "text": [
      "['39-45', '78', '46-51', '79']\n"
     ]
    },
    {
     "name": "stderr",
     "output_type": "stream",
     "text": [
      "8053it [09:51,  6.49it/s]"
     ]
    },
    {
     "name": "stdout",
     "output_type": "stream",
     "text": [
      "['39-45', '71-73', '78', '80-83']\n"
     ]
    },
    {
     "name": "stderr",
     "output_type": "stream",
     "text": [
      "8070it [09:52,  9.34it/s]"
     ]
    },
    {
     "name": "stdout",
     "output_type": "stream",
     "text": [
      "['78', '80-83']\n"
     ]
    },
    {
     "name": "stderr",
     "output_type": "stream",
     "text": [
      "8095it [09:55,  9.47it/s]"
     ]
    },
    {
     "name": "stdout",
     "output_type": "stream",
     "text": [
      "['71-73', '80-83']\n"
     ]
    },
    {
     "name": "stderr",
     "output_type": "stream",
     "text": [
      "8136it [09:55, 16.74it/s]"
     ]
    },
    {
     "name": "stdout",
     "output_type": "stream",
     "text": [
      "['58-62', '28', '78']\n"
     ]
    },
    {
     "name": "stderr",
     "output_type": "stream",
     "text": [
      "8161it [09:56, 19.50it/s]"
     ]
    },
    {
     "name": "stdout",
     "output_type": "stream",
     "text": [
      "['71-73', '58-62', '78']\n"
     ]
    },
    {
     "name": "stderr",
     "output_type": "stream",
     "text": [
      "8164it [10:24,  1.92it/s]"
     ]
    },
    {
     "name": "stdout",
     "output_type": "stream",
     "text": [
      "['39-45', '78', '46-51', '32-35']\n"
     ]
    },
    {
     "name": "stderr",
     "output_type": "stream",
     "text": [
      "8213it [10:24, 13.15it/s]\n"
     ]
    },
    {
     "ename": "RateLimitError",
     "evalue": "Error code: 429 - {'error': {'message': 'Rate limit reached for model `llama-3.1-70b-versatile` in organization `org_01j589f8a1f3r8tsnqww0ng0yz` on : Limit 1000000, Used 1000157, Requested 982. Please try again in 1m38.482999999s. Visit https://console.groq.com/docs/rate-limits for more information.', 'type': '', 'code': 'rate_limit_exceeded'}}",
     "output_type": "error",
     "traceback": [
      "\u001b[0;31m---------------------------------------------------------------------------\u001b[0m",
      "\u001b[0;31mRateLimitError\u001b[0m                            Traceback (most recent call last)",
      "Cell \u001b[0;32mIn[1151], line 1\u001b[0m\n\u001b[0;32m----> 1\u001b[0m \u001b[43mmetrics_calc\u001b[49m\u001b[43m(\u001b[49m\u001b[38;5;28;43mtype\u001b[39;49m\u001b[43m \u001b[49m\u001b[38;5;241;43m=\u001b[39;49m\u001b[43m \u001b[49m\u001b[38;5;124;43m'\u001b[39;49m\u001b[38;5;124;43mtwo symptoms\u001b[39;49m\u001b[38;5;124;43m'\u001b[39;49m\u001b[43m,\u001b[49m\u001b[43mmethod\u001b[49m\u001b[38;5;241;43m=\u001b[39;49m\u001b[38;5;124;43m'\u001b[39;49m\u001b[38;5;124;43mllm\u001b[39;49m\u001b[38;5;124;43m'\u001b[39;49m\u001b[43m,\u001b[49m\u001b[43m \u001b[49m\u001b[43mmodel_name\u001b[49m\u001b[38;5;241;43m=\u001b[39;49m\u001b[43m \u001b[49m\u001b[38;5;124;43m'\u001b[39;49m\u001b[38;5;124;43mgroq\u001b[39;49m\u001b[38;5;124;43m'\u001b[39;49m\u001b[43m)\u001b[49m\n",
      "Cell \u001b[0;32mIn[1149], line 27\u001b[0m, in \u001b[0;36mmetrics_calc\u001b[0;34m(type, raw_test_df, disease_df, method, model_name)\u001b[0m\n\u001b[1;32m     24\u001b[0m pred_labels \u001b[38;5;241m=\u001b[39m get_prioritized_relationships(j\u001b[38;5;241m.\u001b[39mSymptoms,weightage\u001b[38;5;241m=\u001b[39m\u001b[38;5;241m1\u001b[39m,limit\u001b[38;5;241m=\u001b[39m \u001b[38;5;241m20\u001b[39m )[\u001b[38;5;241m0\u001b[39m]\n\u001b[1;32m     26\u001b[0m code_desc_tuples \u001b[38;5;241m=\u001b[39m \u001b[38;5;28mlist\u001b[39m(\u001b[38;5;28mset\u001b[39m(disease_df[disease_df\u001b[38;5;241m.\u001b[39mCode\u001b[38;5;241m.\u001b[39misin(pred_labels)][[\u001b[38;5;124m'\u001b[39m\u001b[38;5;124mCode\u001b[39m\u001b[38;5;124m'\u001b[39m, \u001b[38;5;124m'\u001b[39m\u001b[38;5;124mDescription\u001b[39m\u001b[38;5;124m'\u001b[39m]]\u001b[38;5;241m.\u001b[39mreset_index(drop \u001b[38;5;241m=\u001b[39m \u001b[38;5;28;01mTrue\u001b[39;00m)\u001b[38;5;241m.\u001b[39mitertuples(index\u001b[38;5;241m=\u001b[39m\u001b[38;5;28;01mFalse\u001b[39;00m, name\u001b[38;5;241m=\u001b[39m\u001b[38;5;28;01mNone\u001b[39;00m)))\n\u001b[0;32m---> 27\u001b[0m refined_pred_labels \u001b[38;5;241m=\u001b[39m \u001b[43maug_and_gen\u001b[49m\u001b[43m(\u001b[49m\u001b[43mcode_desc_tuples\u001b[49m\u001b[43m,\u001b[49m\u001b[43mj\u001b[49m\u001b[38;5;241;43m.\u001b[39;49m\u001b[43mSymptoms\u001b[49m\u001b[43m,\u001b[49m\u001b[43m \u001b[49m\u001b[43mmodel\u001b[49m\u001b[43m \u001b[49m\u001b[38;5;241;43m=\u001b[39;49m\u001b[43mmodel_name\u001b[49m\u001b[43m,\u001b[49m\u001b[43m \u001b[49m\u001b[43mmethod\u001b[49m\u001b[43m \u001b[49m\u001b[38;5;241;43m=\u001b[39;49m\u001b[43m \u001b[49m\u001b[43mmethod\u001b[49m\u001b[43m)\u001b[49m\n\u001b[1;32m     28\u001b[0m \u001b[38;5;28mprint\u001b[39m(refined_pred_labels)\n\u001b[1;32m     29\u001b[0m refined_pred_labels \u001b[38;5;241m=\u001b[39m refined_pred_labels[\u001b[38;5;241m2\u001b[39m:\u001b[38;5;241m-\u001b[39m\u001b[38;5;241m2\u001b[39m]\u001b[38;5;241m.\u001b[39msplit(\u001b[38;5;124m\"\u001b[39m\u001b[38;5;124m'\u001b[39m\u001b[38;5;124m, \u001b[39m\u001b[38;5;124m'\u001b[39m\u001b[38;5;124m\"\u001b[39m)\n",
      "Cell \u001b[0;32mIn[1139], line 112\u001b[0m, in \u001b[0;36maug_and_gen\u001b[0;34m(codes, symptom, model, method)\u001b[0m\n\u001b[1;32m    110\u001b[0m     \u001b[38;5;28;01mif\u001b[39;00m method \u001b[38;5;241m==\u001b[39m \u001b[38;5;124m'\u001b[39m\u001b[38;5;124mllm\u001b[39m\u001b[38;5;124m'\u001b[39m : \n\u001b[1;32m    111\u001b[0m         prompt_template \u001b[38;5;241m=\u001b[39m only_llm_prompt_start \u001b[38;5;241m+\u001b[39m only_llm_prompt\n\u001b[0;32m--> 112\u001b[0m         chat_completion \u001b[38;5;241m=\u001b[39m \u001b[43mclient\u001b[49m\u001b[38;5;241;43m.\u001b[39;49m\u001b[43mchat\u001b[49m\u001b[38;5;241;43m.\u001b[39;49m\u001b[43mcompletions\u001b[49m\u001b[38;5;241;43m.\u001b[39;49m\u001b[43mcreate\u001b[49m\u001b[43m(\u001b[49m\n\u001b[1;32m    113\u001b[0m \u001b[43m        \u001b[49m\u001b[43mmessages\u001b[49m\u001b[38;5;241;43m=\u001b[39;49m\u001b[43m[\u001b[49m\n\u001b[1;32m    114\u001b[0m \u001b[43m            \u001b[49m\u001b[43m{\u001b[49m\n\u001b[1;32m    115\u001b[0m \u001b[43m                \u001b[49m\u001b[38;5;124;43m\"\u001b[39;49m\u001b[38;5;124;43mrole\u001b[39;49m\u001b[38;5;124;43m\"\u001b[39;49m\u001b[43m:\u001b[49m\u001b[43m \u001b[49m\u001b[38;5;124;43m\"\u001b[39;49m\u001b[38;5;124;43muser\u001b[39;49m\u001b[38;5;124;43m\"\u001b[39;49m\u001b[43m,\u001b[49m\n\u001b[1;32m    116\u001b[0m \u001b[43m                \u001b[49m\u001b[38;5;124;43m\"\u001b[39;49m\u001b[38;5;124;43mcontent\u001b[39;49m\u001b[38;5;124;43m\"\u001b[39;49m\u001b[43m:\u001b[49m\u001b[43m \u001b[49m\u001b[38;5;124;43mf\u001b[39;49m\u001b[38;5;124;43m\"\u001b[39;49m\u001b[38;5;132;43;01m{\u001b[39;49;00m\u001b[43mprompt_template\u001b[49m\u001b[38;5;132;43;01m}\u001b[39;49;00m\u001b[38;5;124;43m\"\u001b[39;49m\u001b[43m,\u001b[49m\n\u001b[1;32m    117\u001b[0m \u001b[43m            \u001b[49m\u001b[43m}\u001b[49m\n\u001b[1;32m    118\u001b[0m \u001b[43m        \u001b[49m\u001b[43m]\u001b[49m\u001b[43m,\u001b[49m\n\u001b[1;32m    119\u001b[0m \u001b[43m        \u001b[49m\u001b[43mmodel\u001b[49m\u001b[38;5;241;43m=\u001b[39;49m\u001b[38;5;124;43m\"\u001b[39;49m\u001b[38;5;124;43mllama-3.1-70b-versatile\u001b[39;49m\u001b[38;5;124;43m\"\u001b[39;49m\u001b[43m,\u001b[49m\n\u001b[1;32m    120\u001b[0m \u001b[43m    \u001b[49m\u001b[43m)\u001b[49m\n\u001b[1;32m    122\u001b[0m         response \u001b[38;5;241m=\u001b[39m chat_completion\u001b[38;5;241m.\u001b[39mchoices[\u001b[38;5;241m0\u001b[39m]\u001b[38;5;241m.\u001b[39mmessage\u001b[38;5;241m.\u001b[39mcontent\n\u001b[1;32m    126\u001b[0m \u001b[38;5;28;01mreturn\u001b[39;00m response\n",
      "File \u001b[0;32m/Applications/anaconda3/envs/astro/lib/python3.12/site-packages/groq/resources/chat/completions.py:179\u001b[0m, in \u001b[0;36mCompletions.create\u001b[0;34m(self, messages, model, frequency_penalty, logit_bias, logprobs, max_tokens, n, presence_penalty, response_format, seed, stop, stream, temperature, tool_choice, tools, top_logprobs, top_p, user, extra_headers, extra_query, extra_body, timeout)\u001b[0m\n\u001b[1;32m    136\u001b[0m \u001b[38;5;28;01mdef\u001b[39;00m \u001b[38;5;21mcreate\u001b[39m(\n\u001b[1;32m    137\u001b[0m     \u001b[38;5;28mself\u001b[39m,\n\u001b[1;32m    138\u001b[0m     \u001b[38;5;241m*\u001b[39m,\n\u001b[0;32m   (...)\u001b[0m\n\u001b[1;32m    162\u001b[0m     timeout: \u001b[38;5;28mfloat\u001b[39m \u001b[38;5;241m|\u001b[39m httpx\u001b[38;5;241m.\u001b[39mTimeout \u001b[38;5;241m|\u001b[39m \u001b[38;5;28;01mNone\u001b[39;00m \u001b[38;5;241m|\u001b[39m NotGiven \u001b[38;5;241m=\u001b[39m NOT_GIVEN,\n\u001b[1;32m    163\u001b[0m ) \u001b[38;5;241m-\u001b[39m\u001b[38;5;241m>\u001b[39m ChatCompletion \u001b[38;5;241m|\u001b[39m Stream[ChatCompletionChunk]:\n\u001b[1;32m    164\u001b[0m \u001b[38;5;250m    \u001b[39m\u001b[38;5;124;03m\"\"\"\u001b[39;00m\n\u001b[1;32m    165\u001b[0m \u001b[38;5;124;03m    Creates a completion for a chat prompt\u001b[39;00m\n\u001b[1;32m    166\u001b[0m \n\u001b[0;32m   (...)\u001b[0m\n\u001b[1;32m    177\u001b[0m \u001b[38;5;124;03m      timeout: Override the client-level default timeout for this request, in seconds\u001b[39;00m\n\u001b[1;32m    178\u001b[0m \u001b[38;5;124;03m    \"\"\"\u001b[39;00m\n\u001b[0;32m--> 179\u001b[0m     \u001b[38;5;28;01mreturn\u001b[39;00m \u001b[38;5;28;43mself\u001b[39;49m\u001b[38;5;241;43m.\u001b[39;49m\u001b[43m_post\u001b[49m\u001b[43m(\u001b[49m\n\u001b[1;32m    180\u001b[0m \u001b[43m        \u001b[49m\u001b[38;5;124;43m\"\u001b[39;49m\u001b[38;5;124;43m/openai/v1/chat/completions\u001b[39;49m\u001b[38;5;124;43m\"\u001b[39;49m\u001b[43m,\u001b[49m\n\u001b[1;32m    181\u001b[0m \u001b[43m        \u001b[49m\u001b[43mbody\u001b[49m\u001b[38;5;241;43m=\u001b[39;49m\u001b[43mmaybe_transform\u001b[49m\u001b[43m(\u001b[49m\n\u001b[1;32m    182\u001b[0m \u001b[43m            \u001b[49m\u001b[43m{\u001b[49m\n\u001b[1;32m    183\u001b[0m \u001b[43m                \u001b[49m\u001b[38;5;124;43m\"\u001b[39;49m\u001b[38;5;124;43mmessages\u001b[39;49m\u001b[38;5;124;43m\"\u001b[39;49m\u001b[43m:\u001b[49m\u001b[43m \u001b[49m\u001b[43mmessages\u001b[49m\u001b[43m,\u001b[49m\n\u001b[1;32m    184\u001b[0m \u001b[43m                \u001b[49m\u001b[38;5;124;43m\"\u001b[39;49m\u001b[38;5;124;43mmodel\u001b[39;49m\u001b[38;5;124;43m\"\u001b[39;49m\u001b[43m:\u001b[49m\u001b[43m \u001b[49m\u001b[43mmodel\u001b[49m\u001b[43m,\u001b[49m\n\u001b[1;32m    185\u001b[0m \u001b[43m                \u001b[49m\u001b[38;5;124;43m\"\u001b[39;49m\u001b[38;5;124;43mfrequency_penalty\u001b[39;49m\u001b[38;5;124;43m\"\u001b[39;49m\u001b[43m:\u001b[49m\u001b[43m \u001b[49m\u001b[43mfrequency_penalty\u001b[49m\u001b[43m,\u001b[49m\n\u001b[1;32m    186\u001b[0m \u001b[43m                \u001b[49m\u001b[38;5;124;43m\"\u001b[39;49m\u001b[38;5;124;43mlogit_bias\u001b[39;49m\u001b[38;5;124;43m\"\u001b[39;49m\u001b[43m:\u001b[49m\u001b[43m \u001b[49m\u001b[43mlogit_bias\u001b[49m\u001b[43m,\u001b[49m\n\u001b[1;32m    187\u001b[0m \u001b[43m                \u001b[49m\u001b[38;5;124;43m\"\u001b[39;49m\u001b[38;5;124;43mlogprobs\u001b[39;49m\u001b[38;5;124;43m\"\u001b[39;49m\u001b[43m:\u001b[49m\u001b[43m \u001b[49m\u001b[43mlogprobs\u001b[49m\u001b[43m,\u001b[49m\n\u001b[1;32m    188\u001b[0m \u001b[43m                \u001b[49m\u001b[38;5;124;43m\"\u001b[39;49m\u001b[38;5;124;43mmax_tokens\u001b[39;49m\u001b[38;5;124;43m\"\u001b[39;49m\u001b[43m:\u001b[49m\u001b[43m \u001b[49m\u001b[43mmax_tokens\u001b[49m\u001b[43m,\u001b[49m\n\u001b[1;32m    189\u001b[0m \u001b[43m                \u001b[49m\u001b[38;5;124;43m\"\u001b[39;49m\u001b[38;5;124;43mn\u001b[39;49m\u001b[38;5;124;43m\"\u001b[39;49m\u001b[43m:\u001b[49m\u001b[43m \u001b[49m\u001b[43mn\u001b[49m\u001b[43m,\u001b[49m\n\u001b[1;32m    190\u001b[0m \u001b[43m                \u001b[49m\u001b[38;5;124;43m\"\u001b[39;49m\u001b[38;5;124;43mpresence_penalty\u001b[39;49m\u001b[38;5;124;43m\"\u001b[39;49m\u001b[43m:\u001b[49m\u001b[43m \u001b[49m\u001b[43mpresence_penalty\u001b[49m\u001b[43m,\u001b[49m\n\u001b[1;32m    191\u001b[0m \u001b[43m                \u001b[49m\u001b[38;5;124;43m\"\u001b[39;49m\u001b[38;5;124;43mresponse_format\u001b[39;49m\u001b[38;5;124;43m\"\u001b[39;49m\u001b[43m:\u001b[49m\u001b[43m \u001b[49m\u001b[43mresponse_format\u001b[49m\u001b[43m,\u001b[49m\n\u001b[1;32m    192\u001b[0m \u001b[43m                \u001b[49m\u001b[38;5;124;43m\"\u001b[39;49m\u001b[38;5;124;43mseed\u001b[39;49m\u001b[38;5;124;43m\"\u001b[39;49m\u001b[43m:\u001b[49m\u001b[43m \u001b[49m\u001b[43mseed\u001b[49m\u001b[43m,\u001b[49m\n\u001b[1;32m    193\u001b[0m \u001b[43m                \u001b[49m\u001b[38;5;124;43m\"\u001b[39;49m\u001b[38;5;124;43mstop\u001b[39;49m\u001b[38;5;124;43m\"\u001b[39;49m\u001b[43m:\u001b[49m\u001b[43m \u001b[49m\u001b[43mstop\u001b[49m\u001b[43m,\u001b[49m\n\u001b[1;32m    194\u001b[0m \u001b[43m                \u001b[49m\u001b[38;5;124;43m\"\u001b[39;49m\u001b[38;5;124;43mstream\u001b[39;49m\u001b[38;5;124;43m\"\u001b[39;49m\u001b[43m:\u001b[49m\u001b[43m \u001b[49m\u001b[43mstream\u001b[49m\u001b[43m,\u001b[49m\n\u001b[1;32m    195\u001b[0m \u001b[43m                \u001b[49m\u001b[38;5;124;43m\"\u001b[39;49m\u001b[38;5;124;43mtemperature\u001b[39;49m\u001b[38;5;124;43m\"\u001b[39;49m\u001b[43m:\u001b[49m\u001b[43m \u001b[49m\u001b[43mtemperature\u001b[49m\u001b[43m,\u001b[49m\n\u001b[1;32m    196\u001b[0m \u001b[43m                \u001b[49m\u001b[38;5;124;43m\"\u001b[39;49m\u001b[38;5;124;43mtool_choice\u001b[39;49m\u001b[38;5;124;43m\"\u001b[39;49m\u001b[43m:\u001b[49m\u001b[43m \u001b[49m\u001b[43mtool_choice\u001b[49m\u001b[43m,\u001b[49m\n\u001b[1;32m    197\u001b[0m \u001b[43m                \u001b[49m\u001b[38;5;124;43m\"\u001b[39;49m\u001b[38;5;124;43mtools\u001b[39;49m\u001b[38;5;124;43m\"\u001b[39;49m\u001b[43m:\u001b[49m\u001b[43m \u001b[49m\u001b[43mtools\u001b[49m\u001b[43m,\u001b[49m\n\u001b[1;32m    198\u001b[0m \u001b[43m                \u001b[49m\u001b[38;5;124;43m\"\u001b[39;49m\u001b[38;5;124;43mtop_logprobs\u001b[39;49m\u001b[38;5;124;43m\"\u001b[39;49m\u001b[43m:\u001b[49m\u001b[43m \u001b[49m\u001b[43mtop_logprobs\u001b[49m\u001b[43m,\u001b[49m\n\u001b[1;32m    199\u001b[0m \u001b[43m                \u001b[49m\u001b[38;5;124;43m\"\u001b[39;49m\u001b[38;5;124;43mtop_p\u001b[39;49m\u001b[38;5;124;43m\"\u001b[39;49m\u001b[43m:\u001b[49m\u001b[43m \u001b[49m\u001b[43mtop_p\u001b[49m\u001b[43m,\u001b[49m\n\u001b[1;32m    200\u001b[0m \u001b[43m                \u001b[49m\u001b[38;5;124;43m\"\u001b[39;49m\u001b[38;5;124;43muser\u001b[39;49m\u001b[38;5;124;43m\"\u001b[39;49m\u001b[43m:\u001b[49m\u001b[43m \u001b[49m\u001b[43muser\u001b[49m\u001b[43m,\u001b[49m\n\u001b[1;32m    201\u001b[0m \u001b[43m            \u001b[49m\u001b[43m}\u001b[49m\u001b[43m,\u001b[49m\n\u001b[1;32m    202\u001b[0m \u001b[43m            \u001b[49m\u001b[43mcompletion_create_params\u001b[49m\u001b[38;5;241;43m.\u001b[39;49m\u001b[43mCompletionCreateParams\u001b[49m\u001b[43m,\u001b[49m\n\u001b[1;32m    203\u001b[0m \u001b[43m        \u001b[49m\u001b[43m)\u001b[49m\u001b[43m,\u001b[49m\n\u001b[1;32m    204\u001b[0m \u001b[43m        \u001b[49m\u001b[43moptions\u001b[49m\u001b[38;5;241;43m=\u001b[39;49m\u001b[43mmake_request_options\u001b[49m\u001b[43m(\u001b[49m\n\u001b[1;32m    205\u001b[0m \u001b[43m            \u001b[49m\u001b[43mextra_headers\u001b[49m\u001b[38;5;241;43m=\u001b[39;49m\u001b[43mextra_headers\u001b[49m\u001b[43m,\u001b[49m\u001b[43m \u001b[49m\u001b[43mextra_query\u001b[49m\u001b[38;5;241;43m=\u001b[39;49m\u001b[43mextra_query\u001b[49m\u001b[43m,\u001b[49m\u001b[43m \u001b[49m\u001b[43mextra_body\u001b[49m\u001b[38;5;241;43m=\u001b[39;49m\u001b[43mextra_body\u001b[49m\u001b[43m,\u001b[49m\u001b[43m \u001b[49m\u001b[43mtimeout\u001b[49m\u001b[38;5;241;43m=\u001b[39;49m\u001b[43mtimeout\u001b[49m\n\u001b[1;32m    206\u001b[0m \u001b[43m        \u001b[49m\u001b[43m)\u001b[49m\u001b[43m,\u001b[49m\n\u001b[1;32m    207\u001b[0m \u001b[43m        \u001b[49m\u001b[43mcast_to\u001b[49m\u001b[38;5;241;43m=\u001b[39;49m\u001b[43mChatCompletion\u001b[49m\u001b[43m,\u001b[49m\n\u001b[1;32m    208\u001b[0m \u001b[43m        \u001b[49m\u001b[43mstream\u001b[49m\u001b[38;5;241;43m=\u001b[39;49m\u001b[43mstream\u001b[49m\u001b[43m \u001b[49m\u001b[38;5;129;43;01mor\u001b[39;49;00m\u001b[43m \u001b[49m\u001b[38;5;28;43;01mFalse\u001b[39;49;00m\u001b[43m,\u001b[49m\n\u001b[1;32m    209\u001b[0m \u001b[43m        \u001b[49m\u001b[43mstream_cls\u001b[49m\u001b[38;5;241;43m=\u001b[39;49m\u001b[43mStream\u001b[49m\u001b[43m[\u001b[49m\u001b[43mChatCompletionChunk\u001b[49m\u001b[43m]\u001b[49m\u001b[43m,\u001b[49m\n\u001b[1;32m    210\u001b[0m \u001b[43m    \u001b[49m\u001b[43m)\u001b[49m\n",
      "File \u001b[0;32m/Applications/anaconda3/envs/astro/lib/python3.12/site-packages/groq/_base_client.py:1225\u001b[0m, in \u001b[0;36mSyncAPIClient.post\u001b[0;34m(self, path, cast_to, body, options, files, stream, stream_cls)\u001b[0m\n\u001b[1;32m   1211\u001b[0m \u001b[38;5;28;01mdef\u001b[39;00m \u001b[38;5;21mpost\u001b[39m(\n\u001b[1;32m   1212\u001b[0m     \u001b[38;5;28mself\u001b[39m,\n\u001b[1;32m   1213\u001b[0m     path: \u001b[38;5;28mstr\u001b[39m,\n\u001b[0;32m   (...)\u001b[0m\n\u001b[1;32m   1220\u001b[0m     stream_cls: \u001b[38;5;28mtype\u001b[39m[_StreamT] \u001b[38;5;241m|\u001b[39m \u001b[38;5;28;01mNone\u001b[39;00m \u001b[38;5;241m=\u001b[39m \u001b[38;5;28;01mNone\u001b[39;00m,\n\u001b[1;32m   1221\u001b[0m ) \u001b[38;5;241m-\u001b[39m\u001b[38;5;241m>\u001b[39m ResponseT \u001b[38;5;241m|\u001b[39m _StreamT:\n\u001b[1;32m   1222\u001b[0m     opts \u001b[38;5;241m=\u001b[39m FinalRequestOptions\u001b[38;5;241m.\u001b[39mconstruct(\n\u001b[1;32m   1223\u001b[0m         method\u001b[38;5;241m=\u001b[39m\u001b[38;5;124m\"\u001b[39m\u001b[38;5;124mpost\u001b[39m\u001b[38;5;124m\"\u001b[39m, url\u001b[38;5;241m=\u001b[39mpath, json_data\u001b[38;5;241m=\u001b[39mbody, files\u001b[38;5;241m=\u001b[39mto_httpx_files(files), \u001b[38;5;241m*\u001b[39m\u001b[38;5;241m*\u001b[39moptions\n\u001b[1;32m   1224\u001b[0m     )\n\u001b[0;32m-> 1225\u001b[0m     \u001b[38;5;28;01mreturn\u001b[39;00m cast(ResponseT, \u001b[38;5;28;43mself\u001b[39;49m\u001b[38;5;241;43m.\u001b[39;49m\u001b[43mrequest\u001b[49m\u001b[43m(\u001b[49m\u001b[43mcast_to\u001b[49m\u001b[43m,\u001b[49m\u001b[43m \u001b[49m\u001b[43mopts\u001b[49m\u001b[43m,\u001b[49m\u001b[43m \u001b[49m\u001b[43mstream\u001b[49m\u001b[38;5;241;43m=\u001b[39;49m\u001b[43mstream\u001b[49m\u001b[43m,\u001b[49m\u001b[43m \u001b[49m\u001b[43mstream_cls\u001b[49m\u001b[38;5;241;43m=\u001b[39;49m\u001b[43mstream_cls\u001b[49m\u001b[43m)\u001b[49m)\n",
      "File \u001b[0;32m/Applications/anaconda3/envs/astro/lib/python3.12/site-packages/groq/_base_client.py:920\u001b[0m, in \u001b[0;36mSyncAPIClient.request\u001b[0;34m(self, cast_to, options, remaining_retries, stream, stream_cls)\u001b[0m\n\u001b[1;32m    911\u001b[0m \u001b[38;5;28;01mdef\u001b[39;00m \u001b[38;5;21mrequest\u001b[39m(\n\u001b[1;32m    912\u001b[0m     \u001b[38;5;28mself\u001b[39m,\n\u001b[1;32m    913\u001b[0m     cast_to: Type[ResponseT],\n\u001b[0;32m   (...)\u001b[0m\n\u001b[1;32m    918\u001b[0m     stream_cls: \u001b[38;5;28mtype\u001b[39m[_StreamT] \u001b[38;5;241m|\u001b[39m \u001b[38;5;28;01mNone\u001b[39;00m \u001b[38;5;241m=\u001b[39m \u001b[38;5;28;01mNone\u001b[39;00m,\n\u001b[1;32m    919\u001b[0m ) \u001b[38;5;241m-\u001b[39m\u001b[38;5;241m>\u001b[39m ResponseT \u001b[38;5;241m|\u001b[39m _StreamT:\n\u001b[0;32m--> 920\u001b[0m     \u001b[38;5;28;01mreturn\u001b[39;00m \u001b[38;5;28;43mself\u001b[39;49m\u001b[38;5;241;43m.\u001b[39;49m\u001b[43m_request\u001b[49m\u001b[43m(\u001b[49m\n\u001b[1;32m    921\u001b[0m \u001b[43m        \u001b[49m\u001b[43mcast_to\u001b[49m\u001b[38;5;241;43m=\u001b[39;49m\u001b[43mcast_to\u001b[49m\u001b[43m,\u001b[49m\n\u001b[1;32m    922\u001b[0m \u001b[43m        \u001b[49m\u001b[43moptions\u001b[49m\u001b[38;5;241;43m=\u001b[39;49m\u001b[43moptions\u001b[49m\u001b[43m,\u001b[49m\n\u001b[1;32m    923\u001b[0m \u001b[43m        \u001b[49m\u001b[43mstream\u001b[49m\u001b[38;5;241;43m=\u001b[39;49m\u001b[43mstream\u001b[49m\u001b[43m,\u001b[49m\n\u001b[1;32m    924\u001b[0m \u001b[43m        \u001b[49m\u001b[43mstream_cls\u001b[49m\u001b[38;5;241;43m=\u001b[39;49m\u001b[43mstream_cls\u001b[49m\u001b[43m,\u001b[49m\n\u001b[1;32m    925\u001b[0m \u001b[43m        \u001b[49m\u001b[43mremaining_retries\u001b[49m\u001b[38;5;241;43m=\u001b[39;49m\u001b[43mremaining_retries\u001b[49m\u001b[43m,\u001b[49m\n\u001b[1;32m    926\u001b[0m \u001b[43m    \u001b[49m\u001b[43m)\u001b[49m\n",
      "File \u001b[0;32m/Applications/anaconda3/envs/astro/lib/python3.12/site-packages/groq/_base_client.py:1018\u001b[0m, in \u001b[0;36mSyncAPIClient._request\u001b[0;34m(self, cast_to, options, remaining_retries, stream, stream_cls)\u001b[0m\n\u001b[1;32m   1015\u001b[0m         err\u001b[38;5;241m.\u001b[39mresponse\u001b[38;5;241m.\u001b[39mread()\n\u001b[1;32m   1017\u001b[0m     log\u001b[38;5;241m.\u001b[39mdebug(\u001b[38;5;124m\"\u001b[39m\u001b[38;5;124mRe-raising status error\u001b[39m\u001b[38;5;124m\"\u001b[39m)\n\u001b[0;32m-> 1018\u001b[0m     \u001b[38;5;28;01mraise\u001b[39;00m \u001b[38;5;28mself\u001b[39m\u001b[38;5;241m.\u001b[39m_make_status_error_from_response(err\u001b[38;5;241m.\u001b[39mresponse) \u001b[38;5;28;01mfrom\u001b[39;00m \u001b[38;5;28;01mNone\u001b[39;00m\n\u001b[1;32m   1020\u001b[0m \u001b[38;5;28;01mreturn\u001b[39;00m \u001b[38;5;28mself\u001b[39m\u001b[38;5;241m.\u001b[39m_process_response(\n\u001b[1;32m   1021\u001b[0m     cast_to\u001b[38;5;241m=\u001b[39mcast_to,\n\u001b[1;32m   1022\u001b[0m     options\u001b[38;5;241m=\u001b[39moptions,\n\u001b[0;32m   (...)\u001b[0m\n\u001b[1;32m   1025\u001b[0m     stream_cls\u001b[38;5;241m=\u001b[39mstream_cls,\n\u001b[1;32m   1026\u001b[0m )\n",
      "\u001b[0;31mRateLimitError\u001b[0m: Error code: 429 - {'error': {'message': 'Rate limit reached for model `llama-3.1-70b-versatile` in organization `org_01j589f8a1f3r8tsnqww0ng0yz` on : Limit 1000000, Used 1000157, Requested 982. Please try again in 1m38.482999999s. Visit https://console.groq.com/docs/rate-limits for more information.', 'type': '', 'code': 'rate_limit_exceeded'}}"
     ]
    }
   ],
   "source": [
    "metrics_calc(type = 'two symptoms',method='llm', model_name= 'groq')"
   ]
  },
  {
   "cell_type": "code",
   "execution_count": null,
   "metadata": {},
   "outputs": [
    {
     "name": "stderr",
     "output_type": "stream",
     "text": [
      "9it [00:06,  1.49it/s]"
     ]
    },
    {
     "name": "stdout",
     "output_type": "stream",
     "text": [
      "['39-45', '21-23', '24-27', '78', '14-20']\n"
     ]
    },
    {
     "name": "stderr",
     "output_type": "stream",
     "text": [
      "14it [00:13,  1.03s/it]"
     ]
    },
    {
     "name": "stdout",
     "output_type": "stream",
     "text": [
      "['39-45', '46-51', 'V40-V49', '78']\n"
     ]
    },
    {
     "name": "stderr",
     "output_type": "stream",
     "text": [
      "15it [00:21,  1.84s/it]"
     ]
    },
    {
     "name": "stdout",
     "output_type": "stream",
     "text": [
      "['78', '29-31', '52-57', '39-45', '24-27', '71-73', '79']\n"
     ]
    },
    {
     "name": "stderr",
     "output_type": "stream",
     "text": [
      "27it [00:27,  1.04it/s]"
     ]
    },
    {
     "name": "stdout",
     "output_type": "stream",
     "text": [
      "['52-57', '39-45', '24-27', '96-99']\n"
     ]
    },
    {
     "name": "stderr",
     "output_type": "stream",
     "text": [
      "42it [00:35,  1.37it/s]"
     ]
    },
    {
     "name": "stdout",
     "output_type": "stream",
     "text": [
      "['39-45', '46-51', '71-73', '78', 'V40-V49']\n"
     ]
    },
    {
     "name": "stderr",
     "output_type": "stream",
     "text": [
      "44it [00:43,  1.03s/it]"
     ]
    },
    {
     "name": "stdout",
     "output_type": "stream",
     "text": [
      "['52-57', '24-27', '68-70', '39-45', '78', '58-62', '79']\n"
     ]
    },
    {
     "name": "stderr",
     "output_type": "stream",
     "text": [
      "53it [00:51,  1.02it/s]"
     ]
    },
    {
     "name": "stdout",
     "output_type": "stream",
     "text": [
      "['29-31', '78', '32-35', '96-99']\n"
     ]
    },
    {
     "name": "stderr",
     "output_type": "stream",
     "text": [
      "61it [00:59,  1.01it/s]"
     ]
    },
    {
     "name": "stdout",
     "output_type": "stream",
     "text": [
      "['39-45', '46-51', '78', '24-27', '28']\n"
     ]
    },
    {
     "name": "stderr",
     "output_type": "stream",
     "text": [
      "90it [01:08,  1.77it/s]"
     ]
    },
    {
     "name": "stdout",
     "output_type": "stream",
     "text": [
      "['78', '39-45', '21-23', '58-62', '52-57', '24-27']\n"
     ]
    },
    {
     "name": "stderr",
     "output_type": "stream",
     "text": [
      "94it [01:17,  1.37it/s]"
     ]
    },
    {
     "name": "stdout",
     "output_type": "stream",
     "text": [
      "['32-35', '39-45', '14-20', '78']\n"
     ]
    },
    {
     "name": "stderr",
     "output_type": "stream",
     "text": [
      "95it [01:22,  1.13it/s]"
     ]
    },
    {
     "name": "stdout",
     "output_type": "stream",
     "text": [
      "['14-20', '24-27', '36-38', '78']\n"
     ]
    },
    {
     "name": "stderr",
     "output_type": "stream",
     "text": [
      "109it [01:30,  1.32it/s]"
     ]
    },
    {
     "name": "stdout",
     "output_type": "stream",
     "text": [
      "['78', '24-27', '46-51', '71-73', '29-31', '39-45']\n"
     ]
    },
    {
     "name": "stderr",
     "output_type": "stream",
     "text": [
      "118it [01:38,  1.26it/s]"
     ]
    },
    {
     "name": "stdout",
     "output_type": "stream",
     "text": [
      "['78', '46-51', '24-27', '29-31']\n"
     ]
    },
    {
     "name": "stderr",
     "output_type": "stream",
     "text": [
      "135it [01:46,  1.51it/s]"
     ]
    },
    {
     "name": "stdout",
     "output_type": "stream",
     "text": [
      "['39-45', '71-73', '52-57', '24-27', '78']\n"
     ]
    },
    {
     "name": "stderr",
     "output_type": "stream",
     "text": [
      "138it [01:53,  1.21it/s]"
     ]
    },
    {
     "name": "stdout",
     "output_type": "stream",
     "text": [
      "['32-35', '80-83', '84-95', '78']\n"
     ]
    },
    {
     "name": "stderr",
     "output_type": "stream",
     "text": [
      "191it [02:01,  2.86it/s]"
     ]
    },
    {
     "name": "stdout",
     "output_type": "stream",
     "text": [
      "['39-45', '78', 'V40-V49', '24-27', '29-31']\n"
     ]
    },
    {
     "name": "stderr",
     "output_type": "stream",
     "text": [
      "200it [02:10,  1.54it/s]"
     ]
    },
    {
     "name": "stdout",
     "output_type": "stream",
     "text": [
      "['32-35', '39-45', '71-73', '52-57', '28', '78']\n",
      "Number of rows : 17\n",
      "[['24-27', '71-73', '52-57', '39-45', 'V40-V49', 'V10-V19'], ['24-27', '96-99', '46-51', '58-62', '39-45'], ['24-27', '52-57', '46-51', '58-62', '39-45', 'V40-V49'], ['39-45'], ['24-27', '71-73', '46-51', '39-45', 'V40-V49', '29-31', 'V10-V19'], ['52-57', '14-20', '00-10'], ['84-95'], ['24-27', '28', 'V10-V19', '39-45'], ['24-27', '39-45'], ['14-20', '39-45'], ['24-27', '52-57', '46-51', '14-20', 'V10-V19'], ['24-27', '96-99', '46-51', '58-62', '39-45'], ['28', '71-73', '78', '96-99', '39-45'], ['58-62', '39-45'], ['24-27', '80-83', '84-95', '39-45', 'V40-V49'], ['24-27', '28', '39-45'], ['24-27', 'V50-V59', '74-75', '39-45', '29-31', '00-10']]\n",
      "[['24-27', '78', '39-45', '21-23', '14-20'], ['V40-V49', '46-51', '78', '39-45'], ['24-27', '78', '71-73', '52-57', '79', '39-45', '29-31'], ['52-57', '24-27', '96-99', '39-45'], ['78', '71-73', '46-51', '39-45', 'V40-V49'], ['24-27', '78', '52-57', '79', '68-70', '58-62', '39-45'], ['96-99', '78', '32-35', '29-31'], ['24-27', '78', '28', '46-51', '39-45'], ['24-27', '78', '52-57', '58-62', '39-45', '21-23'], ['78', '14-20', '32-35', '39-45'], ['24-27', '78', '14-20', '36-38'], ['24-27', '78', '71-73', '46-51', '39-45', '29-31'], ['24-27', '46-51', '78', '29-31'], ['24-27', '78', '71-73', '52-57', '39-45'], ['80-83', '78', '32-35', '84-95'], ['24-27', '78', '39-45', 'V40-V49', '29-31'], ['28', '71-73', '78', '52-57', '32-35', '39-45']]\n",
      "Macro Averaged AUROC Score: 0.5847924066674066\n",
      "Micro Averaged Precision: 0.3764705882352941\n",
      "Micro Averaged Recall: 0.47058823529411764\n",
      "Micro Averaged F1-Score: 0.41830065359477125\n",
      "Macro Averaged Precision: 0.16461247086247086\n",
      "Macro Averaged Recall: 0.175706311232627\n",
      "Macro Averaged F1-Score: 0.15557755797693876\n"
     ]
    },
    {
     "name": "stderr",
     "output_type": "stream",
     "text": [
      "\n"
     ]
    }
   ],
   "source": [
    "metrics_calc(type = 'two symptoms',method='rag', model_name= 'groq')"
   ]
  },
  {
   "cell_type": "code",
   "execution_count": null,
   "metadata": {},
   "outputs": [
    {
     "name": "stderr",
     "output_type": "stream",
     "text": [
      "4it [00:00,  4.60it/s]"
     ]
    },
    {
     "name": "stdout",
     "output_type": "stream",
     "text": [
      "['39-45', '74-75', '21-23', '78']\n"
     ]
    },
    {
     "name": "stderr",
     "output_type": "stream",
     "text": [
      "10it [00:01,  6.54it/s]"
     ]
    },
    {
     "name": "stdout",
     "output_type": "stream",
     "text": [
      "['78', '32-35', '24-27', '39-45', '46-51']\n"
     ]
    },
    {
     "name": "stderr",
     "output_type": "stream",
     "text": [
      "29it [00:02, 14.70it/s]"
     ]
    },
    {
     "name": "stdout",
     "output_type": "stream",
     "text": [
      "['46-51', '78', '96-99']\n"
     ]
    },
    {
     "name": "stderr",
     "output_type": "stream",
     "text": [
      "31it [00:10,  2.09it/s]"
     ]
    },
    {
     "name": "stdout",
     "output_type": "stream",
     "text": [
      "['78', '32-35', '39-45']\n"
     ]
    },
    {
     "name": "stderr",
     "output_type": "stream",
     "text": [
      "32it [00:21,  1.20s/it]"
     ]
    },
    {
     "name": "stdout",
     "output_type": "stream",
     "text": [
      "['39-45', '52-57', '24-27', '78']\n"
     ]
    },
    {
     "name": "stderr",
     "output_type": "stream",
     "text": [
      "47it [00:33,  1.03it/s]"
     ]
    },
    {
     "name": "stdout",
     "output_type": "stream",
     "text": [
      "['46-51', '39-45', '24-27', '78']\n"
     ]
    },
    {
     "name": "stderr",
     "output_type": "stream",
     "text": [
      "49it [00:45,  1.45s/it]"
     ]
    },
    {
     "name": "stdout",
     "output_type": "stream",
     "text": [
      "['71-73', '78', '80-83', '32-35', '58-62', '79']\n"
     ]
    },
    {
     "name": "stderr",
     "output_type": "stream",
     "text": [
      "51it [00:57,  2.04s/it]"
     ]
    },
    {
     "name": "stdout",
     "output_type": "stream",
     "text": [
      "['46-51', '39-45', '24-27', '78']\n"
     ]
    },
    {
     "name": "stderr",
     "output_type": "stream",
     "text": [
      "52it [01:09,  2.88s/it]"
     ]
    },
    {
     "name": "stdout",
     "output_type": "stream",
     "text": [
      "['14-20', '39-45', '21-23']\n"
     ]
    },
    {
     "name": "stderr",
     "output_type": "stream",
     "text": [
      "55it [01:20,  3.10s/it]"
     ]
    },
    {
     "name": "stdout",
     "output_type": "stream",
     "text": [
      "['46-51', '78', '39-45', '24-27']\n"
     ]
    },
    {
     "name": "stderr",
     "output_type": "stream",
     "text": [
      "63it [01:33,  2.31s/it]"
     ]
    },
    {
     "name": "stdout",
     "output_type": "stream",
     "text": [
      "['46-51', '78', '39-45']\n"
     ]
    },
    {
     "name": "stderr",
     "output_type": "stream",
     "text": [
      "70it [01:45,  2.11s/it]"
     ]
    },
    {
     "name": "stdout",
     "output_type": "stream",
     "text": [
      "['39-45', '52-57', '24-27', '11-13', '68-70', '46-51']\n"
     ]
    },
    {
     "name": "stderr",
     "output_type": "stream",
     "text": [
      "75it [01:56,  2.15s/it]"
     ]
    },
    {
     "name": "stdout",
     "output_type": "stream",
     "text": [
      "['46-51', '39-45', '78']\n"
     ]
    },
    {
     "name": "stderr",
     "output_type": "stream",
     "text": [
      "79it [02:08,  2.31s/it]"
     ]
    },
    {
     "name": "stdout",
     "output_type": "stream",
     "text": [
      "['39-45', '46-51', '78']\n"
     ]
    },
    {
     "name": "stderr",
     "output_type": "stream",
     "text": [
      "87it [02:20,  2.00s/it]"
     ]
    },
    {
     "name": "stdout",
     "output_type": "stream",
     "text": [
      "['32-35', '39-45', '78', '24-27']\n"
     ]
    },
    {
     "name": "stderr",
     "output_type": "stream",
     "text": [
      "114it [02:31,  1.06it/s]"
     ]
    },
    {
     "name": "stdout",
     "output_type": "stream",
     "text": [
      "['39-45', '46-51', '78']\n"
     ]
    },
    {
     "name": "stderr",
     "output_type": "stream",
     "text": [
      "139it [02:43,  1.37it/s]"
     ]
    },
    {
     "name": "stdout",
     "output_type": "stream",
     "text": [
      "['39-45', '46-51', '78']\n"
     ]
    },
    {
     "name": "stderr",
     "output_type": "stream",
     "text": [
      "159it [02:55,  1.46it/s]"
     ]
    },
    {
     "name": "stdout",
     "output_type": "stream",
     "text": [
      "['71-73', '68-70', '58-62', '39-45', '21-23', '78', '79']\n"
     ]
    },
    {
     "name": "stderr",
     "output_type": "stream",
     "text": [
      "163it [03:07,  1.11it/s]"
     ]
    },
    {
     "name": "stdout",
     "output_type": "stream",
     "text": [
      "['39-45', '46-51', '78']\n"
     ]
    },
    {
     "name": "stderr",
     "output_type": "stream",
     "text": [
      "179it [03:19,  1.20it/s]"
     ]
    },
    {
     "name": "stdout",
     "output_type": "stream",
     "text": [
      "['46-51', '39-45', '78']\n"
     ]
    },
    {
     "name": "stderr",
     "output_type": "stream",
     "text": [
      "192it [03:30,  1.18it/s]"
     ]
    },
    {
     "name": "stdout",
     "output_type": "stream",
     "text": [
      "['46-51', '39-45', '24-27', '78']\n"
     ]
    },
    {
     "name": "stderr",
     "output_type": "stream",
     "text": [
      "196it [03:43,  1.10s/it]"
     ]
    },
    {
     "name": "stdout",
     "output_type": "stream",
     "text": [
      "['39-45', '78', '46-51', '29-31', '79']\n"
     ]
    },
    {
     "name": "stderr",
     "output_type": "stream",
     "text": [
      "197it [03:54,  1.50s/it]"
     ]
    },
    {
     "name": "stdout",
     "output_type": "stream",
     "text": [
      "['46-51', '71-73', '78']\n"
     ]
    },
    {
     "name": "stderr",
     "output_type": "stream",
     "text": [
      "200it [04:06,  1.23s/it]"
     ]
    },
    {
     "name": "stdout",
     "output_type": "stream",
     "text": [
      "['39-45', '46-51', '78', '24-27']\n",
      "Number of rows : 24\n",
      "[['78', '74-75', '39-45'], ['24-27', '78', 'V50-V59', '46-51', '79', '58-62', '39-45', 'V40-V49', '29-31', 'V10-V19'], ['24-27', '71-73', '96-99', '46-51', '79', '58-62', 'V40-V49', '14-20', '29-31', 'V10-V19', '00-10'], ['24-27', '78', '32-35', '39-45', 'V10-V19'], ['78', '28', '52-57', '96-99', '58-62', 'V40-V49', '29-31', 'V10-V19', '00-10'], ['46-51', '71-73', '39-45'], ['80-83', '28', '84-95'], ['V40-V49', '39-45'], ['21-23', '14-20', '39-45'], ['24-27', '71-73', '52-57', '58-62', '39-45', 'V40-V49', 'V10-V19'], ['24-27', '46-51', '32-35', '39-45'], ['24-27', '52-57', '39-45'], ['24-27', 'V10-V19', '58-62', '39-45'], ['V50-V59', '28', '32-35', '39-45'], ['24-27', '78', 'V50-V59', '96-99', '46-51', '39-45', '21-23', 'V10-V19'], ['24-27', '28', '71-73', '46-51', '39-45', 'V10-V19'], ['24-27', '39-45'], ['24-27', '28', '71-73', '96-99', '58-62', '32-35', '39-45', 'V10-V19'], ['24-27', '28', '39-45'], ['28', '78', '39-45', '14-20', 'V10-V19'], ['24-27', '78', '28', '96-99', '46-51', '58-62', '39-45', '00-10'], ['24-27', '46-51', '58-62', '39-45', 'V10-V19'], ['52-57', '46-51', 'V10-V19', '39-45'], ['24-27', '28', '39-45', 'V40-V49']]\n",
      "[['21-23', '78', '74-75', '39-45'], ['24-27', '78', '46-51', '32-35', '39-45'], ['96-99', '46-51', '78'], ['78', '32-35', '39-45'], ['52-57', '24-27', '78', '39-45'], ['24-27', '46-51', '78', '39-45'], ['80-83', '78', '71-73', '79', '58-62', '32-35'], ['24-27', '46-51', '78', '39-45'], ['21-23', '14-20', '39-45'], ['24-27', '46-51', '78', '39-45'], ['46-51', '78', '39-45'], ['24-27', '11-13', '52-57', '46-51', '68-70', '39-45'], ['46-51', '78', '39-45'], ['46-51', '78', '39-45'], ['24-27', '78', '32-35', '39-45'], ['46-51', '78', '39-45'], ['46-51', '78', '39-45'], ['78', '71-73', '79', '58-62', '68-70', '39-45', '21-23'], ['46-51', '78', '39-45'], ['46-51', '78', '39-45'], ['24-27', '46-51', '78', '39-45'], ['78', '46-51', '79', '39-45', '29-31'], ['46-51', '78', '71-73'], ['24-27', '46-51', '78', '39-45']]\n",
      "Macro Averaged AUROC Score: 0.6097125865231792\n",
      "Micro Averaged Precision: 0.5425531914893617\n",
      "Micro Averaged Recall: 0.4112903225806452\n",
      "Micro Averaged F1-Score: 0.46788990825688076\n",
      "Macro Averaged Precision: 0.23222327208395319\n",
      "Macro Averaged Recall: 0.19341060985797826\n",
      "Macro Averaged F1-Score: 0.18817168916987428\n"
     ]
    },
    {
     "name": "stderr",
     "output_type": "stream",
     "text": [
      "\n"
     ]
    }
   ],
   "source": [
    "metrics_calc(type = 'three symptoms',method='llm', model_name= 'groq')"
   ]
  },
  {
   "cell_type": "code",
   "execution_count": 1154,
   "metadata": {},
   "outputs": [
    {
     "name": "stderr",
     "output_type": "stream",
     "text": [
      "4it [00:01,  3.65it/s]"
     ]
    },
    {
     "name": "stdout",
     "output_type": "stream",
     "text": [
      "['39-45', '74-75', '78']\n"
     ]
    },
    {
     "name": "stderr",
     "output_type": "stream",
     "text": [
      "10it [00:01,  5.70it/s]"
     ]
    },
    {
     "name": "stdout",
     "output_type": "stream",
     "text": [
      "['78', '14-20', '46-51', '39-45', '24-27', '29-31', '11-13']\n"
     ]
    },
    {
     "name": "stderr",
     "output_type": "stream",
     "text": [
      "29it [00:02, 12.36it/s]"
     ]
    },
    {
     "name": "stdout",
     "output_type": "stream",
     "text": [
      "['46-51', '78', '24-27', '39-45', '11-13', '21-23', 'V40-V49', 'V60-V69']\n"
     ]
    },
    {
     "name": "stderr",
     "output_type": "stream",
     "text": [
      "31it [00:04,  6.85it/s]"
     ]
    },
    {
     "name": "stdout",
     "output_type": "stream",
     "text": [
      "['32-35', '39-45', '78', '96-99']\n"
     ]
    },
    {
     "name": "stderr",
     "output_type": "stream",
     "text": [
      "32it [00:05,  4.39it/s]"
     ]
    },
    {
     "name": "stdout",
     "output_type": "stream",
     "text": [
      "['78', '52-57', '24-27', '39-45', '11-13']\n"
     ]
    },
    {
     "name": "stderr",
     "output_type": "stream",
     "text": [
      "47it [00:06,  7.88it/s]"
     ]
    },
    {
     "name": "stdout",
     "output_type": "stream",
     "text": [
      "['78', '46-51', '24-27', '39-45', '96-99']\n"
     ]
    },
    {
     "name": "stderr",
     "output_type": "stream",
     "text": [
      "49it [00:07,  5.87it/s]"
     ]
    },
    {
     "name": "stdout",
     "output_type": "stream",
     "text": [
      "['71-73', '78', '29-31', '39-45', '52-57', '58-62', '80-83']\n"
     ]
    },
    {
     "name": "stderr",
     "output_type": "stream",
     "text": [
      "51it [00:08,  4.71it/s]"
     ]
    },
    {
     "name": "stdout",
     "output_type": "stream",
     "text": [
      "['46-51', '78', '39-45', '28', '24-27', '96-99']\n"
     ]
    },
    {
     "name": "stderr",
     "output_type": "stream",
     "text": [
      "52it [00:11,  2.49it/s]"
     ]
    },
    {
     "name": "stdout",
     "output_type": "stream",
     "text": [
      "['174-175', '39-45', '424']\n"
     ]
    },
    {
     "name": "stderr",
     "output_type": "stream",
     "text": [
      "55it [00:18,  1.06it/s]"
     ]
    },
    {
     "name": "stdout",
     "output_type": "stream",
     "text": [
      "['46-51', '78', '24-27', '28', '39-45']\n"
     ]
    },
    {
     "name": "stderr",
     "output_type": "stream",
     "text": [
      "63it [00:26,  1.00it/s]"
     ]
    },
    {
     "name": "stdout",
     "output_type": "stream",
     "text": [
      "['46-51', '14-20', '24-27', '78', '80-83', '79']\n"
     ]
    },
    {
     "name": "stderr",
     "output_type": "stream",
     "text": [
      "70it [00:33,  1.02it/s]"
     ]
    },
    {
     "name": "stdout",
     "output_type": "stream",
     "text": [
      "['39-45', '70-79', '29-31']\n"
     ]
    },
    {
     "name": "stderr",
     "output_type": "stream",
     "text": [
      "75it [00:40,  1.11s/it]"
     ]
    },
    {
     "name": "stdout",
     "output_type": "stream",
     "text": [
      "['46-51', '78', '39-45', '24-27', '96-99', '28']\n"
     ]
    },
    {
     "name": "stderr",
     "output_type": "stream",
     "text": [
      "79it [00:49,  1.35s/it]"
     ]
    },
    {
     "name": "stdout",
     "output_type": "stream",
     "text": [
      "['46-51', '39-45', '78', '24-27', 'V40-V49']\n"
     ]
    },
    {
     "name": "stderr",
     "output_type": "stream",
     "text": [
      "87it [00:57,  1.22s/it]"
     ]
    },
    {
     "name": "stdout",
     "output_type": "stream",
     "text": [
      "['78', '21-23', '24-27', '39-45', '71-73', '79']\n"
     ]
    },
    {
     "name": "stderr",
     "output_type": "stream",
     "text": [
      "114it [01:05,  1.64it/s]"
     ]
    },
    {
     "name": "stdout",
     "output_type": "stream",
     "text": [
      "['39-45', '46-51', '78', 'V10-V19', 'V40-V49', '24-27', '11-13', '14-20']\n"
     ]
    },
    {
     "name": "stderr",
     "output_type": "stream",
     "text": [
      "139it [01:13,  2.09it/s]"
     ]
    },
    {
     "name": "stdout",
     "output_type": "stream",
     "text": [
      "['39-45', '29-31', '78', '46-51', '71-73', '39-45', '24-27', '80-83']\n"
     ]
    },
    {
     "name": "stderr",
     "output_type": "stream",
     "text": [
      "159it [01:22,  2.12it/s]"
     ]
    },
    {
     "name": "stdout",
     "output_type": "stream",
     "text": [
      "['39-45', '78', '46-51', '58-62', '68-70', '79']\n"
     ]
    },
    {
     "name": "stderr",
     "output_type": "stream",
     "text": [
      "163it [01:30,  1.68it/s]"
     ]
    },
    {
     "name": "stdout",
     "output_type": "stream",
     "text": [
      "['39-45', '46-51', 'V40-V49', '78', '24-27', '11-13', '58-62', '52-57', '32-35']\n"
     ]
    },
    {
     "name": "stderr",
     "output_type": "stream",
     "text": [
      "179it [01:38,  1.74it/s]"
     ]
    },
    {
     "name": "stdout",
     "output_type": "stream",
     "text": [
      "['46-51', '28', '39-45', '79', '78']\n"
     ]
    },
    {
     "name": "stderr",
     "output_type": "stream",
     "text": [
      "192it [01:46,  1.75it/s]"
     ]
    },
    {
     "name": "stdout",
     "output_type": "stream",
     "text": [
      "['46-51', '28', '39-45', '78', '24-27', '79', '96-99']\n"
     ]
    },
    {
     "name": "stderr",
     "output_type": "stream",
     "text": [
      "196it [01:54,  1.36it/s]"
     ]
    },
    {
     "name": "stdout",
     "output_type": "stream",
     "text": [
      "['39-45', '78', '24-27', '29-31', '46-51', '96-99', '71-73', '52-57']\n"
     ]
    },
    {
     "name": "stderr",
     "output_type": "stream",
     "text": [
      "197it [02:00,  1.06it/s]"
     ]
    },
    {
     "name": "stdout",
     "output_type": "stream",
     "text": [
      "['21-23', '46-51', '68-70', '71-73']\n"
     ]
    },
    {
     "name": "stderr",
     "output_type": "stream",
     "text": [
      "198it [02:07,  1.26s/it]"
     ]
    },
    {
     "name": "stdout",
     "output_type": "stream",
     "text": [
      "['39-45', '46-51', '78']\n"
     ]
    },
    {
     "name": "stderr",
     "output_type": "stream",
     "text": [
      "202it [02:13,  1.32s/it]"
     ]
    },
    {
     "name": "stdout",
     "output_type": "stream",
     "text": [
      "['52-57', '39-45', '74-75']\n"
     ]
    },
    {
     "name": "stderr",
     "output_type": "stream",
     "text": [
      "211it [02:22,  1.19s/it]"
     ]
    },
    {
     "name": "stdout",
     "output_type": "stream",
     "text": [
      "['39-45', '28', '24-27', '71-73']\n"
     ]
    },
    {
     "name": "stderr",
     "output_type": "stream",
     "text": [
      "234it [02:31,  1.45it/s]"
     ]
    },
    {
     "name": "stdout",
     "output_type": "stream",
     "text": [
      "['78', '24-27', '39-45', '46-51', '68-70', '58-62', '11-13']\n"
     ]
    },
    {
     "name": "stderr",
     "output_type": "stream",
     "text": [
      "237it [02:40,  1.07it/s]"
     ]
    },
    {
     "name": "stdout",
     "output_type": "stream",
     "text": [
      "['78', '39-45', '46-51', '24-27', '11-13', '36-38']\n"
     ]
    },
    {
     "name": "stderr",
     "output_type": "stream",
     "text": [
      "244it [02:47,  1.05it/s]"
     ]
    },
    {
     "name": "stdout",
     "output_type": "stream",
     "text": [
      "['28', '39-45', '52-57', '24-27']\n"
     ]
    },
    {
     "name": "stderr",
     "output_type": "stream",
     "text": [
      "278it [02:55,  2.05it/s]"
     ]
    },
    {
     "name": "stdout",
     "output_type": "stream",
     "text": [
      "['14-20', '24-27', '36-38', '32-35', 'V40-V49', '29-31', '00-10', '78', '46-51', '52-57', 'V50-V59', '96-99', '71-73', '68-70', '28', '39-45', 'V10-V19', '79']\n"
     ]
    },
    {
     "name": "stderr",
     "output_type": "stream",
     "text": [
      "282it [03:04,  1.51it/s]"
     ]
    },
    {
     "name": "stdout",
     "output_type": "stream",
     "text": [
      "['39-45', '24-27', '78', '71-73']\n"
     ]
    },
    {
     "name": "stderr",
     "output_type": "stream",
     "text": [
      "307it [03:12,  1.98it/s]"
     ]
    },
    {
     "name": "stdout",
     "output_type": "stream",
     "text": [
      "['39-45', '24-27', '28', '78']\n"
     ]
    },
    {
     "name": "stderr",
     "output_type": "stream",
     "text": [
      "321it [03:19,  1.95it/s]"
     ]
    },
    {
     "name": "stdout",
     "output_type": "stream",
     "text": [
      "['78', '39-45', '46-51', '24-27', '29-31', '79'\n"
     ]
    },
    {
     "name": "stderr",
     "output_type": "stream",
     "text": [
      "332it [03:28,  1.76it/s]"
     ]
    },
    {
     "name": "stdout",
     "output_type": "stream",
     "text": [
      "['39-45', '24-27', '79', '46-51', '14-20', '68-70']\n"
     ]
    },
    {
     "name": "stderr",
     "output_type": "stream",
     "text": [
      "335it [03:36,  1.32it/s]"
     ]
    },
    {
     "name": "stdout",
     "output_type": "stream",
     "text": [
      "['78', '39-45', '24-27', '11-13', '28', '52-57']\n"
     ]
    },
    {
     "name": "stderr",
     "output_type": "stream",
     "text": [
      "349it [03:42,  1.55it/s]"
     ]
    },
    {
     "name": "stdout",
     "output_type": "stream",
     "text": [
      "['52-57', '39-45', '78', 'V10-V19', '24-27']\n"
     ]
    },
    {
     "name": "stderr",
     "output_type": "stream",
     "text": [
      "351it [03:51,  1.13it/s]"
     ]
    },
    {
     "name": "stdout",
     "output_type": "stream",
     "text": [
      "['32-35', '78', '80-83', '24-27', '14-20']\n"
     ]
    },
    {
     "name": "stderr",
     "output_type": "stream",
     "text": [
      "355it [04:02,  1.20s/it]"
     ]
    },
    {
     "name": "stdout",
     "output_type": "stream",
     "text": [
      "['78', '39-45', 'V40-V49', '71-73', '46-51', '24-27', 'V10-V19']\n"
     ]
    },
    {
     "name": "stderr",
     "output_type": "stream",
     "text": [
      "360it [04:08,  1.21s/it]"
     ]
    },
    {
     "name": "stdout",
     "output_type": "stream",
     "text": [
      "['39-45', '24-27', '46-51', '96-99', '78', '29-31']\n"
     ]
    },
    {
     "name": "stderr",
     "output_type": "stream",
     "text": [
      "364it [04:16,  1.34s/it]"
     ]
    },
    {
     "name": "stdout",
     "output_type": "stream",
     "text": [
      "['80-83', '28', '24-27']\n"
     ]
    },
    {
     "name": "stderr",
     "output_type": "stream",
     "text": [
      "375it [04:24,  1.09s/it]"
     ]
    },
    {
     "name": "stdout",
     "output_type": "stream",
     "text": [
      "['39-45', '24-27', '46-51', '78']\n"
     ]
    },
    {
     "name": "stderr",
     "output_type": "stream",
     "text": [
      "392it [04:31,  1.32it/s]"
     ]
    },
    {
     "name": "stdout",
     "output_type": "stream",
     "text": [
      "['46-51', '39-45', '78', '24-27']\n"
     ]
    },
    {
     "name": "stderr",
     "output_type": "stream",
     "text": [
      "397it [04:40,  1.08it/s]"
     ]
    },
    {
     "name": "stdout",
     "output_type": "stream",
     "text": [
      "['78', '46-51', '39-45', '24-27', '11-13', '14-20']\n"
     ]
    },
    {
     "name": "stderr",
     "output_type": "stream",
     "text": [
      "400it [04:49,  1.18s/it]"
     ]
    },
    {
     "name": "stdout",
     "output_type": "stream",
     "text": [
      "['71-73', '39-45', '78', '46-51', '58-62', '28']\n"
     ]
    },
    {
     "name": "stderr",
     "output_type": "stream",
     "text": [
      "406it [04:56,  1.21s/it]"
     ]
    },
    {
     "name": "stdout",
     "output_type": "stream",
     "text": [
      "['14-20', '78', '39-45', '52-57', '28', '11-13', '24-27']\n"
     ]
    },
    {
     "name": "stderr",
     "output_type": "stream",
     "text": [
      "408it [05:05,  1.54s/it]"
     ]
    },
    {
     "name": "stdout",
     "output_type": "stream",
     "text": [
      "['29-31', '78', '32-35', '39-45', '28', '24-27']\n"
     ]
    },
    {
     "name": "stderr",
     "output_type": "stream",
     "text": [
      "427it [05:13,  1.14it/s]"
     ]
    },
    {
     "name": "stdout",
     "output_type": "stream",
     "text": [
      "['14-20', '39-45', '78', 'V40-V49', '46-51', '68-70', 'V10-V19', '52-57', '36-38', '28', '79', '11-13', '24-27']\n"
     ]
    },
    {
     "name": "stderr",
     "output_type": "stream",
     "text": [
      "436it [05:22,  1.11it/s]"
     ]
    },
    {
     "name": "stdout",
     "output_type": "stream",
     "text": [
      "['39-45', '46-51', '78', 'V40-V49', '24-27', '32-35', '58-62', '11-13']\n"
     ]
    },
    {
     "name": "stderr",
     "output_type": "stream",
     "text": [
      "444it [05:28,  1.15it/s]"
     ]
    },
    {
     "name": "stdout",
     "output_type": "stream",
     "text": [
      "['39-45', '46-51', '36-38']\n"
     ]
    },
    {
     "name": "stderr",
     "output_type": "stream",
     "text": [
      "447it [05:37,  1.13s/it]"
     ]
    },
    {
     "name": "stdout",
     "output_type": "stream",
     "text": [
      "['52-57', '78', '58-62', '24-27', '11-13']\n"
     ]
    },
    {
     "name": "stderr",
     "output_type": "stream",
     "text": [
      "451it [05:45,  1.30s/it]"
     ]
    },
    {
     "name": "stdout",
     "output_type": "stream",
     "text": [
      "['52-57', '39-45', '58-62', '21-23', '24-27', '78']\n"
     ]
    },
    {
     "name": "stderr",
     "output_type": "stream",
     "text": [
      "464it [05:54,  1.00s/it]"
     ]
    },
    {
     "name": "stdout",
     "output_type": "stream",
     "text": [
      "['78', '52-57', '11-13', '24-27', '39-45', '46-51', '71-73']\n"
     ]
    },
    {
     "name": "stderr",
     "output_type": "stream",
     "text": [
      "474it [06:01,  1.08it/s]"
     ]
    },
    {
     "name": "stdout",
     "output_type": "stream",
     "text": [
      "['78', '32-35', '21-23', '79', '14-20']\n"
     ]
    },
    {
     "name": "stderr",
     "output_type": "stream",
     "text": [
      "490it [06:10,  1.34it/s]"
     ]
    },
    {
     "name": "stdout",
     "output_type": "stream",
     "text": [
      "['78', '71-73', '39-45', '24-27', '32-35', '14-20']\n"
     ]
    },
    {
     "name": "stderr",
     "output_type": "stream",
     "text": [
      "498it [06:20,  1.16it/s]"
     ]
    },
    {
     "name": "stdout",
     "output_type": "stream",
     "text": [
      "['78', '39-45', '24-27', '46-51', '96-99', '32-35', '79']\n"
     ]
    },
    {
     "name": "stderr",
     "output_type": "stream",
     "text": [
      "506it [06:26,  1.18it/s]"
     ]
    },
    {
     "name": "stdout",
     "output_type": "stream",
     "text": [
      "['39-45', '24-27', '78', '46-51', '71-73', 'V40-V49']\n"
     ]
    },
    {
     "name": "stderr",
     "output_type": "stream",
     "text": [
      "530it [06:34,  1.70it/s]"
     ]
    },
    {
     "name": "stdout",
     "output_type": "stream",
     "text": [
      "['39-45', '71-73', '24-27', '78']\n"
     ]
    },
    {
     "name": "stderr",
     "output_type": "stream",
     "text": [
      "537it [06:43,  1.44it/s]"
     ]
    },
    {
     "name": "stdout",
     "output_type": "stream",
     "text": [
      "['78', '46-51', '39-45', '28', '24-27', '79']\n"
     ]
    },
    {
     "name": "stderr",
     "output_type": "stream",
     "text": [
      "546it [06:52,  1.29it/s]"
     ]
    },
    {
     "name": "stdout",
     "output_type": "stream",
     "text": [
      "['39-45', '68-70', '78', '24-27', '79', '46-51']\n"
     ]
    },
    {
     "name": "stderr",
     "output_type": "stream",
     "text": [
      "591it [06:57,  2.84it/s]"
     ]
    },
    {
     "name": "stdout",
     "output_type": "stream",
     "text": [
      "['52-57', '24-27', '84-95']\n"
     ]
    },
    {
     "name": "stderr",
     "output_type": "stream",
     "text": [
      "595it [07:05,  2.10it/s]"
     ]
    },
    {
     "name": "stdout",
     "output_type": "stream",
     "text": [
      "['39-45', '46-51', '78', '24-27']\n"
     ]
    },
    {
     "name": "stderr",
     "output_type": "stream",
     "text": [
      "601it [07:14,  1.64it/s]"
     ]
    },
    {
     "name": "stdout",
     "output_type": "stream",
     "text": [
      "['58-62', '39-45', '78', '71-73', '28', '24-27']\n"
     ]
    },
    {
     "name": "stderr",
     "output_type": "stream",
     "text": [
      "621it [07:21,  1.95it/s]"
     ]
    },
    {
     "name": "stdout",
     "output_type": "stream",
     "text": [
      "['58-62', '39-45', '71-73', '52-57', '28']\n"
     ]
    },
    {
     "name": "stderr",
     "output_type": "stream",
     "text": [
      "629it [07:30,  1.60it/s]"
     ]
    },
    {
     "name": "stdout",
     "output_type": "stream",
     "text": [
      "['39-45', '78', '46-51', '68-70', '28', '52-57', '29-31']\n"
     ]
    },
    {
     "name": "stderr",
     "output_type": "stream",
     "text": [
      "642it [07:37,  1.65it/s]"
     ]
    },
    {
     "name": "stdout",
     "output_type": "stream",
     "text": [
      "['46-51', '28', '78', '39-45', '79', '24-27', '68-70', '96-99']\n"
     ]
    },
    {
     "name": "stderr",
     "output_type": "stream",
     "text": [
      "669it [07:45,  2.17it/s]"
     ]
    },
    {
     "name": "stdout",
     "output_type": "stream",
     "text": [
      "['52-57', '78', '39-45', '24-27', '58-62']\n"
     ]
    },
    {
     "name": "stderr",
     "output_type": "stream",
     "text": [
      "680it [07:52,  2.02it/s]"
     ]
    },
    {
     "name": "stdout",
     "output_type": "stream",
     "text": [
      "['39-45', '46-51', '67']\n"
     ]
    },
    {
     "name": "stderr",
     "output_type": "stream",
     "text": [
      "697it [07:59,  2.13it/s]"
     ]
    },
    {
     "name": "stdout",
     "output_type": "stream",
     "text": [
      "['39-45', '24-27', '46-51', '78', '79']\n"
     ]
    },
    {
     "name": "stderr",
     "output_type": "stream",
     "text": [
      "699it [08:07,  1.52it/s]"
     ]
    },
    {
     "name": "stdout",
     "output_type": "stream",
     "text": [
      "['78', '58-62', '39-45', '24-27', '11-13', '52-57', '28']\n"
     ]
    },
    {
     "name": "stderr",
     "output_type": "stream",
     "text": [
      "723it [08:15,  1.97it/s]"
     ]
    },
    {
     "name": "stdout",
     "output_type": "stream",
     "text": [
      "['39-45', 'V40-V49', '36-38', '46-51', '24-27', '52-57']\n"
     ]
    },
    {
     "name": "stderr",
     "output_type": "stream",
     "text": [
      "762it [08:25,  2.72it/s]"
     ]
    },
    {
     "name": "stdout",
     "output_type": "stream",
     "text": [
      "['32-35', '39-45', '71-73', '78', 'V40-V49', '96-99']\n"
     ]
    },
    {
     "name": "stderr",
     "output_type": "stream",
     "text": [
      "778it [08:32,  2.57it/s]"
     ]
    },
    {
     "name": "stdout",
     "output_type": "stream",
     "text": [
      "['78', '39-45', '46-51', '24-27', '68-70', '52-57', '79', 'V40-V49']\n"
     ]
    },
    {
     "name": "stderr",
     "output_type": "stream",
     "text": [
      "797it [08:40,  2.48it/s]"
     ]
    },
    {
     "name": "stdout",
     "output_type": "stream",
     "text": [
      "['39-45', '24-27', '36-38', 'V40-V49', '46-51']\n"
     ]
    },
    {
     "name": "stderr",
     "output_type": "stream",
     "text": [
      "806it [08:49,  2.05it/s]"
     ]
    },
    {
     "name": "stdout",
     "output_type": "stream",
     "text": [
      "['39-45', '46-51', '29-31', '78']\n"
     ]
    },
    {
     "name": "stderr",
     "output_type": "stream",
     "text": [
      "809it [08:57,  1.52it/s]"
     ]
    },
    {
     "name": "stdout",
     "output_type": "stream",
     "text": [
      "['78', '32-35', '24-27', '21-23', '11-13']\n"
     ]
    },
    {
     "name": "stderr",
     "output_type": "stream",
     "text": [
      "813it [09:06,  1.18it/s]"
     ]
    },
    {
     "name": "stdout",
     "output_type": "stream",
     "text": [
      "['46-51', '24-27', '39-45', '78']\n"
     ]
    },
    {
     "name": "stderr",
     "output_type": "stream",
     "text": [
      "839it [09:13,  1.83it/s]"
     ]
    },
    {
     "name": "stdout",
     "output_type": "stream",
     "text": [
      "['78', '39-45', '24-27', '46-51', '11-13', '28']\n"
     ]
    },
    {
     "name": "stderr",
     "output_type": "stream",
     "text": [
      "841it [09:22,  1.33it/s]"
     ]
    },
    {
     "name": "stdout",
     "output_type": "stream",
     "text": [
      "['39-45', '46-51', '24-27', 'V40-V49', 'V79-V79']\n"
     ]
    },
    {
     "name": "stderr",
     "output_type": "stream",
     "text": [
      "862it [09:30,  1.73it/s]"
     ]
    },
    {
     "name": "stdout",
     "output_type": "stream",
     "text": [
      "['78', '39-45', '58-62', '52-57', '24-27', '11-13', '46-51', '71-73', '29-31', 'V40-V49']\n"
     ]
    },
    {
     "name": "stderr",
     "output_type": "stream",
     "text": [
      "863it [09:38,  1.23it/s]"
     ]
    },
    {
     "name": "stdout",
     "output_type": "stream",
     "text": [
      "['58-62', '71-73', '39-45', '46-51', '96-99']\n"
     ]
    },
    {
     "name": "stderr",
     "output_type": "stream",
     "text": [
      "881it [09:45,  1.63it/s]"
     ]
    },
    {
     "name": "stdout",
     "output_type": "stream",
     "text": [
      "['84-95', '39-45', '52-57']\n"
     ]
    },
    {
     "name": "stderr",
     "output_type": "stream",
     "text": [
      "882it [09:52,  1.19it/s]"
     ]
    },
    {
     "name": "stdout",
     "output_type": "stream",
     "text": [
      "['80-83', '71-73', '52-57', '96-99', 'V88-V88']\n"
     ]
    },
    {
     "name": "stderr",
     "output_type": "stream",
     "text": [
      "916it [10:01,  2.10it/s]"
     ]
    },
    {
     "name": "stdout",
     "output_type": "stream",
     "text": [
      "['52-57', '24-27', '78', '36-38', '39-45', '79']\n"
     ]
    },
    {
     "name": "stderr",
     "output_type": "stream",
     "text": [
      "923it [10:06,  1.93it/s]"
     ]
    },
    {
     "name": "stdout",
     "output_type": "stream",
     "text": [
      "['80-83', '84-95', 'E00-E09']\n"
     ]
    },
    {
     "name": "stderr",
     "output_type": "stream",
     "text": [
      "926it [10:14,  1.41it/s]"
     ]
    },
    {
     "name": "stdout",
     "output_type": "stream",
     "text": [
      "['14-20', '29-31', '46-51', '78', '96-99']\n"
     ]
    },
    {
     "name": "stderr",
     "output_type": "stream",
     "text": [
      "936it [10:22,  1.34it/s]"
     ]
    },
    {
     "name": "stdout",
     "output_type": "stream",
     "text": [
      "['78', '29-31', '39-45', '68-70', '24-27', '32-35']\n"
     ]
    },
    {
     "name": "stderr",
     "output_type": "stream",
     "text": [
      "966it [10:31,  2.05it/s]"
     ]
    },
    {
     "name": "stdout",
     "output_type": "stream",
     "text": [
      "['14-20', '78', '39-45', '24-27', '79', 'V10-V19', '46-51', '32-35', '71-73']\n"
     ]
    },
    {
     "name": "stderr",
     "output_type": "stream",
     "text": [
      "971it [10:40,  1.56it/s]"
     ]
    },
    {
     "name": "stdout",
     "output_type": "stream",
     "text": [
      "['78', '52-57', '24-27', '39-45', '11-13', '21-23']\n"
     ]
    },
    {
     "name": "stderr",
     "output_type": "stream",
     "text": [
      "992it [10:47,  1.92it/s]"
     ]
    },
    {
     "name": "stdout",
     "output_type": "stream",
     "text": [
      "['39-45', '78', '24-27', '46-51', 'V40-V49']\n"
     ]
    },
    {
     "name": "stderr",
     "output_type": "stream",
     "text": [
      "997it [10:56,  1.50it/s]"
     ]
    },
    {
     "name": "stdout",
     "output_type": "stream",
     "text": [
      "['39-45', '46-51', '78', '96-99', 'V40-V49', 'V50-V59', '24-27']\n"
     ]
    },
    {
     "name": "stderr",
     "output_type": "stream",
     "text": [
      "1028it [11:03,  2.25it/s]"
     ]
    },
    {
     "name": "stdout",
     "output_type": "stream",
     "text": [
      "['78', '24-27', '28', '39-45']\n"
     ]
    },
    {
     "name": "stderr",
     "output_type": "stream",
     "text": [
      "1035it [11:12,  1.80it/s]"
     ]
    },
    {
     "name": "stdout",
     "output_type": "stream",
     "text": [
      "['39-45', '46-51', '24-27', 'V40-V49', '78']\n"
     ]
    },
    {
     "name": "stderr",
     "output_type": "stream",
     "text": [
      "1040it [11:20,  1.44it/s]"
     ]
    },
    {
     "name": "stdout",
     "output_type": "stream",
     "text": [
      "['46-51', '78', '14-20', '24-27', '39-45', '68-70']\n"
     ]
    },
    {
     "name": "stderr",
     "output_type": "stream",
     "text": [
      "1055it [11:28,  1.55it/s]"
     ]
    },
    {
     "name": "stdout",
     "output_type": "stream",
     "text": [
      "['78', '39-45', '46-51', '24-27', '32-35', '71-73', '68-70']\n"
     ]
    },
    {
     "name": "stderr",
     "output_type": "stream",
     "text": [
      "1087it [11:36,  2.26it/s]"
     ]
    },
    {
     "name": "stdout",
     "output_type": "stream",
     "text": [
      "['32-35', '39-45', '28', '71-73', '78', '46-51', '96-99']\n"
     ]
    },
    {
     "name": "stderr",
     "output_type": "stream",
     "text": [
      "1119it [11:45,  2.74it/s]"
     ]
    },
    {
     "name": "stdout",
     "output_type": "stream",
     "text": [
      "['78', '46-51', '39-45', '71-73', '58-62', '32-35', '68-70', '24-27']\n"
     ]
    },
    {
     "name": "stderr",
     "output_type": "stream",
     "text": [
      "1133it [11:53,  2.44it/s]"
     ]
    },
    {
     "name": "stdout",
     "output_type": "stream",
     "text": [
      "Here is the output:\n",
      "\n",
      "['46-51', '39-45', '28', '78', '24-27', '29-31']\n"
     ]
    },
    {
     "name": "stderr",
     "output_type": "stream",
     "text": [
      "1148it [12:01,  2.24it/s]"
     ]
    },
    {
     "name": "stdout",
     "output_type": "stream",
     "text": [
      "['80-83', '52-57', '21-23', '32-35', '39-45']\n"
     ]
    },
    {
     "name": "stderr",
     "output_type": "stream",
     "text": [
      "1164it [12:07,  2.32it/s]"
     ]
    },
    {
     "name": "stdout",
     "output_type": "stream",
     "text": [
      "['82-82', '78', '36-38', '14-20']\n"
     ]
    },
    {
     "name": "stderr",
     "output_type": "stream",
     "text": [
      "1176it [12:16,  2.03it/s]"
     ]
    },
    {
     "name": "stdout",
     "output_type": "stream",
     "text": [
      "Here is the Python list of relevant ICD-9 code categories based on the provided symptoms:\n",
      "\n",
      "['46-51', '28', '78', '39-45', '24-27', '14-20']\n"
     ]
    },
    {
     "name": "stderr",
     "output_type": "stream",
     "text": [
      "1188it [12:24,  1.84it/s]"
     ]
    },
    {
     "name": "stdout",
     "output_type": "stream",
     "text": [
      "['14-20', '21-23', '39-45', '46-51', '78']\n"
     ]
    },
    {
     "name": "stderr",
     "output_type": "stream",
     "text": [
      "1191it [12:32,  1.40it/s]"
     ]
    },
    {
     "name": "stdout",
     "output_type": "stream",
     "text": [
      "['52-57', '39-45', '24-27', '79', '78', '11-13', '28']\n"
     ]
    },
    {
     "name": "stderr",
     "output_type": "stream",
     "text": [
      "1200it [12:40,  1.32it/s]"
     ]
    },
    {
     "name": "stdout",
     "output_type": "stream",
     "text": [
      "['78', '39-45', '71-73', '29-31', '96-99', '79']\n"
     ]
    },
    {
     "name": "stderr",
     "output_type": "stream",
     "text": [
      "1203it [12:49,  1.02it/s]"
     ]
    },
    {
     "name": "stdout",
     "output_type": "stream",
     "text": [
      "['39-45', '24-27', '78', '52-57', '28', '11-13']\n"
     ]
    },
    {
     "name": "stderr",
     "output_type": "stream",
     "text": [
      "1223it [12:57,  1.44it/s]"
     ]
    },
    {
     "name": "stdout",
     "output_type": "stream",
     "text": [
      "['39-45', '46-51', '78', '24-27', '79']\n"
     ]
    },
    {
     "name": "stderr",
     "output_type": "stream",
     "text": [
      "1228it [13:05,  1.23it/s]"
     ]
    },
    {
     "name": "stdout",
     "output_type": "stream",
     "text": [
      "['28', '39-45', '58-62', '29-31', '78', '79', '52-57', '24-27', '11-13']\n"
     ]
    },
    {
     "name": "stderr",
     "output_type": "stream",
     "text": [
      "1234it [13:13,  1.07it/s]"
     ]
    },
    {
     "name": "stdout",
     "output_type": "stream",
     "text": [
      "['78', '46-51', '32-35', '71-73', '24-27']\n"
     ]
    },
    {
     "name": "stderr",
     "output_type": "stream",
     "text": [
      "1235it [13:21,  1.29s/it]"
     ]
    },
    {
     "name": "stdout",
     "output_type": "stream",
     "text": [
      "['78', '46-51', '39-45', '24-27', 'V40-V49', 'V10-V19']\n"
     ]
    },
    {
     "name": "stderr",
     "output_type": "stream",
     "text": [
      "1236it [13:30,  1.76s/it]"
     ]
    },
    {
     "name": "stdout",
     "output_type": "stream",
     "text": [
      "['46-51', '78', '39-45', '24-27']\n"
     ]
    },
    {
     "name": "stderr",
     "output_type": "stream",
     "text": [
      "1248it [13:35,  1.07s/it]"
     ]
    },
    {
     "name": "stdout",
     "output_type": "stream",
     "text": [
      "['11-13', '21-23', '39-45', '58-62', '63-66']\n"
     ]
    },
    {
     "name": "stderr",
     "output_type": "stream",
     "text": [
      "1255it [13:43,  1.10s/it]"
     ]
    },
    {
     "name": "stdout",
     "output_type": "stream",
     "text": [
      "['39-45', '24-27', '28']\n"
     ]
    },
    {
     "name": "stderr",
     "output_type": "stream",
     "text": [
      "1277it [13:49,  1.64it/s]"
     ]
    },
    {
     "name": "stdout",
     "output_type": "stream",
     "text": [
      "['11-13', '24-27', '36-38', '78']\n"
     ]
    },
    {
     "name": "stderr",
     "output_type": "stream",
     "text": [
      "1285it [13:57,  1.41it/s]"
     ]
    },
    {
     "name": "stdout",
     "output_type": "stream",
     "text": [
      "['39-45', '46-51', '24-27', '29-31', '78']\n"
     ]
    },
    {
     "name": "stderr",
     "output_type": "stream",
     "text": [
      "1288it [14:06,  1.04it/s]"
     ]
    },
    {
     "name": "stdout",
     "output_type": "stream",
     "text": [
      "['46-51', '39-45', '24-27', '28', '79', '78']\n"
     ]
    },
    {
     "name": "stderr",
     "output_type": "stream",
     "text": [
      "1295it [14:14,  1.01it/s]"
     ]
    },
    {
     "name": "stdout",
     "output_type": "stream",
     "text": [
      "['52-57', '21-23', '24-27', '39-45', '78', '28']\n"
     ]
    },
    {
     "name": "stderr",
     "output_type": "stream",
     "text": [
      "1319it [14:21,  1.66it/s]"
     ]
    },
    {
     "name": "stdout",
     "output_type": "stream",
     "text": [
      "['52-57', '24-27', '39-45', '78', '28', '14-20']\n"
     ]
    },
    {
     "name": "stderr",
     "output_type": "stream",
     "text": [
      "1321it [14:29,  1.21it/s]"
     ]
    },
    {
     "name": "stdout",
     "output_type": "stream",
     "text": [
      "['78', '28', '79', '24-27', '39-45']\n"
     ]
    },
    {
     "name": "stderr",
     "output_type": "stream",
     "text": [
      "1334it [14:35,  1.49it/s]"
     ]
    },
    {
     "name": "stdout",
     "output_type": "stream",
     "text": [
      "['78', '80-83', '84-95']\n"
     ]
    },
    {
     "name": "stderr",
     "output_type": "stream",
     "text": [
      "1338it [14:43,  1.15it/s]"
     ]
    },
    {
     "name": "stdout",
     "output_type": "stream",
     "text": [
      "['78', '46-51', '39-45', '52-57', '24-27', 'V10-V19', 'V50-V59']\n"
     ]
    },
    {
     "name": "stderr",
     "output_type": "stream",
     "text": [
      "1341it [14:52,  1.13s/it]"
     ]
    },
    {
     "name": "stdout",
     "output_type": "stream",
     "text": [
      "['39-45', '52-57', '24-27', '58-62', '79', '14-20']\n"
     ]
    },
    {
     "name": "stderr",
     "output_type": "stream",
     "text": [
      "1342it [15:00,  1.56s/it]"
     ]
    },
    {
     "name": "stdout",
     "output_type": "stream",
     "text": [
      "['39-45', '46-51', '78', '24-27', '11-13', '79', 'V50-V59', 'V40-V49']\n"
     ]
    },
    {
     "name": "stderr",
     "output_type": "stream",
     "text": [
      "1353it [15:09,  1.18s/it]"
     ]
    },
    {
     "name": "stdout",
     "output_type": "stream",
     "text": [
      "['46-51', '39-45', '78', '14-20', '24-27', '29-31', 'V40-V49']\n"
     ]
    },
    {
     "name": "stderr",
     "output_type": "stream",
     "text": [
      "1356it [15:16,  1.37s/it]"
     ]
    },
    {
     "name": "stdout",
     "output_type": "stream",
     "text": [
      "['52-57', '78', '28']\n"
     ]
    },
    {
     "name": "stderr",
     "output_type": "stream",
     "text": [
      "1367it [15:24,  1.09s/it]"
     ]
    },
    {
     "name": "stdout",
     "output_type": "stream",
     "text": [
      "['39-45', '21-23', '78', '46-51', 'V60-V69']\n"
     ]
    },
    {
     "name": "stderr",
     "output_type": "stream",
     "text": [
      "1372it [15:33,  1.27s/it]"
     ]
    },
    {
     "name": "stdout",
     "output_type": "stream",
     "text": [
      "['39-45', '46-51', '24-27', '28', 'V70-V82']\n"
     ]
    },
    {
     "name": "stderr",
     "output_type": "stream",
     "text": [
      "1380it [15:41,  1.16s/it]"
     ]
    },
    {
     "name": "stdout",
     "output_type": "stream",
     "text": [
      "['78', '52-57', '29-31', '14-20', '11-13', '24-27', '39-45']\n"
     ]
    },
    {
     "name": "stderr",
     "output_type": "stream",
     "text": [
      "1397it [15:49,  1.22it/s]"
     ]
    },
    {
     "name": "stdout",
     "output_type": "stream",
     "text": [
      "['39-45', '46-51', '28', '52-57', 'V40-V49', '78']\n"
     ]
    },
    {
     "name": "stderr",
     "output_type": "stream",
     "text": [
      "1405it [15:58,  1.14it/s]"
     ]
    },
    {
     "name": "stdout",
     "output_type": "stream",
     "text": [
      "['39-45', '78', '52-57', '24-27', '28', '11-13', '46-51']\n"
     ]
    },
    {
     "name": "stderr",
     "output_type": "stream",
     "text": [
      "1412it [16:06,  1.06it/s]"
     ]
    },
    {
     "name": "stdout",
     "output_type": "stream",
     "text": [
      "['39-45', '46-51', '78', '24-27', '96-99', '28', '79']\n"
     ]
    },
    {
     "name": "stderr",
     "output_type": "stream",
     "text": [
      "1428it [16:14,  1.33it/s]"
     ]
    },
    {
     "name": "stdout",
     "output_type": "stream",
     "text": [
      "['46-51', '78', '24-27', '39-45', '14-20']\n"
     ]
    },
    {
     "name": "stderr",
     "output_type": "stream",
     "text": [
      "1439it [16:22,  1.33it/s]"
     ]
    },
    {
     "name": "stdout",
     "output_type": "stream",
     "text": [
      "['46-51', '78', '39-45', '24-27', '29-31']\n"
     ]
    },
    {
     "name": "stderr",
     "output_type": "stream",
     "text": [
      "1441it [16:30,  1.01it/s]"
     ]
    },
    {
     "name": "stdout",
     "output_type": "stream",
     "text": [
      "['39-45', '46-51', '78', '24-27', '68-70']\n"
     ]
    },
    {
     "name": "stderr",
     "output_type": "stream",
     "text": [
      "1443it [16:39,  1.29s/it]"
     ]
    },
    {
     "name": "stdout",
     "output_type": "stream",
     "text": [
      "['78', '46-51', '24-27', '39-45', 'V10-V19', 'V40-V49']\n"
     ]
    },
    {
     "name": "stderr",
     "output_type": "stream",
     "text": [
      "1450it [16:47,  1.25s/it]"
     ]
    },
    {
     "name": "stdout",
     "output_type": "stream",
     "text": [
      "['71-73', '39-45', '24-27', '78', '46-51', '58-62', 'V40-V49', 'V50-V59']\n"
     ]
    },
    {
     "name": "stderr",
     "output_type": "stream",
     "text": [
      "1457it [16:55,  1.22s/it]"
     ]
    },
    {
     "name": "stdout",
     "output_type": "stream",
     "text": [
      "['78', '71-73', '39-45', '52-57', '11-13', '24-27']\n"
     ]
    },
    {
     "name": "stderr",
     "output_type": "stream",
     "text": [
      "1463it [17:03,  1.27s/it]"
     ]
    },
    {
     "name": "stdout",
     "output_type": "stream",
     "text": [
      "['39-45', '24-27', '52-57', '28', '78', 'V40-V49']\n"
     ]
    },
    {
     "name": "stderr",
     "output_type": "stream",
     "text": [
      "1467it [17:11,  1.43s/it]"
     ]
    },
    {
     "name": "stdout",
     "output_type": "stream",
     "text": [
      "['46-51', '78', '24-27', '39-45', '52-57']\n"
     ]
    },
    {
     "name": "stderr",
     "output_type": "stream",
     "text": [
      "1470it [17:20,  1.67s/it]"
     ]
    },
    {
     "name": "stdout",
     "output_type": "stream",
     "text": [
      "['39-45', '46-51', '71-73', '78', '96-99']\n"
     ]
    },
    {
     "name": "stderr",
     "output_type": "stream",
     "text": [
      "1498it [17:28,  1.45it/s]"
     ]
    },
    {
     "name": "stdout",
     "output_type": "stream",
     "text": [
      "['80-83', '71-73', '24-27', 'V40-V49', '84-95', '78', '39-45']\n"
     ]
    },
    {
     "name": "stderr",
     "output_type": "stream",
     "text": [
      "1512it [17:36,  1.51it/s]"
     ]
    },
    {
     "name": "stdout",
     "output_type": "stream",
     "text": [
      "['46-51', '78', '24-27', '29-31', 'V40-V49', 'V10-V19', '39-45', '14-20', '79']\n"
     ]
    },
    {
     "name": "stderr",
     "output_type": "stream",
     "text": [
      "1522it [17:43,  1.47it/s]"
     ]
    },
    {
     "name": "stdout",
     "output_type": "stream",
     "text": [
      "['46-51', '39-45', '28', '78', '24-27']\n"
     ]
    },
    {
     "name": "stderr",
     "output_type": "stream",
     "text": [
      "1546it [17:52,  1.91it/s]"
     ]
    },
    {
     "name": "stdout",
     "output_type": "stream",
     "text": [
      "['46-51', '39-45', '78', '29-31', '71-73']\n"
     ]
    },
    {
     "name": "stderr",
     "output_type": "stream",
     "text": [
      "1556it [18:00,  1.69it/s]"
     ]
    },
    {
     "name": "stdout",
     "output_type": "stream",
     "text": [
      "['39-45', '46-51', '28', '78', '24-27', '79']\n"
     ]
    },
    {
     "name": "stderr",
     "output_type": "stream",
     "text": [
      "1559it [18:08,  1.29it/s]"
     ]
    },
    {
     "name": "stdout",
     "output_type": "stream",
     "text": [
      "['46-51', '78', '39-45', '21-23', '29-31', '79']\n"
     ]
    },
    {
     "name": "stderr",
     "output_type": "stream",
     "text": [
      "1568it [18:15,  1.33it/s]"
     ]
    },
    {
     "name": "stdout",
     "output_type": "stream",
     "text": [
      "['21-23', '24-27', '46-51', '52-57']\n"
     ]
    },
    {
     "name": "stderr",
     "output_type": "stream",
     "text": [
      "1571it [18:23,  1.03it/s]"
     ]
    },
    {
     "name": "stdout",
     "output_type": "stream",
     "text": [
      "['46-51', '28', '78', '39-45', '24-27', '79', '11-13']\n"
     ]
    },
    {
     "name": "stderr",
     "output_type": "stream",
     "text": [
      "1573it [18:31,  1.29s/it]"
     ]
    },
    {
     "name": "stdout",
     "output_type": "stream",
     "text": [
      "['39-45', '46-51', '24-27', '78', '79']\n"
     ]
    },
    {
     "name": "stderr",
     "output_type": "stream",
     "text": [
      "1618it [18:39,  2.26it/s]"
     ]
    },
    {
     "name": "stdout",
     "output_type": "stream",
     "text": [
      "['39-45', '24-27', '28']\n"
     ]
    },
    {
     "name": "stderr",
     "output_type": "stream",
     "text": [
      "1623it [18:47,  1.74it/s]"
     ]
    },
    {
     "name": "stdout",
     "output_type": "stream",
     "text": [
      "['78', '71-73', '39-45', '46-51', '24-27', '29-31', 'V40-V49']\n"
     ]
    },
    {
     "name": "stderr",
     "output_type": "stream",
     "text": [
      "1631it [18:55,  1.51it/s]"
     ]
    },
    {
     "name": "stdout",
     "output_type": "stream",
     "text": [
      "['24-27', '39-45', '71-73', '28', '58-62', '79']\n"
     ]
    },
    {
     "name": "stderr",
     "output_type": "stream",
     "text": [
      "1647it [19:04,  1.63it/s]"
     ]
    },
    {
     "name": "stdout",
     "output_type": "stream",
     "text": [
      "['52-57', '28', '39-45', '11-13', '24-27', '78', '96-99']\n"
     ]
    },
    {
     "name": "stderr",
     "output_type": "stream",
     "text": [
      "1655it [19:12,  1.42it/s]"
     ]
    },
    {
     "name": "stdout",
     "output_type": "stream",
     "text": [
      "['39-45', '21-23', '46-51', '78']\n"
     ]
    },
    {
     "name": "stderr",
     "output_type": "stream",
     "text": [
      "1659it [19:20,  1.16it/s]"
     ]
    },
    {
     "name": "stdout",
     "output_type": "stream",
     "text": [
      "['78', '71-73', '32-35', '39-45', '84-95', 'V40-V49']\n"
     ]
    },
    {
     "name": "stderr",
     "output_type": "stream",
     "text": [
      "1664it [19:29,  1.02s/it]"
     ]
    },
    {
     "name": "stdout",
     "output_type": "stream",
     "text": [
      "['46-51', '39-45', '29-31', '78', 'V40-V49', '79']\n"
     ]
    },
    {
     "name": "stderr",
     "output_type": "stream",
     "text": [
      "1671it [19:36,  1.03s/it]"
     ]
    },
    {
     "name": "stdout",
     "output_type": "stream",
     "text": [
      "['46-51', '79', '78', '39-45', '24-27', '28']\n"
     ]
    },
    {
     "name": "stderr",
     "output_type": "stream",
     "text": [
      "1686it [19:44,  1.22it/s]"
     ]
    },
    {
     "name": "stdout",
     "output_type": "stream",
     "text": [
      "['28', '78', '46-51', '14-20', '24-27', '39-45']\n"
     ]
    },
    {
     "name": "stderr",
     "output_type": "stream",
     "text": [
      "1708it [19:53,  1.65it/s]"
     ]
    },
    {
     "name": "stdout",
     "output_type": "stream",
     "text": [
      "['58-62', '78', '24-27', '39-45', '68-70', '32-35']\n"
     ]
    },
    {
     "name": "stderr",
     "output_type": "stream",
     "text": [
      "1722it [20:01,  1.67it/s]"
     ]
    },
    {
     "name": "stdout",
     "output_type": "stream",
     "text": [
      "['39-45', '78', '28', '24-27', '71-73', '46-51']\n"
     ]
    },
    {
     "name": "stderr",
     "output_type": "stream",
     "text": [
      "1726it [20:09,  1.31it/s]"
     ]
    },
    {
     "name": "stdout",
     "output_type": "stream",
     "text": [
      "['39-45', '46-51', '78', '24-27', 'V40-V49', 'V87-V87', '96-99']\n"
     ]
    },
    {
     "name": "stderr",
     "output_type": "stream",
     "text": [
      "1728it [20:18,  1.03s/it]"
     ]
    },
    {
     "name": "stdout",
     "output_type": "stream",
     "text": [
      "['39-45', '24-27', '46-51', '71-73', 'V40-V49', 'V60-V69']\n"
     ]
    },
    {
     "name": "stderr",
     "output_type": "stream",
     "text": [
      "1745it [20:26,  1.29it/s]"
     ]
    },
    {
     "name": "stdout",
     "output_type": "stream",
     "text": [
      "['39-45', '46-51', '52-57', '78', '79', 'V40-V49']\n"
     ]
    },
    {
     "name": "stderr",
     "output_type": "stream",
     "text": [
      "1763it [20:35,  1.56it/s]"
     ]
    },
    {
     "name": "stdout",
     "output_type": "stream",
     "text": [
      "['78', '39-45', '46-51', '24-27', '28', 'V40-V49', '79']\n"
     ]
    },
    {
     "name": "stderr",
     "output_type": "stream",
     "text": [
      "1771it [20:43,  1.38it/s]"
     ]
    },
    {
     "name": "stdout",
     "output_type": "stream",
     "text": [
      "['78', '39-45', '46-51', '79', '24-27', '68-70']\n"
     ]
    },
    {
     "name": "stderr",
     "output_type": "stream",
     "text": [
      "1785it [20:51,  1.47it/s]"
     ]
    },
    {
     "name": "stdout",
     "output_type": "stream",
     "text": [
      "['78', '52-57', '24-27', '39-45', '46-51', '58-62', '28', '71-73', '68-70']\n"
     ]
    },
    {
     "name": "stderr",
     "output_type": "stream",
     "text": [
      "1787it [20:59,  1.11it/s]"
     ]
    },
    {
     "name": "stdout",
     "output_type": "stream",
     "text": [
      "['52-57', '78', '39-45', '79', '24-27', '11-13', '28', '14-20']\n"
     ]
    },
    {
     "name": "stderr",
     "output_type": "stream",
     "text": [
      "1792it [21:08,  1.04s/it]"
     ]
    },
    {
     "name": "stdout",
     "output_type": "stream",
     "text": [
      "['46-51', '78', '28', '39-45']\n"
     ]
    },
    {
     "name": "stderr",
     "output_type": "stream",
     "text": [
      "1800it [21:16,  1.04s/it]"
     ]
    },
    {
     "name": "stdout",
     "output_type": "stream",
     "text": [
      "['14-20', '52-57', '79', '28', '46-51', '79']\n"
     ]
    },
    {
     "name": "stderr",
     "output_type": "stream",
     "text": [
      "1803it [21:24,  1.28s/it]"
     ]
    },
    {
     "name": "stdout",
     "output_type": "stream",
     "text": [
      "['39-45', '46-51', '24-27']\n"
     ]
    },
    {
     "name": "stderr",
     "output_type": "stream",
     "text": [
      "1807it [21:33,  1.45s/it]"
     ]
    },
    {
     "name": "stdout",
     "output_type": "stream",
     "text": [
      "['39-45', 'V40-V49', '78', '24-27', 'V10-V19']\n"
     ]
    },
    {
     "name": "stderr",
     "output_type": "stream",
     "text": [
      "1810it [21:40,  1.63s/it]"
     ]
    },
    {
     "name": "stdout",
     "output_type": "stream",
     "text": [
      "['78', '46-51', '52-57', '24-27', '28', '79']\n"
     ]
    },
    {
     "name": "stderr",
     "output_type": "stream",
     "text": [
      "1835it [21:48,  1.35it/s]"
     ]
    },
    {
     "name": "stdout",
     "output_type": "stream",
     "text": [
      "['78', '46-51', '39-45', '24-27', '29-31', 'V10-V19', 'V40-V49']\n"
     ]
    },
    {
     "name": "stderr",
     "output_type": "stream",
     "text": [
      "1875it [21:57,  2.39it/s]"
     ]
    },
    {
     "name": "stdout",
     "output_type": "stream",
     "text": [
      "['78', '39-45', '46-51', '24-27', '28']\n"
     ]
    },
    {
     "name": "stderr",
     "output_type": "stream",
     "text": [
      "1888it [22:17,  1.49it/s]"
     ]
    },
    {
     "name": "stdout",
     "output_type": "stream",
     "text": [
      "['78', '29-31', '46-51', '71-73', '32-35', '39-45', '24-27', '79', '84-95']\n"
     ]
    },
    {
     "name": "stderr",
     "output_type": "stream",
     "text": [
      "1896it [22:18,  1.70it/s]"
     ]
    },
    {
     "name": "stdout",
     "output_type": "stream",
     "text": [
      "['78', '39-45', '46-51', '24-27', '29-31', '52-57', 'V40-V49', '36-38']\n"
     ]
    },
    {
     "name": "stderr",
     "output_type": "stream",
     "text": [
      "1901it [22:21,  1.69it/s]"
     ]
    },
    {
     "name": "stdout",
     "output_type": "stream",
     "text": [
      "['39-45', '24-27', '28', '78', '52-57', '36-38', '79']\n"
     ]
    },
    {
     "name": "stderr",
     "output_type": "stream",
     "text": [
      "1904it [22:30,  1.24it/s]"
     ]
    },
    {
     "name": "stdout",
     "output_type": "stream",
     "text": [
      "['52-57', '71-73', '36-38', '24-27', '11-13', '28', '39-45', '78']\n"
     ]
    },
    {
     "name": "stderr",
     "output_type": "stream",
     "text": [
      "1915it [22:38,  1.27it/s]"
     ]
    },
    {
     "name": "stdout",
     "output_type": "stream",
     "text": [
      "['39-45', '24-27', '52-57', '46-51', '96-99', '78']\n"
     ]
    },
    {
     "name": "stderr",
     "output_type": "stream",
     "text": [
      "1955it [22:46,  2.40it/s]"
     ]
    },
    {
     "name": "stdout",
     "output_type": "stream",
     "text": [
      "['78', '52-57', '39-45', '11-13', '24-27', 'V40-V49', 'V50-V59', '29-31']\n"
     ]
    },
    {
     "name": "stderr",
     "output_type": "stream",
     "text": [
      "1975it [22:55,  2.39it/s]"
     ]
    },
    {
     "name": "stdout",
     "output_type": "stream",
     "text": [
      "['46-51', '24-27', '11-13', '28', '78']\n"
     ]
    },
    {
     "name": "stderr",
     "output_type": "stream",
     "text": [
      "1990it [23:03,  2.20it/s]"
     ]
    },
    {
     "name": "stdout",
     "output_type": "stream",
     "text": [
      "['52-57', '71-73', '24-27', '39-45', '78', '79', 'V40-V49', 'V50-V59']\n"
     ]
    },
    {
     "name": "stderr",
     "output_type": "stream",
     "text": [
      "1993it [23:11,  1.64it/s]"
     ]
    },
    {
     "name": "stdout",
     "output_type": "stream",
     "text": [
      "['78', '39-45', '71-73', '79', '24-27', '32-35', '46-51']\n"
     ]
    },
    {
     "name": "stderr",
     "output_type": "stream",
     "text": [
      "2004it [23:20,  1.54it/s]"
     ]
    },
    {
     "name": "stdout",
     "output_type": "stream",
     "text": [
      "['46-51', '39-45', '28', '24-27']\n"
     ]
    },
    {
     "name": "stderr",
     "output_type": "stream",
     "text": [
      "2025it [23:28,  1.84it/s]"
     ]
    },
    {
     "name": "stdout",
     "output_type": "stream",
     "text": [
      "['46-51', '78', '52-57', '39-45', '24-27', 'V60-V69', '79', '28']\n"
     ]
    },
    {
     "name": "stderr",
     "output_type": "stream",
     "text": [
      "2038it [23:38,  1.68it/s]"
     ]
    },
    {
     "name": "stdout",
     "output_type": "stream",
     "text": [
      "['71-73', '39-45', '24-27', '79', '78']\n"
     ]
    },
    {
     "name": "stderr",
     "output_type": "stream",
     "text": [
      "2039it [23:45,  1.26it/s]"
     ]
    },
    {
     "name": "stdout",
     "output_type": "stream",
     "text": [
      "['78', '39-45', '52-57', '71-73', '96-99']\n"
     ]
    },
    {
     "name": "stderr",
     "output_type": "stream",
     "text": [
      "2047it [23:53,  1.17it/s]"
     ]
    },
    {
     "name": "stdout",
     "output_type": "stream",
     "text": [
      "['28', '39-45', '24-27', '21-23', '58-62', '78', '79']\n"
     ]
    },
    {
     "name": "stderr",
     "output_type": "stream",
     "text": [
      "2058it [24:03,  1.17it/s]"
     ]
    },
    {
     "name": "stdout",
     "output_type": "stream",
     "text": [
      "['39-45', '46-51', '58-62', '78']\n"
     ]
    },
    {
     "name": "stderr",
     "output_type": "stream",
     "text": [
      "2103it [24:10,  2.53it/s]"
     ]
    },
    {
     "name": "stdout",
     "output_type": "stream",
     "text": [
      "['39-45', '46-51', '29-31', '78', '68-70', 'V40-V49', '58-62', 'V85-V85']\n"
     ]
    },
    {
     "name": "stderr",
     "output_type": "stream",
     "text": [
      "2109it [24:18,  1.97it/s]"
     ]
    },
    {
     "name": "stdout",
     "output_type": "stream",
     "text": [
      "['46-51', '39-45', '78', '14-20', '28', '11-13', '24-27']\n"
     ]
    },
    {
     "name": "stderr",
     "output_type": "stream",
     "text": [
      "2115it [24:27,  1.58it/s]"
     ]
    },
    {
     "name": "stdout",
     "output_type": "stream",
     "text": [
      "['39-45', '46-51', '78', '32-35', 'V40-V49', '24-27', '11-13']\n"
     ]
    },
    {
     "name": "stderr",
     "output_type": "stream",
     "text": [
      "2129it [24:35,  1.60it/s]"
     ]
    },
    {
     "name": "stdout",
     "output_type": "stream",
     "text": [
      "['71-73', '39-45', '52-57', '58-62', '78', '80-83']\n"
     ]
    },
    {
     "name": "stderr",
     "output_type": "stream",
     "text": [
      "2130it [24:43,  1.21it/s]"
     ]
    },
    {
     "name": "stdout",
     "output_type": "stream",
     "text": [
      "['39-45', '46-51', '71-73', '78', '79']\n"
     ]
    },
    {
     "name": "stderr",
     "output_type": "stream",
     "text": [
      "2141it [24:49,  1.35it/s]"
     ]
    },
    {
     "name": "stdout",
     "output_type": "stream",
     "text": [
      "['53-54', '71-73', '78', '52-57', '36-38', '63-66']\n"
     ]
    },
    {
     "name": "stderr",
     "output_type": "stream",
     "text": [
      "2149it [24:54,  1.41it/s]"
     ]
    },
    {
     "name": "stdout",
     "output_type": "stream",
     "text": [
      "['86-88', '80-83', '52-57', '87-88', '24-27']\n"
     ]
    },
    {
     "name": "stderr",
     "output_type": "stream",
     "text": [
      "2156it [25:02,  1.22it/s]"
     ]
    },
    {
     "name": "stdout",
     "output_type": "stream",
     "text": [
      "['39-45', '24-27', '46-51', '78', '28', '14-20', '71-73', '52-57']\n"
     ]
    },
    {
     "name": "stderr",
     "output_type": "stream",
     "text": [
      "2160it [25:11,  1.07s/it]"
     ]
    },
    {
     "name": "stdout",
     "output_type": "stream",
     "text": [
      "['78', '29-31', '46-51', '71-73', '32-35', '39-45', '24-27']\n"
     ]
    },
    {
     "name": "stderr",
     "output_type": "stream",
     "text": [
      "2167it [25:19,  1.10s/it]"
     ]
    },
    {
     "name": "stdout",
     "output_type": "stream",
     "text": [
      "['78', '71-73', '39-45', '80-83', '24-27', '29-31', 'V10-V19']\n"
     ]
    },
    {
     "name": "stderr",
     "output_type": "stream",
     "text": [
      "2176it [25:27,  1.03s/it]"
     ]
    },
    {
     "name": "stdout",
     "output_type": "stream",
     "text": [
      "['21-23', '46-51', '39-45', '24-27', '28', '78']\n"
     ]
    },
    {
     "name": "stderr",
     "output_type": "stream",
     "text": [
      "2180it [25:33,  1.08s/it]"
     ]
    },
    {
     "name": "stdout",
     "output_type": "stream",
     "text": [
      "['39-45', '24-27', '46-51']\n"
     ]
    },
    {
     "name": "stderr",
     "output_type": "stream",
     "text": [
      "2184it [25:39,  1.19s/it]"
     ]
    },
    {
     "name": "stdout",
     "output_type": "stream",
     "text": [
      "['67', '39-45', '24-27', '21-23', '11-13', '14-20']\n"
     ]
    },
    {
     "name": "stderr",
     "output_type": "stream",
     "text": [
      "2212it [25:44,  1.95it/s]"
     ]
    },
    {
     "name": "stdout",
     "output_type": "stream",
     "text": [
      "['89-99', '21-23', '14-20']\n"
     ]
    },
    {
     "name": "stderr",
     "output_type": "stream",
     "text": [
      "2230it [25:53,  2.03it/s]"
     ]
    },
    {
     "name": "stdout",
     "output_type": "stream",
     "text": [
      "['46-51', '28', '79', '24-27', '39-45', 'V40-V49']\n"
     ]
    },
    {
     "name": "stderr",
     "output_type": "stream",
     "text": [
      "2234it [26:01,  1.48it/s]"
     ]
    },
    {
     "name": "stdout",
     "output_type": "stream",
     "text": [
      "['46-51', '39-45', '14-20']\n"
     ]
    },
    {
     "name": "stderr",
     "output_type": "stream",
     "text": [
      "2237it [26:09,  1.17it/s]"
     ]
    },
    {
     "name": "stdout",
     "output_type": "stream",
     "text": [
      "['39-45', '24-27', '78', '21-23', '14-20', '46-51']\n"
     ]
    },
    {
     "name": "stderr",
     "output_type": "stream",
     "text": [
      "2244it [26:17,  1.07it/s]"
     ]
    },
    {
     "name": "stdout",
     "output_type": "stream",
     "text": [
      "['46-51', '78', '24-27', '14-20', '39-45']\n"
     ]
    },
    {
     "name": "stderr",
     "output_type": "stream",
     "text": [
      "2246it [26:25,  1.26s/it]"
     ]
    },
    {
     "name": "stdout",
     "output_type": "stream",
     "text": [
      "['39-45', '24-27', '78', '28', '46-51', '21-23', '36-38']\n"
     ]
    },
    {
     "name": "stderr",
     "output_type": "stream",
     "text": [
      "2253it [26:34,  1.24s/it]"
     ]
    },
    {
     "name": "stdout",
     "output_type": "stream",
     "text": [
      "['52-57', '11-13', '24-27', '39-45', '79']\n"
     ]
    },
    {
     "name": "stderr",
     "output_type": "stream",
     "text": [
      "2254it [26:42,  1.67s/it]"
     ]
    },
    {
     "name": "stdout",
     "output_type": "stream",
     "text": [
      "['39-45', '14-20', '46-51', '24-27', '78', '79']\n"
     ]
    },
    {
     "name": "stderr",
     "output_type": "stream",
     "text": [
      "2256it [26:51,  2.08s/it]"
     ]
    },
    {
     "name": "stdout",
     "output_type": "stream",
     "text": [
      "['78', '39-45', '52-57', '71-73', '58-62', '11-13', '24-27']\n"
     ]
    },
    {
     "name": "stderr",
     "output_type": "stream",
     "text": [
      "2265it [26:59,  1.51s/it]"
     ]
    },
    {
     "name": "stdout",
     "output_type": "stream",
     "text": [
      "['39-45', '78', '46-51', 'V40-V49', 'V85-V85']\n"
     ]
    },
    {
     "name": "stderr",
     "output_type": "stream",
     "text": [
      "2268it [27:07,  1.70s/it]"
     ]
    },
    {
     "name": "stdout",
     "output_type": "stream",
     "text": [
      "['78', '46-51', '39-45', 'V40-V49', '29-31', '52-57', '24-27', '11-13']\n"
     ]
    },
    {
     "name": "stderr",
     "output_type": "stream",
     "text": [
      "2290it [27:15,  1.22it/s]"
     ]
    },
    {
     "name": "stdout",
     "output_type": "stream",
     "text": [
      "['46-51', '39-45', '78', '79', '24-27']\n"
     ]
    },
    {
     "name": "stderr",
     "output_type": "stream",
     "text": [
      "2294it [27:23,  1.01s/it]"
     ]
    },
    {
     "name": "stdout",
     "output_type": "stream",
     "text": [
      "['78', '46-51', '39-45', '29-31']\n"
     ]
    },
    {
     "name": "stderr",
     "output_type": "stream",
     "text": [
      "2328it [27:32,  1.93it/s]"
     ]
    },
    {
     "name": "stdout",
     "output_type": "stream",
     "text": [
      "['58-62', '78', '28', '39-45', '71-73', '24-27', '84-95']\n"
     ]
    },
    {
     "name": "stderr",
     "output_type": "stream",
     "text": [
      "2367it [27:41,  2.71it/s]"
     ]
    },
    {
     "name": "stdout",
     "output_type": "stream",
     "text": [
      "['39-45', '46-51', '78', '29-31']\n"
     ]
    },
    {
     "name": "stderr",
     "output_type": "stream",
     "text": [
      "2370it [27:48,  2.07it/s]"
     ]
    },
    {
     "name": "stdout",
     "output_type": "stream",
     "text": [
      "['52-57', '71-73', '39-45', '24-27', '78', '11-13']\n"
     ]
    },
    {
     "name": "stderr",
     "output_type": "stream",
     "text": [
      "2374it [27:56,  1.59it/s]"
     ]
    },
    {
     "name": "stdout",
     "output_type": "stream",
     "text": [
      "['39-45', '24-27', '71-73', '46-51', '29-31', '78']\n"
     ]
    },
    {
     "name": "stderr",
     "output_type": "stream",
     "text": [
      "2455it [28:05,  4.05it/s]"
     ]
    },
    {
     "name": "stdout",
     "output_type": "stream",
     "text": [
      "['78', '39-45', '32-35', '24-27', '79', '71-73', '11-13', '46-51']\n"
     ]
    },
    {
     "name": "stderr",
     "output_type": "stream",
     "text": [
      "2460it [28:13,  2.98it/s]"
     ]
    },
    {
     "name": "stdout",
     "output_type": "stream",
     "text": [
      "['46-51', '39-45', '24-27', '21-23', 'V40-V49']\n"
     ]
    },
    {
     "name": "stderr",
     "output_type": "stream",
     "text": [
      "2476it [28:22,  2.66it/s]"
     ]
    },
    {
     "name": "stdout",
     "output_type": "stream",
     "text": [
      "['46-51', '28', '39-45', '24-27', '78']\n"
     ]
    },
    {
     "name": "stderr",
     "output_type": "stream",
     "text": [
      "2486it [28:29,  2.26it/s]"
     ]
    },
    {
     "name": "stdout",
     "output_type": "stream",
     "text": [
      "['39-45', '24-27', '71-73', '78', '46-51']\n"
     ]
    },
    {
     "name": "stderr",
     "output_type": "stream",
     "text": [
      "2487it [28:38,  1.62it/s]"
     ]
    },
    {
     "name": "stdout",
     "output_type": "stream",
     "text": [
      "['78', '39-45', '52-57', '24-27', '14-20', '21-23', '29-31']\n"
     ]
    },
    {
     "name": "stderr",
     "output_type": "stream",
     "text": [
      "2492it [28:46,  1.32it/s]"
     ]
    },
    {
     "name": "stdout",
     "output_type": "stream",
     "text": [
      "['39-45', '24-27', '28', '11-13', '14-20', '78']\n"
     ]
    },
    {
     "name": "stderr",
     "output_type": "stream",
     "text": [
      "2496it [28:54,  1.08it/s]"
     ]
    },
    {
     "name": "stdout",
     "output_type": "stream",
     "text": [
      "['78', '32-35', '24-27', '11-13', '79', '00-10', '96-99']\n"
     ]
    },
    {
     "name": "stderr",
     "output_type": "stream",
     "text": [
      "2498it [29:02,  1.21s/it]"
     ]
    },
    {
     "name": "stdout",
     "output_type": "stream",
     "text": [
      "['78', '24-27', '11-13', '39-45', '71-73', '46-51', '58-62', '52-57']\n"
     ]
    },
    {
     "name": "stderr",
     "output_type": "stream",
     "text": [
      "2514it [29:10,  1.16it/s]"
     ]
    },
    {
     "name": "stdout",
     "output_type": "stream",
     "text": [
      "['52-57', '39-45', '29-31', '78', '71-73', '58-62', '46-51', '96-99', '68-70', '32-35', '80-83', '14-20']\n"
     ]
    },
    {
     "name": "stderr",
     "output_type": "stream",
     "text": [
      "2519it [29:19,  1.04s/it]"
     ]
    },
    {
     "name": "stdout",
     "output_type": "stream",
     "text": [
      "['32-35', '39-45', '46-51', '78', '24-27', '84-95']\n"
     ]
    },
    {
     "name": "stderr",
     "output_type": "stream",
     "text": [
      "2525it [29:28,  1.12s/it]"
     ]
    },
    {
     "name": "stdout",
     "output_type": "stream",
     "text": [
      "['78', '79', '24-27', '39-45', '46-51', '96-99']\n"
     ]
    },
    {
     "name": "stderr",
     "output_type": "stream",
     "text": [
      "2536it [29:36,  1.02it/s]"
     ]
    },
    {
     "name": "stdout",
     "output_type": "stream",
     "text": [
      "['32-35', '39-45', '78', '14-20', '24-27', '46-51']\n"
     ]
    },
    {
     "name": "stderr",
     "output_type": "stream",
     "text": [
      "2544it [29:44,  1.01it/s]"
     ]
    },
    {
     "name": "stdout",
     "output_type": "stream",
     "text": [
      "['58-62', '14-20', '78']\n"
     ]
    },
    {
     "name": "stderr",
     "output_type": "stream",
     "text": [
      "2548it [29:52,  1.17s/it]"
     ]
    },
    {
     "name": "stdout",
     "output_type": "stream",
     "text": [
      "['52-57', '11-13', '39-45', '78', '24-27', '71-73', '58-62']\n"
     ]
    },
    {
     "name": "stderr",
     "output_type": "stream",
     "text": [
      "2567it [30:00,  1.29it/s]"
     ]
    },
    {
     "name": "stdout",
     "output_type": "stream",
     "text": [
      "['46-51', '28', '39-45', '24-27', '78', '11-13']\n"
     ]
    },
    {
     "name": "stderr",
     "output_type": "stream",
     "text": [
      "2569it [30:09,  1.03s/it]"
     ]
    },
    {
     "name": "stdout",
     "output_type": "stream",
     "text": [
      "['39-45', '21-23', '46-51', '78', '28', '79', '24-27']\n"
     ]
    },
    {
     "name": "stderr",
     "output_type": "stream",
     "text": [
      "2572it [30:16,  1.22s/it]"
     ]
    },
    {
     "name": "stdout",
     "output_type": "stream",
     "text": [
      "['78', '39-45', '52-57', '24-27', '96-99', '58-62', '32-35', '29-31', '71-73', '68-70']\n"
     ]
    },
    {
     "name": "stderr",
     "output_type": "stream",
     "text": [
      "2606it [30:25,  1.83it/s]"
     ]
    },
    {
     "name": "stdout",
     "output_type": "stream",
     "text": [
      "['39-45', '32-35', '46-51', '78', '24-27', '79']\n"
     ]
    },
    {
     "name": "stderr",
     "output_type": "stream",
     "text": [
      "2607it [30:33,  1.31it/s]"
     ]
    },
    {
     "name": "stdout",
     "output_type": "stream",
     "text": [
      "['39-45', '46-51', '78', '24-27', '29-31', '79']\n"
     ]
    },
    {
     "name": "stderr",
     "output_type": "stream",
     "text": [
      "2612it [30:41,  1.09it/s]"
     ]
    },
    {
     "name": "stdout",
     "output_type": "stream",
     "text": [
      "['14-20', '78', '39-45', '46-51', '21-23', '68-70', '39-45']\n"
     ]
    },
    {
     "name": "stderr",
     "output_type": "stream",
     "text": [
      "2628it [30:50,  1.33it/s]"
     ]
    },
    {
     "name": "stdout",
     "output_type": "stream",
     "text": [
      "['14-20', '46-51', 'V40-V49', '21-23', '39-45', '78', '79', '24-27']\n"
     ]
    },
    {
     "name": "stderr",
     "output_type": "stream",
     "text": [
      "2635it [30:58,  1.18it/s]"
     ]
    },
    {
     "name": "stdout",
     "output_type": "stream",
     "text": [
      "['78', '39-45', '24-27', '46-51', 'V40-V49', 'V10-V19']\n"
     ]
    },
    {
     "name": "stderr",
     "output_type": "stream",
     "text": [
      "2641it [31:06,  1.04it/s]"
     ]
    },
    {
     "name": "stdout",
     "output_type": "stream",
     "text": [
      "['78', '39-45', '71-73', '52-57']\n"
     ]
    },
    {
     "name": "stderr",
     "output_type": "stream",
     "text": [
      "2657it [31:15,  1.31it/s]"
     ]
    },
    {
     "name": "stdout",
     "output_type": "stream",
     "text": [
      "['46-51', '39-45', '28', '24-27']\n"
     ]
    },
    {
     "name": "stderr",
     "output_type": "stream",
     "text": [
      "2660it [31:22,  1.07it/s]"
     ]
    },
    {
     "name": "stdout",
     "output_type": "stream",
     "text": [
      "['39-45', '71-73', '78', '46-51', '52-57', '29-31', '24-27', '79']\n"
     ]
    },
    {
     "name": "stderr",
     "output_type": "stream",
     "text": [
      "2665it [31:31,  1.12s/it]"
     ]
    },
    {
     "name": "stdout",
     "output_type": "stream",
     "text": [
      "['58-62', '78', '29-31', '46-51', 'V40-V49']\n"
     ]
    },
    {
     "name": "stderr",
     "output_type": "stream",
     "text": [
      "2670it [31:39,  1.24s/it]"
     ]
    },
    {
     "name": "stdout",
     "output_type": "stream",
     "text": [
      "['78', '39-45', '24-27', '96-99', '71-73', '46-51', 'V60-V69']\n"
     ]
    },
    {
     "name": "stderr",
     "output_type": "stream",
     "text": [
      "2672it [31:51,  1.74s/it]"
     ]
    },
    {
     "name": "stdout",
     "output_type": "stream",
     "text": [
      "['39-45', '78', '46-51', 'V40-V49', 'V10-V19', '24-27', '21-23']\n"
     ]
    },
    {
     "name": "stderr",
     "output_type": "stream",
     "text": [
      "2674it [31:56,  1.86s/it]"
     ]
    },
    {
     "name": "stdout",
     "output_type": "stream",
     "text": [
      "['46-51', '39-45', '28', '78', '24-27', '96-99', '79']\n"
     ]
    },
    {
     "name": "stderr",
     "output_type": "stream",
     "text": [
      "2675it [32:05,  2.51s/it]"
     ]
    },
    {
     "name": "stdout",
     "output_type": "stream",
     "text": [
      "['39-45', '46-51', '78', 'V60-V69', 'V40-V49']\n"
     ]
    },
    {
     "name": "stderr",
     "output_type": "stream",
     "text": [
      "2677it [32:12,  2.74s/it]"
     ]
    },
    {
     "name": "stdout",
     "output_type": "stream",
     "text": [
      "['46-51', '78', '39-45', '58-62', '24-27', '71-73', '67']\n"
     ]
    },
    {
     "name": "stderr",
     "output_type": "stream",
     "text": [
      "2679it [32:20,  3.05s/it]"
     ]
    },
    {
     "name": "stdout",
     "output_type": "stream",
     "text": [
      "['46-51', '39-45', '28', '78', '24-27', '14-20']\n"
     ]
    },
    {
     "name": "stderr",
     "output_type": "stream",
     "text": [
      "2681it [32:30,  3.41s/it]"
     ]
    },
    {
     "name": "stdout",
     "output_type": "stream",
     "text": [
      "['39-45', '46-51', '71-73', '78', 'V40-V49']\n"
     ]
    },
    {
     "name": "stderr",
     "output_type": "stream",
     "text": [
      "2686it [32:38,  2.57s/it]"
     ]
    },
    {
     "name": "stdout",
     "output_type": "stream",
     "text": [
      "['46-51', '78', '29-31', '39-45', '24-27', 'V40-V49', 'V60-V69']\n"
     ]
    },
    {
     "name": "stderr",
     "output_type": "stream",
     "text": [
      "2689it [32:46,  2.63s/it]"
     ]
    },
    {
     "name": "stdout",
     "output_type": "stream",
     "text": [
      "['39-45', '24-27', '46-51', '78', '28']\n"
     ]
    },
    {
     "name": "stderr",
     "output_type": "stream",
     "text": [
      "2717it [32:54,  1.28it/s]"
     ]
    },
    {
     "name": "stdout",
     "output_type": "stream",
     "text": [
      "['39-45', '46-51', '78', '24-27', '71-73', 'V40-V49', 'V10-V19', '68-70', '36-38', '32-35']\n"
     ]
    },
    {
     "name": "stderr",
     "output_type": "stream",
     "text": [
      "2727it [33:01,  1.31it/s]"
     ]
    },
    {
     "name": "stdout",
     "output_type": "stream",
     "text": [
      "['14-20', '39-45', '78', '32-35', '46-51', 'V60-V69']\n"
     ]
    },
    {
     "name": "stderr",
     "output_type": "stream",
     "text": [
      "2744it [33:10,  1.54it/s]"
     ]
    },
    {
     "name": "stdout",
     "output_type": "stream",
     "text": [
      "['78', '29-31', '32-35', '71-73', '46-51', '14-20', '96-99']\n"
     ]
    },
    {
     "name": "stderr",
     "output_type": "stream",
     "text": [
      "2768it [33:18,  1.96it/s]"
     ]
    },
    {
     "name": "stdout",
     "output_type": "stream",
     "text": [
      "['46-51', '78', '24-27', '39-45', '28', '11-13']\n"
     ]
    },
    {
     "name": "stderr",
     "output_type": "stream",
     "text": [
      "2770it [33:26,  1.44it/s]"
     ]
    },
    {
     "name": "stdout",
     "output_type": "stream",
     "text": [
      "['39-45', '78', '21-23', 'V88-V88', '71-73', 'V40-V49', '24-27', 'V60-V69', 'V10-V19']\n"
     ]
    },
    {
     "name": "stderr",
     "output_type": "stream",
     "text": [
      "2780it [33:34,  1.37it/s]"
     ]
    },
    {
     "name": "stdout",
     "output_type": "stream",
     "text": [
      "['71-73', '29-31', '78']\n"
     ]
    },
    {
     "name": "stderr",
     "output_type": "stream",
     "text": [
      "2787it [33:43,  1.22it/s]"
     ]
    },
    {
     "name": "stdout",
     "output_type": "stream",
     "text": [
      "['39-45', '46-51', '24-27', '71-73', '78', '79']\n"
     ]
    },
    {
     "name": "stderr",
     "output_type": "stream",
     "text": [
      "2827it [33:51,  2.32it/s]"
     ]
    },
    {
     "name": "stdout",
     "output_type": "stream",
     "text": [
      "['78', '46-51', '24-27', '14-20', '39-45', '28', '71-73', '32-35', '96-99']\n"
     ]
    },
    {
     "name": "stderr",
     "output_type": "stream",
     "text": [
      "2855it [34:00,  2.56it/s]"
     ]
    },
    {
     "name": "stdout",
     "output_type": "stream",
     "text": [
      "['32-35', '39-45', '78', '28', '29-31']\n"
     ]
    },
    {
     "name": "stderr",
     "output_type": "stream",
     "text": [
      "2875it [34:08,  2.52it/s]"
     ]
    },
    {
     "name": "stdout",
     "output_type": "stream",
     "text": [
      "['39-45', '46-51', '24-27', '28', '78']\n"
     ]
    },
    {
     "name": "stderr",
     "output_type": "stream",
     "text": [
      "2906it [34:16,  2.89it/s]"
     ]
    },
    {
     "name": "stdout",
     "output_type": "stream",
     "text": [
      "['29-31', '32-35', '46-51', '71-73', '78', '79', 'V40-V49']\n"
     ]
    },
    {
     "name": "stderr",
     "output_type": "stream",
     "text": [
      "2911it [34:25,  2.20it/s]"
     ]
    },
    {
     "name": "stdout",
     "output_type": "stream",
     "text": [
      "['78', '71-73', '46-51', '39-45', '28', '24-27']\n"
     ]
    },
    {
     "name": "stderr",
     "output_type": "stream",
     "text": [
      "2916it [34:33,  1.74it/s]"
     ]
    },
    {
     "name": "stdout",
     "output_type": "stream",
     "text": [
      "['39-45', '46-51', '78', '29-31', '24-27', 'V40-V49', 'V10-V19']\n"
     ]
    },
    {
     "name": "stderr",
     "output_type": "stream",
     "text": [
      "2956it [34:41,  2.68it/s]"
     ]
    },
    {
     "name": "stdout",
     "output_type": "stream",
     "text": [
      "['28', '52-57', '71-73', '39-45', '78', 'V10-V19']\n"
     ]
    },
    {
     "name": "stderr",
     "output_type": "stream",
     "text": [
      "2963it [34:49,  2.14it/s]"
     ]
    },
    {
     "name": "stdout",
     "output_type": "stream",
     "text": [
      "['39-45', '46-51', '28', '78']\n"
     ]
    },
    {
     "name": "stderr",
     "output_type": "stream",
     "text": [
      "2965it [34:57,  1.57it/s]"
     ]
    },
    {
     "name": "stdout",
     "output_type": "stream",
     "text": [
      "['46-51', '28', '39-45', '24-27', '78']\n"
     ]
    },
    {
     "name": "stderr",
     "output_type": "stream",
     "text": [
      "2967it [35:06,  1.17it/s]"
     ]
    },
    {
     "name": "stdout",
     "output_type": "stream",
     "text": [
      "['39-45', '24-27', '78', 'V40-V49', 'V60-V69']\n"
     ]
    },
    {
     "name": "stderr",
     "output_type": "stream",
     "text": [
      "2973it [35:13,  1.08it/s]"
     ]
    },
    {
     "name": "stdout",
     "output_type": "stream",
     "text": [
      "['39-45', '71-73', '24-27', 'V10-V19']\n"
     ]
    },
    {
     "name": "stderr",
     "output_type": "stream",
     "text": [
      "2973it [35:22,  1.40it/s]\n"
     ]
    },
    {
     "ename": "InternalServerError",
     "evalue": "upstream connect error or disconnect/reset before headers. reset reason: remote connection failure, transport failure reason: delayed connect error: Connection refused",
     "output_type": "error",
     "traceback": [
      "\u001b[0;31m---------------------------------------------------------------------------\u001b[0m",
      "\u001b[0;31mInternalServerError\u001b[0m                       Traceback (most recent call last)",
      "Cell \u001b[0;32mIn[1154], line 1\u001b[0m\n\u001b[0;32m----> 1\u001b[0m \u001b[43mmetrics_calc\u001b[49m\u001b[43m(\u001b[49m\u001b[38;5;28;43mtype\u001b[39;49m\u001b[43m \u001b[49m\u001b[38;5;241;43m=\u001b[39;49m\u001b[43m \u001b[49m\u001b[38;5;124;43m'\u001b[39;49m\u001b[38;5;124;43mthree symptoms\u001b[39;49m\u001b[38;5;124;43m'\u001b[39;49m\u001b[43m,\u001b[49m\u001b[43mmethod\u001b[49m\u001b[38;5;241;43m=\u001b[39;49m\u001b[38;5;124;43m'\u001b[39;49m\u001b[38;5;124;43mrag\u001b[39;49m\u001b[38;5;124;43m'\u001b[39;49m\u001b[43m,\u001b[49m\u001b[43m \u001b[49m\u001b[43mmodel_name\u001b[49m\u001b[38;5;241;43m=\u001b[39;49m\u001b[43m \u001b[49m\u001b[38;5;124;43m'\u001b[39;49m\u001b[38;5;124;43mgroq\u001b[39;49m\u001b[38;5;124;43m'\u001b[39;49m\u001b[43m)\u001b[49m\n",
      "Cell \u001b[0;32mIn[1149], line 40\u001b[0m, in \u001b[0;36mmetrics_calc\u001b[0;34m(type, raw_test_df, disease_df, method, model_name)\u001b[0m\n\u001b[1;32m     37\u001b[0m pred_labels \u001b[38;5;241m=\u001b[39m get_prioritized_relationships(j\u001b[38;5;241m.\u001b[39mSymptoms,weightage\u001b[38;5;241m=\u001b[39m\u001b[38;5;241m1\u001b[39m,limit\u001b[38;5;241m=\u001b[39m \u001b[38;5;241m20\u001b[39m )[\u001b[38;5;241m0\u001b[39m]\n\u001b[1;32m     39\u001b[0m code_desc_tuples \u001b[38;5;241m=\u001b[39m \u001b[38;5;28mlist\u001b[39m(\u001b[38;5;28mset\u001b[39m(disease_df[disease_df\u001b[38;5;241m.\u001b[39mCode\u001b[38;5;241m.\u001b[39misin(pred_labels)][[\u001b[38;5;124m'\u001b[39m\u001b[38;5;124mCode\u001b[39m\u001b[38;5;124m'\u001b[39m, \u001b[38;5;124m'\u001b[39m\u001b[38;5;124mDescription\u001b[39m\u001b[38;5;124m'\u001b[39m]]\u001b[38;5;241m.\u001b[39mreset_index(drop \u001b[38;5;241m=\u001b[39m \u001b[38;5;28;01mTrue\u001b[39;00m)\u001b[38;5;241m.\u001b[39mitertuples(index\u001b[38;5;241m=\u001b[39m\u001b[38;5;28;01mFalse\u001b[39;00m, name\u001b[38;5;241m=\u001b[39m\u001b[38;5;28;01mNone\u001b[39;00m)))\n\u001b[0;32m---> 40\u001b[0m refined_pred_labels \u001b[38;5;241m=\u001b[39m \u001b[43maug_and_gen\u001b[49m\u001b[43m(\u001b[49m\u001b[43mcode_desc_tuples\u001b[49m\u001b[43m,\u001b[49m\u001b[43mj\u001b[49m\u001b[38;5;241;43m.\u001b[39;49m\u001b[43mSymptoms\u001b[49m\u001b[43m,\u001b[49m\u001b[43mmodel\u001b[49m\u001b[43m \u001b[49m\u001b[38;5;241;43m=\u001b[39;49m\u001b[43mmodel_name\u001b[49m\u001b[43m,\u001b[49m\u001b[43mmethod\u001b[49m\u001b[43m \u001b[49m\u001b[38;5;241;43m=\u001b[39;49m\u001b[43m \u001b[49m\u001b[43mmethod\u001b[49m\u001b[43m)\u001b[49m\n\u001b[1;32m     41\u001b[0m \u001b[38;5;28mprint\u001b[39m(refined_pred_labels)\n\u001b[1;32m     42\u001b[0m refined_pred_labels \u001b[38;5;241m=\u001b[39m refined_pred_labels[\u001b[38;5;241m2\u001b[39m:\u001b[38;5;241m-\u001b[39m\u001b[38;5;241m2\u001b[39m]\u001b[38;5;241m.\u001b[39msplit(\u001b[38;5;124m\"\u001b[39m\u001b[38;5;124m'\u001b[39m\u001b[38;5;124m, \u001b[39m\u001b[38;5;124m'\u001b[39m\u001b[38;5;124m\"\u001b[39m)\n",
      "Cell \u001b[0;32mIn[1153], line 98\u001b[0m, in \u001b[0;36maug_and_gen\u001b[0;34m(codes, symptom, model, method)\u001b[0m\n\u001b[1;32m     96\u001b[0m \u001b[38;5;28;01mif\u001b[39;00m method \u001b[38;5;241m==\u001b[39m \u001b[38;5;124m'\u001b[39m\u001b[38;5;124mrag\u001b[39m\u001b[38;5;124m'\u001b[39m : \n\u001b[1;32m     97\u001b[0m     prompt_template \u001b[38;5;241m=\u001b[39m prompt_start \u001b[38;5;241m+\u001b[39m kg_prompt \u001b[38;5;241m+\u001b[39m \u001b[38;5;28mstr\u001b[39m(codes)\n\u001b[0;32m---> 98\u001b[0m     chat_completion \u001b[38;5;241m=\u001b[39m \u001b[43mclient\u001b[49m\u001b[38;5;241;43m.\u001b[39;49m\u001b[43mchat\u001b[49m\u001b[38;5;241;43m.\u001b[39;49m\u001b[43mcompletions\u001b[49m\u001b[38;5;241;43m.\u001b[39;49m\u001b[43mcreate\u001b[49m\u001b[43m(\u001b[49m\n\u001b[1;32m     99\u001b[0m \u001b[43m    \u001b[49m\u001b[43mmessages\u001b[49m\u001b[38;5;241;43m=\u001b[39;49m\u001b[43m[\u001b[49m\n\u001b[1;32m    100\u001b[0m \u001b[43m        \u001b[49m\u001b[43m{\u001b[49m\n\u001b[1;32m    101\u001b[0m \u001b[43m            \u001b[49m\u001b[38;5;124;43m\"\u001b[39;49m\u001b[38;5;124;43mrole\u001b[39;49m\u001b[38;5;124;43m\"\u001b[39;49m\u001b[43m:\u001b[49m\u001b[43m \u001b[49m\u001b[38;5;124;43m\"\u001b[39;49m\u001b[38;5;124;43muser\u001b[39;49m\u001b[38;5;124;43m\"\u001b[39;49m\u001b[43m,\u001b[49m\n\u001b[1;32m    102\u001b[0m \u001b[43m            \u001b[49m\u001b[38;5;124;43m\"\u001b[39;49m\u001b[38;5;124;43mcontent\u001b[39;49m\u001b[38;5;124;43m\"\u001b[39;49m\u001b[43m:\u001b[49m\u001b[43m \u001b[49m\u001b[38;5;124;43mf\u001b[39;49m\u001b[38;5;124;43m\"\u001b[39;49m\u001b[38;5;132;43;01m{\u001b[39;49;00m\u001b[43mprompt_template\u001b[49m\u001b[38;5;132;43;01m}\u001b[39;49;00m\u001b[38;5;124;43m\"\u001b[39;49m\u001b[43m,\u001b[49m\n\u001b[1;32m    103\u001b[0m \u001b[43m        \u001b[49m\u001b[43m}\u001b[49m\n\u001b[1;32m    104\u001b[0m \u001b[43m    \u001b[49m\u001b[43m]\u001b[49m\u001b[43m,\u001b[49m\n\u001b[1;32m    105\u001b[0m \u001b[43m    \u001b[49m\u001b[43mmodel\u001b[49m\u001b[38;5;241;43m=\u001b[39;49m\u001b[38;5;124;43m\"\u001b[39;49m\u001b[38;5;124;43mllama3-70b-8192\u001b[39;49m\u001b[38;5;124;43m\"\u001b[39;49m\u001b[43m,\u001b[49m\n\u001b[1;32m    106\u001b[0m \u001b[43m\u001b[49m\u001b[43m)\u001b[49m\n\u001b[1;32m    108\u001b[0m     response \u001b[38;5;241m=\u001b[39m chat_completion\u001b[38;5;241m.\u001b[39mchoices[\u001b[38;5;241m0\u001b[39m]\u001b[38;5;241m.\u001b[39mmessage\u001b[38;5;241m.\u001b[39mcontent\n\u001b[1;32m    110\u001b[0m \u001b[38;5;28;01mif\u001b[39;00m method \u001b[38;5;241m==\u001b[39m \u001b[38;5;124m'\u001b[39m\u001b[38;5;124mllm\u001b[39m\u001b[38;5;124m'\u001b[39m : \n",
      "File \u001b[0;32m/Applications/anaconda3/envs/astro/lib/python3.12/site-packages/groq/resources/chat/completions.py:179\u001b[0m, in \u001b[0;36mCompletions.create\u001b[0;34m(self, messages, model, frequency_penalty, logit_bias, logprobs, max_tokens, n, presence_penalty, response_format, seed, stop, stream, temperature, tool_choice, tools, top_logprobs, top_p, user, extra_headers, extra_query, extra_body, timeout)\u001b[0m\n\u001b[1;32m    136\u001b[0m \u001b[38;5;28;01mdef\u001b[39;00m \u001b[38;5;21mcreate\u001b[39m(\n\u001b[1;32m    137\u001b[0m     \u001b[38;5;28mself\u001b[39m,\n\u001b[1;32m    138\u001b[0m     \u001b[38;5;241m*\u001b[39m,\n\u001b[0;32m   (...)\u001b[0m\n\u001b[1;32m    162\u001b[0m     timeout: \u001b[38;5;28mfloat\u001b[39m \u001b[38;5;241m|\u001b[39m httpx\u001b[38;5;241m.\u001b[39mTimeout \u001b[38;5;241m|\u001b[39m \u001b[38;5;28;01mNone\u001b[39;00m \u001b[38;5;241m|\u001b[39m NotGiven \u001b[38;5;241m=\u001b[39m NOT_GIVEN,\n\u001b[1;32m    163\u001b[0m ) \u001b[38;5;241m-\u001b[39m\u001b[38;5;241m>\u001b[39m ChatCompletion \u001b[38;5;241m|\u001b[39m Stream[ChatCompletionChunk]:\n\u001b[1;32m    164\u001b[0m \u001b[38;5;250m    \u001b[39m\u001b[38;5;124;03m\"\"\"\u001b[39;00m\n\u001b[1;32m    165\u001b[0m \u001b[38;5;124;03m    Creates a completion for a chat prompt\u001b[39;00m\n\u001b[1;32m    166\u001b[0m \n\u001b[0;32m   (...)\u001b[0m\n\u001b[1;32m    177\u001b[0m \u001b[38;5;124;03m      timeout: Override the client-level default timeout for this request, in seconds\u001b[39;00m\n\u001b[1;32m    178\u001b[0m \u001b[38;5;124;03m    \"\"\"\u001b[39;00m\n\u001b[0;32m--> 179\u001b[0m     \u001b[38;5;28;01mreturn\u001b[39;00m \u001b[38;5;28;43mself\u001b[39;49m\u001b[38;5;241;43m.\u001b[39;49m\u001b[43m_post\u001b[49m\u001b[43m(\u001b[49m\n\u001b[1;32m    180\u001b[0m \u001b[43m        \u001b[49m\u001b[38;5;124;43m\"\u001b[39;49m\u001b[38;5;124;43m/openai/v1/chat/completions\u001b[39;49m\u001b[38;5;124;43m\"\u001b[39;49m\u001b[43m,\u001b[49m\n\u001b[1;32m    181\u001b[0m \u001b[43m        \u001b[49m\u001b[43mbody\u001b[49m\u001b[38;5;241;43m=\u001b[39;49m\u001b[43mmaybe_transform\u001b[49m\u001b[43m(\u001b[49m\n\u001b[1;32m    182\u001b[0m \u001b[43m            \u001b[49m\u001b[43m{\u001b[49m\n\u001b[1;32m    183\u001b[0m \u001b[43m                \u001b[49m\u001b[38;5;124;43m\"\u001b[39;49m\u001b[38;5;124;43mmessages\u001b[39;49m\u001b[38;5;124;43m\"\u001b[39;49m\u001b[43m:\u001b[49m\u001b[43m \u001b[49m\u001b[43mmessages\u001b[49m\u001b[43m,\u001b[49m\n\u001b[1;32m    184\u001b[0m \u001b[43m                \u001b[49m\u001b[38;5;124;43m\"\u001b[39;49m\u001b[38;5;124;43mmodel\u001b[39;49m\u001b[38;5;124;43m\"\u001b[39;49m\u001b[43m:\u001b[49m\u001b[43m \u001b[49m\u001b[43mmodel\u001b[49m\u001b[43m,\u001b[49m\n\u001b[1;32m    185\u001b[0m \u001b[43m                \u001b[49m\u001b[38;5;124;43m\"\u001b[39;49m\u001b[38;5;124;43mfrequency_penalty\u001b[39;49m\u001b[38;5;124;43m\"\u001b[39;49m\u001b[43m:\u001b[49m\u001b[43m \u001b[49m\u001b[43mfrequency_penalty\u001b[49m\u001b[43m,\u001b[49m\n\u001b[1;32m    186\u001b[0m \u001b[43m                \u001b[49m\u001b[38;5;124;43m\"\u001b[39;49m\u001b[38;5;124;43mlogit_bias\u001b[39;49m\u001b[38;5;124;43m\"\u001b[39;49m\u001b[43m:\u001b[49m\u001b[43m \u001b[49m\u001b[43mlogit_bias\u001b[49m\u001b[43m,\u001b[49m\n\u001b[1;32m    187\u001b[0m \u001b[43m                \u001b[49m\u001b[38;5;124;43m\"\u001b[39;49m\u001b[38;5;124;43mlogprobs\u001b[39;49m\u001b[38;5;124;43m\"\u001b[39;49m\u001b[43m:\u001b[49m\u001b[43m \u001b[49m\u001b[43mlogprobs\u001b[49m\u001b[43m,\u001b[49m\n\u001b[1;32m    188\u001b[0m \u001b[43m                \u001b[49m\u001b[38;5;124;43m\"\u001b[39;49m\u001b[38;5;124;43mmax_tokens\u001b[39;49m\u001b[38;5;124;43m\"\u001b[39;49m\u001b[43m:\u001b[49m\u001b[43m \u001b[49m\u001b[43mmax_tokens\u001b[49m\u001b[43m,\u001b[49m\n\u001b[1;32m    189\u001b[0m \u001b[43m                \u001b[49m\u001b[38;5;124;43m\"\u001b[39;49m\u001b[38;5;124;43mn\u001b[39;49m\u001b[38;5;124;43m\"\u001b[39;49m\u001b[43m:\u001b[49m\u001b[43m \u001b[49m\u001b[43mn\u001b[49m\u001b[43m,\u001b[49m\n\u001b[1;32m    190\u001b[0m \u001b[43m                \u001b[49m\u001b[38;5;124;43m\"\u001b[39;49m\u001b[38;5;124;43mpresence_penalty\u001b[39;49m\u001b[38;5;124;43m\"\u001b[39;49m\u001b[43m:\u001b[49m\u001b[43m \u001b[49m\u001b[43mpresence_penalty\u001b[49m\u001b[43m,\u001b[49m\n\u001b[1;32m    191\u001b[0m \u001b[43m                \u001b[49m\u001b[38;5;124;43m\"\u001b[39;49m\u001b[38;5;124;43mresponse_format\u001b[39;49m\u001b[38;5;124;43m\"\u001b[39;49m\u001b[43m:\u001b[49m\u001b[43m \u001b[49m\u001b[43mresponse_format\u001b[49m\u001b[43m,\u001b[49m\n\u001b[1;32m    192\u001b[0m \u001b[43m                \u001b[49m\u001b[38;5;124;43m\"\u001b[39;49m\u001b[38;5;124;43mseed\u001b[39;49m\u001b[38;5;124;43m\"\u001b[39;49m\u001b[43m:\u001b[49m\u001b[43m \u001b[49m\u001b[43mseed\u001b[49m\u001b[43m,\u001b[49m\n\u001b[1;32m    193\u001b[0m \u001b[43m                \u001b[49m\u001b[38;5;124;43m\"\u001b[39;49m\u001b[38;5;124;43mstop\u001b[39;49m\u001b[38;5;124;43m\"\u001b[39;49m\u001b[43m:\u001b[49m\u001b[43m \u001b[49m\u001b[43mstop\u001b[49m\u001b[43m,\u001b[49m\n\u001b[1;32m    194\u001b[0m \u001b[43m                \u001b[49m\u001b[38;5;124;43m\"\u001b[39;49m\u001b[38;5;124;43mstream\u001b[39;49m\u001b[38;5;124;43m\"\u001b[39;49m\u001b[43m:\u001b[49m\u001b[43m \u001b[49m\u001b[43mstream\u001b[49m\u001b[43m,\u001b[49m\n\u001b[1;32m    195\u001b[0m \u001b[43m                \u001b[49m\u001b[38;5;124;43m\"\u001b[39;49m\u001b[38;5;124;43mtemperature\u001b[39;49m\u001b[38;5;124;43m\"\u001b[39;49m\u001b[43m:\u001b[49m\u001b[43m \u001b[49m\u001b[43mtemperature\u001b[49m\u001b[43m,\u001b[49m\n\u001b[1;32m    196\u001b[0m \u001b[43m                \u001b[49m\u001b[38;5;124;43m\"\u001b[39;49m\u001b[38;5;124;43mtool_choice\u001b[39;49m\u001b[38;5;124;43m\"\u001b[39;49m\u001b[43m:\u001b[49m\u001b[43m \u001b[49m\u001b[43mtool_choice\u001b[49m\u001b[43m,\u001b[49m\n\u001b[1;32m    197\u001b[0m \u001b[43m                \u001b[49m\u001b[38;5;124;43m\"\u001b[39;49m\u001b[38;5;124;43mtools\u001b[39;49m\u001b[38;5;124;43m\"\u001b[39;49m\u001b[43m:\u001b[49m\u001b[43m \u001b[49m\u001b[43mtools\u001b[49m\u001b[43m,\u001b[49m\n\u001b[1;32m    198\u001b[0m \u001b[43m                \u001b[49m\u001b[38;5;124;43m\"\u001b[39;49m\u001b[38;5;124;43mtop_logprobs\u001b[39;49m\u001b[38;5;124;43m\"\u001b[39;49m\u001b[43m:\u001b[49m\u001b[43m \u001b[49m\u001b[43mtop_logprobs\u001b[49m\u001b[43m,\u001b[49m\n\u001b[1;32m    199\u001b[0m \u001b[43m                \u001b[49m\u001b[38;5;124;43m\"\u001b[39;49m\u001b[38;5;124;43mtop_p\u001b[39;49m\u001b[38;5;124;43m\"\u001b[39;49m\u001b[43m:\u001b[49m\u001b[43m \u001b[49m\u001b[43mtop_p\u001b[49m\u001b[43m,\u001b[49m\n\u001b[1;32m    200\u001b[0m \u001b[43m                \u001b[49m\u001b[38;5;124;43m\"\u001b[39;49m\u001b[38;5;124;43muser\u001b[39;49m\u001b[38;5;124;43m\"\u001b[39;49m\u001b[43m:\u001b[49m\u001b[43m \u001b[49m\u001b[43muser\u001b[49m\u001b[43m,\u001b[49m\n\u001b[1;32m    201\u001b[0m \u001b[43m            \u001b[49m\u001b[43m}\u001b[49m\u001b[43m,\u001b[49m\n\u001b[1;32m    202\u001b[0m \u001b[43m            \u001b[49m\u001b[43mcompletion_create_params\u001b[49m\u001b[38;5;241;43m.\u001b[39;49m\u001b[43mCompletionCreateParams\u001b[49m\u001b[43m,\u001b[49m\n\u001b[1;32m    203\u001b[0m \u001b[43m        \u001b[49m\u001b[43m)\u001b[49m\u001b[43m,\u001b[49m\n\u001b[1;32m    204\u001b[0m \u001b[43m        \u001b[49m\u001b[43moptions\u001b[49m\u001b[38;5;241;43m=\u001b[39;49m\u001b[43mmake_request_options\u001b[49m\u001b[43m(\u001b[49m\n\u001b[1;32m    205\u001b[0m \u001b[43m            \u001b[49m\u001b[43mextra_headers\u001b[49m\u001b[38;5;241;43m=\u001b[39;49m\u001b[43mextra_headers\u001b[49m\u001b[43m,\u001b[49m\u001b[43m \u001b[49m\u001b[43mextra_query\u001b[49m\u001b[38;5;241;43m=\u001b[39;49m\u001b[43mextra_query\u001b[49m\u001b[43m,\u001b[49m\u001b[43m \u001b[49m\u001b[43mextra_body\u001b[49m\u001b[38;5;241;43m=\u001b[39;49m\u001b[43mextra_body\u001b[49m\u001b[43m,\u001b[49m\u001b[43m \u001b[49m\u001b[43mtimeout\u001b[49m\u001b[38;5;241;43m=\u001b[39;49m\u001b[43mtimeout\u001b[49m\n\u001b[1;32m    206\u001b[0m \u001b[43m        \u001b[49m\u001b[43m)\u001b[49m\u001b[43m,\u001b[49m\n\u001b[1;32m    207\u001b[0m \u001b[43m        \u001b[49m\u001b[43mcast_to\u001b[49m\u001b[38;5;241;43m=\u001b[39;49m\u001b[43mChatCompletion\u001b[49m\u001b[43m,\u001b[49m\n\u001b[1;32m    208\u001b[0m \u001b[43m        \u001b[49m\u001b[43mstream\u001b[49m\u001b[38;5;241;43m=\u001b[39;49m\u001b[43mstream\u001b[49m\u001b[43m \u001b[49m\u001b[38;5;129;43;01mor\u001b[39;49;00m\u001b[43m \u001b[49m\u001b[38;5;28;43;01mFalse\u001b[39;49;00m\u001b[43m,\u001b[49m\n\u001b[1;32m    209\u001b[0m \u001b[43m        \u001b[49m\u001b[43mstream_cls\u001b[49m\u001b[38;5;241;43m=\u001b[39;49m\u001b[43mStream\u001b[49m\u001b[43m[\u001b[49m\u001b[43mChatCompletionChunk\u001b[49m\u001b[43m]\u001b[49m\u001b[43m,\u001b[49m\n\u001b[1;32m    210\u001b[0m \u001b[43m    \u001b[49m\u001b[43m)\u001b[49m\n",
      "File \u001b[0;32m/Applications/anaconda3/envs/astro/lib/python3.12/site-packages/groq/_base_client.py:1225\u001b[0m, in \u001b[0;36mSyncAPIClient.post\u001b[0;34m(self, path, cast_to, body, options, files, stream, stream_cls)\u001b[0m\n\u001b[1;32m   1211\u001b[0m \u001b[38;5;28;01mdef\u001b[39;00m \u001b[38;5;21mpost\u001b[39m(\n\u001b[1;32m   1212\u001b[0m     \u001b[38;5;28mself\u001b[39m,\n\u001b[1;32m   1213\u001b[0m     path: \u001b[38;5;28mstr\u001b[39m,\n\u001b[0;32m   (...)\u001b[0m\n\u001b[1;32m   1220\u001b[0m     stream_cls: \u001b[38;5;28mtype\u001b[39m[_StreamT] \u001b[38;5;241m|\u001b[39m \u001b[38;5;28;01mNone\u001b[39;00m \u001b[38;5;241m=\u001b[39m \u001b[38;5;28;01mNone\u001b[39;00m,\n\u001b[1;32m   1221\u001b[0m ) \u001b[38;5;241m-\u001b[39m\u001b[38;5;241m>\u001b[39m ResponseT \u001b[38;5;241m|\u001b[39m _StreamT:\n\u001b[1;32m   1222\u001b[0m     opts \u001b[38;5;241m=\u001b[39m FinalRequestOptions\u001b[38;5;241m.\u001b[39mconstruct(\n\u001b[1;32m   1223\u001b[0m         method\u001b[38;5;241m=\u001b[39m\u001b[38;5;124m\"\u001b[39m\u001b[38;5;124mpost\u001b[39m\u001b[38;5;124m\"\u001b[39m, url\u001b[38;5;241m=\u001b[39mpath, json_data\u001b[38;5;241m=\u001b[39mbody, files\u001b[38;5;241m=\u001b[39mto_httpx_files(files), \u001b[38;5;241m*\u001b[39m\u001b[38;5;241m*\u001b[39moptions\n\u001b[1;32m   1224\u001b[0m     )\n\u001b[0;32m-> 1225\u001b[0m     \u001b[38;5;28;01mreturn\u001b[39;00m cast(ResponseT, \u001b[38;5;28;43mself\u001b[39;49m\u001b[38;5;241;43m.\u001b[39;49m\u001b[43mrequest\u001b[49m\u001b[43m(\u001b[49m\u001b[43mcast_to\u001b[49m\u001b[43m,\u001b[49m\u001b[43m \u001b[49m\u001b[43mopts\u001b[49m\u001b[43m,\u001b[49m\u001b[43m \u001b[49m\u001b[43mstream\u001b[49m\u001b[38;5;241;43m=\u001b[39;49m\u001b[43mstream\u001b[49m\u001b[43m,\u001b[49m\u001b[43m \u001b[49m\u001b[43mstream_cls\u001b[49m\u001b[38;5;241;43m=\u001b[39;49m\u001b[43mstream_cls\u001b[49m\u001b[43m)\u001b[49m)\n",
      "File \u001b[0;32m/Applications/anaconda3/envs/astro/lib/python3.12/site-packages/groq/_base_client.py:920\u001b[0m, in \u001b[0;36mSyncAPIClient.request\u001b[0;34m(self, cast_to, options, remaining_retries, stream, stream_cls)\u001b[0m\n\u001b[1;32m    911\u001b[0m \u001b[38;5;28;01mdef\u001b[39;00m \u001b[38;5;21mrequest\u001b[39m(\n\u001b[1;32m    912\u001b[0m     \u001b[38;5;28mself\u001b[39m,\n\u001b[1;32m    913\u001b[0m     cast_to: Type[ResponseT],\n\u001b[0;32m   (...)\u001b[0m\n\u001b[1;32m    918\u001b[0m     stream_cls: \u001b[38;5;28mtype\u001b[39m[_StreamT] \u001b[38;5;241m|\u001b[39m \u001b[38;5;28;01mNone\u001b[39;00m \u001b[38;5;241m=\u001b[39m \u001b[38;5;28;01mNone\u001b[39;00m,\n\u001b[1;32m    919\u001b[0m ) \u001b[38;5;241m-\u001b[39m\u001b[38;5;241m>\u001b[39m ResponseT \u001b[38;5;241m|\u001b[39m _StreamT:\n\u001b[0;32m--> 920\u001b[0m     \u001b[38;5;28;01mreturn\u001b[39;00m \u001b[38;5;28;43mself\u001b[39;49m\u001b[38;5;241;43m.\u001b[39;49m\u001b[43m_request\u001b[49m\u001b[43m(\u001b[49m\n\u001b[1;32m    921\u001b[0m \u001b[43m        \u001b[49m\u001b[43mcast_to\u001b[49m\u001b[38;5;241;43m=\u001b[39;49m\u001b[43mcast_to\u001b[49m\u001b[43m,\u001b[49m\n\u001b[1;32m    922\u001b[0m \u001b[43m        \u001b[49m\u001b[43moptions\u001b[49m\u001b[38;5;241;43m=\u001b[39;49m\u001b[43moptions\u001b[49m\u001b[43m,\u001b[49m\n\u001b[1;32m    923\u001b[0m \u001b[43m        \u001b[49m\u001b[43mstream\u001b[49m\u001b[38;5;241;43m=\u001b[39;49m\u001b[43mstream\u001b[49m\u001b[43m,\u001b[49m\n\u001b[1;32m    924\u001b[0m \u001b[43m        \u001b[49m\u001b[43mstream_cls\u001b[49m\u001b[38;5;241;43m=\u001b[39;49m\u001b[43mstream_cls\u001b[49m\u001b[43m,\u001b[49m\n\u001b[1;32m    925\u001b[0m \u001b[43m        \u001b[49m\u001b[43mremaining_retries\u001b[49m\u001b[38;5;241;43m=\u001b[39;49m\u001b[43mremaining_retries\u001b[49m\u001b[43m,\u001b[49m\n\u001b[1;32m    926\u001b[0m \u001b[43m    \u001b[49m\u001b[43m)\u001b[49m\n",
      "File \u001b[0;32m/Applications/anaconda3/envs/astro/lib/python3.12/site-packages/groq/_base_client.py:1003\u001b[0m, in \u001b[0;36mSyncAPIClient._request\u001b[0;34m(self, cast_to, options, remaining_retries, stream, stream_cls)\u001b[0m\n\u001b[1;32m   1001\u001b[0m \u001b[38;5;28;01mif\u001b[39;00m retries \u001b[38;5;241m>\u001b[39m \u001b[38;5;241m0\u001b[39m \u001b[38;5;129;01mand\u001b[39;00m \u001b[38;5;28mself\u001b[39m\u001b[38;5;241m.\u001b[39m_should_retry(err\u001b[38;5;241m.\u001b[39mresponse):\n\u001b[1;32m   1002\u001b[0m     err\u001b[38;5;241m.\u001b[39mresponse\u001b[38;5;241m.\u001b[39mclose()\n\u001b[0;32m-> 1003\u001b[0m     \u001b[38;5;28;01mreturn\u001b[39;00m \u001b[38;5;28;43mself\u001b[39;49m\u001b[38;5;241;43m.\u001b[39;49m\u001b[43m_retry_request\u001b[49m\u001b[43m(\u001b[49m\n\u001b[1;32m   1004\u001b[0m \u001b[43m        \u001b[49m\u001b[43moptions\u001b[49m\u001b[43m,\u001b[49m\n\u001b[1;32m   1005\u001b[0m \u001b[43m        \u001b[49m\u001b[43mcast_to\u001b[49m\u001b[43m,\u001b[49m\n\u001b[1;32m   1006\u001b[0m \u001b[43m        \u001b[49m\u001b[43mretries\u001b[49m\u001b[43m,\u001b[49m\n\u001b[1;32m   1007\u001b[0m \u001b[43m        \u001b[49m\u001b[43merr\u001b[49m\u001b[38;5;241;43m.\u001b[39;49m\u001b[43mresponse\u001b[49m\u001b[38;5;241;43m.\u001b[39;49m\u001b[43mheaders\u001b[49m\u001b[43m,\u001b[49m\n\u001b[1;32m   1008\u001b[0m \u001b[43m        \u001b[49m\u001b[43mstream\u001b[49m\u001b[38;5;241;43m=\u001b[39;49m\u001b[43mstream\u001b[49m\u001b[43m,\u001b[49m\n\u001b[1;32m   1009\u001b[0m \u001b[43m        \u001b[49m\u001b[43mstream_cls\u001b[49m\u001b[38;5;241;43m=\u001b[39;49m\u001b[43mstream_cls\u001b[49m\u001b[43m,\u001b[49m\n\u001b[1;32m   1010\u001b[0m \u001b[43m    \u001b[49m\u001b[43m)\u001b[49m\n\u001b[1;32m   1012\u001b[0m \u001b[38;5;66;03m# If the response is streamed then we need to explicitly read the response\u001b[39;00m\n\u001b[1;32m   1013\u001b[0m \u001b[38;5;66;03m# to completion before attempting to access the response text.\u001b[39;00m\n\u001b[1;32m   1014\u001b[0m \u001b[38;5;28;01mif\u001b[39;00m \u001b[38;5;129;01mnot\u001b[39;00m err\u001b[38;5;241m.\u001b[39mresponse\u001b[38;5;241m.\u001b[39mis_closed:\n",
      "File \u001b[0;32m/Applications/anaconda3/envs/astro/lib/python3.12/site-packages/groq/_base_client.py:1051\u001b[0m, in \u001b[0;36mSyncAPIClient._retry_request\u001b[0;34m(self, options, cast_to, remaining_retries, response_headers, stream, stream_cls)\u001b[0m\n\u001b[1;32m   1047\u001b[0m \u001b[38;5;66;03m# In a synchronous context we are blocking the entire thread. Up to the library user to run the client in a\u001b[39;00m\n\u001b[1;32m   1048\u001b[0m \u001b[38;5;66;03m# different thread if necessary.\u001b[39;00m\n\u001b[1;32m   1049\u001b[0m time\u001b[38;5;241m.\u001b[39msleep(timeout)\n\u001b[0;32m-> 1051\u001b[0m \u001b[38;5;28;01mreturn\u001b[39;00m \u001b[38;5;28;43mself\u001b[39;49m\u001b[38;5;241;43m.\u001b[39;49m\u001b[43m_request\u001b[49m\u001b[43m(\u001b[49m\n\u001b[1;32m   1052\u001b[0m \u001b[43m    \u001b[49m\u001b[43moptions\u001b[49m\u001b[38;5;241;43m=\u001b[39;49m\u001b[43moptions\u001b[49m\u001b[43m,\u001b[49m\n\u001b[1;32m   1053\u001b[0m \u001b[43m    \u001b[49m\u001b[43mcast_to\u001b[49m\u001b[38;5;241;43m=\u001b[39;49m\u001b[43mcast_to\u001b[49m\u001b[43m,\u001b[49m\n\u001b[1;32m   1054\u001b[0m \u001b[43m    \u001b[49m\u001b[43mremaining_retries\u001b[49m\u001b[38;5;241;43m=\u001b[39;49m\u001b[43mremaining\u001b[49m\u001b[43m,\u001b[49m\n\u001b[1;32m   1055\u001b[0m \u001b[43m    \u001b[49m\u001b[43mstream\u001b[49m\u001b[38;5;241;43m=\u001b[39;49m\u001b[43mstream\u001b[49m\u001b[43m,\u001b[49m\n\u001b[1;32m   1056\u001b[0m \u001b[43m    \u001b[49m\u001b[43mstream_cls\u001b[49m\u001b[38;5;241;43m=\u001b[39;49m\u001b[43mstream_cls\u001b[49m\u001b[43m,\u001b[49m\n\u001b[1;32m   1057\u001b[0m \u001b[43m\u001b[49m\u001b[43m)\u001b[49m\n",
      "File \u001b[0;32m/Applications/anaconda3/envs/astro/lib/python3.12/site-packages/groq/_base_client.py:1003\u001b[0m, in \u001b[0;36mSyncAPIClient._request\u001b[0;34m(self, cast_to, options, remaining_retries, stream, stream_cls)\u001b[0m\n\u001b[1;32m   1001\u001b[0m \u001b[38;5;28;01mif\u001b[39;00m retries \u001b[38;5;241m>\u001b[39m \u001b[38;5;241m0\u001b[39m \u001b[38;5;129;01mand\u001b[39;00m \u001b[38;5;28mself\u001b[39m\u001b[38;5;241m.\u001b[39m_should_retry(err\u001b[38;5;241m.\u001b[39mresponse):\n\u001b[1;32m   1002\u001b[0m     err\u001b[38;5;241m.\u001b[39mresponse\u001b[38;5;241m.\u001b[39mclose()\n\u001b[0;32m-> 1003\u001b[0m     \u001b[38;5;28;01mreturn\u001b[39;00m \u001b[38;5;28;43mself\u001b[39;49m\u001b[38;5;241;43m.\u001b[39;49m\u001b[43m_retry_request\u001b[49m\u001b[43m(\u001b[49m\n\u001b[1;32m   1004\u001b[0m \u001b[43m        \u001b[49m\u001b[43moptions\u001b[49m\u001b[43m,\u001b[49m\n\u001b[1;32m   1005\u001b[0m \u001b[43m        \u001b[49m\u001b[43mcast_to\u001b[49m\u001b[43m,\u001b[49m\n\u001b[1;32m   1006\u001b[0m \u001b[43m        \u001b[49m\u001b[43mretries\u001b[49m\u001b[43m,\u001b[49m\n\u001b[1;32m   1007\u001b[0m \u001b[43m        \u001b[49m\u001b[43merr\u001b[49m\u001b[38;5;241;43m.\u001b[39;49m\u001b[43mresponse\u001b[49m\u001b[38;5;241;43m.\u001b[39;49m\u001b[43mheaders\u001b[49m\u001b[43m,\u001b[49m\n\u001b[1;32m   1008\u001b[0m \u001b[43m        \u001b[49m\u001b[43mstream\u001b[49m\u001b[38;5;241;43m=\u001b[39;49m\u001b[43mstream\u001b[49m\u001b[43m,\u001b[49m\n\u001b[1;32m   1009\u001b[0m \u001b[43m        \u001b[49m\u001b[43mstream_cls\u001b[49m\u001b[38;5;241;43m=\u001b[39;49m\u001b[43mstream_cls\u001b[49m\u001b[43m,\u001b[49m\n\u001b[1;32m   1010\u001b[0m \u001b[43m    \u001b[49m\u001b[43m)\u001b[49m\n\u001b[1;32m   1012\u001b[0m \u001b[38;5;66;03m# If the response is streamed then we need to explicitly read the response\u001b[39;00m\n\u001b[1;32m   1013\u001b[0m \u001b[38;5;66;03m# to completion before attempting to access the response text.\u001b[39;00m\n\u001b[1;32m   1014\u001b[0m \u001b[38;5;28;01mif\u001b[39;00m \u001b[38;5;129;01mnot\u001b[39;00m err\u001b[38;5;241m.\u001b[39mresponse\u001b[38;5;241m.\u001b[39mis_closed:\n",
      "File \u001b[0;32m/Applications/anaconda3/envs/astro/lib/python3.12/site-packages/groq/_base_client.py:1051\u001b[0m, in \u001b[0;36mSyncAPIClient._retry_request\u001b[0;34m(self, options, cast_to, remaining_retries, response_headers, stream, stream_cls)\u001b[0m\n\u001b[1;32m   1047\u001b[0m \u001b[38;5;66;03m# In a synchronous context we are blocking the entire thread. Up to the library user to run the client in a\u001b[39;00m\n\u001b[1;32m   1048\u001b[0m \u001b[38;5;66;03m# different thread if necessary.\u001b[39;00m\n\u001b[1;32m   1049\u001b[0m time\u001b[38;5;241m.\u001b[39msleep(timeout)\n\u001b[0;32m-> 1051\u001b[0m \u001b[38;5;28;01mreturn\u001b[39;00m \u001b[38;5;28;43mself\u001b[39;49m\u001b[38;5;241;43m.\u001b[39;49m\u001b[43m_request\u001b[49m\u001b[43m(\u001b[49m\n\u001b[1;32m   1052\u001b[0m \u001b[43m    \u001b[49m\u001b[43moptions\u001b[49m\u001b[38;5;241;43m=\u001b[39;49m\u001b[43moptions\u001b[49m\u001b[43m,\u001b[49m\n\u001b[1;32m   1053\u001b[0m \u001b[43m    \u001b[49m\u001b[43mcast_to\u001b[49m\u001b[38;5;241;43m=\u001b[39;49m\u001b[43mcast_to\u001b[49m\u001b[43m,\u001b[49m\n\u001b[1;32m   1054\u001b[0m \u001b[43m    \u001b[49m\u001b[43mremaining_retries\u001b[49m\u001b[38;5;241;43m=\u001b[39;49m\u001b[43mremaining\u001b[49m\u001b[43m,\u001b[49m\n\u001b[1;32m   1055\u001b[0m \u001b[43m    \u001b[49m\u001b[43mstream\u001b[49m\u001b[38;5;241;43m=\u001b[39;49m\u001b[43mstream\u001b[49m\u001b[43m,\u001b[49m\n\u001b[1;32m   1056\u001b[0m \u001b[43m    \u001b[49m\u001b[43mstream_cls\u001b[49m\u001b[38;5;241;43m=\u001b[39;49m\u001b[43mstream_cls\u001b[49m\u001b[43m,\u001b[49m\n\u001b[1;32m   1057\u001b[0m \u001b[43m\u001b[49m\u001b[43m)\u001b[49m\n",
      "File \u001b[0;32m/Applications/anaconda3/envs/astro/lib/python3.12/site-packages/groq/_base_client.py:1018\u001b[0m, in \u001b[0;36mSyncAPIClient._request\u001b[0;34m(self, cast_to, options, remaining_retries, stream, stream_cls)\u001b[0m\n\u001b[1;32m   1015\u001b[0m         err\u001b[38;5;241m.\u001b[39mresponse\u001b[38;5;241m.\u001b[39mread()\n\u001b[1;32m   1017\u001b[0m     log\u001b[38;5;241m.\u001b[39mdebug(\u001b[38;5;124m\"\u001b[39m\u001b[38;5;124mRe-raising status error\u001b[39m\u001b[38;5;124m\"\u001b[39m)\n\u001b[0;32m-> 1018\u001b[0m     \u001b[38;5;28;01mraise\u001b[39;00m \u001b[38;5;28mself\u001b[39m\u001b[38;5;241m.\u001b[39m_make_status_error_from_response(err\u001b[38;5;241m.\u001b[39mresponse) \u001b[38;5;28;01mfrom\u001b[39;00m \u001b[38;5;28;01mNone\u001b[39;00m\n\u001b[1;32m   1020\u001b[0m \u001b[38;5;28;01mreturn\u001b[39;00m \u001b[38;5;28mself\u001b[39m\u001b[38;5;241m.\u001b[39m_process_response(\n\u001b[1;32m   1021\u001b[0m     cast_to\u001b[38;5;241m=\u001b[39mcast_to,\n\u001b[1;32m   1022\u001b[0m     options\u001b[38;5;241m=\u001b[39moptions,\n\u001b[0;32m   (...)\u001b[0m\n\u001b[1;32m   1025\u001b[0m     stream_cls\u001b[38;5;241m=\u001b[39mstream_cls,\n\u001b[1;32m   1026\u001b[0m )\n",
      "\u001b[0;31mInternalServerError\u001b[0m: upstream connect error or disconnect/reset before headers. reset reason: remote connection failure, transport failure reason: delayed connect error: Connection refused"
     ]
    }
   ],
   "source": [
    "metrics_calc(type = 'three symptoms',method='rag', model_name= 'groq')"
   ]
  },
  {
   "cell_type": "code",
   "execution_count": null,
   "metadata": {},
   "outputs": [
    {
     "name": "stderr",
     "output_type": "stream",
     "text": [
      "1it [00:01,  1.02s/it]"
     ]
    },
    {
     "name": "stdout",
     "output_type": "stream",
     "text": [
      "['58-62', '52-57', '46-51', '24-27', '21-23', '14-20']\n"
     ]
    },
    {
     "name": "stderr",
     "output_type": "stream",
     "text": [
      "3it [00:01,  1.84it/s]"
     ]
    },
    {
     "name": "stdout",
     "output_type": "stream",
     "text": [
      "['46-51', '24-27', '78', '39-45', '68-70']\n"
     ]
    },
    {
     "name": "stderr",
     "output_type": "stream",
     "text": [
      "5it [00:02,  2.13it/s]"
     ]
    },
    {
     "name": "stdout",
     "output_type": "stream",
     "text": [
      "['52-57', '11-13', '78', '36-38', '46-51', '24-27']\n"
     ]
    },
    {
     "name": "stderr",
     "output_type": "stream",
     "text": [
      "6it [00:03,  1.89it/s]"
     ]
    },
    {
     "name": "stdout",
     "output_type": "stream",
     "text": [
      "['46-51', '39-45', '24-27', '78', '32-35']\n"
     ]
    },
    {
     "name": "stderr",
     "output_type": "stream",
     "text": [
      "7it [00:04,  1.65it/s]"
     ]
    },
    {
     "name": "stdout",
     "output_type": "stream",
     "text": [
      "['78', '46-51', '39-45', '52-57', '24-27', '32-35']\n"
     ]
    },
    {
     "name": "stderr",
     "output_type": "stream",
     "text": [
      "8it [00:14,  3.39s/it]"
     ]
    },
    {
     "name": "stdout",
     "output_type": "stream",
     "text": [
      "['78', '32-35', '39-45', '46-51', '52-57', '71-73', '24-27', '29-31', '84-95']\n"
     ]
    },
    {
     "name": "stderr",
     "output_type": "stream",
     "text": [
      "11it [00:26,  3.79s/it]"
     ]
    },
    {
     "name": "stdout",
     "output_type": "stream",
     "text": [
      "['39-45', '52-57', '78', '24-27', '46-51', '36-38']\n"
     ]
    },
    {
     "name": "stderr",
     "output_type": "stream",
     "text": [
      "12it [00:45,  6.83s/it]"
     ]
    },
    {
     "name": "stdout",
     "output_type": "stream",
     "text": [
      "['39-45', '46-51', '24-27', '32-35']\n"
     ]
    },
    {
     "name": "stderr",
     "output_type": "stream",
     "text": [
      "13it [00:52,  7.01s/it]"
     ]
    },
    {
     "name": "stdout",
     "output_type": "stream",
     "text": [
      "['00-10', '11-13', '21-23', '24-27', '39-45', '52-57', '58-62', '68-70', '78']\n"
     ]
    },
    {
     "name": "stderr",
     "output_type": "stream",
     "text": [
      "16it [01:05,  5.56s/it]"
     ]
    },
    {
     "name": "stdout",
     "output_type": "stream",
     "text": [
      "['00-10', '46-51', '52-57', '58-62', '24-27', '78']\n"
     ]
    },
    {
     "name": "stderr",
     "output_type": "stream",
     "text": [
      "17it [01:18,  7.00s/it]"
     ]
    },
    {
     "name": "stdout",
     "output_type": "stream",
     "text": [
      "['32-35', '39-45', '52-57', '68-70', '78']\n"
     ]
    },
    {
     "name": "stderr",
     "output_type": "stream",
     "text": [
      "18it [01:29,  7.89s/it]"
     ]
    },
    {
     "name": "stdout",
     "output_type": "stream",
     "text": [
      "['46-51', '39-45', '52-57', '24-27', '78']\n"
     ]
    },
    {
     "name": "stderr",
     "output_type": "stream",
     "text": [
      "19it [01:54, 11.85s/it]"
     ]
    },
    {
     "name": "stdout",
     "output_type": "stream",
     "text": [
      "['46-51', '24-27', '78', '79']\n"
     ]
    },
    {
     "name": "stderr",
     "output_type": "stream",
     "text": [
      "20it [01:55,  9.08s/it]"
     ]
    },
    {
     "name": "stdout",
     "output_type": "stream",
     "text": [
      "['39-45', '32-35', '78', '79', '84-95']\n"
     ]
    },
    {
     "name": "stderr",
     "output_type": "stream",
     "text": [
      "21it [02:07,  9.92s/it]"
     ]
    },
    {
     "name": "stdout",
     "output_type": "stream",
     "text": [
      "['39-45', '46-51', '24-27', '32-35', '78']\n"
     ]
    },
    {
     "name": "stderr",
     "output_type": "stream",
     "text": [
      "22it [02:20, 10.79s/it]"
     ]
    },
    {
     "name": "stdout",
     "output_type": "stream",
     "text": [
      "['68-70', '71-73', '24-27', '78', '52-57', '39-45', '00-10']\n"
     ]
    },
    {
     "name": "stderr",
     "output_type": "stream",
     "text": [
      "23it [02:32, 11.17s/it]"
     ]
    },
    {
     "name": "stdout",
     "output_type": "stream",
     "text": [
      "['71-73', '39-45', '24-27', '78', '84-95']\n"
     ]
    },
    {
     "name": "stderr",
     "output_type": "stream",
     "text": [
      "24it [02:44, 11.51s/it]"
     ]
    },
    {
     "name": "stdout",
     "output_type": "stream",
     "text": [
      "['24-27', '39-45', '46-51', '52-57', '58-62', '71-73', '78']\n"
     ]
    },
    {
     "name": "stderr",
     "output_type": "stream",
     "text": [
      "25it [02:56, 11.45s/it]"
     ]
    },
    {
     "name": "stdout",
     "output_type": "stream",
     "text": [
      "['32-35', '71-73', '78', '24-27']\n"
     ]
    },
    {
     "name": "stderr",
     "output_type": "stream",
     "text": [
      "26it [03:08, 11.68s/it]"
     ]
    },
    {
     "name": "stdout",
     "output_type": "stream",
     "text": [
      "['39-45', '24-27', '78', '32-35']\n"
     ]
    },
    {
     "name": "stderr",
     "output_type": "stream",
     "text": [
      "28it [03:20,  9.16s/it]"
     ]
    },
    {
     "name": "stdout",
     "output_type": "stream",
     "text": [
      "['39-45', '46-51', '52-57', '78', '24-27']\n"
     ]
    },
    {
     "name": "stderr",
     "output_type": "stream",
     "text": [
      "30it [03:33,  7.97s/it]"
     ]
    },
    {
     "name": "stdout",
     "output_type": "stream",
     "text": [
      "['39-45', '46-51', '78', '24-27', '36-38', '79']\n"
     ]
    },
    {
     "name": "stderr",
     "output_type": "stream",
     "text": [
      "33it [03:44,  6.06s/it]"
     ]
    },
    {
     "name": "stdout",
     "output_type": "stream",
     "text": [
      "['52-57', '78', '24-27']\n"
     ]
    },
    {
     "name": "stderr",
     "output_type": "stream",
     "text": [
      "34it [03:56,  7.18s/it]"
     ]
    },
    {
     "name": "stdout",
     "output_type": "stream",
     "text": [
      "['32-35', '78', '52-57', '14-20', '79']\n"
     ]
    },
    {
     "name": "stderr",
     "output_type": "stream",
     "text": [
      "35it [04:09,  8.25s/it]"
     ]
    },
    {
     "name": "stdout",
     "output_type": "stream",
     "text": [
      "['46-51', '52-57', '58-62', '68-70', '39-45', '24-27', '78']\n"
     ]
    },
    {
     "name": "stderr",
     "output_type": "stream",
     "text": [
      "36it [04:20,  8.96s/it]"
     ]
    },
    {
     "name": "stdout",
     "output_type": "stream",
     "text": [
      "['46-51', '29-31', '24-27', '78', '00-10']\n"
     ]
    },
    {
     "name": "stderr",
     "output_type": "stream",
     "text": [
      "37it [04:33,  9.92s/it]"
     ]
    },
    {
     "name": "stdout",
     "output_type": "stream",
     "text": [
      "['78', '32-35', '39-45', '46-51', '71-73']\n"
     ]
    },
    {
     "name": "stderr",
     "output_type": "stream",
     "text": [
      "38it [04:46, 10.65s/it]"
     ]
    },
    {
     "name": "stdout",
     "output_type": "stream",
     "text": [
      "['32-35', '78', '46-51', '52-57', '29-31', '24-27', '39-45']\n"
     ]
    },
    {
     "name": "stderr",
     "output_type": "stream",
     "text": [
      "39it [04:57, 10.78s/it]"
     ]
    },
    {
     "name": "stdout",
     "output_type": "stream",
     "text": [
      "['46-51', '24-27', '39-45', '52-57', '78']\n"
     ]
    },
    {
     "name": "stderr",
     "output_type": "stream",
     "text": [
      "40it [05:10, 11.43s/it]"
     ]
    },
    {
     "name": "stdout",
     "output_type": "stream",
     "text": [
      "['39-45', '46-51', '58-62', '21-23', '78', '79']\n"
     ]
    },
    {
     "name": "stderr",
     "output_type": "stream",
     "text": [
      "41it [05:22, 11.62s/it]"
     ]
    },
    {
     "name": "stdout",
     "output_type": "stream",
     "text": [
      "['39-45', '46-51', '52-57', '24-27', '78', '79']\n"
     ]
    },
    {
     "name": "stderr",
     "output_type": "stream",
     "text": [
      "43it [05:34,  9.13s/it]"
     ]
    },
    {
     "name": "stdout",
     "output_type": "stream",
     "text": [
      "['28', '39-45', '52-57', '63-66', '78', '24-27', '46-51']\n"
     ]
    },
    {
     "name": "stderr",
     "output_type": "stream",
     "text": [
      "45it [05:46,  7.93s/it]"
     ]
    },
    {
     "name": "stdout",
     "output_type": "stream",
     "text": [
      "['58-62', '52-57', '39-45', '29-31', '24-27']\n"
     ]
    },
    {
     "name": "stderr",
     "output_type": "stream",
     "text": [
      "46it [05:58,  8.82s/it]"
     ]
    },
    {
     "name": "stdout",
     "output_type": "stream",
     "text": [
      "['39-45', '46-51', '29-31', '78', '24-27']\n"
     ]
    },
    {
     "name": "stderr",
     "output_type": "stream",
     "text": [
      "48it [06:11,  7.77s/it]"
     ]
    },
    {
     "name": "stdout",
     "output_type": "stream",
     "text": [
      "['39-45', '52-57', '46-51', '24-27', '78']\n"
     ]
    },
    {
     "name": "stderr",
     "output_type": "stream",
     "text": [
      "50it [06:23,  7.16s/it]"
     ]
    },
    {
     "name": "stdout",
     "output_type": "stream",
     "text": [
      "['78', '32-35', '39-45', '46-51', '71-73', '84-95']\n"
     ]
    },
    {
     "name": "stderr",
     "output_type": "stream",
     "text": [
      "54it [06:35,  5.10s/it]"
     ]
    },
    {
     "name": "stdout",
     "output_type": "stream",
     "text": [
      "['32-35', '52-57', '78', '79', '84-95', '96-99']\n"
     ]
    },
    {
     "name": "stderr",
     "output_type": "stream",
     "text": [
      "56it [06:47,  5.40s/it]"
     ]
    },
    {
     "name": "stdout",
     "output_type": "stream",
     "text": [
      "['52-57', '58-62', '39-45', '24-27', '78', '36-38', '11-13', '00-10']\n"
     ]
    },
    {
     "name": "stderr",
     "output_type": "stream",
     "text": [
      "57it [07:00,  6.59s/it]"
     ]
    },
    {
     "name": "stdout",
     "output_type": "stream",
     "text": [
      "['24-27', '29-31', '32-35', '39-45', '46-51', '52-57', '58-62', '78']\n"
     ]
    },
    {
     "name": "stderr",
     "output_type": "stream",
     "text": [
      "58it [07:12,  7.63s/it]"
     ]
    },
    {
     "name": "stdout",
     "output_type": "stream",
     "text": [
      "['46-51', '71-73', '39-45', '78']\n"
     ]
    },
    {
     "name": "stderr",
     "output_type": "stream",
     "text": [
      "59it [07:25,  8.61s/it]"
     ]
    },
    {
     "name": "stdout",
     "output_type": "stream",
     "text": [
      "['00-10', '11-13', '52-57', '58-62', '63-66', '78', '24-27', '39-45', '71-73']\n"
     ]
    },
    {
     "name": "stderr",
     "output_type": "stream",
     "text": [
      "60it [07:37,  9.46s/it]"
     ]
    },
    {
     "name": "stdout",
     "output_type": "stream",
     "text": [
      "['78', '71-73', '52-57', '24-27', '46-51', '39-45', '32-35', '58-62']\n"
     ]
    },
    {
     "name": "stderr",
     "output_type": "stream",
     "text": [
      "64it [07:49,  5.83s/it]"
     ]
    },
    {
     "name": "stdout",
     "output_type": "stream",
     "text": [
      "['39-45', '46-51', '71-73', '78', '32-35']\n"
     ]
    },
    {
     "name": "stderr",
     "output_type": "stream",
     "text": [
      "65it [08:02,  6.90s/it]"
     ]
    },
    {
     "name": "stdout",
     "output_type": "stream",
     "text": [
      "['39-45', '46-51', '24-27', '78', '79']\n"
     ]
    },
    {
     "name": "stderr",
     "output_type": "stream",
     "text": [
      "66it [08:14,  7.93s/it]"
     ]
    },
    {
     "name": "stdout",
     "output_type": "stream",
     "text": [
      "['78', '29-31', '32-35', '24-27']\n"
     ]
    },
    {
     "name": "stderr",
     "output_type": "stream",
     "text": [
      "67it [08:25,  8.64s/it]"
     ]
    },
    {
     "name": "stdout",
     "output_type": "stream",
     "text": [
      "['39-45', '46-51', '52-57', '24-27', '78']\n"
     ]
    },
    {
     "name": "stderr",
     "output_type": "stream",
     "text": [
      "68it [08:37,  9.51s/it]"
     ]
    },
    {
     "name": "stdout",
     "output_type": "stream",
     "text": [
      "['29-31', '24-27', '52-57', '80-83', '96-99']\n"
     ]
    },
    {
     "name": "stderr",
     "output_type": "stream",
     "text": [
      "69it [08:50, 10.27s/it]"
     ]
    },
    {
     "name": "stdout",
     "output_type": "stream",
     "text": [
      "['32-35', '39-45', '46-51', '52-57', '58-62', '78', '79', '84-95']\n"
     ]
    },
    {
     "name": "stderr",
     "output_type": "stream",
     "text": [
      "72it [09:03,  7.23s/it]"
     ]
    },
    {
     "name": "stdout",
     "output_type": "stream",
     "text": [
      "['52-57', '24-27', '78', '39-45', '21-23', '46-51', '58-62', '63-66', '29-31']\n"
     ]
    },
    {
     "name": "stderr",
     "output_type": "stream",
     "text": [
      "73it [09:15,  8.22s/it]"
     ]
    },
    {
     "name": "stdout",
     "output_type": "stream",
     "text": [
      "['52-57', '39-45', '78', '46-51', '24-27']\n"
     ]
    },
    {
     "name": "stderr",
     "output_type": "stream",
     "text": [
      "74it [09:26,  8.86s/it]"
     ]
    },
    {
     "name": "stdout",
     "output_type": "stream",
     "text": [
      "['52-57', '58-62', '11-13', '24-27', '78']\n"
     ]
    },
    {
     "name": "stderr",
     "output_type": "stream",
     "text": [
      "76it [09:39,  7.79s/it]"
     ]
    },
    {
     "name": "stdout",
     "output_type": "stream",
     "text": [
      "['39-45', '46-51', '78']\n"
     ]
    },
    {
     "name": "stderr",
     "output_type": "stream",
     "text": [
      "77it [09:52,  8.97s/it]"
     ]
    },
    {
     "name": "stdout",
     "output_type": "stream",
     "text": [
      "['24-27', '39-45', '46-51', '58-62', '78']\n"
     ]
    },
    {
     "name": "stderr",
     "output_type": "stream",
     "text": [
      "78it [10:04,  9.70s/it]"
     ]
    },
    {
     "name": "stdout",
     "output_type": "stream",
     "text": [
      "['39-45', '24-27', '32-35', '29-31', '78']\n"
     ]
    },
    {
     "name": "stderr",
     "output_type": "stream",
     "text": [
      "80it [10:16,  8.31s/it]"
     ]
    },
    {
     "name": "stdout",
     "output_type": "stream",
     "text": [
      "['24-27', '39-45', '52-57', '58-62', '78']\n"
     ]
    },
    {
     "name": "stderr",
     "output_type": "stream",
     "text": [
      "82it [10:29,  7.53s/it]"
     ]
    },
    {
     "name": "stdout",
     "output_type": "stream",
     "text": [
      "['46-51', '39-45', '71-73', '78', '24-27']\n"
     ]
    },
    {
     "name": "stderr",
     "output_type": "stream",
     "text": [
      "83it [10:40,  8.30s/it]"
     ]
    },
    {
     "name": "stdout",
     "output_type": "stream",
     "text": [
      "['46-51', '39-45', '24-27', '78']\n"
     ]
    },
    {
     "name": "stderr",
     "output_type": "stream",
     "text": [
      "84it [10:53,  9.27s/it]"
     ]
    },
    {
     "name": "stdout",
     "output_type": "stream",
     "text": [
      "['46-51', '24-27', '78', '29-31', '32-35']\n"
     ]
    },
    {
     "name": "stderr",
     "output_type": "stream",
     "text": [
      "85it [11:05, 10.04s/it]"
     ]
    },
    {
     "name": "stdout",
     "output_type": "stream",
     "text": [
      "['46-51', '78', '36-38', '24-27', '79']\n"
     ]
    },
    {
     "name": "stderr",
     "output_type": "stream",
     "text": [
      "86it [11:17, 10.61s/it]"
     ]
    },
    {
     "name": "stdout",
     "output_type": "stream",
     "text": [
      "['32-35', '39-45', '78', '29-31']\n"
     ]
    },
    {
     "name": "stderr",
     "output_type": "stream",
     "text": [
      "88it [11:29,  8.70s/it]"
     ]
    },
    {
     "name": "stdout",
     "output_type": "stream",
     "text": [
      "['32-35', '58-62', '29-31', '24-27', '68-70', '80-83']\n"
     ]
    },
    {
     "name": "stderr",
     "output_type": "stream",
     "text": [
      "89it [11:42,  9.51s/it]"
     ]
    },
    {
     "name": "stdout",
     "output_type": "stream",
     "text": [
      "['32-35', '39-45', '46-51', '58-62', '78']\n"
     ]
    },
    {
     "name": "stderr",
     "output_type": "stream",
     "text": [
      "91it [11:54,  8.20s/it]"
     ]
    },
    {
     "name": "stdout",
     "output_type": "stream",
     "text": [
      "['78', '46-51', '39-45', '24-27', '36-38', '58-62', '32-35', '79', '84-95']\n"
     ]
    },
    {
     "name": "stderr",
     "output_type": "stream",
     "text": [
      "92it [12:06,  9.08s/it]"
     ]
    },
    {
     "name": "stdout",
     "output_type": "stream",
     "text": [
      "['32-35', '24-27', '39-45', '46-51', '78', '84-95', '96-99']\n"
     ]
    },
    {
     "name": "stderr",
     "output_type": "stream",
     "text": [
      "93it [12:19,  9.99s/it]"
     ]
    },
    {
     "name": "stdout",
     "output_type": "stream",
     "text": [
      "['39-45', '46-51', '78', '24-27']\n"
     ]
    },
    {
     "name": "stderr",
     "output_type": "stream",
     "text": [
      "96it [12:30,  6.79s/it]"
     ]
    },
    {
     "name": "stdout",
     "output_type": "stream",
     "text": [
      "['52-57', '24-27', '46-51', '78', '39-45']\n"
     ]
    },
    {
     "name": "stderr",
     "output_type": "stream",
     "text": [
      "97it [12:43,  8.02s/it]"
     ]
    },
    {
     "name": "stdout",
     "output_type": "stream",
     "text": [
      "['80-83', '46-51', '39-45', '84-95']\n"
     ]
    },
    {
     "name": "stderr",
     "output_type": "stream",
     "text": [
      "98it [12:55,  8.91s/it]"
     ]
    },
    {
     "name": "stdout",
     "output_type": "stream",
     "text": [
      "['39-45', '46-51', '24-27', '78', '79']\n"
     ]
    },
    {
     "name": "stderr",
     "output_type": "stream",
     "text": [
      "99it [13:08,  9.69s/it]"
     ]
    },
    {
     "name": "stdout",
     "output_type": "stream",
     "text": [
      "['39-45', '46-51', '24-27', '52-57', '28', '36-38']\n"
     ]
    },
    {
     "name": "stderr",
     "output_type": "stream",
     "text": [
      "100it [13:21, 10.55s/it]"
     ]
    },
    {
     "name": "stdout",
     "output_type": "stream",
     "text": [
      "['39-45', '46-51', '52-57', '78', '24-27']\n"
     ]
    },
    {
     "name": "stderr",
     "output_type": "stream",
     "text": [
      "101it [13:33, 10.99s/it]"
     ]
    },
    {
     "name": "stdout",
     "output_type": "stream",
     "text": [
      "['68-70', '71-73', '24-27', '39-45', '52-57', '58-62', '78', '79']\n"
     ]
    },
    {
     "name": "stderr",
     "output_type": "stream",
     "text": [
      "102it [13:45, 11.33s/it]"
     ]
    },
    {
     "name": "stdout",
     "output_type": "stream",
     "text": [
      "['39-45', '46-51', '24-27']\n"
     ]
    },
    {
     "name": "stderr",
     "output_type": "stream",
     "text": [
      "103it [13:58, 11.85s/it]"
     ]
    },
    {
     "name": "stdout",
     "output_type": "stream",
     "text": [
      "['46-51', '52-57', '39-45', '58-62', '24-27', '78']\n"
     ]
    },
    {
     "name": "stderr",
     "output_type": "stream",
     "text": [
      "104it [14:10, 11.70s/it]"
     ]
    },
    {
     "name": "stdout",
     "output_type": "stream",
     "text": [
      "['78', '46-51', '52-57', '24-27', '39-45', '58-62']\n"
     ]
    },
    {
     "name": "stderr",
     "output_type": "stream",
     "text": [
      "105it [14:21, 11.57s/it]"
     ]
    },
    {
     "name": "stdout",
     "output_type": "stream",
     "text": [
      "['78', '52-57', '24-27', '39-45', '58-62', '63-66']\n"
     ]
    },
    {
     "name": "stderr",
     "output_type": "stream",
     "text": [
      "106it [14:33, 11.78s/it]"
     ]
    },
    {
     "name": "stdout",
     "output_type": "stream",
     "text": [
      "['46-51', '78', '39-45']\n"
     ]
    },
    {
     "name": "stderr",
     "output_type": "stream",
     "text": [
      "107it [14:45, 11.95s/it]"
     ]
    },
    {
     "name": "stdout",
     "output_type": "stream",
     "text": [
      "['46-51', '52-57', '29-31', '78', '39-45', '00-10']\n"
     ]
    },
    {
     "name": "stderr",
     "output_type": "stream",
     "text": [
      "108it [14:58, 12.08s/it]"
     ]
    },
    {
     "name": "stdout",
     "output_type": "stream",
     "text": [
      "['46-51', '78', '39-45', '29-31', '36-38', '79']\n"
     ]
    },
    {
     "name": "stderr",
     "output_type": "stream",
     "text": [
      "110it [15:10,  9.40s/it]"
     ]
    },
    {
     "name": "stdout",
     "output_type": "stream",
     "text": [
      "['46-51', '39-45', '78']\n"
     ]
    },
    {
     "name": "stderr",
     "output_type": "stream",
     "text": [
      "111it [15:23, 10.18s/it]"
     ]
    },
    {
     "name": "stdout",
     "output_type": "stream",
     "text": [
      "['46-51', '29-31', '32-35', '00-10', '24-27', '39-45']\n"
     ]
    },
    {
     "name": "stderr",
     "output_type": "stream",
     "text": [
      "112it [15:34, 10.50s/it]"
     ]
    },
    {
     "name": "stdout",
     "output_type": "stream",
     "text": [
      "['46-51', '24-27', '78', '39-45']\n"
     ]
    },
    {
     "name": "stderr",
     "output_type": "stream",
     "text": [
      "113it [15:47, 10.97s/it]"
     ]
    },
    {
     "name": "stdout",
     "output_type": "stream",
     "text": [
      "['39-45', '78', '24-27', '46-51', '68-70', '80-83', '52-57', '36-38']\n"
     ]
    },
    {
     "name": "stderr",
     "output_type": "stream",
     "text": [
      "115it [15:59,  8.88s/it]"
     ]
    },
    {
     "name": "stdout",
     "output_type": "stream",
     "text": [
      "['39-45', '46-51', '32-35', '78', '24-27']\n"
     ]
    },
    {
     "name": "stderr",
     "output_type": "stream",
     "text": [
      "116it [16:11,  9.65s/it]"
     ]
    },
    {
     "name": "stdout",
     "output_type": "stream",
     "text": [
      "['46-51', '39-45', '24-27', '78', '79']\n"
     ]
    },
    {
     "name": "stderr",
     "output_type": "stream",
     "text": [
      "117it [16:23, 10.29s/it]"
     ]
    },
    {
     "name": "stdout",
     "output_type": "stream",
     "text": [
      "['52-57', '36-38', '11-13', '78', '24-27', '96-99']\n"
     ]
    },
    {
     "name": "stderr",
     "output_type": "stream",
     "text": [
      "119it [16:36,  8.63s/it]"
     ]
    },
    {
     "name": "stdout",
     "output_type": "stream",
     "text": [
      "['39-45', '46-51', '32-35', '78', '24-27']\n"
     ]
    },
    {
     "name": "stderr",
     "output_type": "stream",
     "text": [
      "120it [16:48,  9.43s/it]"
     ]
    },
    {
     "name": "stdout",
     "output_type": "stream",
     "text": [
      "['39-45', '24-27', '78', '46-51', '32-35']\n"
     ]
    },
    {
     "name": "stderr",
     "output_type": "stream",
     "text": [
      "121it [17:00, 10.10s/it]"
     ]
    },
    {
     "name": "stdout",
     "output_type": "stream",
     "text": [
      "['32-35', '39-45', '78', '84-95']\n"
     ]
    },
    {
     "name": "stderr",
     "output_type": "stream",
     "text": [
      "122it [17:12, 10.63s/it]"
     ]
    },
    {
     "name": "stdout",
     "output_type": "stream",
     "text": [
      "['52-57', '39-45', '58-62', '24-27', '46-51', '78']\n"
     ]
    },
    {
     "name": "stderr",
     "output_type": "stream",
     "text": [
      "123it [17:26, 11.39s/it]"
     ]
    },
    {
     "name": "stdout",
     "output_type": "stream",
     "text": [
      "['78', '46-51', '39-45', '68-70', '71-73', '84-95']\n"
     ]
    },
    {
     "name": "stderr",
     "output_type": "stream",
     "text": [
      "124it [17:39, 11.86s/it]"
     ]
    },
    {
     "name": "stdout",
     "output_type": "stream",
     "text": [
      "['46-51', '28', '78', '24-27', '39-45']\n"
     ]
    },
    {
     "name": "stderr",
     "output_type": "stream",
     "text": [
      "125it [17:50, 11.77s/it]"
     ]
    },
    {
     "name": "stdout",
     "output_type": "stream",
     "text": [
      "['39-45', '78', '52-57', '80-83', '24-27', '79']\n"
     ]
    },
    {
     "name": "stderr",
     "output_type": "stream",
     "text": [
      "126it [18:02, 11.64s/it]"
     ]
    },
    {
     "name": "stdout",
     "output_type": "stream",
     "text": [
      "['78', '32-35', '39-45', '24-27', '46-51', '79', '84-95', '96-99']\n"
     ]
    },
    {
     "name": "stderr",
     "output_type": "stream",
     "text": [
      "127it [18:14, 11.86s/it]"
     ]
    },
    {
     "name": "stdout",
     "output_type": "stream",
     "text": [
      "['39-45', '68-70', '58-62', '24-27', '78', '46-51']\n"
     ]
    },
    {
     "name": "stderr",
     "output_type": "stream",
     "text": [
      "128it [18:28, 12.50s/it]"
     ]
    },
    {
     "name": "stdout",
     "output_type": "stream",
     "text": [
      "['32-35', '78', '79', '46-51', '39-45', '84-95']\n"
     ]
    },
    {
     "name": "stderr",
     "output_type": "stream",
     "text": [
      "129it [18:41, 12.69s/it]"
     ]
    },
    {
     "name": "stdout",
     "output_type": "stream",
     "text": [
      "['39-45', '46-51', '52-57', '24-27', '78', '79']\n"
     ]
    },
    {
     "name": "stderr",
     "output_type": "stream",
     "text": [
      "130it [18:53, 12.37s/it]"
     ]
    },
    {
     "name": "stdout",
     "output_type": "stream",
     "text": [
      "['52-57', '39-45', '78', '58-62', '24-27', '68-70', '32-35', '46-51', '11-13']\n"
     ]
    },
    {
     "name": "stderr",
     "output_type": "stream",
     "text": [
      "131it [19:05, 12.38s/it]"
     ]
    },
    {
     "name": "stdout",
     "output_type": "stream",
     "text": [
      "['46-51', '32-35', '79', '24-27', '36-38', '39-45']\n"
     ]
    },
    {
     "name": "stderr",
     "output_type": "stream",
     "text": [
      "132it [19:18, 12.62s/it]"
     ]
    },
    {
     "name": "stdout",
     "output_type": "stream",
     "text": [
      "['46-51', '52-57', '24-27', '39-45', '78']\n"
     ]
    },
    {
     "name": "stderr",
     "output_type": "stream",
     "text": [
      "133it [19:30, 12.20s/it]"
     ]
    },
    {
     "name": "stdout",
     "output_type": "stream",
     "text": [
      "['46-51', '39-45', '78']\n"
     ]
    },
    {
     "name": "stderr",
     "output_type": "stream",
     "text": [
      "134it [19:42, 12.16s/it]"
     ]
    },
    {
     "name": "stdout",
     "output_type": "stream",
     "text": [
      "['46-51', '52-57', '24-27', '39-45', '78']\n"
     ]
    },
    {
     "name": "stderr",
     "output_type": "stream",
     "text": [
      "136it [19:55,  9.66s/it]"
     ]
    },
    {
     "name": "stdout",
     "output_type": "stream",
     "text": [
      "['39-45', '46-51', '52-57', '78', '24-27', '32-35', '68-70']\n"
     ]
    },
    {
     "name": "stderr",
     "output_type": "stream",
     "text": [
      "137it [20:07, 10.10s/it]"
     ]
    },
    {
     "name": "stdout",
     "output_type": "stream",
     "text": [
      "['78', '39-45', '52-57', '24-27', '36-38', '46-51', '29-31', '32-35']\n"
     ]
    },
    {
     "name": "stderr",
     "output_type": "stream",
     "text": [
      "140it [20:19,  6.98s/it]"
     ]
    },
    {
     "name": "stdout",
     "output_type": "stream",
     "text": [
      "['39-45', '46-51', '21-23', '78', '24-27', '32-35']\n"
     ]
    },
    {
     "name": "stderr",
     "output_type": "stream",
     "text": [
      "141it [20:31,  8.04s/it]"
     ]
    },
    {
     "name": "stdout",
     "output_type": "stream",
     "text": [
      "['52-57', '39-45', '58-62', '78', '24-27', '36-38']\n"
     ]
    },
    {
     "name": "stderr",
     "output_type": "stream",
     "text": [
      "142it [20:43,  8.98s/it]"
     ]
    },
    {
     "name": "stdout",
     "output_type": "stream",
     "text": [
      "['46-51', '39-45', '24-27', '78', '00-10']\n"
     ]
    },
    {
     "name": "stderr",
     "output_type": "stream",
     "text": [
      "143it [20:55,  9.73s/it]"
     ]
    },
    {
     "name": "stdout",
     "output_type": "stream",
     "text": [
      "['39-45', '46-51', '78', '79']\n"
     ]
    },
    {
     "name": "stderr",
     "output_type": "stream",
     "text": [
      "144it [21:08, 10.36s/it]"
     ]
    },
    {
     "name": "stdout",
     "output_type": "stream",
     "text": [
      "['39-45', '46-51', '24-27', '78', 'V88-V88']\n"
     ]
    },
    {
     "name": "stderr",
     "output_type": "stream",
     "text": [
      "145it [21:21, 11.11s/it]"
     ]
    },
    {
     "name": "stdout",
     "output_type": "stream",
     "text": [
      "['78', '80-83', '52-57', '32-35', '29-31', '58-62', '84-95']\n"
     ]
    },
    {
     "name": "stderr",
     "output_type": "stream",
     "text": [
      "146it [21:31, 10.85s/it]"
     ]
    },
    {
     "name": "stdout",
     "output_type": "stream",
     "text": [
      "['39-45', '46-51', '78', '24-27']\n"
     ]
    },
    {
     "name": "stderr",
     "output_type": "stream",
     "text": [
      "147it [21:45, 11.70s/it]"
     ]
    },
    {
     "name": "stdout",
     "output_type": "stream",
     "text": [
      "['46-51', '39-45', '78', '24-27', '79']\n"
     ]
    },
    {
     "name": "stderr",
     "output_type": "stream",
     "text": [
      "148it [21:57, 11.68s/it]"
     ]
    },
    {
     "name": "stdout",
     "output_type": "stream",
     "text": [
      "['71-73', '46-51', '80-83', '39-45', '29-31', '32-35', '84-95']\n"
     ]
    },
    {
     "name": "stderr",
     "output_type": "stream",
     "text": [
      "149it [22:11, 12.47s/it]"
     ]
    },
    {
     "name": "stdout",
     "output_type": "stream",
     "text": [
      "['24-27', '39-45', '46-51', '68-70', '71-73', '78', '80-83']\n"
     ]
    },
    {
     "name": "stderr",
     "output_type": "stream",
     "text": [
      "150it [22:23, 12.41s/it]"
     ]
    },
    {
     "name": "stdout",
     "output_type": "stream",
     "text": [
      "['52-57', '39-45', '24-27', '78', '58-62', '46-51']\n"
     ]
    },
    {
     "name": "stderr",
     "output_type": "stream",
     "text": [
      "151it [22:36, 12.40s/it]"
     ]
    },
    {
     "name": "stdout",
     "output_type": "stream",
     "text": [
      "['39-45', '46-51', '78', '24-27', '79']\n"
     ]
    },
    {
     "name": "stderr",
     "output_type": "stream",
     "text": [
      "153it [22:48,  9.52s/it]"
     ]
    },
    {
     "name": "stdout",
     "output_type": "stream",
     "text": [
      "['78', '29-31', '32-35', '58-62', '24-27']\n"
     ]
    },
    {
     "name": "stderr",
     "output_type": "stream",
     "text": [
      "154it [23:00, 10.21s/it]"
     ]
    },
    {
     "name": "stdout",
     "output_type": "stream",
     "text": [
      "['52-57', '39-45', '46-51', '24-27', '36-38', '58-62']\n"
     ]
    },
    {
     "name": "stderr",
     "output_type": "stream",
     "text": [
      "155it [23:12, 10.76s/it]"
     ]
    },
    {
     "name": "stdout",
     "output_type": "stream",
     "text": [
      "['78', '39-45', '46-51', '52-57', '32-35', '29-31', '00-10']\n"
     ]
    },
    {
     "name": "stderr",
     "output_type": "stream",
     "text": [
      "156it [23:26, 11.50s/it]"
     ]
    },
    {
     "name": "stdout",
     "output_type": "stream",
     "text": [
      "['68-70', '39-45', '24-27', '28', '46-51', '78', '11-13', '32-35']\n"
     ]
    },
    {
     "name": "stderr",
     "output_type": "stream",
     "text": [
      "157it [23:38, 11.69s/it]"
     ]
    },
    {
     "name": "stdout",
     "output_type": "stream",
     "text": [
      "['52-57', '78', '39-45', '24-27', '58-62', '46-51', '84-95']\n"
     ]
    },
    {
     "name": "stderr",
     "output_type": "stream",
     "text": [
      "158it [23:51, 12.06s/it]"
     ]
    },
    {
     "name": "stdout",
     "output_type": "stream",
     "text": [
      "['46-51', '52-57', '24-27', '39-45', '78']\n"
     ]
    },
    {
     "name": "stderr",
     "output_type": "stream",
     "text": [
      "160it [24:03,  9.36s/it]"
     ]
    },
    {
     "name": "stdout",
     "output_type": "stream",
     "text": [
      "['14-20', '21-23', '46-51', '58-62', '78']\n"
     ]
    },
    {
     "name": "stderr",
     "output_type": "stream",
     "text": [
      "161it [24:15, 10.06s/it]"
     ]
    },
    {
     "name": "stdout",
     "output_type": "stream",
     "text": [
      "['28', '52-57', '39-45', '24-27', 'V40-V49', '21-23', '58-62', '11-13', '14-20']\n"
     ]
    },
    {
     "name": "stderr",
     "output_type": "stream",
     "text": [
      "162it [24:28, 10.59s/it]"
     ]
    },
    {
     "name": "stdout",
     "output_type": "stream",
     "text": [
      "['32-35', '78', '39-45', '79', '29-31']\n"
     ]
    },
    {
     "name": "stderr",
     "output_type": "stream",
     "text": [
      "164it [24:41,  8.89s/it]"
     ]
    },
    {
     "name": "stdout",
     "output_type": "stream",
     "text": [
      "['39-45', '78', '46-51', '52-57', '24-27', '29-31', '32-35', '36-38']\n"
     ]
    },
    {
     "name": "stderr",
     "output_type": "stream",
     "text": [
      "165it [24:53,  9.57s/it]"
     ]
    },
    {
     "name": "stdout",
     "output_type": "stream",
     "text": [
      "['39-45', '46-51', '78', '96-99']\n"
     ]
    },
    {
     "name": "stderr",
     "output_type": "stream",
     "text": [
      "167it [25:06,  8.40s/it]"
     ]
    },
    {
     "name": "stdout",
     "output_type": "stream",
     "text": [
      "['39-45', '32-35', '71-73', '68-70', '78', '58-62', '46-51', '29-31', '24-27']\n"
     ]
    },
    {
     "name": "stderr",
     "output_type": "stream",
     "text": [
      "168it [25:18,  9.25s/it]"
     ]
    },
    {
     "name": "stdout",
     "output_type": "stream",
     "text": [
      "['52-57', '39-45', '24-27', '78', '29-31', '32-35', '14-20']\n"
     ]
    },
    {
     "name": "stderr",
     "output_type": "stream",
     "text": [
      "169it [25:30,  9.95s/it]"
     ]
    },
    {
     "name": "stdout",
     "output_type": "stream",
     "text": [
      "['58-62', '63-66', '67', '24-27', '78', '79']\n"
     ]
    },
    {
     "name": "stderr",
     "output_type": "stream",
     "text": [
      "170it [25:42, 10.53s/it]"
     ]
    },
    {
     "name": "stdout",
     "output_type": "stream",
     "text": [
      "['24-27', '29-31', '32-35', '39-45', '58-62', '78']\n"
     ]
    },
    {
     "name": "stderr",
     "output_type": "stream",
     "text": [
      "171it [25:55, 11.07s/it]"
     ]
    },
    {
     "name": "stdout",
     "output_type": "stream",
     "text": [
      "['39-45', '71-73', '24-27', '78', '46-51', '52-57', '58-62', '67', '63-66', '79']\n"
     ]
    },
    {
     "name": "stderr",
     "output_type": "stream",
     "text": [
      "172it [26:07, 11.42s/it]"
     ]
    },
    {
     "name": "stdout",
     "output_type": "stream",
     "text": [
      "['78', '52-57', '36-38', '24-27']\n"
     ]
    },
    {
     "name": "stderr",
     "output_type": "stream",
     "text": [
      "173it [26:21, 11.97s/it]"
     ]
    },
    {
     "name": "stdout",
     "output_type": "stream",
     "text": [
      "['00-10', '46-51', '78', '39-45', '24-27']\n"
     ]
    },
    {
     "name": "stderr",
     "output_type": "stream",
     "text": [
      "174it [26:34, 12.43s/it]"
     ]
    },
    {
     "name": "stdout",
     "output_type": "stream",
     "text": [
      "['39-45', '78', '32-35', '46-51', '52-57', '24-27', '84-95']\n"
     ]
    },
    {
     "name": "stderr",
     "output_type": "stream",
     "text": [
      "175it [26:45, 12.08s/it]"
     ]
    },
    {
     "name": "stdout",
     "output_type": "stream",
     "text": [
      "['46-51', '39-45', '78', '79']\n"
     ]
    },
    {
     "name": "stderr",
     "output_type": "stream",
     "text": [
      "176it [26:58, 12.14s/it]"
     ]
    },
    {
     "name": "stdout",
     "output_type": "stream",
     "text": [
      "['52-57', '36-38', '39-45', '24-27', '78', '46-51', '32-35', '79']\n"
     ]
    },
    {
     "name": "stderr",
     "output_type": "stream",
     "text": [
      "177it [27:10, 12.16s/it]"
     ]
    },
    {
     "name": "stdout",
     "output_type": "stream",
     "text": [
      "['39-45', '46-51', '78', '52-57', '24-27']\n"
     ]
    },
    {
     "name": "stderr",
     "output_type": "stream",
     "text": [
      "178it [27:22, 12.16s/it]"
     ]
    },
    {
     "name": "stdout",
     "output_type": "stream",
     "text": [
      "['52-57', '39-45', '28', '46-51', '24-27', '63-66', '58-62']\n"
     ]
    },
    {
     "name": "stderr",
     "output_type": "stream",
     "text": [
      "180it [27:34,  9.40s/it]"
     ]
    },
    {
     "name": "stdout",
     "output_type": "stream",
     "text": [
      "['39-45', '46-51', '24-27', '52-57', '58-62', '78', '79']\n"
     ]
    },
    {
     "name": "stderr",
     "output_type": "stream",
     "text": [
      "181it [27:47, 10.23s/it]"
     ]
    },
    {
     "name": "stdout",
     "output_type": "stream",
     "text": [
      "['46-51', '78', '68-70', '71-73']\n"
     ]
    },
    {
     "name": "stderr",
     "output_type": "stream",
     "text": [
      "182it [27:59, 10.53s/it]"
     ]
    },
    {
     "name": "stdout",
     "output_type": "stream",
     "text": [
      "['71-73', '78', '21-23', '39-45', '80-83', '58-62', '32-35', '29-31', 'V87-V87']\n"
     ]
    },
    {
     "name": "stderr",
     "output_type": "stream",
     "text": [
      "183it [28:12, 11.27s/it]"
     ]
    },
    {
     "name": "stdout",
     "output_type": "stream",
     "text": [
      "['32-35', '78', '29-31', '79', '71-73']\n"
     ]
    },
    {
     "name": "stderr",
     "output_type": "stream",
     "text": [
      "184it [28:24, 11.57s/it]"
     ]
    },
    {
     "name": "stdout",
     "output_type": "stream",
     "text": [
      "['78', '29-31', '52-57', '24-27', '39-45', '46-51', '68-70', '32-35']\n"
     ]
    },
    {
     "name": "stderr",
     "output_type": "stream",
     "text": [
      "185it [28:36, 11.78s/it]"
     ]
    },
    {
     "name": "stdout",
     "output_type": "stream",
     "text": [
      "['52-57', '39-45', '46-51', '24-27', '78']\n"
     ]
    },
    {
     "name": "stderr",
     "output_type": "stream",
     "text": [
      "186it [28:49, 11.93s/it]"
     ]
    },
    {
     "name": "stdout",
     "output_type": "stream",
     "text": [
      "['29-31', '39-45', '32-35', '78', '24-27']\n"
     ]
    },
    {
     "name": "stderr",
     "output_type": "stream",
     "text": [
      "187it [29:00, 11.75s/it]"
     ]
    },
    {
     "name": "stdout",
     "output_type": "stream",
     "text": [
      "['78', '46-51', '52-57', '21-23', '39-45', '00-10']\n"
     ]
    },
    {
     "name": "stderr",
     "output_type": "stream",
     "text": [
      "188it [29:12, 11.89s/it]"
     ]
    },
    {
     "name": "stdout",
     "output_type": "stream",
     "text": [
      "['52-57', '28', '46-51', '78', '79']\n"
     ]
    },
    {
     "name": "stderr",
     "output_type": "stream",
     "text": [
      "189it [29:26, 12.33s/it]"
     ]
    },
    {
     "name": "stdout",
     "output_type": "stream",
     "text": [
      "['32-35', '39-45', '78', '84-95', '96-99']\n"
     ]
    },
    {
     "name": "stderr",
     "output_type": "stream",
     "text": [
      "190it [29:37, 12.02s/it]"
     ]
    },
    {
     "name": "stdout",
     "output_type": "stream",
     "text": [
      "['46-51', '32-35', '78', '24-27', 'V88-V88', 'V40-V49']\n"
     ]
    },
    {
     "name": "stderr",
     "output_type": "stream",
     "text": [
      "193it [29:49,  7.57s/it]"
     ]
    },
    {
     "name": "stdout",
     "output_type": "stream",
     "text": [
      "['32-35', '39-45', '78', '24-27', '84-95']\n"
     ]
    },
    {
     "name": "stderr",
     "output_type": "stream",
     "text": [
      "194it [30:02,  8.68s/it]"
     ]
    },
    {
     "name": "stdout",
     "output_type": "stream",
     "text": [
      "['39-45', '46-51', '52-57', '24-27', '78']\n"
     ]
    },
    {
     "name": "stderr",
     "output_type": "stream",
     "text": [
      "199it [30:13,  4.83s/it]"
     ]
    },
    {
     "name": "stdout",
     "output_type": "stream",
     "text": [
      "['78', '32-35', '71-73', '39-45', '84-95']\n"
     ]
    },
    {
     "name": "stderr",
     "output_type": "stream",
     "text": [
      "200it [30:26,  5.92s/it]"
     ]
    },
    {
     "name": "stdout",
     "output_type": "stream",
     "text": [
      "['32-35', '78', '29-31', '24-27', '46-51', '39-45', '84-95']\n"
     ]
    },
    {
     "name": "stderr",
     "output_type": "stream",
     "text": [
      "200it [30:38,  9.19s/it]"
     ]
    },
    {
     "name": "stdout",
     "output_type": "stream",
     "text": [
      "['39-45', '46-51', '78', '24-27', '32-35']\n",
      "Number of rows : 154\n",
      "[['24-27', '14-20'], ['24-27', '52-57', '46-51', '74-75', '32-35', '39-45', 'V40-V49', '29-31'], ['28', '84-95', '52-57', '96-99', '46-51', '39-45', '00-10'], ['24-27', '28', '96-99', '52-57', '58-62', '39-45', '29-31'], ['24-27', '28', '78', '58-62', '39-45', 'V40-V49'], ['24-27', '78', '32-35', '39-45', '29-31'], ['78', '52-57', '96-99', '58-62', '29-31', '00-10'], ['24-27', '78', '46-51', '39-45', '00-10'], ['24-27', '78', '29-31', '39-45'], ['78', '96-99', '46-51', '39-45', '14-20', '00-10'], ['28', '11-13', '96-99', '46-51', '58-62', '39-45', '00-10'], ['24-27', '52-57', '46-51', '58-62', '39-45', '00-10'], ['46-51', '28', '58-62', '39-45'], ['32-35', '84-95'], ['24-27', '28', '11-13', '36-38', '39-45', '21-23'], ['24-27', '78', '71-73', '84-95', '96-99', '39-45'], ['24-27', '28', '71-73', '78', '96-99', '46-51', '79', '58-62', '68-70', '29-31'], ['24-27', '28', '78', '52-57', '46-51', '79', '58-62', '68-70', '39-45', '21-23', 'V10-V19'], ['24-27', '29-31', '39-45'], ['24-27', '39-45'], ['24-27', '71-73', '46-51', '68-70', '39-45', 'V01-V09'], ['24-27', '78', '84-95', '58-62', '39-45'], ['24-27', '78', '11-13', '52-57', '39-45'], ['V40-V49', 'V10-V19', '14-20', '71-73'], ['24-27', '78', '28', '52-57', '58-62', '39-45', 'V40-V49'], ['24-27', '78', '71-73', 'V50-V59', '84-95', '46-51', '79', '58-62', '32-35', '39-45', 'V40-V49', '21-23', '29-31', '00-10'], ['24-27', '78', '28', '84-95', '96-99', '36-38', '58-62', '32-35', '39-45', 'V40-V49', 'V10-V19', '00-10'], ['24-27', '28', '78', '52-57', '46-51', '79', '29-31'], ['24-27', '78', 'V50-V59', '11-13', '58-62', '32-35', '39-45', '14-20', '00-10'], ['24-27', 'V50-V59', '46-51', '79', '58-62', '39-45', '14-20'], ['24-27', '28', '71-73', '78', 'V50-V59', '11-13', '52-57', '46-51', '32-35', '39-45', '29-31', 'V10-V19', '00-10'], ['24-27', '78', 'V50-V59', '52-57', '96-99', '46-51', '68-70', '58-62', '39-45', 'V40-V49', '21-23', 'V10-V19', '00-10'], ['24-27', '28', '78', 'V50-V59', '52-57', '96-99', '46-51', '58-62', '32-35', '39-45', '29-31', 'V60-V69', 'V10-V19', '00-10'], ['24-27', '58-62', '52-57', '39-45'], ['52-57', '28', '00-10', '39-45'], ['V40-V49', '24-27', '71-73', '39-45'], ['24-27', '78', '96-99', '52-57', '46-51', '79', '32-35', '39-45', '29-31', '00-10'], ['24-27', '96-99', '52-57', '74-75', '58-62', '39-45', 'V40-V49', 'V10-V19'], ['24-27', '78', '52-57', '36-38', '46-51', '58-62', '32-35', '39-45', 'V40-V49', '29-31', 'V10-V19'], ['24-27', '78', '71-73', '96-99', '46-51', '39-45', 'V10-V19'], ['78', '52-57', '96-99', '46-51', '58-62', '39-45', '29-31', '00-10'], ['28', '46-51', '39-45', 'V40-V49', '29-31'], ['24-27', 'V50-V59', '71-73', '52-57', '46-51', 'V70-V82', '39-45', 'V40-V49', '29-31', 'V10-V19'], ['24-27', '52-57', '58-62', '74-75', '39-45'], ['24-27', '46-51', '58-62', '39-45'], ['24-27', '28', '52-57', '79', '39-45', '21-23', '29-31', 'V10-V19'], ['24-27', '28', '78', 'V50-V59', '52-57', '68-70', '29-31', 'V60-V69', '00-10'], ['24-27', '78', 'V50-V59', '52-57', '96-99', '58-62', '32-35', '29-31', '00-10'], ['24-27', 'V50-V59', '52-57', '58-62', '39-45'], ['24-27', '28', '78', '52-57', '39-45', 'V40-V49', '14-20'], ['24-27', 'V50-V59', '28', '96-99', '36-38', '58-62', '32-35', '39-45', '00-10'], ['24-27', '28', '78', '58-62', '32-35', '39-45', 'V40-V49'], ['24-27', '28', '52-57', '96-99', '46-51', '58-62', '68-70', '39-45', 'V40-V49', '00-10'], ['24-27', '78', '79', '58-62', '32-35', '39-45', 'V40-V49', 'V10-V19', '00-10'], ['24-27', '52-57', '58-62', '39-45', '14-20', 'V10-V19', '00-10'], ['63-66', '71-73', '28', '84-95', '52-57', '46-51', '79', '39-45', '67', '29-31', '00-10'], ['24-27', '46-51', 'V10-V19', '39-45'], ['24-27', '78', '28', '96-99', '46-51', '58-62', 'V70-V82', '39-45', '68-70', '29-31', 'V10-V19', '00-10'], ['58-62', '46-51', '14-20', '39-45'], ['24-27', '29-31', '32-35', '39-45'], ['78', '58-62', '68-70', '39-45', 'V40-V49'], ['24-27', '71-73', '52-57', '46-51', '58-62', '32-35', '39-45', 'V40-V49'], ['24-27', '46-51', '39-45'], ['39-45', '28', '29-31'], ['24-27', '96-99', '36-38', '39-45', 'V10-V19'], ['24-27', '52-57', '46-51', '39-45', 'V40-V49', 'V60-V69'], ['80-83', '84-95', '52-57', '46-51', '39-45'], ['24-27', '78', '28', '96-99', '39-45'], ['78', '46-51', '79', '39-45', '00-10'], ['24-27', '78', '71-73', '28', '96-99', '52-57', '46-51', '36-38', '32-35', '39-45', 'V40-V49'], ['24-27', '78', '71-73', '28', '52-57', '96-99', '46-51', '58-62', '68-70', '39-45', '32-35', 'V40-V49', 'V10-V19', '00-10'], ['46-51', '39-45'], ['28', '46-51', '58-62', '68-70', '39-45', 'V40-V49'], ['24-27', 'V50-V59', '78', '46-51', '58-62', '32-35', '39-45', 'V40-V49'], ['52-57', 'V10-V19', '14-20', '39-45'], ['24-27', '71-73', '46-51', '79', '58-62', '39-45', '14-20'], ['78', '28', '96-99', '52-57', '46-51', '58-62', '39-45', 'V40-V49', '21-23', '00-10'], ['24-27', '63-66', 'V50-V59', '46-51', 'V85-V85'], ['24-27', '28', '96-99', '52-57', '46-51', '74-75', '39-45'], ['78', '11-13', '96-99', '46-51', '14-20', '29-31', '00-10'], ['24-27', '78', '71-73', '52-57', '36-38', '46-51', '79', '58-62', '32-35', '39-45', '29-31', 'V10-V19'], ['28', '96-99', '52-57', '46-51', '79', '39-45', '29-31'], ['24-27', 'V50-V59', '71-73', '46-51', '58-62', '32-35', '39-45'], ['24-27', '78', '71-73', '96-99', '46-51', '58-62', '39-45', '00-10'], ['52-57', '39-45', '58-62', '29-31'], ['24-27', '78', '52-57', '32-35', '39-45'], ['24-27', '39-45'], ['46-51', 'V10-V19', '39-45'], ['24-27', '52-57', '58-62', '39-45', 'V40-V49'], ['24-27', 'V50-V59', '28', '96-99', '52-57', '46-51', '58-62', '32-35', '39-45', '68-70', 'V40-V49', '29-31', 'V10-V19', '00-10'], ['24-27', '78', '28', '52-57', '46-51', '79', '39-45', 'V40-V49', '29-31'], ['24-27', '80-83', '71-73', '84-95', '58-62', '39-45'], ['78', '28', 'V88-V88', '74-75', '39-45'], ['96-99', '24-27', '68-70', '39-45'], ['24-27', '78', 'V50-V59', '52-57', '46-51', '58-62', '32-35', '39-45', 'V40-V49', '29-31', 'V10-V19'], ['28', '52-57', '96-99', '29-31', '00-10'], ['24-27', '28', 'V50-V59', '52-57', '39-45', 'V10-V19'], ['24-27', 'V50-V59', '84-95', '52-57', '46-51', '39-45', 'V10-V19'], ['24-27', '71-73', '52-57', '39-45', 'V10-V19'], ['96-99', '39-45'], ['24-27', '28', '78', 'V50-V59', '52-57', '96-99', '58-62', '68-70', '39-45', '32-35', 'V40-V49', '00-10', 'V01-V09'], ['96-99', '46-51', '52-57', '39-45'], ['24-27', '28', '11-13', '96-99', '52-57', '39-45'], ['24-27', '39-45'], ['28', '96-99', '52-57', '39-45', 'V40-V49', 'V10-V19'], ['28', '46-51', '79', 'V40-V49', '21-23', '29-31', 'V10-V19'], ['24-27', '46-51', '39-45'], ['24-27', '28', '71-73', '46-51', '39-45', 'V40-V49', '29-31'], ['24-27', '80-83', '28', '78', 'V50-V59', '52-57', '96-99', '46-51', '79', '39-45', 'V40-V49', '29-31', 'V10-V19'], ['52-57', '46-51', '58-62', 'V70-V82', '39-45', 'V10-V19'], ['52-57', '46-51', '58-62', '39-45', '14-20'], ['24-27', '80-83', '28', 'V50-V59', '84-95', '96-99', '46-51', '39-45', 'V40-V49', '29-31', 'V10-V19'], ['24-27', '28', '71-73', '96-99', '46-51', '58-62', '68-70', '14-20', '29-31', '00-10'], ['24-27', '28', '52-57', '39-45', 'V10-V19', '00-10'], ['46-51', 'V10-V19', '14-20', '39-45'], ['24-27', '78', '71-73', 'V50-V59', '96-99', '52-57', '46-51', '14-20', '29-31', '00-10'], ['24-27', '28', '78', '71-73', 'V50-V59', '52-57', '46-51', '58-62', '39-45', '29-31', 'V10-V19', 'V01-V09'], ['24-27', '46-51', '32-35', '39-45', '14-20'], ['28', '78', '71-73', '84-95', '52-57', '96-99', '58-62', '39-45', '00-10'], ['24-27', '78', '52-57', '96-99', '46-51', '39-45', 'V40-V49', 'V10-V19', '00-10'], ['24-27', '78', '28', '52-57', '46-51', '79', '58-62', '32-35', '39-45', '68-70', 'V40-V49', '14-20', '29-31'], ['24-27', '28', '96-99', '58-62', '39-45', '14-20', 'V10-V19'], ['24-27', '28', '52-57', '46-51', '58-62', '32-35', '39-45', '29-31'], ['24-27', '84-95', '46-51', '32-35', '39-45'], ['78', '46-51', '32-35', '39-45', 'V40-V49', '14-20', 'V10-V19'], ['24-27', '96-99', '32-35', '39-45', 'V10-V19'], ['24-27', '71-73', '96-99', '32-35', '39-45', '29-31'], ['24-27', '78', '52-57', 'V70-V82', '32-35', '39-45', 'V40-V49', '14-20', 'V60-V69', 'V10-V19'], ['24-27', '58-62', '78', '14-20'], ['28', '58-62', '32-35', '29-31'], ['36-38', 'V10-V19', '71-73', '39-45'], ['24-27', '28', '52-57', '46-51', '58-62', '39-45', '14-20', 'V10-V19', '00-10'], ['24-27', '96-99', '52-57', '46-51', '58-62', '39-45', 'V10-V19', '00-10', 'V01-V09'], ['24-27', '28', '52-57', '46-51', '39-45'], ['24-27', '78', '46-51', '58-62', '39-45'], ['24-27', '28', '71-73', '78', 'V50-V59', '52-57', '58-62', '32-35', '39-45', 'V40-V49', 'V10-V19', 'V01-V09'], ['24-27', 'V10-V19', '36-38', '39-45'], ['28', '52-57', '79', '32-35', '39-45', '14-20', 'V10-V19'], ['24-27', '71-73', '52-57', '46-51', '58-62', '39-45', 'V40-V49', '14-20'], ['71-73', '96-99', '36-38', '46-51', '74-75', '32-35'], ['24-27', '28', '71-73', '32-35', '39-45'], ['24-27', 'V88-V88', '39-45'], ['24-27', '78', '71-73', '96-99', '46-51', '32-35', '39-45', '29-31', 'V10-V19'], ['24-27', '71-73', '96-99', '52-57', '46-51', '39-45', 'V40-V49', '29-31'], ['24-27', '78', '96-99', '39-45', 'V40-V49', '00-10'], ['24-27', '68-70', '39-45', '00-10'], ['24-27', '28', '78', '96-99', '52-57', '46-51', '32-35', '39-45', 'V40-V49', '29-31'], ['78', '46-51', '58-62', '32-35', '39-45'], ['71-73', '11-13', '96-99', '46-51', '32-35'], ['24-27', '78', '58-62', '32-35', '39-45'], ['52-57', '28', '39-45'], ['24-27', '46-51', '58-62', '68-70', '39-45'], ['24-27', '32-35', '39-45', 'V40-V49'], ['96-99', '36-38', '52-57', '58-62', '39-45', 'V40-V49', '00-10']]\n",
      "[['24-27', '52-57', '46-51', '58-62', '21-23', '14-20'], ['24-27', '78', '46-51', '68-70', '39-45'], ['24-27', '78', '11-13', '52-57', '36-38', '46-51'], ['24-27', '78', '46-51', '32-35', '39-45'], ['24-27', '78', '52-57', '46-51', '32-35', '39-45'], ['24-27', '78', '71-73', '84-95', '52-57', '46-51', '32-35', '39-45', '29-31'], ['24-27', '78', '52-57', '36-38', '46-51', '39-45'], ['24-27', '46-51', '32-35', '39-45'], ['24-27', '78', '11-13', '52-57', '58-62', '68-70', '39-45', '21-23', '00-10'], ['24-27', '78', '52-57', '46-51', '58-62', '00-10'], ['78', '52-57', '68-70', '32-35', '39-45'], ['24-27', '78', '52-57', '46-51', '39-45'], ['24-27', '46-51', '78', '79'], ['78', '84-95', '79', '32-35', '39-45'], ['24-27', '78', '46-51', '32-35', '39-45'], ['24-27', '78', '71-73', '52-57', '68-70', '39-45', '00-10'], ['24-27', '78', '71-73', '84-95', '39-45'], ['24-27', '78', '71-73', '52-57', '46-51', '58-62', '39-45'], ['24-27', '78', '71-73', '32-35'], ['24-27', '78', '32-35', '39-45'], ['24-27', '78', '52-57', '46-51', '39-45'], ['24-27', '78', '36-38', '46-51', '79', '39-45'], ['52-57', '24-27', '78'], ['78', '52-57', '79', '32-35', '14-20'], ['24-27', '78', '52-57', '46-51', '58-62', '68-70', '39-45'], ['24-27', '78', '46-51', '29-31', '00-10'], ['78', '71-73', '46-51', '32-35', '39-45'], ['24-27', '78', '52-57', '46-51', '32-35', '39-45', '29-31'], ['24-27', '78', '52-57', '46-51', '39-45'], ['78', '46-51', '79', '58-62', '39-45', '21-23'], ['24-27', '78', '52-57', '46-51', '79', '39-45'], ['24-27', '63-66', '28', '78', '52-57', '46-51', '39-45'], ['24-27', '52-57', '58-62', '39-45', '29-31'], ['24-27', '78', '46-51', '39-45', '29-31'], ['24-27', '78', '52-57', '46-51', '39-45'], ['78', '71-73', '84-95', '46-51', '32-35', '39-45'], ['78', '84-95', '52-57', '96-99', '79', '32-35'], ['24-27', '78', '11-13', '52-57', '36-38', '58-62', '39-45', '00-10'], ['24-27', '78', '52-57', '46-51', '58-62', '32-35', '39-45', '29-31'], ['46-51', '78', '71-73', '39-45'], ['24-27', '63-66', '78', '71-73', '11-13', '52-57', '58-62', '39-45', '00-10'], ['24-27', '78', '71-73', '52-57', '46-51', '58-62', '32-35', '39-45'], ['78', '71-73', '46-51', '32-35', '39-45'], ['24-27', '78', '46-51', '79', '39-45'], ['24-27', '78', '32-35', '29-31'], ['24-27', '78', '52-57', '46-51', '39-45'], ['24-27', '80-83', '96-99', '52-57', '29-31'], ['78', '84-95', '52-57', '46-51', '79', '58-62', '32-35', '39-45'], ['24-27', '78', '63-66', '52-57', '46-51', '58-62', '39-45', '21-23', '29-31'], ['24-27', '78', '52-57', '46-51', '39-45'], ['24-27', '78', '11-13', '52-57', '58-62'], ['46-51', '78', '39-45'], ['24-27', '78', '46-51', '58-62', '39-45'], ['24-27', '78', '32-35', '39-45', '29-31'], ['24-27', '78', '52-57', '58-62', '39-45'], ['24-27', '78', '71-73', '46-51', '39-45'], ['24-27', '46-51', '78', '39-45'], ['24-27', '78', '46-51', '32-35', '29-31'], ['24-27', '78', '36-38', '46-51', '79'], ['29-31', '78', '32-35', '39-45'], ['24-27', '80-83', '68-70', '58-62', '32-35', '29-31'], ['78', '46-51', '58-62', '32-35', '39-45'], ['24-27', '78', '84-95', '36-38', '46-51', '79', '58-62', '32-35', '39-45'], ['24-27', '78', '84-95', '96-99', '46-51', '32-35', '39-45'], ['24-27', '46-51', '78', '39-45'], ['24-27', '78', '52-57', '46-51', '39-45'], ['80-83', '46-51', '39-45', '84-95'], ['24-27', '78', '46-51', '79', '39-45'], ['24-27', '28', '52-57', '36-38', '46-51', '39-45'], ['24-27', '78', '52-57', '46-51', '39-45'], ['24-27', '78', '71-73', '52-57', '79', '68-70', '58-62', '39-45'], ['24-27', '46-51', '39-45'], ['24-27', '78', '52-57', '46-51', '58-62', '39-45'], ['24-27', '78', '52-57', '46-51', '58-62', '39-45'], ['24-27', '78', '63-66', '52-57', '58-62', '39-45'], ['46-51', '78', '39-45'], ['78', '52-57', '46-51', '39-45', '29-31', '00-10'], ['78', '36-38', '46-51', '79', '39-45', '29-31'], ['46-51', '78', '39-45'], ['24-27', '46-51', '32-35', '39-45', '29-31', '00-10'], ['24-27', '46-51', '78', '39-45'], ['24-27', '80-83', '78', '52-57', '36-38', '46-51', '68-70', '39-45'], ['24-27', '78', '46-51', '32-35', '39-45'], ['24-27', '78', '46-51', '79', '39-45'], ['24-27', '78', '11-13', '52-57', '36-38', '96-99'], ['24-27', '78', '46-51', '32-35', '39-45'], ['24-27', '78', '46-51', '32-35', '39-45'], ['78', '32-35', '39-45', '84-95'], ['24-27', '78', '52-57', '46-51', '58-62', '39-45'], ['78', '71-73', '84-95', '46-51', '68-70', '39-45'], ['24-27', '28', '78', '46-51', '39-45'], ['24-27', '80-83', '78', '52-57', '79', '39-45'], ['24-27', '78', '84-95', '96-99', '46-51', '79', '32-35', '39-45'], ['24-27', '78', '46-51', '58-62', '68-70', '39-45'], ['78', '84-95', '46-51', '79', '32-35', '39-45'], ['24-27', '78', '52-57', '46-51', '79', '39-45'], ['24-27', '78', '11-13', '52-57', '46-51', '58-62', '68-70', '39-45', '32-35'], ['24-27', '36-38', '46-51', '79', '32-35', '39-45'], ['24-27', '78', '52-57', '46-51', '39-45'], ['46-51', '78', '39-45'], ['24-27', '78', '52-57', '46-51', '39-45'], ['24-27', '78', '52-57', '46-51', '68-70', '32-35', '39-45'], ['24-27', '78', '52-57', '36-38', '46-51', '32-35', '39-45', '29-31'], ['24-27', '78', '46-51', '32-35', '39-45', '21-23'], ['24-27', '78', '52-57', '36-38', '58-62', '39-45'], ['24-27', '78', '46-51', '39-45', '00-10'], ['46-51', '78', '79', '39-45'], ['24-27', '78', 'V88-V88', '46-51', '39-45'], ['80-83', '78', '84-95', '52-57', '58-62', '32-35', '29-31'], ['24-27', '46-51', '78', '39-45'], ['24-27', '78', '46-51', '79', '39-45'], ['80-83', '71-73', '84-95', '46-51', '32-35', '39-45', '29-31'], ['24-27', '80-83', '78', '71-73', '46-51', '68-70', '39-45'], ['24-27', '78', '52-57', '46-51', '58-62', '39-45'], ['24-27', '78', '46-51', '79', '39-45'], ['24-27', '78', '58-62', '32-35', '29-31'], ['24-27', '52-57', '36-38', '46-51', '58-62', '39-45'], ['78', '52-57', '46-51', '32-35', '39-45', '29-31', '00-10'], ['24-27', '28', '78', '11-13', '46-51', '68-70', '32-35', '39-45'], ['24-27', '78', '84-95', '52-57', '46-51', '58-62', '39-45'], ['24-27', '78', '52-57', '46-51', '39-45'], ['78', '46-51', '58-62', '21-23', '14-20'], ['24-27', '28', '11-13', '52-57', '58-62', '39-45', 'V40-V49', '21-23', '14-20'], ['78', '79', '32-35', '39-45', '29-31'], ['24-27', '78', '52-57', '36-38', '46-51', '32-35', '39-45', '29-31'], ['96-99', '46-51', '78', '39-45'], ['24-27', '78', '71-73', '46-51', '68-70', '32-35', '39-45', '58-62', '29-31'], ['24-27', '78', '52-57', '32-35', '39-45', '14-20', '29-31'], ['24-27', '63-66', '78', '79', '58-62', '67'], ['24-27', '78', '58-62', '32-35', '39-45', '29-31'], ['24-27', '78', '71-73', '63-66', '52-57', '46-51', '79', '58-62', '39-45', '67'], ['52-57', '24-27', '78', '36-38'], ['24-27', '78', '46-51', '39-45', '00-10'], ['24-27', '78', '84-95', '52-57', '46-51', '32-35', '39-45'], ['46-51', '78', '79', '39-45'], ['24-27', '78', '52-57', '36-38', '46-51', '79', '32-35', '39-45'], ['24-27', '78', '52-57', '46-51', '39-45'], ['24-27', '28', '63-66', '52-57', '46-51', '58-62', '39-45'], ['24-27', '78', '52-57', '46-51', '79', '58-62', '39-45'], ['46-51', '78', '68-70', '71-73'], ['80-83', '78', '71-73', 'V87-V87', '58-62', '32-35', '39-45', '21-23', '29-31'], ['78', '71-73', '79', '32-35', '29-31'], ['24-27', '78', '52-57', '46-51', '68-70', '32-35', '39-45', '29-31'], ['24-27', '78', '52-57', '46-51', '39-45'], ['24-27', '78', '32-35', '39-45', '29-31'], ['78', '52-57', '46-51', '39-45', '21-23', '00-10'], ['28', '78', '52-57', '46-51', '79'], ['78', '84-95', '96-99', '32-35', '39-45'], ['24-27', '78', 'V88-V88', '46-51', '32-35', 'V40-V49'], ['24-27', '78', '84-95', '32-35', '39-45'], ['24-27', '78', '52-57', '46-51', '39-45'], ['78', '71-73', '84-95', '32-35', '39-45'], ['24-27', '78', '84-95', '46-51', '32-35', '39-45', '29-31'], ['24-27', '78', '46-51', '32-35', '39-45']]\n",
      "Macro Averaged AUROC Score: 0.5456898465068348\n",
      "Micro Averaged Precision: 0.5423728813559322\n",
      "Micro Averaged Recall: 0.46065259117082535\n",
      "Micro Averaged F1-Score: 0.49818370524130773\n",
      "Macro Averaged Precision: 0.22762310488482324\n",
      "Macro Averaged Recall: 0.2037180032722807\n",
      "Macro Averaged F1-Score: 0.19001760367750267\n"
     ]
    },
    {
     "name": "stderr",
     "output_type": "stream",
     "text": [
      "\n"
     ]
    }
   ],
   "source": [
    "metrics_calc(type = 'more than 3 symptoms',method='llm', model_name= 'groq')"
   ]
  },
  {
   "cell_type": "code",
   "execution_count": null,
   "metadata": {},
   "outputs": [
    {
     "name": "stderr",
     "output_type": "stream",
     "text": [
      "1it [00:08,  8.26s/it]"
     ]
    },
    {
     "name": "stdout",
     "output_type": "stream",
     "text": [
      "['14-20', '78', '46-51', '39-45', '52-57', '29-31', 'V40-V49', '24-27', '11-13']\n"
     ]
    },
    {
     "name": "stderr",
     "output_type": "stream",
     "text": [
      "3it [00:17,  5.55s/it]"
     ]
    },
    {
     "name": "stdout",
     "output_type": "stream",
     "text": [
      "['46-51', '28', '78', '24-27', '39-45', '79', '14-20', '29-31']\n"
     ]
    },
    {
     "name": "stderr",
     "output_type": "stream",
     "text": [
      "5it [00:26,  5.06s/it]"
     ]
    },
    {
     "name": "stdout",
     "output_type": "stream",
     "text": [
      "['11-13', '39-45', '52-57', '14-20', '71-73', '79']\n"
     ]
    },
    {
     "name": "stderr",
     "output_type": "stream",
     "text": [
      "6it [00:34,  5.89s/it]"
     ]
    },
    {
     "name": "stdout",
     "output_type": "stream",
     "text": [
      "['39-45', '46-51', '28', '24-27', '78']\n"
     ]
    },
    {
     "name": "stderr",
     "output_type": "stream",
     "text": [
      "7it [00:42,  6.51s/it]"
     ]
    },
    {
     "name": "stdout",
     "output_type": "stream",
     "text": [
      "['78', '14-20', '39-45', '46-51', '24-27', '52-57', '68-70', '28', 'V40-V49']\n"
     ]
    },
    {
     "name": "stderr",
     "output_type": "stream",
     "text": [
      "8it [00:52,  7.29s/it]"
     ]
    },
    {
     "name": "stdout",
     "output_type": "stream",
     "text": [
      "['78', '96-99', '46-51', '39-45', '29-31', '28', '24-27', '14-20', '71-73', '32-35']\n"
     ]
    },
    {
     "name": "stderr",
     "output_type": "stream",
     "text": [
      "11it [01:01,  4.96s/it]"
     ]
    },
    {
     "name": "stdout",
     "output_type": "stream",
     "text": [
      "['52-57', '24-27', '14-20', '39-45', '78', '46-51']\n"
     ]
    },
    {
     "name": "stderr",
     "output_type": "stream",
     "text": [
      "12it [01:11,  6.06s/it]"
     ]
    },
    {
     "name": "stdout",
     "output_type": "stream",
     "text": [
      "['39-45', '46-51', '28', '24-27', '78']\n"
     ]
    },
    {
     "name": "stderr",
     "output_type": "stream",
     "text": [
      "13it [01:20,  6.77s/it]"
     ]
    },
    {
     "name": "stdout",
     "output_type": "stream",
     "text": [
      "['00-10', '24-27', '28', '39-45', '52-57', '58-62', '68-70', '71-73', '78', '79', '96-99']\n"
     ]
    },
    {
     "name": "stderr",
     "output_type": "stream",
     "text": [
      "16it [01:29,  4.93s/it]"
     ]
    },
    {
     "name": "stdout",
     "output_type": "stream",
     "text": [
      "['14-20', 'V40-V49', '29-31', '78', '46-51', '96-99', '39-45', 'V10-V19', '52-57', '36-38', '28', '24-27', '11-13']\n"
     ]
    },
    {
     "name": "stderr",
     "output_type": "stream",
     "text": [
      "17it [01:39,  5.75s/it]"
     ]
    },
    {
     "name": "stdout",
     "output_type": "stream",
     "text": [
      "['39-45', '78', '71-73', '58-62', '32-35', '24-27', '84-95', '46-51', '79', '14-20']\n"
     ]
    },
    {
     "name": "stderr",
     "output_type": "stream",
     "text": [
      "18it [01:47,  6.26s/it]"
     ]
    },
    {
     "name": "stdout",
     "output_type": "stream",
     "text": [
      "['78', '39-45', '24-27', '46-51', '52-57', '11-13', '29-31', '79']\n"
     ]
    },
    {
     "name": "stderr",
     "output_type": "stream",
     "text": [
      "19it [01:56,  6.90s/it]"
     ]
    },
    {
     "name": "stdout",
     "output_type": "stream",
     "text": [
      "['78', '46-51', 'V40-V49', '96-99']\n"
     ]
    },
    {
     "name": "stderr",
     "output_type": "stream",
     "text": [
      "20it [02:04,  7.21s/it]"
     ]
    },
    {
     "name": "stdout",
     "output_type": "stream",
     "text": [
      "['32-35', '39-45', '14-20', '46-51', '78', '80-83', '28']\n"
     ]
    },
    {
     "name": "stderr",
     "output_type": "stream",
     "text": [
      "21it [02:13,  7.72s/it]"
     ]
    },
    {
     "name": "stdout",
     "output_type": "stream",
     "text": [
      "['39-45', '46-51', '24-27', '11-13', '29-31', '78']\n"
     ]
    },
    {
     "name": "stderr",
     "output_type": "stream",
     "text": [
      "22it [02:23,  8.36s/it]"
     ]
    },
    {
     "name": "stdout",
     "output_type": "stream",
     "text": [
      "['78', '29-31', '39-45', '46-51', '96-99', '71-73', '68-70', '52-57', '24-27', '11-13']\n"
     ]
    },
    {
     "name": "stderr",
     "output_type": "stream",
     "text": [
      "23it [02:31,  8.32s/it]"
     ]
    },
    {
     "name": "stdout",
     "output_type": "stream",
     "text": [
      "['78', '39-45', '71-73', '24-27', '79', '46-51']\n"
     ]
    },
    {
     "name": "stderr",
     "output_type": "stream",
     "text": [
      "24it [02:41,  8.62s/it]"
     ]
    },
    {
     "name": "stdout",
     "output_type": "stream",
     "text": [
      "['78', '46-51', '29-31', '32-35', '52-57', '36-38', '24-27', '39-45', 'V40-V49', 'V10-V19']\n"
     ]
    },
    {
     "name": "stderr",
     "output_type": "stream",
     "text": [
      "25it [02:47,  7.93s/it]"
     ]
    },
    {
     "name": "stdout",
     "output_type": "stream",
     "text": [
      "['36-38', '21-23', '11-13', '14-20']\n"
     ]
    },
    {
     "name": "stderr",
     "output_type": "stream",
     "text": [
      "26it [02:55,  8.01s/it]"
     ]
    },
    {
     "name": "stdout",
     "output_type": "stream",
     "text": [
      "['78', '46-51', '39-45', '32-35', '29-31', '24-27', '14-20']\n"
     ]
    },
    {
     "name": "stderr",
     "output_type": "stream",
     "text": [
      "28it [03:03,  6.25s/it]"
     ]
    },
    {
     "name": "stdout",
     "output_type": "stream",
     "text": [
      "['V40-V49', '78', '46-51', '58-62', '39-45', '52-57', '24-27', '11-13', '28']\n"
     ]
    },
    {
     "name": "stderr",
     "output_type": "stream",
     "text": [
      "30it [03:12,  5.45s/it]"
     ]
    },
    {
     "name": "stdout",
     "output_type": "stream",
     "text": [
      "['78', '46-51', '39-45', '24-27', '68-70', '79', '28', '84-95']\n"
     ]
    },
    {
     "name": "stderr",
     "output_type": "stream",
     "text": [
      "33it [03:20,  4.25s/it]"
     ]
    },
    {
     "name": "stdout",
     "output_type": "stream",
     "text": [
      "['52-57', '39-45', '78', '11-13', '24-27', '36-38', '79', '84-95']\n"
     ]
    },
    {
     "name": "stderr",
     "output_type": "stream",
     "text": [
      "34it [03:29,  4.98s/it]"
     ]
    },
    {
     "name": "stdout",
     "output_type": "stream",
     "text": [
      "['14-20', '39-45', '58-62', '32-35', 'V40-V49', '24-27', '29-31', '78', '46-51', 'V50-V59', 'V10-V19', '52-57', '36-38']\n"
     ]
    },
    {
     "name": "stderr",
     "output_type": "stream",
     "text": [
      "35it [03:38,  5.88s/it]"
     ]
    },
    {
     "name": "stdout",
     "output_type": "stream",
     "text": [
      "['46-51', '39-45', '32-35', '68-70', '78', '58-62', '24-27']\n"
     ]
    },
    {
     "name": "stderr",
     "output_type": "stream",
     "text": [
      "36it [03:46,  6.42s/it]"
     ]
    },
    {
     "name": "stdout",
     "output_type": "stream",
     "text": [
      "['24-27', '46-51', '78', '28', '39-45', '11-13']\n"
     ]
    },
    {
     "name": "stderr",
     "output_type": "stream",
     "text": [
      "37it [03:55,  6.87s/it]"
     ]
    },
    {
     "name": "stdout",
     "output_type": "stream",
     "text": [
      "['32-35', '39-45', '78', '79', '80-83', '96-99']\n"
     ]
    },
    {
     "name": "stderr",
     "output_type": "stream",
     "text": [
      "38it [04:04,  7.45s/it]"
     ]
    },
    {
     "name": "stdout",
     "output_type": "stream",
     "text": [
      "['78', '32-35', '39-45', '52-57', '29-31', '24-27', '36-38', '28']\n"
     ]
    },
    {
     "name": "stderr",
     "output_type": "stream",
     "text": [
      "39it [04:12,  7.65s/it]"
     ]
    },
    {
     "name": "stdout",
     "output_type": "stream",
     "text": [
      "['78', '46-51', '39-45', '24-27', '52-57', '29-31', 'V40-V49', 'V50-V59']\n"
     ]
    },
    {
     "name": "stderr",
     "output_type": "stream",
     "text": [
      "40it [04:21,  8.06s/it]"
     ]
    },
    {
     "name": "stdout",
     "output_type": "stream",
     "text": [
      "['39-45', '46-51', '52-57', '58-62', '78', '79', '11-13', '14-20', '21-23', '24-27']\n"
     ]
    },
    {
     "name": "stderr",
     "output_type": "stream",
     "text": [
      "41it [04:30,  8.34s/it]"
     ]
    },
    {
     "name": "stdout",
     "output_type": "stream",
     "text": [
      "['78', '11-13', '24-27', '39-45', '52-57', '68-70']\n"
     ]
    },
    {
     "name": "stderr",
     "output_type": "stream",
     "text": [
      "43it [04:38,  6.45s/it]"
     ]
    },
    {
     "name": "stdout",
     "output_type": "stream",
     "text": [
      "['28', '39-45', '46-51', '52-57', '78', '96-99']\n"
     ]
    },
    {
     "name": "stderr",
     "output_type": "stream",
     "text": [
      "45it [04:47,  5.59s/it]"
     ]
    },
    {
     "name": "stdout",
     "output_type": "stream",
     "text": [
      "['78', '29-31', '52-57', '39-45', '21-23', '24-27', '58-62', '11-13', '14-20']\n"
     ]
    },
    {
     "name": "stderr",
     "output_type": "stream",
     "text": [
      "46it [04:56,  6.35s/it]"
     ]
    },
    {
     "name": "stdout",
     "output_type": "stream",
     "text": [
      "['78', 'V40-V49', '46-51', '39-45', '24-27', 'V60-V69', '28', '79']\n"
     ]
    },
    {
     "name": "stderr",
     "output_type": "stream",
     "text": [
      "48it [05:04,  5.47s/it]"
     ]
    },
    {
     "name": "stdout",
     "output_type": "stream",
     "text": [
      "['39-45', '24-27', '52-57', '36-38', '46-51', '78', '79']\n"
     ]
    },
    {
     "name": "stderr",
     "output_type": "stream",
     "text": [
      "50it [05:13,  5.15s/it]"
     ]
    },
    {
     "name": "stdout",
     "output_type": "stream",
     "text": [
      "['14-20', '39-45', '46-51', '71-73', '78', '32-35', '68-70', '24-27', '79', '96-99']\n"
     ]
    },
    {
     "name": "stderr",
     "output_type": "stream",
     "text": [
      "54it [05:22,  3.70s/it]"
     ]
    },
    {
     "name": "stdout",
     "output_type": "stream",
     "text": [
      "['78', '32-35', '46-51', 'V50-V59', '39-45', '24-27', '96-99']\n"
     ]
    },
    {
     "name": "stderr",
     "output_type": "stream",
     "text": [
      "56it [05:31,  3.88s/it]"
     ]
    },
    {
     "name": "stdout",
     "output_type": "stream",
     "text": [
      "['52-57', '39-45', '14-20', '46-51', '78', '24-27', '29-31', '58-62', '36-38']\n"
     ]
    },
    {
     "name": "stderr",
     "output_type": "stream",
     "text": [
      "57it [05:39,  4.56s/it]"
     ]
    },
    {
     "name": "stdout",
     "output_type": "stream",
     "text": [
      "['14-20', 'V40-V49', '29-31', '78', '46-51', '96-99', '32-35', '39-45', '52-57', '28', '79', '24-27']\n"
     ]
    },
    {
     "name": "stderr",
     "output_type": "stream",
     "text": [
      "58it [05:49,  5.50s/it]"
     ]
    },
    {
     "name": "stdout",
     "output_type": "stream",
     "text": [
      "['39-45', '46-51', '71-73', '78']\n"
     ]
    },
    {
     "name": "stderr",
     "output_type": "stream",
     "text": [
      "59it [05:57,  6.07s/it]"
     ]
    },
    {
     "name": "stdout",
     "output_type": "stream",
     "text": [
      "['78', '24-27', '39-45', '52-57', '58-62', '71-73', '28', '14-20', '46-51', '96-99']\n"
     ]
    },
    {
     "name": "stderr",
     "output_type": "stream",
     "text": [
      "60it [06:06,  6.67s/it]"
     ]
    },
    {
     "name": "stdout",
     "output_type": "stream",
     "text": [
      "['78', '59-59', '52-57', '29-31', '24-27', '21-23', '14-20']\n"
     ]
    },
    {
     "name": "stderr",
     "output_type": "stream",
     "text": [
      "64it [06:14,  4.05s/it]"
     ]
    },
    {
     "name": "stdout",
     "output_type": "stream",
     "text": [
      "['39-45', '71-73', '46-51', '78', '29-31', 'V40-V49', '24-27']\n"
     ]
    },
    {
     "name": "stderr",
     "output_type": "stream",
     "text": [
      "65it [06:22,  4.77s/it]"
     ]
    },
    {
     "name": "stdout",
     "output_type": "stream",
     "text": [
      "['39-45', '46-51', '28', '71-73', '24-27', '79']\n"
     ]
    },
    {
     "name": "stderr",
     "output_type": "stream",
     "text": [
      "66it [06:31,  5.50s/it]"
     ]
    },
    {
     "name": "stdout",
     "output_type": "stream",
     "text": [
      "['78', '29-31', '32-35', '46-51', '11-13', '24-27']\n"
     ]
    },
    {
     "name": "stderr",
     "output_type": "stream",
     "text": [
      "67it [06:46,  7.66s/it]"
     ]
    },
    {
     "name": "stdout",
     "output_type": "stream",
     "text": [
      "['39-45', '52-57', '71-73', '78', 'V40-V49']\n"
     ]
    },
    {
     "name": "stderr",
     "output_type": "stream",
     "text": [
      "68it [06:47,  6.05s/it]"
     ]
    },
    {
     "name": "stdout",
     "output_type": "stream",
     "text": [
      "['V40-V49', '29-31', '78', '96-99', '71-73', '39-45', '80-83', 'V60-V69', '52-57', '28', '79', '24-27', '00-10']\n"
     ]
    },
    {
     "name": "stderr",
     "output_type": "stream",
     "text": [
      "69it [06:57,  7.13s/it]"
     ]
    },
    {
     "name": "stdout",
     "output_type": "stream",
     "text": [
      "['78', '32-35', '39-45', '29-31', '46-51', '96-99', '79', '28', '24-27', '79']\n"
     ]
    },
    {
     "name": "stderr",
     "output_type": "stream",
     "text": [
      "72it [07:06,  4.87s/it]"
     ]
    },
    {
     "name": "stdout",
     "output_type": "stream",
     "text": [
      "['52-57', '39-45', '24-27', '78', '32-35']\n"
     ]
    },
    {
     "name": "stderr",
     "output_type": "stream",
     "text": [
      "73it [07:15,  5.75s/it]"
     ]
    },
    {
     "name": "stdout",
     "output_type": "stream",
     "text": [
      "['39-45', '46-51', '28', '52-57', '24-27', '78']\n"
     ]
    },
    {
     "name": "stderr",
     "output_type": "stream",
     "text": [
      "74it [07:23,  6.32s/it]"
     ]
    },
    {
     "name": "stdout",
     "output_type": "stream",
     "text": [
      "['78', '52-57', '24-27', '36-38', '58-62', '39-45', '28', '11-13']\n"
     ]
    },
    {
     "name": "stderr",
     "output_type": "stream",
     "text": [
      "76it [07:32,  5.47s/it]"
     ]
    },
    {
     "name": "stdout",
     "output_type": "stream",
     "text": [
      "['39-45', '78', '46-51', '71-73', '29-31']\n"
     ]
    },
    {
     "name": "stderr",
     "output_type": "stream",
     "text": [
      "77it [07:41,  6.30s/it]"
     ]
    },
    {
     "name": "stdout",
     "output_type": "stream",
     "text": [
      "['29-31', '78', '39-45', '32-35', '52-57', '79', '28', '46-51', '71-73', '58-62']\n"
     ]
    },
    {
     "name": "stderr",
     "output_type": "stream",
     "text": [
      "78it [07:50,  7.01s/it]"
     ]
    },
    {
     "name": "stdout",
     "output_type": "stream",
     "text": [
      "['39-45', '28', '24-27', '46-51', 'V40-V49']\n"
     ]
    },
    {
     "name": "stderr",
     "output_type": "stream",
     "text": [
      "80it [07:59,  5.87s/it]"
     ]
    },
    {
     "name": "stdout",
     "output_type": "stream",
     "text": [
      "['11-13', '24-27', '28', '39-45', '52-57', '68-70', '78', 'V40-V49', 'V60-V69']\n"
     ]
    },
    {
     "name": "stderr",
     "output_type": "stream",
     "text": [
      "82it [08:07,  5.23s/it]"
     ]
    },
    {
     "name": "stdout",
     "output_type": "stream",
     "text": [
      "['78', '46-51', '71-73', '39-45', '24-27', '11-13', 'V40-V49', 'V10-V19']\n"
     ]
    },
    {
     "name": "stderr",
     "output_type": "stream",
     "text": [
      "83it [08:16,  6.05s/it]"
     ]
    },
    {
     "name": "stdout",
     "output_type": "stream",
     "text": [
      "['46-51', '28', '39-45', '78', '96-99', '79', '24-27']\n"
     ]
    },
    {
     "name": "stderr",
     "output_type": "stream",
     "text": [
      "84it [08:24,  6.57s/it]"
     ]
    },
    {
     "name": "stdout",
     "output_type": "stream",
     "text": [
      "['78', '46-51', '24-27', '11-13', '28', '39-45', '79', '29-31', 'V40-V49', 'V10-V19']\n"
     ]
    },
    {
     "name": "stderr",
     "output_type": "stream",
     "text": [
      "85it [08:33,  7.18s/it]"
     ]
    },
    {
     "name": "stdout",
     "output_type": "stream",
     "text": [
      "['46-51', '78', '29-31', '39-45', '24-27', '28']\n"
     ]
    },
    {
     "name": "stderr",
     "output_type": "stream",
     "text": [
      "86it [08:42,  7.43s/it]"
     ]
    },
    {
     "name": "stdout",
     "output_type": "stream",
     "text": [
      "['32-35', '39-45', '46-51', '52-57', '78']\n"
     ]
    },
    {
     "name": "stderr",
     "output_type": "stream",
     "text": [
      "88it [08:51,  6.21s/it]"
     ]
    },
    {
     "name": "stdout",
     "output_type": "stream",
     "text": [
      "['78', '21-23', '39-45', '58-62', '32-35', '29-31', '14-20', '96-99', '24-27', '79']\n"
     ]
    },
    {
     "name": "stderr",
     "output_type": "stream",
     "text": [
      "89it [08:59,  6.70s/it]"
     ]
    },
    {
     "name": "stdout",
     "output_type": "stream",
     "text": [
      "['78', '39-45', '46-51', '32-35', '29-31', '71-73', '24-27', '96-99', 'V40-V49']\n"
     ]
    },
    {
     "name": "stderr",
     "output_type": "stream",
     "text": [
      "91it [09:08,  5.87s/it]"
     ]
    },
    {
     "name": "stdout",
     "output_type": "stream",
     "text": [
      "['78', '46-51', '39-45', '24-27', '79', '96-99', '84-95']\n"
     ]
    },
    {
     "name": "stderr",
     "output_type": "stream",
     "text": [
      "92it [09:16,  6.38s/it]"
     ]
    },
    {
     "name": "stdout",
     "output_type": "stream",
     "text": [
      "['29-31', '78', '96-99', '32-35', '39-45', '80-83', '24-27', '28', '79']\n"
     ]
    },
    {
     "name": "stderr",
     "output_type": "stream",
     "text": [
      "93it [09:26,  7.05s/it]"
     ]
    },
    {
     "name": "stdout",
     "output_type": "stream",
     "text": [
      "['39-45', '52-57', '46-51', '36-38', '29-31', '78']\n"
     ]
    },
    {
     "name": "stderr",
     "output_type": "stream",
     "text": [
      "96it [09:34,  4.83s/it]"
     ]
    },
    {
     "name": "stdout",
     "output_type": "stream",
     "text": [
      "['52-57', '39-45', '24-27', '78', '11-13', 'V10-V19', '58-62', '28']\n"
     ]
    },
    {
     "name": "stderr",
     "output_type": "stream",
     "text": [
      "97it [09:43,  5.74s/it]"
     ]
    },
    {
     "name": "stdout",
     "output_type": "stream",
     "text": [
      "['46-51', '24-27', '39-45', '78', '21-23', '32-35', '84-95', '96-99']\n"
     ]
    },
    {
     "name": "stderr",
     "output_type": "stream",
     "text": [
      "98it [09:51,  6.29s/it]"
     ]
    },
    {
     "name": "stdout",
     "output_type": "stream",
     "text": [
      "['39-45', '46-51', '28', '24-27', '11-13']\n"
     ]
    },
    {
     "name": "stderr",
     "output_type": "stream",
     "text": [
      "99it [10:01,  7.00s/it]"
     ]
    },
    {
     "name": "stdout",
     "output_type": "stream",
     "text": [
      "['39-45', '46-51', '28', '52-57', '11-13', '24-27', '78']\n"
     ]
    },
    {
     "name": "stderr",
     "output_type": "stream",
     "text": [
      "100it [10:09,  7.36s/it]"
     ]
    },
    {
     "name": "stdout",
     "output_type": "stream",
     "text": [
      "['39-45', '52-57', '71-73', '29-31', '46-51', '78', '14-20', 'V40-V49', '32-35', '68-70']\n"
     ]
    },
    {
     "name": "stderr",
     "output_type": "stream",
     "text": [
      "101it [10:19,  7.97s/it]"
     ]
    },
    {
     "name": "stdout",
     "output_type": "stream",
     "text": [
      "['39-45', '24-27', 'V40-V49', '78', '58-62', '46-51', '68-70', '28', '79', '14-20', '84-95']\n"
     ]
    },
    {
     "name": "stderr",
     "output_type": "stream",
     "text": [
      "102it [10:27,  8.05s/it]"
     ]
    },
    {
     "name": "stdout",
     "output_type": "stream",
     "text": [
      "['39-45', '28', '46-51', '11-13', '24-27', '79', 'V10-V19', 'V40-V49']\n"
     ]
    },
    {
     "name": "stderr",
     "output_type": "stream",
     "text": [
      "103it [10:36,  8.39s/it]"
     ]
    },
    {
     "name": "stdout",
     "output_type": "stream",
     "text": [
      "['78', '46-51', '39-45', '52-57', '24-27', '14-20', 'V40-V49']\n"
     ]
    },
    {
     "name": "stderr",
     "output_type": "stream",
     "text": [
      "104it [10:45,  8.39s/it]"
     ]
    },
    {
     "name": "stdout",
     "output_type": "stream",
     "text": [
      "['78', '39-45', '24-27', '46-51', '52-57', 'V40-V49']\n"
     ]
    },
    {
     "name": "stderr",
     "output_type": "stream",
     "text": [
      "105it [10:53,  8.35s/it]"
     ]
    },
    {
     "name": "stdout",
     "output_type": "stream",
     "text": [
      "['52-57', '39-45', '24-27', '11-13', '28', '78', '14-20', '58-62']\n"
     ]
    },
    {
     "name": "stderr",
     "output_type": "stream",
     "text": [
      "106it [11:01,  8.38s/it]"
     ]
    },
    {
     "name": "stdout",
     "output_type": "stream",
     "text": [
      "['46-51', '14-20', '24-27', '78', '79', '29-31', '96-99']\n"
     ]
    },
    {
     "name": "stderr",
     "output_type": "stream",
     "text": [
      "107it [11:11,  8.71s/it]"
     ]
    },
    {
     "name": "stdout",
     "output_type": "stream",
     "text": [
      "['78', '29-31', '46-51', '52-57', '39-45', '11-13', '24-27', '28']\n"
     ]
    },
    {
     "name": "stderr",
     "output_type": "stream",
     "text": [
      "108it [11:19,  8.59s/it]"
     ]
    },
    {
     "name": "stdout",
     "output_type": "stream",
     "text": [
      "['78', '46-51', '39-45', '24-27', '11-13', 'V40-V49']\n"
     ]
    },
    {
     "name": "stderr",
     "output_type": "stream",
     "text": [
      "110it [11:28,  6.55s/it]"
     ]
    },
    {
     "name": "stdout",
     "output_type": "stream",
     "text": [
      "['39-45', '46-51', '24-27', '28', '78']\n"
     ]
    },
    {
     "name": "stderr",
     "output_type": "stream",
     "text": [
      "111it [11:36,  7.01s/it]"
     ]
    },
    {
     "name": "stdout",
     "output_type": "stream",
     "text": [
      "['32-35', '39-45', '46-51', '78', '79', '24-27', '29-31', '14-20']\n"
     ]
    },
    {
     "name": "stderr",
     "output_type": "stream",
     "text": [
      "112it [11:44,  7.31s/it]"
     ]
    },
    {
     "name": "stdout",
     "output_type": "stream",
     "text": [
      "['28', '78', '46-51', '24-27', '79', '39-45', 'V40-V49']\n"
     ]
    },
    {
     "name": "stderr",
     "output_type": "stream",
     "text": [
      "113it [11:53,  7.83s/it]"
     ]
    },
    {
     "name": "stdout",
     "output_type": "stream",
     "text": [
      "['39-45', '46-51', '14-20', '24-27', '28', '39-45', '58-62', '52-57', '68-70', '71-73', '78', '79']\n"
     ]
    },
    {
     "name": "stderr",
     "output_type": "stream",
     "text": [
      "115it [12:02,  6.41s/it]"
     ]
    },
    {
     "name": "stdout",
     "output_type": "stream",
     "text": [
      "['78', '46-51', '39-45', '32-35', '11-13', '24-27', '52-57', '68-70']\n"
     ]
    },
    {
     "name": "stderr",
     "output_type": "stream",
     "text": [
      "116it [12:11,  6.84s/it]"
     ]
    },
    {
     "name": "stdout",
     "output_type": "stream",
     "text": [
      "['78', '24-27', '39-45', '46-51', '79']\n"
     ]
    },
    {
     "name": "stderr",
     "output_type": "stream",
     "text": [
      "117it [12:20,  7.46s/it]"
     ]
    },
    {
     "name": "stdout",
     "output_type": "stream",
     "text": [
      "['52-57', '21-23', '39-45', '24-27', '78', '14-20', '79']\n"
     ]
    },
    {
     "name": "stderr",
     "output_type": "stream",
     "text": [
      "119it [12:29,  6.12s/it]"
     ]
    },
    {
     "name": "stdout",
     "output_type": "stream",
     "text": [
      "['39-45', '46-51', '29-31', '78', 'V10-V19', 'V40-V49', '24-27', '36-38']\n"
     ]
    },
    {
     "name": "stderr",
     "output_type": "stream",
     "text": [
      "120it [12:37,  6.59s/it]"
     ]
    },
    {
     "name": "stdout",
     "output_type": "stream",
     "text": [
      "['39-45', '24-27', '78', '28', '46-51', 'V40-V49', 'V10-V19', '79']\n"
     ]
    },
    {
     "name": "stderr",
     "output_type": "stream",
     "text": [
      "121it [12:44,  6.71s/it]"
     ]
    },
    {
     "name": "stdout",
     "output_type": "stream",
     "text": [
      "['38-39', '21-23', '39-45', '67', '79']\n"
     ]
    },
    {
     "name": "stderr",
     "output_type": "stream",
     "text": [
      "122it [12:52,  7.10s/it]"
     ]
    },
    {
     "name": "stdout",
     "output_type": "stream",
     "text": [
      "['52-57', '39-45', '24-27', '71-73', '58-62', '14-20', '78', '79']\n"
     ]
    },
    {
     "name": "stderr",
     "output_type": "stream",
     "text": [
      "123it [13:01,  7.69s/it]"
     ]
    },
    {
     "name": "stdout",
     "output_type": "stream",
     "text": [
      "['39-45', '46-51', '28', '78', '24-27', '79', '11-13', '14-20', '68-70', '32-35']\n"
     ]
    },
    {
     "name": "stderr",
     "output_type": "stream",
     "text": [
      "124it [13:10,  8.12s/it]"
     ]
    },
    {
     "name": "stdout",
     "output_type": "stream",
     "text": [
      "['78', '46-51', '29-31', '96-99', '39-45', 'V40-V49', '11-13', '24-27', '14-20', '28']\n"
     ]
    },
    {
     "name": "stderr",
     "output_type": "stream",
     "text": [
      "125it [13:19,  8.12s/it]"
     ]
    },
    {
     "name": "stdout",
     "output_type": "stream",
     "text": [
      "['78', '79', '24-27', '39-45', '52-57', '68-70', '71-73', '80-83']\n"
     ]
    },
    {
     "name": "stderr",
     "output_type": "stream",
     "text": [
      "126it [13:28,  8.43s/it]"
     ]
    },
    {
     "name": "stdout",
     "output_type": "stream",
     "text": [
      "['28', '29-31', '32-35', '39-45', '46-51', '52-57', '71-73', '78', '79', '84-95', '96-99']\n"
     ]
    },
    {
     "name": "stderr",
     "output_type": "stream",
     "text": [
      "127it [13:36,  8.37s/it]"
     ]
    },
    {
     "name": "stdout",
     "output_type": "stream",
     "text": [
      "['39-45', '46-51', '58-62', '68-70', '78', 'V10-V19', 'V40-V49', '79']\n"
     ]
    },
    {
     "name": "stderr",
     "output_type": "stream",
     "text": [
      "128it [13:45,  8.64s/it]"
     ]
    },
    {
     "name": "stdout",
     "output_type": "stream",
     "text": [
      "['78', '32-35', '39-45', '29-31', '24-27', '46-51', '14-20', '21-23', '68-70', 'V40-V49']\n"
     ]
    },
    {
     "name": "stderr",
     "output_type": "stream",
     "text": [
      "129it [13:56,  9.19s/it]"
     ]
    },
    {
     "name": "stdout",
     "output_type": "stream",
     "text": [
      "['78', '24-27', '71-73', '46-51', '39-45', '52-57', '28', '11-13', '14-20', '58-62']\n"
     ]
    },
    {
     "name": "stderr",
     "output_type": "stream",
     "text": [
      "130it [14:04,  8.94s/it]"
     ]
    },
    {
     "name": "stdout",
     "output_type": "stream",
     "text": [
      "['78', '58-62', '39-45', '52-57', '28', '11-13', '24-27', '00-10', '79']\n"
     ]
    },
    {
     "name": "stderr",
     "output_type": "stream",
     "text": [
      "131it [14:13,  9.05s/it]"
     ]
    },
    {
     "name": "stdout",
     "output_type": "stream",
     "text": [
      "['46-51', '78', '29-31', '96-99', '32-35', '39-45', '52-57', '28', '24-27', '46-51']\n"
     ]
    },
    {
     "name": "stderr",
     "output_type": "stream",
     "text": [
      "132it [14:23,  9.18s/it]"
     ]
    },
    {
     "name": "stdout",
     "output_type": "stream",
     "text": [
      "['52-57', '46-51', '39-45', '14-20', '28', '68-70', '78', 'V40-V49', 'V50-V59', '96-99']\n"
     ]
    },
    {
     "name": "stderr",
     "output_type": "stream",
     "text": [
      "133it [14:31,  8.91s/it]"
     ]
    },
    {
     "name": "stdout",
     "output_type": "stream",
     "text": [
      "['39-45', '46-51', '78', '24-27', '14-20', '29-31']\n"
     ]
    },
    {
     "name": "stderr",
     "output_type": "stream",
     "text": [
      "134it [14:39,  8.71s/it]"
     ]
    },
    {
     "name": "stdout",
     "output_type": "stream",
     "text": [
      "['78', '52-57', '39-45', '46-51', '24-27', '00-10', '21-23', '28', '36-38']\n"
     ]
    },
    {
     "name": "stderr",
     "output_type": "stream",
     "text": [
      "136it [14:49,  6.83s/it]"
     ]
    },
    {
     "name": "stdout",
     "output_type": "stream",
     "text": [
      "['39-45', '46-51', '24-27', '52-57', '78', '29-31', '32-35', '58-62']\n"
     ]
    },
    {
     "name": "stderr",
     "output_type": "stream",
     "text": [
      "137it [14:57,  7.23s/it]"
     ]
    },
    {
     "name": "stdout",
     "output_type": "stream",
     "text": [
      "['39-45', '71-73', 'V40-V49', '29-31', '78', '46-51', '96-99', '58-62', '32-35', 'V50-V59', '68-70', 'V10-V19', '52-57', '36-38', '28', '79', '24-27', '00-10']\n"
     ]
    },
    {
     "name": "stderr",
     "output_type": "stream",
     "text": [
      "140it [15:06,  5.08s/it]"
     ]
    },
    {
     "name": "stdout",
     "output_type": "stream",
     "text": [
      "['46-51', '39-45', '24-27', 'V78-V78', '28', '78', 'V10-V19', 'V40-V49']\n"
     ]
    },
    {
     "name": "stderr",
     "output_type": "stream",
     "text": [
      "141it [15:15,  5.69s/it]"
     ]
    },
    {
     "name": "stdout",
     "output_type": "stream",
     "text": [
      "['28', '52-57', '21-23', '39-45', '78', '14-20']\n"
     ]
    },
    {
     "name": "stderr",
     "output_type": "stream",
     "text": [
      "142it [15:23,  6.26s/it]"
     ]
    },
    {
     "name": "stdout",
     "output_type": "stream",
     "text": [
      "['46-51', '14-20', '39-45', '11-13', '78', '24-27', '28', 'V40-V49']\n"
     ]
    },
    {
     "name": "stderr",
     "output_type": "stream",
     "text": [
      "143it [15:32,  6.97s/it]"
     ]
    },
    {
     "name": "stdout",
     "output_type": "stream",
     "text": [
      "['39-45', '46-51', '24-27', '78', 'V40-V49', 'V60-V69']\n"
     ]
    },
    {
     "name": "stderr",
     "output_type": "stream",
     "text": [
      "144it [15:40,  7.26s/it]"
     ]
    },
    {
     "name": "stdout",
     "output_type": "stream",
     "text": [
      "['46-51', '39-45', '24-27', '28', '79']\n"
     ]
    },
    {
     "name": "stderr",
     "output_type": "stream",
     "text": [
      "145it [15:48,  7.50s/it]"
     ]
    },
    {
     "name": "stdout",
     "output_type": "stream",
     "text": [
      "['80-83', '14-20', '96-99', '46-51', '28', '78', '79', '24-27', '84-95']\n"
     ]
    },
    {
     "name": "stderr",
     "output_type": "stream",
     "text": [
      "146it [15:58,  8.03s/it]"
     ]
    },
    {
     "name": "stdout",
     "output_type": "stream",
     "text": [
      "['39-45', '46-51', '78', 'V40-V49', 'V70-V82']\n"
     ]
    },
    {
     "name": "stderr",
     "output_type": "stream",
     "text": [
      "147it [16:07,  8.32s/it]"
     ]
    },
    {
     "name": "stdout",
     "output_type": "stream",
     "text": [
      "['39-45', '46-51', '78', '68-70', '24-27', '11-13']\n"
     ]
    },
    {
     "name": "stderr",
     "output_type": "stream",
     "text": [
      "148it [16:15,  8.29s/it]"
     ]
    },
    {
     "name": "stdout",
     "output_type": "stream",
     "text": [
      "Here is the output:\n",
      "\n",
      "['78', '39-45', '46-51', '71-73', '84-95']\n"
     ]
    },
    {
     "name": "stderr",
     "output_type": "stream",
     "text": [
      "149it [16:25,  8.84s/it]"
     ]
    },
    {
     "name": "stdout",
     "output_type": "stream",
     "text": [
      "['14-20', '46-51', '39-45', '78', '71-73', '24-27', '11-13', '28']\n"
     ]
    },
    {
     "name": "stderr",
     "output_type": "stream",
     "text": [
      "150it [16:34,  8.95s/it]"
     ]
    },
    {
     "name": "stdout",
     "output_type": "stream",
     "text": [
      "['78', '79', '52-57', '39-45', '28', '24-27', '68-70', '32-35', '46-51', '80-83']\n"
     ]
    },
    {
     "name": "stderr",
     "output_type": "stream",
     "text": [
      "151it [16:44,  9.06s/it]"
     ]
    },
    {
     "name": "stdout",
     "output_type": "stream",
     "text": [
      "['78', '39-45', '46-51', '24-27', '29-31', 'V40-V49', 'V60-V69']\n"
     ]
    },
    {
     "name": "stderr",
     "output_type": "stream",
     "text": [
      "153it [16:52,  6.83s/it]"
     ]
    },
    {
     "name": "stdout",
     "output_type": "stream",
     "text": [
      "['14-20', '29-31', '78', '46-51', '96-99', '71-73', '58-62', '32-35', '39-45', 'V10-V19', '52-57', '28', '79', '11-13', '24-27', '00-10']\n"
     ]
    },
    {
     "name": "stderr",
     "output_type": "stream",
     "text": [
      "154it [17:01,  7.46s/it]"
     ]
    },
    {
     "name": "stdout",
     "output_type": "stream",
     "text": [
      "['52-57', '39-45', '28', '24-27', '46-51', '79', '78', '11-13', '29-31']\n"
     ]
    },
    {
     "name": "stderr",
     "output_type": "stream",
     "text": [
      "155it [17:11,  7.90s/it]"
     ]
    },
    {
     "name": "stdout",
     "output_type": "stream",
     "text": [
      "['78', '24-27', '39-45', '46-51', '29-31', '52-57', '79', '32-35', '74-75', '84-95', '96-99']\n"
     ]
    },
    {
     "name": "stderr",
     "output_type": "stream",
     "text": [
      "156it [17:20,  8.23s/it]"
     ]
    },
    {
     "name": "stdout",
     "output_type": "stream",
     "text": [
      "['14-20', '39-45', '46-51', '58-62', '68-70', '71-73', '78', '79', '96-99']\n"
     ]
    },
    {
     "name": "stderr",
     "output_type": "stream",
     "text": [
      "157it [17:29,  8.48s/it]"
     ]
    },
    {
     "name": "stdout",
     "output_type": "stream",
     "text": [
      "['00-10', '24-27', '28', '39-45', '52-57', '78', '80-83', '84-95', '96-99']\n"
     ]
    },
    {
     "name": "stderr",
     "output_type": "stream",
     "text": [
      "158it [17:50, 12.16s/it]"
     ]
    },
    {
     "name": "stdout",
     "output_type": "stream",
     "text": [
      "['39-45', '78', '46-51', '28', '52-57', '24-27', 'V40-V49']\n"
     ]
    },
    {
     "name": "stderr",
     "output_type": "stream",
     "text": [
      "160it [17:51,  6.89s/it]"
     ]
    },
    {
     "name": "stdout",
     "output_type": "stream",
     "text": [
      "['14-20', '21-23', 'V40-V49', '78', '46-51', '32-35', '39-45', 'V10-V19', '28', '11-13', '24-27', '52-57']\n"
     ]
    },
    {
     "name": "stderr",
     "output_type": "stream",
     "text": [
      "161it [17:56,  6.47s/it]"
     ]
    },
    {
     "name": "stdout",
     "output_type": "stream",
     "text": [
      "['52-57', '28', '39-45', '58-62', '21-23', '46-51', '52-57', '14-20']\n"
     ]
    },
    {
     "name": "stderr",
     "output_type": "stream",
     "text": [
      "162it [18:04,  6.91s/it]"
     ]
    },
    {
     "name": "stdout",
     "output_type": "stream",
     "text": [
      "['32-35', '39-45', '28', '78', '24-27']\n"
     ]
    },
    {
     "name": "stderr",
     "output_type": "stream",
     "text": [
      "164it [18:14,  5.98s/it]"
     ]
    },
    {
     "name": "stdout",
     "output_type": "stream",
     "text": [
      "['V40-V49', '78', '39-45', '46-51', '96-99', '32-35', 'V50-V59', '68-70', '28', '79', '11-13', '24-27', '00-10']\n"
     ]
    },
    {
     "name": "stderr",
     "output_type": "stream",
     "text": [
      "165it [18:22,  6.51s/it]"
     ]
    },
    {
     "name": "stdout",
     "output_type": "stream",
     "text": [
      "['39-45', '46-51', '24-27', '36-38', '79', '78', 'V40-V49']\n"
     ]
    },
    {
     "name": "stderr",
     "output_type": "stream",
     "text": [
      "167it [18:32,  5.81s/it]"
     ]
    },
    {
     "name": "stdout",
     "output_type": "stream",
     "text": [
      "['39-45', '29-31', '71-73', '46-51', '96-99', '32-35', '14-20', '58-62', '68-70', '78', '80-83', 'V10-V19', '52-57', '28', '79', '11-13', '24-27', '00-10']\n"
     ]
    },
    {
     "name": "stderr",
     "output_type": "stream",
     "text": [
      "168it [18:41,  6.58s/it]"
     ]
    },
    {
     "name": "stdout",
     "output_type": "stream",
     "text": [
      "['78', '39-45', '71-73', '52-57', '46-51', '29-31', '32-35', '11-13', '24-27', '14-20']\n"
     ]
    },
    {
     "name": "stderr",
     "output_type": "stream",
     "text": [
      "169it [18:50,  7.27s/it]"
     ]
    },
    {
     "name": "stdout",
     "output_type": "stream",
     "text": [
      "['58-62', '14-20', '78', '32-35', '39-45', '28', '24-27', '52-57']\n"
     ]
    },
    {
     "name": "stderr",
     "output_type": "stream",
     "text": [
      "170it [18:59,  7.52s/it]"
     ]
    },
    {
     "name": "stdout",
     "output_type": "stream",
     "text": [
      "['29-31', '39-45', '46-51', '52-57', '58-62', '78', '79', '96-99']\n"
     ]
    },
    {
     "name": "stderr",
     "output_type": "stream",
     "text": [
      "171it [19:07,  7.80s/it]"
     ]
    },
    {
     "name": "stdout",
     "output_type": "stream",
     "text": [
      "['39-45', '46-51', 'V40-V49', 'V50-V59', '68-70', '78', '79', '28', '24-27', '52-57']\n"
     ]
    },
    {
     "name": "stderr",
     "output_type": "stream",
     "text": [
      "172it [19:15,  7.91s/it]"
     ]
    },
    {
     "name": "stdout",
     "output_type": "stream",
     "text": [
      "['52-57', '24-27', '39-45', '78', '14-20', '46-51', '11-13', '79']\n"
     ]
    },
    {
     "name": "stderr",
     "output_type": "stream",
     "text": [
      "173it [19:26,  8.60s/it]"
     ]
    },
    {
     "name": "stdout",
     "output_type": "stream",
     "text": [
      "['46-51', '39-45', '24-27', '78', '14-20', '28', '96-99']\n"
     ]
    },
    {
     "name": "stderr",
     "output_type": "stream",
     "text": [
      "174it [19:36,  9.13s/it]"
     ]
    },
    {
     "name": "stdout",
     "output_type": "stream",
     "text": [
      "['39-45', '29-31', '78', '46-51', '96-99', '71-73', '58-62', '32-35', 'V50-V59', '68-70', '39-45', 'V60-V69', 'V10-V19', '52-57', '36-38', '28', '79', '24-27']\n"
     ]
    },
    {
     "name": "stderr",
     "output_type": "stream",
     "text": [
      "175it [19:44,  8.86s/it]"
     ]
    },
    {
     "name": "stdout",
     "output_type": "stream",
     "text": [
      "['46-51', '39-45', '14-20', '78', '29-31']\n"
     ]
    },
    {
     "name": "stderr",
     "output_type": "stream",
     "text": [
      "176it [19:53,  8.67s/it]"
     ]
    },
    {
     "name": "stdout",
     "output_type": "stream",
     "text": [
      "['52-57', '39-45', '24-27', '28', '78', '46-51', '96-99', '58-62', '68-70', '79']\n"
     ]
    },
    {
     "name": "stderr",
     "output_type": "stream",
     "text": [
      "177it [20:02,  8.82s/it]"
     ]
    },
    {
     "name": "stdout",
     "output_type": "stream",
     "text": [
      "['39-45', '46-51', '24-27', '52-57', '78', 'V40-V49']\n"
     ]
    },
    {
     "name": "stderr",
     "output_type": "stream",
     "text": [
      "178it [20:10,  8.60s/it]"
     ]
    },
    {
     "name": "stdout",
     "output_type": "stream",
     "text": [
      "['52-57', '39-45', '28', '24-27', '46-51', '58-62', '78', '32-35']\n"
     ]
    },
    {
     "name": "stderr",
     "output_type": "stream",
     "text": [
      "180it [20:19,  6.74s/it]"
     ]
    },
    {
     "name": "stdout",
     "output_type": "stream",
     "text": [
      "['39-45', '46-51', '78', '52-57', '28', '24-27', '96-99']\n"
     ]
    },
    {
     "name": "stderr",
     "output_type": "stream",
     "text": [
      "181it [20:28,  7.31s/it]"
     ]
    },
    {
     "name": "stdout",
     "output_type": "stream",
     "text": [
      "['46-51', '24-27', '14-20', '71-73', '28', '78', '39-45', '52-57']\n"
     ]
    },
    {
     "name": "stderr",
     "output_type": "stream",
     "text": [
      "182it [20:34,  6.98s/it]"
     ]
    },
    {
     "name": "stdout",
     "output_type": "stream",
     "text": [
      "['71-73', '78', '36-38', '24-27', '29-31']\n"
     ]
    },
    {
     "name": "stderr",
     "output_type": "stream",
     "text": [
      "183it [20:43,  7.56s/it]"
     ]
    },
    {
     "name": "stdout",
     "output_type": "stream",
     "text": [
      "['14-20', '78', '32-35', '39-45', '80-83', '28', '24-27', '79', '14-20', '68-70', '96-99']\n"
     ]
    },
    {
     "name": "stderr",
     "output_type": "stream",
     "text": [
      "184it [20:52,  8.01s/it]"
     ]
    },
    {
     "name": "stdout",
     "output_type": "stream",
     "text": [
      "['78', '39-45', '24-27', '28', '29-31', '52-57', '58-62', '68-70', '79', '80-83', '84-95', 'V40-V49', 'V50-V59']\n"
     ]
    },
    {
     "name": "stderr",
     "output_type": "stream",
     "text": [
      "185it [21:01,  8.08s/it]"
     ]
    },
    {
     "name": "stdout",
     "output_type": "stream",
     "text": [
      "['11-13', '78', '52-57', '39-45', '24-27', '36-38', '46-51', 'V10-V19']\n"
     ]
    },
    {
     "name": "stderr",
     "output_type": "stream",
     "text": [
      "186it [21:10,  8.40s/it]"
     ]
    },
    {
     "name": "stdout",
     "output_type": "stream",
     "text": [
      "['39-45', '78', '32-35', '28', '24-27', '46-51']\n"
     ]
    },
    {
     "name": "stderr",
     "output_type": "stream",
     "text": [
      "187it [21:18,  8.39s/it]"
     ]
    },
    {
     "name": "stdout",
     "output_type": "stream",
     "text": [
      "['78', '21-23', '39-45', '52-57', '24-27', '36-38', '11-13']\n"
     ]
    },
    {
     "name": "stderr",
     "output_type": "stream",
     "text": [
      "188it [21:26,  8.33s/it]"
     ]
    },
    {
     "name": "stdout",
     "output_type": "stream",
     "text": [
      "['28', '78', '46-51', '24-27', '39-45', '52-57', '28', '79']\n"
     ]
    },
    {
     "name": "stderr",
     "output_type": "stream",
     "text": [
      "189it [21:36,  8.63s/it]"
     ]
    },
    {
     "name": "stdout",
     "output_type": "stream",
     "text": [
      "['32-35', '39-45', '46-51', '52-57', '78', '79', 'V40-V49', 'V50-V59', 'V60-V69']\n"
     ]
    },
    {
     "name": "stderr",
     "output_type": "stream",
     "text": [
      "190it [21:42,  7.90s/it]"
     ]
    },
    {
     "name": "stdout",
     "output_type": "stream",
     "text": [
      "['39-45', '21-23', '11-13', '78', '14-20', '46-51']\n"
     ]
    },
    {
     "name": "stderr",
     "output_type": "stream",
     "text": [
      "193it [21:51,  5.17s/it]"
     ]
    },
    {
     "name": "stdout",
     "output_type": "stream",
     "text": [
      "['78', '32-35', '39-45', '79', '24-27', '11-13', '68-70']\n"
     ]
    },
    {
     "name": "stderr",
     "output_type": "stream",
     "text": [
      "194it [21:58,  5.64s/it]"
     ]
    },
    {
     "name": "stdout",
     "output_type": "stream",
     "text": [
      "['57-57', '52-57', '786-79', '21-23', '46-51', '39-45', '14-20', '24-27']\n"
     ]
    },
    {
     "name": "stderr",
     "output_type": "stream",
     "text": [
      "199it [22:07,  3.36s/it]"
     ]
    },
    {
     "name": "stdout",
     "output_type": "stream",
     "text": [
      "['78', '32-35', '39-45', '52-57', '68-70', '71-73', '79', '84-95', '96-99']\n"
     ]
    },
    {
     "name": "stderr",
     "output_type": "stream",
     "text": [
      "200it [41:50, 176.10s/it]"
     ]
    },
    {
     "name": "stdout",
     "output_type": "stream",
     "text": [
      "['78', '32-35', '68-70', '39-45', '79', '24-27', '11-13']\n"
     ]
    },
    {
     "name": "stderr",
     "output_type": "stream",
     "text": [
      "200it [41:51, 12.56s/it] "
     ]
    },
    {
     "name": "stdout",
     "output_type": "stream",
     "text": [
      "['39-45', '46-51', '52-57', '24-27', '78', '79', 'V10-V19', 'V40-V49']\n",
      "Number of rows : 154\n",
      "[['24-27', '14-20'], ['24-27', '52-57', '46-51', '74-75', '32-35', '39-45', 'V40-V49', '29-31'], ['28', '84-95', '52-57', '96-99', '46-51', '39-45', '00-10'], ['24-27', '28', '96-99', '52-57', '58-62', '39-45', '29-31'], ['24-27', '28', '78', '58-62', '39-45', 'V40-V49'], ['24-27', '78', '32-35', '39-45', '29-31'], ['78', '52-57', '96-99', '58-62', '29-31', '00-10'], ['24-27', '78', '46-51', '39-45', '00-10'], ['24-27', '78', '29-31', '39-45'], ['78', '96-99', '46-51', '39-45', '14-20', '00-10'], ['28', '11-13', '96-99', '46-51', '58-62', '39-45', '00-10'], ['24-27', '52-57', '46-51', '58-62', '39-45', '00-10'], ['46-51', '28', '58-62', '39-45'], ['32-35', '84-95'], ['24-27', '28', '11-13', '36-38', '39-45', '21-23'], ['24-27', '78', '71-73', '84-95', '96-99', '39-45'], ['24-27', '28', '71-73', '78', '96-99', '46-51', '79', '58-62', '68-70', '29-31'], ['24-27', '28', '78', '52-57', '46-51', '79', '58-62', '68-70', '39-45', '21-23', 'V10-V19'], ['24-27', '29-31', '39-45'], ['24-27', '39-45'], ['24-27', '71-73', '46-51', '68-70', '39-45', 'V01-V09'], ['24-27', '78', '84-95', '58-62', '39-45'], ['24-27', '78', '11-13', '52-57', '39-45'], ['V40-V49', 'V10-V19', '14-20', '71-73'], ['24-27', '78', '28', '52-57', '58-62', '39-45', 'V40-V49'], ['24-27', '78', '71-73', 'V50-V59', '84-95', '46-51', '79', '58-62', '32-35', '39-45', 'V40-V49', '21-23', '29-31', '00-10'], ['24-27', '78', '28', '84-95', '96-99', '36-38', '58-62', '32-35', '39-45', 'V40-V49', 'V10-V19', '00-10'], ['24-27', '28', '78', '52-57', '46-51', '79', '29-31'], ['24-27', '78', 'V50-V59', '11-13', '58-62', '32-35', '39-45', '14-20', '00-10'], ['24-27', 'V50-V59', '46-51', '79', '58-62', '39-45', '14-20'], ['24-27', '28', '71-73', '78', 'V50-V59', '11-13', '52-57', '46-51', '32-35', '39-45', '29-31', 'V10-V19', '00-10'], ['24-27', '78', 'V50-V59', '52-57', '96-99', '46-51', '68-70', '58-62', '39-45', 'V40-V49', '21-23', 'V10-V19', '00-10'], ['24-27', '28', '78', 'V50-V59', '52-57', '96-99', '46-51', '58-62', '32-35', '39-45', '29-31', 'V60-V69', 'V10-V19', '00-10'], ['24-27', '58-62', '52-57', '39-45'], ['52-57', '28', '00-10', '39-45'], ['V40-V49', '24-27', '71-73', '39-45'], ['24-27', '78', '96-99', '52-57', '46-51', '79', '32-35', '39-45', '29-31', '00-10'], ['24-27', '96-99', '52-57', '74-75', '58-62', '39-45', 'V40-V49', 'V10-V19'], ['24-27', '78', '52-57', '36-38', '46-51', '58-62', '32-35', '39-45', 'V40-V49', '29-31', 'V10-V19'], ['24-27', '78', '71-73', '96-99', '46-51', '39-45', 'V10-V19'], ['78', '52-57', '96-99', '46-51', '58-62', '39-45', '29-31', '00-10'], ['28', '46-51', '39-45', 'V40-V49', '29-31'], ['24-27', 'V50-V59', '71-73', '52-57', '46-51', 'V70-V82', '39-45', 'V40-V49', '29-31', 'V10-V19'], ['24-27', '52-57', '58-62', '74-75', '39-45'], ['24-27', '46-51', '58-62', '39-45'], ['24-27', '28', '52-57', '79', '39-45', '21-23', '29-31', 'V10-V19'], ['24-27', '28', '78', 'V50-V59', '52-57', '68-70', '29-31', 'V60-V69', '00-10'], ['24-27', '78', 'V50-V59', '52-57', '96-99', '58-62', '32-35', '29-31', '00-10'], ['24-27', 'V50-V59', '52-57', '58-62', '39-45'], ['24-27', '28', '78', '52-57', '39-45', 'V40-V49', '14-20'], ['24-27', 'V50-V59', '28', '96-99', '36-38', '58-62', '32-35', '39-45', '00-10'], ['24-27', '28', '78', '58-62', '32-35', '39-45', 'V40-V49'], ['24-27', '28', '52-57', '96-99', '46-51', '58-62', '68-70', '39-45', 'V40-V49', '00-10'], ['24-27', '78', '79', '58-62', '32-35', '39-45', 'V40-V49', 'V10-V19', '00-10'], ['24-27', '52-57', '58-62', '39-45', '14-20', 'V10-V19', '00-10'], ['63-66', '71-73', '28', '84-95', '52-57', '46-51', '79', '39-45', '67', '29-31', '00-10'], ['24-27', '46-51', 'V10-V19', '39-45'], ['24-27', '78', '28', '96-99', '46-51', '58-62', 'V70-V82', '39-45', '68-70', '29-31', 'V10-V19', '00-10'], ['58-62', '46-51', '14-20', '39-45'], ['24-27', '29-31', '32-35', '39-45'], ['78', '58-62', '68-70', '39-45', 'V40-V49'], ['24-27', '71-73', '52-57', '46-51', '58-62', '32-35', '39-45', 'V40-V49'], ['24-27', '46-51', '39-45'], ['39-45', '28', '29-31'], ['24-27', '96-99', '36-38', '39-45', 'V10-V19'], ['24-27', '52-57', '46-51', '39-45', 'V40-V49', 'V60-V69'], ['80-83', '84-95', '52-57', '46-51', '39-45'], ['24-27', '78', '28', '96-99', '39-45'], ['78', '46-51', '79', '39-45', '00-10'], ['24-27', '78', '71-73', '28', '96-99', '52-57', '46-51', '36-38', '32-35', '39-45', 'V40-V49'], ['24-27', '78', '71-73', '28', '52-57', '96-99', '46-51', '58-62', '68-70', '39-45', '32-35', 'V40-V49', 'V10-V19', '00-10'], ['46-51', '39-45'], ['28', '46-51', '58-62', '68-70', '39-45', 'V40-V49'], ['24-27', 'V50-V59', '78', '46-51', '58-62', '32-35', '39-45', 'V40-V49'], ['52-57', 'V10-V19', '14-20', '39-45'], ['24-27', '71-73', '46-51', '79', '58-62', '39-45', '14-20'], ['78', '28', '96-99', '52-57', '46-51', '58-62', '39-45', 'V40-V49', '21-23', '00-10'], ['24-27', '63-66', 'V50-V59', '46-51', 'V85-V85'], ['24-27', '28', '96-99', '52-57', '46-51', '74-75', '39-45'], ['78', '11-13', '96-99', '46-51', '14-20', '29-31', '00-10'], ['24-27', '78', '71-73', '52-57', '36-38', '46-51', '79', '58-62', '32-35', '39-45', '29-31', 'V10-V19'], ['28', '96-99', '52-57', '46-51', '79', '39-45', '29-31'], ['24-27', 'V50-V59', '71-73', '46-51', '58-62', '32-35', '39-45'], ['24-27', '78', '71-73', '96-99', '46-51', '58-62', '39-45', '00-10'], ['52-57', '39-45', '58-62', '29-31'], ['24-27', '78', '52-57', '32-35', '39-45'], ['24-27', '39-45'], ['46-51', 'V10-V19', '39-45'], ['24-27', '52-57', '58-62', '39-45', 'V40-V49'], ['24-27', 'V50-V59', '28', '96-99', '52-57', '46-51', '58-62', '32-35', '39-45', '68-70', 'V40-V49', '29-31', 'V10-V19', '00-10'], ['24-27', '78', '28', '52-57', '46-51', '79', '39-45', 'V40-V49', '29-31'], ['24-27', '80-83', '71-73', '84-95', '58-62', '39-45'], ['78', '28', 'V88-V88', '74-75', '39-45'], ['96-99', '24-27', '68-70', '39-45'], ['24-27', '78', 'V50-V59', '52-57', '46-51', '58-62', '32-35', '39-45', 'V40-V49', '29-31', 'V10-V19'], ['28', '52-57', '96-99', '29-31', '00-10'], ['24-27', '28', 'V50-V59', '52-57', '39-45', 'V10-V19'], ['24-27', 'V50-V59', '84-95', '52-57', '46-51', '39-45', 'V10-V19'], ['24-27', '71-73', '52-57', '39-45', 'V10-V19'], ['96-99', '39-45'], ['24-27', '28', '78', 'V50-V59', '52-57', '96-99', '58-62', '68-70', '39-45', '32-35', 'V40-V49', '00-10', 'V01-V09'], ['96-99', '46-51', '52-57', '39-45'], ['24-27', '28', '11-13', '96-99', '52-57', '39-45'], ['24-27', '39-45'], ['28', '96-99', '52-57', '39-45', 'V40-V49', 'V10-V19'], ['28', '46-51', '79', 'V40-V49', '21-23', '29-31', 'V10-V19'], ['24-27', '46-51', '39-45'], ['24-27', '28', '71-73', '46-51', '39-45', 'V40-V49', '29-31'], ['24-27', '80-83', '28', '78', 'V50-V59', '52-57', '96-99', '46-51', '79', '39-45', 'V40-V49', '29-31', 'V10-V19'], ['52-57', '46-51', '58-62', 'V70-V82', '39-45', 'V10-V19'], ['52-57', '46-51', '58-62', '39-45', '14-20'], ['24-27', '80-83', '28', 'V50-V59', '84-95', '96-99', '46-51', '39-45', 'V40-V49', '29-31', 'V10-V19'], ['24-27', '28', '71-73', '96-99', '46-51', '58-62', '68-70', '14-20', '29-31', '00-10'], ['24-27', '28', '52-57', '39-45', 'V10-V19', '00-10'], ['46-51', 'V10-V19', '14-20', '39-45'], ['24-27', '78', '71-73', 'V50-V59', '96-99', '52-57', '46-51', '14-20', '29-31', '00-10'], ['24-27', '28', '78', '71-73', 'V50-V59', '52-57', '46-51', '58-62', '39-45', '29-31', 'V10-V19', 'V01-V09'], ['24-27', '46-51', '32-35', '39-45', '14-20'], ['28', '78', '71-73', '84-95', '52-57', '96-99', '58-62', '39-45', '00-10'], ['24-27', '78', '52-57', '96-99', '46-51', '39-45', 'V40-V49', 'V10-V19', '00-10'], ['24-27', '78', '28', '52-57', '46-51', '79', '58-62', '32-35', '39-45', '68-70', 'V40-V49', '14-20', '29-31'], ['24-27', '28', '96-99', '58-62', '39-45', '14-20', 'V10-V19'], ['24-27', '28', '52-57', '46-51', '58-62', '32-35', '39-45', '29-31'], ['24-27', '84-95', '46-51', '32-35', '39-45'], ['78', '46-51', '32-35', '39-45', 'V40-V49', '14-20', 'V10-V19'], ['24-27', '96-99', '32-35', '39-45', 'V10-V19'], ['24-27', '71-73', '96-99', '32-35', '39-45', '29-31'], ['24-27', '78', '52-57', 'V70-V82', '32-35', '39-45', 'V40-V49', '14-20', 'V60-V69', 'V10-V19'], ['24-27', '58-62', '78', '14-20'], ['28', '58-62', '32-35', '29-31'], ['36-38', 'V10-V19', '71-73', '39-45'], ['24-27', '28', '52-57', '46-51', '58-62', '39-45', '14-20', 'V10-V19', '00-10'], ['24-27', '96-99', '52-57', '46-51', '58-62', '39-45', 'V10-V19', '00-10', 'V01-V09'], ['24-27', '28', '52-57', '46-51', '39-45'], ['24-27', '78', '46-51', '58-62', '39-45'], ['24-27', '28', '71-73', '78', 'V50-V59', '52-57', '58-62', '32-35', '39-45', 'V40-V49', 'V10-V19', 'V01-V09'], ['24-27', 'V10-V19', '36-38', '39-45'], ['28', '52-57', '79', '32-35', '39-45', '14-20', 'V10-V19'], ['24-27', '71-73', '52-57', '46-51', '58-62', '39-45', 'V40-V49', '14-20'], ['71-73', '96-99', '36-38', '46-51', '74-75', '32-35'], ['24-27', '28', '71-73', '32-35', '39-45'], ['24-27', 'V88-V88', '39-45'], ['24-27', '78', '71-73', '96-99', '46-51', '32-35', '39-45', '29-31', 'V10-V19'], ['24-27', '71-73', '96-99', '52-57', '46-51', '39-45', 'V40-V49', '29-31'], ['24-27', '78', '96-99', '39-45', 'V40-V49', '00-10'], ['24-27', '68-70', '39-45', '00-10'], ['24-27', '28', '78', '96-99', '52-57', '46-51', '32-35', '39-45', 'V40-V49', '29-31'], ['78', '46-51', '58-62', '32-35', '39-45'], ['71-73', '11-13', '96-99', '46-51', '32-35'], ['24-27', '78', '58-62', '32-35', '39-45'], ['52-57', '28', '39-45'], ['24-27', '46-51', '58-62', '68-70', '39-45'], ['24-27', '32-35', '39-45', 'V40-V49'], ['96-99', '36-38', '52-57', '58-62', '39-45', 'V40-V49', '00-10']]\n",
      "[['24-27', '78', '11-13', '52-57', '46-51', '39-45', 'V40-V49', '14-20', '29-31'], ['24-27', '28', '78', '46-51', '79', '39-45', '14-20', '29-31'], ['71-73', '11-13', '52-57', '79', '39-45', '14-20'], ['24-27', '28', '78', '46-51', '39-45'], ['24-27', '78', '28', '52-57', '46-51', '68-70', '39-45', 'V40-V49', '14-20'], ['24-27', '78', '28', '71-73', '96-99', '46-51', '32-35', '39-45', '14-20', '29-31'], ['24-27', '78', '52-57', '46-51', '39-45', '14-20'], ['24-27', '28', '78', '46-51', '39-45'], ['24-27', '28', '71-73', '78', '52-57', '96-99', '79', '58-62', '68-70', '39-45', '00-10'], ['24-27', '78', '28', '11-13', '96-99', '52-57', '46-51', '36-38', '39-45', 'V40-V49', '14-20', '29-31', 'V10-V19'], ['24-27', '78', '71-73', '84-95', '46-51', '79', '58-62', '32-35', '39-45', '14-20'], ['24-27', '78', '11-13', '52-57', '46-51', '79', '39-45', '29-31'], ['V40-V49', '46-51', '78', '96-99'], ['80-83', '78', '28', '46-51', '32-35', '39-45', '14-20'], ['24-27', '78', '11-13', '46-51', '39-45', '29-31'], ['24-27', '78', '71-73', '11-13', '96-99', '52-57', '46-51', '68-70', '39-45', '29-31'], ['24-27', '78', '71-73', '46-51', '79', '39-45'], ['24-27', '78', '52-57', '36-38', '46-51', '32-35', '39-45', 'V40-V49', '29-31', 'V10-V19'], ['36-38', '21-23', '14-20', '11-13'], ['24-27', '78', '46-51', '32-35', '39-45', '14-20', '29-31'], ['24-27', '78', '28', '11-13', '52-57', '46-51', '58-62', '39-45', 'V40-V49'], ['24-27', '78', '28', '84-95', '46-51', '79', '68-70', '39-45'], ['24-27', '78', '11-13', '52-57', '36-38', '84-95', '79', '39-45'], ['24-27', '78', 'V50-V59', '52-57', '36-38', '46-51', '58-62', '32-35', '39-45', 'V40-V49', '14-20', '29-31', 'V10-V19'], ['24-27', '78', '46-51', '68-70', '32-35', '39-45', '58-62'], ['24-27', '78', '28', '11-13', '46-51', '39-45'], ['80-83', '78', '96-99', '79', '32-35', '39-45'], ['24-27', '78', '28', '52-57', '36-38', '32-35', '39-45', '29-31'], ['24-27', '78', 'V50-V59', '52-57', '46-51', '39-45', 'V40-V49', '29-31'], ['24-27', '78', '11-13', '52-57', '46-51', '79', '58-62', '39-45', '21-23', '14-20'], ['24-27', '78', '11-13', '52-57', '68-70', '39-45'], ['28', '78', '52-57', '96-99', '46-51', '39-45'], ['24-27', '78', '11-13', '52-57', '58-62', '39-45', '21-23', '14-20', '29-31'], ['24-27', '78', '28', '46-51', '79', '39-45', 'V40-V49', 'V60-V69'], ['24-27', '78', '36-38', '52-57', '46-51', '79', '39-45'], ['24-27', '78', '71-73', '96-99', '46-51', '79', '68-70', '32-35', '39-45', '14-20'], ['24-27', '78', 'V50-V59', '96-99', '46-51', '32-35', '39-45'], ['24-27', '78', '52-57', '36-38', '46-51', '58-62', '39-45', '14-20', '29-31'], ['24-27', '78', '28', '96-99', '52-57', '46-51', '79', '32-35', '39-45', 'V40-V49', '14-20', '29-31'], ['46-51', '78', '71-73', '39-45'], ['24-27', '78', '71-73', '28', '52-57', '96-99', '46-51', '58-62', '39-45', '14-20'], ['24-27', '78', '52-57', '59-59', '21-23', '14-20', '29-31'], ['24-27', '78', '71-73', '46-51', '39-45', 'V40-V49', '29-31'], ['24-27', '28', '71-73', '46-51', '79', '39-45'], ['24-27', '78', '11-13', '46-51', '32-35', '29-31'], ['78', '71-73', '52-57', '39-45', 'V40-V49'], ['24-27', '80-83', '78', '71-73', '28', '96-99', '52-57', '79', '39-45', 'V40-V49', '29-31', 'V60-V69', '00-10'], ['24-27', '78', '28', '96-99', '46-51', '79', '32-35', '39-45', '29-31'], ['24-27', '78', '52-57', '32-35', '39-45'], ['24-27', '28', '78', '52-57', '46-51', '39-45'], ['24-27', '78', '28', '11-13', '52-57', '36-38', '58-62', '39-45'], ['78', '71-73', '46-51', '39-45', '29-31'], ['78', '28', '71-73', '52-57', '46-51', '79', '58-62', '32-35', '39-45', '29-31'], ['24-27', '28', '46-51', '39-45', 'V40-V49'], ['24-27', '28', '78', '11-13', '52-57', '68-70', '39-45', 'V40-V49', 'V60-V69'], ['24-27', '78', '71-73', '11-13', '46-51', '39-45', 'V40-V49', 'V10-V19'], ['24-27', '28', '78', '96-99', '46-51', '79', '39-45'], ['24-27', '78', '28', '11-13', '46-51', '79', '39-45', 'V40-V49', '29-31', 'V10-V19'], ['24-27', '78', '28', '46-51', '39-45', '29-31'], ['78', '52-57', '46-51', '32-35', '39-45'], ['24-27', '78', '96-99', '79', '58-62', '32-35', '39-45', '21-23', '14-20', '29-31'], ['24-27', '78', '71-73', '96-99', '46-51', '32-35', '39-45', 'V40-V49', '29-31'], ['24-27', '78', '84-95', '96-99', '46-51', '79', '39-45'], ['24-27', '80-83', '78', '28', '96-99', '79', '32-35', '39-45', '29-31'], ['78', '52-57', '36-38', '46-51', '39-45', '29-31'], ['24-27', '78', '28', '11-13', '52-57', '58-62', '39-45', 'V10-V19'], ['24-27', '78', '84-95', '96-99', '46-51', '32-35', '39-45', '21-23'], ['24-27', '28', '11-13', '46-51', '39-45'], ['24-27', '28', '78', '11-13', '52-57', '46-51', '39-45'], ['78', '71-73', '52-57', '46-51', '68-70', '32-35', '39-45', 'V40-V49', '14-20', '29-31'], ['24-27', '78', '28', '84-95', '46-51', '79', '58-62', '68-70', '39-45', 'V40-V49', '14-20'], ['24-27', '28', '11-13', '46-51', '79', '39-45', 'V40-V49', 'V10-V19'], ['24-27', '78', '52-57', '46-51', '39-45', 'V40-V49', '14-20'], ['24-27', '78', '52-57', '46-51', '39-45', 'V40-V49'], ['24-27', '28', '78', '11-13', '52-57', '58-62', '39-45', '14-20'], ['24-27', '78', '96-99', '46-51', '79', '14-20', '29-31'], ['24-27', '78', '28', '11-13', '52-57', '46-51', '39-45', '29-31'], ['24-27', '78', '11-13', '46-51', '39-45', 'V40-V49'], ['24-27', '28', '78', '46-51', '39-45'], ['24-27', '78', '46-51', '79', '32-35', '39-45', '14-20', '29-31'], ['24-27', '28', '78', '46-51', '79', '39-45', 'V40-V49'], ['24-27', '28', '71-73', '78', '52-57', '46-51', '79', '58-62', '68-70', '39-45', '14-20'], ['24-27', '78', '11-13', '52-57', '46-51', '68-70', '32-35', '39-45'], ['24-27', '78', '46-51', '79', '39-45'], ['24-27', '78', '52-57', '79', '39-45', '21-23', '14-20'], ['24-27', '78', '36-38', '46-51', '39-45', 'V40-V49', '29-31', 'V10-V19'], ['24-27', '78', '28', '46-51', '79', '39-45', 'V40-V49', 'V10-V19'], ['38-39', '79', '39-45', '21-23', '67'], ['24-27', '78', '71-73', '52-57', '79', '58-62', '39-45', '14-20'], ['24-27', '28', '78', '11-13', '46-51', '79', '68-70', '32-35', '39-45', '14-20'], ['24-27', '78', '28', '11-13', '96-99', '46-51', '39-45', 'V40-V49', '14-20', '29-31'], ['24-27', '80-83', '78', '71-73', '52-57', '79', '68-70', '39-45'], ['28', '71-73', '78', '84-95', '52-57', '96-99', '46-51', '79', '32-35', '39-45', '29-31'], ['78', '46-51', '79', '58-62', '68-70', '39-45', 'V40-V49', 'V10-V19'], ['24-27', '78', '46-51', '68-70', '32-35', '39-45', 'V40-V49', '21-23', '14-20', '29-31'], ['24-27', '78', '71-73', '28', '11-13', '52-57', '46-51', '58-62', '39-45', '14-20'], ['24-27', '28', '78', '11-13', '52-57', '79', '58-62', '39-45', '00-10'], ['24-27', '78', '28', '96-99', '52-57', '46-51', '32-35', '39-45', '29-31'], ['28', '78', 'V50-V59', '52-57', '96-99', '46-51', '68-70', '39-45', 'V40-V49', '14-20'], ['24-27', '78', '46-51', '39-45', '14-20', '29-31'], ['24-27', '78', '28', '52-57', '36-38', '46-51', '39-45', '21-23', '00-10'], ['24-27', '78', '52-57', '46-51', '58-62', '32-35', '39-45', '29-31'], ['24-27', '78', '71-73', 'V50-V59', '28', '96-99', '52-57', '46-51', '36-38', '58-62', '32-35', '39-45', '68-70', 'V40-V49', '79', '29-31', 'V10-V19', '00-10'], ['24-27', '28', '78', '46-51', '39-45', 'V40-V49', 'V10-V19', 'V78-V78'], ['28', '78', '52-57', '39-45', '21-23', '14-20'], ['24-27', '78', '28', '11-13', '46-51', '39-45', 'V40-V49', '14-20'], ['24-27', '78', '46-51', '39-45', 'V40-V49', 'V60-V69'], ['24-27', '28', '46-51', '79', '39-45'], ['24-27', '80-83', '28', '78', '84-95', '96-99', '46-51', '79', '14-20'], ['78', '46-51', 'V70-V82', '39-45', 'V40-V49'], ['24-27', '78', '11-13', '46-51', '68-70', '39-45'], ['71-73', \"re is the output:\\n\\n['78\", '84-95', '46-51', '39-45'], ['24-27', '78', '71-73', '28', '11-13', '46-51', '39-45', '14-20'], ['24-27', '80-83', '78', '28', '52-57', '46-51', '79', '68-70', '32-35', '39-45'], ['24-27', '78', '46-51', '39-45', 'V40-V49', '29-31', 'V60-V69'], ['24-27', '78', '71-73', '28', '11-13', '96-99', '52-57', '46-51', '79', '58-62', '32-35', '39-45', '14-20', '29-31', 'V10-V19', '00-10'], ['24-27', '28', '78', '11-13', '52-57', '46-51', '79', '39-45', '29-31'], ['24-27', '78', '84-95', '52-57', '96-99', '46-51', '79', '74-75', '32-35', '39-45', '29-31'], ['78', '71-73', '96-99', '46-51', '79', '58-62', '68-70', '39-45', '14-20'], ['24-27', '80-83', '28', '78', '84-95', '52-57', '96-99', '39-45', '00-10'], ['24-27', '78', '28', '52-57', '46-51', '39-45', 'V40-V49'], ['24-27', '78', '28', '11-13', '52-57', '46-51', '32-35', '39-45', 'V40-V49', '21-23', '14-20', 'V10-V19'], ['28', '52-57', '46-51', '58-62', '39-45', '21-23', '14-20'], ['24-27', '78', '28', '32-35', '39-45'], ['24-27', '78', 'V50-V59', '28', '11-13', '96-99', '46-51', '79', '68-70', '32-35', '39-45', 'V40-V49', '00-10'], ['24-27', '78', '36-38', '46-51', '79', '39-45', 'V40-V49'], ['24-27', '80-83', '78', '71-73', '28', '11-13', '96-99', '52-57', '46-51', '79', '58-62', '32-35', '39-45', '68-70', '14-20', '29-31', 'V10-V19', '00-10'], ['24-27', '78', '71-73', '11-13', '52-57', '46-51', '32-35', '39-45', '14-20', '29-31'], ['24-27', '78', '28', '52-57', '58-62', '32-35', '39-45', '14-20'], ['78', '52-57', '96-99', '46-51', '79', '58-62', '39-45', '29-31'], ['24-27', 'V50-V59', '78', '28', '52-57', '46-51', '79', '68-70', '39-45', 'V40-V49'], ['24-27', '78', '11-13', '52-57', '46-51', '79', '39-45', '14-20'], ['24-27', '78', '28', '96-99', '46-51', '39-45', '14-20'], ['24-27', '78', '71-73', 'V50-V59', '28', '96-99', '52-57', '46-51', '36-38', '58-62', '32-35', '39-45', '68-70', '79', '29-31', 'V60-V69', 'V10-V19'], ['78', '46-51', '39-45', '14-20', '29-31'], ['24-27', '28', '78', '52-57', '96-99', '46-51', '79', '58-62', '68-70', '39-45'], ['24-27', '78', '52-57', '46-51', '39-45', 'V40-V49'], ['24-27', '28', '78', '52-57', '46-51', '58-62', '32-35', '39-45'], ['24-27', '78', '28', '52-57', '96-99', '46-51', '39-45'], ['24-27', '28', '71-73', '78', '52-57', '46-51', '39-45', '14-20'], ['24-27', '78', '71-73', '36-38', '29-31'], ['24-27', '80-83', '78', '28', '96-99', '79', '68-70', '32-35', '39-45', '14-20'], ['24-27', '80-83', '78', '28', 'V50-V59', '84-95', '52-57', '79', '58-62', '68-70', '39-45', 'V40-V49', '29-31'], ['24-27', '78', '11-13', '52-57', '36-38', '46-51', '39-45', 'V10-V19'], ['24-27', '78', '28', '46-51', '32-35', '39-45'], ['24-27', '78', '11-13', '52-57', '36-38', '39-45', '21-23'], ['24-27', '28', '78', '52-57', '46-51', '79', '39-45'], ['78', 'V50-V59', '52-57', '46-51', '79', '32-35', '39-45', 'V40-V49', 'V60-V69'], ['78', '11-13', '46-51', '39-45', '21-23', '14-20'], ['24-27', '78', '11-13', '79', '68-70', '32-35', '39-45'], ['24-27', '786-79', '52-57', '46-51', '39-45', '57-57', '21-23', '14-20'], ['78', '71-73', '84-95', '52-57', '96-99', '79', '68-70', '32-35', '39-45'], ['24-27', '78', '11-13', '79', '68-70', '32-35', '39-45'], ['24-27', '78', '52-57', '46-51', '79', '39-45', 'V40-V49', 'V10-V19']]\n",
      "Macro Averaged AUROC Score: 0.5486782046142973\n",
      "Micro Averaged Precision: 0.47096774193548385\n",
      "Micro Averaged Recall: 0.5604606525911708\n",
      "Micro Averaged F1-Score: 0.5118317265556529\n",
      "Macro Averaged Precision: 0.24104349726805263\n",
      "Macro Averaged Recall: 0.2736193265312093\n",
      "Macro Averaged F1-Score: 0.23193513847237285\n"
     ]
    },
    {
     "name": "stderr",
     "output_type": "stream",
     "text": [
      "\n"
     ]
    }
   ],
   "source": [
    "metrics_calc(type = 'more than 3 symptoms',method='rag', model_name= 'groq')"
   ]
  },
  {
   "cell_type": "markdown",
   "metadata": {},
   "source": [
    "Macro Averaged AUROC Score: 0.5109374285884725\n",
    "Micro Averaged Precision: 0.20837487537387836\n",
    "Micro Averaged Recall: 0.40543161978661496\n",
    "Micro Averaged F1-Score: 0.2752716496542641\n",
    "Macro Averaged Precision: 0.1178654710859196\n",
    "Macro Averaged Recall: 0.20021469407742604\n",
    "Macro Averaged F1-Score: 0.11538564445445447"
   ]
  },
  {
   "cell_type": "code",
   "execution_count": null,
   "metadata": {},
   "outputs": [],
   "source": []
  },
  {
   "cell_type": "markdown",
   "metadata": {},
   "source": []
  },
  {
   "cell_type": "code",
   "execution_count": null,
   "metadata": {},
   "outputs": [],
   "source": []
  }
 ],
 "metadata": {
  "kernelspec": {
   "display_name": "astro",
   "language": "python",
   "name": "python3"
  },
  "language_info": {
   "codemirror_mode": {
    "name": "ipython",
    "version": 3
   },
   "file_extension": ".py",
   "mimetype": "text/x-python",
   "name": "python",
   "nbconvert_exporter": "python",
   "pygments_lexer": "ipython3",
   "version": "3.12.3"
  }
 },
 "nbformat": 4,
 "nbformat_minor": 2
}
