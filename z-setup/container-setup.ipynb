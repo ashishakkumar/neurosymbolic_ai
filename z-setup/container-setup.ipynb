{
 "cells": [
  {
   "cell_type": "code",
   "execution_count": null,
   "metadata": {},
   "outputs": [],
   "source": [
    "import pandas as pd"
   ]
  },
  {
   "cell_type": "code",
   "execution_count": null,
   "metadata": {},
   "outputs": [],
   "source": [
    "docker run \\\n",
    "    --name kg_cropped_shubham \\\n",
    "    --publish=8474:7474 --publish=8687:7687 \\\n",
    "    --volume=$HOME/neo4j/data: \\\n",
    "    --env NEO4J_AUTH=neo4j/neo4j_pass5 \\\n",
    "    neo4j\n",
    "\n",
    "docker run \\\n",
    "    --name kg_cropped_shubham \\\n",
    "    --publish=8474:7474 --publish=8687:7687 \\\n",
    "    --volume=/Users/ashish/Documents/mappe/databases/neo4j:/data \\\n",
    "    --env NEO4J_AUTH=neo4j/neo4j_pass5 \\\n",
    "    neo4j\n"
   ]
  },
  {
   "cell_type": "code",
   "execution_count": null,
   "metadata": {},
   "outputs": [],
   "source": []
  },
  {
   "cell_type": "markdown",
   "metadata": {},
   "source": [
    "## Setting up the container\n",
    "\n",
    "\n",
    "docker run \\\n",
    "  --restart always \\\n",
    "  --name shubham_new_kg \\\n",
    "  --publish=6474:7474 \\\n",
    "  --publish=6687:7687 \\\n",
    "  --env NEO4J_AUTH=neo4j/neo4j_pass5 \\\n",
    "  neo4j:5.25.1"
   ]
  },
  {
   "cell_type": "code",
   "execution_count": null,
   "metadata": {},
   "outputs": [],
   "source": []
  },
  {
   "cell_type": "code",
   "execution_count": null,
   "metadata": {},
   "outputs": [],
   "source": [
    "uri = \"neo4j://localhost:7687\"\n",
    "auth = (\"neo4j\", \"neo4j_pass5\")\n",
    "\n",
    "driver = GraphDatabase.driver(uri, auth=auth)\n",
    "driver.verify_connectivity()"
   ]
  }
 ],
 "metadata": {
  "kernelspec": {
   "display_name": "astro",
   "language": "python",
   "name": "python3"
  },
  "language_info": {
   "name": "python",
   "version": "3.12.3"
  }
 },
 "nbformat": 4,
 "nbformat_minor": 2
}
