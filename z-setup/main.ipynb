{
 "cells": [
  {
   "cell_type": "code",
   "execution_count": null,
   "metadata": {},
   "outputs": [],
   "source": [
    "# pip install py2neo"
   ]
  },
  {
   "cell_type": "markdown",
   "metadata": {},
   "source": [
    "## Test Data Preprocessing"
   ]
  },
  {
   "cell_type": "code",
   "execution_count": 137,
   "metadata": {},
   "outputs": [
    {
     "data": {
      "text/html": [
       "<div>\n",
       "<style scoped>\n",
       "    .dataframe tbody tr th:only-of-type {\n",
       "        vertical-align: middle;\n",
       "    }\n",
       "\n",
       "    .dataframe tbody tr th {\n",
       "        vertical-align: top;\n",
       "    }\n",
       "\n",
       "    .dataframe thead th {\n",
       "        text-align: right;\n",
       "    }\n",
       "</style>\n",
       "<table border=\"1\" class=\"dataframe\">\n",
       "  <thead>\n",
       "    <tr style=\"text-align: right;\">\n",
       "      <th></th>\n",
       "      <th>Symptoms</th>\n",
       "      <th>Diseases</th>\n",
       "      <th>id</th>\n",
       "      <th>icd_9_desc</th>\n",
       "      <th>text</th>\n",
       "      <th>long_texts</th>\n",
       "      <th>short_texts</th>\n",
       "      <th>discharge_summary</th>\n",
       "      <th>short_codes</th>\n",
       "    </tr>\n",
       "  </thead>\n",
       "  <tbody>\n",
       "    <tr>\n",
       "      <th>0</th>\n",
       "      <td>[chest tightness, palpitations, ventricular ec...</td>\n",
       "      <td>[aortic valve fibroelastoma, GERD, Basal Cell ...</td>\n",
       "      <td>109136</td>\n",
       "      <td>Benign neoplasm of heart,Obesity, unspecified,...</td>\n",
       "      <td>CHIEF COMPLAINT: known aortic valve fibroelast...</td>\n",
       "      <td>Benign neoplasm of heart,Obesity, unspecified,...</td>\n",
       "      <td>Benign neoplasm heart,Obesity NOS,Angina pecto...</td>\n",
       "      <td>Admission Date:  [**2149-11-19**]             ...</td>\n",
       "      <td>2127,27800,4139,2859,53081,V1083,28860,V8533</td>\n",
       "    </tr>\n",
       "    <tr>\n",
       "      <th>1</th>\n",
       "      <td>[intermittent L-sided chest pressure, anterior...</td>\n",
       "      <td>[prostate ca s/p brachytherapy, PVD, h/o pancr...</td>\n",
       "      <td>193197</td>\n",
       "      <td>True posterior wall infarction, initial episod...</td>\n",
       "      <td>CHIEF COMPLAINT: intermittent L-sided chest pr...</td>\n",
       "      <td>True posterior wall infarction, initial episod...</td>\n",
       "      <td>True post infarct, init,Ac posthemorrhag anemi...</td>\n",
       "      <td>Admission Date:  [**2144-2-23**]              ...</td>\n",
       "      <td>41061,2851,41401,4439,V1046,25000</td>\n",
       "    </tr>\n",
       "    <tr>\n",
       "      <th>2</th>\n",
       "      <td>[palpitations, dizziness, shortness of breath,...</td>\n",
       "      <td>[mitral regurgitation, mitral stenosis, hypert...</td>\n",
       "      <td>157736</td>\n",
       "      <td>Mitral stenosis with insufficiency,Other chron...</td>\n",
       "      <td>CHIEF COMPLAINT: mitral regurgitation/stenosis...</td>\n",
       "      <td>Mitral stenosis with insufficiency,Other chron...</td>\n",
       "      <td>Mitral stenosis w insuff,Chr pulmon heart dis ...</td>\n",
       "      <td>Admission Date:  [**2197-10-10**]             ...</td>\n",
       "      <td>3942,4168,27800,42731,311,4019,24200</td>\n",
       "    </tr>\n",
       "  </tbody>\n",
       "</table>\n",
       "</div>"
      ],
      "text/plain": [
       "                                            Symptoms  \\\n",
       "0  [chest tightness, palpitations, ventricular ec...   \n",
       "1  [intermittent L-sided chest pressure, anterior...   \n",
       "2  [palpitations, dizziness, shortness of breath,...   \n",
       "\n",
       "                                            Diseases      id  \\\n",
       "0  [aortic valve fibroelastoma, GERD, Basal Cell ...  109136   \n",
       "1  [prostate ca s/p brachytherapy, PVD, h/o pancr...  193197   \n",
       "2  [mitral regurgitation, mitral stenosis, hypert...  157736   \n",
       "\n",
       "                                          icd_9_desc  \\\n",
       "0  Benign neoplasm of heart,Obesity, unspecified,...   \n",
       "1  True posterior wall infarction, initial episod...   \n",
       "2  Mitral stenosis with insufficiency,Other chron...   \n",
       "\n",
       "                                                text  \\\n",
       "0  CHIEF COMPLAINT: known aortic valve fibroelast...   \n",
       "1  CHIEF COMPLAINT: intermittent L-sided chest pr...   \n",
       "2  CHIEF COMPLAINT: mitral regurgitation/stenosis...   \n",
       "\n",
       "                                          long_texts  \\\n",
       "0  Benign neoplasm of heart,Obesity, unspecified,...   \n",
       "1  True posterior wall infarction, initial episod...   \n",
       "2  Mitral stenosis with insufficiency,Other chron...   \n",
       "\n",
       "                                         short_texts  \\\n",
       "0  Benign neoplasm heart,Obesity NOS,Angina pecto...   \n",
       "1  True post infarct, init,Ac posthemorrhag anemi...   \n",
       "2  Mitral stenosis w insuff,Chr pulmon heart dis ...   \n",
       "\n",
       "                                   discharge_summary  \\\n",
       "0  Admission Date:  [**2149-11-19**]             ...   \n",
       "1  Admission Date:  [**2144-2-23**]              ...   \n",
       "2  Admission Date:  [**2197-10-10**]             ...   \n",
       "\n",
       "                                    short_codes  \n",
       "0  2127,27800,4139,2859,53081,V1083,28860,V8533  \n",
       "1             41061,2851,41401,4439,V1046,25000  \n",
       "2          3942,4168,27800,42731,311,4019,24200  "
      ]
     },
     "execution_count": 137,
     "metadata": {},
     "output_type": "execute_result"
    }
   ],
   "source": [
    "import pandas as pd\n",
    "import os\n",
    "import json\n",
    "import numpy as np\n",
    "from sklearn.metrics import roc_auc_score\n",
    "\n",
    "directory_path = 'samples_latest'\n",
    "data = []\n",
    "\n",
    "for filename in os.listdir(directory_path):\n",
    "    if filename.endswith('.json'):\n",
    "        file_path = os.path.join(directory_path, filename)\n",
    "        \n",
    "        with open(file_path, 'r') as file:\n",
    "            file_data = json.load(file)\n",
    "            data.append(file_data)\n",
    "\n",
    "symptoms_df = pd.DataFrame(data)\n",
    "test_df = pd.read_csv('DIA_GROUPS_3_DIGITS_adm_test.csv')\n",
    "merged_df = pd.merge(symptoms_df, test_df, how='inner', on='id')\n",
    "merged_df.head(3)"
   ]
  },
  {
   "cell_type": "code",
   "execution_count": 99,
   "metadata": {},
   "outputs": [
    {
     "data": {
      "text/plain": [
       "(['intermittent L-sided chest pressure',\n",
       "  'anterior wall chest tightness',\n",
       "  'SOB',\n",
       "  'left arm paresthesias',\n",
       "  'hypertensive',\n",
       "  'nausea',\n",
       "  'vomiting',\n",
       "  'diaphoresis',\n",
       "  'lightheadedness',\n",
       "  'dizziness',\n",
       "  'recurring CP',\n",
       "  'vagal episode with?apnea-->bagged',\n",
       "  'chronic hip pain'],\n",
       " ['41061', '2851', '41401', '4439', 'V1046', '25000'])"
      ]
     },
     "execution_count": 99,
     "metadata": {},
     "output_type": "execute_result"
    }
   ],
   "source": [
    "list(merged_df.iloc[1].Symptoms), merged_df.iloc[1].short_codes.split(',')"
   ]
  },
  {
   "cell_type": "markdown",
   "metadata": {},
   "source": [
    "### KG RAG"
   ]
  },
  {
   "cell_type": "code",
   "execution_count": null,
   "metadata": {},
   "outputs": [],
   "source": [
    "import os\n",
    "from py2neo import Graph\n",
    "from mistralai.client import MistralClient\n",
    "from mistralai.models.chat_completion import ChatMessage\n",
    "from neo4j import GraphDatabase\n",
    "from dotenv import load_dotenv\n",
    "import json\n",
    "\n",
    "\n",
    "uri = \"neo4j://localhost:7687\" \n",
    "auth = (\"neo4j\", \"neo4j_pass2\")\n",
    "\n",
    "driver = GraphDatabase.driver(uri, auth=auth) \n",
    "driver.verify_connectivity()\n",
    "\n",
    "with open('mapped_terms_icd9.json', 'r') as file:\n",
    "    data = file.read()  # Read the content of the file\n",
    "\n",
    "# Parse the JSON data\n",
    "parsed_data = json.loads(data)\n",
    "\n",
    "result = {}\n",
    "\n",
    "for key, values in parsed_data.items():\n",
    "    filtered_diseases = {}\n",
    "    for value in values:\n",
    "        disease_info = value['disease'].split(' - ')\n",
    "        disease_code = disease_info[0].strip()\n",
    "        disease_desc = disease_info[1].strip()\n",
    "        euclidean_distance = float(disease_info[2].strip())\n",
    "        \n",
    "        if disease_code not in filtered_diseases or filtered_diseases[disease_code]['euclidean_distance'] > euclidean_distance:\n",
    "            filtered_diseases[disease_code] = {\n",
    "                'disease_code': disease_code,\n",
    "                'disease_desc': disease_desc,\n",
    "                'euclidean_distance': euclidean_distance,\n",
    "                'pos_weight': value['pos_weight']\n",
    "            }\n",
    "    \n",
    "    result[key] = list(filtered_diseases.values())\n",
    "\n",
    "with open('output.json', 'w') as f:\n",
    "    json.dump(result, f, indent=4)"
   ]
  },
  {
   "cell_type": "markdown",
   "metadata": {},
   "source": [
    "### Graph Creation"
   ]
  },
  {
   "cell_type": "code",
   "execution_count": 121,
   "metadata": {},
   "outputs": [],
   "source": [
    "# from tqdm import tqdm\n",
    "\n",
    "# def create_graph(result):\n",
    "#     with driver.session() as session:\n",
    "#         for symptom, diseases in tqdm(result.items()):\n",
    "#             for disease in diseases:\n",
    "#                 try:\n",
    "#                     # Extract attributes from disease data\n",
    "#                     disease_code = disease['disease_code']\n",
    "#                     disease_desc = disease['disease_desc']\n",
    "#                     euclidean_distance = float(disease['euclidean_distance'])\n",
    "#                     pos_weight = int(disease['pos_weight'])\n",
    "                    \n",
    "#                     # Create or update Symptom node\n",
    "#                     session.run(\"MERGE (s:Symptom {name: $name})\", name=symptom)\n",
    "                    \n",
    "#                     # Create or update Disease node with attributes\n",
    "#                     session.run(\"\"\"\n",
    "#                         MERGE (d:Disease {name: $name})\n",
    "#                         ON CREATE SET d.disease_code = $disease_code, d.description = $description\n",
    "#                         ON MATCH SET d.disease_code = $disease_code, d.description = $description\n",
    "#                     \"\"\", name=disease['disease_code'], disease_code=disease_code, description=disease_desc)\n",
    "                    \n",
    "#                     # Create or update the relationship with attributes\n",
    "#                     session.run(\"\"\"\n",
    "#                         MATCH (s:Symptom {name: $symptom}), (d:Disease {name: $disease_code})\n",
    "#                         MERGE (s)-[r:ASSOCIATED_WITH]->(d)\n",
    "#                         ON CREATE SET r.euclidean_distance = $euclidean_distance, r.pos_weight = $pos_weight\n",
    "#                         ON MATCH SET r.euclidean_distance = $euclidean_distance, r.pos_weight = $pos_weight\n",
    "#                     \"\"\", symptom=symptom, disease_code=disease_code, euclidean_distance=euclidean_distance, pos_weight=pos_weight)\n",
    "#                 except Exception as e:\n",
    "#                     print(f\"An error occurred: {e}\")\n",
    "\n",
    "# create_graph(result)\n"
   ]
  },
  {
   "cell_type": "markdown",
   "metadata": {},
   "source": [
    "### Query"
   ]
  },
  {
   "cell_type": "code",
   "execution_count": 122,
   "metadata": {},
   "outputs": [
    {
     "name": "stdout",
     "output_type": "stream",
     "text": [
      "Number of distinct disease codes in the knowledge graph : 1888\n"
     ]
    }
   ],
   "source": [
    "def count_distinct_disease_codes():\n",
    "    with driver.session() as session:\n",
    "        result = session.run(\"\"\"\n",
    "            MATCH (d:Disease)\n",
    "            RETURN COUNT(DISTINCT d.disease_code) AS distinct_disease_count\n",
    "        \"\"\")\n",
    "        count = result.single()[\"distinct_disease_count\"]\n",
    "        return count\n",
    "\n",
    "\n",
    "distinct_disease_count = count_distinct_disease_codes()\n",
    "print(f\"Number of distinct disease codes in the knowledge graph : {distinct_disease_count}\")"
   ]
  },
  {
   "cell_type": "code",
   "execution_count": null,
   "metadata": {},
   "outputs": [],
   "source": [
    "def get_distinct_disease_codes():\n",
    "    with driver.session() as session:\n",
    "        result = session.run(\"\"\"\n",
    "            MATCH (d:Disease)\n",
    "            RETURN DISTINCT d.disease_code AS disease_code\n",
    "        \"\"\")\n",
    "        codes = [record[\"disease_code\"] for record in result]\n",
    "        return codes\n",
    "\n",
    "distinct_disease_codes = get_distinct_disease_codes()\n",
    "print(f\"Distinct disease codes in the knowledge graph: {distinct_disease_codes}\")\n"
   ]
  },
  {
   "cell_type": "code",
   "execution_count": 142,
   "metadata": {},
   "outputs": [
    {
     "name": "stdout",
     "output_type": "stream",
     "text": [
      "893\n"
     ]
    }
   ],
   "source": [
    "distinct_symptoms = set(result.keys())\n",
    "\n",
    "print(len(distinct_symptoms))"
   ]
  },
  {
   "cell_type": "code",
   "execution_count": null,
   "metadata": {},
   "outputs": [],
   "source": []
  },
  {
   "cell_type": "code",
   "execution_count": 141,
   "metadata": {},
   "outputs": [
    {
     "data": {
      "text/plain": [
       "11637"
      ]
     },
     "execution_count": 141,
     "metadata": {},
     "output_type": "execute_result"
    }
   ],
   "source": [
    "symptoms_ddf = merged_df.assign(short_codes=merged_df['Symptoms'].str.split(',')).explode('Symptoms').reset_index(drop =True)\n",
    "symptoms_ddf.Symptoms.nunique()\n",
    "len(distinct_symptoms.intersection(set(list(symptoms_ddf.Symptoms))))"
   ]
  },
  {
   "cell_type": "code",
   "execution_count": 146,
   "metadata": {},
   "outputs": [
    {
     "data": {
      "text/plain": [
       "192"
      ]
     },
     "execution_count": 146,
     "metadata": {},
     "output_type": "execute_result"
    }
   ],
   "source": [
    "len(distinct_symptoms.intersection(set(list(symptoms_ddf.Symptoms))))"
   ]
  },
  {
   "cell_type": "code",
   "execution_count": 184,
   "metadata": {},
   "outputs": [
    {
     "data": {
      "text/html": [
       "<div>\n",
       "<style scoped>\n",
       "    .dataframe tbody tr th:only-of-type {\n",
       "        vertical-align: middle;\n",
       "    }\n",
       "\n",
       "    .dataframe tbody tr th {\n",
       "        vertical-align: top;\n",
       "    }\n",
       "\n",
       "    .dataframe thead th {\n",
       "        text-align: right;\n",
       "    }\n",
       "</style>\n",
       "<table border=\"1\" class=\"dataframe\">\n",
       "  <thead>\n",
       "    <tr style=\"text-align: right;\">\n",
       "      <th></th>\n",
       "      <th>Symptoms</th>\n",
       "      <th>Diseases</th>\n",
       "      <th>id</th>\n",
       "      <th>icd_9_desc</th>\n",
       "      <th>text</th>\n",
       "      <th>long_texts</th>\n",
       "      <th>short_texts</th>\n",
       "      <th>discharge_summary</th>\n",
       "      <th>short_codes</th>\n",
       "    </tr>\n",
       "  </thead>\n",
       "  <tbody>\n",
       "    <tr>\n",
       "      <th>0</th>\n",
       "      <td>[chest tightness, palpitations, ventricular ec...</td>\n",
       "      <td>[aortic valve fibroelastoma, GERD, Basal Cell ...</td>\n",
       "      <td>109136</td>\n",
       "      <td>Benign neoplasm of heart,Obesity, unspecified,...</td>\n",
       "      <td>CHIEF COMPLAINT: known aortic valve fibroelast...</td>\n",
       "      <td>Benign neoplasm of heart,Obesity, unspecified,...</td>\n",
       "      <td>Benign neoplasm heart,Obesity NOS,Angina pecto...</td>\n",
       "      <td>Admission Date:  [**2149-11-19**]             ...</td>\n",
       "      <td>2127</td>\n",
       "    </tr>\n",
       "    <tr>\n",
       "      <th>1</th>\n",
       "      <td>[chest tightness, palpitations, ventricular ec...</td>\n",
       "      <td>[aortic valve fibroelastoma, GERD, Basal Cell ...</td>\n",
       "      <td>109136</td>\n",
       "      <td>Benign neoplasm of heart,Obesity, unspecified,...</td>\n",
       "      <td>CHIEF COMPLAINT: known aortic valve fibroelast...</td>\n",
       "      <td>Benign neoplasm of heart,Obesity, unspecified,...</td>\n",
       "      <td>Benign neoplasm heart,Obesity NOS,Angina pecto...</td>\n",
       "      <td>Admission Date:  [**2149-11-19**]             ...</td>\n",
       "      <td>27800</td>\n",
       "    </tr>\n",
       "    <tr>\n",
       "      <th>2</th>\n",
       "      <td>[chest tightness, palpitations, ventricular ec...</td>\n",
       "      <td>[aortic valve fibroelastoma, GERD, Basal Cell ...</td>\n",
       "      <td>109136</td>\n",
       "      <td>Benign neoplasm of heart,Obesity, unspecified,...</td>\n",
       "      <td>CHIEF COMPLAINT: known aortic valve fibroelast...</td>\n",
       "      <td>Benign neoplasm of heart,Obesity, unspecified,...</td>\n",
       "      <td>Benign neoplasm heart,Obesity NOS,Angina pecto...</td>\n",
       "      <td>Admission Date:  [**2149-11-19**]             ...</td>\n",
       "      <td>4139</td>\n",
       "    </tr>\n",
       "    <tr>\n",
       "      <th>3</th>\n",
       "      <td>[chest tightness, palpitations, ventricular ec...</td>\n",
       "      <td>[aortic valve fibroelastoma, GERD, Basal Cell ...</td>\n",
       "      <td>109136</td>\n",
       "      <td>Benign neoplasm of heart,Obesity, unspecified,...</td>\n",
       "      <td>CHIEF COMPLAINT: known aortic valve fibroelast...</td>\n",
       "      <td>Benign neoplasm of heart,Obesity, unspecified,...</td>\n",
       "      <td>Benign neoplasm heart,Obesity NOS,Angina pecto...</td>\n",
       "      <td>Admission Date:  [**2149-11-19**]             ...</td>\n",
       "      <td>2859</td>\n",
       "    </tr>\n",
       "    <tr>\n",
       "      <th>4</th>\n",
       "      <td>[chest tightness, palpitations, ventricular ec...</td>\n",
       "      <td>[aortic valve fibroelastoma, GERD, Basal Cell ...</td>\n",
       "      <td>109136</td>\n",
       "      <td>Benign neoplasm of heart,Obesity, unspecified,...</td>\n",
       "      <td>CHIEF COMPLAINT: known aortic valve fibroelast...</td>\n",
       "      <td>Benign neoplasm of heart,Obesity, unspecified,...</td>\n",
       "      <td>Benign neoplasm heart,Obesity NOS,Angina pecto...</td>\n",
       "      <td>Admission Date:  [**2149-11-19**]             ...</td>\n",
       "      <td>53081</td>\n",
       "    </tr>\n",
       "  </tbody>\n",
       "</table>\n",
       "</div>"
      ],
      "text/plain": [
       "                                            Symptoms  \\\n",
       "0  [chest tightness, palpitations, ventricular ec...   \n",
       "1  [chest tightness, palpitations, ventricular ec...   \n",
       "2  [chest tightness, palpitations, ventricular ec...   \n",
       "3  [chest tightness, palpitations, ventricular ec...   \n",
       "4  [chest tightness, palpitations, ventricular ec...   \n",
       "\n",
       "                                            Diseases      id  \\\n",
       "0  [aortic valve fibroelastoma, GERD, Basal Cell ...  109136   \n",
       "1  [aortic valve fibroelastoma, GERD, Basal Cell ...  109136   \n",
       "2  [aortic valve fibroelastoma, GERD, Basal Cell ...  109136   \n",
       "3  [aortic valve fibroelastoma, GERD, Basal Cell ...  109136   \n",
       "4  [aortic valve fibroelastoma, GERD, Basal Cell ...  109136   \n",
       "\n",
       "                                          icd_9_desc  \\\n",
       "0  Benign neoplasm of heart,Obesity, unspecified,...   \n",
       "1  Benign neoplasm of heart,Obesity, unspecified,...   \n",
       "2  Benign neoplasm of heart,Obesity, unspecified,...   \n",
       "3  Benign neoplasm of heart,Obesity, unspecified,...   \n",
       "4  Benign neoplasm of heart,Obesity, unspecified,...   \n",
       "\n",
       "                                                text  \\\n",
       "0  CHIEF COMPLAINT: known aortic valve fibroelast...   \n",
       "1  CHIEF COMPLAINT: known aortic valve fibroelast...   \n",
       "2  CHIEF COMPLAINT: known aortic valve fibroelast...   \n",
       "3  CHIEF COMPLAINT: known aortic valve fibroelast...   \n",
       "4  CHIEF COMPLAINT: known aortic valve fibroelast...   \n",
       "\n",
       "                                          long_texts  \\\n",
       "0  Benign neoplasm of heart,Obesity, unspecified,...   \n",
       "1  Benign neoplasm of heart,Obesity, unspecified,...   \n",
       "2  Benign neoplasm of heart,Obesity, unspecified,...   \n",
       "3  Benign neoplasm of heart,Obesity, unspecified,...   \n",
       "4  Benign neoplasm of heart,Obesity, unspecified,...   \n",
       "\n",
       "                                         short_texts  \\\n",
       "0  Benign neoplasm heart,Obesity NOS,Angina pecto...   \n",
       "1  Benign neoplasm heart,Obesity NOS,Angina pecto...   \n",
       "2  Benign neoplasm heart,Obesity NOS,Angina pecto...   \n",
       "3  Benign neoplasm heart,Obesity NOS,Angina pecto...   \n",
       "4  Benign neoplasm heart,Obesity NOS,Angina pecto...   \n",
       "\n",
       "                                   discharge_summary short_codes  \n",
       "0  Admission Date:  [**2149-11-19**]             ...        2127  \n",
       "1  Admission Date:  [**2149-11-19**]             ...       27800  \n",
       "2  Admission Date:  [**2149-11-19**]             ...        4139  \n",
       "3  Admission Date:  [**2149-11-19**]             ...        2859  \n",
       "4  Admission Date:  [**2149-11-19**]             ...       53081  "
      ]
     },
     "execution_count": 184,
     "metadata": {},
     "output_type": "execute_result"
    }
   ],
   "source": [
    "df = merged_df.assign(short_codes=merged_df['short_codes'].str.split(',')).explode('short_codes').reset_index(drop =True)\n",
    "df.head()"
   ]
  },
  {
   "cell_type": "code",
   "execution_count": 185,
   "metadata": {},
   "outputs": [
    {
     "name": "stdout",
     "output_type": "stream",
     "text": [
      "<class 'pandas.core.frame.DataFrame'>\n",
      "RangeIndex: 655 entries, 0 to 654\n",
      "Data columns (total 10 columns):\n",
      " #   Column             Non-Null Count  Dtype \n",
      "---  ------             --------------  ----- \n",
      " 0   index              655 non-null    int64 \n",
      " 1   Symptoms           655 non-null    object\n",
      " 2   Diseases           655 non-null    object\n",
      " 3   id                 655 non-null    int64 \n",
      " 4   icd_9_desc         655 non-null    object\n",
      " 5   text               655 non-null    object\n",
      " 6   long_texts         655 non-null    object\n",
      " 7   short_texts        655 non-null    object\n",
      " 8   discharge_summary  655 non-null    object\n",
      " 9   short_codes        655 non-null    object\n",
      "dtypes: int64(2), object(8)\n",
      "memory usage: 51.3+ KB\n"
     ]
    }
   ],
   "source": [
    "id_counts = df['id'].value_counts()\n",
    "\n",
    "ids_with_count_5 = id_counts[id_counts == 5].index\n",
    "\n",
    "result_df = df[df['id'].isin(ids_with_count_5)].reset_index()\n",
    "\n",
    "result_df.info()\n",
    "               "
   ]
  },
  {
   "cell_type": "code",
   "execution_count": 179,
   "metadata": {},
   "outputs": [
    {
     "data": {
      "text/html": [
       "<div>\n",
       "<style scoped>\n",
       "    .dataframe tbody tr th:only-of-type {\n",
       "        vertical-align: middle;\n",
       "    }\n",
       "\n",
       "    .dataframe tbody tr th {\n",
       "        vertical-align: top;\n",
       "    }\n",
       "\n",
       "    .dataframe thead th {\n",
       "        text-align: right;\n",
       "    }\n",
       "</style>\n",
       "<table border=\"1\" class=\"dataframe\">\n",
       "  <thead>\n",
       "    <tr style=\"text-align: right;\">\n",
       "      <th></th>\n",
       "      <th>Symptoms</th>\n",
       "      <th>Diseases</th>\n",
       "      <th>id</th>\n",
       "      <th>icd_9_desc</th>\n",
       "      <th>text</th>\n",
       "      <th>long_texts</th>\n",
       "      <th>short_texts</th>\n",
       "      <th>discharge_summary</th>\n",
       "      <th>short_codes</th>\n",
       "    </tr>\n",
       "  </thead>\n",
       "  <tbody>\n",
       "    <tr>\n",
       "      <th>3</th>\n",
       "      <td>[worsening dysphagia, nasal congestion, fatigu...</td>\n",
       "      <td>[myasthenia gravis, left lower lobe pneumonia,...</td>\n",
       "      <td>152534</td>\n",
       "      <td>Myasthenia gravis with (acute) exacerbation,Pn...</td>\n",
       "      <td>CHIEF COMPLAINT: Worsening dysphagia.\\n\\nPRESE...</td>\n",
       "      <td>Myasthenia gravis with (acute) exacerbation,Pn...</td>\n",
       "      <td>Myasthna gravs w ac exac,Pneumonia, organism N...</td>\n",
       "      <td>Admission Date:  [**2170-7-11**]              ...</td>\n",
       "      <td>35801,486,2859,7921,311</td>\n",
       "    </tr>\n",
       "  </tbody>\n",
       "</table>\n",
       "</div>"
      ],
      "text/plain": [
       "                                            Symptoms  \\\n",
       "3  [worsening dysphagia, nasal congestion, fatigu...   \n",
       "\n",
       "                                            Diseases      id  \\\n",
       "3  [myasthenia gravis, left lower lobe pneumonia,...  152534   \n",
       "\n",
       "                                          icd_9_desc  \\\n",
       "3  Myasthenia gravis with (acute) exacerbation,Pn...   \n",
       "\n",
       "                                                text  \\\n",
       "3  CHIEF COMPLAINT: Worsening dysphagia.\\n\\nPRESE...   \n",
       "\n",
       "                                          long_texts  \\\n",
       "3  Myasthenia gravis with (acute) exacerbation,Pn...   \n",
       "\n",
       "                                         short_texts  \\\n",
       "3  Myasthna gravs w ac exac,Pneumonia, organism N...   \n",
       "\n",
       "                                   discharge_summary              short_codes  \n",
       "3  Admission Date:  [**2170-7-11**]              ...  35801,486,2859,7921,311  "
      ]
     },
     "execution_count": 179,
     "metadata": {},
     "output_type": "execute_result"
    }
   ],
   "source": [
    "merged_df[merged_df.id == 152534]"
   ]
  },
  {
   "cell_type": "code",
   "execution_count": 191,
   "metadata": {},
   "outputs": [],
   "source": [
    "df= result_df\n",
    "df= df.drop('index', axis =1)"
   ]
  },
  {
   "cell_type": "code",
   "execution_count": 192,
   "metadata": {},
   "outputs": [
    {
     "data": {
      "image/png": "[encoded data removed]",
      "text/plain": [
       "<Figure size 640x480 with 1 Axes>"
      ]
     },
     "metadata": {},
     "output_type": "display_data"
    }
   ],
   "source": [
    "import matplotlib.pyplot as plt\n",
    "plt.hist(df.id.value_counts(), bins =20)\n",
    "plt.xlabel('Number of ICD-9 codes associated to a patient')\n",
    "plt.ylabel('Count')\n",
    "plt.title('How many ICD-9 codes to be considered for prediction from each note? ')\n",
    "plt.show()"
   ]
  },
  {
   "cell_type": "code",
   "execution_count": 193,
   "metadata": {},
   "outputs": [
    {
     "name": "stdout",
     "output_type": "stream",
     "text": [
      "<class 'pandas.core.frame.DataFrame'>\n",
      "RangeIndex: 655 entries, 0 to 654\n",
      "Data columns (total 9 columns):\n",
      " #   Column             Non-Null Count  Dtype \n",
      "---  ------             --------------  ----- \n",
      " 0   Symptoms           655 non-null    object\n",
      " 1   Diseases           655 non-null    object\n",
      " 2   id                 655 non-null    int64 \n",
      " 3   icd_9_desc         655 non-null    object\n",
      " 4   text               655 non-null    object\n",
      " 5   long_texts         655 non-null    object\n",
      " 6   short_texts        655 non-null    object\n",
      " 7   discharge_summary  655 non-null    object\n",
      " 8   short_codes        655 non-null    object\n",
      "dtypes: int64(1), object(8)\n",
      "memory usage: 46.2+ KB\n"
     ]
    }
   ],
   "source": [
    "df.info()"
   ]
  },
  {
   "cell_type": "code",
   "execution_count": null,
   "metadata": {},
   "outputs": [],
   "source": []
  },
  {
   "cell_type": "code",
   "execution_count": 194,
   "metadata": {},
   "outputs": [
    {
     "name": "stdout",
     "output_type": "stream",
     "text": [
      "No. of Short Codes : 299\n"
     ]
    },
    {
     "data": {
      "text/html": [
       "<div>\n",
       "<style scoped>\n",
       "    .dataframe tbody tr th:only-of-type {\n",
       "        vertical-align: middle;\n",
       "    }\n",
       "\n",
       "    .dataframe tbody tr th {\n",
       "        vertical-align: top;\n",
       "    }\n",
       "\n",
       "    .dataframe thead th {\n",
       "        text-align: right;\n",
       "    }\n",
       "</style>\n",
       "<table border=\"1\" class=\"dataframe\">\n",
       "  <thead>\n",
       "    <tr style=\"text-align: right;\">\n",
       "      <th></th>\n",
       "      <th>id</th>\n",
       "      <th>03811</th>\n",
       "      <th>03842</th>\n",
       "      <th>04149</th>\n",
       "      <th>07030</th>\n",
       "      <th>07044</th>\n",
       "      <th>07054</th>\n",
       "      <th>1536</th>\n",
       "      <th>1550</th>\n",
       "      <th>1622</th>\n",
       "      <th>...</th>\n",
       "      <th>V4586</th>\n",
       "      <th>V4589</th>\n",
       "      <th>V5332</th>\n",
       "      <th>V5861</th>\n",
       "      <th>V5866</th>\n",
       "      <th>V5867</th>\n",
       "      <th>V5883</th>\n",
       "      <th>V6441</th>\n",
       "      <th>V707</th>\n",
       "      <th>V8801</th>\n",
       "    </tr>\n",
       "  </thead>\n",
       "  <tbody>\n",
       "    <tr>\n",
       "      <th>0</th>\n",
       "      <td>152534</td>\n",
       "      <td>0</td>\n",
       "      <td>0</td>\n",
       "      <td>0</td>\n",
       "      <td>0</td>\n",
       "      <td>0</td>\n",
       "      <td>0</td>\n",
       "      <td>0</td>\n",
       "      <td>0</td>\n",
       "      <td>0</td>\n",
       "      <td>...</td>\n",
       "      <td>0</td>\n",
       "      <td>0</td>\n",
       "      <td>0</td>\n",
       "      <td>0</td>\n",
       "      <td>0</td>\n",
       "      <td>0</td>\n",
       "      <td>0</td>\n",
       "      <td>0</td>\n",
       "      <td>0</td>\n",
       "      <td>0</td>\n",
       "    </tr>\n",
       "    <tr>\n",
       "      <th>1</th>\n",
       "      <td>152534</td>\n",
       "      <td>0</td>\n",
       "      <td>0</td>\n",
       "      <td>0</td>\n",
       "      <td>0</td>\n",
       "      <td>0</td>\n",
       "      <td>0</td>\n",
       "      <td>0</td>\n",
       "      <td>0</td>\n",
       "      <td>0</td>\n",
       "      <td>...</td>\n",
       "      <td>0</td>\n",
       "      <td>0</td>\n",
       "      <td>0</td>\n",
       "      <td>0</td>\n",
       "      <td>0</td>\n",
       "      <td>0</td>\n",
       "      <td>0</td>\n",
       "      <td>0</td>\n",
       "      <td>0</td>\n",
       "      <td>0</td>\n",
       "    </tr>\n",
       "    <tr>\n",
       "      <th>2</th>\n",
       "      <td>152534</td>\n",
       "      <td>0</td>\n",
       "      <td>0</td>\n",
       "      <td>0</td>\n",
       "      <td>0</td>\n",
       "      <td>0</td>\n",
       "      <td>0</td>\n",
       "      <td>0</td>\n",
       "      <td>0</td>\n",
       "      <td>0</td>\n",
       "      <td>...</td>\n",
       "      <td>0</td>\n",
       "      <td>0</td>\n",
       "      <td>0</td>\n",
       "      <td>0</td>\n",
       "      <td>0</td>\n",
       "      <td>0</td>\n",
       "      <td>0</td>\n",
       "      <td>0</td>\n",
       "      <td>0</td>\n",
       "      <td>0</td>\n",
       "    </tr>\n",
       "    <tr>\n",
       "      <th>3</th>\n",
       "      <td>152534</td>\n",
       "      <td>0</td>\n",
       "      <td>0</td>\n",
       "      <td>0</td>\n",
       "      <td>0</td>\n",
       "      <td>0</td>\n",
       "      <td>0</td>\n",
       "      <td>0</td>\n",
       "      <td>0</td>\n",
       "      <td>0</td>\n",
       "      <td>...</td>\n",
       "      <td>0</td>\n",
       "      <td>0</td>\n",
       "      <td>0</td>\n",
       "      <td>0</td>\n",
       "      <td>0</td>\n",
       "      <td>0</td>\n",
       "      <td>0</td>\n",
       "      <td>0</td>\n",
       "      <td>0</td>\n",
       "      <td>0</td>\n",
       "    </tr>\n",
       "    <tr>\n",
       "      <th>4</th>\n",
       "      <td>152534</td>\n",
       "      <td>0</td>\n",
       "      <td>0</td>\n",
       "      <td>0</td>\n",
       "      <td>0</td>\n",
       "      <td>0</td>\n",
       "      <td>0</td>\n",
       "      <td>0</td>\n",
       "      <td>0</td>\n",
       "      <td>0</td>\n",
       "      <td>...</td>\n",
       "      <td>0</td>\n",
       "      <td>0</td>\n",
       "      <td>0</td>\n",
       "      <td>0</td>\n",
       "      <td>0</td>\n",
       "      <td>0</td>\n",
       "      <td>0</td>\n",
       "      <td>0</td>\n",
       "      <td>0</td>\n",
       "      <td>0</td>\n",
       "    </tr>\n",
       "  </tbody>\n",
       "</table>\n",
       "<p>5 rows × 300 columns</p>\n",
       "</div>"
      ],
      "text/plain": [
       "       id  03811  03842  04149  07030  07044  07054  1536  1550  1622  ...  \\\n",
       "0  152534      0      0      0      0      0      0     0     0     0  ...   \n",
       "1  152534      0      0      0      0      0      0     0     0     0  ...   \n",
       "2  152534      0      0      0      0      0      0     0     0     0  ...   \n",
       "3  152534      0      0      0      0      0      0     0     0     0  ...   \n",
       "4  152534      0      0      0      0      0      0     0     0     0  ...   \n",
       "\n",
       "   V4586  V4589  V5332  V5861  V5866  V5867  V5883  V6441  V707  V8801  \n",
       "0      0      0      0      0      0      0      0      0     0      0  \n",
       "1      0      0      0      0      0      0      0      0     0      0  \n",
       "2      0      0      0      0      0      0      0      0     0      0  \n",
       "3      0      0      0      0      0      0      0      0     0      0  \n",
       "4      0      0      0      0      0      0      0      0     0      0  \n",
       "\n",
       "[5 rows x 300 columns]"
      ]
     },
     "execution_count": 194,
     "metadata": {},
     "output_type": "execute_result"
    }
   ],
   "source": [
    "all_short_codes = set(list(df.short_codes))\n",
    "print(f'No. of Short Codes : {len(set(all_short_codes))}')\n",
    "df_one_hot = pd.get_dummies(df, columns=['short_codes'])\n",
    "df_one_hot.columns = df_one_hot.columns.str.replace('short_codes_', '')\n",
    "df_one_hot = df_one_hot.drop(['Symptoms', 'Diseases','icd_9_desc', 'text', 'long_texts',\n",
    "       'short_texts', 'discharge_summary'], axis =1)\n",
    "df_one_hot = df_one_hot.astype(int)\n",
    "df_one_hot.head()"
   ]
  },
  {
   "cell_type": "code",
   "execution_count": 107,
   "metadata": {},
   "outputs": [],
   "source": [
    "# from tqdm import tqdm\n",
    "\n",
    "# def create_graph(parsed_data):\n",
    "#     with driver.session() as session:\n",
    "#         for symptom, diseases in tqdm(parsed_data.items()):\n",
    "#             for disease in diseases:\n",
    "#                 try:\n",
    "#                     # Symptom node\n",
    "#                     session.run(\"MERGE (s:Symptom {name: $name})\", name=symptom)\n",
    "                    \n",
    "#                     # Disease node\n",
    "#                     session.run(\"MERGE (d:Disease {name: $name})\", name=disease['disease'])\n",
    "                    \n",
    "#                     # Create a relationship between the symptom and disease with pos_weight\n",
    "#                     session.run(\"\"\"\n",
    "#                         MATCH (s:Symptom {name: $symptom}), (d:Disease {name: $disease})\n",
    "#                         MERGE (s)-[r:ASSOCIATED_WITH]->(d)\n",
    "#                         ON CREATE SET r.pos_weight = $pos_weight\n",
    "#                         ON MATCH SET r.pos_weight = $pos_weight\n",
    "#                     \"\"\", symptom=symptom, disease=disease['disease'], pos_weight=int(disease['pos_weight']))\n",
    "#                 except Exception as e:\n",
    "#                     print(f\"An error occurred: {e}\")\n",
    "\n",
    "# create_graph(parsed_data)"
   ]
  },
  {
   "cell_type": "code",
   "execution_count": 108,
   "metadata": {},
   "outputs": [],
   "source": [
    "def delete_all_data():\n",
    "    with driver.session() as session:\n",
    "        session.run(\"MATCH (n) DETACH DELETE n\")\n",
    "        print(\"All data has been deleted.\")\n",
    "\n",
    "# delete_all_data()"
   ]
  },
  {
   "cell_type": "code",
   "execution_count": 195,
   "metadata": {},
   "outputs": [],
   "source": [
    "\n",
    "\n",
    "def get_prioritized_relationships(symptom_names):\n",
    "    with driver.session() as session:\n",
    "        result = session.run(\"\"\"\n",
    "            MATCH (s:Symptom)-[r:ASSOCIATED_WITH]->(d:Disease)\n",
    "            WHERE s.name IN $symptoms\n",
    "            RETURN s.name AS symptom, d.description AS disease_name, d.name AS disease, r.pos_weight AS weight, r.euclidean_distance AS distance\n",
    "            ORDER BY r.pos_weight DESC, r.euclidean_distance ASC\n",
    "            LIMIT 50\n",
    "        \"\"\", symptoms=symptom_names)\n",
    "        \n",
    "        codes = []\n",
    "        codes_desc = {}\n",
    "        all_info = {}\n",
    "        for record in result:\n",
    "            # Print or store the disease name and code\n",
    "            codes.append(f\"Disease Name: {record['disease_name']}, ICD-9 code : {record['disease']}\")\n",
    "            codes_desc[f'{record[\"disease\"]}'] = record['disease_name']\n",
    "            all_info[f'{record[\"disease\"]}'] = [record['disease_name'], record['weight'],record['distance']]\n",
    "            \n",
    "        return codes, codes_desc, all_info\n",
    "\n",
    "\n",
    "def aug_and_gen(codes, symptom) : \n",
    "       \n",
    "#     kg_prompt = f\"\"\"\n",
    "# Given list is the most relevant diseases based on the symptom : {symptom}\n",
    "#     IMPORTANT : Don't return anything except the python list of ICD-9 codes\n",
    "#     IMPORTANT : Make sure the codes are in the provided list\n",
    "#     Your task is to use your knowledge base to identify the most relevant disease among them for the given symptom.\n",
    "#     Return the top 10 ICD-9 code mentioned in the text for the most relevant disease in python list format :\n",
    "#     [disease1_code, disease2_code, disease3_code,...]\n",
    "#     - return only the python list of ICD-9 codes, not even description \n",
    "#     - Make sure the codes are in the provided list of disease names and codes\n",
    "#     - Don't return anything except the python list of codes\n",
    "#     - Return the top 10 ICD-9 code \n",
    "# \"\"\"\n",
    "    prompt_start = \"\"\"You are an AI assistant tasked with identifying the top 5 most relevant ICD-9 codes for a given symptom, based on a provided list of disease names and codes.\n",
    "Symptom: {symptom}\"\"\"\n",
    "    kg_prompt = \"\"\"\n",
    "Relevant Disease Codes:\n",
    "<<<\n",
    "[disease1_code, disease2_code, disease3_code,...]\n",
    "Output the top 5 most relevant ICD-9 codes in the following format:\n",
    "[\n",
    "{disease1_code},\n",
    "{disease2_code},\n",
    "{disease3_code},\n",
    "{disease4_code},\n",
    "{disease5_code},\n",
    "]\n",
    "Return only the Python list of ICD-9 codes, not the descriptions\n",
    "Make sure the codes are in the provided list of disease names and codes\n",
    "Don't return anything except the Python list of codes\n",
    "Return the top 5 most relevant ICD-9 codes\"\"\"\n",
    "\n",
    "    model= \"open-mistral-nemo-2407\" \n",
    "    MISTRAL_API_KEY =  \"WRhxY4qx7jsun5iYThrdS3Dk4dubsjnV\"\n",
    "    client = MistralClient(api_key=MISTRAL_API_KEY)\n",
    "\n",
    "    prompt_template = prompt_start + kg_prompt + str(codes)\n",
    "\n",
    "    chat_response = client.chat(\n",
    "        model=model,\n",
    "        max_tokens=200,\n",
    "        temperature = 0.5,\n",
    "        messages=[ChatMessage(role=\"user\", content=prompt_template)])\n",
    "\n",
    "\n",
    "\n",
    "    return chat_response.choices[0].message.content\n",
    "\n",
    "def codes_n_desc(list_codes, results) : \n",
    "    \n",
    "    try : \n",
    "        five_codes = list_codes[2:-2].split(\"', '\")\n",
    "    except KeyError as s: \n",
    "        five_codes = list_codes[2:-2].split(\", \")\n",
    "    except : \n",
    "        \n",
    "        five_codes = list_codes[2:-2].split('\", \"')\n",
    "    \n",
    "    return [(i,results.get(i)) for i in five_codes]\n"
   ]
  },
  {
   "cell_type": "code",
   "execution_count": null,
   "metadata": {},
   "outputs": [],
   "source": [
    "from tqdm import tqdm\n",
    "\n",
    "rows_codes = {}\n",
    "not_matching_rows_codes = []\n",
    "for j,i in tqdm(merged_df.iterrows()) : \n",
    "    symptom = list(merged_df.iloc[j].Symptoms)\n",
    "    underweight, results, all_infos = get_prioritized_relationships(symptom)\n",
    "    if len(underweight) !=0:\n",
    "        list_codes = aug_and_gen(underweight, symptom)\n",
    "        codes_n_descs = codes_n_desc(list_codes, results)\n",
    "        # print(codes_n_descs)\n",
    "        rows_codes[j] = codes_n_descs\n",
    "    else : \n",
    "        print(f'Symptom {symptom} is not in the graph')\n",
    "        not_matching_rows_codes.append(j)\n",
    "\n",
    "    if j == 100 :\n",
    "        break"
   ]
  },
  {
   "cell_type": "code",
   "execution_count": 197,
   "metadata": {},
   "outputs": [
    {
     "data": {
      "text/plain": [
       "50"
      ]
     },
     "execution_count": 197,
     "metadata": {},
     "output_type": "execute_result"
    }
   ],
   "source": [
    "len(rows_codes.keys())"
   ]
  },
  {
   "cell_type": "code",
   "execution_count": null,
   "metadata": {},
   "outputs": [],
   "source": [
    "rows_codes"
   ]
  },
  {
   "cell_type": "markdown",
   "metadata": {},
   "source": [
    "## AUROC Calculation"
   ]
  },
  {
   "cell_type": "code",
   "execution_count": 199,
   "metadata": {},
   "outputs": [
    {
     "name": "stdout",
     "output_type": "stream",
     "text": [
      "['7802']\n",
      "1\n",
      "0.4983221476510067\n",
      "['4271', '7802']\n",
      "2\n",
      "0.4966442953020134\n",
      "[]\n",
      "3\n",
      "0.5\n",
      "[]\n",
      "4\n",
      "0.5\n",
      "['4271']\n",
      "5\n",
      "0.4983221476510067\n",
      "['4271']\n",
      "6\n",
      "0.4983221476510067\n",
      "[]\n",
      "7\n",
      "0.5\n",
      "[]\n",
      "9\n",
      "0.5\n",
      "[]\n",
      "11\n",
      "0.5\n",
      "['4260', '7802']\n",
      "13\n",
      "0.4966442953020134\n",
      "['7802']\n",
      "17\n",
      "0.4983221476510067\n",
      "[]\n",
      "19\n",
      "0.5\n",
      "['496']\n",
      "24\n",
      "0.4983221476510067\n",
      "['5770']\n",
      "27\n",
      "0.4983221476510067\n",
      "[]\n",
      "31\n",
      "0.5\n",
      "['4260', '7802']\n",
      "33\n",
      "0.4966442953020134\n",
      "['7802']\n",
      "34\n",
      "0.4983221476510067\n",
      "['4271', '7802']\n",
      "35\n",
      "0.4966442953020134\n",
      "['3485']\n",
      "37\n",
      "0.4983221476510067\n",
      "[]\n",
      "39\n",
      "0.5\n",
      "['2762']\n",
      "40\n",
      "0.4983221476510067\n",
      "[]\n",
      "41\n",
      "0.5\n",
      "[]\n",
      "42\n",
      "0.5\n",
      "[]\n",
      "44\n",
      "0.5\n",
      "['4271', '7802']\n",
      "48\n",
      "0.4966442953020134\n",
      "[]\n",
      "49\n",
      "0.5\n",
      "[]\n",
      "50\n",
      "0.5\n",
      "['3485']\n",
      "53\n",
      "0.4983221476510067\n",
      "[]\n",
      "58\n",
      "0.5\n",
      "['7802']\n",
      "59\n",
      "0.4983221476510067\n",
      "['4111', '4271', '412']\n",
      "62\n",
      "0.4949664429530201\n",
      "['496']\n",
      "63\n",
      "0.4983221476510067\n",
      "['7802', '4271', '412']\n",
      "64\n",
      "0.4949664429530201\n",
      "[]\n",
      "65\n",
      "0.5\n",
      "['5770']\n",
      "73\n",
      "0.4983221476510067\n",
      "[]\n",
      "75\n",
      "0.5\n",
      "[]\n",
      "77\n",
      "0.5\n",
      "[]\n",
      "78\n",
      "0.5\n",
      "[]\n",
      "79\n",
      "0.5\n",
      "[]\n",
      "80\n",
      "0.5\n",
      "['4271']\n",
      "81\n",
      "0.4983221476510067\n",
      "['5770']\n",
      "84\n",
      "0.4983221476510067\n",
      "[]\n",
      "86\n",
      "0.5\n",
      "['5770']\n",
      "88\n",
      "0.4983221476510067\n",
      "['4271']\n",
      "89\n",
      "0.4983221476510067\n",
      "[]\n",
      "92\n",
      "0.5\n",
      "['4271']\n",
      "93\n",
      "0.4983221476510067\n",
      "[]\n",
      "96\n",
      "0.5\n",
      "[]\n",
      "97\n",
      "0.5\n",
      "[]\n",
      "100\n",
      "0.5\n"
     ]
    }
   ],
   "source": [
    "auroc_list =[]\n",
    "for row_num, predicted_results in rows_codes.items() : \n",
    "\n",
    "    predicted_labels = [i for i,j in predicted_results]\n",
    "    # Whether predicted labels are there in the mimic test dataset or not\n",
    "    available_labels = [str(label) for label in predicted_labels if label in list(df_one_hot.columns)]\n",
    "    # df_one_hot[available_labels]\n",
    "    ## Creating a new dataframe with all 2k+ classes\n",
    "    df = pd.DataFrame(columns=list(df_one_hot.columns))\n",
    "    df.loc[0] = np.zeros(len(df.columns), dtype=int)\n",
    "    df = df.astype(int)\n",
    "    ## Adding +1 for the available labels\n",
    "    columns_to_increment = list(set(available_labels))\n",
    "    print(columns_to_increment)\n",
    "    df.loc[0, columns_to_increment] += 1\n",
    "    # # True labels \n",
    "    # y_true = [1, 0, 0]   \n",
    "    # # Predicted \n",
    "    # y_pred_prob = [1, 0,1]\n",
    "    # # macro-averaged AUROC\n",
    "    # auroc_macro = roc_auc_score(y_true, y_pred_prob, average='macro', multi_class='ovr')\n",
    "    # print(f\"Macro-Averaged AUROC: {auroc_macro:.3f}\")\n",
    "    ## mimic labels\n",
    "    print(row_num)\n",
    "    true = list(df_one_hot.iloc[row_num,1:])\n",
    "    ## knowledge graph predicted labels\n",
    "    pred = list(df.iloc[0,1:])\n",
    "    # print(true)\n",
    "    # print(pred)\n",
    "    auroc_macro = roc_auc_score(true, pred, average='macro', multi_class='ovr')\n",
    "    auroc_list.append(auroc_macro)\n",
    "    del df\n",
    "    print(auroc_macro)\n",
    "    "
   ]
  },
  {
   "cell_type": "code",
   "execution_count": 182,
   "metadata": {},
   "outputs": [
    {
     "data": {
      "text/plain": [
       "0.4995069627399322"
      ]
     },
     "execution_count": 182,
     "metadata": {},
     "output_type": "execute_result"
    }
   ],
   "source": [
    "np.mean(auroc_list)"
   ]
  },
  {
   "cell_type": "code",
   "execution_count": 97,
   "metadata": {},
   "outputs": [
    {
     "name": "stdout",
     "output_type": "stream",
     "text": [
      "<class 'pandas.core.frame.DataFrame'>\n",
      "RangeIndex: 6507 entries, 0 to 6506\n",
      "Columns: 485 entries, id to V851\n",
      "dtypes: int64(485)\n",
      "memory usage: 24.1 MB\n"
     ]
    }
   ],
   "source": [
    "df_one_hot.info()"
   ]
  },
  {
   "cell_type": "code",
   "execution_count": 114,
   "metadata": {},
   "outputs": [
    {
     "data": {
      "text/plain": [
       "['2127']"
      ]
     },
     "execution_count": 114,
     "metadata": {},
     "output_type": "execute_result"
    }
   ],
   "source": [
    "trueee = list(df_one_hot.iloc[3,1:])\n",
    "\n",
    "df_one_hot.columns[df_one_hot.iloc[0] == 1].tolist()"
   ]
  },
  {
   "cell_type": "code",
   "execution_count": 115,
   "metadata": {},
   "outputs": [
    {
     "data": {
      "text/plain": [
       "['2706', '2872', '340', '4271', '5641', '7282', '7804', '7831', '7962']"
      ]
     },
     "execution_count": 115,
     "metadata": {},
     "output_type": "execute_result"
    }
   ],
   "source": [
    "preddd = [str(label) for label in ['7282', '5641', '4271', '340', '7962', '7804', '7831', '2706', '2872'] if label in list(df_one_hot.columns)] \n",
    "\n",
    "df = pd.DataFrame(columns=list(df_one_hot.columns))\n",
    "df.loc[0] = np.zeros(len(df.columns), dtype=int)\n",
    "df = df.astype(int)\n",
    "columns_to_increment = list(set(preddd))\n",
    "df.loc[0, columns_to_increment] += 1\n",
    "\n",
    "pred_columns_with_one = df.columns[df.iloc[0] == 1].tolist()\n",
    "pred_columns_with_one"
   ]
  },
  {
   "cell_type": "code",
   "execution_count": 116,
   "metadata": {},
   "outputs": [],
   "source": [
    "preddddd = list(df.iloc[0,1:])"
   ]
  },
  {
   "cell_type": "code",
   "execution_count": 117,
   "metadata": {},
   "outputs": [
    {
     "data": {
      "text/plain": [
       "[0, 0, 0, 0, 0, 0, 0, 0, 0, 1]"
      ]
     },
     "execution_count": 117,
     "metadata": {},
     "output_type": "execute_result"
    }
   ],
   "source": [
    "len(trueee)\n",
    "sorted(trueee)[-10:]"
   ]
  },
  {
   "cell_type": "code",
   "execution_count": 78,
   "metadata": {},
   "outputs": [
    {
     "data": {
      "text/plain": [
       "484"
      ]
     },
     "execution_count": 78,
     "metadata": {},
     "output_type": "execute_result"
    }
   ],
   "source": [
    "len(preddddd)"
   ]
  },
  {
   "cell_type": "code",
   "execution_count": 79,
   "metadata": {},
   "outputs": [],
   "source": [
    "# pip install matplotlib"
   ]
  },
  {
   "cell_type": "code",
   "execution_count": 80,
   "metadata": {},
   "outputs": [
    {
     "data": {
      "text/plain": [
       "0.4906832298136646"
      ]
     },
     "execution_count": 80,
     "metadata": {},
     "output_type": "execute_result"
    }
   ],
   "source": [
    "auroc_macro = roc_auc_score(trueee, preddddd, average='macro', multi_class='ovr')\n",
    "auroc_macro"
   ]
  },
  {
   "cell_type": "code",
   "execution_count": 91,
   "metadata": {},
   "outputs": [],
   "source": [
    "import numpy as np\n",
    "from sklearn.metrics import roc_auc_score\n",
    "\n",
    "def roc_auc(y_true, y_pred_prob, average='macro', multi_class='ovo'):\n",
    "    \"\"\"\n",
    "    Calculate the macro-averaged ROC AUC score for a multi-class classification problem.\n",
    "    \n",
    "    Args:\n",
    "        y_true (list or numpy.ndarray): True labels, with values ranging from 0 to (num_classes - 1).\n",
    "        y_pred_prob (list or numpy.ndarray): Predicted probabilities for each class, in the format of a 2D array/list.\n",
    "        average (str, optional): Averaging method for the ROC AUC score. Can be 'macro', 'micro', or 'weighted'. Default is 'macro'.\n",
    "        multi_class (str, optional): Strategy for handling multi-class problems. Can be 'ovo' (one-vs-one) or 'ovr' (one-vs-rest). Default is 'ovo'.\n",
    "    \n",
    "    Returns:\n",
    "        float: The macro-averaged ROC AUC score.\n",
    "    \"\"\"\n",
    "    if isinstance(y_true, list):\n",
    "        y_true = np.array(y_true, dtype=int)\n",
    "    \n",
    "    return roc_auc_score(y_true=y_true, y_score=y_pred_prob, average='macro', multi_class='ovo')"
   ]
  },
  {
   "cell_type": "code",
   "execution_count": 96,
   "metadata": {},
   "outputs": [
    {
     "name": "stdout",
     "output_type": "stream",
     "text": [
      "Macro-Averaged AUROC: 0.250\n"
     ]
    }
   ],
   "source": [
    "# True labels \n",
    "y_true = [0,0,1,1]\n",
    "# Predicted \n",
    "y_pred_prob = [1, 1, 1, 0]\n",
    "# macro-averaged AUROC\n",
    "auroc_macro = roc_auc_score(y_true, y_pred_prob, average='macro', multi_class='ovo')\n",
    "print(f\"Macro-Averaged AUROC: {auroc_macro:.3f}\")"
   ]
  },
  {
   "cell_type": "code",
   "execution_count": 93,
   "metadata": {},
   "outputs": [
    {
     "name": "stdout",
     "output_type": "stream",
     "text": [
      "Macro-Averaged AUROC: 0.494\n"
     ]
    }
   ],
   "source": [
    "auroc_macro = roc_auc(y_true, y_pred_prob, average='macro', multi_class='ovr')\n",
    "print(f\"Macro-Averaged AUROC: {auroc_macro:.3f}\")"
   ]
  },
  {
   "cell_type": "code",
   "execution_count": 86,
   "metadata": {},
   "outputs": [
    {
     "name": "stdout",
     "output_type": "stream",
     "text": [
      "Macro-Averaged F1-Score: 0.496\n"
     ]
    }
   ],
   "source": [
    "from sklearn.metrics import f1_score\n",
    "f1_macro = f1_score(y_true, y_pred_prob, average='macro')\n",
    "\n",
    "print(f\"Macro-Averaged F1-Score: {f1_macro:.3f}\")"
   ]
  },
  {
   "cell_type": "code",
   "execution_count": 23,
   "metadata": {},
   "outputs": [],
   "source": [
    "# def create_fulltext_indexes():\n",
    "#     with driver.session() as session:\n",
    "#         session.run(\"CALL db.index.fulltext.createNodeIndex('SymptomIndex', ['Symptom'], ['name'])\")\n",
    "#         session.run(\"CALL db.index.fulltext.createNodeIndex('DiseaseIndex', ['Disease'], ['name'])\")\n",
    "\n",
    "# create_fulltext_indexes()"
   ]
  },
  {
   "cell_type": "code",
   "execution_count": 24,
   "metadata": {},
   "outputs": [],
   "source": [
    "# def search_symptoms(symptom_name):\n",
    "#     with driver.session() as session:\n",
    "#         result = session.run(\"\"\"\n",
    "#             CALL db.index.fulltext.queryNodes('SymptomIndex', $symptom_name+'~') YIELD node, score\n",
    "#             RETURN node.name AS name, score\n",
    "#             ORDER BY score DESC\n",
    "#         \"\"\", symptom_name=symptom_name)\n",
    "        \n",
    "#         return result.data()\n",
    "\n",
    "# def search_diseases(disease_name):\n",
    "#     with driver.session() as session:\n",
    "#         result = session.run(\"\"\"\n",
    "#             CALL db.index.fulltext.queryNodes('DiseaseIndex', $disease_name+'~') YIELD node, score\n",
    "#             RETURN node.name AS name, score\n",
    "#             ORDER BY score DESC\n",
    "#         \"\"\", disease_name=disease_name)\n",
    "        \n",
    "#         return result.data()\n",
    "\n",
    "# # Example usage\n",
    "# symptom_search_results = search_symptoms(\"underweight\")\n",
    "# disease_search_results = search_diseases(\"HIV\")\n",
    "# print(\"Symptom Search Results:\", symptom_search_results)\n",
    "# print(\"Disease Search Results:\", disease_search_results)\n"
   ]
  },
  {
   "cell_type": "code",
   "execution_count": 20,
   "metadata": {},
   "outputs": [],
   "source": [
    "# get_prioritized_relationships(\"underweight\")"
   ]
  },
  {
   "cell_type": "markdown",
   "metadata": {},
   "source": [
    "# Test Data Preprocessing"
   ]
  },
  {
   "cell_type": "code",
   "execution_count": 255,
   "metadata": {},
   "outputs": [],
   "source": []
  },
  {
   "cell_type": "code",
   "execution_count": 256,
   "metadata": {},
   "outputs": [
    {
     "data": {
      "text/html": [
       "<div>\n",
       "<style scoped>\n",
       "    .dataframe tbody tr th:only-of-type {\n",
       "        vertical-align: middle;\n",
       "    }\n",
       "\n",
       "    .dataframe tbody tr th {\n",
       "        vertical-align: top;\n",
       "    }\n",
       "\n",
       "    .dataframe thead th {\n",
       "        text-align: right;\n",
       "    }\n",
       "</style>\n",
       "<table border=\"1\" class=\"dataframe\">\n",
       "  <thead>\n",
       "    <tr style=\"text-align: right;\">\n",
       "      <th></th>\n",
       "      <th>Symptoms</th>\n",
       "      <th>Diseases</th>\n",
       "      <th>id</th>\n",
       "      <th>icd_9_desc</th>\n",
       "    </tr>\n",
       "  </thead>\n",
       "  <tbody>\n",
       "    <tr>\n",
       "      <th>0</th>\n",
       "      <td>[chest tightness, palpitations, ventricular ec...</td>\n",
       "      <td>[aortic valve fibroelastoma, GERD, Basal Cell ...</td>\n",
       "      <td>109136</td>\n",
       "      <td>Benign neoplasm of heart,Obesity, unspecified,...</td>\n",
       "    </tr>\n",
       "    <tr>\n",
       "      <th>1</th>\n",
       "      <td>[intermittent L-sided chest pressure, anterior...</td>\n",
       "      <td>[prostate ca s/p brachytherapy, PVD, h/o pancr...</td>\n",
       "      <td>193197</td>\n",
       "      <td>True posterior wall infarction, initial episod...</td>\n",
       "    </tr>\n",
       "    <tr>\n",
       "      <th>2</th>\n",
       "      <td>[palpitations, dizziness, shortness of breath,...</td>\n",
       "      <td>[mitral regurgitation, mitral stenosis, hypert...</td>\n",
       "      <td>157736</td>\n",
       "      <td>Mitral stenosis with insufficiency,Other chron...</td>\n",
       "    </tr>\n",
       "    <tr>\n",
       "      <th>3</th>\n",
       "      <td>[worsening dysphagia, nasal congestion, fatigu...</td>\n",
       "      <td>[myasthenia gravis, left lower lobe pneumonia,...</td>\n",
       "      <td>152534</td>\n",
       "      <td>Myasthenia gravis with (acute) exacerbation,Pn...</td>\n",
       "    </tr>\n",
       "    <tr>\n",
       "      <th>4</th>\n",
       "      <td>[severe abdominal pain, nausea, diaphoresis, c...</td>\n",
       "      <td>[colon cancer, hypertension, MI x 2, extensive...</td>\n",
       "      <td>119136</td>\n",
       "      <td>Other postoperative infection,Perforation of i...</td>\n",
       "    </tr>\n",
       "  </tbody>\n",
       "</table>\n",
       "</div>"
      ],
      "text/plain": [
       "                                            Symptoms  \\\n",
       "0  [chest tightness, palpitations, ventricular ec...   \n",
       "1  [intermittent L-sided chest pressure, anterior...   \n",
       "2  [palpitations, dizziness, shortness of breath,...   \n",
       "3  [worsening dysphagia, nasal congestion, fatigu...   \n",
       "4  [severe abdominal pain, nausea, diaphoresis, c...   \n",
       "\n",
       "                                            Diseases      id  \\\n",
       "0  [aortic valve fibroelastoma, GERD, Basal Cell ...  109136   \n",
       "1  [prostate ca s/p brachytherapy, PVD, h/o pancr...  193197   \n",
       "2  [mitral regurgitation, mitral stenosis, hypert...  157736   \n",
       "3  [myasthenia gravis, left lower lobe pneumonia,...  152534   \n",
       "4  [colon cancer, hypertension, MI x 2, extensive...  119136   \n",
       "\n",
       "                                          icd_9_desc  \n",
       "0  Benign neoplasm of heart,Obesity, unspecified,...  \n",
       "1  True posterior wall infarction, initial episod...  \n",
       "2  Mitral stenosis with insufficiency,Other chron...  \n",
       "3  Myasthenia gravis with (acute) exacerbation,Pn...  \n",
       "4  Other postoperative infection,Perforation of i...  "
      ]
     },
     "execution_count": 256,
     "metadata": {},
     "output_type": "execute_result"
    }
   ],
   "source": []
  },
  {
   "cell_type": "code",
   "execution_count": 257,
   "metadata": {},
   "outputs": [
    {
     "data": {
      "text/html": [
       "<div>\n",
       "<style scoped>\n",
       "    .dataframe tbody tr th:only-of-type {\n",
       "        vertical-align: middle;\n",
       "    }\n",
       "\n",
       "    .dataframe tbody tr th {\n",
       "        vertical-align: top;\n",
       "    }\n",
       "\n",
       "    .dataframe thead th {\n",
       "        text-align: right;\n",
       "    }\n",
       "</style>\n",
       "<table border=\"1\" class=\"dataframe\">\n",
       "  <thead>\n",
       "    <tr style=\"text-align: right;\">\n",
       "      <th></th>\n",
       "      <th>id</th>\n",
       "      <th>text</th>\n",
       "      <th>long_texts</th>\n",
       "      <th>short_texts</th>\n",
       "      <th>discharge_summary</th>\n",
       "      <th>short_codes</th>\n",
       "    </tr>\n",
       "  </thead>\n",
       "  <tbody>\n",
       "    <tr>\n",
       "      <th>0</th>\n",
       "      <td>116159</td>\n",
       "      <td>CHIEF COMPLAINT: Positive ETT\\n\\nPRESENT ILLNE...</td>\n",
       "      <td>Coronary atherosclerosis of native coronary ar...</td>\n",
       "      <td>Crnry athrscl natve vssl,Aortic valve disorder...</td>\n",
       "      <td>Admission Date:  [**2197-6-5**]              D...</td>\n",
       "      <td>414,424,287,600,272,401,412,427,443,V458</td>\n",
       "    </tr>\n",
       "    <tr>\n",
       "      <th>1</th>\n",
       "      <td>109813</td>\n",
       "      <td>CHIEF COMPLAINT: Repeated small bowel obstruct...</td>\n",
       "      <td>Nodular lymphoma, unspecified site, extranodal...</td>\n",
       "      <td>Ndlr lym unsp xtrndl org,Intestinal obstruct N...</td>\n",
       "      <td>Admission Date:  [**2165-12-19**]             ...</td>\n",
       "      <td>202,560,427,424,397,285,401,530</td>\n",
       "    </tr>\n",
       "    <tr>\n",
       "      <th>2</th>\n",
       "      <td>173128</td>\n",
       "      <td>CHIEF COMPLAINT: Visual changes and CT finding...</td>\n",
       "      <td>Intracerebral hemorrhage,Cerebral edema,Other ...</td>\n",
       "      <td>Intracerebral hemorrhage,Cerebral edema,Amyloi...</td>\n",
       "      <td>Admission Date:  [**2171-11-14**]             ...</td>\n",
       "      <td>431,348,277,599,368,781,784,401,788,272,437,493</td>\n",
       "    </tr>\n",
       "    <tr>\n",
       "      <th>3</th>\n",
       "      <td>179683</td>\n",
       "      <td>CHIEF COMPLAINT: 1. Aspiration pneumonia requi...</td>\n",
       "      <td>Injury to other intra-abdominal organs without...</td>\n",
       "      <td>Biliary tract injury-cl,Obstruction of bile du...</td>\n",
       "      <td>Admission Date:  [**2201-6-17**]              ...</td>\n",
       "      <td>868,576,518,902,997,276,E876,E849,V457,V105,V1...</td>\n",
       "    </tr>\n",
       "    <tr>\n",
       "      <th>4</th>\n",
       "      <td>117062</td>\n",
       "      <td>CHIEF COMPLAINT: \\n\\nPRESENT ILLNESS: The pati...</td>\n",
       "      <td>Acute myocardial infarction of anterolateral w...</td>\n",
       "      <td>AMI anterolateral, init,Cardiogenic shock,Atri...</td>\n",
       "      <td>Admission Date:  [**2130-10-4**]     Discharge...</td>\n",
       "      <td>410,785,427,458,294,401</td>\n",
       "    </tr>\n",
       "  </tbody>\n",
       "</table>\n",
       "</div>"
      ],
      "text/plain": [
       "       id                                               text  \\\n",
       "0  116159  CHIEF COMPLAINT: Positive ETT\\n\\nPRESENT ILLNE...   \n",
       "1  109813  CHIEF COMPLAINT: Repeated small bowel obstruct...   \n",
       "2  173128  CHIEF COMPLAINT: Visual changes and CT finding...   \n",
       "3  179683  CHIEF COMPLAINT: 1. Aspiration pneumonia requi...   \n",
       "4  117062  CHIEF COMPLAINT: \\n\\nPRESENT ILLNESS: The pati...   \n",
       "\n",
       "                                          long_texts  \\\n",
       "0  Coronary atherosclerosis of native coronary ar...   \n",
       "1  Nodular lymphoma, unspecified site, extranodal...   \n",
       "2  Intracerebral hemorrhage,Cerebral edema,Other ...   \n",
       "3  Injury to other intra-abdominal organs without...   \n",
       "4  Acute myocardial infarction of anterolateral w...   \n",
       "\n",
       "                                         short_texts  \\\n",
       "0  Crnry athrscl natve vssl,Aortic valve disorder...   \n",
       "1  Ndlr lym unsp xtrndl org,Intestinal obstruct N...   \n",
       "2  Intracerebral hemorrhage,Cerebral edema,Amyloi...   \n",
       "3  Biliary tract injury-cl,Obstruction of bile du...   \n",
       "4  AMI anterolateral, init,Cardiogenic shock,Atri...   \n",
       "\n",
       "                                   discharge_summary  \\\n",
       "0  Admission Date:  [**2197-6-5**]              D...   \n",
       "1  Admission Date:  [**2165-12-19**]             ...   \n",
       "2  Admission Date:  [**2171-11-14**]             ...   \n",
       "3  Admission Date:  [**2201-6-17**]              ...   \n",
       "4  Admission Date:  [**2130-10-4**]     Discharge...   \n",
       "\n",
       "                                         short_codes  \n",
       "0           414,424,287,600,272,401,412,427,443,V458  \n",
       "1                    202,560,427,424,397,285,401,530  \n",
       "2    431,348,277,599,368,781,784,401,788,272,437,493  \n",
       "3  868,576,518,902,997,276,E876,E849,V457,V105,V1...  \n",
       "4                            410,785,427,458,294,401  "
      ]
     },
     "execution_count": 257,
     "metadata": {},
     "output_type": "execute_result"
    }
   ],
   "source": []
  },
  {
   "cell_type": "code",
   "execution_count": 265,
   "metadata": {},
   "outputs": [
    {
     "name": "stdout",
     "output_type": "stream",
     "text": [
      "<class 'pandas.core.frame.DataFrame'>\n",
      "RangeIndex: 2686 entries, 0 to 2685\n",
      "Data columns (total 4 columns):\n",
      " #   Column      Non-Null Count  Dtype \n",
      "---  ------      --------------  ----- \n",
      " 0   Symptoms    2686 non-null   object\n",
      " 1   Diseases    2686 non-null   object\n",
      " 2   id          2686 non-null   int64 \n",
      " 3   icd_9_desc  2686 non-null   object\n",
      "dtypes: int64(1), object(3)\n",
      "memory usage: 84.1+ KB\n"
     ]
    }
   ],
   "source": []
  },
  {
   "cell_type": "code",
   "execution_count": 266,
   "metadata": {},
   "outputs": [
    {
     "data": {
      "text/html": [
       "<div>\n",
       "<style scoped>\n",
       "    .dataframe tbody tr th:only-of-type {\n",
       "        vertical-align: middle;\n",
       "    }\n",
       "\n",
       "    .dataframe tbody tr th {\n",
       "        vertical-align: top;\n",
       "    }\n",
       "\n",
       "    .dataframe thead th {\n",
       "        text-align: right;\n",
       "    }\n",
       "</style>\n",
       "<table border=\"1\" class=\"dataframe\">\n",
       "  <thead>\n",
       "    <tr style=\"text-align: right;\">\n",
       "      <th></th>\n",
       "      <th>Symptoms</th>\n",
       "      <th>Diseases</th>\n",
       "      <th>id</th>\n",
       "      <th>icd_9_desc</th>\n",
       "      <th>text</th>\n",
       "      <th>long_texts</th>\n",
       "      <th>short_texts</th>\n",
       "      <th>discharge_summary</th>\n",
       "      <th>short_codes</th>\n",
       "    </tr>\n",
       "  </thead>\n",
       "  <tbody>\n",
       "    <tr>\n",
       "      <th>0</th>\n",
       "      <td>[chest tightness, palpitations, ventricular ec...</td>\n",
       "      <td>[aortic valve fibroelastoma, GERD, Basal Cell ...</td>\n",
       "      <td>109136</td>\n",
       "      <td>Benign neoplasm of heart,Obesity, unspecified,...</td>\n",
       "      <td>CHIEF COMPLAINT: known aortic valve fibroelast...</td>\n",
       "      <td>Benign neoplasm of heart,Obesity, unspecified,...</td>\n",
       "      <td>Benign neoplasm heart,Obesity NOS,Angina pecto...</td>\n",
       "      <td>Admission Date:  [**2149-11-19**]             ...</td>\n",
       "      <td>212,278,413,285,530,V108,288,V853</td>\n",
       "    </tr>\n",
       "    <tr>\n",
       "      <th>1</th>\n",
       "      <td>[intermittent L-sided chest pressure, anterior...</td>\n",
       "      <td>[prostate ca s/p brachytherapy, PVD, h/o pancr...</td>\n",
       "      <td>193197</td>\n",
       "      <td>True posterior wall infarction, initial episod...</td>\n",
       "      <td>CHIEF COMPLAINT: intermittent L-sided chest pr...</td>\n",
       "      <td>True posterior wall infarction, initial episod...</td>\n",
       "      <td>True post infarct, init,Ac posthemorrhag anemi...</td>\n",
       "      <td>Admission Date:  [**2144-2-23**]              ...</td>\n",
       "      <td>410,285,414,443,V104,250</td>\n",
       "    </tr>\n",
       "    <tr>\n",
       "      <th>2</th>\n",
       "      <td>[palpitations, dizziness, shortness of breath,...</td>\n",
       "      <td>[mitral regurgitation, mitral stenosis, hypert...</td>\n",
       "      <td>157736</td>\n",
       "      <td>Mitral stenosis with insufficiency,Other chron...</td>\n",
       "      <td>CHIEF COMPLAINT: mitral regurgitation/stenosis...</td>\n",
       "      <td>Mitral stenosis with insufficiency,Other chron...</td>\n",
       "      <td>Mitral stenosis w insuff,Chr pulmon heart dis ...</td>\n",
       "      <td>Admission Date:  [**2197-10-10**]             ...</td>\n",
       "      <td>394,416,278,427,311,401,242</td>\n",
       "    </tr>\n",
       "    <tr>\n",
       "      <th>3</th>\n",
       "      <td>[worsening dysphagia, nasal congestion, fatigu...</td>\n",
       "      <td>[myasthenia gravis, left lower lobe pneumonia,...</td>\n",
       "      <td>152534</td>\n",
       "      <td>Myasthenia gravis with (acute) exacerbation,Pn...</td>\n",
       "      <td>CHIEF COMPLAINT: Worsening dysphagia.\\n\\nPRESE...</td>\n",
       "      <td>Myasthenia gravis with (acute) exacerbation,Pn...</td>\n",
       "      <td>Myasthna gravs w ac exac,Pneumonia, organism N...</td>\n",
       "      <td>Admission Date:  [**2170-7-11**]              ...</td>\n",
       "      <td>358,486,285,792,311</td>\n",
       "    </tr>\n",
       "    <tr>\n",
       "      <th>4</th>\n",
       "      <td>[severe abdominal pain, nausea, diaphoresis, c...</td>\n",
       "      <td>[colon cancer, hypertension, MI x 2, extensive...</td>\n",
       "      <td>119136</td>\n",
       "      <td>Other postoperative infection,Perforation of i...</td>\n",
       "      <td>CHIEF COMPLAINT: bilious output from drains fo...</td>\n",
       "      <td>Other postoperative infection,Perforation of i...</td>\n",
       "      <td>Other postop infection,Perforation of intestin...</td>\n",
       "      <td>Admission Date:  [**2105-8-13**]              ...</td>\n",
       "      <td>998,569,518,276,511,568,041,E878,V553,285,427,...</td>\n",
       "    </tr>\n",
       "  </tbody>\n",
       "</table>\n",
       "</div>"
      ],
      "text/plain": [
       "                                            Symptoms  \\\n",
       "0  [chest tightness, palpitations, ventricular ec...   \n",
       "1  [intermittent L-sided chest pressure, anterior...   \n",
       "2  [palpitations, dizziness, shortness of breath,...   \n",
       "3  [worsening dysphagia, nasal congestion, fatigu...   \n",
       "4  [severe abdominal pain, nausea, diaphoresis, c...   \n",
       "\n",
       "                                            Diseases      id  \\\n",
       "0  [aortic valve fibroelastoma, GERD, Basal Cell ...  109136   \n",
       "1  [prostate ca s/p brachytherapy, PVD, h/o pancr...  193197   \n",
       "2  [mitral regurgitation, mitral stenosis, hypert...  157736   \n",
       "3  [myasthenia gravis, left lower lobe pneumonia,...  152534   \n",
       "4  [colon cancer, hypertension, MI x 2, extensive...  119136   \n",
       "\n",
       "                                          icd_9_desc  \\\n",
       "0  Benign neoplasm of heart,Obesity, unspecified,...   \n",
       "1  True posterior wall infarction, initial episod...   \n",
       "2  Mitral stenosis with insufficiency,Other chron...   \n",
       "3  Myasthenia gravis with (acute) exacerbation,Pn...   \n",
       "4  Other postoperative infection,Perforation of i...   \n",
       "\n",
       "                                                text  \\\n",
       "0  CHIEF COMPLAINT: known aortic valve fibroelast...   \n",
       "1  CHIEF COMPLAINT: intermittent L-sided chest pr...   \n",
       "2  CHIEF COMPLAINT: mitral regurgitation/stenosis...   \n",
       "3  CHIEF COMPLAINT: Worsening dysphagia.\\n\\nPRESE...   \n",
       "4  CHIEF COMPLAINT: bilious output from drains fo...   \n",
       "\n",
       "                                          long_texts  \\\n",
       "0  Benign neoplasm of heart,Obesity, unspecified,...   \n",
       "1  True posterior wall infarction, initial episod...   \n",
       "2  Mitral stenosis with insufficiency,Other chron...   \n",
       "3  Myasthenia gravis with (acute) exacerbation,Pn...   \n",
       "4  Other postoperative infection,Perforation of i...   \n",
       "\n",
       "                                         short_texts  \\\n",
       "0  Benign neoplasm heart,Obesity NOS,Angina pecto...   \n",
       "1  True post infarct, init,Ac posthemorrhag anemi...   \n",
       "2  Mitral stenosis w insuff,Chr pulmon heart dis ...   \n",
       "3  Myasthna gravs w ac exac,Pneumonia, organism N...   \n",
       "4  Other postop infection,Perforation of intestin...   \n",
       "\n",
       "                                   discharge_summary  \\\n",
       "0  Admission Date:  [**2149-11-19**]             ...   \n",
       "1  Admission Date:  [**2144-2-23**]              ...   \n",
       "2  Admission Date:  [**2197-10-10**]             ...   \n",
       "3  Admission Date:  [**2170-7-11**]              ...   \n",
       "4  Admission Date:  [**2105-8-13**]              ...   \n",
       "\n",
       "                                         short_codes  \n",
       "0                  212,278,413,285,530,V108,288,V853  \n",
       "1                           410,285,414,443,V104,250  \n",
       "2                        394,416,278,427,311,401,242  \n",
       "3                                358,486,285,792,311  \n",
       "4  998,569,518,276,511,568,041,E878,V553,285,427,...  "
      ]
     },
     "execution_count": 266,
     "metadata": {},
     "output_type": "execute_result"
    }
   ],
   "source": []
  },
  {
   "cell_type": "code",
   "execution_count": 214,
   "metadata": {},
   "outputs": [
    {
     "name": "stdout",
     "output_type": "stream",
     "text": [
      "Macro-Averaged AUROC: 1.000\n"
     ]
    }
   ],
   "source": [
    "y_true = [0, 1, 2]  \n",
    "# Predicted \n",
    "y_pred_prob = [[1,0,0],[0,1,0],[0,0,1]]\n",
    "# macro-averaged AUROC\n",
    "auroc_macro = roc_auc_score(y_true, y_pred_prob, average='macro', multi_class='ovo')\n",
    "print(f\"Macro-Averaged AUROC: {auroc_macro:.3f}\")"
   ]
  },
  {
   "cell_type": "code",
   "execution_count": 219,
   "metadata": {},
   "outputs": [
    {
     "name": "stdout",
     "output_type": "stream",
     "text": [
      "Macro-Averaged AUROC: 0.500\n"
     ]
    }
   ],
   "source": [
    "y_true = [1, 0, 2]\n",
    "\n",
    "y_pred_prob = [[1, 0, 0],\n",
    "               [0, 1, 0],\n",
    "               [0, 0, 1]]\n",
    "\n",
    "\n",
    "y_pred_prob = np.array(y_pred_prob)\n",
    "\n",
    "\n",
    "auroc_macro = roc_auc_score(y_true, y_pred_prob, average='macro', multi_class='ovr')\n",
    "print(f\"Macro-Averaged AUROC: {auroc_macro:.3f}\")"
   ]
  }
 ],
 "metadata": {
  "kernelspec": {
   "display_name": "astro",
   "language": "python",
   "name": "python3"
  },
  "language_info": {
   "codemirror_mode": {
    "name": "ipython",
    "version": 3
   },
   "file_extension": ".py",
   "mimetype": "text/x-python",
   "name": "python",
   "nbconvert_exporter": "python",
   "pygments_lexer": "ipython3",
   "version": "3.12.3"
  }
 },
 "nbformat": 4,
 "nbformat_minor": 2
}
