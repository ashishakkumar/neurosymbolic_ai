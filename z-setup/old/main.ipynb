{
 "cells": [
  {
   "cell_type": "code",
   "execution_count": 5,
   "metadata": {},
   "outputs": [],
   "source": [
    "import os\n",
    "import torch\n",
    "from transformers import AutoTokenizer, AutoModelForCausalLM,BitsAndBytesConfig\n",
    "import bitsandbytes as bnb\n",
    "import gc\n",
    "from transformers import AutoTokenizer, AutoModelForCausalLM, pipeline\n",
    "import os\n",
    "import torch\n",
    "from transformers import AutoTokenizer, AutoModelForCausalLM, BitsAndBytesConfig, pipeline\n",
    "from datasets import Dataset\n",
    "import polars as pl\n",
    "import json\n",
    "from tqdm import tqdm\n",
    "import gc"
   ]
  },
  {
   "cell_type": "code",
   "execution_count": 6,
   "metadata": {},
   "outputs": [],
   "source": [
    "# del model\n",
    "torch.cuda.empty_cache()"
   ]
  },
  {
   "cell_type": "code",
   "execution_count": 7,
   "metadata": {},
   "outputs": [],
   "source": [
    "bnb_config = BitsAndBytesConfig(\n",
    "  load_in_4bit=True,\n",
    "   bnb_4bit_quant_type=\"nf4\",\n",
    "    bnb_4bit_compute_dtype=torch.bfloat16,\n",
    "    bnb_4bit_use_double_quant=True,\n",
    "    llm_int8_enable_fp32_cpu_offload=True)"
   ]
  },
  {
   "cell_type": "code",
   "execution_count": 8,
   "metadata": {},
   "outputs": [
    {
     "name": "stderr",
     "output_type": "stream",
     "text": [
      "/home/ashish/llama_inference/llama_env/lib/python3.10/site-packages/transformers/models/auto/tokenization_auto.py:785: FutureWarning: The `use_auth_token` argument is deprecated and will be removed in v5 of Transformers. Please use `token` instead.\n",
      "  warnings.warn(\n",
      "Loading checkpoint shards: 100%|██████████| 30/30 [06:23<00:00, 12.79s/it]\n"
     ]
    }
   ],
   "source": [
    "huggingface_token = '"YOUR_HF_TOKEN"'\n",
    "model_name = '/home/ashish/llama_inference/openBIOLLM'\n",
    "tokenizer = AutoTokenizer.from_pretrained(model_name, use_auth_token=huggingface_token)\n",
    "model = AutoModelForCausalLM.from_pretrained(\n",
    "    model_name,device_map='cuda:1', quantization_config= bnb_config)"
   ]
  },
  {
   "cell_type": "code",
   "execution_count": null,
   "metadata": {},
   "outputs": [],
   "source": [
    "sys_prompt = \"\"\"\n",
    "You are an AI assistant analyzing clinical admission notes from the MIMIC IV dataset. Focus on these key sections:\n",
    "\n",
    "1. Symptoms: Current physical or mental signs experienced by the patient.\n",
    "2. Diseases: Diagnoses and diseases the patient has as mentioned in the notes.\n",
    "3. Medications: List of medications the patient is taking or took as mentioned in the notes.\n",
    "\n",
    "Instructions:\n",
    "1. Carefully read the provided clinical admission note.\n",
    "2. Extract relevant information from each of the 5 key sections listed above, if present.\n",
    "3. Categorize the information into the corresponding sections in the JSON format.\n",
    "4. Present your analysis in this JSON format:\n",
    "\n",
    "{\n",
    "  \"Symptoms\": [],\n",
    "  \"Diseases\": [],\n",
    "  \"Medications\": []\n",
    "}\n",
    "\n",
    "Important:\n",
    "- Include all sections in the JSON, even if empty.\n",
    "- Include a disease or symptom only if the patient faced it, any negation of a condition shouldn't be included.\n",
    "- Put relevant phrases or terms in appropriate section arrays.\n",
    "- If a section is not present in the note, leave its array empty.\n",
    "- Extract key information concisely, focusing on medically relevant details.\n",
    "- Do NOT add any information that is not explicitly stated in the input text.\n",
    "\n",
    "\n",
    "Now, analyze and categorize the following clinical admission note using the specified JSON format:\n",
    "\"\"\""
   ]
  },
  {
   "cell_type": "code",
   "execution_count": null,
   "metadata": {},
   "outputs": [],
   "source": [
    "sys_prompt_other = \"\"\"\n",
    "You are an AI assistant analyzing clinical admission notes from the MIMIC IV dataset. Your task is to map symptoms mentioned in the notes to a list of provided diseases.\n",
    "\n",
    "Definition of a Symptom:\n",
    "A symptom is a physical or mental feature which is regarded as indicating a condition of disease, particularly such a feature that is apparent to the patient. Focus on current, active symptoms experienced by the patient.\n",
    "\n",
    "What NOT to Include as Symptoms:\n",
    "- Medical history (e.g., \"history of drug use\", \"smoking history\")\n",
    "- Family history\n",
    "- Test results or medical observations (e.g., \"hypoechoic lesion\")\n",
    "- Diagnoses or named conditions\n",
    "- Risk factors\n",
    "- Treatments or medications\n",
    "\n",
    "Instructions:\n",
    "1. You will be provided with a list of diseases.\n",
    "2. Carefully read the given clinical admission note.\n",
    "3. Identify all symptoms as defined above mentioned in the note.\n",
    "4. Map each symptom to relevant diseases from the provided list.\n",
    "5. REMOVE any diseases that contain the word \"unspecified\" in their name from the mapped results.\n",
    "6. Present your analysis in the following JSON format:\n",
    "\n",
    "{\n",
    "  \"symptom1\": [\"disease1\", \"disease2\", \"disease7\"],\n",
    "  \"symptom2\": [\"disease2\", \"disease3\", \"disease4\"],\n",
    "  \"symptom3\": [\"disease1\", \"disease3\", \"disease5\", \"disease6\"],\n",
    "  ...\n",
    "}\n",
    "\n",
    "Important:\n",
    "- Include a symptom ONLY if it meets the above definition, is explicitly mentioned in the note, AND maps to at least one disease from the provided list (after removing \"unspecified\" diseases).\n",
    "- Completely exclude any symptoms that don't map to any remaining diseases in the provided list.\n",
    "- Map each included symptom to ALL relevant diseases from the provided list, EXCEPT those containing \"unspecified\".\n",
    "- A disease can be associated with multiple symptoms and thus can appear multiple times in the output.\n",
    "- Do NOT include any diseases that don't have associated symptoms found in the note.\n",
    "- Do NOT add any diseases or symptoms that are not explicitly stated in the input text or disease list.\n",
    "- Keep disease names exactly as they appear in the provided list, without any modifications.\n",
    "- COMPLETELY REMOVE any diseases that contain the word \"unspecified\" in their name from the final output.\n",
    "- If removing \"unspecified\" diseases results in a symptom having no associated diseases, remove that symptom from the output as well.\n",
    "- Focus on extracting and mapping symptoms concisely, prioritizing medically relevant details.\n",
    "\n",
    "Now, analyze the following clinical admission note and map the symptoms to the provided list of diseases:\n",
    "\"\"\""
   ]
  },
  {
   "cell_type": "code",
   "execution_count": null,
   "metadata": {},
   "outputs": [],
   "source": [
    "prep_df = pl.read_csv('preprocessed.csv').to_pandas()"
   ]
  },
  {
   "cell_type": "code",
   "execution_count": null,
   "metadata": {},
   "outputs": [
    {
     "data": {
      "text/html": [
       "<div>\n",
       "<style scoped>\n",
       "    .dataframe tbody tr th:only-of-type {\n",
       "        vertical-align: middle;\n",
       "    }\n",
       "\n",
       "    .dataframe tbody tr th {\n",
       "        vertical-align: top;\n",
       "    }\n",
       "\n",
       "    .dataframe thead th {\n",
       "        text-align: right;\n",
       "    }\n",
       "</style>\n",
       "<table border=\"1\" class=\"dataframe\">\n",
       "  <thead>\n",
       "    <tr style=\"text-align: right;\">\n",
       "      <th></th>\n",
       "      <th></th>\n",
       "      <th>subject_id</th>\n",
       "      <th>hadm_id</th>\n",
       "      <th>icd_code</th>\n",
       "      <th>long_title</th>\n",
       "      <th>_duplicated_0</th>\n",
       "      <th>note_id</th>\n",
       "      <th>note_type</th>\n",
       "      <th>text</th>\n",
       "    </tr>\n",
       "  </thead>\n",
       "  <tbody>\n",
       "    <tr>\n",
       "      <th>0</th>\n",
       "      <td>0</td>\n",
       "      <td>10000032</td>\n",
       "      <td>22595853</td>\n",
       "      <td>5723, 78959, 5715, 07070, 496, 29680, 30981, V...</td>\n",
       "      <td>[Portal hypertension,  Other ascites,  Cirrhos...</td>\n",
       "      <td>0</td>\n",
       "      <td>10000032-DS-21</td>\n",
       "      <td>DS</td>\n",
       "      <td>\\nName:  ___                     Unit No:   _...</td>\n",
       "    </tr>\n",
       "    <tr>\n",
       "      <th>1</th>\n",
       "      <td>1</td>\n",
       "      <td>10000032</td>\n",
       "      <td>22841357</td>\n",
       "      <td>07071, 78959, 2875, 2761, 496, 5715, V08, 3051</td>\n",
       "      <td>[Unspecified viral hepatitis C with hepatic co...</td>\n",
       "      <td>1</td>\n",
       "      <td>10000032-DS-22</td>\n",
       "      <td>DS</td>\n",
       "      <td>\\nName:  ___                     Unit No:   _...</td>\n",
       "    </tr>\n",
       "    <tr>\n",
       "      <th>2</th>\n",
       "      <td>2</td>\n",
       "      <td>10000032</td>\n",
       "      <td>25742920</td>\n",
       "      <td>07054, 78959, V462, 5715, 2767, 2761, 496, V08...</td>\n",
       "      <td>[Chronic hepatitis C without mention of hepati...</td>\n",
       "      <td>3</td>\n",
       "      <td>10000032-DS-24</td>\n",
       "      <td>DS</td>\n",
       "      <td>\\nName:  ___                     Unit No:   _...</td>\n",
       "    </tr>\n",
       "    <tr>\n",
       "      <th>3</th>\n",
       "      <td>3</td>\n",
       "      <td>10000032</td>\n",
       "      <td>29079034</td>\n",
       "      <td>45829, 07044, 7994, 2761, 78959, 2767, 3051, V...</td>\n",
       "      <td>[Other iatrogenic hypotension,  Chronic hepati...</td>\n",
       "      <td>2</td>\n",
       "      <td>10000032-DS-23</td>\n",
       "      <td>DS</td>\n",
       "      <td>\\nName:  ___                     Unit No:   _...</td>\n",
       "    </tr>\n",
       "    <tr>\n",
       "      <th>4</th>\n",
       "      <td>4</td>\n",
       "      <td>10000084</td>\n",
       "      <td>23052089</td>\n",
       "      <td>G3183, F0280, R441, R296, E785, Z8546</td>\n",
       "      <td>[Neurocognitive disorder with Lewy bodies,  De...</td>\n",
       "      <td>4</td>\n",
       "      <td>10000084-DS-17</td>\n",
       "      <td>DS</td>\n",
       "      <td>\\nName:  ___                    Unit No:   __...</td>\n",
       "    </tr>\n",
       "  </tbody>\n",
       "</table>\n",
       "</div>"
      ],
      "text/plain": [
       "      subject_id   hadm_id                                           icd_code  \\\n",
       "0  0    10000032  22595853  5723, 78959, 5715, 07070, 496, 29680, 30981, V...   \n",
       "1  1    10000032  22841357     07071, 78959, 2875, 2761, 496, 5715, V08, 3051   \n",
       "2  2    10000032  25742920  07054, 78959, V462, 5715, 2767, 2761, 496, V08...   \n",
       "3  3    10000032  29079034  45829, 07044, 7994, 2761, 78959, 2767, 3051, V...   \n",
       "4  4    10000084  23052089              G3183, F0280, R441, R296, E785, Z8546   \n",
       "\n",
       "                                          long_title  _duplicated_0  \\\n",
       "0  [Portal hypertension,  Other ascites,  Cirrhos...              0   \n",
       "1  [Unspecified viral hepatitis C with hepatic co...              1   \n",
       "2  [Chronic hepatitis C without mention of hepati...              3   \n",
       "3  [Other iatrogenic hypotension,  Chronic hepati...              2   \n",
       "4  [Neurocognitive disorder with Lewy bodies,  De...              4   \n",
       "\n",
       "          note_id note_type                                               text  \n",
       "0  10000032-DS-21        DS   \\nName:  ___                     Unit No:   _...  \n",
       "1  10000032-DS-22        DS   \\nName:  ___                     Unit No:   _...  \n",
       "2  10000032-DS-24        DS   \\nName:  ___                     Unit No:   _...  \n",
       "3  10000032-DS-23        DS   \\nName:  ___                     Unit No:   _...  \n",
       "4  10000084-DS-17        DS   \\nName:  ___                    Unit No:   __...  "
      ]
     },
     "execution_count": 36,
     "metadata": {},
     "output_type": "execute_result"
    }
   ],
   "source": [
    "prep_df['long_title'] = prep_df['long_title'].apply(lambda x : x.split(','))\n",
    "prep_df.head()\n",
    "\n"
   ]
  },
  {
   "cell_type": "code",
   "execution_count": null,
   "metadata": {},
   "outputs": [],
   "source": [
    "\n",
    "# text_generator = pipeline('text-generation', model=model, tokenizer=tokenizer)\n",
    "# failed_rows = []\n",
    "# limited_df = prep_df.head(1000)\n",
    "\n",
    "\n",
    "# for i, j in tqdm(limited_df.iterrows(), total=limited_df.shape[0], desc=\"Processing rows\"):\n",
    "#     notes = j.iloc[-1]\n",
    "#     long_title = j['long_title']\n",
    "\n",
    "#     messages = [\n",
    "#     {\"role\": \"system\", \"content\": f\"{sys_prompt_other}\"},\n",
    "#     {\"role\": \"user\", \"content\": f\"### Clinical text :\\n {notes} .### Diseases :\\n {long_title}\\n\"},]\n",
    "\n",
    "#     all_figures = text_generator(messages, max_new_tokens=500, num_return_sequences=1, temperature=0.1)[0]['generated_text'][-1]['content']\n",
    "#     gc.collect()\n",
    "#     torch.cuda.empty_cache()\n",
    "\n",
    "#     try:\n",
    "#         json_format = json.loads(all_figures)\n",
    "#         json_format['subject_id'] = j['subject_id']\n",
    "#         json_format['hadm_id'] = j['hadm_id']\n",
    "#         json_format['icd_10_exp'] = j['long_title']\n",
    "#         file_path = f\"samples/output_{j['subject_id']}_{j['hadm_id']}.json\"\n",
    "\n",
    "#         with open(file_path, 'w') as file:\n",
    "#             json.dump(json_format, file, indent=4)\n",
    "    \n",
    "#     except Exception as e:\n",
    "#         failed_rows.append((i, str(e)))\n",
    "#     gc.collect()\n",
    "\n",
    "# if failed_rows:\n",
    "#     print(\"Failed to process the following rows:\")\n",
    "#     for row in failed_rows:\n",
    "#         print(f\"Row index: {row[0]}, Error: {row[1]}\")"
   ]
  },
  {
   "cell_type": "code",
   "execution_count": null,
   "metadata": {},
   "outputs": [],
   "source": []
  },
  {
   "cell_type": "code",
   "execution_count": null,
   "metadata": {},
   "outputs": [],
   "source": [
    "import torch\n",
    "from tqdm import tqdm\n",
    "\n",
    "def clear_vram():\n",
    "    torch.cuda.empty_cache() \n",
    "    gc.collect()  \n",
    "text_generator = pipeline('text-generation', model=model, tokenizer=tokenizer)\n",
    "failed_rows = []\n",
    "limited_df = prep_df.head(1000)\n",
    "\n",
    "for i, j in tqdm(limited_df.iterrows(), total=limited_df.shape[0], desc=\"Processing rows\"):\n",
    "    notes = j.iloc[-1]\n",
    "    long_title = j['long_title']\n",
    "\n",
    "    messages = [\n",
    "        {\"role\": \"system\", \"content\": f\"{sys_prompt_other}\"},\n",
    "        {\"role\": \"user\", \"content\": f\"### Clinical text :\\n {notes} .### Diseases :\\n {long_title}\\n\"},\n",
    "    ]\n",
    "\n",
    "    with torch.no_grad():\n",
    "        try:\n",
    "            all_figures = text_generator(messages, max_new_tokens=500, num_return_sequences=1, temperature=0.1)[0]['generated_text'][-1]['content']\n",
    "            # Process your output here...\n",
    "\n",
    "        except RuntimeError as e:\n",
    "            if 'CUDA out of memory' in str(e):\n",
    "                print(\"Caught OOM error, attempting to clear VRAM...\")\n",
    "                clear_vram()  # Clear VRAM and try again if needed\n",
    "                continue  # Skip to the next iteration\n",
    "\n",
    "    # Clear VRAM after processing each row\n",
    "    clear_vram()\n",
    "\n",
    "    try:\n",
    "        json_format = json.loads(all_figures)\n",
    "        json_format['subject_id'] = j['subject_id']\n",
    "        json_format['hadm_id'] = j['hadm_id']\n",
    "        json_format['icd_10_exp'] = j['long_title']\n",
    "        file_path = f\"samples_symptoms/output_{j['subject_id']}_{j['hadm_id']}.json\"\n",
    "\n",
    "        with open(file_path, 'w') as file:\n",
    "            json.dump(json_format, file, indent=4)\n",
    "    \n",
    "    except Exception as e:\n",
    "        failed_rows.append((i, str(e)))\n",
    "\n",
    "    torch.cuda.empty_cache()\n",
    "\n",
    "if failed_rows:\n",
    "    print(\"Failed to process the following rows:\")\n",
    "    for row in failed_rows:\n",
    "        print(f\"Row index: {row[0]}, Error: {row[1]}\")\n"
   ]
  },
  {
   "cell_type": "code",
   "execution_count": null,
   "metadata": {},
   "outputs": [
    {
     "name": "stderr",
     "output_type": "stream",
     "text": [
      "huggingface/tokenizers: The current process just got forked, after parallelism has already been used. Disabling parallelism to avoid deadlocks...\n",
      "To disable this warning, you can either:\n",
      "\t- Avoid using `tokenizers` before the fork if possible\n",
      "\t- Explicitly set the environment variable TOKENIZERS_PARALLELISM=(true | false)\n"
     ]
    },
    {
     "name": "stdout",
     "output_type": "stream",
     "text": [
      "Mon Jul 29 18:49:37 2024       \n",
      "+---------------------------------------------------------------------------------------+\n",
      "| NVIDIA-SMI 545.23.08              Driver Version: 545.23.08    CUDA Version: 12.3     |\n",
      "|-----------------------------------------+----------------------+----------------------+\n",
      "| GPU  Name                 Persistence-M | Bus-Id        Disp.A | Volatile Uncorr. ECC |\n",
      "| Fan  Temp   Perf          Pwr:Usage/Cap |         Memory-Usage | GPU-Util  Compute M. |\n",
      "|                                         |                      |               MIG M. |\n",
      "|=========================================+======================+======================|\n",
      "|   0  NVIDIA L40                     On  | 00000000:17:00.0 Off |                    0 |\n",
      "| N/A   64C    P0             312W / 300W |  22642MiB / 46068MiB |    100%      Default |\n",
      "|                                         |                      |                  N/A |\n",
      "+-----------------------------------------+----------------------+----------------------+\n",
      "|   1  NVIDIA L40                     On  | 00000000:CA:00.0 Off |                    0 |\n",
      "| N/A   27C    P0              77W / 300W |  39400MiB / 46068MiB |      0%      Default |\n",
      "|                                         |                      |                  N/A |\n",
      "+-----------------------------------------+----------------------+----------------------+\n",
      "                                                                                         \n",
      "+---------------------------------------------------------------------------------------+\n",
      "| Processes:                                                                            |\n",
      "|  GPU   GI   CI        PID   Type   Process name                            GPU Memory |\n",
      "|        ID   ID                                                             Usage      |\n",
      "|=======================================================================================|\n",
      "|    0   N/A  N/A   2622201      C   ...lama_inference/llama_env/bin/python    22614MiB |\n",
      "|    1   N/A  N/A   2623120      C   ...lama_inference/llama_env/bin/python    39388MiB |\n",
      "+---------------------------------------------------------------------------------------+\n"
     ]
    }
   ],
   "source": [
    "!nvidia-smi"
   ]
  },
  {
   "cell_type": "markdown",
   "metadata": {},
   "source": [
    "### Preparing for structured extraction"
   ]
  },
  {
   "cell_type": "code",
   "execution_count": null,
   "metadata": {},
   "outputs": [],
   "source": [
    "fixed_prompt = (\n",
    "    \"You are an advanced medical diagnosis assistant designed to aid doctors in quickly identifying potential diseases based on patient symptoms. \"\n",
    "    \"Your task is to analyze the given symptom(s) and provide the top 5 most probable diseases, ranked by relevance. Utilize your extensive built-in medical knowledge base to inform your responses. Your analysis should be:\\n\"\n",
    "    \"1. Comprehensive: Consider all possible diseases related to the symptom(s) within your knowledge base, ensuring 100% recall to avoid missing any potentially fatal conditions.\\n\"\n",
    "    \"2. Precise: Provide accurate and relevant disease predictions based on established medical information.\\n\"\n",
    "    \"3. Unbiased: Offer fair and non-discriminatory diagnoses regardless of patient demographics.\\n\"\n",
    "    \"4. Informative: Include brief explanations for each disease prediction, referencing your built-in medical knowledge.\\n\"\n",
    "    \"5. Age-aware: Consider how symptoms may present differently or indicate different conditions based on the patient's age group (pediatric, adult, geriatric).\\n\"\n",
    "    \"6. Gender-specific: Take into account how certain conditions may be more prevalent in or exclusive to specific genders.\\n\"\n",
    "    \"7. Severity-conscious: Highlight any symptoms or combinations that could indicate a medical emergency.\\n\"\n",
    "    \"8. Comorbidity-aware: Consider how multiple symptoms might interact or indicate complex health situations.\\n\"\n",
    "    \"9. Prevalence-minded: Balance between common conditions and rare but serious diseases.\\n\"\n",
    "    \"10. Time-sensitive: Note if the duration or progression of symptoms is crucial for diagnosis.\\n\\n\"\n",
    "    \"Input: The user will provide one or more symptoms, and may include age and gender if available.\\n\\n\"\n",
    "    \"Output: Using your existing medical knowledge base, list the top 5 most probable diseases in order of relevance, with #1 being the most likely. For each disease, provide:\\n\"\n",
    "    \"- Disease name\\n\"\n",
    "    \"Additional considerations:\\n\"\n",
    "    \"- Draw exclusively from your built-in medical knowledge. Do not reference external sources or current events beyond your training data.\\n\"\n",
    "    \"- Prioritize patient safety by including any potentially severe conditions, even if they're less common.\\n\"\n",
    "    \"- If fewer than 5 diseases are probable based on your knowledge, only list those that are relevant.\\n\"\n",
    "    \"- Clearly state that this is an advisory tool based on your built-in knowledge, and final diagnosis should always be made by a qualified medical professional.\\n\"\n",
    "    \"- If critical information is missing (e.g., patient age for age-specific conditions), note this and how it might affect the diagnosis.\\n\\n\"\n",
    ")\n",
    "\n",
    "fixed_prompt = (\"\"\"You are an advanced medical diagnosis assistant designed to aid doctors in quickly identifying potential diseases based on patient symptoms. Your task is to analyze the given symptom(s) and provide the top 5 most probable diseases, ranked by relevance. Utilize your extensive built-in medical knowledge base to inform your responses. Your analysis should be:\n",
    "\n",
    "1. Comprehensive: Consider all possible diseases related to the symptom(s) within your knowledge base, ensuring 100% recall to avoid missing any potentially fatal conditions.\n",
    "2. Precise: Provide accurate and relevant disease predictions based on established medical information.\n",
    "3. Unbiased: Offer fair and non-discriminatory diagnoses regardless of patient demographics.\n",
    "4. Informative: Include brief explanations for each disease prediction, referencing your built-in medical knowledge.\n",
    "5. Age-aware: Consider how symptoms may present differently or indicate different conditions based on the patient's age group (pediatric, adult, geriatric).\n",
    "6. Gender-specific: Take into account how certain conditions may be more prevalent in or exclusive to specific genders.\n",
    "7. Severity-conscious: Highlight any symptoms or combinations that could indicate a medical emergency.\n",
    "8. Comorbidity-aware: Consider how multiple symptoms might interact or indicate complex health situations.\n",
    "9. Prevalence-minded: Balance between common conditions and rare but serious diseases.\n",
    "10. Time-sensitive: Note if the duration or progression of symptoms is crucial for diagnosis.\n",
    "\n",
    "IMPORTANT: Do not create your own inputs or outputs. Wait for the user to provide the input symptoms, age, and gender (if available). Only then should you provide your analysis based on that specific input.\n",
    "\n",
    "When given an input, respond in the following format:\n",
    "\n",
    "Input: [Repeat the exact input provided by the user]\n",
    "\n",
    "Based on the provided symptom(s) and my built-in medical knowledge base, here are the top probable diseases to consider, along with key points for each:\n",
    "\n",
    "1. [Disease Name 1]\n",
    "2. [Disease Name 2]\n",
    "\n",
    "[Continue with diseases 3-5 in the same format]\n",
    "Now, please wait for the user to provide an actual input before generating any analysis.\n",
    "\n",
    "                \n",
    "Example Input: fever, headache, 35-year-old male\n",
    "\n",
    "Example Output : \n",
    "                \n",
    "1. Influenza\n",
    "2. Meningitis\n",
    "3. COVID-19\n",
    "4. Malaria\n",
    "5. Sinusitis\n",
    "\n",
    "User Input : \n",
    "\"\"\")"
   ]
  },
  {
   "cell_type": "code",
   "execution_count": null,
   "metadata": {},
   "outputs": [],
   "source": [
    "prompt =\"\"\"You are a medical AI assistant. Your task is to extract symptoms from clinical notes and output them in a specific JSON format. Follow these steps exactly:\n",
    "\n",
    "1. Read the clinical notes carefully.\n",
    "2. Identify all symptoms, including both positive (present) and negative (absent) symptoms.\n",
    "3. Create a list of these symptoms in your mind.\n",
    "4. Do not write any explanatory text or notes.\n",
    "5. Start your response with the opening JSON bracket: {\n",
    "6. On the next line, write: \"symptoms\": [\n",
    "7. For each symptom in your mental list:\n",
    "   - Write the symptom as a quoted string\n",
    "   - Add a comma after each symptom except the last one\n",
    "8. Close the array with ]\n",
    "9. Close the JSON object with }\n",
    "\n",
    "Example of correct output:\n",
    "{\n",
    "  \"symptoms\": [\n",
    "    \"fever\",\n",
    "    \"cough\",\n",
    "    \"fatigue\",\n",
    "    \"no shortness of breath\"\n",
    "  ]\n",
    "}\n",
    "\n",
    "\"\"\""
   ]
  },
  {
   "cell_type": "code",
   "execution_count": null,
   "metadata": {},
   "outputs": [],
   "source": [
    "clinical_notes = \"\"\"Name: ___ Unit No: ___ Admission Date: ___ Discharge Date: ___ Date of Birth: ___ Sex: F Service: MEDICINE Allergies: No Known Allergies / Adverse Drug Reactions Attending: ___ Chief Complaint:Worsening ABD distension and pain Major Surgical or Invasive Procedure:Paracentesis History of Present Illness:___ HCV cirrhosis c/b ascites, hiv on ART, h/o IVDU, COPD, bioplar, PTSD, presented from OSH ED with worsening abd distension over past week. Pt reports self-discontinuing lasix and spirnolactone ___ weeks ago, because she feels like \"they don't do anything\" and that she \"doesn't want to put more chemicals in her.\" She does not follow Na-restricted diets. In the past week, she notes that she has been having worsening abd distension and discomfort. She denies ___ edema, or SOB, or orthopnea. She denies f/c/n/v, d/c, dysuria. She had food poisoning a week ago from eating stale cake (n/v 20 min after food ingestion), which resolved the same day. She denies other recent illness or sick contacts. She notes that she has been noticing gum bleeding while brushing her teeth in recent weeks. she denies easy bruising, melena, BRBPR, hemetesis, hemoptysis, or hematuria. Because of her abd pain, she went to OSH ED and was transferred to ___ for further care. Per ED report, pt has brief period of confusion - she did not recall the ultrasound or bloodwork at osh. She denies recent drug use or alcohol use. She denies feeling confused, but reports that she is forgetful at times. In the ED, initial vitals were 98.4 70 106/63 16 97%RA Labs notable for ALT/AST/AP ___ ___: ___, Tbili1.6, WBC 5K, platelet 77, INR 1.6 Past Medical History:1. HCV Cirrhosis 2. No history of abnormal Pap smears. 3. She had calcification in her breast, which was removed previously and per patient not, it was benign. 4. For HIV disease, she is being followed by Dr. ___ Dr. ___. 5. COPD 6. Past history of smoking. 7. She also had a skin lesion, which was biopsied and showed skin cancer per patient report and is scheduled for a complete removal of the skin lesion in ___ of this year. 8. She also had another lesion in her forehead with purple discoloration. It was biopsied to exclude the possibility of ___'s sarcoma, the results is pending. 9. A 15 mm hypoechoic lesion on her ultrasound on ___ and is being monitored by an MRI. 10. History of dysplasia of anus in ___. 11. Bipolar affective disorder, currently manic, mild, and PTSD. 12. History of cocaine and heroin use. Social History:___Family History:She a total of five siblings, but she is not talking to most of them. She only has one brother that she is in touch with and lives in ___. She is not aware of any known GI or liver disease in her family. Her last alcohol consumption was one drink two months ago. No regular alcohol consumption. Last drug use ___ years ago. She quit smoking a couple of years ago. Physical Exam:VS: 98.1 107/61 78 18 97RA General: in NAD HEENT: CTAB, anicteric sclera, OP clear Neck: supple, no LAD CV: RRR,S1S2, no m/r/g Lungs: CTAb, prolonged expiratory phase, no w/r/r Abdomen: distended, mild diffuse tenderness, +flank dullness, cannot percuss liver/spleen edge ___ distension GU: no foley Ext: wwp, no c/e/e, + clubbing Neuro: AAO3, converse normally, able to recall 3 times after 5 minutes, CN II-XII intact Discharge:PHYSICAL EXAMINATION: VS: 98 105/70 95General: in NAD HEENT: anicteric sclera, OP clear Neck: supple, no LAD CV: RRR,S1S2, no m/r/g Lungs: CTAb, prolonged expiratory phase, no w/r/r Abdomen: distended but improved, TTP in RUQ, GU: no foley Ext: wwp, no c/e/e, + clubbing Neuro: AAO3, CN II-XII intact Pertinent Results:___ 10:25PM GLUCOSE-109* UREA N-25* CREAT-0.3* SODIUM-138 POTASSIUM-3.4 CHLORIDE-105 TOTAL CO2-27 ANION GAP-9___ 10:25PM estGFR-Using this___ 10:25PM ALT(SGPT)-100* AST(SGOT)-114* ALK PHOS-114* TOT BILI-1.6*___ 10:25PM LIPASE-77*___ 10:25PM ALBUMIN-3.3*___ 10:25PM WBC-5.0# RBC-4.29 HGB-14.3 HCT-42.6 MCV-99* MCH-33.3* MCHC-33.5 RDW-15.7*___ 10:25PM NEUTS-70.3* LYMPHS-16.5* MONOS-8.1 EOS-4.2* BASOS-0.8___ 10:25PM PLT COUNT-71*___ 10:25PM ___ PTT-30.9 ______ 10:25PM ___.CXR: No acute cardiopulmonary process. U/S: 1. Nodular appearance of the liver compatible with cirrhosis. Signs of portal hypertension including small amount of ascites and splenomegaly. 2. Cholelithiasis. 3. Patent portal veins with normal hepatopetal flow. Diagnostic para attempted in the ED, unsuccessful. On the floor, pt c/o abd distension and discomfort. Brief Hospital Course:___ HCV cirrhosis c/b ascites, hiv on ART, h/o IVDU, COPD, bioplar, PTSD, presented from OSH ED with worsening abd distension over past week and confusion. # Ascites - p/w worsening abd distension and discomfort for last week. likely ___ portal HTN given underlying liver disease, though no ascitic fluid available on night of admission. No signs of heart failure noted on exam. This was ___ to med non-compliance and lack of diet restriction. SBP negativediuretics: > Furosemide 40 mg PO DAILY > Spironolactone 50 mg PO DAILY, chosen over the usual 100mg dose d/t K+ of 4.5. CXR was wnl, UA negative, Urine culture blood culture negative. Pt was losing excess fluid appropriately with stable lytes on the above regimen. Pt was scheduled with current PCP for ___ check upon discharge. Pt was scheduled for new PCP with Dr. ___ at ___ and follow up in Liver clinic to schedule outpatient screening EGD and ___. Medications on Admission:The Preadmission Medication list is accurate and complete.1. Furosemide 20 mg PO DAILY 2. Spironolactone 50 mg PO DAILY 3. Albuterol Inhaler 2 PUFF IH Q4H:PRN wheezing, SOB 4. Raltegravir 400 mg PO BID 5. Emtricitabine-Tenofovir (Truvada) 1 TAB PO DAILY 6. Nicotine Patch 14 mg TD DAILY 7. Ipratropium Bromide Neb 1 NEB IH Q6H SOB Discharge Medications:1. Albuterol Inhaler 2 PUFF IH Q4H:PRN wheezing, SOB 2. Emtricitabine-Tenofovir (Truvada) 1 TAB PO DAILY 3. Furosemide 40 mg PO DAILY RX *furosemide 40 mg 1 tablet(s) by mouth Daily Disp #*30 Tablet Refills:*34. Ipratropium Bromide Neb 1 NEB IH Q6H SOB 5. Nicotine Patch 14 mg TD DAILY 6. Raltegravir 400 mg PO BID 7. Spironolactone 50 mg PO DAILY 8. Acetaminophen 500 mg PO Q6H:PRN pain Discharge Disposition:Home Discharge Diagnosis:Ascites from Portal HTN Discharge Condition:Mental Status: Clear and coherent.Level of Consciousness: Alert and interactive.Activity Status: Ambulatory - Independent. Discharge Instructions:Dear Ms. ___,It was a pleasure taking care of you! You came to us with stomach pain and worsening distension. While you were here we did a paracentesis to remove 1.5L of fluid from your belly. We also placed you on you 40 mg of Lasix and 50 mg of Aldactone to help you urinate the excess fluid still in your belly. As we discussed, everyone has a different dose of lasix required to make them urinate and it's likely that you weren't taking a high enough dose. Please take these medications daily to keep excess fluid off and eat a low salt diet. You will follow up with Dr. ___ in liver clinic and from there have your colonoscopy and EGD scheduled. Of course, we are always here if you need us. We wish you all the best!Your ___ Team. Followup Instructions:___\"\"\"\n",
    "\n",
    "clinical_notes_2 = \"\"\"Name: ___ Unit No: ___ Admission Date: ___ Discharge Date: ___ Date of Birth: ___ Sex: F Service: MEDICINE Allergies: Percocet Attending: ___. Chief Complaint:abdominal fullness and discomfort Major Surgical or Invasive Procedure:___ diagnostic paracentesis___ therapeutic paracentesis History of Present Illness:___ with HIV on HAART, COPD, HCV cirrhosis complicated by ascites and HE admitted with abdominal distention and pain. She was admitted to ___ for the same symptoms recently and had 3L fluid removed (no SBP) three days ago and felt better. Since discharge, her abdomen has become increasingly distended with pain. This feels similar to prior episodes of ascites. Her diuretics were recently decreased on ___ due to worsening hyponatremia 128 and hyperkalemia 5.1. Patient states she has been compliant with her HIV and diuretic medications but never filled out the lactulose prescription. She states she has had ___ BMs daily at home. She has had some visual hallucinations and forgetfulness. Her appetite has been poor. In the ED, initial vitals were 98.9 88 116/88 18 97% RA. CBC near baseline, INR 1.4, Na 125, Cr 0.6. AST and ALT mildly above baseline 182 and 126 and albumin 2.8. Diagnostic para with 225 WBC, 7% PMN, total protein 0.3. UA with few bact, 6 WBC, mod leuk, neg nitr, but contaminated with 6 epi. CXR clear. RUQ US with no PV thrombus, moderate ascites. She was given ondansetron 4mg IV and morphine 2.5mg IV x1 in the ED. On the floor, she is feeling improved but still has abdominal distention and discomfort. ROS: +Abdominal distention and pain. No black/bloody stools. No ___ pain or swelling. No fevers or chills. Denies chest pain, nausea, vomiting. No dysuria or frequency. Past Medical History:1. HCV Cirrhosis 2. No history of abnormal Pap smears. 3. She had calcification in her breast, which was removed previously and per patient not, it was benign. 4. For HIV disease, she is being followed by Dr. ___ Dr. ___. 5. COPD 6. Past history of smoking. 7. She also had a skin lesion, which was biopsied and showed skin cancer per patient report and is scheduled for a complete removal of the skin lesion in ___ of this year. 8. She also had another lesion in her forehead with purple discoloration. It was biopsied to exclude the possibility of ___'s sarcoma, the results is pending. 9. A 15 mm hypoechoic lesion on her ultrasound on ___ and is being monitored by an MRI. 10. History of dysplasia of anus in ___. 11. Bipolar affective disorder, currently manic, mild, and PTSD. 12. History of cocaine and heroin use. Social History:___Family History:She a total of five siblings, but she is not talking to most of them. She only has one brother that she is in touch with and lives in ___. She is not aware of any known GI or liver disease in her family. Physical Exam:ADMISSION PHYSICAL EXAM: VS: T98.1 105/57 79 20 97RA 44.6kg GENERAL: Thin chronically ill appearing woman in no acute distress HEENT: Sclera anicteric, MMM, no oral lesions HEART: RRR, normal S1 S2, no murmurs LUNGS: Clear, no wheezes, rales, or rhonchi ABD: Significant distention with visible veins, bulging flanks, nontender to palpation, tympanitic on percussion, normal bowel sounds EXT: no ___ edema, 2+ DP and ___ pulses NEURO: alert and oriented, not confused, no asterixisDISCHARGE PE:VS: T 98.4 BP 95/55 (SBP ___ HR 80 RR 18 O2 95RA I/O 240/150 this am GENERAL: Thin chronically ill appearing woman in no acute distress HEENT: Sclera anicteric, MMM, no oral lesions HEART: RRR, normal S1 S2, no murmurs LUNGS: Clear, no wheezes, rales, or rhonchi ABD: Significant distention with visible veins, bulging flanks, nontender to palpation, tympanitic on percussion, normal bowel sounds EXT: no ___ edema, 2+ DP and ___ pulses NEURO: alert and oriented, not confused, no asterixis Pertinent Results:LABS ON ADMISSION:___ 04:10PM BLOOD ___ ___ Plt ______ 04:10PM BLOOD ___ ______ 04:10PM BLOOD ___ ______ 04:10PM BLOOD ___ ______ 04:10PM BLOOD ______ 04:39PM BLOOD ___LABS ON DISCHARGE:___ 05:10AM BLOOD ___ ___ Plt ______ 05:10AM BLOOD ___ ______ 05:10AM BLOOD ___ ______ 05:10AM BLOOD ___ ______ 05:10AM BLOOD ___MICRO:___ 10:39 pm URINE Source: ___. **FINAL REPORT ___ URINE CULTURE (Final ___: MIXED BACTERIAL FLORA ( >= 3 COLONY TYPES), CONSISTENT WITH SKIN AND/OR GENITAL CONTAMINATION. ___ 7:00 pm PERITONEAL FLUID PERITONEAL FLUID. GRAM STAIN (Final ___: 1+ (<1 per 1000X FIELD): POLYMORPHONUCLEAR LEUKOCYTES. NO MICROORGANISMS SEEN. This is a concentrated smear made by cytospin method, please refer to hematology for a quantitative white blood cell count.. FLUID CULTURE (Final ___: NO GROWTH. ANAEROBIC CULTURE (Preliminary): NO GROWTH.___ 7:00 pm PERITONEAL FLUID PERITONEAL FLUID. GRAM STAIN (Final ___: 1+ (<1 per 1000X FIELD): POLYMORPHONUCLEAR LEUKOCYTES. NO MICROORGANISMS SEEN. This is a concentrated smear made by cytospin method, please refer to hematology for a quantitative white blood cell count.. FLUID CULTURE (Final ___: NO GROWTH. ANAEROBIC CULTURE (Preliminary): NO GROWTH. Diagnositc Para:___ 07:00PM ASCITES ___ ______ 07:00PM ASCITES ___IMAGING:___ CXR- No acute cardiopulmonary abnormality. ___ RUQ US- 1. Extremely coarse and nodular liver echotexture consistent with a history of cirrhosis. 2. Moderate ascites. 3. Patent portal vein. Brief Hospital Course:___ with HIV on HAART, HCV cirrhosis with ascites and HE, h/o IVDU, COPD, bipolar disorder presents with abdominal discomfort due to ___ ascites. # ASCITES. Now diuretic refractory given last tap was three days ago with 3L removed and she has already built up moderate ascites. Infectious workup negative, with CXR clear, UA contaminated but not grossly positive so will f/u culture, diagnostic para with only 225 WBC, RUQ US with no PV thrombus. Compliant with diuretics but not following low sodium diet or fluid restriction. Dr. ___ discussed possible TIPS in the office but due to lung disease, that was on hold pending further cardiac evaluation. Diuretics were recently decreased due to hyponatremia and hyperkalemia. Held spironolactone for now due to K 5.2 and increased lasix 20 -> 40. No evidence of severe hyponatremia (Na<120) or renal failure Cr>2.0 to stop diuretics at present. Diagnostic paracentesis negative for infection. Ascitic total protein 0.3 so warrants SBP prophylaxis (<1.0) and fortunately already on Bactrim for PCP prophylaxis which would be appropriate for SBP ppx also. Patient did admit to eating pizza and some ___ food prior to admission. She had therapeutic paracentesis with 4.3L removed and received 37.5G albumin IV post procedure. She felt much better with resolution of abdominal discomfort. Patient is scheduled for repeat paracentesis as outpatient on ___. # HEPATIC ENCEPHALOPATHY. History of HE from Hep C cirrhosis. Now with mild encephalopathy (hallucinations and forgetfulness) due to medication noncompliance, but not acutely encephalopathic and without asterixis on exam. Infectious workup negative thus far. Continue lactulose 30mL TID and titrate to 3 BMs daily and continue rifaximin 550mg BID. # HYPONATREMIA. Na 125 on admission, 128 four days ago, and 135 one month ago. Likely due to third spacing from worsening ascites and fluid overload. 1.5L fluid restriction, low salt diet. S/p therapeutic paracentesis with albumin replacement.# CIRRHOSIS, HEPATITIS C. MELD score of 10 and Child's ___ class B on this admission. Now decompensated due to ascites. Hepatitis C genotype IIIB. Dr. ___ starting ___ and ___ with patient in clinic and the insurance process was started by her office. No history of EGD, needs this as outpatient for varices screening. # NUTRITION. Unclear if truly compliant with low salt diet. Poor oral intake. Low albumin 2.8 on admission. Met with nutrition. # COAGULOPATHY. INR 1.4 four days ago. No evidence of active bleeding. Very mild thrombocytopenia with plts 143. # HIV. Most recent CD4 173. On HAART. No established ID provider. Continue Truvada and Isentress, Bactrim DS daily for PCP ___. Needs outpatient ID appointment # COPD. Stable. States she is on intermittent home O2 for comfort at night and with abdominal distentiom. Continued home COPD meds and home O2 as needed **Transitional Issues**- Discontinued spironolactone ___ elevated potassium- Increased furosemide to 40mg daily- Please recheck electrolytes at next visit- Had paracentesis ___ with 4.3 L removed, received 37.5G albumin- Needs outpatient ID provider- ___ needs more frequent paracentesis Medications on Admission:The Preadmission Medication list is accurate and complete.1. Albuterol Inhaler 2 PUFF IH Q6H:PRN wheezing, SOB 2. ___ (Truvada) 1 TAB PO DAILY 3. Furosemide 20 mg PO DAILY 4. Raltegravir 400 mg PO BID 5. Spironolactone 50 mg PO DAILY 6. Acetaminophen 500 mg PO Q6H:PRN pain,fever 7. Tiotropium Bromide 1 CAP IH DAILY 8. Rifaximin 550 mg PO BID 9. Calcium Carbonate 1250 mg PO BID 10. Lactulose 15 mL PO TID 11. Sulfameth/Trimethoprim DS 1 TAB PO DAILY Discharge Medications:1. Acetaminophen 500 mg PO Q6H:PRN pain,fever 2. Albuterol Inhaler 2 PUFF IH Q6H:PRN wheezing, SOB 3. Calcium Carbonate 1250 mg PO BID 4. ___ (Truvada) 1 TAB PO DAILY 5. Furosemide 40 mg PO DAILY 6. Lactulose 15 mL PO TID 7. Raltegravir 400 mg PO BID 8. Rifaximin 550 mg PO BID 9. Sulfameth/Trimethoprim DS 1 TAB PO DAILY 10. Tiotropium Bromide 1 CAP IH DAILY Discharge Disposition:Home Discharge Diagnosis:Primary: diuretic refractory ascitesSecondary: HCV cirrhosis, HIV, hyponatremia, COPD Discharge Condition:Mental Status: Clear and coherent.Level of Consciousness: Alert and interactive.Activity Status: Ambulatory - Independent. Discharge Instructions:Dear ___,___ was a pleasure to take care of you at ___ ___. You were admitted with abdominal fullness and pain from your ascites. You had a diagnostic and therapeutic paracentesis with 4.3 L removed. Your spironolactone was discontinued because your potassium was high. Your lasix was increased to 40mg daily. You are scheduled for another paracentesis on ___ prior to your other appointments that day. Please call tomorrow to find out the time of the paracentesis. Please continue to follow a low sodium diet and fluid restriction. You should call your liver doctor or return to the emergency room if you have abdominal pain, fever, chills, confusion, or other concerning symptoms.Sincerely,Your ___ medical team Followup Instructions:___\"\"\""
   ]
  },
  {
   "cell_type": "code",
   "execution_count": null,
   "metadata": {},
   "outputs": [],
   "source": [
    "sys_prompt = \"\"\"\n",
    "You are an AI assistant analyzing clinical admission notes from the MIMIC IV dataset. Focus on these key sections:\n",
    "\n",
    "1. Symptoms: Current physical or mental signs experienced by the patient.\n",
    "2. Diseases: Diagnoses and diseases the patient has as mentioned in the notes.\n",
    "3. Medications: List of medications the patient is taking or took as mentioned in the notes.\n",
    "\n",
    "Instructions:\n",
    "1. Carefully read the provided clinical admission note.\n",
    "2. Extract relevant information from each of the 5 key sections listed above, if present.\n",
    "3. Categorize the information into the corresponding sections in the JSON format.\n",
    "4. Present your analysis in this JSON format:\n",
    "\n",
    "{\n",
    "  \"Symptoms\": [],\n",
    "  \"Diseases\": [],\n",
    "  \"Medications\": []\n",
    "}\n",
    "\n",
    "Important:\n",
    "- Include all sections in the JSON, even if empty.\n",
    "- Include a disease or symptom only if the patient faced it, any negation of a condition shouldn't be included.\n",
    "- Put relevant phrases or terms in appropriate section arrays.\n",
    "- If a section is not present in the note, leave its array empty.\n",
    "- Extract key information concisely, focusing on medically relevant details.\n",
    "- Do NOT add any information that is not explicitly stated in the input text.\n",
    "\n",
    "\n",
    "Now, analyze and categorize the following clinical admission note using the specified JSON format:\n",
    "\"\"\""
   ]
  },
  {
   "cell_type": "code",
   "execution_count": null,
   "metadata": {},
   "outputs": [],
   "source": [
    "sys_prompt_2"
   ]
  },
  {
   "cell_type": "code",
   "execution_count": null,
   "metadata": {},
   "outputs": [],
   "source": [
    "messages = [\n",
    "    {\"role\": \"system\", \"content\": f\"{sys_prompt}\"},\n",
    "    {\"role\": \"user\", \"content\": f\"### Clinical text :\\n {clinical_notes_2} .\\n\"},]"
   ]
  },
  {
   "cell_type": "code",
   "execution_count": null,
   "metadata": {},
   "outputs": [
    {
     "data": {
      "text/plain": [
       "[{'role': 'system',\n",
       "  'content': '\\nYou are an AI assistant analyzing clinical admission notes from the MIMIC IV dataset. Focus on these key sections:\\n\\n1. Symptoms: Current physical or mental signs experienced by the patient.\\n2. Diseases: Diagnoses and diseases the patient has as mentioned in the notes.\\n3. Medications: List of medications the patient is taking or took as mentioned in the notes.\\n\\nInstructions:\\n1. Carefully read the provided clinical admission note.\\n2. Extract relevant information from each of the 5 key sections listed above, if present.\\n3. Categorize the information into the corresponding sections in the JSON format.\\n4. Present your analysis in this JSON format:\\n\\n{\\n  \"Symptoms\": [],\\n  \"Diseases\": [],\\n  \"Medications\": []\\n}\\n\\nImportant:\\n- Include all sections in the JSON, even if empty.\\n- Include a disease or symptom only if the patient faced it, any negation of a condition shouldn\\'t be included.\\n- Put relevant phrases or terms in appropriate section arrays.\\n- If a section is not present in the note, leave its array empty.\\n- Extract key information concisely, focusing on medically relevant details.\\n- Do NOT add any information that is not explicitly stated in the input text.\\n\\n\\nNow, analyze and categorize the following clinical admission note using the specified JSON format:\\n'},\n",
       " {'role': 'user',\n",
       "  'content': \"### Clinical text :\\n Name: ___ Unit No: ___ Admission Date: ___ Discharge Date: ___ Date of Birth: ___ Sex: F Service: MEDICINE Allergies: Percocet Attending: ___. Chief Complaint:abdominal fullness and discomfort Major Surgical or Invasive Procedure:___ diagnostic paracentesis___ therapeutic paracentesis History of Present Illness:___ with HIV on HAART, COPD, HCV cirrhosis complicated by ascites and HE admitted with abdominal distention and pain. She was admitted to ___ for the same symptoms recently and had 3L fluid removed (no SBP) three days ago and felt better. Since discharge, her abdomen has become increasingly distended with pain. This feels similar to prior episodes of ascites. Her diuretics were recently decreased on ___ due to worsening hyponatremia 128 and hyperkalemia 5.1. Patient states she has been compliant with her HIV and diuretic medications but never filled out the lactulose prescription. She states she has had ___ BMs daily at home. She has had some visual hallucinations and forgetfulness. Her appetite has been poor. In the ED, initial vitals were 98.9 88 116/88 18 97% RA. CBC near baseline, INR 1.4, Na 125, Cr 0.6. AST and ALT mildly above baseline 182 and 126 and albumin 2.8. Diagnostic para with 225 WBC, 7% PMN, total protein 0.3. UA with few bact, 6 WBC, mod leuk, neg nitr, but contaminated with 6 epi. CXR clear. RUQ US with no PV thrombus, moderate ascites. She was given ondansetron 4mg IV and morphine 2.5mg IV x1 in the ED. On the floor, she is feeling improved but still has abdominal distention and discomfort. ROS: +Abdominal distention and pain. No black/bloody stools. No ___ pain or swelling. No fevers or chills. Denies chest pain, nausea, vomiting. No dysuria or frequency. Past Medical History:1. HCV Cirrhosis 2. No history of abnormal Pap smears. 3. She had calcification in her breast, which was removed previously and per patient not, it was benign. 4. For HIV disease, she is being followed by Dr. ___ Dr. ___. 5. COPD 6. Past history of smoking. 7. She also had a skin lesion, which was biopsied and showed skin cancer per patient report and is scheduled for a complete removal of the skin lesion in ___ of this year. 8. She also had another lesion in her forehead with purple discoloration. It was biopsied to exclude the possibility of ___'s sarcoma, the results is pending. 9. A 15 mm hypoechoic lesion on her ultrasound on ___ and is being monitored by an MRI. 10. History of dysplasia of anus in ___. 11. Bipolar affective disorder, currently manic, mild, and PTSD. 12. History of cocaine and heroin use. Social History:___Family History:She a total of five siblings, but she is not talking to most of them. She only has one brother that she is in touch with and lives in ___. She is not aware of any known GI or liver disease in her family. Physical Exam:ADMISSION PHYSICAL EXAM: VS: T98.1 105/57 79 20 97RA 44.6kg GENERAL: Thin chronically ill appearing woman in no acute distress HEENT: Sclera anicteric, MMM, no oral lesions HEART: RRR, normal S1 S2, no murmurs LUNGS: Clear, no wheezes, rales, or rhonchi ABD: Significant distention with visible veins, bulging flanks, nontender to palpation, tympanitic on percussion, normal bowel sounds EXT: no ___ edema, 2+ DP and ___ pulses NEURO: alert and oriented, not confused, no asterixisDISCHARGE PE:VS: T 98.4 BP 95/55 (SBP ___ HR 80 RR 18 O2 95RA I/O 240/150 this am GENERAL: Thin chronically ill appearing woman in no acute distress HEENT: Sclera anicteric, MMM, no oral lesions HEART: RRR, normal S1 S2, no murmurs LUNGS: Clear, no wheezes, rales, or rhonchi ABD: Significant distention with visible veins, bulging flanks, nontender to palpation, tympanitic on percussion, normal bowel sounds EXT: no ___ edema, 2+ DP and ___ pulses NEURO: alert and oriented, not confused, no asterixis Pertinent Results:LABS ON ADMISSION:___ 04:10PM BLOOD ___ ___ Plt ______ 04:10PM BLOOD ___ ______ 04:10PM BLOOD ___ ______ 04:10PM BLOOD ___ ______ 04:10PM BLOOD ______ 04:39PM BLOOD ___LABS ON DISCHARGE:___ 05:10AM BLOOD ___ ___ Plt ______ 05:10AM BLOOD ___ ______ 05:10AM BLOOD ___ ______ 05:10AM BLOOD ___ ______ 05:10AM BLOOD ___MICRO:___ 10:39 pm URINE Source: ___. **FINAL REPORT ___ URINE CULTURE (Final ___: MIXED BACTERIAL FLORA ( >= 3 COLONY TYPES), CONSISTENT WITH SKIN AND/OR GENITAL CONTAMINATION. ___ 7:00 pm PERITONEAL FLUID PERITONEAL FLUID. GRAM STAIN (Final ___: 1+ (<1 per 1000X FIELD): POLYMORPHONUCLEAR LEUKOCYTES. NO MICROORGANISMS SEEN. This is a concentrated smear made by cytospin method, please refer to hematology for a quantitative white blood cell count.. FLUID CULTURE (Final ___: NO GROWTH. ANAEROBIC CULTURE (Preliminary): NO GROWTH.___ 7:00 pm PERITONEAL FLUID PERITONEAL FLUID. GRAM STAIN (Final ___: 1+ (<1 per 1000X FIELD): POLYMORPHONUCLEAR LEUKOCYTES. NO MICROORGANISMS SEEN. This is a concentrated smear made by cytospin method, please refer to hematology for a quantitative white blood cell count.. FLUID CULTURE (Final ___: NO GROWTH. ANAEROBIC CULTURE (Preliminary): NO GROWTH. Diagnositc Para:___ 07:00PM ASCITES ___ ______ 07:00PM ASCITES ___IMAGING:___ CXR- No acute cardiopulmonary abnormality. ___ RUQ US- 1. Extremely coarse and nodular liver echotexture consistent with a history of cirrhosis. 2. Moderate ascites. 3. Patent portal vein. Brief Hospital Course:___ with HIV on HAART, HCV cirrhosis with ascites and HE, h/o IVDU, COPD, bipolar disorder presents with abdominal discomfort due to ___ ascites. # ASCITES. Now diuretic refractory given last tap was three days ago with 3L removed and she has already built up moderate ascites. Infectious workup negative, with CXR clear, UA contaminated but not grossly positive so will f/u culture, diagnostic para with only 225 WBC, RUQ US with no PV thrombus. Compliant with diuretics but not following low sodium diet or fluid restriction. Dr. ___ discussed possible TIPS in the office but due to lung disease, that was on hold pending further cardiac evaluation. Diuretics were recently decreased due to hyponatremia and hyperkalemia. Held spironolactone for now due to K 5.2 and increased lasix 20 -> 40. No evidence of severe hyponatremia (Na<120) or renal failure Cr>2.0 to stop diuretics at present. Diagnostic paracentesis negative for infection. Ascitic total protein 0.3 so warrants SBP prophylaxis (<1.0) and fortunately already on Bactrim for PCP prophylaxis which would be appropriate for SBP ppx also. Patient did admit to eating pizza and some ___ food prior to admission. She had therapeutic paracentesis with 4.3L removed and received 37.5G albumin IV post procedure. She felt much better with resolution of abdominal discomfort. Patient is scheduled for repeat paracentesis as outpatient on ___. # HEPATIC ENCEPHALOPATHY. History of HE from Hep C cirrhosis. Now with mild encephalopathy (hallucinations and forgetfulness) due to medication noncompliance, but not acutely encephalopathic and without asterixis on exam. Infectious workup negative thus far. Continue lactulose 30mL TID and titrate to 3 BMs daily and continue rifaximin 550mg BID. # HYPONATREMIA. Na 125 on admission, 128 four days ago, and 135 one month ago. Likely due to third spacing from worsening ascites and fluid overload. 1.5L fluid restriction, low salt diet. S/p therapeutic paracentesis with albumin replacement.# CIRRHOSIS, HEPATITIS C. MELD score of 10 and Child's ___ class B on this admission. Now decompensated due to ascites. Hepatitis C genotype IIIB. Dr. ___ starting ___ and ___ with patient in clinic and the insurance process was started by her office. No history of EGD, needs this as outpatient for varices screening. # NUTRITION. Unclear if truly compliant with low salt diet. Poor oral intake. Low albumin 2.8 on admission. Met with nutrition. # COAGULOPATHY. INR 1.4 four days ago. No evidence of active bleeding. Very mild thrombocytopenia with plts 143. # HIV. Most recent CD4 173. On HAART. No established ID provider. Continue Truvada and Isentress, Bactrim DS daily for PCP ___. Needs outpatient ID appointment # COPD. Stable. States she is on intermittent home O2 for comfort at night and with abdominal distentiom. Continued home COPD meds and home O2 as needed **Transitional Issues**- Discontinued spironolactone ___ elevated potassium- Increased furosemide to 40mg daily- Please recheck electrolytes at next visit- Had paracentesis ___ with 4.3 L removed, received 37.5G albumin- Needs outpatient ID provider- ___ needs more frequent paracentesis Medications on Admission:The Preadmission Medication list is accurate and complete.1. Albuterol Inhaler 2 PUFF IH Q6H:PRN wheezing, SOB 2. ___ (Truvada) 1 TAB PO DAILY 3. Furosemide 20 mg PO DAILY 4. Raltegravir 400 mg PO BID 5. Spironolactone 50 mg PO DAILY 6. Acetaminophen 500 mg PO Q6H:PRN pain,fever 7. Tiotropium Bromide 1 CAP IH DAILY 8. Rifaximin 550 mg PO BID 9. Calcium Carbonate 1250 mg PO BID 10. Lactulose 15 mL PO TID 11. Sulfameth/Trimethoprim DS 1 TAB PO DAILY Discharge Medications:1. Acetaminophen 500 mg PO Q6H:PRN pain,fever 2. Albuterol Inhaler 2 PUFF IH Q6H:PRN wheezing, SOB 3. Calcium Carbonate 1250 mg PO BID 4. ___ (Truvada) 1 TAB PO DAILY 5. Furosemide 40 mg PO DAILY 6. Lactulose 15 mL PO TID 7. Raltegravir 400 mg PO BID 8. Rifaximin 550 mg PO BID 9. Sulfameth/Trimethoprim DS 1 TAB PO DAILY 10. Tiotropium Bromide 1 CAP IH DAILY Discharge Disposition:Home Discharge Diagnosis:Primary: diuretic refractory ascitesSecondary: HCV cirrhosis, HIV, hyponatremia, COPD Discharge Condition:Mental Status: Clear and coherent.Level of Consciousness: Alert and interactive.Activity Status: Ambulatory - Independent. Discharge Instructions:Dear ___,___ was a pleasure to take care of you at ___ ___. You were admitted with abdominal fullness and pain from your ascites. You had a diagnostic and therapeutic paracentesis with 4.3 L removed. Your spironolactone was discontinued because your potassium was high. Your lasix was increased to 40mg daily. You are scheduled for another paracentesis on ___ prior to your other appointments that day. Please call tomorrow to find out the time of the paracentesis. Please continue to follow a low sodium diet and fluid restriction. You should call your liver doctor or return to the emergency room if you have abdominal pain, fever, chills, confusion, or other concerning symptoms.Sincerely,Your ___ medical team Followup Instructions:___ .\\n\"}]"
      ]
     },
     "execution_count": 160,
     "metadata": {},
     "output_type": "execute_result"
    }
   ],
   "source": [
    "messages"
   ]
  },
  {
   "cell_type": "code",
   "execution_count": null,
   "metadata": {},
   "outputs": [],
   "source": []
  },
  {
   "cell_type": "code",
   "execution_count": null,
   "metadata": {},
   "outputs": [
    {
     "data": {
      "text/plain": [
       "'You are a medical AI assistant. Your task is to extract symptoms from clinical notes and output them in a specific JSON format. Follow these steps exactly:\\n\\n1. Read the clinical notes carefully.\\n2. Identify all symptoms, including both positive (present) and negative (absent) symptoms.\\n3. Create a list of these symptoms in your mind.\\n4. Do not write any explanatory text or notes.\\n5. Start your response with the opening JSON bracket: {\\n6. On the next line, write: \"symptoms\": [\\n7. For each symptom in your mental list:\\n   - Write the symptom as a quoted string\\n   - Add a comma after each symptom except the last one\\n8. Close the array with ]\\n9. Close the JSON object with }\\n\\nExample of correct output:\\n{\\n  \"symptoms\": [\\n    \"fever\",\\n    \"cough\",\\n    \"fatigue\",\\n    \"no shortness of breath\"\\n  ]\\n}\\n\\nName: ___ Unit No: ___ Admission Date: ___ Discharge Date: ___ Date of Birth: ___ Sex: F Service: MEDICINE Allergies: No Known Allergies / Adverse Drug Reactions Attending: ___ Chief Complaint:Worsening ABD distension and pain Major Surgical or Invasive Procedure:Paracentesis History of Present Illness:___ HCV cirrhosis c/b ascites, hiv on ART, h/o IVDU, COPD, bioplar, PTSD, presented from OSH ED with worsening abd distension over past week. Pt reports self-discontinuing lasix and spirnolactone ___ weeks ago, because she feels like \"they don\\'t do anything\" and that she \"doesn\\'t want to put more chemicals in her.\" She does not follow Na-restricted diets. In the past week, she notes that she has been having worsening abd distension and discomfort. She denies ___ edema, or SOB, or orthopnea. She denies f/c/n/v, d/c, dysuria. She had food poisoning a week ago from eating stale cake (n/v 20 min after food ingestion), which resolved the same day. She denies other recent illness or sick contacts. She notes that she has been noticing gum bleeding while brushing her teeth in recent weeks. she denies easy bruising, melena, BRBPR, hemetesis, hemoptysis, or hematuria. Because of her abd pain, she went to OSH ED and was transferred to ___ for further care. Per ED report, pt has brief period of confusion - she did not recall the ultrasound or bloodwork at osh. She denies recent drug use or alcohol use. She denies feeling confused, but reports that she is forgetful at times. In the ED, initial vitals were 98.4 70 106/63 16 97%RA Labs notable for ALT/AST/AP ___ ___: ___, Tbili1.6, WBC 5K, platelet 77, INR 1.6 Past Medical History:1. HCV Cirrhosis 2. No history of abnormal Pap smears. 3. She had calcification in her breast, which was removed previously and per patient not, it was benign. 4. For HIV disease, she is being followed by Dr. ___ Dr. ___. 5. COPD 6. Past history of smoking. 7. She also had a skin lesion, which was biopsied and showed skin cancer per patient report and is scheduled for a complete removal of the skin lesion in ___ of this year. 8. She also had another lesion in her forehead with purple discoloration. It was biopsied to exclude the possibility of ___\\'s sarcoma, the results is pending. 9. A 15 mm hypoechoic lesion on her ultrasound on ___ and is being monitored by an MRI. 10. History of dysplasia of anus in ___. 11. Bipolar affective disorder, currently manic, mild, and PTSD. 12. History of cocaine and heroin use. Social History:___Family History:She a total of five siblings, but she is not talking to most of them. She only has one brother that she is in touch with and lives in ___. She is not aware of any known GI or liver disease in her family. Her last alcohol consumption was one drink two months ago. No regular alcohol consumption. Last drug use ___ years ago. She quit smoking a couple of years ago. Physical Exam:VS: 98.1 107/61 78 18 97RA General: in NAD HEENT: CTAB, anicteric sclera, OP clear Neck: supple, no LAD CV: RRR,S1S2, no m/r/g Lungs: CTAb, prolonged expiratory phase, no w/r/r Abdomen: distended, mild diffuse tenderness, +flank dullness, cannot percuss liver/spleen edge ___ distension GU: no foley Ext: wwp, no c/e/e, + clubbing Neuro: AAO3, converse normally, able to recall 3 times after 5 minutes, CN II-XII intact Discharge:PHYSICAL EXAMINATION: VS: 98 105/70 95General: in NAD HEENT: anicteric sclera, OP clear Neck: supple, no LAD CV: RRR,S1S2, no m/r/g Lungs: CTAb, prolonged expiratory phase, no w/r/r Abdomen: distended but improved, TTP in RUQ, GU: no foley Ext: wwp, no c/e/e, + clubbing Neuro: AAO3, CN II-XII intact Pertinent Results:___ 10:25PM GLUCOSE-109* UREA N-25* CREAT-0.3* SODIUM-138 POTASSIUM-3.4 CHLORIDE-105 TOTAL CO2-27 ANION GAP-9___ 10:25PM estGFR-Using this___ 10:25PM ALT(SGPT)-100* AST(SGOT)-114* ALK PHOS-114* TOT BILI-1.6*___ 10:25PM LIPASE-77*___ 10:25PM ALBUMIN-3.3*___ 10:25PM WBC-5.0# RBC-4.29 HGB-14.3 HCT-42.6 MCV-99* MCH-33.3* MCHC-33.5 RDW-15.7*___ 10:25PM NEUTS-70.3* LYMPHS-16.5* MONOS-8.1 EOS-4.2* BASOS-0.8___ 10:25PM PLT COUNT-71*___ 10:25PM ___ PTT-30.9 ______ 10:25PM ___.CXR: No acute cardiopulmonary process. U/S: 1. Nodular appearance of the liver compatible with cirrhosis. Signs of portal hypertension including small amount of ascites and splenomegaly. 2. Cholelithiasis. 3. Patent portal veins with normal hepatopetal flow. Diagnostic para attempted in the ED, unsuccessful. On the floor, pt c/o abd distension and discomfort. Brief Hospital Course:___ HCV cirrhosis c/b ascites, hiv on ART, h/o IVDU, COPD, bioplar, PTSD, presented from OSH ED with worsening abd distension over past week and confusion. # Ascites - p/w worsening abd distension and discomfort for last week. likely ___ portal HTN given underlying liver disease, though no ascitic fluid available on night of admission. No signs of heart failure noted on exam. This was ___ to med non-compliance and lack of diet restriction. SBP negativediuretics: > Furosemide 40 mg PO DAILY > Spironolactone 50 mg PO DAILY, chosen over the usual 100mg dose d/t K+ of 4.5. CXR was wnl, UA negative, Urine culture blood culture negative. Pt was losing excess fluid appropriately with stable lytes on the above regimen. Pt was scheduled with current PCP for ___ check upon discharge. Pt was scheduled for new PCP with Dr. ___ at ___ and follow up in Liver clinic to schedule outpatient screening EGD and ___. Medications on Admission:The Preadmission Medication list is accurate and complete.1. Furosemide 20 mg PO DAILY 2. Spironolactone 50 mg PO DAILY 3. Albuterol Inhaler 2 PUFF IH Q4H:PRN wheezing, SOB 4. Raltegravir 400 mg PO BID 5. Emtricitabine-Tenofovir (Truvada) 1 TAB PO DAILY 6. Nicotine Patch 14 mg TD DAILY 7. Ipratropium Bromide Neb 1 NEB IH Q6H SOB Discharge Medications:1. Albuterol Inhaler 2 PUFF IH Q4H:PRN wheezing, SOB 2. Emtricitabine-Tenofovir (Truvada) 1 TAB PO DAILY 3. Furosemide 40 mg PO DAILY RX *furosemide 40 mg 1 tablet(s) by mouth Daily Disp #*30 Tablet Refills:*34. Ipratropium Bromide Neb 1 NEB IH Q6H SOB 5. Nicotine Patch 14 mg TD DAILY 6. Raltegravir 400 mg PO BID 7. Spironolactone 50 mg PO DAILY 8. Acetaminophen 500 mg PO Q6H:PRN pain Discharge Disposition:Home Discharge Diagnosis:Ascites from Portal HTN Discharge Condition:Mental Status: Clear and coherent.Level of Consciousness: Alert and interactive.Activity Status: Ambulatory - Independent. Discharge Instructions:Dear Ms. ___,It was a pleasure taking care of you! You came to us with stomach pain and worsening distension. While you were here we did a paracentesis to remove 1.5L of fluid from your belly. We also placed you on you 40 mg of Lasix and 50 mg of Aldactone to help you urinate the excess fluid still in your belly. As we discussed, everyone has a different dose of lasix required to make them urinate and it\\'s likely that you weren\\'t taking a high enough dose. Please take these medications daily to keep excess fluid off and eat a low salt diet. You will follow up with Dr. ___ in liver clinic and from there have your colonoscopy and EGD scheduled. Of course, we are always here if you need us. We wish you all the best!Your ___ Team. Followup Instructions:___'"
      ]
     },
     "execution_count": 161,
     "metadata": {},
     "output_type": "execute_result"
    }
   ],
   "source": [
    "new_task = prompt + clinical_notes \n",
    "new_task"
   ]
  },
  {
   "cell_type": "markdown",
   "metadata": {},
   "source": [
    "### How many tokens ? "
   ]
  },
  {
   "cell_type": "code",
   "execution_count": 162,
   "metadata": {},
   "outputs": [
    {
     "data": {
      "text/plain": [
       "3258"
      ]
     },
     "execution_count": 162,
     "metadata": {},
     "output_type": "execute_result"
    }
   ],
   "source": [
    "tokens = tokenizer.tokenize(str(messages))\n",
    "num_tokens = len(tokens)\n",
    "num_tokens"
   ]
  },
  {
   "cell_type": "code",
   "execution_count": 163,
   "metadata": {},
   "outputs": [],
   "source": [
    "torch.cuda.empty_cache()"
   ]
  },
  {
   "cell_type": "code",
   "execution_count": 167,
   "metadata": {},
   "outputs": [],
   "source": [
    "temperature = 0.1\n",
    "text_generator = pipeline('text-generation', model=model, tokenizer=tokenizer)\n",
    "generated_text = text_generator(messages, max_new_tokens=500, num_return_sequences=1, temperature=temperature)\n",
    "gc.collect()\n",
    "torch.cuda.empty_cache()"
   ]
  },
  {
   "cell_type": "code",
   "execution_count": 168,
   "metadata": {},
   "outputs": [
    {
     "name": "stdout",
     "output_type": "stream",
     "text": [
      "{\n",
      "  \"Symptoms\": [\"abdominal fullness and discomfort\", \"visual hallucinations\", \"forgetfulness\", \"poor appetite\"],\n",
      "  \"Diseases\": [\"HIV\", \"HCV cirrhosis\", \"ascites\", \"HE\", \"COPD\", \"bipolar affective disorder\", \"PTSD\"],\n",
      "  \"Medications\": [\"Truvada\", \"Isentress\", \"Bactrim\", \"furosemide\", \"spironolactone\", \"lactulose\", \"rifaximin\", \"acetaminophen\", \"tiotropium bromide\", \"sulfameth/trimethoprim\"]\n",
      "}\n"
     ]
    }
   ],
   "source": [
    "print(generated_text[0]['generated_text'][-1]['content'])"
   ]
  },
  {
   "cell_type": "code",
   "execution_count": null,
   "metadata": {},
   "outputs": [],
   "source": [
    "# pip install datasets"
   ]
  },
  {
   "cell_type": "code",
   "execution_count": 1,
   "metadata": {},
   "outputs": [
    {
     "name": "stdout",
     "output_type": "stream",
     "text": [
      "Sun Jul 28 04:40:03 2024       \n",
      "+---------------------------------------------------------------------------------------+\n",
      "| NVIDIA-SMI 545.23.08              Driver Version: 545.23.08    CUDA Version: 12.3     |\n",
      "|-----------------------------------------+----------------------+----------------------+\n",
      "| GPU  Name                 Persistence-M | Bus-Id        Disp.A | Volatile Uncorr. ECC |\n",
      "| Fan  Temp   Perf          Pwr:Usage/Cap |         Memory-Usage | GPU-Util  Compute M. |\n",
      "|                                         |                      |               MIG M. |\n",
      "|=========================================+======================+======================|\n",
      "|   0  NVIDIA L40                     On  | 00000000:17:00.0 Off |                    0 |\n",
      "| N/A   20C    P8              34W / 300W |      4MiB / 46068MiB |      0%      Default |\n",
      "|                                         |                      |                  N/A |\n",
      "+-----------------------------------------+----------------------+----------------------+\n",
      "|   1  NVIDIA L40                     On  | 00000000:CA:00.0 Off |                    0 |\n",
      "| N/A   21C    P8              34W / 300W |      4MiB / 46068MiB |      0%      Default |\n",
      "|                                         |                      |                  N/A |\n",
      "+-----------------------------------------+----------------------+----------------------+\n",
      "                                                                                         \n",
      "+---------------------------------------------------------------------------------------+\n",
      "| Processes:                                                                            |\n",
      "|  GPU   GI   CI        PID   Type   Process name                            GPU Memory |\n",
      "|        ID   ID                                                             Usage      |\n",
      "|=======================================================================================|\n",
      "|  No running processes found                                                           |\n",
      "+---------------------------------------------------------------------------------------+\n"
     ]
    }
   ],
   "source": [
    "!nvidia-smi\n"
   ]
  },
  {
   "cell_type": "markdown",
   "metadata": {},
   "source": [
    "### Downloading the Model"
   ]
  },
  {
   "cell_type": "code",
   "execution_count": 114,
   "metadata": {},
   "outputs": [],
   "source": [
    "# from huggingface_hub import snapshot_download\n",
    "\n",
    "# snapshot_download(repo_id=\"aaditya/Llama3-OpenBioLLM-70B\", local_dir = 'openBIOLLM')"
   ]
  },
  {
   "cell_type": "code",
   "execution_count": 115,
   "metadata": {},
   "outputs": [],
   "source": [
    "import polars as pl"
   ]
  },
  {
   "cell_type": "code",
   "execution_count": 124,
   "metadata": {},
   "outputs": [],
   "source": [
    "prep_df = pl.read_csv('preprocessed.csv').to_pandas()"
   ]
  },
  {
   "cell_type": "code",
   "execution_count": 125,
   "metadata": {},
   "outputs": [
    {
     "name": "stdout",
     "output_type": "stream",
     "text": [
      "<class 'pandas.core.frame.DataFrame'>\n",
      "RangeIndex: 331604 entries, 0 to 331603\n",
      "Data columns (total 9 columns):\n",
      " #   Column         Non-Null Count   Dtype \n",
      "---  ------         --------------   ----- \n",
      " 0                  331604 non-null  int64 \n",
      " 1   subject_id     331604 non-null  int64 \n",
      " 2   hadm_id        331604 non-null  int64 \n",
      " 3   icd_code       331604 non-null  object\n",
      " 4   long_title     331604 non-null  object\n",
      " 5   _duplicated_0  331604 non-null  int64 \n",
      " 6   note_id        331604 non-null  object\n",
      " 7   note_type      331604 non-null  object\n",
      " 8   text           331604 non-null  object\n",
      "dtypes: int64(4), object(5)\n",
      "memory usage: 22.8+ MB\n"
     ]
    }
   ],
   "source": [
    "prep_df.info()"
   ]
  },
  {
   "cell_type": "code",
   "execution_count": 132,
   "metadata": {},
   "outputs": [
    {
     "data": {
      "text/html": [
       "<div>\n",
       "<style scoped>\n",
       "    .dataframe tbody tr th:only-of-type {\n",
       "        vertical-align: middle;\n",
       "    }\n",
       "\n",
       "    .dataframe tbody tr th {\n",
       "        vertical-align: top;\n",
       "    }\n",
       "\n",
       "    .dataframe thead th {\n",
       "        text-align: right;\n",
       "    }\n",
       "</style>\n",
       "<table border=\"1\" class=\"dataframe\">\n",
       "  <thead>\n",
       "    <tr style=\"text-align: right;\">\n",
       "      <th></th>\n",
       "      <th></th>\n",
       "      <th>subject_id</th>\n",
       "      <th>hadm_id</th>\n",
       "      <th>icd_code</th>\n",
       "      <th>long_title</th>\n",
       "      <th>_duplicated_0</th>\n",
       "      <th>note_id</th>\n",
       "      <th>note_type</th>\n",
       "      <th>text</th>\n",
       "    </tr>\n",
       "  </thead>\n",
       "  <tbody>\n",
       "    <tr>\n",
       "      <th>0</th>\n",
       "      <td>0</td>\n",
       "      <td>10000032</td>\n",
       "      <td>22595853</td>\n",
       "      <td>5723, 78959, 5715, 07070, 496, 29680, 30981, V...</td>\n",
       "      <td>Portal hypertension, Other ascites, Cirrhosis ...</td>\n",
       "      <td>0</td>\n",
       "      <td>10000032-DS-21</td>\n",
       "      <td>DS</td>\n",
       "      <td>\\nName:  ___                     Unit No:   _...</td>\n",
       "    </tr>\n",
       "    <tr>\n",
       "      <th>1</th>\n",
       "      <td>1</td>\n",
       "      <td>10000032</td>\n",
       "      <td>22841357</td>\n",
       "      <td>07071, 78959, 2875, 2761, 496, 5715, V08, 3051</td>\n",
       "      <td>Unspecified viral hepatitis C with hepatic com...</td>\n",
       "      <td>1</td>\n",
       "      <td>10000032-DS-22</td>\n",
       "      <td>DS</td>\n",
       "      <td>\\nName:  ___                     Unit No:   _...</td>\n",
       "    </tr>\n",
       "    <tr>\n",
       "      <th>2</th>\n",
       "      <td>2</td>\n",
       "      <td>10000032</td>\n",
       "      <td>25742920</td>\n",
       "      <td>07054, 78959, V462, 5715, 2767, 2761, 496, V08...</td>\n",
       "      <td>Chronic hepatitis C without mention of hepatic...</td>\n",
       "      <td>3</td>\n",
       "      <td>10000032-DS-24</td>\n",
       "      <td>DS</td>\n",
       "      <td>\\nName:  ___                     Unit No:   _...</td>\n",
       "    </tr>\n",
       "    <tr>\n",
       "      <th>3</th>\n",
       "      <td>3</td>\n",
       "      <td>10000032</td>\n",
       "      <td>29079034</td>\n",
       "      <td>45829, 07044, 7994, 2761, 78959, 2767, 3051, V...</td>\n",
       "      <td>Other iatrogenic hypotension, Chronic hepatiti...</td>\n",
       "      <td>2</td>\n",
       "      <td>10000032-DS-23</td>\n",
       "      <td>DS</td>\n",
       "      <td>\\nName:  ___                     Unit No:   _...</td>\n",
       "    </tr>\n",
       "    <tr>\n",
       "      <th>4</th>\n",
       "      <td>4</td>\n",
       "      <td>10000084</td>\n",
       "      <td>23052089</td>\n",
       "      <td>G3183, F0280, R441, R296, E785, Z8546</td>\n",
       "      <td>Neurocognitive disorder with Lewy bodies, Deme...</td>\n",
       "      <td>4</td>\n",
       "      <td>10000084-DS-17</td>\n",
       "      <td>DS</td>\n",
       "      <td>\\nName:  ___                    Unit No:   __...</td>\n",
       "    </tr>\n",
       "  </tbody>\n",
       "</table>\n",
       "</div>"
      ],
      "text/plain": [
       "      subject_id   hadm_id                                           icd_code  \\\n",
       "0  0    10000032  22595853  5723, 78959, 5715, 07070, 496, 29680, 30981, V...   \n",
       "1  1    10000032  22841357     07071, 78959, 2875, 2761, 496, 5715, V08, 3051   \n",
       "2  2    10000032  25742920  07054, 78959, V462, 5715, 2767, 2761, 496, V08...   \n",
       "3  3    10000032  29079034  45829, 07044, 7994, 2761, 78959, 2767, 3051, V...   \n",
       "4  4    10000084  23052089              G3183, F0280, R441, R296, E785, Z8546   \n",
       "\n",
       "                                          long_title  _duplicated_0  \\\n",
       "0  Portal hypertension, Other ascites, Cirrhosis ...              0   \n",
       "1  Unspecified viral hepatitis C with hepatic com...              1   \n",
       "2  Chronic hepatitis C without mention of hepatic...              3   \n",
       "3  Other iatrogenic hypotension, Chronic hepatiti...              2   \n",
       "4  Neurocognitive disorder with Lewy bodies, Deme...              4   \n",
       "\n",
       "          note_id note_type                                               text  \n",
       "0  10000032-DS-21        DS   \\nName:  ___                     Unit No:   _...  \n",
       "1  10000032-DS-22        DS   \\nName:  ___                     Unit No:   _...  \n",
       "2  10000032-DS-24        DS   \\nName:  ___                     Unit No:   _...  \n",
       "3  10000032-DS-23        DS   \\nName:  ___                     Unit No:   _...  \n",
       "4  10000084-DS-17        DS   \\nName:  ___                    Unit No:   __...  "
      ]
     },
     "execution_count": 132,
     "metadata": {},
     "output_type": "execute_result"
    }
   ],
   "source": [
    "prep_df.head()"
   ]
  },
  {
   "cell_type": "code",
   "execution_count": null,
   "metadata": {},
   "outputs": [],
   "source": [
    "inferred_text = {}"
   ]
  },
  {
   "cell_type": "code",
   "execution_count": null,
   "metadata": {},
   "outputs": [],
   "source": [
    "df_instance = pd.DataFrame()\n",
    "failed_rows = []"
   ]
  },
  {
   "cell_type": "code",
   "execution_count": 127,
   "metadata": {},
   "outputs": [],
   "source": [
    "import json\n",
    "from tqdm import tqdm"
   ]
  },
  {
   "cell_type": "code",
   "execution_count": 130,
   "metadata": {},
   "outputs": [],
   "source": []
  },
  {
   "cell_type": "code",
   "execution_count": null,
   "metadata": {},
   "outputs": [],
   "source": []
  },
  {
   "cell_type": "code",
   "execution_count": 174,
   "metadata": {},
   "outputs": [
    {
     "name": "stderr",
     "output_type": "stream",
     "text": [
      "Processing rows: 100%|██████████| 3/3 [01:07<00:00, 22.51s/it]\n"
     ]
    },
    {
     "ename": "",
     "evalue": "",
     "output_type": "error",
     "traceback": [
      "\u001b[1;31mThe Kernel crashed while executing code in the current cell or a previous cell. \n",
      "\u001b[1;31mPlease review the code in the cell(s) to identify a possible cause of the failure. \n",
      "\u001b[1;31mClick <a href='https://aka.ms/vscodeJupyterKernelCrash'>here</a> for more info. \n",
      "\u001b[1;31mView Jupyter <a href='command:jupyter.viewOutput'>log</a> for further details."
     ]
    }
   ],
   "source": [
    "failed_rows = []\n",
    "\n",
    "limited_df = prep_df.head(1000)\n",
    "\n",
    "for i, j in tqdm(limited_df.iterrows(), total=limited_df.shape[0], desc=\"Processing rows\"):\n",
    "\n",
    "    notes = j.iloc[-1]\n",
    "\n",
    "    messages = [\n",
    "    {\"role\": \"system\", \"content\": f\"{sys_prompt}\"},\n",
    "    {\"role\": \"user\", \"content\": f\"### Clinical text :\\n {notes} .\\n\"},]\n",
    "\n",
    "    all_figures = text_generator(messages, max_new_tokens=500, num_return_sequences=1, temperature=temperature)[0]['generated_text'][-1]['content']\n",
    "    \n",
    "    try:\n",
    "        json_format = json.loads(all_figures)\n",
    "        json_format['subject_id'] = j['subject_id']\n",
    "        json_format['hadm_id'] = j['hadm_id']\n",
    "        json_format['icd_10_exp'] = j['long_title']\n",
    "        file_path = f\"samples/output_{j['subject_id']}_{j['hadm_id']}.json\"\n",
    "\n",
    "        with open(file_path, 'w') as file:\n",
    "            json.dump(json_format, file, indent=4)\n",
    "    \n",
    "    except Exception as e:\n",
    "        failed_rows.append((i, str(e)))\n",
    "\n",
    "if failed_rows:\n",
    "    print(\"Failed to process the following rows:\")\n",
    "    for row in failed_rows:\n",
    "        print(f\"Row index: {row[0]}, Error: {row[1]}\")\n"
   ]
  },
  {
   "cell_type": "markdown",
   "metadata": {},
   "source": [
    "### Running a file in background (detached) : nohup python infer.py > output.log 2>&1 &\n",
    "\n",
    "- Full Command Breakdown\n",
    "\n",
    "- nohup: Ensures the process keeps running after you log out.\n",
    "\n",
    "- python your_script.py: Runs your Python script.\n",
    "\n",
    "- >: Redirects standard output to a file.\n",
    "\n",
    "- output.log: The file where both standard output and standard error will be written.\n",
    "\n",
    "- 2>&1: Redirects standard error to the same place as standard output (i.e., output.log).\n",
    "\n",
    "- &: Runs the command in the background.\n"
   ]
  },
  {
   "cell_type": "markdown",
   "metadata": {},
   "source": [
    "## Inference"
   ]
  },
  {
   "cell_type": "code",
   "execution_count": 48,
   "metadata": {},
   "outputs": [],
   "source": [
    "import json\n",
    "\n",
    "sys_prompt_2 = \"\"\"You are a medical AI. Given a list of symptoms, list the top 10 most probable diseases or conditions. Follow these steps:\n",
    "\n",
    "1. Review the provided symptoms.\n",
    "2. Identify likely diseases based on these symptoms.\n",
    "3. Rank diseases by probability.\n",
    "4. List top 10 with brief explanations (Maximum 8 -10 words each).\n",
    "5. Follow strictly the response format\n",
    "\n",
    "Format your response as follows:\n",
    "\n",
    "```\n",
    "{ \"[Disease]\": \"[Brief explanation]\",\n",
    "[\"Disease]\": \"[Brief explanation]\",\n",
    "... ,                                 \n",
    "[\"Disease]: \"[Brief explanation]\" },\n",
    "```\n",
    "Guidelines:\n",
    "- Don't output anything other than JSON format\n",
    "- Prioritize medical accuracy and relevancy.\n",
    "- Include common and rare conditions.\n",
    "- If fewer than 10 are relevant, list only those.\n",
    "- Provide diverse possibilities.\n",
    "- For vague symptoms, state this and give likely options.\n",
    "\n",
    "Analyze these symptoms:\n",
    "\"\"\""
   ]
  },
  {
   "cell_type": "code",
   "execution_count": 49,
   "metadata": {},
   "outputs": [],
   "source": [
    "torch.cuda.empty_cache()"
   ]
  },
  {
   "cell_type": "code",
   "execution_count": 50,
   "metadata": {},
   "outputs": [
    {
     "ename": "OutOfMemoryError",
     "evalue": "CUDA out of memory. Tried to allocate 448.00 MiB. GPU \u0001 has a total capacity of 44.32 GiB of which 135.75 MiB is free. Including non-PyTorch memory, this process has 44.17 GiB memory in use. Of the allocated memory 42.62 GiB is allocated by PyTorch, and 1.06 GiB is reserved by PyTorch but unallocated. If reserved but unallocated memory is large try setting PYTORCH_CUDA_ALLOC_CONF=expandable_segments:True to avoid fragmentation.  See documentation for Memory Management  (https://pytorch.org/docs/stable/notes/cuda.html#environment-variables)",
     "output_type": "error",
     "traceback": [
      "\u001b[0;31m---------------------------------------------------------------------------\u001b[0m",
      "\u001b[0;31mOutOfMemoryError\u001b[0m                          Traceback (most recent call last)",
      "Cell \u001b[0;32mIn[50], line 11\u001b[0m\n\u001b[1;32m      8\u001b[0m     generated_text \u001b[38;5;241m=\u001b[39m text_generator(messages, max_new_tokens\u001b[38;5;241m=\u001b[39m\u001b[38;5;241m300\u001b[39m, num_return_sequences\u001b[38;5;241m=\u001b[39m\u001b[38;5;241m1\u001b[39m, temperature\u001b[38;5;241m=\u001b[39mtemperature)\n\u001b[1;32m      9\u001b[0m     \u001b[38;5;28;01mreturn\u001b[39;00m generated_text[\u001b[38;5;241m0\u001b[39m][\u001b[38;5;124m'\u001b[39m\u001b[38;5;124mgenerated_text\u001b[39m\u001b[38;5;124m'\u001b[39m][\u001b[38;5;241m-\u001b[39m\u001b[38;5;241m1\u001b[39m][\u001b[38;5;124m'\u001b[39m\u001b[38;5;124mcontent\u001b[39m\u001b[38;5;124m'\u001b[39m]\n\u001b[0;32m---> 11\u001b[0m json\u001b[38;5;241m.\u001b[39mloads(\u001b[43msymptom_based_identification\u001b[49m\u001b[43m(\u001b[49m\u001b[38;5;124;43m'\u001b[39;49m\u001b[38;5;124;43mback pain\u001b[39;49m\u001b[38;5;124;43m'\u001b[39;49m\u001b[43m)\u001b[49m)\n",
      "Cell \u001b[0;32mIn[50], line 8\u001b[0m, in \u001b[0;36msymptom_based_identification\u001b[0;34m(symptom)\u001b[0m\n\u001b[1;32m      6\u001b[0m temperature \u001b[38;5;241m=\u001b[39m \u001b[38;5;241m0.1\u001b[39m\n\u001b[1;32m      7\u001b[0m text_generator \u001b[38;5;241m=\u001b[39m pipeline(\u001b[38;5;124m'\u001b[39m\u001b[38;5;124mtext-generation\u001b[39m\u001b[38;5;124m'\u001b[39m, model\u001b[38;5;241m=\u001b[39mmodel, tokenizer\u001b[38;5;241m=\u001b[39mtokenizer)\n\u001b[0;32m----> 8\u001b[0m generated_text \u001b[38;5;241m=\u001b[39m \u001b[43mtext_generator\u001b[49m\u001b[43m(\u001b[49m\u001b[43mmessages\u001b[49m\u001b[43m,\u001b[49m\u001b[43m \u001b[49m\u001b[43mmax_new_tokens\u001b[49m\u001b[38;5;241;43m=\u001b[39;49m\u001b[38;5;241;43m300\u001b[39;49m\u001b[43m,\u001b[49m\u001b[43m \u001b[49m\u001b[43mnum_return_sequences\u001b[49m\u001b[38;5;241;43m=\u001b[39;49m\u001b[38;5;241;43m1\u001b[39;49m\u001b[43m,\u001b[49m\u001b[43m \u001b[49m\u001b[43mtemperature\u001b[49m\u001b[38;5;241;43m=\u001b[39;49m\u001b[43mtemperature\u001b[49m\u001b[43m)\u001b[49m\n\u001b[1;32m      9\u001b[0m \u001b[38;5;28;01mreturn\u001b[39;00m generated_text[\u001b[38;5;241m0\u001b[39m][\u001b[38;5;124m'\u001b[39m\u001b[38;5;124mgenerated_text\u001b[39m\u001b[38;5;124m'\u001b[39m][\u001b[38;5;241m-\u001b[39m\u001b[38;5;241m1\u001b[39m][\u001b[38;5;124m'\u001b[39m\u001b[38;5;124mcontent\u001b[39m\u001b[38;5;124m'\u001b[39m]\n",
      "File \u001b[0;32m~/llama_inference/llama_env/lib/python3.10/site-packages/transformers/pipelines/text_generation.py:257\u001b[0m, in \u001b[0;36mTextGenerationPipeline.__call__\u001b[0;34m(self, text_inputs, **kwargs)\u001b[0m\n\u001b[1;32m    252\u001b[0m \u001b[38;5;28;01mif\u001b[39;00m \u001b[38;5;28misinstance\u001b[39m(\n\u001b[1;32m    253\u001b[0m     text_inputs, (\u001b[38;5;28mlist\u001b[39m, \u001b[38;5;28mtuple\u001b[39m, KeyDataset) \u001b[38;5;28;01mif\u001b[39;00m is_torch_available() \u001b[38;5;28;01melse\u001b[39;00m (\u001b[38;5;28mlist\u001b[39m, \u001b[38;5;28mtuple\u001b[39m)\n\u001b[1;32m    254\u001b[0m ) \u001b[38;5;129;01mand\u001b[39;00m \u001b[38;5;28misinstance\u001b[39m(text_inputs[\u001b[38;5;241m0\u001b[39m], (\u001b[38;5;28mlist\u001b[39m, \u001b[38;5;28mtuple\u001b[39m, \u001b[38;5;28mdict\u001b[39m)):\n\u001b[1;32m    255\u001b[0m     \u001b[38;5;66;03m# We have one or more prompts in list-of-dicts format, so this is chat mode\u001b[39;00m\n\u001b[1;32m    256\u001b[0m     \u001b[38;5;28;01mif\u001b[39;00m \u001b[38;5;28misinstance\u001b[39m(text_inputs[\u001b[38;5;241m0\u001b[39m], \u001b[38;5;28mdict\u001b[39m):\n\u001b[0;32m--> 257\u001b[0m         \u001b[38;5;28;01mreturn\u001b[39;00m \u001b[38;5;28;43msuper\u001b[39;49m\u001b[43m(\u001b[49m\u001b[43m)\u001b[49m\u001b[38;5;241;43m.\u001b[39;49m\u001b[38;5;21;43m__call__\u001b[39;49m\u001b[43m(\u001b[49m\u001b[43mChat\u001b[49m\u001b[43m(\u001b[49m\u001b[43mtext_inputs\u001b[49m\u001b[43m)\u001b[49m\u001b[43m,\u001b[49m\u001b[43m \u001b[49m\u001b[38;5;241;43m*\u001b[39;49m\u001b[38;5;241;43m*\u001b[39;49m\u001b[43mkwargs\u001b[49m\u001b[43m)\u001b[49m\n\u001b[1;32m    258\u001b[0m     \u001b[38;5;28;01melse\u001b[39;00m:\n\u001b[1;32m    259\u001b[0m         chats \u001b[38;5;241m=\u001b[39m [Chat(chat) \u001b[38;5;28;01mfor\u001b[39;00m chat \u001b[38;5;129;01min\u001b[39;00m text_inputs]  \u001b[38;5;66;03m# 🐈 🐈 🐈\u001b[39;00m\n",
      "File \u001b[0;32m~/llama_inference/llama_env/lib/python3.10/site-packages/transformers/pipelines/base.py:1254\u001b[0m, in \u001b[0;36mPipeline.__call__\u001b[0;34m(self, inputs, num_workers, batch_size, *args, **kwargs)\u001b[0m\n\u001b[1;32m   1246\u001b[0m     \u001b[38;5;28;01mreturn\u001b[39;00m \u001b[38;5;28mnext\u001b[39m(\n\u001b[1;32m   1247\u001b[0m         \u001b[38;5;28miter\u001b[39m(\n\u001b[1;32m   1248\u001b[0m             \u001b[38;5;28mself\u001b[39m\u001b[38;5;241m.\u001b[39mget_iterator(\n\u001b[0;32m   (...)\u001b[0m\n\u001b[1;32m   1251\u001b[0m         )\n\u001b[1;32m   1252\u001b[0m     )\n\u001b[1;32m   1253\u001b[0m \u001b[38;5;28;01melse\u001b[39;00m:\n\u001b[0;32m-> 1254\u001b[0m     \u001b[38;5;28;01mreturn\u001b[39;00m \u001b[38;5;28;43mself\u001b[39;49m\u001b[38;5;241;43m.\u001b[39;49m\u001b[43mrun_single\u001b[49m\u001b[43m(\u001b[49m\u001b[43minputs\u001b[49m\u001b[43m,\u001b[49m\u001b[43m \u001b[49m\u001b[43mpreprocess_params\u001b[49m\u001b[43m,\u001b[49m\u001b[43m \u001b[49m\u001b[43mforward_params\u001b[49m\u001b[43m,\u001b[49m\u001b[43m \u001b[49m\u001b[43mpostprocess_params\u001b[49m\u001b[43m)\u001b[49m\n",
      "File \u001b[0;32m~/llama_inference/llama_env/lib/python3.10/site-packages/transformers/pipelines/base.py:1261\u001b[0m, in \u001b[0;36mPipeline.run_single\u001b[0;34m(self, inputs, preprocess_params, forward_params, postprocess_params)\u001b[0m\n\u001b[1;32m   1259\u001b[0m \u001b[38;5;28;01mdef\u001b[39;00m \u001b[38;5;21mrun_single\u001b[39m(\u001b[38;5;28mself\u001b[39m, inputs, preprocess_params, forward_params, postprocess_params):\n\u001b[1;32m   1260\u001b[0m     model_inputs \u001b[38;5;241m=\u001b[39m \u001b[38;5;28mself\u001b[39m\u001b[38;5;241m.\u001b[39mpreprocess(inputs, \u001b[38;5;241m*\u001b[39m\u001b[38;5;241m*\u001b[39mpreprocess_params)\n\u001b[0;32m-> 1261\u001b[0m     model_outputs \u001b[38;5;241m=\u001b[39m \u001b[38;5;28;43mself\u001b[39;49m\u001b[38;5;241;43m.\u001b[39;49m\u001b[43mforward\u001b[49m\u001b[43m(\u001b[49m\u001b[43mmodel_inputs\u001b[49m\u001b[43m,\u001b[49m\u001b[43m \u001b[49m\u001b[38;5;241;43m*\u001b[39;49m\u001b[38;5;241;43m*\u001b[39;49m\u001b[43mforward_params\u001b[49m\u001b[43m)\u001b[49m\n\u001b[1;32m   1262\u001b[0m     outputs \u001b[38;5;241m=\u001b[39m \u001b[38;5;28mself\u001b[39m\u001b[38;5;241m.\u001b[39mpostprocess(model_outputs, \u001b[38;5;241m*\u001b[39m\u001b[38;5;241m*\u001b[39mpostprocess_params)\n\u001b[1;32m   1263\u001b[0m     \u001b[38;5;28;01mreturn\u001b[39;00m outputs\n",
      "File \u001b[0;32m~/llama_inference/llama_env/lib/python3.10/site-packages/transformers/pipelines/base.py:1161\u001b[0m, in \u001b[0;36mPipeline.forward\u001b[0;34m(self, model_inputs, **forward_params)\u001b[0m\n\u001b[1;32m   1159\u001b[0m     \u001b[38;5;28;01mwith\u001b[39;00m inference_context():\n\u001b[1;32m   1160\u001b[0m         model_inputs \u001b[38;5;241m=\u001b[39m \u001b[38;5;28mself\u001b[39m\u001b[38;5;241m.\u001b[39m_ensure_tensor_on_device(model_inputs, device\u001b[38;5;241m=\u001b[39m\u001b[38;5;28mself\u001b[39m\u001b[38;5;241m.\u001b[39mdevice)\n\u001b[0;32m-> 1161\u001b[0m         model_outputs \u001b[38;5;241m=\u001b[39m \u001b[38;5;28;43mself\u001b[39;49m\u001b[38;5;241;43m.\u001b[39;49m\u001b[43m_forward\u001b[49m\u001b[43m(\u001b[49m\u001b[43mmodel_inputs\u001b[49m\u001b[43m,\u001b[49m\u001b[43m \u001b[49m\u001b[38;5;241;43m*\u001b[39;49m\u001b[38;5;241;43m*\u001b[39;49m\u001b[43mforward_params\u001b[49m\u001b[43m)\u001b[49m\n\u001b[1;32m   1162\u001b[0m         model_outputs \u001b[38;5;241m=\u001b[39m \u001b[38;5;28mself\u001b[39m\u001b[38;5;241m.\u001b[39m_ensure_tensor_on_device(model_outputs, device\u001b[38;5;241m=\u001b[39mtorch\u001b[38;5;241m.\u001b[39mdevice(\u001b[38;5;124m\"\u001b[39m\u001b[38;5;124mcpu\u001b[39m\u001b[38;5;124m\"\u001b[39m))\n\u001b[1;32m   1163\u001b[0m \u001b[38;5;28;01melse\u001b[39;00m:\n",
      "File \u001b[0;32m~/llama_inference/llama_env/lib/python3.10/site-packages/transformers/pipelines/text_generation.py:351\u001b[0m, in \u001b[0;36mTextGenerationPipeline._forward\u001b[0;34m(self, model_inputs, **generate_kwargs)\u001b[0m\n\u001b[1;32m    348\u001b[0m         generate_kwargs[\u001b[38;5;124m\"\u001b[39m\u001b[38;5;124mmin_length\u001b[39m\u001b[38;5;124m\"\u001b[39m] \u001b[38;5;241m+\u001b[39m\u001b[38;5;241m=\u001b[39m prefix_length\n\u001b[1;32m    350\u001b[0m \u001b[38;5;66;03m# BS x SL\u001b[39;00m\n\u001b[0;32m--> 351\u001b[0m generated_sequence \u001b[38;5;241m=\u001b[39m \u001b[38;5;28;43mself\u001b[39;49m\u001b[38;5;241;43m.\u001b[39;49m\u001b[43mmodel\u001b[49m\u001b[38;5;241;43m.\u001b[39;49m\u001b[43mgenerate\u001b[49m\u001b[43m(\u001b[49m\u001b[43minput_ids\u001b[49m\u001b[38;5;241;43m=\u001b[39;49m\u001b[43minput_ids\u001b[49m\u001b[43m,\u001b[49m\u001b[43m \u001b[49m\u001b[43mattention_mask\u001b[49m\u001b[38;5;241;43m=\u001b[39;49m\u001b[43mattention_mask\u001b[49m\u001b[43m,\u001b[49m\u001b[43m \u001b[49m\u001b[38;5;241;43m*\u001b[39;49m\u001b[38;5;241;43m*\u001b[39;49m\u001b[43mgenerate_kwargs\u001b[49m\u001b[43m)\u001b[49m\n\u001b[1;32m    352\u001b[0m out_b \u001b[38;5;241m=\u001b[39m generated_sequence\u001b[38;5;241m.\u001b[39mshape[\u001b[38;5;241m0\u001b[39m]\n\u001b[1;32m    353\u001b[0m \u001b[38;5;28;01mif\u001b[39;00m \u001b[38;5;28mself\u001b[39m\u001b[38;5;241m.\u001b[39mframework \u001b[38;5;241m==\u001b[39m \u001b[38;5;124m\"\u001b[39m\u001b[38;5;124mpt\u001b[39m\u001b[38;5;124m\"\u001b[39m:\n",
      "File \u001b[0;32m~/llama_inference/llama_env/lib/python3.10/site-packages/torch/utils/_contextlib.py:115\u001b[0m, in \u001b[0;36mcontext_decorator.<locals>.decorate_context\u001b[0;34m(*args, **kwargs)\u001b[0m\n\u001b[1;32m    112\u001b[0m \u001b[38;5;129m@functools\u001b[39m\u001b[38;5;241m.\u001b[39mwraps(func)\n\u001b[1;32m    113\u001b[0m \u001b[38;5;28;01mdef\u001b[39;00m \u001b[38;5;21mdecorate_context\u001b[39m(\u001b[38;5;241m*\u001b[39margs, \u001b[38;5;241m*\u001b[39m\u001b[38;5;241m*\u001b[39mkwargs):\n\u001b[1;32m    114\u001b[0m     \u001b[38;5;28;01mwith\u001b[39;00m ctx_factory():\n\u001b[0;32m--> 115\u001b[0m         \u001b[38;5;28;01mreturn\u001b[39;00m \u001b[43mfunc\u001b[49m\u001b[43m(\u001b[49m\u001b[38;5;241;43m*\u001b[39;49m\u001b[43margs\u001b[49m\u001b[43m,\u001b[49m\u001b[43m \u001b[49m\u001b[38;5;241;43m*\u001b[39;49m\u001b[38;5;241;43m*\u001b[39;49m\u001b[43mkwargs\u001b[49m\u001b[43m)\u001b[49m\n",
      "File \u001b[0;32m~/llama_inference/llama_env/lib/python3.10/site-packages/transformers/generation/utils.py:1989\u001b[0m, in \u001b[0;36mGenerationMixin.generate\u001b[0;34m(self, inputs, generation_config, logits_processor, stopping_criteria, prefix_allowed_tokens_fn, synced_gpus, assistant_model, streamer, negative_prompt_ids, negative_prompt_attention_mask, **kwargs)\u001b[0m\n\u001b[1;32m   1981\u001b[0m     input_ids, model_kwargs \u001b[38;5;241m=\u001b[39m \u001b[38;5;28mself\u001b[39m\u001b[38;5;241m.\u001b[39m_expand_inputs_for_generation(\n\u001b[1;32m   1982\u001b[0m         input_ids\u001b[38;5;241m=\u001b[39minput_ids,\n\u001b[1;32m   1983\u001b[0m         expand_size\u001b[38;5;241m=\u001b[39mgeneration_config\u001b[38;5;241m.\u001b[39mnum_return_sequences,\n\u001b[1;32m   1984\u001b[0m         is_encoder_decoder\u001b[38;5;241m=\u001b[39m\u001b[38;5;28mself\u001b[39m\u001b[38;5;241m.\u001b[39mconfig\u001b[38;5;241m.\u001b[39mis_encoder_decoder,\n\u001b[1;32m   1985\u001b[0m         \u001b[38;5;241m*\u001b[39m\u001b[38;5;241m*\u001b[39mmodel_kwargs,\n\u001b[1;32m   1986\u001b[0m     )\n\u001b[1;32m   1988\u001b[0m     \u001b[38;5;66;03m# 13. run sample (it degenerates to greedy search when `generation_config.do_sample=False`)\u001b[39;00m\n\u001b[0;32m-> 1989\u001b[0m     result \u001b[38;5;241m=\u001b[39m \u001b[38;5;28;43mself\u001b[39;49m\u001b[38;5;241;43m.\u001b[39;49m\u001b[43m_sample\u001b[49m\u001b[43m(\u001b[49m\n\u001b[1;32m   1990\u001b[0m \u001b[43m        \u001b[49m\u001b[43minput_ids\u001b[49m\u001b[43m,\u001b[49m\n\u001b[1;32m   1991\u001b[0m \u001b[43m        \u001b[49m\u001b[43mlogits_processor\u001b[49m\u001b[38;5;241;43m=\u001b[39;49m\u001b[43mprepared_logits_processor\u001b[49m\u001b[43m,\u001b[49m\n\u001b[1;32m   1992\u001b[0m \u001b[43m        \u001b[49m\u001b[43mlogits_warper\u001b[49m\u001b[38;5;241;43m=\u001b[39;49m\u001b[43mprepared_logits_warper\u001b[49m\u001b[43m,\u001b[49m\n\u001b[1;32m   1993\u001b[0m \u001b[43m        \u001b[49m\u001b[43mstopping_criteria\u001b[49m\u001b[38;5;241;43m=\u001b[39;49m\u001b[43mprepared_stopping_criteria\u001b[49m\u001b[43m,\u001b[49m\n\u001b[1;32m   1994\u001b[0m \u001b[43m        \u001b[49m\u001b[43mgeneration_config\u001b[49m\u001b[38;5;241;43m=\u001b[39;49m\u001b[43mgeneration_config\u001b[49m\u001b[43m,\u001b[49m\n\u001b[1;32m   1995\u001b[0m \u001b[43m        \u001b[49m\u001b[43msynced_gpus\u001b[49m\u001b[38;5;241;43m=\u001b[39;49m\u001b[43msynced_gpus\u001b[49m\u001b[43m,\u001b[49m\n\u001b[1;32m   1996\u001b[0m \u001b[43m        \u001b[49m\u001b[43mstreamer\u001b[49m\u001b[38;5;241;43m=\u001b[39;49m\u001b[43mstreamer\u001b[49m\u001b[43m,\u001b[49m\n\u001b[1;32m   1997\u001b[0m \u001b[43m        \u001b[49m\u001b[38;5;241;43m*\u001b[39;49m\u001b[38;5;241;43m*\u001b[39;49m\u001b[43mmodel_kwargs\u001b[49m\u001b[43m,\u001b[49m\n\u001b[1;32m   1998\u001b[0m \u001b[43m    \u001b[49m\u001b[43m)\u001b[49m\n\u001b[1;32m   2000\u001b[0m \u001b[38;5;28;01melif\u001b[39;00m generation_mode \u001b[38;5;129;01min\u001b[39;00m (GenerationMode\u001b[38;5;241m.\u001b[39mBEAM_SAMPLE, GenerationMode\u001b[38;5;241m.\u001b[39mBEAM_SEARCH):\n\u001b[1;32m   2001\u001b[0m     \u001b[38;5;66;03m# 11. prepare logits warper\u001b[39;00m\n\u001b[1;32m   2002\u001b[0m     prepared_logits_warper \u001b[38;5;241m=\u001b[39m (\n\u001b[1;32m   2003\u001b[0m         \u001b[38;5;28mself\u001b[39m\u001b[38;5;241m.\u001b[39m_get_logits_warper(generation_config, device\u001b[38;5;241m=\u001b[39minput_ids\u001b[38;5;241m.\u001b[39mdevice)\n\u001b[1;32m   2004\u001b[0m         \u001b[38;5;28;01mif\u001b[39;00m generation_config\u001b[38;5;241m.\u001b[39mdo_sample\n\u001b[1;32m   2005\u001b[0m         \u001b[38;5;28;01melse\u001b[39;00m \u001b[38;5;28;01mNone\u001b[39;00m\n\u001b[1;32m   2006\u001b[0m     )\n",
      "File \u001b[0;32m~/llama_inference/llama_env/lib/python3.10/site-packages/transformers/generation/utils.py:2932\u001b[0m, in \u001b[0;36mGenerationMixin._sample\u001b[0;34m(self, input_ids, logits_processor, stopping_criteria, generation_config, synced_gpus, streamer, logits_warper, **model_kwargs)\u001b[0m\n\u001b[1;32m   2929\u001b[0m model_inputs\u001b[38;5;241m.\u001b[39mupdate({\u001b[38;5;124m\"\u001b[39m\u001b[38;5;124moutput_hidden_states\u001b[39m\u001b[38;5;124m\"\u001b[39m: output_hidden_states} \u001b[38;5;28;01mif\u001b[39;00m output_hidden_states \u001b[38;5;28;01melse\u001b[39;00m {})\n\u001b[1;32m   2931\u001b[0m \u001b[38;5;66;03m# forward pass to get next token\u001b[39;00m\n\u001b[0;32m-> 2932\u001b[0m outputs \u001b[38;5;241m=\u001b[39m \u001b[38;5;28;43mself\u001b[39;49m\u001b[43m(\u001b[49m\u001b[38;5;241;43m*\u001b[39;49m\u001b[38;5;241;43m*\u001b[39;49m\u001b[43mmodel_inputs\u001b[49m\u001b[43m,\u001b[49m\u001b[43m \u001b[49m\u001b[43mreturn_dict\u001b[49m\u001b[38;5;241;43m=\u001b[39;49m\u001b[38;5;28;43;01mTrue\u001b[39;49;00m\u001b[43m)\u001b[49m\n\u001b[1;32m   2934\u001b[0m \u001b[38;5;28;01mif\u001b[39;00m synced_gpus \u001b[38;5;129;01mand\u001b[39;00m this_peer_finished:\n\u001b[1;32m   2935\u001b[0m     \u001b[38;5;28;01mcontinue\u001b[39;00m  \u001b[38;5;66;03m# don't waste resources running the code we don't need\u001b[39;00m\n",
      "File \u001b[0;32m~/llama_inference/llama_env/lib/python3.10/site-packages/torch/nn/modules/module.py:1532\u001b[0m, in \u001b[0;36mModule._wrapped_call_impl\u001b[0;34m(self, *args, **kwargs)\u001b[0m\n\u001b[1;32m   1530\u001b[0m     \u001b[38;5;28;01mreturn\u001b[39;00m \u001b[38;5;28mself\u001b[39m\u001b[38;5;241m.\u001b[39m_compiled_call_impl(\u001b[38;5;241m*\u001b[39margs, \u001b[38;5;241m*\u001b[39m\u001b[38;5;241m*\u001b[39mkwargs)  \u001b[38;5;66;03m# type: ignore[misc]\u001b[39;00m\n\u001b[1;32m   1531\u001b[0m \u001b[38;5;28;01melse\u001b[39;00m:\n\u001b[0;32m-> 1532\u001b[0m     \u001b[38;5;28;01mreturn\u001b[39;00m \u001b[38;5;28;43mself\u001b[39;49m\u001b[38;5;241;43m.\u001b[39;49m\u001b[43m_call_impl\u001b[49m\u001b[43m(\u001b[49m\u001b[38;5;241;43m*\u001b[39;49m\u001b[43margs\u001b[49m\u001b[43m,\u001b[49m\u001b[43m \u001b[49m\u001b[38;5;241;43m*\u001b[39;49m\u001b[38;5;241;43m*\u001b[39;49m\u001b[43mkwargs\u001b[49m\u001b[43m)\u001b[49m\n",
      "File \u001b[0;32m~/llama_inference/llama_env/lib/python3.10/site-packages/torch/nn/modules/module.py:1541\u001b[0m, in \u001b[0;36mModule._call_impl\u001b[0;34m(self, *args, **kwargs)\u001b[0m\n\u001b[1;32m   1536\u001b[0m \u001b[38;5;66;03m# If we don't have any hooks, we want to skip the rest of the logic in\u001b[39;00m\n\u001b[1;32m   1537\u001b[0m \u001b[38;5;66;03m# this function, and just call forward.\u001b[39;00m\n\u001b[1;32m   1538\u001b[0m \u001b[38;5;28;01mif\u001b[39;00m \u001b[38;5;129;01mnot\u001b[39;00m (\u001b[38;5;28mself\u001b[39m\u001b[38;5;241m.\u001b[39m_backward_hooks \u001b[38;5;129;01mor\u001b[39;00m \u001b[38;5;28mself\u001b[39m\u001b[38;5;241m.\u001b[39m_backward_pre_hooks \u001b[38;5;129;01mor\u001b[39;00m \u001b[38;5;28mself\u001b[39m\u001b[38;5;241m.\u001b[39m_forward_hooks \u001b[38;5;129;01mor\u001b[39;00m \u001b[38;5;28mself\u001b[39m\u001b[38;5;241m.\u001b[39m_forward_pre_hooks\n\u001b[1;32m   1539\u001b[0m         \u001b[38;5;129;01mor\u001b[39;00m _global_backward_pre_hooks \u001b[38;5;129;01mor\u001b[39;00m _global_backward_hooks\n\u001b[1;32m   1540\u001b[0m         \u001b[38;5;129;01mor\u001b[39;00m _global_forward_hooks \u001b[38;5;129;01mor\u001b[39;00m _global_forward_pre_hooks):\n\u001b[0;32m-> 1541\u001b[0m     \u001b[38;5;28;01mreturn\u001b[39;00m \u001b[43mforward_call\u001b[49m\u001b[43m(\u001b[49m\u001b[38;5;241;43m*\u001b[39;49m\u001b[43margs\u001b[49m\u001b[43m,\u001b[49m\u001b[43m \u001b[49m\u001b[38;5;241;43m*\u001b[39;49m\u001b[38;5;241;43m*\u001b[39;49m\u001b[43mkwargs\u001b[49m\u001b[43m)\u001b[49m\n\u001b[1;32m   1543\u001b[0m \u001b[38;5;28;01mtry\u001b[39;00m:\n\u001b[1;32m   1544\u001b[0m     result \u001b[38;5;241m=\u001b[39m \u001b[38;5;28;01mNone\u001b[39;00m\n",
      "File \u001b[0;32m~/llama_inference/llama_env/lib/python3.10/site-packages/accelerate/hooks.py:169\u001b[0m, in \u001b[0;36madd_hook_to_module.<locals>.new_forward\u001b[0;34m(module, *args, **kwargs)\u001b[0m\n\u001b[1;32m    167\u001b[0m         output \u001b[38;5;241m=\u001b[39m module\u001b[38;5;241m.\u001b[39m_old_forward(\u001b[38;5;241m*\u001b[39margs, \u001b[38;5;241m*\u001b[39m\u001b[38;5;241m*\u001b[39mkwargs)\n\u001b[1;32m    168\u001b[0m \u001b[38;5;28;01melse\u001b[39;00m:\n\u001b[0;32m--> 169\u001b[0m     output \u001b[38;5;241m=\u001b[39m \u001b[43mmodule\u001b[49m\u001b[38;5;241;43m.\u001b[39;49m\u001b[43m_old_forward\u001b[49m\u001b[43m(\u001b[49m\u001b[38;5;241;43m*\u001b[39;49m\u001b[43margs\u001b[49m\u001b[43m,\u001b[49m\u001b[43m \u001b[49m\u001b[38;5;241;43m*\u001b[39;49m\u001b[38;5;241;43m*\u001b[39;49m\u001b[43mkwargs\u001b[49m\u001b[43m)\u001b[49m\n\u001b[1;32m    170\u001b[0m \u001b[38;5;28;01mreturn\u001b[39;00m module\u001b[38;5;241m.\u001b[39m_"YOUR_HF_TOKEN"\u001b[38;5;241m.\u001b[39mpost_forward(module, output)\n",
      "File \u001b[0;32m~/llama_inference/llama_env/lib/python3.10/site-packages/transformers/models/llama/modeling_llama.py:1141\u001b[0m, in \u001b[0;36mLlamaForCausalLM.forward\u001b[0;34m(self, input_ids, attention_mask, position_ids, past_key_values, inputs_embeds, labels, use_cache, output_attentions, output_hidden_states, return_dict, cache_position)\u001b[0m\n\u001b[1;32m   1138\u001b[0m return_dict \u001b[38;5;241m=\u001b[39m return_dict \u001b[38;5;28;01mif\u001b[39;00m return_dict \u001b[38;5;129;01mis\u001b[39;00m \u001b[38;5;129;01mnot\u001b[39;00m \u001b[38;5;28;01mNone\u001b[39;00m \u001b[38;5;28;01melse\u001b[39;00m \u001b[38;5;28mself\u001b[39m\u001b[38;5;241m.\u001b[39mconfig\u001b[38;5;241m.\u001b[39muse_return_dict\n\u001b[1;32m   1140\u001b[0m \u001b[38;5;66;03m# decoder outputs consists of (dec_features, layer_state, dec_hidden, dec_attn)\u001b[39;00m\n\u001b[0;32m-> 1141\u001b[0m outputs \u001b[38;5;241m=\u001b[39m \u001b[38;5;28;43mself\u001b[39;49m\u001b[38;5;241;43m.\u001b[39;49m\u001b[43mmodel\u001b[49m\u001b[43m(\u001b[49m\n\u001b[1;32m   1142\u001b[0m \u001b[43m    \u001b[49m\u001b[43minput_ids\u001b[49m\u001b[38;5;241;43m=\u001b[39;49m\u001b[43minput_ids\u001b[49m\u001b[43m,\u001b[49m\n\u001b[1;32m   1143\u001b[0m \u001b[43m    \u001b[49m\u001b[43mattention_mask\u001b[49m\u001b[38;5;241;43m=\u001b[39;49m\u001b[43mattention_mask\u001b[49m\u001b[43m,\u001b[49m\n\u001b[1;32m   1144\u001b[0m \u001b[43m    \u001b[49m\u001b[43mposition_ids\u001b[49m\u001b[38;5;241;43m=\u001b[39;49m\u001b[43mposition_ids\u001b[49m\u001b[43m,\u001b[49m\n\u001b[1;32m   1145\u001b[0m \u001b[43m    \u001b[49m\u001b[43mpast_key_values\u001b[49m\u001b[38;5;241;43m=\u001b[39;49m\u001b[43mpast_key_values\u001b[49m\u001b[43m,\u001b[49m\n\u001b[1;32m   1146\u001b[0m \u001b[43m    \u001b[49m\u001b[43minputs_embeds\u001b[49m\u001b[38;5;241;43m=\u001b[39;49m\u001b[43minputs_embeds\u001b[49m\u001b[43m,\u001b[49m\n\u001b[1;32m   1147\u001b[0m \u001b[43m    \u001b[49m\u001b[43muse_cache\u001b[49m\u001b[38;5;241;43m=\u001b[39;49m\u001b[43muse_cache\u001b[49m\u001b[43m,\u001b[49m\n\u001b[1;32m   1148\u001b[0m \u001b[43m    \u001b[49m\u001b[43moutput_attentions\u001b[49m\u001b[38;5;241;43m=\u001b[39;49m\u001b[43moutput_attentions\u001b[49m\u001b[43m,\u001b[49m\n\u001b[1;32m   1149\u001b[0m \u001b[43m    \u001b[49m\u001b[43moutput_hidden_states\u001b[49m\u001b[38;5;241;43m=\u001b[39;49m\u001b[43moutput_hidden_states\u001b[49m\u001b[43m,\u001b[49m\n\u001b[1;32m   1150\u001b[0m \u001b[43m    \u001b[49m\u001b[43mreturn_dict\u001b[49m\u001b[38;5;241;43m=\u001b[39;49m\u001b[43mreturn_dict\u001b[49m\u001b[43m,\u001b[49m\n\u001b[1;32m   1151\u001b[0m \u001b[43m    \u001b[49m\u001b[43mcache_position\u001b[49m\u001b[38;5;241;43m=\u001b[39;49m\u001b[43mcache_position\u001b[49m\u001b[43m,\u001b[49m\n\u001b[1;32m   1152\u001b[0m \u001b[43m\u001b[49m\u001b[43m)\u001b[49m\n\u001b[1;32m   1154\u001b[0m hidden_states \u001b[38;5;241m=\u001b[39m outputs[\u001b[38;5;241m0\u001b[39m]\n\u001b[1;32m   1155\u001b[0m \u001b[38;5;28;01mif\u001b[39;00m \u001b[38;5;28mself\u001b[39m\u001b[38;5;241m.\u001b[39mconfig\u001b[38;5;241m.\u001b[39mpretraining_tp \u001b[38;5;241m>\u001b[39m \u001b[38;5;241m1\u001b[39m:\n",
      "File \u001b[0;32m~/llama_inference/llama_env/lib/python3.10/site-packages/torch/nn/modules/module.py:1532\u001b[0m, in \u001b[0;36mModule._wrapped_call_impl\u001b[0;34m(self, *args, **kwargs)\u001b[0m\n\u001b[1;32m   1530\u001b[0m     \u001b[38;5;28;01mreturn\u001b[39;00m \u001b[38;5;28mself\u001b[39m\u001b[38;5;241m.\u001b[39m_compiled_call_impl(\u001b[38;5;241m*\u001b[39margs, \u001b[38;5;241m*\u001b[39m\u001b[38;5;241m*\u001b[39mkwargs)  \u001b[38;5;66;03m# type: ignore[misc]\u001b[39;00m\n\u001b[1;32m   1531\u001b[0m \u001b[38;5;28;01melse\u001b[39;00m:\n\u001b[0;32m-> 1532\u001b[0m     \u001b[38;5;28;01mreturn\u001b[39;00m \u001b[38;5;28;43mself\u001b[39;49m\u001b[38;5;241;43m.\u001b[39;49m\u001b[43m_call_impl\u001b[49m\u001b[43m(\u001b[49m\u001b[38;5;241;43m*\u001b[39;49m\u001b[43margs\u001b[49m\u001b[43m,\u001b[49m\u001b[43m \u001b[49m\u001b[38;5;241;43m*\u001b[39;49m\u001b[38;5;241;43m*\u001b[39;49m\u001b[43mkwargs\u001b[49m\u001b[43m)\u001b[49m\n",
      "File \u001b[0;32m~/llama_inference/llama_env/lib/python3.10/site-packages/torch/nn/modules/module.py:1541\u001b[0m, in \u001b[0;36mModule._call_impl\u001b[0;34m(self, *args, **kwargs)\u001b[0m\n\u001b[1;32m   1536\u001b[0m \u001b[38;5;66;03m# If we don't have any hooks, we want to skip the rest of the logic in\u001b[39;00m\n\u001b[1;32m   1537\u001b[0m \u001b[38;5;66;03m# this function, and just call forward.\u001b[39;00m\n\u001b[1;32m   1538\u001b[0m \u001b[38;5;28;01mif\u001b[39;00m \u001b[38;5;129;01mnot\u001b[39;00m (\u001b[38;5;28mself\u001b[39m\u001b[38;5;241m.\u001b[39m_backward_hooks \u001b[38;5;129;01mor\u001b[39;00m \u001b[38;5;28mself\u001b[39m\u001b[38;5;241m.\u001b[39m_backward_pre_hooks \u001b[38;5;129;01mor\u001b[39;00m \u001b[38;5;28mself\u001b[39m\u001b[38;5;241m.\u001b[39m_forward_hooks \u001b[38;5;129;01mor\u001b[39;00m \u001b[38;5;28mself\u001b[39m\u001b[38;5;241m.\u001b[39m_forward_pre_hooks\n\u001b[1;32m   1539\u001b[0m         \u001b[38;5;129;01mor\u001b[39;00m _global_backward_pre_hooks \u001b[38;5;129;01mor\u001b[39;00m _global_backward_hooks\n\u001b[1;32m   1540\u001b[0m         \u001b[38;5;129;01mor\u001b[39;00m _global_forward_hooks \u001b[38;5;129;01mor\u001b[39;00m _global_forward_pre_hooks):\n\u001b[0;32m-> 1541\u001b[0m     \u001b[38;5;28;01mreturn\u001b[39;00m \u001b[43mforward_call\u001b[49m\u001b[43m(\u001b[49m\u001b[38;5;241;43m*\u001b[39;49m\u001b[43margs\u001b[49m\u001b[43m,\u001b[49m\u001b[43m \u001b[49m\u001b[38;5;241;43m*\u001b[39;49m\u001b[38;5;241;43m*\u001b[39;49m\u001b[43mkwargs\u001b[49m\u001b[43m)\u001b[49m\n\u001b[1;32m   1543\u001b[0m \u001b[38;5;28;01mtry\u001b[39;00m:\n\u001b[1;32m   1544\u001b[0m     result \u001b[38;5;241m=\u001b[39m \u001b[38;5;28;01mNone\u001b[39;00m\n",
      "File \u001b[0;32m~/llama_inference/llama_env/lib/python3.10/site-packages/accelerate/hooks.py:169\u001b[0m, in \u001b[0;36madd_hook_to_module.<locals>.new_forward\u001b[0;34m(module, *args, **kwargs)\u001b[0m\n\u001b[1;32m    167\u001b[0m         output \u001b[38;5;241m=\u001b[39m module\u001b[38;5;241m.\u001b[39m_old_forward(\u001b[38;5;241m*\u001b[39margs, \u001b[38;5;241m*\u001b[39m\u001b[38;5;241m*\u001b[39mkwargs)\n\u001b[1;32m    168\u001b[0m \u001b[38;5;28;01melse\u001b[39;00m:\n\u001b[0;32m--> 169\u001b[0m     output \u001b[38;5;241m=\u001b[39m \u001b[43mmodule\u001b[49m\u001b[38;5;241;43m.\u001b[39;49m\u001b[43m_old_forward\u001b[49m\u001b[43m(\u001b[49m\u001b[38;5;241;43m*\u001b[39;49m\u001b[43margs\u001b[49m\u001b[43m,\u001b[49m\u001b[43m \u001b[49m\u001b[38;5;241;43m*\u001b[39;49m\u001b[38;5;241;43m*\u001b[39;49m\u001b[43mkwargs\u001b[49m\u001b[43m)\u001b[49m\n\u001b[1;32m    170\u001b[0m \u001b[38;5;28;01mreturn\u001b[39;00m module\u001b[38;5;241m.\u001b[39m_"YOUR_HF_TOKEN"\u001b[38;5;241m.\u001b[39mpost_forward(module, output)\n",
      "File \u001b[0;32m~/llama_inference/llama_env/lib/python3.10/site-packages/transformers/models/llama/modeling_llama.py:944\u001b[0m, in \u001b[0;36mLlamaModel.forward\u001b[0;34m(self, input_ids, attention_mask, position_ids, past_key_values, inputs_embeds, use_cache, output_attentions, output_hidden_states, return_dict, cache_position)\u001b[0m\n\u001b[1;32m    932\u001b[0m     layer_outputs \u001b[38;5;241m=\u001b[39m \u001b[38;5;28mself\u001b[39m\u001b[38;5;241m.\u001b[39m_gradient_checkpointing_func(\n\u001b[1;32m    933\u001b[0m         decoder_layer\u001b[38;5;241m.\u001b[39m\u001b[38;5;21m__call__\u001b[39m,\n\u001b[1;32m    934\u001b[0m         hidden_states,\n\u001b[0;32m   (...)\u001b[0m\n\u001b[1;32m    941\u001b[0m         position_embeddings,\n\u001b[1;32m    942\u001b[0m     )\n\u001b[1;32m    943\u001b[0m \u001b[38;5;28;01melse\u001b[39;00m:\n\u001b[0;32m--> 944\u001b[0m     layer_outputs \u001b[38;5;241m=\u001b[39m \u001b[43mdecoder_layer\u001b[49m\u001b[43m(\u001b[49m\n\u001b[1;32m    945\u001b[0m \u001b[43m        \u001b[49m\u001b[43mhidden_states\u001b[49m\u001b[43m,\u001b[49m\n\u001b[1;32m    946\u001b[0m \u001b[43m        \u001b[49m\u001b[43mattention_mask\u001b[49m\u001b[38;5;241;43m=\u001b[39;49m\u001b[43mcausal_mask\u001b[49m\u001b[43m,\u001b[49m\n\u001b[1;32m    947\u001b[0m \u001b[43m        \u001b[49m\u001b[43mposition_ids\u001b[49m\u001b[38;5;241;43m=\u001b[39;49m\u001b[43mposition_ids\u001b[49m\u001b[43m,\u001b[49m\n\u001b[1;32m    948\u001b[0m \u001b[43m        \u001b[49m\u001b[43mpast_key_value\u001b[49m\u001b[38;5;241;43m=\u001b[39;49m\u001b[43mpast_key_values\u001b[49m\u001b[43m,\u001b[49m\n\u001b[1;32m    949\u001b[0m \u001b[43m        \u001b[49m\u001b[43moutput_attentions\u001b[49m\u001b[38;5;241;43m=\u001b[39;49m\u001b[43moutput_attentions\u001b[49m\u001b[43m,\u001b[49m\n\u001b[1;32m    950\u001b[0m \u001b[43m        \u001b[49m\u001b[43muse_cache\u001b[49m\u001b[38;5;241;43m=\u001b[39;49m\u001b[43muse_cache\u001b[49m\u001b[43m,\u001b[49m\n\u001b[1;32m    951\u001b[0m \u001b[43m        \u001b[49m\u001b[43mcache_position\u001b[49m\u001b[38;5;241;43m=\u001b[39;49m\u001b[43mcache_position\u001b[49m\u001b[43m,\u001b[49m\n\u001b[1;32m    952\u001b[0m \u001b[43m        \u001b[49m\u001b[43mposition_embeddings\u001b[49m\u001b[38;5;241;43m=\u001b[39;49m\u001b[43mposition_embeddings\u001b[49m\u001b[43m,\u001b[49m\n\u001b[1;32m    953\u001b[0m \u001b[43m    \u001b[49m\u001b[43m)\u001b[49m\n\u001b[1;32m    955\u001b[0m hidden_states \u001b[38;5;241m=\u001b[39m layer_outputs[\u001b[38;5;241m0\u001b[39m]\n\u001b[1;32m    957\u001b[0m \u001b[38;5;28;01mif\u001b[39;00m use_cache:\n",
      "File \u001b[0;32m~/llama_inference/llama_env/lib/python3.10/site-packages/torch/nn/modules/module.py:1532\u001b[0m, in \u001b[0;36mModule._wrapped_call_impl\u001b[0;34m(self, *args, **kwargs)\u001b[0m\n\u001b[1;32m   1530\u001b[0m     \u001b[38;5;28;01mreturn\u001b[39;00m \u001b[38;5;28mself\u001b[39m\u001b[38;5;241m.\u001b[39m_compiled_call_impl(\u001b[38;5;241m*\u001b[39margs, \u001b[38;5;241m*\u001b[39m\u001b[38;5;241m*\u001b[39mkwargs)  \u001b[38;5;66;03m# type: ignore[misc]\u001b[39;00m\n\u001b[1;32m   1531\u001b[0m \u001b[38;5;28;01melse\u001b[39;00m:\n\u001b[0;32m-> 1532\u001b[0m     \u001b[38;5;28;01mreturn\u001b[39;00m \u001b[38;5;28;43mself\u001b[39;49m\u001b[38;5;241;43m.\u001b[39;49m\u001b[43m_call_impl\u001b[49m\u001b[43m(\u001b[49m\u001b[38;5;241;43m*\u001b[39;49m\u001b[43margs\u001b[49m\u001b[43m,\u001b[49m\u001b[43m \u001b[49m\u001b[38;5;241;43m*\u001b[39;49m\u001b[38;5;241;43m*\u001b[39;49m\u001b[43mkwargs\u001b[49m\u001b[43m)\u001b[49m\n",
      "File \u001b[0;32m~/llama_inference/llama_env/lib/python3.10/site-packages/torch/nn/modules/module.py:1541\u001b[0m, in \u001b[0;36mModule._call_impl\u001b[0;34m(self, *args, **kwargs)\u001b[0m\n\u001b[1;32m   1536\u001b[0m \u001b[38;5;66;03m# If we don't have any hooks, we want to skip the rest of the logic in\u001b[39;00m\n\u001b[1;32m   1537\u001b[0m \u001b[38;5;66;03m# this function, and just call forward.\u001b[39;00m\n\u001b[1;32m   1538\u001b[0m \u001b[38;5;28;01mif\u001b[39;00m \u001b[38;5;129;01mnot\u001b[39;00m (\u001b[38;5;28mself\u001b[39m\u001b[38;5;241m.\u001b[39m_backward_hooks \u001b[38;5;129;01mor\u001b[39;00m \u001b[38;5;28mself\u001b[39m\u001b[38;5;241m.\u001b[39m_backward_pre_hooks \u001b[38;5;129;01mor\u001b[39;00m \u001b[38;5;28mself\u001b[39m\u001b[38;5;241m.\u001b[39m_forward_hooks \u001b[38;5;129;01mor\u001b[39;00m \u001b[38;5;28mself\u001b[39m\u001b[38;5;241m.\u001b[39m_forward_pre_hooks\n\u001b[1;32m   1539\u001b[0m         \u001b[38;5;129;01mor\u001b[39;00m _global_backward_pre_hooks \u001b[38;5;129;01mor\u001b[39;00m _global_backward_hooks\n\u001b[1;32m   1540\u001b[0m         \u001b[38;5;129;01mor\u001b[39;00m _global_forward_hooks \u001b[38;5;129;01mor\u001b[39;00m _global_forward_pre_hooks):\n\u001b[0;32m-> 1541\u001b[0m     \u001b[38;5;28;01mreturn\u001b[39;00m \u001b[43mforward_call\u001b[49m\u001b[43m(\u001b[49m\u001b[38;5;241;43m*\u001b[39;49m\u001b[43margs\u001b[49m\u001b[43m,\u001b[49m\u001b[43m \u001b[49m\u001b[38;5;241;43m*\u001b[39;49m\u001b[38;5;241;43m*\u001b[39;49m\u001b[43mkwargs\u001b[49m\u001b[43m)\u001b[49m\n\u001b[1;32m   1543\u001b[0m \u001b[38;5;28;01mtry\u001b[39;00m:\n\u001b[1;32m   1544\u001b[0m     result \u001b[38;5;241m=\u001b[39m \u001b[38;5;28;01mNone\u001b[39;00m\n",
      "File \u001b[0;32m~/llama_inference/llama_env/lib/python3.10/site-packages/accelerate/hooks.py:169\u001b[0m, in \u001b[0;36madd_hook_to_module.<locals>.new_forward\u001b[0;34m(module, *args, **kwargs)\u001b[0m\n\u001b[1;32m    167\u001b[0m         output \u001b[38;5;241m=\u001b[39m module\u001b[38;5;241m.\u001b[39m_old_forward(\u001b[38;5;241m*\u001b[39margs, \u001b[38;5;241m*\u001b[39m\u001b[38;5;241m*\u001b[39mkwargs)\n\u001b[1;32m    168\u001b[0m \u001b[38;5;28;01melse\u001b[39;00m:\n\u001b[0;32m--> 169\u001b[0m     output \u001b[38;5;241m=\u001b[39m \u001b[43mmodule\u001b[49m\u001b[38;5;241;43m.\u001b[39;49m\u001b[43m_old_forward\u001b[49m\u001b[43m(\u001b[49m\u001b[38;5;241;43m*\u001b[39;49m\u001b[43margs\u001b[49m\u001b[43m,\u001b[49m\u001b[43m \u001b[49m\u001b[38;5;241;43m*\u001b[39;49m\u001b[38;5;241;43m*\u001b[39;49m\u001b[43mkwargs\u001b[49m\u001b[43m)\u001b[49m\n\u001b[1;32m    170\u001b[0m \u001b[38;5;28;01mreturn\u001b[39;00m module\u001b[38;5;241m.\u001b[39m_"YOUR_HF_TOKEN"\u001b[38;5;241m.\u001b[39mpost_forward(module, output)\n",
      "File \u001b[0;32m~/llama_inference/llama_env/lib/python3.10/site-packages/transformers/models/llama/modeling_llama.py:693\u001b[0m, in \u001b[0;36mLlamaDecoderLayer.forward\u001b[0;34m(self, hidden_states, attention_mask, position_ids, past_key_value, output_attentions, use_cache, cache_position, position_embeddings, **kwargs)\u001b[0m\n\u001b[1;32m    691\u001b[0m residual \u001b[38;5;241m=\u001b[39m hidden_states\n\u001b[1;32m    692\u001b[0m hidden_states \u001b[38;5;241m=\u001b[39m \u001b[38;5;28mself\u001b[39m\u001b[38;5;241m.\u001b[39mpost_attention_layernorm(hidden_states)\n\u001b[0;32m--> 693\u001b[0m hidden_states \u001b[38;5;241m=\u001b[39m \u001b[38;5;28;43mself\u001b[39;49m\u001b[38;5;241;43m.\u001b[39;49m\u001b[43mmlp\u001b[49m\u001b[43m(\u001b[49m\u001b[43mhidden_states\u001b[49m\u001b[43m)\u001b[49m\n\u001b[1;32m    694\u001b[0m hidden_states \u001b[38;5;241m=\u001b[39m residual \u001b[38;5;241m+\u001b[39m hidden_states\n\u001b[1;32m    696\u001b[0m outputs \u001b[38;5;241m=\u001b[39m (hidden_states,)\n",
      "File \u001b[0;32m~/llama_inference/llama_env/lib/python3.10/site-packages/torch/nn/modules/module.py:1532\u001b[0m, in \u001b[0;36mModule._wrapped_call_impl\u001b[0;34m(self, *args, **kwargs)\u001b[0m\n\u001b[1;32m   1530\u001b[0m     \u001b[38;5;28;01mreturn\u001b[39;00m \u001b[38;5;28mself\u001b[39m\u001b[38;5;241m.\u001b[39m_compiled_call_impl(\u001b[38;5;241m*\u001b[39margs, \u001b[38;5;241m*\u001b[39m\u001b[38;5;241m*\u001b[39mkwargs)  \u001b[38;5;66;03m# type: ignore[misc]\u001b[39;00m\n\u001b[1;32m   1531\u001b[0m \u001b[38;5;28;01melse\u001b[39;00m:\n\u001b[0;32m-> 1532\u001b[0m     \u001b[38;5;28;01mreturn\u001b[39;00m \u001b[38;5;28;43mself\u001b[39;49m\u001b[38;5;241;43m.\u001b[39;49m\u001b[43m_call_impl\u001b[49m\u001b[43m(\u001b[49m\u001b[38;5;241;43m*\u001b[39;49m\u001b[43margs\u001b[49m\u001b[43m,\u001b[49m\u001b[43m \u001b[49m\u001b[38;5;241;43m*\u001b[39;49m\u001b[38;5;241;43m*\u001b[39;49m\u001b[43mkwargs\u001b[49m\u001b[43m)\u001b[49m\n",
      "File \u001b[0;32m~/llama_inference/llama_env/lib/python3.10/site-packages/torch/nn/modules/module.py:1541\u001b[0m, in \u001b[0;36mModule._call_impl\u001b[0;34m(self, *args, **kwargs)\u001b[0m\n\u001b[1;32m   1536\u001b[0m \u001b[38;5;66;03m# If we don't have any hooks, we want to skip the rest of the logic in\u001b[39;00m\n\u001b[1;32m   1537\u001b[0m \u001b[38;5;66;03m# this function, and just call forward.\u001b[39;00m\n\u001b[1;32m   1538\u001b[0m \u001b[38;5;28;01mif\u001b[39;00m \u001b[38;5;129;01mnot\u001b[39;00m (\u001b[38;5;28mself\u001b[39m\u001b[38;5;241m.\u001b[39m_backward_hooks \u001b[38;5;129;01mor\u001b[39;00m \u001b[38;5;28mself\u001b[39m\u001b[38;5;241m.\u001b[39m_backward_pre_hooks \u001b[38;5;129;01mor\u001b[39;00m \u001b[38;5;28mself\u001b[39m\u001b[38;5;241m.\u001b[39m_forward_hooks \u001b[38;5;129;01mor\u001b[39;00m \u001b[38;5;28mself\u001b[39m\u001b[38;5;241m.\u001b[39m_forward_pre_hooks\n\u001b[1;32m   1539\u001b[0m         \u001b[38;5;129;01mor\u001b[39;00m _global_backward_pre_hooks \u001b[38;5;129;01mor\u001b[39;00m _global_backward_hooks\n\u001b[1;32m   1540\u001b[0m         \u001b[38;5;129;01mor\u001b[39;00m _global_forward_hooks \u001b[38;5;129;01mor\u001b[39;00m _global_forward_pre_hooks):\n\u001b[0;32m-> 1541\u001b[0m     \u001b[38;5;28;01mreturn\u001b[39;00m \u001b[43mforward_call\u001b[49m\u001b[43m(\u001b[49m\u001b[38;5;241;43m*\u001b[39;49m\u001b[43margs\u001b[49m\u001b[43m,\u001b[49m\u001b[43m \u001b[49m\u001b[38;5;241;43m*\u001b[39;49m\u001b[38;5;241;43m*\u001b[39;49m\u001b[43mkwargs\u001b[49m\u001b[43m)\u001b[49m\n\u001b[1;32m   1543\u001b[0m \u001b[38;5;28;01mtry\u001b[39;00m:\n\u001b[1;32m   1544\u001b[0m     result \u001b[38;5;241m=\u001b[39m \u001b[38;5;28;01mNone\u001b[39;00m\n",
      "File \u001b[0;32m~/llama_inference/llama_env/lib/python3.10/site-packages/accelerate/hooks.py:169\u001b[0m, in \u001b[0;36madd_hook_to_module.<locals>.new_forward\u001b[0;34m(module, *args, **kwargs)\u001b[0m\n\u001b[1;32m    167\u001b[0m         output \u001b[38;5;241m=\u001b[39m module\u001b[38;5;241m.\u001b[39m_old_forward(\u001b[38;5;241m*\u001b[39margs, \u001b[38;5;241m*\u001b[39m\u001b[38;5;241m*\u001b[39mkwargs)\n\u001b[1;32m    168\u001b[0m \u001b[38;5;28;01melse\u001b[39;00m:\n\u001b[0;32m--> 169\u001b[0m     output \u001b[38;5;241m=\u001b[39m \u001b[43mmodule\u001b[49m\u001b[38;5;241;43m.\u001b[39;49m\u001b[43m_old_forward\u001b[49m\u001b[43m(\u001b[49m\u001b[38;5;241;43m*\u001b[39;49m\u001b[43margs\u001b[49m\u001b[43m,\u001b[49m\u001b[43m \u001b[49m\u001b[38;5;241;43m*\u001b[39;49m\u001b[38;5;241;43m*\u001b[39;49m\u001b[43mkwargs\u001b[49m\u001b[43m)\u001b[49m\n\u001b[1;32m    170\u001b[0m \u001b[38;5;28;01mreturn\u001b[39;00m module\u001b[38;5;241m.\u001b[39m_"YOUR_HF_TOKEN"\u001b[38;5;241m.\u001b[39mpost_forward(module, output)\n",
      "File \u001b[0;32m~/llama_inference/llama_env/lib/python3.10/site-packages/transformers/models/llama/modeling_llama.py:253\u001b[0m, in \u001b[0;36mLlamaMLP.forward\u001b[0;34m(self, x)\u001b[0m\n\u001b[1;32m    251\u001b[0m     down_proj \u001b[38;5;241m=\u001b[39m \u001b[38;5;28msum\u001b[39m(down_proj)\n\u001b[1;32m    252\u001b[0m \u001b[38;5;28;01melse\u001b[39;00m:\n\u001b[0;32m--> 253\u001b[0m     down_proj \u001b[38;5;241m=\u001b[39m \u001b[38;5;28mself\u001b[39m\u001b[38;5;241m.\u001b[39mdown_proj(\u001b[38;5;28mself\u001b[39m\u001b[38;5;241m.\u001b[39mact_fn(\u001b[38;5;28;43mself\u001b[39;49m\u001b[38;5;241;43m.\u001b[39;49m\u001b[43mgate_proj\u001b[49m\u001b[43m(\u001b[49m\u001b[43mx\u001b[49m\u001b[43m)\u001b[49m) \u001b[38;5;241m*\u001b[39m \u001b[38;5;28mself\u001b[39m\u001b[38;5;241m.\u001b[39mup_proj(x))\n\u001b[1;32m    255\u001b[0m \u001b[38;5;28;01mreturn\u001b[39;00m down_proj\n",
      "File \u001b[0;32m~/llama_inference/llama_env/lib/python3.10/site-packages/torch/nn/modules/module.py:1532\u001b[0m, in \u001b[0;36mModule._wrapped_call_impl\u001b[0;34m(self, *args, **kwargs)\u001b[0m\n\u001b[1;32m   1530\u001b[0m     \u001b[38;5;28;01mreturn\u001b[39;00m \u001b[38;5;28mself\u001b[39m\u001b[38;5;241m.\u001b[39m_compiled_call_impl(\u001b[38;5;241m*\u001b[39margs, \u001b[38;5;241m*\u001b[39m\u001b[38;5;241m*\u001b[39mkwargs)  \u001b[38;5;66;03m# type: ignore[misc]\u001b[39;00m\n\u001b[1;32m   1531\u001b[0m \u001b[38;5;28;01melse\u001b[39;00m:\n\u001b[0;32m-> 1532\u001b[0m     \u001b[38;5;28;01mreturn\u001b[39;00m \u001b[38;5;28;43mself\u001b[39;49m\u001b[38;5;241;43m.\u001b[39;49m\u001b[43m_call_impl\u001b[49m\u001b[43m(\u001b[49m\u001b[38;5;241;43m*\u001b[39;49m\u001b[43margs\u001b[49m\u001b[43m,\u001b[49m\u001b[43m \u001b[49m\u001b[38;5;241;43m*\u001b[39;49m\u001b[38;5;241;43m*\u001b[39;49m\u001b[43mkwargs\u001b[49m\u001b[43m)\u001b[49m\n",
      "File \u001b[0;32m~/llama_inference/llama_env/lib/python3.10/site-packages/torch/nn/modules/module.py:1541\u001b[0m, in \u001b[0;36mModule._call_impl\u001b[0;34m(self, *args, **kwargs)\u001b[0m\n\u001b[1;32m   1536\u001b[0m \u001b[38;5;66;03m# If we don't have any hooks, we want to skip the rest of the logic in\u001b[39;00m\n\u001b[1;32m   1537\u001b[0m \u001b[38;5;66;03m# this function, and just call forward.\u001b[39;00m\n\u001b[1;32m   1538\u001b[0m \u001b[38;5;28;01mif\u001b[39;00m \u001b[38;5;129;01mnot\u001b[39;00m (\u001b[38;5;28mself\u001b[39m\u001b[38;5;241m.\u001b[39m_backward_hooks \u001b[38;5;129;01mor\u001b[39;00m \u001b[38;5;28mself\u001b[39m\u001b[38;5;241m.\u001b[39m_backward_pre_hooks \u001b[38;5;129;01mor\u001b[39;00m \u001b[38;5;28mself\u001b[39m\u001b[38;5;241m.\u001b[39m_forward_hooks \u001b[38;5;129;01mor\u001b[39;00m \u001b[38;5;28mself\u001b[39m\u001b[38;5;241m.\u001b[39m_forward_pre_hooks\n\u001b[1;32m   1539\u001b[0m         \u001b[38;5;129;01mor\u001b[39;00m _global_backward_pre_hooks \u001b[38;5;129;01mor\u001b[39;00m _global_backward_hooks\n\u001b[1;32m   1540\u001b[0m         \u001b[38;5;129;01mor\u001b[39;00m _global_forward_hooks \u001b[38;5;129;01mor\u001b[39;00m _global_forward_pre_hooks):\n\u001b[0;32m-> 1541\u001b[0m     \u001b[38;5;28;01mreturn\u001b[39;00m \u001b[43mforward_call\u001b[49m\u001b[43m(\u001b[49m\u001b[38;5;241;43m*\u001b[39;49m\u001b[43margs\u001b[49m\u001b[43m,\u001b[49m\u001b[43m \u001b[49m\u001b[38;5;241;43m*\u001b[39;49m\u001b[38;5;241;43m*\u001b[39;49m\u001b[43mkwargs\u001b[49m\u001b[43m)\u001b[49m\n\u001b[1;32m   1543\u001b[0m \u001b[38;5;28;01mtry\u001b[39;00m:\n\u001b[1;32m   1544\u001b[0m     result \u001b[38;5;241m=\u001b[39m \u001b[38;5;28;01mNone\u001b[39;00m\n",
      "File \u001b[0;32m~/llama_inference/llama_env/lib/python3.10/site-packages/accelerate/hooks.py:169\u001b[0m, in \u001b[0;36madd_hook_to_module.<locals>.new_forward\u001b[0;34m(module, *args, **kwargs)\u001b[0m\n\u001b[1;32m    167\u001b[0m         output \u001b[38;5;241m=\u001b[39m module\u001b[38;5;241m.\u001b[39m_old_forward(\u001b[38;5;241m*\u001b[39margs, \u001b[38;5;241m*\u001b[39m\u001b[38;5;241m*\u001b[39mkwargs)\n\u001b[1;32m    168\u001b[0m \u001b[38;5;28;01melse\u001b[39;00m:\n\u001b[0;32m--> 169\u001b[0m     output \u001b[38;5;241m=\u001b[39m \u001b[43mmodule\u001b[49m\u001b[38;5;241;43m.\u001b[39;49m\u001b[43m_old_forward\u001b[49m\u001b[43m(\u001b[49m\u001b[38;5;241;43m*\u001b[39;49m\u001b[43margs\u001b[49m\u001b[43m,\u001b[49m\u001b[43m \u001b[49m\u001b[38;5;241;43m*\u001b[39;49m\u001b[38;5;241;43m*\u001b[39;49m\u001b[43mkwargs\u001b[49m\u001b[43m)\u001b[49m\n\u001b[1;32m    170\u001b[0m \u001b[38;5;28;01mreturn\u001b[39;00m module\u001b[38;5;241m.\u001b[39m_"YOUR_HF_TOKEN"\u001b[38;5;241m.\u001b[39mpost_forward(module, output)\n",
      "File \u001b[0;32m~/llama_inference/llama_env/lib/python3.10/site-packages/bitsandbytes/nn/modules.py:472\u001b[0m, in \u001b[0;36mLinear4bit.forward\u001b[0;34m(self, x)\u001b[0m\n\u001b[1;32m    469\u001b[0m     x \u001b[38;5;241m=\u001b[39m x\u001b[38;5;241m.\u001b[39mto(\u001b[38;5;28mself\u001b[39m\u001b[38;5;241m.\u001b[39mcompute_dtype)\n\u001b[1;32m    471\u001b[0m bias \u001b[38;5;241m=\u001b[39m \u001b[38;5;28;01mNone\u001b[39;00m \u001b[38;5;28;01mif\u001b[39;00m \u001b[38;5;28mself\u001b[39m\u001b[38;5;241m.\u001b[39mbias \u001b[38;5;129;01mis\u001b[39;00m \u001b[38;5;28;01mNone\u001b[39;00m \u001b[38;5;28;01melse\u001b[39;00m \u001b[38;5;28mself\u001b[39m\u001b[38;5;241m.\u001b[39mbias\u001b[38;5;241m.\u001b[39mto(\u001b[38;5;28mself\u001b[39m\u001b[38;5;241m.\u001b[39mcompute_dtype)\n\u001b[0;32m--> 472\u001b[0m out \u001b[38;5;241m=\u001b[39m \u001b[43mbnb\u001b[49m\u001b[38;5;241;43m.\u001b[39;49m\u001b[43mmatmul_4bit\u001b[49m\u001b[43m(\u001b[49m\u001b[43mx\u001b[49m\u001b[43m,\u001b[49m\u001b[43m \u001b[49m\u001b[38;5;28;43mself\u001b[39;49m\u001b[38;5;241;43m.\u001b[39;49m\u001b[43mweight\u001b[49m\u001b[38;5;241;43m.\u001b[39;49m\u001b[43mt\u001b[49m\u001b[43m(\u001b[49m\u001b[43m)\u001b[49m\u001b[43m,\u001b[49m\u001b[43m \u001b[49m\u001b[43mbias\u001b[49m\u001b[38;5;241;43m=\u001b[39;49m\u001b[43mbias\u001b[49m\u001b[43m,\u001b[49m\u001b[43m \u001b[49m\u001b[43mquant_state\u001b[49m\u001b[38;5;241;43m=\u001b[39;49m\u001b[38;5;28;43mself\u001b[39;49m\u001b[38;5;241;43m.\u001b[39;49m\u001b[43mweight\u001b[49m\u001b[38;5;241;43m.\u001b[39;49m\u001b[43mquant_state\u001b[49m\u001b[43m)\u001b[49m\n\u001b[1;32m    474\u001b[0m out \u001b[38;5;241m=\u001b[39m out\u001b[38;5;241m.\u001b[39mto(inp_dtype)\n\u001b[1;32m    476\u001b[0m \u001b[38;5;28;01mreturn\u001b[39;00m out\n",
      "File \u001b[0;32m~/llama_inference/llama_env/lib/python3.10/site-packages/bitsandbytes/autograd/_functions.py:579\u001b[0m, in \u001b[0;36mmatmul_4bit\u001b[0;34m(A, B, quant_state, out, bias)\u001b[0m\n\u001b[1;32m    577\u001b[0m         \u001b[38;5;28;01mreturn\u001b[39;00m out\n\u001b[1;32m    578\u001b[0m \u001b[38;5;28;01melse\u001b[39;00m:\n\u001b[0;32m--> 579\u001b[0m     \u001b[38;5;28;01mreturn\u001b[39;00m \u001b[43mMatMul4Bit\u001b[49m\u001b[38;5;241;43m.\u001b[39;49m\u001b[43mapply\u001b[49m\u001b[43m(\u001b[49m\u001b[43mA\u001b[49m\u001b[43m,\u001b[49m\u001b[43m \u001b[49m\u001b[43mB\u001b[49m\u001b[43m,\u001b[49m\u001b[43m \u001b[49m\u001b[43mout\u001b[49m\u001b[43m,\u001b[49m\u001b[43m \u001b[49m\u001b[43mbias\u001b[49m\u001b[43m,\u001b[49m\u001b[43m \u001b[49m\u001b[43mquant_state\u001b[49m\u001b[43m)\u001b[49m\n",
      "File \u001b[0;32m~/llama_inference/llama_env/lib/python3.10/site-packages/torch/autograd/function.py:598\u001b[0m, in \u001b[0;36mFunction.apply\u001b[0;34m(cls, *args, **kwargs)\u001b[0m\n\u001b[1;32m    595\u001b[0m \u001b[38;5;28;01mif\u001b[39;00m \u001b[38;5;129;01mnot\u001b[39;00m torch\u001b[38;5;241m.\u001b[39m_C\u001b[38;5;241m.\u001b[39m_are_functorch_transforms_active():\n\u001b[1;32m    596\u001b[0m     \u001b[38;5;66;03m# See NOTE: [functorch vjp and autograd interaction]\u001b[39;00m\n\u001b[1;32m    597\u001b[0m     args \u001b[38;5;241m=\u001b[39m _functorch\u001b[38;5;241m.\u001b[39mutils\u001b[38;5;241m.\u001b[39munwrap_dead_wrappers(args)\n\u001b[0;32m--> 598\u001b[0m     \u001b[38;5;28;01mreturn\u001b[39;00m \u001b[38;5;28;43msuper\u001b[39;49m\u001b[43m(\u001b[49m\u001b[43m)\u001b[49m\u001b[38;5;241;43m.\u001b[39;49m\u001b[43mapply\u001b[49m\u001b[43m(\u001b[49m\u001b[38;5;241;43m*\u001b[39;49m\u001b[43margs\u001b[49m\u001b[43m,\u001b[49m\u001b[43m \u001b[49m\u001b[38;5;241;43m*\u001b[39;49m\u001b[38;5;241;43m*\u001b[39;49m\u001b[43mkwargs\u001b[49m\u001b[43m)\u001b[49m  \u001b[38;5;66;03m# type: ignore[misc]\u001b[39;00m\n\u001b[1;32m    600\u001b[0m \u001b[38;5;28;01mif\u001b[39;00m \u001b[38;5;129;01mnot\u001b[39;00m is_setup_ctx_defined:\n\u001b[1;32m    601\u001b[0m     \u001b[38;5;28;01mraise\u001b[39;00m \u001b[38;5;167;01mRuntimeError\u001b[39;00m(\n\u001b[1;32m    602\u001b[0m         \u001b[38;5;124m\"\u001b[39m\u001b[38;5;124mIn order to use an autograd.Function with functorch transforms \u001b[39m\u001b[38;5;124m\"\u001b[39m\n\u001b[1;32m    603\u001b[0m         \u001b[38;5;124m\"\u001b[39m\u001b[38;5;124m(vmap, grad, jvp, jacrev, ...), it must override the setup_context \u001b[39m\u001b[38;5;124m\"\u001b[39m\n\u001b[1;32m    604\u001b[0m         \u001b[38;5;124m\"\u001b[39m\u001b[38;5;124mstaticmethod. For more details, please see \u001b[39m\u001b[38;5;124m\"\u001b[39m\n\u001b[1;32m    605\u001b[0m         \u001b[38;5;124m\"\u001b[39m\u001b[38;5;124mhttps://pytorch.org/docs/master/notes/extending.func.html\u001b[39m\u001b[38;5;124m\"\u001b[39m\n\u001b[1;32m    606\u001b[0m     )\n",
      "File \u001b[0;32m~/llama_inference/llama_env/lib/python3.10/site-packages/bitsandbytes/autograd/_functions.py:509\u001b[0m, in \u001b[0;36mMatMul4Bit.forward\u001b[0;34m(ctx, A, B, out, bias, quant_state)\u001b[0m\n\u001b[1;32m    505\u001b[0m         \u001b[38;5;28;01mreturn\u001b[39;00m torch\u001b[38;5;241m.\u001b[39mempty(A\u001b[38;5;241m.\u001b[39mshape[:\u001b[38;5;241m-\u001b[39m\u001b[38;5;241m1\u001b[39m] \u001b[38;5;241m+\u001b[39m B_shape[:\u001b[38;5;241m1\u001b[39m], dtype\u001b[38;5;241m=\u001b[39mA\u001b[38;5;241m.\u001b[39mdtype, device\u001b[38;5;241m=\u001b[39mA\u001b[38;5;241m.\u001b[39mdevice)\n\u001b[1;32m    507\u001b[0m \u001b[38;5;66;03m# 1. Dequantize\u001b[39;00m\n\u001b[1;32m    508\u001b[0m \u001b[38;5;66;03m# 2. MatmulnN\u001b[39;00m\n\u001b[0;32m--> 509\u001b[0m output \u001b[38;5;241m=\u001b[39m torch\u001b[38;5;241m.\u001b[39mnn\u001b[38;5;241m.\u001b[39mfunctional\u001b[38;5;241m.\u001b[39mlinear(A, \u001b[43mF\u001b[49m\u001b[38;5;241;43m.\u001b[39;49m\u001b[43mdequantize_4bit\u001b[49m\u001b[43m(\u001b[49m\u001b[43mB\u001b[49m\u001b[43m,\u001b[49m\u001b[43m \u001b[49m\u001b[43mquant_state\u001b[49m\u001b[43m)\u001b[49m\u001b[38;5;241;43m.\u001b[39;49m\u001b[43mto\u001b[49m\u001b[43m(\u001b[49m\u001b[43mA\u001b[49m\u001b[38;5;241;43m.\u001b[39;49m\u001b[43mdtype\u001b[49m\u001b[43m)\u001b[49m\u001b[38;5;241m.\u001b[39mt(), bias)\n\u001b[1;32m    511\u001b[0m \u001b[38;5;66;03m# 3. Save state\u001b[39;00m\n\u001b[1;32m    512\u001b[0m ctx\u001b[38;5;241m.\u001b[39mstate \u001b[38;5;241m=\u001b[39m quant_state\n",
      "\u001b[0;31mOutOfMemoryError\u001b[0m: CUDA out of memory. Tried to allocate 448.00 MiB. GPU \u0001 has a total capacity of 44.32 GiB of which 135.75 MiB is free. Including non-PyTorch memory, this process has 44.17 GiB memory in use. Of the allocated memory 42.62 GiB is allocated by PyTorch, and 1.06 GiB is reserved by PyTorch but unallocated. If reserved but unallocated memory is large try setting PYTORCH_CUDA_ALLOC_CONF=expandable_segments:True to avoid fragmentation.  See documentation for Memory Management  (https://pytorch.org/docs/stable/notes/cuda.html#environment-variables)"
     ]
    }
   ],
   "source": [
    "def symptom_based_identification(symptom) : \n",
    "    messages = [\n",
    "        {\"role\": \"system\", \"content\": f\"{sys_prompt_2}\"},\n",
    "        {\"role\": \"user\", \"content\": f\"{symptom}\\n\"},]\n",
    "\n",
    "    temperature = 0.1\n",
    "    text_generator = pipeline('text-generation', model=model, tokenizer=tokenizer)\n",
    "    generated_text = text_generator(messages, max_new_tokens=300, num_return_sequences=1, temperature=temperature)\n",
    "    return generated_text[0]['generated_text'][-1]['content']\n",
    "\n",
    "json.loads(symptom_based_identification('back pain'))"
   ]
  },
  {
   "cell_type": "code",
   "execution_count": 108,
   "metadata": {},
   "outputs": [
    {
     "data": {
      "text/plain": [
       "{'Tension headache': 'Stress-related pain in head muscles',\n",
       " 'Migraine': 'Severe throbbing pain, often one-sided',\n",
       " 'Cluster headache': 'Severe pain around one eye or temple',\n",
       " 'Sinusitis': 'Inflammation of sinuses causing pressure and pain',\n",
       " 'Medication overuse headache': 'Rebound headache from excessive painkiller use',\n",
       " 'Cervicogenic headache': 'Pain originating from neck muscles or joints',\n",
       " 'Hypertension headache': 'Headache caused by high blood pressure',\n",
       " 'Temporal arteritis': 'Inflammation of temporal artery causing severe throbbing pain',\n",
       " 'Meningitis': 'Infection of brain membranes causing severe headache',\n",
       " 'Brain tumor': 'Abnormal growth in brain causing persistent headaches'}"
      ]
     },
     "execution_count": 108,
     "metadata": {},
     "output_type": "execute_result"
    }
   ],
   "source": [
    "json.loads(symptom_based_identification('headache'))"
   ]
  },
  {
   "cell_type": "code",
   "execution_count": 109,
   "metadata": {},
   "outputs": [
    {
     "data": {
      "text/plain": [
       "'{\"Muscle strain\": \"Common cause of low back pain\", \"Herniated disc\": \"When the soft inner part of a disc pushes through the tougher outer ring\", \"Degenerative disc disease\": \"Aging-related wear and tear of spinal discs\", \"Spinal stenosis\": \"Narrowing of the spinal canal that can put pressure on the spinal cord\", \"Arthritis\": \"Inflammation of one or more joints\", \"Scoliosis\": \"Abnormal sideways curvature of the spine\", \"Kidney stones\": \"Hard deposits formed in the kidneys\", \"Infection\": \"Bacterial or viral infection affecting the lower back\", \"Osteoporosis\": \"Weak and brittle bones\", \"Ankylosing spondylitis\": \"Inflammatory arthritis affecting the spine and large joints\"}'"
      ]
     },
     "execution_count": 109,
     "metadata": {},
     "output_type": "execute_result"
    }
   ],
   "source": [
    "symptom_based_identification('low back pain')"
   ]
  },
  {
   "cell_type": "code",
   "execution_count": 110,
   "metadata": {},
   "outputs": [
    {
     "data": {
      "text/plain": [
       "{'Gastroenteritis': 'Inflammation of the stomach and bowel lining.',\n",
       " 'Gallstones': 'Hard particles that form in the gallbladder.',\n",
       " 'Appendicitis': 'Inflammation of the appendix, usually causing pain.',\n",
       " 'Peptic ulcer': 'Open sore in the lining of the stomach or duodenum.',\n",
       " 'Diverticulitis': 'Infection/inflammation of small pouches in the colon.',\n",
       " 'Irritable bowel syndrome': 'Disorder causing abdominal pain, bloating, and changes in bowel habits.',\n",
       " 'Kidney stones': 'Hard mineral and salt deposits that form in the kidneys.',\n",
       " 'Pancreatitis': 'Inflammation of the pancreas, which can cause severe abdominal pain.',\n",
       " 'Ovarian cyst': 'Fluid-filled sac in the ovary, sometimes causing pain.',\n",
       " 'Hernia': 'When an organ pushes through a weak spot in the surrounding muscle or tissue.'}"
      ]
     },
     "execution_count": 110,
     "metadata": {},
     "output_type": "execute_result"
    }
   ],
   "source": [
    "json.loads(symptom_based_identification('abdominal pain'))"
   ]
  },
  {
   "cell_type": "code",
   "execution_count": 111,
   "metadata": {},
   "outputs": [
    {
     "data": {
      "text/plain": [
       "{\"Alzheimer's disease\": 'Progressive memory loss and cognitive decline.',\n",
       " 'Vascular dementia': 'Memory loss due to reduced blood flow to the brain.',\n",
       " 'Mild cognitive impairment': 'Memory problems that are noticeable but not severe.',\n",
       " 'Frontotemporal dementia': 'Changes in personality and language difficulties.',\n",
       " 'Traumatic brain injury': 'Memory loss following a head injury.',\n",
       " 'Hypothyroidism': 'Memory problems and fatigue due to low thyroid hormone levels.',\n",
       " 'Depression': 'Memory difficulties and persistent feelings of sadness.',\n",
       " 'Chronic alcoholism': 'Memory loss and confusion due to excessive alcohol consumption.',\n",
       " 'Multiple sclerosis': 'Memory problems and coordination difficulties.',\n",
       " 'Brain tumor': 'Memory loss and other neurological symptoms.'}"
      ]
     },
     "execution_count": 111,
     "metadata": {},
     "output_type": "execute_result"
    }
   ],
   "source": [
    "json.loads(symptom_based_identification('Memory loss'))"
   ]
  },
  {
   "cell_type": "code",
   "execution_count": 112,
   "metadata": {},
   "outputs": [
    {
     "data": {
      "text/plain": [
       "{'Gastroenteritis': 'Inflammation of the gastrointestinal tract',\n",
       " 'Food poisoning': 'Illness from consuming contaminated food',\n",
       " 'Irritable bowel syndrome': 'Chronic disorder causing abdominal pain and bloating',\n",
       " \"Crohn's disease\": 'Inflammatory bowel disease with various symptoms',\n",
       " 'Ulcerative colitis': 'Inflammatory condition of the colon and rectum',\n",
       " 'Celiac disease': 'Immune reaction to gluten causing digestive issues',\n",
       " 'Inflammatory bowel disease': 'Chronic inflammation of the digestive tract',\n",
       " 'Diverticulitis': 'Infection/inflammation of small pouches in the colon',\n",
       " 'Malabsorption': 'Impaired absorption of nutrients in the intestine',\n",
       " 'Colorectal cancer': 'Malignant growths in the colon or rectum'}"
      ]
     },
     "execution_count": 112,
     "metadata": {},
     "output_type": "execute_result"
    }
   ],
   "source": [
    "json.loads(symptom_based_identification('diarrhea'))"
   ]
  },
  {
   "cell_type": "code",
   "execution_count": 113,
   "metadata": {},
   "outputs": [
    {
     "data": {
      "text/plain": [
       "{'Hemiparesis': 'Weakness on one side of the body',\n",
       " 'Stroke': 'Sudden weakness on one side',\n",
       " \"Bell's Palsy\": 'Weakness of facial muscles on one side',\n",
       " 'Brain Tumor': 'Headaches and weakness on one side',\n",
       " 'Multiple Sclerosis': 'Weakness in limbs on one side',\n",
       " 'Spinal Cord Injury': 'Weakness or paralysis on one side',\n",
       " 'Transient Ischemic Attack': 'Temporary weakness on one side',\n",
       " 'Meningitis': 'Severe headache and weakness on one side',\n",
       " 'Encephalitis': 'Brain inflammation causing weakness on one side',\n",
       " 'Guillain-Barré Syndrome': 'Ascending muscle weakness starting in legs'}"
      ]
     },
     "execution_count": 113,
     "metadata": {},
     "output_type": "execute_result"
    }
   ],
   "source": [
    "json.loads(symptom_based_identification('weakness of one half of body'))"
   ]
  },
  {
   "cell_type": "code",
   "execution_count": 114,
   "metadata": {},
   "outputs": [
    {
     "data": {
      "text/plain": [
       "{'Liver Cirrhosis': 'Chronic liver disease causing jaundice.',\n",
       " 'Hepatitis': 'Inflammation of the liver.',\n",
       " 'Gallstones': 'Obstruction in the bile ducts.',\n",
       " 'Hemolytic Anemia': 'Excessive breakdown of red blood cells.',\n",
       " 'Alcoholic Liver Disease': 'Liver damage due to excessive alcohol consumption.',\n",
       " 'Primary Biliary Cirrhosis': 'Autoimmune destruction of the bile ducts.',\n",
       " 'Primary Sclerosing Cholangitis': 'Inflammation and scarring of the bile ducts.',\n",
       " \"Gilbert's Syndrome\": 'Mild unconjugated hyperbilirubinemia.',\n",
       " 'Dubin-Johnson Syndrome': 'Rare inherited disorder affecting bilirubin metabolism.',\n",
       " 'Rotor Syndrome': 'Rare disorder causing jaundice and bile pigment accumulation.'}"
      ]
     },
     "execution_count": 114,
     "metadata": {},
     "output_type": "execute_result"
    }
   ],
   "source": [
    "json.loads(symptom_based_identification('yellowish discolouration of eyes and urine'))"
   ]
  },
  {
   "cell_type": "code",
   "execution_count": 115,
   "metadata": {},
   "outputs": [
    {
     "data": {
      "text/plain": [
       "{'Rheumatoid arthritis': 'Chronic autoimmune disorder affecting joints.',\n",
       " 'Osteoarthritis': 'Degenerative joint disease causing pain and swelling.',\n",
       " 'Gout': 'Form of inflammatory arthritis causing sudden joint pain.',\n",
       " 'Lupus': 'Chronic autoimmune disease with joint pain and swelling.',\n",
       " 'Rheumatic fever': 'Inflammatory disease causing joint pain and swelling in children.',\n",
       " 'Pseudogout': 'Form of arthritis causing joint pain and swelling, similar to gout.',\n",
       " 'Ankylosing spondylitis': 'Inflammatory arthritis affecting spine and large joints.',\n",
       " 'Psoriatic arthritis': 'Inflammatory arthritis associated with psoriasis, causing joint pain and swelling.',\n",
       " 'Septic arthritis': 'Bacterial infection in a joint causing pain and swelling.',\n",
       " 'Gonococcal arthritis': 'Sexually transmitted infection causing joint pain and swelling.'}"
      ]
     },
     "execution_count": 115,
     "metadata": {},
     "output_type": "execute_result"
    }
   ],
   "source": [
    "json.loads(symptom_based_identification('joint pain and swelling'))"
   ]
  },
  {
   "cell_type": "code",
   "execution_count": 116,
   "metadata": {},
   "outputs": [
    {
     "data": {
      "text/plain": [
       "{'Pulmonary embolism': 'Blood clot in lung artery',\n",
       " 'Asthma': 'Airway inflammation and constriction',\n",
       " 'Pneumonia': 'Infection causing lung inflammation',\n",
       " 'Chronic obstructive pulmonary disease': 'Long-term lung disease causing airflow limitation',\n",
       " 'Heart failure': 'Heart unable to pump blood efficiently',\n",
       " 'Anxiety': 'Psychological condition causing breathing difficulty',\n",
       " 'Lung cancer': 'Malignant growth in lung tissue',\n",
       " 'Bronchitis': 'Inflammation of bronchial tubes',\n",
       " 'Pleural effusion': 'Buildup of fluid in lung lining',\n",
       " 'Gastroesophageal reflux disease': 'Acid reflux from stomach to esophagus'}"
      ]
     },
     "execution_count": 116,
     "metadata": {},
     "output_type": "execute_result"
    }
   ],
   "source": [
    "json.loads(symptom_based_identification('shortness of breath'))"
   ]
  },
  {
   "cell_type": "code",
   "execution_count": null,
   "metadata": {},
   "outputs": [],
   "source": [
    "# python tasks/mp/mp.py \\\n",
    "#  --mimic_dir /home/ashish/llama_inference/physionet.org/files/mimiciii/1.4 \\   \n",
    "#  --save_dir /home/ashish/llama_inference/clinical-outcome-prediction/saved_files \\  \n",
    "#  --admission_only True \\   "
   ]
  },
  {
   "cell_type": "code",
   "execution_count": 1,
   "metadata": {},
   "outputs": [
    {
     "ename": "SyntaxError",
     "evalue": "unexpected character after line continuation character (1175919962.py, line 1)",
     "output_type": "error",
     "traceback": [
      "\u001b[0;36m  Cell \u001b[0;32mIn[1], line 1\u001b[0;36m\u001b[0m\n\u001b[0;31m    python tasks/mp/mp.py --mimic_dir /home/ashish/llama_inference/physionet.org/files/mimiciii/1.4  --save_dir /home/ashish/llama_inference/clinical-outcome-prediction/saved_files  --admission_only True \\\u001b[0m\n\u001b[0m                                                                                                                                                                                                             ^\u001b[0m\n\u001b[0;31mSyntaxError\u001b[0m\u001b[0;31m:\u001b[0m unexpected character after line continuation character\n"
     ]
    }
   ],
   "source": []
  }
 ],
 "metadata": {
  "kernelspec": {
   "display_name": "llama_env",
   "language": "python",
   "name": "python3"
  },
  "language_info": {
   "codemirror_mode": {
    "name": "ipython",
    "version": 3
   },
   "file_extension": ".py",
   "mimetype": "text/x-python",
   "name": "python",
   "nbconvert_exporter": "python",
   "pygments_lexer": "ipython3",
   "version": "3.10.12"
  }
 },
 "nbformat": 4,
 "nbformat_minor": 2
}
