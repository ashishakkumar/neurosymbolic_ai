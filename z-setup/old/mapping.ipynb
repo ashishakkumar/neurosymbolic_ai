{
 "cells": [
  {
   "cell_type": "code",
   "execution_count": 1,
   "metadata": {},
   "outputs": [],
   "source": [
    "# !pip install pandas"
   ]
  },
  {
   "cell_type": "code",
   "execution_count": 2,
   "metadata": {},
   "outputs": [],
   "source": [
    "# !pip install pyarrow"
   ]
  },
  {
   "cell_type": "code",
   "execution_count": 3,
   "metadata": {},
   "outputs": [],
   "source": [
    "# pip install polars"
   ]
  },
  {
   "cell_type": "code",
   "execution_count": 1,
   "metadata": {},
   "outputs": [],
   "source": [
    "import gzip\n",
    "import pandas as pd\n",
    "import polars as pl\n",
    "import gc\n",
    "def read_gzip_csv(file_path):\n",
    "    with gzip.open(file_path, 'rt') as f:\n",
    "        df = pd.read_csv(f)\n",
    "    return df\n",
    "\n",
    "# df = read_gzip_csv('physionet.org/files/mimiciv/3.0/hosp/d_icd_diagnoses.csv.gz')\n",
    "# df.to_csv('physionet.org/files/mimiciv/3.0/hosp/d_icd_diagnoses.csv')\n",
    "\n",
    "NOTES_PATH = 'physionet.org/files/mimiciii/1.4/NOTEEVENTS.csv'\n",
    "DIAGNOSIS_DETAIL = 'physionet.org/files/mimiciii/1.4/DIAGNOSES_ICD.csv'\n",
    "ICD910_CODES = 'physionet.org/files/mimiciii/1.4/D_ICD_DIAGNOSES.csv'\n",
    "ADMISSIONS_PATH = 'physionet.org/files/mimiciii/1.4/ADMISSIONS.csv'"
   ]
  },
  {
   "cell_type": "code",
   "execution_count": 2,
   "metadata": {},
   "outputs": [
    {
     "data": {
      "text/html": [
       "<div>\n",
       "<style scoped>\n",
       "    .dataframe tbody tr th:only-of-type {\n",
       "        vertical-align: middle;\n",
       "    }\n",
       "\n",
       "    .dataframe tbody tr th {\n",
       "        vertical-align: top;\n",
       "    }\n",
       "\n",
       "    .dataframe thead th {\n",
       "        text-align: right;\n",
       "    }\n",
       "</style>\n",
       "<table border=\"1\" class=\"dataframe\">\n",
       "  <thead>\n",
       "    <tr style=\"text-align: right;\">\n",
       "      <th></th>\n",
       "      <th>ROW_ID</th>\n",
       "      <th>SUBJECT_ID</th>\n",
       "      <th>HADM_ID</th>\n",
       "      <th>CHARTDATE</th>\n",
       "      <th>CHARTTIME</th>\n",
       "      <th>STORETIME</th>\n",
       "      <th>CATEGORY</th>\n",
       "      <th>DESCRIPTION</th>\n",
       "      <th>CGID</th>\n",
       "      <th>ISERROR</th>\n",
       "      <th>TEXT</th>\n",
       "    </tr>\n",
       "  </thead>\n",
       "  <tbody>\n",
       "    <tr>\n",
       "      <th>0</th>\n",
       "      <td>174</td>\n",
       "      <td>22532</td>\n",
       "      <td>167853.0</td>\n",
       "      <td>2151-08-04</td>\n",
       "      <td>None</td>\n",
       "      <td>None</td>\n",
       "      <td>Discharge summary</td>\n",
       "      <td>Report</td>\n",
       "      <td>None</td>\n",
       "      <td>None</td>\n",
       "      <td>Admission Date:  [**2151-7-16**]       Dischar...</td>\n",
       "    </tr>\n",
       "    <tr>\n",
       "      <th>1</th>\n",
       "      <td>175</td>\n",
       "      <td>13702</td>\n",
       "      <td>107527.0</td>\n",
       "      <td>2118-06-14</td>\n",
       "      <td>None</td>\n",
       "      <td>None</td>\n",
       "      <td>Discharge summary</td>\n",
       "      <td>Report</td>\n",
       "      <td>None</td>\n",
       "      <td>None</td>\n",
       "      <td>Admission Date:  [**2118-6-2**]       Discharg...</td>\n",
       "    </tr>\n",
       "    <tr>\n",
       "      <th>2</th>\n",
       "      <td>176</td>\n",
       "      <td>13702</td>\n",
       "      <td>167118.0</td>\n",
       "      <td>2119-05-25</td>\n",
       "      <td>None</td>\n",
       "      <td>None</td>\n",
       "      <td>Discharge summary</td>\n",
       "      <td>Report</td>\n",
       "      <td>None</td>\n",
       "      <td>None</td>\n",
       "      <td>Admission Date:  [**2119-5-4**]              D...</td>\n",
       "    </tr>\n",
       "    <tr>\n",
       "      <th>3</th>\n",
       "      <td>177</td>\n",
       "      <td>13702</td>\n",
       "      <td>196489.0</td>\n",
       "      <td>2124-08-18</td>\n",
       "      <td>None</td>\n",
       "      <td>None</td>\n",
       "      <td>Discharge summary</td>\n",
       "      <td>Report</td>\n",
       "      <td>None</td>\n",
       "      <td>None</td>\n",
       "      <td>Admission Date:  [**2124-7-21**]              ...</td>\n",
       "    </tr>\n",
       "    <tr>\n",
       "      <th>4</th>\n",
       "      <td>178</td>\n",
       "      <td>26880</td>\n",
       "      <td>135453.0</td>\n",
       "      <td>2162-03-25</td>\n",
       "      <td>None</td>\n",
       "      <td>None</td>\n",
       "      <td>Discharge summary</td>\n",
       "      <td>Report</td>\n",
       "      <td>None</td>\n",
       "      <td>None</td>\n",
       "      <td>Admission Date:  [**2162-3-3**]              D...</td>\n",
       "    </tr>\n",
       "  </tbody>\n",
       "</table>\n",
       "</div>"
      ],
      "text/plain": [
       "   ROW_ID  SUBJECT_ID   HADM_ID   CHARTDATE CHARTTIME STORETIME  \\\n",
       "0     174       22532  167853.0  2151-08-04      None      None   \n",
       "1     175       13702  107527.0  2118-06-14      None      None   \n",
       "2     176       13702  167118.0  2119-05-25      None      None   \n",
       "3     177       13702  196489.0  2124-08-18      None      None   \n",
       "4     178       26880  135453.0  2162-03-25      None      None   \n",
       "\n",
       "            CATEGORY DESCRIPTION  CGID ISERROR  \\\n",
       "0  Discharge summary      Report  None    None   \n",
       "1  Discharge summary      Report  None    None   \n",
       "2  Discharge summary      Report  None    None   \n",
       "3  Discharge summary      Report  None    None   \n",
       "4  Discharge summary      Report  None    None   \n",
       "\n",
       "                                                TEXT  \n",
       "0  Admission Date:  [**2151-7-16**]       Dischar...  \n",
       "1  Admission Date:  [**2118-6-2**]       Discharg...  \n",
       "2  Admission Date:  [**2119-5-4**]              D...  \n",
       "3  Admission Date:  [**2124-7-21**]              ...  \n",
       "4  Admission Date:  [**2162-3-3**]              D...  "
      ]
     },
     "execution_count": 2,
     "metadata": {},
     "output_type": "execute_result"
    }
   ],
   "source": [
    "notes_df = pl.read_csv(NOTES_PATH)\n",
    "notes_df = notes_df.to_pandas()\n",
    "notes_df.head()"
   ]
  },
  {
   "cell_type": "code",
   "execution_count": 3,
   "metadata": {},
   "outputs": [
    {
     "name": "stdout",
     "output_type": "stream",
     "text": [
      "<class 'pandas.core.frame.DataFrame'>\n",
      "RangeIndex: 2083180 entries, 0 to 2083179\n",
      "Data columns (total 11 columns):\n",
      " #   Column       Dtype  \n",
      "---  ------       -----  \n",
      " 0   ROW_ID       int64  \n",
      " 1   SUBJECT_ID   int64  \n",
      " 2   HADM_ID      float64\n",
      " 3   CHARTDATE    object \n",
      " 4   CHARTTIME    object \n",
      " 5   STORETIME    object \n",
      " 6   CATEGORY     object \n",
      " 7   DESCRIPTION  object \n",
      " 8   CGID         object \n",
      " 9   ISERROR      object \n",
      " 10  TEXT         object \n",
      "dtypes: float64(1), int64(2), object(8)\n",
      "memory usage: 174.8+ MB\n"
     ]
    }
   ],
   "source": [
    "notes_df.info()"
   ]
  },
  {
   "cell_type": "code",
   "execution_count": 4,
   "metadata": {},
   "outputs": [],
   "source": [
    "admissions_df = pd.read_csv('physionet.org/files/mimiciii/1.4/ADMISSIONS.csv')\n",
    "adm_grownups = admissions_df[admissions_df.ADMISSION_TYPE != \"NEWBORN\"]"
   ]
  },
  {
   "cell_type": "code",
   "execution_count": 5,
   "metadata": {},
   "outputs": [],
   "source": [
    "# remove notes with no TEXT or HADM_ID\n",
    "notes_df = notes_df.dropna(subset=[\"TEXT\", \"HADM_ID\"])\n",
    "\n",
    "# filter discharge summaries\n",
    "notes_df = notes_df[notes_df.CATEGORY == \"Discharge summary\"]\n",
    "\n",
    "# remove duplicates and keep the later ones\n",
    "notes_df = notes_df.sort_values(by=[\"CHARTDATE\"])\n",
    "notes_df = notes_df.drop_duplicates(subset=[\"TEXT\"], keep=\"last\")\n",
    "\n",
    "# combine text of same admissions (those are usually addendums)\n",
    "combined_adm_texts = notes_df.groupby('HADM_ID')['TEXT'].apply(lambda x: '\\n\\n'.join(x)).reset_index()\n",
    "notes_df = notes_df[notes_df.DESCRIPTION == \"Report\"]\n",
    "notes_df = notes_df[[\"HADM_ID\", \"ROW_ID\", \"SUBJECT_ID\", \"CHARTDATE\"]]\n",
    "notes_df = notes_df.drop_duplicates(subset=[\"HADM_ID\"], keep=\"last\")\n",
    "notes_df = pd.merge(combined_adm_texts, notes_df, on=\"HADM_ID\", how=\"inner\")\n",
    "\n",
    "# strip texts from leading and trailing and white spaces\n",
    "notes_df[\"TEXT\"] = notes_df[\"TEXT\"].str.strip()\n",
    "\n",
    "# remove entries without admission id, subject id or text\n",
    "notes_df = notes_df.dropna(subset=[\"HADM_ID\", \"SUBJECT_ID\", \"TEXT\"])"
   ]
  },
  {
   "cell_type": "code",
   "execution_count": 6,
   "metadata": {},
   "outputs": [
    {
     "data": {
      "text/html": [
       "<div>\n",
       "<style scoped>\n",
       "    .dataframe tbody tr th:only-of-type {\n",
       "        vertical-align: middle;\n",
       "    }\n",
       "\n",
       "    .dataframe tbody tr th {\n",
       "        vertical-align: top;\n",
       "    }\n",
       "\n",
       "    .dataframe thead th {\n",
       "        text-align: right;\n",
       "    }\n",
       "</style>\n",
       "<table border=\"1\" class=\"dataframe\">\n",
       "  <thead>\n",
       "    <tr style=\"text-align: right;\">\n",
       "      <th></th>\n",
       "      <th>HADM_ID</th>\n",
       "      <th>TEXT</th>\n",
       "      <th>ROW_ID</th>\n",
       "      <th>SUBJECT_ID</th>\n",
       "      <th>CHARTDATE</th>\n",
       "    </tr>\n",
       "  </thead>\n",
       "  <tbody>\n",
       "    <tr>\n",
       "      <th>0</th>\n",
       "      <td>100001.0</td>\n",
       "      <td>Admission Date:  [**2117-9-11**]              ...</td>\n",
       "      <td>42102</td>\n",
       "      <td>58526</td>\n",
       "      <td>2117-09-17</td>\n",
       "    </tr>\n",
       "    <tr>\n",
       "      <th>1</th>\n",
       "      <td>100003.0</td>\n",
       "      <td>Admission Date:  [**2150-4-17**]              ...</td>\n",
       "      <td>19215</td>\n",
       "      <td>54610</td>\n",
       "      <td>2150-04-21</td>\n",
       "    </tr>\n",
       "    <tr>\n",
       "      <th>2</th>\n",
       "      <td>100006.0</td>\n",
       "      <td>Admission Date:  [**2108-4-6**]       Discharg...</td>\n",
       "      <td>8772</td>\n",
       "      <td>9895</td>\n",
       "      <td>2108-04-17</td>\n",
       "    </tr>\n",
       "    <tr>\n",
       "      <th>3</th>\n",
       "      <td>100007.0</td>\n",
       "      <td>Admission Date:  [**2145-3-31**]              ...</td>\n",
       "      <td>50238</td>\n",
       "      <td>23018</td>\n",
       "      <td>2145-04-07</td>\n",
       "    </tr>\n",
       "    <tr>\n",
       "      <th>4</th>\n",
       "      <td>100009.0</td>\n",
       "      <td>Admission Date:  [**2162-5-16**]              ...</td>\n",
       "      <td>21119</td>\n",
       "      <td>533</td>\n",
       "      <td>2162-05-21</td>\n",
       "    </tr>\n",
       "    <tr>\n",
       "      <th>...</th>\n",
       "      <td>...</td>\n",
       "      <td>...</td>\n",
       "      <td>...</td>\n",
       "      <td>...</td>\n",
       "      <td>...</td>\n",
       "    </tr>\n",
       "    <tr>\n",
       "      <th>52686</th>\n",
       "      <td>199993.0</td>\n",
       "      <td>Admission Date:  [**2161-10-23**]       Discha...</td>\n",
       "      <td>16616</td>\n",
       "      <td>20785</td>\n",
       "      <td>2161-11-17</td>\n",
       "    </tr>\n",
       "    <tr>\n",
       "      <th>52687</th>\n",
       "      <td>199994.0</td>\n",
       "      <td>Admission Date:  [**2188-7-7**]       Discharg...</td>\n",
       "      <td>10570</td>\n",
       "      <td>23761</td>\n",
       "      <td>2188-07-17</td>\n",
       "    </tr>\n",
       "    <tr>\n",
       "      <th>52688</th>\n",
       "      <td>199995.0</td>\n",
       "      <td>Admission Date: [**2137-12-11**]        Discha...</td>\n",
       "      <td>21697</td>\n",
       "      <td>19412</td>\n",
       "      <td>2137-12-28</td>\n",
       "    </tr>\n",
       "    <tr>\n",
       "      <th>52689</th>\n",
       "      <td>199998.0</td>\n",
       "      <td>Admission Date:  [**2119-2-18**]              ...</td>\n",
       "      <td>33528</td>\n",
       "      <td>27200</td>\n",
       "      <td>2119-02-24</td>\n",
       "    </tr>\n",
       "    <tr>\n",
       "      <th>52690</th>\n",
       "      <td>199999.0</td>\n",
       "      <td>Admission Date:  [**2136-4-4**]              D...</td>\n",
       "      <td>2652</td>\n",
       "      <td>40370</td>\n",
       "      <td>2136-04-10</td>\n",
       "    </tr>\n",
       "  </tbody>\n",
       "</table>\n",
       "<p>52691 rows × 5 columns</p>\n",
       "</div>"
      ],
      "text/plain": [
       "        HADM_ID                                               TEXT  ROW_ID  \\\n",
       "0      100001.0  Admission Date:  [**2117-9-11**]              ...   42102   \n",
       "1      100003.0  Admission Date:  [**2150-4-17**]              ...   19215   \n",
       "2      100006.0  Admission Date:  [**2108-4-6**]       Discharg...    8772   \n",
       "3      100007.0  Admission Date:  [**2145-3-31**]              ...   50238   \n",
       "4      100009.0  Admission Date:  [**2162-5-16**]              ...   21119   \n",
       "...         ...                                                ...     ...   \n",
       "52686  199993.0  Admission Date:  [**2161-10-23**]       Discha...   16616   \n",
       "52687  199994.0  Admission Date:  [**2188-7-7**]       Discharg...   10570   \n",
       "52688  199995.0  Admission Date: [**2137-12-11**]        Discha...   21697   \n",
       "52689  199998.0  Admission Date:  [**2119-2-18**]              ...   33528   \n",
       "52690  199999.0  Admission Date:  [**2136-4-4**]              D...    2652   \n",
       "\n",
       "       SUBJECT_ID   CHARTDATE  \n",
       "0           58526  2117-09-17  \n",
       "1           54610  2150-04-21  \n",
       "2            9895  2108-04-17  \n",
       "3           23018  2145-04-07  \n",
       "4             533  2162-05-21  \n",
       "...           ...         ...  \n",
       "52686       20785  2161-11-17  \n",
       "52687       23761  2188-07-17  \n",
       "52688       19412  2137-12-28  \n",
       "52689       27200  2119-02-24  \n",
       "52690       40370  2136-04-10  \n",
       "\n",
       "[52691 rows x 5 columns]"
      ]
     },
     "execution_count": 6,
     "metadata": {},
     "output_type": "execute_result"
    }
   ],
   "source": [
    "notes_df"
   ]
  },
  {
   "cell_type": "code",
   "execution_count": 7,
   "metadata": {},
   "outputs": [
    {
     "name": "stdout",
     "output_type": "stream",
     "text": [
      "<class 'pandas.core.frame.DataFrame'>\n",
      "RangeIndex: 52691 entries, 0 to 52690\n",
      "Data columns (total 5 columns):\n",
      " #   Column      Non-Null Count  Dtype  \n",
      "---  ------      --------------  -----  \n",
      " 0   HADM_ID     52691 non-null  float64\n",
      " 1   TEXT        52691 non-null  object \n",
      " 2   ROW_ID      52691 non-null  int64  \n",
      " 3   SUBJECT_ID  52691 non-null  int64  \n",
      " 4   CHARTDATE   52691 non-null  object \n",
      "dtypes: float64(1), int64(2), object(2)\n",
      "memory usage: 2.0+ MB\n"
     ]
    }
   ],
   "source": [
    "notes_df.info()"
   ]
  },
  {
   "cell_type": "code",
   "execution_count": 8,
   "metadata": {},
   "outputs": [
    {
     "data": {
      "text/plain": [
       "41103"
      ]
     },
     "execution_count": 8,
     "metadata": {},
     "output_type": "execute_result"
    }
   ],
   "source": [
    "notes_df.SUBJECT_ID.nunique()"
   ]
  },
  {
   "cell_type": "code",
   "execution_count": 9,
   "metadata": {},
   "outputs": [
    {
     "data": {
      "text/html": [
       "<div>\n",
       "<style scoped>\n",
       "    .dataframe tbody tr th:only-of-type {\n",
       "        vertical-align: middle;\n",
       "    }\n",
       "\n",
       "    .dataframe tbody tr th {\n",
       "        vertical-align: top;\n",
       "    }\n",
       "\n",
       "    .dataframe thead th {\n",
       "        text-align: right;\n",
       "    }\n",
       "</style>\n",
       "<table border=\"1\" class=\"dataframe\">\n",
       "  <thead>\n",
       "    <tr style=\"text-align: right;\">\n",
       "      <th></th>\n",
       "      <th>HADM_ID</th>\n",
       "      <th>TEXT</th>\n",
       "      <th>ROW_ID</th>\n",
       "      <th>SUBJECT_ID</th>\n",
       "      <th>CHARTDATE</th>\n",
       "    </tr>\n",
       "  </thead>\n",
       "  <tbody>\n",
       "  </tbody>\n",
       "</table>\n",
       "</div>"
      ],
      "text/plain": [
       "Empty DataFrame\n",
       "Columns: [HADM_ID, TEXT, ROW_ID, SUBJECT_ID, CHARTDATE]\n",
       "Index: []"
      ]
     },
     "execution_count": 9,
     "metadata": {},
     "output_type": "execute_result"
    }
   ],
   "source": [
    "notes_df[notes_df.SUBJECT_ID == 13297743]"
   ]
  },
  {
   "cell_type": "code",
   "execution_count": 10,
   "metadata": {},
   "outputs": [],
   "source": [
    "# print(notes_df[notes_df.subject_id == 13297743]['text'].iloc[50])"
   ]
  },
  {
   "cell_type": "code",
   "execution_count": 11,
   "metadata": {},
   "outputs": [
    {
     "data": {
      "text/html": [
       "<div>\n",
       "<style scoped>\n",
       "    .dataframe tbody tr th:only-of-type {\n",
       "        vertical-align: middle;\n",
       "    }\n",
       "\n",
       "    .dataframe tbody tr th {\n",
       "        vertical-align: top;\n",
       "    }\n",
       "\n",
       "    .dataframe thead th {\n",
       "        text-align: right;\n",
       "    }\n",
       "</style>\n",
       "<table border=\"1\" class=\"dataframe\">\n",
       "  <thead>\n",
       "    <tr style=\"text-align: right;\">\n",
       "      <th></th>\n",
       "      <th>ROW_ID</th>\n",
       "      <th>SUBJECT_ID</th>\n",
       "      <th>HADM_ID</th>\n",
       "      <th>SEQ_NUM</th>\n",
       "      <th>ICD9_CODE</th>\n",
       "    </tr>\n",
       "  </thead>\n",
       "  <tbody>\n",
       "    <tr>\n",
       "      <th>0</th>\n",
       "      <td>1297</td>\n",
       "      <td>109</td>\n",
       "      <td>172335</td>\n",
       "      <td>1.0</td>\n",
       "      <td>40301</td>\n",
       "    </tr>\n",
       "    <tr>\n",
       "      <th>1</th>\n",
       "      <td>1298</td>\n",
       "      <td>109</td>\n",
       "      <td>172335</td>\n",
       "      <td>2.0</td>\n",
       "      <td>486</td>\n",
       "    </tr>\n",
       "    <tr>\n",
       "      <th>2</th>\n",
       "      <td>1299</td>\n",
       "      <td>109</td>\n",
       "      <td>172335</td>\n",
       "      <td>3.0</td>\n",
       "      <td>58281</td>\n",
       "    </tr>\n",
       "    <tr>\n",
       "      <th>3</th>\n",
       "      <td>1300</td>\n",
       "      <td>109</td>\n",
       "      <td>172335</td>\n",
       "      <td>4.0</td>\n",
       "      <td>5855</td>\n",
       "    </tr>\n",
       "    <tr>\n",
       "      <th>4</th>\n",
       "      <td>1301</td>\n",
       "      <td>109</td>\n",
       "      <td>172335</td>\n",
       "      <td>5.0</td>\n",
       "      <td>4254</td>\n",
       "    </tr>\n",
       "  </tbody>\n",
       "</table>\n",
       "</div>"
      ],
      "text/plain": [
       "   ROW_ID  SUBJECT_ID  HADM_ID  SEQ_NUM ICD9_CODE\n",
       "0    1297         109   172335      1.0     40301\n",
       "1    1298         109   172335      2.0       486\n",
       "2    1299         109   172335      3.0     58281\n",
       "3    1300         109   172335      4.0      5855\n",
       "4    1301         109   172335      5.0      4254"
      ]
     },
     "execution_count": 11,
     "metadata": {},
     "output_type": "execute_result"
    }
   ],
   "source": [
    "diagnosis_df = pl.read_csv(DIAGNOSIS_DETAIL)\n",
    "diagnosis_df = diagnosis_df.to_pandas()\n",
    "diagnosis_df.head()"
   ]
  },
  {
   "cell_type": "code",
   "execution_count": 12,
   "metadata": {},
   "outputs": [
    {
     "name": "stdout",
     "output_type": "stream",
     "text": [
      "<class 'pandas.core.frame.DataFrame'>\n",
      "RangeIndex: 651047 entries, 0 to 651046\n",
      "Data columns (total 5 columns):\n",
      " #   Column      Non-Null Count   Dtype  \n",
      "---  ------      --------------   -----  \n",
      " 0   ROW_ID      651047 non-null  int64  \n",
      " 1   SUBJECT_ID  651047 non-null  int64  \n",
      " 2   HADM_ID     651047 non-null  int64  \n",
      " 3   SEQ_NUM     651000 non-null  float64\n",
      " 4   ICD9_CODE   651000 non-null  object \n",
      "dtypes: float64(1), int64(3), object(1)\n",
      "memory usage: 24.8+ MB\n"
     ]
    }
   ],
   "source": [
    "diagnosis_df.info()\n"
   ]
  },
  {
   "cell_type": "code",
   "execution_count": 13,
   "metadata": {},
   "outputs": [
    {
     "data": {
      "text/plain": [
       "SUBJECT_ID\n",
       "109      540\n",
       "55973    362\n",
       "13033    361\n",
       "7809     360\n",
       "11861    359\n",
       "        ... \n",
       "24051      1\n",
       "90012      1\n",
       "23686      1\n",
       "90172      1\n",
       "6083       1\n",
       "Name: count, Length: 46520, dtype: int64"
      ]
     },
     "execution_count": 13,
     "metadata": {},
     "output_type": "execute_result"
    }
   ],
   "source": [
    "diagnosis_df.SUBJECT_ID.value_counts()"
   ]
  },
  {
   "cell_type": "code",
   "execution_count": 14,
   "metadata": {},
   "outputs": [
    {
     "data": {
      "text/html": [
       "<div>\n",
       "<style scoped>\n",
       "    .dataframe tbody tr th:only-of-type {\n",
       "        vertical-align: middle;\n",
       "    }\n",
       "\n",
       "    .dataframe tbody tr th {\n",
       "        vertical-align: top;\n",
       "    }\n",
       "\n",
       "    .dataframe thead th {\n",
       "        text-align: right;\n",
       "    }\n",
       "</style>\n",
       "<table border=\"1\" class=\"dataframe\">\n",
       "  <thead>\n",
       "    <tr style=\"text-align: right;\">\n",
       "      <th></th>\n",
       "      <th>ROW_ID</th>\n",
       "      <th>SUBJECT_ID</th>\n",
       "      <th>HADM_ID</th>\n",
       "      <th>SEQ_NUM</th>\n",
       "      <th>ICD9_CODE</th>\n",
       "    </tr>\n",
       "  </thead>\n",
       "  <tbody>\n",
       "  </tbody>\n",
       "</table>\n",
       "</div>"
      ],
      "text/plain": [
       "Empty DataFrame\n",
       "Columns: [ROW_ID, SUBJECT_ID, HADM_ID, SEQ_NUM, ICD9_CODE]\n",
       "Index: []"
      ]
     },
     "execution_count": 14,
     "metadata": {},
     "output_type": "execute_result"
    }
   ],
   "source": [
    "diagnosis_df[diagnosis_df.ICD9_CODE =='V221']"
   ]
  },
  {
   "cell_type": "code",
   "execution_count": 15,
   "metadata": {},
   "outputs": [
    {
     "data": {
      "text/html": [
       "<div>\n",
       "<style scoped>\n",
       "    .dataframe tbody tr th:only-of-type {\n",
       "        vertical-align: middle;\n",
       "    }\n",
       "\n",
       "    .dataframe tbody tr th {\n",
       "        vertical-align: top;\n",
       "    }\n",
       "\n",
       "    .dataframe thead th {\n",
       "        text-align: right;\n",
       "    }\n",
       "</style>\n",
       "<table border=\"1\" class=\"dataframe\">\n",
       "  <thead>\n",
       "    <tr style=\"text-align: right;\">\n",
       "      <th></th>\n",
       "      <th>ROW_ID</th>\n",
       "      <th>ICD9_CODE</th>\n",
       "      <th>SHORT_TITLE</th>\n",
       "      <th>LONG_TITLE</th>\n",
       "    </tr>\n",
       "  </thead>\n",
       "  <tbody>\n",
       "    <tr>\n",
       "      <th>0</th>\n",
       "      <td>174</td>\n",
       "      <td>01166</td>\n",
       "      <td>TB pneumonia-oth test</td>\n",
       "      <td>Tuberculous pneumonia [any form], tubercle bac...</td>\n",
       "    </tr>\n",
       "    <tr>\n",
       "      <th>1</th>\n",
       "      <td>175</td>\n",
       "      <td>01170</td>\n",
       "      <td>TB pneumothorax-unspec</td>\n",
       "      <td>Tuberculous pneumothorax, unspecified</td>\n",
       "    </tr>\n",
       "    <tr>\n",
       "      <th>2</th>\n",
       "      <td>176</td>\n",
       "      <td>01171</td>\n",
       "      <td>TB pneumothorax-no exam</td>\n",
       "      <td>Tuberculous pneumothorax, bacteriological or h...</td>\n",
       "    </tr>\n",
       "    <tr>\n",
       "      <th>3</th>\n",
       "      <td>177</td>\n",
       "      <td>01172</td>\n",
       "      <td>TB pneumothorx-exam unkn</td>\n",
       "      <td>Tuberculous pneumothorax, bacteriological or h...</td>\n",
       "    </tr>\n",
       "    <tr>\n",
       "      <th>4</th>\n",
       "      <td>178</td>\n",
       "      <td>01173</td>\n",
       "      <td>TB pneumothorax-micro dx</td>\n",
       "      <td>Tuberculous pneumothorax, tubercle bacilli fou...</td>\n",
       "    </tr>\n",
       "  </tbody>\n",
       "</table>\n",
       "</div>"
      ],
      "text/plain": [
       "   ROW_ID ICD9_CODE               SHORT_TITLE  \\\n",
       "0     174     01166     TB pneumonia-oth test   \n",
       "1     175     01170    TB pneumothorax-unspec   \n",
       "2     176     01171   TB pneumothorax-no exam   \n",
       "3     177     01172  TB pneumothorx-exam unkn   \n",
       "4     178     01173  TB pneumothorax-micro dx   \n",
       "\n",
       "                                          LONG_TITLE  \n",
       "0  Tuberculous pneumonia [any form], tubercle bac...  \n",
       "1              Tuberculous pneumothorax, unspecified  \n",
       "2  Tuberculous pneumothorax, bacteriological or h...  \n",
       "3  Tuberculous pneumothorax, bacteriological or h...  \n",
       "4  Tuberculous pneumothorax, tubercle bacilli fou...  "
      ]
     },
     "execution_count": 15,
     "metadata": {},
     "output_type": "execute_result"
    }
   ],
   "source": [
    "icd_df = pd.read_csv(ICD910_CODES)\n",
    "icd_df.head()"
   ]
  },
  {
   "cell_type": "code",
   "execution_count": 16,
   "metadata": {},
   "outputs": [
    {
     "data": {
      "text/plain": [
       "ICD9_CODE\n",
       "V743     1\n",
       "01166    1\n",
       "01170    1\n",
       "01171    1\n",
       "01172    1\n",
       "        ..\n",
       "01182    1\n",
       "01183    1\n",
       "01184    1\n",
       "01185    1\n",
       "01186    1\n",
       "Name: count, Length: 14567, dtype: int64"
      ]
     },
     "execution_count": 16,
     "metadata": {},
     "output_type": "execute_result"
    }
   ],
   "source": [
    "icd_df.ICD9_CODE.value_counts()"
   ]
  },
  {
   "cell_type": "code",
   "execution_count": 17,
   "metadata": {},
   "outputs": [
    {
     "data": {
      "text/html": [
       "<div>\n",
       "<style scoped>\n",
       "    .dataframe tbody tr th:only-of-type {\n",
       "        vertical-align: middle;\n",
       "    }\n",
       "\n",
       "    .dataframe tbody tr th {\n",
       "        vertical-align: top;\n",
       "    }\n",
       "\n",
       "    .dataframe thead th {\n",
       "        text-align: right;\n",
       "    }\n",
       "</style>\n",
       "<table border=\"1\" class=\"dataframe\">\n",
       "  <thead>\n",
       "    <tr style=\"text-align: right;\">\n",
       "      <th></th>\n",
       "      <th>ROW_ID_x</th>\n",
       "      <th>SUBJECT_ID</th>\n",
       "      <th>HADM_ID</th>\n",
       "      <th>ICD9_CODE</th>\n",
       "      <th>ROW_ID_y</th>\n",
       "      <th>SHORT_TITLE</th>\n",
       "      <th>LONG_TITLE</th>\n",
       "    </tr>\n",
       "  </thead>\n",
       "  <tbody>\n",
       "    <tr>\n",
       "      <th>0</th>\n",
       "      <td>452484</td>\n",
       "      <td>55973</td>\n",
       "      <td>107072</td>\n",
       "      <td>42843</td>\n",
       "      <td>4486</td>\n",
       "      <td>Ac/chr syst/dia hrt fail</td>\n",
       "      <td>Acute on chronic combined systolic and diastol...</td>\n",
       "    </tr>\n",
       "    <tr>\n",
       "      <th>1</th>\n",
       "      <td>452485</td>\n",
       "      <td>55973</td>\n",
       "      <td>107072</td>\n",
       "      <td>34831</td>\n",
       "      <td>2798</td>\n",
       "      <td>Metabolic encephalopathy</td>\n",
       "      <td>Metabolic encephalopathy</td>\n",
       "    </tr>\n",
       "    <tr>\n",
       "      <th>2</th>\n",
       "      <td>452486</td>\n",
       "      <td>55973</td>\n",
       "      <td>107072</td>\n",
       "      <td>5849</td>\n",
       "      <td>5908</td>\n",
       "      <td>Acute kidney failure NOS</td>\n",
       "      <td>Acute kidney failure, unspecified</td>\n",
       "    </tr>\n",
       "    <tr>\n",
       "      <th>3</th>\n",
       "      <td>452487</td>\n",
       "      <td>55973</td>\n",
       "      <td>107072</td>\n",
       "      <td>2762</td>\n",
       "      <td>2787</td>\n",
       "      <td>Acidosis</td>\n",
       "      <td>Acidosis</td>\n",
       "    </tr>\n",
       "    <tr>\n",
       "      <th>4</th>\n",
       "      <td>452488</td>\n",
       "      <td>55973</td>\n",
       "      <td>107072</td>\n",
       "      <td>00845</td>\n",
       "      <td>80</td>\n",
       "      <td>Int inf clstrdium dfcile</td>\n",
       "      <td>Intestinal infection due to Clostridium difficile</td>\n",
       "    </tr>\n",
       "    <tr>\n",
       "      <th>...</th>\n",
       "      <td>...</td>\n",
       "      <td>...</td>\n",
       "      <td>...</td>\n",
       "      <td>...</td>\n",
       "      <td>...</td>\n",
       "      <td>...</td>\n",
       "      <td>...</td>\n",
       "    </tr>\n",
       "    <tr>\n",
       "      <th>356</th>\n",
       "      <td>452841</td>\n",
       "      <td>55973</td>\n",
       "      <td>196614</td>\n",
       "      <td>25061</td>\n",
       "      <td>2264</td>\n",
       "      <td>DMI neuro nt st uncntrld</td>\n",
       "      <td>Diabetes with neurological manifestations, typ...</td>\n",
       "    </tr>\n",
       "    <tr>\n",
       "      <th>357</th>\n",
       "      <td>452842</td>\n",
       "      <td>55973</td>\n",
       "      <td>196614</td>\n",
       "      <td>3572</td>\n",
       "      <td>3829</td>\n",
       "      <td>Neuropathy in diabetes</td>\n",
       "      <td>Polyneuropathy in diabetes</td>\n",
       "    </tr>\n",
       "    <tr>\n",
       "      <th>358</th>\n",
       "      <td>452843</td>\n",
       "      <td>55973</td>\n",
       "      <td>196614</td>\n",
       "      <td>73300</td>\n",
       "      <td>9986</td>\n",
       "      <td>Osteoporosis NOS</td>\n",
       "      <td>Osteoporosis, unspecified</td>\n",
       "    </tr>\n",
       "    <tr>\n",
       "      <th>359</th>\n",
       "      <td>452844</td>\n",
       "      <td>55973</td>\n",
       "      <td>196614</td>\n",
       "      <td>V4975</td>\n",
       "      <td>10194</td>\n",
       "      <td>Status amput below knee</td>\n",
       "      <td>Below knee amputation status</td>\n",
       "    </tr>\n",
       "    <tr>\n",
       "      <th>360</th>\n",
       "      <td>452845</td>\n",
       "      <td>55973</td>\n",
       "      <td>196614</td>\n",
       "      <td>2768</td>\n",
       "      <td>2160</td>\n",
       "      <td>Hypopotassemia</td>\n",
       "      <td>Hypopotassemia</td>\n",
       "    </tr>\n",
       "  </tbody>\n",
       "</table>\n",
       "<p>361 rows × 7 columns</p>\n",
       "</div>"
      ],
      "text/plain": [
       "     ROW_ID_x  SUBJECT_ID  HADM_ID ICD9_CODE  ROW_ID_y  \\\n",
       "0      452484       55973   107072     42843      4486   \n",
       "1      452485       55973   107072     34831      2798   \n",
       "2      452486       55973   107072      5849      5908   \n",
       "3      452487       55973   107072      2762      2787   \n",
       "4      452488       55973   107072     00845        80   \n",
       "..        ...         ...      ...       ...       ...   \n",
       "356    452841       55973   196614     25061      2264   \n",
       "357    452842       55973   196614      3572      3829   \n",
       "358    452843       55973   196614     73300      9986   \n",
       "359    452844       55973   196614     V4975     10194   \n",
       "360    452845       55973   196614      2768      2160   \n",
       "\n",
       "                  SHORT_TITLE  \\\n",
       "0    Ac/chr syst/dia hrt fail   \n",
       "1    Metabolic encephalopathy   \n",
       "2    Acute kidney failure NOS   \n",
       "3                    Acidosis   \n",
       "4    Int inf clstrdium dfcile   \n",
       "..                        ...   \n",
       "356  DMI neuro nt st uncntrld   \n",
       "357    Neuropathy in diabetes   \n",
       "358          Osteoporosis NOS   \n",
       "359   Status amput below knee   \n",
       "360            Hypopotassemia   \n",
       "\n",
       "                                            LONG_TITLE  \n",
       "0    Acute on chronic combined systolic and diastol...  \n",
       "1                             Metabolic encephalopathy  \n",
       "2                    Acute kidney failure, unspecified  \n",
       "3                                             Acidosis  \n",
       "4    Intestinal infection due to Clostridium difficile  \n",
       "..                                                 ...  \n",
       "356  Diabetes with neurological manifestations, typ...  \n",
       "357                         Polyneuropathy in diabetes  \n",
       "358                          Osteoporosis, unspecified  \n",
       "359                       Below knee amputation status  \n",
       "360                                     Hypopotassemia  \n",
       "\n",
       "[361 rows x 7 columns]"
      ]
     },
     "execution_count": 17,
     "metadata": {},
     "output_type": "execute_result"
    }
   ],
   "source": [
    "def user_specific_inve(user_id, diagnosis_df, icd_df) :\n",
    "    user_specific_df = diagnosis_df[diagnosis_df.SUBJECT_ID ==user_id]\n",
    "    merged_df = pd.merge(user_specific_df, icd_df, on=['ICD9_CODE'], how='inner').reset_index(drop = True)\n",
    "    merged_df = merged_df.drop(['SEQ_NUM'], axis =1 )\n",
    "    return merged_df\n",
    "\n",
    "merged_user_df = user_specific_inve(55973, diagnosis_df, icd_df)\n",
    "merged_user_df"
   ]
  },
  {
   "cell_type": "code",
   "execution_count": 18,
   "metadata": {},
   "outputs": [
    {
     "data": {
      "text/html": [
       "<div>\n",
       "<style scoped>\n",
       "    .dataframe tbody tr th:only-of-type {\n",
       "        vertical-align: middle;\n",
       "    }\n",
       "\n",
       "    .dataframe tbody tr th {\n",
       "        vertical-align: top;\n",
       "    }\n",
       "\n",
       "    .dataframe thead th {\n",
       "        text-align: right;\n",
       "    }\n",
       "</style>\n",
       "<table border=\"1\" class=\"dataframe\">\n",
       "  <thead>\n",
       "    <tr style=\"text-align: right;\">\n",
       "      <th></th>\n",
       "      <th>ROW_ID_x</th>\n",
       "      <th>SUBJECT_ID</th>\n",
       "      <th>HADM_ID</th>\n",
       "      <th>ICD9_CODE</th>\n",
       "      <th>ROW_ID_y</th>\n",
       "      <th>SHORT_TITLE</th>\n",
       "      <th>LONG_TITLE</th>\n",
       "    </tr>\n",
       "  </thead>\n",
       "  <tbody>\n",
       "  </tbody>\n",
       "</table>\n",
       "</div>"
      ],
      "text/plain": [
       "Empty DataFrame\n",
       "Columns: [ROW_ID_x, SUBJECT_ID, HADM_ID, ICD9_CODE, ROW_ID_y, SHORT_TITLE, LONG_TITLE]\n",
       "Index: []"
      ]
     },
     "execution_count": 18,
     "metadata": {},
     "output_type": "execute_result"
    }
   ],
   "source": [
    "merged_user_df[merged_user_df.ICD9_CODE == '042']"
   ]
  },
  {
   "cell_type": "code",
   "execution_count": 19,
   "metadata": {},
   "outputs": [
    {
     "data": {
      "text/html": [
       "<div>\n",
       "<style scoped>\n",
       "    .dataframe tbody tr th:only-of-type {\n",
       "        vertical-align: middle;\n",
       "    }\n",
       "\n",
       "    .dataframe tbody tr th {\n",
       "        vertical-align: top;\n",
       "    }\n",
       "\n",
       "    .dataframe thead th {\n",
       "        text-align: right;\n",
       "    }\n",
       "</style>\n",
       "<table border=\"1\" class=\"dataframe\">\n",
       "  <thead>\n",
       "    <tr style=\"text-align: right;\">\n",
       "      <th></th>\n",
       "      <th>ROW_ID_x</th>\n",
       "      <th>SUBJECT_ID</th>\n",
       "      <th>HADM_ID</th>\n",
       "      <th>ICD9_CODE</th>\n",
       "      <th>ROW_ID_y</th>\n",
       "      <th>SHORT_TITLE</th>\n",
       "      <th>LONG_TITLE</th>\n",
       "    </tr>\n",
       "  </thead>\n",
       "  <tbody>\n",
       "    <tr>\n",
       "      <th>0</th>\n",
       "      <td>452484</td>\n",
       "      <td>55973</td>\n",
       "      <td>107072</td>\n",
       "      <td>42843</td>\n",
       "      <td>4486</td>\n",
       "      <td>Ac/chr syst/dia hrt fail</td>\n",
       "      <td>Acute on chronic combined systolic and diastol...</td>\n",
       "    </tr>\n",
       "    <tr>\n",
       "      <th>1</th>\n",
       "      <td>452485</td>\n",
       "      <td>55973</td>\n",
       "      <td>107072</td>\n",
       "      <td>34831</td>\n",
       "      <td>2798</td>\n",
       "      <td>Metabolic encephalopathy</td>\n",
       "      <td>Metabolic encephalopathy</td>\n",
       "    </tr>\n",
       "    <tr>\n",
       "      <th>2</th>\n",
       "      <td>452486</td>\n",
       "      <td>55973</td>\n",
       "      <td>107072</td>\n",
       "      <td>5849</td>\n",
       "      <td>5908</td>\n",
       "      <td>Acute kidney failure NOS</td>\n",
       "      <td>Acute kidney failure, unspecified</td>\n",
       "    </tr>\n",
       "    <tr>\n",
       "      <th>3</th>\n",
       "      <td>452487</td>\n",
       "      <td>55973</td>\n",
       "      <td>107072</td>\n",
       "      <td>2762</td>\n",
       "      <td>2787</td>\n",
       "      <td>Acidosis</td>\n",
       "      <td>Acidosis</td>\n",
       "    </tr>\n",
       "    <tr>\n",
       "      <th>4</th>\n",
       "      <td>452488</td>\n",
       "      <td>55973</td>\n",
       "      <td>107072</td>\n",
       "      <td>00845</td>\n",
       "      <td>80</td>\n",
       "      <td>Int inf clstrdium dfcile</td>\n",
       "      <td>Intestinal infection due to Clostridium difficile</td>\n",
       "    </tr>\n",
       "    <tr>\n",
       "      <th>...</th>\n",
       "      <td>...</td>\n",
       "      <td>...</td>\n",
       "      <td>...</td>\n",
       "      <td>...</td>\n",
       "      <td>...</td>\n",
       "      <td>...</td>\n",
       "      <td>...</td>\n",
       "    </tr>\n",
       "    <tr>\n",
       "      <th>356</th>\n",
       "      <td>452841</td>\n",
       "      <td>55973</td>\n",
       "      <td>196614</td>\n",
       "      <td>25061</td>\n",
       "      <td>2264</td>\n",
       "      <td>DMI neuro nt st uncntrld</td>\n",
       "      <td>Diabetes with neurological manifestations, typ...</td>\n",
       "    </tr>\n",
       "    <tr>\n",
       "      <th>357</th>\n",
       "      <td>452842</td>\n",
       "      <td>55973</td>\n",
       "      <td>196614</td>\n",
       "      <td>3572</td>\n",
       "      <td>3829</td>\n",
       "      <td>Neuropathy in diabetes</td>\n",
       "      <td>Polyneuropathy in diabetes</td>\n",
       "    </tr>\n",
       "    <tr>\n",
       "      <th>358</th>\n",
       "      <td>452843</td>\n",
       "      <td>55973</td>\n",
       "      <td>196614</td>\n",
       "      <td>73300</td>\n",
       "      <td>9986</td>\n",
       "      <td>Osteoporosis NOS</td>\n",
       "      <td>Osteoporosis, unspecified</td>\n",
       "    </tr>\n",
       "    <tr>\n",
       "      <th>359</th>\n",
       "      <td>452844</td>\n",
       "      <td>55973</td>\n",
       "      <td>196614</td>\n",
       "      <td>V4975</td>\n",
       "      <td>10194</td>\n",
       "      <td>Status amput below knee</td>\n",
       "      <td>Below knee amputation status</td>\n",
       "    </tr>\n",
       "    <tr>\n",
       "      <th>360</th>\n",
       "      <td>452845</td>\n",
       "      <td>55973</td>\n",
       "      <td>196614</td>\n",
       "      <td>2768</td>\n",
       "      <td>2160</td>\n",
       "      <td>Hypopotassemia</td>\n",
       "      <td>Hypopotassemia</td>\n",
       "    </tr>\n",
       "  </tbody>\n",
       "</table>\n",
       "<p>361 rows × 7 columns</p>\n",
       "</div>"
      ],
      "text/plain": [
       "     ROW_ID_x  SUBJECT_ID  HADM_ID ICD9_CODE  ROW_ID_y  \\\n",
       "0      452484       55973   107072     42843      4486   \n",
       "1      452485       55973   107072     34831      2798   \n",
       "2      452486       55973   107072      5849      5908   \n",
       "3      452487       55973   107072      2762      2787   \n",
       "4      452488       55973   107072     00845        80   \n",
       "..        ...         ...      ...       ...       ...   \n",
       "356    452841       55973   196614     25061      2264   \n",
       "357    452842       55973   196614      3572      3829   \n",
       "358    452843       55973   196614     73300      9986   \n",
       "359    452844       55973   196614     V4975     10194   \n",
       "360    452845       55973   196614      2768      2160   \n",
       "\n",
       "                  SHORT_TITLE  \\\n",
       "0    Ac/chr syst/dia hrt fail   \n",
       "1    Metabolic encephalopathy   \n",
       "2    Acute kidney failure NOS   \n",
       "3                    Acidosis   \n",
       "4    Int inf clstrdium dfcile   \n",
       "..                        ...   \n",
       "356  DMI neuro nt st uncntrld   \n",
       "357    Neuropathy in diabetes   \n",
       "358          Osteoporosis NOS   \n",
       "359   Status amput below knee   \n",
       "360            Hypopotassemia   \n",
       "\n",
       "                                            LONG_TITLE  \n",
       "0    Acute on chronic combined systolic and diastol...  \n",
       "1                             Metabolic encephalopathy  \n",
       "2                    Acute kidney failure, unspecified  \n",
       "3                                             Acidosis  \n",
       "4    Intestinal infection due to Clostridium difficile  \n",
       "..                                                 ...  \n",
       "356  Diabetes with neurological manifestations, typ...  \n",
       "357                         Polyneuropathy in diabetes  \n",
       "358                          Osteoporosis, unspecified  \n",
       "359                       Below knee amputation status  \n",
       "360                                     Hypopotassemia  \n",
       "\n",
       "[361 rows x 7 columns]"
      ]
     },
     "execution_count": 19,
     "metadata": {},
     "output_type": "execute_result"
    }
   ],
   "source": [
    "merged_user_df = user_specific_inve(55973, diagnosis_df, icd_df)\n",
    "merged_user_df"
   ]
  },
  {
   "cell_type": "code",
   "execution_count": 20,
   "metadata": {},
   "outputs": [
    {
     "name": "stdout",
     "output_type": "stream",
     "text": [
      "<class 'pandas.core.frame.DataFrame'>\n",
      "RangeIndex: 14567 entries, 0 to 14566\n",
      "Data columns (total 4 columns):\n",
      " #   Column       Non-Null Count  Dtype \n",
      "---  ------       --------------  ----- \n",
      " 0   ROW_ID       14567 non-null  int64 \n",
      " 1   ICD9_CODE    14567 non-null  object\n",
      " 2   SHORT_TITLE  14567 non-null  object\n",
      " 3   LONG_TITLE   14567 non-null  object\n",
      "dtypes: int64(1), object(3)\n",
      "memory usage: 455.3+ KB\n"
     ]
    }
   ],
   "source": [
    "icd_df.info()"
   ]
  },
  {
   "cell_type": "code",
   "execution_count": 21,
   "metadata": {},
   "outputs": [
    {
     "data": {
      "text/plain": [
       "('410', '285', '414', '443', 'V104', '250')"
      ]
     },
     "execution_count": 21,
     "metadata": {},
     "output_type": "execute_result"
    }
   ],
   "source": [
    "'410', '285', '414', '443', 'V104', '250'"
   ]
  },
  {
   "cell_type": "code",
   "execution_count": 22,
   "metadata": {},
   "outputs": [
    {
     "data": {
      "text/html": [
       "<div>\n",
       "<style scoped>\n",
       "    .dataframe tbody tr th:only-of-type {\n",
       "        vertical-align: middle;\n",
       "    }\n",
       "\n",
       "    .dataframe tbody tr th {\n",
       "        vertical-align: top;\n",
       "    }\n",
       "\n",
       "    .dataframe thead th {\n",
       "        text-align: right;\n",
       "    }\n",
       "</style>\n",
       "<table border=\"1\" class=\"dataframe\">\n",
       "  <thead>\n",
       "    <tr style=\"text-align: right;\">\n",
       "      <th></th>\n",
       "      <th>ROW_ID</th>\n",
       "      <th>ICD9_CODE</th>\n",
       "      <th>SHORT_TITLE</th>\n",
       "      <th>LONG_TITLE</th>\n",
       "    </tr>\n",
       "  </thead>\n",
       "  <tbody>\n",
       "  </tbody>\n",
       "</table>\n",
       "</div>"
      ],
      "text/plain": [
       "Empty DataFrame\n",
       "Columns: [ROW_ID, ICD9_CODE, SHORT_TITLE, LONG_TITLE]\n",
       "Index: []"
      ]
     },
     "execution_count": 22,
     "metadata": {},
     "output_type": "execute_result"
    }
   ],
   "source": [
    "icd_df[icd_df.ICD9_CODE =='V104']"
   ]
  },
  {
   "cell_type": "code",
   "execution_count": 23,
   "metadata": {},
   "outputs": [
    {
     "data": {
      "text/plain": [
       "14567"
      ]
     },
     "execution_count": 23,
     "metadata": {},
     "output_type": "execute_result"
    }
   ],
   "source": [
    "icd_df.ICD9_CODE.nunique()"
   ]
  },
  {
   "cell_type": "code",
   "execution_count": 24,
   "metadata": {},
   "outputs": [
    {
     "data": {
      "text/plain": [
       "ICD9_CODE\n",
       "V743     1\n",
       "01166    1\n",
       "01170    1\n",
       "01171    1\n",
       "01172    1\n",
       "        ..\n",
       "01182    1\n",
       "01183    1\n",
       "01184    1\n",
       "01185    1\n",
       "01186    1\n",
       "Name: count, Length: 14567, dtype: int64"
      ]
     },
     "execution_count": 24,
     "metadata": {},
     "output_type": "execute_result"
    }
   ],
   "source": [
    "icd_df.ICD9_CODE.value_counts()"
   ]
  },
  {
   "cell_type": "code",
   "execution_count": 25,
   "metadata": {},
   "outputs": [
    {
     "data": {
      "text/html": [
       "<div>\n",
       "<style scoped>\n",
       "    .dataframe tbody tr th:only-of-type {\n",
       "        vertical-align: middle;\n",
       "    }\n",
       "\n",
       "    .dataframe tbody tr th {\n",
       "        vertical-align: top;\n",
       "    }\n",
       "\n",
       "    .dataframe thead th {\n",
       "        text-align: right;\n",
       "    }\n",
       "</style>\n",
       "<table border=\"1\" class=\"dataframe\">\n",
       "  <thead>\n",
       "    <tr style=\"text-align: right;\">\n",
       "      <th></th>\n",
       "      <th>SUBJECT_ID</th>\n",
       "      <th>HADM_ID</th>\n",
       "      <th>ICD9_CODE</th>\n",
       "      <th>LONG_TITLE</th>\n",
       "    </tr>\n",
       "  </thead>\n",
       "  <tbody>\n",
       "    <tr>\n",
       "      <th>0</th>\n",
       "      <td>2</td>\n",
       "      <td>163353</td>\n",
       "      <td>V3001, V053, V290</td>\n",
       "      <td>Single liveborn, born in hospital, delivered b...</td>\n",
       "    </tr>\n",
       "    <tr>\n",
       "      <th>1</th>\n",
       "      <td>3</td>\n",
       "      <td>145834</td>\n",
       "      <td>0389, 78559, 5849, 4275, 41071, 4280, 6826, 42...</td>\n",
       "      <td>Unspecified septicemia, Other shock without me...</td>\n",
       "    </tr>\n",
       "    <tr>\n",
       "      <th>2</th>\n",
       "      <td>4</td>\n",
       "      <td>185777</td>\n",
       "      <td>042, 1363, 7994, 2763, 7907, 5715, 04111, V090...</td>\n",
       "      <td>Human immunodeficiency virus [HIV] disease, Pn...</td>\n",
       "    </tr>\n",
       "    <tr>\n",
       "      <th>3</th>\n",
       "      <td>5</td>\n",
       "      <td>178980</td>\n",
       "      <td>V3000, V053, V290</td>\n",
       "      <td>Single liveborn, born in hospital, delivered w...</td>\n",
       "    </tr>\n",
       "    <tr>\n",
       "      <th>4</th>\n",
       "      <td>6</td>\n",
       "      <td>107064</td>\n",
       "      <td>40391, 9972, 2767, 2859, 2753, V1582</td>\n",
       "      <td>Hypertensive chronic kidney disease, unspecifi...</td>\n",
       "    </tr>\n",
       "  </tbody>\n",
       "</table>\n",
       "</div>"
      ],
      "text/plain": [
       "   SUBJECT_ID  HADM_ID                                          ICD9_CODE  \\\n",
       "0           2   163353                                  V3001, V053, V290   \n",
       "1           3   145834  0389, 78559, 5849, 4275, 41071, 4280, 6826, 42...   \n",
       "2           4   185777  042, 1363, 7994, 2763, 7907, 5715, 04111, V090...   \n",
       "3           5   178980                                  V3000, V053, V290   \n",
       "4           6   107064               40391, 9972, 2767, 2859, 2753, V1582   \n",
       "\n",
       "                                          LONG_TITLE  \n",
       "0  Single liveborn, born in hospital, delivered b...  \n",
       "1  Unspecified septicemia, Other shock without me...  \n",
       "2  Human immunodeficiency virus [HIV] disease, Pn...  \n",
       "3  Single liveborn, born in hospital, delivered w...  \n",
       "4  Hypertensive chronic kidney disease, unspecifi...  "
      ]
     },
     "execution_count": 25,
     "metadata": {},
     "output_type": "execute_result"
    }
   ],
   "source": [
    "merged_df = pd.merge(diagnosis_df, icd_df, on=['ICD9_CODE'], how='inner').reset_index(drop = True)\n",
    "merged_df = merged_df.drop(['SEQ_NUM'], axis =1 )\n",
    "merged_df = merged_df.groupby(['SUBJECT_ID', 'HADM_ID']).agg({\n",
    "    'ICD9_CODE': ', '.join,\n",
    "    'LONG_TITLE': ', '.join\n",
    "}).reset_index()\n",
    "merged_df.head()"
   ]
  },
  {
   "cell_type": "code",
   "execution_count": 26,
   "metadata": {},
   "outputs": [
    {
     "data": {
      "text/plain": [
       "'Single liveborn, born in hospital, delivered by cesarean section, Need for prophylactic vaccination and inoculation against viral hepatitis, Observation for suspected infectious condition'"
      ]
     },
     "execution_count": 26,
     "metadata": {},
     "output_type": "execute_result"
    }
   ],
   "source": [
    "merged_df.LONG_TITLE.iloc[0]"
   ]
  },
  {
   "cell_type": "code",
   "execution_count": 27,
   "metadata": {},
   "outputs": [
    {
     "data": {
      "text/plain": [
       "0"
      ]
     },
     "execution_count": 27,
     "metadata": {},
     "output_type": "execute_result"
    }
   ],
   "source": [
    "gc.collect()"
   ]
  },
  {
   "cell_type": "code",
   "execution_count": 28,
   "metadata": {},
   "outputs": [
    {
     "data": {
      "text/plain": [
       "46517"
      ]
     },
     "execution_count": 28,
     "metadata": {},
     "output_type": "execute_result"
    }
   ],
   "source": [
    "merged_df.SUBJECT_ID.nunique()"
   ]
  },
  {
   "cell_type": "code",
   "execution_count": 29,
   "metadata": {},
   "outputs": [
    {
     "name": "stdout",
     "output_type": "stream",
     "text": [
      "<class 'pandas.core.frame.DataFrame'>\n",
      "RangeIndex: 58925 entries, 0 to 58924\n",
      "Data columns (total 4 columns):\n",
      " #   Column      Non-Null Count  Dtype \n",
      "---  ------      --------------  ----- \n",
      " 0   SUBJECT_ID  58925 non-null  int64 \n",
      " 1   HADM_ID     58925 non-null  int64 \n",
      " 2   ICD9_CODE   58925 non-null  object\n",
      " 3   LONG_TITLE  58925 non-null  object\n",
      "dtypes: int64(2), object(2)\n",
      "memory usage: 1.8+ MB\n"
     ]
    }
   ],
   "source": [
    "merged_df.info()"
   ]
  },
  {
   "cell_type": "code",
   "execution_count": 30,
   "metadata": {},
   "outputs": [
    {
     "data": {
      "text/plain": [
       "55539"
      ]
     },
     "execution_count": 30,
     "metadata": {},
     "output_type": "execute_result"
    }
   ],
   "source": [
    "merged_df.ICD9_CODE.nunique()"
   ]
  },
  {
   "cell_type": "code",
   "execution_count": 31,
   "metadata": {},
   "outputs": [
    {
     "data": {
      "text/html": [
       "<div>\n",
       "<style scoped>\n",
       "    .dataframe tbody tr th:only-of-type {\n",
       "        vertical-align: middle;\n",
       "    }\n",
       "\n",
       "    .dataframe tbody tr th {\n",
       "        vertical-align: top;\n",
       "    }\n",
       "\n",
       "    .dataframe thead th {\n",
       "        text-align: right;\n",
       "    }\n",
       "</style>\n",
       "<table border=\"1\" class=\"dataframe\">\n",
       "  <thead>\n",
       "    <tr style=\"text-align: right;\">\n",
       "      <th></th>\n",
       "      <th>SUBJECT_ID</th>\n",
       "      <th>HADM_ID</th>\n",
       "      <th>ICD9_CODE</th>\n",
       "      <th>LONG_TITLE</th>\n",
       "      <th>TEXT</th>\n",
       "      <th>ROW_ID</th>\n",
       "      <th>CHARTDATE</th>\n",
       "    </tr>\n",
       "  </thead>\n",
       "  <tbody>\n",
       "    <tr>\n",
       "      <th>0</th>\n",
       "      <td>3</td>\n",
       "      <td>145834</td>\n",
       "      <td>0389, 78559, 5849, 4275, 41071, 4280, 6826, 42...</td>\n",
       "      <td>Unspecified septicemia, Other shock without me...</td>\n",
       "      <td>Admission Date:  [**2101-10-20**]     Discharg...</td>\n",
       "      <td>44005</td>\n",
       "      <td>2101-10-31</td>\n",
       "    </tr>\n",
       "    <tr>\n",
       "      <th>1</th>\n",
       "      <td>4</td>\n",
       "      <td>185777</td>\n",
       "      <td>042, 1363, 7994, 2763, 7907, 5715, 04111, V090...</td>\n",
       "      <td>Human immunodeficiency virus [HIV] disease, Pn...</td>\n",
       "      <td>Admission Date:  [**2191-3-16**]     Discharge...</td>\n",
       "      <td>4788</td>\n",
       "      <td>2191-03-23</td>\n",
       "    </tr>\n",
       "    <tr>\n",
       "      <th>2</th>\n",
       "      <td>6</td>\n",
       "      <td>107064</td>\n",
       "      <td>40391, 9972, 2767, 2859, 2753, V1582</td>\n",
       "      <td>Hypertensive chronic kidney disease, unspecifi...</td>\n",
       "      <td>Admission Date: [**2175-5-30**]        Dischar...</td>\n",
       "      <td>20825</td>\n",
       "      <td>2175-06-15</td>\n",
       "    </tr>\n",
       "    <tr>\n",
       "      <th>3</th>\n",
       "      <td>9</td>\n",
       "      <td>150750</td>\n",
       "      <td>431, 5070, 4280, 5849, 4019</td>\n",
       "      <td>Intracerebral hemorrhage, Pneumonitis due to i...</td>\n",
       "      <td>Admission Date:  [**2149-11-9**]       Dischar...</td>\n",
       "      <td>20070</td>\n",
       "      <td>2149-11-13</td>\n",
       "    </tr>\n",
       "    <tr>\n",
       "      <th>4</th>\n",
       "      <td>10</td>\n",
       "      <td>184167</td>\n",
       "      <td>V3000, 7742, 76525, 76515, V290</td>\n",
       "      <td>Single liveborn, born in hospital, delivered w...</td>\n",
       "      <td>Admission Date:  [**2103-6-28**]       Dischar...</td>\n",
       "      <td>17390</td>\n",
       "      <td>2103-07-06</td>\n",
       "    </tr>\n",
       "  </tbody>\n",
       "</table>\n",
       "</div>"
      ],
      "text/plain": [
       "   SUBJECT_ID  HADM_ID                                          ICD9_CODE  \\\n",
       "0           3   145834  0389, 78559, 5849, 4275, 41071, 4280, 6826, 42...   \n",
       "1           4   185777  042, 1363, 7994, 2763, 7907, 5715, 04111, V090...   \n",
       "2           6   107064               40391, 9972, 2767, 2859, 2753, V1582   \n",
       "3           9   150750                        431, 5070, 4280, 5849, 4019   \n",
       "4          10   184167                    V3000, 7742, 76525, 76515, V290   \n",
       "\n",
       "                                          LONG_TITLE  \\\n",
       "0  Unspecified septicemia, Other shock without me...   \n",
       "1  Human immunodeficiency virus [HIV] disease, Pn...   \n",
       "2  Hypertensive chronic kidney disease, unspecifi...   \n",
       "3  Intracerebral hemorrhage, Pneumonitis due to i...   \n",
       "4  Single liveborn, born in hospital, delivered w...   \n",
       "\n",
       "                                                TEXT  ROW_ID   CHARTDATE  \n",
       "0  Admission Date:  [**2101-10-20**]     Discharg...   44005  2101-10-31  \n",
       "1  Admission Date:  [**2191-3-16**]     Discharge...    4788  2191-03-23  \n",
       "2  Admission Date: [**2175-5-30**]        Dischar...   20825  2175-06-15  \n",
       "3  Admission Date:  [**2149-11-9**]       Dischar...   20070  2149-11-13  \n",
       "4  Admission Date:  [**2103-6-28**]       Dischar...   17390  2103-07-06  "
      ]
     },
     "execution_count": 31,
     "metadata": {},
     "output_type": "execute_result"
    }
   ],
   "source": [
    "final_df = pd.merge(merged_df, notes_df, on=['SUBJECT_ID','HADM_ID'], how='inner').reset_index(drop = True)\n",
    "# final_df = final_df.drop(['storetime','charttime','note_seq'], axis =1 )\n",
    "final_df.head()"
   ]
  },
  {
   "cell_type": "code",
   "execution_count": 32,
   "metadata": {},
   "outputs": [
    {
     "data": {
      "text/plain": [
       "\"Admission Date:  [**2101-10-20**]     Discharge Date:  [**2101-10-31**]\\n\\nDate of Birth:   [**2025-4-11**]     Sex:  M\\n\\nService:  Medicine\\n\\nCHIEF COMPLAINT:  Admitted from rehabilitation for\\nhypotension (systolic blood pressure to the 70s) and\\ndecreased urine output.\\n\\nHISTORY OF PRESENT ILLNESS:  The patient is a 76-year-old\\nmale who had been hospitalized at the [**Hospital1 190**] from [**10-11**] through [**10-19**] of [**2101**]\\nafter undergoing a left femoral-AT bypass graft and was\\nsubsequently discharged to a rehabilitation facility.\\n\\nOn [**2101-10-20**], he presented again to the [**Hospital1 346**] after being found to have a systolic\\nblood pressure in the 70s and no urine output for 17 hours.\\nA Foley catheter placed at the rehabilitation facility\\nyielded 100 cc of murky/brown urine.  There may also have\\nbeen purulent discharge at the penile meatus at this time.\\n\\nOn presentation to the Emergency Department, the patient was\\nwithout subjective complaints.  In the Emergency Department,\\nhe was found to have systolic blood pressure of 85.  He was\\ngiven 6 liters of intravenous fluids and transiently started\\non dopamine for a systolic blood pressure in the 80.s\\n\\nPAST MEDICAL HISTORY:\\n 1.  Coronary artery disease with diffuse 3-vessel disease;\\nright-dominant, status post proximal left circumflex stent in\\n[**2101-7-9**] with occlusion of the distal left circumflex;\\nstatus post right coronary artery stent on [**2101-8-26**] (no\\npercutaneous coronary intervention to 99% diagonal left\\ncircumflex, 80% small proximal left anterior descending\\nartery, or 80% small distal left anterior descending artery).\\n 2.  Congestive heart failure (with an ejection fraction\\nof 15% to 20%).\\n 3.  Type 2 diabetes with neuropathy.\\n 4.  Hypertension.\\n 5.  Diverticulosis (found on colonoscopy in [**2101-7-9**]).\\n 6.  Alzheimer's dementia.\\n 7.  History of gastrointestinal bleed (while the patient was\\ntaking eptifibatide).\\n 8.  Cardiac risk factors (with a baseline creatinine\\nof 1.4 to 1.6).\\n 9.  Hypercholesterolemia.\\n10.  History of methicillin-resistant Staphylococcus aureus\\nand Pseudomonas growth in wound cultures.\\n11.  Severe peripheral vascular disease; status post left\\nfemoral-AT bypass graft on [**2101-10-11**].\\n12.  Chronic nonhealing foot ulcers.\\n13.  Recent right pedal cellulitis.\\n\\nALLERGIES:  The patient has no known drug allergies.\\n\\nMEDICATIONS ON ADMISSION:\\n 1.  Vancomycin 1 g intravenously q.24h. for a level of less\\nthan 15 (started on [**2101-10-4**]).\\n 2.  Levofloxacin 250 mg p.o. q.d. (started on [**2101-10-4**]).\\n 3.  Metronidazole 500 mg p.o. q.8h. (started on [**2101-10-4**]).\\n 4.  Heparin 5000 units subcutaneous b.i.d.\\n 5.  Simvastatin 40 mg p.o. q.d.\\n 6.  Lisinopril 5 mg p.o. q.d.\\n 7.  Furosemide 40 mg p.o. q.d.\\n 8.  Vitamin E 400 IU p.o. q.d.\\n 9.  Atenolol 25 mg p.o. q.d.\\n10.  Pantoprazole 40 mg p.o. q.d.\\n11.  Ascorbic acid 500 mg p.o. b.i.d.\\n12.  NPH 17 units b.i.d.\\n13.  Regular insulin sliding-scale.\\n14.  Bisacodyl 10 mg p.o./p.r. as needed.\\n15.  Docusate 100 mg p.o. b.i.d.\\n16.  Percocet 5/325 mg one tablet p.o. q.4-6h. as needed for\\npain.\\n17.  Aspirin 81 mg p.o. q.d.\\n18.  Metoprolol 75 mg p.o. b.i.d.\\n\\nSOCIAL HISTORY:  The patient is retired and had been living\\nat home with his wife prior to his admission to the hospital\\non [**2101-10-11**]; he had been living at [**Hospital3 1761**] for the day prior to admission.  He is a\\nsocial drinker and has a 40-pack-year smoking history;\\nalthough, he quit smoking 20 years ago.\\n\\nPHYSICAL EXAMINATION ON PRESENTATION:   Initial physical\\nexamination revealed temperature was 96.1 degrees Fahrenheit,\\nheart rate was 83, blood pressure was 124/42 (following\\nadministration of 3 liters of normal saline), respiratory\\nwas 24, and his oxygen saturation was 100% on 2 liters nasal\\ncannula.  His heart had a regular rate and rhythm.  There\\nwere normal first and second heart sounds.  There was a 2/6\\nsystolic ejection murmur, and there were no rubs or gallops.\\nHis lungs were clear to auscultation bilaterally.  His\\nabdomen was soft, nontender, and nondistended, and there were\\nhypoactive bowel sounds.  He had a palpable bypass graft\\npulse, [**Hospital3 17394**] dorsalis pedis and posterior tibialis\\npulses bilaterally; and his surgical incision was clean, dry,\\nand intact.  Please note that the above examination was done\\nby the Vascular Surgery team, which was the team that was\\ninitially planning to admit the patient to the hospital.\\n\\nPERTINENT LABORATORY DATA ON PRESENTATION:  On initial\\nlaboratory evaluation the patient had a white blood cell\\ncount of 12.7, hematocrit was 30.2, and platelets\\nwere 282,000.  His PT was 13.5, PTT was 30.7, and INR\\nwas 1.3.  His serum chemistries revealed sodium was 136,\\npotassium was 5.4, chloride was 99, bicarbonate was 25, blood\\nurea nitrogen was 53, creatinine was 3.2, and blood glucose\\nwas 91.  His calcium was 8.2, magnesium was 2.4, and\\nphosphate was 4.8.  Blood cultures drawn on admission were\\npending, but ultimately negative.  A urine culture taken on\\nadmission was initially pending, but ultimately grew out\\nyeast.  A sputum culture taken on admission was also\\ninitially pending, but ultimately also grew out yeast.\\n\\nRADIOLOGY/IMAGING:  His admission chest x-ray demonstrated\\nstable prominence of the right main pulmonary artery; no\\nfocal areas of consolidation; overall stable appearance of\\nthe chest compared with a [**2101-10-15**] study.  No\\nradiographic evidence of congestive heart failure or\\npneumonia.\\n\\nHis admission electrocardiogram demonstrated a sinus rhythm,\\nnonspecific inferior/lateral T wave changes, low QRS voltages\\nin the limb leads, and T wave changes in V5 and V6 when\\ncompared with an electrocardiogram dated [**2101-10-12**].\\n\\nAn initial abdominal CT was a limited noncontrast examination\\nthat demonstrated diffuse vascular calcifications.  No\\nevidence of an abdominal aortic aneurysm or free fluid,\\nincompletely imaged coronary artery calcification, a simple\\nleft renal cyst, sigmoid diverticulosis, and an enlarged and\\npartially calcified prostate gland.\\n\\nHOSPITAL COURSE BY SYSTEM:\\n\\n1.  CARDIOVASCULAR:  The patient was initially admitted to\\nthe Vascular Intensive Care Unit with hypotension, decreased\\nurine output, and acute renal failure; most likely secondary\\nto a presumed gram-negative urosepsis (although there were\\nnever any positive culture data to confirm this diagnosis).\\n\\nWhile boarding in the Medical Intensive Care Unit on the\\nnight of admission, the patient had a sudden\\ncardiorespiratory arrest.  He was resuscitated with\\nepinephrine, lidocaine, and direct current cardioversion\\ntimes four.  He was also intubate for airway protection.\\n\\nFollowing these measures, the patient returned to a sinus\\nrhythm with a systolic blood pressure of approximately 100;\\nthe total time elapsed from the beginning of the arrest to\\nthe return of a pulse was approximately 16 minutes.  He\\nsubsequently required double pressors to maintain his blood\\npressure.\\n\\nAn echocardiogram performed at the bedside demonstrated a\\ntrivial pericardial effusion and a left ventricular ejection\\nfraction of 20% to 25% in the setting of tachycardia and a\\nhyperdynamic right ventricle; suggesting elevated right-sided\\nfilling pressures.  Although the definitive etiology of this\\narrest remained unknown, the most likely trigger was a\\nnon-Q-wave myocardial infarction, as his troponin values were\\nelevated to greater than 50 following his arrest.\\n\\nA repeat echocardiogram done on [**2101-10-21**]\\ndemonstrated mild left atrial dilation, an ejection fraction\\nof 15% to 20%, resting regional wall motion abnormalities\\nincluding inferior, mid, and apical left ventricular\\nakinesis, depressed right ventricular systolic function, and\\nmoderate mitral regurgitation.  Compared with the prior study\\nof [**2101-10-20**]; the left ventricular function was\\nunchanged.  There was moderate mitral regurgitation, and the\\nright ventricular function appeared worse.\\n\\nOn [**2101-10-21**], the patient was loaded with amiodarone\\nand was subsequently started on oral amiodarone.  The\\nfollowing day, he was started on heparin intravenously given\\nhis elevated serum troponin to greater than 50; this\\nmedication was continued for 72 hours.  Given his elevated\\ntroponins and non-Q-wave myocardial infarction, the patient\\nwas a candidate for cardiac catheterization.\\n\\nAfter discussions between the Medical Intensive Care Unit\\nteam and the patient's family, however, the decision was made\\nto not pursue further invasive procedures given that the\\npatient had been made do not resuscitate/do not intubate\\nfollowing the resuscitation mentioned above, and his family\\nno longer wished for aggressive resuscitating measures.\\n\\nBy [**2101-10-23**], he was off pressors and he was\\nrestarted on a beta blocker and ACE inhibitor at low doses.\\n\\nOn the evening of [**2101-10-25**], the patient complained\\nof substernal chest pain that was relieved by NPG SL and\\nmorphine.  He also had ST segment depressions in V2 and V3\\nthat reverted to baseline after the resolution of his pain.\\nTherefore, the patient was again started on heparin;\\nalthough, this was discontinued on [**2101-10-26**] when\\nthe patient ruled out for a myocardial infarction by cardiac\\nenzymes.  He again had substernal chest pain on [**2101-10-27**]; although, he had no electrocardiogram changes, and he\\nagain ruled out for a myocardial infarction by cardiac\\nenzymes.\\n\\nBy hospital day four, the patient began to develop evidence\\nof congestive heart failure given his aggressive fluid\\nresuscitation, and gentle diuresis with furosemide was begun.\\nBy the time of his transfer to the General Medicine Service\\non [**2101-10-26**], the patient was still significantly\\nvolume overloaded following his aggressive fluid\\nresuscitation in the Medical Intensive Care Unit.  Therefore,\\nhe was continued on the program of gentle diuresis given that\\nhe was having signs and symptoms of right-sided congestive\\nheart failure.  He achieved adequate diuresis by the time of\\nhis discharge to rehabilitation, as his oxygen saturation was\\ngreater than 95% on 2 liters nasal cannula.\\n\\n2.  INFECTIOUS DISEASE/SEPSIS:  The patient was started on\\ngentamicin and piperacillin/tazobactam in addition to the\\nlevofloxacin, metronidazole, and vancomycin he was already\\ntaking for right lower extremity cellulitis prior to\\nadmission for empiric coverage of a presumed gram-negative\\nurosepsis, and he was aggressively hydrated with intravenous\\nfluids.\\n\\nOn [**2101-10-21**], his levofloxacin and metronidazole was\\ndiscontinued, and he was started on fluconazole given the\\ngrowth of yeast on urine culture.  He was taken off of\\ngentamicin on hospital day three, and his fluconazole was\\ndiscontinued on hospital day five (as per the Infectious\\nDisease Service).  He was taken off of vancomycin on\\n[**2101-10-28**], and his piperacillin/tazobactam was\\ndiscontinued on [**2101-10-29**].\\n\\nDespite the presumption of a gram-negative urosepsis\\nprecipitating this admission, the patient did not have any\\npositive blood or urine cultures aside from the growth of\\nyeast in two urine cultures noted above.  He remained\\nafebrile both before and after discontinuation of his\\nantibiotics, and he was found to be Clostridium difficile\\nnegative on [**2101-10-28**].\\n\\n3.  PULMONARY:  As noted above, the patient was intubated and\\nhe was extubated on [**2101-10-24**].  He subsequently\\ndeveloped wheezing and mild hypoxia; most likely secondary to\\ncardiac asthma and fluid overload in the setting of his\\naggressive fluid resuscitation.  He was gently diuresed\\ntoward the end of his hospitalization, and by the time of his\\nhe was maintaining an oxygen saturation of greater than 95%\\non 2 liters nasal cannula, intermittent ipratropium\\nnebulizers, and chest physical therapy for clearance of his\\nrespiratory secretions.\\n\\n4.  RENAL:  The patient presented with acute renal failure\\nand prerenal azotemia that rapidly resolved following fluid\\nresuscitation.  By the time of discharge, his serum\\ncreatinine was stable and at his preadmission baseline.\\n\\n5.  NUTRITION:  The patient was found to be profoundly\\nmalnourished with a serum albumin of 1.8 on admission.  Once\\nhe was extubated and taking orals, he performed poorly on a\\nmodified barium swallowing study and was started on a thin\\nliquid, ground-solid diet with whole medication tablets,\\nsmall bites and sips, upright posture with meals, and\\naspiration precautions.  He was also given ProMod shakes with\\nand between meals for nutritional supplementation of his\\nheart-healthy/diabetic diet.\\n\\n6.  VASCULAR:  The patient's operative incisions and foot\\nulcers continued to heal throughout this admission.  He was\\nstarted on an multivitamin, vitamin C, and zinc for improved\\nwound healing.\\n\\n7.  HEMATOLOGY:  The patient was transfused one unit of\\npacked red blood cells on [**2101-10-27**] to maintain a\\nhematocrit of greater than 30 given his history of severe\\ncoronary artery disease.  His hematocrit subsequently\\nremained stable.\\n\\nCONDITION AT DISCHARGE:  Condition on discharge was stable.\\n\\nDISCHARGE STATUS:  [**First Name4 (NamePattern1) 1188**] [**Last Name (NamePattern1) **] rehabilitation facility.\\n\\nDISCHARGE DIAGNOSES:\\n 1.  Cardiorespiratory arrest.\\n 2.  Non-Q-wave myocardial infarction.\\n 3.  Acute renal failure.\\n 4.  Coronary artery disease with diffuse 3-vessel disease;\\nright-dominant, status post proximal left circumflex stent in\\n[**2101-7-9**] with occlusion of distal left circumflex; status\\npost right coronary artery stent on [**2101-10-27**] (no\\npercutaneous coronary intervention to 99%, distal left\\ncircumflex, 80% small proximal left anterior descending\\nartery, 80% small distal left anterior descending artery).\\n 5.  Congestive heart failure (with an ejection fraction\\nof 15% to 20%).\\n 6.  Type 2 diabetes with neuropathy.\\n 7.  Hypertension.\\n 8.  Diverticulosis (found on colonoscopy in [**2101-7-9**]).\\n 9.  Alzheimer's dementia.\\n10.  History of gastrointestinal bleed (while the patient was\\ntaking eptifibatide).\\n11.  Cardiac risk factors (with a baseline creatinine\\nof 1.4 to 1.6).\\n12.  History of methicillin-resistant Staphylococcus aureus\\nand Pseudomonas growth in wound cultures.\\n13.  Severe peripheral vascular disease; status post left\\nfemoral-AT bypass graft on [**2101-10-11**].\\n14.  Chronic nonhealing foot ulcers.\\n\\nMEDICATIONS ON DISCHARGE:\\n 1.  Amiodarone 400 mg p.o. b.i.d. (through [**2101-11-2**]), then 400 mg p.o. q.d. (times one week), then 200 mg\\np.o. q.d.\\n 2.  Metoprolol 50 mg p.o. b.i.d.\\n 3.  Captopril 6.25 mg p.o. t.i.d.\\n 4.  Aspirin 325 mg p.o. q.d.\\n 5.  Pantoprazole 40 mg p.o. q.d.\\n 6.  Heparin 5000 units subcutaneously b.i.d.\\n 7.  Multivitamin one tablet p.o. q.d.\\n 8.  Zinc sulfate 220 mg p.o. q.d.\\n 9.  Vitamin C 500 mg p.o. q.d.\\n10.  Ipratropium nebulizers q.4-6h. as needed (for wheezing).\\n11.  Acetaminophen 325 mg to 650 mg p.o. q.4-6h. as needed\\n(for pain).\\n12.  Miconazole 2% powder to groin b.i.d.\\n13.  Santyl lotion to heels b.i.d.\\n14.  Regular insulin sliding-scale.\\n\\nCODE STATUS:  Do not resuscitate/do not intubate.\\n\\nNOTE:  If applicable, an addendum to this Discharge Summary\\nwill be dictated to include follow-up appointments as well as\\nany changes to the medication list noted above.\\n\\n\\n\\n\\n\\n\\n                          [**First Name11 (Name Pattern1) **] [**Last Name (NamePattern4) 1604**], M.D.  [**MD Number(1) 1605**]\\n\\nDictated By:[**Name8 (MD) 2507**]\\n\\nMEDQUIST36\\n\\nD:  [**2101-10-31**]  01:07\\nT:  [**2101-11-5**]  03:44\\nJOB#:  [**Job Number **]\""
      ]
     },
     "execution_count": 32,
     "metadata": {},
     "output_type": "execute_result"
    }
   ],
   "source": [
    "final_df.TEXT.iloc[0]"
   ]
  },
  {
   "cell_type": "code",
   "execution_count": 33,
   "metadata": {},
   "outputs": [
    {
     "data": {
      "text/plain": [
       "'Unspecified septicemia, Other shock without mention of trauma, Acute kidney failure, unspecified, Cardiac arrest, Subendocardial infarction, initial episode of care, Congestive heart failure, unspecified, Cellulitis and abscess of leg, except foot, Other primary cardiomyopathies, Unspecified protein-calorie malnutrition'"
      ]
     },
     "execution_count": 33,
     "metadata": {},
     "output_type": "execute_result"
    }
   ],
   "source": [
    "final_df.LONG_TITLE.iloc[0]"
   ]
  },
  {
   "cell_type": "code",
   "execution_count": 34,
   "metadata": {},
   "outputs": [
    {
     "name": "stdout",
     "output_type": "stream",
     "text": [
      "<class 'pandas.core.frame.DataFrame'>\n",
      "RangeIndex: 52685 entries, 0 to 52684\n",
      "Data columns (total 7 columns):\n",
      " #   Column      Non-Null Count  Dtype \n",
      "---  ------      --------------  ----- \n",
      " 0   SUBJECT_ID  52685 non-null  int64 \n",
      " 1   HADM_ID     52685 non-null  int64 \n",
      " 2   ICD9_CODE   52685 non-null  object\n",
      " 3   LONG_TITLE  52685 non-null  object\n",
      " 4   TEXT        52685 non-null  object\n",
      " 5   ROW_ID      52685 non-null  int64 \n",
      " 6   CHARTDATE   52685 non-null  object\n",
      "dtypes: int64(3), object(4)\n",
      "memory usage: 2.8+ MB\n"
     ]
    }
   ],
   "source": [
    "final_df.info()"
   ]
  },
  {
   "cell_type": "code",
   "execution_count": 35,
   "metadata": {},
   "outputs": [
    {
     "data": {
      "text/plain": [
       "\"Admission Date:  [**2101-10-20**]     Discharge Date:  [**2101-10-31**]\\n\\nDate of Birth:   [**2025-4-11**]     Sex:  M\\n\\nService:  Medicine\\n\\nCHIEF COMPLAINT:  Admitted from rehabilitation for\\nhypotension (systolic blood pressure to the 70s) and\\ndecreased urine output.\\n\\nHISTORY OF PRESENT ILLNESS:  The patient is a 76-year-old\\nmale who had been hospitalized at the [**Hospital1 190**] from [**10-11**] through [**10-19**] of [**2101**]\\nafter undergoing a left femoral-AT bypass graft and was\\nsubsequently discharged to a rehabilitation facility.\\n\\nOn [**2101-10-20**], he presented again to the [**Hospital1 346**] after being found to have a systolic\\nblood pressure in the 70s and no urine output for 17 hours.\\nA Foley catheter placed at the rehabilitation facility\\nyielded 100 cc of murky/brown urine.  There may also have\\nbeen purulent discharge at the penile meatus at this time.\\n\\nOn presentation to the Emergency Department, the patient was\\nwithout subjective complaints.  In the Emergency Department,\\nhe was found to have systolic blood pressure of 85.  He was\\ngiven 6 liters of intravenous fluids and transiently started\\non dopamine for a systolic blood pressure in the 80.s\\n\\nPAST MEDICAL HISTORY:\\n 1.  Coronary artery disease with diffuse 3-vessel disease;\\nright-dominant, status post proximal left circumflex stent in\\n[**2101-7-9**] with occlusion of the distal left circumflex;\\nstatus post right coronary artery stent on [**2101-8-26**] (no\\npercutaneous coronary intervention to 99% diagonal left\\ncircumflex, 80% small proximal left anterior descending\\nartery, or 80% small distal left anterior descending artery).\\n 2.  Congestive heart failure (with an ejection fraction\\nof 15% to 20%).\\n 3.  Type 2 diabetes with neuropathy.\\n 4.  Hypertension.\\n 5.  Diverticulosis (found on colonoscopy in [**2101-7-9**]).\\n 6.  Alzheimer's dementia.\\n 7.  History of gastrointestinal bleed (while the patient was\\ntaking eptifibatide).\\n 8.  Cardiac risk factors (with a baseline creatinine\\nof 1.4 to 1.6).\\n 9.  Hypercholesterolemia.\\n10.  History of methicillin-resistant Staphylococcus aureus\\nand Pseudomonas growth in wound cultures.\\n11.  Severe peripheral vascular disease; status post left\\nfemoral-AT bypass graft on [**2101-10-11**].\\n12.  Chronic nonhealing foot ulcers.\\n13.  Recent right pedal cellulitis.\\n\\nALLERGIES:  The patient has no known drug allergies.\\n\\nMEDICATIONS ON ADMISSION:\\n 1.  Vancomycin 1 g intravenously q.24h. for a level of less\\nthan 15 (started on [**2101-10-4**]).\\n 2.  Levofloxacin 250 mg p.o. q.d. (started on [**2101-10-4**]).\\n 3.  Metronidazole 500 mg p.o. q.8h. (started on [**2101-10-4**]).\\n 4.  Heparin 5000 units subcutaneous b.i.d.\\n 5.  Simvastatin 40 mg p.o. q.d.\\n 6.  Lisinopril 5 mg p.o. q.d.\\n 7.  Furosemide 40 mg p.o. q.d.\\n 8.  Vitamin E 400 IU p.o. q.d.\\n 9.  Atenolol 25 mg p.o. q.d.\\n10.  Pantoprazole 40 mg p.o. q.d.\\n11.  Ascorbic acid 500 mg p.o. b.i.d.\\n12.  NPH 17 units b.i.d.\\n13.  Regular insulin sliding-scale.\\n14.  Bisacodyl 10 mg p.o./p.r. as needed.\\n15.  Docusate 100 mg p.o. b.i.d.\\n16.  Percocet 5/325 mg one tablet p.o. q.4-6h. as needed for\\npain.\\n17.  Aspirin 81 mg p.o. q.d.\\n18.  Metoprolol 75 mg p.o. b.i.d.\\n\\nSOCIAL HISTORY:  The patient is retired and had been living\\nat home with his wife prior to his admission to the hospital\\non [**2101-10-11**]; he had been living at [**Hospital3 1761**] for the day prior to admission.  He is a\\nsocial drinker and has a 40-pack-year smoking history;\\nalthough, he quit smoking 20 years ago.\\n\\nPHYSICAL EXAMINATION ON PRESENTATION:   Initial physical\\nexamination revealed temperature was 96.1 degrees Fahrenheit,\\nheart rate was 83, blood pressure was 124/42 (following\\nadministration of 3 liters of normal saline), respiratory\\nwas 24, and his oxygen saturation was 100% on 2 liters nasal\\ncannula.  His heart had a regular rate and rhythm.  There\\nwere normal first and second heart sounds.  There was a 2/6\\nsystolic ejection murmur, and there were no rubs or gallops.\\nHis lungs were clear to auscultation bilaterally.  His\\nabdomen was soft, nontender, and nondistended, and there were\\nhypoactive bowel sounds.  He had a palpable bypass graft\\npulse, [**Hospital3 17394**] dorsalis pedis and posterior tibialis\\npulses bilaterally; and his surgical incision was clean, dry,\\nand intact.  Please note that the above examination was done\\nby the Vascular Surgery team, which was the team that was\\ninitially planning to admit the patient to the hospital.\\n\\nPERTINENT LABORATORY DATA ON PRESENTATION:  On initial\\nlaboratory evaluation the patient had a white blood cell\\ncount of 12.7, hematocrit was 30.2, and platelets\\nwere 282,000.  His PT was 13.5, PTT was 30.7, and INR\\nwas 1.3.  His serum chemistries revealed sodium was 136,\\npotassium was 5.4, chloride was 99, bicarbonate was 25, blood\\nurea nitrogen was 53, creatinine was 3.2, and blood glucose\\nwas 91.  His calcium was 8.2, magnesium was 2.4, and\\nphosphate was 4.8.  Blood cultures drawn on admission were\\npending, but ultimately negative.  A urine culture taken on\\nadmission was initially pending, but ultimately grew out\\nyeast.  A sputum culture taken on admission was also\\ninitially pending, but ultimately also grew out yeast.\\n\\nRADIOLOGY/IMAGING:  His admission chest x-ray demonstrated\\nstable prominence of the right main pulmonary artery; no\\nfocal areas of consolidation; overall stable appearance of\\nthe chest compared with a [**2101-10-15**] study.  No\\nradiographic evidence of congestive heart failure or\\npneumonia.\\n\\nHis admission electrocardiogram demonstrated a sinus rhythm,\\nnonspecific inferior/lateral T wave changes, low QRS voltages\\nin the limb leads, and T wave changes in V5 and V6 when\\ncompared with an electrocardiogram dated [**2101-10-12**].\\n\\nAn initial abdominal CT was a limited noncontrast examination\\nthat demonstrated diffuse vascular calcifications.  No\\nevidence of an abdominal aortic aneurysm or free fluid,\\nincompletely imaged coronary artery calcification, a simple\\nleft renal cyst, sigmoid diverticulosis, and an enlarged and\\npartially calcified prostate gland.\\n\\nHOSPITAL COURSE BY SYSTEM:\\n\\n1.  CARDIOVASCULAR:  The patient was initially admitted to\\nthe Vascular Intensive Care Unit with hypotension, decreased\\nurine output, and acute renal failure; most likely secondary\\nto a presumed gram-negative urosepsis (although there were\\nnever any positive culture data to confirm this diagnosis).\\n\\nWhile boarding in the Medical Intensive Care Unit on the\\nnight of admission, the patient had a sudden\\ncardiorespiratory arrest.  He was resuscitated with\\nepinephrine, lidocaine, and direct current cardioversion\\ntimes four.  He was also intubate for airway protection.\\n\\nFollowing these measures, the patient returned to a sinus\\nrhythm with a systolic blood pressure of approximately 100;\\nthe total time elapsed from the beginning of the arrest to\\nthe return of a pulse was approximately 16 minutes.  He\\nsubsequently required double pressors to maintain his blood\\npressure.\\n\\nAn echocardiogram performed at the bedside demonstrated a\\ntrivial pericardial effusion and a left ventricular ejection\\nfraction of 20% to 25% in the setting of tachycardia and a\\nhyperdynamic right ventricle; suggesting elevated right-sided\\nfilling pressures.  Although the definitive etiology of this\\narrest remained unknown, the most likely trigger was a\\nnon-Q-wave myocardial infarction, as his troponin values were\\nelevated to greater than 50 following his arrest.\\n\\nA repeat echocardiogram done on [**2101-10-21**]\\ndemonstrated mild left atrial dilation, an ejection fraction\\nof 15% to 20%, resting regional wall motion abnormalities\\nincluding inferior, mid, and apical left ventricular\\nakinesis, depressed right ventricular systolic function, and\\nmoderate mitral regurgitation.  Compared with the prior study\\nof [**2101-10-20**]; the left ventricular function was\\nunchanged.  There was moderate mitral regurgitation, and the\\nright ventricular function appeared worse.\\n\\nOn [**2101-10-21**], the patient was loaded with amiodarone\\nand was subsequently started on oral amiodarone.  The\\nfollowing day, he was started on heparin intravenously given\\nhis elevated serum troponin to greater than 50; this\\nmedication was continued for 72 hours.  Given his elevated\\ntroponins and non-Q-wave myocardial infarction, the patient\\nwas a candidate for cardiac catheterization.\\n\\nAfter discussions between the Medical Intensive Care Unit\\nteam and the patient's family, however, the decision was made\\nto not pursue further invasive procedures given that the\\npatient had been made do not resuscitate/do not intubate\\nfollowing the resuscitation mentioned above, and his family\\nno longer wished for aggressive resuscitating measures.\\n\\nBy [**2101-10-23**], he was off pressors and he was\\nrestarted on a beta blocker and ACE inhibitor at low doses.\\n\\nOn the evening of [**2101-10-25**], the patient complained\\nof substernal chest pain that was relieved by NPG SL and\\nmorphine.  He also had ST segment depressions in V2 and V3\\nthat reverted to baseline after the resolution of his pain.\\nTherefore, the patient was again started on heparin;\\nalthough, this was discontinued on [**2101-10-26**] when\\nthe patient ruled out for a myocardial infarction by cardiac\\nenzymes.  He again had substernal chest pain on [**2101-10-27**]; although, he had no electrocardiogram changes, and he\\nagain ruled out for a myocardial infarction by cardiac\\nenzymes.\\n\\nBy hospital day four, the patient began to develop evidence\\nof congestive heart failure given his aggressive fluid\\nresuscitation, and gentle diuresis with furosemide was begun.\\nBy the time of his transfer to the General Medicine Service\\non [**2101-10-26**], the patient was still significantly\\nvolume overloaded following his aggressive fluid\\nresuscitation in the Medical Intensive Care Unit.  Therefore,\\nhe was continued on the program of gentle diuresis given that\\nhe was having signs and symptoms of right-sided congestive\\nheart failure.  He achieved adequate diuresis by the time of\\nhis discharge to rehabilitation, as his oxygen saturation was\\ngreater than 95% on 2 liters nasal cannula.\\n\\n2.  INFECTIOUS DISEASE/SEPSIS:  The patient was started on\\ngentamicin and piperacillin/tazobactam in addition to the\\nlevofloxacin, metronidazole, and vancomycin he was already\\ntaking for right lower extremity cellulitis prior to\\nadmission for empiric coverage of a presumed gram-negative\\nurosepsis, and he was aggressively hydrated with intravenous\\nfluids.\\n\\nOn [**2101-10-21**], his levofloxacin and metronidazole was\\ndiscontinued, and he was started on fluconazole given the\\ngrowth of yeast on urine culture.  He was taken off of\\ngentamicin on hospital day three, and his fluconazole was\\ndiscontinued on hospital day five (as per the Infectious\\nDisease Service).  He was taken off of vancomycin on\\n[**2101-10-28**], and his piperacillin/tazobactam was\\ndiscontinued on [**2101-10-29**].\\n\\nDespite the presumption of a gram-negative urosepsis\\nprecipitating this admission, the patient did not have any\\npositive blood or urine cultures aside from the growth of\\nyeast in two urine cultures noted above.  He remained\\nafebrile both before and after discontinuation of his\\nantibiotics, and he was found to be Clostridium difficile\\nnegative on [**2101-10-28**].\\n\\n3.  PULMONARY:  As noted above, the patient was intubated and\\nhe was extubated on [**2101-10-24**].  He subsequently\\ndeveloped wheezing and mild hypoxia; most likely secondary to\\ncardiac asthma and fluid overload in the setting of his\\naggressive fluid resuscitation.  He was gently diuresed\\ntoward the end of his hospitalization, and by the time of his\\nhe was maintaining an oxygen saturation of greater than 95%\\non 2 liters nasal cannula, intermittent ipratropium\\nnebulizers, and chest physical therapy for clearance of his\\nrespiratory secretions.\\n\\n4.  RENAL:  The patient presented with acute renal failure\\nand prerenal azotemia that rapidly resolved following fluid\\nresuscitation.  By the time of discharge, his serum\\ncreatinine was stable and at his preadmission baseline.\\n\\n5.  NUTRITION:  The patient was found to be profoundly\\nmalnourished with a serum albumin of 1.8 on admission.  Once\\nhe was extubated and taking orals, he performed poorly on a\\nmodified barium swallowing study and was started on a thin\\nliquid, ground-solid diet with whole medication tablets,\\nsmall bites and sips, upright posture with meals, and\\naspiration precautions.  He was also given ProMod shakes with\\nand between meals for nutritional supplementation of his\\nheart-healthy/diabetic diet.\\n\\n6.  VASCULAR:  The patient's operative incisions and foot\\nulcers continued to heal throughout this admission.  He was\\nstarted on an multivitamin, vitamin C, and zinc for improved\\nwound healing.\\n\\n7.  HEMATOLOGY:  The patient was transfused one unit of\\npacked red blood cells on [**2101-10-27**] to maintain a\\nhematocrit of greater than 30 given his history of severe\\ncoronary artery disease.  His hematocrit subsequently\\nremained stable.\\n\\nCONDITION AT DISCHARGE:  Condition on discharge was stable.\\n\\nDISCHARGE STATUS:  [**First Name4 (NamePattern1) 1188**] [**Last Name (NamePattern1) **] rehabilitation facility.\\n\\nDISCHARGE DIAGNOSES:\\n 1.  Cardiorespiratory arrest.\\n 2.  Non-Q-wave myocardial infarction.\\n 3.  Acute renal failure.\\n 4.  Coronary artery disease with diffuse 3-vessel disease;\\nright-dominant, status post proximal left circumflex stent in\\n[**2101-7-9**] with occlusion of distal left circumflex; status\\npost right coronary artery stent on [**2101-10-27**] (no\\npercutaneous coronary intervention to 99%, distal left\\ncircumflex, 80% small proximal left anterior descending\\nartery, 80% small distal left anterior descending artery).\\n 5.  Congestive heart failure (with an ejection fraction\\nof 15% to 20%).\\n 6.  Type 2 diabetes with neuropathy.\\n 7.  Hypertension.\\n 8.  Diverticulosis (found on colonoscopy in [**2101-7-9**]).\\n 9.  Alzheimer's dementia.\\n10.  History of gastrointestinal bleed (while the patient was\\ntaking eptifibatide).\\n11.  Cardiac risk factors (with a baseline creatinine\\nof 1.4 to 1.6).\\n12.  History of methicillin-resistant Staphylococcus aureus\\nand Pseudomonas growth in wound cultures.\\n13.  Severe peripheral vascular disease; status post left\\nfemoral-AT bypass graft on [**2101-10-11**].\\n14.  Chronic nonhealing foot ulcers.\\n\\nMEDICATIONS ON DISCHARGE:\\n 1.  Amiodarone 400 mg p.o. b.i.d. (through [**2101-11-2**]), then 400 mg p.o. q.d. (times one week), then 200 mg\\np.o. q.d.\\n 2.  Metoprolol 50 mg p.o. b.i.d.\\n 3.  Captopril 6.25 mg p.o. t.i.d.\\n 4.  Aspirin 325 mg p.o. q.d.\\n 5.  Pantoprazole 40 mg p.o. q.d.\\n 6.  Heparin 5000 units subcutaneously b.i.d.\\n 7.  Multivitamin one tablet p.o. q.d.\\n 8.  Zinc sulfate 220 mg p.o. q.d.\\n 9.  Vitamin C 500 mg p.o. q.d.\\n10.  Ipratropium nebulizers q.4-6h. as needed (for wheezing).\\n11.  Acetaminophen 325 mg to 650 mg p.o. q.4-6h. as needed\\n(for pain).\\n12.  Miconazole 2% powder to groin b.i.d.\\n13.  Santyl lotion to heels b.i.d.\\n14.  Regular insulin sliding-scale.\\n\\nCODE STATUS:  Do not resuscitate/do not intubate.\\n\\nNOTE:  If applicable, an addendum to this Discharge Summary\\nwill be dictated to include follow-up appointments as well as\\nany changes to the medication list noted above.\\n\\n\\n\\n\\n\\n\\n                          [**First Name11 (Name Pattern1) **] [**Last Name (NamePattern4) 1604**], M.D.  [**MD Number(1) 1605**]\\n\\nDictated By:[**Name8 (MD) 2507**]\\n\\nMEDQUIST36\\n\\nD:  [**2101-10-31**]  01:07\\nT:  [**2101-11-5**]  03:44\\nJOB#:  [**Job Number **]\""
      ]
     },
     "execution_count": 35,
     "metadata": {},
     "output_type": "execute_result"
    }
   ],
   "source": [
    "final_df.TEXT.iloc[0]"
   ]
  },
  {
   "cell_type": "code",
   "execution_count": 36,
   "metadata": {},
   "outputs": [
    {
     "data": {
      "text/plain": [
       "'Unspecified septicemia, Other shock without mention of trauma, Acute kidney failure, unspecified, Cardiac arrest, Subendocardial infarction, initial episode of care, Congestive heart failure, unspecified, Cellulitis and abscess of leg, except foot, Other primary cardiomyopathies, Unspecified protein-calorie malnutrition'"
      ]
     },
     "execution_count": 36,
     "metadata": {},
     "output_type": "execute_result"
    }
   ],
   "source": [
    "final_df.LONG_TITLE.iloc[0]"
   ]
  },
  {
   "cell_type": "code",
   "execution_count": 37,
   "metadata": {},
   "outputs": [
    {
     "data": {
      "text/plain": [
       "41102"
      ]
     },
     "execution_count": 37,
     "metadata": {},
     "output_type": "execute_result"
    }
   ],
   "source": [
    "final_df.SUBJECT_ID.nunique()"
   ]
  },
  {
   "cell_type": "code",
   "execution_count": 38,
   "metadata": {},
   "outputs": [
    {
     "name": "stdout",
     "output_type": "stream",
     "text": [
      "<class 'pandas.core.frame.DataFrame'>\n",
      "RangeIndex: 52685 entries, 0 to 52684\n",
      "Data columns (total 7 columns):\n",
      " #   Column      Non-Null Count  Dtype \n",
      "---  ------      --------------  ----- \n",
      " 0   SUBJECT_ID  52685 non-null  int64 \n",
      " 1   HADM_ID     52685 non-null  int64 \n",
      " 2   ICD9_CODE   52685 non-null  object\n",
      " 3   LONG_TITLE  52685 non-null  object\n",
      " 4   TEXT        52685 non-null  object\n",
      " 5   ROW_ID      52685 non-null  int64 \n",
      " 6   CHARTDATE   52685 non-null  object\n",
      "dtypes: int64(3), object(4)\n",
      "memory usage: 2.8+ MB\n"
     ]
    }
   ],
   "source": [
    "final_df.info()"
   ]
  },
  {
   "cell_type": "code",
   "execution_count": 39,
   "metadata": {},
   "outputs": [
    {
     "data": {
      "text/plain": [
       "0"
      ]
     },
     "execution_count": 39,
     "metadata": {},
     "output_type": "execute_result"
    }
   ],
   "source": [
    "import gc\n",
    "gc.collect()"
   ]
  },
  {
   "cell_type": "code",
   "execution_count": 40,
   "metadata": {},
   "outputs": [],
   "source": [
    "final_df.to_csv('preprocessed.csv')"
   ]
  },
  {
   "cell_type": "markdown",
   "metadata": {},
   "source": [
    "## Push to HF"
   ]
  },
  {
   "cell_type": "code",
   "execution_count": 41,
   "metadata": {},
   "outputs": [],
   "source": [
    "# pip install huggingface_hub"
   ]
  },
  {
   "cell_type": "code",
   "execution_count": 42,
   "metadata": {},
   "outputs": [
    {
     "data": {
      "application/vnd.jupyter.widget-view+json": {
       "model_id": "0afcbb06ab29491b9ea8a950fbd62bd8",
       "version_major": 2,
       "version_minor": 0
      },
      "text/plain": [
       "Generating train split: 0 examples [00:00, ? examples/s]"
      ]
     },
     "metadata": {},
     "output_type": "display_data"
    }
   ],
   "source": [
    "from datasets import load_dataset\n",
    "\n",
    "dataset = load_dataset('csv', data_files='/home/ashish/llama_inference/preprocessed.csv')\n",
    "\n"
   ]
  },
  {
   "cell_type": "code",
   "execution_count": 44,
   "metadata": {},
   "outputs": [
    {
     "ename": "HfHubHTTPError",
     "evalue": "401 Client Error: Unauthorized for url: https://huggingface.co/api/repos/create (Request ID: Root=1-67178092-6b3b45c75577e7475b4401dd;44d69905-9214-43fb-b77f-e4a6c73693e1)\n\nInvalid username or password.",
     "output_type": "error",
     "traceback": [
      "\u001b[0;31m---------------------------------------------------------------------------\u001b[0m",
      "\u001b[0;31mHTTPError\u001b[0m                                 Traceback (most recent call last)",
      "File \u001b[0;32m~/llama_inference/llama_env/lib/python3.10/site-packages/huggingface_hub/utils/_errors.py:304\u001b[0m, in \u001b[0;36m"YOUR_HF_TOKEN"_for_status\u001b[0;34m(response, endpoint_name)\u001b[0m\n\u001b[1;32m    303\u001b[0m \u001b[38;5;28;01mtry\u001b[39;00m:\n\u001b[0;32m--> 304\u001b[0m     \u001b[43mresponse\u001b[49m\u001b[38;5;241;43m.\u001b[39;49m\u001b[43mraise_for_status\u001b[49m\u001b[43m(\u001b[49m\u001b[43m)\u001b[49m\n\u001b[1;32m    305\u001b[0m \u001b[38;5;28;01mexcept\u001b[39;00m HTTPError \u001b[38;5;28;01mas\u001b[39;00m e:\n",
      "File \u001b[0;32m~/llama_inference/llama_env/lib/python3.10/site-packages/requests/models.py:1021\u001b[0m, in \u001b[0;36mResponse.raise_for_status\u001b[0;34m(self)\u001b[0m\n\u001b[1;32m   1020\u001b[0m \u001b[38;5;28;01mif\u001b[39;00m http_error_msg:\n\u001b[0;32m-> 1021\u001b[0m     \u001b[38;5;28;01mraise\u001b[39;00m HTTPError(http_error_msg, response\u001b[38;5;241m=\u001b[39m\u001b[38;5;28mself\u001b[39m)\n",
      "\u001b[0;31mHTTPError\u001b[0m: 401 Client Error: Unauthorized for url: https://huggingface.co/api/repos/create",
      "\nThe above exception was the direct cause of the following exception:\n",
      "\u001b[0;31mHfHubHTTPError\u001b[0m                            Traceback (most recent call last)",
      "Cell \u001b[0;32mIn[44], line 1\u001b[0m\n\u001b[0;32m----> 1\u001b[0m \u001b[43mdataset\u001b[49m\u001b[38;5;241;43m.\u001b[39;49m\u001b[43mpush_to_hub\u001b[49m\u001b[43m(\u001b[49m\u001b[38;5;124;43m\"\u001b[39;49m\u001b[38;5;124;43mashishkgpian/symptoms-Diseases-Medications\u001b[39;49m\u001b[38;5;124;43m\"\u001b[39;49m\u001b[43m,\u001b[49m\u001b[43m \u001b[49m\u001b[43mtoken\u001b[49m\u001b[38;5;241;43m=\u001b[39;49m\u001b[43m \u001b[49m\u001b[38;5;124;43m'\u001b[39;49m\u001b[38;5;124;43m"YOUR_HF_TOKEN"\u001b[39;49m\u001b[38;5;124;43m'\u001b[39;49m\u001b[43m)\u001b[49m\n",
      "File \u001b[0;32m~/llama_inference/llama_env/lib/python3.10/site-packages/datasets/dataset_dict.py:1703\u001b[0m, in \u001b[0;36mDatasetDict.push_to_hub\u001b[0;34m(self, repo_id, config_name, set_default, data_dir, commit_message, commit_description, private, token, revision, branch, create_pr, max_shard_size, num_shards, embed_external_files)\u001b[0m\n\u001b[1;32m   1699\u001b[0m         \u001b[38;5;28;01mraise\u001b[39;00m \u001b[38;5;167;01mValueError\u001b[39;00m(\u001b[38;5;124mf\u001b[39m\u001b[38;5;124m\"\u001b[39m\u001b[38;5;124mSplit name should match \u001b[39m\u001b[38;5;124m'\u001b[39m\u001b[38;5;132;01m{\u001b[39;00m_split_re\u001b[38;5;132;01m}\u001b[39;00m\u001b[38;5;124m'\u001b[39m\u001b[38;5;124m but got \u001b[39m\u001b[38;5;124m'\u001b[39m\u001b[38;5;132;01m{\u001b[39;00msplit\u001b[38;5;132;01m}\u001b[39;00m\u001b[38;5;124m'\u001b[39m\u001b[38;5;124m.\u001b[39m\u001b[38;5;124m\"\u001b[39m)\n\u001b[1;32m   1701\u001b[0m api \u001b[38;5;241m=\u001b[39m HfApi(endpoint\u001b[38;5;241m=\u001b[39mconfig\u001b[38;5;241m.\u001b[39mHF_ENDPOINT, token\u001b[38;5;241m=\u001b[39mtoken)\n\u001b[0;32m-> 1703\u001b[0m repo_url \u001b[38;5;241m=\u001b[39m \u001b[43mapi\u001b[49m\u001b[38;5;241;43m.\u001b[39;49m\u001b[43mcreate_repo\u001b[49m\u001b[43m(\u001b[49m\n\u001b[1;32m   1704\u001b[0m \u001b[43m    \u001b[49m\u001b[43mrepo_id\u001b[49m\u001b[43m,\u001b[49m\n\u001b[1;32m   1705\u001b[0m \u001b[43m    \u001b[49m\u001b[43mtoken\u001b[49m\u001b[38;5;241;43m=\u001b[39;49m\u001b[43mtoken\u001b[49m\u001b[43m,\u001b[49m\n\u001b[1;32m   1706\u001b[0m \u001b[43m    \u001b[49m\u001b[43mrepo_type\u001b[49m\u001b[38;5;241;43m=\u001b[39;49m\u001b[38;5;124;43m\"\u001b[39;49m\u001b[38;5;124;43mdataset\u001b[39;49m\u001b[38;5;124;43m\"\u001b[39;49m\u001b[43m,\u001b[49m\n\u001b[1;32m   1707\u001b[0m \u001b[43m    \u001b[49m\u001b[43mprivate\u001b[49m\u001b[38;5;241;43m=\u001b[39;49m\u001b[43mprivate\u001b[49m\u001b[43m,\u001b[49m\n\u001b[1;32m   1708\u001b[0m \u001b[43m    \u001b[49m\u001b[43mexist_ok\u001b[49m\u001b[38;5;241;43m=\u001b[39;49m\u001b[38;5;28;43;01mTrue\u001b[39;49;00m\u001b[43m,\u001b[49m\n\u001b[1;32m   1709\u001b[0m \u001b[43m\u001b[49m\u001b[43m)\u001b[49m\n\u001b[1;32m   1710\u001b[0m repo_id \u001b[38;5;241m=\u001b[39m repo_url\u001b[38;5;241m.\u001b[39mrepo_id\n\u001b[1;32m   1712\u001b[0m \u001b[38;5;28;01mif\u001b[39;00m revision \u001b[38;5;129;01mis\u001b[39;00m \u001b[38;5;129;01mnot\u001b[39;00m \u001b[38;5;28;01mNone\u001b[39;00m:\n",
      "File \u001b[0;32m~/llama_inference/llama_env/lib/python3.10/site-packages/huggingface_hub/utils/_validators.py:114\u001b[0m, in \u001b[0;36mvalidate_"YOUR_HF_TOKEN"_args.<locals>._inner_fn\u001b[0;34m(*args, **kwargs)\u001b[0m\n\u001b[1;32m    111\u001b[0m \u001b[38;5;28;01mif\u001b[39;00m check_use_auth_token:\n\u001b[1;32m    112\u001b[0m     kwargs \u001b[38;5;241m=\u001b[39m smoothly_deprecate_use_auth_token(fn_name\u001b[38;5;241m=\u001b[39mfn\u001b[38;5;241m.\u001b[39m\u001b[38;5;18m__name__\u001b[39m, has_token\u001b[38;5;241m=\u001b[39mhas_token, kwargs\u001b[38;5;241m=\u001b[39mkwargs)\n\u001b[0;32m--> 114\u001b[0m \u001b[38;5;28;01mreturn\u001b[39;00m \u001b[43mfn\u001b[49m\u001b[43m(\u001b[49m\u001b[38;5;241;43m*\u001b[39;49m\u001b[43margs\u001b[49m\u001b[43m,\u001b[49m\u001b[43m \u001b[49m\u001b[38;5;241;43m*\u001b[39;49m\u001b[38;5;241;43m*\u001b[39;49m\u001b[43mkwargs\u001b[49m\u001b[43m)\u001b[49m\n",
      "File \u001b[0;32m~/llama_inference/llama_env/lib/python3.10/site-packages/huggingface_hub/"YOUR_HF_TOKEN".py:3256\u001b[0m, in \u001b[0;36mHfApi.create_repo\u001b[0;34m(self, repo_id, token, private, repo_type, exist_ok, space_sdk, space_hardware, space_storage, space_sleep_time, space_secrets, space_variables)\u001b[0m\n\u001b[1;32m   3253\u001b[0m     \u001b[38;5;28;01mbreak\u001b[39;00m\n\u001b[1;32m   3255\u001b[0m \u001b[38;5;28;01mtry\u001b[39;00m:\n\u001b[0;32m-> 3256\u001b[0m     \u001b[43m"YOUR_HF_TOKEN"_for_status\u001b[49m\u001b[43m(\u001b[49m\u001b[43mr\u001b[49m\u001b[43m)\u001b[49m\n\u001b[1;32m   3257\u001b[0m \u001b[38;5;28;01mexcept\u001b[39;00m HTTPError \u001b[38;5;28;01mas\u001b[39;00m err:\n\u001b[1;32m   3258\u001b[0m     \u001b[38;5;28;01mif\u001b[39;00m exist_ok \u001b[38;5;129;01mand\u001b[39;00m err\u001b[38;5;241m.\u001b[39mresponse\u001b[38;5;241m.\u001b[39mstatus_code \u001b[38;5;241m==\u001b[39m \u001b[38;5;241m409\u001b[39m:\n\u001b[1;32m   3259\u001b[0m         \u001b[38;5;66;03m# Repo already exists and `exist_ok=True`\u001b[39;00m\n",
      "File \u001b[0;32m~/llama_inference/llama_env/lib/python3.10/site-packages/huggingface_hub/utils/_errors.py:371\u001b[0m, in \u001b[0;36m"YOUR_HF_TOKEN"_for_status\u001b[0;34m(response, endpoint_name)\u001b[0m\n\u001b[1;32m    367\u001b[0m     \u001b[38;5;28;01mraise\u001b[39;00m HfHubHTTPError(message, response\u001b[38;5;241m=\u001b[39mresponse) \u001b[38;5;28;01mfrom\u001b[39;00m \u001b[38;5;21;01me\u001b[39;00m\n\u001b[1;32m    369\u001b[0m \u001b[38;5;66;03m# Convert `HTTPError` into a `HfHubHTTPError` to display request information\u001b[39;00m\n\u001b[1;32m    370\u001b[0m \u001b[38;5;66;03m# as well (request id and/or server error message)\u001b[39;00m\n\u001b[0;32m--> 371\u001b[0m \u001b[38;5;28;01mraise\u001b[39;00m HfHubHTTPError(\u001b[38;5;28mstr\u001b[39m(e), response\u001b[38;5;241m=\u001b[39mresponse) \u001b[38;5;28;01mfrom\u001b[39;00m \u001b[38;5;21;01me\u001b[39;00m\n",
      "\u001b[0;31mHfHubHTTPError\u001b[0m: 401 Client Error: Unauthorized for url: https://huggingface.co/api/repos/create (Request ID: Root=1-67178092-6b3b45c75577e7475b4401dd;44d69905-9214-43fb-b77f-e4a6c73693e1)\n\nInvalid username or password."
     ]
    }
   ],
   "source": [
    "dataset.push_to_hub(\"ashishkgpian/symptoms-Diseases-Medications\", token= '"YOUR_HF_TOKEN"')"
   ]
  },
  {
   "cell_type": "code",
   "execution_count": 45,
   "metadata": {},
   "outputs": [
    {
     "data": {
      "application/vnd.jupyter.widget-view+json": {
       "model_id": "c20a5600e8184c09845df8cec41726c7",
       "version_major": 2,
       "version_minor": 0
      },
      "text/plain": [
       "Generating train split: 0 examples [00:00, ? examples/s]"
      ]
     },
     "metadata": {},
     "output_type": "display_data"
    }
   ],
   "source": [
    "dataset = load_dataset('json', data_files='/home/ashish/llama_inference/output.jsonl')"
   ]
  },
  {
   "cell_type": "code",
   "execution_count": 46,
   "metadata": {},
   "outputs": [
    {
     "data": {
      "application/vnd.jupyter.widget-view+json": {
       "model_id": "03b10825ff134aedbf94ca705eec8229",
       "version_major": 2,
       "version_minor": 0
      },
      "text/plain": [
       "Generating train split: 0 examples [00:00, ? examples/s]"
      ]
     },
     "metadata": {},
     "output_type": "display_data"
    }
   ],
   "source": [
    "dataset2 = load_dataset('json', data_files='symptoms2diseases.jsonl')"
   ]
  },
  {
   "cell_type": "code",
   "execution_count": 47,
   "metadata": {},
   "outputs": [
    {
     "ename": "HfHubHTTPError",
     "evalue": "401 Client Error: Unauthorized for url: https://huggingface.co/api/repos/create (Request ID: Root=1-6717809e-0595940f33b9d5dc66e0b148;ee3c4db7-944e-4620-8b2b-34dfc4609f8c)\n\nInvalid username or password.",
     "output_type": "error",
     "traceback": [
      "\u001b[0;31m---------------------------------------------------------------------------\u001b[0m",
      "\u001b[0;31mHTTPError\u001b[0m                                 Traceback (most recent call last)",
      "File \u001b[0;32m~/llama_inference/llama_env/lib/python3.10/site-packages/huggingface_hub/utils/_errors.py:304\u001b[0m, in \u001b[0;36m"YOUR_HF_TOKEN"_for_status\u001b[0;34m(response, endpoint_name)\u001b[0m\n\u001b[1;32m    303\u001b[0m \u001b[38;5;28;01mtry\u001b[39;00m:\n\u001b[0;32m--> 304\u001b[0m     \u001b[43mresponse\u001b[49m\u001b[38;5;241;43m.\u001b[39;49m\u001b[43mraise_for_status\u001b[49m\u001b[43m(\u001b[49m\u001b[43m)\u001b[49m\n\u001b[1;32m    305\u001b[0m \u001b[38;5;28;01mexcept\u001b[39;00m HTTPError \u001b[38;5;28;01mas\u001b[39;00m e:\n",
      "File \u001b[0;32m~/llama_inference/llama_env/lib/python3.10/site-packages/requests/models.py:1021\u001b[0m, in \u001b[0;36mResponse.raise_for_status\u001b[0;34m(self)\u001b[0m\n\u001b[1;32m   1020\u001b[0m \u001b[38;5;28;01mif\u001b[39;00m http_error_msg:\n\u001b[0;32m-> 1021\u001b[0m     \u001b[38;5;28;01mraise\u001b[39;00m HTTPError(http_error_msg, response\u001b[38;5;241m=\u001b[39m\u001b[38;5;28mself\u001b[39m)\n",
      "\u001b[0;31mHTTPError\u001b[0m: 401 Client Error: Unauthorized for url: https://huggingface.co/api/repos/create",
      "\nThe above exception was the direct cause of the following exception:\n",
      "\u001b[0;31mHfHubHTTPError\u001b[0m                            Traceback (most recent call last)",
      "Cell \u001b[0;32mIn[47], line 1\u001b[0m\n\u001b[0;32m----> 1\u001b[0m \u001b[43mdataset2\u001b[49m\u001b[38;5;241;43m.\u001b[39;49m\u001b[43mpush_to_hub\u001b[49m\u001b[43m(\u001b[49m\u001b[38;5;124;43m\"\u001b[39;49m\u001b[38;5;124;43mashishkgpian/symptoms2diseases_another_way\u001b[39;49m\u001b[38;5;124;43m\"\u001b[39;49m\u001b[43m,\u001b[49m\u001b[43m \u001b[49m\u001b[43mtoken\u001b[49m\u001b[38;5;241;43m=\u001b[39;49m\u001b[43m \u001b[49m\u001b[38;5;124;43m'\u001b[39;49m\u001b[38;5;124;43m"YOUR_HF_TOKEN"\u001b[39;49m\u001b[38;5;124;43m'\u001b[39;49m\u001b[43m)\u001b[49m\n",
      "File \u001b[0;32m~/llama_inference/llama_env/lib/python3.10/site-packages/datasets/dataset_dict.py:1703\u001b[0m, in \u001b[0;36mDatasetDict.push_to_hub\u001b[0;34m(self, repo_id, config_name, set_default, data_dir, commit_message, commit_description, private, token, revision, branch, create_pr, max_shard_size, num_shards, embed_external_files)\u001b[0m\n\u001b[1;32m   1699\u001b[0m         \u001b[38;5;28;01mraise\u001b[39;00m \u001b[38;5;167;01mValueError\u001b[39;00m(\u001b[38;5;124mf\u001b[39m\u001b[38;5;124m\"\u001b[39m\u001b[38;5;124mSplit name should match \u001b[39m\u001b[38;5;124m'\u001b[39m\u001b[38;5;132;01m{\u001b[39;00m_split_re\u001b[38;5;132;01m}\u001b[39;00m\u001b[38;5;124m'\u001b[39m\u001b[38;5;124m but got \u001b[39m\u001b[38;5;124m'\u001b[39m\u001b[38;5;132;01m{\u001b[39;00msplit\u001b[38;5;132;01m}\u001b[39;00m\u001b[38;5;124m'\u001b[39m\u001b[38;5;124m.\u001b[39m\u001b[38;5;124m\"\u001b[39m)\n\u001b[1;32m   1701\u001b[0m api \u001b[38;5;241m=\u001b[39m HfApi(endpoint\u001b[38;5;241m=\u001b[39mconfig\u001b[38;5;241m.\u001b[39mHF_ENDPOINT, token\u001b[38;5;241m=\u001b[39mtoken)\n\u001b[0;32m-> 1703\u001b[0m repo_url \u001b[38;5;241m=\u001b[39m \u001b[43mapi\u001b[49m\u001b[38;5;241;43m.\u001b[39;49m\u001b[43mcreate_repo\u001b[49m\u001b[43m(\u001b[49m\n\u001b[1;32m   1704\u001b[0m \u001b[43m    \u001b[49m\u001b[43mrepo_id\u001b[49m\u001b[43m,\u001b[49m\n\u001b[1;32m   1705\u001b[0m \u001b[43m    \u001b[49m\u001b[43mtoken\u001b[49m\u001b[38;5;241;43m=\u001b[39;49m\u001b[43mtoken\u001b[49m\u001b[43m,\u001b[49m\n\u001b[1;32m   1706\u001b[0m \u001b[43m    \u001b[49m\u001b[43mrepo_type\u001b[49m\u001b[38;5;241;43m=\u001b[39;49m\u001b[38;5;124;43m\"\u001b[39;49m\u001b[38;5;124;43mdataset\u001b[39;49m\u001b[38;5;124;43m\"\u001b[39;49m\u001b[43m,\u001b[49m\n\u001b[1;32m   1707\u001b[0m \u001b[43m    \u001b[49m\u001b[43mprivate\u001b[49m\u001b[38;5;241;43m=\u001b[39;49m\u001b[43mprivate\u001b[49m\u001b[43m,\u001b[49m\n\u001b[1;32m   1708\u001b[0m \u001b[43m    \u001b[49m\u001b[43mexist_ok\u001b[49m\u001b[38;5;241;43m=\u001b[39;49m\u001b[38;5;28;43;01mTrue\u001b[39;49;00m\u001b[43m,\u001b[49m\n\u001b[1;32m   1709\u001b[0m \u001b[43m\u001b[49m\u001b[43m)\u001b[49m\n\u001b[1;32m   1710\u001b[0m repo_id \u001b[38;5;241m=\u001b[39m repo_url\u001b[38;5;241m.\u001b[39mrepo_id\n\u001b[1;32m   1712\u001b[0m \u001b[38;5;28;01mif\u001b[39;00m revision \u001b[38;5;129;01mis\u001b[39;00m \u001b[38;5;129;01mnot\u001b[39;00m \u001b[38;5;28;01mNone\u001b[39;00m:\n",
      "File \u001b[0;32m~/llama_inference/llama_env/lib/python3.10/site-packages/huggingface_hub/utils/_validators.py:114\u001b[0m, in \u001b[0;36mvalidate_"YOUR_HF_TOKEN"_args.<locals>._inner_fn\u001b[0;34m(*args, **kwargs)\u001b[0m\n\u001b[1;32m    111\u001b[0m \u001b[38;5;28;01mif\u001b[39;00m check_use_auth_token:\n\u001b[1;32m    112\u001b[0m     kwargs \u001b[38;5;241m=\u001b[39m smoothly_deprecate_use_auth_token(fn_name\u001b[38;5;241m=\u001b[39mfn\u001b[38;5;241m.\u001b[39m\u001b[38;5;18m__name__\u001b[39m, has_token\u001b[38;5;241m=\u001b[39mhas_token, kwargs\u001b[38;5;241m=\u001b[39mkwargs)\n\u001b[0;32m--> 114\u001b[0m \u001b[38;5;28;01mreturn\u001b[39;00m \u001b[43mfn\u001b[49m\u001b[43m(\u001b[49m\u001b[38;5;241;43m*\u001b[39;49m\u001b[43margs\u001b[49m\u001b[43m,\u001b[49m\u001b[43m \u001b[49m\u001b[38;5;241;43m*\u001b[39;49m\u001b[38;5;241;43m*\u001b[39;49m\u001b[43mkwargs\u001b[49m\u001b[43m)\u001b[49m\n",
      "File \u001b[0;32m~/llama_inference/llama_env/lib/python3.10/site-packages/huggingface_hub/"YOUR_HF_TOKEN".py:3256\u001b[0m, in \u001b[0;36mHfApi.create_repo\u001b[0;34m(self, repo_id, token, private, repo_type, exist_ok, space_sdk, space_hardware, space_storage, space_sleep_time, space_secrets, space_variables)\u001b[0m\n\u001b[1;32m   3253\u001b[0m     \u001b[38;5;28;01mbreak\u001b[39;00m\n\u001b[1;32m   3255\u001b[0m \u001b[38;5;28;01mtry\u001b[39;00m:\n\u001b[0;32m-> 3256\u001b[0m     \u001b[43m"YOUR_HF_TOKEN"_for_status\u001b[49m\u001b[43m(\u001b[49m\u001b[43mr\u001b[49m\u001b[43m)\u001b[49m\n\u001b[1;32m   3257\u001b[0m \u001b[38;5;28;01mexcept\u001b[39;00m HTTPError \u001b[38;5;28;01mas\u001b[39;00m err:\n\u001b[1;32m   3258\u001b[0m     \u001b[38;5;28;01mif\u001b[39;00m exist_ok \u001b[38;5;129;01mand\u001b[39;00m err\u001b[38;5;241m.\u001b[39mresponse\u001b[38;5;241m.\u001b[39mstatus_code \u001b[38;5;241m==\u001b[39m \u001b[38;5;241m409\u001b[39m:\n\u001b[1;32m   3259\u001b[0m         \u001b[38;5;66;03m# Repo already exists and `exist_ok=True`\u001b[39;00m\n",
      "File \u001b[0;32m~/llama_inference/llama_env/lib/python3.10/site-packages/huggingface_hub/utils/_errors.py:371\u001b[0m, in \u001b[0;36m"YOUR_HF_TOKEN"_for_status\u001b[0;34m(response, endpoint_name)\u001b[0m\n\u001b[1;32m    367\u001b[0m     \u001b[38;5;28;01mraise\u001b[39;00m HfHubHTTPError(message, response\u001b[38;5;241m=\u001b[39mresponse) \u001b[38;5;28;01mfrom\u001b[39;00m \u001b[38;5;21;01me\u001b[39;00m\n\u001b[1;32m    369\u001b[0m \u001b[38;5;66;03m# Convert `HTTPError` into a `HfHubHTTPError` to display request information\u001b[39;00m\n\u001b[1;32m    370\u001b[0m \u001b[38;5;66;03m# as well (request id and/or server error message)\u001b[39;00m\n\u001b[0;32m--> 371\u001b[0m \u001b[38;5;28;01mraise\u001b[39;00m HfHubHTTPError(\u001b[38;5;28mstr\u001b[39m(e), response\u001b[38;5;241m=\u001b[39mresponse) \u001b[38;5;28;01mfrom\u001b[39;00m \u001b[38;5;21;01me\u001b[39;00m\n",
      "\u001b[0;31mHfHubHTTPError\u001b[0m: 401 Client Error: Unauthorized for url: https://huggingface.co/api/repos/create (Request ID: Root=1-6717809e-0595940f33b9d5dc66e0b148;ee3c4db7-944e-4620-8b2b-34dfc4609f8c)\n\nInvalid username or password."
     ]
    }
   ],
   "source": [
    "dataset2.push_to_hub(\"ashishkgpian/symptoms2diseases_another_way\", token= '"YOUR_HF_TOKEN"')"
   ]
  },
  {
   "cell_type": "code",
   "execution_count": null,
   "metadata": {},
   "outputs": [
    {
     "name": "stderr",
     "output_type": "stream",
     "text": [
      "Creating parquet from Arrow format: 100%|██████████| 1/1 [00:00<00:00,  8.66ba/s]\n",
      "Uploading the dataset shards: 100%|██████████| 1/1 [00:03<00:00,  3.70s/it]\n"
     ]
    },
    {
     "data": {
      "text/plain": [
       "CommitInfo(commit_url='https://huggingface.co/datasets/ashishkgpian/symptoms2diseases/commit/70dfafe199ff8e8fe963a53efefd050b171976f4', commit_message='Upload dataset', commit_description='', oid='70dfafe199ff8e8fe963a53efefd050b171976f4', pr_url=None, pr_revision=None, pr_num=None)"
      ]
     },
     "execution_count": 46,
     "metadata": {},
     "output_type": "execute_result"
    }
   ],
   "source": [
    "dataset.push_to_hub(\"ashishkgpian/symptoms2diseases\", token= '"YOUR_HF_TOKEN"')"
   ]
  },
  {
   "cell_type": "code",
   "execution_count": null,
   "metadata": {},
   "outputs": [],
   "source": []
  }
 ],
 "metadata": {
  "kernelspec": {
   "display_name": "llama_env",
   "language": "python",
   "name": "python3"
  },
  "language_info": {
   "codemirror_mode": {
    "name": "ipython",
    "version": 3
   },
   "file_extension": ".py",
   "mimetype": "text/x-python",
   "name": "python",
   "nbconvert_exporter": "python",
   "pygments_lexer": "ipython3",
   "version": "3.10.12"
  }
 },
 "nbformat": 4,
 "nbformat_minor": 2
}
